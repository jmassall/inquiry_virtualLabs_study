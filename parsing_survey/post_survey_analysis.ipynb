{
 "cells": [
  {
   "cell_type": "markdown",
   "metadata": {},
   "source": [
    "This notebook grades transfer survey questions and runs descriptive analysis on these grades to inform future analysis."
   ]
  },
  {
   "cell_type": "code",
   "execution_count": 1,
   "metadata": {},
   "outputs": [
    {
     "data": {
      "text/html": [
       "<script>jQuery(function() {if (jQuery(\"body.notebook_app\").length == 0) { jQuery(\".input_area\").toggle(); jQuery(\".prompt\").toggle();}});</script>"
      ]
     },
     "metadata": {},
     "output_type": "display_data"
    }
   ],
   "source": [
    "from IPython.display import display\n",
    "from IPython.display import HTML\n",
    "import IPython.core.display as di\n",
    "\n",
    "# This line will hide code by default when the notebook is converted to HTML\n",
    "di.display_html('<script>jQuery(function() {if (jQuery(\"body.notebook_app\").length == 0) { jQuery(\".input_area\").toggle(); jQuery(\".prompt\").toggle();}});</script>', raw=True)"
   ]
  },
  {
   "cell_type": "code",
   "execution_count": 2,
   "metadata": {},
   "outputs": [
    {
     "name": "stderr",
     "output_type": "stream",
     "text": [
      "d:\\applications\\anaconda2\\lib\\site-packages\\matplotlib\\__init__.py:913: UserWarning: axes.color_cycle is deprecated and replaced with axes.prop_cycle; please use the latter.\n",
      "  warnings.warn(self.msg_depr % (key, alt_key))\n"
     ]
    }
   ],
   "source": [
    "import pandas as pd\n",
    "import numpy as np\n",
    "import matplotlib\n",
    "import matplotlib.pyplot as plt\n",
    "import seaborn as sns\n",
    "from collections import Counter\n",
    "import re\n",
    "from tabulate import tabulate\n",
    "from __future__ import division  #needed for eval to divide fractions to float instead of integer default of Python v<3\n",
    "from utils_read_parsing import *\n",
    "\n",
    "%matplotlib inline\n",
    "matplotlib.rcParams['figure.figsize'] = 10,4\n",
    "CMAP = ['cornflowerblue','#fc8d62','#a6d854','#b3b3b3','#e78ac3','#66c2a5','#ffd92f']\n",
    "matplotlib.rcParams['axes.color_cycle'] = CMAP\n",
    "plt.style.use = 'default'\n",
    "plt.rcParams['figure.figsize'] = (8, 6)\n",
    "pd.options.display.max_columns = 999"
   ]
  },
  {
   "cell_type": "markdown",
   "metadata": {},
   "source": [
    "# Import files"
   ]
  },
  {
   "cell_type": "markdown",
   "metadata": {},
   "source": [
    "Loading post survey data."
   ]
  },
  {
   "cell_type": "code",
   "execution_count": 3,
   "metadata": {},
   "outputs": [],
   "source": [
    "try:\n",
    "    posts = pd.read_csv('post_survey_results.txt', sep='\\t')\n",
    "except:\n",
    "    raise Exception(\"Try running the notebook data_log_to_pre_post_surveys_connector.ipynb and then run this cell again.\")\n",
    "posts.replace('Absorbance','L',inplace=True)\n",
    "posts.replace('Capacitance','C',inplace=True)"
   ]
  },
  {
   "cell_type": "markdown",
   "metadata": {},
   "source": [
    "Adding student activity order to dataframe"
   ]
  },
  {
   "cell_type": "code",
   "execution_count": 4,
   "metadata": {},
   "outputs": [],
   "source": [
    "metadf = get_student_metadata()\n",
    "order = dict(zip(metadf.index,metadf['activity order']))\n",
    "posts['activity order'] = posts['sid'].apply(lambda sid: order[sid])"
   ]
  },
  {
   "cell_type": "code",
   "execution_count": 5,
   "metadata": {},
   "outputs": [
    {
     "data": {
      "text/html": [
       "<div>\n",
       "<style>\n",
       "    .dataframe thead tr:only-child th {\n",
       "        text-align: right;\n",
       "    }\n",
       "\n",
       "    .dataframe thead th {\n",
       "        text-align: left;\n",
       "    }\n",
       "\n",
       "    .dataframe tbody tr th {\n",
       "        vertical-align: top;\n",
       "    }\n",
       "</style>\n",
       "<table border=\"1\" class=\"dataframe\">\n",
       "  <thead>\n",
       "    <tr style=\"text-align: right;\">\n",
       "      <th></th>\n",
       "      <th>Unnamed: 0</th>\n",
       "      <th>age</th>\n",
       "      <th>debug1</th>\n",
       "      <th>debug2</th>\n",
       "      <th>english.0-writing</th>\n",
       "      <th>english.1-reading</th>\n",
       "      <th>[gender] To which gender do you most identify? [Gender non conforming/non-binary]</th>\n",
       "      <th>[gender] To which gender do you most identify? [Man]</th>\n",
       "      <th>[gender] To which gender do you most identify? [Prefer not to answer]</th>\n",
       "      <th>gender-Woman</th>\n",
       "      <th>original id</th>\n",
       "      <th>major</th>\n",
       "      <th>open1</th>\n",
       "      <th>open2</th>\n",
       "      <th>perceivedvalue.0-boring</th>\n",
       "      <th>perceivedvalue.1-productive</th>\n",
       "      <th>perceivedvalue.2-useless</th>\n",
       "      <th>perceivedvalue.3-engaging</th>\n",
       "      <th>pocc.0-learning the basic concepts</th>\n",
       "      <th>pocc.1-testing my ideas and theories</th>\n",
       "      <th>pocc.2-answering given questions</th>\n",
       "      <th>pocc.3-memorizing key information</th>\n",
       "      <th>pocc.4-exploring the topic</th>\n",
       "      <th>qual2</th>\n",
       "      <th>qual3</th>\n",
       "      <th>qual4</th>\n",
       "      <th>qual5</th>\n",
       "      <th>qual5reasoning</th>\n",
       "      <th>qual6</th>\n",
       "      <th>qual6reasoning</th>\n",
       "      <th>quant.0</th>\n",
       "      <th>quant.0.1</th>\n",
       "      <th>quant.1</th>\n",
       "      <th>quant.1.1</th>\n",
       "      <th>quant.2</th>\n",
       "      <th>quant.2.1</th>\n",
       "      <th>quant.3</th>\n",
       "      <th>quant.3.1</th>\n",
       "      <th>strategies.0-setup my first experiment right away</th>\n",
       "      <th>strategies.10-try to identify mathematical relationships</th>\n",
       "      <th>strategies.11-try to apply my prior knowledge of physics</th>\n",
       "      <th>strategies.12-predict the result of a test before trying something out</th>\n",
       "      <th>strategies.13-decide what to investigate based on previous results</th>\n",
       "      <th>strategies.14-identify what I haven't investigated yet</th>\n",
       "      <th>strategies.1-spend time designing a set of experiments I want to conduct</th>\n",
       "      <th>strategies.2-make a plan</th>\n",
       "      <th>strategies.3-explore the different components of the PhET interface</th>\n",
       "      <th>strategies.4-identify important variables</th>\n",
       "      <th>strategies.5-look for weird outcomes I did not expect</th>\n",
       "      <th>strategies.6-look for general patterns and then dive into detailed experimentation</th>\n",
       "      <th>strategies.7-check if the relationships I found hold under different conditions</th>\n",
       "      <th>strategies.8-think about why I get the results I get</th>\n",
       "      <th>strategies.9-summarize my findings as I go</th>\n",
       "      <th>strategies_att.0-try to get the right answer</th>\n",
       "      <th>strategies_att.1-improve my scientific reasoning skill</th>\n",
       "      <th>strategies_att.2-try to learn more about the topic</th>\n",
       "      <th>strategies_att.3-finish as quickly as possible</th>\n",
       "      <th>strategies_att.4-come up with my own questions to investigate</th>\n",
       "      <th>taskinterpretation.0-investigate the basic mechanics of the topic at hand</th>\n",
       "      <th>taskinterpretation.1-design my own experiments that can help me understand the topic at hand</th>\n",
       "      <th>taskinterpretation.2-memorize information about the topic at hand</th>\n",
       "      <th>taskinterpretation.3-complete a certain number of  questions</th>\n",
       "      <th>taskinterpretation.4-develop scientific reasoning skills</th>\n",
       "      <th>[year] What year are you in? [1st year undergraduate]</th>\n",
       "      <th>[year] What year are you in? [2nd year undergraduate]</th>\n",
       "      <th>[year] What year are you in? [3rd year undergraduate]</th>\n",
       "      <th>[year] What year are you in? [4th year undergraduate]</th>\n",
       "      <th>sim</th>\n",
       "      <th>sim_index</th>\n",
       "      <th>qual1</th>\n",
       "      <th>sid</th>\n",
       "      <th>activity order</th>\n",
       "    </tr>\n",
       "  </thead>\n",
       "  <tbody>\n",
       "    <tr>\n",
       "      <th>0</th>\n",
       "      <td>2</td>\n",
       "      <td>18-19</td>\n",
       "      <td>Based on virtual lab results, the charge vs. p...</td>\n",
       "      <td>The negative should not be there because it on...</td>\n",
       "      <td>Fluent</td>\n",
       "      <td>Fluent</td>\n",
       "      <td>NaN</td>\n",
       "      <td>NaN</td>\n",
       "      <td>NaN</td>\n",
       "      <td>1.0</td>\n",
       "      <td>77047160</td>\n",
       "      <td>*Non science or applied science major</td>\n",
       "      <td>I conducted 4 different experiments where I va...</td>\n",
       "      <td>Graphs helped visualize the patterns. Next tim...</td>\n",
       "      <td>Somewhat</td>\n",
       "      <td>Mostly</td>\n",
       "      <td>Not at all</td>\n",
       "      <td>Mostly</td>\n",
       "      <td>Often</td>\n",
       "      <td>Almost always</td>\n",
       "      <td>Almost always</td>\n",
       "      <td>Often</td>\n",
       "      <td>Often</td>\n",
       "      <td>higher voltage battery (https://survey.ubc.ca/...</td>\n",
       "      <td>(https://survey.ubc.ca/media/assets/user/2316...</td>\n",
       "      <td>smaller separation (https://survey.ubc.ca/medi...</td>\n",
       "      <td>(https://survey.ubc.ca/media/assets/user/2316...</td>\n",
       "      <td>The magnitude of the voltage is increasing in ...</td>\n",
       "      <td>two large plates perfectly aligned (https://su...</td>\n",
       "      <td>The plates need to be aligned perfectly in ord...</td>\n",
       "      <td>NaN</td>\n",
       "      <td>0.5</td>\n",
       "      <td>NaN</td>\n",
       "      <td>0.25</td>\n",
       "      <td>NaN</td>\n",
       "      <td>2</td>\n",
       "      <td>NaN</td>\n",
       "      <td>08-Jan</td>\n",
       "      <td>Mostly</td>\n",
       "      <td>Definitely</td>\n",
       "      <td>Somewhat</td>\n",
       "      <td>Mostly</td>\n",
       "      <td>Mostly</td>\n",
       "      <td>Mostly</td>\n",
       "      <td>Mostly</td>\n",
       "      <td>Somewhat</td>\n",
       "      <td>Mostly</td>\n",
       "      <td>Somewhat</td>\n",
       "      <td>Definitely</td>\n",
       "      <td>Mostly</td>\n",
       "      <td>Definitely</td>\n",
       "      <td>Definitely</td>\n",
       "      <td>Definitely</td>\n",
       "      <td>Definitely</td>\n",
       "      <td>Mostly</td>\n",
       "      <td>Somewhat</td>\n",
       "      <td>Somewhat</td>\n",
       "      <td>Mostly</td>\n",
       "      <td>Mostly</td>\n",
       "      <td>Mostly</td>\n",
       "      <td>Somewhat</td>\n",
       "      <td>Mostly</td>\n",
       "      <td>Mostly</td>\n",
       "      <td>1.0</td>\n",
       "      <td>NaN</td>\n",
       "      <td>NaN</td>\n",
       "      <td>NaN</td>\n",
       "      <td>C</td>\n",
       "      <td>2</td>\n",
       "      <td>larger plates (https://survey.ubc.ca/media/ass...</td>\n",
       "      <td>77047160</td>\n",
       "      <td>LC</td>\n",
       "    </tr>\n",
       "    <tr>\n",
       "      <th>1</th>\n",
       "      <td>3</td>\n",
       "      <td>20-22</td>\n",
       "      <td>k1, k2, and k3 are unnecessary. There should b...</td>\n",
       "      <td>s^2 should be s, as Q is inversely proportiona...</td>\n",
       "      <td>Average</td>\n",
       "      <td>Fluent</td>\n",
       "      <td>NaN</td>\n",
       "      <td>1.0</td>\n",
       "      <td>NaN</td>\n",
       "      <td>NaN</td>\n",
       "      <td>90447168</td>\n",
       "      <td>*Undeclared</td>\n",
       "      <td>I tried to explore more different combinations...</td>\n",
       "      <td>I believe I managed to find all the possible o...</td>\n",
       "      <td>Not at all</td>\n",
       "      <td>Mostly</td>\n",
       "      <td>Not at all</td>\n",
       "      <td>Mostly</td>\n",
       "      <td>Almost always</td>\n",
       "      <td>Often</td>\n",
       "      <td>Almost always</td>\n",
       "      <td>Almost always</td>\n",
       "      <td>Often</td>\n",
       "      <td>higher voltage battery (https://survey.ubc.ca/...</td>\n",
       "      <td>(https://survey.ubc.ca/media/assets/user/2316...</td>\n",
       "      <td>smaller separation (https://survey.ubc.ca/medi...</td>\n",
       "      <td>(https://survey.ubc.ca/media/assets/user/2316...</td>\n",
       "      <td>Although the sign would be different, since it...</td>\n",
       "      <td>two large plates perfectly aligned (https://su...</td>\n",
       "      <td>When they are both aligned, the electrons tran...</td>\n",
       "      <td>NaN</td>\n",
       "      <td>0.5</td>\n",
       "      <td>NaN</td>\n",
       "      <td>0.5</td>\n",
       "      <td>NaN</td>\n",
       "      <td>1</td>\n",
       "      <td>NaN</td>\n",
       "      <td>0.25</td>\n",
       "      <td>Mostly</td>\n",
       "      <td>Definitely</td>\n",
       "      <td>Definitely</td>\n",
       "      <td>Somewhat</td>\n",
       "      <td>Somewhat</td>\n",
       "      <td>Definitely</td>\n",
       "      <td>Not at all</td>\n",
       "      <td>Somewhat</td>\n",
       "      <td>Definitely</td>\n",
       "      <td>Definitely</td>\n",
       "      <td>Definitely</td>\n",
       "      <td>Mostly</td>\n",
       "      <td>Somewhat</td>\n",
       "      <td>Mostly</td>\n",
       "      <td>Mostly</td>\n",
       "      <td>Somewhat</td>\n",
       "      <td>Somewhat</td>\n",
       "      <td>Definitely</td>\n",
       "      <td>Somewhat</td>\n",
       "      <td>Definitely</td>\n",
       "      <td>Mostly</td>\n",
       "      <td>Somewhat</td>\n",
       "      <td>Not at all</td>\n",
       "      <td>Definitely</td>\n",
       "      <td>Mostly</td>\n",
       "      <td>1.0</td>\n",
       "      <td>NaN</td>\n",
       "      <td>NaN</td>\n",
       "      <td>NaN</td>\n",
       "      <td>C</td>\n",
       "      <td>2</td>\n",
       "      <td>larger plates (https://survey.ubc.ca/media/ass...</td>\n",
       "      <td>90447168</td>\n",
       "      <td>LC</td>\n",
       "    </tr>\n",
       "  </tbody>\n",
       "</table>\n",
       "</div>"
      ],
      "text/plain": [
       "   Unnamed: 0    age                                             debug1  \\\n",
       "0           2  18-19  Based on virtual lab results, the charge vs. p...   \n",
       "1           3  20-22  k1, k2, and k3 are unnecessary. There should b...   \n",
       "\n",
       "                                              debug2 english.0-writing  \\\n",
       "0  The negative should not be there because it on...            Fluent   \n",
       "1  s^2 should be s, as Q is inversely proportiona...           Average   \n",
       "\n",
       "  english.1-reading  \\\n",
       "0            Fluent   \n",
       "1            Fluent   \n",
       "\n",
       "   [gender] To which gender do you most identify? [Gender non conforming/non-binary]  \\\n",
       "0                                                NaN                                   \n",
       "1                                                NaN                                   \n",
       "\n",
       "   [gender] To which gender do you most identify? [Man]  \\\n",
       "0                                                NaN      \n",
       "1                                                1.0      \n",
       "\n",
       "   [gender] To which gender do you most identify? [Prefer not to answer]  \\\n",
       "0                                                NaN                       \n",
       "1                                                NaN                       \n",
       "\n",
       "   gender-Woman  original id                                  major  \\\n",
       "0           1.0     77047160  *Non science or applied science major   \n",
       "1           NaN     90447168                            *Undeclared   \n",
       "\n",
       "                                               open1  \\\n",
       "0  I conducted 4 different experiments where I va...   \n",
       "1  I tried to explore more different combinations...   \n",
       "\n",
       "                                               open2 perceivedvalue.0-boring  \\\n",
       "0  Graphs helped visualize the patterns. Next tim...                Somewhat   \n",
       "1  I believe I managed to find all the possible o...              Not at all   \n",
       "\n",
       "  perceivedvalue.1-productive perceivedvalue.2-useless  \\\n",
       "0                      Mostly               Not at all   \n",
       "1                      Mostly               Not at all   \n",
       "\n",
       "  perceivedvalue.3-engaging pocc.0-learning the basic concepts  \\\n",
       "0                    Mostly                              Often   \n",
       "1                    Mostly                      Almost always   \n",
       "\n",
       "  pocc.1-testing my ideas and theories pocc.2-answering given questions  \\\n",
       "0                        Almost always                    Almost always   \n",
       "1                                Often                    Almost always   \n",
       "\n",
       "  pocc.3-memorizing key information pocc.4-exploring the topic  \\\n",
       "0                             Often                      Often   \n",
       "1                     Almost always                      Often   \n",
       "\n",
       "                                               qual2  \\\n",
       "0  higher voltage battery (https://survey.ubc.ca/...   \n",
       "1  higher voltage battery (https://survey.ubc.ca/...   \n",
       "\n",
       "                                               qual3  \\\n",
       "0   (https://survey.ubc.ca/media/assets/user/2316...   \n",
       "1   (https://survey.ubc.ca/media/assets/user/2316...   \n",
       "\n",
       "                                               qual4  \\\n",
       "0  smaller separation (https://survey.ubc.ca/medi...   \n",
       "1  smaller separation (https://survey.ubc.ca/medi...   \n",
       "\n",
       "                                               qual5  \\\n",
       "0   (https://survey.ubc.ca/media/assets/user/2316...   \n",
       "1   (https://survey.ubc.ca/media/assets/user/2316...   \n",
       "\n",
       "                                      qual5reasoning  \\\n",
       "0  The magnitude of the voltage is increasing in ...   \n",
       "1  Although the sign would be different, since it...   \n",
       "\n",
       "                                               qual6  \\\n",
       "0  two large plates perfectly aligned (https://su...   \n",
       "1  two large plates perfectly aligned (https://su...   \n",
       "\n",
       "                                      qual6reasoning quant.0 quant.0.1  \\\n",
       "0  The plates need to be aligned perfectly in ord...     NaN       0.5   \n",
       "1  When they are both aligned, the electrons tran...     NaN       0.5   \n",
       "\n",
       "  quant.1 quant.1.1 quant.2 quant.2.1 quant.3 quant.3.1  \\\n",
       "0     NaN      0.25     NaN         2     NaN    08-Jan   \n",
       "1     NaN       0.5     NaN         1     NaN      0.25   \n",
       "\n",
       "  strategies.0-setup my first experiment right away  \\\n",
       "0                                            Mostly   \n",
       "1                                            Mostly   \n",
       "\n",
       "  strategies.10-try to identify mathematical relationships  \\\n",
       "0                                         Definitely         \n",
       "1                                         Definitely         \n",
       "\n",
       "  strategies.11-try to apply my prior knowledge of physics  \\\n",
       "0                                           Somewhat         \n",
       "1                                         Definitely         \n",
       "\n",
       "  strategies.12-predict the result of a test before trying something out  \\\n",
       "0                                             Mostly                       \n",
       "1                                           Somewhat                       \n",
       "\n",
       "  strategies.13-decide what to investigate based on previous results  \\\n",
       "0                                             Mostly                   \n",
       "1                                           Somewhat                   \n",
       "\n",
       "  strategies.14-identify what I haven't investigated yet  \\\n",
       "0                                             Mostly       \n",
       "1                                         Definitely       \n",
       "\n",
       "  strategies.1-spend time designing a set of experiments I want to conduct  \\\n",
       "0                                             Mostly                         \n",
       "1                                         Not at all                         \n",
       "\n",
       "  strategies.2-make a plan  \\\n",
       "0                 Somewhat   \n",
       "1                 Somewhat   \n",
       "\n",
       "  strategies.3-explore the different components of the PhET interface  \\\n",
       "0                                             Mostly                    \n",
       "1                                         Definitely                    \n",
       "\n",
       "  strategies.4-identify important variables  \\\n",
       "0                                  Somewhat   \n",
       "1                                Definitely   \n",
       "\n",
       "  strategies.5-look for weird outcomes I did not expect  \\\n",
       "0                                         Definitely      \n",
       "1                                         Definitely      \n",
       "\n",
       "  strategies.6-look for general patterns and then dive into detailed experimentation  \\\n",
       "0                                             Mostly                                   \n",
       "1                                             Mostly                                   \n",
       "\n",
       "  strategies.7-check if the relationships I found hold under different conditions  \\\n",
       "0                                         Definitely                                \n",
       "1                                           Somewhat                                \n",
       "\n",
       "  strategies.8-think about why I get the results I get  \\\n",
       "0                                         Definitely     \n",
       "1                                             Mostly     \n",
       "\n",
       "  strategies.9-summarize my findings as I go  \\\n",
       "0                                 Definitely   \n",
       "1                                     Mostly   \n",
       "\n",
       "  strategies_att.0-try to get the right answer  \\\n",
       "0                                   Definitely   \n",
       "1                                     Somewhat   \n",
       "\n",
       "  strategies_att.1-improve my scientific reasoning skill  \\\n",
       "0                                             Mostly       \n",
       "1                                           Somewhat       \n",
       "\n",
       "  strategies_att.2-try to learn more about the topic  \\\n",
       "0                                           Somewhat   \n",
       "1                                         Definitely   \n",
       "\n",
       "  strategies_att.3-finish as quickly as possible  \\\n",
       "0                                       Somewhat   \n",
       "1                                       Somewhat   \n",
       "\n",
       "  strategies_att.4-come up with my own questions to investigate  \\\n",
       "0                                             Mostly              \n",
       "1                                         Definitely              \n",
       "\n",
       "  taskinterpretation.0-investigate the basic mechanics of the topic at hand  \\\n",
       "0                                             Mostly                          \n",
       "1                                             Mostly                          \n",
       "\n",
       "  taskinterpretation.1-design my own experiments that can help me understand the topic at hand  \\\n",
       "0                                             Mostly                                             \n",
       "1                                           Somewhat                                             \n",
       "\n",
       "  taskinterpretation.2-memorize information about the topic at hand  \\\n",
       "0                                           Somewhat                  \n",
       "1                                         Not at all                  \n",
       "\n",
       "  taskinterpretation.3-complete a certain number of  questions  \\\n",
       "0                                             Mostly             \n",
       "1                                         Definitely             \n",
       "\n",
       "  taskinterpretation.4-develop scientific reasoning skills  \\\n",
       "0                                             Mostly         \n",
       "1                                             Mostly         \n",
       "\n",
       "   [year] What year are you in? [1st year undergraduate]  \\\n",
       "0                                                1.0       \n",
       "1                                                1.0       \n",
       "\n",
       "   [year] What year are you in? [2nd year undergraduate]  \\\n",
       "0                                                NaN       \n",
       "1                                                NaN       \n",
       "\n",
       "   [year] What year are you in? [3rd year undergraduate]  \\\n",
       "0                                                NaN       \n",
       "1                                                NaN       \n",
       "\n",
       "   [year] What year are you in? [4th year undergraduate] sim  sim_index  \\\n",
       "0                                                NaN       C          2   \n",
       "1                                                NaN       C          2   \n",
       "\n",
       "                                               qual1       sid activity order  \n",
       "0  larger plates (https://survey.ubc.ca/media/ass...  77047160             LC  \n",
       "1  larger plates (https://survey.ubc.ca/media/ass...  90447168             LC  "
      ]
     },
     "execution_count": 5,
     "metadata": {},
     "output_type": "execute_result"
    }
   ],
   "source": [
    "posts.head(2)"
   ]
  },
  {
   "cell_type": "markdown",
   "metadata": {},
   "source": [
    "Loading answerkey for quantitative and qualitative transfer questions"
   ]
  },
  {
   "cell_type": "code",
   "execution_count": 6,
   "metadata": {},
   "outputs": [
    {
     "data": {
      "text/html": [
       "<div>\n",
       "<style>\n",
       "    .dataframe thead tr:only-child th {\n",
       "        text-align: right;\n",
       "    }\n",
       "\n",
       "    .dataframe thead th {\n",
       "        text-align: left;\n",
       "    }\n",
       "\n",
       "    .dataframe tbody tr th {\n",
       "        vertical-align: top;\n",
       "    }\n",
       "</style>\n",
       "<table border=\"1\" class=\"dataframe\">\n",
       "  <thead>\n",
       "    <tr style=\"text-align: right;\">\n",
       "      <th></th>\n",
       "      <th>sim</th>\n",
       "      <th>question</th>\n",
       "      <th>answer</th>\n",
       "      <th>score</th>\n",
       "    </tr>\n",
       "  </thead>\n",
       "  <tbody>\n",
       "    <tr>\n",
       "      <th>0</th>\n",
       "      <td>L</td>\n",
       "      <td>quant.0</td>\n",
       "      <td>0</td>\n",
       "      <td>0</td>\n",
       "    </tr>\n",
       "    <tr>\n",
       "      <th>1</th>\n",
       "      <td>L</td>\n",
       "      <td>quant.1</td>\n",
       "      <td>0</td>\n",
       "      <td>0</td>\n",
       "    </tr>\n",
       "    <tr>\n",
       "      <th>2</th>\n",
       "      <td>L</td>\n",
       "      <td>quant.2</td>\n",
       "      <td>0</td>\n",
       "      <td>0</td>\n",
       "    </tr>\n",
       "    <tr>\n",
       "      <th>3</th>\n",
       "      <td>L</td>\n",
       "      <td>quant.3</td>\n",
       "      <td>0</td>\n",
       "      <td>0</td>\n",
       "    </tr>\n",
       "    <tr>\n",
       "      <th>4</th>\n",
       "      <td>C</td>\n",
       "      <td>quant.3.1</td>\n",
       "      <td>0</td>\n",
       "      <td>0</td>\n",
       "    </tr>\n",
       "  </tbody>\n",
       "</table>\n",
       "</div>"
      ],
      "text/plain": [
       "  sim   question answer  score\n",
       "0   L    quant.0      0      0\n",
       "1   L    quant.1      0      0\n",
       "2   L    quant.2      0      0\n",
       "3   L    quant.3      0      0\n",
       "4   C  quant.3.1      0      0"
      ]
     },
     "execution_count": 6,
     "metadata": {},
     "output_type": "execute_result"
    }
   ],
   "source": [
    "df_ans = pd.read_csv('all_quant_answers_key.txt', delimiter='\\t')\n",
    "qual_colnames = [c for c in set(df_ans['question']) if 'qual' in c]\n",
    "quant_L_colnames = [c for c in set(df_ans[df_ans['sim']=='L']['question']) if 'quant' in c]\n",
    "quant_C_colnames = [c for c in set(df_ans[df_ans['sim']=='C']['question']) if 'quant' in c]\n",
    "df_ans.head()"
   ]
  },
  {
   "cell_type": "markdown",
   "metadata": {},
   "source": [
    "# Grade questions"
   ]
  },
  {
   "cell_type": "markdown",
   "metadata": {},
   "source": [
    "## The grader"
   ]
  },
  {
   "cell_type": "code",
   "execution_count": 7,
   "metadata": {},
   "outputs": [],
   "source": [
    "def grade_questions( df, df_ans, sim, questions,  id_header ):\n",
    "    students = df[id_header]\n",
    "    for question in questions:\n",
    "        for student in students:\n",
    "            idx = df[(df[id_header]==student)&(df['sim']==sim)].index.tolist()[0]\n",
    "            student_ans = df.loc[idx][question]\n",
    "#             if \"Jan\" in student_ans:\n",
    "#                 student_ans = '1/' + student_ans[1]\n",
    "#                 print student_ans\n",
    "            try:\n",
    "                score = df_ans.get_value(df_ans[(df_ans['answer']==student_ans)&(df_ans['question']==question)&(df_ans['sim']==sim)].index.tolist()[0],'score')\n",
    "                df.set_value(idx, \"{0}_{1}_score\".format(question, sim), score)\n",
    "            except:\n",
    "                print \"Couldn't find grade for:\", sim, student, student_ans, question"
   ]
  },
  {
   "cell_type": "code",
   "execution_count": 8,
   "metadata": {},
   "outputs": [],
   "source": [
    "grade_questions(posts, df_ans, 'L', quant_L_colnames, 'sid')\n",
    "grade_questions(posts, df_ans, 'C', quant_C_colnames, 'sid')"
   ]
  },
  {
   "cell_type": "code",
   "execution_count": 9,
   "metadata": {},
   "outputs": [],
   "source": [
    "grade_questions(posts, df_ans, 'L', qual_colnames, 'sid')\n",
    "grade_questions(posts, df_ans, 'C', qual_colnames, 'sid')"
   ]
  },
  {
   "cell_type": "markdown",
   "metadata": {},
   "source": [
    "## Renaming columns to facilitate analysis"
   ]
  },
  {
   "cell_type": "markdown",
   "metadata": {},
   "source": [
    "### For qualitative questions"
   ]
  },
  {
   "cell_type": "code",
   "execution_count": 10,
   "metadata": {},
   "outputs": [],
   "source": [
    "#We can rename questions given what we know about them\n",
    "new_col_names = {'qual1_L_score':'qual1_L_near_concentration',\n",
    "                    'qual2_L_score':'qual2_L_far_volume',\n",
    "                    'qual3_L_score':'qual3_L_near_width',\n",
    "                    'qual4_L_score':'qual4_L_near_detector',\n",
    "                    'qual5_L_score':'qual5_L_far_laserangle',\n",
    "                    'qual6_L_score':'qual6_L_near_wavelength',\n",
    "                    'qual1_C_score':'qual1_C_near_area',\n",
    "                    'qual2_C_score':'qual2_C_near_voltage',\n",
    "                    'qual3_C_score':'qual3_C_far_areazerovoltage',\n",
    "                    'qual4_C_score':'qual4_C_near_separation',\n",
    "                    'qual5_C_score':'qual5_C_near_polarvoltage',\n",
    "                    'qual6_C_score':'qual6_C_far_offset',\n",
    "                    'quant.0.1_C_score': 'quant.0.1_C_near_area',\n",
    "                    'quant.1.1_C_score': 'quant.1.1_C_near_separation',\n",
    "                    'quant.2.1_C_score': 'quant.2.1_C_interaction_equal',\n",
    "                    'quant.3.1_C_score': 'quant.3.1_C_interaction_quadruple',\n",
    "                    'quant.0_L_score': 'quant.0_L_near_width',\n",
    "                    'quant.1_L_score': 'quant.1_L_near_concentration',\n",
    "                    'quant.2_L_score': 'quant.2_L_interaction_quadruple',\n",
    "                    'quant.3_L_score': 'quant.3_L_interaction_equal'}\n",
    "\n",
    "posts.rename(index=str,columns=new_col_names,inplace=True)"
   ]
  },
  {
   "cell_type": "markdown",
   "metadata": {},
   "source": [
    "Right now the qual questions  look like this:\n",
    "```\n",
    "sid     sim    qual1_L_     qual1_C_\n",
    "123      L         1            NaN       \n",
    "123      C        NaN            2\n",
    "```\n",
    "\n",
    "We transform them so they look like:\n",
    "```\n",
    "sid     qual1_L_     qual1_C_\n",
    "123       1            2\n",
    "```"
   ]
  },
  {
   "cell_type": "code",
   "execution_count": 11,
   "metadata": {},
   "outputs": [],
   "source": [
    "qual_score_columns = ['qual1_L_near_concentration', #near transfer absorbance\n",
    "                      'qual3_L_near_width',\n",
    "                      'qual4_L_near_detector',\n",
    "                      'qual6_L_near_wavelength',\n",
    "                      #\n",
    "                      'qual4_C_near_separation', #near transfer capacitance\n",
    "                      'qual1_C_near_area',\n",
    "                      'qual2_C_near_voltage',\n",
    "                      'qual5_C_near_polarvoltage',\n",
    "                      #\n",
    "                      'qual5_L_far_laserangle', #far transfer\n",
    "                      'qual2_L_far_volume',\n",
    "                      'qual3_C_far_areazerovoltage',\n",
    "                      'qual6_C_far_offset']\n",
    "\n",
    "posts_L = posts[[col for col in qual_score_columns if 'L' in col]+['sid','activity order']].dropna()\n",
    "posts_L.index = posts_L['sid']\n",
    "posts_C = posts[[col for col in qual_score_columns if 'C' in col]+['sid']].dropna()\n",
    "posts_C.index = posts_C['sid']\n",
    "posts_C.drop(['sid'],axis=1,inplace=True)\n",
    "qual_scores = pd.concat([posts_C,posts_L],join='inner',axis=1)\n",
    "qual_scores.reset_index(drop=True);"
   ]
  },
  {
   "cell_type": "code",
   "execution_count": 12,
   "metadata": {},
   "outputs": [],
   "source": [
    "qual_scores.to_csv('qual_posts_scores.txt', sep='\\t')"
   ]
  },
  {
   "cell_type": "markdown",
   "metadata": {},
   "source": [
    "### For quantitative questions"
   ]
  },
  {
   "cell_type": "code",
   "execution_count": 13,
   "metadata": {},
   "outputs": [
    {
     "data": {
      "text/plain": [
       "(296, 8)"
      ]
     },
     "execution_count": 13,
     "metadata": {},
     "output_type": "execute_result"
    }
   ],
   "source": [
    "quant_scores_ordinal = posts[[col for col in posts.columns if 'quant' in col and ('_L_' in col or '_C_' in col)]]\n",
    "quant_scores_ordinal.shape"
   ]
  },
  {
   "cell_type": "markdown",
   "metadata": {},
   "source": [
    "We do the same transformation as above for quant scores"
   ]
  },
  {
   "cell_type": "code",
   "execution_count": 14,
   "metadata": {},
   "outputs": [],
   "source": [
    "quant_score_columns = ['quant.0.1_C_near_area', #near absorbance\n",
    "                    'quant.1.1_C_near_separation',\n",
    "                    'quant.2.1_C_interaction_equal', #interaction absorbance\n",
    "                    'quant.3.1_C_interaction_quadruple',\n",
    "                    'quant.0_L_near_width', #near capacitance\n",
    "                    'quant.1_L_near_concentration',\n",
    "                    'quant.2_L_interaction_quadruple', #interaction capacitance\n",
    "                    'quant.3_L_interaction_equal']\n",
    "\n",
    "posts_L = posts[[col for col in quant_score_columns if 'L' in col]+['sid','activity order']].dropna()\n",
    "posts_L.index = posts_L['sid']\n",
    "posts_C = posts[[col for col in quant_score_columns if 'C' in col]+['sid']].dropna()\n",
    "posts_C.index = posts_C['sid']\n",
    "posts_C.drop(['sid'],axis=1,inplace=True)\n",
    "quant_scores_ordinal = pd.concat([posts_C,posts_L],join='inner',axis=1)\n",
    "quant_scores_ordinal.reset_index(drop=True);"
   ]
  },
  {
   "cell_type": "code",
   "execution_count": 15,
   "metadata": {},
   "outputs": [],
   "source": [
    "quant_scores_ordinal.to_csv('quant_posts_scores_ordinal.txt', sep='\\t')"
   ]
  },
  {
   "cell_type": "markdown",
   "metadata": {},
   "source": [
    "# Descriptive analysis"
   ]
  },
  {
   "cell_type": "markdown",
   "metadata": {},
   "source": [
    "## Qualitative grades"
   ]
  },
  {
   "cell_type": "markdown",
   "metadata": {},
   "source": [
    "### Distribution"
   ]
  },
  {
   "cell_type": "code",
   "execution_count": 16,
   "metadata": {},
   "outputs": [
    {
     "data": {
      "image/png": "[encoded data removed]",
      "text/plain": [
       "<matplotlib.figure.Figure at 0xe15d470>"
      ]
     },
     "metadata": {},
     "output_type": "display_data"
    }
   ],
   "source": [
    "CMAP = ['#a6d854','#fc8d62','#e78ac3','#66c2a5','#ffd92f']\n",
    "matplotlib.rcParams['axes.color_cycle'] = CMAP\n",
    "qual_scores[qual_score_columns].apply(lambda x: x.value_counts()).transpose().iloc[::-1,:].plot.barh(stacked=True,sort_columns=True)\n",
    "ax = plt.subplot()\n",
    "ax.legend(loc=2,frameon=True,labels=['correct','incorrect']);ax.set_xlabel('Percent of students',fontsize=13)\n",
    "ax.set_xticklabels([0,20,40,60,80,100],fontsize=13)\n",
    "ax.set_xticks([round(int(x)*148.0/100.0,1) for x in [0,20,40,60,80,100]])\n",
    "ax.set_title(\"Stacked bar chart of percent of students who got a qualitative question correct\",fontsize=15);"
   ]
  },
  {
   "cell_type": "markdown",
   "metadata": {},
   "source": [
    "### Correlation between question pairs"
   ]
  },
  {
   "cell_type": "code",
   "execution_count": 17,
   "metadata": {},
   "outputs": [],
   "source": [
    "# from scipy.stats import spearmanr\n",
    "# from sklearn.metrics import jaccard_similarity_score\n",
    "# correlation_matrix = np.zeros((len(qual_score_columns),len(qual_score_columns)))\n",
    "# for i,qual_scores_i in enumerate(qual_score_columns):\n",
    "#     for j,qual_scores_j in enumerate(qual_score_columns):\n",
    "#         jc = jaccard_similarity_score(list(qual_scores[qual_scores_i].dropna().astype(int)),list(qual_scores[qual_scores_j].dropna().astype(int)))\n",
    "#         correlation_matrix[i,j] = jc\n",
    "\n",
    "# np.fill_diagonal(correlation_matrix,0)\n",
    "# plt.title(\"Correlation matrix of student scores for pairs of qualitative questions\",fontsize=15);\n",
    "# sns.heatmap(correlation_matrix,yticklabels=qual_score_columns,xticklabels=qual_score_columns,annot=True);"
   ]
  },
  {
   "cell_type": "markdown",
   "metadata": {},
   "source": [
    "### Reliability"
   ]
  },
  {
   "cell_type": "code",
   "execution_count": 18,
   "metadata": {},
   "outputs": [],
   "source": [
    "def cronbach_alpha(scores):\n",
    "    if scores.isnull().values.any():\n",
    "        print \"Cannot compute Cronbach alpha: your dataframe has NaN values.\"\n",
    "        return\n",
    "    K = float(scores.shape[1])\n",
    "    sum_of_var = float(scores.apply(lambda x: np.var(x,ddof=1), axis=0).sum())\n",
    "    var = float(np.var(scores.sum(axis=1),ddof=1))\n",
    "    alpha = (K/(K-1.0))*(1.0-sum_of_var/var)\n",
    "    return round(alpha,2)"
   ]
  },
  {
   "cell_type": "code",
   "execution_count": 19,
   "metadata": {},
   "outputs": [
    {
     "name": "stdout",
     "output_type": "stream",
     "text": [
      "---------------------------------  -----------------\n",
      "questions combined                 reliability score\n",
      "all (12)                           0.49\n",
      "near all (8)                       0.3\n",
      "far all (4)                        0.37\n",
      "near variables (4)                 0.4\n",
      "near not variables (4)             -0.01\n",
      "near absorbance (4)                0.23\n",
      "near capacitance (4)               0.14\n",
      "near variable+far absorbance (4)   0.51\n",
      "near variable+far capacitance (4)  0.27\n",
      "---------------------------------  -----------------\n"
     ]
    }
   ],
   "source": [
    "t = [['questions combined','reliability score']]\n",
    "t.append(['all (12)',cronbach_alpha(qual_scores[qual_score_columns]) ])\n",
    "t.append(['near all (8)',cronbach_alpha(qual_scores[['qual1_L_near_concentration','qual3_L_near_width','qual4_C_near_separation','qual1_C_near_area','qual4_L_near_detector','qual6_L_near_wavelength','qual2_C_near_voltage','qual5_C_near_polarvoltage']]) ])\n",
    "t.append(['far all (4)',cronbach_alpha(qual_scores[['qual5_L_far_laserangle','qual2_L_far_volume','qual3_C_far_areazerovoltage','qual6_C_far_offset']]) ])\n",
    "t.append(['near variables (4)',cronbach_alpha(qual_scores[['qual1_L_near_concentration','qual3_L_near_width','qual4_C_near_separation','qual1_C_near_area']]) ])\n",
    "t.append(['near not variables (4)',cronbach_alpha(qual_scores[['qual4_L_near_detector','qual6_L_near_wavelength','qual2_C_near_voltage','qual5_C_near_polarvoltage']]) ])\n",
    "t.append(['near absorbance (4)',cronbach_alpha(qual_scores[['qual4_L_near_detector','qual6_L_near_wavelength','qual1_L_near_concentration','qual3_L_near_width']]) ])\n",
    "t.append(['near capacitance (4)',cronbach_alpha(qual_scores[['qual4_C_near_separation','qual1_C_near_area','qual2_C_near_voltage','qual5_C_near_polarvoltage']]) ])\n",
    "t.append(['near variable+far absorbance (4)',cronbach_alpha(qual_scores[['qual5_L_far_laserangle','qual2_L_far_volume','qual1_L_near_concentration','qual3_L_near_width']]) ])\n",
    "t.append(['near variable+far capacitance (4)',cronbach_alpha(qual_scores[['qual4_C_near_separation','qual1_C_near_area','qual3_C_far_areazerovoltage','qual6_C_far_offset']]) ])\n",
    "print tabulate(t)"
   ]
  },
  {
   "cell_type": "code",
   "execution_count": 20,
   "metadata": {},
   "outputs": [
    {
     "name": "stdout",
     "output_type": "stream",
     "text": [
      "---------------------------  -----------------\n",
      "question dropped             reliability score\n",
      "qual1_L_near_concentration   0.42\n",
      "qual3_L_near_width           0.43\n",
      "qual4_L_near_detector        0.45\n",
      "qual6_L_near_wavelength      0.57\n",
      "qual4_C_near_separation      0.49\n",
      "qual1_C_near_area            0.5\n",
      "qual2_C_near_voltage         0.49\n",
      "qual5_C_near_polarvoltage    0.44\n",
      "qual5_L_far_laserangle       0.46\n",
      "qual2_L_far_volume           0.44\n",
      "qual3_C_far_areazerovoltage  0.44\n",
      "qual6_C_far_offset           0.47\n",
      "---------------------------  -----------------\n"
     ]
    }
   ],
   "source": [
    "t = [['question dropped','reliability score']]\n",
    "for q in qual_score_columns:\n",
    "    qs = list(qual_score_columns)\n",
    "    qs.remove(q)\n",
    "    t.append([q,cronbach_alpha(qual_scores[qs]) ])\n",
    "print tabulate(t)"
   ]
  },
  {
   "cell_type": "markdown",
   "metadata": {},
   "source": [
    "## Quantitative grades"
   ]
  },
  {
   "cell_type": "markdown",
   "metadata": {},
   "source": [
    "### Distribution"
   ]
  },
  {
   "cell_type": "code",
   "execution_count": 21,
   "metadata": {},
   "outputs": [
    {
     "data": {
      "image/png": "[encoded data removed]",
      "text/plain": [
       "<matplotlib.figure.Figure at 0xe144668>"
      ]
     },
     "metadata": {},
     "output_type": "display_data"
    }
   ],
   "source": [
    "CMAP = ['#a6d854','#b3b3b3','cornflowerblue','#fc8d62','#e78ac3','#66c2a5','#ffd92f']\n",
    "matplotlib.rcParams['axes.color_cycle'] = CMAP\n",
    "quant_scores_ordinal[quant_score_columns].apply(lambda x: x.value_counts()).transpose().iloc[:,::-1].plot.barh(stacked=True)\n",
    "ax = plt.subplot()\n",
    "ax.legend(loc=2,frameon=True,labels=['correct (0.1)','incorrect statement (around 0.1)','qualitatively correct (less)','incorrect']);ax.set_xlabel('Percent of students',fontsize=13)\n",
    "ax.set_xticklabels([0,20,40,60,80,100],fontsize=13)\n",
    "ax.set_xticks([round(int(x)*148.0/100.0,1) for x in [0,20,40,60,80,100]])\n",
    "ax.set_title(\"Stacked bar chart of percent of students who got a quantitative question correct\",fontsize=15);"
   ]
  },
  {
   "cell_type": "markdown",
   "metadata": {},
   "source": [
    "### Flooring values\n",
    "We want to see if students demonstrative understanding. We convert partial marks to zero and convert scores to binary."
   ]
  },
  {
   "cell_type": "code",
   "execution_count": 22,
   "metadata": {},
   "outputs": [
    {
     "data": {
      "text/html": [
       "<div>\n",
       "<style>\n",
       "    .dataframe thead tr:only-child th {\n",
       "        text-align: right;\n",
       "    }\n",
       "\n",
       "    .dataframe thead th {\n",
       "        text-align: left;\n",
       "    }\n",
       "\n",
       "    .dataframe tbody tr th {\n",
       "        vertical-align: top;\n",
       "    }\n",
       "</style>\n",
       "<table border=\"1\" class=\"dataframe\">\n",
       "  <thead>\n",
       "    <tr style=\"text-align: right;\">\n",
       "      <th></th>\n",
       "      <th>quant.0.1_C_near_area</th>\n",
       "      <th>quant.1.1_C_near_separation</th>\n",
       "      <th>quant.2.1_C_interaction_equal</th>\n",
       "      <th>quant.3.1_C_interaction_quadruple</th>\n",
       "      <th>quant.0_L_near_width</th>\n",
       "      <th>quant.1_L_near_concentration</th>\n",
       "      <th>quant.2_L_interaction_quadruple</th>\n",
       "      <th>quant.3_L_interaction_equal</th>\n",
       "      <th>sid</th>\n",
       "      <th>activity order</th>\n",
       "    </tr>\n",
       "    <tr>\n",
       "      <th>sid</th>\n",
       "      <th></th>\n",
       "      <th></th>\n",
       "      <th></th>\n",
       "      <th></th>\n",
       "      <th></th>\n",
       "      <th></th>\n",
       "      <th></th>\n",
       "      <th></th>\n",
       "      <th></th>\n",
       "      <th></th>\n",
       "    </tr>\n",
       "  </thead>\n",
       "  <tbody>\n",
       "    <tr>\n",
       "      <th>77047160</th>\n",
       "      <td>1.0</td>\n",
       "      <td>0.0</td>\n",
       "      <td>0.0</td>\n",
       "      <td>0.0</td>\n",
       "      <td>1.0</td>\n",
       "      <td>1.0</td>\n",
       "      <td>1.0</td>\n",
       "      <td>1.0</td>\n",
       "      <td>77047160</td>\n",
       "      <td>LC</td>\n",
       "    </tr>\n",
       "    <tr>\n",
       "      <th>90447168</th>\n",
       "      <td>1.0</td>\n",
       "      <td>1.0</td>\n",
       "      <td>1.0</td>\n",
       "      <td>1.0</td>\n",
       "      <td>1.0</td>\n",
       "      <td>0.0</td>\n",
       "      <td>0.0</td>\n",
       "      <td>1.0</td>\n",
       "      <td>90447168</td>\n",
       "      <td>LC</td>\n",
       "    </tr>\n",
       "    <tr>\n",
       "      <th>24511163</th>\n",
       "      <td>1.0</td>\n",
       "      <td>1.0</td>\n",
       "      <td>1.0</td>\n",
       "      <td>1.0</td>\n",
       "      <td>1.0</td>\n",
       "      <td>1.0</td>\n",
       "      <td>1.0</td>\n",
       "      <td>1.0</td>\n",
       "      <td>24511163</td>\n",
       "      <td>LC</td>\n",
       "    </tr>\n",
       "    <tr>\n",
       "      <th>27451164</th>\n",
       "      <td>1.0</td>\n",
       "      <td>0.0</td>\n",
       "      <td>0.0</td>\n",
       "      <td>0.0</td>\n",
       "      <td>1.0</td>\n",
       "      <td>1.0</td>\n",
       "      <td>1.0</td>\n",
       "      <td>0.0</td>\n",
       "      <td>27451164</td>\n",
       "      <td>LC</td>\n",
       "    </tr>\n",
       "    <tr>\n",
       "      <th>46792161</th>\n",
       "      <td>1.0</td>\n",
       "      <td>1.0</td>\n",
       "      <td>1.0</td>\n",
       "      <td>1.0</td>\n",
       "      <td>1.0</td>\n",
       "      <td>1.0</td>\n",
       "      <td>1.0</td>\n",
       "      <td>1.0</td>\n",
       "      <td>46792161</td>\n",
       "      <td>LC</td>\n",
       "    </tr>\n",
       "  </tbody>\n",
       "</table>\n",
       "</div>"
      ],
      "text/plain": [
       "          quant.0.1_C_near_area  quant.1.1_C_near_separation  \\\n",
       "sid                                                            \n",
       "77047160                    1.0                          0.0   \n",
       "90447168                    1.0                          1.0   \n",
       "24511163                    1.0                          1.0   \n",
       "27451164                    1.0                          0.0   \n",
       "46792161                    1.0                          1.0   \n",
       "\n",
       "          quant.2.1_C_interaction_equal  quant.3.1_C_interaction_quadruple  \\\n",
       "sid                                                                          \n",
       "77047160                            0.0                                0.0   \n",
       "90447168                            1.0                                1.0   \n",
       "24511163                            1.0                                1.0   \n",
       "27451164                            0.0                                0.0   \n",
       "46792161                            1.0                                1.0   \n",
       "\n",
       "          quant.0_L_near_width  quant.1_L_near_concentration  \\\n",
       "sid                                                            \n",
       "77047160                   1.0                           1.0   \n",
       "90447168                   1.0                           0.0   \n",
       "24511163                   1.0                           1.0   \n",
       "27451164                   1.0                           1.0   \n",
       "46792161                   1.0                           1.0   \n",
       "\n",
       "          quant.2_L_interaction_quadruple  quant.3_L_interaction_equal  \\\n",
       "sid                                                                      \n",
       "77047160                              1.0                          1.0   \n",
       "90447168                              0.0                          1.0   \n",
       "24511163                              1.0                          1.0   \n",
       "27451164                              1.0                          0.0   \n",
       "46792161                              1.0                          1.0   \n",
       "\n",
       "               sid activity order  \n",
       "sid                                \n",
       "77047160  77047160             LC  \n",
       "90447168  90447168             LC  \n",
       "24511163  24511163             LC  \n",
       "27451164  27451164             LC  \n",
       "46792161  46792161             LC  "
      ]
     },
     "execution_count": 22,
     "metadata": {},
     "output_type": "execute_result"
    }
   ],
   "source": [
    "quant_scores = quant_scores_ordinal.copy()\n",
    "quant_scores.replace(1,0, inplace=True)\n",
    "quant_scores.replace(2,0, inplace=True)\n",
    "quant_scores.replace(3,1, inplace=True)\n",
    "quant_scores.head()"
   ]
  },
  {
   "cell_type": "code",
   "execution_count": 23,
   "metadata": {},
   "outputs": [],
   "source": [
    "quant_scores.to_csv('quant_posts_scores_floored.txt', sep='\\t')"
   ]
  },
  {
   "cell_type": "markdown",
   "metadata": {},
   "source": [
    "### Correlation between question pairs"
   ]
  },
  {
   "cell_type": "code",
   "execution_count": 24,
   "metadata": {},
   "outputs": [],
   "source": [
    "# from scipy.stats import spearmanr\n",
    "# from sklearn.metrics import jaccard_similarity_score\n",
    "# correlation_matrix = np.zeros((len(quant_score_columns),len(quant_score_columns)))\n",
    "# for i,quant_scores_i in enumerate(quant_score_columns):\n",
    "#     for j,quant_scores_j in enumerate(quant_score_columns):\n",
    "#         jc = jaccard_similarity_score(list(quant_scores[quant_scores_i].dropna().astype(int)),list(quant_scores[quant_scores_j].dropna().astype(int)))\n",
    "#         correlation_matrix[i,j] = jc\n",
    "\n",
    "# np.fill_diagonal(correlation_matrix,0)\n",
    "# plt.title(\"Correlation matrix of student scores for pairs of quantitative questions\",fontsize=15);\n",
    "# sns.heatmap(correlation_matrix,yticklabels=quant_score_columns,xticklabels=quant_score_columns,annot=True);"
   ]
  },
  {
   "cell_type": "markdown",
   "metadata": {},
   "source": [
    "Seems like there is much higher correlation between questions of the same sim than accross sims."
   ]
  },
  {
   "cell_type": "markdown",
   "metadata": {},
   "source": [
    "### Reliability"
   ]
  },
  {
   "cell_type": "code",
   "execution_count": 25,
   "metadata": {},
   "outputs": [
    {
     "name": "stdout",
     "output_type": "stream",
     "text": [
      "-------------------------  -----------------\n",
      "questions combined         reliability score\n",
      "all (8)                    0.81\n",
      "variables absorbance (4)   0.78\n",
      "variables capacitance (4)  0.8\n",
      "near variables (4)         0.68\n",
      "interactions (4)           0.71\n",
      "-------------------------  -----------------\n"
     ]
    }
   ],
   "source": [
    "t = [['questions combined','reliability score']]\n",
    "t.append(['all (8)',cronbach_alpha(quant_scores[quant_score_columns]) ])\n",
    "t.append(['variables absorbance (4)', cronbach_alpha(quant_scores[['quant.0.1_C_near_area','quant.1.1_C_near_separation','quant.2.1_C_interaction_equal','quant.3.1_C_interaction_quadruple']]) ])\n",
    "t.append(['variables capacitance (4)', cronbach_alpha(quant_scores[['quant.0_L_near_width','quant.1_L_near_concentration','quant.2_L_interaction_quadruple','quant.3_L_interaction_equal']]) ])\n",
    "t.append(['near variables (4)', cronbach_alpha(quant_scores[['quant.0.1_C_near_area','quant.1.1_C_near_separation','quant.0_L_near_width','quant.1_L_near_concentration']]) ])\n",
    "t.append(['interactions (4)', cronbach_alpha(quant_scores[['quant.2_L_interaction_quadruple','quant.3_L_interaction_equal','quant.2.1_C_interaction_equal','quant.3.1_C_interaction_quadruple']]) ])\n",
    "print tabulate(t)"
   ]
  },
  {
   "cell_type": "code",
   "execution_count": 26,
   "metadata": {},
   "outputs": [
    {
     "name": "stdout",
     "output_type": "stream",
     "text": [
      "---------------------------------  -----------------\n",
      "question dropped                   reliability score\n",
      "quant.0.1_C_near_area              0.79\n",
      "quant.1.1_C_near_separation        0.79\n",
      "quant.2.1_C_interaction_equal      0.79\n",
      "quant.3.1_C_interaction_quadruple  0.78\n",
      "quant.0_L_near_width               0.8\n",
      "quant.1_L_near_concentration       0.78\n",
      "quant.2_L_interaction_quadruple    0.77\n",
      "quant.3_L_interaction_equal        0.8\n",
      "---------------------------------  -----------------\n"
     ]
    }
   ],
   "source": [
    "t = [['question dropped','reliability score']]\n",
    "for q in quant_score_columns:\n",
    "    qs = list(quant_score_columns)\n",
    "    qs.remove(q)\n",
    "    t.append([q,cronbach_alpha(quant_scores[qs]) ])\n",
    "print tabulate(t)"
   ]
  },
  {
   "cell_type": "markdown",
   "metadata": {},
   "source": [
    "## Comparing scores by order"
   ]
  },
  {
   "cell_type": "markdown",
   "metadata": {},
   "source": [
    "### qualitative scores"
   ]
  },
  {
   "cell_type": "code",
   "execution_count": 27,
   "metadata": {},
   "outputs": [
    {
     "data": {
      "text/plain": [
       "<matplotlib.text.Text at 0xf50c358>"
      ]
     },
     "execution_count": 27,
     "metadata": {},
     "output_type": "execute_result"
    },
    {
     "data": {
      "image/png": "[encoded data removed]",
      "text/plain": [
       "<matplotlib.figure.Figure at 0xe55b8d0>"
      ]
     },
     "metadata": {},
     "output_type": "display_data"
    }
   ],
   "source": [
    "CMAP = ['#a6d854','#fc8d62','#e78ac3','#66c2a5','#ffd92f']\n",
    "matplotlib.rcParams['axes.color_cycle'] = CMAP\n",
    "fig,axes = plt.subplots(nrows=1,ncols=2,figsize=(10,10))\n",
    "for ax,order in zip(axes,['CL','LC']):\n",
    "    N=qual_scores[qual_scores['activity order']==order].shape[0]\n",
    "    qual_scores[qual_scores['activity order']==order][qual_score_columns].apply(lambda x: x.value_counts()).transpose().iloc[::-1,::-1].plot.barh(stacked=True,ax=ax)\n",
    "    ax.set_xticks([round(int(x)*N/100.0,1) for x in [0,20,40,60,80,100]])\n",
    "    ax.set_xticklabels([0,20,40,60,80,100],fontsize=13)\n",
    "    ylabels = ax.get_yticklabels()\n",
    "    ax.set_yticklabels([])\n",
    "    ax.set_title(order,fontsize=15);\n",
    "    ax.set_xlabel('Percent of students',fontsize=13)\n",
    "    \n",
    "axes[0].set_yticklabels(ylabels, fontsize=11)\n",
    "axes[1].legend_.remove()\n",
    "axes[0].legend(loc=2,frameon=True,labels=['correct','incorrect'])\n",
    "fig.suptitle('Stacked bar chart of percent of students who got a qualitative question correct by order',fontsize=15)"
   ]
  },
  {
   "cell_type": "markdown",
   "metadata": {},
   "source": [
    "### Quantitative scores"
   ]
  },
  {
   "cell_type": "code",
   "execution_count": 28,
   "metadata": {},
   "outputs": [
    {
     "data": {
      "text/plain": [
       "<matplotlib.text.Text at 0xfbc1e48>"
      ]
     },
     "execution_count": 28,
     "metadata": {},
     "output_type": "execute_result"
    },
    {
     "data": {
      "image/png": "[encoded data removed]",
      "text/plain": [
       "<matplotlib.figure.Figure at 0xf8f8d68>"
      ]
     },
     "metadata": {},
     "output_type": "display_data"
    }
   ],
   "source": [
    "CMAP = ['#a6d854','#fc8d62','#e78ac3','#66c2a5','#ffd92f']\n",
    "matplotlib.rcParams['axes.color_cycle'] = CMAP\n",
    "fig,axes = plt.subplots(nrows=1,ncols=2,figsize=(10,10))\n",
    "\n",
    "for ax,order,plot_order in zip(axes,['CL','LC'],[1,-1]):\n",
    "    N=quant_scores[quant_scores['activity order']==order].shape[0]\n",
    "    quant_scores[quant_scores['activity order']==order][quant_score_columns].apply(lambda x: x.value_counts()).transpose().iloc[:,::plot_order].plot.barh(stacked=True,ax=ax)\n",
    "    ax.set_xticks([round(int(x)*N/100.0,1) for x in [0,20,40,60,80,100]])\n",
    "    ax.set_xticklabels([0,20,40,60,80,100],fontsize=13)\n",
    "    ylabels = ax.get_yticklabels()\n",
    "    ax.set_yticklabels([])\n",
    "    ax.set_title(order,fontsize=15);\n",
    "    ax.set_xlabel('Percent of students',fontsize=13)\n",
    "    \n",
    "axes[0].set_yticklabels(ylabels, fontsize=11)\n",
    "axes[1].legend_.remove()\n",
    "axes[0].legend(loc=2,frameon=True,labels=['correct','incorrect'])\n",
    "fig.suptitle('Stacked bar chart of percent of students who got a quantitative question correct by order',fontsize=15)"
   ]
  },
  {
   "cell_type": "markdown",
   "metadata": {},
   "source": [
    "Seems like absorbance questions have higher score with CL sutdents but the opposite isn't true for Capacitance. Why?"
   ]
  }
 ],
 "metadata": {
  "anaconda-cloud": {},
  "kernelspec": {
   "display_name": "Python 2",
   "language": "python",
   "name": "python2"
  },
  "language_info": {
   "codemirror_mode": {
    "name": "ipython",
    "version": 2
   },
   "file_extension": ".py",
   "mimetype": "text/x-python",
   "name": "python",
   "nbconvert_exporter": "python",
   "pygments_lexer": "ipython2",
   "version": "2.7.13"
  },
  "toc": {
   "nav_menu": {},
   "number_sections": true,
   "sideBar": false,
   "skip_h1_title": false,
   "toc_cell": false,
   "toc_position": {},
   "toc_section_display": "block",
   "toc_window_display": false
  }
 },
 "nbformat": 4,
 "nbformat_minor": 1
}
