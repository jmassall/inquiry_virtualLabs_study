{
 "cells": [
  {
   "cell_type": "code",
   "execution_count": 1,
   "metadata": {
    "collapsed": true
   },
   "outputs": [],
   "source": [
    "import matplotlib\n",
    "import matplotlib.pyplot as plt\n",
    "import numpy as np\n",
    "import pandas as pd\n",
    "import re\n",
    "np.set_printoptions(precision=2)\n",
    "pd.set_option('display.max_columns', None)\n",
    "pd.set_option('display.max_rows', None)\n",
    "pd.set_option('precision', 2)\n",
    "\n",
    "%matplotlib inline\n",
    "matplotlib.style.use('ggplot')\n",
    "matplotlib.rcParams['figure.figsize'] = 25, 15"
   ]
  },
  {
   "cell_type": "code",
   "execution_count": 2,
   "metadata": {
    "collapsed": false
   },
   "outputs": [],
   "source": [
    "df = pd.read_csv('dream_table_beers_90447168_2017-01-17_11.22.45.csv')"
   ]
  },
  {
   "cell_type": "code",
   "execution_count": 3,
   "metadata": {
    "collapsed": false
   },
   "outputs": [
    {
     "data": {
      "text/html": [
       "<div>\n",
       "<table border=\"1\" class=\"dataframe\">\n",
       "  <thead>\n",
       "    <tr style=\"text-align: right;\">\n",
       "      <th></th>\n",
       "      <th>User</th>\n",
       "      <th>Sim</th>\n",
       "      <th>Time</th>\n",
       "      <th>Index</th>\n",
       "      <th>User or Model?</th>\n",
       "      <th>Event</th>\n",
       "      <th>Item</th>\n",
       "      <th>Action</th>\n",
       "      <th>Laser on status</th>\n",
       "      <th>Wavelength</th>\n",
       "      <th>Width</th>\n",
       "      <th>Concentration</th>\n",
       "      <th>Absorption</th>\n",
       "      <th>Detector location</th>\n",
       "      <th>Ruler location</th>\n",
       "      <th>Table</th>\n",
       "      <th>X axis</th>\n",
       "      <th>Y axis</th>\n",
       "      <th>X axis scale</th>\n",
       "      <th>Y axis scale</th>\n",
       "      <th>Experiment #s included</th>\n",
       "      <th>Notes</th>\n",
       "    </tr>\n",
       "  </thead>\n",
       "  <tbody>\n",
       "    <tr>\n",
       "      <th>0</th>\n",
       "      <td>90447168</td>\n",
       "      <td>beers-law-lab</td>\n",
       "      <td>0.0</td>\n",
       "      <td>0</td>\n",
       "      <td>model</td>\n",
       "      <td>initializing</td>\n",
       "      <td>sim</td>\n",
       "      <td>beersLawLab.sim.simStarted</td>\n",
       "      <td>NaN</td>\n",
       "      <td>NaN</td>\n",
       "      <td>NaN</td>\n",
       "      <td>NaN</td>\n",
       "      <td>NaN</td>\n",
       "      <td>NaN</td>\n",
       "      <td>NaN</td>\n",
       "      <td>NaN</td>\n",
       "      <td>NaN</td>\n",
       "      <td>NaN</td>\n",
       "      <td>NaN</td>\n",
       "      <td>NaN</td>\n",
       "      <td>NaN</td>\n",
       "      <td>NaN</td>\n",
       "    </tr>\n",
       "    <tr>\n",
       "      <th>1</th>\n",
       "      <td>90447168</td>\n",
       "      <td>beers-law-lab</td>\n",
       "      <td>0.0</td>\n",
       "      <td>2</td>\n",
       "      <td>model</td>\n",
       "      <td>updating state</td>\n",
       "      <td>NaN</td>\n",
       "      <td>NaN</td>\n",
       "      <td>False</td>\n",
       "      <td>780.0</td>\n",
       "      <td>1.0</td>\n",
       "      <td>0.1</td>\n",
       "      <td>NaN</td>\n",
       "      <td>{u'y': 2, u'x': 6.3}</td>\n",
       "      <td>{u'y': 3.58, u'x': 3.3}</td>\n",
       "      <td>NaN</td>\n",
       "      <td>NaN</td>\n",
       "      <td>NaN</td>\n",
       "      <td>NaN</td>\n",
       "      <td>NaN</td>\n",
       "      <td>NaN</td>\n",
       "      <td>NaN</td>\n",
       "    </tr>\n",
       "  </tbody>\n",
       "</table>\n",
       "</div>"
      ],
      "text/plain": [
       "       User            Sim  Time  Index User or Model?           Event Item  \\\n",
       "0  90447168  beers-law-lab   0.0      0          model    initializing  sim   \n",
       "1  90447168  beers-law-lab   0.0      2          model  updating state  NaN   \n",
       "\n",
       "                       Action Laser on status  Wavelength  Width  \\\n",
       "0  beersLawLab.sim.simStarted             NaN         NaN    NaN   \n",
       "1                         NaN           False       780.0    1.0   \n",
       "\n",
       "   Concentration  Absorption     Detector location           Ruler location  \\\n",
       "0            NaN         NaN                   NaN                      NaN   \n",
       "1            0.1         NaN  {u'y': 2, u'x': 6.3}  {u'y': 3.58, u'x': 3.3}   \n",
       "\n",
       "  Table X axis Y axis  X axis scale Y axis scale  Experiment #s included Notes  \n",
       "0   NaN    NaN    NaN           NaN          NaN                     NaN   NaN  \n",
       "1   NaN    NaN    NaN           NaN          NaN                     NaN   NaN  "
      ]
     },
     "execution_count": 3,
     "metadata": {},
     "output_type": "execute_result"
    }
   ],
   "source": [
    "df.head(n=2)"
   ]
  },
  {
   "cell_type": "code",
   "execution_count": 4,
   "metadata": {
    "collapsed": false
   },
   "outputs": [
    {
     "name": "stdout",
     "output_type": "stream",
     "text": [
      "['initializing' 'updating state' 'toggle laser' 'dragStarted' 'dragged'\n",
      " 'dragEnded' 'editing notes' 'recording data' 'expanding table'\n",
      " 'expanding graph' 'Adding data to graph' 'Selecting Y-axis'\n",
      " 'Selecting X-axis' 'Changed concentration' 'Removing data from table'\n",
      " 'Selecting scale of Y-axis']\n",
      "['sim' nan 'laser button' 'cuvetteNode' 'notepad' 'wavelengthControls'\n",
      " 'solutionControls' 'detectorNode' 'table' 'graph' 'trialNumber 1'\n",
      " 'Y-axis dropdown menu' 'X-axis dropdown menu' 'trialNumber 2'\n",
      " 'trialNumber 3' 'concentration slider' 'trialNumber 4' 'trialNumber 5'\n",
      " 'trialNumber 6' 'trialNumber 7' 'trialNumber 8' 'trialNumber 9'\n",
      " 'trialNumber 20' 'trialNumber 19' 'trialNumber 18' 'trialNumber 17'\n",
      " 'trialNumber 16' 'trialNumber 15' 'trialNumber 14' 'trialNumber 13'\n",
      " 'trialNumber 12' 'trialNumber 11' 'trialNumber 10'\n",
      " 'Y-axis scale dropdown menu']\n"
     ]
    }
   ],
   "source": [
    "#list all the events and items to inform action to family dictionary\n",
    "print df['Event'].unique()\n",
    "print df['Item'].unique()"
   ]
  },
  {
   "cell_type": "code",
   "execution_count": 5,
   "metadata": {
    "collapsed": false
   },
   "outputs": [],
   "source": [
    "# Define actions families\n",
    "# I'm not sure what is 'Changed concentration' - is it using the arrows to change concentration? Yes!\n",
    "action_to_family = {'N':['editing notes'],\n",
    "                    'M':['recording data'],\n",
    "                   'Dt':['Removing data from table'],\n",
    "                    'G':['Adding data to graph','Selecting Y-axis','Selecting X-axis', 'Selecting scale of Y-axis','Selecting scale of X-axis'],\n",
    "                   'O':['initializing', 'toggle laser','expanding table','collapsing table','expanding graph','collapsing graph'],\n",
    "                   'St':['updating state']}\n",
    "variable_actions = ['dragEnded','dragged','dragStarted','Changed concentration']\n",
    "#events to add: collapsing table and graph, selecting X, removing from graph, move detector (in dragging now)"
   ]
  },
  {
   "cell_type": "code",
   "execution_count": 6,
   "metadata": {
    "collapsed": false
   },
   "outputs": [],
   "source": [
    "# Populate family column based on action_to_family dict above\n",
    "#First we reverse the dictionary to map events to families.\n",
    "event_to_family = {}\n",
    "for family, events in action_to_family.iteritems():\n",
    "    for event in events:\n",
    "        event_to_family[event]=family\n",
    "\n",
    "def map_event_family(row):\n",
    "    event = row['Event']\n",
    "    item = row['Item']\n",
    "    if event in variable_actions:\n",
    "        return 'V'+item[0]\n",
    "    else:\n",
    "        return event_to_family[event]\n",
    "\n",
    "df['Family'] = df[['Event','Item']].apply(map_event_family, axis=1)"
   ]
  },
  {
   "cell_type": "code",
   "execution_count": 7,
   "metadata": {
    "collapsed": false
   },
   "outputs": [],
   "source": [
    "# color dict for plotting action timeline plots\n",
    "colors =  {\n",
    "    'N':'#969696',\n",
    "    'M': '#a50f15',\n",
    "    'Dt': '#4a1486',\n",
    "    'G': '#c51b8a',\n",
    "    'O': '#c51b8a',\n",
    "    'Vc': '#fb6a4a',\n",
    "    'Vd': '#fb6a4a',\n",
    "    'Vs': '#fb6a4a',\n",
    "    'Vw': '#fb6a4a',\n",
    "    }\n",
    "family_order = ['O','G','Dt','N','M','Vd','Vw','Vc','Vs']\n",
    "family_full_names = {'O':'Other',\n",
    "                    'G':'Graph',\n",
    "                    'Dt':'Data Table',\n",
    "                    'N':'Notes',\n",
    "                    'M':'Measure',\n",
    "                    'Vd':'Detector',\n",
    "                    'Vw':'Wavelength',\n",
    "                    'Vc':'Cuvette',\n",
    "                    'Vs':'Solution',\n",
    "                    }"
   ]
  },
  {
   "cell_type": "code",
   "execution_count": 8,
   "metadata": {
    "collapsed": false
   },
   "outputs": [],
   "source": [
    "def plot_barGraph_new(df, studentID, family_plot_order, ignore=['St']):\n",
    "    '''\n",
    "    This function plots timeline action plots\n",
    "    '''\n",
    "    #get blocks of actions and their time coordinate for broken bar plot\n",
    "    blocks, time_coords = get_blocks_withTime(df, {studentID}, ignore)\n",
    "    #create figure and axes\n",
    "    fig, ax = plt.subplots()\n",
    "    \n",
    "    #split sequences so that each block is an element of a list\n",
    "    splitblocks = re.compile(r'([A-Z]{1}[a-z]{0,3})\\1*').split(blocks[studentID])\n",
    "    splitblocks = [s for s in splitblocks if s != \"\"]\n",
    "\n",
    "    #grab time coordinates of each blocks from dict \n",
    "    time_coord = time_coords[studentID]\n",
    "    axis_labels = []\n",
    "    for i,action in enumerate(family_plot_order):\n",
    "        axis_labels.append(family_full_names[action])\n",
    "        out = [(x,y) for x,y in zip(splitblocks,time_coord) if action == x]\n",
    "        _, time_coord_filtered = map(list,zip(*out))  \n",
    "        ax.broken_barh(time_coord_filtered,(10*i,9),facecolors=colors[action],linewidth=2,edgecolor='k')\n",
    "\n",
    "    ax.set_ylim(0, len(axis_labels)*10)\n",
    "    ax.set_xlim(0, time_coord[-1][0]+time_coord[-1][1]+2)\n",
    "    ax.set_xlabel('Time (s)', fontsize=25)\n",
    "    ax.xaxis.set_tick_params(labelsize=20)\n",
    "    ax.set_yticks(range(5,len(axis_labels)*10+15,10))\n",
    "    ax.set_yticklabels(axis_labels, fontsize=25)\n",
    "    ax.grid(True)"
   ]
  },
  {
   "cell_type": "code",
   "execution_count": 10,
   "metadata": {
    "collapsed": false
   },
   "outputs": [
    {
     "ename": "NameError",
     "evalue": "name 'family_plot_order' is not defined",
     "output_type": "error",
     "traceback": [
      "\u001b[1;31m---------------------------------------------------------------------------\u001b[0m",
      "\u001b[1;31mNameError\u001b[0m                                 Traceback (most recent call last)",
      "\u001b[1;32m<ipython-input-10-fd5c6b44da39>\u001b[0m in \u001b[0;36m<module>\u001b[1;34m()\u001b[0m\n\u001b[1;32m----> 1\u001b[1;33m \u001b[0mplot_barGraph_new\u001b[0m\u001b[1;33m(\u001b[0m\u001b[0mdf\u001b[0m\u001b[1;33m,\u001b[0m \u001b[1;34m'12345678'\u001b[0m\u001b[1;33m,\u001b[0m \u001b[0mfamily_plot_order\u001b[0m\u001b[1;33m)\u001b[0m\u001b[1;33m\u001b[0m\u001b[0m\n\u001b[0m\u001b[0;32m      2\u001b[0m \u001b[1;31m#i made linewidth black and thick so we can see thin bars of some families\u001b[0m\u001b[1;33m\u001b[0m\u001b[1;33m\u001b[0m\u001b[0m\n",
      "\u001b[1;31mNameError\u001b[0m: name 'family_plot_order' is not defined"
     ]
    }
   ],
   "source": [
    "plot_barGraph_new(df, '12345678', family_plot_order)\n",
    "#i made linewidth black and thick so we can see thin bars of some families"
   ]
  },
  {
   "cell_type": "code",
   "execution_count": null,
   "metadata": {
    "collapsed": true
   },
   "outputs": [],
   "source": []
  },
  {
   "cell_type": "code",
   "execution_count": null,
   "metadata": {
    "collapsed": true
   },
   "outputs": [],
   "source": []
  }
 ],
 "metadata": {
  "anaconda-cloud": {},
  "kernelspec": {
   "display_name": "Python [Root]",
   "language": "python",
   "name": "Python [Root]"
  },
  "language_info": {
   "codemirror_mode": {
    "name": "ipython",
    "version": 2
   },
   "file_extension": ".py",
   "mimetype": "text/x-python",
   "name": "python",
   "nbconvert_exporter": "python",
   "pygments_lexer": "ipython2",
   "version": "2.7.12"
  }
 },
 "nbformat": 4,
 "nbformat_minor": 1
}
