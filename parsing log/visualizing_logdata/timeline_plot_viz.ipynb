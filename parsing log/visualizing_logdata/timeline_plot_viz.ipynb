{
 "cells": [
  {
   "cell_type": "code",
   "execution_count": 1,
   "metadata": {
    "collapsed": true
   },
   "outputs": [],
   "source": [
    "import matplotlib\n",
    "import matplotlib.pyplot as plt\n",
    "import numpy as np\n",
    "import pandas as pd\n",
    "import re\n",
    "import seaborn as sns\n",
    "import getpass\n",
    "import json\n",
    "import os; os.sys.path.append(os.path.dirname(os.path.abspath('.'))) #Use this to import functions from /parsing log/ folder\n",
    "from utils import find_student_log_file\n",
    "np.set_printoptions(precision=2)\n",
    "pd.set_option('display.max_columns', None)\n",
    "pd.set_option('display.max_rows', None)\n",
    "pd.set_option('precision', 2)\n",
    "\n",
    "%matplotlib inline\n",
    "matplotlib.style.use('ggplot')\n",
    "matplotlib.rcParams['figure.figsize'] = 25, 15"
   ]
  },
  {
   "cell_type": "markdown",
   "metadata": {},
   "source": [
    "## Let's get a sense of the data"
   ]
  },
  {
   "cell_type": "code",
   "execution_count": 2,
   "metadata": {
    "collapsed": true
   },
   "outputs": [],
   "source": [
    "FOLDER =  'C:\\\\Users\\\\'+getpass.getuser()+'\\\\Documents\\\\Personal Content\\\\Lab_skills_study\\\\parsed log data'\n",
    "studentid = '90447168'\n",
    "sim = 'beers'\n",
    "# parsed_file = find_student_log_file(FOLDER,sim,studentid)\n",
    "parsed_file = 'dream_table_beers-law-lab_90447168_2017-01-17_11.22.45.txt'\n",
    "df = pd.read_table(parsed_file, sep='\\t')"
   ]
  },
  {
   "cell_type": "code",
   "execution_count": 3,
   "metadata": {},
   "outputs": [
    {
     "data": {
      "text/html": [
       "<div>\n",
       "<style>\n",
       "    .dataframe thead tr:only-child th {\n",
       "        text-align: right;\n",
       "    }\n",
       "\n",
       "    .dataframe thead th {\n",
       "        text-align: left;\n",
       "    }\n",
       "\n",
       "    .dataframe tbody tr th {\n",
       "        vertical-align: top;\n",
       "    }\n",
       "</style>\n",
       "<table border=\"1\" class=\"dataframe\">\n",
       "  <thead>\n",
       "    <tr style=\"text-align: right;\">\n",
       "      <th></th>\n",
       "      <th>User</th>\n",
       "      <th>Sim</th>\n",
       "      <th>Time</th>\n",
       "      <th>Index</th>\n",
       "      <th>User or Model</th>\n",
       "      <th>Component</th>\n",
       "      <th>Event</th>\n",
       "      <th>Item</th>\n",
       "      <th>Action</th>\n",
       "      <th>Laser on status</th>\n",
       "      <th>Wavelength</th>\n",
       "      <th>Width</th>\n",
       "      <th>Concentration</th>\n",
       "      <th>Absorption</th>\n",
       "      <th>Detector location</th>\n",
       "      <th>Ruler location</th>\n",
       "      <th>diff in parsed table</th>\n",
       "      <th>Table</th>\n",
       "      <th>X axis</th>\n",
       "      <th>Y axis</th>\n",
       "      <th>X axis scale</th>\n",
       "      <th>Y axis scale</th>\n",
       "      <th>Experiment #s included</th>\n",
       "      <th>Notes</th>\n",
       "    </tr>\n",
       "  </thead>\n",
       "  <tbody>\n",
       "    <tr>\n",
       "      <th>0</th>\n",
       "      <td>90447168</td>\n",
       "      <td>beers-law-lab</td>\n",
       "      <td>0.00</td>\n",
       "      <td>0</td>\n",
       "      <td>model</td>\n",
       "      <td>interface</td>\n",
       "      <td>initializing</td>\n",
       "      <td>NaN</td>\n",
       "      <td>beersLawLab.sim.simStarted</td>\n",
       "      <td>NaN</td>\n",
       "      <td>NaN</td>\n",
       "      <td>NaN</td>\n",
       "      <td>NaN</td>\n",
       "      <td>NaN</td>\n",
       "      <td>NaN</td>\n",
       "      <td>NaN</td>\n",
       "      <td>NaN</td>\n",
       "      <td>{}</td>\n",
       "      <td>NaN</td>\n",
       "      <td>NaN</td>\n",
       "      <td>NaN</td>\n",
       "      <td>NaN</td>\n",
       "      <td>NaN</td>\n",
       "      <td>NaN</td>\n",
       "    </tr>\n",
       "    <tr>\n",
       "      <th>1</th>\n",
       "      <td>90447168</td>\n",
       "      <td>beers-law-lab</td>\n",
       "      <td>0.00</td>\n",
       "      <td>2</td>\n",
       "      <td>model</td>\n",
       "      <td>sim</td>\n",
       "      <td>updating state</td>\n",
       "      <td>NaN</td>\n",
       "      <td>NaN</td>\n",
       "      <td>False</td>\n",
       "      <td>780.0</td>\n",
       "      <td>1.0</td>\n",
       "      <td>0.1</td>\n",
       "      <td>NaN</td>\n",
       "      <td>{u'y': 2, u'x': 6.3}</td>\n",
       "      <td>{u'y': 3.58, u'x': 3.3}</td>\n",
       "      <td>NaN</td>\n",
       "      <td>{}</td>\n",
       "      <td>NaN</td>\n",
       "      <td>NaN</td>\n",
       "      <td>NaN</td>\n",
       "      <td>NaN</td>\n",
       "      <td>NaN</td>\n",
       "      <td>NaN</td>\n",
       "    </tr>\n",
       "    <tr>\n",
       "      <th>2</th>\n",
       "      <td>90447168</td>\n",
       "      <td>beers-law-lab</td>\n",
       "      <td>0.01</td>\n",
       "      <td>17</td>\n",
       "      <td>model</td>\n",
       "      <td>interface</td>\n",
       "      <td>initializing</td>\n",
       "      <td>NaN</td>\n",
       "      <td>beersLawLab.navigationBar.titleTextNode.textCh...</td>\n",
       "      <td>False</td>\n",
       "      <td>780.0</td>\n",
       "      <td>1.0</td>\n",
       "      <td>0.1</td>\n",
       "      <td>NaN</td>\n",
       "      <td>{u'y': 2, u'x': 6.3}</td>\n",
       "      <td>{u'y': 3.58, u'x': 3.3}</td>\n",
       "      <td>NaN</td>\n",
       "      <td>{}</td>\n",
       "      <td>NaN</td>\n",
       "      <td>NaN</td>\n",
       "      <td>NaN</td>\n",
       "      <td>NaN</td>\n",
       "      <td>NaN</td>\n",
       "      <td>NaN</td>\n",
       "    </tr>\n",
       "    <tr>\n",
       "      <th>3</th>\n",
       "      <td>90447168</td>\n",
       "      <td>beers-law-lab</td>\n",
       "      <td>3.06</td>\n",
       "      <td>572</td>\n",
       "      <td>user</td>\n",
       "      <td>sim</td>\n",
       "      <td>toggle laser</td>\n",
       "      <td>laser button</td>\n",
       "      <td>NaN</td>\n",
       "      <td>False</td>\n",
       "      <td>780.0</td>\n",
       "      <td>1.0</td>\n",
       "      <td>0.1</td>\n",
       "      <td>NaN</td>\n",
       "      <td>{u'y': 2, u'x': 6.3}</td>\n",
       "      <td>{u'y': 3.58, u'x': 3.3}</td>\n",
       "      <td>NaN</td>\n",
       "      <td>{}</td>\n",
       "      <td>NaN</td>\n",
       "      <td>NaN</td>\n",
       "      <td>NaN</td>\n",
       "      <td>NaN</td>\n",
       "      <td>NaN</td>\n",
       "      <td>NaN</td>\n",
       "    </tr>\n",
       "    <tr>\n",
       "      <th>4</th>\n",
       "      <td>90447168</td>\n",
       "      <td>beers-law-lab</td>\n",
       "      <td>3.08</td>\n",
       "      <td>574</td>\n",
       "      <td>model</td>\n",
       "      <td>sim</td>\n",
       "      <td>updating state</td>\n",
       "      <td>NaN</td>\n",
       "      <td>NaN</td>\n",
       "      <td>True</td>\n",
       "      <td>780.0</td>\n",
       "      <td>1.0</td>\n",
       "      <td>0.1</td>\n",
       "      <td>0.96</td>\n",
       "      <td>{u'y': 2, u'x': 6.3}</td>\n",
       "      <td>{u'y': 3.58, u'x': 3.3}</td>\n",
       "      <td>NaN</td>\n",
       "      <td>{}</td>\n",
       "      <td>NaN</td>\n",
       "      <td>NaN</td>\n",
       "      <td>NaN</td>\n",
       "      <td>NaN</td>\n",
       "      <td>NaN</td>\n",
       "      <td>NaN</td>\n",
       "    </tr>\n",
       "  </tbody>\n",
       "</table>\n",
       "</div>"
      ],
      "text/plain": [
       "       User            Sim  Time  Index User or Model  Component  \\\n",
       "0  90447168  beers-law-lab  0.00      0         model  interface   \n",
       "1  90447168  beers-law-lab  0.00      2         model        sim   \n",
       "2  90447168  beers-law-lab  0.01     17         model  interface   \n",
       "3  90447168  beers-law-lab  3.06    572          user        sim   \n",
       "4  90447168  beers-law-lab  3.08    574         model        sim   \n",
       "\n",
       "            Event          Item  \\\n",
       "0    initializing           NaN   \n",
       "1  updating state           NaN   \n",
       "2    initializing           NaN   \n",
       "3    toggle laser  laser button   \n",
       "4  updating state           NaN   \n",
       "\n",
       "                                              Action Laser on status  \\\n",
       "0                         beersLawLab.sim.simStarted             NaN   \n",
       "1                                                NaN           False   \n",
       "2  beersLawLab.navigationBar.titleTextNode.textCh...           False   \n",
       "3                                                NaN           False   \n",
       "4                                                NaN            True   \n",
       "\n",
       "   Wavelength  Width  Concentration  Absorption     Detector location  \\\n",
       "0         NaN    NaN            NaN         NaN                   NaN   \n",
       "1       780.0    1.0            0.1         NaN  {u'y': 2, u'x': 6.3}   \n",
       "2       780.0    1.0            0.1         NaN  {u'y': 2, u'x': 6.3}   \n",
       "3       780.0    1.0            0.1         NaN  {u'y': 2, u'x': 6.3}   \n",
       "4       780.0    1.0            0.1        0.96  {u'y': 2, u'x': 6.3}   \n",
       "\n",
       "            Ruler location diff in parsed table Table X axis Y axis  \\\n",
       "0                      NaN                  NaN    {}    NaN    NaN   \n",
       "1  {u'y': 3.58, u'x': 3.3}                  NaN    {}    NaN    NaN   \n",
       "2  {u'y': 3.58, u'x': 3.3}                  NaN    {}    NaN    NaN   \n",
       "3  {u'y': 3.58, u'x': 3.3}                  NaN    {}    NaN    NaN   \n",
       "4  {u'y': 3.58, u'x': 3.3}                  NaN    {}    NaN    NaN   \n",
       "\n",
       "   X axis scale Y axis scale  Experiment #s included Notes  \n",
       "0           NaN          NaN                     NaN   NaN  \n",
       "1           NaN          NaN                     NaN   NaN  \n",
       "2           NaN          NaN                     NaN   NaN  \n",
       "3           NaN          NaN                     NaN   NaN  \n",
       "4           NaN          NaN                     NaN   NaN  "
      ]
     },
     "execution_count": 3,
     "metadata": {},
     "output_type": "execute_result"
    }
   ],
   "source": [
    "df.head(n=5)"
   ]
  },
  {
   "cell_type": "code",
   "execution_count": 4,
   "metadata": {},
   "outputs": [
    {
     "data": {
      "text/plain": [
       "User or Model\n",
       "model    2036\n",
       "user     3844\n",
       "Name: Event, dtype: int64"
      ]
     },
     "execution_count": 4,
     "metadata": {},
     "output_type": "execute_result"
    }
   ],
   "source": [
    "# THere are user and model actions, but how many of each?\n",
    "df.groupby('User or Model')['Event'].count()"
   ]
  },
  {
   "cell_type": "code",
   "execution_count": 5,
   "metadata": {},
   "outputs": [
    {
     "name": "stdout",
     "output_type": "stream",
     "text": [
      "User actions:  toggle laser, dragStarted, dragged, dragEnded, editing notes, recording data, expanding table, expanding graph, Adding data to graph, Selecting Y-axis, Selecting X-axis, Changed concentration, Removing data from table, Selecting scale of Y-axis\n",
      "Model actions:  initializing, updating state\n"
     ]
    }
   ],
   "source": [
    "#Which events are user or model actions?\n",
    "print \"User actions: \", \", \".join(df[df['User or Model']=='user']['Event'].unique())\n",
    "print \"Model actions: \", \", \".join(df[df['User or Model']=='model']['Event'].unique())"
   ]
  },
  {
   "cell_type": "code",
   "execution_count": 7,
   "metadata": {},
   "outputs": [
    {
     "name": "stdout",
     "output_type": "stream",
     "text": [
      "[nan 'X-axis dropdown menu' 'Y-axis dropdown menu'\n",
      " 'Y-axis scale dropdown menu' 'concentration slider' 'cuvetteNode'\n",
      " 'detectorNode' 'graph' 'laser button' 'solutionControls' 'table'\n",
      " 'trialNumber 1' 'trialNumber 10' 'trialNumber 11' 'trialNumber 12'\n",
      " 'trialNumber 13' 'trialNumber 14' 'trialNumber 15' 'trialNumber 16'\n",
      " 'trialNumber 17' 'trialNumber 18' 'trialNumber 19' 'trialNumber 2'\n",
      " 'trialNumber 20' 'trialNumber 3' 'trialNumber 4' 'trialNumber 5'\n",
      " 'trialNumber 6' 'trialNumber 7' 'trialNumber 8' 'trialNumber 9'\n",
      " 'wavelengthControls']\n"
     ]
    }
   ],
   "source": [
    "#list all possible items for the events to inform action to family dictionary\n",
    "all_items = df['Item'].unique()\n",
    "all_items.sort()\n",
    "print all_items"
   ]
  },
  {
   "cell_type": "markdown",
   "metadata": {},
   "source": [
    "## Let's massage the data\n",
    "### First, we don't care to visualize model actions so we ignore them"
   ]
  },
  {
   "cell_type": "code",
   "execution_count": 8,
   "metadata": {},
   "outputs": [
    {
     "data": {
      "text/plain": [
       "User or Model\n",
       "user    3844\n",
       "Name: Event, dtype: int64"
      ]
     },
     "execution_count": 8,
     "metadata": {},
     "output_type": "execute_result"
    }
   ],
   "source": [
    "def remove_model_events(df):\n",
    "    return df[df['User or Model'] != 'model']\n",
    "df = remove_model_events(df)\n",
    "df.groupby('User or Model')['Event'].count()"
   ]
  },
  {
   "cell_type": "markdown",
   "metadata": {},
   "source": [
    "### Next we add pauses"
   ]
  },
  {
   "cell_type": "code",
   "execution_count": 9,
   "metadata": {},
   "outputs": [
    {
     "name": "stderr",
     "output_type": "stream",
     "text": [
      "D:\\Applications\\Anaconda2\\lib\\site-packages\\pandas\\core\\indexing.py:517: SettingWithCopyWarning: \n",
      "A value is trying to be set on a copy of a slice from a DataFrame.\n",
      "Try using .loc[row_indexer,col_indexer] = value instead\n",
      "\n",
      "See the caveats in the documentation: http://pandas.pydata.org/pandas-docs/stable/indexing.html#indexing-view-versus-copy\n",
      "  self.obj[item] = s\n"
     ]
    }
   ],
   "source": [
    "#Let's try and add pauses to the mix.\n",
    "PAUSE_LENGTH = 15\n",
    "def add_pauses(df,pause_length=PAUSE_LENGTH):\n",
    "\n",
    "    def detect_pause(row,current_time,next_time):\n",
    "        duration_of_action = next_time - current_time\n",
    "        if duration_of_action >= PAUSE_LENGTH:\n",
    "            row['Family']='Pause'\n",
    "            return row\n",
    "\n",
    "    df['Timeshifted'] = df[['Time']].shift(-1)\n",
    "    df_pauses = df.loc[df['Timeshifted']-df['Time']>=PAUSE_LENGTH]\n",
    "    df_pauses.loc[:,('User or Model')]='user'\n",
    "    df_pauses.loc[:,('Event')]='Pause'\n",
    "    df_pauses.loc[:,('Item')]='Pause'\n",
    "    df_pauses.loc[:,('Action')]='Pause'\n",
    "    df_pauses.loc[:,('Time')]=df_pauses[('Time')]+2 #shift it by 2 sec since otherwise the original event and pause have the same start time\n",
    "    df = pd.concat([df,df_pauses],ignore_index=True)\n",
    "    df = df.sort_values('Time')\n",
    "    return df\n",
    "\n",
    "df = add_pauses(df)"
   ]
  },
  {
   "cell_type": "code",
   "execution_count": 10,
   "metadata": {
    "collapsed": true
   },
   "outputs": [],
   "source": [
    "# Define actions families\n",
    "# I'm not sure what is 'Changed concentration' - is it using the arrows to change concentration? Yes!\n",
    "action_to_family = {'N':['editing notes'],\n",
    "                    'M':['recording data'],\n",
    "                   'Dt':['Removing data from table'],\n",
    "                    'G':['Adding data to graph','Selecting Y-axis','Selecting X-axis', 'Selecting scale of Y-axis','Selecting scale of X-axis','Removing data from graph'],\n",
    "                   'I':['expanding table','collapsing table','expanding graph','collapsing graph','collapsing simulation','expanding simulation','Playing with PhET menu'],\n",
    "                    'P':['Pause']}\n",
    "variable_actions = ['toggle laser','dragEnded','dragged','dragStarted','Changed concentration']\n",
    "family_full_names = {'I':'Interface',\n",
    "                    'P':'Pause',\n",
    "                    'G':'Graph (add/del/edit)',\n",
    "                    'Dt':'Data Table (del/move)',\n",
    "                    'N':'Notes',\n",
    "                    'M':'Record',\n",
    "                    'Vd':'Detector',\n",
    "                    'Vw':'Wavelength',\n",
    "                    'Vc':'Width',\n",
    "                    'Vs':'Concentration',\n",
    "                    'Vl':'Laser toggle',\n",
    "                    }"
   ]
  },
  {
   "cell_type": "code",
   "execution_count": 11,
   "metadata": {
    "collapsed": true
   },
   "outputs": [],
   "source": [
    "# Populate family column based on action_to_family dict above\n",
    "#First we reverse the dictionary to map events to families.\n",
    "def add_family(df):\n",
    "    event_to_family = {}\n",
    "    for family, events in action_to_family.iteritems():\n",
    "        for event in events:\n",
    "            event_to_family[event]=family\n",
    "\n",
    "    def map_event_family(event,item):\n",
    "        if event in variable_actions:\n",
    "            return 'V'+item[0]\n",
    "        else:\n",
    "            try:\n",
    "                return event_to_family[event]\n",
    "            except KeyError:\n",
    "                print(\"New event found:\",event)\n",
    "\n",
    "    df['Family'] = df.apply(lambda row: map_event_family(row['Event'],row['Item']), axis=1)\n",
    "    return df\n",
    "\n",
    "df = add_family(df)"
   ]
  },
  {
   "cell_type": "markdown",
   "metadata": {},
   "source": [
    "### Next we get block sequences and visualize"
   ]
  },
  {
   "cell_type": "code",
   "execution_count": 12,
   "metadata": {
    "collapsed": true
   },
   "outputs": [],
   "source": [
    "def get_blocks_withTime(df, students, ignore=[], add_spaces=False):\n",
    "    \n",
    "    '''\n",
    "    This function gets action sequences in block form along with time stamps for each block for plotting.\n",
    "    '''\n",
    "    blocks = {student:'' for student in students}\n",
    "    time_coords = {student:[] for student in students}\n",
    "    for student in students:\n",
    "        sequence =  list(df['Family'])\n",
    "#         print sequence\n",
    "        time_stamps =  list(df['Time'])\n",
    "        time_coord=[]  #coordinate array for broken bar plot, takes array of (start time, duration)\n",
    "        p = re.compile(r'([A-Z][a-z]{0,3})\\1*')  #this regex finds all action blocks of length 1+\n",
    "#         print ''.join([action for action in sequence if action not in ignore])\n",
    "        #print time_stamps\n",
    "        ##use finditer to return a sequence of matches as an iterator\n",
    "        previous_start = 0\n",
    "        for match in p.finditer(''.join([action for action in sequence if action not in ignore])):\n",
    "            ind = match.span()  #this gives start and end of matched block\n",
    "            ##for matches of action denoted by more than 1 letter (e.g. Tb), need to correct the span\n",
    "#             print match.group(), match.span(), ind[1]-ind[0], len(set(match.group())),\n",
    "            ##set() function yields unique elements of a set, which allows picking out those actions with > 1 letter\n",
    "            ##for e.g. if match.group() gives \"CCCCC\", then set() of that is \"C\" while for \"TbTbTb\" we'd have \"T\",\"b\"\n",
    "            ind = (previous_start, previous_start + (ind[1]-ind[0])/len(set(match.group())))\n",
    "            #print ind\n",
    "            previous_start = ind[1]\n",
    "            if ind[1] >= len(time_stamps):  #block location offset from real index by 1\n",
    "                duration = time_stamps[ind[1]-1] - time_stamps[ind[0]]  #time duration of block\n",
    "                #print time_stamps[ind[1]-1], time_stamps[ind[0]]  #time duration of block\n",
    "            else:\n",
    "                duration = time_stamps[ind[1]] - time_stamps[ind[0]]\n",
    "                #print time_stamps[ind[1]] , time_stamps[ind[0]]\n",
    "            time_coord.append((time_stamps[ind[0]],duration))\n",
    "            #print match.group(), match.span(), duration\n",
    "        #actual regex that converts block of similar actions to just one action\n",
    "        block = re.sub(r'([A-Z][a-z]{0,3})\\1+', r'\\1',''.join([action for action in sequence if action not in ignore]))\n",
    "        if add_spaces:\n",
    "            spaced_block = block[0]\n",
    "            for b in block[1:]:\n",
    "                spaced_block += ' '+b\n",
    "            blocks[student] += spaced_block\n",
    "            time_coords[student] = time_coord\n",
    "        else:\n",
    "            blocks[student] += block\n",
    "            time_coords[student] = time_coord\n",
    "    return blocks, time_coords"
   ]
  },
  {
   "cell_type": "code",
   "execution_count": 19,
   "metadata": {
    "collapsed": true
   },
   "outputs": [],
   "source": [
    "def plot_barGraph_new(df, studentID, family_plot_order, ignore=[]):\n",
    "    '''\n",
    "    This function plots timeline action plots\n",
    "    '''\n",
    "    #get blocks of actions and their time coordinate for broken bar plot\n",
    "    blocks, time_coords = get_blocks_withTime(df, {studentID}, ignore)\n",
    "    #create figure and axes\n",
    "    fig, ax = plt.subplots()\n",
    "    \n",
    "    #split sequences so that each block is an element of a list\n",
    "    splitblocks = re.compile(r'([A-Z]{1}[a-z]{0,3})\\1*').split(blocks[studentID])\n",
    "    splitblocks = [s for s in splitblocks if s != \"\"]\n",
    "\n",
    "    #grab time coordinates of each blocks from dict \n",
    "    time_coord = time_coords[studentID]\n",
    "    axis_labels = []\n",
    "\n",
    "    colors = sns.color_palette(\"hls\", len(family_plot_order))\n",
    "    \n",
    "    for i,action in enumerate(family_plot_order):\n",
    "        axis_labels.append(family_full_names[action])\n",
    "        out = [(x,y) for x,y in zip(splitblocks,time_coord) if action == x]\n",
    "        if out:\n",
    "            _, time_coord_filtered = map(list,zip(*out))\n",
    "            print action\n",
    "            if action in ['P','N','M']:\n",
    "                ax.broken_barh(time_coord_filtered,(10*i,9*len(family_plot_order)+20),facecolors=colors[i],linewidth=0.5,edgecolor='k',alpha=0.4)\n",
    "            ax.broken_barh(time_coord_filtered,(10*i,9),facecolors=colors[i],linewidth=0.5,edgecolor='k')\n",
    "        else:\n",
    "            print \"Action family {0} was not used by student\".format(action)\n",
    "    ax.set_ylim(0, len(axis_labels)*10)\n",
    "    ax.set_xlim(0, time_coord[-1][0]+time_coord[-1][1]+2)\n",
    "    ax.set_xlabel('Time (s)', fontsize=25)\n",
    "    ax.xaxis.set_tick_params(labelsize=20)\n",
    "    ax.set_yticks(range(5,len(axis_labels)*10+15,10))\n",
    "    ax.set_yticklabels(axis_labels, fontsize=25)\n",
    "    ax.grid(True)"
   ]
  },
  {
   "cell_type": "code",
   "execution_count": 20,
   "metadata": {},
   "outputs": [
    {
     "name": "stdout",
     "output_type": "stream",
     "text": [
      "I\n",
      "N\n",
      "P\n",
      "G\n",
      "Dt\n",
      "M\n",
      "Vd\n",
      "Vw\n",
      "Vc\n",
      "Vs\n",
      "Vl\n"
     ]
    },
    {
     "data": {
      "image/png": "[encoded data removed]",
      "text/plain": [
       "<matplotlib.figure.Figure at 0xe20dac8>"
      ]
     },
     "metadata": {},
     "output_type": "display_data"
    }
   ],
   "source": [
    "family_plot_order = ['I','N','P','G','Dt','M','Vd','Vw','Vc','Vs','Vl']\n",
    "plot_barGraph_new(df, '', family_plot_order,ignore=[])"
   ]
  },
  {
   "cell_type": "markdown",
   "metadata": {},
   "source": [
    "### Let's look at other students\n",
    "#### First we make a function to run all methods related to making the data ready for viz"
   ]
  },
  {
   "cell_type": "code",
   "execution_count": null,
   "metadata": {
    "collapsed": true
   },
   "outputs": [],
   "source": [
    "def prep_parsing_data(parsing_file):\n",
    "    df = pd.read_table(parsing_file, sep='\\t')\n",
    "    df = remove_model_events(df)\n",
    "    df = add_pauses(df)\n",
    "    df = add_family(df)\n",
    "    return df"
   ]
  },
  {
   "cell_type": "markdown",
   "metadata": {},
   "source": [
    "#### Now we can visualize their activity"
   ]
  },
  {
   "cell_type": "code",
   "execution_count": null,
   "metadata": {
    "collapsed": true
   },
   "outputs": [],
   "source": [
    "studentid = '83459165'\n",
    "sim = 'beers'\n",
    "# parsed_file = find_student_log_file(FOLDER,sim,studentid)\n",
    "parsed_file = 'dream_table_beers-law-lab_83459165_2017-01-13_14.26.08.txt'\n",
    "df2 = prep_parsing_data(parsed_file)"
   ]
  },
  {
   "cell_type": "code",
   "execution_count": null,
   "metadata": {},
   "outputs": [],
   "source": [
    "family_plot_order = ['I','N','P','G','Dt','M','Vd','Vw','Vc','Vs','Vl']\n",
    "plot_barGraph_new(df2, '', family_plot_order,ignore=[])"
   ]
  },
  {
   "cell_type": "code",
   "execution_count": null,
   "metadata": {},
   "outputs": [],
   "source": [
    "studentid = '13122150'\n",
    "sim = 'beers'\n",
    "# parsed_file = find_student_log_file(FOLDER,sim,studentid)\n",
    "parsed_file = 'dream_table_beers-law-lab_13122150_2017-01-27_13.27.17.txt'\n",
    "df3 = prep_parsing_data(parsed_file)\n",
    "plot_barGraph_new(df3, '', family_plot_order,ignore=[])"
   ]
  },
  {
   "cell_type": "code",
   "execution_count": null,
   "metadata": {},
   "outputs": [],
   "source": [
    "df3[df3['Time']>300].head(10)"
   ]
  },
  {
   "cell_type": "code",
   "execution_count": null,
   "metadata": {},
   "outputs": [],
   "source": [
    "studentid = '19566168'\n",
    "sim = 'beers'\n",
    "# parsed_file = find_student_log_file(FOLDER,sim,studentid)\n",
    "parsed_file = 'dream_table_beers-law-lab_19566168_2017-01-27_13.27.13.txt'\n",
    "df4 = prep_parsing_data(parsed_file)\n",
    "plot_barGraph_new(df4, '', family_plot_order,ignore=[])"
   ]
  },
  {
   "cell_type": "code",
   "execution_count": null,
   "metadata": {},
   "outputs": [],
   "source": [
    "df4[df4['Time']>570].head(5)"
   ]
  },
  {
   "cell_type": "code",
   "execution_count": null,
   "metadata": {},
   "outputs": [],
   "source": [
    "table = json.loads(str(df4.at[2301,'Table']))\n",
    "print table"
   ]
  },
  {
   "cell_type": "code",
   "execution_count": null,
   "metadata": {
    "collapsed": true
   },
   "outputs": [],
   "source": []
  }
 ],
 "metadata": {
  "anaconda-cloud": {},
  "kernelspec": {
   "display_name": "Python 2",
   "language": "python",
   "name": "python2"
  },
  "language_info": {
   "codemirror_mode": {
    "name": "ipython",
    "version": 2
   },
   "file_extension": ".py",
   "mimetype": "text/x-python",
   "name": "python",
   "nbconvert_exporter": "python",
   "pygments_lexer": "ipython2",
   "version": "2.7.13"
  }
 },
 "nbformat": 4,
 "nbformat_minor": 1
}
