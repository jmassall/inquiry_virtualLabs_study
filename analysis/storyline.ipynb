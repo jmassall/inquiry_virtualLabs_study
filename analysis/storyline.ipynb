{
 "cells": [
  {
   "cell_type": "markdown",
   "metadata": {
    "hideCode": false,
    "hidePrompt": true
   },
   "source": [
    "This notebook organizes all the results in the \"analysis\" folder within a concrete storyline"
   ]
  },
  {
   "cell_type": "code",
   "execution_count": 1,
   "metadata": {
    "collapsed": false,
    "hideCode": false,
    "hidePrompt": true,
    "scrolled": true
   },
   "outputs": [
    {
     "data": {
      "text/html": [
       "<script>jQuery(function() {if (jQuery(\"body.notebook_app\").length == 0) { jQuery(\".input_area\").toggle(); jQuery(\".prompt\").toggle();}});</script>"
      ]
     },
     "metadata": {},
     "output_type": "display_data"
    }
   ],
   "source": [
    "from IPython.display import display\n",
    "from IPython.display import HTML\n",
    "import IPython.core.display as di\n",
    "\n",
    "# This line will hide code by default when the notebook is converted to HTML\n",
    "di.display_html('<script>jQuery(function() {if (jQuery(\"body.notebook_app\").length == 0) { jQuery(\".input_area\").toggle(); jQuery(\".prompt\").toggle();}});</script>', raw=True)"
   ]
  },
  {
   "cell_type": "code",
   "execution_count": 2,
   "metadata": {
    "collapsed": false,
    "hideCode": false,
    "hidePrompt": true
   },
   "outputs": [],
   "source": [
    "%load_ext autoreload\n",
    "%autoreload 1\n",
    "%aimport utils_read_parsing\n",
    "from utils_timeline_viz import *\n",
    "from utils_read_parsing import *\n",
    "import matplotlib.pyplot as plt\n",
    "from tabulate import tabulate\n",
    "from scipy.stats import ranksums\n",
    "import seaborn as sns\n",
    "import statsmodels.api as sm\n",
    "pd.set_option(\"display.width\", 100)\n",
    "import matplotlib.pyplot as plt\n",
    "from statsmodels.formula.api import ols\n",
    "from statsmodels.graphics.api import interaction_plot, abline_plot\n",
    "from statsmodels.stats.anova import anova_lm\n",
    "from statsmodels.discrete.discrete_model import Logit\n",
    "%matplotlib inline\n",
    "matplotlib.style.use('ggplot')\n",
    "matplotlib.rcParams['figure.figsize'] = 7, 4\n",
    "pd.set_option('precision',3)\n",
    "np.set_printoptions(precision=3,suppress=True)"
   ]
  },
  {
   "cell_type": "markdown",
   "metadata": {
    "hideCode": false,
    "hidePrompt": true
   },
   "source": [
    "# Preparing the data\n",
    "We wish to have a table that looks like:"
   ]
  },
  {
   "cell_type": "code",
   "execution_count": 3,
   "metadata": {
    "collapsed": false,
    "hideCode": false,
    "hidePrompt": true
   },
   "outputs": [
    {
     "name": "stdout",
     "output_type": "stream",
     "text": [
      "-------  --------  ---  -----  -----  ---  ---------  ---------\n",
      "student  variable  pre  post   index  sim  CVS table  CVS graph\n",
      "s1       v1        1.0  2.333  1      L    Yes        No\n",
      "s1       v2        ...  ...    1      L    Yes        Yes\n",
      "s1       v3        ...  ...    2      C    No         No\n",
      "s1       v4        ...  ...    2      C    Yes        No\n",
      "-------  --------  ---  -----  -----  ---  ---------  ---------\n"
     ]
    }
   ],
   "source": [
    "t = [['student','variable','pre','post','index','sim','CVS table','CVS graph']]\n",
    "t.append(['s1','v1','1.0','2.333','1','L','Yes','No'])\n",
    "t.append(['s1','v2','...','...','1','L','Yes','Yes'])\n",
    "t.append(['s1','v3','...','...','2','C','No','No'])\n",
    "t.append(['s1','v4','...','...','2','C','Yes','No'])\n",
    "print tabulate(t)"
   ]
  },
  {
   "cell_type": "markdown",
   "metadata": {
    "hideCode": false,
    "hidePrompt": true
   },
   "source": [
    "## Grabing the CVS data..."
   ]
  },
  {
   "cell_type": "code",
   "execution_count": 4,
   "metadata": {
    "collapsed": true,
    "hideCode": false,
    "hidePrompt": true
   },
   "outputs": [],
   "source": [
    "table_cvs_df = pd.read_csv('table_cvs_results.txt', sep='\\t')\n",
    "graph_cvs_df = pd.read_csv('graph_cvs_results.txt', sep='\\t')"
   ]
  },
  {
   "cell_type": "code",
   "execution_count": 5,
   "metadata": {
    "collapsed": true,
    "hideCode": false,
    "hidePrompt": true
   },
   "outputs": [],
   "source": [
    "metadf = get_student_metadata()\n",
    "order = dict(zip(metadf.index,metadf['activity order']))\n",
    "graph_cvs_df['activity order'] = graph_cvs_df.studentid.apply(lambda sid: order[sid])\n",
    "table_cvs_df['activity order'] = table_cvs_df.studentid.apply(lambda sid: order[sid])"
   ]
  },
  {
   "cell_type": "code",
   "execution_count": 6,
   "metadata": {
    "collapsed": true,
    "hideCode": false,
    "hidePrompt": true
   },
   "outputs": [],
   "source": [
    "variables = [\"Area\",\"Separation\",\"Width\",\"Concentration\",\"Wavelength\",\"Battery voltage\"]\n",
    "\n",
    "def binarize(threshold,number):\n",
    "    if number>= threshold : return 1\n",
    "    else: return 0\n",
    "    \n",
    "# Given that we want to compare the stringency of CVS, we created different definitions with 2,3,4 points needed\n",
    "\n",
    "graph_cvs_2_df = graph_cvs_df.copy()\n",
    "graph_cvs_3_df = graph_cvs_df.copy()\n",
    "graph_cvs_4_df = graph_cvs_df.copy()\n",
    "graph_cvs_5_df = graph_cvs_df.copy()\n",
    "for v in variables:\n",
    "    graph_cvs_2_df[v] = graph_cvs_df.apply(lambda row: binarize(2,row[v]), axis=1)\n",
    "    graph_cvs_3_df[v] = graph_cvs_df.apply(lambda row: binarize(3,row[v]), axis=1)\n",
    "    graph_cvs_4_df[v] = graph_cvs_df.apply(lambda row: binarize(4,row[v]), axis=1)\n",
    "    graph_cvs_5_df[v] = graph_cvs_df.apply(lambda row: binarize(5,row[v]), axis=1)\n",
    "\n",
    "table_cvs_2_df = table_cvs_df.copy()\n",
    "table_cvs_3_df = table_cvs_df.copy()\n",
    "table_cvs_4_df = table_cvs_df.copy()\n",
    "table_cvs_5_df = table_cvs_df.copy()\n",
    "for v in variables:\n",
    "    table_cvs_2_df[v] = table_cvs_df.apply(lambda row: binarize(2,row[v]), axis=1)\n",
    "    table_cvs_3_df[v] = table_cvs_df.apply(lambda row: binarize(3,row[v]), axis=1)\n",
    "    table_cvs_4_df[v] = table_cvs_df.apply(lambda row: binarize(4,row[v]), axis=1)\n",
    "    table_cvs_5_df[v] = table_cvs_df.apply(lambda row: binarize(5,row[v]), axis=1)"
   ]
  },
  {
   "cell_type": "code",
   "execution_count": 7,
   "metadata": {
    "collapsed": true,
    "hideCode": true,
    "hidePrompt": true
   },
   "outputs": [],
   "source": [
    "# table_intervals_df = pd.read_csv('table_intervals_results.txt', sep='\\t')"
   ]
  },
  {
   "cell_type": "markdown",
   "metadata": {
    "hideCode": true,
    "hidePrompt": true
   },
   "source": [
    "## Grabbing the worksheet data"
   ]
  },
  {
   "cell_type": "code",
   "execution_count": 8,
   "metadata": {
    "collapsed": true,
    "hideCode": true,
    "hidePrompt": true
   },
   "outputs": [],
   "source": [
    "%reload_ext utils_read_parsing\n",
    "#grab worksheet data\n",
    "worksheets = get_worksheet_metadata('beers')\n",
    "pre = get_pre_worksheet(sim='beers')\n",
    "main = get_main_worksheet(sim='beers')\n",
    "\n",
    "ids = get_students_to_analyze_log_worksheets('beers')\n",
    "pre= pre[pre['Student ID'].isin(worksheets[(worksheets['Type']=='p')&worksheets['Student ID'].isin(ids)]['other id'].values)]\n",
    "main= main[main['Student ID'].isin(worksheets[(worksheets['Type']=='m')&worksheets['Student ID'].isin(ids)]['other id'].values)]\n",
    "\n",
    "#ids in pre/post match \"other id\" in worksheet metdata so we need to assign the correct id in logs for each entry in pre/post\n",
    "pre['sid'] = pre['Student ID'].apply(lambda row: worksheets.loc[worksheets[(worksheets['other id']==row)].index[0],'Student ID'])\n",
    "main['sid'] = main['Student ID'].apply(lambda row: worksheets.loc[worksheets[worksheets['other id']==row].index[0],'Student ID'])\n",
    "\n",
    "# print len(ids),len(pre),len(main)"
   ]
  },
  {
   "cell_type": "code",
   "execution_count": 9,
   "metadata": {
    "collapsed": true,
    "hideCode": true,
    "hidePrompt": true
   },
   "outputs": [],
   "source": [
    "## make desired table for beers\n",
    "melted_pre = pd.melt(pre, id_vars=['sid'], value_vars=['Concentration','Width'], var_name='variable',value_name='pre')\n",
    "melted_main = pd.melt(main, id_vars=['sid'], value_vars=['Concentration','Width'], var_name='variable',value_name='main')\n",
    "\n",
    "L_scores = melted_pre.merge(melted_main, on=['sid','variable'], how='outer')\n",
    "L_scores['sim'] = 'L'\n",
    "\n",
    "L_scores['CVS_table_2'] = L_scores.apply(lambda row: table_cvs_2_df.loc[table_cvs_2_df[table_cvs_2_df['studentid']==row['sid']].index[0],row['variable']],axis=1)\n",
    "L_scores['CVS_graph_2'] = L_scores.apply(lambda row: graph_cvs_2_df.loc[graph_cvs_2_df[graph_cvs_2_df['studentid']==row['sid']].index[0],row['variable']],axis=1)\n",
    "\n",
    "L_scores['CVS_table_3'] = L_scores.apply(lambda row: table_cvs_3_df.loc[table_cvs_3_df[table_cvs_3_df['studentid']==row['sid']].index[0],row['variable']],axis=1)\n",
    "L_scores['CVS_graph_3'] = L_scores.apply(lambda row: graph_cvs_3_df.loc[graph_cvs_3_df[graph_cvs_3_df['studentid']==row['sid']].index[0],row['variable']],axis=1)\n",
    "\n",
    "L_scores['CVS_table_4'] = L_scores.apply(lambda row: table_cvs_4_df.loc[table_cvs_4_df[table_cvs_4_df['studentid']==row['sid']].index[0],row['variable']],axis=1)\n",
    "L_scores['CVS_graph_4'] = L_scores.apply(lambda row: graph_cvs_4_df.loc[graph_cvs_4_df[graph_cvs_4_df['studentid']==row['sid']].index[0],row['variable']],axis=1)\n",
    "\n",
    "L_scores['CVS_table_5'] = L_scores.apply(lambda row: table_cvs_5_df.loc[table_cvs_5_df[table_cvs_5_df['studentid']==row['sid']].index[0],row['variable']],axis=1)\n",
    "L_scores['CVS_graph_5'] = L_scores.apply(lambda row: graph_cvs_5_df.loc[graph_cvs_5_df[graph_cvs_5_df['studentid']==row['sid']].index[0],row['variable']],axis=1)\n",
    "\n",
    "\n",
    "L_scores['number_points_table'] = L_scores.apply(lambda row: table_cvs_df.loc[table_cvs_df[table_cvs_df['studentid']==row['sid']].index[0],row['variable']],axis=1)\n",
    "L_scores['number_points_graph'] = L_scores.apply(lambda row: graph_cvs_df.loc[graph_cvs_df[graph_cvs_df['studentid']==row['sid']].index[0],row['variable']],axis=1)\n",
    "\n",
    "L_scores['sim_index'] = L_scores.apply(lambda row: table_cvs_2_df.loc[table_cvs_2_df[table_cvs_2_df['studentid']==row['sid']].index[0],'activity order'].index(row['sim'])+1,axis=1)"
   ]
  },
  {
   "cell_type": "code",
   "execution_count": 10,
   "metadata": {
    "collapsed": true,
    "hideCode": true,
    "hidePrompt": true
   },
   "outputs": [],
   "source": [
    "# L_scores[L_scores['variable']=='Width'].describe()"
   ]
  },
  {
   "cell_type": "code",
   "execution_count": 11,
   "metadata": {
    "collapsed": true,
    "hideCode": true,
    "hidePrompt": true
   },
   "outputs": [],
   "source": [
    "%reload_ext utils_read_parsing\n",
    "#grab worksheet data\n",
    "worksheets = get_worksheet_metadata('caps')\n",
    "pre = get_pre_worksheet(sim='caps')\n",
    "main = get_main_worksheet(sim='caps')\n",
    "\n",
    "ids = get_students_to_analyze_log_worksheets('caps')\n",
    "pre= pre[pre['Student ID'].isin(worksheets[(worksheets['Type']=='p')&worksheets['Student ID'].isin(ids)]['other id'].values)]\n",
    "main= main[main['Student ID'].isin(worksheets[(worksheets['Type']=='m')&worksheets['Student ID'].isin(ids)]['other id'].values)]\n",
    "\n",
    "#ids in pre/post match \"other id\" in worksheet metdata so we need to assign the correct id in logs for each entry in pre/post\n",
    "pre['sid'] = pre['Student ID'].apply(lambda row: worksheets.loc[worksheets[(worksheets['other id']==row)].index[0],'Student ID'])\n",
    "main['sid'] = main['Student ID'].apply(lambda row: worksheets.loc[worksheets[worksheets['other id']==row].index[0],'Student ID'])\n",
    "\n",
    "# print len(ids),len(pre),len(main)"
   ]
  },
  {
   "cell_type": "code",
   "execution_count": 12,
   "metadata": {
    "collapsed": true,
    "hideCode": true,
    "hidePrompt": true
   },
   "outputs": [],
   "source": [
    "## make desired table for caps\n",
    "melted_pre = pd.melt(pre, id_vars=['sid'], value_vars=['Area','Separation'], var_name='variable',value_name='pre')\n",
    "melted_main = pd.melt(main, id_vars=['sid'], value_vars=['Area','Separation'], var_name='variable',value_name='main')\n",
    "\n",
    "C_scores = melted_pre.merge(melted_main, on=['sid','variable'], how='outer')\n",
    "C_scores['sim'] = 'C'\n",
    "C_scores['CVS_table_2'] = C_scores.apply(lambda row: table_cvs_2_df.loc[table_cvs_2_df[table_cvs_2_df['studentid']==row['sid']].index[0],row['variable']],axis=1)\n",
    "C_scores['CVS_graph_2'] = C_scores.apply(lambda row: graph_cvs_2_df.loc[graph_cvs_2_df[graph_cvs_2_df['studentid']==row['sid']].index[0],row['variable']],axis=1)\n",
    "\n",
    "C_scores['CVS_table_3'] = C_scores.apply(lambda row: table_cvs_3_df.loc[table_cvs_3_df[table_cvs_3_df['studentid']==row['sid']].index[0],row['variable']],axis=1)\n",
    "C_scores['CVS_graph_3'] = C_scores.apply(lambda row: graph_cvs_3_df.loc[graph_cvs_3_df[graph_cvs_3_df['studentid']==row['sid']].index[0],row['variable']],axis=1)\n",
    "\n",
    "C_scores['CVS_table_4'] = C_scores.apply(lambda row: table_cvs_4_df.loc[table_cvs_4_df[table_cvs_4_df['studentid']==row['sid']].index[0],row['variable']],axis=1)\n",
    "C_scores['CVS_graph_4'] = C_scores.apply(lambda row: graph_cvs_4_df.loc[graph_cvs_4_df[graph_cvs_4_df['studentid']==row['sid']].index[0],row['variable']],axis=1)\n",
    "\n",
    "C_scores['CVS_table_5'] = C_scores.apply(lambda row: table_cvs_5_df.loc[table_cvs_5_df[table_cvs_5_df['studentid']==row['sid']].index[0],row['variable']],axis=1)\n",
    "C_scores['CVS_graph_5'] = C_scores.apply(lambda row: graph_cvs_5_df.loc[graph_cvs_5_df[graph_cvs_5_df['studentid']==row['sid']].index[0],row['variable']],axis=1)\n",
    "\n",
    "C_scores['number_points_table'] = C_scores.apply(lambda row: table_cvs_df.loc[table_cvs_df[table_cvs_df['studentid']==row['sid']].index[0],row['variable']],axis=1)\n",
    "C_scores['number_points_graph'] = C_scores.apply(lambda row: graph_cvs_df.loc[graph_cvs_df[graph_cvs_df['studentid']==row['sid']].index[0],row['variable']],axis=1)\n",
    "\n",
    "C_scores['sim_index'] = C_scores.apply(lambda row: table_cvs_2_df.loc[table_cvs_2_df[table_cvs_2_df['studentid']==row['sid']].index[0],'activity order'].index(row['sim'])+1,axis=1)"
   ]
  },
  {
   "cell_type": "markdown",
   "metadata": {},
   "source": [
    "## Putting it all together"
   ]
  },
  {
   "cell_type": "code",
   "execution_count": 13,
   "metadata": {
    "collapsed": true,
    "hideCode": true,
    "hidePrompt": true
   },
   "outputs": [],
   "source": [
    "data = pd.concat([L_scores,C_scores])\n",
    "# data['intervals_in_table'] = data.apply(lambda row: table_intervals_df.loc[table_intervals_df[table_intervals_df['studentid']==row['sid']].index[0],row['variable']],axis=1)\n",
    "# data['CVS_table_only'] = data.apply(lambda row: row['CVS_table']*(1-row['CVS_graph']), axis = 1)\n",
    "data = data.reset_index(drop=True)"
   ]
  },
  {
   "cell_type": "markdown",
   "metadata": {},
   "source": [
    "## Adding wrapper use data"
   ]
  },
  {
   "cell_type": "code",
   "execution_count": 14,
   "metadata": {
    "collapsed": false
   },
   "outputs": [
    {
     "data": {
      "text/html": [
       "<div>\n",
       "<table border=\"1\" class=\"dataframe\">\n",
       "  <thead>\n",
       "    <tr style=\"text-align: right;\">\n",
       "      <th></th>\n",
       "      <th>use_table</th>\n",
       "      <th>use_graph</th>\n",
       "    </tr>\n",
       "  </thead>\n",
       "  <tbody>\n",
       "    <tr>\n",
       "      <th>count</th>\n",
       "      <td>592.0</td>\n",
       "      <td>592.000</td>\n",
       "    </tr>\n",
       "    <tr>\n",
       "      <th>mean</th>\n",
       "      <td>1.0</td>\n",
       "      <td>0.845</td>\n",
       "    </tr>\n",
       "    <tr>\n",
       "      <th>std</th>\n",
       "      <td>0.0</td>\n",
       "      <td>0.363</td>\n",
       "    </tr>\n",
       "    <tr>\n",
       "      <th>min</th>\n",
       "      <td>1.0</td>\n",
       "      <td>0.000</td>\n",
       "    </tr>\n",
       "    <tr>\n",
       "      <th>25%</th>\n",
       "      <td>1.0</td>\n",
       "      <td>1.000</td>\n",
       "    </tr>\n",
       "    <tr>\n",
       "      <th>50%</th>\n",
       "      <td>1.0</td>\n",
       "      <td>1.000</td>\n",
       "    </tr>\n",
       "    <tr>\n",
       "      <th>75%</th>\n",
       "      <td>1.0</td>\n",
       "      <td>1.000</td>\n",
       "    </tr>\n",
       "    <tr>\n",
       "      <th>max</th>\n",
       "      <td>1.0</td>\n",
       "      <td>1.000</td>\n",
       "    </tr>\n",
       "  </tbody>\n",
       "</table>\n",
       "</div>"
      ],
      "text/plain": [
       "       use_table  use_graph\n",
       "count      592.0    592.000\n",
       "mean         1.0      0.845\n",
       "std          0.0      0.363\n",
       "min          1.0      0.000\n",
       "25%          1.0      1.000\n",
       "50%          1.0      1.000\n",
       "75%          1.0      1.000\n",
       "max          1.0      1.000"
      ]
     },
     "execution_count": 14,
     "metadata": {},
     "output_type": "execute_result"
    }
   ],
   "source": [
    "use_wrapper_df = pd.read_csv('use_wrapper_results.txt', sep='\\t')\n",
    "data['use_table'] = data.apply(lambda row: use_wrapper_df.loc[use_wrapper_df[use_wrapper_df['studentid']==row['sid']].index[0],'use_table'], axis=1)\n",
    "data['use_graph'] = data.apply(lambda row: use_wrapper_df.loc[use_wrapper_df[use_wrapper_df['studentid']==row['sid']].index[0],'use_graph'], axis=1)\n",
    "data[['use_table','use_graph']].describe()"
   ]
  },
  {
   "cell_type": "markdown",
   "metadata": {},
   "source": [
    "Everyone uses the table once and 85% use the graph once. Lets redo the analysis only with students who used the graph"
   ]
  },
  {
   "cell_type": "markdown",
   "metadata": {},
   "source": [
    "## Adding pre-survey data"
   ]
  },
  {
   "cell_type": "code",
   "execution_count": 15,
   "metadata": {
    "collapsed": false
   },
   "outputs": [
    {
     "data": {
      "text/html": [
       "<div>\n",
       "<table border=\"1\" class=\"dataframe\">\n",
       "  <thead>\n",
       "    <tr style=\"text-align: right;\">\n",
       "      <th></th>\n",
       "      <th>Unnamed: 0</th>\n",
       "      <th>sid</th>\n",
       "      <th>level_experience_sims</th>\n",
       "      <th>similar_L</th>\n",
       "      <th>similar_C</th>\n",
       "      <th>experience_undergrad_labs</th>\n",
       "    </tr>\n",
       "  </thead>\n",
       "  <tbody>\n",
       "    <tr>\n",
       "      <th>0</th>\n",
       "      <td>5</td>\n",
       "      <td>77047160</td>\n",
       "      <td>2</td>\n",
       "      <td>0</td>\n",
       "      <td>0</td>\n",
       "      <td>1</td>\n",
       "    </tr>\n",
       "    <tr>\n",
       "      <th>1</th>\n",
       "      <td>6</td>\n",
       "      <td>23836160</td>\n",
       "      <td>0</td>\n",
       "      <td>0</td>\n",
       "      <td>0</td>\n",
       "      <td>1</td>\n",
       "    </tr>\n",
       "    <tr>\n",
       "      <th>2</th>\n",
       "      <td>7</td>\n",
       "      <td>64006159</td>\n",
       "      <td>1</td>\n",
       "      <td>0</td>\n",
       "      <td>0</td>\n",
       "      <td>1</td>\n",
       "    </tr>\n",
       "    <tr>\n",
       "      <th>3</th>\n",
       "      <td>8</td>\n",
       "      <td>24566161</td>\n",
       "      <td>3</td>\n",
       "      <td>0</td>\n",
       "      <td>1</td>\n",
       "      <td>1</td>\n",
       "    </tr>\n",
       "    <tr>\n",
       "      <th>4</th>\n",
       "      <td>9</td>\n",
       "      <td>46792161</td>\n",
       "      <td>2</td>\n",
       "      <td>1</td>\n",
       "      <td>0</td>\n",
       "      <td>1</td>\n",
       "    </tr>\n",
       "  </tbody>\n",
       "</table>\n",
       "</div>"
      ],
      "text/plain": [
       "   Unnamed: 0       sid  level_experience_sims  similar_L  similar_C  experience_undergrad_labs\n",
       "0           5  77047160                      2          0          0                          1\n",
       "1           6  23836160                      0          0          0                          1\n",
       "2           7  64006159                      1          0          0                          1\n",
       "3           8  24566161                      3          0          1                          1\n",
       "4           9  46792161                      2          1          0                          1"
      ]
     },
     "execution_count": 15,
     "metadata": {},
     "output_type": "execute_result"
    }
   ],
   "source": [
    "pre_survey_df = pd.read_csv('pre_survey_results.txt', sep='\\t')\n",
    "pre_survey_df.head()"
   ]
  },
  {
   "cell_type": "code",
   "execution_count": 16,
   "metadata": {
    "collapsed": true
   },
   "outputs": [],
   "source": [
    "data['level_experience_sims'] = data.apply(lambda row: pre_survey_df.loc[pre_survey_df[pre_survey_df['sid']==row['sid']].index[0],'level_experience_sims'], axis=1)\n",
    "data['experience_undergrad_labs'] = data.apply(lambda row: pre_survey_df.loc[pre_survey_df[pre_survey_df['sid']==row['sid']].index[0],'experience_undergrad_labs'], axis=1)\n",
    "data['used_similar_sim_L'] = data[data['sim']=='L'].apply(lambda row: pre_survey_df.loc[pre_survey_df[pre_survey_df['sid']==row['sid']].index[0],'similar_L'],axis=1)\n",
    "data['used_similar_sim_L'].fillna(0, inplace=True)\n",
    "data['used_similar_sim_C'] = data[data['sim']=='C'].apply(lambda row: pre_survey_df.loc[pre_survey_df[pre_survey_df['sid']==row['sid']].index[0],'similar_C'],axis=1)\n",
    "data['used_similar_sim_C'].fillna(0, inplace=True)\n",
    "data['used_similar_sim'] = data['used_similar_sim_L'] + data['used_similar_sim_C']"
   ]
  },
  {
   "cell_type": "markdown",
   "metadata": {},
   "source": [
    "We add a \"CVS_levels\" column to our data (graph=2, table=1, none=0)"
   ]
  },
  {
   "cell_type": "code",
   "execution_count": 17,
   "metadata": {
    "collapsed": false
   },
   "outputs": [
    {
     "name": "stdout",
     "output_type": "stream",
     "text": [
      "(0, 27)\n",
      "(0, 27)\n",
      "(1, 27)\n",
      "(0, 27)\n"
     ]
    }
   ],
   "source": [
    "data['CVS_levels_2']=0\n",
    "data['CVS_levels_3']=0\n",
    "data['CVS_levels_4']=0\n",
    "data['CVS_levels_5']=0\n",
    "# data['CVS_table_only'] = data.apply(lambda row: row['CVS_table']*(1-row['CVS_graph']), axis = 1)\n",
    "data['CVS_levels_2']=data['CVS_table_2']+data['CVS_graph_2']\n",
    "data['CVS_levels_3']=data['CVS_table_3']+data['CVS_graph_3']\n",
    "data['CVS_levels_4']=data['CVS_table_4']+data['CVS_graph_4']\n",
    "data['CVS_levels_5']=data['CVS_table_5']+data['CVS_graph_5']\n",
    "print data[(data['CVS_table_2']==0)&(data['CVS_graph_2']==1)].shape\n",
    "print data[(data['CVS_table_3']==0)&(data['CVS_graph_3']==1)].shape\n",
    "print data[(data['CVS_table_4']==0)&(data['CVS_graph_4']==1)].shape\n",
    "print data[(data['CVS_table_5']==0)&(data['CVS_graph_5']==1)].shape"
   ]
  },
  {
   "cell_type": "code",
   "execution_count": 18,
   "metadata": {
    "collapsed": false
   },
   "outputs": [
    {
     "data": {
      "text/html": [
       "<div>\n",
       "<table border=\"1\" class=\"dataframe\">\n",
       "  <thead>\n",
       "    <tr style=\"text-align: right;\">\n",
       "      <th></th>\n",
       "      <th>sid</th>\n",
       "      <th>variable</th>\n",
       "      <th>pre</th>\n",
       "      <th>main</th>\n",
       "      <th>sim</th>\n",
       "      <th>CVS_table_2</th>\n",
       "      <th>CVS_graph_2</th>\n",
       "      <th>CVS_table_3</th>\n",
       "      <th>CVS_graph_3</th>\n",
       "      <th>CVS_table_4</th>\n",
       "      <th>...</th>\n",
       "      <th>use_graph</th>\n",
       "      <th>level_experience_sims</th>\n",
       "      <th>experience_undergrad_labs</th>\n",
       "      <th>used_similar_sim_L</th>\n",
       "      <th>used_similar_sim_C</th>\n",
       "      <th>used_similar_sim</th>\n",
       "      <th>CVS_levels_2</th>\n",
       "      <th>CVS_levels_3</th>\n",
       "      <th>CVS_levels_4</th>\n",
       "      <th>CVS_levels_5</th>\n",
       "    </tr>\n",
       "  </thead>\n",
       "  <tbody>\n",
       "    <tr>\n",
       "      <th>0</th>\n",
       "      <td>10127163</td>\n",
       "      <td>Concentration</td>\n",
       "      <td>1.0</td>\n",
       "      <td>3.0</td>\n",
       "      <td>L</td>\n",
       "      <td>1</td>\n",
       "      <td>1</td>\n",
       "      <td>1</td>\n",
       "      <td>1</td>\n",
       "      <td>1</td>\n",
       "      <td>...</td>\n",
       "      <td>1</td>\n",
       "      <td>1</td>\n",
       "      <td>1</td>\n",
       "      <td>0.0</td>\n",
       "      <td>0.0</td>\n",
       "      <td>0.0</td>\n",
       "      <td>2</td>\n",
       "      <td>2</td>\n",
       "      <td>2</td>\n",
       "      <td>2</td>\n",
       "    </tr>\n",
       "    <tr>\n",
       "      <th>148</th>\n",
       "      <td>10127163</td>\n",
       "      <td>Width</td>\n",
       "      <td>1.0</td>\n",
       "      <td>3.0</td>\n",
       "      <td>L</td>\n",
       "      <td>1</td>\n",
       "      <td>1</td>\n",
       "      <td>1</td>\n",
       "      <td>1</td>\n",
       "      <td>1</td>\n",
       "      <td>...</td>\n",
       "      <td>1</td>\n",
       "      <td>1</td>\n",
       "      <td>1</td>\n",
       "      <td>0.0</td>\n",
       "      <td>0.0</td>\n",
       "      <td>0.0</td>\n",
       "      <td>2</td>\n",
       "      <td>2</td>\n",
       "      <td>2</td>\n",
       "      <td>2</td>\n",
       "    </tr>\n",
       "    <tr>\n",
       "      <th>296</th>\n",
       "      <td>10127163</td>\n",
       "      <td>Area</td>\n",
       "      <td>3.0</td>\n",
       "      <td>3.0</td>\n",
       "      <td>C</td>\n",
       "      <td>1</td>\n",
       "      <td>1</td>\n",
       "      <td>1</td>\n",
       "      <td>1</td>\n",
       "      <td>1</td>\n",
       "      <td>...</td>\n",
       "      <td>1</td>\n",
       "      <td>1</td>\n",
       "      <td>1</td>\n",
       "      <td>0.0</td>\n",
       "      <td>0.0</td>\n",
       "      <td>0.0</td>\n",
       "      <td>2</td>\n",
       "      <td>2</td>\n",
       "      <td>2</td>\n",
       "      <td>2</td>\n",
       "    </tr>\n",
       "    <tr>\n",
       "      <th>444</th>\n",
       "      <td>10127163</td>\n",
       "      <td>Separation</td>\n",
       "      <td>3.0</td>\n",
       "      <td>3.0</td>\n",
       "      <td>C</td>\n",
       "      <td>1</td>\n",
       "      <td>1</td>\n",
       "      <td>1</td>\n",
       "      <td>1</td>\n",
       "      <td>1</td>\n",
       "      <td>...</td>\n",
       "      <td>1</td>\n",
       "      <td>1</td>\n",
       "      <td>1</td>\n",
       "      <td>0.0</td>\n",
       "      <td>0.0</td>\n",
       "      <td>0.0</td>\n",
       "      <td>2</td>\n",
       "      <td>2</td>\n",
       "      <td>2</td>\n",
       "      <td>2</td>\n",
       "    </tr>\n",
       "    <tr>\n",
       "      <th>538</th>\n",
       "      <td>10192168</td>\n",
       "      <td>Separation</td>\n",
       "      <td>1.0</td>\n",
       "      <td>2.0</td>\n",
       "      <td>C</td>\n",
       "      <td>1</td>\n",
       "      <td>1</td>\n",
       "      <td>1</td>\n",
       "      <td>1</td>\n",
       "      <td>1</td>\n",
       "      <td>...</td>\n",
       "      <td>1</td>\n",
       "      <td>1</td>\n",
       "      <td>1</td>\n",
       "      <td>0.0</td>\n",
       "      <td>0.0</td>\n",
       "      <td>0.0</td>\n",
       "      <td>2</td>\n",
       "      <td>2</td>\n",
       "      <td>2</td>\n",
       "      <td>0</td>\n",
       "    </tr>\n",
       "    <tr>\n",
       "      <th>96</th>\n",
       "      <td>10192168</td>\n",
       "      <td>Concentration</td>\n",
       "      <td>1.0</td>\n",
       "      <td>3.0</td>\n",
       "      <td>L</td>\n",
       "      <td>1</td>\n",
       "      <td>1</td>\n",
       "      <td>1</td>\n",
       "      <td>1</td>\n",
       "      <td>1</td>\n",
       "      <td>...</td>\n",
       "      <td>1</td>\n",
       "      <td>1</td>\n",
       "      <td>1</td>\n",
       "      <td>0.0</td>\n",
       "      <td>0.0</td>\n",
       "      <td>0.0</td>\n",
       "      <td>2</td>\n",
       "      <td>2</td>\n",
       "      <td>2</td>\n",
       "      <td>2</td>\n",
       "    </tr>\n",
       "    <tr>\n",
       "      <th>390</th>\n",
       "      <td>10192168</td>\n",
       "      <td>Area</td>\n",
       "      <td>1.0</td>\n",
       "      <td>2.0</td>\n",
       "      <td>C</td>\n",
       "      <td>1</td>\n",
       "      <td>0</td>\n",
       "      <td>0</td>\n",
       "      <td>0</td>\n",
       "      <td>0</td>\n",
       "      <td>...</td>\n",
       "      <td>1</td>\n",
       "      <td>1</td>\n",
       "      <td>1</td>\n",
       "      <td>0.0</td>\n",
       "      <td>0.0</td>\n",
       "      <td>0.0</td>\n",
       "      <td>1</td>\n",
       "      <td>0</td>\n",
       "      <td>0</td>\n",
       "      <td>0</td>\n",
       "    </tr>\n",
       "    <tr>\n",
       "      <th>244</th>\n",
       "      <td>10192168</td>\n",
       "      <td>Width</td>\n",
       "      <td>1.0</td>\n",
       "      <td>0.0</td>\n",
       "      <td>L</td>\n",
       "      <td>1</td>\n",
       "      <td>0</td>\n",
       "      <td>1</td>\n",
       "      <td>0</td>\n",
       "      <td>1</td>\n",
       "      <td>...</td>\n",
       "      <td>1</td>\n",
       "      <td>1</td>\n",
       "      <td>1</td>\n",
       "      <td>0.0</td>\n",
       "      <td>0.0</td>\n",
       "      <td>0.0</td>\n",
       "      <td>1</td>\n",
       "      <td>1</td>\n",
       "      <td>1</td>\n",
       "      <td>1</td>\n",
       "    </tr>\n",
       "    <tr>\n",
       "      <th>1</th>\n",
       "      <td>10232160</td>\n",
       "      <td>Concentration</td>\n",
       "      <td>1.0</td>\n",
       "      <td>1.0</td>\n",
       "      <td>L</td>\n",
       "      <td>1</td>\n",
       "      <td>1</td>\n",
       "      <td>1</td>\n",
       "      <td>1</td>\n",
       "      <td>1</td>\n",
       "      <td>...</td>\n",
       "      <td>1</td>\n",
       "      <td>1</td>\n",
       "      <td>1</td>\n",
       "      <td>1.0</td>\n",
       "      <td>0.0</td>\n",
       "      <td>1.0</td>\n",
       "      <td>2</td>\n",
       "      <td>2</td>\n",
       "      <td>2</td>\n",
       "      <td>0</td>\n",
       "    </tr>\n",
       "    <tr>\n",
       "      <th>149</th>\n",
       "      <td>10232160</td>\n",
       "      <td>Width</td>\n",
       "      <td>1.0</td>\n",
       "      <td>1.0</td>\n",
       "      <td>L</td>\n",
       "      <td>0</td>\n",
       "      <td>0</td>\n",
       "      <td>0</td>\n",
       "      <td>0</td>\n",
       "      <td>0</td>\n",
       "      <td>...</td>\n",
       "      <td>1</td>\n",
       "      <td>1</td>\n",
       "      <td>1</td>\n",
       "      <td>1.0</td>\n",
       "      <td>0.0</td>\n",
       "      <td>1.0</td>\n",
       "      <td>0</td>\n",
       "      <td>0</td>\n",
       "      <td>0</td>\n",
       "      <td>0</td>\n",
       "    </tr>\n",
       "    <tr>\n",
       "      <th>445</th>\n",
       "      <td>10232160</td>\n",
       "      <td>Separation</td>\n",
       "      <td>1.0</td>\n",
       "      <td>3.0</td>\n",
       "      <td>C</td>\n",
       "      <td>1</td>\n",
       "      <td>1</td>\n",
       "      <td>1</td>\n",
       "      <td>1</td>\n",
       "      <td>1</td>\n",
       "      <td>...</td>\n",
       "      <td>1</td>\n",
       "      <td>1</td>\n",
       "      <td>1</td>\n",
       "      <td>0.0</td>\n",
       "      <td>0.0</td>\n",
       "      <td>0.0</td>\n",
       "      <td>2</td>\n",
       "      <td>2</td>\n",
       "      <td>2</td>\n",
       "      <td>1</td>\n",
       "    </tr>\n",
       "    <tr>\n",
       "      <th>297</th>\n",
       "      <td>10232160</td>\n",
       "      <td>Area</td>\n",
       "      <td>1.0</td>\n",
       "      <td>3.0</td>\n",
       "      <td>C</td>\n",
       "      <td>1</td>\n",
       "      <td>1</td>\n",
       "      <td>1</td>\n",
       "      <td>1</td>\n",
       "      <td>1</td>\n",
       "      <td>...</td>\n",
       "      <td>1</td>\n",
       "      <td>1</td>\n",
       "      <td>1</td>\n",
       "      <td>0.0</td>\n",
       "      <td>0.0</td>\n",
       "      <td>0.0</td>\n",
       "      <td>2</td>\n",
       "      <td>2</td>\n",
       "      <td>2</td>\n",
       "      <td>2</td>\n",
       "    </tr>\n",
       "  </tbody>\n",
       "</table>\n",
       "<p>12 rows × 27 columns</p>\n",
       "</div>"
      ],
      "text/plain": [
       "          sid       variable  pre  main sim  CVS_table_2  CVS_graph_2  CVS_table_3  CVS_graph_3  \\\n",
       "0    10127163  Concentration  1.0   3.0   L            1            1            1            1   \n",
       "148  10127163          Width  1.0   3.0   L            1            1            1            1   \n",
       "296  10127163           Area  3.0   3.0   C            1            1            1            1   \n",
       "444  10127163     Separation  3.0   3.0   C            1            1            1            1   \n",
       "538  10192168     Separation  1.0   2.0   C            1            1            1            1   \n",
       "96   10192168  Concentration  1.0   3.0   L            1            1            1            1   \n",
       "390  10192168           Area  1.0   2.0   C            1            0            0            0   \n",
       "244  10192168          Width  1.0   0.0   L            1            0            1            0   \n",
       "1    10232160  Concentration  1.0   1.0   L            1            1            1            1   \n",
       "149  10232160          Width  1.0   1.0   L            0            0            0            0   \n",
       "445  10232160     Separation  1.0   3.0   C            1            1            1            1   \n",
       "297  10232160           Area  1.0   3.0   C            1            1            1            1   \n",
       "\n",
       "     CVS_table_4      ...       use_graph  level_experience_sims  experience_undergrad_labs  \\\n",
       "0              1      ...               1                      1                          1   \n",
       "148            1      ...               1                      1                          1   \n",
       "296            1      ...               1                      1                          1   \n",
       "444            1      ...               1                      1                          1   \n",
       "538            1      ...               1                      1                          1   \n",
       "96             1      ...               1                      1                          1   \n",
       "390            0      ...               1                      1                          1   \n",
       "244            1      ...               1                      1                          1   \n",
       "1              1      ...               1                      1                          1   \n",
       "149            0      ...               1                      1                          1   \n",
       "445            1      ...               1                      1                          1   \n",
       "297            1      ...               1                      1                          1   \n",
       "\n",
       "     used_similar_sim_L  used_similar_sim_C  used_similar_sim  CVS_levels_2  CVS_levels_3  \\\n",
       "0                   0.0                 0.0               0.0             2             2   \n",
       "148                 0.0                 0.0               0.0             2             2   \n",
       "296                 0.0                 0.0               0.0             2             2   \n",
       "444                 0.0                 0.0               0.0             2             2   \n",
       "538                 0.0                 0.0               0.0             2             2   \n",
       "96                  0.0                 0.0               0.0             2             2   \n",
       "390                 0.0                 0.0               0.0             1             0   \n",
       "244                 0.0                 0.0               0.0             1             1   \n",
       "1                   1.0                 0.0               1.0             2             2   \n",
       "149                 1.0                 0.0               1.0             0             0   \n",
       "445                 0.0                 0.0               0.0             2             2   \n",
       "297                 0.0                 0.0               0.0             2             2   \n",
       "\n",
       "     CVS_levels_4  CVS_levels_5  \n",
       "0               2             2  \n",
       "148             2             2  \n",
       "296             2             2  \n",
       "444             2             2  \n",
       "538             2             0  \n",
       "96              2             2  \n",
       "390             0             0  \n",
       "244             1             1  \n",
       "1               2             0  \n",
       "149             0             0  \n",
       "445             2             1  \n",
       "297             2             2  \n",
       "\n",
       "[12 rows x 27 columns]"
      ]
     },
     "execution_count": 18,
     "metadata": {},
     "output_type": "execute_result"
    }
   ],
   "source": [
    "data.sort_values('sid').head(12)"
   ]
  },
  {
   "cell_type": "code",
   "execution_count": 19,
   "metadata": {
    "collapsed": false
   },
   "outputs": [
    {
     "data": {
      "text/plain": [
       "array([[<matplotlib.axes._subplots.AxesSubplot object at 0x000000000D1F9CC0>,\n",
       "        <matplotlib.axes._subplots.AxesSubplot object at 0x000000000CCA87F0>,\n",
       "        <matplotlib.axes._subplots.AxesSubplot object at 0x000000000CB1CBE0>,\n",
       "        <matplotlib.axes._subplots.AxesSubplot object at 0x000000000D42FAC8>,\n",
       "        <matplotlib.axes._subplots.AxesSubplot object at 0x000000000D4F5470>],\n",
       "       [<matplotlib.axes._subplots.AxesSubplot object at 0x000000000D5A4080>,\n",
       "        <matplotlib.axes._subplots.AxesSubplot object at 0x000000000D6DFCC0>,\n",
       "        <matplotlib.axes._subplots.AxesSubplot object at 0x000000000D789C88>,\n",
       "        <matplotlib.axes._subplots.AxesSubplot object at 0x000000000D84DB70>,\n",
       "        <matplotlib.axes._subplots.AxesSubplot object at 0x000000000D7FEE10>],\n",
       "       [<matplotlib.axes._subplots.AxesSubplot object at 0x000000000DA48128>,\n",
       "        <matplotlib.axes._subplots.AxesSubplot object at 0x000000000DB45D68>,\n",
       "        <matplotlib.axes._subplots.AxesSubplot object at 0x000000000DBB0160>,\n",
       "        <matplotlib.axes._subplots.AxesSubplot object at 0x000000000DCAC9E8>,\n",
       "        <matplotlib.axes._subplots.AxesSubplot object at 0x000000000DD9D710>],\n",
       "       [<matplotlib.axes._subplots.AxesSubplot object at 0x000000000DE5BF28>,\n",
       "        <matplotlib.axes._subplots.AxesSubplot object at 0x000000000DF289B0>,\n",
       "        <matplotlib.axes._subplots.AxesSubplot object at 0x000000000E00DB70>,\n",
       "        <matplotlib.axes._subplots.AxesSubplot object at 0x000000000E2E57F0>,\n",
       "        <matplotlib.axes._subplots.AxesSubplot object at 0x000000000E38C7B8>],\n",
       "       [<matplotlib.axes._subplots.AxesSubplot object at 0x000000000E496240>,\n",
       "        <matplotlib.axes._subplots.AxesSubplot object at 0x000000000E3A80B8>,\n",
       "        <matplotlib.axes._subplots.AxesSubplot object at 0x000000000E64EC50>,\n",
       "        <matplotlib.axes._subplots.AxesSubplot object at 0x000000000E715518>,\n",
       "        <matplotlib.axes._subplots.AxesSubplot object at 0x000000000E7FBB38>]], dtype=object)"
      ]
     },
     "execution_count": 19,
     "metadata": {},
     "output_type": "execute_result"
    },
    {
     "data": {
      "image/png": "[encoded data removed]",
      "text/plain": [
       "<matplotlib.figure.Figure at 0xd1f9d68>"
      ]
     },
     "metadata": {},
     "output_type": "display_data"
    }
   ],
   "source": [
    "data.hist()"
   ]
  },
  {
   "cell_type": "markdown",
   "metadata": {},
   "source": [
    "## Exporting the data"
   ]
  },
  {
   "cell_type": "code",
   "execution_count": 20,
   "metadata": {
    "collapsed": true
   },
   "outputs": [],
   "source": [
    "# export_data = data[[\"sid\",\"variable\",\"pre\",\"main\",\"sim\",\"CVS_graph\",\"sim_index\"]]\n",
    "export_data = data.copy()\n",
    "export_data.to_csv('dataframe_all_factors_by_student_x_variable.csv')"
   ]
  },
  {
   "cell_type": "markdown",
   "metadata": {
    "hideCode": true,
    "hidePrompt": true
   },
   "source": [
    "## Stats tools and multicollinearity check"
   ]
  },
  {
   "cell_type": "code",
   "execution_count": 83,
   "metadata": {
    "collapsed": true,
    "hideCode": true,
    "hidePrompt": true
   },
   "outputs": [],
   "source": [
    "def eta_squared(aov):\n",
    "    aov['eta_sq'] = 'NaN'\n",
    "    aov['eta_sq'] = aov[:-1]['sum_sq']/sum(aov['sum_sq'])\n",
    "    return aov\n",
    " \n",
    "def omega_squared(aov):\n",
    "    mse = aov['sum_sq'][-1]/aov['df'][-1]\n",
    "    aov['omega_sq'] = 'NaN'\n",
    "    aov['omega_sq'] = (aov[:-1]['sum_sq']-(aov[:-1]['df']*mse))/(sum(aov['sum_sq'])+mse)\n",
    "    return aov\n",
    "\n",
    "def clean_summary(model):\n",
    "    m = model.summary()\n",
    "    lines = m.as_text().split('\\n')\n",
    "    lines = [l for l in lines if 'C(sid)' not in l]\n",
    "    return '\\n'.join(lines)"
   ]
  },
  {
   "cell_type": "code",
   "execution_count": 22,
   "metadata": {
    "collapsed": true,
    "hideCode": true,
    "hidePrompt": true
   },
   "outputs": [],
   "source": [
    "# from scipy import stats\n",
    "# print \"Correlation coeff for table and graph CVS:\", stats.spearmanr(data['CVS_table'],data['CVS_graph'])\n",
    "# #Let's measure the variance inflation factor of including both CVS table and graph in the same models:\n",
    "# formula = 'CVS_table ~ CVS_graph + pre + C(variable) + sim_index + C(sim) '\n",
    "# print 'model: ', formula,'\\n'\n",
    "# from patsy import dmatrices\n",
    "# Y, X = dmatrices(formula, data, return_type = 'dataframe')\n",
    "# # print X.columns\n",
    "# logit = Logit(Y, X)\n",
    "# model = logit.fit()\n",
    "# print model.summary()\n",
    "# # print model.params\n",
    "# R2 = 0.4225\n",
    "# VIF = 1.0/(1-R2)\n",
    "# VIF\n",
    "\n",
    "## A VIF of 1.73 tells us that the variance (the square of the standard error) of a particular coefficient is 73% larger than it would be if that predictor was completely uncorrelated with all the other predictors. According to [this website](https://statisticalhorizons.com/multicollinearity), a VIF of 2.6 or higher is worrisome."
   ]
  },
  {
   "cell_type": "markdown",
   "metadata": {
    "hideCode": true,
    "hidePrompt": true
   },
   "source": [
    "# Results to present in methods\n",
    "## Student population"
   ]
  },
  {
   "cell_type": "code",
   "execution_count": 23,
   "metadata": {
    "collapsed": false,
    "hideCode": true,
    "hidePrompt": true
   },
   "outputs": [
    {
     "name": "stdout",
     "output_type": "stream",
     "text": [
      "The study includes 148 students\n"
     ]
    }
   ],
   "source": [
    "N = len(set(data['sid']))\n",
    "print \"The study includes {0} students\".format(N)"
   ]
  },
  {
   "cell_type": "code",
   "execution_count": 24,
   "metadata": {
    "collapsed": false,
    "hideCode": true,
    "hidePrompt": true
   },
   "outputs": [
    {
     "name": "stdout",
     "output_type": "stream",
     "text": [
      " [Woman] 96 64.9\n",
      " [Man] 50 33.8\n",
      " [Gender non conforming/non-binary] 1 0.7\n",
      " [Trans*] 0 0.0\n",
      " [Rather specify:] 0 0.0\n",
      " [Rather specify:] [text] 0 0.0\n",
      " [Prefer not to answer] 1 0.7\n"
     ]
    }
   ],
   "source": [
    "posts = get_all_posts_surveys()\n",
    "genders = ['gender','[gender] To which gender do you most identify? [Man]','[gender] To which gender do you most identify? [Gender non conforming/non-binary]','[gender] To which gender do you most identify? [Trans*]','[gender] To which gender do you most identify? [Rather specify:]','[gender] To which gender do you most identify? [Rather specify:] [text]','[gender] To which gender do you most identify? [Prefer not to answer]']\n",
    "for g in genders:\n",
    "    if '?' in g:\n",
    "        gender = g.split('?')[1]\n",
    "    else:\n",
    "        gender = ' [Woman]'\n",
    "    print gender, len(set(posts[posts[g]==1]['sid'])), round(len(set(posts[posts[g]==1]['sid']))/float(N)*100,1)"
   ]
  },
  {
   "cell_type": "markdown",
   "metadata": {
    "hideCode": true,
    "hidePrompt": true
   },
   "source": [
    "## Student prior experience"
   ]
  },
  {
   "cell_type": "code",
   "execution_count": 25,
   "metadata": {
    "collapsed": false,
    "hideCode": true,
    "hidePrompt": true
   },
   "outputs": [
    {
     "data": {
      "text/plain": [
       "array([[<matplotlib.axes._subplots.AxesSubplot object at 0x00000000111D7048>]], dtype=object)"
      ]
     },
     "execution_count": 25,
     "metadata": {},
     "output_type": "execute_result"
    },
    {
     "data": {
      "image/png": "[encoded data removed]",
      "text/plain": [
       "<matplotlib.figure.Figure at 0x110a99b0>"
      ]
     },
     "metadata": {},
     "output_type": "display_data"
    }
   ],
   "source": [
    "# print 'experience in virtual labs in general'\n",
    "pd.pivot_table(data, values=['experience_undergrad_labs'], index=['sid'],aggfunc=np.sum)[['experience_undergrad_labs']].hist()"
   ]
  },
  {
   "cell_type": "code",
   "execution_count": 26,
   "metadata": {
    "collapsed": false
   },
   "outputs": [
    {
     "name": "stdout",
     "output_type": "stream",
     "text": [
      "where:\n",
      " 0 -> None\n",
      " 1 -> 1-2 (roughly)\n",
      " 2 -> 3-5 (roughly)\n",
      " 3 -> 6+ (roughly)\n"
     ]
    },
    {
     "data": {
      "image/png": "[encoded data removed]",
      "text/plain": [
       "<matplotlib.figure.Figure at 0x116b5a58>"
      ]
     },
     "metadata": {},
     "output_type": "display_data"
    }
   ],
   "source": [
    "pd.pivot_table(data, values=['level_experience_sims'], index=['sid'],aggfunc=sum)[['level_experience_sims']].hist()\n",
    "print '''where:\n",
    " 0 -> None\n",
    " 1 -> 1-2 (roughly)\n",
    " 2 -> 3-5 (roughly)\n",
    " 3 -> 6+ (roughly)'''"
   ]
  },
  {
   "cell_type": "code",
   "execution_count": 27,
   "metadata": {
    "collapsed": false,
    "hideCode": true,
    "hidePrompt": true
   },
   "outputs": [
    {
     "data": {
      "text/plain": [
       "array([[<matplotlib.axes._subplots.AxesSubplot object at 0x0000000011600EB8>,\n",
       "        <matplotlib.axes._subplots.AxesSubplot object at 0x0000000011A89518>]], dtype=object)"
      ]
     },
     "execution_count": 27,
     "metadata": {},
     "output_type": "execute_result"
    },
    {
     "data": {
      "image/png": "[encoded data removed]",
      "text/plain": [
       "<matplotlib.figure.Figure at 0x1160ac50>"
      ]
     },
     "metadata": {},
     "output_type": "display_data"
    }
   ],
   "source": [
    "# print  'experience in virtual labs teaching light absorbance or capacitors before'\n",
    "pd.pivot_table(data, values=['used_similar_sim_C','used_similar_sim_L'], index=['sid'],aggfunc=np.sum)[['used_similar_sim_C','used_similar_sim_L']].hist(sharey=True)"
   ]
  },
  {
   "cell_type": "markdown",
   "metadata": {
    "hideCode": true,
    "hidePrompt": true
   },
   "source": [
    "# Learning through inquiry\n",
    "## Overall"
   ]
  },
  {
   "cell_type": "markdown",
   "metadata": {
    "hideCode": true,
    "hidePrompt": true
   },
   "source": [
    "Let's look at pre to post to see if students learn.\n",
    "\n",
    "Right now we have 4 entries per student and add \"variable\" to the model."
   ]
  },
  {
   "cell_type": "code",
   "execution_count": 28,
   "metadata": {
    "collapsed": false,
    "hideCode": true,
    "hidePrompt": true
   },
   "outputs": [
    {
     "data": {
      "text/html": [
       "<div>\n",
       "<table border=\"1\" class=\"dataframe\">\n",
       "  <thead>\n",
       "    <tr style=\"text-align: right;\">\n",
       "      <th></th>\n",
       "      <th>variable</th>\n",
       "      <th>main</th>\n",
       "      <th>pre</th>\n",
       "      <th>sid</th>\n",
       "    </tr>\n",
       "    <tr>\n",
       "      <th>variable</th>\n",
       "      <th></th>\n",
       "      <th></th>\n",
       "      <th></th>\n",
       "      <th></th>\n",
       "    </tr>\n",
       "  </thead>\n",
       "  <tbody>\n",
       "    <tr>\n",
       "      <th>Area</th>\n",
       "      <td>Area</td>\n",
       "      <td>3.0</td>\n",
       "      <td>3.0</td>\n",
       "      <td>10127163</td>\n",
       "    </tr>\n",
       "    <tr>\n",
       "      <th>Area</th>\n",
       "      <td>Area</td>\n",
       "      <td>2.0</td>\n",
       "      <td>1.0</td>\n",
       "      <td>10192168</td>\n",
       "    </tr>\n",
       "    <tr>\n",
       "      <th>Area</th>\n",
       "      <td>Area</td>\n",
       "      <td>3.0</td>\n",
       "      <td>1.0</td>\n",
       "      <td>10232160</td>\n",
       "    </tr>\n",
       "    <tr>\n",
       "      <th>Area</th>\n",
       "      <td>Area</td>\n",
       "      <td>3.0</td>\n",
       "      <td>1.0</td>\n",
       "      <td>10375163</td>\n",
       "    </tr>\n",
       "    <tr>\n",
       "      <th>Area</th>\n",
       "      <td>Area</td>\n",
       "      <td>3.0</td>\n",
       "      <td>2.0</td>\n",
       "      <td>10420167</td>\n",
       "    </tr>\n",
       "  </tbody>\n",
       "</table>\n",
       "</div>"
      ],
      "text/plain": [
       "         variable  main  pre       sid\n",
       "variable                              \n",
       "Area         Area   3.0  3.0  10127163\n",
       "Area         Area   2.0  1.0  10192168\n",
       "Area         Area   3.0  1.0  10232160\n",
       "Area         Area   3.0  1.0  10375163\n",
       "Area         Area   3.0  2.0  10420167"
      ]
     },
     "execution_count": 28,
     "metadata": {},
     "output_type": "execute_result"
    }
   ],
   "source": [
    "scores = pd.pivot_table(data, values=['pre','main'], index=['variable','sid'],aggfunc=np.mean)\n",
    "scores.reset_index(level=0, inplace=True)\n",
    "scores['sid']=scores.index\n",
    "scores.index = scores['variable']\n",
    "scores.head()"
   ]
  },
  {
   "cell_type": "code",
   "execution_count": 29,
   "metadata": {
    "collapsed": false,
    "hideCode": true,
    "hidePrompt": true,
    "scrolled": true
   },
   "outputs": [
    {
     "name": "stdout",
     "output_type": "stream",
     "text": [
      "-------------  -------------  ------------  ------------  -------  -----------\n",
      "Variable       pre score      main score    Sum of ranks  p-value  effect size\n",
      "Width          $1.03\\pm0.83$  $2.32pm0.75$  -10.61        0.0001   0.87\n",
      "Concentration  $1.31\\pm0.79$  $2.39pm0.64$  -9.91         0.0001   0.81\n",
      "Area           $1.24\\pm0.82$  $2.28pm0.71$  -9.51         0.0001   0.78\n",
      "Separation     $1.32\\pm0.79$  $2.19pm0.68$  -8.35         0.0001   0.69\n",
      "-------------  -------------  ------------  ------------  -------  -----------\n"
     ]
    },
    {
     "data": {
      "text/plain": [
       "u'\\\\begin{tabular}{llllll}\\n\\\\hline\\n Variable      & pre score     & main score   & Sum of ranks & p-value & effect size \\\\\\\\\\n Width         & \\\\$1.03\\\\textbackslash{}pm0.83\\\\$ & \\\\$2.32pm0.75\\\\$ & -10.61       & 0.0001  & 0.87        \\\\\\\\\\n Concentration & \\\\$1.31\\\\textbackslash{}pm0.79\\\\$ & \\\\$2.39pm0.64\\\\$ & -9.91        & 0.0001  & 0.81        \\\\\\\\\\n Area          & \\\\$1.24\\\\textbackslash{}pm0.82\\\\$ & \\\\$2.28pm0.71\\\\$ & -9.51        & 0.0001  & 0.78        \\\\\\\\\\n Separation    & \\\\$1.32\\\\textbackslash{}pm0.79\\\\$ & \\\\$2.19pm0.68\\\\$ & -8.35        & 0.0001  & 0.69        \\\\\\\\\\n\\\\hline\\n\\\\end{tabular}'"
      ]
     },
     "execution_count": 29,
     "metadata": {},
     "output_type": "execute_result"
    }
   ],
   "source": [
    "t = [['Variable','pre score','main score','Sum of ranks','p-value','effect size']]\n",
    "for variable in ['Width','Concentration','Area','Separation']:\n",
    "    pm = round(np.mean(scores.loc[variable]['pre']),2)\n",
    "    ps = round(np.std(scores.loc[variable]['pre']),2)\n",
    "    mm = round(np.mean(scores.loc[variable]['main']),2)\n",
    "    ms = round(np.std(scores.loc[variable]['main']),2)\n",
    "    Z,p = ranksums(scores.loc[variable]['pre'],scores.loc[variable]['main'])\n",
    "    eta = round(-Z/np.sqrt(N),2)\n",
    "#     t.append([variable,str(pm)+'pm'+str(ps),str(mm)+'pm'+str(ms),round(Z,2),p,eta])\n",
    "    t.append([variable,'$'+str(pm)+'\\pm'+str(ps)+'$','$'+str(mm)+'pm'+str(ms)+'$',round(Z,2),'0.0001',eta])\n",
    "\n",
    "print tabulate(t)\n",
    "tabulate(t,tablefmt='latex')"
   ]
  },
  {
   "cell_type": "markdown",
   "metadata": {
    "hideCode": true,
    "hidePrompt": true
   },
   "source": [
    "We use Wilcoxon signed rank test since our population ares paired and dependant but ordinal values. Overall, student learn in both sims.\n",
    "\n",
    "For calculation and interpretation of effect size, read Pages 224 (bottom part) and 225 from Pallant, J. (2007). SPSS Survival Manual quoted [here](https://stats.stackexchange.com/questions/133077/effect-size-to-wilcoxon-signed-rank-test)\n"
   ]
  },
  {
   "cell_type": "code",
   "execution_count": 30,
   "metadata": {
    "collapsed": false
   },
   "outputs": [
    {
     "name": "stdout",
     "output_type": "stream",
     "text": [
      "\n",
      "Correlation for all variables: (N=148*4)\n",
      "SpearmanrResult(correlation=0.19683704156643292, pvalue=1.390052759857402e-06)\n",
      "\n",
      "Correlation using mean pre and mean main merging both sims: (N=148)\n",
      "SpearmanrResult(correlation=0.3606523617550455, pvalue=6.7061187707435308e-06)\n"
     ]
    }
   ],
   "source": [
    "from scipy.stats import spearmanr\n",
    "print \"\\nCorrelation for all variables: (N=148*4)\"\n",
    "print spearmanr(data['pre'],data['main'])\n",
    "print \"\\nCorrelation using mean pre and mean main merging both sims: (N=148)\"\n",
    "merged_scores = pd.pivot_table(data, values=['pre','main'], index=['sid'],aggfunc=np.mean)\n",
    "print spearmanr(merged_scores['pre'],merged_scores['main'])"
   ]
  },
  {
   "cell_type": "markdown",
   "metadata": {
    "hideCode": true,
    "hidePrompt": true
   },
   "source": [
    "# Does using strategy help student learn?"
   ]
  },
  {
   "cell_type": "markdown",
   "metadata": {
    "hideCode": true,
    "hidePrompt": true
   },
   "source": [
    "## Using different levels of CVS and learning"
   ]
  },
  {
   "cell_type": "code",
   "execution_count": 31,
   "metadata": {
    "collapsed": false
   },
   "outputs": [
    {
     "data": {
      "text/html": [
       "<div>\n",
       "<table border=\"1\" class=\"dataframe\">\n",
       "  <thead>\n",
       "    <tr style=\"text-align: right;\">\n",
       "      <th></th>\n",
       "      <th>sid</th>\n",
       "      <th>variable</th>\n",
       "      <th>pre</th>\n",
       "      <th>main</th>\n",
       "      <th>sim</th>\n",
       "      <th>CVS_table_2</th>\n",
       "      <th>CVS_graph_2</th>\n",
       "      <th>CVS_table_3</th>\n",
       "      <th>CVS_graph_3</th>\n",
       "      <th>CVS_table_4</th>\n",
       "      <th>...</th>\n",
       "      <th>use_graph</th>\n",
       "      <th>level_experience_sims</th>\n",
       "      <th>experience_undergrad_labs</th>\n",
       "      <th>used_similar_sim_L</th>\n",
       "      <th>used_similar_sim_C</th>\n",
       "      <th>used_similar_sim</th>\n",
       "      <th>CVS_levels_2</th>\n",
       "      <th>CVS_levels_3</th>\n",
       "      <th>CVS_levels_4</th>\n",
       "      <th>CVS_levels_5</th>\n",
       "    </tr>\n",
       "  </thead>\n",
       "  <tbody>\n",
       "    <tr>\n",
       "      <th>0</th>\n",
       "      <td>10127163</td>\n",
       "      <td>Concentration</td>\n",
       "      <td>1.0</td>\n",
       "      <td>3.0</td>\n",
       "      <td>L</td>\n",
       "      <td>1</td>\n",
       "      <td>1</td>\n",
       "      <td>1</td>\n",
       "      <td>1</td>\n",
       "      <td>1</td>\n",
       "      <td>...</td>\n",
       "      <td>1</td>\n",
       "      <td>1</td>\n",
       "      <td>1</td>\n",
       "      <td>0.0</td>\n",
       "      <td>0.0</td>\n",
       "      <td>0.0</td>\n",
       "      <td>2</td>\n",
       "      <td>2</td>\n",
       "      <td>2</td>\n",
       "      <td>2</td>\n",
       "    </tr>\n",
       "    <tr>\n",
       "      <th>1</th>\n",
       "      <td>10232160</td>\n",
       "      <td>Concentration</td>\n",
       "      <td>1.0</td>\n",
       "      <td>1.0</td>\n",
       "      <td>L</td>\n",
       "      <td>1</td>\n",
       "      <td>1</td>\n",
       "      <td>1</td>\n",
       "      <td>1</td>\n",
       "      <td>1</td>\n",
       "      <td>...</td>\n",
       "      <td>1</td>\n",
       "      <td>1</td>\n",
       "      <td>1</td>\n",
       "      <td>1.0</td>\n",
       "      <td>0.0</td>\n",
       "      <td>1.0</td>\n",
       "      <td>2</td>\n",
       "      <td>2</td>\n",
       "      <td>2</td>\n",
       "      <td>0</td>\n",
       "    </tr>\n",
       "    <tr>\n",
       "      <th>2</th>\n",
       "      <td>10537160</td>\n",
       "      <td>Concentration</td>\n",
       "      <td>1.0</td>\n",
       "      <td>2.0</td>\n",
       "      <td>L</td>\n",
       "      <td>1</td>\n",
       "      <td>0</td>\n",
       "      <td>1</td>\n",
       "      <td>0</td>\n",
       "      <td>0</td>\n",
       "      <td>...</td>\n",
       "      <td>0</td>\n",
       "      <td>1</td>\n",
       "      <td>1</td>\n",
       "      <td>1.0</td>\n",
       "      <td>0.0</td>\n",
       "      <td>1.0</td>\n",
       "      <td>1</td>\n",
       "      <td>1</td>\n",
       "      <td>0</td>\n",
       "      <td>0</td>\n",
       "    </tr>\n",
       "    <tr>\n",
       "      <th>3</th>\n",
       "      <td>10375163</td>\n",
       "      <td>Concentration</td>\n",
       "      <td>0.0</td>\n",
       "      <td>2.0</td>\n",
       "      <td>L</td>\n",
       "      <td>1</td>\n",
       "      <td>0</td>\n",
       "      <td>1</td>\n",
       "      <td>0</td>\n",
       "      <td>1</td>\n",
       "      <td>...</td>\n",
       "      <td>1</td>\n",
       "      <td>2</td>\n",
       "      <td>1</td>\n",
       "      <td>0.0</td>\n",
       "      <td>0.0</td>\n",
       "      <td>0.0</td>\n",
       "      <td>1</td>\n",
       "      <td>1</td>\n",
       "      <td>1</td>\n",
       "      <td>1</td>\n",
       "    </tr>\n",
       "    <tr>\n",
       "      <th>4</th>\n",
       "      <td>10420167</td>\n",
       "      <td>Concentration</td>\n",
       "      <td>1.0</td>\n",
       "      <td>3.0</td>\n",
       "      <td>L</td>\n",
       "      <td>1</td>\n",
       "      <td>1</td>\n",
       "      <td>1</td>\n",
       "      <td>1</td>\n",
       "      <td>1</td>\n",
       "      <td>...</td>\n",
       "      <td>1</td>\n",
       "      <td>3</td>\n",
       "      <td>1</td>\n",
       "      <td>0.0</td>\n",
       "      <td>0.0</td>\n",
       "      <td>0.0</td>\n",
       "      <td>2</td>\n",
       "      <td>2</td>\n",
       "      <td>2</td>\n",
       "      <td>2</td>\n",
       "    </tr>\n",
       "  </tbody>\n",
       "</table>\n",
       "<p>5 rows × 27 columns</p>\n",
       "</div>"
      ],
      "text/plain": [
       "        sid       variable  pre  main sim  CVS_table_2  CVS_graph_2  CVS_table_3  CVS_graph_3  \\\n",
       "0  10127163  Concentration  1.0   3.0   L            1            1            1            1   \n",
       "1  10232160  Concentration  1.0   1.0   L            1            1            1            1   \n",
       "2  10537160  Concentration  1.0   2.0   L            1            0            1            0   \n",
       "3  10375163  Concentration  0.0   2.0   L            1            0            1            0   \n",
       "4  10420167  Concentration  1.0   3.0   L            1            1            1            1   \n",
       "\n",
       "   CVS_table_4      ...       use_graph  level_experience_sims  experience_undergrad_labs  \\\n",
       "0            1      ...               1                      1                          1   \n",
       "1            1      ...               1                      1                          1   \n",
       "2            0      ...               0                      1                          1   \n",
       "3            1      ...               1                      2                          1   \n",
       "4            1      ...               1                      3                          1   \n",
       "\n",
       "   used_similar_sim_L  used_similar_sim_C  used_similar_sim  CVS_levels_2  CVS_levels_3  \\\n",
       "0                 0.0                 0.0               0.0             2             2   \n",
       "1                 1.0                 0.0               1.0             2             2   \n",
       "2                 1.0                 0.0               1.0             1             1   \n",
       "3                 0.0                 0.0               0.0             1             1   \n",
       "4                 0.0                 0.0               0.0             2             2   \n",
       "\n",
       "   CVS_levels_4  CVS_levels_5  \n",
       "0             2             2  \n",
       "1             2             0  \n",
       "2             0             0  \n",
       "3             1             1  \n",
       "4             2             2  \n",
       "\n",
       "[5 rows x 27 columns]"
      ]
     },
     "execution_count": 31,
     "metadata": {},
     "output_type": "execute_result"
    }
   ],
   "source": [
    "data.head()"
   ]
  },
  {
   "cell_type": "markdown",
   "metadata": {},
   "source": [
    "We have 8 control variables:\n",
    "* sim_index\n",
    "* sim\n",
    "* variable\n",
    "* pre\n",
    "* level_experience_sims\n",
    "* experience_undergrad_labs\n",
    "* used_similar_sim\n",
    "* use_graph\n",
    "\n",
    "We look at all interactions with CVS levels given our RQ are related to CVS usage:\n",
    "* variable*CVS_levels\n",
    "* pre*CVS_levels\n",
    "* sim_index*CVS_levels\n",
    "* sim (exclude becasue already within variable?)\n",
    "* C(sid)\n",
    "* level_experience_sims\n",
    "* experience_undergrad_labs\n",
    "* used_similar_sim\n",
    "* use_graph\n",
    "\n",
    "\n",
    "*NOTE:* we don't include variable and sim in the same model"
   ]
  },
  {
   "cell_type": "markdown",
   "metadata": {},
   "source": [
    "We first remove students with max pre for a certain variable"
   ]
  },
  {
   "cell_type": "code",
   "execution_count": 32,
   "metadata": {
    "collapsed": false
   },
   "outputs": [
    {
     "name": "stdout",
     "output_type": "stream",
     "text": [
      "(592, 27)\n",
      "(553, 27)\n"
     ]
    }
   ],
   "source": [
    "print data.shape\n",
    "filtered_maxpre_data = data.copy()\n",
    "filtered_maxpre_data = filtered_maxpre_data[filtered_maxpre_data['pre']<3]\n",
    "print filtered_maxpre_data.shape"
   ]
  },
  {
   "cell_type": "code",
   "execution_count": 33,
   "metadata": {
    "collapsed": true
   },
   "outputs": [],
   "source": [
    "# covariates_for_interaction_model = \" + sim_index + C(sid) + level_experience_sims + experience_undergrad_labs + used_similar_sim\"\n",
    "covariates_for_parsimonious_model = \"+ variable + pre + sim_index + C(sid) + level_experience_sims + experience_undergrad_labs + used_similar_sim\""
   ]
  },
  {
   "cell_type": "code",
   "execution_count": 98,
   "metadata": {
    "collapsed": false,
    "scrolled": true
   },
   "outputs": [
    {
     "name": "stdout",
     "output_type": "stream",
     "text": [
      "\n",
      "\n",
      "Model:  main ~ C(CVS_levels_3) + variable + pre + sim_index + C(sid) + level_experience_sims + experience_undergrad_labs + used_similar_sim\n",
      "\n",
      "Anova table using type 3\n",
      "\n",
      "                            sum_sq     df        F     PR(>F)     eta_sq   omega_sq\n",
      "Intercept                   29.578    1.0  108.949  1.063e-22  9.121e-02  9.030e-02\n",
      "C(CVS_levels_3)              5.283    2.0    9.730  7.489e-05  1.629e-02  1.461e-02\n",
      "variable                     2.433    3.0    2.988  3.101e-02  7.504e-03  4.988e-03\n",
      "C(sid)                     174.445  147.0    4.371  1.173e-31  5.380e-01  4.145e-01\n",
      "pre                          0.007    1.0    0.026  8.730e-01  2.140e-05 -8.151e-04\n",
      "sim_index                    3.566    1.0   13.136  3.273e-04  1.100e-02  1.015e-02\n",
      "level_experience_sims        0.406    1.0    1.494  2.223e-01  1.251e-03  4.132e-04\n",
      "experience_undergrad_labs    0.722    1.0    2.660  1.037e-01  2.227e-03  1.389e-03\n",
      "used_similar_sim             0.050    1.0    0.184  6.681e-01  1.541e-04 -6.825e-04\n",
      "Residual                   107.778  397.0      NaN        NaN        NaN        NaN\n",
      "\n",
      "Here is the linear model with coefficients and confidence intervals (removed stats for individual student ids):\n",
      "\n",
      "                            OLS Regression Results                            \n",
      "==============================================================================\n",
      "Dep. Variable:                   main   R-squared:                       0.602\n",
      "Model:                            OLS   Adj. R-squared:                  0.447\n",
      "Method:                 Least Squares   F-statistic:                     3.878\n",
      "Date:                Tue, 06 Feb 2018   Prob (F-statistic):           1.38e-27\n",
      "Time:                        16:05:21   Log-Likelihood:                -332.52\n",
      "No. Observations:                 553   AIC:                             977.0\n",
      "Df Residuals:                     397   BIC:                             1650.\n",
      "Df Model:                         155                                         \n",
      "Covariance Type:            nonrobust                                         \n",
      "=============================================================================================\n",
      "                                coef    std err          t      P>|t|      [95.0% Conf. Int.]\n",
      "---------------------------------------------------------------------------------------------\n",
      "Intercept                     1.9493      0.187     10.438      0.000         1.582     2.316\n",
      "C(CVS_levels_3)[T.1]         -0.0377      0.096     -0.392      0.695        -0.227     0.151\n",
      "C(CVS_levels_3)[T.2]          0.3457      0.086      4.006      0.000         0.176     0.515\n",
      "variable[T.Concentration]     0.1368      0.068      2.021      0.044         0.004     0.270\n",
      "variable[T.Separation]       -0.0627      0.064     -0.987      0.324        -0.188     0.062\n",
      "variable[T.Width]             0.0578      0.067      0.864      0.388        -0.074     0.189\n",
      "pre                          -0.0074      0.046     -0.160      0.873        -0.098     0.083\n",
      "sim_index                     0.1702      0.047      3.624      0.000         0.078     0.262\n",
      "level_experience_sims        -0.2489      0.204     -1.222      0.222        -0.649     0.151\n",
      "experience_undergrad_labs     0.6939      0.425      1.631      0.104        -0.142     1.530\n",
      "used_similar_sim             -0.0384      0.090     -0.429      0.668        -0.214     0.138\n",
      "==============================================================================\n",
      "Omnibus:                       67.972   Durbin-Watson:                   1.958\n",
      "Prob(Omnibus):                  0.000   Jarque-Bera (JB):              194.672\n",
      "Skew:                          -0.593   Prob(JB):                     5.34e-43\n",
      "Kurtosis:                       5.653   Cond. No.                     3.11e+15\n",
      "==============================================================================\n",
      "\n",
      "Warnings:\n",
      "[1] Standard Errors assume that the covariance matrix of the errors is correctly specified.\n",
      "[2] The smallest eigenvalue is 5.43e-28. This might indicate that there are\n",
      "strong multicollinearity problems or that the design matrix is singular.\n"
     ]
    }
   ],
   "source": [
    "formula = 'main ~ C(CVS_levels_3) '+ covariates_for_parsimonious_model\n",
    "model = ols(formula, filtered_maxpre_data).fit()\n",
    "print \"\\n\\nModel: \",formula\n",
    "aov_table = anova_lm(model, typ=3)\n",
    "eta_squared(aov_table)\n",
    "omega_squared(aov_table)\n",
    "print \"\\nAnova table using type 3\\n\"\n",
    "print(aov_table)\n",
    "print \"\\nHere is the linear model with coefficients and confidence intervals (removed stats for individual student ids):\\n\"\n",
    "print clean_summary(model)"
   ]
  },
  {
   "cell_type": "code",
   "execution_count": 94,
   "metadata": {
    "collapsed": false
   },
   "outputs": [
    {
     "name": "stdout",
     "output_type": "stream",
     "text": [
      "\\begin{tabular}{lrrr}\n",
      "\\hline\n",
      " Intercept                 & 108.95 &   0    &   0.09 \\\\\n",
      " sim\\_index                 &  13.14 &   0    &   0.01 \\\\\n",
      " C(CVS\\_levels\\_3)           &   9.73 &   0    &   0.02 \\\\\n",
      " C(sid)                    &   4.37 &   0    &   0.54 \\\\\n",
      " variable                  &   2.99 &   0.03 &   0.01 \\\\\n",
      " experience\\_undergrad\\_labs &   2.66 &   0.1  &   0    \\\\\n",
      " level\\_experience\\_sims     &   1.49 &   0.22 &   0    \\\\\n",
      " used\\_similar\\_sim          &   0.18 &   0.67 &   0    \\\\\n",
      " pre                       &   0.03 &   0.87 &   0    \\\\\n",
      " Residual                  & nan    & nan    & nan    \\\\\n",
      "\\hline\n",
      "\\end{tabular}\n"
     ]
    }
   ],
   "source": [
    "# aov_table = aov_table.round({'F': 2,'eta_sq':2})\n",
    "# print tabulate(aov_table[['F','PR(>F)','eta_sq']].sort_values('F',ascending =False),tablefmt='latex')\n",
    "aov_table = aov_table.round({'F': 2, 'PR(>F)': 2,'eta_sq':2})\n",
    "print tabulate(aov_table[['F','PR(>F)','eta_sq']].sort_values('F',ascending =False),tablefmt='latex')"
   ]
  },
  {
   "cell_type": "code",
   "execution_count": 99,
   "metadata": {
    "collapsed": false
   },
   "outputs": [
    {
     "name": "stdout",
     "output_type": "stream",
     "text": [
      "\\begin{center}\n",
      "\\begin{tabular}{lclc}\n",
      "\\toprule\n",
      "\\textbf{Dep. Variable:}            &       main       & \\textbf{  R-squared:         } &     0.602   \\\\\n",
      "\\textbf{Model:}                    &       OLS        & \\textbf{  Adj. R-squared:    } &     0.447   \\\\\n",
      "\\textbf{Method:}                   &  Least Squares   & \\textbf{  F-statistic:       } &     3.878   \\\\\n",
      "\\textbf{Date:}                     & Tue, 06 Feb 2018 & \\textbf{  Prob (F-statistic):} &  1.38e-27   \\\\\n",
      "\\textbf{Time:}                     &     16:05:28     & \\textbf{  Log-Likelihood:    } &   -332.52   \\\\\n",
      "\\textbf{No. Observations:}         &         553      & \\textbf{  AIC:               } &     977.0   \\\\\n",
      "\\textbf{Df Residuals:}             &         397      & \\textbf{  BIC:               } &     1650.   \\\\\n",
      "\\textbf{Df Model:}                 &         155      & \\textbf{                     } &             \\\\\n",
      "\\bottomrule\n",
      "\\end{tabular}\n",
      "\\begin{tabular}{lccccc}\n",
      "                                   & \\textbf{coef} & \\textbf{std err} & \\textbf{t} & \\textbf{P$>$$|$t$|$} & \\textbf{[95.0\\% Conf. Int.]}  \\\\\n",
      "\\midrule\n",
      "\\textbf{Intercept}                 &       1.9493  &        0.187     &    10.438  &         0.000        &         1.582     2.316       \\\\\n",
      "\\textbf{C(CVS_levels_3)[T.1]}      &      -0.0377  &        0.096     &    -0.392  &         0.695        &        -0.227     0.151       \\\\\n",
      "\\textbf{C(CVS_levels_3)[T.2]}      &       0.3457  &        0.086     &     4.006  &         0.000        &         0.176     0.515       \\\\\n",
      "\\textbf{variable[T.Concentration]} &       0.1368  &        0.068     &     2.021  &         0.044        &         0.004     0.270       \\\\\n",
      "\\textbf{variable[T.Separation]}    &      -0.0627  &        0.064     &    -0.987  &         0.324        &        -0.188     0.062       \\\\\n",
      "\\textbf{variable[T.Width]}         &       0.0578  &        0.067     &     0.864  &         0.388        &        -0.074     0.189       \\\\\n",
      "\\textbf{C(sid)[T.10192168]}        &      -1.0885  &        0.455     &    -2.394  &         0.017        &        -1.982    -0.195       \\\\\n",
      "\\textbf{C(sid)[T.10232160]}        &      -0.9152  &        0.457     &    -2.004  &         0.046        &        -1.813    -0.018       \\\\\n",
      "\\textbf{C(sid)[T.10375163]}        &       0.0138  &        0.318     &     0.043  &         0.965        &        -0.612     0.640       \\\\\n",
      "\\textbf{C(sid)[T.10420167]}        &       0.2289  &        0.265     &     0.863  &         0.389        &        -0.293     0.751       \\\\\n",
      "\\textbf{C(sid)[T.10537160]}        &      -2.1520  &        0.464     &    -4.637  &         0.000        &        -3.064    -1.240       \\\\\n",
      "\\textbf{C(sid)[T.10561164]}        &      -0.5163  &        0.312     &    -1.654  &         0.099        &        -1.130     0.097       \\\\\n",
      "\\textbf{C(sid)[T.10708152]}        &      -0.0953  &        0.312     &    -0.305  &         0.760        &        -0.709     0.518       \\\\\n",
      "\\textbf{C(sid)[T.10866146]}        &       0.8353  &        0.332     &     2.518  &         0.012        &         0.183     1.487       \\\\\n",
      "\\textbf{C(sid)[T.10908162]}        &      -0.9181  &        0.313     &    -2.935  &         0.004        &        -1.533    -0.303       \\\\\n",
      "\\textbf{C(sid)[T.10970160]}        &      -0.3858  &        0.321     &    -1.201  &         0.231        &        -1.017     0.246       \\\\\n",
      "\\textbf{C(sid)[T.11095146]}        &      -0.6657  &        0.460     &    -1.447  &         0.149        &        -1.570     0.239       \\\\\n",
      "\\textbf{C(sid)[T.11326321]}        &      -0.7489  &        0.317     &    -2.360  &         0.019        &        -1.373    -0.125       \\\\\n",
      "\\textbf{C(sid)[T.11384795]}        &      -1.2283  &        0.299     &    -4.101  &         0.000        &        -1.817    -0.639       \\\\\n",
      "\\textbf{C(sid)[T.11394167]}        &      -1.2281  &        0.303     &    -4.054  &         0.000        &        -1.824    -0.633       \\\\\n",
      "\\textbf{C(sid)[T.11612162]}        &       0.2595  &        0.461     &     0.563  &         0.573        &        -0.646     1.165       \\\\\n",
      "\\textbf{C(sid)[T.11777163]}        &      -0.0877  &        0.312     &    -0.282  &         0.778        &        -0.700     0.525       \\\\\n",
      "\\textbf{C(sid)[T.11892169]}        &      -0.4031  &        0.320     &    -1.260  &         0.208        &        -1.032     0.226       \\\\\n",
      "\\textbf{C(sid)[T.11929166]}        &       0.2936  &        0.346     &     0.849  &         0.396        &        -0.386     0.973       \\\\\n",
      "\\textbf{C(sid)[T.11997159]}        &      -0.3921  &        0.326     &    -1.204  &         0.229        &        -1.033     0.248       \\\\\n",
      "\\textbf{C(sid)[T.12017165]}        &       0.0949  &        0.319     &     0.297  &         0.767        &        -0.533     0.723       \\\\\n",
      "\\textbf{C(sid)[T.12238164]}        &      -0.6570  &        0.319     &    -2.059  &         0.040        &        -1.284    -0.030       \\\\\n",
      "\\textbf{C(sid)[T.12263156]}        &      -1.3881  &        0.319     &    -4.352  &         0.000        &        -2.015    -0.761       \\\\\n",
      "\\textbf{C(sid)[T.12302161]}        &       0.5746  &        0.267     &     2.151  &         0.032        &         0.049     1.100       \\\\\n",
      "\\textbf{C(sid)[T.12329163]}        &      -0.5953  &        0.312     &    -1.908  &         0.057        &        -1.209     0.018       \\\\\n",
      "\\textbf{C(sid)[T.12406161]}        &      -0.4297  &        0.313     &    -1.374  &         0.170        &        -1.044     0.185       \\\\\n",
      "\\textbf{C(sid)[T.12665164]}        &      -0.0056  &        0.265     &    -0.021  &         0.983        &        -0.527     0.516       \\\\\n",
      "\\textbf{C(sid)[T.12707161]}        &       0.3661  &        0.372     &     0.984  &         0.326        &        -0.366     1.098       \\\\\n",
      "\\textbf{C(sid)[T.12816168]}        &      -0.5392  &        0.305     &    -1.769  &         0.078        &        -1.138     0.060       \\\\\n",
      "\\textbf{C(sid)[T.12907149]}        &       0.3201  &        0.312     &     1.027  &         0.305        &        -0.293     0.933       \\\\\n",
      "\\textbf{C(sid)[T.13122150]}        &      -1.0990  &        0.311     &    -3.529  &         0.000        &        -1.711    -0.487       \\\\\n",
      "\\textbf{C(sid)[T.13134165]}        &      -0.5913  &        0.632     &    -0.935  &         0.350        &        -1.834     0.652       \\\\\n",
      "\\textbf{C(sid)[T.13139162]}        &      -0.4262  &        0.318     &    -1.342  &         0.180        &        -1.051     0.198       \\\\\n",
      "\\textbf{C(sid)[T.13140165]}        &      -0.3996  &        0.323     &    -1.238  &         0.216        &        -1.034     0.235       \\\\\n",
      "\\textbf{C(sid)[T.13193166]}        &      -0.0208  &        0.453     &    -0.046  &         0.963        &        -0.911     0.869       \\\\\n",
      "\\textbf{C(sid)[T.13228164]}        &       0.3377  &        0.268     &     1.261  &         0.208        &        -0.189     0.864       \\\\\n",
      "\\textbf{C(sid)[T.13407169]}        &       0.4789  &        0.265     &     1.805  &         0.072        &        -0.043     1.001       \\\\\n",
      "\\textbf{C(sid)[T.13578154]}        &      -1.2771  &        0.630     &    -2.027  &         0.043        &        -2.516    -0.039       \\\\\n",
      "\\textbf{C(sid)[T.13624169]}        &       0.2677  &        0.353     &     0.758  &         0.449        &        -0.427     0.962       \\\\\n",
      "\\textbf{C(sid)[T.13654167]}        &      -0.8986  &        0.463     &    -1.943  &         0.053        &        -1.808     0.011       \\\\\n",
      "\\textbf{C(sid)[T.13660166]}        &      -0.2386  &        0.461     &    -0.517  &         0.605        &        -1.145     0.668       \\\\\n",
      "\\textbf{C(sid)[T.13726167]}        &       0.2082  &        0.323     &     0.644  &         0.520        &        -0.427     0.844       \\\\\n",
      "\\textbf{C(sid)[T.13870641]}        &      -0.6422  &        0.472     &    -1.361  &         0.174        &        -1.570     0.286       \\\\\n",
      "\\textbf{C(sid)[T.13945160]}        &      -0.4840  &        0.315     &    -1.537  &         0.125        &        -1.103     0.135       \\\\\n",
      "\\textbf{C(sid)[T.13981167]}        &       0.3456  &        0.266     &     1.300  &         0.194        &        -0.177     0.868       \\\\\n",
      "\\textbf{C(sid)[T.14002169]}        &       0.2111  &        0.407     &     0.518  &         0.605        &        -0.590     1.012       \\\\\n",
      "\\textbf{C(sid)[T.14055131]}        &       0.3238  &        0.349     &     0.926  &         0.355        &        -0.363     1.011       \\\\\n",
      "\\textbf{C(sid)[T.14088168]}        &      -0.4280  &        0.318     &    -1.347  &         0.179        &        -1.053     0.197       \\\\\n",
      "\\textbf{C(sid)[T.14201151]}        &      -0.0069  &        0.314     &    -0.022  &         0.983        &        -0.625     0.611       \\\\\n",
      "\\textbf{C(sid)[T.14261165]}        &       0.9057  &        0.307     &     2.948  &         0.003        &         0.302     1.510       \\\\\n",
      "\\textbf{C(sid)[T.14293162]}        &       0.2271  &        0.266     &     0.855  &         0.393        &        -0.295     0.749       \\\\\n",
      "\\textbf{C(sid)[T.14302168]}        &      -0.0802  &        0.314     &    -0.256  &         0.798        &        -0.697     0.536       \\\\\n",
      "\\textbf{C(sid)[T.14805169]}        &      -0.6854  &        0.311     &    -2.207  &         0.028        &        -1.296    -0.075       \\\\\n",
      "\\textbf{C(sid)[T.14828163]}        &      -0.1817  &        0.311     &    -0.584  &         0.559        &        -0.793     0.430       \\\\\n",
      "\\textbf{C(sid)[T.15026512]}        &      -0.2719  &        0.311     &    -0.874  &         0.383        &        -0.884     0.340       \\\\\n",
      "\\textbf{C(sid)[T.15055169]}        &      -0.5182  &        0.311     &    -1.664  &         0.097        &        -1.130     0.094       \\\\\n",
      "\\textbf{C(sid)[T.15072160]}        &      -0.4192  &        0.262     &    -1.597  &         0.111        &        -0.935     0.097       \\\\\n",
      "\\textbf{C(sid)[T.15160164]}        &       0.0035  &        0.519     &     0.007  &         0.995        &        -1.016     1.023       \\\\\n",
      "\\textbf{C(sid)[T.15188167]}        &      -0.2301  &        0.299     &    -0.769  &         0.442        &        -0.819     0.358       \\\\\n",
      "\\textbf{C(sid)[T.15298166]}        &      -0.3442  &        0.455     &    -0.756  &         0.450        &        -1.239     0.551       \\\\\n",
      "\\textbf{C(sid)[T.15317162]}        &      -0.6599  &        0.461     &    -1.431  &         0.153        &        -1.566     0.246       \\\\\n",
      "\\textbf{C(sid)[T.15444164]}        &       0.0987  &        0.639     &     0.155  &         0.877        &        -1.157     1.354       \\\\\n",
      "\\textbf{C(sid)[T.15457134]}        &      -0.2283  &        0.299     &    -0.762  &         0.446        &        -0.817     0.361       \\\\\n",
      "\\textbf{C(sid)[T.15496161]}        &      -0.4206  &        0.320     &    -1.315  &         0.189        &        -1.049     0.208       \\\\\n",
      "\\textbf{C(sid)[T.15749160]}        &       0.8575  &        0.372     &     2.306  &         0.022        &         0.126     1.588       \\\\\n",
      "\\textbf{C(sid)[T.15884161]}        &      -0.9934  &        0.315     &    -3.150  &         0.002        &        -1.613    -0.373       \\\\\n",
      "\\textbf{C(sid)[T.16136159]}        &      -0.4018  &        0.319     &    -1.258  &         0.209        &        -1.029     0.226       \\\\\n",
      "\\textbf{C(sid)[T.16233163]}        &      -0.4262  &        0.318     &    -1.342  &         0.180        &        -1.051     0.198       \\\\\n",
      "\\textbf{C(sid)[T.16237162]}        &      -0.2490  &        0.313     &    -0.794  &         0.427        &        -0.865     0.367       \\\\\n",
      "\\textbf{C(sid)[T.16317166]}        &      -0.5693  &        0.458     &    -1.243  &         0.215        &        -1.470     0.331       \\\\\n",
      "\\textbf{C(sid)[T.16328144]}        &       0.0143  &        0.300     &     0.048  &         0.962        &        -0.576     0.604       \\\\\n",
      "\\textbf{C(sid)[T.16606167]}        &       0.4947  &        0.376     &     1.317  &         0.189        &        -0.244     1.233       \\\\\n",
      "\\textbf{C(sid)[T.16618163]}        &       1.0169  &        0.258     &     3.943  &         0.000        &         0.510     1.524       \\\\\n",
      "\\textbf{C(sid)[T.16657165]}        &      -0.4945  &        0.262     &    -1.887  &         0.060        &        -1.010     0.021       \\\\\n",
      "\\textbf{C(sid)[T.16752165]}        &      -0.0588  &        0.321     &    -0.183  &         0.855        &        -0.690     0.573       \\\\\n",
      "\\textbf{C(sid)[T.16901162]}        &      -0.2842  &        0.413     &    -0.688  &         0.492        &        -1.096     0.527       \\\\\n",
      "\\textbf{C(sid)[T.16961152]}        &       1.0489  &        0.512     &     2.049  &         0.041        &         0.043     2.055       \\\\\n",
      "\\textbf{C(sid)[T.17007153]}        &      -0.0765  &        0.314     &    -0.244  &         0.808        &        -0.694     0.541       \\\\\n",
      "\\textbf{C(sid)[T.17018157]}        &      -0.6657  &        0.460     &    -1.447  &         0.149        &        -1.570     0.239       \\\\\n",
      "\\textbf{C(sid)[T.17036164]}        &      -0.2277  &        0.461     &    -0.494  &         0.622        &        -1.134     0.679       \\\\\n",
      "\\textbf{C(sid)[T.17071167]}        &      -1.2955  &        0.366     &    -3.538  &         0.000        &        -2.015    -0.576       \\\\\n",
      "\\textbf{C(sid)[T.17083161]}        &      -0.8245  &        0.531     &    -1.552  &         0.121        &        -1.869     0.220       \\\\\n",
      "\\textbf{C(sid)[T.17107166]}        &       0.5000  &        0.264     &     1.892  &         0.059        &        -0.020     1.020       \\\\\n",
      "\\textbf{C(sid)[T.17112137]}        &      -0.4587  &        0.259     &    -1.769  &         0.078        &        -0.968     0.051       \\\\\n",
      "\\textbf{C(sid)[T.17114169]}        &      -0.2618  &        0.264     &    -0.992  &         0.322        &        -0.781     0.257       \\\\\n",
      "\\textbf{C(sid)[T.17168593]}        &      -0.2697  &        0.628     &    -0.429  &         0.668        &        -1.505     0.965       \\\\\n",
      "\\textbf{C(sid)[T.17347163]}        &       0.4808  &        0.266     &     1.810  &         0.071        &        -0.041     1.003       \\\\\n",
      "\\textbf{C(sid)[T.17448165]}        &      -0.3091  &        0.315     &    -0.980  &         0.327        &        -0.929     0.311       \\\\\n",
      "\\textbf{C(sid)[T.17502161]}        &       0.0864  &        0.262     &     0.330  &         0.742        &        -0.429     0.601       \\\\\n",
      "\\textbf{C(sid)[T.17576140]}        &      -0.7490  &        0.313     &    -2.390  &         0.017        &        -1.365    -0.133       \\\\\n",
      "\\textbf{C(sid)[T.17597160]}        &      -0.4976  &        0.315     &    -1.579  &         0.115        &        -1.117     0.122       \\\\\n",
      "\\textbf{C(sid)[T.17655165]}        &      -0.1370  &        0.271     &    -0.506  &         0.613        &        -0.669     0.395       \\\\\n",
      "\\textbf{C(sid)[T.17691169]}        &      -0.9997  &        0.456     &    -2.192  &         0.029        &        -1.897    -0.103       \\\\\n",
      "\\textbf{C(sid)[T.17701169]}        &      -0.9251  &        0.461     &    -2.008  &         0.045        &        -1.831    -0.019       \\\\\n",
      "\\textbf{C(sid)[T.17729162]}        &      -0.1733  &        0.461     &    -0.376  &         0.707        &        -1.080     0.733       \\\\\n",
      "\\textbf{C(sid)[T.17868168]}        &      -0.3222  &        0.314     &    -1.027  &         0.305        &        -0.939     0.294       \\\\\n",
      "\\textbf{C(sid)[T.17931169]}        &       0.0282  &        0.257     &     0.110  &         0.913        &        -0.477     0.534       \\\\\n",
      "\\textbf{C(sid)[T.18162165]}        &      -0.4982  &        0.265     &    -1.880  &         0.061        &        -1.019     0.023       \\\\\n",
      "\\textbf{C(sid)[T.18174154]}        &       0.4734  &        0.268     &     1.768  &         0.078        &        -0.053     1.000       \\\\\n",
      "\\textbf{C(sid)[T.18247165]}        &      -1.9915  &        0.480     &    -4.148  &         0.000        &        -2.935    -1.048       \\\\\n",
      "\\textbf{C(sid)[T.18365162]}        &       0.2234  &        0.268     &     0.834  &         0.405        &        -0.303     0.750       \\\\\n",
      "\\textbf{C(sid)[T.18527162]}        &      -0.5248  &        0.266     &    -1.970  &         0.050        &        -1.049    -0.001       \\\\\n",
      "\\textbf{C(sid)[T.18591168]}        &      -0.0219  &        0.303     &    -0.072  &         0.943        &        -0.618     0.575       \\\\\n",
      "\\textbf{C(sid)[T.18866165]}        &       0.5037  &        0.266     &     1.892  &         0.059        &        -0.020     1.027       \\\\\n",
      "\\textbf{C(sid)[T.18922151]}        &      -0.6522  &        0.465     &    -1.403  &         0.161        &        -1.566     0.261       \\\\\n",
      "\\textbf{C(sid)[T.19018165]}        &       0.7173  &        0.305     &     2.349  &         0.019        &         0.117     1.318       \\\\\n",
      "\\textbf{C(sid)[T.19023153]}        &      -0.2301  &        0.299     &    -0.769  &         0.442        &        -0.819     0.358       \\\\\n",
      "\\textbf{C(sid)[T.19053161]}        &      -0.0846  &        0.263     &    -0.322  &         0.748        &        -0.601     0.432       \\\\\n",
      "\\textbf{C(sid)[T.19089138]}        &       0.0206  &        0.257     &     0.080  &         0.936        &        -0.486     0.527       \\\\\n",
      "\\textbf{C(sid)[T.19196162]}        &       0.2618  &        0.272     &     0.961  &         0.337        &        -0.274     0.797       \\\\\n",
      "\\textbf{C(sid)[T.19344143]}        &      -0.4112  &        0.319     &    -1.291  &         0.198        &        -1.038     0.215       \\\\\n",
      "\\textbf{C(sid)[T.19416160]}        &       0.5225  &        0.258     &     2.025  &         0.044        &         0.015     1.030       \\\\\n",
      "\\textbf{C(sid)[T.19436162]}        &       0.4963  &        0.264     &     1.878  &         0.061        &        -0.023     1.016       \\\\\n",
      "\\textbf{C(sid)[T.19470169]}        &      -0.1490  &        0.270     &    -0.551  &         0.582        &        -0.680     0.382       \\\\\n",
      "\\textbf{C(sid)[T.19553138]}        &      -0.6644  &        0.312     &    -2.127  &         0.034        &        -1.279    -0.050       \\\\\n",
      "\\textbf{C(sid)[T.19562150]}        &      -1.4847  &        0.460     &    -3.226  &         0.001        &        -2.389    -0.580       \\\\\n",
      "\\textbf{C(sid)[T.19566168]}        &      -0.6806  &        0.462     &    -1.474  &         0.141        &        -1.588     0.227       \\\\\n",
      "\\textbf{C(sid)[T.19608154]}        &       0.0727  &        0.267     &     0.272  &         0.785        &        -0.452     0.598       \\\\\n",
      "\\textbf{C(sid)[T.19618321]}        &       0.8359  &        0.267     &     3.135  &         0.002        &         0.312     1.360       \\\\\n",
      "\\textbf{C(sid)[T.19780165]}        &      -0.4325  &        0.453     &    -0.954  &         0.340        &        -1.323     0.458       \\\\\n",
      "\\textbf{C(sid)[T.19862157]}        &      -0.4152  &        0.457     &    -0.909  &         0.364        &        -1.313     0.482       \\\\\n",
      "\\textbf{C(sid)[T.19913165]}        &       0.1177  &        0.302     &     0.390  &         0.696        &        -0.475     0.711       \\\\\n",
      "\\textbf{C(sid)[T.19933165]}        &       0.1573  &        0.266     &     0.592  &         0.554        &        -0.365     0.679       \\\\\n",
      "\\textbf{C(sid)[T.19989152]}        &      -0.7926  &        0.407     &    -1.946  &         0.052        &        -1.593     0.008       \\\\\n",
      "\\textbf{C(sid)[T.22340167]}        &      -0.5208  &        0.453     &    -1.151  &         0.251        &        -1.411     0.369       \\\\\n",
      "\\textbf{C(sid)[T.23836160]}        &      -0.5234  &        0.629     &    -0.833  &         0.406        &        -1.759     0.712       \\\\\n",
      "\\textbf{C(sid)[T.24511163]}        &      -0.0171  &        0.453     &    -0.038  &         0.970        &        -0.907     0.873       \\\\\n",
      "\\textbf{C(sid)[T.24566161]}        &      -0.4963  &        0.266     &    -1.864  &         0.063        &        -1.020     0.027       \\\\\n",
      "\\textbf{C(sid)[T.26984162]}        &       0.0945  &        0.318     &     0.298  &         0.766        &        -0.530     0.719       \\\\\n",
      "\\textbf{C(sid)[T.27451164]}        &      -0.1686  &        0.317     &    -0.532  &         0.595        &        -0.792     0.454       \\\\\n",
      "\\textbf{C(sid)[T.36107164]}        &       0.5037  &        0.266     &     1.892  &         0.059        &        -0.020     1.027       \\\\\n",
      "\\textbf{C(sid)[T.41947147]}        &       0.7961  &        0.302     &     2.638  &         0.009        &         0.203     1.389       \\\\\n",
      "\\textbf{C(sid)[T.46792161]}        &       0.2947  &        0.413     &     0.714  &         0.476        &        -0.517     1.107       \\\\\n",
      "\\textbf{C(sid)[T.51717164]}        &      -0.3232  &        0.459     &    -0.704  &         0.482        &        -1.226     0.580       \\\\\n",
      "\\textbf{C(sid)[T.53262971]}        &      -0.9960  &        0.485     &    -2.055  &         0.041        &        -1.949    -0.043       \\\\\n",
      "\\textbf{C(sid)[T.55825144]}        &       0.2695  &        0.353     &     0.763  &         0.446        &        -0.425     0.964       \\\\\n",
      "\\textbf{C(sid)[T.59043165]}        &      -1.0874  &        0.631     &    -1.723  &         0.086        &        -2.328     0.153       \\\\\n",
      "\\textbf{C(sid)[T.60000168]}        &      -0.4225  &        0.319     &    -1.326  &         0.186        &        -1.049     0.204       \\\\\n",
      "\\textbf{C(sid)[T.61406163]}        &      -0.1776  &        0.526     &    -0.338  &         0.736        &        -1.211     0.856       \\\\\n",
      "\\textbf{C(sid)[T.64006159]}        &      -0.7615  &        0.457     &    -1.666  &         0.097        &        -1.660     0.137       \\\\\n",
      "\\textbf{C(sid)[T.77047160]}        &      -0.7737  &        0.312     &    -2.482  &         0.013        &        -1.386    -0.161       \\\\\n",
      "\\textbf{C(sid)[T.78992166]}        &      -0.0111  &        0.270     &    -0.041  &         0.967        &        -0.543     0.520       \\\\\n",
      "\\textbf{C(sid)[T.82788161]}        &      -1.6001  &        0.263     &    -6.089  &         0.000        &        -2.117    -1.083       \\\\\n",
      "\\textbf{C(sid)[T.83145167]}        &       0.1097  &        0.416     &     0.264  &         0.792        &        -0.709     0.928       \\\\\n",
      "\\textbf{C(sid)[T.85915167]}        &      -0.2719  &        0.311     &    -0.874  &         0.383        &        -0.884     0.340       \\\\\n",
      "\\textbf{C(sid)[T.86699164]}        &      -0.7578  &        0.458     &    -1.655  &         0.099        &        -1.658     0.142       \\\\\n",
      "\\textbf{C(sid)[T.89047164]}        &      -1.1276  &        0.466     &    -2.422  &         0.016        &        -2.043    -0.212       \\\\\n",
      "\\textbf{C(sid)[T.90447168]}        &       0.2387  &        0.549     &     0.435  &         0.664        &        -0.841     1.318       \\\\\n",
      "\\textbf{pre}                       &      -0.0074  &        0.046     &    -0.160  &         0.873        &        -0.098     0.083       \\\\\n",
      "\\textbf{sim_index}                 &       0.1702  &        0.047     &     3.624  &         0.000        &         0.078     0.262       \\\\\n",
      "\\textbf{level_experience_sims}     &      -0.2489  &        0.204     &    -1.222  &         0.222        &        -0.649     0.151       \\\\\n",
      "\\textbf{experience_undergrad_labs} &       0.6939  &        0.425     &     1.631  &         0.104        &        -0.142     1.530       \\\\\n",
      "\\textbf{used_similar_sim}          &      -0.0384  &        0.090     &    -0.429  &         0.668        &        -0.214     0.138       \\\\\n",
      "\\bottomrule\n",
      "\\end{tabular}\n",
      "\\begin{tabular}{lclc}\n",
      "\\textbf{Omnibus:}       & 67.972 & \\textbf{  Durbin-Watson:     } &    1.958  \\\\\n",
      "\\textbf{Prob(Omnibus):} &  0.000 & \\textbf{  Jarque-Bera (JB):  } &  194.672  \\\\\n",
      "\\textbf{Skew:}          & -0.593 & \\textbf{  Prob(JB):          } & 5.34e-43  \\\\\n",
      "\\textbf{Kurtosis:}      &  5.653 & \\textbf{  Cond. No.          } & 3.11e+15  \\\\\n",
      "\\bottomrule\n",
      "\\end{tabular}\n",
      "%\\caption{OLS Regression Results}\n",
      "\\end{center}\n"
     ]
    }
   ],
   "source": [
    "print(model.summary().as_latex())"
   ]
  },
  {
   "cell_type": "markdown",
   "metadata": {},
   "source": [
    "## Sensitivity analysis on CVS criteria using BIC"
   ]
  },
  {
   "cell_type": "code",
   "execution_count": 36,
   "metadata": {
    "collapsed": false,
    "scrolled": true
   },
   "outputs": [
    {
     "name": "stdout",
     "output_type": "stream",
     "text": [
      "\n",
      "\n",
      "Model:  main ~ C(CVS_levels_2)+ variable + pre + sim_index + C(sid) + level_experience_sims + experience_undergrad_labs + used_similar_sim\n",
      "\n",
      "Anova table using type 3\n",
      "\n",
      "                            sum_sq     df       F     PR(>F)     eta_sq   omega_sq\n",
      "Intercept                   26.839    1.0  99.205  5.234e-21  8.416e-02  8.324e-02\n",
      "C(CVS_levels_2)              5.656    2.0  10.453  3.766e-05  1.773e-02  1.602e-02\n",
      "variable                     2.713    3.0   3.342  1.931e-02  8.506e-03  5.956e-03\n",
      "C(sid)                     171.035  147.0   4.301  5.489e-31  5.363e-01  4.113e-01\n",
      "pre                          0.028    1.0   0.103  7.484e-01  8.742e-05 -7.603e-04\n",
      "sim_index                    3.940    1.0  14.563  1.572e-04  1.235e-02  1.150e-02\n",
      "level_experience_sims        0.442    1.0   1.632  2.021e-01  1.385e-03  5.361e-04\n",
      "experience_undergrad_labs    0.803    1.0   2.967  8.575e-02  2.517e-03  1.667e-03\n",
      "used_similar_sim             0.051    1.0   0.189  6.641e-01  1.603e-04 -6.875e-04\n",
      "Residual                   107.406  397.0     NaN        NaN        NaN        NaN\n",
      "\n",
      "Here is the linear model with coefficients and confidence intervals (removed stats for individual student ids):\n",
      "\n",
      "                            OLS Regression Results                            \n",
      "==============================================================================\n",
      "Dep. Variable:                   main   R-squared:                       0.604\n",
      "Model:                            OLS   Adj. R-squared:                  0.449\n",
      "Method:                 Least Squares   F-statistic:                     3.901\n",
      "Date:                Tue, 06 Feb 2018   Prob (F-statistic):           8.24e-28\n",
      "Time:                        15:13:47   Log-Likelihood:                -331.56\n",
      "No. Observations:                 553   AIC:                             975.1\n",
      "Df Residuals:                     397   BIC:                             1648.\n",
      "Df Model:                         155                                         \n",
      "Covariance Type:            nonrobust                                         \n",
      "=============================================================================================\n",
      "                                coef    std err          t      P>|t|      [95.0% Conf. Int.]\n",
      "---------------------------------------------------------------------------------------------\n",
      "Intercept                     1.8786      0.189      9.960      0.000         1.508     2.249\n",
      "C(CVS_levels_2)[T.1]          0.1210      0.090      1.345      0.179        -0.056     0.298\n",
      "C(CVS_levels_2)[T.2]          0.3857      0.085      4.546      0.000         0.219     0.552\n",
      "variable[T.Concentration]     0.1476      0.067      2.193      0.029         0.015     0.280\n",
      "variable[T.Separation]       -0.0613      0.063     -0.968      0.334        -0.186     0.063\n",
      "variable[T.Width]             0.0583      0.067      0.871      0.384        -0.073     0.190\n",
      "pre                          -0.0148      0.046     -0.321      0.748        -0.106     0.076\n",
      "sim_index                     0.1781      0.047      3.816      0.000         0.086     0.270\n",
      "level_experience_sims        -0.2595      0.203     -1.278      0.202        -0.659     0.140\n",
      "experience_undergrad_labs     0.7290      0.423      1.723      0.086        -0.103     1.561\n",
      "used_similar_sim             -0.0388      0.089     -0.435      0.664        -0.215     0.137\n",
      "==============================================================================\n",
      "Omnibus:                       66.273   Durbin-Watson:                   1.950\n",
      "Prob(Omnibus):                  0.000   Jarque-Bera (JB):              178.717\n",
      "Skew:                          -0.598   Prob(JB):                     1.56e-39\n",
      "Kurtosis:                       5.516   Cond. No.                     3.59e+15\n",
      "==============================================================================\n",
      "\n",
      "Warnings:\n",
      "[1] Standard Errors assume that the covariance matrix of the errors is correctly specified.\n",
      "[2] The smallest eigenvalue is 4.11e-28. This might indicate that there are\n",
      "strong multicollinearity problems or that the design matrix is singular.\n",
      "\n",
      "\n",
      "Model:  main ~ C(CVS_levels_3)+ variable + pre + sim_index + C(sid) + level_experience_sims + experience_undergrad_labs + used_similar_sim\n",
      "\n",
      "Anova table using type 3\n",
      "\n",
      "                            sum_sq     df        F     PR(>F)     eta_sq   omega_sq\n",
      "Intercept                   29.578    1.0  108.949  1.063e-22  9.121e-02  9.030e-02\n",
      "C(CVS_levels_3)              5.283    2.0    9.730  7.489e-05  1.629e-02  1.461e-02\n",
      "variable                     2.433    3.0    2.988  3.101e-02  7.504e-03  4.988e-03\n",
      "C(sid)                     174.445  147.0    4.371  1.173e-31  5.380e-01  4.145e-01\n",
      "pre                          0.007    1.0    0.026  8.730e-01  2.140e-05 -8.151e-04\n",
      "sim_index                    3.566    1.0   13.136  3.273e-04  1.100e-02  1.015e-02\n",
      "level_experience_sims        0.406    1.0    1.494  2.223e-01  1.251e-03  4.132e-04\n",
      "experience_undergrad_labs    0.722    1.0    2.660  1.037e-01  2.227e-03  1.389e-03\n",
      "used_similar_sim             0.050    1.0    0.184  6.681e-01  1.541e-04 -6.825e-04\n",
      "Residual                   107.778  397.0      NaN        NaN        NaN        NaN\n",
      "\n",
      "Here is the linear model with coefficients and confidence intervals (removed stats for individual student ids):\n",
      "\n",
      "                            OLS Regression Results                            \n",
      "==============================================================================\n",
      "Dep. Variable:                   main   R-squared:                       0.602\n",
      "Model:                            OLS   Adj. R-squared:                  0.447\n",
      "Method:                 Least Squares   F-statistic:                     3.878\n",
      "Date:                Tue, 06 Feb 2018   Prob (F-statistic):           1.38e-27\n",
      "Time:                        15:13:47   Log-Likelihood:                -332.52\n",
      "No. Observations:                 553   AIC:                             977.0\n",
      "Df Residuals:                     397   BIC:                             1650.\n",
      "Df Model:                         155                                         \n",
      "Covariance Type:            nonrobust                                         \n",
      "=============================================================================================\n",
      "                                coef    std err          t      P>|t|      [95.0% Conf. Int.]\n",
      "---------------------------------------------------------------------------------------------\n",
      "Intercept                     1.9493      0.187     10.438      0.000         1.582     2.316\n",
      "C(CVS_levels_3)[T.1]         -0.0377      0.096     -0.392      0.695        -0.227     0.151\n",
      "C(CVS_levels_3)[T.2]          0.3457      0.086      4.006      0.000         0.176     0.515\n",
      "variable[T.Concentration]     0.1368      0.068      2.021      0.044         0.004     0.270\n",
      "variable[T.Separation]       -0.0627      0.064     -0.987      0.324        -0.188     0.062\n",
      "variable[T.Width]             0.0578      0.067      0.864      0.388        -0.074     0.189\n",
      "pre                          -0.0074      0.046     -0.160      0.873        -0.098     0.083\n",
      "sim_index                     0.1702      0.047      3.624      0.000         0.078     0.262\n",
      "level_experience_sims        -0.2489      0.204     -1.222      0.222        -0.649     0.151\n",
      "experience_undergrad_labs     0.6939      0.425      1.631      0.104        -0.142     1.530\n",
      "used_similar_sim             -0.0384      0.090     -0.429      0.668        -0.214     0.138\n",
      "==============================================================================\n",
      "Omnibus:                       67.972   Durbin-Watson:                   1.958\n",
      "Prob(Omnibus):                  0.000   Jarque-Bera (JB):              194.672\n",
      "Skew:                          -0.593   Prob(JB):                     5.34e-43\n",
      "Kurtosis:                       5.653   Cond. No.                     3.11e+15\n",
      "==============================================================================\n",
      "\n",
      "Warnings:\n",
      "[1] Standard Errors assume that the covariance matrix of the errors is correctly specified.\n",
      "[2] The smallest eigenvalue is 5.43e-28. This might indicate that there are\n",
      "strong multicollinearity problems or that the design matrix is singular.\n",
      "\n",
      "\n",
      "Model:  main ~ C(CVS_levels_4)+ variable + pre + sim_index + C(sid) + level_experience_sims + experience_undergrad_labs + used_similar_sim\n",
      "\n",
      "Anova table using type 3\n",
      "\n",
      "                            sum_sq     df        F     PR(>F)     eta_sq   omega_sq\n",
      "Intercept                   30.066    1.0  109.940  7.183e-23  9.210e-02  9.118e-02\n",
      "C(CVS_levels_4)              4.494    2.0    8.216  3.189e-04  1.377e-02  1.208e-02\n",
      "variable                     2.437    3.0    2.970  3.174e-02  7.464e-03  4.947e-03\n",
      "C(sid)                     176.102  147.0    4.381  9.551e-32  5.394e-01  4.159e-01\n",
      "pre                          0.011    1.0    0.039  8.433e-01  3.280e-05 -8.042e-04\n",
      "sim_index                    3.620    1.0   13.239  3.104e-04  1.109e-02  1.024e-02\n",
      "level_experience_sims        0.406    1.0    1.486  2.236e-01  1.245e-03  4.065e-04\n",
      "experience_undergrad_labs    0.720    1.0    2.634  1.054e-01  2.207e-03  1.368e-03\n",
      "used_similar_sim             0.035    1.0    0.127  7.218e-01  1.064e-04 -7.307e-04\n",
      "Residual                   108.568  397.0      NaN        NaN        NaN        NaN\n",
      "\n",
      "Here is the linear model with coefficients and confidence intervals (removed stats for individual student ids):\n",
      "\n",
      "                            OLS Regression Results                            \n",
      "==============================================================================\n",
      "Dep. Variable:                   main   R-squared:                       0.599\n",
      "Model:                            OLS   Adj. R-squared:                  0.443\n",
      "Method:                 Least Squares   F-statistic:                     3.832\n",
      "Date:                Tue, 06 Feb 2018   Prob (F-statistic):           4.07e-27\n",
      "Time:                        15:13:47   Log-Likelihood:                -334.54\n",
      "No. Observations:                 553   AIC:                             981.1\n",
      "Df Residuals:                     397   BIC:                             1654.\n",
      "Df Model:                         155                                         \n",
      "Covariance Type:            nonrobust                                         \n",
      "=============================================================================================\n",
      "                                coef    std err          t      P>|t|      [95.0% Conf. Int.]\n",
      "---------------------------------------------------------------------------------------------\n",
      "Intercept                     1.9577      0.187     10.485      0.000         1.591     2.325\n",
      "C(CVS_levels_4)[T.1]         -0.0040      0.125     -0.032      0.974        -0.250     0.241\n",
      "C(CVS_levels_4)[T.2]          0.3414      0.089      3.817      0.000         0.166     0.517\n",
      "variable[T.Concentration]     0.1328      0.068      1.945      0.052        -0.001     0.267\n",
      "variable[T.Separation]       -0.0686      0.064     -1.077      0.282        -0.194     0.057\n",
      "variable[T.Width]             0.0527      0.068      0.778      0.437        -0.081     0.186\n",
      "pre                          -0.0092      0.046     -0.198      0.843        -0.100     0.082\n",
      "sim_index                     0.1716      0.047      3.639      0.000         0.079     0.264\n",
      "level_experience_sims        -0.2493      0.205     -1.219      0.224        -0.651     0.153\n",
      "experience_undergrad_labs     0.6949      0.428      1.623      0.105        -0.147     1.537\n",
      "used_similar_sim             -0.0321      0.090     -0.356      0.722        -0.209     0.145\n",
      "==============================================================================\n",
      "Omnibus:                       65.692   Durbin-Watson:                   1.959\n",
      "Prob(Omnibus):                  0.000   Jarque-Bera (JB):              184.626\n",
      "Skew:                          -0.579   Prob(JB):                     8.11e-41\n",
      "Kurtosis:                       5.583   Cond. No.                     3.49e+15\n",
      "==============================================================================\n",
      "\n",
      "Warnings:\n",
      "[1] Standard Errors assume that the covariance matrix of the errors is correctly specified.\n",
      "[2] The smallest eigenvalue is 4.31e-28. This might indicate that there are\n",
      "strong multicollinearity problems or that the design matrix is singular.\n",
      "\n",
      "\n",
      "Model:  main ~ C(CVS_levels_5)+ variable + pre + sim_index + C(sid) + level_experience_sims + experience_undergrad_labs + used_similar_sim\n",
      "\n",
      "Anova table using type 3\n",
      "\n",
      "                              sum_sq     df        F     PR(>F)     eta_sq   omega_sq\n",
      "Intercept                  3.008e+01    1.0  107.030  2.276e-22  9.018e-02  8.926e-02\n",
      "C(CVS_levels_5)            1.494e+00    2.0    2.659  7.128e-02  4.480e-03  2.793e-03\n",
      "variable                   2.712e+00    3.0    3.216  2.285e-02  8.130e-03  5.597e-03\n",
      "C(sid)                     1.815e+02  147.0    4.393  7.270e-32  5.441e-01  4.199e-01\n",
      "pre                        9.148e-04    1.0    0.003  9.545e-01  2.743e-06 -8.391e-04\n",
      "sim_index                  4.519e+00    1.0   16.081  7.253e-05  1.355e-02  1.270e-02\n",
      "level_experience_sims      5.184e-01    1.0    1.845  1.752e-01  1.554e-03  7.110e-04\n",
      "experience_undergrad_labs  1.073e+00    1.0    3.818  5.140e-02  3.217e-03  2.373e-03\n",
      "used_similar_sim           9.291e-02    1.0    0.331  5.656e-01  2.786e-04 -5.635e-04\n",
      "Residual                   1.116e+02  397.0      NaN        NaN        NaN        NaN\n",
      "\n",
      "Here is the linear model with coefficients and confidence intervals (removed stats for individual student ids):\n",
      "\n",
      "                            OLS Regression Results                            \n",
      "==============================================================================\n",
      "Dep. Variable:                   main   R-squared:                       0.588\n",
      "Model:                            OLS   Adj. R-squared:                  0.428\n",
      "Method:                 Least Squares   F-statistic:                     3.660\n",
      "Date:                Tue, 06 Feb 2018   Prob (F-statistic):           2.22e-25\n",
      "Time:                        15:13:47   Log-Likelihood:                -342.07\n",
      "No. Observations:                 553   AIC:                             996.1\n",
      "Df Residuals:                     397   BIC:                             1669.\n",
      "Df Model:                         155                                         \n",
      "Covariance Type:            nonrobust                                         \n",
      "=============================================================================================\n",
      "                                coef    std err          t      P>|t|      [95.0% Conf. Int.]\n",
      "---------------------------------------------------------------------------------------------\n",
      "Intercept                     1.9588      0.189     10.346      0.000         1.587     2.331\n",
      "C(CVS_levels_5)[T.1]         -0.0008      0.132     -0.006      0.995        -0.260     0.259\n",
      "C(CVS_levels_5)[T.2]          0.1833      0.084      2.190      0.029         0.019     0.348\n",
      "variable[T.Concentration]     0.1444      0.070      2.077      0.038         0.008     0.281\n",
      "variable[T.Separation]       -0.0681      0.065     -1.054      0.292        -0.195     0.059\n",
      "variable[T.Width]             0.0558      0.069      0.813      0.417        -0.079     0.191\n",
      "pre                           0.0027      0.047      0.057      0.955        -0.089     0.095\n",
      "sim_index                     0.1906      0.048      4.010      0.000         0.097     0.284\n",
      "level_experience_sims        -0.2820      0.208     -1.358      0.175        -0.690     0.126\n",
      "experience_undergrad_labs     0.8465      0.433      1.954      0.051        -0.005     1.698\n",
      "used_similar_sim             -0.0525      0.091     -0.575      0.566        -0.232     0.127\n",
      "==============================================================================\n",
      "Omnibus:                       62.569   Durbin-Watson:                   1.947\n",
      "Prob(Omnibus):                  0.000   Jarque-Bera (JB):              174.842\n",
      "Skew:                          -0.552   Prob(JB):                     1.08e-38\n",
      "Kurtosis:                       5.524   Cond. No.                     3.15e+15\n",
      "==============================================================================\n",
      "\n",
      "Warnings:\n",
      "[1] Standard Errors assume that the covariance matrix of the errors is correctly specified.\n",
      "[2] The smallest eigenvalue is 5.23e-28. This might indicate that there are\n",
      "strong multicollinearity problems or that the design matrix is singular.\n"
     ]
    }
   ],
   "source": [
    "for CVS in ['CVS_levels_2','CVS_levels_3','CVS_levels_4','CVS_levels_5']:\n",
    "    formula = 'main ~ C('+CVS+')' + covariates_for_parsimonious_model\n",
    "    model = ols(formula, filtered_maxpre_data).fit()\n",
    "    print \"\\n\\nModel: \",formula\n",
    "    aov_table = anova_lm(model, typ=3)\n",
    "    eta_squared(aov_table)\n",
    "    omega_squared(aov_table)\n",
    "    print \"\\nAnova table using type 3\\n\"\n",
    "    print(aov_table)\n",
    "    print \"\\nHere is the linear model with coefficients and confidence intervals (removed stats for individual student ids):\\n\"\n",
    "    print clean_summary(model)"
   ]
  },
  {
   "cell_type": "markdown",
   "metadata": {},
   "source": [
    "These results were produced using AOV of linear regression with Type III SS\n",
    "\n",
    "We think a threshold of 3 pts is stricks a balance between 1) measuring more deliberatness than 2 pts and 2) it is less stringent than using more points.\n",
    "\n",
    "Here are the AIC and BIC of the models (lower means better model controlling for number of parameters)\n",
    "\n",
    "\n",
    "    no interactions\n",
    "    #pts\tR^2\n",
    "    2\t\t0.449\n",
    "    3\t\t0.447\n",
    "    4\t\t0.443\n",
    "    5\t\t0.428\n",
    "\n",
    "None of these models are drastically different from each other, thought 5pts is definitely the worst\n",
    "\n",
    "We pick #pts = 3 and call it a day"
   ]
  },
  {
   "cell_type": "code",
   "execution_count": 116,
   "metadata": {
    "collapsed": false
   },
   "outputs": [
    {
     "data": {
      "text/plain": [
       "array(['Concentration', 'Width', 'Area', 'Separation'], dtype=object)"
      ]
     },
     "execution_count": 116,
     "metadata": {},
     "output_type": "execute_result"
    }
   ],
   "source": [
    "data['variable'].unique()"
   ]
  },
  {
   "cell_type": "code",
   "execution_count": 119,
   "metadata": {
    "collapsed": false
   },
   "outputs": [
    {
     "name": "stdout",
     "output_type": "stream",
     "text": [
      "\\begin{tabular}{llllll}\n",
      "\\hline\n",
      " Threshold & Concentration & Width & Area & Separation & \\$R\\^{}2\\$ \\\\\n",
      " 2         & 0.52          & 0.48  & 0.49 & 0.48       & 0.449 \\\\\n",
      " 3         & 0.5           & 0.45  & 0.44 & 0.43       & 0.447 \\\\\n",
      " 4         & 0.47          & 0.43  & 0.41 & 0.41       & 0.443 \\\\\n",
      " 5         & 0.39          & 0.32  & 0.31 & 0.32       & 0.428 \\\\\n",
      "\\hline\n",
      "\\end{tabular}\n"
     ]
    }
   ],
   "source": [
    "results = [['Threshold','Concentration ','Width ','Area ','Separation','$R^2$']]\n",
    "for t,r in zip([2,3,4,5],[0.449,0.447,0.443,0.428]):\n",
    "    res = [t]\n",
    "    res.extend([round(sum(data[data['variable']==v]['CVS_graph_'+str(t)])/float(N),2) for v in ['Concentration','Width','Area','Separation']])\n",
    "    res.append(r)\n",
    "    results.append(res)\n",
    "print tabulate(results,tablefmt='latex')"
   ]
  },
  {
   "cell_type": "markdown",
   "metadata": {},
   "source": [
    "### Models per variable"
   ]
  },
  {
   "cell_type": "code",
   "execution_count": 37,
   "metadata": {
    "collapsed": false
   },
   "outputs": [
    {
     "name": "stdout",
     "output_type": "stream",
     "text": [
      "This plot needs to be redone with standard deviation bars and organized by sim, colored by level\n"
     ]
    },
    {
     "data": {
      "image/png": "[encoded data removed]",
      "text/plain": [
       "<matplotlib.figure.Figure at 0x12073e48>"
      ]
     },
     "metadata": {},
     "output_type": "display_data"
    }
   ],
   "source": [
    "per_variable = pd.pivot_table(filtered_maxpre_data, values=['main'], index=['variable','CVS_levels_3'],aggfunc=(np.mean))\n",
    "per_variable.plot(kind='bar')\n",
    "print \"This plot needs to be redone with standard deviation bars and organized by sim, colored by level\""
   ]
  },
  {
   "cell_type": "code",
   "execution_count": 38,
   "metadata": {
    "collapsed": true
   },
   "outputs": [],
   "source": [
    "covariates_for_variable_models = \" + pre + sim_index + level_experience_sims + experience_undergrad_labs + used_similar_sim + use_graph\""
   ]
  },
  {
   "cell_type": "code",
   "execution_count": 39,
   "metadata": {
    "collapsed": false,
    "hideCode": true,
    "hidePrompt": true
   },
   "outputs": [
    {
     "name": "stdout",
     "output_type": "stream",
     "text": [
      "__________________________________\n",
      "FOR VARIABLE  Width \n",
      "__________________________________\n",
      "\n",
      "\n",
      "Model:  main ~ C(CVS_levels_3) + pre + sim_index + level_experience_sims + experience_undergrad_labs + used_similar_sim + use_graph\n",
      "\n",
      "Anova table using type 3 errors\n",
      "\n",
      "                           sum_sq     df       F     PR(>F)     eta_sq  omega_sq\n",
      "Intercept                  20.425    1.0  42.688  1.276e-09  2.099e-01     0.204\n",
      "C(CVS_levels_3)            10.893    2.0  11.383  2.749e-05  1.119e-01     0.102\n",
      "pre                         0.055    1.0   0.115  7.353e-01  5.645e-04    -0.004\n",
      "sim_index                   1.125    1.0   2.351  1.276e-01  1.156e-02     0.007\n",
      "level_experience_sims       0.033    1.0   0.068  7.940e-01  3.366e-04    -0.005\n",
      "experience_undergrad_labs   0.765    1.0   1.599  2.082e-01  7.863e-03     0.003\n",
      "used_similar_sim            0.748    1.0   1.564  2.134e-01  7.687e-03     0.003\n",
      "use_graph                   0.115    1.0   0.239  6.254e-01  1.177e-03    -0.004\n",
      "Residual                   63.159  132.0     NaN        NaN        NaN       NaN\n",
      "__________________________________\n",
      "FOR VARIABLE  Concentration \n",
      "__________________________________\n",
      "\n",
      "\n",
      "Model:  main ~ C(CVS_levels_3) + pre + sim_index + level_experience_sims + experience_undergrad_labs + used_similar_sim + use_graph\n",
      "\n",
      "Anova table using type 3 errors\n",
      "\n",
      "                           sum_sq     df       F     PR(>F)  eta_sq   omega_sq\n",
      "Intercept                  17.001    1.0  50.496  7.624e-11   0.241  2.347e-01\n",
      "C(CVS_levels_3)             8.160    2.0  12.119  1.525e-05   0.115  1.054e-01\n",
      "pre                         0.320    1.0   0.949  3.318e-01   0.005 -2.409e-04\n",
      "sim_index                   1.479    1.0   4.393  3.807e-02   0.021  1.609e-02\n",
      "level_experience_sims       0.196    1.0   0.581  4.473e-01   0.003 -1.987e-03\n",
      "experience_undergrad_labs   0.172    1.0   0.512  4.756e-01   0.002 -2.315e-03\n",
      "used_similar_sim            0.391    1.0   1.163  2.830e-01   0.006  7.712e-04\n",
      "use_graph                   0.189    1.0   0.563  4.546e-01   0.003 -2.074e-03\n",
      "Residual                   42.758  127.0     NaN        NaN     NaN        NaN\n",
      "__________________________________\n",
      "FOR VARIABLE  Area \n",
      "__________________________________\n",
      "\n",
      "\n",
      "Model:  main ~ C(CVS_levels_3) + pre + sim_index + level_experience_sims + experience_undergrad_labs + used_similar_sim + use_graph\n",
      "\n",
      "Anova table using type 3 errors\n",
      "\n",
      "                           sum_sq     df       F     PR(>F)     eta_sq  omega_sq\n",
      "Intercept                  14.233    1.0  31.847  1.023e-07  1.804e-01     0.174\n",
      "C(CVS_levels_3)             4.132    2.0   4.622  1.153e-02  5.238e-02     0.041\n",
      "pre                         1.711    1.0   3.829  5.255e-02  2.169e-02     0.016\n",
      "sim_index                   0.015    1.0   0.033  8.557e-01  1.880e-04    -0.005\n",
      "level_experience_sims       0.623    1.0   1.393  2.400e-01  7.894e-03     0.002\n",
      "experience_undergrad_labs   0.011    1.0   0.024  8.780e-01  1.339e-04    -0.006\n",
      "used_similar_sim            0.365    1.0   0.817  3.679e-01  4.626e-03    -0.001\n",
      "use_graph                   0.587    1.0   1.314  2.538e-01  7.446e-03     0.002\n",
      "Residual                   57.205  128.0     NaN        NaN        NaN       NaN\n",
      "__________________________________\n",
      "FOR VARIABLE  Separation \n",
      "__________________________________\n",
      "\n",
      "\n",
      "Model:  main ~ C(CVS_levels_3) + pre + sim_index + level_experience_sims + experience_undergrad_labs + used_similar_sim + use_graph\n",
      "\n",
      "Anova table using type 3 errors\n",
      "\n",
      "                           sum_sq     df       F     PR(>F)     eta_sq  omega_sq\n",
      "Intercept                   9.951    1.0  23.167  4.056e-06  1.418e-01     0.135\n",
      "C(CVS_levels_3)             0.605    2.0   0.704  4.963e-01  8.621e-03    -0.004\n",
      "pre                         1.110    1.0   2.585  1.103e-01  1.582e-02     0.010\n",
      "sim_index                   1.154    1.0   2.688  1.035e-01  1.645e-02     0.010\n",
      "level_experience_sims       1.020    1.0   2.376  1.257e-01  1.454e-02     0.008\n",
      "experience_undergrad_labs   0.003    1.0   0.007  9.350e-01  4.080e-05    -0.006\n",
      "used_similar_sim            0.209    1.0   0.486  4.868e-01  2.976e-03    -0.003\n",
      "use_graph                   0.301    1.0   0.700  4.043e-01  4.283e-03    -0.002\n",
      "Residual                   55.838  130.0     NaN        NaN        NaN       NaN\n"
     ]
    }
   ],
   "source": [
    "for variable in ['Width', 'Concentration','Area','Separation']:\n",
    "    print \"__________________________________\\nFOR VARIABLE \", variable, '\\n__________________________________'\n",
    "    formula = 'main ~ C(CVS_levels_3)' + covariates_for_variable_models\n",
    "    model = ols(formula, filtered_maxpre_data[filtered_maxpre_data['variable']==variable]).fit()\n",
    "    print \"\\n\\nModel: \",formula\n",
    "    aov_table = anova_lm(model, typ=3)\n",
    "    eta_squared(aov_table)\n",
    "    omega_squared(aov_table)\n",
    "    print \"\\nAnova table using type 3 errors\\n\"\n",
    "    print(aov_table)\n",
    "#     print \"\\nHere is the linear model with coefficients and confidence intervals:\\n\"\n",
    "#     print clean_summary(model)"
   ]
  },
  {
   "cell_type": "markdown",
   "metadata": {},
   "source": [
    "## Post-hoc analysis on levels using 3pts as threshold"
   ]
  },
  {
   "cell_type": "code",
   "execution_count": 40,
   "metadata": {
    "collapsed": false,
    "scrolled": false
   },
   "outputs": [
    {
     "name": "stdout",
     "output_type": "stream",
     "text": [
      "\n",
      "\n",
      "Model:  main ~ C(CVS_levels_3)+ variable + pre + sim_index + C(sid) + level_experience_sims + experience_undergrad_labs + used_similar_sim\n",
      "Comparing CVS levels ignoring level  0\n",
      "\n",
      "Anova table using type 3 errors\n",
      "\n",
      "                           sum_sq     df       F     PR(>F)     eta_sq  omega_sq\n",
      "Intercept                  10.994    1.0  30.820  1.702e-07  8.432e-02     0.081\n",
      "C(CVS_levels_3)             2.291    1.0   6.424  1.254e-02  1.757e-02     0.015\n",
      "variable                    1.800    3.0   1.682  1.744e-01  1.381e-02     0.006\n",
      "C(sid)                     69.071   87.0   2.226  2.448e-05  5.297e-01     0.291\n",
      "pre                         0.083    1.0   0.232  6.310e-01  6.343e-04    -0.002\n",
      "sim_index                   1.025    1.0   2.872  9.269e-02  7.858e-03     0.005\n",
      "level_experience_sims       0.581    1.0   1.629  2.042e-01  4.457e-03     0.002\n",
      "experience_undergrad_labs   0.791    1.0   2.217  1.391e-01  6.065e-03     0.003\n",
      "used_similar_sim            0.591    1.0   1.658  2.003e-01  4.536e-03     0.002\n",
      "Residual                   43.162  121.0     NaN        NaN        NaN       NaN\n",
      "\n",
      "\n",
      "Model:  main ~ C(CVS_levels_3)+ variable + pre + sim_index + C(sid) + level_experience_sims + experience_undergrad_labs + used_similar_sim\n",
      "Comparing CVS levels ignoring level  1\n",
      "\n",
      "Anova table using type 3 errors\n",
      "\n",
      "                            sum_sq     df        F     PR(>F)     eta_sq   omega_sq\n",
      "Intercept                   27.317    1.0  108.023  2.532e-22  9.176e-02  9.084e-02\n",
      "C(CVS_levels_3)              3.551    2.0    7.022  1.019e-03  1.193e-02  1.022e-02\n",
      "variable                     2.830    3.0    3.730  1.154e-02  9.505e-03  6.950e-03\n",
      "C(sid)                     165.672  147.0    4.457  4.391e-31  5.565e-01  4.313e-01\n",
      "pre                          0.010    1.0    0.038  8.452e-01  3.243e-05 -8.164e-04\n",
      "sim_index                    5.277    1.0   20.865  6.760e-06  1.772e-02  1.686e-02\n",
      "level_experience_sims        0.479    1.0    1.893  1.697e-01  1.608e-03  7.578e-04\n",
      "experience_undergrad_labs    0.752    1.0    2.972  8.555e-02  2.525e-03  1.674e-03\n",
      "used_similar_sim             0.008    1.0    0.032  8.571e-01  2.757e-05 -8.212e-04\n",
      "Residual                    91.797  363.0      NaN        NaN        NaN        NaN\n",
      "\n",
      "\n",
      "Model:  main ~ C(CVS_levels_3)+ variable + pre + sim_index + C(sid) + level_experience_sims + experience_undergrad_labs + used_similar_sim\n",
      "Comparing CVS levels ignoring level  2\n",
      "\n",
      "Anova table using type 3 errors\n",
      "\n",
      "                            sum_sq     df       F     PR(>F)     eta_sq   omega_sq\n",
      "Intercept                   16.957    1.0  79.349  1.350e-16  7.855e-02  7.749e-02\n",
      "C(CVS_levels_3)              2.137    2.0   4.999  7.466e-03  9.898e-03  7.910e-03\n",
      "variable                     0.724    3.0   1.130  3.376e-01  3.356e-03  3.859e-04\n",
      "C(sid)                     138.875  123.0   5.283  2.505e-28  6.433e-01  5.211e-01\n",
      "pre                          0.073    1.0   0.340  5.606e-01  3.362e-04 -6.532e-04\n",
      "sim_index                    0.954    1.0   4.462  3.569e-02  4.418e-03  3.424e-03\n",
      "level_experience_sims        2.726    1.0  12.756  4.290e-04  1.263e-02  1.163e-02\n",
      "experience_undergrad_labs    1.791    1.0   8.379  4.146e-03  8.296e-03  7.298e-03\n",
      "used_similar_sim             0.555    1.0   2.595  1.085e-01  2.569e-03  1.577e-03\n",
      "Residual                    51.075  239.0     NaN        NaN        NaN        NaN\n"
     ]
    }
   ],
   "source": [
    "for ignore in [0,1,2]:\n",
    "    formula = 'main ~ C(CVS_levels_3)' + covariates_for_parsimonious_model\n",
    "    model = ols(formula, filtered_maxpre_data[filtered_maxpre_data[CVS]!=ignore]).fit()\n",
    "    print \"\\n\\nModel: \",formula\n",
    "    print \"Comparing CVS levels ignoring level \",ignore\n",
    "    aov_table = anova_lm(model, typ=3)\n",
    "    eta_squared(aov_table)\n",
    "    omega_squared(aov_table)\n",
    "    print \"\\nAnova table using type 3 errors\\n\"\n",
    "    print(aov_table)"
   ]
  },
  {
   "cell_type": "code",
   "execution_count": 41,
   "metadata": {
    "collapsed": false
   },
   "outputs": [
    {
     "name": "stdout",
     "output_type": "stream",
     "text": [
      "This plot needs to be redone with standard deviation bars and colored by level and stars given the tests above\n",
      "0-1 => -\n",
      "1-2 => *\n",
      "0-2 => ***\n"
     ]
    },
    {
     "data": {
      "image/png": "[encoded data removed]",
      "text/plain": [
       "<matplotlib.figure.Figure at 0x11975eb8>"
      ]
     },
     "metadata": {},
     "output_type": "display_data"
    }
   ],
   "source": [
    "levels = pd.pivot_table(filtered_maxpre_data, values=['main'], index=['CVS_levels_3'],aggfunc=np.mean)\n",
    "levels.plot(kind='bar')\n",
    "print \"This plot needs to be redone with standard deviation bars and colored by level and stars given the tests above\"\n",
    "print '0-1 => -'\n",
    "print '1-2 => *'\n",
    "print '0-2 => ***'"
   ]
  },
  {
   "cell_type": "markdown",
   "metadata": {},
   "source": [
    "### Post-hoc analysis on experience in physic undergraduate labs"
   ]
  },
  {
   "cell_type": "code",
   "execution_count": 42,
   "metadata": {
    "collapsed": true
   },
   "outputs": [],
   "source": [
    "# posthoc_exp_physics_labs = pd.pivot_table(data, values=['main'], index=['experience_undergrad_labs'],aggfunc=(np.mean))\n",
    "# posthoc_exp_physics_labs.plot(kind='bar')\n",
    "# print \"This plot needs to be redone with standard deviation bars and organized by sim, colored by level\""
   ]
  },
  {
   "cell_type": "markdown",
   "metadata": {},
   "source": [
    "### Post-hoc analysis on order"
   ]
  },
  {
   "cell_type": "code",
   "execution_count": 43,
   "metadata": {
    "collapsed": true
   },
   "outputs": [],
   "source": [
    "# posthoc_sim_index = pd.pivot_table(data, values=['main'], index=['sim_index'],aggfunc=(np.mean))\n",
    "# posthoc_sim_index.plot(kind='bar')\n",
    "# print \"This plot needs to be redone with standard deviation bars and organized by sim, colored by level\""
   ]
  },
  {
   "cell_type": "markdown",
   "metadata": {},
   "source": [
    "### Post-hoc analysis on variable"
   ]
  },
  {
   "cell_type": "code",
   "execution_count": 44,
   "metadata": {
    "collapsed": true
   },
   "outputs": [],
   "source": [
    "# posthoc_variable = pd.pivot_table(data, values=['main'], index=['variable'],aggfunc=(np.mean))\n",
    "# posthoc_variable.plot(kind='bar')\n",
    "# print \"This plot needs to be redone with standard deviation bars and organized by sim, colored by level\""
   ]
  },
  {
   "cell_type": "markdown",
   "metadata": {
    "hideCode": true,
    "hidePrompt": true
   },
   "source": [
    "Findings:\n",
    "* CVS_levels=2 (graph) matters for all except Separation\n",
    "* Pre matters for all except Width"
   ]
  },
  {
   "cell_type": "markdown",
   "metadata": {},
   "source": [
    "## Repeat model for only student who use graph (85%)"
   ]
  },
  {
   "cell_type": "code",
   "execution_count": 45,
   "metadata": {
    "collapsed": false
   },
   "outputs": [
    {
     "name": "stdout",
     "output_type": "stream",
     "text": [
      "\n",
      "\n",
      "Model:  main ~ C(CVS_levels_3)+ variable + pre + sim_index + C(sid) + level_experience_sims + experience_undergrad_labs + used_similar_sim\n",
      "Comparing CVS levels 1 and 2\n",
      "\n",
      "Anova table using type 3 errors\n",
      "\n",
      "                           sum_sq     df       F     PR(>F)     eta_sq  omega_sq\n",
      "Intercept                  11.013    1.0  30.875  1.665e-07  8.456e-02     0.082\n",
      "C(CVS_levels_3)             2.291    1.0   6.424  1.254e-02  1.759e-02     0.015\n",
      "variable                    1.800    3.0   1.682  1.744e-01  1.382e-02     0.006\n",
      "C(sid)                     68.895   85.0   2.272  1.707e-05  5.290e-01     0.295\n",
      "pre                         0.083    1.0   0.232  6.310e-01  6.350e-04    -0.002\n",
      "sim_index                   1.025    1.0   2.872  9.269e-02  7.867e-03     0.005\n",
      "level_experience_sims       0.584    1.0   1.637  2.032e-01  4.483e-03     0.002\n",
      "experience_undergrad_labs   0.793    1.0   2.222  1.387e-01  6.086e-03     0.003\n",
      "used_similar_sim            0.591    1.0   1.658  2.003e-01  4.541e-03     0.002\n",
      "Residual                   43.162  121.0     NaN        NaN        NaN       NaN\n"
     ]
    }
   ],
   "source": [
    "formula = 'main ~ C(CVS_levels_3)' + covariates_for_parsimonious_model\n",
    "model = ols(formula, filtered_maxpre_data[(filtered_maxpre_data[CVS]!=0)&(filtered_maxpre_data['use_graph']==1)]).fit()\n",
    "print \"\\n\\nModel: \",formula\n",
    "print \"Comparing CVS levels 1 and 2\"\n",
    "aov_table = anova_lm(model, typ=3)\n",
    "eta_squared(aov_table)\n",
    "omega_squared(aov_table)\n",
    "print \"\\nAnova table using type 3 errors\\n\"\n",
    "print(aov_table)"
   ]
  },
  {
   "cell_type": "markdown",
   "metadata": {
    "hideCode": true,
    "hidePrompt": true
   },
   "source": [
    "# What affects use CVS-like inquiry strategies?"
   ]
  },
  {
   "cell_type": "markdown",
   "metadata": {
    "hideCode": true,
    "hideOutput": true,
    "hidePrompt": true
   },
   "source": [
    "For some reason adding students in the matric turns it into a singular matrix and fails the analysis. Probably because two students are exactly identical?"
   ]
  },
  {
   "cell_type": "markdown",
   "metadata": {
    "hideCode": true,
    "hidePrompt": true
   },
   "source": [
    "## Overall, how much do they use it?"
   ]
  },
  {
   "cell_type": "code",
   "execution_count": 46,
   "metadata": {
    "collapsed": true
   },
   "outputs": [],
   "source": [
    "data['CVS_table'] = data['CVS_table_3']\n",
    "data['CVS_graph'] = data['CVS_graph_3']\n",
    "sums = pd.pivot_table(data, values=['CVS_table','CVS_graph'], index=['sid'], aggfunc=np.sum)"
   ]
  },
  {
   "cell_type": "code",
   "execution_count": 47,
   "metadata": {
    "collapsed": false
   },
   "outputs": [
    {
     "name": "stdout",
     "output_type": "stream",
     "text": [
      "(592, 29)\n"
     ]
    }
   ],
   "source": [
    "print data.shape"
   ]
  },
  {
   "cell_type": "code",
   "execution_count": 48,
   "metadata": {
    "collapsed": false
   },
   "outputs": [
    {
     "name": "stdout",
     "output_type": "stream",
     "text": [
      "\n",
      "For CVs with 2 pts as a threshold\n",
      "   93% of students use CVS table once and 47% do it for all variables.\n",
      "   70% of students use CVS graph once and 29% do it for all variables.\n",
      "\n",
      "For CVs with 3 pts as a threshold\n",
      "   81% of students use CVS table once and 35% do it for all variables.\n",
      "   65% of students use CVS graph once and 26% do it for all variables.\n",
      "\n",
      "For CVs with 4 pts as a threshold\n",
      "   68% of students use CVS table once and 30% do it for all variables.\n",
      "   61% of students use CVS graph once and 23% do it for all variables.\n",
      "\n",
      "For CVs with 5 pts as a threshold\n",
      "   61% of students use CVS table once and 18% do it for all variables.\n",
      "   55% of students use CVS graph once and 13% do it for all variables.\n"
     ]
    }
   ],
   "source": [
    "for threshold in ['2','3','4','5']:\n",
    "    print '\\nFor CVs with {0} pts as a threshold'.format(threshold)\n",
    "    sums = pd.pivot_table(data, values=['CVS_table_'+threshold,'CVS_graph_'+threshold], index=['sid'], aggfunc=np.sum)\n",
    "    once = len(sums[sums['CVS_table_'+threshold]>0])/float(N)*100\n",
    "    all4 = len(sums[sums['CVS_table_'+threshold]==4])/float(N)*100\n",
    "    print \"   {0}% of students use CVS table once and {1}% do it for all variables.\".format(int(once),int(all4))\n",
    "    once = len(sums[sums['CVS_graph_'+threshold]>0])/float(N)*100\n",
    "    all4 = len(sums[sums['CVS_graph_'+threshold]==4])/float(N)*100\n",
    "    print \"   {0}% of students use CVS graph once and {1}% do it for all variables.\".format(int(once),int(all4))"
   ]
  },
  {
   "cell_type": "markdown",
   "metadata": {},
   "source": [
    "## Are they consistent in their usage of CVS graph?"
   ]
  },
  {
   "cell_type": "code",
   "execution_count": 49,
   "metadata": {
    "collapsed": true
   },
   "outputs": [],
   "source": [
    "sums2 = pd.pivot_table(data, values=['CVS_graph'], index=['sid','sim'], aggfunc=np.sum)\n",
    "sums2 = sums2.reset_index(level=['sim','sid'])\n",
    "# sums2.head()"
   ]
  },
  {
   "cell_type": "code",
   "execution_count": 50,
   "metadata": {
    "collapsed": false,
    "hideCode": true,
    "hidePrompt": true
   },
   "outputs": [
    {
     "data": {
      "text/plain": [
       "<matplotlib.text.Text at 0x153fd2b0>"
      ]
     },
     "execution_count": 50,
     "metadata": {},
     "output_type": "execute_result"
    },
    {
     "data": {
      "image/png": "[encoded data removed]",
      "text/plain": [
       "<matplotlib.figure.Figure at 0x154557f0>"
      ]
     },
     "metadata": {},
     "output_type": "display_data"
    }
   ],
   "source": [
    "cvs_sim = np.zeros((3,3),dtype=int)\n",
    "for i in range(3):\n",
    "    for j in range(3):\n",
    "        cvs_sim[i,j] = len(set(sums2[(sums2['sim']=='C')&(sums2['CVS_graph']==i)]['sid'])&set(sums2[(sums2['sim']=='L')&(sums2['CVS_graph']==j)]['sid']))\n",
    "ax = sns.heatmap(np.flip(cvs_sim,0),annot=True, fmt=\"d\")\n",
    "ax.set_xticklabels(['0/2','1/2','2/2'])\n",
    "ax.set_yticklabels(['0/2','1/2','2/2'])\n",
    "plt.xlabel('Number of light absorbance variables')\n",
    "plt.ylabel('Number of Caps variables')\n",
    "plt.title('Map of student use of CVS in their graph for variables per simulation')"
   ]
  },
  {
   "cell_type": "markdown",
   "metadata": {
    "hideCode": true,
    "hidePrompt": true
   },
   "source": [
    "High usage is consistent. If they do CVS with 1 variable in one sim, they do it with 2 in the other (probaly second sim).We'll see how order makes a difference later."
   ]
  },
  {
   "cell_type": "markdown",
   "metadata": {
    "hideCode": true,
    "hidePrompt": true
   },
   "source": [
    "## What affects use of CVS\n",
    "### Model with interaction (killed)"
   ]
  },
  {
   "cell_type": "code",
   "execution_count": 51,
   "metadata": {
    "collapsed": true,
    "hideCode": true,
    "hidePrompt": true
   },
   "outputs": [],
   "source": [
    "# formula = 'CVS_graph ~ pre*variable + sim_index*variable + pre*sim_index + level_experience_sims + experience_undergrad_labs + used_similar_sim'\n",
    "# print 'model: ', formula,'\\n'\n",
    "# from patsy import dmatrices\n",
    "# Y, X = dmatrices(formula, data, return_type = 'dataframe')\n",
    "# # print X.columns\n",
    "# logit = Logit(Y, X)\n",
    "# model = logit.fit()\n",
    "# print model.summary()\n",
    "# # note that stats model has no module for running an anova on a logistic regression model"
   ]
  },
  {
   "cell_type": "markdown",
   "metadata": {},
   "source": [
    "### Parismonious model"
   ]
  },
  {
   "cell_type": "code",
   "execution_count": 72,
   "metadata": {
    "collapsed": false
   },
   "outputs": [
    {
     "name": "stdout",
     "output_type": "stream",
     "text": [
      "model:  CVS_graph ~ pre + variable + sim_index +level_experience_sims + experience_undergrad_labs + used_similar_sim \n",
      "\n",
      "Optimization terminated successfully.\n",
      "         Current function value: 0.634028\n",
      "         Iterations 6\n",
      "                           Logit Regression Results                           \n",
      "==============================================================================\n",
      "Dep. Variable:              CVS_graph   No. Observations:                  592\n",
      "Model:                          Logit   Df Residuals:                      583\n",
      "Method:                           MLE   Df Model:                            8\n",
      "Date:                Tue, 06 Feb 2018   Pseudo R-squ.:                 0.07976\n",
      "Time:                        15:33:30   Log-Likelihood:                -375.34\n",
      "converged:                       True   LL-Null:                       -407.88\n",
      "                                        LLR p-value:                 4.685e-11\n",
      "=============================================================================================\n",
      "                                coef    std err          z      P>|z|      [95.0% Conf. Int.]\n",
      "---------------------------------------------------------------------------------------------\n",
      "Intercept                    -3.5259      0.540     -6.530      0.000        -4.584    -2.468\n",
      "variable[T.Concentration]     0.2637      0.253      1.042      0.297        -0.232     0.760\n",
      "variable[T.Separation]       -0.0450      0.246     -0.183      0.855        -0.527     0.437\n",
      "variable[T.Width]             0.0868      0.254      0.342      0.732        -0.410     0.584\n",
      "pre                           0.2423      0.108      2.234      0.026         0.030     0.455\n",
      "sim_index                     0.5463      0.175      3.122      0.002         0.203     0.889\n",
      "level_experience_sims         0.1607      0.104      1.543      0.123        -0.043     0.365\n",
      "experience_undergrad_labs     2.0081      0.429      4.679      0.000         1.167     2.849\n",
      "used_similar_sim              0.0455      0.225      0.202      0.840        -0.396     0.486\n",
      "=============================================================================================\n"
     ]
    }
   ],
   "source": [
    "formula = 'CVS_graph ~ pre + variable + sim_index +level_experience_sims + experience_undergrad_labs + used_similar_sim'\n",
    "print 'model: ', formula,'\\n'\n",
    "from patsy import dmatrices\n",
    "Y, X = dmatrices(formula, data, return_type = 'dataframe')\n",
    "# print X.columns\n",
    "logit = Logit(Y, X)\n",
    "model = logit.fit()\n",
    "print model.summary()\n",
    "# aov_table = anova_lm(model)\n",
    "# eta_squared(aov_table)\n",
    "# omega_squared(aov_table)\n",
    "# # print \"\\nAnova table using type 2 errors\\n\"\n",
    "# print(aov_table)"
   ]
  },
  {
   "cell_type": "markdown",
   "metadata": {
    "hideCode": true,
    "hidePrompt": true
   },
   "source": [
    "In order of what affects CVS_graph most:\n",
    "* experience in undergraduate labs\n",
    "* order\n",
    "* prior knowledge\n",
    "\n",
    "Having used a similar sim doesn't matter, variable doesn't matter and sim doesn't matter.\n",
    "\n",
    "Experience in sims mattered before we included both physics and chem experience in labs"
   ]
  },
  {
   "cell_type": "code",
   "execution_count": 76,
   "metadata": {
    "collapsed": false
   },
   "outputs": [
    {
     "data": {
      "text/html": [
       "<table class=\"simpletable\">\n",
       "<caption>Logit Regression Results</caption>\n",
       "<tr>\n",
       "  <th>Dep. Variable:</th>     <td>CVS_graph</td>    <th>  No. Observations:  </th>  <td>   592</td>  \n",
       "</tr>\n",
       "<tr>\n",
       "  <th>Model:</th>               <td>Logit</td>      <th>  Df Residuals:      </th>  <td>   583</td>  \n",
       "</tr>\n",
       "<tr>\n",
       "  <th>Method:</th>               <td>MLE</td>       <th>  Df Model:          </th>  <td>     8</td>  \n",
       "</tr>\n",
       "<tr>\n",
       "  <th>Date:</th>          <td>Tue, 06 Feb 2018</td> <th>  Pseudo R-squ.:     </th>  <td>0.07976</td> \n",
       "</tr>\n",
       "<tr>\n",
       "  <th>Time:</th>              <td>15:36:12</td>     <th>  Log-Likelihood:    </th> <td> -375.34</td> \n",
       "</tr>\n",
       "<tr>\n",
       "  <th>converged:</th>           <td>True</td>       <th>  LL-Null:           </th> <td> -407.88</td> \n",
       "</tr>\n",
       "<tr>\n",
       "  <th> </th>                      <td> </td>        <th>  LLR p-value:       </th> <td>4.685e-11</td>\n",
       "</tr>\n",
       "</table>\n",
       "<table class=\"simpletable\">\n",
       "<tr>\n",
       "              <td></td>                 <th>coef</th>     <th>std err</th>      <th>z</th>      <th>P>|z|</th> <th>[95.0% Conf. Int.]</th> \n",
       "</tr>\n",
       "<tr>\n",
       "  <th>Intercept</th>                 <td>   -3.5259</td> <td>    0.540</td> <td>   -6.530</td> <td> 0.000</td> <td>   -4.584    -2.468</td>\n",
       "</tr>\n",
       "<tr>\n",
       "  <th>variable[T.Concentration]</th> <td>    0.2637</td> <td>    0.253</td> <td>    1.042</td> <td> 0.297</td> <td>   -0.232     0.760</td>\n",
       "</tr>\n",
       "<tr>\n",
       "  <th>variable[T.Separation]</th>    <td>   -0.0450</td> <td>    0.246</td> <td>   -0.183</td> <td> 0.855</td> <td>   -0.527     0.437</td>\n",
       "</tr>\n",
       "<tr>\n",
       "  <th>variable[T.Width]</th>         <td>    0.0868</td> <td>    0.254</td> <td>    0.342</td> <td> 0.732</td> <td>   -0.410     0.584</td>\n",
       "</tr>\n",
       "<tr>\n",
       "  <th>pre</th>                       <td>    0.2423</td> <td>    0.108</td> <td>    2.234</td> <td> 0.026</td> <td>    0.030     0.455</td>\n",
       "</tr>\n",
       "<tr>\n",
       "  <th>sim_index</th>                 <td>    0.5463</td> <td>    0.175</td> <td>    3.122</td> <td> 0.002</td> <td>    0.203     0.889</td>\n",
       "</tr>\n",
       "<tr>\n",
       "  <th>level_experience_sims</th>     <td>    0.1607</td> <td>    0.104</td> <td>    1.543</td> <td> 0.123</td> <td>   -0.043     0.365</td>\n",
       "</tr>\n",
       "<tr>\n",
       "  <th>experience_undergrad_labs</th> <td>    2.0081</td> <td>    0.429</td> <td>    4.679</td> <td> 0.000</td> <td>    1.167     2.849</td>\n",
       "</tr>\n",
       "<tr>\n",
       "  <th>used_similar_sim</th>          <td>    0.0455</td> <td>    0.225</td> <td>    0.202</td> <td> 0.840</td> <td>   -0.396     0.486</td>\n",
       "</tr>\n",
       "</table>"
      ],
      "text/plain": [
       "<class 'statsmodels.iolib.summary.Summary'>\n",
       "\"\"\"\n",
       "                           Logit Regression Results                           \n",
       "==============================================================================\n",
       "Dep. Variable:              CVS_graph   No. Observations:                  592\n",
       "Model:                          Logit   Df Residuals:                      583\n",
       "Method:                           MLE   Df Model:                            8\n",
       "Date:                Tue, 06 Feb 2018   Pseudo R-squ.:                 0.07976\n",
       "Time:                        15:36:12   Log-Likelihood:                -375.34\n",
       "converged:                       True   LL-Null:                       -407.88\n",
       "                                        LLR p-value:                 4.685e-11\n",
       "=============================================================================================\n",
       "                                coef    std err          z      P>|z|      [95.0% Conf. Int.]\n",
       "---------------------------------------------------------------------------------------------\n",
       "Intercept                    -3.5259      0.540     -6.530      0.000        -4.584    -2.468\n",
       "variable[T.Concentration]     0.2637      0.253      1.042      0.297        -0.232     0.760\n",
       "variable[T.Separation]       -0.0450      0.246     -0.183      0.855        -0.527     0.437\n",
       "variable[T.Width]             0.0868      0.254      0.342      0.732        -0.410     0.584\n",
       "pre                           0.2423      0.108      2.234      0.026         0.030     0.455\n",
       "sim_index                     0.5463      0.175      3.122      0.002         0.203     0.889\n",
       "level_experience_sims         0.1607      0.104      1.543      0.123        -0.043     0.365\n",
       "experience_undergrad_labs     2.0081      0.429      4.679      0.000         1.167     2.849\n",
       "used_similar_sim              0.0455      0.225      0.202      0.840        -0.396     0.486\n",
       "=============================================================================================\n",
       "\"\"\""
      ]
     },
     "execution_count": 76,
     "metadata": {},
     "output_type": "execute_result"
    }
   ],
   "source": [
    "model.summary()"
   ]
  },
  {
   "cell_type": "code",
   "execution_count": 75,
   "metadata": {
    "collapsed": false
   },
   "outputs": [
    {
     "name": "stdout",
     "output_type": "stream",
     "text": [
      "\\begin{center}\n",
      "\\begin{tabular}{lclc}\n",
      "\\toprule\n",
      "\\textbf{Dep. Variable:}            &    CVS_graph     & \\textbf{  No. Observations:  } &      592    \\\\\n",
      "\\textbf{Model:}                    &      Logit       & \\textbf{  Df Residuals:      } &      583    \\\\\n",
      "\\textbf{Method:}                   &       MLE        & \\textbf{  Df Model:          } &        8    \\\\\n",
      "\\textbf{Date:}                     & Tue, 06 Feb 2018 & \\textbf{  Pseudo R-squ.:     } &  0.07976    \\\\\n",
      "\\textbf{Time:}                     &     15:33:42     & \\textbf{  Log-Likelihood:    } &   -375.34   \\\\\n",
      "\\textbf{converged:}                &       True       & \\textbf{  LL-Null:           } &   -407.88   \\\\\n",
      "\\bottomrule\n",
      "\\end{tabular}\n",
      "\\begin{tabular}{lccccc}\n",
      "                                   & \\textbf{coef} & \\textbf{std err} & \\textbf{z} & \\textbf{P$>$$|$z$|$} & \\textbf{[95.0\\% Conf. Int.]}  \\\\\n",
      "\\midrule\n",
      "\\textbf{Intercept}                 &      -3.5259  &        0.540     &    -6.530  &         0.000        &        -4.584    -2.468       \\\\\n",
      "\\textbf{variable[T.Concentration]} &       0.2637  &        0.253     &     1.042  &         0.297        &        -0.232     0.760       \\\\\n",
      "\\textbf{variable[T.Separation]}    &      -0.0450  &        0.246     &    -0.183  &         0.855        &        -0.527     0.437       \\\\\n",
      "\\textbf{variable[T.Width]}         &       0.0868  &        0.254     &     0.342  &         0.732        &        -0.410     0.584       \\\\\n",
      "\\textbf{pre}                       &       0.2423  &        0.108     &     2.234  &         0.026        &         0.030     0.455       \\\\\n",
      "\\textbf{sim_index}                 &       0.5463  &        0.175     &     3.122  &         0.002        &         0.203     0.889       \\\\\n",
      "\\textbf{level_experience_sims}     &       0.1607  &        0.104     &     1.543  &         0.123        &        -0.043     0.365       \\\\\n",
      "\\textbf{experience_undergrad_labs} &       2.0081  &        0.429     &     4.679  &         0.000        &         1.167     2.849       \\\\\n",
      "\\textbf{used_similar_sim}          &       0.0455  &        0.225     &     0.202  &         0.840        &        -0.396     0.486       \\\\\n",
      "\\bottomrule\n",
      "\\end{tabular}\n",
      "%\\caption{Logit Regression Results}\n",
      "\\end{center}\n"
     ]
    }
   ],
   "source": [
    "print model.summary().as_latex()"
   ]
  },
  {
   "cell_type": "markdown",
   "metadata": {},
   "source": [
    "### post hoc of experience in undergraduate labs"
   ]
  },
  {
   "cell_type": "code",
   "execution_count": 53,
   "metadata": {
    "collapsed": true
   },
   "outputs": [],
   "source": [
    "# cvs_exp = pd.pivot_table(data, values=['CVS_graph'], index=['experience_undergrad_labs'],aggfunc=(np.mean,np.std))\n",
    "# print \"Here is prob that they do CVS graph depending on the experience_undergrad_labs\"\n",
    "# cvs_exp['CVS_graph']['mean'].plot.bar(yerr=cvs_exp['CVS_graph']['std'])"
   ]
  },
  {
   "cell_type": "markdown",
   "metadata": {},
   "source": [
    "### post hoc of activity order"
   ]
  },
  {
   "cell_type": "code",
   "execution_count": 54,
   "metadata": {
    "collapsed": true
   },
   "outputs": [],
   "source": [
    "# cvs_exp = pd.pivot_table(data, values=['CVS_graph'], index=['sim_index'],aggfunc=(np.mean,np.std))\n",
    "# print \"Here is prob that they do CVS graph depending on sim_index\"\n",
    "# cvs_exp['CVS_graph']['mean'].plot.bar(yerr=cvs_exp['CVS_graph']['std'])"
   ]
  },
  {
   "cell_type": "markdown",
   "metadata": {},
   "source": [
    "### post hoc of experience with sims"
   ]
  },
  {
   "cell_type": "code",
   "execution_count": 55,
   "metadata": {
    "collapsed": true
   },
   "outputs": [],
   "source": [
    "# cvs_exp = pd.pivot_table(data, values=['CVS_graph'], index=['level_experience_sims'],aggfunc=(np.mean,np.std))\n",
    "# print \"Here is prob that they do CVS graph depending on level_experience_sims\"\n",
    "# cvs_exp['CVS_graph']['mean'].plot.bar(yerr=cvs_exp['CVS_graph']['std'])\n",
    "# print '''where:\n",
    "#  0 -> None\n",
    "#  1 -> 1-2 (roughly)\n",
    "#  2 -> 3-5 (roughly)\n",
    "#  3 -> 6+ (roughly)'''"
   ]
  },
  {
   "cell_type": "markdown",
   "metadata": {},
   "source": [
    "### post hoc of pre"
   ]
  },
  {
   "cell_type": "code",
   "execution_count": 56,
   "metadata": {
    "collapsed": true
   },
   "outputs": [],
   "source": [
    "# cvs_pre = pd.pivot_table(data, values=['CVS_graph'], index=['pre'],aggfunc=(np.mean,np.std))\n",
    "# print \"Here is the avg pre score of students depending if they do CVS graph or not\"\n",
    "# cvs_pre['CVS_graph']['mean'].plot.bar(yerr=cvs_pre['CVS_graph']['std'])"
   ]
  },
  {
   "cell_type": "code",
   "execution_count": null,
   "metadata": {
    "collapsed": true
   },
   "outputs": [],
   "source": []
  }
 ],
 "metadata": {
  "anaconda-cloud": {},
  "celltoolbar": "Hide code",
  "hide_code_all_hidden": true,
  "kernelspec": {
   "display_name": "Python [Anaconda2]",
   "language": "python",
   "name": "Python [Anaconda2]"
  },
  "language_info": {
   "codemirror_mode": {
    "name": "ipython",
    "version": 2
   },
   "file_extension": ".py",
   "mimetype": "text/x-python",
   "name": "python",
   "nbconvert_exporter": "python",
   "pygments_lexer": "ipython2",
   "version": "2.7.12"
  },
  "toc": {
   "nav_menu": {},
   "number_sections": true,
   "sideBar": false,
   "skip_h1_title": false,
   "toc_cell": false,
   "toc_position": {},
   "toc_section_display": "block",
   "toc_window_display": false
  }
 },
 "nbformat": 4,
 "nbformat_minor": 2
}
