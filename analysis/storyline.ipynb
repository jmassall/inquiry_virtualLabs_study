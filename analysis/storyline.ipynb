{
 "cells": [
  {
   "cell_type": "markdown",
   "metadata": {},
   "source": [
    "This notebook organizes all the results in the \"analysis\" folder within a concrete storyline"
   ]
  },
  {
   "cell_type": "code",
   "execution_count": 1,
   "metadata": {},
   "outputs": [
    {
     "data": {
      "text/html": [
       "<script>jQuery(function() {if (jQuery(\"body.notebook_app\").length == 0) { jQuery(\".input_area\").toggle(); jQuery(\".prompt\").toggle();}});</script>"
      ]
     },
     "metadata": {},
     "output_type": "display_data"
    }
   ],
   "source": [
    "from IPython.display import display\n",
    "from IPython.display import HTML\n",
    "import IPython.core.display as di\n",
    "\n",
    "# This line will hide code by default when the notebook is exported as HTML\n",
    "di.display_html('<script>jQuery(function() {if (jQuery(\"body.notebook_app\").length == 0) { jQuery(\".input_area\").toggle(); jQuery(\".prompt\").toggle();}});</script>', raw=True)"
   ]
  },
  {
   "cell_type": "code",
   "execution_count": 2,
   "metadata": {},
   "outputs": [
    {
     "name": "stderr",
     "output_type": "stream",
     "text": [
      "d:\\applications\\anaconda2\\lib\\site-packages\\statsmodels\\compat\\pandas.py:56: FutureWarning: The pandas.core.datetools module is deprecated and will be removed in a future version. Please use the pandas.tseries module instead.\n",
      "  from pandas.core import datetools\n"
     ]
    }
   ],
   "source": [
    "%load_ext autoreload\n",
    "%autoreload 1\n",
    "%aimport utils_read_parsing\n",
    "from utils_timeline_viz import *\n",
    "from utils_read_parsing import *\n",
    "import matplotlib.pyplot as plt\n",
    "from tabulate import tabulate\n",
    "from scipy.stats import mannwhitneyu\n",
    "import seaborn as sns\n",
    "import statsmodels.api as sm\n",
    "pd.set_option(\"display.width\", 100)\n",
    "import matplotlib.pyplot as plt\n",
    "from statsmodels.formula.api import ols\n",
    "from statsmodels.graphics.api import interaction_plot, abline_plot\n",
    "from statsmodels.stats.anova import anova_lm\n",
    "from statsmodels.discrete.discrete_model import Logit\n",
    "%matplotlib inline\n",
    "matplotlib.style.use('ggplot')\n",
    "matplotlib.rcParams['figure.figsize'] = 8, 6\n",
    "pd.set_option('precision',3)\n",
    "np.set_printoptions(precision=3,suppress=True)"
   ]
  },
  {
   "cell_type": "markdown",
   "metadata": {},
   "source": [
    "# Preparing the data\n",
    "We wish to have a table that looks like:"
   ]
  },
  {
   "cell_type": "code",
   "execution_count": 3,
   "metadata": {},
   "outputs": [
    {
     "name": "stdout",
     "output_type": "stream",
     "text": [
      "-------  --------  ---  -----  -----  ---  ---------  ---------\n",
      "student  variable  pre  post   index  sim  CVS table  CVS graph\n",
      "s1       v1        1.0  2.333  1      L    Yes        No\n",
      "s1       v2        ...  ...    1      L    Yes        Yes\n",
      "s1       v3        ...  ...    2      C    No         No\n",
      "s1       v4        ...  ...    2      C    Yes        No\n",
      "-------  --------  ---  -----  -----  ---  ---------  ---------\n"
     ]
    }
   ],
   "source": [
    "t = [['student','variable','pre','post','index','sim','CVS table','CVS graph']]\n",
    "t.append(['s1','v1','1.0','2.333','1','L','Yes','No'])\n",
    "t.append(['s1','v2','...','...','1','L','Yes','Yes'])\n",
    "t.append(['s1','v3','...','...','2','C','No','No'])\n",
    "t.append(['s1','v4','...','...','2','C','Yes','No'])\n",
    "print tabulate(t)"
   ]
  },
  {
   "cell_type": "markdown",
   "metadata": {},
   "source": [
    "## Grabing the CVS data..."
   ]
  },
  {
   "cell_type": "code",
   "execution_count": 4,
   "metadata": {},
   "outputs": [],
   "source": [
    "table_cvs_df = pd.read_csv('table_cvs_results.txt', sep='\\t')\n",
    "graph_cvs_df = pd.read_csv('graph_cvs_results.txt', sep='\\t')"
   ]
  },
  {
   "cell_type": "code",
   "execution_count": 5,
   "metadata": {},
   "outputs": [],
   "source": [
    "metadf = get_student_metadata()\n",
    "order = dict(zip(metadf.index,metadf['activity order']))\n",
    "graph_cvs_df['activity order'] = graph_cvs_df.studentid.apply(lambda sid: order[sid])\n",
    "table_cvs_df['activity order'] = table_cvs_df.studentid.apply(lambda sid: order[sid])"
   ]
  },
  {
   "cell_type": "code",
   "execution_count": 6,
   "metadata": {},
   "outputs": [
    {
     "data": {
      "text/html": [
       "<div>\n",
       "<style>\n",
       "    .dataframe thead tr:only-child th {\n",
       "        text-align: right;\n",
       "    }\n",
       "\n",
       "    .dataframe thead th {\n",
       "        text-align: left;\n",
       "    }\n",
       "\n",
       "    .dataframe tbody tr th {\n",
       "        vertical-align: top;\n",
       "    }\n",
       "</style>\n",
       "<table border=\"1\" class=\"dataframe\">\n",
       "  <thead>\n",
       "    <tr style=\"text-align: right;\">\n",
       "      <th></th>\n",
       "      <th>studentid</th>\n",
       "      <th>Battery voltage</th>\n",
       "      <th>Area</th>\n",
       "      <th>Separation</th>\n",
       "      <th>Wavelength</th>\n",
       "      <th>Width</th>\n",
       "      <th>Concentration</th>\n",
       "      <th>activity order</th>\n",
       "      <th>sum</th>\n",
       "      <th>sum caps</th>\n",
       "      <th>sum light</th>\n",
       "    </tr>\n",
       "  </thead>\n",
       "  <tbody>\n",
       "    <tr>\n",
       "      <th>0</th>\n",
       "      <td>11612162</td>\n",
       "      <td>0</td>\n",
       "      <td>0</td>\n",
       "      <td>0</td>\n",
       "      <td>1</td>\n",
       "      <td>1</td>\n",
       "      <td>1</td>\n",
       "      <td>CL</td>\n",
       "      <td>3</td>\n",
       "      <td>0</td>\n",
       "      <td>2</td>\n",
       "    </tr>\n",
       "    <tr>\n",
       "      <th>1</th>\n",
       "      <td>13660166</td>\n",
       "      <td>0</td>\n",
       "      <td>0</td>\n",
       "      <td>0</td>\n",
       "      <td>0</td>\n",
       "      <td>0</td>\n",
       "      <td>1</td>\n",
       "      <td>LC</td>\n",
       "      <td>1</td>\n",
       "      <td>0</td>\n",
       "      <td>1</td>\n",
       "    </tr>\n",
       "    <tr>\n",
       "      <th>2</th>\n",
       "      <td>41947147</td>\n",
       "      <td>1</td>\n",
       "      <td>0</td>\n",
       "      <td>0</td>\n",
       "      <td>1</td>\n",
       "      <td>1</td>\n",
       "      <td>1</td>\n",
       "      <td>CL</td>\n",
       "      <td>4</td>\n",
       "      <td>0</td>\n",
       "      <td>2</td>\n",
       "    </tr>\n",
       "    <tr>\n",
       "      <th>3</th>\n",
       "      <td>64006159</td>\n",
       "      <td>0</td>\n",
       "      <td>0</td>\n",
       "      <td>0</td>\n",
       "      <td>1</td>\n",
       "      <td>0</td>\n",
       "      <td>1</td>\n",
       "      <td>LC</td>\n",
       "      <td>2</td>\n",
       "      <td>0</td>\n",
       "      <td>1</td>\n",
       "    </tr>\n",
       "    <tr>\n",
       "      <th>4</th>\n",
       "      <td>15749160</td>\n",
       "      <td>0</td>\n",
       "      <td>1</td>\n",
       "      <td>1</td>\n",
       "      <td>0</td>\n",
       "      <td>1</td>\n",
       "      <td>1</td>\n",
       "      <td>CL</td>\n",
       "      <td>4</td>\n",
       "      <td>2</td>\n",
       "      <td>2</td>\n",
       "    </tr>\n",
       "  </tbody>\n",
       "</table>\n",
       "</div>"
      ],
      "text/plain": [
       "   studentid  Battery voltage  Area  Separation  Wavelength  Width  Concentration activity order  \\\n",
       "0   11612162                0     0           0           1      1              1             CL   \n",
       "1   13660166                0     0           0           0      0              1             LC   \n",
       "2   41947147                1     0           0           1      1              1             CL   \n",
       "3   64006159                0     0           0           1      0              1             LC   \n",
       "4   15749160                0     1           1           0      1              1             CL   \n",
       "\n",
       "   sum  sum caps  sum light  \n",
       "0    3         0          2  \n",
       "1    1         0          1  \n",
       "2    4         0          2  \n",
       "3    2         0          1  \n",
       "4    4         2          2  "
      ]
     },
     "execution_count": 6,
     "metadata": {},
     "output_type": "execute_result"
    }
   ],
   "source": [
    "variables = [\"Battery voltage\",\"Area\",\"Separation\",\"Wavelength\",\"Width\",\"Concentration\"]\n",
    "\n",
    "def binarize(number):\n",
    "    if number>0 : return 1\n",
    "    else: return 0\n",
    "\n",
    "graph_cvs_df2 = graph_cvs_df.copy()\n",
    "for v in variables:\n",
    "    graph_cvs_df2[v] = graph_cvs_df.apply(lambda row: binarize(row[v]), axis=1)\n",
    "\n",
    "table_cvs_df2 = table_cvs_df.copy()\n",
    "for v in variables:\n",
    "    table_cvs_df2[v] = table_cvs_df.apply(lambda row: binarize(row[v]), axis=1)\n",
    "\n",
    "graph_cvs_df2['sum'] = graph_cvs_df2[variables].sum(axis=1)\n",
    "table_cvs_df2['sum'] = table_cvs_df2[variables].sum(axis=1)\n",
    "\n",
    "table_cvs_df2['sum caps'] = table_cvs_df2[['Area','Separation']].sum(axis=1)\n",
    "table_cvs_df2['sum light'] = table_cvs_df2[[\"Width\",\"Concentration\"]].sum(axis=1)\n",
    "\n",
    "graph_cvs_df2['sum caps'] = graph_cvs_df2[['Area','Separation']].sum(axis=1)\n",
    "graph_cvs_df2['sum light'] = graph_cvs_df2[[\"Width\",\"Concentration\"]].sum(axis=1)\n",
    "table_cvs_df2.head()"
   ]
  },
  {
   "cell_type": "code",
   "execution_count": 7,
   "metadata": {},
   "outputs": [],
   "source": [
    "table_intervals_df = pd.read_csv('table_intervals_results.txt', sep='\\t')"
   ]
  },
  {
   "cell_type": "markdown",
   "metadata": {},
   "source": [
    "## Grabbing the worksheet data"
   ]
  },
  {
   "cell_type": "code",
   "execution_count": 8,
   "metadata": {},
   "outputs": [],
   "source": [
    "%reload_ext utils_read_parsing\n",
    "#grab worksheet data\n",
    "worksheets = get_worksheet_metadata('beers')\n",
    "pre = get_pre_worksheet(sim='beers')\n",
    "main = get_main_worksheet(sim='beers')\n",
    "\n",
    "ids = get_students_to_analyze_log_worksheets('beers')\n",
    "pre= pre[pre['Student ID'].isin(worksheets[(worksheets['Type']=='p')&worksheets['Student ID'].isin(ids)]['other id'].values)]\n",
    "main= main[main['Student ID'].isin(worksheets[(worksheets['Type']=='m')&worksheets['Student ID'].isin(ids)]['other id'].values)]\n",
    "\n",
    "#ids in pre/post match \"other id\" in worksheet metdata so we need to assign the correct id in logs for each entry in pre/post\n",
    "pre['sid'] = pre['Student ID'].apply(lambda row: worksheets.loc[worksheets[(worksheets['other id']==row)].index[0],'Student ID'])\n",
    "main['sid'] = main['Student ID'].apply(lambda row: worksheets.loc[worksheets[worksheets['other id']==row].index[0],'Student ID'])\n",
    "\n",
    "# print len(ids),len(pre),len(main)"
   ]
  },
  {
   "cell_type": "code",
   "execution_count": 9,
   "metadata": {},
   "outputs": [],
   "source": [
    "## make desired table for beers\n",
    "melted_pre = pd.melt(pre, id_vars=['sid'], value_vars=['Concentration','Width'], var_name='variable',value_name='pre')\n",
    "melted_main = pd.melt(main, id_vars=['sid'], value_vars=['Concentration','Width'], var_name='variable',value_name='main')\n",
    "\n",
    "L_scores = melted_pre.merge(melted_main, on=['sid','variable'], how='outer')\n",
    "L_scores['sim'] = 'L'\n",
    "\n",
    "L_scores['CVS_table'] = L_scores.apply(lambda row: table_cvs_df2.loc[table_cvs_df2[table_cvs_df2['studentid']==row['sid']].index[0],row['variable']],axis=1)\n",
    "L_scores['CVS_graph'] = L_scores.apply(lambda row: graph_cvs_df2.loc[graph_cvs_df2[graph_cvs_df2['studentid']==row['sid']].index[0],row['variable']],axis=1)\n",
    "\n",
    "L_scores['sim_index'] = L_scores.apply(lambda row: table_cvs_df2.loc[table_cvs_df2[table_cvs_df2['studentid']==row['sid']].index[0],'activity order'].index(row['sim'])+1,axis=1)"
   ]
  },
  {
   "cell_type": "code",
   "execution_count": 10,
   "metadata": {},
   "outputs": [],
   "source": [
    "# L_scores.sort_values('sid').head()"
   ]
  },
  {
   "cell_type": "code",
   "execution_count": 11,
   "metadata": {},
   "outputs": [],
   "source": [
    "%reload_ext utils_read_parsing\n",
    "#grab worksheet data\n",
    "worksheets = get_worksheet_metadata('caps')\n",
    "pre = get_pre_worksheet(sim='caps')\n",
    "main = get_main_worksheet(sim='caps')\n",
    "\n",
    "ids = get_students_to_analyze_log_worksheets('caps')\n",
    "pre= pre[pre['Student ID'].isin(worksheets[(worksheets['Type']=='p')&worksheets['Student ID'].isin(ids)]['other id'].values)]\n",
    "main= main[main['Student ID'].isin(worksheets[(worksheets['Type']=='m')&worksheets['Student ID'].isin(ids)]['other id'].values)]\n",
    "\n",
    "#ids in pre/post match \"other id\" in worksheet metdata so we need to assign the correct id in logs for each entry in pre/post\n",
    "pre['sid'] = pre['Student ID'].apply(lambda row: worksheets.loc[worksheets[(worksheets['other id']==row)].index[0],'Student ID'])\n",
    "main['sid'] = main['Student ID'].apply(lambda row: worksheets.loc[worksheets[worksheets['other id']==row].index[0],'Student ID'])\n",
    "\n",
    "# print len(ids),len(pre),len(main)"
   ]
  },
  {
   "cell_type": "code",
   "execution_count": 12,
   "metadata": {},
   "outputs": [],
   "source": [
    "## make desired table for caps\n",
    "melted_pre = pd.melt(pre, id_vars=['sid'], value_vars=['Area','Separation'], var_name='variable',value_name='pre')\n",
    "melted_main = pd.melt(main, id_vars=['sid'], value_vars=['Area','Separation'], var_name='variable',value_name='main')\n",
    "\n",
    "C_scores = melted_pre.merge(melted_main, on=['sid','variable'], how='outer')\n",
    "C_scores['sim'] = 'C'\n",
    "\n",
    "C_scores['CVS_table'] = C_scores.apply(lambda row: table_cvs_df2.loc[table_cvs_df2[table_cvs_df2['studentid']==row['sid']].index[0],row['variable']],axis=1)\n",
    "C_scores['CVS_graph'] = C_scores.apply(lambda row: graph_cvs_df2.loc[graph_cvs_df2[graph_cvs_df2['studentid']==row['sid']].index[0],row['variable']],axis=1)\n",
    "\n",
    "C_scores['sim_index'] = C_scores.apply(lambda row: table_cvs_df2.loc[table_cvs_df2[table_cvs_df2['studentid']==row['sid']].index[0],'activity order'].index(row['sim'])+1,axis=1)"
   ]
  },
  {
   "cell_type": "code",
   "execution_count": 22,
   "metadata": {},
   "outputs": [
    {
     "data": {
      "text/html": [
       "<div>\n",
       "<style>\n",
       "    .dataframe thead tr:only-child th {\n",
       "        text-align: right;\n",
       "    }\n",
       "\n",
       "    .dataframe thead th {\n",
       "        text-align: left;\n",
       "    }\n",
       "\n",
       "    .dataframe tbody tr th {\n",
       "        vertical-align: top;\n",
       "    }\n",
       "</style>\n",
       "<table border=\"1\" class=\"dataframe\">\n",
       "  <thead>\n",
       "    <tr style=\"text-align: right;\">\n",
       "      <th></th>\n",
       "      <th>sid</th>\n",
       "      <th>variable</th>\n",
       "      <th>pre</th>\n",
       "      <th>main</th>\n",
       "      <th>sim</th>\n",
       "      <th>CVS_table</th>\n",
       "      <th>CVS_graph</th>\n",
       "      <th>sim_index</th>\n",
       "      <th>intervals_in_table</th>\n",
       "      <th>CVS_table_only</th>\n",
       "    </tr>\n",
       "  </thead>\n",
       "  <tbody>\n",
       "    <tr>\n",
       "      <th>0</th>\n",
       "      <td>10127163</td>\n",
       "      <td>Concentration</td>\n",
       "      <td>1.0</td>\n",
       "      <td>3.0</td>\n",
       "      <td>L</td>\n",
       "      <td>1</td>\n",
       "      <td>1</td>\n",
       "      <td>1</td>\n",
       "      <td>True</td>\n",
       "      <td>0</td>\n",
       "    </tr>\n",
       "    <tr>\n",
       "      <th>148</th>\n",
       "      <td>10127163</td>\n",
       "      <td>Width</td>\n",
       "      <td>1.0</td>\n",
       "      <td>3.0</td>\n",
       "      <td>L</td>\n",
       "      <td>1</td>\n",
       "      <td>1</td>\n",
       "      <td>1</td>\n",
       "      <td>False</td>\n",
       "      <td>0</td>\n",
       "    </tr>\n",
       "    <tr>\n",
       "      <th>296</th>\n",
       "      <td>10127163</td>\n",
       "      <td>Area</td>\n",
       "      <td>3.0</td>\n",
       "      <td>3.0</td>\n",
       "      <td>C</td>\n",
       "      <td>1</td>\n",
       "      <td>1</td>\n",
       "      <td>2</td>\n",
       "      <td>False</td>\n",
       "      <td>0</td>\n",
       "    </tr>\n",
       "    <tr>\n",
       "      <th>444</th>\n",
       "      <td>10127163</td>\n",
       "      <td>Separation</td>\n",
       "      <td>3.0</td>\n",
       "      <td>3.0</td>\n",
       "      <td>C</td>\n",
       "      <td>1</td>\n",
       "      <td>1</td>\n",
       "      <td>2</td>\n",
       "      <td>False</td>\n",
       "      <td>0</td>\n",
       "    </tr>\n",
       "    <tr>\n",
       "      <th>538</th>\n",
       "      <td>10192168</td>\n",
       "      <td>Separation</td>\n",
       "      <td>1.0</td>\n",
       "      <td>2.0</td>\n",
       "      <td>C</td>\n",
       "      <td>1</td>\n",
       "      <td>1</td>\n",
       "      <td>1</td>\n",
       "      <td>False</td>\n",
       "      <td>0</td>\n",
       "    </tr>\n",
       "    <tr>\n",
       "      <th>96</th>\n",
       "      <td>10192168</td>\n",
       "      <td>Concentration</td>\n",
       "      <td>1.0</td>\n",
       "      <td>3.0</td>\n",
       "      <td>L</td>\n",
       "      <td>1</td>\n",
       "      <td>1</td>\n",
       "      <td>2</td>\n",
       "      <td>False</td>\n",
       "      <td>0</td>\n",
       "    </tr>\n",
       "    <tr>\n",
       "      <th>390</th>\n",
       "      <td>10192168</td>\n",
       "      <td>Area</td>\n",
       "      <td>1.0</td>\n",
       "      <td>2.0</td>\n",
       "      <td>C</td>\n",
       "      <td>1</td>\n",
       "      <td>0</td>\n",
       "      <td>1</td>\n",
       "      <td>False</td>\n",
       "      <td>1</td>\n",
       "    </tr>\n",
       "    <tr>\n",
       "      <th>244</th>\n",
       "      <td>10192168</td>\n",
       "      <td>Width</td>\n",
       "      <td>1.0</td>\n",
       "      <td>0.0</td>\n",
       "      <td>L</td>\n",
       "      <td>1</td>\n",
       "      <td>0</td>\n",
       "      <td>2</td>\n",
       "      <td>True</td>\n",
       "      <td>1</td>\n",
       "    </tr>\n",
       "    <tr>\n",
       "      <th>1</th>\n",
       "      <td>10232160</td>\n",
       "      <td>Concentration</td>\n",
       "      <td>1.0</td>\n",
       "      <td>1.0</td>\n",
       "      <td>L</td>\n",
       "      <td>1</td>\n",
       "      <td>1</td>\n",
       "      <td>1</td>\n",
       "      <td>False</td>\n",
       "      <td>0</td>\n",
       "    </tr>\n",
       "    <tr>\n",
       "      <th>149</th>\n",
       "      <td>10232160</td>\n",
       "      <td>Width</td>\n",
       "      <td>1.0</td>\n",
       "      <td>1.0</td>\n",
       "      <td>L</td>\n",
       "      <td>0</td>\n",
       "      <td>0</td>\n",
       "      <td>1</td>\n",
       "      <td>False</td>\n",
       "      <td>0</td>\n",
       "    </tr>\n",
       "    <tr>\n",
       "      <th>445</th>\n",
       "      <td>10232160</td>\n",
       "      <td>Separation</td>\n",
       "      <td>1.0</td>\n",
       "      <td>3.0</td>\n",
       "      <td>C</td>\n",
       "      <td>1</td>\n",
       "      <td>1</td>\n",
       "      <td>2</td>\n",
       "      <td>False</td>\n",
       "      <td>0</td>\n",
       "    </tr>\n",
       "    <tr>\n",
       "      <th>297</th>\n",
       "      <td>10232160</td>\n",
       "      <td>Area</td>\n",
       "      <td>1.0</td>\n",
       "      <td>3.0</td>\n",
       "      <td>C</td>\n",
       "      <td>1</td>\n",
       "      <td>1</td>\n",
       "      <td>2</td>\n",
       "      <td>True</td>\n",
       "      <td>0</td>\n",
       "    </tr>\n",
       "  </tbody>\n",
       "</table>\n",
       "</div>"
      ],
      "text/plain": [
       "          sid       variable  pre  main sim  CVS_table  CVS_graph  sim_index  intervals_in_table  \\\n",
       "0    10127163  Concentration  1.0   3.0   L          1          1          1                True   \n",
       "148  10127163          Width  1.0   3.0   L          1          1          1               False   \n",
       "296  10127163           Area  3.0   3.0   C          1          1          2               False   \n",
       "444  10127163     Separation  3.0   3.0   C          1          1          2               False   \n",
       "538  10192168     Separation  1.0   2.0   C          1          1          1               False   \n",
       "96   10192168  Concentration  1.0   3.0   L          1          1          2               False   \n",
       "390  10192168           Area  1.0   2.0   C          1          0          1               False   \n",
       "244  10192168          Width  1.0   0.0   L          1          0          2                True   \n",
       "1    10232160  Concentration  1.0   1.0   L          1          1          1               False   \n",
       "149  10232160          Width  1.0   1.0   L          0          0          1               False   \n",
       "445  10232160     Separation  1.0   3.0   C          1          1          2               False   \n",
       "297  10232160           Area  1.0   3.0   C          1          1          2                True   \n",
       "\n",
       "     CVS_table_only  \n",
       "0                 0  \n",
       "148               0  \n",
       "296               0  \n",
       "444               0  \n",
       "538               0  \n",
       "96                0  \n",
       "390               1  \n",
       "244               1  \n",
       "1                 0  \n",
       "149               0  \n",
       "445               0  \n",
       "297               0  "
      ]
     },
     "execution_count": 22,
     "metadata": {},
     "output_type": "execute_result"
    }
   ],
   "source": [
    "data = pd.concat([L_scores,C_scores])\n",
    "data['intervals_in_table'] = data.apply(lambda row: table_intervals_df.loc[table_intervals_df[table_intervals_df['studentid']==row['sid']].index[0],row['variable']],axis=1)\n",
    "data['CVS_table_only'] = data.apply(lambda row: row['CVS_table']*(1-row['CVS_graph']), axis = 1)\n",
    "data = data.reset_index(drop=True)\n",
    "data.sort_values('sid').head(12)"
   ]
  },
  {
   "cell_type": "markdown",
   "metadata": {},
   "source": [
    "## Stats tools and multicollinearity check"
   ]
  },
  {
   "cell_type": "code",
   "execution_count": 23,
   "metadata": {},
   "outputs": [],
   "source": [
    "def eta_squared(aov):\n",
    "    aov['eta_sq'] = 'NaN'\n",
    "    aov['eta_sq'] = aov[:-1]['sum_sq']/sum(aov['sum_sq'])\n",
    "    return aov\n",
    " \n",
    "def omega_squared(aov):\n",
    "    mse = aov['sum_sq'][-1]/aov['df'][-1]\n",
    "    aov['omega_sq'] = 'NaN'\n",
    "    aov['omega_sq'] = (aov[:-1]['sum_sq']-(aov[:-1]['df']*mse))/(sum(aov['sum_sq'])+mse)\n",
    "    return aov"
   ]
  },
  {
   "cell_type": "code",
   "execution_count": 24,
   "metadata": {},
   "outputs": [
    {
     "name": "stdout",
     "output_type": "stream",
     "text": [
      "Correlation coeff for table and graph CVS: SpearmanrResult(correlation=0.61892063046789791, pvalue=6.9922209879042454e-64)\n",
      "Correlation coeff for table only and graph CVS: SpearmanrResult(correlation=-0.52927663743068099, pvalue=4.7870201806510133e-44)\n"
     ]
    }
   ],
   "source": [
    "from scipy import stats\n",
    "print \"Correlation coeff for table and graph CVS:\", stats.spearmanr(data['CVS_table'],data['CVS_graph'])\n",
    "print \"Correlation coeff for table only and graph CVS:\", stats.spearmanr(data['CVS_table_only'],data['CVS_graph'])"
   ]
  },
  {
   "cell_type": "markdown",
   "metadata": {},
   "source": [
    "Let's measure the variance inflation factor of including both CVS table and graph in the same models:"
   ]
  },
  {
   "cell_type": "code",
   "execution_count": 25,
   "metadata": {},
   "outputs": [
    {
     "name": "stdout",
     "output_type": "stream",
     "text": [
      "model:  CVS_table_only ~ CVS_graph + pre + C(variable) + C(sim_index) + C(sim)  \n",
      "\n",
      "Warning: Maximum number of iterations has been exceeded.\n",
      "         Current function value: 0.344469\n",
      "         Iterations: 35\n",
      "                           Logit Regression Results                           \n",
      "==============================================================================\n",
      "Dep. Variable:         CVS_table_only   No. Observations:                  592\n",
      "Model:                          Logit   Df Residuals:                      585\n",
      "Method:                           MLE   Df Model:                            6\n",
      "Date:                Tue, 16 Jan 2018   Pseudo R-squ.:                  0.3534\n",
      "Time:                        23:26:46   Log-Likelihood:                -203.93\n",
      "converged:                      False   LL-Null:                       -315.39\n",
      "                                        LLR p-value:                 2.481e-45\n",
      "================================================================================================\n",
      "                                   coef    std err          z      P>|z|      [0.025      0.975]\n",
      "------------------------------------------------------------------------------------------------\n",
      "Intercept                       -0.6843      0.315     -2.170      0.030      -1.303      -0.066\n",
      "C(variable)[T.Concentration]    -0.0870        nan        nan        nan         nan         nan\n",
      "C(variable)[T.Separation]       -0.1169      0.332     -0.353      0.724      -0.767       0.533\n",
      "C(variable)[T.Width]             0.2492        nan        nan        nan         nan         nan\n",
      "C(sim_index)[T.2]                0.0139      0.236      0.059      0.953      -0.449       0.476\n",
      "C(sim)[T.L]                      0.1622        nan        nan        nan         nan         nan\n",
      "CVS_graph                      -34.7668   2.22e+06  -1.56e-05      1.000   -4.36e+06    4.36e+06\n",
      "pre                              0.3041      0.156      1.953      0.051      -0.001       0.609\n",
      "================================================================================================\n",
      "\n",
      "Possibly complete quasi-separation: A fraction 0.49 of observations can be\n",
      "perfectly predicted. This might indicate that there is complete\n",
      "quasi-separation. In this case some parameters will not be identified.\n"
     ]
    },
    {
     "name": "stderr",
     "output_type": "stream",
     "text": [
      "d:\\applications\\anaconda2\\lib\\site-packages\\statsmodels\\base\\model.py:496: ConvergenceWarning: Maximum Likelihood optimization failed to converge. Check mle_retvals\n",
      "  \"Check mle_retvals\", ConvergenceWarning)\n",
      "d:\\applications\\anaconda2\\lib\\site-packages\\statsmodels\\base\\model.py:1029: RuntimeWarning: invalid value encountered in sqrt\n",
      "  return np.sqrt(np.diag(self.cov_params()))\n",
      "d:\\applications\\anaconda2\\lib\\site-packages\\scipy\\stats\\_distn_infrastructure.py:879: RuntimeWarning: invalid value encountered in greater\n",
      "  return (self.a < x) & (x < self.b)\n",
      "d:\\applications\\anaconda2\\lib\\site-packages\\scipy\\stats\\_distn_infrastructure.py:879: RuntimeWarning: invalid value encountered in less\n",
      "  return (self.a < x) & (x < self.b)\n",
      "d:\\applications\\anaconda2\\lib\\site-packages\\scipy\\stats\\_distn_infrastructure.py:1818: RuntimeWarning: invalid value encountered in less_equal\n",
      "  cond2 = cond0 & (x <= self.a)\n"
     ]
    }
   ],
   "source": [
    "formula = 'CVS_table_only ~ CVS_graph + pre + C(variable) + C(sim_index) + C(sim) '\n",
    "print 'model: ', formula,'\\n'\n",
    "from patsy import dmatrices\n",
    "Y, X = dmatrices(formula, data, return_type = 'dataframe')\n",
    "# print X.columns\n",
    "logit = Logit(Y, X)\n",
    "model = logit.fit()\n",
    "print model.summary()\n",
    "# print model.params"
   ]
  },
  {
   "cell_type": "code",
   "execution_count": 26,
   "metadata": {},
   "outputs": [
    {
     "data": {
      "text/plain": [
       "1.5465511908444167"
      ]
     },
     "execution_count": 26,
     "metadata": {},
     "output_type": "execute_result"
    }
   ],
   "source": [
    "R2 = 0.3534\n",
    "VIF = 1.0/(1-R2)\n",
    "VIF"
   ]
  },
  {
   "cell_type": "markdown",
   "metadata": {},
   "source": [
    "A VIF of 1.55 tells us that the variance (the square of the standard error) of a particular coefficient is 55% larger than it would be if that predictor was completely uncorrelated with all the other predictors. According to [this website](https://statisticalhorizons.com/multicollinearity), a VIF of 2.6 or higher is worrisome."
   ]
  },
  {
   "cell_type": "markdown",
   "metadata": {},
   "source": [
    "# Results to present in methods\n",
    "## Student population"
   ]
  },
  {
   "cell_type": "code",
   "execution_count": 28,
   "metadata": {},
   "outputs": [
    {
     "name": "stdout",
     "output_type": "stream",
     "text": [
      "The study includes 148 students\n"
     ]
    }
   ],
   "source": [
    "N = len(set(data['sid']))\n",
    "print \"The study includes {0} students\".format(N)"
   ]
  },
  {
   "cell_type": "code",
   "execution_count": 29,
   "metadata": {},
   "outputs": [
    {
     "name": "stdout",
     "output_type": "stream",
     "text": [
      "Gender distribution\n"
     ]
    }
   ],
   "source": [
    "print 'Gender distribution'"
   ]
  },
  {
   "cell_type": "markdown",
   "metadata": {},
   "source": [
    "## Student prior experience"
   ]
  },
  {
   "cell_type": "code",
   "execution_count": 30,
   "metadata": {},
   "outputs": [
    {
     "name": "stdout",
     "output_type": "stream",
     "text": [
      "Undergraduate year level\n"
     ]
    }
   ],
   "source": [
    "print 'Undergraduate year level'"
   ]
  },
  {
   "cell_type": "code",
   "execution_count": 31,
   "metadata": {},
   "outputs": [
    {
     "name": "stdout",
     "output_type": "stream",
     "text": [
      "Lab courses taken in pphysics and chemistry\n"
     ]
    }
   ],
   "source": [
    "print 'Lab courses taken in pphysics and chemistry'"
   ]
  },
  {
   "cell_type": "code",
   "execution_count": 32,
   "metadata": {},
   "outputs": [
    {
     "name": "stdout",
     "output_type": "stream",
     "text": [
      "experience in virtual labs in general\n"
     ]
    }
   ],
   "source": [
    "print 'experience in virtual labs in general'"
   ]
  },
  {
   "cell_type": "code",
   "execution_count": 33,
   "metadata": {},
   "outputs": [
    {
     "name": "stdout",
     "output_type": "stream",
     "text": [
      "experience in virutal labs teaching light absorbance or capacitors before\n"
     ]
    }
   ],
   "source": [
    "print  'experience in virutal labs teaching light absorbance or capacitors before'"
   ]
  },
  {
   "cell_type": "markdown",
   "metadata": {},
   "source": [
    "# Learning through inquiry\n",
    "## Overall"
   ]
  },
  {
   "cell_type": "markdown",
   "metadata": {},
   "source": [
    "Let's look at pre to post to see if students learn.\n",
    "\n",
    "Right now we have 4 entries per student and add \"variable\" to the model. But then pre matters (p=0.04)\n",
    "But we could have main = mean(var1 and var 2 scores). In which case pre doesn't matter (p=0.056)\n",
    "Either way with tiny effect size."
   ]
  },
  {
   "cell_type": "code",
   "execution_count": 34,
   "metadata": {},
   "outputs": [],
   "source": [
    "scores = pd.pivot_table(data, values=['pre','main'], index=['sim','sid'],aggfunc=np.mean)\n",
    "scores.reset_index(level=0, inplace=True)\n",
    "scores['sid']=scores.index\n",
    "scores.index = scores['sim']"
   ]
  },
  {
   "cell_type": "code",
   "execution_count": 35,
   "metadata": {
    "scrolled": true
   },
   "outputs": [
    {
     "name": "stdout",
     "output_type": "stream",
     "text": [
      "-----------  --------------  ---------------  ------  -----------------  -----------\n",
      "sim          pre             post             U       p                  effect size\n",
      "L            1.17+/-0.69     2.35+/-0.63      2647.0  1.52951994175e-31  0.88\n",
      "C            1.28+/-0.67     2.24+/-0.63      3167.0  7.28789989597e-28  0.86\n",
      "U            9610.0          9890.5\n",
      "p            0.028724020555  0.0608548196149\n",
      "effect size  0.56            0.55\n",
      "-----------  --------------  ---------------  ------  -----------------  -----------\n"
     ]
    }
   ],
   "source": [
    "t = [['sim','pre','post','U','p','effect size']]\n",
    "for sim in ['L','C']:\n",
    "    pm = round(np.mean(scores.loc[sim]['pre']),2)\n",
    "    ps = round(np.std(scores.loc[sim]['pre']),2)\n",
    "    mm = round(np.mean(scores.loc[sim]['main']),2)\n",
    "    ms = round(np.std(scores.loc[sim]['main']),2)\n",
    "    U,p = mannwhitneyu(scores.loc[sim]['pre'],scores.loc[sim]['main'])\n",
    "    eta = round(1-U/(N*N),2)\n",
    "    t.append([sim,str(pm)+'+/-'+str(ps),str(mm)+'+/-'+str(ms),U,p,eta])\n",
    "    \n",
    "pU,pp = mannwhitneyu(scores.loc['L']['pre'],scores.loc['C']['pre'])\n",
    "mU,mp = mannwhitneyu(scores.loc['L']['main'],scores.loc['C']['main'])\n",
    "peta = round(1-pU/(N*N),2)\n",
    "meta = round(1-mU/(N*N),2)\n",
    "t.append(['U',pU,mU,'','',''])\n",
    "t.append(['p',pp,mp,'','',''])\n",
    "t.append(['effect size',peta,meta,'','',''])\n",
    "print tabulate(t)"
   ]
  },
  {
   "cell_type": "markdown",
   "metadata": {},
   "source": [
    "Overall, student learn in both sims. Prior knowledge is significantly higher in capacitor lab but post is similar."
   ]
  },
  {
   "cell_type": "markdown",
   "metadata": {},
   "source": [
    "# Does using strategy help student learn?"
   ]
  },
  {
   "cell_type": "markdown",
   "metadata": {},
   "source": [
    "Because CVS_table and CVS_graph are related, we need to create a CVS_table_only paramter to avoid multicollinearity in our model."
   ]
  },
  {
   "cell_type": "markdown",
   "metadata": {},
   "source": [
    "## Using either CVS and learning"
   ]
  },
  {
   "cell_type": "code",
   "execution_count": 36,
   "metadata": {},
   "outputs": [
    {
     "name": "stdout",
     "output_type": "stream",
     "text": [
      "Model:  main ~ C(CVS_graph) + C(CVS_table_only) + variable + pre + C(sim_index)*C(sim) + C(sid)\n",
      "Anova table using type 2 errors\n",
      "                      sum_sq     df       F     PR(>F)  eta_sq   omega_sq\n",
      "C(CVS_graph)           4.365    1.0  15.725  8.555e-05   0.016  1.510e-02\n",
      "C(CVS_table_only)      0.296    1.0   1.066  3.024e-01   0.001  6.785e-05\n",
      "variable               2.349    3.0   2.821  3.860e-02   0.009  5.602e-03\n",
      "C(sim_index)           3.753    1.0  13.519  2.655e-04   0.014  1.284e-02\n",
      "C(sim)                 0.533    1.0   1.921  1.664e-01   0.002  9.451e-04\n",
      "C(sid)               135.939  147.0   3.331  2.601e-22   0.503  3.516e-01\n",
      "C(sim_index):C(sim)    0.972    1.0   3.502  6.195e-02   0.004  2.567e-03\n",
      "pre                    0.819    1.0   2.951  8.656e-02   0.003  2.001e-03\n",
      "Residual             121.304  437.0     NaN        NaN     NaN        NaN\n"
     ]
    }
   ],
   "source": [
    "formula = 'main ~ C(CVS_graph) + C(CVS_table_only) + variable + pre + C(sim_index)*C(sim) + C(sid)'# + pre*C(sim)+ pre*C(sim_index) + C(sid)'\n",
    "model = ols(formula, data).fit()\n",
    "print \"Model: \",formula\n",
    "aov_table = anova_lm(model, typ=2)\n",
    "eta_squared(aov_table)\n",
    "omega_squared(aov_table)\n",
    "print \"Anova table using type 2 errors\"\n",
    "print(aov_table)"
   ]
  },
  {
   "cell_type": "markdown",
   "metadata": {},
   "source": [
    "Variable matters (will need to investigate). Order\\*sim matter, but not sim alone. CVS table doesn't matter but graph does!"
   ]
  },
  {
   "cell_type": "markdown",
   "metadata": {},
   "source": [
    "## Investigating CVS table and interval usage"
   ]
  },
  {
   "cell_type": "code",
   "execution_count": 39,
   "metadata": {},
   "outputs": [
    {
     "name": "stdout",
     "output_type": "stream",
     "text": [
      "Model:  main ~ C(CVS_table_only)*C(intervals_in_table) + variable + pre + C(sim_index)*C(sim) + C(sid)\n",
      "Anova table using type 2 errors\n",
      "                                          sum_sq     df       F     PR(>F)     eta_sq   omega_sq\n",
      "C(CVS_table_only)                          0.154    1.0   0.534  4.653e-01  5.337e-04 -4.653e-04\n",
      "C(intervals_in_table)                      0.008    1.0   0.027  8.701e-01  2.674e-05 -9.718e-04\n",
      "variable                                   3.248    3.0   3.762  1.092e-02  1.128e-02  8.273e-03\n",
      "C(sim_index)                               5.465    1.0  18.989  1.641e-05  1.898e-02  1.796e-02\n",
      "C(sim)                                     0.671    1.0   2.330  1.276e-01  2.329e-03  1.328e-03\n",
      "C(sid)                                   149.960  147.0   3.545  1.498e-24  5.208e-01  3.735e-01\n",
      "C(CVS_table_only):C(intervals_in_table)    0.189    1.0   0.657  4.180e-01  6.567e-04 -3.424e-04\n",
      "C(sim_index):C(sim)                        1.540    1.0   5.350  2.119e-02  5.347e-03  4.343e-03\n",
      "pre                                        1.224    1.0   4.254  3.974e-02  4.252e-03  3.250e-03\n",
      "Residual                                 125.472  436.0     NaN        NaN        NaN        NaN\n"
     ]
    }
   ],
   "source": [
    "formula = 'main ~ C(CVS_table_only)*C(intervals_in_table) + variable + pre + C(sim_index)*C(sim) + C(sid)'# + pre*C(sim)+ pre*C(sim_index) + C(sid)'\n",
    "model = ols(formula, data).fit()\n",
    "print \"Model: \",formula\n",
    "aov_table = anova_lm(model, typ=2)\n",
    "eta_squared(aov_table)\n",
    "omega_squared(aov_table)\n",
    "print \"Anova table using type 2 errors\"\n",
    "print(aov_table)"
   ]
  },
  {
   "cell_type": "markdown",
   "metadata": {},
   "source": [
    "## Breaking it down by variable\n",
    "### Width"
   ]
  },
  {
   "cell_type": "code",
   "execution_count": 43,
   "metadata": {},
   "outputs": [
    {
     "name": "stdout",
     "output_type": "stream",
     "text": [
      "                            OLS Regression Results                            \n",
      "==============================================================================\n",
      "Dep. Variable:                   main   R-squared:                       0.186\n",
      "Model:                            OLS   Adj. R-squared:                  0.164\n",
      "Method:                 Least Squares   F-statistic:                     8.183\n",
      "Date:                Tue, 16 Jan 2018   Prob (F-statistic):           5.69e-06\n",
      "Time:                        23:29:50   Log-Likelihood:                -152.90\n",
      "No. Observations:                 148   AIC:                             315.8\n",
      "Df Residuals:                     143   BIC:                             330.8\n",
      "Df Model:                           4                                         \n",
      "Covariance Type:            nonrobust                                         \n",
      "==========================================================================================\n",
      "                             coef    std err          t      P>|t|      [0.025      0.975]\n",
      "------------------------------------------------------------------------------------------\n",
      "Intercept                  1.7675      0.132     13.413      0.000       1.507       2.028\n",
      "C(CVS_table_only)[T.1]     0.2859      0.159      1.796      0.075      -0.029       0.601\n",
      "C(CVS_graph)[T.1]          0.6726      0.145      4.643      0.000       0.386       0.959\n",
      "C(sim_index)[T.2]          0.1749      0.115      1.524      0.130      -0.052       0.402\n",
      "pre                        0.0671      0.072      0.927      0.355      -0.076       0.210\n",
      "==============================================================================\n",
      "Omnibus:                       26.404   Durbin-Watson:                   2.147\n",
      "Prob(Omnibus):                  0.000   Jarque-Bera (JB):               35.170\n",
      "Skew:                          -1.022   Prob(JB):                     2.31e-08\n",
      "Kurtosis:                       4.236   Cond. No.                         6.52\n",
      "==============================================================================\n",
      "\n",
      "Warnings:\n",
      "[1] Standard Errors assume that the covariance matrix of the errors is correctly specified.\n",
      "Model:  main ~ C(CVS_table_only) + C(CVS_graph) + pre + C(sim_index)*C(sim)\n"
     ]
    }
   ],
   "source": [
    "variable = 'Width'\n",
    "formula = 'main ~ C(CVS_table_only) + C(CVS_graph) + pre + C(sim_index)*C(sim)'# + pre*C(sim)+ pre*C(sim_index) + C(sid)'\n",
    "model = ols(formula, data[data['variable']==variable]).fit()\n",
    "print model.summary()\n",
    "print \"Model: \",formula\n",
    "# aov_table = anova_lm(model, typ=2)\n",
    "# eta_squared(aov_table)\n",
    "# omega_squared(aov_table)\n",
    "# print \"Anova table using type 2 errors\"\n",
    "# print(aov_table)"
   ]
  },
  {
   "cell_type": "markdown",
   "metadata": {},
   "source": [
    "### Concentration"
   ]
  },
  {
   "cell_type": "code",
   "execution_count": 45,
   "metadata": {},
   "outputs": [
    {
     "name": "stdout",
     "output_type": "stream",
     "text": [
      "                            OLS Regression Results                            \n",
      "==============================================================================\n",
      "Dep. Variable:                   main   R-squared:                       0.202\n",
      "Model:                            OLS   Adj. R-squared:                  0.179\n",
      "Method:                 Least Squares   F-statistic:                     9.025\n",
      "Date:                Tue, 16 Jan 2018   Prob (F-statistic):           1.58e-06\n",
      "Time:                        23:30:38   Log-Likelihood:                -128.08\n",
      "No. Observations:                 148   AIC:                             266.2\n",
      "Df Residuals:                     143   BIC:                             281.2\n",
      "Df Model:                           4                                         \n",
      "Covariance Type:            nonrobust                                         \n",
      "==========================================================================================\n",
      "                             coef    std err          t      P>|t|      [0.025      0.975]\n",
      "------------------------------------------------------------------------------------------\n",
      "Intercept                  1.8321      0.125     14.610      0.000       1.584       2.080\n",
      "C(CVS_table_only)[T.1]     0.0475      0.141      0.337      0.737      -0.231       0.326\n",
      "C(CVS_graph)[T.1]          0.4704      0.115      4.086      0.000       0.243       0.698\n",
      "C(sim_index)[T.2]          0.2421      0.098      2.476      0.014       0.049       0.435\n",
      "pre                        0.1427      0.062      2.291      0.023       0.020       0.266\n",
      "==============================================================================\n",
      "Omnibus:                       12.391   Durbin-Watson:                   1.806\n",
      "Prob(Omnibus):                  0.002   Jarque-Bera (JB):               13.024\n",
      "Skew:                          -0.705   Prob(JB):                      0.00149\n",
      "Kurtosis:                       3.355   Cond. No.                         7.35\n",
      "==============================================================================\n",
      "\n",
      "Warnings:\n",
      "[1] Standard Errors assume that the covariance matrix of the errors is correctly specified.\n",
      "Model:  main ~ C(CVS_table_only) + C(CVS_graph) + pre + C(sim_index)*C(sim)\n"
     ]
    }
   ],
   "source": [
    "variable = 'Concentration'\n",
    "formula = 'main ~ C(CVS_table_only) + C(CVS_graph) + pre + C(sim_index)*C(sim)'# + pre*C(sim)+ pre*C(sim_index) + C(sid)'\n",
    "model = ols(formula, data[data['variable']==variable]).fit()\n",
    "print model.summary()\n",
    "print \"Model: \",formula\n",
    "# aov_table = anova_lm(model, typ=2)\n",
    "# eta_squared(aov_table)\n",
    "# omega_squared(aov_table)\n",
    "# print \"Anova table using type 2 errors\"\n",
    "# print(aov_table)"
   ]
  },
  {
   "cell_type": "markdown",
   "metadata": {},
   "source": [
    "### Area"
   ]
  },
  {
   "cell_type": "code",
   "execution_count": 47,
   "metadata": {},
   "outputs": [
    {
     "name": "stdout",
     "output_type": "stream",
     "text": [
      "                            OLS Regression Results                            \n",
      "==============================================================================\n",
      "Dep. Variable:                   main   R-squared:                       0.168\n",
      "Model:                            OLS   Adj. R-squared:                  0.144\n",
      "Method:                 Least Squares   F-statistic:                     7.199\n",
      "Date:                Tue, 16 Jan 2018   Prob (F-statistic):           2.61e-05\n",
      "Time:                        23:30:56   Log-Likelihood:                -145.21\n",
      "No. Observations:                 148   AIC:                             300.4\n",
      "Df Residuals:                     143   BIC:                             315.4\n",
      "Df Model:                           4                                         \n",
      "Covariance Type:            nonrobust                                         \n",
      "==========================================================================================\n",
      "                             coef    std err          t      P>|t|      [0.025      0.975]\n",
      "------------------------------------------------------------------------------------------\n",
      "Intercept                  1.7391      0.129     13.498      0.000       1.484       1.994\n",
      "C(CVS_table_only)[T.1]     0.1799      0.153      1.175      0.242      -0.123       0.482\n",
      "C(CVS_graph)[T.1]          0.4903      0.129      3.814      0.000       0.236       0.744\n",
      "C(sim_index)[T.2]          0.0332      0.110      0.301      0.764      -0.185       0.251\n",
      "pre                        0.2024      0.066      3.071      0.003       0.072       0.333\n",
      "==============================================================================\n",
      "Omnibus:                       29.442   Durbin-Watson:                   2.002\n",
      "Prob(Omnibus):                  0.000   Jarque-Bera (JB):               47.266\n",
      "Skew:                          -0.990   Prob(JB):                     5.45e-11\n",
      "Kurtosis:                       4.936   Cond. No.                         6.73\n",
      "==============================================================================\n",
      "\n",
      "Warnings:\n",
      "[1] Standard Errors assume that the covariance matrix of the errors is correctly specified.\n",
      "Model:  main ~ C(CVS_table_only) + C(CVS_graph) + pre + C(sim_index)*C(sim)\n"
     ]
    }
   ],
   "source": [
    "variable = 'Area'\n",
    "formula = 'main ~ C(CVS_table_only) + C(CVS_graph) + pre + C(sim_index)*C(sim)'# + pre*C(sim)+ pre*C(sim_index) + C(sid)'\n",
    "model = ols(formula, data[data['variable']==variable]).fit()\n",
    "print model.summary()\n",
    "print \"Model: \",formula\n",
    "# aov_table = anova_lm(model, typ=2)\n",
    "# eta_squared(aov_table)\n",
    "# omega_squared(aov_table)\n",
    "# print \"Anova table using type 2 errors\"\n",
    "# print(aov_table)"
   ]
  },
  {
   "cell_type": "markdown",
   "metadata": {},
   "source": [
    "### Separation"
   ]
  },
  {
   "cell_type": "code",
   "execution_count": 50,
   "metadata": {},
   "outputs": [
    {
     "name": "stdout",
     "output_type": "stream",
     "text": [
      "                            OLS Regression Results                            \n",
      "==============================================================================\n",
      "Dep. Variable:                   main   R-squared:                       0.099\n",
      "Model:                            OLS   Adj. R-squared:                  0.074\n",
      "Method:                 Least Squares   F-statistic:                     3.943\n",
      "Date:                Tue, 16 Jan 2018   Prob (F-statistic):            0.00457\n",
      "Time:                        23:32:07   Log-Likelihood:                -145.47\n",
      "No. Observations:                 148   AIC:                             300.9\n",
      "Df Residuals:                     143   BIC:                             315.9\n",
      "Df Model:                           4                                         \n",
      "Covariance Type:            nonrobust                                         \n",
      "==========================================================================================\n",
      "                             coef    std err          t      P>|t|      [0.025      0.975]\n",
      "------------------------------------------------------------------------------------------\n",
      "Intercept                  1.7304      0.144     12.049      0.000       1.447       2.014\n",
      "C(CVS_table_only)[T.1]    -0.0308      0.154     -0.201      0.841      -0.334       0.273\n",
      "C(CVS_graph)[T.1]          0.2093      0.127      1.651      0.101      -0.041       0.460\n",
      "C(sim_index)[T.2]          0.1749      0.112      1.568      0.119      -0.046       0.395\n",
      "pre                        0.2076      0.070      2.986      0.003       0.070       0.345\n",
      "==============================================================================\n",
      "Omnibus:                       13.267   Durbin-Watson:                   2.162\n",
      "Prob(Omnibus):                  0.001   Jarque-Bera (JB):               14.144\n",
      "Skew:                          -0.683   Prob(JB):                     0.000849\n",
      "Kurtosis:                       3.656   Cond. No.                         6.91\n",
      "==============================================================================\n",
      "\n",
      "Warnings:\n",
      "[1] Standard Errors assume that the covariance matrix of the errors is correctly specified.\n",
      "Model:  main ~ C(CVS_table_only) + C(CVS_graph) + pre + C(sim_index)*C(sim)\n"
     ]
    }
   ],
   "source": [
    "variable = 'Separation'\n",
    "formula = 'main ~ C(CVS_table_only) + C(CVS_graph) + pre + C(sim_index)*C(sim)'# + pre*C(sim)+ pre*C(sim_index) + C(sid)'\n",
    "model = ols(formula, data[data['variable']==variable]).fit()\n",
    "print model.summary()\n",
    "print \"Model: \",formula\n",
    "# aov_table = anova_lm(model, typ=2)\n",
    "# eta_squared(aov_table)\n",
    "# omega_squared(aov_table)\n",
    "# print \"Anova table using type 2 errors\"\n",
    "# print(aov_table)"
   ]
  },
  {
   "cell_type": "markdown",
   "metadata": {},
   "source": [
    "It seems like doing CVS plotting helps students model the variable (by varying amounts given by the confidence intervals) for all variables but not for Separation. Students who succeed in modeling separation probably bring in another skill that the sim doesn't support, or learn to use the axis scales (-> future directions)\n",
    "\n",
    "I don't understand why prior knowledge all of a sudden matters here, with large confidence intervals for Capacitance variables, and not significant for Width... this is very confusing."
   ]
  },
  {
   "cell_type": "markdown",
   "metadata": {},
   "source": [
    "# How do students use CVS-like inquiry strategies in a PhET sim activity?"
   ]
  },
  {
   "cell_type": "markdown",
   "metadata": {
    "hideOutput": true
   },
   "source": [
    "For some reason adding students in the matric turns it into a singular matrix and fails the analysis. Probably because two students are exactly identical?"
   ]
  },
  {
   "cell_type": "markdown",
   "metadata": {},
   "source": [
    "## Are students consistent in their use accross sims?\n",
    "### CVS collecting consistency"
   ]
  },
  {
   "cell_type": "code",
   "execution_count": 51,
   "metadata": {},
   "outputs": [
    {
     "data": {
      "text/plain": [
       "<matplotlib.text.Text at 0xf50ea58>"
      ]
     },
     "execution_count": 51,
     "metadata": {},
     "output_type": "execute_result"
    },
    {
     "data": {
      "image/png": "[encoded data removed]",
      "text/plain": [
       "<matplotlib.figure.Figure at 0xf1c1c18>"
      ]
     },
     "metadata": {},
     "output_type": "display_data"
    }
   ],
   "source": [
    "cvs_sim = np.zeros((3,3),dtype=int)\n",
    "for i in range(3):\n",
    "    for j in range(3):\n",
    "        cvs_sim[i,j] = len(table_cvs_df2[(table_cvs_df2['sum caps']==i)&(table_cvs_df2['sum light']==j)])\n",
    "ax = sns.heatmap(np.flip(cvs_sim,0),annot=True, fmt=\"d\")\n",
    "ax.set_xticklabels(['0/2','1/2','2/2'])\n",
    "ax.set_yticklabels(['0/2','1/2','2/2'])\n",
    "plt.xlabel('Number of light absorbance variables')\n",
    "plt.ylabel('Number of Caps variables')\n",
    "plt.title('Map of student use of CVS in their table for variables per simulation')"
   ]
  },
  {
   "cell_type": "markdown",
   "metadata": {},
   "source": [
    "High proficiency is consistent\n",
    "### CVS plotting consistency"
   ]
  },
  {
   "cell_type": "code",
   "execution_count": 52,
   "metadata": {},
   "outputs": [
    {
     "data": {
      "text/plain": [
       "<matplotlib.text.Text at 0xf5eacf8>"
      ]
     },
     "execution_count": 52,
     "metadata": {},
     "output_type": "execute_result"
    },
    {
     "data": {
      "image/png": "[encoded data removed]",
      "text/plain": [
       "<matplotlib.figure.Figure at 0xf64b940>"
      ]
     },
     "metadata": {},
     "output_type": "display_data"
    }
   ],
   "source": [
    "cvs_sim = np.zeros((3,3),dtype=int)\n",
    "for i in range(3):\n",
    "    for j in range(3):\n",
    "        cvs_sim[i,j] = len(graph_cvs_df2[(graph_cvs_df2['sum caps']==i)&(graph_cvs_df2['sum light']==j)])\n",
    "ax = sns.heatmap(np.flip(cvs_sim,0),annot=True, fmt=\"d\")\n",
    "ax.set_xticklabels(['0/2','1/2','2/2'])\n",
    "ax.set_yticklabels(['0/2','1/2','2/2'])\n",
    "plt.xlabel('Number of light absorbance variables')\n",
    "plt.ylabel('Number of Caps variables')\n",
    "plt.title('Map of student use of CVS in their graph for variables per simulation')"
   ]
  },
  {
   "cell_type": "markdown",
   "metadata": {},
   "source": [
    "High usage is consistent. If they do CVS with 1 variable in one sim, they do it with 2 in the other (probaly second sim).We'll see how order makes a difference later."
   ]
  },
  {
   "cell_type": "markdown",
   "metadata": {},
   "source": [
    "## How does incoming knowledge affect doing CVS\n",
    "### For CVS collection"
   ]
  },
  {
   "cell_type": "code",
   "execution_count": 60,
   "metadata": {},
   "outputs": [
    {
     "name": "stdout",
     "output_type": "stream",
     "text": [
      "model:  CVS_table_only ~ pre*C(variable) + C(sim_index)*C(sim)  \n",
      "\n",
      "Optimization terminated successfully.\n",
      "         Current function value: 0.526938\n",
      "         Iterations 5\n",
      "                           Logit Regression Results                           \n",
      "==============================================================================\n",
      "Dep. Variable:         CVS_table_only   No. Observations:                  592\n",
      "Model:                          Logit   Df Residuals:                      582\n",
      "Method:                           MLE   Df Model:                            9\n",
      "Date:                Tue, 16 Jan 2018   Pseudo R-squ.:                 0.01090\n",
      "Time:                        23:37:26   Log-Likelihood:                -311.95\n",
      "converged:                       True   LL-Null:                       -315.39\n",
      "                                        LLR p-value:                    0.6500\n",
      "====================================================================================================\n",
      "                                       coef    std err          z      P>|z|      [0.025      0.975]\n",
      "----------------------------------------------------------------------------------------------------\n",
      "Intercept                           -1.2689      0.382     -3.321      0.001      -2.018      -0.520\n",
      "C(variable)[T.Concentration]        -0.4018    1.4e+07  -2.87e-08      1.000   -2.74e+07    2.74e+07\n",
      "C(variable)[T.Separation]            0.0183      0.537      0.034      0.973      -1.035       1.071\n",
      "C(variable)[T.Width]                 0.5082    1.4e+07   3.63e-08      1.000   -2.74e+07    2.74e+07\n",
      "C(sim_index)[T.2]                   -0.1131      0.287     -0.395      0.693      -0.675       0.448\n",
      "C(sim)[T.L]                          0.1064    1.4e+07    7.6e-09      1.000   -2.74e+07    2.74e+07\n",
      "C(sim_index)[T.2]:C(sim)[T.L]       -0.3766      0.402     -0.937      0.349      -1.164       0.411\n",
      "pre                                  0.0309      0.242      0.128      0.898      -0.443       0.505\n",
      "pre:C(variable)[T.Concentration]     0.3358      0.350      0.959      0.337      -0.350       1.022\n",
      "pre:C(variable)[T.Separation]       -0.0462      0.354     -0.130      0.896      -0.740       0.648\n",
      "pre:C(variable)[T.Width]            -0.2180      0.335     -0.650      0.516      -0.876       0.440\n",
      "====================================================================================================\n"
     ]
    }
   ],
   "source": [
    "formula = 'CVS_table_only ~ pre*C(variable) + C(sim_index)*C(sim) '\n",
    "print 'model: ', formula,'\\n'\n",
    "from patsy import dmatrices\n",
    "Y, X = dmatrices(formula, data, return_type = 'dataframe')\n",
    "# print X.columns\n",
    "logit = Logit(Y, X)\n",
    "model = logit.fit()\n",
    "print model.summary()\n",
    "# print model.params"
   ]
  },
  {
   "cell_type": "markdown",
   "metadata": {},
   "source": [
    "Clearly pre doesn't matter, neither does the variable. CVS is more likely in the second sim (no surprise there), especially if second sim is capacitance (only significant interaction).\n",
    "\n",
    "### For CVS plotting"
   ]
  },
  {
   "cell_type": "code",
   "execution_count": 61,
   "metadata": {},
   "outputs": [
    {
     "name": "stdout",
     "output_type": "stream",
     "text": [
      "model:  CVS_graph ~ pre*C(variable) + C(sim_index)*C(sim)  \n",
      "\n",
      "Optimization terminated successfully.\n",
      "         Current function value: 0.671971\n",
      "         Iterations 5\n",
      "                           Logit Regression Results                           \n",
      "==============================================================================\n",
      "Dep. Variable:              CVS_graph   No. Observations:                  592\n",
      "Model:                          Logit   Df Residuals:                      582\n",
      "Method:                           MLE   Df Model:                            9\n",
      "Date:                Tue, 16 Jan 2018   Pseudo R-squ.:                 0.03035\n",
      "Time:                        23:37:45   Log-Likelihood:                -397.81\n",
      "converged:                       True   LL-Null:                       -410.26\n",
      "                                        LLR p-value:                  0.003079\n",
      "====================================================================================================\n",
      "                                       coef    std err          z      P>|z|      [0.025      0.975]\n",
      "----------------------------------------------------------------------------------------------------\n",
      "Intercept                           -0.6248      0.324     -1.930      0.054      -1.259       0.010\n",
      "C(variable)[T.Concentration]         0.5652   7.95e+06   7.11e-08      1.000   -1.56e+07    1.56e+07\n",
      "C(variable)[T.Separation]           -0.0336      0.448     -0.075      0.940      -0.911       0.844\n",
      "C(variable)[T.Width]                -0.4575   7.95e+06  -5.75e-08      1.000   -1.56e+07    1.56e+07\n",
      "C(sim_index)[T.2]                    0.7003      0.239      2.930      0.003       0.232       1.169\n",
      "C(sim)[T.L]                          0.1077   7.95e+06   1.35e-08      1.000   -1.56e+07    1.56e+07\n",
      "C(sim_index)[T.2]:C(sim)[T.L]       -0.4608      0.339     -1.360      0.174      -1.125       0.203\n",
      "pre                                  0.1689      0.204      0.828      0.407      -0.231       0.568\n",
      "pre:C(variable)[T.Concentration]    -0.2323      0.293     -0.793      0.428      -0.807       0.342\n",
      "pre:C(variable)[T.Separation]       -0.0066      0.296     -0.022      0.982      -0.586       0.573\n",
      "pre:C(variable)[T.Width]             0.5863      0.302      1.944      0.052      -0.005       1.177\n",
      "====================================================================================================\n"
     ]
    }
   ],
   "source": [
    "formula = 'CVS_graph ~ pre*C(variable) + C(sim_index)*C(sim) '\n",
    "print 'model: ', formula,'\\n'\n",
    "from patsy import dmatrices\n",
    "Y, X = dmatrices(formula, data, return_type = 'dataframe')\n",
    "# print X.columns\n",
    "logit = Logit(Y, X)\n",
    "model = logit.fit()\n",
    "print model.summary()\n",
    "# print model.params"
   ]
  },
  {
   "cell_type": "markdown",
   "metadata": {},
   "source": [
    "CVS plotting occurs more in second sim but no interaction with sim type. Pre doesn't matter, variable doesn't matter."
   ]
  },
  {
   "cell_type": "markdown",
   "metadata": {},
   "source": [
    "# Is there learning of CVS?"
   ]
  },
  {
   "cell_type": "markdown",
   "metadata": {},
   "source": [
    "## Consistency over time: proficient users of strategy are consistent, less proficient are less consistent"
   ]
  },
  {
   "cell_type": "code",
   "execution_count": 62,
   "metadata": {},
   "outputs": [
    {
     "data": {
      "text/plain": [
       "<matplotlib.text.Text at 0xf33d9e8>"
      ]
     },
     "execution_count": 62,
     "metadata": {},
     "output_type": "execute_result"
    },
    {
     "data": {
      "image/png": "[encoded data removed]",
      "text/plain": [
       "<matplotlib.figure.Figure at 0xf2da748>"
      ]
     },
     "metadata": {},
     "output_type": "display_data"
    }
   ],
   "source": [
    "f, (ax1, ax2) = plt.subplots(2)\n",
    "ax = ax1\n",
    "cvs_sim = np.zeros((3,3),dtype=int)\n",
    "for i in range(3):\n",
    "    for j in range(3):\n",
    "        cvs_sim[i,j] = len(table_cvs_df2[(table_cvs_df2['sum caps']==i)&(table_cvs_df2['sum light']==j)&(table_cvs_df2['activity order']=='CL')])\n",
    "sns.heatmap(np.flip(cvs_sim,0),annot=True, fmt=\"d\",ax=ax1)\n",
    "ax.set_xticklabels(['none','1/2','2/2'])\n",
    "ax.set_yticklabels(['none','1/2','2/2'])\n",
    "plt.xlabel('Number of Light absorbance variables')\n",
    "plt.ylabel('Number of Caps variables')\n",
    "ax.set_title('Map of student use of CVS in table for variables per simulation for students with order CL   - {0} students'.format(len(table_cvs_df2[table_cvs_df2['activity order']=='CL'])))\n",
    "\n",
    "ax = ax2\n",
    "cvs_sim = np.zeros((3,3),dtype=int)\n",
    "for i in range(3):\n",
    "    for j in range(3):\n",
    "        cvs_sim[i,j] = len(table_cvs_df2[(table_cvs_df2['sum caps']==i)&(table_cvs_df2['sum light']==j)&(table_cvs_df2['activity order']=='LC')])\n",
    "sns.heatmap(np.flip(cvs_sim,0),annot=True, fmt=\"d\", ax=ax2)\n",
    "ax.set_xticklabels(['none','1/2','2/2'])\n",
    "ax.set_yticklabels(['none','1/2','2/2'])\n",
    "plt.xlabel('Number of Light absorbance variables')\n",
    "plt.ylabel('Number of Caps variables')\n",
    "ax.set_title('Map of student use of CVS in table for variables per simulation for students with order LC - {0} students'.format(len(table_cvs_df2[table_cvs_df2['activity order']=='LC'])))"
   ]
  },
  {
   "cell_type": "code",
   "execution_count": 63,
   "metadata": {},
   "outputs": [
    {
     "data": {
      "text/plain": [
       "<matplotlib.text.Text at 0x13c98748>"
      ]
     },
     "execution_count": 63,
     "metadata": {},
     "output_type": "execute_result"
    },
    {
     "data": {
      "image/png": "[encoded data removed]",
      "text/plain": [
       "<matplotlib.figure.Figure at 0xf2d0cf8>"
      ]
     },
     "metadata": {},
     "output_type": "display_data"
    }
   ],
   "source": [
    "f, (ax1, ax2) = plt.subplots(2)\n",
    "ax = ax1\n",
    "cvs_sim = np.zeros((3,3),dtype=int)\n",
    "for i in range(3):\n",
    "    for j in range(3):\n",
    "        cvs_sim[i,j] = len(graph_cvs_df2[(graph_cvs_df2['sum caps']==i)&(graph_cvs_df2['sum light']==j)&(graph_cvs_df2['activity order']=='CL')])\n",
    "sns.heatmap(np.flip(cvs_sim,0),annot=True, fmt=\"d\",ax=ax1)\n",
    "ax.set_xticklabels(['none','1/2','2/2'])\n",
    "ax.set_yticklabels(['none','1/2','2/2'])\n",
    "plt.xlabel('Number of Light absorbance variables')\n",
    "plt.ylabel('Number of Caps variables')\n",
    "ax.set_title('Map of student use of CVS in table for variables per simulation for students with order CL   - {0} students'.format(len(graph_cvs_df2[graph_cvs_df2['activity order']=='CL'])))\n",
    "\n",
    "ax = ax2\n",
    "cvs_sim = np.zeros((3,3),dtype=int)\n",
    "for i in range(3):\n",
    "    for j in range(3):\n",
    "        cvs_sim[i,j] = len(graph_cvs_df2[(graph_cvs_df2['sum caps']==i)&(graph_cvs_df2['sum light']==j)&(graph_cvs_df2['activity order']=='LC')])\n",
    "sns.heatmap(np.flip(cvs_sim,0),annot=True, fmt=\"d\", ax=ax2)\n",
    "ax.set_xticklabels(['none','1/2','2/2'])\n",
    "ax.set_yticklabels(['none','1/2','2/2'])\n",
    "plt.xlabel('Number of Light absorbance variables')\n",
    "plt.ylabel('Number of Caps variables')\n",
    "ax.set_title('Map of student use of CVS in table for variables per simulation for students with order LC - {0} students'.format(len(graph_cvs_df2[graph_cvs_df2['activity order']=='LC'])))"
   ]
  },
  {
   "cell_type": "markdown",
   "metadata": {},
   "source": [
    "High usage and no usage (in graph) is consistent. More likely to do CVS in second sim"
   ]
  },
  {
   "cell_type": "markdown",
   "metadata": {},
   "source": [
    "## Can we predict use of CVS?\n",
    "### Learning to do CVS collect"
   ]
  },
  {
   "cell_type": "markdown",
   "metadata": {},
   "source": [
    "First we have to collapse the data to what students did in their first and second sim"
   ]
  },
  {
   "cell_type": "code",
   "execution_count": 64,
   "metadata": {},
   "outputs": [
    {
     "data": {
      "text/html": [
       "<div>\n",
       "<style>\n",
       "    .dataframe thead tr:only-child th {\n",
       "        text-align: right;\n",
       "    }\n",
       "\n",
       "    .dataframe thead th {\n",
       "        text-align: left;\n",
       "    }\n",
       "\n",
       "    .dataframe tbody tr th {\n",
       "        vertical-align: top;\n",
       "    }\n",
       "</style>\n",
       "<table border=\"1\" class=\"dataframe\">\n",
       "  <thead>\n",
       "    <tr style=\"text-align: right;\">\n",
       "      <th></th>\n",
       "      <th>CVS_table_1</th>\n",
       "      <th>main_1</th>\n",
       "      <th>pre_1</th>\n",
       "      <th>CVS_table_2</th>\n",
       "      <th>first_sim</th>\n",
       "    </tr>\n",
       "    <tr>\n",
       "      <th>sid</th>\n",
       "      <th></th>\n",
       "      <th></th>\n",
       "      <th></th>\n",
       "      <th></th>\n",
       "      <th></th>\n",
       "    </tr>\n",
       "  </thead>\n",
       "  <tbody>\n",
       "    <tr>\n",
       "      <th>10127163</th>\n",
       "      <td>2</td>\n",
       "      <td>3.0</td>\n",
       "      <td>1.0</td>\n",
       "      <td>2</td>\n",
       "      <td>L</td>\n",
       "    </tr>\n",
       "    <tr>\n",
       "      <th>10192168</th>\n",
       "      <td>2</td>\n",
       "      <td>2.0</td>\n",
       "      <td>1.0</td>\n",
       "      <td>2</td>\n",
       "      <td>C</td>\n",
       "    </tr>\n",
       "    <tr>\n",
       "      <th>10232160</th>\n",
       "      <td>1</td>\n",
       "      <td>1.0</td>\n",
       "      <td>1.0</td>\n",
       "      <td>2</td>\n",
       "      <td>L</td>\n",
       "    </tr>\n",
       "    <tr>\n",
       "      <th>10375163</th>\n",
       "      <td>2</td>\n",
       "      <td>3.0</td>\n",
       "      <td>1.0</td>\n",
       "      <td>2</td>\n",
       "      <td>C</td>\n",
       "    </tr>\n",
       "    <tr>\n",
       "      <th>10420167</th>\n",
       "      <td>2</td>\n",
       "      <td>2.5</td>\n",
       "      <td>2.0</td>\n",
       "      <td>2</td>\n",
       "      <td>C</td>\n",
       "    </tr>\n",
       "  </tbody>\n",
       "</table>\n",
       "</div>"
      ],
      "text/plain": [
       "          CVS_table_1  main_1  pre_1  CVS_table_2 first_sim\n",
       "sid                                                        \n",
       "10127163            2     3.0    1.0            2         L\n",
       "10192168            2     2.0    1.0            2         C\n",
       "10232160            1     1.0    1.0            2         L\n",
       "10375163            2     3.0    1.0            2         C\n",
       "10420167            2     2.5    2.0            2         C"
      ]
     },
     "execution_count": 64,
     "metadata": {},
     "output_type": "execute_result"
    }
   ],
   "source": [
    "cvs_learn = pd.pivot_table(data, values=['pre','main','CVS_table'], index=['sim_index','sid'],aggfunc=np.sum)\n",
    "cvs_learn.reset_index(level=0, inplace=True)\n",
    "cvs_learn['main']=cvs_learn['main']/2\n",
    "cvs_learn['pre']=cvs_learn['pre']/2\n",
    "cvs_learn_1 = cvs_learn[cvs_learn['sim_index']==1]\n",
    "cvs_learn_1.columns = ['sim_index','CVS_table_1', 'main_1', 'pre_1']\n",
    "cvs_learn_2 = cvs_learn[cvs_learn['sim_index']==2]\n",
    "cvs_learn_2.columns = ['sim_index','CVS_table_2', 'main_2', 'pre_2']\n",
    "cvs_learn = pd.concat([cvs_learn_1,cvs_learn_2],axis=1)\n",
    "cvs_learn['sid'] = cvs_learn.index\n",
    "cvs_learn['first_sim'] = cvs_learn['sid'].apply(lambda sid: list(data[(data['sid']==sid)&(data['sim_index']==1)]['sim'])[0])\n",
    "cvs_learn = cvs_learn[['CVS_table_1','main_1','pre_1','CVS_table_2','first_sim']]\n",
    "cvs_learn.head()"
   ]
  },
  {
   "cell_type": "code",
   "execution_count": 65,
   "metadata": {},
   "outputs": [
    {
     "name": "stdout",
     "output_type": "stream",
     "text": [
      "Model:  CVS_table_2 ~ CVS_table_1*main_1 + pre_1 + C(first_sim)\n",
      "Anova table using type 2 errors\n",
      "                    sum_sq     df       F     PR(>F)     eta_sq   omega_sq\n",
      "C(first_sim)         0.009    1.0   0.016  8.996e-01  9.775e-05 -5.986e-03\n",
      "CVS_table_1          6.798    1.0  12.522  5.439e-04  7.664e-02  7.009e-02\n",
      "main_1               0.479    1.0   0.883  3.489e-01  5.405e-03 -7.111e-04\n",
      "CVS_table_1:main_1   4.106    1.0   7.564  6.728e-03  4.630e-02  3.993e-02\n",
      "pre_1                0.216    1.0   0.398  5.290e-01  2.437e-03 -3.661e-03\n",
      "Residual            77.083  142.0     NaN        NaN        NaN        NaN\n"
     ]
    }
   ],
   "source": [
    "formula = 'CVS_table_2 ~ CVS_table_1*main_1 + pre_1 + C(first_sim)'\n",
    "model = ols(formula, cvs_learn).fit()\n",
    "# print model.summary()\n",
    "print \"Model: \",formula\n",
    "aov_table = anova_lm(model, typ=2)\n",
    "eta_squared(aov_table)\n",
    "omega_squared(aov_table)\n",
    "print \"Anova table using type 2 errors\"\n",
    "print(aov_table)"
   ]
  },
  {
   "cell_type": "markdown",
   "metadata": {},
   "source": [
    "Student who uses CVS collect previously were more likely to do so again, and even more so depending on how much they learned! (need to investigate further if its learn more do more or not).\n",
    "\n",
    "The first sim doesn't matter surprisingly."
   ]
  },
  {
   "cell_type": "markdown",
   "metadata": {},
   "source": [
    "## Learning to do CVS plot"
   ]
  },
  {
   "cell_type": "code",
   "execution_count": 66,
   "metadata": {},
   "outputs": [
    {
     "data": {
      "text/html": [
       "<div>\n",
       "<style>\n",
       "    .dataframe thead tr:only-child th {\n",
       "        text-align: right;\n",
       "    }\n",
       "\n",
       "    .dataframe thead th {\n",
       "        text-align: left;\n",
       "    }\n",
       "\n",
       "    .dataframe tbody tr th {\n",
       "        vertical-align: top;\n",
       "    }\n",
       "</style>\n",
       "<table border=\"1\" class=\"dataframe\">\n",
       "  <thead>\n",
       "    <tr style=\"text-align: right;\">\n",
       "      <th></th>\n",
       "      <th>sid</th>\n",
       "      <th>variable</th>\n",
       "      <th>pre</th>\n",
       "      <th>main</th>\n",
       "      <th>sim</th>\n",
       "      <th>CVS_table</th>\n",
       "      <th>CVS_graph</th>\n",
       "      <th>sim_index</th>\n",
       "      <th>intervals_in_table</th>\n",
       "      <th>CVS_table_only</th>\n",
       "    </tr>\n",
       "  </thead>\n",
       "  <tbody>\n",
       "    <tr>\n",
       "      <th>0</th>\n",
       "      <td>10127163</td>\n",
       "      <td>Concentration</td>\n",
       "      <td>1.0</td>\n",
       "      <td>3.0</td>\n",
       "      <td>L</td>\n",
       "      <td>1</td>\n",
       "      <td>1</td>\n",
       "      <td>1</td>\n",
       "      <td>True</td>\n",
       "      <td>0</td>\n",
       "    </tr>\n",
       "    <tr>\n",
       "      <th>1</th>\n",
       "      <td>10232160</td>\n",
       "      <td>Concentration</td>\n",
       "      <td>1.0</td>\n",
       "      <td>1.0</td>\n",
       "      <td>L</td>\n",
       "      <td>1</td>\n",
       "      <td>1</td>\n",
       "      <td>1</td>\n",
       "      <td>False</td>\n",
       "      <td>0</td>\n",
       "    </tr>\n",
       "    <tr>\n",
       "      <th>2</th>\n",
       "      <td>10537160</td>\n",
       "      <td>Concentration</td>\n",
       "      <td>1.0</td>\n",
       "      <td>2.0</td>\n",
       "      <td>L</td>\n",
       "      <td>1</td>\n",
       "      <td>0</td>\n",
       "      <td>2</td>\n",
       "      <td>False</td>\n",
       "      <td>1</td>\n",
       "    </tr>\n",
       "    <tr>\n",
       "      <th>3</th>\n",
       "      <td>10375163</td>\n",
       "      <td>Concentration</td>\n",
       "      <td>0.0</td>\n",
       "      <td>2.0</td>\n",
       "      <td>L</td>\n",
       "      <td>1</td>\n",
       "      <td>0</td>\n",
       "      <td>2</td>\n",
       "      <td>False</td>\n",
       "      <td>1</td>\n",
       "    </tr>\n",
       "    <tr>\n",
       "      <th>4</th>\n",
       "      <td>10420167</td>\n",
       "      <td>Concentration</td>\n",
       "      <td>1.0</td>\n",
       "      <td>3.0</td>\n",
       "      <td>L</td>\n",
       "      <td>1</td>\n",
       "      <td>1</td>\n",
       "      <td>2</td>\n",
       "      <td>False</td>\n",
       "      <td>0</td>\n",
       "    </tr>\n",
       "  </tbody>\n",
       "</table>\n",
       "</div>"
      ],
      "text/plain": [
       "        sid       variable  pre  main sim  CVS_table  CVS_graph  sim_index  intervals_in_table  \\\n",
       "0  10127163  Concentration  1.0   3.0   L          1          1          1                True   \n",
       "1  10232160  Concentration  1.0   1.0   L          1          1          1               False   \n",
       "2  10537160  Concentration  1.0   2.0   L          1          0          2               False   \n",
       "3  10375163  Concentration  0.0   2.0   L          1          0          2               False   \n",
       "4  10420167  Concentration  1.0   3.0   L          1          1          2               False   \n",
       "\n",
       "   CVS_table_only  \n",
       "0               0  \n",
       "1               0  \n",
       "2               1  \n",
       "3               1  \n",
       "4               0  "
      ]
     },
     "execution_count": 66,
     "metadata": {},
     "output_type": "execute_result"
    }
   ],
   "source": [
    "data.head()"
   ]
  },
  {
   "cell_type": "code",
   "execution_count": 67,
   "metadata": {},
   "outputs": [],
   "source": [
    "cvs_learn = pd.pivot_table(data, values=['pre','main','CVS_graph','CVS_table_only'], index=['sim_index','sid'],aggfunc=np.sum)\n",
    "cvs_learn.reset_index(level=0, inplace=True)\n",
    "cvs_learn['main']=cvs_learn['main']/2\n",
    "cvs_learn['pre']=cvs_learn['pre']/2\n",
    "cvs_learn_1 = cvs_learn[cvs_learn['sim_index']==1]\n",
    "cvs_learn_1.columns = ['sim_index','CVS_graph_1','CVS_table_only_1', 'main_1', 'pre_1']\n",
    "cvs_learn_2 = cvs_learn[cvs_learn['sim_index']==2]\n",
    "cvs_learn_2.columns = ['sim_index','CVS_graph_2','CVS_table_only_2', 'main_2', 'pre_2']\n",
    "cvs_learn = pd.concat([cvs_learn_1,cvs_learn_2],axis=1)\n",
    "cvs_learn['sid'] = cvs_learn.index\n",
    "cvs_learn['first_sim'] = cvs_learn['sid'].apply(lambda sid: list(data[(data['sid']==sid)&(data['sim_index']==1)]['sim'])[0])\n",
    "# cvs_learn.head()"
   ]
  },
  {
   "cell_type": "code",
   "execution_count": 68,
   "metadata": {},
   "outputs": [
    {
     "name": "stdout",
     "output_type": "stream",
     "text": [
      "Model:  CVS_graph_2 ~ CVS_graph_1*main_1 + CVS_table_only_1 + pre_1 + C(first_sim)\n",
      "Anova table using type 2 errors\n",
      "                    sum_sq     df       F     PR(>F)     eta_sq  omega_sq\n",
      "C(first_sim)         0.006    1.0   0.010  9.223e-01  5.452e-05    -0.006\n",
      "CVS_graph_1         19.211    1.0  30.213  1.761e-07  1.727e-01     0.166\n",
      "main_1               1.168    1.0   1.836  1.776e-01  1.050e-02     0.005\n",
      "CVS_graph_1:main_1   0.046    1.0   0.073  7.873e-01  4.177e-04    -0.005\n",
      "CVS_table_only_1     0.971    1.0   1.527  2.186e-01  8.729e-03     0.003\n",
      "pre_1                0.176    1.0   0.277  5.998e-01  1.581e-03    -0.004\n",
      "Residual            89.658  141.0     NaN        NaN        NaN       NaN\n"
     ]
    }
   ],
   "source": [
    "formula = 'CVS_graph_2 ~ CVS_graph_1*main_1 + CVS_table_only_1 + pre_1 + C(first_sim)'\n",
    "model = ols(formula, cvs_learn).fit()\n",
    "# print model.summary()\n",
    "print \"Model: \",formula\n",
    "aov_table = anova_lm(model, typ=2)\n",
    "eta_squared(aov_table)\n",
    "omega_squared(aov_table)\n",
    "print \"Anova table using type 2 errors\"\n",
    "print(aov_table)"
   ]
  },
  {
   "cell_type": "markdown",
   "metadata": {},
   "source": [
    "Again, sim doesn't matter.\n",
    "\n",
    "Only doing CVS graph does, regardless of if they learned from it or not!"
   ]
  },
  {
   "cell_type": "code",
   "execution_count": null,
   "metadata": {},
   "outputs": [],
   "source": []
  }
 ],
 "metadata": {
  "anaconda-cloud": {},
  "kernelspec": {
   "display_name": "Python 2",
   "language": "python",
   "name": "python2"
  },
  "language_info": {
   "codemirror_mode": {
    "name": "ipython",
    "version": 2
   },
   "file_extension": ".py",
   "mimetype": "text/x-python",
   "name": "python",
   "nbconvert_exporter": "python",
   "pygments_lexer": "ipython2",
   "version": "2.7.13"
  },
  "toc": {
   "nav_menu": {},
   "number_sections": true,
   "sideBar": false,
   "skip_h1_title": false,
   "toc_cell": false,
   "toc_position": {},
   "toc_section_display": "block",
   "toc_window_display": false
  }
 },
 "nbformat": 4,
 "nbformat_minor": 2
}
