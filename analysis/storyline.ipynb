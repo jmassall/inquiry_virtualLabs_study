{
 "cells": [
  {
   "cell_type": "raw",
   "metadata": {
    "hideCode": false,
    "hidePrompt": true
   },
   "source": [
    "This notebook organizes all the results in the \"analysis\" folder within a concrete storyline"
   ]
  },
  {
   "cell_type": "code",
   "execution_count": 1,
   "metadata": {
    "hideCode": false,
    "hidePrompt": true
   },
   "outputs": [
    {
     "data": {
      "text/html": [
       "<script>jQuery(function() {if (jQuery(\"body.notebook_app\").length == 0) { jQuery(\".input_area\").toggle(); jQuery(\".prompt\").toggle();}});</script>"
      ]
     },
     "metadata": {},
     "output_type": "display_data"
    }
   ],
   "source": [
    "from IPython.display import display\n",
    "from IPython.display import HTML\n",
    "import IPython.core.display as di\n",
    "\n",
    "# This line will hide code by default when the notebook is exported as HTML\n",
    "di.display_html('<script>jQuery(function() {if (jQuery(\"body.notebook_app\").length == 0) { jQuery(\".input_area\").toggle(); jQuery(\".prompt\").toggle();}});</script>', raw=True)"
   ]
  },
  {
   "cell_type": "code",
   "execution_count": 2,
   "metadata": {
    "hideCode": false,
    "hidePrompt": true
   },
   "outputs": [
    {
     "name": "stderr",
     "output_type": "stream",
     "text": [
      "d:\\applications\\anaconda2\\lib\\site-packages\\statsmodels\\compat\\pandas.py:56: FutureWarning: The pandas.core.datetools module is deprecated and will be removed in a future version. Please use the pandas.tseries module instead.\n",
      "  from pandas.core import datetools\n"
     ]
    }
   ],
   "source": [
    "%load_ext autoreload\n",
    "%autoreload 1\n",
    "%aimport utils_read_parsing\n",
    "from utils_timeline_viz import *\n",
    "from utils_read_parsing import *\n",
    "import matplotlib.pyplot as plt\n",
    "from tabulate import tabulate\n",
    "from scipy.stats import ranksums\n",
    "import seaborn as sns\n",
    "import statsmodels.api as sm\n",
    "pd.set_option(\"display.width\", 100)\n",
    "import matplotlib.pyplot as plt\n",
    "from statsmodels.formula.api import ols\n",
    "from statsmodels.graphics.api import interaction_plot, abline_plot\n",
    "from statsmodels.stats.anova import anova_lm\n",
    "from statsmodels.discrete.discrete_model import Logit\n",
    "%matplotlib inline\n",
    "matplotlib.style.use('ggplot')\n",
    "matplotlib.rcParams['figure.figsize'] = 7, 4\n",
    "pd.set_option('precision',3)\n",
    "np.set_printoptions(precision=3,suppress=True)"
   ]
  },
  {
   "cell_type": "markdown",
   "metadata": {
    "hideCode": false,
    "hidePrompt": true
   },
   "source": [
    "# Preparing the data\n",
    "We wish to have a table that looks like:"
   ]
  },
  {
   "cell_type": "code",
   "execution_count": 3,
   "metadata": {
    "hideCode": false,
    "hidePrompt": true
   },
   "outputs": [
    {
     "name": "stdout",
     "output_type": "stream",
     "text": [
      "-------  --------  ---  -----  -----  ---  ---------  ---------\n",
      "student  variable  pre  post   index  sim  CVS table  CVS graph\n",
      "s1       v1        1.0  2.333  1      L    Yes        No\n",
      "s1       v2        ...  ...    1      L    Yes        Yes\n",
      "s1       v3        ...  ...    2      C    No         No\n",
      "s1       v4        ...  ...    2      C    Yes        No\n",
      "-------  --------  ---  -----  -----  ---  ---------  ---------\n"
     ]
    }
   ],
   "source": [
    "t = [['student','variable','pre','post','index','sim','CVS table','CVS graph']]\n",
    "t.append(['s1','v1','1.0','2.333','1','L','Yes','No'])\n",
    "t.append(['s1','v2','...','...','1','L','Yes','Yes'])\n",
    "t.append(['s1','v3','...','...','2','C','No','No'])\n",
    "t.append(['s1','v4','...','...','2','C','Yes','No'])\n",
    "print tabulate(t)"
   ]
  },
  {
   "cell_type": "markdown",
   "metadata": {
    "hideCode": false,
    "hidePrompt": true
   },
   "source": [
    "## Grabing the CVS data..."
   ]
  },
  {
   "cell_type": "code",
   "execution_count": 4,
   "metadata": {
    "hideCode": false,
    "hidePrompt": true
   },
   "outputs": [],
   "source": [
    "table_cvs_df = pd.read_csv('table_cvs_results.txt', sep='\\t')\n",
    "graph_cvs_df = pd.read_csv('graph_cvs_results.txt', sep='\\t')"
   ]
  },
  {
   "cell_type": "code",
   "execution_count": 5,
   "metadata": {
    "hideCode": false,
    "hidePrompt": true
   },
   "outputs": [],
   "source": [
    "metadf = get_student_metadata()\n",
    "order = dict(zip(metadf.index,metadf['activity order']))\n",
    "graph_cvs_df['activity order'] = graph_cvs_df.studentid.apply(lambda sid: order[sid])\n",
    "table_cvs_df['activity order'] = table_cvs_df.studentid.apply(lambda sid: order[sid])"
   ]
  },
  {
   "cell_type": "code",
   "execution_count": 6,
   "metadata": {},
   "outputs": [
    {
     "data": {
      "text/html": [
       "<div>\n",
       "<style>\n",
       "    .dataframe thead tr:only-child th {\n",
       "        text-align: right;\n",
       "    }\n",
       "\n",
       "    .dataframe thead th {\n",
       "        text-align: left;\n",
       "    }\n",
       "\n",
       "    .dataframe tbody tr th {\n",
       "        vertical-align: top;\n",
       "    }\n",
       "</style>\n",
       "<table border=\"1\" class=\"dataframe\">\n",
       "  <thead>\n",
       "    <tr style=\"text-align: right;\">\n",
       "      <th></th>\n",
       "      <th>studentid</th>\n",
       "      <th>Battery voltage</th>\n",
       "      <th>Area</th>\n",
       "      <th>Separation</th>\n",
       "      <th>Wavelength</th>\n",
       "      <th>Width</th>\n",
       "      <th>Concentration</th>\n",
       "      <th>activity order</th>\n",
       "    </tr>\n",
       "  </thead>\n",
       "  <tbody>\n",
       "    <tr>\n",
       "      <th>0</th>\n",
       "      <td>11612162</td>\n",
       "      <td>0</td>\n",
       "      <td>0</td>\n",
       "      <td>0</td>\n",
       "      <td>3</td>\n",
       "      <td>2</td>\n",
       "      <td>3</td>\n",
       "      <td>CL</td>\n",
       "    </tr>\n",
       "    <tr>\n",
       "      <th>1</th>\n",
       "      <td>13660166</td>\n",
       "      <td>0</td>\n",
       "      <td>0</td>\n",
       "      <td>0</td>\n",
       "      <td>0</td>\n",
       "      <td>0</td>\n",
       "      <td>14</td>\n",
       "      <td>LC</td>\n",
       "    </tr>\n",
       "    <tr>\n",
       "      <th>2</th>\n",
       "      <td>41947147</td>\n",
       "      <td>2</td>\n",
       "      <td>0</td>\n",
       "      <td>0</td>\n",
       "      <td>14</td>\n",
       "      <td>6</td>\n",
       "      <td>7</td>\n",
       "      <td>CL</td>\n",
       "    </tr>\n",
       "    <tr>\n",
       "      <th>3</th>\n",
       "      <td>64006159</td>\n",
       "      <td>0</td>\n",
       "      <td>0</td>\n",
       "      <td>0</td>\n",
       "      <td>5</td>\n",
       "      <td>0</td>\n",
       "      <td>6</td>\n",
       "      <td>LC</td>\n",
       "    </tr>\n",
       "    <tr>\n",
       "      <th>4</th>\n",
       "      <td>15749160</td>\n",
       "      <td>0</td>\n",
       "      <td>2</td>\n",
       "      <td>3</td>\n",
       "      <td>0</td>\n",
       "      <td>4</td>\n",
       "      <td>10</td>\n",
       "      <td>CL</td>\n",
       "    </tr>\n",
       "  </tbody>\n",
       "</table>\n",
       "</div>"
      ],
      "text/plain": [
       "   studentid  Battery voltage  Area  Separation  Wavelength  Width  Concentration activity order\n",
       "0   11612162                0     0           0           3      2              3             CL\n",
       "1   13660166                0     0           0           0      0             14             LC\n",
       "2   41947147                2     0           0          14      6              7             CL\n",
       "3   64006159                0     0           0           5      0              6             LC\n",
       "4   15749160                0     2           3           0      4             10             CL"
      ]
     },
     "execution_count": 6,
     "metadata": {},
     "output_type": "execute_result"
    }
   ],
   "source": [
    "table_cvs_df.head()"
   ]
  },
  {
   "cell_type": "code",
   "execution_count": 7,
   "metadata": {
    "hideCode": false,
    "hidePrompt": true
   },
   "outputs": [
    {
     "data": {
      "text/html": [
       "<div>\n",
       "<style>\n",
       "    .dataframe thead tr:only-child th {\n",
       "        text-align: right;\n",
       "    }\n",
       "\n",
       "    .dataframe thead th {\n",
       "        text-align: left;\n",
       "    }\n",
       "\n",
       "    .dataframe tbody tr th {\n",
       "        vertical-align: top;\n",
       "    }\n",
       "</style>\n",
       "<table border=\"1\" class=\"dataframe\">\n",
       "  <thead>\n",
       "    <tr style=\"text-align: right;\">\n",
       "      <th></th>\n",
       "      <th>studentid</th>\n",
       "      <th>Battery voltage</th>\n",
       "      <th>Area</th>\n",
       "      <th>Separation</th>\n",
       "      <th>Wavelength</th>\n",
       "      <th>Width</th>\n",
       "      <th>Concentration</th>\n",
       "      <th>activity order</th>\n",
       "    </tr>\n",
       "  </thead>\n",
       "  <tbody>\n",
       "    <tr>\n",
       "      <th>0</th>\n",
       "      <td>11612162</td>\n",
       "      <td>0</td>\n",
       "      <td>0</td>\n",
       "      <td>0</td>\n",
       "      <td>0</td>\n",
       "      <td>0</td>\n",
       "      <td>0</td>\n",
       "      <td>CL</td>\n",
       "    </tr>\n",
       "    <tr>\n",
       "      <th>1</th>\n",
       "      <td>13660166</td>\n",
       "      <td>0</td>\n",
       "      <td>0</td>\n",
       "      <td>0</td>\n",
       "      <td>0</td>\n",
       "      <td>0</td>\n",
       "      <td>1</td>\n",
       "      <td>LC</td>\n",
       "    </tr>\n",
       "    <tr>\n",
       "      <th>2</th>\n",
       "      <td>41947147</td>\n",
       "      <td>0</td>\n",
       "      <td>0</td>\n",
       "      <td>0</td>\n",
       "      <td>1</td>\n",
       "      <td>1</td>\n",
       "      <td>1</td>\n",
       "      <td>CL</td>\n",
       "    </tr>\n",
       "    <tr>\n",
       "      <th>3</th>\n",
       "      <td>64006159</td>\n",
       "      <td>0</td>\n",
       "      <td>0</td>\n",
       "      <td>0</td>\n",
       "      <td>1</td>\n",
       "      <td>0</td>\n",
       "      <td>1</td>\n",
       "      <td>LC</td>\n",
       "    </tr>\n",
       "    <tr>\n",
       "      <th>4</th>\n",
       "      <td>15749160</td>\n",
       "      <td>0</td>\n",
       "      <td>0</td>\n",
       "      <td>0</td>\n",
       "      <td>0</td>\n",
       "      <td>0</td>\n",
       "      <td>1</td>\n",
       "      <td>CL</td>\n",
       "    </tr>\n",
       "  </tbody>\n",
       "</table>\n",
       "</div>"
      ],
      "text/plain": [
       "   studentid  Battery voltage  Area  Separation  Wavelength  Width  Concentration activity order\n",
       "0   11612162                0     0           0           0      0              0             CL\n",
       "1   13660166                0     0           0           0      0              1             LC\n",
       "2   41947147                0     0           0           1      1              1             CL\n",
       "3   64006159                0     0           0           1      0              1             LC\n",
       "4   15749160                0     0           0           0      0              1             CL"
      ]
     },
     "execution_count": 7,
     "metadata": {},
     "output_type": "execute_result"
    }
   ],
   "source": [
    "variables = [\"Area\",\"Separation\",\"Width\",\"Concentration\",\"Wavelength\",\"Battery voltage\"]\n",
    "\n",
    "def binarize(threshold,number):\n",
    "    if number>= threshold : return 1\n",
    "    else: return 0\n",
    "    \n",
    "# Given that we want to compare the stringency of CVS, we created different definitions with 2,3,4 points needed\n",
    "\n",
    "graph_cvs_2_df = graph_cvs_df.copy()\n",
    "graph_cvs_3_df = graph_cvs_df.copy()\n",
    "graph_cvs_4_df = graph_cvs_df.copy()\n",
    "graph_cvs_5_df = graph_cvs_df.copy()\n",
    "for v in variables:\n",
    "    graph_cvs_2_df[v] = graph_cvs_df.apply(lambda row: binarize(2,row[v]), axis=1)\n",
    "    graph_cvs_3_df[v] = graph_cvs_df.apply(lambda row: binarize(3,row[v]), axis=1)\n",
    "    graph_cvs_4_df[v] = graph_cvs_df.apply(lambda row: binarize(4,row[v]), axis=1)\n",
    "    graph_cvs_5_df[v] = graph_cvs_df.apply(lambda row: binarize(5,row[v]), axis=1)\n",
    "\n",
    "table_cvs_2_df = table_cvs_df.copy()\n",
    "table_cvs_3_df = table_cvs_df.copy()\n",
    "table_cvs_4_df = table_cvs_df.copy()\n",
    "table_cvs_5_df = table_cvs_df.copy()\n",
    "for v in variables:\n",
    "    table_cvs_2_df[v] = table_cvs_df.apply(lambda row: binarize(2,row[v]), axis=1)\n",
    "    table_cvs_3_df[v] = table_cvs_df.apply(lambda row: binarize(3,row[v]), axis=1)\n",
    "    table_cvs_4_df[v] = table_cvs_df.apply(lambda row: binarize(4,row[v]), axis=1)\n",
    "    table_cvs_5_df[v] = table_cvs_df.apply(lambda row: binarize(5,row[v]), axis=1)\n",
    "table_cvs_5_df.head()"
   ]
  },
  {
   "cell_type": "code",
   "execution_count": 8,
   "metadata": {
    "hideCode": true,
    "hidePrompt": true
   },
   "outputs": [],
   "source": [
    "table_intervals_df = pd.read_csv('table_intervals_results.txt', sep='\\t')"
   ]
  },
  {
   "cell_type": "markdown",
   "metadata": {
    "hideCode": true,
    "hidePrompt": true
   },
   "source": [
    "## Grabbing the worksheet data"
   ]
  },
  {
   "cell_type": "code",
   "execution_count": 9,
   "metadata": {
    "hideCode": true,
    "hidePrompt": true
   },
   "outputs": [],
   "source": [
    "%reload_ext utils_read_parsing\n",
    "#grab worksheet data\n",
    "worksheets = get_worksheet_metadata('beers')\n",
    "pre = get_pre_worksheet(sim='beers')\n",
    "main = get_main_worksheet(sim='beers')\n",
    "\n",
    "ids = get_students_to_analyze_log_worksheets('beers')\n",
    "pre= pre[pre['Student ID'].isin(worksheets[(worksheets['Type']=='p')&worksheets['Student ID'].isin(ids)]['other id'].values)]\n",
    "main= main[main['Student ID'].isin(worksheets[(worksheets['Type']=='m')&worksheets['Student ID'].isin(ids)]['other id'].values)]\n",
    "\n",
    "#ids in pre/post match \"other id\" in worksheet metdata so we need to assign the correct id in logs for each entry in pre/post\n",
    "pre['sid'] = pre['Student ID'].apply(lambda row: worksheets.loc[worksheets[(worksheets['other id']==row)].index[0],'Student ID'])\n",
    "main['sid'] = main['Student ID'].apply(lambda row: worksheets.loc[worksheets[worksheets['other id']==row].index[0],'Student ID'])\n",
    "\n",
    "# print len(ids),len(pre),len(main)"
   ]
  },
  {
   "cell_type": "code",
   "execution_count": 10,
   "metadata": {
    "hideCode": true,
    "hidePrompt": true
   },
   "outputs": [],
   "source": [
    "## make desired table for beers\n",
    "melted_pre = pd.melt(pre, id_vars=['sid'], value_vars=['Concentration','Width'], var_name='variable',value_name='pre')\n",
    "melted_main = pd.melt(main, id_vars=['sid'], value_vars=['Concentration','Width'], var_name='variable',value_name='main')\n",
    "\n",
    "L_scores = melted_pre.merge(melted_main, on=['sid','variable'], how='outer')\n",
    "L_scores['sim'] = 'L'\n",
    "\n",
    "L_scores['CVS_table_2'] = L_scores.apply(lambda row: table_cvs_2_df.loc[table_cvs_2_df[table_cvs_2_df['studentid']==row['sid']].index[0],row['variable']],axis=1)\n",
    "L_scores['CVS_graph_2'] = L_scores.apply(lambda row: graph_cvs_2_df.loc[graph_cvs_2_df[graph_cvs_2_df['studentid']==row['sid']].index[0],row['variable']],axis=1)\n",
    "\n",
    "L_scores['CVS_table_3'] = L_scores.apply(lambda row: table_cvs_3_df.loc[table_cvs_3_df[table_cvs_3_df['studentid']==row['sid']].index[0],row['variable']],axis=1)\n",
    "L_scores['CVS_graph_3'] = L_scores.apply(lambda row: graph_cvs_3_df.loc[graph_cvs_3_df[graph_cvs_3_df['studentid']==row['sid']].index[0],row['variable']],axis=1)\n",
    "\n",
    "L_scores['CVS_table_4'] = L_scores.apply(lambda row: table_cvs_4_df.loc[table_cvs_4_df[table_cvs_4_df['studentid']==row['sid']].index[0],row['variable']],axis=1)\n",
    "L_scores['CVS_graph_4'] = L_scores.apply(lambda row: graph_cvs_4_df.loc[graph_cvs_4_df[graph_cvs_4_df['studentid']==row['sid']].index[0],row['variable']],axis=1)\n",
    "\n",
    "L_scores['CVS_table_5'] = L_scores.apply(lambda row: table_cvs_5_df.loc[table_cvs_5_df[table_cvs_5_df['studentid']==row['sid']].index[0],row['variable']],axis=1)\n",
    "L_scores['CVS_graph_5'] = L_scores.apply(lambda row: graph_cvs_5_df.loc[graph_cvs_5_df[graph_cvs_5_df['studentid']==row['sid']].index[0],row['variable']],axis=1)\n",
    "\n",
    "\n",
    "L_scores['number_points_table'] = L_scores.apply(lambda row: table_cvs_df.loc[table_cvs_df[table_cvs_df['studentid']==row['sid']].index[0],row['variable']],axis=1)\n",
    "L_scores['number_points_graph'] = L_scores.apply(lambda row: graph_cvs_df.loc[graph_cvs_df[graph_cvs_df['studentid']==row['sid']].index[0],row['variable']],axis=1)\n",
    "\n",
    "L_scores['sim_index'] = L_scores.apply(lambda row: table_cvs_2_df.loc[table_cvs_2_df[table_cvs_2_df['studentid']==row['sid']].index[0],'activity order'].index(row['sim'])+1,axis=1)"
   ]
  },
  {
   "cell_type": "code",
   "execution_count": 11,
   "metadata": {
    "hideCode": true,
    "hidePrompt": true
   },
   "outputs": [
    {
     "data": {
      "text/html": [
       "<div>\n",
       "<style>\n",
       "    .dataframe thead tr:only-child th {\n",
       "        text-align: right;\n",
       "    }\n",
       "\n",
       "    .dataframe thead th {\n",
       "        text-align: left;\n",
       "    }\n",
       "\n",
       "    .dataframe tbody tr th {\n",
       "        vertical-align: top;\n",
       "    }\n",
       "</style>\n",
       "<table border=\"1\" class=\"dataframe\">\n",
       "  <thead>\n",
       "    <tr style=\"text-align: right;\">\n",
       "      <th></th>\n",
       "      <th>sid</th>\n",
       "      <th>pre</th>\n",
       "      <th>main</th>\n",
       "      <th>CVS_table_2</th>\n",
       "      <th>CVS_graph_2</th>\n",
       "      <th>CVS_table_3</th>\n",
       "      <th>CVS_graph_3</th>\n",
       "      <th>CVS_table_4</th>\n",
       "      <th>CVS_graph_4</th>\n",
       "      <th>CVS_table_5</th>\n",
       "      <th>CVS_graph_5</th>\n",
       "      <th>number_points_table</th>\n",
       "      <th>number_points_graph</th>\n",
       "      <th>sim_index</th>\n",
       "    </tr>\n",
       "  </thead>\n",
       "  <tbody>\n",
       "    <tr>\n",
       "      <th>count</th>\n",
       "      <td>1.480e+02</td>\n",
       "      <td>148.000</td>\n",
       "      <td>148.000</td>\n",
       "      <td>148.000</td>\n",
       "      <td>148.000</td>\n",
       "      <td>148.000</td>\n",
       "      <td>148.000</td>\n",
       "      <td>148.000</td>\n",
       "      <td>148.000</td>\n",
       "      <td>148.000</td>\n",
       "      <td>148.000</td>\n",
       "      <td>148.000</td>\n",
       "      <td>148.000</td>\n",
       "      <td>148.000</td>\n",
       "    </tr>\n",
       "    <tr>\n",
       "      <th>mean</th>\n",
       "      <td>2.204e+07</td>\n",
       "      <td>1.027</td>\n",
       "      <td>2.318</td>\n",
       "      <td>0.736</td>\n",
       "      <td>0.480</td>\n",
       "      <td>0.595</td>\n",
       "      <td>0.446</td>\n",
       "      <td>0.520</td>\n",
       "      <td>0.426</td>\n",
       "      <td>0.412</td>\n",
       "      <td>0.318</td>\n",
       "      <td>4.351</td>\n",
       "      <td>3.236</td>\n",
       "      <td>1.486</td>\n",
       "    </tr>\n",
       "    <tr>\n",
       "      <th>std</th>\n",
       "      <td>1.808e+07</td>\n",
       "      <td>0.833</td>\n",
       "      <td>0.756</td>\n",
       "      <td>0.442</td>\n",
       "      <td>0.501</td>\n",
       "      <td>0.493</td>\n",
       "      <td>0.499</td>\n",
       "      <td>0.501</td>\n",
       "      <td>0.496</td>\n",
       "      <td>0.494</td>\n",
       "      <td>0.467</td>\n",
       "      <td>4.322</td>\n",
       "      <td>4.366</td>\n",
       "      <td>0.502</td>\n",
       "    </tr>\n",
       "    <tr>\n",
       "      <th>min</th>\n",
       "      <td>1.013e+07</td>\n",
       "      <td>0.000</td>\n",
       "      <td>0.000</td>\n",
       "      <td>0.000</td>\n",
       "      <td>0.000</td>\n",
       "      <td>0.000</td>\n",
       "      <td>0.000</td>\n",
       "      <td>0.000</td>\n",
       "      <td>0.000</td>\n",
       "      <td>0.000</td>\n",
       "      <td>0.000</td>\n",
       "      <td>0.000</td>\n",
       "      <td>0.000</td>\n",
       "      <td>1.000</td>\n",
       "    </tr>\n",
       "    <tr>\n",
       "      <th>25%</th>\n",
       "      <td>1.354e+07</td>\n",
       "      <td>0.000</td>\n",
       "      <td>2.000</td>\n",
       "      <td>0.000</td>\n",
       "      <td>0.000</td>\n",
       "      <td>0.000</td>\n",
       "      <td>0.000</td>\n",
       "      <td>0.000</td>\n",
       "      <td>0.000</td>\n",
       "      <td>0.000</td>\n",
       "      <td>0.000</td>\n",
       "      <td>0.000</td>\n",
       "      <td>0.000</td>\n",
       "      <td>1.000</td>\n",
       "    </tr>\n",
       "    <tr>\n",
       "      <th>50%</th>\n",
       "      <td>1.670e+07</td>\n",
       "      <td>1.000</td>\n",
       "      <td>2.000</td>\n",
       "      <td>1.000</td>\n",
       "      <td>0.000</td>\n",
       "      <td>1.000</td>\n",
       "      <td>0.000</td>\n",
       "      <td>1.000</td>\n",
       "      <td>0.000</td>\n",
       "      <td>0.000</td>\n",
       "      <td>0.000</td>\n",
       "      <td>4.000</td>\n",
       "      <td>0.000</td>\n",
       "      <td>1.000</td>\n",
       "    </tr>\n",
       "    <tr>\n",
       "      <th>75%</th>\n",
       "      <td>1.936e+07</td>\n",
       "      <td>2.000</td>\n",
       "      <td>3.000</td>\n",
       "      <td>1.000</td>\n",
       "      <td>1.000</td>\n",
       "      <td>1.000</td>\n",
       "      <td>1.000</td>\n",
       "      <td>1.000</td>\n",
       "      <td>1.000</td>\n",
       "      <td>1.000</td>\n",
       "      <td>1.000</td>\n",
       "      <td>7.000</td>\n",
       "      <td>6.000</td>\n",
       "      <td>2.000</td>\n",
       "    </tr>\n",
       "    <tr>\n",
       "      <th>max</th>\n",
       "      <td>9.045e+07</td>\n",
       "      <td>3.000</td>\n",
       "      <td>3.000</td>\n",
       "      <td>1.000</td>\n",
       "      <td>1.000</td>\n",
       "      <td>1.000</td>\n",
       "      <td>1.000</td>\n",
       "      <td>1.000</td>\n",
       "      <td>1.000</td>\n",
       "      <td>1.000</td>\n",
       "      <td>1.000</td>\n",
       "      <td>23.000</td>\n",
       "      <td>23.000</td>\n",
       "      <td>2.000</td>\n",
       "    </tr>\n",
       "  </tbody>\n",
       "</table>\n",
       "</div>"
      ],
      "text/plain": [
       "             sid      pre     main  CVS_table_2  CVS_graph_2  CVS_table_3  CVS_graph_3  \\\n",
       "count  1.480e+02  148.000  148.000      148.000      148.000      148.000      148.000   \n",
       "mean   2.204e+07    1.027    2.318        0.736        0.480        0.595        0.446   \n",
       "std    1.808e+07    0.833    0.756        0.442        0.501        0.493        0.499   \n",
       "min    1.013e+07    0.000    0.000        0.000        0.000        0.000        0.000   \n",
       "25%    1.354e+07    0.000    2.000        0.000        0.000        0.000        0.000   \n",
       "50%    1.670e+07    1.000    2.000        1.000        0.000        1.000        0.000   \n",
       "75%    1.936e+07    2.000    3.000        1.000        1.000        1.000        1.000   \n",
       "max    9.045e+07    3.000    3.000        1.000        1.000        1.000        1.000   \n",
       "\n",
       "       CVS_table_4  CVS_graph_4  CVS_table_5  CVS_graph_5  number_points_table  \\\n",
       "count      148.000      148.000      148.000      148.000              148.000   \n",
       "mean         0.520        0.426        0.412        0.318                4.351   \n",
       "std          0.501        0.496        0.494        0.467                4.322   \n",
       "min          0.000        0.000        0.000        0.000                0.000   \n",
       "25%          0.000        0.000        0.000        0.000                0.000   \n",
       "50%          1.000        0.000        0.000        0.000                4.000   \n",
       "75%          1.000        1.000        1.000        1.000                7.000   \n",
       "max          1.000        1.000        1.000        1.000               23.000   \n",
       "\n",
       "       number_points_graph  sim_index  \n",
       "count              148.000    148.000  \n",
       "mean                 3.236      1.486  \n",
       "std                  4.366      0.502  \n",
       "min                  0.000      1.000  \n",
       "25%                  0.000      1.000  \n",
       "50%                  0.000      1.000  \n",
       "75%                  6.000      2.000  \n",
       "max                 23.000      2.000  "
      ]
     },
     "execution_count": 11,
     "metadata": {},
     "output_type": "execute_result"
    }
   ],
   "source": [
    "L_scores[L_scores['variable']=='Width'].describe()"
   ]
  },
  {
   "cell_type": "code",
   "execution_count": 12,
   "metadata": {
    "hideCode": true,
    "hidePrompt": true
   },
   "outputs": [],
   "source": [
    "%reload_ext utils_read_parsing\n",
    "#grab worksheet data\n",
    "worksheets = get_worksheet_metadata('caps')\n",
    "pre = get_pre_worksheet(sim='caps')\n",
    "main = get_main_worksheet(sim='caps')\n",
    "\n",
    "ids = get_students_to_analyze_log_worksheets('caps')\n",
    "pre= pre[pre['Student ID'].isin(worksheets[(worksheets['Type']=='p')&worksheets['Student ID'].isin(ids)]['other id'].values)]\n",
    "main= main[main['Student ID'].isin(worksheets[(worksheets['Type']=='m')&worksheets['Student ID'].isin(ids)]['other id'].values)]\n",
    "\n",
    "#ids in pre/post match \"other id\" in worksheet metdata so we need to assign the correct id in logs for each entry in pre/post\n",
    "pre['sid'] = pre['Student ID'].apply(lambda row: worksheets.loc[worksheets[(worksheets['other id']==row)].index[0],'Student ID'])\n",
    "main['sid'] = main['Student ID'].apply(lambda row: worksheets.loc[worksheets[worksheets['other id']==row].index[0],'Student ID'])\n",
    "\n",
    "# print len(ids),len(pre),len(main)"
   ]
  },
  {
   "cell_type": "code",
   "execution_count": 13,
   "metadata": {
    "hideCode": true,
    "hidePrompt": true
   },
   "outputs": [],
   "source": [
    "## make desired table for caps\n",
    "melted_pre = pd.melt(pre, id_vars=['sid'], value_vars=['Area','Separation'], var_name='variable',value_name='pre')\n",
    "melted_main = pd.melt(main, id_vars=['sid'], value_vars=['Area','Separation'], var_name='variable',value_name='main')\n",
    "\n",
    "C_scores = melted_pre.merge(melted_main, on=['sid','variable'], how='outer')\n",
    "C_scores['sim'] = 'C'\n",
    "C_scores['CVS_table_2'] = C_scores.apply(lambda row: table_cvs_2_df.loc[table_cvs_2_df[table_cvs_2_df['studentid']==row['sid']].index[0],row['variable']],axis=1)\n",
    "C_scores['CVS_graph_2'] = C_scores.apply(lambda row: graph_cvs_2_df.loc[graph_cvs_2_df[graph_cvs_2_df['studentid']==row['sid']].index[0],row['variable']],axis=1)\n",
    "\n",
    "C_scores['CVS_table_3'] = C_scores.apply(lambda row: table_cvs_3_df.loc[table_cvs_3_df[table_cvs_3_df['studentid']==row['sid']].index[0],row['variable']],axis=1)\n",
    "C_scores['CVS_graph_3'] = C_scores.apply(lambda row: graph_cvs_3_df.loc[graph_cvs_3_df[graph_cvs_3_df['studentid']==row['sid']].index[0],row['variable']],axis=1)\n",
    "\n",
    "C_scores['CVS_table_4'] = C_scores.apply(lambda row: table_cvs_4_df.loc[table_cvs_4_df[table_cvs_4_df['studentid']==row['sid']].index[0],row['variable']],axis=1)\n",
    "C_scores['CVS_graph_4'] = C_scores.apply(lambda row: graph_cvs_4_df.loc[graph_cvs_4_df[graph_cvs_4_df['studentid']==row['sid']].index[0],row['variable']],axis=1)\n",
    "\n",
    "C_scores['CVS_table_5'] = C_scores.apply(lambda row: table_cvs_5_df.loc[table_cvs_5_df[table_cvs_5_df['studentid']==row['sid']].index[0],row['variable']],axis=1)\n",
    "C_scores['CVS_graph_5'] = C_scores.apply(lambda row: graph_cvs_5_df.loc[graph_cvs_5_df[graph_cvs_5_df['studentid']==row['sid']].index[0],row['variable']],axis=1)\n",
    "\n",
    "C_scores['number_points_table'] = C_scores.apply(lambda row: table_cvs_df.loc[table_cvs_df[table_cvs_df['studentid']==row['sid']].index[0],row['variable']],axis=1)\n",
    "C_scores['number_points_graph'] = C_scores.apply(lambda row: graph_cvs_df.loc[graph_cvs_df[graph_cvs_df['studentid']==row['sid']].index[0],row['variable']],axis=1)\n",
    "\n",
    "C_scores['sim_index'] = C_scores.apply(lambda row: table_cvs_2_df.loc[table_cvs_2_df[table_cvs_2_df['studentid']==row['sid']].index[0],'activity order'].index(row['sim'])+1,axis=1)"
   ]
  },
  {
   "cell_type": "markdown",
   "metadata": {},
   "source": [
    "## Putting it all together"
   ]
  },
  {
   "cell_type": "code",
   "execution_count": 14,
   "metadata": {
    "hideCode": true,
    "hidePrompt": true
   },
   "outputs": [],
   "source": [
    "data = pd.concat([L_scores,C_scores])\n",
    "# data['intervals_in_table'] = data.apply(lambda row: table_intervals_df.loc[table_intervals_df[table_intervals_df['studentid']==row['sid']].index[0],row['variable']],axis=1)\n",
    "# data['CVS_table_only'] = data.apply(lambda row: row['CVS_table']*(1-row['CVS_graph']), axis = 1)\n",
    "data = data.reset_index(drop=True)"
   ]
  },
  {
   "cell_type": "markdown",
   "metadata": {},
   "source": [
    "## Adding pre-survey data"
   ]
  },
  {
   "cell_type": "code",
   "execution_count": 15,
   "metadata": {},
   "outputs": [
    {
     "data": {
      "text/html": [
       "<div>\n",
       "<style>\n",
       "    .dataframe thead tr:only-child th {\n",
       "        text-align: right;\n",
       "    }\n",
       "\n",
       "    .dataframe thead th {\n",
       "        text-align: left;\n",
       "    }\n",
       "\n",
       "    .dataframe tbody tr th {\n",
       "        vertical-align: top;\n",
       "    }\n",
       "</style>\n",
       "<table border=\"1\" class=\"dataframe\">\n",
       "  <thead>\n",
       "    <tr style=\"text-align: right;\">\n",
       "      <th></th>\n",
       "      <th>Unnamed: 0</th>\n",
       "      <th>sid</th>\n",
       "      <th>level_experience_sims</th>\n",
       "      <th>similar_L</th>\n",
       "      <th>similar_C</th>\n",
       "      <th>experience_undergrad_lab_physics</th>\n",
       "    </tr>\n",
       "  </thead>\n",
       "  <tbody>\n",
       "    <tr>\n",
       "      <th>0</th>\n",
       "      <td>5</td>\n",
       "      <td>77047160</td>\n",
       "      <td>2</td>\n",
       "      <td>0</td>\n",
       "      <td>0</td>\n",
       "      <td>1</td>\n",
       "    </tr>\n",
       "    <tr>\n",
       "      <th>1</th>\n",
       "      <td>6</td>\n",
       "      <td>23836160</td>\n",
       "      <td>0</td>\n",
       "      <td>0</td>\n",
       "      <td>0</td>\n",
       "      <td>1</td>\n",
       "    </tr>\n",
       "    <tr>\n",
       "      <th>2</th>\n",
       "      <td>7</td>\n",
       "      <td>64006159</td>\n",
       "      <td>1</td>\n",
       "      <td>0</td>\n",
       "      <td>0</td>\n",
       "      <td>1</td>\n",
       "    </tr>\n",
       "    <tr>\n",
       "      <th>3</th>\n",
       "      <td>8</td>\n",
       "      <td>24566161</td>\n",
       "      <td>3</td>\n",
       "      <td>0</td>\n",
       "      <td>1</td>\n",
       "      <td>1</td>\n",
       "    </tr>\n",
       "    <tr>\n",
       "      <th>4</th>\n",
       "      <td>9</td>\n",
       "      <td>46792161</td>\n",
       "      <td>2</td>\n",
       "      <td>1</td>\n",
       "      <td>0</td>\n",
       "      <td>1</td>\n",
       "    </tr>\n",
       "  </tbody>\n",
       "</table>\n",
       "</div>"
      ],
      "text/plain": [
       "   Unnamed: 0       sid  level_experience_sims  similar_L  similar_C  \\\n",
       "0           5  77047160                      2          0          0   \n",
       "1           6  23836160                      0          0          0   \n",
       "2           7  64006159                      1          0          0   \n",
       "3           8  24566161                      3          0          1   \n",
       "4           9  46792161                      2          1          0   \n",
       "\n",
       "   experience_undergrad_lab_physics  \n",
       "0                                 1  \n",
       "1                                 1  \n",
       "2                                 1  \n",
       "3                                 1  \n",
       "4                                 1  "
      ]
     },
     "execution_count": 15,
     "metadata": {},
     "output_type": "execute_result"
    }
   ],
   "source": [
    "pre_survey_df = pd.read_csv('pre_survey_results.txt', sep='\\t')\n",
    "pre_survey_df.head()"
   ]
  },
  {
   "cell_type": "code",
   "execution_count": 16,
   "metadata": {},
   "outputs": [
    {
     "data": {
      "text/html": [
       "<div>\n",
       "<style>\n",
       "    .dataframe thead tr:only-child th {\n",
       "        text-align: right;\n",
       "    }\n",
       "\n",
       "    .dataframe thead th {\n",
       "        text-align: left;\n",
       "    }\n",
       "\n",
       "    .dataframe tbody tr th {\n",
       "        vertical-align: top;\n",
       "    }\n",
       "</style>\n",
       "<table border=\"1\" class=\"dataframe\">\n",
       "  <thead>\n",
       "    <tr style=\"text-align: right;\">\n",
       "      <th></th>\n",
       "      <th>sid</th>\n",
       "      <th>variable</th>\n",
       "      <th>pre</th>\n",
       "      <th>main</th>\n",
       "      <th>sim</th>\n",
       "      <th>CVS_table_2</th>\n",
       "      <th>CVS_graph_2</th>\n",
       "      <th>CVS_table_3</th>\n",
       "      <th>CVS_graph_3</th>\n",
       "      <th>CVS_table_4</th>\n",
       "      <th>...</th>\n",
       "      <th>CVS_table_5</th>\n",
       "      <th>CVS_graph_5</th>\n",
       "      <th>number_points_table</th>\n",
       "      <th>number_points_graph</th>\n",
       "      <th>sim_index</th>\n",
       "      <th>level_experience_sims</th>\n",
       "      <th>experience_undergrad_lab_physics</th>\n",
       "      <th>used_similar_sim_L</th>\n",
       "      <th>used_similar_sim_C</th>\n",
       "      <th>used_similar_sim</th>\n",
       "    </tr>\n",
       "  </thead>\n",
       "  <tbody>\n",
       "    <tr>\n",
       "      <th>0</th>\n",
       "      <td>10127163</td>\n",
       "      <td>Concentration</td>\n",
       "      <td>1.0</td>\n",
       "      <td>3.0</td>\n",
       "      <td>L</td>\n",
       "      <td>1</td>\n",
       "      <td>1</td>\n",
       "      <td>1</td>\n",
       "      <td>1</td>\n",
       "      <td>1</td>\n",
       "      <td>...</td>\n",
       "      <td>1</td>\n",
       "      <td>1</td>\n",
       "      <td>7</td>\n",
       "      <td>6</td>\n",
       "      <td>1</td>\n",
       "      <td>1</td>\n",
       "      <td>1</td>\n",
       "      <td>0.0</td>\n",
       "      <td>0.0</td>\n",
       "      <td>0.0</td>\n",
       "    </tr>\n",
       "    <tr>\n",
       "      <th>148</th>\n",
       "      <td>10127163</td>\n",
       "      <td>Width</td>\n",
       "      <td>1.0</td>\n",
       "      <td>3.0</td>\n",
       "      <td>L</td>\n",
       "      <td>1</td>\n",
       "      <td>1</td>\n",
       "      <td>1</td>\n",
       "      <td>1</td>\n",
       "      <td>1</td>\n",
       "      <td>...</td>\n",
       "      <td>1</td>\n",
       "      <td>1</td>\n",
       "      <td>7</td>\n",
       "      <td>7</td>\n",
       "      <td>1</td>\n",
       "      <td>1</td>\n",
       "      <td>1</td>\n",
       "      <td>0.0</td>\n",
       "      <td>0.0</td>\n",
       "      <td>0.0</td>\n",
       "    </tr>\n",
       "    <tr>\n",
       "      <th>296</th>\n",
       "      <td>10127163</td>\n",
       "      <td>Area</td>\n",
       "      <td>3.0</td>\n",
       "      <td>3.0</td>\n",
       "      <td>C</td>\n",
       "      <td>1</td>\n",
       "      <td>1</td>\n",
       "      <td>1</td>\n",
       "      <td>1</td>\n",
       "      <td>1</td>\n",
       "      <td>...</td>\n",
       "      <td>1</td>\n",
       "      <td>1</td>\n",
       "      <td>8</td>\n",
       "      <td>8</td>\n",
       "      <td>2</td>\n",
       "      <td>1</td>\n",
       "      <td>1</td>\n",
       "      <td>0.0</td>\n",
       "      <td>0.0</td>\n",
       "      <td>0.0</td>\n",
       "    </tr>\n",
       "    <tr>\n",
       "      <th>444</th>\n",
       "      <td>10127163</td>\n",
       "      <td>Separation</td>\n",
       "      <td>3.0</td>\n",
       "      <td>3.0</td>\n",
       "      <td>C</td>\n",
       "      <td>1</td>\n",
       "      <td>1</td>\n",
       "      <td>1</td>\n",
       "      <td>1</td>\n",
       "      <td>1</td>\n",
       "      <td>...</td>\n",
       "      <td>1</td>\n",
       "      <td>1</td>\n",
       "      <td>5</td>\n",
       "      <td>5</td>\n",
       "      <td>2</td>\n",
       "      <td>1</td>\n",
       "      <td>1</td>\n",
       "      <td>0.0</td>\n",
       "      <td>0.0</td>\n",
       "      <td>0.0</td>\n",
       "    </tr>\n",
       "    <tr>\n",
       "      <th>538</th>\n",
       "      <td>10192168</td>\n",
       "      <td>Separation</td>\n",
       "      <td>1.0</td>\n",
       "      <td>2.0</td>\n",
       "      <td>C</td>\n",
       "      <td>1</td>\n",
       "      <td>1</td>\n",
       "      <td>1</td>\n",
       "      <td>1</td>\n",
       "      <td>1</td>\n",
       "      <td>...</td>\n",
       "      <td>0</td>\n",
       "      <td>0</td>\n",
       "      <td>4</td>\n",
       "      <td>4</td>\n",
       "      <td>1</td>\n",
       "      <td>1</td>\n",
       "      <td>0</td>\n",
       "      <td>0.0</td>\n",
       "      <td>0.0</td>\n",
       "      <td>0.0</td>\n",
       "    </tr>\n",
       "    <tr>\n",
       "      <th>96</th>\n",
       "      <td>10192168</td>\n",
       "      <td>Concentration</td>\n",
       "      <td>1.0</td>\n",
       "      <td>3.0</td>\n",
       "      <td>L</td>\n",
       "      <td>1</td>\n",
       "      <td>1</td>\n",
       "      <td>1</td>\n",
       "      <td>1</td>\n",
       "      <td>1</td>\n",
       "      <td>...</td>\n",
       "      <td>1</td>\n",
       "      <td>1</td>\n",
       "      <td>6</td>\n",
       "      <td>6</td>\n",
       "      <td>2</td>\n",
       "      <td>1</td>\n",
       "      <td>0</td>\n",
       "      <td>0.0</td>\n",
       "      <td>0.0</td>\n",
       "      <td>0.0</td>\n",
       "    </tr>\n",
       "    <tr>\n",
       "      <th>390</th>\n",
       "      <td>10192168</td>\n",
       "      <td>Area</td>\n",
       "      <td>1.0</td>\n",
       "      <td>2.0</td>\n",
       "      <td>C</td>\n",
       "      <td>1</td>\n",
       "      <td>0</td>\n",
       "      <td>0</td>\n",
       "      <td>0</td>\n",
       "      <td>0</td>\n",
       "      <td>...</td>\n",
       "      <td>0</td>\n",
       "      <td>0</td>\n",
       "      <td>2</td>\n",
       "      <td>0</td>\n",
       "      <td>1</td>\n",
       "      <td>1</td>\n",
       "      <td>0</td>\n",
       "      <td>0.0</td>\n",
       "      <td>0.0</td>\n",
       "      <td>0.0</td>\n",
       "    </tr>\n",
       "    <tr>\n",
       "      <th>244</th>\n",
       "      <td>10192168</td>\n",
       "      <td>Width</td>\n",
       "      <td>1.0</td>\n",
       "      <td>0.0</td>\n",
       "      <td>L</td>\n",
       "      <td>1</td>\n",
       "      <td>0</td>\n",
       "      <td>1</td>\n",
       "      <td>0</td>\n",
       "      <td>1</td>\n",
       "      <td>...</td>\n",
       "      <td>1</td>\n",
       "      <td>0</td>\n",
       "      <td>9</td>\n",
       "      <td>0</td>\n",
       "      <td>2</td>\n",
       "      <td>1</td>\n",
       "      <td>0</td>\n",
       "      <td>0.0</td>\n",
       "      <td>0.0</td>\n",
       "      <td>0.0</td>\n",
       "    </tr>\n",
       "    <tr>\n",
       "      <th>1</th>\n",
       "      <td>10232160</td>\n",
       "      <td>Concentration</td>\n",
       "      <td>1.0</td>\n",
       "      <td>1.0</td>\n",
       "      <td>L</td>\n",
       "      <td>1</td>\n",
       "      <td>1</td>\n",
       "      <td>1</td>\n",
       "      <td>1</td>\n",
       "      <td>1</td>\n",
       "      <td>...</td>\n",
       "      <td>0</td>\n",
       "      <td>0</td>\n",
       "      <td>4</td>\n",
       "      <td>4</td>\n",
       "      <td>1</td>\n",
       "      <td>1</td>\n",
       "      <td>1</td>\n",
       "      <td>1.0</td>\n",
       "      <td>0.0</td>\n",
       "      <td>1.0</td>\n",
       "    </tr>\n",
       "    <tr>\n",
       "      <th>149</th>\n",
       "      <td>10232160</td>\n",
       "      <td>Width</td>\n",
       "      <td>1.0</td>\n",
       "      <td>1.0</td>\n",
       "      <td>L</td>\n",
       "      <td>0</td>\n",
       "      <td>0</td>\n",
       "      <td>0</td>\n",
       "      <td>0</td>\n",
       "      <td>0</td>\n",
       "      <td>...</td>\n",
       "      <td>0</td>\n",
       "      <td>0</td>\n",
       "      <td>0</td>\n",
       "      <td>0</td>\n",
       "      <td>1</td>\n",
       "      <td>1</td>\n",
       "      <td>1</td>\n",
       "      <td>1.0</td>\n",
       "      <td>0.0</td>\n",
       "      <td>1.0</td>\n",
       "    </tr>\n",
       "    <tr>\n",
       "      <th>445</th>\n",
       "      <td>10232160</td>\n",
       "      <td>Separation</td>\n",
       "      <td>1.0</td>\n",
       "      <td>3.0</td>\n",
       "      <td>C</td>\n",
       "      <td>1</td>\n",
       "      <td>1</td>\n",
       "      <td>1</td>\n",
       "      <td>1</td>\n",
       "      <td>1</td>\n",
       "      <td>...</td>\n",
       "      <td>1</td>\n",
       "      <td>0</td>\n",
       "      <td>5</td>\n",
       "      <td>4</td>\n",
       "      <td>2</td>\n",
       "      <td>1</td>\n",
       "      <td>1</td>\n",
       "      <td>0.0</td>\n",
       "      <td>0.0</td>\n",
       "      <td>0.0</td>\n",
       "    </tr>\n",
       "    <tr>\n",
       "      <th>297</th>\n",
       "      <td>10232160</td>\n",
       "      <td>Area</td>\n",
       "      <td>1.0</td>\n",
       "      <td>3.0</td>\n",
       "      <td>C</td>\n",
       "      <td>1</td>\n",
       "      <td>1</td>\n",
       "      <td>1</td>\n",
       "      <td>1</td>\n",
       "      <td>1</td>\n",
       "      <td>...</td>\n",
       "      <td>1</td>\n",
       "      <td>1</td>\n",
       "      <td>5</td>\n",
       "      <td>6</td>\n",
       "      <td>2</td>\n",
       "      <td>1</td>\n",
       "      <td>1</td>\n",
       "      <td>0.0</td>\n",
       "      <td>0.0</td>\n",
       "      <td>0.0</td>\n",
       "    </tr>\n",
       "  </tbody>\n",
       "</table>\n",
       "<p>12 rows × 21 columns</p>\n",
       "</div>"
      ],
      "text/plain": [
       "          sid       variable  pre  main sim  CVS_table_2  CVS_graph_2  CVS_table_3  CVS_graph_3  \\\n",
       "0    10127163  Concentration  1.0   3.0   L            1            1            1            1   \n",
       "148  10127163          Width  1.0   3.0   L            1            1            1            1   \n",
       "296  10127163           Area  3.0   3.0   C            1            1            1            1   \n",
       "444  10127163     Separation  3.0   3.0   C            1            1            1            1   \n",
       "538  10192168     Separation  1.0   2.0   C            1            1            1            1   \n",
       "96   10192168  Concentration  1.0   3.0   L            1            1            1            1   \n",
       "390  10192168           Area  1.0   2.0   C            1            0            0            0   \n",
       "244  10192168          Width  1.0   0.0   L            1            0            1            0   \n",
       "1    10232160  Concentration  1.0   1.0   L            1            1            1            1   \n",
       "149  10232160          Width  1.0   1.0   L            0            0            0            0   \n",
       "445  10232160     Separation  1.0   3.0   C            1            1            1            1   \n",
       "297  10232160           Area  1.0   3.0   C            1            1            1            1   \n",
       "\n",
       "     CVS_table_4        ...         CVS_table_5  CVS_graph_5  number_points_table  \\\n",
       "0              1        ...                   1            1                    7   \n",
       "148            1        ...                   1            1                    7   \n",
       "296            1        ...                   1            1                    8   \n",
       "444            1        ...                   1            1                    5   \n",
       "538            1        ...                   0            0                    4   \n",
       "96             1        ...                   1            1                    6   \n",
       "390            0        ...                   0            0                    2   \n",
       "244            1        ...                   1            0                    9   \n",
       "1              1        ...                   0            0                    4   \n",
       "149            0        ...                   0            0                    0   \n",
       "445            1        ...                   1            0                    5   \n",
       "297            1        ...                   1            1                    5   \n",
       "\n",
       "     number_points_graph  sim_index  level_experience_sims  experience_undergrad_lab_physics  \\\n",
       "0                      6          1                      1                                 1   \n",
       "148                    7          1                      1                                 1   \n",
       "296                    8          2                      1                                 1   \n",
       "444                    5          2                      1                                 1   \n",
       "538                    4          1                      1                                 0   \n",
       "96                     6          2                      1                                 0   \n",
       "390                    0          1                      1                                 0   \n",
       "244                    0          2                      1                                 0   \n",
       "1                      4          1                      1                                 1   \n",
       "149                    0          1                      1                                 1   \n",
       "445                    4          2                      1                                 1   \n",
       "297                    6          2                      1                                 1   \n",
       "\n",
       "     used_similar_sim_L  used_similar_sim_C  used_similar_sim  \n",
       "0                   0.0                 0.0               0.0  \n",
       "148                 0.0                 0.0               0.0  \n",
       "296                 0.0                 0.0               0.0  \n",
       "444                 0.0                 0.0               0.0  \n",
       "538                 0.0                 0.0               0.0  \n",
       "96                  0.0                 0.0               0.0  \n",
       "390                 0.0                 0.0               0.0  \n",
       "244                 0.0                 0.0               0.0  \n",
       "1                   1.0                 0.0               1.0  \n",
       "149                 1.0                 0.0               1.0  \n",
       "445                 0.0                 0.0               0.0  \n",
       "297                 0.0                 0.0               0.0  \n",
       "\n",
       "[12 rows x 21 columns]"
      ]
     },
     "execution_count": 16,
     "metadata": {},
     "output_type": "execute_result"
    }
   ],
   "source": [
    "data['level_experience_sims'] = data.apply(lambda row: pre_survey_df.loc[pre_survey_df[pre_survey_df['sid']==row['sid']].index[0],'level_experience_sims'], axis=1)\n",
    "data['experience_undergrad_lab_physics'] = data.apply(lambda row: pre_survey_df.loc[pre_survey_df[pre_survey_df['sid']==row['sid']].index[0],'experience_undergrad_lab_physics'], axis=1)\n",
    "data['used_similar_sim_L'] = data[data['sim']=='L'].apply(lambda row: pre_survey_df.loc[pre_survey_df[pre_survey_df['sid']==row['sid']].index[0],'similar_L'],axis=1)\n",
    "data['used_similar_sim_L'].fillna(0, inplace=True)\n",
    "data['used_similar_sim_C'] = data[data['sim']=='C'].apply(lambda row: pre_survey_df.loc[pre_survey_df[pre_survey_df['sid']==row['sid']].index[0],'similar_C'],axis=1)\n",
    "data['used_similar_sim_C'].fillna(0, inplace=True)\n",
    "data['used_similar_sim'] = data['used_similar_sim_L'] + data['used_similar_sim_C']\n",
    "data.sort_values('sid').head(12)"
   ]
  },
  {
   "cell_type": "code",
   "execution_count": 17,
   "metadata": {},
   "outputs": [
    {
     "data": {
      "text/plain": [
       "array([[<matplotlib.axes._subplots.AxesSubplot object at 0x000000000EDFC550>,\n",
       "        <matplotlib.axes._subplots.AxesSubplot object at 0x000000000EEC4240>,\n",
       "        <matplotlib.axes._subplots.AxesSubplot object at 0x000000000F047E80>,\n",
       "        <matplotlib.axes._subplots.AxesSubplot object at 0x000000000EF9BB70>],\n",
       "       [<matplotlib.axes._subplots.AxesSubplot object at 0x000000000F1F8FD0>,\n",
       "        <matplotlib.axes._subplots.AxesSubplot object at 0x000000000F304BA8>,\n",
       "        <matplotlib.axes._subplots.AxesSubplot object at 0x000000000F3B4D30>,\n",
       "        <matplotlib.axes._subplots.AxesSubplot object at 0x000000000F47E860>],\n",
       "       [<matplotlib.axes._subplots.AxesSubplot object at 0x000000000F576048>,\n",
       "        <matplotlib.axes._subplots.AxesSubplot object at 0x000000000F671BE0>,\n",
       "        <matplotlib.axes._subplots.AxesSubplot object at 0x000000000F6E4240>,\n",
       "        <matplotlib.axes._subplots.AxesSubplot object at 0x000000000F7E1E80>],\n",
       "       [<matplotlib.axes._subplots.AxesSubplot object at 0x000000000F8E87F0>,\n",
       "        <matplotlib.axes._subplots.AxesSubplot object at 0x000000000F9F6550>,\n",
       "        <matplotlib.axes._subplots.AxesSubplot object at 0x000000000F8F7BE0>,\n",
       "        <matplotlib.axes._subplots.AxesSubplot object at 0x000000000FBAA5C0>],\n",
       "       [<matplotlib.axes._subplots.AxesSubplot object at 0x000000000FCC7198>,\n",
       "        <matplotlib.axes._subplots.AxesSubplot object at 0x000000001012A320>,\n",
       "        <matplotlib.axes._subplots.AxesSubplot object at 0x00000000101E5E10>,\n",
       "        <matplotlib.axes._subplots.AxesSubplot object at 0x00000000102E35F8>]], dtype=object)"
      ]
     },
     "execution_count": 17,
     "metadata": {},
     "output_type": "execute_result"
    },
    {
     "data": {
      "image/png": "[encoded data removed]",
      "text/plain": [
       "<matplotlib.figure.Figure at 0xedfcf28>"
      ]
     },
     "metadata": {},
     "output_type": "display_data"
    }
   ],
   "source": [
    "data.hist()"
   ]
  },
  {
   "cell_type": "markdown",
   "metadata": {
    "hideCode": true,
    "hidePrompt": true
   },
   "source": [
    "## Stats tools and multicollinearity check"
   ]
  },
  {
   "cell_type": "code",
   "execution_count": 18,
   "metadata": {
    "hideCode": true,
    "hidePrompt": true
   },
   "outputs": [],
   "source": [
    "def eta_squared(aov):\n",
    "    aov['eta_sq'] = 'NaN'\n",
    "    aov['eta_sq'] = aov[:-1]['sum_sq']/sum(aov['sum_sq'])\n",
    "    return aov\n",
    " \n",
    "def omega_squared(aov):\n",
    "    mse = aov['sum_sq'][-1]/aov['df'][-1]\n",
    "    aov['omega_sq'] = 'NaN'\n",
    "    aov['omega_sq'] = (aov[:-1]['sum_sq']-(aov[:-1]['df']*mse))/(sum(aov['sum_sq'])+mse)\n",
    "    return aov\n",
    "\n",
    "def clean_summary(model):\n",
    "    lines = model.summary().as_text().split('\\n')\n",
    "    lines = [l for l in lines if 'C(sid)' not in l]\n",
    "    return '\\n'.join(lines)"
   ]
  },
  {
   "cell_type": "code",
   "execution_count": 19,
   "metadata": {
    "hideCode": true,
    "hidePrompt": true
   },
   "outputs": [],
   "source": [
    "# from scipy import stats\n",
    "# print \"Correlation coeff for table and graph CVS:\", stats.spearmanr(data['CVS_table'],data['CVS_graph'])"
   ]
  },
  {
   "cell_type": "code",
   "execution_count": 20,
   "metadata": {
    "hideCode": true,
    "hidePrompt": true
   },
   "outputs": [],
   "source": [
    "# #Let's measure the variance inflation factor of including both CVS table and graph in the same models:\n",
    "# formula = 'CVS_table ~ CVS_graph + pre + C(variable) + C(sim_index) + C(sim) '\n",
    "# print 'model: ', formula,'\\n'\n",
    "# from patsy import dmatrices\n",
    "# Y, X = dmatrices(formula, data, return_type = 'dataframe')\n",
    "# # print X.columns\n",
    "# logit = Logit(Y, X)\n",
    "# model = logit.fit()\n",
    "# print model.summary()\n",
    "# # print model.params"
   ]
  },
  {
   "cell_type": "code",
   "execution_count": 21,
   "metadata": {
    "hideCode": true,
    "hidePrompt": true
   },
   "outputs": [],
   "source": [
    "# R2 = 0.4225\n",
    "# VIF = 1.0/(1-R2)\n",
    "# VIF\n",
    "\n",
    "## A VIF of 1.73 tells us that the variance (the square of the standard error) of a particular coefficient is 73% larger than it would be if that predictor was completely uncorrelated with all the other predictors. According to [this website](https://statisticalhorizons.com/multicollinearity), a VIF of 2.6 or higher is worrisome."
   ]
  },
  {
   "cell_type": "markdown",
   "metadata": {
    "hideCode": true,
    "hidePrompt": true
   },
   "source": [
    "# Results to present in methods\n",
    "## Student population"
   ]
  },
  {
   "cell_type": "code",
   "execution_count": 22,
   "metadata": {
    "hideCode": true,
    "hidePrompt": true
   },
   "outputs": [
    {
     "name": "stdout",
     "output_type": "stream",
     "text": [
      "The study includes 148 students\n"
     ]
    }
   ],
   "source": [
    "N = len(set(data['sid']))\n",
    "print \"The study includes {0} students\".format(N)"
   ]
  },
  {
   "cell_type": "code",
   "execution_count": 80,
   "metadata": {
    "hideCode": true,
    "hidePrompt": true
   },
   "outputs": [
    {
     "name": "stdout",
     "output_type": "stream",
     "text": [
      "gender\n",
      "96 64.9\n",
      "[gender] To which gender do you most identify? [Man]\n",
      "50 33.8\n",
      "[gender] To which gender do you most identify? [Gender non conforming/non-binary]\n",
      "1 0.7\n",
      "[gender] To which gender do you most identify? [Trans*]\n",
      "0 0.0\n",
      "[gender] To which gender do you most identify? [Rather specify:]\n",
      "0 0.0\n",
      "[gender] To which gender do you most identify? [Rather specify:] [text]\n",
      "0 0.0\n",
      "[gender] To which gender do you most identify? [Prefer not to answer]\n",
      "1 0.7\n"
     ]
    }
   ],
   "source": [
    "posts = get_all_posts_surveys()\n",
    "genders = ['gender','[gender] To which gender do you most identify? [Man]','[gender] To which gender do you most identify? [Gender non conforming/non-binary]','[gender] To which gender do you most identify? [Trans*]','[gender] To which gender do you most identify? [Rather specify:]','[gender] To which gender do you most identify? [Rather specify:] [text]','[gender] To which gender do you most identify? [Prefer not to answer]']\n",
    "for g in genders:\n",
    "    print g\n",
    "    print len(set(posts[posts[g]==1]['sid'])), round(len(set(posts[posts[g]==1]['sid']))/float(N)*100,1)"
   ]
  },
  {
   "cell_type": "markdown",
   "metadata": {
    "hideCode": true,
    "hidePrompt": true
   },
   "source": [
    "## Student prior experience"
   ]
  },
  {
   "cell_type": "code",
   "execution_count": 26,
   "metadata": {
    "hideCode": true,
    "hidePrompt": true
   },
   "outputs": [
    {
     "data": {
      "text/plain": [
       "array([[<matplotlib.axes._subplots.AxesSubplot object at 0x0000000010DBA128>]], dtype=object)"
      ]
     },
     "execution_count": 26,
     "metadata": {},
     "output_type": "execute_result"
    },
    {
     "data": {
      "image/png": "[encoded data removed]",
      "text/plain": [
       "<matplotlib.figure.Figure at 0x102f1e10>"
      ]
     },
     "metadata": {},
     "output_type": "display_data"
    }
   ],
   "source": [
    "# print 'experience in virtual labs in general'\n",
    "pd.pivot_table(data, values=['experience_undergrad_lab_physics'], index=['sid'],aggfunc=np.mean)[['experience_undergrad_lab_physics']].hist()"
   ]
  },
  {
   "cell_type": "code",
   "execution_count": 27,
   "metadata": {},
   "outputs": [
    {
     "name": "stdout",
     "output_type": "stream",
     "text": [
      "where:\n",
      " 0 -> None\n",
      " 1 -> 1-2 (roughly)\n",
      " 2 -> 3-5 (roughly)\n",
      " 3 -> 6+ (roughly)\n"
     ]
    },
    {
     "data": {
      "image/png": "[encoded data removed]",
      "text/plain": [
       "<matplotlib.figure.Figure at 0x10ba5d30>"
      ]
     },
     "metadata": {},
     "output_type": "display_data"
    }
   ],
   "source": [
    "pd.pivot_table(data, values=['level_experience_sims'], index=['sid'],aggfunc=np.mean)[['level_experience_sims']].hist()\n",
    "print '''where:\n",
    " 0 -> None\n",
    " 1 -> 1-2 (roughly)\n",
    " 2 -> 3-5 (roughly)\n",
    " 3 -> 6+ (roughly)'''"
   ]
  },
  {
   "cell_type": "code",
   "execution_count": 28,
   "metadata": {
    "hideCode": true,
    "hidePrompt": true
   },
   "outputs": [
    {
     "data": {
      "text/plain": [
       "array([[<matplotlib.axes._subplots.AxesSubplot object at 0x00000000111F0E80>,\n",
       "        <matplotlib.axes._subplots.AxesSubplot object at 0x000000001124E6A0>]], dtype=object)"
      ]
     },
     "execution_count": 28,
     "metadata": {},
     "output_type": "execute_result"
    },
    {
     "data": {
      "image/png": "[encoded data removed]",
      "text/plain": [
       "<matplotlib.figure.Figure at 0x11213860>"
      ]
     },
     "metadata": {},
     "output_type": "display_data"
    }
   ],
   "source": [
    "# print  'experience in virtual labs teaching light absorbance or capacitors before'\n",
    "pd.pivot_table(data, values=['used_similar_sim_C','used_similar_sim_L'], index=['sid'],aggfunc=sum)[['used_similar_sim_C','used_similar_sim_L']].hist()"
   ]
  },
  {
   "cell_type": "markdown",
   "metadata": {
    "hideCode": true,
    "hidePrompt": true
   },
   "source": [
    "# Learning through inquiry\n",
    "## Overall"
   ]
  },
  {
   "cell_type": "markdown",
   "metadata": {
    "hideCode": true,
    "hidePrompt": true
   },
   "source": [
    "Let's look at pre to post to see if students learn.\n",
    "\n",
    "Right now we have 4 entries per student and add \"variable\" to the model. But then pre matters (p=0.04)\n",
    "But we could have main = mean(var1 and var 2 scores). In which case pre doesn't matter (p=0.056)\n",
    "Either way with tiny effect size."
   ]
  },
  {
   "cell_type": "code",
   "execution_count": 29,
   "metadata": {
    "hideCode": true,
    "hidePrompt": true
   },
   "outputs": [
    {
     "data": {
      "text/html": [
       "<div>\n",
       "<style>\n",
       "    .dataframe thead tr:only-child th {\n",
       "        text-align: right;\n",
       "    }\n",
       "\n",
       "    .dataframe thead th {\n",
       "        text-align: left;\n",
       "    }\n",
       "\n",
       "    .dataframe tbody tr th {\n",
       "        vertical-align: top;\n",
       "    }\n",
       "</style>\n",
       "<table border=\"1\" class=\"dataframe\">\n",
       "  <thead>\n",
       "    <tr style=\"text-align: right;\">\n",
       "      <th></th>\n",
       "      <th>sim</th>\n",
       "      <th>main</th>\n",
       "      <th>pre</th>\n",
       "      <th>sid</th>\n",
       "    </tr>\n",
       "    <tr>\n",
       "      <th>sim</th>\n",
       "      <th></th>\n",
       "      <th></th>\n",
       "      <th></th>\n",
       "      <th></th>\n",
       "    </tr>\n",
       "  </thead>\n",
       "  <tbody>\n",
       "    <tr>\n",
       "      <th>C</th>\n",
       "      <td>C</td>\n",
       "      <td>3.0</td>\n",
       "      <td>3.0</td>\n",
       "      <td>10127163</td>\n",
       "    </tr>\n",
       "    <tr>\n",
       "      <th>C</th>\n",
       "      <td>C</td>\n",
       "      <td>2.0</td>\n",
       "      <td>1.0</td>\n",
       "      <td>10192168</td>\n",
       "    </tr>\n",
       "    <tr>\n",
       "      <th>C</th>\n",
       "      <td>C</td>\n",
       "      <td>3.0</td>\n",
       "      <td>1.0</td>\n",
       "      <td>10232160</td>\n",
       "    </tr>\n",
       "    <tr>\n",
       "      <th>C</th>\n",
       "      <td>C</td>\n",
       "      <td>3.0</td>\n",
       "      <td>1.0</td>\n",
       "      <td>10375163</td>\n",
       "    </tr>\n",
       "    <tr>\n",
       "      <th>C</th>\n",
       "      <td>C</td>\n",
       "      <td>2.5</td>\n",
       "      <td>2.0</td>\n",
       "      <td>10420167</td>\n",
       "    </tr>\n",
       "  </tbody>\n",
       "</table>\n",
       "</div>"
      ],
      "text/plain": [
       "    sim  main  pre       sid\n",
       "sim                         \n",
       "C     C   3.0  3.0  10127163\n",
       "C     C   2.0  1.0  10192168\n",
       "C     C   3.0  1.0  10232160\n",
       "C     C   3.0  1.0  10375163\n",
       "C     C   2.5  2.0  10420167"
      ]
     },
     "execution_count": 29,
     "metadata": {},
     "output_type": "execute_result"
    }
   ],
   "source": [
    "scores = pd.pivot_table(data, values=['pre','main'], index=['sim','sid'],aggfunc=np.mean)\n",
    "scores.reset_index(level=0, inplace=True)\n",
    "scores['sid']=scores.index\n",
    "scores.index = scores['sim']\n",
    "scores.head()"
   ]
  },
  {
   "cell_type": "code",
   "execution_count": 30,
   "metadata": {
    "hideCode": true,
    "hidePrompt": true,
    "scrolled": true
   },
   "outputs": [
    {
     "name": "stdout",
     "output_type": "stream",
     "text": [
      "---  -----------  -----------  --------------  -----------------  -----------\n",
      "sim  pre          post         Z               p                  effect size\n",
      "L    1.17+/-0.69  2.35+/-0.63  -11.2795122375  1.65661938815e-29  0.93\n",
      "C    1.28+/-0.67  2.24+/-0.63  -10.5732694484  3.9642841333e-26   0.87\n",
      "---  -----------  -----------  --------------  -----------------  -----------\n"
     ]
    }
   ],
   "source": [
    "t = [['sim','pre','post','Z','p','effect size']]\n",
    "for sim in ['L','C']:\n",
    "    pm = round(np.mean(scores.loc[sim]['pre']),2)\n",
    "    ps = round(np.std(scores.loc[sim]['pre']),2)\n",
    "    mm = round(np.mean(scores.loc[sim]['main']),2)\n",
    "    ms = round(np.std(scores.loc[sim]['main']),2)\n",
    "    Z,p = ranksums(scores.loc[sim]['pre'],scores.loc[sim]['main'])\n",
    "    eta = round(-Z/np.sqrt(N),2)\n",
    "    t.append([sim,str(pm)+'+/-'+str(ps),str(mm)+'+/-'+str(ms),Z,p,eta])\n",
    "\n",
    "print tabulate(t)"
   ]
  },
  {
   "cell_type": "markdown",
   "metadata": {
    "hideCode": true,
    "hidePrompt": true
   },
   "source": [
    "We use Wilcoxon signed rank test since our population ares paired and dependant but ordinal values. Overall, student learn in both sims.\n",
    "\n",
    "For calculation and interpretation of effect size, read Pages 224 (bottom part) and 225 from Pallant, J. (2007). SPSS Survival Manual quoted [here](https://stats.stackexchange.com/questions/133077/effect-size-to-wilcoxon-signed-rank-test)\n"
   ]
  },
  {
   "cell_type": "markdown",
   "metadata": {
    "hideCode": true,
    "hidePrompt": true
   },
   "source": [
    "# Does using strategy help student learn?"
   ]
  },
  {
   "cell_type": "markdown",
   "metadata": {
    "hideCode": true,
    "hidePrompt": true
   },
   "source": [
    "## Using different levels of CVS and learning\n",
    "We add a \"CVS_levels\" column to our data (graph=2, table=1, none=0)"
   ]
  },
  {
   "cell_type": "code",
   "execution_count": 31,
   "metadata": {},
   "outputs": [
    {
     "data": {
      "text/html": [
       "<div>\n",
       "<style>\n",
       "    .dataframe thead tr:only-child th {\n",
       "        text-align: right;\n",
       "    }\n",
       "\n",
       "    .dataframe thead th {\n",
       "        text-align: left;\n",
       "    }\n",
       "\n",
       "    .dataframe tbody tr th {\n",
       "        vertical-align: top;\n",
       "    }\n",
       "</style>\n",
       "<table border=\"1\" class=\"dataframe\">\n",
       "  <thead>\n",
       "    <tr style=\"text-align: right;\">\n",
       "      <th></th>\n",
       "      <th>sid</th>\n",
       "      <th>variable</th>\n",
       "      <th>pre</th>\n",
       "      <th>main</th>\n",
       "      <th>sim</th>\n",
       "      <th>CVS_table_2</th>\n",
       "      <th>CVS_graph_2</th>\n",
       "      <th>CVS_table_3</th>\n",
       "      <th>CVS_graph_3</th>\n",
       "      <th>CVS_table_4</th>\n",
       "      <th>...</th>\n",
       "      <th>sim_index</th>\n",
       "      <th>level_experience_sims</th>\n",
       "      <th>experience_undergrad_lab_physics</th>\n",
       "      <th>used_similar_sim_L</th>\n",
       "      <th>used_similar_sim_C</th>\n",
       "      <th>used_similar_sim</th>\n",
       "      <th>CVS_levels_2</th>\n",
       "      <th>CVS_levels_3</th>\n",
       "      <th>CVS_levels_4</th>\n",
       "      <th>CVS_levels_5</th>\n",
       "    </tr>\n",
       "  </thead>\n",
       "  <tbody>\n",
       "    <tr>\n",
       "      <th>0</th>\n",
       "      <td>10127163</td>\n",
       "      <td>Concentration</td>\n",
       "      <td>1.0</td>\n",
       "      <td>3.0</td>\n",
       "      <td>L</td>\n",
       "      <td>1</td>\n",
       "      <td>1</td>\n",
       "      <td>1</td>\n",
       "      <td>1</td>\n",
       "      <td>1</td>\n",
       "      <td>...</td>\n",
       "      <td>1</td>\n",
       "      <td>1</td>\n",
       "      <td>1</td>\n",
       "      <td>0.0</td>\n",
       "      <td>0.0</td>\n",
       "      <td>0.0</td>\n",
       "      <td>2</td>\n",
       "      <td>2</td>\n",
       "      <td>2</td>\n",
       "      <td>2</td>\n",
       "    </tr>\n",
       "    <tr>\n",
       "      <th>1</th>\n",
       "      <td>10232160</td>\n",
       "      <td>Concentration</td>\n",
       "      <td>1.0</td>\n",
       "      <td>1.0</td>\n",
       "      <td>L</td>\n",
       "      <td>1</td>\n",
       "      <td>1</td>\n",
       "      <td>1</td>\n",
       "      <td>1</td>\n",
       "      <td>1</td>\n",
       "      <td>...</td>\n",
       "      <td>1</td>\n",
       "      <td>1</td>\n",
       "      <td>1</td>\n",
       "      <td>1.0</td>\n",
       "      <td>0.0</td>\n",
       "      <td>1.0</td>\n",
       "      <td>2</td>\n",
       "      <td>2</td>\n",
       "      <td>2</td>\n",
       "      <td>0</td>\n",
       "    </tr>\n",
       "    <tr>\n",
       "      <th>2</th>\n",
       "      <td>10537160</td>\n",
       "      <td>Concentration</td>\n",
       "      <td>1.0</td>\n",
       "      <td>2.0</td>\n",
       "      <td>L</td>\n",
       "      <td>1</td>\n",
       "      <td>0</td>\n",
       "      <td>1</td>\n",
       "      <td>0</td>\n",
       "      <td>0</td>\n",
       "      <td>...</td>\n",
       "      <td>2</td>\n",
       "      <td>1</td>\n",
       "      <td>0</td>\n",
       "      <td>1.0</td>\n",
       "      <td>0.0</td>\n",
       "      <td>1.0</td>\n",
       "      <td>1</td>\n",
       "      <td>1</td>\n",
       "      <td>0</td>\n",
       "      <td>0</td>\n",
       "    </tr>\n",
       "    <tr>\n",
       "      <th>3</th>\n",
       "      <td>10375163</td>\n",
       "      <td>Concentration</td>\n",
       "      <td>0.0</td>\n",
       "      <td>2.0</td>\n",
       "      <td>L</td>\n",
       "      <td>1</td>\n",
       "      <td>0</td>\n",
       "      <td>1</td>\n",
       "      <td>0</td>\n",
       "      <td>1</td>\n",
       "      <td>...</td>\n",
       "      <td>2</td>\n",
       "      <td>2</td>\n",
       "      <td>1</td>\n",
       "      <td>0.0</td>\n",
       "      <td>0.0</td>\n",
       "      <td>0.0</td>\n",
       "      <td>1</td>\n",
       "      <td>1</td>\n",
       "      <td>1</td>\n",
       "      <td>1</td>\n",
       "    </tr>\n",
       "    <tr>\n",
       "      <th>4</th>\n",
       "      <td>10420167</td>\n",
       "      <td>Concentration</td>\n",
       "      <td>1.0</td>\n",
       "      <td>3.0</td>\n",
       "      <td>L</td>\n",
       "      <td>1</td>\n",
       "      <td>1</td>\n",
       "      <td>1</td>\n",
       "      <td>1</td>\n",
       "      <td>1</td>\n",
       "      <td>...</td>\n",
       "      <td>2</td>\n",
       "      <td>3</td>\n",
       "      <td>1</td>\n",
       "      <td>0.0</td>\n",
       "      <td>0.0</td>\n",
       "      <td>0.0</td>\n",
       "      <td>2</td>\n",
       "      <td>2</td>\n",
       "      <td>2</td>\n",
       "      <td>2</td>\n",
       "    </tr>\n",
       "  </tbody>\n",
       "</table>\n",
       "<p>5 rows × 25 columns</p>\n",
       "</div>"
      ],
      "text/plain": [
       "        sid       variable  pre  main sim  CVS_table_2  CVS_graph_2  CVS_table_3  CVS_graph_3  \\\n",
       "0  10127163  Concentration  1.0   3.0   L            1            1            1            1   \n",
       "1  10232160  Concentration  1.0   1.0   L            1            1            1            1   \n",
       "2  10537160  Concentration  1.0   2.0   L            1            0            1            0   \n",
       "3  10375163  Concentration  0.0   2.0   L            1            0            1            0   \n",
       "4  10420167  Concentration  1.0   3.0   L            1            1            1            1   \n",
       "\n",
       "   CVS_table_4      ...       sim_index  level_experience_sims  experience_undergrad_lab_physics  \\\n",
       "0            1      ...               1                      1                                 1   \n",
       "1            1      ...               1                      1                                 1   \n",
       "2            0      ...               2                      1                                 0   \n",
       "3            1      ...               2                      2                                 1   \n",
       "4            1      ...               2                      3                                 1   \n",
       "\n",
       "   used_similar_sim_L  used_similar_sim_C  used_similar_sim  CVS_levels_2  CVS_levels_3  \\\n",
       "0                 0.0                 0.0               0.0             2             2   \n",
       "1                 1.0                 0.0               1.0             2             2   \n",
       "2                 1.0                 0.0               1.0             1             1   \n",
       "3                 0.0                 0.0               0.0             1             1   \n",
       "4                 0.0                 0.0               0.0             2             2   \n",
       "\n",
       "   CVS_levels_4  CVS_levels_5  \n",
       "0             2             2  \n",
       "1             2             0  \n",
       "2             0             0  \n",
       "3             1             1  \n",
       "4             2             2  \n",
       "\n",
       "[5 rows x 25 columns]"
      ]
     },
     "execution_count": 31,
     "metadata": {},
     "output_type": "execute_result"
    }
   ],
   "source": [
    "data['CVS_levels_2']=0\n",
    "data['CVS_levels_3']=0\n",
    "data['CVS_levels_4']=0\n",
    "data['CVS_levels_5']=0\n",
    "# data['CVS_table_only'] = data.apply(lambda row: row['CVS_table']*(1-row['CVS_graph']), axis = 1)\n",
    "data['CVS_levels_2']=data['CVS_table_2']+data['CVS_graph_2']\n",
    "data['CVS_levels_3']=data['CVS_table_3']+data['CVS_graph_3']\n",
    "data['CVS_levels_4']=data['CVS_table_4']+data['CVS_graph_4']\n",
    "data['CVS_levels_5']=data['CVS_table_5']+data['CVS_graph_5']\n",
    "# print data[(data['CVS_table']==0)&(data['CVS_graph']==1)].shape\n",
    "data.head()"
   ]
  },
  {
   "cell_type": "code",
   "execution_count": 32,
   "metadata": {},
   "outputs": [],
   "source": [
    "# export_data = data[[\"sid\",\"variable\",\"pre\",\"main\",\"sim\",\"CVS_table\",\"CVS_graph\",\"CVS_table_only\",\"CVS_levels\",\"sim_index\"]]\n",
    "# export_data.to_csv('dataframe for linear reg on learning.csv')"
   ]
  },
  {
   "cell_type": "markdown",
   "metadata": {},
   "source": [
    "We have 7 control variables:\n",
    "* sim_index\n",
    "* sim\n",
    "* variable\n",
    "* pre\n",
    "* level_experience_sims\n",
    "* experience_undergrad_lab_physics\n",
    "* used_similar_sim\n",
    "\n",
    "We look at all interactions with CVS levels given our RQ are related to CVS usage:\n",
    "* variable*CVS_levels\n",
    "* pre*CVS_levels\n",
    "* sim_index*CVS_levels\n",
    "* sim\n",
    "* C(sid)\n",
    "* level_experience_sims\n",
    "* experience_undergrad_lab_physics\n",
    "* used_similar_sim"
   ]
  },
  {
   "cell_type": "code",
   "execution_count": 33,
   "metadata": {
    "scrolled": true
   },
   "outputs": [
    {
     "name": "stdout",
     "output_type": "stream",
     "text": [
      "Model:  main ~ C(CVS_levels_2)*variable + C(CVS_levels_2)*pre + C(CVS_levels_2)*C(sim_index) + C(sid) + C(sim) + level_experience_sims + experience_undergrad_lab_physics + used_similar_sim\n",
      "\n",
      "Anova table using type 3\n",
      "\n",
      "                                   sum_sq     df       F     PR(>F)     eta_sq   omega_sq\n",
      "Intercept                          27.755    1.0  99.600  3.225e-21  8.555e-02  8.461e-02\n",
      "C(CVS_levels_2)                     0.862    2.0   1.546  2.142e-01  2.656e-03  9.375e-04\n",
      "variable                            0.740    3.0   0.885  4.487e-01  2.281e-03 -2.956e-04\n",
      "C(sim_index)                        0.071    1.0   0.255  6.138e-01  2.190e-04 -6.393e-04\n",
      "C(sid)                            170.944  147.0   4.173  9.722e-31  5.269e-01  4.003e-01\n",
      "C(sim)                              0.530    1.0   1.901  1.687e-01  1.633e-03  7.734e-04\n",
      "C(CVS_levels_2):variable            1.533    6.0   0.917  4.826e-01  4.724e-03 -4.291e-04\n",
      "C(CVS_levels_2):C(sim_index)        0.505    2.0   0.906  4.047e-01  1.557e-03 -1.605e-04\n",
      "pre                                 0.097    1.0   0.347  5.560e-01  2.983e-04 -5.601e-04\n",
      "C(CVS_levels_2):pre                 0.529    2.0   0.948  3.882e-01  1.629e-03 -8.870e-05\n",
      "level_experience_sims               0.557    1.0   1.997  1.583e-01  1.715e-03  8.557e-04\n",
      "experience_undergrad_lab_physics    1.593    1.0   5.716  1.724e-02  4.910e-03  4.047e-03\n",
      "used_similar_sim                    0.023    1.0   0.082  7.744e-01  7.063e-05 -7.876e-04\n",
      "Residual                          118.713  426.0     NaN        NaN        NaN        NaN\n",
      "\n",
      "Here is the linear model with coefficients and confidence intervals (removed stats for individual student ids):\n",
      "\n",
      "                            OLS Regression Results                            \n",
      "==============================================================================\n",
      "Dep. Variable:                   main   R-squared:                       0.592\n",
      "Model:                            OLS   Adj. R-squared:                  0.435\n",
      "Method:                 Least Squares   F-statistic:                     3.753\n",
      "Date:                Sun, 28 Jan 2018   Prob (F-statistic):           5.38e-28\n",
      "Time:                        00:17:11   Log-Likelihood:                -364.40\n",
      "No. Observations:                 592   AIC:                             1061.\n",
      "Df Residuals:                     426   BIC:                             1788.\n",
      "Df Model:                         165                                         \n",
      "Covariance Type:            nonrobust                                         \n",
      "==================================================================================================================\n",
      "                                                     coef    std err          t      P>|t|      [0.025      0.975]\n",
      "------------------------------------------------------------------------------------------------------------------\n",
      "Intercept                                          2.0214      0.203      9.980      0.000       1.623       2.420\n",
      "C(CVS_levels_2)[T.1]                               0.2081      0.205      1.015      0.311      -0.195       0.611\n",
      "C(CVS_levels_2)[T.2]                               0.2985      0.171      1.743      0.082      -0.038       0.635\n",
      "variable[T.Concentration]                          0.1039      0.074      1.413      0.159      -0.041       0.248\n",
      "variable[T.Separation]                             0.0897      0.115      0.782      0.435      -0.136       0.315\n",
      "variable[T.Width]                                 -0.0013      0.076     -0.017      0.986      -0.151       0.148\n",
      "C(sim_index)[T.2]                                  0.0478      0.095      0.505      0.614      -0.138       0.234\n",
      "C(sim)[T.L]                                        0.1026      0.074      1.379      0.169      -0.044       0.249\n",
      "C(CVS_levels_2)[T.1]:variable[T.Concentration]    -0.1196      0.197     -0.608      0.543      -0.506       0.267\n",
      "C(CVS_levels_2)[T.2]:variable[T.Concentration]    -0.1351      0.161     -0.837      0.403      -0.452       0.182\n",
      "C(CVS_levels_2)[T.1]:variable[T.Separation]       -0.1690      0.180     -0.936      0.350      -0.524       0.186\n",
      "C(CVS_levels_2)[T.2]:variable[T.Separation]       -0.3095      0.147     -2.105      0.036      -0.599      -0.020\n",
      "C(CVS_levels_2)[T.1]:variable[T.Width]            -0.1159      0.199     -0.581      0.561      -0.508       0.276\n",
      "C(CVS_levels_2)[T.2]:variable[T.Width]            -0.0475      0.165     -0.287      0.774      -0.373       0.278\n",
      "C(CVS_levels_2)[T.1]:C(sim_index)[T.2]             0.1637      0.149      1.096      0.274      -0.130       0.457\n",
      "C(CVS_levels_2)[T.2]:C(sim_index)[T.2]             0.1539      0.121      1.271      0.204      -0.084       0.392\n",
      "pre                                                0.0419      0.071      0.589      0.556      -0.098       0.182\n",
      "C(CVS_levels_2)[T.1]:pre                          -0.0639      0.101     -0.632      0.528      -0.263       0.135\n",
      "C(CVS_levels_2)[T.2]:pre                           0.0586      0.084      0.697      0.486      -0.107       0.224\n",
      "level_experience_sims                             -0.1892      0.134     -1.413      0.158      -0.452       0.074\n",
      "experience_undergrad_lab_physics                   0.5911      0.247      2.391      0.017       0.105       1.077\n",
      "used_similar_sim                                  -0.0248      0.086     -0.287      0.774      -0.194       0.145\n",
      "==============================================================================\n",
      "Omnibus:                       77.378   Durbin-Watson:                   1.984\n",
      "Prob(Omnibus):                  0.000   Jarque-Bera (JB):              180.767\n",
      "Skew:                          -0.704   Prob(JB):                     5.58e-40\n",
      "Kurtosis:                       5.313   Cond. No.                     2.42e+16\n",
      "==============================================================================\n",
      "\n",
      "Warnings:\n",
      "[1] Standard Errors assume that the covariance matrix of the errors is correctly specified.\n",
      "[2] The smallest eigenvalue is 9.03e-30. This might indicate that there are\n",
      "strong multicollinearity problems or that the design matrix is singular.\n",
      "Model:  main ~ C(CVS_levels_3)*variable + C(CVS_levels_3)*pre + C(CVS_levels_3)*C(sim_index) + C(sid) + C(sim) + level_experience_sims + experience_undergrad_lab_physics + used_similar_sim\n",
      "\n",
      "Anova table using type 3\n",
      "\n",
      "                                     sum_sq     df        F     PR(>F)     eta_sq   omega_sq\n",
      "Intercept                         3.288e+01    1.0  118.573  1.580e-24  9.451e-02  9.364e-02\n",
      "C(CVS_levels_3)                   6.186e-01    2.0    1.115  3.287e-01  1.778e-03  1.840e-04\n",
      "variable                          5.295e-01    3.0    0.637  5.918e-01  1.522e-03 -8.683e-04\n",
      "C(sim_index)                      1.036e+00    1.0    3.737  5.387e-02  2.979e-03  2.180e-03\n",
      "C(sid)                            1.886e+02  147.0    4.628  3.161e-35  5.423e-01  4.248e-01\n",
      "C(sim)                            3.102e-01    1.0    1.119  2.908e-01  8.916e-04  9.450e-05\n",
      "C(CVS_levels_3):variable          2.953e+00    6.0    1.775  1.026e-01  8.489e-03  3.704e-03\n",
      "C(CVS_levels_3):C(sim_index)      1.319e-01    2.0    0.238  7.885e-01  3.791e-04 -1.214e-03\n",
      "pre                               5.818e-04    1.0    0.002  9.635e-01  1.672e-06 -7.947e-04\n",
      "C(CVS_levels_3):pre               6.408e-01    2.0    1.156  3.159e-01  1.842e-03  2.478e-04\n",
      "level_experience_sims             5.002e-01    1.0    1.804  1.800e-01  1.438e-03  6.402e-04\n",
      "experience_undergrad_lab_physics  1.475e+00    1.0    5.318  2.159e-02  4.239e-03  3.439e-03\n",
      "used_similar_sim                  4.601e-02    1.0    0.166  6.840e-01  1.322e-04 -6.643e-04\n",
      "Residual                          1.181e+02  426.0      NaN        NaN        NaN        NaN\n",
      "\n",
      "Here is the linear model with coefficients and confidence intervals (removed stats for individual student ids):\n",
      "\n",
      "                            OLS Regression Results                            \n",
      "==============================================================================\n",
      "Dep. Variable:                   main   R-squared:                       0.594\n",
      "Model:                            OLS   Adj. R-squared:                  0.437\n",
      "Method:                 Least Squares   F-statistic:                     3.784\n",
      "Date:                Sun, 28 Jan 2018   Prob (F-statistic):           2.45e-28\n",
      "Time:                        00:17:11   Log-Likelihood:                -362.93\n",
      "No. Observations:                 592   AIC:                             1058.\n",
      "Df Residuals:                     426   BIC:                             1786.\n",
      "Df Model:                         165                                         \n",
      "Covariance Type:            nonrobust                                         \n",
      "==================================================================================================================\n",
      "                                                     coef    std err          t      P>|t|      [0.025      0.975]\n",
      "------------------------------------------------------------------------------------------------------------------\n",
      "Intercept                                          2.0870      0.192     10.889      0.000       1.710       2.464\n",
      "C(CVS_levels_3)[T.1]                               0.1655      0.234      0.707      0.480      -0.295       0.626\n",
      "C(CVS_levels_3)[T.2]                               0.2377      0.162      1.467      0.143      -0.081       0.556\n",
      "variable[T.Concentration]                          0.0644      0.062      1.041      0.298      -0.057       0.186\n",
      "variable[T.Separation]                             0.1066      0.094      1.135      0.257      -0.078       0.291\n",
      "variable[T.Width]                                 -0.0009      0.061     -0.014      0.989      -0.121       0.119\n",
      "C(sim_index)[T.2]                                  0.1427      0.074      1.933      0.054      -0.002       0.288\n",
      "C(sim)[T.L]                                        0.0636      0.060      1.058      0.291      -0.055       0.182\n",
      "C(CVS_levels_3)[T.1]:variable[T.Concentration]    -0.0442      0.217     -0.203      0.839      -0.472       0.383\n",
      "C(CVS_levels_3)[T.2]:variable[T.Concentration]    -0.0543      0.145     -0.375      0.708      -0.339       0.230\n",
      "C(CVS_levels_3)[T.1]:variable[T.Separation]       -0.4256      0.218     -1.954      0.051      -0.854       0.003\n",
      "C(CVS_levels_3)[T.2]:variable[T.Separation]       -0.3522      0.134     -2.624      0.009      -0.616      -0.088\n",
      "C(CVS_levels_3)[T.1]:variable[T.Width]            -0.1216      0.225     -0.540      0.589      -0.564       0.321\n",
      "C(CVS_levels_3)[T.2]:variable[T.Width]            -0.0045      0.144     -0.031      0.975      -0.288       0.279\n",
      "C(CVS_levels_3)[T.1]:C(sim_index)[T.2]            -0.0510      0.168     -0.304      0.761      -0.380       0.278\n",
      "C(CVS_levels_3)[T.2]:C(sim_index)[T.2]             0.0504      0.105      0.478      0.633      -0.157       0.258\n",
      "pre                                               -0.0027      0.059     -0.046      0.963      -0.119       0.114\n",
      "C(CVS_levels_3)[T.1]:pre                           0.0045      0.103      0.044      0.965      -0.198       0.207\n",
      "C(CVS_levels_3)[T.2]:pre                           0.1101      0.077      1.426      0.155      -0.042       0.262\n",
      "level_experience_sims                             -0.1796      0.134     -1.343      0.180      -0.442       0.083\n",
      "experience_undergrad_lab_physics                   0.5721      0.248      2.306      0.022       0.084       1.060\n",
      "used_similar_sim                                  -0.0353      0.087     -0.407      0.684      -0.206       0.135\n",
      "==============================================================================\n",
      "Omnibus:                       81.848   Durbin-Watson:                   1.967\n",
      "Prob(Omnibus):                  0.000   Jarque-Bera (JB):              204.985\n",
      "Skew:                          -0.718   Prob(JB):                     3.08e-45\n",
      "Kurtosis:                       5.499   Cond. No.                     2.93e+16\n",
      "==============================================================================\n",
      "\n",
      "Warnings:\n",
      "[1] Standard Errors assume that the covariance matrix of the errors is correctly specified.\n",
      "[2] The smallest eigenvalue is 6.06e-30. This might indicate that there are\n",
      "strong multicollinearity problems or that the design matrix is singular.\n",
      "Model:  main ~ C(CVS_levels_4)*variable + C(CVS_levels_4)*pre + C(CVS_levels_4)*C(sim_index) + C(sid) + C(sim) + level_experience_sims + experience_undergrad_lab_physics + used_similar_sim\n"
     ]
    },
    {
     "name": "stdout",
     "output_type": "stream",
     "text": [
      "\n",
      "Anova table using type 3\n",
      "\n",
      "                                   sum_sq     df        F     PR(>F)     eta_sq   omega_sq\n",
      "Intercept                          35.993    1.0  130.305  1.627e-26  9.847e-02  9.764e-02\n",
      "C(CVS_levels_4)                     0.764    2.0    1.382  2.522e-01  2.089e-03  5.771e-04\n",
      "variable                            0.488    3.0    0.589  6.227e-01  1.335e-03 -9.318e-04\n",
      "C(sim_index)                        1.890    1.0    6.843  9.216e-03  5.171e-03  4.412e-03\n",
      "C(sid)                            201.779  147.0    4.969  1.715e-38  5.520e-01  4.406e-01\n",
      "C(sim)                              0.142    1.0    0.513  4.743e-01  3.875e-04 -3.679e-04\n",
      "C(CVS_levels_4):variable            2.663    6.0    1.607  1.436e-01  7.285e-03  2.749e-03\n",
      "C(CVS_levels_4):C(sim_index)        1.303    2.0    2.359  9.572e-02  3.566e-03  2.053e-03\n",
      "pre                                 0.029    1.0    0.105  7.457e-01  7.960e-05 -6.756e-04\n",
      "C(CVS_levels_4):pre                 0.972    2.0    1.760  1.733e-01  2.660e-03  1.148e-03\n",
      "level_experience_sims               0.474    1.0    1.715  1.911e-01  1.296e-03  5.397e-04\n",
      "experience_undergrad_lab_physics    1.340    1.0    4.850  2.819e-02  3.665e-03  2.907e-03\n",
      "used_similar_sim                    0.009    1.0    0.032  8.586e-01  2.403e-05 -7.311e-04\n",
      "Residual                          117.671  426.0      NaN        NaN        NaN        NaN\n",
      "\n",
      "Here is the linear model with coefficients and confidence intervals (removed stats for individual student ids):\n",
      "\n",
      "                            OLS Regression Results                            \n",
      "==============================================================================\n",
      "Dep. Variable:                   main   R-squared:                       0.596\n",
      "Model:                            OLS   Adj. R-squared:                  0.440\n",
      "Method:                 Least Squares   F-statistic:                     3.809\n",
      "Date:                Sun, 28 Jan 2018   Prob (F-statistic):           1.34e-28\n",
      "Time:                        00:17:12   Log-Likelihood:                -361.79\n",
      "No. Observations:                 592   AIC:                             1056.\n",
      "Df Residuals:                     426   BIC:                             1783.\n",
      "Df Model:                         165                                         \n",
      "Covariance Type:            nonrobust                                         \n",
      "==================================================================================================================\n",
      "                                                     coef    std err          t      P>|t|      [0.025      0.975]\n",
      "------------------------------------------------------------------------------------------------------------------\n",
      "Intercept                                          2.1332      0.187     11.415      0.000       1.766       2.501\n",
      "C(CVS_levels_4)[T.1]                               0.4124      0.301      1.372      0.171      -0.178       1.003\n",
      "C(CVS_levels_4)[T.2]                               0.1945      0.163      1.193      0.233      -0.126       0.515\n",
      "variable[T.Concentration]                          0.0686      0.054      1.262      0.207      -0.038       0.175\n",
      "variable[T.Separation]                             0.0038      0.084      0.045      0.964      -0.161       0.168\n",
      "variable[T.Width]                                 -0.0306      0.055     -0.559      0.576      -0.138       0.077\n",
      "C(sim_index)[T.2]                                  0.1712      0.065      2.616      0.009       0.043       0.300\n",
      "C(sim)[T.L]                                        0.0380      0.053      0.716      0.474      -0.066       0.142\n",
      "C(CVS_levels_4)[T.1]:variable[T.Concentration]    -0.4556      0.297     -1.532      0.126      -1.040       0.129\n",
      "C(CVS_levels_4)[T.2]:variable[T.Concentration]    -0.0099      0.137     -0.072      0.943      -0.280       0.260\n",
      "C(CVS_levels_4)[T.1]:variable[T.Separation]        0.0092      0.357      0.026      0.979      -0.693       0.712\n",
      "C(CVS_levels_4)[T.2]:variable[T.Separation]       -0.2272      0.129     -1.756      0.080      -0.481       0.027\n",
      "C(CVS_levels_4)[T.1]:variable[T.Width]            -0.3258      0.289     -1.128      0.260      -0.893       0.242\n",
      "C(CVS_levels_4)[T.2]:variable[T.Width]             0.0848      0.138      0.613      0.540      -0.187       0.357\n",
      "C(CVS_levels_4)[T.1]:C(sim_index)[T.2]            -0.4534      0.217     -2.086      0.038      -0.880      -0.026\n",
      "C(CVS_levels_4)[T.2]:C(sim_index)[T.2]             0.0168      0.102      0.165      0.869      -0.183       0.217\n",
      "pre                                               -0.0170      0.052     -0.325      0.746      -0.120       0.086\n",
      "C(CVS_levels_4)[T.1]:pre                           0.1557      0.124      1.251      0.212      -0.089       0.400\n",
      "C(CVS_levels_4)[T.2]:pre                           0.1240      0.074      1.677      0.094      -0.021       0.269\n",
      "level_experience_sims                             -0.1751      0.134     -1.309      0.191      -0.438       0.088\n",
      "experience_undergrad_lab_physics                   0.5481      0.249      2.202      0.028       0.059       1.037\n",
      "used_similar_sim                                  -0.0155      0.087     -0.178      0.859      -0.186       0.155\n",
      "==============================================================================\n",
      "Omnibus:                       84.857   Durbin-Watson:                   1.967\n",
      "Prob(Omnibus):                  0.000   Jarque-Bera (JB):              220.579\n",
      "Skew:                          -0.731   Prob(JB):                     1.26e-48\n",
      "Kurtosis:                       5.609   Cond. No.                     2.97e+16\n",
      "==============================================================================\n",
      "\n",
      "Warnings:\n",
      "[1] Standard Errors assume that the covariance matrix of the errors is correctly specified.\n",
      "[2] The smallest eigenvalue is 5.82e-30. This might indicate that there are\n",
      "strong multicollinearity problems or that the design matrix is singular.\n",
      "Model:  main ~ C(CVS_levels_5)*variable + C(CVS_levels_5)*pre + C(CVS_levels_5)*C(sim_index) + C(sid) + C(sim) + level_experience_sims + experience_undergrad_lab_physics + used_similar_sim\n",
      "\n",
      "Anova table using type 3\n",
      "\n",
      "                                   sum_sq     df        F     PR(>F)     eta_sq   omega_sq\n",
      "Intercept                          38.230    1.0  137.098  1.204e-27  9.779e-02  9.701e-02\n",
      "C(CVS_levels_5)                     0.724    2.0    1.297  2.743e-01  1.851e-03  4.238e-04\n",
      "variable                            0.624    3.0    0.746  5.251e-01  1.596e-03 -5.431e-04\n",
      "C(sim_index)                        3.017    1.0   10.821  1.087e-03  7.718e-03  7.000e-03\n",
      "C(sid)                            219.210  147.0    5.348  5.164e-42  5.607e-01  4.555e-01\n",
      "C(sim)                              0.298    1.0    1.070  3.015e-01  7.632e-04  4.994e-05\n",
      "C(CVS_levels_5):variable            4.099    6.0    2.450  2.436e-02  1.048e-02  6.200e-03\n",
      "C(CVS_levels_5):C(sim_index)        2.655    2.0    4.761  9.021e-03  6.791e-03  5.361e-03\n",
      "pre                                 0.290    1.0    1.040  3.083e-01  7.420e-04  2.871e-05\n",
      "C(CVS_levels_5):pre                 0.234    2.0    0.419  6.582e-01  5.973e-04 -8.287e-04\n",
      "level_experience_sims               0.724    1.0    2.595  1.079e-01  1.851e-03  1.137e-03\n",
      "experience_undergrad_lab_physics    2.015    1.0    7.225  7.469e-03  5.154e-03  4.437e-03\n",
      "used_similar_sim                    0.037    1.0    0.134  7.144e-01  9.568e-05 -6.172e-04\n",
      "Residual                          118.791  426.0      NaN        NaN        NaN        NaN\n",
      "\n",
      "Here is the linear model with coefficients and confidence intervals (removed stats for individual student ids):\n",
      "\n",
      "                            OLS Regression Results                            \n",
      "==============================================================================\n",
      "Dep. Variable:                   main   R-squared:                       0.592\n",
      "Model:                            OLS   Adj. R-squared:                  0.434\n",
      "Method:                 Least Squares   F-statistic:                     3.749\n",
      "Date:                Sun, 28 Jan 2018   Prob (F-statistic):           5.97e-28\n",
      "Time:                        00:17:12   Log-Likelihood:                -364.59\n",
      "No. Observations:                 592   AIC:                             1061.\n",
      "Df Residuals:                     426   BIC:                             1789.\n",
      "Df Model:                         165                                         \n",
      "Covariance Type:            nonrobust                                         \n",
      "==================================================================================================================\n",
      "                                                     coef    std err          t      P>|t|      [0.025      0.975]\n",
      "------------------------------------------------------------------------------------------------------------------\n",
      "Intercept                                          2.1609      0.185     11.709      0.000       1.798       2.524\n",
      "C(CVS_levels_5)[T.1]                               0.5244      0.337      1.558      0.120      -0.137       1.186\n",
      "C(CVS_levels_5)[T.2]                               0.1191      0.171      0.696      0.487      -0.217       0.456\n",
      "variable[T.Concentration]                          0.0430      0.050      0.859      0.391      -0.055       0.141\n",
      "variable[T.Separation]                            -0.0279      0.078     -0.358      0.720      -0.181       0.125\n",
      "variable[T.Width]                                  0.0075      0.049      0.153      0.878      -0.089       0.104\n",
      "C(sim_index)[T.2]                                  0.1953      0.059      3.289      0.001       0.079       0.312\n",
      "C(sim)[T.L]                                        0.0505      0.049      1.034      0.302      -0.045       0.146\n",
      "C(CVS_levels_5)[T.1]:variable[T.Concentration]    -0.4655      0.335     -1.389      0.165      -1.124       0.193\n",
      "C(CVS_levels_5)[T.2]:variable[T.Concentration]     0.0375      0.143      0.263      0.793      -0.243       0.318\n",
      "C(CVS_levels_5)[T.1]:variable[T.Separation]        0.2433      0.371      0.656      0.512      -0.486       0.973\n",
      "C(CVS_levels_5)[T.2]:variable[T.Separation]       -0.2464      0.140     -1.759      0.079      -0.522       0.029\n",
      "C(CVS_levels_5)[T.1]:variable[T.Width]            -0.4800      0.329     -1.457      0.146      -1.127       0.168\n",
      "C(CVS_levels_5)[T.2]:variable[T.Width]             0.0553      0.147      0.376      0.707      -0.234       0.344\n",
      "C(CVS_levels_5)[T.1]:C(sim_index)[T.2]            -0.6408      0.218     -2.943      0.003      -1.069      -0.213\n",
      "C(CVS_levels_5)[T.2]:C(sim_index)[T.2]             0.0431      0.106      0.405      0.685      -0.166       0.252\n",
      "pre                                                0.0485      0.048      1.020      0.308      -0.045       0.142\n",
      "C(CVS_levels_5)[T.1]:pre                           0.1253      0.139      0.900      0.368      -0.148       0.399\n",
      "C(CVS_levels_5)[T.2]:pre                           0.0267      0.075      0.355      0.722      -0.121       0.174\n",
      "level_experience_sims                             -0.2177      0.135     -1.611      0.108      -0.483       0.048\n",
      "experience_undergrad_lab_physics                   0.6758      0.251      2.688      0.007       0.182       1.170\n",
      "used_similar_sim                                  -0.0318      0.087     -0.366      0.714      -0.202       0.139\n",
      "==============================================================================\n",
      "Omnibus:                       73.939   Durbin-Watson:                   1.992\n",
      "Prob(Omnibus):                  0.000   Jarque-Bera (JB):              193.438\n",
      "Skew:                          -0.638   Prob(JB):                     9.90e-43\n",
      "Kurtosis:                       5.493   Cond. No.                     3.54e+16\n",
      "==============================================================================\n",
      "\n",
      "Warnings:\n",
      "[1] Standard Errors assume that the covariance matrix of the errors is correctly specified.\n",
      "[2] The smallest eigenvalue is 3.95e-30. This might indicate that there are\n",
      "strong multicollinearity problems or that the design matrix is singular.\n"
     ]
    }
   ],
   "source": [
    "for CVS in ['CVS_levels_2','CVS_levels_3','CVS_levels_4','CVS_levels_5']:\n",
    "    formula = 'main ~ C(' + CVS + ')*variable + C(' + CVS + ')*pre + C(' + CVS + ')*C(sim_index) + C(sid) + C(sim) + level_experience_sims + experience_undergrad_lab_physics + used_similar_sim'\n",
    "    model = ols(formula, data).fit()\n",
    "    print \"Model: \",formula\n",
    "    aov_table = anova_lm(model, typ=3)\n",
    "    eta_squared(aov_table)\n",
    "    omega_squared(aov_table)\n",
    "    print \"\\nAnova table using type 3\\n\"\n",
    "    print(aov_table)\n",
    "    print \"\\nHere is the linear model with coefficients and confidence intervals (removed stats for individual student ids):\\n\"\n",
    "    print clean_summary(model)"
   ]
  },
  {
   "cell_type": "markdown",
   "metadata": {},
   "source": [
    "## Parsimonious model\n",
    "Since none of the interactions matter, we remove them and opt for a parsimonious model."
   ]
  },
  {
   "cell_type": "code",
   "execution_count": 34,
   "metadata": {
    "scrolled": true
   },
   "outputs": [
    {
     "name": "stdout",
     "output_type": "stream",
     "text": [
      "Model:  main ~ C(CVS_levels_2) + variable + pre + C(sim_index) + C(sid) + C(sim) + level_experience_sims + experience_undergrad_lab_physics + used_similar_sim\n",
      "\n",
      "Anova table using type 3\n",
      "\n",
      "                                   sum_sq     df        F     PR(>F)     eta_sq   omega_sq\n",
      "Intercept                          35.045    1.0  126.014  7.353e-26  9.145e-02  9.066e-02\n",
      "C(CVS_levels_2)                     4.482    2.0    8.059  3.659e-04  1.170e-02  1.024e-02\n",
      "variable                            2.905    3.0    3.482  1.592e-02  7.581e-03  5.400e-03\n",
      "C(sim_index)                        3.720    1.0   13.376  2.860e-04  9.708e-03  8.975e-03\n",
      "C(sid)                            212.037  147.0    5.187  5.489e-41  5.533e-01  4.463e-01\n",
      "C(sim)                              0.575    1.0    2.067  1.513e-01  1.500e-03  7.736e-04\n",
      "pre                                 0.778    1.0    2.796  9.522e-02  2.029e-03  1.302e-03\n",
      "level_experience_sims               0.642    1.0    2.308  1.294e-01  1.675e-03  9.487e-04\n",
      "experience_undergrad_lab_physics    1.721    1.0    6.189  1.323e-02  4.492e-03  3.763e-03\n",
      "used_similar_sim                    0.050    1.0    0.181  6.704e-01  1.316e-04 -5.937e-04\n",
      "Residual                          121.254  436.0      NaN        NaN        NaN        NaN\n",
      "\n",
      "Here is the linear model with coefficients and confidence intervals (removed stats for individual student ids):\n",
      "\n",
      "                            OLS Regression Results                            \n",
      "==============================================================================\n",
      "Dep. Variable:                   main   R-squared:                       0.584\n",
      "Model:                            OLS   Adj. R-squared:                  0.436\n",
      "Method:                 Least Squares   F-statistic:                     3.944\n",
      "Date:                Sun, 28 Jan 2018   Prob (F-statistic):           1.79e-29\n",
      "Time:                        00:17:13   Log-Likelihood:                -370.67\n",
      "No. Observations:                 592   AIC:                             1053.\n",
      "Df Residuals:                     436   BIC:                             1737.\n",
      "Df Model:                         155                                         \n",
      "Covariance Type:            nonrobust                                         \n",
      "====================================================================================================\n",
      "                                       coef    std err          t      P>|t|      [0.025      0.975]\n",
      "----------------------------------------------------------------------------------------------------\n",
      "Intercept                            2.0498      0.183     11.226      0.000       1.691       2.409\n",
      "C(CVS_levels_2)[T.1]                 0.0885      0.088      1.010      0.313      -0.084       0.261\n",
      "C(CVS_levels_2)[T.2]                 0.3229      0.082      3.944      0.000       0.162       0.484\n",
      "variable[T.Concentration]            0.0514      0.036      1.410      0.159      -0.020       0.123\n",
      "variable[T.Separation]              -0.0970      0.061     -1.580      0.115      -0.218       0.024\n",
      "variable[T.Width]                    0.0033      0.037      0.091      0.928      -0.068       0.075\n",
      "C(sim_index)[T.2]                    0.1629      0.045      3.657      0.000       0.075       0.250\n",
      "C(sim)[T.L]                          0.0547      0.038      1.438      0.151      -0.020       0.129\n",
      "pre                                  0.0591      0.035      1.672      0.095      -0.010       0.129\n",
      "level_experience_sims               -0.2022      0.133     -1.519      0.129      -0.464       0.059\n",
      "experience_undergrad_lab_physics     0.6131      0.246      2.488      0.013       0.129       1.097\n",
      "used_similar_sim                    -0.0363      0.085     -0.426      0.670      -0.204       0.131\n",
      "==============================================================================\n",
      "Omnibus:                       83.078   Durbin-Watson:                   1.974\n",
      "Prob(Omnibus):                  0.000   Jarque-Bera (JB):              204.193\n",
      "Skew:                          -0.735   Prob(JB):                     4.57e-45\n",
      "Kurtosis:                       5.474   Cond. No.                     3.28e+16\n",
      "==============================================================================\n",
      "\n",
      "Warnings:\n",
      "[1] Standard Errors assume that the covariance matrix of the errors is correctly specified.\n",
      "[2] The smallest eigenvalue is 4.5e-30. This might indicate that there are\n",
      "strong multicollinearity problems or that the design matrix is singular.\n",
      "Model:  main ~ C(CVS_levels_3) + variable + pre + C(sim_index) + C(sid) + C(sim) + level_experience_sims + experience_undergrad_lab_physics + used_similar_sim\n",
      "\n",
      "Anova table using type 3\n",
      "\n",
      "                                   sum_sq     df        F     PR(>F)     eta_sq   omega_sq\n",
      "Intercept                          37.334    1.0  133.819  3.555e-27  9.486e-02  9.408e-02\n",
      "C(CVS_levels_3)                     4.096    2.0    7.341  7.315e-04  1.041e-02  8.984e-03\n",
      "variable                            2.743    3.0    3.278  2.096e-02  6.971e-03  4.841e-03\n",
      "C(sim_index)                        3.525    1.0   12.636  4.199e-04  8.957e-03  8.242e-03\n",
      "C(sid)                            220.644  147.0    5.380  8.520e-43  5.606e-01  4.561e-01\n",
      "C(sim)                              0.523    1.0    1.873  1.719e-01  1.328e-03  6.183e-04\n",
      "pre                                 0.834    1.0    2.989  8.456e-02  2.119e-03  1.409e-03\n",
      "level_experience_sims               0.600    1.0    2.149  1.434e-01  1.523e-03  8.140e-04\n",
      "experience_undergrad_lab_physics    1.581    1.0    5.668  1.770e-02  4.018e-03  3.307e-03\n",
      "used_similar_sim                    0.049    1.0    0.175  6.762e-01  1.238e-04 -5.846e-04\n",
      "Residual                          121.640  436.0      NaN        NaN        NaN        NaN\n",
      "\n",
      "Here is the linear model with coefficients and confidence intervals (removed stats for individual student ids):\n",
      "\n",
      "                            OLS Regression Results                            \n",
      "==============================================================================\n",
      "Dep. Variable:                   main   R-squared:                       0.582\n",
      "Model:                            OLS   Adj. R-squared:                  0.434\n",
      "Method:                 Least Squares   F-statistic:                     3.923\n",
      "Date:                Sun, 28 Jan 2018   Prob (F-statistic):           3.01e-29\n",
      "Time:                        00:17:13   Log-Likelihood:                -371.61\n",
      "No. Observations:                 592   AIC:                             1055.\n",
      "Df Residuals:                     436   BIC:                             1739.\n",
      "Df Model:                         155                                         \n",
      "Covariance Type:            nonrobust                                         \n",
      "====================================================================================================\n",
      "                                       coef    std err          t      P>|t|      [0.025      0.975]\n",
      "----------------------------------------------------------------------------------------------------\n",
      "Intercept                            2.0938      0.181     11.568      0.000       1.738       2.450\n",
      "C(CVS_levels_3)[T.1]                -0.0080      0.094     -0.085      0.932      -0.192       0.176\n",
      "C(CVS_levels_3)[T.2]                 0.2938      0.083      3.545      0.000       0.131       0.457\n",
      "variable[T.Concentration]            0.0466      0.037      1.274      0.203      -0.025       0.118\n",
      "variable[T.Separation]              -0.0982      0.062     -1.595      0.111      -0.219       0.023\n",
      "variable[T.Width]                    0.0056      0.036      0.154      0.878      -0.066       0.077\n",
      "C(sim_index)[T.2]                    0.1593      0.045      3.555      0.000       0.071       0.247\n",
      "C(sim)[T.L]                          0.0522      0.038      1.369      0.172      -0.023       0.127\n",
      "pre                                  0.0615      0.036      1.729      0.085      -0.008       0.131\n",
      "level_experience_sims               -0.1956      0.133     -1.466      0.143      -0.458       0.067\n",
      "experience_undergrad_lab_physics     0.5908      0.248      2.381      0.018       0.103       1.078\n",
      "used_similar_sim                    -0.0357      0.085     -0.418      0.676      -0.203       0.132\n",
      "==============================================================================\n",
      "Omnibus:                       85.134   Durbin-Watson:                   1.983\n",
      "Prob(Omnibus):                  0.000   Jarque-Bera (JB):              213.146\n",
      "Skew:                          -0.745   Prob(JB):                     5.20e-47\n",
      "Kurtosis:                       5.533   Cond. No.                     4.07e+16\n",
      "==============================================================================\n",
      "\n",
      "Warnings:\n",
      "[1] Standard Errors assume that the covariance matrix of the errors is correctly specified.\n",
      "[2] The smallest eigenvalue is 2.89e-30. This might indicate that there are\n",
      "strong multicollinearity problems or that the design matrix is singular.\n"
     ]
    },
    {
     "name": "stdout",
     "output_type": "stream",
     "text": [
      "Model:  main ~ C(CVS_levels_4) + variable + pre + C(sim_index) + C(sid) + C(sim) + level_experience_sims + experience_undergrad_lab_physics + used_similar_sim\n",
      "\n",
      "Anova table using type 3\n",
      "\n",
      "                                   sum_sq     df        F     PR(>F)     eta_sq   omega_sq\n",
      "Intercept                          37.779    1.0  135.146  2.133e-27  9.506e-02  9.429e-02\n",
      "C(CVS_levels_4)                     3.856    2.0    6.897  1.125e-03  9.702e-03  8.289e-03\n",
      "variable                            2.548    3.0    3.039  2.886e-02  6.412e-03  4.299e-03\n",
      "C(sim_index)                        3.356    1.0   12.004  5.835e-04  8.443e-03  7.734e-03\n",
      "C(sid)                            224.710  147.0    5.468  1.299e-43  5.654e-01  4.617e-01\n",
      "C(sim)                              0.404    1.0    1.446  2.298e-01  1.017e-03  3.137e-04\n",
      "pre                                 0.827    1.0    2.958  8.616e-02  2.081e-03  1.376e-03\n",
      "level_experience_sims               0.575    1.0    2.058  1.521e-01  1.448e-03  7.437e-04\n",
      "experience_undergrad_lab_physics    1.461    1.0    5.225  2.275e-02  3.675e-03  2.970e-03\n",
      "used_similar_sim                    0.033    1.0    0.118  7.310e-01  8.323e-05 -6.197e-04\n",
      "Residual                          121.880  436.0      NaN        NaN        NaN        NaN\n",
      "\n",
      "Here is the linear model with coefficients and confidence intervals (removed stats for individual student ids):\n",
      "\n",
      "                            OLS Regression Results                            \n",
      "==============================================================================\n",
      "Dep. Variable:                   main   R-squared:                       0.582\n",
      "Model:                            OLS   Adj. R-squared:                  0.433\n",
      "Method:                 Least Squares   F-statistic:                     3.909\n",
      "Date:                Sun, 28 Jan 2018   Prob (F-statistic):           4.16e-29\n",
      "Time:                        00:17:14   Log-Likelihood:                -372.19\n",
      "No. Observations:                 592   AIC:                             1056.\n",
      "Df Residuals:                     436   BIC:                             1740.\n",
      "Df Model:                         155                                         \n",
      "Covariance Type:            nonrobust                                         \n",
      "====================================================================================================\n",
      "                                       coef    std err          t      P>|t|      [0.025      0.975]\n",
      "----------------------------------------------------------------------------------------------------\n",
      "Intercept                            2.0991      0.181     11.625      0.000       1.744       2.454\n",
      "C(CVS_levels_4)[T.1]                 0.1033      0.119      0.865      0.387      -0.131       0.338\n",
      "C(CVS_levels_4)[T.2]                 0.3126      0.085      3.679      0.000       0.146       0.480\n",
      "variable[T.Concentration]            0.0454      0.037      1.239      0.216      -0.027       0.117\n",
      "variable[T.Separation]              -0.1006      0.062     -1.635      0.103      -0.222       0.020\n",
      "variable[T.Width]                    0.0010      0.037      0.027      0.978      -0.071       0.073\n",
      "C(sim_index)[T.2]                    0.1562      0.045      3.465      0.001       0.068       0.245\n",
      "C(sim)[T.L]                          0.0464      0.039      1.203      0.230      -0.029       0.122\n",
      "pre                                  0.0607      0.035      1.720      0.086      -0.009       0.130\n",
      "level_experience_sims               -0.1918      0.134     -1.435      0.152      -0.455       0.071\n",
      "experience_undergrad_lab_physics     0.5710      0.250      2.286      0.023       0.080       1.062\n",
      "used_similar_sim                    -0.0294      0.086     -0.344      0.731      -0.198       0.139\n",
      "==============================================================================\n",
      "Omnibus:                       84.178   Durbin-Watson:                   1.986\n",
      "Prob(Omnibus):                  0.000   Jarque-Bera (JB):              212.048\n",
      "Skew:                          -0.736   Prob(JB):                     9.00e-47\n",
      "Kurtosis:                       5.536   Cond. No.                     3.12e+16\n",
      "==============================================================================\n",
      "\n",
      "Warnings:\n",
      "[1] Standard Errors assume that the covariance matrix of the errors is correctly specified.\n",
      "[2] The smallest eigenvalue is 4.91e-30. This might indicate that there are\n",
      "strong multicollinearity problems or that the design matrix is singular.\n",
      "Model:  main ~ C(CVS_levels_5) + variable + pre + C(sim_index) + C(sid) + C(sim) + level_experience_sims + experience_undergrad_lab_physics + used_similar_sim\n",
      "\n",
      "Anova table using type 3\n",
      "\n",
      "                                   sum_sq     df        F     PR(>F)     eta_sq   omega_sq\n",
      "Intercept                          40.152    1.0  140.286  2.983e-28  9.763e-02  9.687e-02\n",
      "C(CVS_levels_5)                     0.946    2.0    1.653  1.927e-01  2.301e-03  9.084e-04\n",
      "variable                            3.018    3.0    3.515  1.523e-02  7.339e-03  5.247e-03\n",
      "C(sim_index)                        4.523    1.0   15.803  8.225e-05  1.100e-02  1.029e-02\n",
      "C(sid)                            233.412  147.0    5.548  2.424e-44  5.675e-01  4.649e-01\n",
      "C(sim)                              0.566    1.0    1.979  1.602e-01  1.377e-03  6.808e-04\n",
      "pre                                 1.058    1.0    3.695  5.523e-02  2.571e-03  1.874e-03\n",
      "level_experience_sims               0.726    1.0    2.536  1.120e-01  1.765e-03  1.068e-03\n",
      "experience_undergrad_lab_physics    2.008    1.0    7.017  8.368e-03  4.883e-03  4.184e-03\n",
      "used_similar_sim                    0.071    1.0    0.247  6.194e-01  1.719e-04 -5.236e-04\n",
      "Residual                          124.790  436.0      NaN        NaN        NaN        NaN\n",
      "\n",
      "Here is the linear model with coefficients and confidence intervals (removed stats for individual student ids):\n",
      "\n",
      "                            OLS Regression Results                            \n",
      "==============================================================================\n",
      "Dep. Variable:                   main   R-squared:                       0.572\n",
      "Model:                            OLS   Adj. R-squared:                  0.419\n",
      "Method:                 Least Squares   F-statistic:                     3.753\n",
      "Date:                Sun, 28 Jan 2018   Prob (F-statistic):           1.92e-27\n",
      "Time:                        00:17:14   Log-Likelihood:                -379.18\n",
      "No. Observations:                 592   AIC:                             1070.\n",
      "Df Residuals:                     436   BIC:                             1754.\n",
      "Df Model:                         155                                         \n",
      "Covariance Type:            nonrobust                                         \n",
      "====================================================================================================\n",
      "                                       coef    std err          t      P>|t|      [0.025      0.975]\n",
      "----------------------------------------------------------------------------------------------------\n",
      "Intercept                            2.1588      0.182     11.844      0.000       1.801       2.517\n",
      "C(CVS_levels_5)[T.1]                 0.0378      0.123      0.308      0.759      -0.204       0.280\n",
      "C(CVS_levels_5)[T.2]                 0.1432      0.080      1.797      0.073      -0.013       0.300\n",
      "variable[T.Concentration]            0.0497      0.037      1.334      0.183      -0.024       0.123\n",
      "variable[T.Separation]              -0.1028      0.062     -1.650      0.100      -0.225       0.020\n",
      "variable[T.Width]                    0.0052      0.037      0.141      0.888      -0.068       0.078\n",
      "C(sim_index)[T.2]                    0.1797      0.045      3.975      0.000       0.091       0.269\n",
      "C(sim)[T.L]                          0.0549      0.039      1.407      0.160      -0.022       0.132\n",
      "pre                                  0.0684      0.036      1.922      0.055      -0.002       0.138\n",
      "level_experience_sims               -0.2162      0.136     -1.592      0.112      -0.483       0.051\n",
      "experience_undergrad_lab_physics     0.6720      0.254      2.649      0.008       0.173       1.171\n",
      "used_similar_sim                    -0.0430      0.086     -0.497      0.619      -0.213       0.127\n",
      "==============================================================================\n",
      "Omnibus:                       79.871   Durbin-Watson:                   1.969\n",
      "Prob(Omnibus):                  0.000   Jarque-Bera (JB):              201.263\n",
      "Skew:                          -0.700   Prob(JB):                     1.98e-44\n",
      "Kurtosis:                       5.490   Cond. No.                     3.71e+16\n",
      "==============================================================================\n",
      "\n",
      "Warnings:\n",
      "[1] Standard Errors assume that the covariance matrix of the errors is correctly specified.\n",
      "[2] The smallest eigenvalue is 3.44e-30. This might indicate that there are\n",
      "strong multicollinearity problems or that the design matrix is singular.\n"
     ]
    }
   ],
   "source": [
    "for CVS in ['CVS_levels_2','CVS_levels_3','CVS_levels_4','CVS_levels_5']:\n",
    "    formula = 'main ~ C(' + CVS + ') + variable + pre + C(sim_index) + C(sid) + C(sim) + level_experience_sims + experience_undergrad_lab_physics + used_similar_sim'\n",
    "    model = ols(formula, data).fit()\n",
    "    print \"Model: \",formula\n",
    "    aov_table = anova_lm(model, typ=3)\n",
    "    eta_squared(aov_table)\n",
    "    omega_squared(aov_table)\n",
    "    print \"\\nAnova table using type 3\\n\"\n",
    "    print(aov_table)\n",
    "    print \"\\nHere is the linear model with coefficients and confidence intervals (removed stats for individual student ids):\\n\"\n",
    "    print clean_summary(model)"
   ]
  },
  {
   "cell_type": "markdown",
   "metadata": {},
   "source": [
    "## Sensitivity analysis on CVS criteria using AIC and BIC\n",
    "These results were produced using AOV of linear regression with Type III SS\n",
    "\n",
    "Model with interactions\n",
    "\n",
    "\tmain ~ C(CVS_levels)*variable + C(CVS_levels)*pre + C(CVS_levels)*C(sim_index) + C(sid) + C(sim) + level_experience_sims + experience_undergrad_lab_physics + used_similar_sim'\n",
    "\n",
    "Model without any interactions\n",
    "\n",
    "\tmain ~ C(CVS_levels) + variable + pre + C(sim_index) + C(sid) + C(sim) + level_experience_sims + experience_undergrad_lab_physics + used_similar_sim'\n",
    "\n",
    "We think a threshold of 3 pts is stricks a balance between 1) measuring more deliberatness than 2 pts and 2) it is less stringent than using more points.\n",
    "\n",
    "Here are the AIC and BIC of the models (lower means better model controlling for number of parameters)\n",
    "\n",
    "    all interactions\n",
    "    #pts\tAIC\t\tBIC\t\n",
    "    2\t\t1061\t1788\n",
    "    3\t\t1058\t1786\n",
    "    4\t\t1056\t1783 -> best model\n",
    "    5\t\t1061\t1789\n",
    "\n",
    "    no interactions\n",
    "    #pts\tAIC\t\tBIC\n",
    "    2\t\t1053\t1737 -> best model\n",
    "    3\t\t1055\t1739\n",
    "    4\t\t1056\t1740\n",
    "    5\t\t1070\t1754\n",
    "\n",
    "None of these models are drastically different from each other. The only difference is some significant interactions when #pts = 5 but that's also our worse model.\n",
    "\n",
    "We pick #pts = 3 and call it a day"
   ]
  },
  {
   "cell_type": "markdown",
   "metadata": {},
   "source": [
    "## Post-hoc analysis on levels using 3pts as threshold"
   ]
  },
  {
   "cell_type": "code",
   "execution_count": 35,
   "metadata": {
    "scrolled": false
   },
   "outputs": [
    {
     "name": "stdout",
     "output_type": "stream",
     "text": [
      "Comparing CVS levels 0 and 1\n",
      "Model:  main ~ C(CVS_levels_3) + variable + pre + C(sim_index) + C(sid) + C(sim) + level_experience_sims + experience_undergrad_lab_physics + used_similar_sim\n",
      "where levels = (0,1)\n",
      "\n",
      "Anova table using type 3 errors\n",
      "\n",
      "                                   sum_sq     df      F     PR(>F)     eta_sq   omega_sq\n",
      "Intercept                           1.342    1.0  5.808  1.683e-02  6.506e-03  5.380e-03\n",
      "C(CVS_levels_3)                     0.014    1.0  0.059  8.083e-01  6.608e-05 -1.053e-03\n",
      "variable                            0.418    3.0  0.602  6.142e-01  2.024e-03 -1.335e-03\n",
      "C(sim_index)                        1.123    1.0  4.861  2.857e-02  5.445e-03  4.320e-03\n",
      "C(sid)                            151.314  108.0  6.064  9.436e-29  7.336e-01  6.119e-01\n",
      "C(sim)                              0.194    1.0  0.840  3.606e-01  9.406e-04 -1.794e-04\n",
      "pre                                 0.049    1.0  0.213  6.451e-01  2.384e-04 -8.808e-04\n",
      "level_experience_sims               2.018    1.0  8.736  3.483e-03  9.785e-03  8.655e-03\n",
      "experience_undergrad_lab_physics    1.920    1.0  8.310  4.359e-03  9.308e-03  8.179e-03\n",
      "used_similar_sim                    0.052    1.0  0.227  6.343e-01  2.543e-04 -8.649e-04\n",
      "Residual                           47.830  207.0    NaN        NaN        NaN        NaN\n"
     ]
    }
   ],
   "source": [
    "for CVS in ['CVS_levels_3']: #'CVS_levels_2','CVS_levels_3','CVS_levels_4']:\n",
    "    formula = 'main ~ C('+ CVS +') + variable + pre + C(sim_index) + C(sid) + C(sim) + level_experience_sims + experience_undergrad_lab_physics + used_similar_sim'\n",
    "    print \"Comparing CVS levels 0 and 1\"\n",
    "    model = ols(formula, data[data[CVS]!=2]).fit()\n",
    "    print \"Model: \",formula\n",
    "    print 'where levels = (0,1)'\n",
    "    aov_table = anova_lm(model, typ=3)\n",
    "    eta_squared(aov_table)\n",
    "    omega_squared(aov_table)\n",
    "    print \"\\nAnova table using type 3 errors\\n\"\n",
    "    print(aov_table)"
   ]
  },
  {
   "cell_type": "code",
   "execution_count": 36,
   "metadata": {},
   "outputs": [
    {
     "name": "stdout",
     "output_type": "stream",
     "text": [
      "Comparing CVS levels 0 and 1\n",
      "Model:  main ~ C(CVS_levels_3) + variable + pre + C(sim_index) + C(sid) + C(sim) + level_experience_sims + experience_undergrad_lab_physics + used_similar_sim\n",
      "where levels = (1,2)\n",
      "\n",
      "Anova table using type 3 errors\n",
      "\n",
      "                                   sum_sq     df       F     PR(>F)     eta_sq   omega_sq\n",
      "Intercept                          21.158    1.0  69.961  7.080e-15  9.645e-02  9.494e-02\n",
      "C(CVS_levels_3)                     1.569    1.0   5.189  2.370e-02  7.153e-03  5.767e-03\n",
      "variable                            3.272    3.0   3.607  1.419e-02  1.492e-02  1.077e-02\n",
      "C(sim_index)                        2.044    1.0   6.760  9.957e-03  9.319e-03  7.930e-03\n",
      "C(sid)                            120.733  120.0   3.327  6.107e-15  5.503e-01  3.844e-01\n",
      "C(sim)                              0.025    1.0   0.082  7.754e-01  1.125e-04 -1.264e-03\n",
      "pre                                 1.627    1.0   5.380  2.129e-02  7.417e-03  6.030e-03\n",
      "level_experience_sims               0.763    1.0   2.522  1.137e-01  3.477e-03  2.095e-03\n",
      "experience_undergrad_lab_physics    1.508    1.0   4.987  2.655e-02  6.875e-03  5.489e-03\n",
      "used_similar_sim                    0.446    1.0   1.476  2.257e-01  2.035e-03  6.553e-04\n",
      "Residual                           66.232  219.0     NaN        NaN        NaN        NaN\n"
     ]
    }
   ],
   "source": [
    "for CVS in ['CVS_levels_3']: #'CVS_levels_2','CVS_levels_3','CVS_levels_4']:\n",
    "    formula = 'main ~ C('+ CVS +') + variable + pre + C(sim_index) + C(sid) + C(sim) + level_experience_sims + experience_undergrad_lab_physics + used_similar_sim'\n",
    "    print \"Comparing CVS levels 0 and 1\"\n",
    "    model = ols(formula, data[data[CVS]!=0]).fit()\n",
    "    print \"Model: \",formula\n",
    "    print 'where levels = (1,2)'\n",
    "    aov_table = anova_lm(model, typ=3)\n",
    "    eta_squared(aov_table)\n",
    "    omega_squared(aov_table)\n",
    "    print \"\\nAnova table using type 3 errors\\n\"\n",
    "    print(aov_table)"
   ]
  },
  {
   "cell_type": "code",
   "execution_count": 37,
   "metadata": {},
   "outputs": [
    {
     "name": "stdout",
     "output_type": "stream",
     "text": [
      "Comparing CVS levels 0 and 1\n",
      "Model:  main ~ C(CVS_levels_3) + variable + pre + C(sim_index) + C(sid) + C(sim) + level_experience_sims + experience_undergrad_lab_physics + used_similar_sim\n",
      "where levels = (0,2)\n",
      "\n",
      "Anova table using type 3 errors\n",
      "\n",
      "                                   sum_sq     df        F     PR(>F)     eta_sq   omega_sq\n",
      "Intercept                          34.821    1.0  134.305  1.314e-26  1.020e-01  1.011e-01\n",
      "C(CVS_levels_3)                     3.121    1.0   12.038  5.846e-04  9.140e-03  8.375e-03\n",
      "variable                            1.829    3.0    2.352  7.197e-02  5.358e-03  3.078e-03\n",
      "C(sim_index)                        2.994    1.0   11.547  7.546e-04  8.767e-03  8.002e-03\n",
      "C(sid)                            201.923  146.0    5.334  2.511e-38  5.914e-01  4.801e-01\n",
      "C(sim)                              0.622    1.0    2.397  1.224e-01  1.820e-03  1.060e-03\n",
      "pre                                 0.680    1.0    2.621  1.063e-01  1.990e-03  1.230e-03\n",
      "level_experience_sims               0.542    1.0    2.090  1.492e-01  1.587e-03  8.268e-04\n",
      "experience_undergrad_lab_physics    1.427    1.0    5.503  1.953e-02  4.178e-03  3.416e-03\n",
      "used_similar_sim                    0.166    1.0    0.638  4.248e-01  4.847e-04 -2.744e-04\n",
      "Residual                           93.337  360.0      NaN        NaN        NaN        NaN\n"
     ]
    }
   ],
   "source": [
    "for CVS in ['CVS_levels_3']: #'CVS_levels_2','CVS_levels_3','CVS_levels_4']:\n",
    "    formula = 'main ~ C('+ CVS +') + variable + pre + C(sim_index) + C(sid) + C(sim) + level_experience_sims + experience_undergrad_lab_physics + used_similar_sim'\n",
    "    print \"Comparing CVS levels 0 and 1\"\n",
    "    model = ols(formula, data[data[CVS]!=1]).fit()\n",
    "    print \"Model: \",formula\n",
    "    print 'where levels = (0,2)'\n",
    "    aov_table = anova_lm(model, typ=3)\n",
    "    eta_squared(aov_table)\n",
    "    omega_squared(aov_table)\n",
    "    print \"\\nAnova table using type 3 errors\\n\"\n",
    "    print(aov_table)"
   ]
  },
  {
   "cell_type": "code",
   "execution_count": 38,
   "metadata": {},
   "outputs": [
    {
     "name": "stdout",
     "output_type": "stream",
     "text": [
      "This plot needs to be redone with standard deviation bars and colored by level and stars given the tests above\n",
      "0-1 => -\n",
      "1-2 => *\n",
      "0-2 => ***\n"
     ]
    },
    {
     "data": {
      "image/png": "[encoded data removed]",
      "text/plain": [
       "<matplotlib.figure.Figure at 0x115fa4a8>"
      ]
     },
     "metadata": {},
     "output_type": "display_data"
    }
   ],
   "source": [
    "levels = pd.pivot_table(data, values=['main'], index=['CVS_levels_3'],aggfunc=np.mean)\n",
    "levels.plot(kind='bar')\n",
    "print \"This plot needs to be redone with standard deviation bars and colored by level and stars given the tests above\"\n",
    "print '0-1 => -'\n",
    "print '1-2 => *'\n",
    "print '0-2 => ***'"
   ]
  },
  {
   "cell_type": "markdown",
   "metadata": {},
   "source": [
    "### Post-hoc analysis on experience in physic undergraduate labs"
   ]
  },
  {
   "cell_type": "code",
   "execution_count": 39,
   "metadata": {},
   "outputs": [
    {
     "name": "stdout",
     "output_type": "stream",
     "text": [
      "This plot needs to be redone with standard deviation bars and organized by sim, colored by level\n"
     ]
    },
    {
     "data": {
      "image/png": "[encoded data removed]",
      "text/plain": [
       "<matplotlib.figure.Figure at 0x109bba90>"
      ]
     },
     "metadata": {},
     "output_type": "display_data"
    }
   ],
   "source": [
    "posthoc_exp_physics_labs = pd.pivot_table(data, values=['main'], index=['experience_undergrad_lab_physics'],aggfunc=(np.mean))\n",
    "posthoc_exp_physics_labs.plot(kind='bar')\n",
    "print \"This plot needs to be redone with standard deviation bars and organized by sim, colored by level\""
   ]
  },
  {
   "cell_type": "markdown",
   "metadata": {},
   "source": [
    "### Post-hoc analysis on order"
   ]
  },
  {
   "cell_type": "code",
   "execution_count": 40,
   "metadata": {},
   "outputs": [
    {
     "name": "stdout",
     "output_type": "stream",
     "text": [
      "This plot needs to be redone with standard deviation bars and organized by sim, colored by level\n"
     ]
    },
    {
     "data": {
      "image/png": "[encoded data removed]",
      "text/plain": [
       "<matplotlib.figure.Figure at 0x118a2358>"
      ]
     },
     "metadata": {},
     "output_type": "display_data"
    }
   ],
   "source": [
    "posthoc_sim_index = pd.pivot_table(data, values=['main'], index=['sim_index'],aggfunc=(np.mean))\n",
    "posthoc_sim_index.plot(kind='bar')\n",
    "print \"This plot needs to be redone with standard deviation bars and organized by sim, colored by level\""
   ]
  },
  {
   "cell_type": "markdown",
   "metadata": {},
   "source": [
    "### Post-hoc analysis on variable"
   ]
  },
  {
   "cell_type": "code",
   "execution_count": 41,
   "metadata": {},
   "outputs": [
    {
     "name": "stdout",
     "output_type": "stream",
     "text": [
      "This plot needs to be redone with standard deviation bars and organized by sim, colored by level\n"
     ]
    },
    {
     "data": {
      "image/png": "[encoded data removed]",
      "text/plain": [
       "<matplotlib.figure.Figure at 0x11895630>"
      ]
     },
     "metadata": {},
     "output_type": "display_data"
    }
   ],
   "source": [
    "posthoc_variable = pd.pivot_table(data, values=['main'], index=['variable'],aggfunc=(np.mean))\n",
    "posthoc_variable.plot(kind='bar')\n",
    "print \"This plot needs to be redone with standard deviation bars and organized by sim, colored by level\""
   ]
  },
  {
   "cell_type": "markdown",
   "metadata": {
    "hideCode": true,
    "hidePrompt": true
   },
   "source": [
    "## Let's investigate how CVS relationship with knowledge changes depending on the variable"
   ]
  },
  {
   "cell_type": "markdown",
   "metadata": {},
   "source": [
    "### Overall - with viz"
   ]
  },
  {
   "cell_type": "code",
   "execution_count": 42,
   "metadata": {},
   "outputs": [
    {
     "data": {
      "text/html": [
       "<div>\n",
       "<style>\n",
       "    .dataframe thead tr:only-child th {\n",
       "        text-align: right;\n",
       "    }\n",
       "\n",
       "    .dataframe thead th {\n",
       "        text-align: left;\n",
       "    }\n",
       "\n",
       "    .dataframe tbody tr th {\n",
       "        vertical-align: top;\n",
       "    }\n",
       "</style>\n",
       "<table border=\"1\" class=\"dataframe\">\n",
       "  <thead>\n",
       "    <tr style=\"text-align: right;\">\n",
       "      <th></th>\n",
       "      <th>sid</th>\n",
       "      <th>variable</th>\n",
       "      <th>pre</th>\n",
       "      <th>main</th>\n",
       "      <th>sim</th>\n",
       "      <th>CVS_table_2</th>\n",
       "      <th>CVS_graph_2</th>\n",
       "      <th>CVS_table_3</th>\n",
       "      <th>CVS_graph_3</th>\n",
       "      <th>CVS_table_4</th>\n",
       "      <th>...</th>\n",
       "      <th>sim_index</th>\n",
       "      <th>level_experience_sims</th>\n",
       "      <th>experience_undergrad_lab_physics</th>\n",
       "      <th>used_similar_sim_L</th>\n",
       "      <th>used_similar_sim_C</th>\n",
       "      <th>used_similar_sim</th>\n",
       "      <th>CVS_levels_2</th>\n",
       "      <th>CVS_levels_3</th>\n",
       "      <th>CVS_levels_4</th>\n",
       "      <th>CVS_levels_5</th>\n",
       "    </tr>\n",
       "  </thead>\n",
       "  <tbody>\n",
       "    <tr>\n",
       "      <th>0</th>\n",
       "      <td>10127163</td>\n",
       "      <td>Concentration</td>\n",
       "      <td>1.0</td>\n",
       "      <td>3.0</td>\n",
       "      <td>L</td>\n",
       "      <td>1</td>\n",
       "      <td>1</td>\n",
       "      <td>1</td>\n",
       "      <td>1</td>\n",
       "      <td>1</td>\n",
       "      <td>...</td>\n",
       "      <td>1</td>\n",
       "      <td>1</td>\n",
       "      <td>1</td>\n",
       "      <td>0.0</td>\n",
       "      <td>0.0</td>\n",
       "      <td>0.0</td>\n",
       "      <td>2</td>\n",
       "      <td>2</td>\n",
       "      <td>2</td>\n",
       "      <td>2</td>\n",
       "    </tr>\n",
       "    <tr>\n",
       "      <th>1</th>\n",
       "      <td>10232160</td>\n",
       "      <td>Concentration</td>\n",
       "      <td>1.0</td>\n",
       "      <td>1.0</td>\n",
       "      <td>L</td>\n",
       "      <td>1</td>\n",
       "      <td>1</td>\n",
       "      <td>1</td>\n",
       "      <td>1</td>\n",
       "      <td>1</td>\n",
       "      <td>...</td>\n",
       "      <td>1</td>\n",
       "      <td>1</td>\n",
       "      <td>1</td>\n",
       "      <td>1.0</td>\n",
       "      <td>0.0</td>\n",
       "      <td>1.0</td>\n",
       "      <td>2</td>\n",
       "      <td>2</td>\n",
       "      <td>2</td>\n",
       "      <td>0</td>\n",
       "    </tr>\n",
       "    <tr>\n",
       "      <th>2</th>\n",
       "      <td>10537160</td>\n",
       "      <td>Concentration</td>\n",
       "      <td>1.0</td>\n",
       "      <td>2.0</td>\n",
       "      <td>L</td>\n",
       "      <td>1</td>\n",
       "      <td>0</td>\n",
       "      <td>1</td>\n",
       "      <td>0</td>\n",
       "      <td>0</td>\n",
       "      <td>...</td>\n",
       "      <td>2</td>\n",
       "      <td>1</td>\n",
       "      <td>0</td>\n",
       "      <td>1.0</td>\n",
       "      <td>0.0</td>\n",
       "      <td>1.0</td>\n",
       "      <td>1</td>\n",
       "      <td>1</td>\n",
       "      <td>0</td>\n",
       "      <td>0</td>\n",
       "    </tr>\n",
       "    <tr>\n",
       "      <th>3</th>\n",
       "      <td>10375163</td>\n",
       "      <td>Concentration</td>\n",
       "      <td>0.0</td>\n",
       "      <td>2.0</td>\n",
       "      <td>L</td>\n",
       "      <td>1</td>\n",
       "      <td>0</td>\n",
       "      <td>1</td>\n",
       "      <td>0</td>\n",
       "      <td>1</td>\n",
       "      <td>...</td>\n",
       "      <td>2</td>\n",
       "      <td>2</td>\n",
       "      <td>1</td>\n",
       "      <td>0.0</td>\n",
       "      <td>0.0</td>\n",
       "      <td>0.0</td>\n",
       "      <td>1</td>\n",
       "      <td>1</td>\n",
       "      <td>1</td>\n",
       "      <td>1</td>\n",
       "    </tr>\n",
       "    <tr>\n",
       "      <th>4</th>\n",
       "      <td>10420167</td>\n",
       "      <td>Concentration</td>\n",
       "      <td>1.0</td>\n",
       "      <td>3.0</td>\n",
       "      <td>L</td>\n",
       "      <td>1</td>\n",
       "      <td>1</td>\n",
       "      <td>1</td>\n",
       "      <td>1</td>\n",
       "      <td>1</td>\n",
       "      <td>...</td>\n",
       "      <td>2</td>\n",
       "      <td>3</td>\n",
       "      <td>1</td>\n",
       "      <td>0.0</td>\n",
       "      <td>0.0</td>\n",
       "      <td>0.0</td>\n",
       "      <td>2</td>\n",
       "      <td>2</td>\n",
       "      <td>2</td>\n",
       "      <td>2</td>\n",
       "    </tr>\n",
       "  </tbody>\n",
       "</table>\n",
       "<p>5 rows × 25 columns</p>\n",
       "</div>"
      ],
      "text/plain": [
       "        sid       variable  pre  main sim  CVS_table_2  CVS_graph_2  CVS_table_3  CVS_graph_3  \\\n",
       "0  10127163  Concentration  1.0   3.0   L            1            1            1            1   \n",
       "1  10232160  Concentration  1.0   1.0   L            1            1            1            1   \n",
       "2  10537160  Concentration  1.0   2.0   L            1            0            1            0   \n",
       "3  10375163  Concentration  0.0   2.0   L            1            0            1            0   \n",
       "4  10420167  Concentration  1.0   3.0   L            1            1            1            1   \n",
       "\n",
       "   CVS_table_4      ...       sim_index  level_experience_sims  experience_undergrad_lab_physics  \\\n",
       "0            1      ...               1                      1                                 1   \n",
       "1            1      ...               1                      1                                 1   \n",
       "2            0      ...               2                      1                                 0   \n",
       "3            1      ...               2                      2                                 1   \n",
       "4            1      ...               2                      3                                 1   \n",
       "\n",
       "   used_similar_sim_L  used_similar_sim_C  used_similar_sim  CVS_levels_2  CVS_levels_3  \\\n",
       "0                 0.0                 0.0               0.0             2             2   \n",
       "1                 1.0                 0.0               1.0             2             2   \n",
       "2                 1.0                 0.0               1.0             1             1   \n",
       "3                 0.0                 0.0               0.0             1             1   \n",
       "4                 0.0                 0.0               0.0             2             2   \n",
       "\n",
       "   CVS_levels_4  CVS_levels_5  \n",
       "0             2             2  \n",
       "1             2             0  \n",
       "2             0             0  \n",
       "3             1             1  \n",
       "4             2             2  \n",
       "\n",
       "[5 rows x 25 columns]"
      ]
     },
     "execution_count": 42,
     "metadata": {},
     "output_type": "execute_result"
    }
   ],
   "source": [
    "data.head()"
   ]
  },
  {
   "cell_type": "code",
   "execution_count": 43,
   "metadata": {},
   "outputs": [
    {
     "data": {
      "text/html": [
       "<div>\n",
       "<style>\n",
       "    .dataframe thead tr:only-child th {\n",
       "        text-align: right;\n",
       "    }\n",
       "\n",
       "    .dataframe thead th {\n",
       "        text-align: left;\n",
       "    }\n",
       "\n",
       "    .dataframe tbody tr th {\n",
       "        vertical-align: top;\n",
       "    }\n",
       "</style>\n",
       "<table border=\"1\" class=\"dataframe\">\n",
       "  <thead>\n",
       "    <tr style=\"text-align: right;\">\n",
       "      <th></th>\n",
       "      <th></th>\n",
       "      <th>main</th>\n",
       "    </tr>\n",
       "    <tr>\n",
       "      <th>variable</th>\n",
       "      <th>CVS_levels_3</th>\n",
       "      <th></th>\n",
       "    </tr>\n",
       "  </thead>\n",
       "  <tbody>\n",
       "    <tr>\n",
       "      <th rowspan=\"3\" valign=\"top\">Area</th>\n",
       "      <th>0</th>\n",
       "      <td>2.016</td>\n",
       "    </tr>\n",
       "    <tr>\n",
       "      <th>1</th>\n",
       "      <td>2.263</td>\n",
       "    </tr>\n",
       "    <tr>\n",
       "      <th>2</th>\n",
       "      <td>2.554</td>\n",
       "    </tr>\n",
       "    <tr>\n",
       "      <th rowspan=\"3\" valign=\"top\">Concentration</th>\n",
       "      <th>0</th>\n",
       "      <td>2.096</td>\n",
       "    </tr>\n",
       "    <tr>\n",
       "      <th>1</th>\n",
       "      <td>2.227</td>\n",
       "    </tr>\n",
       "    <tr>\n",
       "      <th>2</th>\n",
       "      <td>2.649</td>\n",
       "    </tr>\n",
       "    <tr>\n",
       "      <th rowspan=\"3\" valign=\"top\">Separation</th>\n",
       "      <th>0</th>\n",
       "      <td>2.130</td>\n",
       "    </tr>\n",
       "    <tr>\n",
       "      <th>1</th>\n",
       "      <td>1.867</td>\n",
       "    </tr>\n",
       "    <tr>\n",
       "      <th>2</th>\n",
       "      <td>2.328</td>\n",
       "    </tr>\n",
       "    <tr>\n",
       "      <th rowspan=\"3\" valign=\"top\">Width</th>\n",
       "      <th>0</th>\n",
       "      <td>1.967</td>\n",
       "    </tr>\n",
       "    <tr>\n",
       "      <th>1</th>\n",
       "      <td>2.227</td>\n",
       "    </tr>\n",
       "    <tr>\n",
       "      <th>2</th>\n",
       "      <td>2.667</td>\n",
       "    </tr>\n",
       "  </tbody>\n",
       "</table>\n",
       "</div>"
      ],
      "text/plain": [
       "                             main\n",
       "variable      CVS_levels_3       \n",
       "Area          0             2.016\n",
       "              1             2.263\n",
       "              2             2.554\n",
       "Concentration 0             2.096\n",
       "              1             2.227\n",
       "              2             2.649\n",
       "Separation    0             2.130\n",
       "              1             1.867\n",
       "              2             2.328\n",
       "Width         0             1.967\n",
       "              1             2.227\n",
       "              2             2.667"
      ]
     },
     "execution_count": 43,
     "metadata": {},
     "output_type": "execute_result"
    }
   ],
   "source": [
    "per_variable = pd.pivot_table(data, values=['main'], index=['variable','CVS_levels_3'],aggfunc=(np.mean))\n",
    "per_variable"
   ]
  },
  {
   "cell_type": "code",
   "execution_count": 44,
   "metadata": {},
   "outputs": [
    {
     "name": "stdout",
     "output_type": "stream",
     "text": [
      "This plot needs to be redone with standard deviation bars and organized by sim, colored by level\n"
     ]
    },
    {
     "data": {
      "image/png": "[encoded data removed]",
      "text/plain": [
       "<matplotlib.figure.Figure at 0x118a8048>"
      ]
     },
     "metadata": {},
     "output_type": "display_data"
    }
   ],
   "source": [
    "per_variable.plot(kind='bar')\n",
    "print \"This plot needs to be redone with standard deviation bars and organized by sim, colored by level\""
   ]
  },
  {
   "cell_type": "markdown",
   "metadata": {},
   "source": [
    "### Width"
   ]
  },
  {
   "cell_type": "code",
   "execution_count": 45,
   "metadata": {
    "hideCode": true,
    "hidePrompt": true
   },
   "outputs": [
    {
     "name": "stdout",
     "output_type": "stream",
     "text": [
      "Model:  main ~ C(CVS_levels_3) + pre + C(sim_index) + level_experience_sims + experience_undergrad_lab_physics + used_similar_sim\n",
      "\n",
      "Anova table using type 3 errors\n",
      "\n",
      "                                  sum_sq     df        F     PR(>F)     eta_sq  omega_sq\n",
      "Intercept                         63.269    1.0  136.023  2.195e-22  4.444e-01     0.440\n",
      "C(CVS_levels_3)                   11.431    2.0   12.288  1.211e-05  8.029e-02     0.074\n",
      "C(sim_index)                       0.731    1.0    1.572  2.120e-01  5.135e-03     0.002\n",
      "pre                                0.294    1.0    0.633  4.277e-01  2.067e-03    -0.001\n",
      "level_experience_sims              0.053    1.0    0.115  7.351e-01  3.755e-04    -0.003\n",
      "experience_undergrad_lab_physics   0.216    1.0    0.465  4.962e-01  1.521e-03    -0.002\n",
      "used_similar_sim                   1.267    1.0    2.724  1.011e-01  8.900e-03     0.006\n",
      "Residual                          65.119  140.0      NaN        NaN        NaN       NaN\n",
      "\n",
      "Here is the linear model with coefficients and confidence intervals:\n",
      "\n",
      "                            OLS Regression Results                            \n",
      "==============================================================================\n",
      "Dep. Variable:                   main   R-squared:                       0.225\n",
      "Model:                            OLS   Adj. R-squared:                  0.187\n",
      "Method:                 Least Squares   F-statistic:                     5.822\n",
      "Date:                Sun, 28 Jan 2018   Prob (F-statistic):           6.12e-06\n",
      "Time:                        00:17:17   Log-Likelihood:                -149.25\n",
      "No. Observations:                 148   AIC:                             314.5\n",
      "Df Residuals:                     140   BIC:                             338.5\n",
      "Df Model:                           7                                         \n",
      "Covariance Type:            nonrobust                                         \n",
      "====================================================================================================\n",
      "                                       coef    std err          t      P>|t|      [0.025      0.975]\n",
      "----------------------------------------------------------------------------------------------------\n",
      "Intercept                            1.8910      0.162     11.663      0.000       1.570       2.212\n",
      "C(CVS_levels_3)[T.1]                 0.2479      0.177      1.402      0.163      -0.102       0.597\n",
      "C(CVS_levels_3)[T.2]                 0.6503      0.132      4.915      0.000       0.389       0.912\n",
      "C(sim_index)[T.2]                    0.1457      0.116      1.254      0.212      -0.084       0.375\n",
      "pre                                  0.0567      0.071      0.796      0.428      -0.084       0.198\n",
      "level_experience_sims               -0.0223      0.066     -0.339      0.735      -0.153       0.108\n",
      "experience_undergrad_lab_physics     0.1030      0.151      0.682      0.496      -0.195       0.401\n",
      "used_similar_sim                    -0.2101      0.127     -1.651      0.101      -0.462       0.042\n",
      "==============================================================================\n",
      "Omnibus:                       23.221   Durbin-Watson:                   2.262\n",
      "Prob(Omnibus):                  0.000   Jarque-Bera (JB):               30.546\n",
      "Skew:                          -0.905   Prob(JB):                     2.33e-07\n",
      "Kurtosis:                       4.295   Cond. No.                         9.76\n",
      "==============================================================================\n",
      "\n",
      "Warnings:\n",
      "[1] Standard Errors assume that the covariance matrix of the errors is correctly specified.\n"
     ]
    }
   ],
   "source": [
    "variable = 'Width'\n",
    "formula = 'main ~ C(CVS_levels_3) + pre + C(sim_index) + level_experience_sims + experience_undergrad_lab_physics + used_similar_sim'\n",
    "model = ols(formula, data[data['variable']==variable]).fit()\n",
    "print \"Model: \",formula\n",
    "aov_table = anova_lm(model, typ=3)\n",
    "eta_squared(aov_table)\n",
    "omega_squared(aov_table)\n",
    "print \"\\nAnova table using type 3 errors\\n\"\n",
    "print(aov_table)\n",
    "print \"\\nHere is the linear model with coefficients and confidence intervals:\\n\"\n",
    "print clean_summary(model)"
   ]
  },
  {
   "cell_type": "markdown",
   "metadata": {
    "hideCode": true,
    "hidePrompt": true
   },
   "source": [
    "### Concentration"
   ]
  },
  {
   "cell_type": "code",
   "execution_count": 46,
   "metadata": {
    "hideCode": true,
    "hidePrompt": true
   },
   "outputs": [
    {
     "name": "stdout",
     "output_type": "stream",
     "text": [
      "Model:  main ~ C(CVS_levels_3) + pre + C(sim_index) + level_experience_sims + experience_undergrad_lab_physics + used_similar_sim\n",
      "\n",
      "Anova table using type 3 errors\n",
      "\n",
      "                                  sum_sq     df        F     PR(>F)  eta_sq   omega_sq\n",
      "Intercept                         50.730    1.0  155.534  1.783e-24   0.456  4.517e-01\n",
      "C(CVS_levels_3)                   10.137    2.0   15.540  8.035e-07   0.091  8.500e-02\n",
      "C(sim_index)                       1.787    1.0    5.480  2.065e-02   0.016  1.309e-02\n",
      "pre                                1.413    1.0    4.333  3.919e-02   0.013  9.743e-03\n",
      "level_experience_sims              0.375    1.0    1.150  2.853e-01   0.003  4.395e-04\n",
      "experience_undergrad_lab_physics   0.491    1.0    1.505  2.219e-01   0.004  1.477e-03\n",
      "used_similar_sim                   0.665    1.0    2.038  1.557e-01   0.006  3.034e-03\n",
      "Residual                          45.664  140.0      NaN        NaN     NaN        NaN\n",
      "\n",
      "Here is the linear model with coefficients and confidence intervals:\n",
      "\n",
      "                            OLS Regression Results                            \n",
      "==============================================================================\n",
      "Dep. Variable:                   main   R-squared:                       0.255\n",
      "Model:                            OLS   Adj. R-squared:                  0.217\n",
      "Method:                 Least Squares   F-statistic:                     6.835\n",
      "Date:                Sun, 28 Jan 2018   Prob (F-statistic):           5.50e-07\n",
      "Time:                        00:17:17   Log-Likelihood:                -122.99\n",
      "No. Observations:                 148   AIC:                             262.0\n",
      "Df Residuals:                     140   BIC:                             285.9\n",
      "Df Model:                           7                                         \n",
      "Covariance Type:            nonrobust                                         \n",
      "====================================================================================================\n",
      "                                       coef    std err          t      P>|t|      [0.025      0.975]\n",
      "----------------------------------------------------------------------------------------------------\n",
      "Intercept                            1.8576      0.149     12.471      0.000       1.563       2.152\n",
      "C(CVS_levels_3)[T.1]                 0.1992      0.148      1.350      0.179      -0.093       0.491\n",
      "C(CVS_levels_3)[T.2]                 0.5764      0.105      5.474      0.000       0.368       0.785\n",
      "C(sim_index)[T.2]                    0.2261      0.097      2.341      0.021       0.035       0.417\n",
      "pre                                  0.1273      0.061      2.082      0.039       0.006       0.248\n",
      "level_experience_sims                0.0598      0.056      1.073      0.285      -0.050       0.170\n",
      "experience_undergrad_lab_physics    -0.1515      0.123     -1.227      0.222      -0.396       0.093\n",
      "used_similar_sim                    -0.1512      0.106     -1.428      0.156      -0.361       0.058\n",
      "==============================================================================\n",
      "Omnibus:                       14.895   Durbin-Watson:                   1.839\n",
      "Prob(Omnibus):                  0.001   Jarque-Bera (JB):               16.215\n",
      "Skew:                          -0.748   Prob(JB):                     0.000301\n",
      "Kurtosis:                       3.623   Cond. No.                         10.9\n",
      "==============================================================================\n",
      "\n",
      "Warnings:\n",
      "[1] Standard Errors assume that the covariance matrix of the errors is correctly specified.\n"
     ]
    }
   ],
   "source": [
    "variable = 'Concentration'\n",
    "formula = 'main ~ C(CVS_levels_3) + pre + C(sim_index) + level_experience_sims + experience_undergrad_lab_physics + used_similar_sim'\n",
    "model = ols(formula, data[data['variable']==variable]).fit()\n",
    "print \"Model: \",formula\n",
    "aov_table = anova_lm(model, typ=3)\n",
    "eta_squared(aov_table)\n",
    "omega_squared(aov_table)\n",
    "print \"\\nAnova table using type 3 errors\\n\"\n",
    "print(aov_table)\n",
    "print \"\\nHere is the linear model with coefficients and confidence intervals:\\n\"\n",
    "print clean_summary(model)"
   ]
  },
  {
   "cell_type": "markdown",
   "metadata": {
    "hideCode": true,
    "hidePrompt": true
   },
   "source": [
    "### Area"
   ]
  },
  {
   "cell_type": "code",
   "execution_count": 47,
   "metadata": {
    "hideCode": true,
    "hidePrompt": true
   },
   "outputs": [
    {
     "name": "stdout",
     "output_type": "stream",
     "text": [
      "Model:  main ~ C(CVS_levels_3) + pre + C(sim_index) + level_experience_sims + experience_undergrad_lab_physics + used_similar_sim\n",
      "\n",
      "Anova table using type 3 errors\n",
      "\n",
      "                                  sum_sq     df       F     PR(>F)     eta_sq  omega_sq\n",
      "Intercept                         38.905    1.0  91.240  5.889e-17  3.572e-01     0.352\n",
      "C(CVS_levels_3)                    5.753    2.0   6.746  1.596e-03  5.281e-02     0.045\n",
      "C(sim_index)                       0.038    1.0   0.090  7.647e-01  3.521e-04    -0.004\n",
      "pre                                3.764    1.0   8.827  3.495e-03  3.455e-02     0.031\n",
      "level_experience_sims              0.238    1.0   0.559  4.559e-01  2.189e-03    -0.002\n",
      "experience_undergrad_lab_physics   0.239    1.0   0.561  4.552e-01  2.195e-03    -0.002\n",
      "used_similar_sim                   0.295    1.0   0.692  4.070e-01  2.708e-03    -0.001\n",
      "Residual                          59.696  140.0     NaN        NaN        NaN       NaN\n",
      "\n",
      "Here is the linear model with coefficients and confidence intervals:\n",
      "\n",
      "                            OLS Regression Results                            \n",
      "==============================================================================\n",
      "Dep. Variable:                   main   R-squared:                       0.194\n",
      "Model:                            OLS   Adj. R-squared:                  0.154\n",
      "Method:                 Least Squares   F-statistic:                     4.819\n",
      "Date:                Sun, 28 Jan 2018   Prob (F-statistic):           6.91e-05\n",
      "Time:                        00:17:17   Log-Likelihood:                -142.81\n",
      "No. Observations:                 148   AIC:                             301.6\n",
      "Df Residuals:                     140   BIC:                             325.6\n",
      "Df Model:                           7                                         \n",
      "Covariance Type:            nonrobust                                         \n",
      "====================================================================================================\n",
      "                                       coef    std err          t      P>|t|      [0.025      0.975]\n",
      "----------------------------------------------------------------------------------------------------\n",
      "Intercept                            1.6168      0.169      9.552      0.000       1.282       1.951\n",
      "C(CVS_levels_3)[T.1]                 0.2011      0.173      1.165      0.246      -0.140       0.542\n",
      "C(CVS_levels_3)[T.2]                 0.4517      0.123      3.671      0.000       0.208       0.695\n",
      "C(sim_index)[T.2]                    0.0334      0.111      0.300      0.765      -0.187       0.253\n",
      "pre                                  0.1970      0.066      2.971      0.003       0.066       0.328\n",
      "level_experience_sims                0.0466      0.062      0.748      0.456      -0.077       0.170\n",
      "experience_undergrad_lab_physics     0.1067      0.142      0.749      0.455      -0.175       0.388\n",
      "used_similar_sim                     0.1614      0.194      0.832      0.407      -0.222       0.545\n",
      "==============================================================================\n",
      "Omnibus:                       36.670   Durbin-Watson:                   2.052\n",
      "Prob(Omnibus):                  0.000   Jarque-Bera (JB):               71.746\n",
      "Skew:                          -1.111   Prob(JB):                     2.63e-16\n",
      "Kurtosis:                       5.589   Cond. No.                         10.5\n",
      "==============================================================================\n",
      "\n",
      "Warnings:\n",
      "[1] Standard Errors assume that the covariance matrix of the errors is correctly specified.\n"
     ]
    }
   ],
   "source": [
    "variable = 'Area'\n",
    "formula = 'main ~ C(CVS_levels_3) + pre + C(sim_index) + level_experience_sims + experience_undergrad_lab_physics + used_similar_sim'\n",
    "model = ols(formula, data[data['variable']==variable]).fit()\n",
    "print \"Model: \",formula\n",
    "aov_table = anova_lm(model, typ=3)\n",
    "eta_squared(aov_table)\n",
    "omega_squared(aov_table)\n",
    "print \"\\nAnova table using type 3 errors\\n\"\n",
    "print(aov_table)\n",
    "print \"\\nHere is the linear model with coefficients and confidence intervals:\\n\"\n",
    "print clean_summary(model)"
   ]
  },
  {
   "cell_type": "markdown",
   "metadata": {
    "hideCode": true,
    "hidePrompt": true
   },
   "source": [
    "### Separation"
   ]
  },
  {
   "cell_type": "code",
   "execution_count": 48,
   "metadata": {
    "hideCode": true,
    "hidePrompt": true
   },
   "outputs": [
    {
     "name": "stdout",
     "output_type": "stream",
     "text": [
      "Model:  main ~ C(CVS_levels_3) + pre + C(sim_index) + level_experience_sims + experience_undergrad_lab_physics + used_similar_sim\n",
      "\n",
      "Anova table using type 3 errors\n",
      "\n",
      "                                  sum_sq     df       F     PR(>F)     eta_sq   omega_sq\n",
      "Intercept                         32.564    1.0  76.502  6.240e-15  3.263e-01  3.206e-01\n",
      "C(CVS_levels_3)                    1.804    2.0   2.119  1.240e-01  1.808e-02  9.506e-03\n",
      "C(sim_index)                       1.353    1.0   3.179  7.674e-02  1.356e-02  9.256e-03\n",
      "pre                                3.491    1.0   8.202  4.828e-03  3.498e-02  3.059e-02\n",
      "level_experience_sims              0.432    1.0   1.016  3.153e-01  4.331e-03  6.585e-05\n",
      "experience_undergrad_lab_physics   0.495    1.0   1.163  2.827e-01  4.959e-03  6.916e-04\n",
      "used_similar_sim                   0.073    1.0   0.172  6.786e-01  7.351e-04 -3.515e-03\n",
      "Residual                          59.593  140.0     NaN        NaN        NaN        NaN\n",
      "\n",
      "Here is the linear model with coefficients and confidence intervals:\n",
      "\n",
      "                            OLS Regression Results                            \n",
      "==============================================================================\n",
      "Dep. Variable:                   main   R-squared:                       0.133\n",
      "Model:                            OLS   Adj. R-squared:                  0.089\n",
      "Method:                 Least Squares   F-statistic:                     3.057\n",
      "Date:                Sun, 28 Jan 2018   Prob (F-statistic):            0.00503\n",
      "Time:                        00:17:17   Log-Likelihood:                -142.69\n",
      "No. Observations:                 148   AIC:                             301.4\n",
      "Df Residuals:                     140   BIC:                             325.4\n",
      "Df Model:                           7                                         \n",
      "Covariance Type:            nonrobust                                         \n",
      "====================================================================================================\n",
      "                                       coef    std err          t      P>|t|      [0.025      0.975]\n",
      "----------------------------------------------------------------------------------------------------\n",
      "Intercept                            1.5619      0.179      8.747      0.000       1.209       1.915\n",
      "C(CVS_levels_3)[T.1]                -0.2860      0.187     -1.526      0.129      -0.657       0.085\n",
      "C(CVS_levels_3)[T.2]                 0.1026      0.118      0.868      0.387      -0.131       0.336\n",
      "C(sim_index)[T.2]                    0.1972      0.111      1.783      0.077      -0.021       0.416\n",
      "pre                                  0.2024      0.071      2.864      0.005       0.063       0.342\n",
      "level_experience_sims                0.0631      0.063      1.008      0.315      -0.061       0.187\n",
      "experience_undergrad_lab_physics     0.1546      0.143      1.078      0.283      -0.129       0.438\n",
      "used_similar_sim                     0.0807      0.194      0.415      0.679      -0.304       0.465\n",
      "==============================================================================\n",
      "Omnibus:                        8.191   Durbin-Watson:                   2.222\n",
      "Prob(Omnibus):                  0.017   Jarque-Bera (JB):                7.939\n",
      "Skew:                          -0.533   Prob(JB):                       0.0189\n",
      "Kurtosis:                       3.388   Cond. No.                         11.0\n",
      "==============================================================================\n",
      "\n",
      "Warnings:\n",
      "[1] Standard Errors assume that the covariance matrix of the errors is correctly specified.\n"
     ]
    }
   ],
   "source": [
    "variable = 'Separation'\n",
    "formula = 'main ~ C(CVS_levels_3) + pre + C(sim_index) + level_experience_sims + experience_undergrad_lab_physics + used_similar_sim'\n",
    "model = ols(formula, data[data['variable']==variable]).fit()\n",
    "print \"Model: \",formula\n",
    "aov_table = anova_lm(model, typ=3)\n",
    "eta_squared(aov_table)\n",
    "omega_squared(aov_table)\n",
    "print \"\\nAnova table using type 3 errors\\n\"\n",
    "print(aov_table)\n",
    "print \"\\nHere is the linear model with coefficients and confidence intervals:\\n\"\n",
    "print clean_summary(model)"
   ]
  },
  {
   "cell_type": "markdown",
   "metadata": {
    "hideCode": true,
    "hidePrompt": true
   },
   "source": [
    "Findings:\n",
    "* CVS_levels=2 (graph) matters for all except Separation\n",
    "* Pre matters for all except Width"
   ]
  },
  {
   "cell_type": "markdown",
   "metadata": {
    "hideCode": true,
    "hidePrompt": true
   },
   "source": [
    "# What affects use CVS-like inquiry strategies?"
   ]
  },
  {
   "cell_type": "markdown",
   "metadata": {
    "hideCode": true,
    "hideOutput": true,
    "hidePrompt": true
   },
   "source": [
    "For some reason adding students in the matric turns it into a singular matrix and fails the analysis. Probably because two students are exactly identical?"
   ]
  },
  {
   "cell_type": "markdown",
   "metadata": {
    "hideCode": true,
    "hidePrompt": true
   },
   "source": [
    "## Overall, how much to they use it?"
   ]
  },
  {
   "cell_type": "code",
   "execution_count": 49,
   "metadata": {},
   "outputs": [],
   "source": [
    "data['CVS_table'] = data['CVS_table_3']\n",
    "data['CVS_graph'] = data['CVS_graph_3']\n",
    "sums = pd.pivot_table(data, values=['CVS_table','CVS_graph'], index=['sid'], aggfunc=np.sum)"
   ]
  },
  {
   "cell_type": "code",
   "execution_count": 50,
   "metadata": {},
   "outputs": [
    {
     "name": "stdout",
     "output_type": "stream",
     "text": [
      "81% of students use CVS table once and 35% do it for all variables.\n",
      "65% of students use CVS graph once and 26% do it for all variables.\n"
     ]
    }
   ],
   "source": [
    "once = len(sums[sums['CVS_table']>0])/float(N)*100\n",
    "all4 = len(sums[sums['CVS_table']==4])/float(N)*100\n",
    "print \"{0}% of students use CVS table once and {1}% do it for all variables.\".format(int(once),int(all4))\n",
    "once = len(sums[sums['CVS_graph']>0])/float(N)*100\n",
    "all4 = len(sums[sums['CVS_graph']==4])/float(N)*100\n",
    "print \"{0}% of students use CVS graph once and {1}% do it for all variables.\".format(int(once),int(all4))"
   ]
  },
  {
   "cell_type": "markdown",
   "metadata": {},
   "source": [
    "## Are they consistent in their usage of CVS graph?"
   ]
  },
  {
   "cell_type": "code",
   "execution_count": 51,
   "metadata": {},
   "outputs": [],
   "source": [
    "sums2 = pd.pivot_table(data, values=['CVS_graph'], index=['sid','sim'], aggfunc=np.sum)\n",
    "sums2 = sums2.reset_index(level=['sim','sid'])\n",
    "# sums2.head()"
   ]
  },
  {
   "cell_type": "code",
   "execution_count": 52,
   "metadata": {
    "hideCode": true,
    "hidePrompt": true
   },
   "outputs": [
    {
     "data": {
      "text/plain": [
       "<matplotlib.text.Text at 0x14fc71d0>"
      ]
     },
     "execution_count": 52,
     "metadata": {},
     "output_type": "execute_result"
    },
    {
     "data": {
      "image/png": "[encoded data removed]",
      "text/plain": [
       "<matplotlib.figure.Figure at 0x14fe0dd8>"
      ]
     },
     "metadata": {},
     "output_type": "display_data"
    }
   ],
   "source": [
    "cvs_sim = np.zeros((3,3),dtype=int)\n",
    "for i in range(3):\n",
    "    for j in range(3):\n",
    "        cvs_sim[i,j] = len(set(sums2[(sums2['sim']=='C')&(sums2['CVS_graph']==i)]['sid'])&set(sums2[(sums2['sim']=='L')&(sums2['CVS_graph']==j)]['sid']))\n",
    "ax = sns.heatmap(np.flip(cvs_sim,0),annot=True, fmt=\"d\")\n",
    "ax.set_xticklabels(['0/2','1/2','2/2'])\n",
    "ax.set_yticklabels(['0/2','1/2','2/2'])\n",
    "plt.xlabel('Number of light absorbance variables')\n",
    "plt.ylabel('Number of Caps variables')\n",
    "plt.title('Map of student use of CVS in their graph for variables per simulation')"
   ]
  },
  {
   "cell_type": "markdown",
   "metadata": {
    "hideCode": true,
    "hidePrompt": true
   },
   "source": [
    "High usage is consistent. If they do CVS with 1 variable in one sim, they do it with 2 in the other (probaly second sim).We'll see how order makes a difference later."
   ]
  },
  {
   "cell_type": "markdown",
   "metadata": {
    "hideCode": true,
    "hidePrompt": true
   },
   "source": [
    "## How does incoming knowledge affect doing CVS"
   ]
  },
  {
   "cell_type": "code",
   "execution_count": 53,
   "metadata": {},
   "outputs": [],
   "source": [
    "# export_data = data[[\"sid\",\"variable\",\"pre\",\"main\",\"sim\",\"CVS_graph\",\"sim_index\"]]\n",
    "# export_data.to_csv('dataframe for logreg of CVS.csv')"
   ]
  },
  {
   "cell_type": "code",
   "execution_count": 54,
   "metadata": {
    "hideCode": true,
    "hidePrompt": true
   },
   "outputs": [
    {
     "name": "stdout",
     "output_type": "stream",
     "text": [
      "model:  CVS_graph ~ pre*variable + C(sim_index)*variable + pre*C(sim_index) + C(sim) + level_experience_sims + experience_undergrad_lab_physics + used_similar_sim \n",
      "\n",
      "Optimization terminated successfully.\n",
      "         Current function value: 0.639344\n",
      "         Iterations 5\n",
      "                           Logit Regression Results                           \n",
      "==============================================================================\n",
      "Dep. Variable:              CVS_graph   No. Observations:                  592\n",
      "Model:                          Logit   Df Residuals:                      576\n",
      "Method:                           MLE   Df Model:                           15\n",
      "Date:                Sun, 28 Jan 2018   Pseudo R-squ.:                 0.07204\n",
      "Time:                        00:17:18   Log-Likelihood:                -378.49\n",
      "converged:                       True   LL-Null:                       -407.88\n",
      "                                        LLR p-value:                 4.097e-07\n",
      "===============================================================================================================\n",
      "                                                  coef    std err          z      P>|z|      [0.025      0.975]\n",
      "---------------------------------------------------------------------------------------------------------------\n",
      "Intercept                                      -2.0500      0.455     -4.506      0.000      -2.942      -1.158\n",
      "variable[T.Concentration]                       0.6842   8.47e+06   8.08e-08      1.000   -1.66e+07    1.66e+07\n",
      "variable[T.Separation]                          0.2050      0.551      0.372      0.710      -0.876       1.285\n",
      "variable[T.Width]                              -0.3879   8.47e+06  -4.58e-08      1.000   -1.66e+07    1.66e+07\n",
      "C(sim_index)[T.2]                               0.5862      0.445      1.319      0.187      -0.285       1.458\n",
      "C(sim)[T.L]                                     0.2963   8.47e+06    3.5e-08      1.000   -1.66e+07    1.66e+07\n",
      "C(sim_index)[T.2]:variable[T.Concentration]    -0.7780      0.493     -1.579      0.114      -1.744       0.188\n",
      "C(sim_index)[T.2]:variable[T.Separation]       -0.2640      0.496     -0.532      0.595      -1.237       0.709\n",
      "C(sim_index)[T.2]:variable[T.Width]            -0.5593      0.503     -1.112      0.266      -1.545       0.427\n",
      "pre                                             0.0675      0.239      0.283      0.777      -0.400       0.535\n",
      "pre:variable[T.Concentration]                  -0.2661      0.305     -0.872      0.383      -0.864       0.332\n",
      "pre:variable[T.Separation]                     -0.0643      0.308     -0.209      0.835      -0.669       0.540\n",
      "pre:variable[T.Width]                           0.4290      0.310      1.385      0.166      -0.178       1.036\n",
      "pre:C(sim_index)[T.2]                           0.2883      0.221      1.303      0.193      -0.145       0.722\n",
      "level_experience_sims                           0.2731      0.102      2.679      0.007       0.073       0.473\n",
      "experience_undergrad_lab_physics                0.8845      0.239      3.704      0.000       0.416       1.353\n",
      "used_similar_sim                                0.0757      0.229      0.330      0.741      -0.374       0.525\n",
      "===============================================================================================================\n"
     ]
    }
   ],
   "source": [
    "formula = 'CVS_graph ~ pre*variable + C(sim_index)*variable + pre*C(sim_index) + C(sim) + level_experience_sims + experience_undergrad_lab_physics + used_similar_sim'\n",
    "print 'model: ', formula,'\\n'\n",
    "from patsy import dmatrices\n",
    "Y, X = dmatrices(formula, data, return_type = 'dataframe')\n",
    "# print X.columns\n",
    "logit = Logit(Y, X)\n",
    "model = logit.fit()\n",
    "print model.summary()\n",
    "# aov_table = anova_lm(model)\n",
    "# eta_squared(aov_table)\n",
    "# omega_squared(aov_table)\n",
    "# # print \"\\nAnova table using type 2 errors\\n\"\n",
    "# print(aov_table)"
   ]
  },
  {
   "cell_type": "markdown",
   "metadata": {},
   "source": [
    "### Parismonious model"
   ]
  },
  {
   "cell_type": "code",
   "execution_count": 55,
   "metadata": {},
   "outputs": [
    {
     "name": "stdout",
     "output_type": "stream",
     "text": [
      "model:  CVS_graph ~ pre + variable + C(sim_index) + C(sim) + level_experience_sims + experience_undergrad_lab_physics + used_similar_sim \n",
      "\n",
      "Optimization terminated successfully.\n",
      "         Current function value: 0.647876\n",
      "         Iterations 5\n",
      "                           Logit Regression Results                           \n",
      "==============================================================================\n",
      "Dep. Variable:              CVS_graph   No. Observations:                  592\n",
      "Model:                          Logit   Df Residuals:                      583\n",
      "Method:                           MLE   Df Model:                            8\n",
      "Date:                Sun, 28 Jan 2018   Pseudo R-squ.:                 0.05966\n",
      "Time:                        00:17:18   Log-Likelihood:                -383.54\n",
      "converged:                       True   LL-Null:                       -407.88\n",
      "                                        LLR p-value:                 7.359e-08\n",
      "====================================================================================================\n",
      "                                       coef    std err          z      P>|z|      [0.025      0.975]\n",
      "----------------------------------------------------------------------------------------------------\n",
      "Intercept                           -1.9615      0.326     -6.020      0.000      -2.600      -1.323\n",
      "variable[T.Concentration]            0.1385        nan        nan        nan         nan         nan\n",
      "variable[T.Separation]              -0.0475      0.243     -0.195      0.845      -0.524       0.429\n",
      "variable[T.Width]                   -0.0355        nan        nan        nan         nan         nan\n",
      "C(sim_index)[T.2]                    0.5393      0.173      3.116      0.002       0.200       0.879\n",
      "C(sim)[T.L]                          0.1030        nan        nan        nan         nan         nan\n",
      "pre                                  0.2233      0.108      2.071      0.038       0.012       0.435\n",
      "level_experience_sims                0.2475      0.100      2.466      0.014       0.051       0.444\n",
      "experience_undergrad_lab_physics     0.8670      0.235      3.686      0.000       0.406       1.328\n",
      "used_similar_sim                     0.0808      0.226      0.357      0.721      -0.362       0.524\n",
      "====================================================================================================\n"
     ]
    },
    {
     "name": "stderr",
     "output_type": "stream",
     "text": [
      "d:\\applications\\anaconda2\\lib\\site-packages\\statsmodels\\base\\model.py:1029: RuntimeWarning: invalid value encountered in sqrt\n",
      "  return np.sqrt(np.diag(self.cov_params()))\n",
      "d:\\applications\\anaconda2\\lib\\site-packages\\scipy\\stats\\_distn_infrastructure.py:879: RuntimeWarning: invalid value encountered in greater\n",
      "  return (self.a < x) & (x < self.b)\n",
      "d:\\applications\\anaconda2\\lib\\site-packages\\scipy\\stats\\_distn_infrastructure.py:879: RuntimeWarning: invalid value encountered in less\n",
      "  return (self.a < x) & (x < self.b)\n",
      "d:\\applications\\anaconda2\\lib\\site-packages\\scipy\\stats\\_distn_infrastructure.py:1818: RuntimeWarning: invalid value encountered in less_equal\n",
      "  cond2 = cond0 & (x <= self.a)\n"
     ]
    }
   ],
   "source": [
    "formula = 'CVS_graph ~ pre + variable + C(sim_index) + C(sim) + level_experience_sims + experience_undergrad_lab_physics + used_similar_sim'\n",
    "print 'model: ', formula,'\\n'\n",
    "from patsy import dmatrices\n",
    "Y, X = dmatrices(formula, data, return_type = 'dataframe')\n",
    "# print X.columns\n",
    "logit = Logit(Y, X)\n",
    "model = logit.fit()\n",
    "print model.summary()\n",
    "# aov_table = anova_lm(model)\n",
    "# eta_squared(aov_table)\n",
    "# omega_squared(aov_table)\n",
    "# # print \"\\nAnova table using type 2 errors\\n\"\n",
    "# print(aov_table)"
   ]
  },
  {
   "cell_type": "markdown",
   "metadata": {
    "hideCode": true,
    "hidePrompt": true
   },
   "source": [
    "In order of what affects CVS_graph most:\n",
    "* experience in undergraduate labs\n",
    "* order\n",
    "* level of experience in sims\n",
    "* prior knowledge\n",
    "\n",
    "Having used a similar sim doesn't matter, variable doesn't matter and sim doesn't matter."
   ]
  },
  {
   "cell_type": "markdown",
   "metadata": {},
   "source": [
    "### post hoc of experience in undergraduate labs"
   ]
  },
  {
   "cell_type": "code",
   "execution_count": 56,
   "metadata": {},
   "outputs": [
    {
     "name": "stdout",
     "output_type": "stream",
     "text": [
      "Here is prob that they do CVS graph depending on the experience_undergrad_lab_physics\n"
     ]
    },
    {
     "data": {
      "text/plain": [
       "<matplotlib.axes._subplots.AxesSubplot at 0x152cab70>"
      ]
     },
     "execution_count": 56,
     "metadata": {},
     "output_type": "execute_result"
    },
    {
     "data": {
      "image/png": "[encoded data removed]",
      "text/plain": [
       "<matplotlib.figure.Figure at 0x152ca630>"
      ]
     },
     "metadata": {},
     "output_type": "display_data"
    }
   ],
   "source": [
    "cvs_exp = pd.pivot_table(data, values=['CVS_graph'], index=['experience_undergrad_lab_physics'],aggfunc=(np.mean,np.std))\n",
    "print \"Here is prob that they do CVS graph depending on the experience_undergrad_lab_physics\"\n",
    "cvs_exp['CVS_graph']['mean'].plot.bar(yerr=cvs_exp['CVS_graph']['std'])"
   ]
  },
  {
   "cell_type": "markdown",
   "metadata": {},
   "source": [
    "### post hoc of activity order"
   ]
  },
  {
   "cell_type": "code",
   "execution_count": 57,
   "metadata": {},
   "outputs": [
    {
     "name": "stdout",
     "output_type": "stream",
     "text": [
      "Here is prob that they do CVS graph depending on sim_index\n"
     ]
    },
    {
     "data": {
      "text/plain": [
       "<matplotlib.axes._subplots.AxesSubplot at 0x152f7358>"
      ]
     },
     "execution_count": 57,
     "metadata": {},
     "output_type": "execute_result"
    },
    {
     "data": {
      "image/png": "[encoded data removed]",
      "text/plain": [
       "<matplotlib.figure.Figure at 0x1539d908>"
      ]
     },
     "metadata": {},
     "output_type": "display_data"
    }
   ],
   "source": [
    "cvs_exp = pd.pivot_table(data, values=['CVS_graph'], index=['sim_index'],aggfunc=(np.mean,np.std))\n",
    "print \"Here is prob that they do CVS graph depending on sim_index\"\n",
    "cvs_exp['CVS_graph']['mean'].plot.bar(yerr=cvs_exp['CVS_graph']['std'])"
   ]
  },
  {
   "cell_type": "markdown",
   "metadata": {},
   "source": [
    "### post hoc of experience with sims"
   ]
  },
  {
   "cell_type": "code",
   "execution_count": 58,
   "metadata": {},
   "outputs": [
    {
     "name": "stdout",
     "output_type": "stream",
     "text": [
      "Here is prob that they do CVS graph depending on level_experience_sims\n",
      "where:\n",
      " 0 -> None\n",
      " 1 -> 1-2 (roughly)\n",
      " 2 -> 3-5 (roughly)\n",
      " 3 -> 6+ (roughly)\n"
     ]
    },
    {
     "data": {
      "image/png": "[encoded data removed]",
      "text/plain": [
       "<matplotlib.figure.Figure at 0x15525358>"
      ]
     },
     "metadata": {},
     "output_type": "display_data"
    }
   ],
   "source": [
    "cvs_exp = pd.pivot_table(data, values=['CVS_graph'], index=['level_experience_sims'],aggfunc=(np.mean,np.std))\n",
    "print \"Here is prob that they do CVS graph depending on level_experience_sims\"\n",
    "cvs_exp['CVS_graph']['mean'].plot.bar(yerr=cvs_exp['CVS_graph']['std'])\n",
    "print '''where:\n",
    " 0 -> None\n",
    " 1 -> 1-2 (roughly)\n",
    " 2 -> 3-5 (roughly)\n",
    " 3 -> 6+ (roughly)'''"
   ]
  },
  {
   "cell_type": "markdown",
   "metadata": {},
   "source": [
    "### post hoc of pre"
   ]
  },
  {
   "cell_type": "code",
   "execution_count": 59,
   "metadata": {},
   "outputs": [
    {
     "name": "stdout",
     "output_type": "stream",
     "text": [
      "Here is the avg pre score of students depending if they do CVS graph or not\n"
     ]
    },
    {
     "data": {
      "text/plain": [
       "<matplotlib.axes._subplots.AxesSubplot at 0x153e2320>"
      ]
     },
     "execution_count": 59,
     "metadata": {},
     "output_type": "execute_result"
    },
    {
     "data": {
      "image/png": "[encoded data removed]",
      "text/plain": [
       "<matplotlib.figure.Figure at 0x14ee2518>"
      ]
     },
     "metadata": {},
     "output_type": "display_data"
    }
   ],
   "source": [
    "cvs_pre = pd.pivot_table(data, values=['CVS_graph'], index=['pre'],aggfunc=(np.mean,np.std))\n",
    "print \"Here is the avg pre score of students depending if they do CVS graph or not\"\n",
    "cvs_pre['CVS_graph']['mean'].plot.bar(yerr=cvs_pre['CVS_graph']['std'])"
   ]
  }
 ],
 "metadata": {
  "anaconda-cloud": {},
  "celltoolbar": "Hide code",
  "hide_code_all_hidden": true,
  "kernelspec": {
   "display_name": "Python 2",
   "language": "python",
   "name": "python2"
  },
  "language_info": {
   "codemirror_mode": {
    "name": "ipython",
    "version": 2
   },
   "file_extension": ".py",
   "mimetype": "text/x-python",
   "name": "python",
   "nbconvert_exporter": "python",
   "pygments_lexer": "ipython2",
   "version": "2.7.13"
  },
  "toc": {
   "nav_menu": {},
   "number_sections": true,
   "sideBar": false,
   "skip_h1_title": false,
   "toc_cell": false,
   "toc_position": {},
   "toc_section_display": "block",
   "toc_window_display": false
  }
 },
 "nbformat": 4,
 "nbformat_minor": 2
}
