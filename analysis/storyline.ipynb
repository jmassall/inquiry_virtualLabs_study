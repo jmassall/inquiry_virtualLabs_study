{
 "cells": [
  {
   "cell_type": "markdown",
   "metadata": {
    "hideCode": false,
    "hidePrompt": true
   },
   "source": [
    "This notebook organizes all the results in the \"analysis\" folder within a concrete storyline"
   ]
  },
  {
   "cell_type": "code",
   "execution_count": 1,
   "metadata": {
    "collapsed": false,
    "hideCode": false,
    "hidePrompt": true,
    "scrolled": true
   },
   "outputs": [
    {
     "data": {
      "text/html": [
       "<script>jQuery(function() {if (jQuery(\"body.notebook_app\").length == 0) { jQuery(\".input_area\").toggle(); jQuery(\".prompt\").toggle();}});</script>"
      ]
     },
     "metadata": {},
     "output_type": "display_data"
    }
   ],
   "source": [
    "from IPython.display import display\n",
    "from IPython.display import HTML\n",
    "import IPython.core.display as di\n",
    "\n",
    "# This line will hide code by default when the notebook is converted to HTML\n",
    "di.display_html('<script>jQuery(function() {if (jQuery(\"body.notebook_app\").length == 0) { jQuery(\".input_area\").toggle(); jQuery(\".prompt\").toggle();}});</script>', raw=True)"
   ]
  },
  {
   "cell_type": "code",
   "execution_count": 2,
   "metadata": {
    "collapsed": false,
    "hideCode": false,
    "hidePrompt": true
   },
   "outputs": [],
   "source": [
    "%load_ext autoreload\n",
    "%autoreload 1\n",
    "%aimport utils_read_parsing\n",
    "from utils_timeline_viz import *\n",
    "from utils_read_parsing import *\n",
    "import matplotlib.pyplot as plt\n",
    "from tabulate import tabulate\n",
    "from scipy.stats import ranksums\n",
    "import seaborn as sns\n",
    "import statsmodels.api as sm\n",
    "pd.set_option(\"display.width\", 100)\n",
    "import matplotlib.pyplot as plt\n",
    "from statsmodels.formula.api import ols\n",
    "from statsmodels.graphics.api import interaction_plot, abline_plot\n",
    "from statsmodels.stats.anova import anova_lm\n",
    "from statsmodels.discrete.discrete_model import Logit\n",
    "%matplotlib inline\n",
    "matplotlib.style.use('ggplot')\n",
    "matplotlib.rcParams['figure.figsize'] = 7, 4\n",
    "pd.set_option('precision',3)\n",
    "np.set_printoptions(precision=3,suppress=True)"
   ]
  },
  {
   "cell_type": "markdown",
   "metadata": {
    "hideCode": false,
    "hidePrompt": true
   },
   "source": [
    "# Preparing the data\n",
    "We wish to have a table that looks like:"
   ]
  },
  {
   "cell_type": "code",
   "execution_count": 3,
   "metadata": {
    "collapsed": false,
    "hideCode": false,
    "hidePrompt": true
   },
   "outputs": [
    {
     "name": "stdout",
     "output_type": "stream",
     "text": [
      "-------  --------  ---  -----  -----  ---  ---------  ---------\n",
      "student  variable  pre  post   index  sim  CVS table  CVS graph\n",
      "s1       v1        1.0  2.333  1      L    Yes        No\n",
      "s1       v2        ...  ...    1      L    Yes        Yes\n",
      "s1       v3        ...  ...    2      C    No         No\n",
      "s1       v4        ...  ...    2      C    Yes        No\n",
      "-------  --------  ---  -----  -----  ---  ---------  ---------\n"
     ]
    }
   ],
   "source": [
    "t = [['student','variable','pre','post','index','sim','CVS table','CVS graph']]\n",
    "t.append(['s1','v1','1.0','2.333','1','L','Yes','No'])\n",
    "t.append(['s1','v2','...','...','1','L','Yes','Yes'])\n",
    "t.append(['s1','v3','...','...','2','C','No','No'])\n",
    "t.append(['s1','v4','...','...','2','C','Yes','No'])\n",
    "print tabulate(t)"
   ]
  },
  {
   "cell_type": "markdown",
   "metadata": {
    "hideCode": false,
    "hidePrompt": true
   },
   "source": [
    "## Grabing the CVS data..."
   ]
  },
  {
   "cell_type": "code",
   "execution_count": 4,
   "metadata": {
    "collapsed": true,
    "hideCode": false,
    "hidePrompt": true
   },
   "outputs": [],
   "source": [
    "table_cvs_df = pd.read_csv('table_cvs_results.txt', sep='\\t')\n",
    "graph_cvs_df = pd.read_csv('graph_cvs_results.txt', sep='\\t')"
   ]
  },
  {
   "cell_type": "code",
   "execution_count": 5,
   "metadata": {
    "collapsed": true,
    "hideCode": false,
    "hidePrompt": true
   },
   "outputs": [],
   "source": [
    "metadf = get_student_metadata()\n",
    "order = dict(zip(metadf.index,metadf['activity order']))\n",
    "graph_cvs_df['activity order'] = graph_cvs_df.studentid.apply(lambda sid: order[sid])\n",
    "table_cvs_df['activity order'] = table_cvs_df.studentid.apply(lambda sid: order[sid])"
   ]
  },
  {
   "cell_type": "code",
   "execution_count": 6,
   "metadata": {
    "collapsed": false,
    "hideCode": false,
    "hidePrompt": true
   },
   "outputs": [],
   "source": [
    "variables = [\"Area\",\"Separation\",\"Width\",\"Concentration\",\"Wavelength\",\"Battery voltage\"]\n",
    "\n",
    "def binarize(threshold,number):\n",
    "    if number>= threshold : return 1\n",
    "    else: return 0\n",
    "    \n",
    "# Given that we want to compare the stringency of CVS, we created different definitions with 2,3,4 points needed\n",
    "\n",
    "graph_cvs_2_df = graph_cvs_df.copy()\n",
    "graph_cvs_3_df = graph_cvs_df.copy()\n",
    "graph_cvs_4_df = graph_cvs_df.copy()\n",
    "graph_cvs_5_df = graph_cvs_df.copy()\n",
    "for v in variables:\n",
    "    graph_cvs_2_df[v] = graph_cvs_df.apply(lambda row: binarize(2,row[v]), axis=1)\n",
    "    graph_cvs_3_df[v] = graph_cvs_df.apply(lambda row: binarize(3,row[v]), axis=1)\n",
    "    graph_cvs_4_df[v] = graph_cvs_df.apply(lambda row: binarize(4,row[v]), axis=1)\n",
    "    graph_cvs_5_df[v] = graph_cvs_df.apply(lambda row: binarize(5,row[v]), axis=1)\n",
    "\n",
    "table_cvs_2_df = table_cvs_df.copy()\n",
    "table_cvs_3_df = table_cvs_df.copy()\n",
    "table_cvs_4_df = table_cvs_df.copy()\n",
    "table_cvs_5_df = table_cvs_df.copy()\n",
    "for v in variables:\n",
    "    table_cvs_2_df[v] = table_cvs_df.apply(lambda row: binarize(2,row[v]), axis=1)\n",
    "    table_cvs_3_df[v] = table_cvs_df.apply(lambda row: binarize(3,row[v]), axis=1)\n",
    "    table_cvs_4_df[v] = table_cvs_df.apply(lambda row: binarize(4,row[v]), axis=1)\n",
    "    table_cvs_5_df[v] = table_cvs_df.apply(lambda row: binarize(5,row[v]), axis=1)"
   ]
  },
  {
   "cell_type": "code",
   "execution_count": 7,
   "metadata": {
    "collapsed": true,
    "hideCode": true,
    "hidePrompt": true
   },
   "outputs": [],
   "source": [
    "# table_intervals_df = pd.read_csv('table_intervals_results.txt', sep='\\t')"
   ]
  },
  {
   "cell_type": "markdown",
   "metadata": {
    "hideCode": true,
    "hidePrompt": true
   },
   "source": [
    "## Grabbing the worksheet data"
   ]
  },
  {
   "cell_type": "code",
   "execution_count": 8,
   "metadata": {
    "collapsed": true,
    "hideCode": true,
    "hidePrompt": true
   },
   "outputs": [],
   "source": [
    "%reload_ext utils_read_parsing\n",
    "#grab worksheet data\n",
    "worksheets = get_worksheet_metadata('beers')\n",
    "pre = get_pre_worksheet(sim='beers')\n",
    "main = get_main_worksheet(sim='beers')\n",
    "\n",
    "ids = get_students_to_analyze_log_worksheets('beers')\n",
    "pre= pre[pre['Student ID'].isin(worksheets[(worksheets['Type']=='p')&worksheets['Student ID'].isin(ids)]['other id'].values)]\n",
    "main= main[main['Student ID'].isin(worksheets[(worksheets['Type']=='m')&worksheets['Student ID'].isin(ids)]['other id'].values)]\n",
    "\n",
    "#ids in pre/post match \"other id\" in worksheet metdata so we need to assign the correct id in logs for each entry in pre/post\n",
    "pre['sid'] = pre['Student ID'].apply(lambda row: worksheets.loc[worksheets[(worksheets['other id']==row)].index[0],'Student ID'])\n",
    "main['sid'] = main['Student ID'].apply(lambda row: worksheets.loc[worksheets[worksheets['other id']==row].index[0],'Student ID'])\n",
    "\n",
    "# print len(ids),len(pre),len(main)"
   ]
  },
  {
   "cell_type": "code",
   "execution_count": 9,
   "metadata": {
    "collapsed": true,
    "hideCode": true,
    "hidePrompt": true
   },
   "outputs": [],
   "source": [
    "## make desired table for beers\n",
    "melted_pre = pd.melt(pre, id_vars=['sid'], value_vars=['Concentration','Width'], var_name='variable',value_name='pre')\n",
    "melted_main = pd.melt(main, id_vars=['sid'], value_vars=['Concentration','Width'], var_name='variable',value_name='main')\n",
    "\n",
    "L_scores = melted_pre.merge(melted_main, on=['sid','variable'], how='outer')\n",
    "L_scores['sim'] = 'L'\n",
    "\n",
    "L_scores['CVS_table_2'] = L_scores.apply(lambda row: table_cvs_2_df.loc[table_cvs_2_df[table_cvs_2_df['studentid']==row['sid']].index[0],row['variable']],axis=1)\n",
    "L_scores['CVS_graph_2'] = L_scores.apply(lambda row: graph_cvs_2_df.loc[graph_cvs_2_df[graph_cvs_2_df['studentid']==row['sid']].index[0],row['variable']],axis=1)\n",
    "\n",
    "L_scores['CVS_table_3'] = L_scores.apply(lambda row: table_cvs_3_df.loc[table_cvs_3_df[table_cvs_3_df['studentid']==row['sid']].index[0],row['variable']],axis=1)\n",
    "L_scores['CVS_graph_3'] = L_scores.apply(lambda row: graph_cvs_3_df.loc[graph_cvs_3_df[graph_cvs_3_df['studentid']==row['sid']].index[0],row['variable']],axis=1)\n",
    "\n",
    "L_scores['CVS_table_4'] = L_scores.apply(lambda row: table_cvs_4_df.loc[table_cvs_4_df[table_cvs_4_df['studentid']==row['sid']].index[0],row['variable']],axis=1)\n",
    "L_scores['CVS_graph_4'] = L_scores.apply(lambda row: graph_cvs_4_df.loc[graph_cvs_4_df[graph_cvs_4_df['studentid']==row['sid']].index[0],row['variable']],axis=1)\n",
    "\n",
    "L_scores['CVS_table_5'] = L_scores.apply(lambda row: table_cvs_5_df.loc[table_cvs_5_df[table_cvs_5_df['studentid']==row['sid']].index[0],row['variable']],axis=1)\n",
    "L_scores['CVS_graph_5'] = L_scores.apply(lambda row: graph_cvs_5_df.loc[graph_cvs_5_df[graph_cvs_5_df['studentid']==row['sid']].index[0],row['variable']],axis=1)\n",
    "\n",
    "\n",
    "L_scores['number_points_table'] = L_scores.apply(lambda row: table_cvs_df.loc[table_cvs_df[table_cvs_df['studentid']==row['sid']].index[0],row['variable']],axis=1)\n",
    "L_scores['number_points_graph'] = L_scores.apply(lambda row: graph_cvs_df.loc[graph_cvs_df[graph_cvs_df['studentid']==row['sid']].index[0],row['variable']],axis=1)\n",
    "\n",
    "L_scores['sim_index'] = L_scores.apply(lambda row: table_cvs_2_df.loc[table_cvs_2_df[table_cvs_2_df['studentid']==row['sid']].index[0],'activity order'].index(row['sim'])+1,axis=1)"
   ]
  },
  {
   "cell_type": "code",
   "execution_count": 10,
   "metadata": {
    "collapsed": false,
    "hideCode": true,
    "hidePrompt": true
   },
   "outputs": [],
   "source": [
    "# L_scores[L_scores['variable']=='Width'].describe()"
   ]
  },
  {
   "cell_type": "code",
   "execution_count": 11,
   "metadata": {
    "collapsed": true,
    "hideCode": true,
    "hidePrompt": true
   },
   "outputs": [],
   "source": [
    "%reload_ext utils_read_parsing\n",
    "#grab worksheet data\n",
    "worksheets = get_worksheet_metadata('caps')\n",
    "pre = get_pre_worksheet(sim='caps')\n",
    "main = get_main_worksheet(sim='caps')\n",
    "\n",
    "ids = get_students_to_analyze_log_worksheets('caps')\n",
    "pre= pre[pre['Student ID'].isin(worksheets[(worksheets['Type']=='p')&worksheets['Student ID'].isin(ids)]['other id'].values)]\n",
    "main= main[main['Student ID'].isin(worksheets[(worksheets['Type']=='m')&worksheets['Student ID'].isin(ids)]['other id'].values)]\n",
    "\n",
    "#ids in pre/post match \"other id\" in worksheet metdata so we need to assign the correct id in logs for each entry in pre/post\n",
    "pre['sid'] = pre['Student ID'].apply(lambda row: worksheets.loc[worksheets[(worksheets['other id']==row)].index[0],'Student ID'])\n",
    "main['sid'] = main['Student ID'].apply(lambda row: worksheets.loc[worksheets[worksheets['other id']==row].index[0],'Student ID'])\n",
    "\n",
    "# print len(ids),len(pre),len(main)"
   ]
  },
  {
   "cell_type": "code",
   "execution_count": 12,
   "metadata": {
    "collapsed": true,
    "hideCode": true,
    "hidePrompt": true
   },
   "outputs": [],
   "source": [
    "## make desired table for caps\n",
    "melted_pre = pd.melt(pre, id_vars=['sid'], value_vars=['Area','Separation'], var_name='variable',value_name='pre')\n",
    "melted_main = pd.melt(main, id_vars=['sid'], value_vars=['Area','Separation'], var_name='variable',value_name='main')\n",
    "\n",
    "C_scores = melted_pre.merge(melted_main, on=['sid','variable'], how='outer')\n",
    "C_scores['sim'] = 'C'\n",
    "C_scores['CVS_table_2'] = C_scores.apply(lambda row: table_cvs_2_df.loc[table_cvs_2_df[table_cvs_2_df['studentid']==row['sid']].index[0],row['variable']],axis=1)\n",
    "C_scores['CVS_graph_2'] = C_scores.apply(lambda row: graph_cvs_2_df.loc[graph_cvs_2_df[graph_cvs_2_df['studentid']==row['sid']].index[0],row['variable']],axis=1)\n",
    "\n",
    "C_scores['CVS_table_3'] = C_scores.apply(lambda row: table_cvs_3_df.loc[table_cvs_3_df[table_cvs_3_df['studentid']==row['sid']].index[0],row['variable']],axis=1)\n",
    "C_scores['CVS_graph_3'] = C_scores.apply(lambda row: graph_cvs_3_df.loc[graph_cvs_3_df[graph_cvs_3_df['studentid']==row['sid']].index[0],row['variable']],axis=1)\n",
    "\n",
    "C_scores['CVS_table_4'] = C_scores.apply(lambda row: table_cvs_4_df.loc[table_cvs_4_df[table_cvs_4_df['studentid']==row['sid']].index[0],row['variable']],axis=1)\n",
    "C_scores['CVS_graph_4'] = C_scores.apply(lambda row: graph_cvs_4_df.loc[graph_cvs_4_df[graph_cvs_4_df['studentid']==row['sid']].index[0],row['variable']],axis=1)\n",
    "\n",
    "C_scores['CVS_table_5'] = C_scores.apply(lambda row: table_cvs_5_df.loc[table_cvs_5_df[table_cvs_5_df['studentid']==row['sid']].index[0],row['variable']],axis=1)\n",
    "C_scores['CVS_graph_5'] = C_scores.apply(lambda row: graph_cvs_5_df.loc[graph_cvs_5_df[graph_cvs_5_df['studentid']==row['sid']].index[0],row['variable']],axis=1)\n",
    "\n",
    "C_scores['number_points_table'] = C_scores.apply(lambda row: table_cvs_df.loc[table_cvs_df[table_cvs_df['studentid']==row['sid']].index[0],row['variable']],axis=1)\n",
    "C_scores['number_points_graph'] = C_scores.apply(lambda row: graph_cvs_df.loc[graph_cvs_df[graph_cvs_df['studentid']==row['sid']].index[0],row['variable']],axis=1)\n",
    "\n",
    "C_scores['sim_index'] = C_scores.apply(lambda row: table_cvs_2_df.loc[table_cvs_2_df[table_cvs_2_df['studentid']==row['sid']].index[0],'activity order'].index(row['sim'])+1,axis=1)"
   ]
  },
  {
   "cell_type": "markdown",
   "metadata": {},
   "source": [
    "## Putting it all together"
   ]
  },
  {
   "cell_type": "code",
   "execution_count": 13,
   "metadata": {
    "collapsed": true,
    "hideCode": true,
    "hidePrompt": true
   },
   "outputs": [],
   "source": [
    "data = pd.concat([L_scores,C_scores])\n",
    "# data['intervals_in_table'] = data.apply(lambda row: table_intervals_df.loc[table_intervals_df[table_intervals_df['studentid']==row['sid']].index[0],row['variable']],axis=1)\n",
    "# data['CVS_table_only'] = data.apply(lambda row: row['CVS_table']*(1-row['CVS_graph']), axis = 1)\n",
    "data = data.reset_index(drop=True)"
   ]
  },
  {
   "cell_type": "markdown",
   "metadata": {},
   "source": [
    "## Adding wrapper use data"
   ]
  },
  {
   "cell_type": "code",
   "execution_count": 14,
   "metadata": {
    "collapsed": false
   },
   "outputs": [
    {
     "data": {
      "text/html": [
       "<div>\n",
       "<table border=\"1\" class=\"dataframe\">\n",
       "  <thead>\n",
       "    <tr style=\"text-align: right;\">\n",
       "      <th></th>\n",
       "      <th>use_table</th>\n",
       "      <th>use_graph</th>\n",
       "    </tr>\n",
       "  </thead>\n",
       "  <tbody>\n",
       "    <tr>\n",
       "      <th>count</th>\n",
       "      <td>592.0</td>\n",
       "      <td>592.000</td>\n",
       "    </tr>\n",
       "    <tr>\n",
       "      <th>mean</th>\n",
       "      <td>1.0</td>\n",
       "      <td>0.845</td>\n",
       "    </tr>\n",
       "    <tr>\n",
       "      <th>std</th>\n",
       "      <td>0.0</td>\n",
       "      <td>0.363</td>\n",
       "    </tr>\n",
       "    <tr>\n",
       "      <th>min</th>\n",
       "      <td>1.0</td>\n",
       "      <td>0.000</td>\n",
       "    </tr>\n",
       "    <tr>\n",
       "      <th>25%</th>\n",
       "      <td>1.0</td>\n",
       "      <td>1.000</td>\n",
       "    </tr>\n",
       "    <tr>\n",
       "      <th>50%</th>\n",
       "      <td>1.0</td>\n",
       "      <td>1.000</td>\n",
       "    </tr>\n",
       "    <tr>\n",
       "      <th>75%</th>\n",
       "      <td>1.0</td>\n",
       "      <td>1.000</td>\n",
       "    </tr>\n",
       "    <tr>\n",
       "      <th>max</th>\n",
       "      <td>1.0</td>\n",
       "      <td>1.000</td>\n",
       "    </tr>\n",
       "  </tbody>\n",
       "</table>\n",
       "</div>"
      ],
      "text/plain": [
       "       use_table  use_graph\n",
       "count      592.0    592.000\n",
       "mean         1.0      0.845\n",
       "std          0.0      0.363\n",
       "min          1.0      0.000\n",
       "25%          1.0      1.000\n",
       "50%          1.0      1.000\n",
       "75%          1.0      1.000\n",
       "max          1.0      1.000"
      ]
     },
     "execution_count": 14,
     "metadata": {},
     "output_type": "execute_result"
    }
   ],
   "source": [
    "use_wrapper_df = pd.read_csv('use_wrapper_results.txt', sep='\\t')\n",
    "data['use_table'] = data.apply(lambda row: use_wrapper_df.loc[use_wrapper_df[use_wrapper_df['studentid']==row['sid']].index[0],'use_table'], axis=1)\n",
    "data['use_graph'] = data.apply(lambda row: use_wrapper_df.loc[use_wrapper_df[use_wrapper_df['studentid']==row['sid']].index[0],'use_graph'], axis=1)\n",
    "data[['use_table','use_graph']].describe()"
   ]
  },
  {
   "cell_type": "markdown",
   "metadata": {},
   "source": [
    "Everyone uses the table once and 85% use the graph once. Lets redo the analysis only with students who used the graph"
   ]
  },
  {
   "cell_type": "markdown",
   "metadata": {},
   "source": [
    "## Adding pre-survey data"
   ]
  },
  {
   "cell_type": "code",
   "execution_count": 15,
   "metadata": {
    "collapsed": false
   },
   "outputs": [
    {
     "data": {
      "text/html": [
       "<div>\n",
       "<table border=\"1\" class=\"dataframe\">\n",
       "  <thead>\n",
       "    <tr style=\"text-align: right;\">\n",
       "      <th></th>\n",
       "      <th>Unnamed: 0</th>\n",
       "      <th>sid</th>\n",
       "      <th>level_experience_sims</th>\n",
       "      <th>similar_L</th>\n",
       "      <th>similar_C</th>\n",
       "      <th>experience_undergrad_labs</th>\n",
       "    </tr>\n",
       "  </thead>\n",
       "  <tbody>\n",
       "    <tr>\n",
       "      <th>0</th>\n",
       "      <td>5</td>\n",
       "      <td>77047160</td>\n",
       "      <td>2</td>\n",
       "      <td>0</td>\n",
       "      <td>0</td>\n",
       "      <td>1</td>\n",
       "    </tr>\n",
       "    <tr>\n",
       "      <th>1</th>\n",
       "      <td>6</td>\n",
       "      <td>23836160</td>\n",
       "      <td>0</td>\n",
       "      <td>0</td>\n",
       "      <td>0</td>\n",
       "      <td>1</td>\n",
       "    </tr>\n",
       "    <tr>\n",
       "      <th>2</th>\n",
       "      <td>7</td>\n",
       "      <td>64006159</td>\n",
       "      <td>1</td>\n",
       "      <td>0</td>\n",
       "      <td>0</td>\n",
       "      <td>1</td>\n",
       "    </tr>\n",
       "    <tr>\n",
       "      <th>3</th>\n",
       "      <td>8</td>\n",
       "      <td>24566161</td>\n",
       "      <td>3</td>\n",
       "      <td>0</td>\n",
       "      <td>1</td>\n",
       "      <td>1</td>\n",
       "    </tr>\n",
       "    <tr>\n",
       "      <th>4</th>\n",
       "      <td>9</td>\n",
       "      <td>46792161</td>\n",
       "      <td>2</td>\n",
       "      <td>1</td>\n",
       "      <td>0</td>\n",
       "      <td>1</td>\n",
       "    </tr>\n",
       "  </tbody>\n",
       "</table>\n",
       "</div>"
      ],
      "text/plain": [
       "   Unnamed: 0       sid  level_experience_sims  similar_L  similar_C  experience_undergrad_labs\n",
       "0           5  77047160                      2          0          0                          1\n",
       "1           6  23836160                      0          0          0                          1\n",
       "2           7  64006159                      1          0          0                          1\n",
       "3           8  24566161                      3          0          1                          1\n",
       "4           9  46792161                      2          1          0                          1"
      ]
     },
     "execution_count": 15,
     "metadata": {},
     "output_type": "execute_result"
    }
   ],
   "source": [
    "pre_survey_df = pd.read_csv('pre_survey_results.txt', sep='\\t')\n",
    "pre_survey_df.head()"
   ]
  },
  {
   "cell_type": "code",
   "execution_count": 16,
   "metadata": {
    "collapsed": false
   },
   "outputs": [],
   "source": [
    "data['level_experience_sims'] = data.apply(lambda row: pre_survey_df.loc[pre_survey_df[pre_survey_df['sid']==row['sid']].index[0],'level_experience_sims'], axis=1)\n",
    "data['experience_undergrad_labs'] = data.apply(lambda row: pre_survey_df.loc[pre_survey_df[pre_survey_df['sid']==row['sid']].index[0],'experience_undergrad_labs'], axis=1)\n",
    "data['used_similar_sim_L'] = data[data['sim']=='L'].apply(lambda row: pre_survey_df.loc[pre_survey_df[pre_survey_df['sid']==row['sid']].index[0],'similar_L'],axis=1)\n",
    "data['used_similar_sim_L'].fillna(0, inplace=True)\n",
    "data['used_similar_sim_C'] = data[data['sim']=='C'].apply(lambda row: pre_survey_df.loc[pre_survey_df[pre_survey_df['sid']==row['sid']].index[0],'similar_C'],axis=1)\n",
    "data['used_similar_sim_C'].fillna(0, inplace=True)\n",
    "data['used_similar_sim'] = data['used_similar_sim_L'] + data['used_similar_sim_C']"
   ]
  },
  {
   "cell_type": "markdown",
   "metadata": {},
   "source": [
    "We add a \"CVS_levels\" column to our data (graph=2, table=1, none=0)"
   ]
  },
  {
   "cell_type": "code",
   "execution_count": 17,
   "metadata": {
    "collapsed": false
   },
   "outputs": [
    {
     "name": "stdout",
     "output_type": "stream",
     "text": [
      "(0, 27)\n",
      "(0, 27)\n",
      "(1, 27)\n",
      "(0, 27)\n"
     ]
    }
   ],
   "source": [
    "data['CVS_levels_2']=0\n",
    "data['CVS_levels_3']=0\n",
    "data['CVS_levels_4']=0\n",
    "data['CVS_levels_5']=0\n",
    "# data['CVS_table_only'] = data.apply(lambda row: row['CVS_table']*(1-row['CVS_graph']), axis = 1)\n",
    "data['CVS_levels_2']=data['CVS_table_2']+data['CVS_graph_2']\n",
    "data['CVS_levels_3']=data['CVS_table_3']+data['CVS_graph_3']\n",
    "data['CVS_levels_4']=data['CVS_table_4']+data['CVS_graph_4']\n",
    "data['CVS_levels_5']=data['CVS_table_5']+data['CVS_graph_5']\n",
    "print data[(data['CVS_table_2']==0)&(data['CVS_graph_2']==1)].shape\n",
    "print data[(data['CVS_table_3']==0)&(data['CVS_graph_3']==1)].shape\n",
    "print data[(data['CVS_table_4']==0)&(data['CVS_graph_4']==1)].shape\n",
    "print data[(data['CVS_table_5']==0)&(data['CVS_graph_5']==1)].shape"
   ]
  },
  {
   "cell_type": "code",
   "execution_count": 18,
   "metadata": {
    "collapsed": false
   },
   "outputs": [
    {
     "data": {
      "text/html": [
       "<div>\n",
       "<table border=\"1\" class=\"dataframe\">\n",
       "  <thead>\n",
       "    <tr style=\"text-align: right;\">\n",
       "      <th></th>\n",
       "      <th>sid</th>\n",
       "      <th>variable</th>\n",
       "      <th>pre</th>\n",
       "      <th>main</th>\n",
       "      <th>sim</th>\n",
       "      <th>CVS_table_2</th>\n",
       "      <th>CVS_graph_2</th>\n",
       "      <th>CVS_table_3</th>\n",
       "      <th>CVS_graph_3</th>\n",
       "      <th>CVS_table_4</th>\n",
       "      <th>...</th>\n",
       "      <th>use_graph</th>\n",
       "      <th>level_experience_sims</th>\n",
       "      <th>experience_undergrad_labs</th>\n",
       "      <th>used_similar_sim_L</th>\n",
       "      <th>used_similar_sim_C</th>\n",
       "      <th>used_similar_sim</th>\n",
       "      <th>CVS_levels_2</th>\n",
       "      <th>CVS_levels_3</th>\n",
       "      <th>CVS_levels_4</th>\n",
       "      <th>CVS_levels_5</th>\n",
       "    </tr>\n",
       "  </thead>\n",
       "  <tbody>\n",
       "    <tr>\n",
       "      <th>0</th>\n",
       "      <td>10127163</td>\n",
       "      <td>Concentration</td>\n",
       "      <td>1.0</td>\n",
       "      <td>3.0</td>\n",
       "      <td>L</td>\n",
       "      <td>1</td>\n",
       "      <td>1</td>\n",
       "      <td>1</td>\n",
       "      <td>1</td>\n",
       "      <td>1</td>\n",
       "      <td>...</td>\n",
       "      <td>1</td>\n",
       "      <td>1</td>\n",
       "      <td>1</td>\n",
       "      <td>0.0</td>\n",
       "      <td>0.0</td>\n",
       "      <td>0.0</td>\n",
       "      <td>2</td>\n",
       "      <td>2</td>\n",
       "      <td>2</td>\n",
       "      <td>2</td>\n",
       "    </tr>\n",
       "    <tr>\n",
       "      <th>148</th>\n",
       "      <td>10127163</td>\n",
       "      <td>Width</td>\n",
       "      <td>1.0</td>\n",
       "      <td>3.0</td>\n",
       "      <td>L</td>\n",
       "      <td>1</td>\n",
       "      <td>1</td>\n",
       "      <td>1</td>\n",
       "      <td>1</td>\n",
       "      <td>1</td>\n",
       "      <td>...</td>\n",
       "      <td>1</td>\n",
       "      <td>1</td>\n",
       "      <td>1</td>\n",
       "      <td>0.0</td>\n",
       "      <td>0.0</td>\n",
       "      <td>0.0</td>\n",
       "      <td>2</td>\n",
       "      <td>2</td>\n",
       "      <td>2</td>\n",
       "      <td>2</td>\n",
       "    </tr>\n",
       "    <tr>\n",
       "      <th>296</th>\n",
       "      <td>10127163</td>\n",
       "      <td>Area</td>\n",
       "      <td>3.0</td>\n",
       "      <td>3.0</td>\n",
       "      <td>C</td>\n",
       "      <td>1</td>\n",
       "      <td>1</td>\n",
       "      <td>1</td>\n",
       "      <td>1</td>\n",
       "      <td>1</td>\n",
       "      <td>...</td>\n",
       "      <td>1</td>\n",
       "      <td>1</td>\n",
       "      <td>1</td>\n",
       "      <td>0.0</td>\n",
       "      <td>0.0</td>\n",
       "      <td>0.0</td>\n",
       "      <td>2</td>\n",
       "      <td>2</td>\n",
       "      <td>2</td>\n",
       "      <td>2</td>\n",
       "    </tr>\n",
       "    <tr>\n",
       "      <th>444</th>\n",
       "      <td>10127163</td>\n",
       "      <td>Separation</td>\n",
       "      <td>3.0</td>\n",
       "      <td>3.0</td>\n",
       "      <td>C</td>\n",
       "      <td>1</td>\n",
       "      <td>1</td>\n",
       "      <td>1</td>\n",
       "      <td>1</td>\n",
       "      <td>1</td>\n",
       "      <td>...</td>\n",
       "      <td>1</td>\n",
       "      <td>1</td>\n",
       "      <td>1</td>\n",
       "      <td>0.0</td>\n",
       "      <td>0.0</td>\n",
       "      <td>0.0</td>\n",
       "      <td>2</td>\n",
       "      <td>2</td>\n",
       "      <td>2</td>\n",
       "      <td>2</td>\n",
       "    </tr>\n",
       "    <tr>\n",
       "      <th>538</th>\n",
       "      <td>10192168</td>\n",
       "      <td>Separation</td>\n",
       "      <td>1.0</td>\n",
       "      <td>2.0</td>\n",
       "      <td>C</td>\n",
       "      <td>1</td>\n",
       "      <td>1</td>\n",
       "      <td>1</td>\n",
       "      <td>1</td>\n",
       "      <td>1</td>\n",
       "      <td>...</td>\n",
       "      <td>1</td>\n",
       "      <td>1</td>\n",
       "      <td>1</td>\n",
       "      <td>0.0</td>\n",
       "      <td>0.0</td>\n",
       "      <td>0.0</td>\n",
       "      <td>2</td>\n",
       "      <td>2</td>\n",
       "      <td>2</td>\n",
       "      <td>0</td>\n",
       "    </tr>\n",
       "    <tr>\n",
       "      <th>96</th>\n",
       "      <td>10192168</td>\n",
       "      <td>Concentration</td>\n",
       "      <td>1.0</td>\n",
       "      <td>3.0</td>\n",
       "      <td>L</td>\n",
       "      <td>1</td>\n",
       "      <td>1</td>\n",
       "      <td>1</td>\n",
       "      <td>1</td>\n",
       "      <td>1</td>\n",
       "      <td>...</td>\n",
       "      <td>1</td>\n",
       "      <td>1</td>\n",
       "      <td>1</td>\n",
       "      <td>0.0</td>\n",
       "      <td>0.0</td>\n",
       "      <td>0.0</td>\n",
       "      <td>2</td>\n",
       "      <td>2</td>\n",
       "      <td>2</td>\n",
       "      <td>2</td>\n",
       "    </tr>\n",
       "    <tr>\n",
       "      <th>390</th>\n",
       "      <td>10192168</td>\n",
       "      <td>Area</td>\n",
       "      <td>1.0</td>\n",
       "      <td>2.0</td>\n",
       "      <td>C</td>\n",
       "      <td>1</td>\n",
       "      <td>0</td>\n",
       "      <td>0</td>\n",
       "      <td>0</td>\n",
       "      <td>0</td>\n",
       "      <td>...</td>\n",
       "      <td>1</td>\n",
       "      <td>1</td>\n",
       "      <td>1</td>\n",
       "      <td>0.0</td>\n",
       "      <td>0.0</td>\n",
       "      <td>0.0</td>\n",
       "      <td>1</td>\n",
       "      <td>0</td>\n",
       "      <td>0</td>\n",
       "      <td>0</td>\n",
       "    </tr>\n",
       "    <tr>\n",
       "      <th>244</th>\n",
       "      <td>10192168</td>\n",
       "      <td>Width</td>\n",
       "      <td>1.0</td>\n",
       "      <td>0.0</td>\n",
       "      <td>L</td>\n",
       "      <td>1</td>\n",
       "      <td>0</td>\n",
       "      <td>1</td>\n",
       "      <td>0</td>\n",
       "      <td>1</td>\n",
       "      <td>...</td>\n",
       "      <td>1</td>\n",
       "      <td>1</td>\n",
       "      <td>1</td>\n",
       "      <td>0.0</td>\n",
       "      <td>0.0</td>\n",
       "      <td>0.0</td>\n",
       "      <td>1</td>\n",
       "      <td>1</td>\n",
       "      <td>1</td>\n",
       "      <td>1</td>\n",
       "    </tr>\n",
       "    <tr>\n",
       "      <th>1</th>\n",
       "      <td>10232160</td>\n",
       "      <td>Concentration</td>\n",
       "      <td>1.0</td>\n",
       "      <td>1.0</td>\n",
       "      <td>L</td>\n",
       "      <td>1</td>\n",
       "      <td>1</td>\n",
       "      <td>1</td>\n",
       "      <td>1</td>\n",
       "      <td>1</td>\n",
       "      <td>...</td>\n",
       "      <td>1</td>\n",
       "      <td>1</td>\n",
       "      <td>1</td>\n",
       "      <td>1.0</td>\n",
       "      <td>0.0</td>\n",
       "      <td>1.0</td>\n",
       "      <td>2</td>\n",
       "      <td>2</td>\n",
       "      <td>2</td>\n",
       "      <td>0</td>\n",
       "    </tr>\n",
       "    <tr>\n",
       "      <th>149</th>\n",
       "      <td>10232160</td>\n",
       "      <td>Width</td>\n",
       "      <td>1.0</td>\n",
       "      <td>1.0</td>\n",
       "      <td>L</td>\n",
       "      <td>0</td>\n",
       "      <td>0</td>\n",
       "      <td>0</td>\n",
       "      <td>0</td>\n",
       "      <td>0</td>\n",
       "      <td>...</td>\n",
       "      <td>1</td>\n",
       "      <td>1</td>\n",
       "      <td>1</td>\n",
       "      <td>1.0</td>\n",
       "      <td>0.0</td>\n",
       "      <td>1.0</td>\n",
       "      <td>0</td>\n",
       "      <td>0</td>\n",
       "      <td>0</td>\n",
       "      <td>0</td>\n",
       "    </tr>\n",
       "    <tr>\n",
       "      <th>445</th>\n",
       "      <td>10232160</td>\n",
       "      <td>Separation</td>\n",
       "      <td>1.0</td>\n",
       "      <td>3.0</td>\n",
       "      <td>C</td>\n",
       "      <td>1</td>\n",
       "      <td>1</td>\n",
       "      <td>1</td>\n",
       "      <td>1</td>\n",
       "      <td>1</td>\n",
       "      <td>...</td>\n",
       "      <td>1</td>\n",
       "      <td>1</td>\n",
       "      <td>1</td>\n",
       "      <td>0.0</td>\n",
       "      <td>0.0</td>\n",
       "      <td>0.0</td>\n",
       "      <td>2</td>\n",
       "      <td>2</td>\n",
       "      <td>2</td>\n",
       "      <td>1</td>\n",
       "    </tr>\n",
       "    <tr>\n",
       "      <th>297</th>\n",
       "      <td>10232160</td>\n",
       "      <td>Area</td>\n",
       "      <td>1.0</td>\n",
       "      <td>3.0</td>\n",
       "      <td>C</td>\n",
       "      <td>1</td>\n",
       "      <td>1</td>\n",
       "      <td>1</td>\n",
       "      <td>1</td>\n",
       "      <td>1</td>\n",
       "      <td>...</td>\n",
       "      <td>1</td>\n",
       "      <td>1</td>\n",
       "      <td>1</td>\n",
       "      <td>0.0</td>\n",
       "      <td>0.0</td>\n",
       "      <td>0.0</td>\n",
       "      <td>2</td>\n",
       "      <td>2</td>\n",
       "      <td>2</td>\n",
       "      <td>2</td>\n",
       "    </tr>\n",
       "  </tbody>\n",
       "</table>\n",
       "<p>12 rows × 27 columns</p>\n",
       "</div>"
      ],
      "text/plain": [
       "          sid       variable  pre  main sim  CVS_table_2  CVS_graph_2  CVS_table_3  CVS_graph_3  \\\n",
       "0    10127163  Concentration  1.0   3.0   L            1            1            1            1   \n",
       "148  10127163          Width  1.0   3.0   L            1            1            1            1   \n",
       "296  10127163           Area  3.0   3.0   C            1            1            1            1   \n",
       "444  10127163     Separation  3.0   3.0   C            1            1            1            1   \n",
       "538  10192168     Separation  1.0   2.0   C            1            1            1            1   \n",
       "96   10192168  Concentration  1.0   3.0   L            1            1            1            1   \n",
       "390  10192168           Area  1.0   2.0   C            1            0            0            0   \n",
       "244  10192168          Width  1.0   0.0   L            1            0            1            0   \n",
       "1    10232160  Concentration  1.0   1.0   L            1            1            1            1   \n",
       "149  10232160          Width  1.0   1.0   L            0            0            0            0   \n",
       "445  10232160     Separation  1.0   3.0   C            1            1            1            1   \n",
       "297  10232160           Area  1.0   3.0   C            1            1            1            1   \n",
       "\n",
       "     CVS_table_4      ...       use_graph  level_experience_sims  experience_undergrad_labs  \\\n",
       "0              1      ...               1                      1                          1   \n",
       "148            1      ...               1                      1                          1   \n",
       "296            1      ...               1                      1                          1   \n",
       "444            1      ...               1                      1                          1   \n",
       "538            1      ...               1                      1                          1   \n",
       "96             1      ...               1                      1                          1   \n",
       "390            0      ...               1                      1                          1   \n",
       "244            1      ...               1                      1                          1   \n",
       "1              1      ...               1                      1                          1   \n",
       "149            0      ...               1                      1                          1   \n",
       "445            1      ...               1                      1                          1   \n",
       "297            1      ...               1                      1                          1   \n",
       "\n",
       "     used_similar_sim_L  used_similar_sim_C  used_similar_sim  CVS_levels_2  CVS_levels_3  \\\n",
       "0                   0.0                 0.0               0.0             2             2   \n",
       "148                 0.0                 0.0               0.0             2             2   \n",
       "296                 0.0                 0.0               0.0             2             2   \n",
       "444                 0.0                 0.0               0.0             2             2   \n",
       "538                 0.0                 0.0               0.0             2             2   \n",
       "96                  0.0                 0.0               0.0             2             2   \n",
       "390                 0.0                 0.0               0.0             1             0   \n",
       "244                 0.0                 0.0               0.0             1             1   \n",
       "1                   1.0                 0.0               1.0             2             2   \n",
       "149                 1.0                 0.0               1.0             0             0   \n",
       "445                 0.0                 0.0               0.0             2             2   \n",
       "297                 0.0                 0.0               0.0             2             2   \n",
       "\n",
       "     CVS_levels_4  CVS_levels_5  \n",
       "0               2             2  \n",
       "148             2             2  \n",
       "296             2             2  \n",
       "444             2             2  \n",
       "538             2             0  \n",
       "96              2             2  \n",
       "390             0             0  \n",
       "244             1             1  \n",
       "1               2             0  \n",
       "149             0             0  \n",
       "445             2             1  \n",
       "297             2             2  \n",
       "\n",
       "[12 rows x 27 columns]"
      ]
     },
     "execution_count": 18,
     "metadata": {},
     "output_type": "execute_result"
    }
   ],
   "source": [
    "data.sort_values('sid').head(12)"
   ]
  },
  {
   "cell_type": "code",
   "execution_count": 19,
   "metadata": {
    "collapsed": false
   },
   "outputs": [
    {
     "data": {
      "text/plain": [
       "array([[<matplotlib.axes._subplots.AxesSubplot object at 0x000000000D2587F0>,\n",
       "        <matplotlib.axes._subplots.AxesSubplot object at 0x000000000CBB1EB8>,\n",
       "        <matplotlib.axes._subplots.AxesSubplot object at 0x000000000D306B70>,\n",
       "        <matplotlib.axes._subplots.AxesSubplot object at 0x000000000D41E4A8>,\n",
       "        <matplotlib.axes._subplots.AxesSubplot object at 0x000000000D4D6F98>],\n",
       "       [<matplotlib.axes._subplots.AxesSubplot object at 0x000000000D587208>,\n",
       "        <matplotlib.axes._subplots.AxesSubplot object at 0x000000000D6C4F28>,\n",
       "        <matplotlib.axes._subplots.AxesSubplot object at 0x000000000D765BE0>,\n",
       "        <matplotlib.axes._subplots.AxesSubplot object at 0x000000000D86BAC8>,\n",
       "        <matplotlib.axes._subplots.AxesSubplot object at 0x000000000D7DBD68>],\n",
       "       [<matplotlib.axes._subplots.AxesSubplot object at 0x000000000DA25080>,\n",
       "        <matplotlib.axes._subplots.AxesSubplot object at 0x000000000DADECC0>,\n",
       "        <matplotlib.axes._subplots.AxesSubplot object at 0x000000000DB7D0B8>,\n",
       "        <matplotlib.axes._subplots.AxesSubplot object at 0x000000000DC70940>,\n",
       "        <matplotlib.axes._subplots.AxesSubplot object at 0x000000000DD19668>],\n",
       "       [<matplotlib.axes._subplots.AxesSubplot object at 0x000000000DE1AE80>,\n",
       "        <matplotlib.axes._subplots.AxesSubplot object at 0x000000000DF24908>,\n",
       "        <matplotlib.axes._subplots.AxesSubplot object at 0x000000000DF86AC8>,\n",
       "        <matplotlib.axes._subplots.AxesSubplot object at 0x000000000E091748>,\n",
       "        <matplotlib.axes._subplots.AxesSubplot object at 0x000000000E33F710>],\n",
       "       [<matplotlib.axes._subplots.AxesSubplot object at 0x000000000E407198>,\n",
       "        <matplotlib.axes._subplots.AxesSubplot object at 0x000000000E35B9B0>,\n",
       "        <matplotlib.axes._subplots.AxesSubplot object at 0x000000000E5BBBA8>,\n",
       "        <matplotlib.axes._subplots.AxesSubplot object at 0x000000000E6C5470>,\n",
       "        <matplotlib.axes._subplots.AxesSubplot object at 0x000000000E726A90>]], dtype=object)"
      ]
     },
     "execution_count": 19,
     "metadata": {},
     "output_type": "execute_result"
    },
    {
     "data": {
      "image/png": "[encoded data removed]",
      "text/plain": [
       "<matplotlib.figure.Figure at 0xd258a90>"
      ]
     },
     "metadata": {},
     "output_type": "display_data"
    }
   ],
   "source": [
    "data.hist()"
   ]
  },
  {
   "cell_type": "markdown",
   "metadata": {},
   "source": [
    "## Exporting the data"
   ]
  },
  {
   "cell_type": "code",
   "execution_count": 20,
   "metadata": {
    "collapsed": true
   },
   "outputs": [],
   "source": [
    "# export_data = data[[\"sid\",\"variable\",\"pre\",\"main\",\"sim\",\"CVS_graph\",\"sim_index\"]]\n",
    "export_data = data.copy()\n",
    "export_data.to_csv('dataframe_all_factors_by_student_x_variable.csv')"
   ]
  },
  {
   "cell_type": "markdown",
   "metadata": {
    "hideCode": true,
    "hidePrompt": true
   },
   "source": [
    "## Stats tools and multicollinearity check"
   ]
  },
  {
   "cell_type": "code",
   "execution_count": 21,
   "metadata": {
    "collapsed": true,
    "hideCode": true,
    "hidePrompt": true
   },
   "outputs": [],
   "source": [
    "def eta_squared(aov):\n",
    "    aov['eta_sq'] = 'NaN'\n",
    "    aov['eta_sq'] = aov[:-1]['sum_sq']/sum(aov['sum_sq'])\n",
    "    return aov\n",
    " \n",
    "def omega_squared(aov):\n",
    "    mse = aov['sum_sq'][-1]/aov['df'][-1]\n",
    "    aov['omega_sq'] = 'NaN'\n",
    "    aov['omega_sq'] = (aov[:-1]['sum_sq']-(aov[:-1]['df']*mse))/(sum(aov['sum_sq'])+mse)\n",
    "    return aov\n",
    "\n",
    "def clean_summary(model):\n",
    "    lines = model.summary().as_text().split('\\n')\n",
    "    lines = [l for l in lines if 'C(sid)' not in l]\n",
    "    return '\\n'.join(lines)"
   ]
  },
  {
   "cell_type": "code",
   "execution_count": 22,
   "metadata": {
    "collapsed": true,
    "hideCode": true,
    "hidePrompt": true
   },
   "outputs": [],
   "source": [
    "# from scipy import stats\n",
    "# print \"Correlation coeff for table and graph CVS:\", stats.spearmanr(data['CVS_table'],data['CVS_graph'])\n",
    "# #Let's measure the variance inflation factor of including both CVS table and graph in the same models:\n",
    "# formula = 'CVS_table ~ CVS_graph + pre + C(variable) + C(sim_index) + C(sim) '\n",
    "# print 'model: ', formula,'\\n'\n",
    "# from patsy import dmatrices\n",
    "# Y, X = dmatrices(formula, data, return_type = 'dataframe')\n",
    "# # print X.columns\n",
    "# logit = Logit(Y, X)\n",
    "# model = logit.fit()\n",
    "# print model.summary()\n",
    "# # print model.params\n",
    "# R2 = 0.4225\n",
    "# VIF = 1.0/(1-R2)\n",
    "# VIF\n",
    "\n",
    "## A VIF of 1.73 tells us that the variance (the square of the standard error) of a particular coefficient is 73% larger than it would be if that predictor was completely uncorrelated with all the other predictors. According to [this website](https://statisticalhorizons.com/multicollinearity), a VIF of 2.6 or higher is worrisome."
   ]
  },
  {
   "cell_type": "markdown",
   "metadata": {
    "hideCode": true,
    "hidePrompt": true
   },
   "source": [
    "# Results to present in methods\n",
    "## Student population"
   ]
  },
  {
   "cell_type": "code",
   "execution_count": 23,
   "metadata": {
    "collapsed": false,
    "hideCode": true,
    "hidePrompt": true
   },
   "outputs": [
    {
     "name": "stdout",
     "output_type": "stream",
     "text": [
      "The study includes 148 students\n"
     ]
    }
   ],
   "source": [
    "N = len(set(data['sid']))\n",
    "print \"The study includes {0} students\".format(N)"
   ]
  },
  {
   "cell_type": "code",
   "execution_count": 24,
   "metadata": {
    "collapsed": false,
    "hideCode": true,
    "hidePrompt": true
   },
   "outputs": [
    {
     "name": "stdout",
     "output_type": "stream",
     "text": [
      " [Woman] 96 64.9\n",
      " [Man] 50 33.8\n",
      " [Gender non conforming/non-binary] 1 0.7\n",
      " [Trans*] 0 0.0\n",
      " [Rather specify:] 0 0.0\n",
      " [Rather specify:] [text] 0 0.0\n",
      " [Prefer not to answer] 1 0.7\n"
     ]
    }
   ],
   "source": [
    "posts = get_all_posts_surveys()\n",
    "genders = ['gender','[gender] To which gender do you most identify? [Man]','[gender] To which gender do you most identify? [Gender non conforming/non-binary]','[gender] To which gender do you most identify? [Trans*]','[gender] To which gender do you most identify? [Rather specify:]','[gender] To which gender do you most identify? [Rather specify:] [text]','[gender] To which gender do you most identify? [Prefer not to answer]']\n",
    "for g in genders:\n",
    "    if '?' in g:\n",
    "        gender = g.split('?')[1]\n",
    "    else:\n",
    "        gender = ' [Woman]'\n",
    "    print gender, len(set(posts[posts[g]==1]['sid'])), round(len(set(posts[posts[g]==1]['sid']))/float(N)*100,1)"
   ]
  },
  {
   "cell_type": "markdown",
   "metadata": {
    "hideCode": true,
    "hidePrompt": true
   },
   "source": [
    "## Student prior experience"
   ]
  },
  {
   "cell_type": "code",
   "execution_count": 25,
   "metadata": {
    "collapsed": false,
    "hideCode": true,
    "hidePrompt": true
   },
   "outputs": [
    {
     "data": {
      "text/plain": [
       "array([[<matplotlib.axes._subplots.AxesSubplot object at 0x000000000E9BCDD8>]], dtype=object)"
      ]
     },
     "execution_count": 25,
     "metadata": {},
     "output_type": "execute_result"
    },
    {
     "data": {
      "image/png": "[encoded data removed]",
      "text/plain": [
       "<matplotlib.figure.Figure at 0xe93f828>"
      ]
     },
     "metadata": {},
     "output_type": "display_data"
    }
   ],
   "source": [
    "# print 'experience in virtual labs in general'\n",
    "pd.pivot_table(data, values=['experience_undergrad_labs'], index=['sid'],aggfunc=np.sum)[['experience_undergrad_labs']].hist()"
   ]
  },
  {
   "cell_type": "code",
   "execution_count": 26,
   "metadata": {
    "collapsed": false
   },
   "outputs": [
    {
     "name": "stdout",
     "output_type": "stream",
     "text": [
      "where:\n",
      " 0 -> None\n",
      " 1 -> 1-2 (roughly)\n",
      " 2 -> 3-5 (roughly)\n",
      " 3 -> 6+ (roughly)\n"
     ]
    },
    {
     "data": {
      "image/png": "[encoded data removed]",
      "text/plain": [
       "<matplotlib.figure.Figure at 0x116d26a0>"
      ]
     },
     "metadata": {},
     "output_type": "display_data"
    }
   ],
   "source": [
    "pd.pivot_table(data, values=['level_experience_sims'], index=['sid'],aggfunc=sum)[['level_experience_sims']].hist()\n",
    "print '''where:\n",
    " 0 -> None\n",
    " 1 -> 1-2 (roughly)\n",
    " 2 -> 3-5 (roughly)\n",
    " 3 -> 6+ (roughly)'''"
   ]
  },
  {
   "cell_type": "code",
   "execution_count": 27,
   "metadata": {
    "collapsed": false,
    "hideCode": true,
    "hidePrompt": true
   },
   "outputs": [
    {
     "data": {
      "text/plain": [
       "array([[<matplotlib.axes._subplots.AxesSubplot object at 0x000000001167E240>,\n",
       "        <matplotlib.axes._subplots.AxesSubplot object at 0x0000000011AEB470>]], dtype=object)"
      ]
     },
     "execution_count": 27,
     "metadata": {},
     "output_type": "execute_result"
    },
    {
     "data": {
      "image/png": "[encoded data removed]",
      "text/plain": [
       "<matplotlib.figure.Figure at 0x11688748>"
      ]
     },
     "metadata": {},
     "output_type": "display_data"
    }
   ],
   "source": [
    "# print  'experience in virtual labs teaching light absorbance or capacitors before'\n",
    "pd.pivot_table(data, values=['used_similar_sim_C','used_similar_sim_L'], index=['sid'],aggfunc=np.sum)[['used_similar_sim_C','used_similar_sim_L']].hist(sharey=True)"
   ]
  },
  {
   "cell_type": "markdown",
   "metadata": {
    "hideCode": true,
    "hidePrompt": true
   },
   "source": [
    "# Learning through inquiry\n",
    "## Overall"
   ]
  },
  {
   "cell_type": "markdown",
   "metadata": {
    "hideCode": true,
    "hidePrompt": true
   },
   "source": [
    "Let's look at pre to post to see if students learn.\n",
    "\n",
    "Right now we have 4 entries per student and add \"variable\" to the model."
   ]
  },
  {
   "cell_type": "code",
   "execution_count": 28,
   "metadata": {
    "collapsed": false,
    "hideCode": true,
    "hidePrompt": true
   },
   "outputs": [
    {
     "data": {
      "text/html": [
       "<div>\n",
       "<table border=\"1\" class=\"dataframe\">\n",
       "  <thead>\n",
       "    <tr style=\"text-align: right;\">\n",
       "      <th></th>\n",
       "      <th>sim</th>\n",
       "      <th>main</th>\n",
       "      <th>pre</th>\n",
       "      <th>sid</th>\n",
       "    </tr>\n",
       "    <tr>\n",
       "      <th>sim</th>\n",
       "      <th></th>\n",
       "      <th></th>\n",
       "      <th></th>\n",
       "      <th></th>\n",
       "    </tr>\n",
       "  </thead>\n",
       "  <tbody>\n",
       "    <tr>\n",
       "      <th>C</th>\n",
       "      <td>C</td>\n",
       "      <td>3.0</td>\n",
       "      <td>3.0</td>\n",
       "      <td>10127163</td>\n",
       "    </tr>\n",
       "    <tr>\n",
       "      <th>C</th>\n",
       "      <td>C</td>\n",
       "      <td>2.0</td>\n",
       "      <td>1.0</td>\n",
       "      <td>10192168</td>\n",
       "    </tr>\n",
       "    <tr>\n",
       "      <th>C</th>\n",
       "      <td>C</td>\n",
       "      <td>3.0</td>\n",
       "      <td>1.0</td>\n",
       "      <td>10232160</td>\n",
       "    </tr>\n",
       "    <tr>\n",
       "      <th>C</th>\n",
       "      <td>C</td>\n",
       "      <td>3.0</td>\n",
       "      <td>1.0</td>\n",
       "      <td>10375163</td>\n",
       "    </tr>\n",
       "    <tr>\n",
       "      <th>C</th>\n",
       "      <td>C</td>\n",
       "      <td>2.5</td>\n",
       "      <td>2.0</td>\n",
       "      <td>10420167</td>\n",
       "    </tr>\n",
       "  </tbody>\n",
       "</table>\n",
       "</div>"
      ],
      "text/plain": [
       "    sim  main  pre       sid\n",
       "sim                         \n",
       "C     C   3.0  3.0  10127163\n",
       "C     C   2.0  1.0  10192168\n",
       "C     C   3.0  1.0  10232160\n",
       "C     C   3.0  1.0  10375163\n",
       "C     C   2.5  2.0  10420167"
      ]
     },
     "execution_count": 28,
     "metadata": {},
     "output_type": "execute_result"
    }
   ],
   "source": [
    "scores = pd.pivot_table(data, values=['pre','main'], index=['sim','sid'],aggfunc=np.mean)\n",
    "scores.reset_index(level=0, inplace=True)\n",
    "scores['sid']=scores.index\n",
    "scores.index = scores['sim']\n",
    "scores.head()"
   ]
  },
  {
   "cell_type": "code",
   "execution_count": 29,
   "metadata": {
    "collapsed": false,
    "hideCode": true,
    "hidePrompt": true,
    "scrolled": true
   },
   "outputs": [
    {
     "name": "stdout",
     "output_type": "stream",
     "text": [
      "---  -----------  -----------  --------------  -----------------  -----------\n",
      "sim  pre          post         Z               p                  effect size\n",
      "L    1.17+/-0.69  2.35+/-0.63  -11.2795122375  1.65661938815e-29  0.93\n",
      "C    1.28+/-0.67  2.24+/-0.63  -10.5732694484  3.9642841333e-26   0.87\n",
      "---  -----------  -----------  --------------  -----------------  -----------\n"
     ]
    }
   ],
   "source": [
    "t = [['sim','pre','post','Z','p','effect size']]\n",
    "for sim in ['L','C']:\n",
    "    pm = round(np.mean(scores.loc[sim]['pre']),2)\n",
    "    ps = round(np.std(scores.loc[sim]['pre']),2)\n",
    "    mm = round(np.mean(scores.loc[sim]['main']),2)\n",
    "    ms = round(np.std(scores.loc[sim]['main']),2)\n",
    "    Z,p = ranksums(scores.loc[sim]['pre'],scores.loc[sim]['main'])\n",
    "    eta = round(-Z/np.sqrt(N),2)\n",
    "    t.append([sim,str(pm)+'+/-'+str(ps),str(mm)+'+/-'+str(ms),Z,p,eta])\n",
    "\n",
    "print tabulate(t)"
   ]
  },
  {
   "cell_type": "markdown",
   "metadata": {
    "hideCode": true,
    "hidePrompt": true
   },
   "source": [
    "We use Wilcoxon signed rank test since our population ares paired and dependant but ordinal values. Overall, student learn in both sims.\n",
    "\n",
    "For calculation and interpretation of effect size, read Pages 224 (bottom part) and 225 from Pallant, J. (2007). SPSS Survival Manual quoted [here](https://stats.stackexchange.com/questions/133077/effect-size-to-wilcoxon-signed-rank-test)\n"
   ]
  },
  {
   "cell_type": "code",
   "execution_count": 30,
   "metadata": {
    "collapsed": false
   },
   "outputs": [
    {
     "name": "stdout",
     "output_type": "stream",
     "text": [
      "\n",
      "Correlation for all variables: (N=148*4)\n",
      "SpearmanrResult(correlation=0.19683704156643292, pvalue=1.390052759857402e-06)\n",
      "\n",
      "Correlation per sim: (N=148*2)\n",
      "L SpearmanrResult(correlation=0.26595034631566478, pvalue=0.00108680528913027)\n",
      "C SpearmanrResult(correlation=0.25518010908546929, pvalue=0.0017476728644627018)\n",
      "\n",
      "Correlation using mean pre and mean main merging both sims: (N=148)\n",
      "SpearmanrResult(correlation=0.3606523617550455, pvalue=6.7061187707435308e-06)\n"
     ]
    }
   ],
   "source": [
    "from scipy.stats import spearmanr\n",
    "print \"\\nCorrelation for all variables: (N=148*4)\"\n",
    "print spearmanr(data['pre'],data['main'])\n",
    "print \"\\nCorrelation per sim: (N=148*2)\"\n",
    "for sim in ['L','C']:\n",
    "    print sim, spearmanr(scores.loc[sim]['pre'],scores.loc[sim]['main'])\n",
    "print \"\\nCorrelation using mean pre and mean main merging both sims: (N=148)\"\n",
    "merged_scores = pd.pivot_table(data, values=['pre','main'], index=['sid'],aggfunc=np.mean)\n",
    "print spearmanr(merged_scores['pre'],merged_scores['main'])"
   ]
  },
  {
   "cell_type": "markdown",
   "metadata": {
    "hideCode": true,
    "hidePrompt": true
   },
   "source": [
    "# Does using strategy help student learn?"
   ]
  },
  {
   "cell_type": "markdown",
   "metadata": {
    "hideCode": true,
    "hidePrompt": true
   },
   "source": [
    "## Using different levels of CVS and learning"
   ]
  },
  {
   "cell_type": "code",
   "execution_count": 31,
   "metadata": {
    "collapsed": false
   },
   "outputs": [
    {
     "data": {
      "text/html": [
       "<div>\n",
       "<table border=\"1\" class=\"dataframe\">\n",
       "  <thead>\n",
       "    <tr style=\"text-align: right;\">\n",
       "      <th></th>\n",
       "      <th>sid</th>\n",
       "      <th>variable</th>\n",
       "      <th>pre</th>\n",
       "      <th>main</th>\n",
       "      <th>sim</th>\n",
       "      <th>CVS_table_2</th>\n",
       "      <th>CVS_graph_2</th>\n",
       "      <th>CVS_table_3</th>\n",
       "      <th>CVS_graph_3</th>\n",
       "      <th>CVS_table_4</th>\n",
       "      <th>...</th>\n",
       "      <th>use_graph</th>\n",
       "      <th>level_experience_sims</th>\n",
       "      <th>experience_undergrad_labs</th>\n",
       "      <th>used_similar_sim_L</th>\n",
       "      <th>used_similar_sim_C</th>\n",
       "      <th>used_similar_sim</th>\n",
       "      <th>CVS_levels_2</th>\n",
       "      <th>CVS_levels_3</th>\n",
       "      <th>CVS_levels_4</th>\n",
       "      <th>CVS_levels_5</th>\n",
       "    </tr>\n",
       "  </thead>\n",
       "  <tbody>\n",
       "    <tr>\n",
       "      <th>0</th>\n",
       "      <td>10127163</td>\n",
       "      <td>Concentration</td>\n",
       "      <td>1.0</td>\n",
       "      <td>3.0</td>\n",
       "      <td>L</td>\n",
       "      <td>1</td>\n",
       "      <td>1</td>\n",
       "      <td>1</td>\n",
       "      <td>1</td>\n",
       "      <td>1</td>\n",
       "      <td>...</td>\n",
       "      <td>1</td>\n",
       "      <td>1</td>\n",
       "      <td>1</td>\n",
       "      <td>0.0</td>\n",
       "      <td>0.0</td>\n",
       "      <td>0.0</td>\n",
       "      <td>2</td>\n",
       "      <td>2</td>\n",
       "      <td>2</td>\n",
       "      <td>2</td>\n",
       "    </tr>\n",
       "    <tr>\n",
       "      <th>1</th>\n",
       "      <td>10232160</td>\n",
       "      <td>Concentration</td>\n",
       "      <td>1.0</td>\n",
       "      <td>1.0</td>\n",
       "      <td>L</td>\n",
       "      <td>1</td>\n",
       "      <td>1</td>\n",
       "      <td>1</td>\n",
       "      <td>1</td>\n",
       "      <td>1</td>\n",
       "      <td>...</td>\n",
       "      <td>1</td>\n",
       "      <td>1</td>\n",
       "      <td>1</td>\n",
       "      <td>1.0</td>\n",
       "      <td>0.0</td>\n",
       "      <td>1.0</td>\n",
       "      <td>2</td>\n",
       "      <td>2</td>\n",
       "      <td>2</td>\n",
       "      <td>0</td>\n",
       "    </tr>\n",
       "    <tr>\n",
       "      <th>2</th>\n",
       "      <td>10537160</td>\n",
       "      <td>Concentration</td>\n",
       "      <td>1.0</td>\n",
       "      <td>2.0</td>\n",
       "      <td>L</td>\n",
       "      <td>1</td>\n",
       "      <td>0</td>\n",
       "      <td>1</td>\n",
       "      <td>0</td>\n",
       "      <td>0</td>\n",
       "      <td>...</td>\n",
       "      <td>0</td>\n",
       "      <td>1</td>\n",
       "      <td>1</td>\n",
       "      <td>1.0</td>\n",
       "      <td>0.0</td>\n",
       "      <td>1.0</td>\n",
       "      <td>1</td>\n",
       "      <td>1</td>\n",
       "      <td>0</td>\n",
       "      <td>0</td>\n",
       "    </tr>\n",
       "    <tr>\n",
       "      <th>3</th>\n",
       "      <td>10375163</td>\n",
       "      <td>Concentration</td>\n",
       "      <td>0.0</td>\n",
       "      <td>2.0</td>\n",
       "      <td>L</td>\n",
       "      <td>1</td>\n",
       "      <td>0</td>\n",
       "      <td>1</td>\n",
       "      <td>0</td>\n",
       "      <td>1</td>\n",
       "      <td>...</td>\n",
       "      <td>1</td>\n",
       "      <td>2</td>\n",
       "      <td>1</td>\n",
       "      <td>0.0</td>\n",
       "      <td>0.0</td>\n",
       "      <td>0.0</td>\n",
       "      <td>1</td>\n",
       "      <td>1</td>\n",
       "      <td>1</td>\n",
       "      <td>1</td>\n",
       "    </tr>\n",
       "    <tr>\n",
       "      <th>4</th>\n",
       "      <td>10420167</td>\n",
       "      <td>Concentration</td>\n",
       "      <td>1.0</td>\n",
       "      <td>3.0</td>\n",
       "      <td>L</td>\n",
       "      <td>1</td>\n",
       "      <td>1</td>\n",
       "      <td>1</td>\n",
       "      <td>1</td>\n",
       "      <td>1</td>\n",
       "      <td>...</td>\n",
       "      <td>1</td>\n",
       "      <td>3</td>\n",
       "      <td>1</td>\n",
       "      <td>0.0</td>\n",
       "      <td>0.0</td>\n",
       "      <td>0.0</td>\n",
       "      <td>2</td>\n",
       "      <td>2</td>\n",
       "      <td>2</td>\n",
       "      <td>2</td>\n",
       "    </tr>\n",
       "  </tbody>\n",
       "</table>\n",
       "<p>5 rows × 27 columns</p>\n",
       "</div>"
      ],
      "text/plain": [
       "        sid       variable  pre  main sim  CVS_table_2  CVS_graph_2  CVS_table_3  CVS_graph_3  \\\n",
       "0  10127163  Concentration  1.0   3.0   L            1            1            1            1   \n",
       "1  10232160  Concentration  1.0   1.0   L            1            1            1            1   \n",
       "2  10537160  Concentration  1.0   2.0   L            1            0            1            0   \n",
       "3  10375163  Concentration  0.0   2.0   L            1            0            1            0   \n",
       "4  10420167  Concentration  1.0   3.0   L            1            1            1            1   \n",
       "\n",
       "   CVS_table_4      ...       use_graph  level_experience_sims  experience_undergrad_labs  \\\n",
       "0            1      ...               1                      1                          1   \n",
       "1            1      ...               1                      1                          1   \n",
       "2            0      ...               0                      1                          1   \n",
       "3            1      ...               1                      2                          1   \n",
       "4            1      ...               1                      3                          1   \n",
       "\n",
       "   used_similar_sim_L  used_similar_sim_C  used_similar_sim  CVS_levels_2  CVS_levels_3  \\\n",
       "0                 0.0                 0.0               0.0             2             2   \n",
       "1                 1.0                 0.0               1.0             2             2   \n",
       "2                 1.0                 0.0               1.0             1             1   \n",
       "3                 0.0                 0.0               0.0             1             1   \n",
       "4                 0.0                 0.0               0.0             2             2   \n",
       "\n",
       "   CVS_levels_4  CVS_levels_5  \n",
       "0             2             2  \n",
       "1             2             0  \n",
       "2             0             0  \n",
       "3             1             1  \n",
       "4             2             2  \n",
       "\n",
       "[5 rows x 27 columns]"
      ]
     },
     "execution_count": 31,
     "metadata": {},
     "output_type": "execute_result"
    }
   ],
   "source": [
    "data.head()"
   ]
  },
  {
   "cell_type": "markdown",
   "metadata": {},
   "source": [
    "We have 8 control variables:\n",
    "* sim_index\n",
    "* sim\n",
    "* variable\n",
    "* pre\n",
    "* level_experience_sims\n",
    "* experience_undergrad_labs\n",
    "* used_similar_sim\n",
    "* use_graph\n",
    "\n",
    "We look at all interactions with CVS levels given our RQ are related to CVS usage:\n",
    "* variable*CVS_levels\n",
    "* pre*CVS_levels\n",
    "* sim_index*CVS_levels\n",
    "* sim (exclude becasue already within variable?)\n",
    "* C(sid)\n",
    "* level_experience_sims\n",
    "* experience_undergrad_labs\n",
    "* used_similar_sim\n",
    "* use_graph\n",
    "\n",
    "\n",
    "*NOTE:* we don't include variable and sim in the same model"
   ]
  },
  {
   "cell_type": "code",
   "execution_count": 32,
   "metadata": {
    "collapsed": true
   },
   "outputs": [],
   "source": [
    "covariates_for_interaction_model = \"+ C(sim) + C(sid) + level_experience_sims + experience_undergrad_labs + used_similar_sim + use_graph\"\n",
    "covariates_for_parsimonious_model = \"+ variable + pre + C(sim_index) + C(sid) + level_experience_sims + experience_undergrad_labs + used_similar_sim + use_graph\""
   ]
  },
  {
   "cell_type": "code",
   "execution_count": 33,
   "metadata": {
    "collapsed": false,
    "scrolled": false
   },
   "outputs": [
    {
     "name": "stdout",
     "output_type": "stream",
     "text": [
      "\n",
      "\n",
      "Model:  main ~ C(CVS_levels_2)*variable + C(CVS_levels_2)*pre + C(CVS_levels_2)*C(sim_index)+ C(sim) + C(sid) + level_experience_sims + experience_undergrad_labs + used_similar_sim + use_graph\n",
      "\n",
      "Anova table using type 3\n",
      "\n",
      "                               sum_sq     df        F     PR(>F)     eta_sq   omega_sq\n",
      "Intercept                      44.426    1.0  159.424  2.883e-31  1.321e-01  1.311e-01\n",
      "C(CVS_levels_2)                 0.862    2.0    1.546  2.142e-01  2.562e-03  9.042e-04\n",
      "variable                        0.740    3.0    0.885  4.487e-01  2.200e-03 -2.851e-04\n",
      "C(sim_index)                    0.071    1.0    0.255  6.138e-01  2.112e-04 -6.166e-04\n",
      "C(sim)                          0.530    1.0    1.901  1.687e-01  1.575e-03  7.459e-04\n",
      "C(sid)                        164.260  147.0    4.010  4.286e-29  4.883e-01  3.662e-01\n",
      "C(CVS_levels_2):variable        1.533    6.0    0.917  4.826e-01  4.556e-03 -4.139e-04\n",
      "C(CVS_levels_2):C(sim_index)    0.505    2.0    0.906  4.047e-01  1.502e-03 -1.548e-04\n",
      "pre                             0.097    1.0    0.347  5.560e-01  2.877e-04 -5.402e-04\n",
      "C(CVS_levels_2):pre             0.529    2.0    0.948  3.882e-01  1.571e-03 -8.555e-05\n",
      "level_experience_sims           0.542    1.0    1.944  1.640e-01  1.610e-03  7.814e-04\n",
      "experience_undergrad_labs       1.037    1.0    3.720  5.443e-02  3.081e-03  2.251e-03\n",
      "used_similar_sim                0.023    1.0    0.082  7.744e-01  6.812e-05 -7.596e-04\n",
      "use_graph                       2.535    1.0    9.098  2.712e-03  7.537e-03  6.703e-03\n",
      "Residual                      118.713  426.0      NaN        NaN        NaN        NaN\n",
      "\n",
      "Here is the linear model with coefficients and confidence intervals (removed stats for individual student ids):\n",
      "\n",
      "                            OLS Regression Results                            \n",
      "==============================================================================\n",
      "Dep. Variable:                   main   R-squared:                       0.592\n",
      "Model:                            OLS   Adj. R-squared:                  0.435\n",
      "Method:                 Least Squares   F-statistic:                     3.753\n",
      "Date:                Tue, 30 Jan 2018   Prob (F-statistic):           5.38e-28\n",
      "Time:                        17:55:31   Log-Likelihood:                -364.40\n",
      "No. Observations:                 592   AIC:                             1061.\n",
      "Df Residuals:                     426   BIC:                             1788.\n",
      "Df Model:                         165                                         \n",
      "Covariance Type:            nonrobust                                         \n",
      "==================================================================================================================\n",
      "                                                     coef    std err          t      P>|t|      [95.0% Conf. Int.]\n",
      "------------------------------------------------------------------------------------------------------------------\n",
      "Intercept                                          1.7018      0.135     12.626      0.000         1.437     1.967\n",
      "C(CVS_levels_2)[T.1]                               0.2081      0.205      1.015      0.311        -0.195     0.611\n",
      "C(CVS_levels_2)[T.2]                               0.2985      0.171      1.743      0.082        -0.038     0.635\n",
      "variable[T.Concentration]                          0.1039      0.074      1.413      0.159        -0.041     0.248\n",
      "variable[T.Separation]                             0.0897      0.115      0.782      0.435        -0.136     0.315\n",
      "variable[T.Width]                                 -0.0013      0.076     -0.017      0.986        -0.151     0.148\n",
      "C(sim_index)[T.2]                                  0.0478      0.095      0.505      0.614        -0.138     0.234\n",
      "C(sim)[T.L]                                        0.1026      0.074      1.379      0.169        -0.044     0.249\n",
      "C(CVS_levels_2)[T.1]:variable[T.Concentration]    -0.1196      0.197     -0.608      0.543        -0.506     0.267\n",
      "C(CVS_levels_2)[T.2]:variable[T.Concentration]    -0.1351      0.161     -0.837      0.403        -0.452     0.182\n",
      "C(CVS_levels_2)[T.1]:variable[T.Separation]       -0.1690      0.180     -0.936      0.350        -0.524     0.186\n",
      "C(CVS_levels_2)[T.2]:variable[T.Separation]       -0.3095      0.147     -2.105      0.036        -0.599    -0.020\n",
      "C(CVS_levels_2)[T.1]:variable[T.Width]            -0.1159      0.199     -0.581      0.561        -0.508     0.276\n",
      "C(CVS_levels_2)[T.2]:variable[T.Width]            -0.0475      0.165     -0.287      0.774        -0.373     0.278\n",
      "C(CVS_levels_2)[T.1]:C(sim_index)[T.2]             0.1637      0.149      1.096      0.274        -0.130     0.457\n",
      "C(CVS_levels_2)[T.2]:C(sim_index)[T.2]             0.1539      0.121      1.271      0.204        -0.084     0.392\n",
      "pre                                                0.0419      0.071      0.589      0.556        -0.098     0.182\n",
      "C(CVS_levels_2)[T.1]:pre                          -0.0639      0.101     -0.632      0.528        -0.263     0.135\n",
      "C(CVS_levels_2)[T.2]:pre                           0.0586      0.084      0.697      0.486        -0.107     0.224\n",
      "level_experience_sims                             -0.1949      0.140     -1.394      0.164        -0.470     0.080\n",
      "experience_undergrad_labs                          0.4969      0.258      1.929      0.054        -0.009     1.003\n",
      "used_similar_sim                                  -0.0248      0.086     -0.287      0.774        -0.194     0.145\n",
      "use_graph                                          0.4195      0.139      3.016      0.003         0.146     0.693\n",
      "==============================================================================\n",
      "Omnibus:                       77.378   Durbin-Watson:                   1.984\n",
      "Prob(Omnibus):                  0.000   Jarque-Bera (JB):              180.767\n",
      "Skew:                          -0.704   Prob(JB):                     5.58e-40\n",
      "Kurtosis:                       5.313   Cond. No.                     3.42e+16\n",
      "==============================================================================\n",
      "\n",
      "Warnings:\n",
      "[1] Standard Errors assume that the covariance matrix of the errors is correctly specified.\n",
      "[2] The smallest eigenvalue is 4.96e-30. This might indicate that there are\n",
      "strong multicollinearity problems or that the design matrix is singular.\n",
      "\n",
      "\n",
      "Model:  main ~ C(CVS_levels_3)*variable + C(CVS_levels_3)*pre + C(CVS_levels_3)*C(sim_index)+ C(sim) + C(sid) + level_experience_sims + experience_undergrad_labs + used_similar_sim + use_graph\n",
      "\n",
      "Anova table using type 3\n",
      "\n",
      "                                 sum_sq     df        F     PR(>F)     eta_sq   omega_sq\n",
      "Intercept                     6.035e+01    1.0  217.639  4.404e-40  1.651e-01  1.642e-01\n",
      "C(CVS_levels_3)               6.186e-01    2.0    1.115  3.287e-01  1.692e-03  1.750e-04\n",
      "variable                      5.295e-01    3.0    0.637  5.918e-01  1.448e-03 -8.262e-04\n",
      "C(sim_index)                  1.036e+00    1.0    3.737  5.387e-02  2.834e-03  2.074e-03\n",
      "C(sim)                        3.102e-01    1.0    1.119  2.908e-01  8.484e-04  8.992e-05\n",
      "C(sid)                        1.770e+02  147.0    4.341  2.053e-32  4.840e-01  3.722e-01\n",
      "C(CVS_levels_3):variable      2.953e+00    6.0    1.775  1.026e-01  8.078e-03  3.525e-03\n",
      "C(CVS_levels_3):C(sim_index)  1.319e-01    2.0    0.238  7.885e-01  3.607e-04 -1.155e-03\n",
      "pre                           5.818e-04    1.0    0.002  9.635e-01  1.591e-06 -7.562e-04\n",
      "C(CVS_levels_3):pre           6.408e-01    2.0    1.156  3.159e-01  1.753e-03  2.358e-04\n",
      "level_experience_sims         4.838e-01    1.0    1.745  1.872e-01  1.323e-03  5.645e-04\n",
      "experience_undergrad_labs     9.379e-01    1.0    3.382  6.660e-02  2.565e-03  1.805e-03\n",
      "used_similar_sim              4.601e-02    1.0    0.166  6.840e-01  1.258e-04 -6.321e-04\n",
      "use_graph                     2.516e+00    1.0    9.072  2.750e-03  6.880e-03  6.117e-03\n",
      "Residual                      1.181e+02  426.0      NaN        NaN        NaN        NaN\n",
      "\n",
      "Here is the linear model with coefficients and confidence intervals (removed stats for individual student ids):\n",
      "\n",
      "                            OLS Regression Results                            \n",
      "==============================================================================\n",
      "Dep. Variable:                   main   R-squared:                       0.594\n",
      "Model:                            OLS   Adj. R-squared:                  0.437\n",
      "Method:                 Least Squares   F-statistic:                     3.784\n",
      "Date:                Tue, 30 Jan 2018   Prob (F-statistic):           2.45e-28\n",
      "Time:                        17:55:31   Log-Likelihood:                -362.93\n",
      "No. Observations:                 592   AIC:                             1058.\n",
      "Df Residuals:                     426   BIC:                             1786.\n",
      "Df Model:                         165                                         \n",
      "Covariance Type:            nonrobust                                         \n",
      "==================================================================================================================\n",
      "                                                     coef    std err          t      P>|t|      [95.0% Conf. Int.]\n",
      "------------------------------------------------------------------------------------------------------------------\n",
      "Intercept                                          1.7717      0.120     14.753      0.000         1.536     2.008\n",
      "C(CVS_levels_3)[T.1]                               0.1655      0.234      0.707      0.480        -0.295     0.626\n",
      "C(CVS_levels_3)[T.2]                               0.2377      0.162      1.467      0.143        -0.081     0.556\n",
      "variable[T.Concentration]                          0.0644      0.062      1.041      0.298        -0.057     0.186\n",
      "variable[T.Separation]                             0.1066      0.094      1.135      0.257        -0.078     0.291\n",
      "variable[T.Width]                                 -0.0009      0.061     -0.014      0.989        -0.121     0.119\n",
      "C(sim_index)[T.2]                                  0.1427      0.074      1.933      0.054        -0.002     0.288\n",
      "C(sim)[T.L]                                        0.0636      0.060      1.058      0.291        -0.055     0.182\n",
      "C(CVS_levels_3)[T.1]:variable[T.Concentration]    -0.0442      0.217     -0.203      0.839        -0.472     0.383\n",
      "C(CVS_levels_3)[T.2]:variable[T.Concentration]    -0.0543      0.145     -0.375      0.708        -0.339     0.230\n",
      "C(CVS_levels_3)[T.1]:variable[T.Separation]       -0.4256      0.218     -1.954      0.051        -0.854     0.003\n",
      "C(CVS_levels_3)[T.2]:variable[T.Separation]       -0.3522      0.134     -2.624      0.009        -0.616    -0.088\n",
      "C(CVS_levels_3)[T.1]:variable[T.Width]            -0.1216      0.225     -0.540      0.589        -0.564     0.321\n",
      "C(CVS_levels_3)[T.2]:variable[T.Width]            -0.0045      0.144     -0.031      0.975        -0.288     0.279\n",
      "C(CVS_levels_3)[T.1]:C(sim_index)[T.2]            -0.0510      0.168     -0.304      0.761        -0.380     0.278\n",
      "C(CVS_levels_3)[T.2]:C(sim_index)[T.2]             0.0504      0.105      0.478      0.633        -0.157     0.258\n",
      "pre                                               -0.0027      0.059     -0.046      0.963        -0.119     0.114\n",
      "C(CVS_levels_3)[T.1]:pre                           0.0045      0.103      0.044      0.965        -0.198     0.207\n",
      "C(CVS_levels_3)[T.2]:pre                           0.1101      0.077      1.426      0.155        -0.042     0.262\n",
      "level_experience_sims                             -0.1844      0.140     -1.321      0.187        -0.459     0.090\n",
      "experience_undergrad_labs                          0.4755      0.259      1.839      0.067        -0.033     0.984\n",
      "used_similar_sim                                  -0.0353      0.087     -0.407      0.684        -0.206     0.135\n",
      "use_graph                                          0.4168      0.138      3.012      0.003         0.145     0.689\n",
      "==============================================================================\n",
      "Omnibus:                       81.848   Durbin-Watson:                   1.967\n",
      "Prob(Omnibus):                  0.000   Jarque-Bera (JB):              204.985\n",
      "Skew:                          -0.718   Prob(JB):                     3.08e-45\n",
      "Kurtosis:                       5.499   Cond. No.                     3.10e+16\n",
      "==============================================================================\n",
      "\n",
      "Warnings:\n",
      "[1] Standard Errors assume that the covariance matrix of the errors is correctly specified.\n",
      "[2] The smallest eigenvalue is 5.92e-30. This might indicate that there are\n",
      "strong multicollinearity problems or that the design matrix is singular.\n",
      "\n",
      "\n",
      "Model:  main ~ C(CVS_levels_4)*variable + C(CVS_levels_4)*pre + C(CVS_levels_4)*C(sim_index)+ C(sim) + C(sid) + level_experience_sims + experience_undergrad_labs + used_similar_sim + use_graph\n",
      "\n",
      "Anova table using type 3\n",
      "\n",
      "                               sum_sq     df        F     PR(>F)     eta_sq   omega_sq\n",
      "Intercept                      73.410    1.0  265.761  8.844e-47  1.883e-01  1.874e-01\n",
      "C(CVS_levels_4)                 0.764    2.0    1.382  2.522e-01  1.958e-03  5.410e-04\n",
      "variable                        0.488    3.0    0.589  6.227e-01  1.251e-03 -8.736e-04\n",
      "C(sim_index)                    1.890    1.0    6.843  9.216e-03  4.848e-03  4.137e-03\n",
      "C(sim)                          0.142    1.0    0.513  4.743e-01  3.633e-04 -3.449e-04\n",
      "C(sid)                        186.841  147.0    4.601  5.742e-35  4.792e-01  3.748e-01\n",
      "C(CVS_levels_4):variable        2.663    6.0    1.607  1.436e-01  6.830e-03  2.577e-03\n",
      "C(CVS_levels_4):C(sim_index)    1.303    2.0    2.359  9.572e-02  3.343e-03  1.925e-03\n",
      "pre                             0.029    1.0    0.105  7.457e-01  7.463e-05 -6.334e-04\n",
      "C(CVS_levels_4):pre             0.972    2.0    1.760  1.733e-01  2.494e-03  1.076e-03\n",
      "level_experience_sims           0.458    1.0    1.656  1.988e-01  1.174e-03  4.647e-04\n",
      "experience_undergrad_labs       0.890    1.0    3.222  7.337e-02  2.283e-03  1.573e-03\n",
      "used_similar_sim                0.009    1.0    0.032  8.586e-01  2.252e-05 -6.855e-04\n",
      "use_graph                       2.351    1.0    8.510  3.719e-03  6.029e-03  5.317e-03\n",
      "Residual                      117.671  426.0      NaN        NaN        NaN        NaN\n",
      "\n",
      "Here is the linear model with coefficients and confidence intervals (removed stats for individual student ids):\n",
      "\n",
      "                            OLS Regression Results                            \n",
      "==============================================================================\n",
      "Dep. Variable:                   main   R-squared:                       0.596\n",
      "Model:                            OLS   Adj. R-squared:                  0.440\n",
      "Method:                 Least Squares   F-statistic:                     3.809\n",
      "Date:                Tue, 30 Jan 2018   Prob (F-statistic):           1.34e-28\n",
      "Time:                        17:55:31   Log-Likelihood:                -361.79\n",
      "No. Observations:                 592   AIC:                             1056.\n",
      "Df Residuals:                     426   BIC:                             1783.\n",
      "Df Model:                         165                                         \n",
      "Covariance Type:            nonrobust                                         \n",
      "==================================================================================================================\n",
      "                                                     coef    std err          t      P>|t|      [95.0% Conf. Int.]\n",
      "------------------------------------------------------------------------------------------------------------------\n",
      "Intercept                                          1.8159      0.111     16.302      0.000         1.597     2.035\n",
      "C(CVS_levels_4)[T.1]                               0.4124      0.301      1.372      0.171        -0.178     1.003\n",
      "C(CVS_levels_4)[T.2]                               0.1945      0.163      1.193      0.233        -0.126     0.515\n",
      "variable[T.Concentration]                          0.0686      0.054      1.262      0.207        -0.038     0.175\n",
      "variable[T.Separation]                             0.0038      0.084      0.045      0.964        -0.161     0.168\n",
      "variable[T.Width]                                 -0.0306      0.055     -0.559      0.576        -0.138     0.077\n",
      "C(sim_index)[T.2]                                  0.1712      0.065      2.616      0.009         0.043     0.300\n",
      "C(sim)[T.L]                                        0.0380      0.053      0.716      0.474        -0.066     0.142\n",
      "C(CVS_levels_4)[T.1]:variable[T.Concentration]    -0.4556      0.297     -1.532      0.126        -1.040     0.129\n",
      "C(CVS_levels_4)[T.2]:variable[T.Concentration]    -0.0099      0.137     -0.072      0.943        -0.280     0.260\n",
      "C(CVS_levels_4)[T.1]:variable[T.Separation]        0.0092      0.357      0.026      0.979        -0.693     0.712\n",
      "C(CVS_levels_4)[T.2]:variable[T.Separation]       -0.2272      0.129     -1.756      0.080        -0.481     0.027\n",
      "C(CVS_levels_4)[T.1]:variable[T.Width]            -0.3258      0.289     -1.128      0.260        -0.893     0.242\n",
      "C(CVS_levels_4)[T.2]:variable[T.Width]             0.0848      0.138      0.613      0.540        -0.187     0.357\n",
      "C(CVS_levels_4)[T.1]:C(sim_index)[T.2]            -0.4534      0.217     -2.086      0.038        -0.880    -0.026\n",
      "C(CVS_levels_4)[T.2]:C(sim_index)[T.2]             0.0168      0.102      0.165      0.869        -0.183     0.217\n",
      "pre                                               -0.0170      0.052     -0.325      0.746        -0.120     0.086\n",
      "C(CVS_levels_4)[T.1]:pre                           0.1557      0.124      1.251      0.212        -0.089     0.400\n",
      "C(CVS_levels_4)[T.2]:pre                           0.1240      0.074      1.677      0.094        -0.021     0.269\n",
      "level_experience_sims                             -0.1797      0.140     -1.287      0.199        -0.454     0.095\n",
      "experience_undergrad_labs                          0.4647      0.259      1.795      0.073        -0.044     0.974\n",
      "used_similar_sim                                  -0.0155      0.087     -0.178      0.859        -0.186     0.155\n",
      "use_graph                                          0.4053      0.139      2.917      0.004         0.132     0.678\n",
      "==============================================================================\n",
      "Omnibus:                       84.857   Durbin-Watson:                   1.967\n",
      "Prob(Omnibus):                  0.000   Jarque-Bera (JB):              220.579\n",
      "Skew:                          -0.731   Prob(JB):                     1.26e-48\n",
      "Kurtosis:                       5.609   Cond. No.                     3.15e+16\n",
      "==============================================================================\n",
      "\n",
      "Warnings:\n",
      "[1] Standard Errors assume that the covariance matrix of the errors is correctly specified.\n",
      "[2] The smallest eigenvalue is 5.65e-30. This might indicate that there are\n",
      "strong multicollinearity problems or that the design matrix is singular.\n",
      "\n",
      "\n",
      "Model:  main ~ C(CVS_levels_5)*variable + C(CVS_levels_5)*pre + C(CVS_levels_5)*C(sim_index)+ C(sim) + C(sid) + level_experience_sims + experience_undergrad_labs + used_similar_sim + use_graph\n",
      "\n",
      "Anova table using type 3\n",
      "\n",
      "                               sum_sq     df        F     PR(>F)     eta_sq   omega_sq\n",
      "Intercept                      73.138    1.0  262.281  2.600e-46  1.796e-01  1.788e-01\n",
      "C(CVS_levels_5)                 0.724    2.0    1.297  2.743e-01  1.777e-03  4.069e-04\n",
      "variable                        0.624    3.0    0.746  5.251e-01  1.533e-03 -5.214e-04\n",
      "C(sim_index)                    3.017    1.0   10.821  1.087e-03  7.410e-03  6.721e-03\n",
      "C(sim)                          0.298    1.0    1.070  3.015e-01  7.328e-04  4.795e-05\n",
      "C(sid)                        197.102  147.0    4.808  5.810e-37  4.840e-01  3.831e-01\n",
      "C(CVS_levels_5):variable        4.099    6.0    2.450  2.436e-02  1.007e-02  5.953e-03\n",
      "C(CVS_levels_5):C(sim_index)    2.655    2.0    4.761  9.021e-03  6.520e-03  5.147e-03\n",
      "pre                             0.290    1.0    1.040  3.083e-01  7.124e-04  2.757e-05\n",
      "C(CVS_levels_5):pre             0.234    2.0    0.419  6.582e-01  5.734e-04 -7.956e-04\n",
      "level_experience_sims           0.696    1.0    2.495  1.150e-01  1.708e-03  1.023e-03\n",
      "experience_undergrad_labs       1.468    1.0    5.263  2.227e-02  3.604e-03  2.917e-03\n",
      "used_similar_sim                0.037    1.0    0.134  7.144e-01  9.186e-05 -5.925e-04\n",
      "use_graph                       4.029    1.0   14.448  1.650e-04  9.894e-03  9.203e-03\n",
      "Residual                      118.791  426.0      NaN        NaN        NaN        NaN\n",
      "\n",
      "Here is the linear model with coefficients and confidence intervals (removed stats for individual student ids):\n",
      "\n",
      "                            OLS Regression Results                            \n",
      "==============================================================================\n",
      "Dep. Variable:                   main   R-squared:                       0.592\n",
      "Model:                            OLS   Adj. R-squared:                  0.434\n",
      "Method:                 Least Squares   F-statistic:                     3.749\n",
      "Date:                Tue, 30 Jan 2018   Prob (F-statistic):           5.97e-28\n",
      "Time:                        17:55:32   Log-Likelihood:                -364.59\n",
      "No. Observations:                 592   AIC:                             1061.\n",
      "Df Residuals:                     426   BIC:                             1789.\n",
      "Df Model:                         165                                         \n",
      "Covariance Type:            nonrobust                                         \n",
      "==================================================================================================================\n",
      "                                                     coef    std err          t      P>|t|      [95.0% Conf. Int.]\n",
      "------------------------------------------------------------------------------------------------------------------\n",
      "Intercept                                          1.7196      0.106     16.195      0.000         1.511     1.928\n",
      "C(CVS_levels_5)[T.1]                               0.5244      0.337      1.558      0.120        -0.137     1.186\n",
      "C(CVS_levels_5)[T.2]                               0.1191      0.171      0.696      0.487        -0.217     0.456\n",
      "variable[T.Concentration]                          0.0430      0.050      0.859      0.391        -0.055     0.141\n",
      "variable[T.Separation]                            -0.0279      0.078     -0.358      0.720        -0.181     0.125\n",
      "variable[T.Width]                                  0.0075      0.049      0.153      0.878        -0.089     0.104\n",
      "C(sim_index)[T.2]                                  0.1953      0.059      3.289      0.001         0.079     0.312\n",
      "C(sim)[T.L]                                        0.0505      0.049      1.034      0.302        -0.045     0.146\n",
      "C(CVS_levels_5)[T.1]:variable[T.Concentration]    -0.4655      0.335     -1.389      0.165        -1.124     0.193\n",
      "C(CVS_levels_5)[T.2]:variable[T.Concentration]     0.0375      0.143      0.263      0.793        -0.243     0.318\n",
      "C(CVS_levels_5)[T.1]:variable[T.Separation]        0.2433      0.371      0.656      0.512        -0.486     0.973\n",
      "C(CVS_levels_5)[T.2]:variable[T.Separation]       -0.2464      0.140     -1.759      0.079        -0.522     0.029\n",
      "C(CVS_levels_5)[T.1]:variable[T.Width]            -0.4800      0.329     -1.457      0.146        -1.127     0.168\n",
      "C(CVS_levels_5)[T.2]:variable[T.Width]             0.0553      0.147      0.376      0.707        -0.234     0.344\n",
      "C(CVS_levels_5)[T.1]:C(sim_index)[T.2]            -0.6408      0.218     -2.943      0.003        -1.069    -0.213\n",
      "C(CVS_levels_5)[T.2]:C(sim_index)[T.2]             0.0431      0.106      0.405      0.685        -0.166     0.252\n",
      "pre                                                0.0485      0.048      1.020      0.308        -0.045     0.142\n",
      "C(CVS_levels_5)[T.1]:pre                           0.1253      0.139      0.900      0.368        -0.148     0.399\n",
      "C(CVS_levels_5)[T.2]:pre                           0.0267      0.075      0.355      0.722        -0.121     0.174\n",
      "level_experience_sims                             -0.2230      0.141     -1.579      0.115        -0.500     0.055\n",
      "experience_undergrad_labs                          0.5989      0.261      2.294      0.022         0.086     1.112\n",
      "used_similar_sim                                  -0.0318      0.087     -0.366      0.714        -0.202     0.139\n",
      "use_graph                                          0.5233      0.138      3.801      0.000         0.253     0.794\n",
      "==============================================================================\n",
      "Omnibus:                       73.939   Durbin-Watson:                   1.992\n",
      "Prob(Omnibus):                  0.000   Jarque-Bera (JB):              193.438\n",
      "Skew:                          -0.638   Prob(JB):                     9.90e-43\n",
      "Kurtosis:                       5.493   Cond. No.                     2.19e+16\n",
      "==============================================================================\n",
      "\n",
      "Warnings:\n",
      "[1] Standard Errors assume that the covariance matrix of the errors is correctly specified.\n",
      "[2] The smallest eigenvalue is 1.13e-29. This might indicate that there are\n",
      "strong multicollinearity problems or that the design matrix is singular.\n"
     ]
    }
   ],
   "source": [
    "for CVS in ['CVS_levels_2','CVS_levels_3','CVS_levels_4','CVS_levels_5']:\n",
    "    formula = 'main ~ C(' + CVS + ')*variable + C(' + CVS + ')*pre + C(' + CVS + ')*C(sim_index)' + covariates_for_interaction_model\n",
    "    model = ols(formula, data).fit()\n",
    "    print \"\\n\\nModel: \",formula\n",
    "    aov_table = anova_lm(model, typ=3)\n",
    "    eta_squared(aov_table)\n",
    "    omega_squared(aov_table)\n",
    "    print \"\\nAnova table using type 3\\n\"\n",
    "    print(aov_table)\n",
    "    print \"\\nHere is the linear model with coefficients and confidence intervals (removed stats for individual student ids):\\n\"\n",
    "    print clean_summary(model)"
   ]
  },
  {
   "cell_type": "markdown",
   "metadata": {},
   "source": [
    "## Parsimonious model\n",
    "Since none of the interactions matter, we remove them and opt for a parsimonious model."
   ]
  },
  {
   "cell_type": "code",
   "execution_count": 34,
   "metadata": {
    "collapsed": false,
    "scrolled": false
   },
   "outputs": [
    {
     "name": "stdout",
     "output_type": "stream",
     "text": [
      "\n",
      "\n",
      "Model:  main ~ C(CVS_levels_2)+ variable + pre + C(sim_index) + C(sid) + level_experience_sims + experience_undergrad_labs + used_similar_sim + use_graph\n",
      "\n",
      "Anova table using type 3\n",
      "\n",
      "                            sum_sq     df        F     PR(>F)     eta_sq   omega_sq\n",
      "Intercept                   80.463    1.0  289.327  3.905e-50  1.949e-01  1.941e-01\n",
      "C(CVS_levels_2)              4.482    2.0    8.059  3.659e-04  1.086e-02  9.506e-03\n",
      "variable                     2.905    3.0    3.482  1.592e-02  7.038e-03  5.014e-03\n",
      "C(sim_index)                 3.720    1.0   13.376  2.860e-04  9.013e-03  8.333e-03\n",
      "C(sid)                     194.720  147.0    4.763  6.273e-37  4.718e-01  3.725e-01\n",
      "pre                          0.778    1.0    2.796  9.522e-02  1.884e-03  1.209e-03\n",
      "level_experience_sims        0.630    1.0    2.264  1.332e-01  1.525e-03  8.508e-04\n",
      "experience_undergrad_labs    1.174    1.0    4.223  4.048e-02  2.845e-03  2.170e-03\n",
      "used_similar_sim             0.050    1.0    0.181  6.704e-01  1.222e-04 -5.512e-04\n",
      "use_graph                    2.572    1.0    9.248  2.500e-03  6.231e-03  5.554e-03\n",
      "Residual                   121.254  436.0      NaN        NaN        NaN        NaN\n",
      "\n",
      "Here is the linear model with coefficients and confidence intervals (removed stats for individual student ids):\n",
      "\n",
      "                            OLS Regression Results                            \n",
      "==============================================================================\n",
      "Dep. Variable:                   main   R-squared:                       0.584\n",
      "Model:                            OLS   Adj. R-squared:                  0.436\n",
      "Method:                 Least Squares   F-statistic:                     3.944\n",
      "Date:                Tue, 30 Jan 2018   Prob (F-statistic):           1.79e-29\n",
      "Time:                        17:55:32   Log-Likelihood:                -370.67\n",
      "No. Observations:                 592   AIC:                             1053.\n",
      "Df Residuals:                     436   BIC:                             1737.\n",
      "Df Model:                         155                                         \n",
      "Covariance Type:            nonrobust                                         \n",
      "=============================================================================================\n",
      "                                coef    std err          t      P>|t|      [95.0% Conf. Int.]\n",
      "---------------------------------------------------------------------------------------------\n",
      "Intercept                     1.7211      0.101     17.010      0.000         1.522     1.920\n",
      "C(CVS_levels_2)[T.1]          0.0885      0.088      1.010      0.313        -0.084     0.261\n",
      "C(CVS_levels_2)[T.2]          0.3229      0.082      3.944      0.000         0.162     0.484\n",
      "variable[T.Concentration]     0.1060      0.065      1.634      0.103        -0.022     0.234\n",
      "variable[T.Separation]       -0.0970      0.061     -1.580      0.115        -0.218     0.024\n",
      "variable[T.Width]             0.0580      0.065      0.891      0.373        -0.070     0.186\n",
      "C(sim_index)[T.2]             0.1629      0.045      3.657      0.000         0.075     0.250\n",
      "pre                           0.0591      0.035      1.672      0.095        -0.010     0.129\n",
      "level_experience_sims        -0.2090      0.139     -1.505      0.133        -0.482     0.064\n",
      "experience_undergrad_labs     0.5271      0.256      2.055      0.040         0.023     1.031\n",
      "used_similar_sim             -0.0363      0.085     -0.426      0.670        -0.204     0.131\n",
      "use_graph                     0.4215      0.139      3.041      0.002         0.149     0.694\n",
      "==============================================================================\n",
      "Omnibus:                       83.078   Durbin-Watson:                   1.974\n",
      "Prob(Omnibus):                  0.000   Jarque-Bera (JB):              204.193\n",
      "Skew:                          -0.735   Prob(JB):                     4.57e-45\n",
      "Kurtosis:                       5.474   Cond. No.                     3.55e+16\n",
      "==============================================================================\n",
      "\n",
      "Warnings:\n",
      "[1] Standard Errors assume that the covariance matrix of the errors is correctly specified.\n",
      "[2] The smallest eigenvalue is 4.12e-30. This might indicate that there are\n",
      "strong multicollinearity problems or that the design matrix is singular.\n",
      "\n",
      "\n",
      "Model:  main ~ C(CVS_levels_3)+ variable + pre + C(sim_index) + C(sid) + level_experience_sims + experience_undergrad_labs + used_similar_sim + use_graph\n",
      "\n",
      "Anova table using type 3\n",
      "\n",
      "                            sum_sq     df        F     PR(>F)     eta_sq   omega_sq\n",
      "Intercept                   90.314    1.0  323.717  1.555e-54  2.111e-01  2.103e-01\n",
      "C(CVS_levels_3)              4.096    2.0    7.341  7.315e-04  9.576e-03  8.266e-03\n",
      "variable                     2.743    3.0    3.278  2.096e-02  6.414e-03  4.454e-03\n",
      "C(sim_index)                 3.525    1.0   12.636  4.199e-04  8.241e-03  7.584e-03\n",
      "C(sid)                     200.319  147.0    4.884  4.176e-38  4.683e-01  3.722e-01\n",
      "pre                          0.834    1.0    2.989  8.456e-02  1.949e-03  1.296e-03\n",
      "level_experience_sims        0.581    1.0    2.082  1.497e-01  1.358e-03  7.055e-04\n",
      "experience_undergrad_labs    1.034    1.0    3.706  5.486e-02  2.417e-03  1.764e-03\n",
      "used_similar_sim             0.049    1.0    0.175  6.762e-01  1.139e-04 -5.379e-04\n",
      "use_graph                    2.622    1.0    9.399  2.306e-03  6.130e-03  5.474e-03\n",
      "Residual                   121.640  436.0      NaN        NaN        NaN        NaN\n",
      "\n",
      "Here is the linear model with coefficients and confidence intervals (removed stats for individual student ids):\n",
      "\n",
      "                            OLS Regression Results                            \n",
      "==============================================================================\n",
      "Dep. Variable:                   main   R-squared:                       0.582\n",
      "Model:                            OLS   Adj. R-squared:                  0.434\n",
      "Method:                 Least Squares   F-statistic:                     3.923\n",
      "Date:                Tue, 30 Jan 2018   Prob (F-statistic):           3.01e-29\n",
      "Time:                        17:55:32   Log-Likelihood:                -371.61\n",
      "No. Observations:                 592   AIC:                             1055.\n",
      "Df Residuals:                     436   BIC:                             1739.\n",
      "Df Model:                         155                                         \n",
      "Covariance Type:            nonrobust                                         \n",
      "=============================================================================================\n",
      "                                coef    std err          t      P>|t|      [95.0% Conf. Int.]\n",
      "---------------------------------------------------------------------------------------------\n",
      "Intercept                     1.7680      0.098     17.992      0.000         1.575     1.961\n",
      "C(CVS_levels_3)[T.1]         -0.0080      0.094     -0.085      0.932        -0.192     0.176\n",
      "C(CVS_levels_3)[T.2]          0.2938      0.083      3.545      0.000         0.131     0.457\n",
      "variable[T.Concentration]     0.0988      0.065      1.515      0.131        -0.029     0.227\n",
      "variable[T.Separation]       -0.0982      0.062     -1.595      0.111        -0.219     0.023\n",
      "variable[T.Width]             0.0578      0.065      0.888      0.375        -0.070     0.186\n",
      "C(sim_index)[T.2]             0.1593      0.045      3.555      0.000         0.071     0.247\n",
      "pre                           0.0615      0.036      1.729      0.085        -0.008     0.131\n",
      "level_experience_sims        -0.2010      0.139     -1.443      0.150        -0.475     0.073\n",
      "experience_undergrad_labs     0.4974      0.258      1.925      0.055        -0.010     1.005\n",
      "used_similar_sim             -0.0357      0.085     -0.418      0.676        -0.203     0.132\n",
      "use_graph                     0.4247      0.139      3.066      0.002         0.152     0.697\n",
      "==============================================================================\n",
      "Omnibus:                       85.134   Durbin-Watson:                   1.983\n",
      "Prob(Omnibus):                  0.000   Jarque-Bera (JB):              213.146\n",
      "Skew:                          -0.745   Prob(JB):                     5.20e-47\n",
      "Kurtosis:                       5.533   Cond. No.                     2.81e+16\n",
      "==============================================================================\n",
      "\n",
      "Warnings:\n",
      "[1] Standard Errors assume that the covariance matrix of the errors is correctly specified.\n",
      "[2] The smallest eigenvalue is 6.53e-30. This might indicate that there are\n",
      "strong multicollinearity problems or that the design matrix is singular.\n",
      "\n",
      "\n",
      "Model:  main ~ C(CVS_levels_4)+ variable + pre + C(sim_index) + C(sid) + level_experience_sims + experience_undergrad_labs + used_similar_sim + use_graph\n",
      "\n",
      "Anova table using type 3\n",
      "\n",
      "                            sum_sq     df        F     PR(>F)     eta_sq   omega_sq\n",
      "Intercept                   90.821    1.0  324.893  1.109e-54  2.114e-01  2.106e-01\n",
      "C(CVS_levels_4)              3.856    2.0    6.897  1.125e-03  8.974e-03  7.668e-03\n",
      "variable                     2.548    3.0    3.039  2.886e-02  5.931e-03  3.977e-03\n",
      "C(sim_index)                 3.356    1.0   12.004  5.835e-04  7.810e-03  7.154e-03\n",
      "C(sid)                     202.280  147.0    4.923  1.794e-38  4.708e-01  3.749e-01\n",
      "pre                          0.827    1.0    2.958  8.616e-02  1.924e-03  1.273e-03\n",
      "level_experience_sims        0.554    1.0    1.982  1.599e-01  1.289e-03  6.382e-04\n",
      "experience_undergrad_labs    0.958    1.0    3.426  6.484e-02  2.229e-03  1.578e-03\n",
      "used_similar_sim             0.033    1.0    0.118  7.310e-01  7.699e-05 -5.732e-04\n",
      "use_graph                    2.552    1.0    9.129  2.663e-03  5.940e-03  5.286e-03\n",
      "Residual                   121.880  436.0      NaN        NaN        NaN        NaN\n",
      "\n",
      "Here is the linear model with coefficients and confidence intervals (removed stats for individual student ids):\n",
      "\n",
      "                            OLS Regression Results                            \n",
      "==============================================================================\n",
      "Dep. Variable:                   main   R-squared:                       0.582\n",
      "Model:                            OLS   Adj. R-squared:                  0.433\n",
      "Method:                 Least Squares   F-statistic:                     3.909\n",
      "Date:                Tue, 30 Jan 2018   Prob (F-statistic):           4.16e-29\n",
      "Time:                        17:55:32   Log-Likelihood:                -372.19\n",
      "No. Observations:                 592   AIC:                             1056.\n",
      "Df Residuals:                     436   BIC:                             1740.\n",
      "Df Model:                         155                                         \n",
      "Covariance Type:            nonrobust                                         \n",
      "=============================================================================================\n",
      "                                coef    std err          t      P>|t|      [95.0% Conf. Int.]\n",
      "---------------------------------------------------------------------------------------------\n",
      "Intercept                     1.7727      0.098     18.025      0.000         1.579     1.966\n",
      "C(CVS_levels_4)[T.1]          0.1033      0.119      0.865      0.387        -0.131     0.338\n",
      "C(CVS_levels_4)[T.2]          0.3126      0.085      3.679      0.000         0.146     0.480\n",
      "variable[T.Concentration]     0.0918      0.066      1.397      0.163        -0.037     0.221\n",
      "variable[T.Separation]       -0.1006      0.062     -1.635      0.103        -0.222     0.020\n",
      "variable[T.Width]             0.0474      0.066      0.721      0.472        -0.082     0.177\n",
      "C(sim_index)[T.2]             0.1562      0.045      3.465      0.001         0.068     0.245\n",
      "pre                           0.0607      0.035      1.720      0.086        -0.009     0.130\n",
      "level_experience_sims        -0.1966      0.140     -1.408      0.160        -0.471     0.078\n",
      "experience_undergrad_labs     0.4806      0.260      1.851      0.065        -0.030     0.991\n",
      "used_similar_sim             -0.0294      0.086     -0.344      0.731        -0.198     0.139\n",
      "use_graph                     0.4215      0.140      3.021      0.003         0.147     0.696\n",
      "==============================================================================\n",
      "Omnibus:                       84.178   Durbin-Watson:                   1.986\n",
      "Prob(Omnibus):                  0.000   Jarque-Bera (JB):              212.048\n",
      "Skew:                          -0.736   Prob(JB):                     9.00e-47\n",
      "Kurtosis:                       5.536   Cond. No.                     2.90e+16\n",
      "==============================================================================\n",
      "\n",
      "Warnings:\n",
      "[1] Standard Errors assume that the covariance matrix of the errors is correctly specified.\n",
      "[2] The smallest eigenvalue is 6.12e-30. This might indicate that there are\n",
      "strong multicollinearity problems or that the design matrix is singular.\n",
      "\n",
      "\n",
      "Model:  main ~ C(CVS_levels_5)+ variable + pre + C(sim_index) + C(sid) + level_experience_sims + experience_undergrad_labs + used_similar_sim + use_graph\n",
      "\n",
      "Anova table using type 3\n",
      "\n",
      "                            sum_sq     df        F     PR(>F)     eta_sq   omega_sq\n",
      "Intercept                   87.831    1.0  306.871  2.096e-52  2.022e-01  2.014e-01\n",
      "C(CVS_levels_5)              0.946    2.0    1.653  1.927e-01  2.178e-03  8.600e-04\n",
      "variable                     3.018    3.0    3.515  1.523e-02  6.948e-03  4.968e-03\n",
      "C(sim_index)                 4.523    1.0   15.803  8.225e-05  1.041e-02  9.747e-03\n",
      "C(sid)                     205.956  147.0    4.895  3.294e-38  4.741e-01  3.770e-01\n",
      "pre                          1.058    1.0    3.695  5.523e-02  2.435e-03  1.774e-03\n",
      "level_experience_sims        0.692    1.0    2.417  1.207e-01  1.593e-03  9.332e-04\n",
      "experience_undergrad_labs    1.378    1.0    4.813  2.877e-02  3.171e-03  2.511e-03\n",
      "used_similar_sim             0.071    1.0    0.247  6.194e-01  1.628e-04 -4.958e-04\n",
      "use_graph                    4.144    1.0   14.477  1.621e-04  9.539e-03  8.874e-03\n",
      "Residual                   124.790  436.0      NaN        NaN        NaN        NaN\n",
      "\n",
      "Here is the linear model with coefficients and confidence intervals (removed stats for individual student ids):\n",
      "\n",
      "                            OLS Regression Results                            \n",
      "==============================================================================\n",
      "Dep. Variable:                   main   R-squared:                       0.572\n",
      "Model:                            OLS   Adj. R-squared:                  0.419\n",
      "Method:                 Least Squares   F-statistic:                     3.753\n",
      "Date:                Tue, 30 Jan 2018   Prob (F-statistic):           1.92e-27\n",
      "Time:                        17:55:32   Log-Likelihood:                -379.18\n",
      "No. Observations:                 592   AIC:                             1070.\n",
      "Df Residuals:                     436   BIC:                             1754.\n",
      "Df Model:                         155                                         \n",
      "Covariance Type:            nonrobust                                         \n",
      "=============================================================================================\n",
      "                                coef    std err          t      P>|t|      [95.0% Conf. Int.]\n",
      "---------------------------------------------------------------------------------------------\n",
      "Intercept                     1.7283      0.099     17.518      0.000         1.534     1.922\n",
      "C(CVS_levels_5)[T.1]          0.0378      0.123      0.308      0.759        -0.204     0.280\n",
      "C(CVS_levels_5)[T.2]          0.1432      0.080      1.797      0.073        -0.013     0.300\n",
      "variable[T.Concentration]     0.1047      0.067      1.568      0.118        -0.027     0.236\n",
      "variable[T.Separation]       -0.1028      0.062     -1.650      0.100        -0.225     0.020\n",
      "variable[T.Width]             0.0602      0.066      0.906      0.365        -0.070     0.191\n",
      "C(sim_index)[T.2]             0.1797      0.045      3.975      0.000         0.091     0.269\n",
      "pre                           0.0684      0.036      1.922      0.055        -0.002     0.138\n",
      "level_experience_sims        -0.2205      0.142     -1.555      0.121        -0.499     0.058\n",
      "experience_undergrad_labs     0.5772      0.263      2.194      0.029         0.060     1.094\n",
      "used_similar_sim             -0.0430      0.086     -0.497      0.619        -0.213     0.127\n",
      "use_graph                     0.5296      0.139      3.805      0.000         0.256     0.803\n",
      "==============================================================================\n",
      "Omnibus:                       79.871   Durbin-Watson:                   1.969\n",
      "Prob(Omnibus):                  0.000   Jarque-Bera (JB):              201.263\n",
      "Skew:                          -0.700   Prob(JB):                     1.98e-44\n",
      "Kurtosis:                       5.490   Cond. No.                     2.09e+16\n",
      "==============================================================================\n",
      "\n",
      "Warnings:\n",
      "[1] Standard Errors assume that the covariance matrix of the errors is correctly specified.\n",
      "[2] The smallest eigenvalue is 1.17e-29. This might indicate that there are\n",
      "strong multicollinearity problems or that the design matrix is singular.\n"
     ]
    }
   ],
   "source": [
    "for CVS in ['CVS_levels_2','CVS_levels_3','CVS_levels_4','CVS_levels_5']:\n",
    "    formula = 'main ~ C(' + CVS + ')' + covariates_for_parsimonious_model\n",
    "    model = ols(formula, data).fit()\n",
    "    print \"\\n\\nModel: \",formula\n",
    "    aov_table = anova_lm(model, typ=3)\n",
    "    eta_squared(aov_table)\n",
    "    omega_squared(aov_table)\n",
    "    print \"\\nAnova table using type 3\\n\"\n",
    "    print(aov_table)\n",
    "    print \"\\nHere is the linear model with coefficients and confidence intervals (removed stats for individual student ids):\\n\"\n",
    "    print clean_summary(model)"
   ]
  },
  {
   "cell_type": "markdown",
   "metadata": {},
   "source": [
    "## Sensitivity analysis on CVS criteria using AIC and BIC\n",
    "These results were produced using AOV of linear regression with Type III SS\n",
    "\n",
    "Model with interactions\n",
    "\n",
    "\tmain ~ C(CVS_levels)*variable + C(CVS_levels)*pre + C(CVS_levels)*C(sim_index) + C(sid) + C(sim) + level_experience_sims + experience_undergrad_labs + used_similar_sim + use_graph'\n",
    "\n",
    "Model without any interactions\n",
    "\n",
    "\tmain ~ C(CVS_levels) + variable + pre + C(sim_index) + C(sid) + level_experience_sims + experience_undergrad_labs + used_similar_sim + use_graph'\n",
    "\n",
    "We think a threshold of 3 pts is stricks a balance between 1) measuring more deliberatness than 2 pts and 2) it is less stringent than using more points.\n",
    "\n",
    "Here are the AIC and BIC of the models (lower means better model controlling for number of parameters)\n",
    "\n",
    "    all interactions\n",
    "    #pts\tAIC\t\tBIC\t\n",
    "    2\t\t1061\t1788\n",
    "    3\t\t1058\t1786\n",
    "    4\t\t1056\t1783 -> best model\n",
    "    5\t\t1061\t1789\n",
    "\n",
    "    no interactions\n",
    "    #pts\tAIC\t\tBIC\n",
    "    2\t\t1053\t1737 -> best model\n",
    "    3\t\t1055\t1739\n",
    "    4\t\t1056\t1740\n",
    "    5\t\t1070\t1754\n",
    "\n",
    "None of these models are drastically different from each other. The only difference is some significant interactions when #pts = 5 but that's also our worse model.\n",
    "\n",
    "We pick #pts = 3 and call it a day"
   ]
  },
  {
   "cell_type": "markdown",
   "metadata": {},
   "source": [
    "## Post-hoc analysis on levels using 3pts as threshold"
   ]
  },
  {
   "cell_type": "code",
   "execution_count": 35,
   "metadata": {
    "collapsed": false,
    "scrolled": false
   },
   "outputs": [
    {
     "name": "stdout",
     "output_type": "stream",
     "text": [
      "Comparing CVS levels 0 and 1\n",
      "\n",
      "\n",
      "Model:  main ~ C(CVS_levels_3)+ variable + pre + C(sim_index) + C(sid) + level_experience_sims + experience_undergrad_labs + used_similar_sim + use_graph\n",
      "where levels = (0,1)\n",
      "\n",
      "Anova table using type 3 errors\n",
      "\n",
      "                            sum_sq     df        F     PR(>F)     eta_sq   omega_sq\n",
      "Intercept                   44.758    1.0  193.706  1.620e-31  1.858e-01  1.847e-01\n",
      "C(CVS_levels_3)              0.014    1.0    0.059  8.083e-01  5.658e-05 -9.017e-04\n",
      "variable                     0.418    3.0    0.602  6.142e-01  1.733e-03 -1.143e-03\n",
      "C(sim_index)                 1.123    1.0    4.861  2.857e-02  4.663e-03  3.700e-03\n",
      "C(sid)                     140.923  108.0    5.647  9.675e-27  5.850e-01  4.809e-01\n",
      "pre                          0.049    1.0    0.213  6.451e-01  2.041e-04 -7.543e-04\n",
      "level_experience_sims        2.872    1.0   12.428  5.206e-04  1.192e-02  1.095e-02\n",
      "experience_undergrad_labs    2.095    1.0    9.065  2.929e-03  8.695e-03  7.729e-03\n",
      "used_similar_sim             0.052    1.0    0.227  6.343e-01  2.177e-04 -7.407e-04\n",
      "use_graph                    0.768    1.0    3.323  6.974e-02  3.188e-03  2.226e-03\n",
      "Residual                    47.830  207.0      NaN        NaN        NaN        NaN\n"
     ]
    }
   ],
   "source": [
    "for CVS in ['CVS_levels_3']: #'CVS_levels_2','CVS_levels_3','CVS_levels_4']:\n",
    "    formula = 'main ~ C(' + CVS + ')' + covariates_for_parsimonious_model\n",
    "    print \"Comparing CVS levels 0 and 1\"\n",
    "    model = ols(formula, data[data[CVS]!=2]).fit()\n",
    "    print \"\\n\\nModel: \",formula\n",
    "    print 'where levels = (0,1)'\n",
    "    aov_table = anova_lm(model, typ=3)\n",
    "    eta_squared(aov_table)\n",
    "    omega_squared(aov_table)\n",
    "    print \"\\nAnova table using type 3 errors\\n\"\n",
    "    print(aov_table)"
   ]
  },
  {
   "cell_type": "code",
   "execution_count": 36,
   "metadata": {
    "collapsed": false
   },
   "outputs": [
    {
     "name": "stdout",
     "output_type": "stream",
     "text": [
      "Comparing CVS levels 0 and 1\n",
      "\n",
      "\n",
      "Model:  main ~ C(CVS_levels_3)+ variable + pre + C(sim_index) + C(sid) + level_experience_sims + experience_undergrad_labs + used_similar_sim + use_graph\n",
      "where levels = (1,2)\n",
      "\n",
      "Anova table using type 3 errors\n",
      "\n",
      "                            sum_sq     df       F     PR(>F)  eta_sq   omega_sq\n",
      "Intercept                   23.575    1.0  77.951  3.435e-16   0.112  1.099e-01\n",
      "C(CVS_levels_3)              1.569    1.0   5.189  2.370e-02   0.007  5.984e-03\n",
      "variable                     3.272    3.0   3.607  1.419e-02   0.015  1.117e-02\n",
      "C(sim_index)                 2.044    1.0   6.760  9.957e-03   0.010  8.229e-03\n",
      "C(sid)                     109.008  120.0   3.004  8.448e-13   0.516  3.435e-01\n",
      "pre                          1.627    1.0   5.380  2.129e-02   0.008  6.258e-03\n",
      "level_experience_sims        0.796    1.0   2.633  1.061e-01   0.004  2.333e-03\n",
      "experience_undergrad_labs    1.370    1.0   4.530  3.443e-02   0.006  5.043e-03\n",
      "used_similar_sim             0.446    1.0   1.476  2.257e-01   0.002  6.801e-04\n",
      "use_graph                    1.445    1.0   4.778  2.988e-02   0.007  5.398e-03\n",
      "Residual                    66.232  219.0     NaN        NaN     NaN        NaN\n"
     ]
    }
   ],
   "source": [
    "for CVS in ['CVS_levels_3']: #'CVS_levels_2','CVS_levels_3','CVS_levels_4']:\n",
    "    formula = 'main ~ C(' + CVS + ')' + covariates_for_parsimonious_model\n",
    "    print \"Comparing CVS levels 0 and 1\"\n",
    "    model = ols(formula, data[data[CVS]!=0]).fit()\n",
    "    print \"\\n\\nModel: \",formula\n",
    "    print 'where levels = (1,2)'\n",
    "    aov_table = anova_lm(model, typ=3)\n",
    "    eta_squared(aov_table)\n",
    "    omega_squared(aov_table)\n",
    "    print \"\\nAnova table using type 3 errors\\n\"\n",
    "    print(aov_table)"
   ]
  },
  {
   "cell_type": "code",
   "execution_count": 37,
   "metadata": {
    "collapsed": false
   },
   "outputs": [
    {
     "name": "stdout",
     "output_type": "stream",
     "text": [
      "Comparing CVS levels 0 and 1\n",
      "\n",
      "\n",
      "Model:  main ~ C(CVS_levels_3)+ variable + pre + C(sim_index) + C(sid) + level_experience_sims + experience_undergrad_labs + used_similar_sim + use_graph\n",
      "where levels = (0,2)\n",
      "\n",
      "Anova table using type 3 errors\n",
      "\n",
      "                            sum_sq     df        F     PR(>F)     eta_sq   omega_sq\n",
      "Intercept                   67.782    1.0  261.434  1.359e-44  1.890e-01  1.881e-01\n",
      "C(CVS_levels_3)              3.121    1.0   12.038  5.846e-04  8.701e-03  7.972e-03\n",
      "variable                     1.829    3.0    2.352  7.197e-02  5.100e-03  2.930e-03\n",
      "C(sim_index)                 2.994    1.0   11.547  7.546e-04  8.346e-03  7.618e-03\n",
      "C(sid)                     184.286  146.0    4.868  1.959e-34  5.138e-01  4.079e-01\n",
      "pre                          0.680    1.0    2.621  1.063e-01  1.895e-03  1.171e-03\n",
      "level_experience_sims        0.498    1.0    1.921  1.666e-01  1.388e-03  6.651e-04\n",
      "experience_undergrad_labs    0.698    1.0    2.692  1.017e-01  1.946e-03  1.222e-03\n",
      "used_similar_sim             0.166    1.0    0.638  4.248e-01  4.614e-04 -2.612e-04\n",
      "use_graph                    3.307    1.0   12.754  4.034e-04  9.219e-03  8.490e-03\n",
      "Residual                    93.337  360.0      NaN        NaN        NaN        NaN\n"
     ]
    }
   ],
   "source": [
    "for CVS in ['CVS_levels_3']: #'CVS_levels_2','CVS_levels_3','CVS_levels_4']:\n",
    "    formula = 'main ~ C(' + CVS + ')' + covariates_for_parsimonious_model\n",
    "    print \"Comparing CVS levels 0 and 1\"\n",
    "    model = ols(formula, data[data[CVS]!=1]).fit()\n",
    "    print \"\\n\\nModel: \",formula\n",
    "    print 'where levels = (0,2)'\n",
    "    aov_table = anova_lm(model, typ=3)\n",
    "    eta_squared(aov_table)\n",
    "    omega_squared(aov_table)\n",
    "    print \"\\nAnova table using type 3 errors\\n\"\n",
    "    print(aov_table)"
   ]
  },
  {
   "cell_type": "code",
   "execution_count": 38,
   "metadata": {
    "collapsed": false
   },
   "outputs": [
    {
     "name": "stdout",
     "output_type": "stream",
     "text": [
      "This plot needs to be redone with standard deviation bars and colored by level and stars given the tests above\n",
      "0-1 => -\n",
      "1-2 => *\n",
      "0-2 => ***\n"
     ]
    },
    {
     "data": {
      "image/png": "[encoded data removed]",
      "text/plain": [
       "<matplotlib.figure.Figure at 0x1188da58>"
      ]
     },
     "metadata": {},
     "output_type": "display_data"
    }
   ],
   "source": [
    "levels = pd.pivot_table(data, values=['main'], index=['CVS_levels_3'],aggfunc=np.mean)\n",
    "levels.plot(kind='bar')\n",
    "print \"This plot needs to be redone with standard deviation bars and colored by level and stars given the tests above\"\n",
    "print '0-1 => -'\n",
    "print '1-2 => *'\n",
    "print '0-2 => ***'"
   ]
  },
  {
   "cell_type": "markdown",
   "metadata": {},
   "source": [
    "### Post-hoc analysis on experience in physic undergraduate labs"
   ]
  },
  {
   "cell_type": "code",
   "execution_count": 39,
   "metadata": {
    "collapsed": false
   },
   "outputs": [
    {
     "name": "stdout",
     "output_type": "stream",
     "text": [
      "This plot needs to be redone with standard deviation bars and organized by sim, colored by level\n"
     ]
    },
    {
     "data": {
      "image/png": "[encoded data removed]",
      "text/plain": [
       "<matplotlib.figure.Figure at 0x1188de80>"
      ]
     },
     "metadata": {},
     "output_type": "display_data"
    }
   ],
   "source": [
    "posthoc_exp_physics_labs = pd.pivot_table(data, values=['main'], index=['experience_undergrad_labs'],aggfunc=(np.mean))\n",
    "posthoc_exp_physics_labs.plot(kind='bar')\n",
    "print \"This plot needs to be redone with standard deviation bars and organized by sim, colored by level\""
   ]
  },
  {
   "cell_type": "markdown",
   "metadata": {},
   "source": [
    "### Post-hoc analysis on order"
   ]
  },
  {
   "cell_type": "code",
   "execution_count": 40,
   "metadata": {
    "collapsed": false
   },
   "outputs": [
    {
     "name": "stdout",
     "output_type": "stream",
     "text": [
      "This plot needs to be redone with standard deviation bars and organized by sim, colored by level\n"
     ]
    },
    {
     "data": {
      "image/png": "[encoded data removed]",
      "text/plain": [
       "<matplotlib.figure.Figure at 0x11049be0>"
      ]
     },
     "metadata": {},
     "output_type": "display_data"
    }
   ],
   "source": [
    "posthoc_sim_index = pd.pivot_table(data, values=['main'], index=['sim_index'],aggfunc=(np.mean))\n",
    "posthoc_sim_index.plot(kind='bar')\n",
    "print \"This plot needs to be redone with standard deviation bars and organized by sim, colored by level\""
   ]
  },
  {
   "cell_type": "markdown",
   "metadata": {},
   "source": [
    "### Post-hoc analysis on variable"
   ]
  },
  {
   "cell_type": "code",
   "execution_count": 41,
   "metadata": {
    "collapsed": false
   },
   "outputs": [
    {
     "name": "stdout",
     "output_type": "stream",
     "text": [
      "This plot needs to be redone with standard deviation bars and organized by sim, colored by level\n"
     ]
    },
    {
     "data": {
      "image/png": "[encoded data removed]",
      "text/plain": [
       "<matplotlib.figure.Figure at 0x15b7a198>"
      ]
     },
     "metadata": {},
     "output_type": "display_data"
    }
   ],
   "source": [
    "posthoc_variable = pd.pivot_table(data, values=['main'], index=['variable'],aggfunc=(np.mean))\n",
    "posthoc_variable.plot(kind='bar')\n",
    "print \"This plot needs to be redone with standard deviation bars and organized by sim, colored by level\""
   ]
  },
  {
   "cell_type": "markdown",
   "metadata": {
    "hideCode": true,
    "hidePrompt": true
   },
   "source": [
    "## Let's investigate how CVS relationship with knowledge changes depending on the variable"
   ]
  },
  {
   "cell_type": "markdown",
   "metadata": {},
   "source": [
    "### Overall - with viz"
   ]
  },
  {
   "cell_type": "code",
   "execution_count": 42,
   "metadata": {
    "collapsed": false
   },
   "outputs": [
    {
     "data": {
      "text/html": [
       "<div>\n",
       "<table border=\"1\" class=\"dataframe\">\n",
       "  <thead>\n",
       "    <tr style=\"text-align: right;\">\n",
       "      <th></th>\n",
       "      <th></th>\n",
       "      <th>main</th>\n",
       "    </tr>\n",
       "    <tr>\n",
       "      <th>variable</th>\n",
       "      <th>CVS_levels_3</th>\n",
       "      <th></th>\n",
       "    </tr>\n",
       "  </thead>\n",
       "  <tbody>\n",
       "    <tr>\n",
       "      <th rowspan=\"3\" valign=\"top\">Area</th>\n",
       "      <th>0</th>\n",
       "      <td>2.016</td>\n",
       "    </tr>\n",
       "    <tr>\n",
       "      <th>1</th>\n",
       "      <td>2.263</td>\n",
       "    </tr>\n",
       "    <tr>\n",
       "      <th>2</th>\n",
       "      <td>2.554</td>\n",
       "    </tr>\n",
       "    <tr>\n",
       "      <th rowspan=\"3\" valign=\"top\">Concentration</th>\n",
       "      <th>0</th>\n",
       "      <td>2.096</td>\n",
       "    </tr>\n",
       "    <tr>\n",
       "      <th>1</th>\n",
       "      <td>2.227</td>\n",
       "    </tr>\n",
       "    <tr>\n",
       "      <th>2</th>\n",
       "      <td>2.649</td>\n",
       "    </tr>\n",
       "    <tr>\n",
       "      <th rowspan=\"3\" valign=\"top\">Separation</th>\n",
       "      <th>0</th>\n",
       "      <td>2.130</td>\n",
       "    </tr>\n",
       "    <tr>\n",
       "      <th>1</th>\n",
       "      <td>1.867</td>\n",
       "    </tr>\n",
       "    <tr>\n",
       "      <th>2</th>\n",
       "      <td>2.328</td>\n",
       "    </tr>\n",
       "    <tr>\n",
       "      <th rowspan=\"3\" valign=\"top\">Width</th>\n",
       "      <th>0</th>\n",
       "      <td>1.967</td>\n",
       "    </tr>\n",
       "    <tr>\n",
       "      <th>1</th>\n",
       "      <td>2.227</td>\n",
       "    </tr>\n",
       "    <tr>\n",
       "      <th>2</th>\n",
       "      <td>2.667</td>\n",
       "    </tr>\n",
       "  </tbody>\n",
       "</table>\n",
       "</div>"
      ],
      "text/plain": [
       "                             main\n",
       "variable      CVS_levels_3       \n",
       "Area          0             2.016\n",
       "              1             2.263\n",
       "              2             2.554\n",
       "Concentration 0             2.096\n",
       "              1             2.227\n",
       "              2             2.649\n",
       "Separation    0             2.130\n",
       "              1             1.867\n",
       "              2             2.328\n",
       "Width         0             1.967\n",
       "              1             2.227\n",
       "              2             2.667"
      ]
     },
     "execution_count": 42,
     "metadata": {},
     "output_type": "execute_result"
    }
   ],
   "source": [
    "per_variable = pd.pivot_table(data, values=['main'], index=['variable','CVS_levels_3'],aggfunc=(np.mean))\n",
    "per_variable"
   ]
  },
  {
   "cell_type": "code",
   "execution_count": 43,
   "metadata": {
    "collapsed": false
   },
   "outputs": [
    {
     "name": "stdout",
     "output_type": "stream",
     "text": [
      "This plot needs to be redone with standard deviation bars and organized by sim, colored by level\n"
     ]
    },
    {
     "data": {
      "image/png": "[encoded data removed]",
      "text/plain": [
       "<matplotlib.figure.Figure at 0x15bbaf98>"
      ]
     },
     "metadata": {},
     "output_type": "display_data"
    }
   ],
   "source": [
    "per_variable.plot(kind='bar')\n",
    "print \"This plot needs to be redone with standard deviation bars and organized by sim, colored by level\""
   ]
  },
  {
   "cell_type": "markdown",
   "metadata": {},
   "source": [
    "### Models per variable"
   ]
  },
  {
   "cell_type": "code",
   "execution_count": 44,
   "metadata": {
    "collapsed": false
   },
   "outputs": [],
   "source": [
    "covariates_for_variable_models = \" + pre + C(sim_index) + level_experience_sims + experience_undergrad_labs + used_similar_sim + use_graph\""
   ]
  },
  {
   "cell_type": "code",
   "execution_count": 45,
   "metadata": {
    "collapsed": false,
    "hideCode": true,
    "hidePrompt": true
   },
   "outputs": [
    {
     "name": "stdout",
     "output_type": "stream",
     "text": [
      "__________________________________\n",
      "FOR VARIABLE  Width \n",
      "__________________________________\n",
      "\n",
      "\n",
      "Model:  main ~ C(CVS_levels_3) + pre + C(sim_index) + level_experience_sims + experience_undergrad_labs + used_similar_sim + use_graph\n",
      "\n",
      "Anova table using type 3 errors\n",
      "\n",
      "                           sum_sq     df       F     PR(>F)     eta_sq  omega_sq\n",
      "Intercept                  41.263    1.0  88.836  1.301e-16  3.447e-01     0.340\n",
      "C(CVS_levels_3)            10.886    2.0  11.719  1.981e-05  9.094e-02     0.083\n",
      "C(sim_index)                0.786    1.0   1.691  1.956e-01  6.562e-03     0.003\n",
      "pre                         0.330    1.0   0.710  4.008e-01  2.757e-03    -0.001\n",
      "level_experience_sims       0.034    1.0   0.074  7.866e-01  2.856e-04    -0.004\n",
      "experience_undergrad_labs   0.720    1.0   1.550  2.153e-01  6.013e-03     0.002\n",
      "used_similar_sim            0.998    1.0   2.148  1.450e-01  8.335e-03     0.004\n",
      "use_graph                   0.122    1.0   0.263  6.090e-01  1.020e-03    -0.003\n",
      "Residual                   64.563  139.0     NaN        NaN        NaN       NaN\n",
      "__________________________________\n",
      "FOR VARIABLE  Concentration \n",
      "__________________________________\n",
      "\n",
      "\n",
      "Model:  main ~ C(CVS_levels_3) + pre + C(sim_index) + level_experience_sims + experience_undergrad_labs + used_similar_sim + use_graph\n",
      "\n",
      "Anova table using type 3 errors\n",
      "\n",
      "                           sum_sq     df        F     PR(>F)  eta_sq   omega_sq\n",
      "Intercept                  34.077    1.0  103.449  1.656e-18   0.366  3.611e-01\n",
      "C(CVS_levels_3)             9.111    2.0   13.829  3.332e-06   0.098  9.042e-02\n",
      "C(sim_index)                1.562    1.0    4.743  3.111e-02   0.017  1.319e-02\n",
      "pre                         1.286    1.0    3.904  5.016e-02   0.014  1.023e-02\n",
      "level_experience_sims       0.346    1.0    1.050  3.072e-01   0.004  1.775e-04\n",
      "experience_undergrad_labs   0.191    1.0    0.579  4.480e-01   0.002 -1.484e-03\n",
      "used_similar_sim            0.647    1.0    1.963  1.634e-01   0.007  3.394e-03\n",
      "use_graph                   0.133    1.0    0.403  5.263e-01   0.001 -2.102e-03\n",
      "Residual                   45.788  139.0      NaN        NaN     NaN        NaN\n",
      "__________________________________\n",
      "FOR VARIABLE  Area \n",
      "__________________________________\n",
      "\n",
      "\n",
      "Model:  main ~ C(CVS_levels_3) + pre + C(sim_index) + level_experience_sims + experience_undergrad_labs + used_similar_sim + use_graph\n",
      "\n",
      "Anova table using type 3 errors\n",
      "\n",
      "                              sum_sq     df       F     PR(>F)     eta_sq   omega_sq\n",
      "Intercept                  2.269e+01    1.0  53.289  2.020e-11  2.488e-01  2.430e-01\n",
      "C(CVS_levels_3)            4.245e+00    2.0   4.984  8.117e-03  4.654e-02  3.703e-02\n",
      "C(sim_index)               2.803e-02    1.0   0.066  7.979e-01  3.073e-04 -4.341e-03\n",
      "pre                        3.651e+00    1.0   8.572  3.989e-03  4.002e-02  3.519e-02\n",
      "level_experience_sims      3.144e-01    1.0   0.738  3.917e-01  3.446e-03 -1.217e-03\n",
      "experience_undergrad_labs  7.898e-04    1.0   0.002  9.657e-01  8.659e-06 -4.638e-03\n",
      "used_similar_sim           3.778e-01    1.0   0.887  3.479e-01  4.142e-03 -5.248e-04\n",
      "use_graph                  7.086e-01    1.0   1.664  1.992e-01  7.769e-03  3.086e-03\n",
      "Residual                   5.919e+01  139.0     NaN        NaN        NaN        NaN\n",
      "__________________________________\n",
      "FOR VARIABLE  Separation \n",
      "__________________________________\n",
      "\n",
      "\n",
      "Model:  main ~ C(CVS_levels_3) + pre + C(sim_index) + level_experience_sims + experience_undergrad_labs + used_similar_sim + use_graph\n",
      "\n",
      "Anova table using type 3 errors\n",
      "\n",
      "                           sum_sq     df       F     PR(>F)     eta_sq  omega_sq\n",
      "Intercept                  19.793    1.0  46.092  3.012e-10  2.295e-01     0.223\n",
      "C(CVS_levels_3)             1.353    2.0   1.576  2.106e-01  1.569e-02     0.006\n",
      "C(sim_index)                1.197    1.0   2.786  9.732e-02  1.388e-02     0.009\n",
      "pre                         3.147    1.0   7.328  7.640e-03  3.649e-02     0.031\n",
      "level_experience_sims       0.556    1.0   1.295  2.570e-01  6.451e-03     0.001\n",
      "experience_undergrad_labs   0.025    1.0   0.059  8.090e-01  2.920e-04    -0.005\n",
      "used_similar_sim            0.139    1.0   0.324  5.702e-01  1.613e-03    -0.003\n",
      "use_graph                   0.331    1.0   0.772  3.812e-01  3.842e-03    -0.001\n",
      "Residual                   59.690  139.0     NaN        NaN        NaN       NaN\n"
     ]
    }
   ],
   "source": [
    "for variable in ['Width', 'Concentration','Area','Separation']:\n",
    "    print \"__________________________________\\nFOR VARIABLE \", variable, '\\n__________________________________'\n",
    "    formula = 'main ~ C(CVS_levels_3)' + covariates_for_variable_models\n",
    "    model = ols(formula, data[data['variable']==variable]).fit()\n",
    "    print \"\\n\\nModel: \",formula\n",
    "    aov_table = anova_lm(model, typ=3)\n",
    "    eta_squared(aov_table)\n",
    "    omega_squared(aov_table)\n",
    "    print \"\\nAnova table using type 3 errors\\n\"\n",
    "    print(aov_table)\n",
    "#     print \"\\nHere is the linear model with coefficients and confidence intervals:\\n\"\n",
    "#     print clean_summary(model)"
   ]
  },
  {
   "cell_type": "markdown",
   "metadata": {
    "hideCode": true,
    "hidePrompt": true
   },
   "source": [
    "Findings:\n",
    "* CVS_levels=2 (graph) matters for all except Separation\n",
    "* Pre matters for all except Width"
   ]
  },
  {
   "cell_type": "markdown",
   "metadata": {},
   "source": [
    "## Repeat model for only student who use graph (85%)"
   ]
  },
  {
   "cell_type": "code",
   "execution_count": 46,
   "metadata": {
    "collapsed": false
   },
   "outputs": [
    {
     "name": "stdout",
     "output_type": "stream",
     "text": [
      "\n",
      "\n",
      "Model:  main ~ C(CVS_levels_3)+ variable + pre + C(sim_index) + C(sid) + level_experience_sims + experience_undergrad_labs + used_similar_sim \n",
      "\n",
      "Anova table using type 3 errors\n",
      "\n",
      "                            sum_sq     df        F     PR(>F)     eta_sq   omega_sq\n",
      "Intercept                   52.158    1.0  174.131  8.284e-33  1.462e-01  1.452e-01\n",
      "C(CVS_levels_3)              4.483    2.0    7.484  6.523e-04  1.256e-02  1.088e-02\n",
      "variable                     2.824    3.0    3.142  2.531e-02  7.914e-03  5.391e-03\n",
      "C(sim_index)                 2.196    1.0    7.332  7.090e-03  6.155e-03  5.311e-03\n",
      "C(sid)                     181.624  124.0    4.890  1.771e-32  5.090e-01  4.046e-01\n",
      "pre                          1.421    1.0    4.744  3.004e-02  3.982e-03  3.140e-03\n",
      "level_experience_sims        0.583    1.0    1.945  1.639e-01  1.633e-03  7.929e-04\n",
      "experience_undergrad_labs    1.385    1.0    4.623  3.219e-02  3.881e-03  3.039e-03\n",
      "used_similar_sim             0.198    1.0    0.661  4.168e-01  5.549e-04 -2.844e-04\n",
      "Residual                   109.928  367.0      NaN        NaN        NaN        NaN\n",
      "\n",
      "Here is the linear model with coefficients and confidence intervals:\n",
      "\n",
      "                            OLS Regression Results                            \n",
      "==============================================================================\n",
      "Dep. Variable:                   main   R-squared:                       0.562\n",
      "Model:                            OLS   Adj. R-squared:                  0.405\n",
      "Method:                 Least Squares   F-statistic:                     3.572\n",
      "Date:                Tue, 30 Jan 2018   Prob (F-statistic):           6.69e-22\n",
      "Time:                        17:55:35   Log-Likelihood:                -330.77\n",
      "No. Observations:                 500   AIC:                             927.5\n",
      "Df Residuals:                     367   BIC:                             1488.\n",
      "Df Model:                         132                                         \n",
      "Covariance Type:            nonrobust                                         \n",
      "=============================================================================================\n",
      "                                coef    std err          t      P>|t|      [95.0% Conf. Int.]\n",
      "---------------------------------------------------------------------------------------------\n",
      "Intercept                     1.9937      0.151     13.196      0.000         1.697     2.291\n",
      "C(CVS_levels_3)[T.1]         -0.1093      0.110     -0.995      0.320        -0.325     0.107\n",
      "C(CVS_levels_3)[T.2]          0.2663      0.088      3.023      0.003         0.093     0.439\n",
      "variable[T.Concentration]     0.0761      0.074      1.028      0.304        -0.069     0.222\n",
      "variable[T.Separation]       -0.1280      0.069     -1.844      0.066        -0.264     0.009\n",
      "variable[T.Width]             0.0679      0.074      0.923      0.357        -0.077     0.213\n",
      "C(sim_index)[T.2]             0.1377      0.051      2.708      0.007         0.038     0.238\n",
      "pre                           0.0849      0.039      2.178      0.030         0.008     0.162\n",
      "level_experience_sims        -0.2114      0.152     -1.395      0.164        -0.509     0.087\n",
      "experience_undergrad_labs     0.7088      0.330      2.150      0.032         0.061     1.357\n",
      "used_similar_sim             -0.0777      0.096     -0.813      0.417        -0.266     0.110\n",
      "==============================================================================\n",
      "Omnibus:                       70.727   Durbin-Watson:                   1.944\n",
      "Prob(Omnibus):                  0.000   Jarque-Bera (JB):              158.036\n",
      "Skew:                          -0.760   Prob(JB):                     4.82e-35\n",
      "Kurtosis:                       5.297   Cond. No.                     3.98e+16\n",
      "==============================================================================\n",
      "\n",
      "Warnings:\n",
      "[1] Standard Errors assume that the covariance matrix of the errors is correctly specified.\n",
      "[2] The smallest eigenvalue is 2.66e-30. This might indicate that there are\n",
      "strong multicollinearity problems or that the design matrix is singular.\n"
     ]
    }
   ],
   "source": [
    "formula = 'main ~ C(CVS_levels_3)' + covariates_for_parsimonious_model.replace(\"+ use_graph\",\"\")\n",
    "model = ols(formula, data[data['use_graph']==1]).fit()\n",
    "print \"\\n\\nModel: \",formula\n",
    "aov_table = anova_lm(model, typ=3)\n",
    "eta_squared(aov_table)\n",
    "omega_squared(aov_table)\n",
    "print \"\\nAnova table using type 3 errors\\n\"\n",
    "print(aov_table)\n",
    "print \"\\nHere is the linear model with coefficients and confidence intervals:\\n\"\n",
    "print clean_summary(model)"
   ]
  },
  {
   "cell_type": "markdown",
   "metadata": {
    "hideCode": true,
    "hidePrompt": true
   },
   "source": [
    "# What affects use CVS-like inquiry strategies?"
   ]
  },
  {
   "cell_type": "markdown",
   "metadata": {
    "hideCode": true,
    "hideOutput": true,
    "hidePrompt": true
   },
   "source": [
    "For some reason adding students in the matric turns it into a singular matrix and fails the analysis. Probably because two students are exactly identical?"
   ]
  },
  {
   "cell_type": "markdown",
   "metadata": {
    "hideCode": true,
    "hidePrompt": true
   },
   "source": [
    "## Overall, how much do they use it?"
   ]
  },
  {
   "cell_type": "code",
   "execution_count": 47,
   "metadata": {
    "collapsed": true
   },
   "outputs": [],
   "source": [
    "data['CVS_table'] = data['CVS_table_3']\n",
    "data['CVS_graph'] = data['CVS_graph_3']\n",
    "sums = pd.pivot_table(data, values=['CVS_table','CVS_graph'], index=['sid'], aggfunc=np.sum)"
   ]
  },
  {
   "cell_type": "code",
   "execution_count": 48,
   "metadata": {
    "collapsed": false
   },
   "outputs": [
    {
     "name": "stdout",
     "output_type": "stream",
     "text": [
      "\n",
      "For CVs with 2 pts as a threshold\n",
      "   93% of students use CVS table once and 47% do it for all variables.\n",
      "   70% of students use CVS graph once and 29% do it for all variables.\n",
      "\n",
      "For CVs with 3 pts as a threshold\n",
      "   81% of students use CVS table once and 35% do it for all variables.\n",
      "   65% of students use CVS graph once and 26% do it for all variables.\n",
      "\n",
      "For CVs with 4 pts as a threshold\n",
      "   68% of students use CVS table once and 30% do it for all variables.\n",
      "   61% of students use CVS graph once and 23% do it for all variables.\n",
      "\n",
      "For CVs with 5 pts as a threshold\n",
      "   61% of students use CVS table once and 18% do it for all variables.\n",
      "   55% of students use CVS graph once and 13% do it for all variables.\n"
     ]
    }
   ],
   "source": [
    "for threshold in ['2','3','4','5']:\n",
    "    print '\\nFor CVs with {0} pts as a threshold'.format(threshold)\n",
    "    sums = pd.pivot_table(data, values=['CVS_table_'+threshold,'CVS_graph_'+threshold], index=['sid'], aggfunc=np.sum)\n",
    "    once = len(sums[sums['CVS_table_'+threshold]>0])/float(N)*100\n",
    "    all4 = len(sums[sums['CVS_table_'+threshold]==4])/float(N)*100\n",
    "    print \"   {0}% of students use CVS table once and {1}% do it for all variables.\".format(int(once),int(all4))\n",
    "    once = len(sums[sums['CVS_graph_'+threshold]>0])/float(N)*100\n",
    "    all4 = len(sums[sums['CVS_graph_'+threshold]==4])/float(N)*100\n",
    "    print \"   {0}% of students use CVS graph once and {1}% do it for all variables.\".format(int(once),int(all4))"
   ]
  },
  {
   "cell_type": "markdown",
   "metadata": {},
   "source": [
    "## Are they consistent in their usage of CVS graph?"
   ]
  },
  {
   "cell_type": "code",
   "execution_count": 49,
   "metadata": {
    "collapsed": true
   },
   "outputs": [],
   "source": [
    "sums2 = pd.pivot_table(data, values=['CVS_graph'], index=['sid','sim'], aggfunc=np.sum)\n",
    "sums2 = sums2.reset_index(level=['sim','sid'])\n",
    "# sums2.head()"
   ]
  },
  {
   "cell_type": "code",
   "execution_count": 50,
   "metadata": {
    "collapsed": false,
    "hideCode": true,
    "hidePrompt": true
   },
   "outputs": [
    {
     "data": {
      "text/plain": [
       "<matplotlib.text.Text at 0x1592f780>"
      ]
     },
     "execution_count": 50,
     "metadata": {},
     "output_type": "execute_result"
    },
    {
     "data": {
      "image/png": "[encoded data removed]",
      "text/plain": [
       "<matplotlib.figure.Figure at 0x15fd8a58>"
      ]
     },
     "metadata": {},
     "output_type": "display_data"
    }
   ],
   "source": [
    "cvs_sim = np.zeros((3,3),dtype=int)\n",
    "for i in range(3):\n",
    "    for j in range(3):\n",
    "        cvs_sim[i,j] = len(set(sums2[(sums2['sim']=='C')&(sums2['CVS_graph']==i)]['sid'])&set(sums2[(sums2['sim']=='L')&(sums2['CVS_graph']==j)]['sid']))\n",
    "ax = sns.heatmap(np.flip(cvs_sim,0),annot=True, fmt=\"d\")\n",
    "ax.set_xticklabels(['0/2','1/2','2/2'])\n",
    "ax.set_yticklabels(['0/2','1/2','2/2'])\n",
    "plt.xlabel('Number of light absorbance variables')\n",
    "plt.ylabel('Number of Caps variables')\n",
    "plt.title('Map of student use of CVS in their graph for variables per simulation')"
   ]
  },
  {
   "cell_type": "markdown",
   "metadata": {
    "hideCode": true,
    "hidePrompt": true
   },
   "source": [
    "High usage is consistent. If they do CVS with 1 variable in one sim, they do it with 2 in the other (probaly second sim).We'll see how order makes a difference later."
   ]
  },
  {
   "cell_type": "markdown",
   "metadata": {
    "hideCode": true,
    "hidePrompt": true
   },
   "source": [
    "## What affects use of CVS"
   ]
  },
  {
   "cell_type": "code",
   "execution_count": 51,
   "metadata": {
    "collapsed": false,
    "hideCode": true,
    "hidePrompt": true
   },
   "outputs": [
    {
     "name": "stdout",
     "output_type": "stream",
     "text": [
      "model:  CVS_graph ~ pre*variable + C(sim_index)*variable + pre*C(sim_index) + level_experience_sims + experience_undergrad_labs + used_similar_sim \n",
      "\n",
      "Optimization terminated successfully.\n",
      "         Current function value: 0.627798\n",
      "         Iterations 6\n",
      "                           Logit Regression Results                           \n",
      "==============================================================================\n",
      "Dep. Variable:              CVS_graph   No. Observations:                  592\n",
      "Model:                          Logit   Df Residuals:                      576\n",
      "Method:                           MLE   Df Model:                           15\n",
      "Date:                Tue, 30 Jan 2018   Pseudo R-squ.:                 0.08880\n",
      "Time:                        17:55:36   Log-Likelihood:                -371.66\n",
      "converged:                       True   LL-Null:                       -407.88\n",
      "                                        LLR p-value:                 1.635e-09\n",
      "===============================================================================================================\n",
      "                                                  coef    std err          z      P>|z|      [95.0% Conf. Int.]\n",
      "---------------------------------------------------------------------------------------------------------------\n",
      "Intercept                                      -2.9215      0.557     -5.242      0.000        -4.014    -1.829\n",
      "variable[T.Concentration]                       0.7872      0.515      1.528      0.127        -0.223     1.797\n",
      "variable[T.Separation]                          0.0714      0.550      0.130      0.897        -1.007     1.149\n",
      "variable[T.Width]                              -0.1973      0.501     -0.394      0.694        -1.179     0.785\n",
      "C(sim_index)[T.2]                               0.6214      0.447      1.390      0.165        -0.255     1.498\n",
      "C(sim_index)[T.2]:variable[T.Concentration]    -0.6417      0.497     -1.291      0.197        -1.616     0.333\n",
      "C(sim_index)[T.2]:variable[T.Separation]       -0.2478      0.500     -0.495      0.620        -1.229     0.733\n",
      "C(sim_index)[T.2]:variable[T.Width]            -0.4469      0.507     -0.881      0.378        -1.441     0.547\n",
      "pre                                             0.0563      0.239      0.236      0.814        -0.412     0.525\n",
      "pre:variable[T.Concentration]                  -0.1545      0.306     -0.505      0.613        -0.754     0.445\n",
      "pre:variable[T.Separation]                      0.0299      0.309      0.097      0.923        -0.576     0.636\n",
      "pre:variable[T.Width]                           0.4775      0.309      1.544      0.122        -0.128     1.083\n",
      "pre:C(sim_index)[T.2]                           0.2108      0.221      0.953      0.341        -0.223     0.645\n",
      "level_experience_sims                           0.1875      0.106      1.772      0.076        -0.020     0.395\n",
      "experience_undergrad_labs                       1.9442      0.431      4.516      0.000         1.100     2.788\n",
      "used_similar_sim                                0.0484      0.228      0.212      0.832        -0.399     0.496\n",
      "===============================================================================================================\n"
     ]
    }
   ],
   "source": [
    "formula = 'CVS_graph ~ pre*variable + C(sim_index)*variable + pre*C(sim_index) + level_experience_sims + experience_undergrad_labs + used_similar_sim'\n",
    "print 'model: ', formula,'\\n'\n",
    "from patsy import dmatrices\n",
    "Y, X = dmatrices(formula, data, return_type = 'dataframe')\n",
    "# print X.columns\n",
    "logit = Logit(Y, X)\n",
    "model = logit.fit()\n",
    "print model.summary()\n",
    "# note that stats model has no module for running an anova on a logistic regression model"
   ]
  },
  {
   "cell_type": "markdown",
   "metadata": {},
   "source": [
    "### Parismonious model"
   ]
  },
  {
   "cell_type": "code",
   "execution_count": 52,
   "metadata": {
    "collapsed": false
   },
   "outputs": [
    {
     "name": "stdout",
     "output_type": "stream",
     "text": [
      "model:  CVS_graph ~ pre + variable + C(sim_index) + level_experience_sims + experience_undergrad_labs + used_similar_sim \n",
      "\n",
      "Optimization terminated successfully.\n",
      "         Current function value: 0.634028\n",
      "         Iterations 6\n",
      "                           Logit Regression Results                           \n",
      "==============================================================================\n",
      "Dep. Variable:              CVS_graph   No. Observations:                  592\n",
      "Model:                          Logit   Df Residuals:                      583\n",
      "Method:                           MLE   Df Model:                            8\n",
      "Date:                Tue, 30 Jan 2018   Pseudo R-squ.:                 0.07976\n",
      "Time:                        17:55:36   Log-Likelihood:                -375.34\n",
      "converged:                       True   LL-Null:                       -407.88\n",
      "                                        LLR p-value:                 4.685e-11\n",
      "=============================================================================================\n",
      "                                coef    std err          z      P>|z|      [95.0% Conf. Int.]\n",
      "---------------------------------------------------------------------------------------------\n",
      "Intercept                    -2.9796      0.472     -6.311      0.000        -3.905    -2.054\n",
      "variable[T.Concentration]     0.2637      0.253      1.042      0.297        -0.232     0.760\n",
      "variable[T.Separation]       -0.0450      0.246     -0.183      0.855        -0.527     0.437\n",
      "variable[T.Width]             0.0868      0.254      0.342      0.732        -0.410     0.584\n",
      "C(sim_index)[T.2]             0.5463      0.175      3.122      0.002         0.203     0.889\n",
      "pre                           0.2423      0.108      2.234      0.026         0.030     0.455\n",
      "level_experience_sims         0.1607      0.104      1.543      0.123        -0.043     0.365\n",
      "experience_undergrad_labs     2.0081      0.429      4.679      0.000         1.167     2.849\n",
      "used_similar_sim              0.0455      0.225      0.202      0.840        -0.396     0.486\n",
      "=============================================================================================\n"
     ]
    }
   ],
   "source": [
    "formula = 'CVS_graph ~ pre + variable + C(sim_index) + level_experience_sims + experience_undergrad_labs + used_similar_sim'\n",
    "print 'model: ', formula,'\\n'\n",
    "from patsy import dmatrices\n",
    "Y, X = dmatrices(formula, data, return_type = 'dataframe')\n",
    "# print X.columns\n",
    "logit = Logit(Y, X)\n",
    "model = logit.fit()\n",
    "print model.summary()\n",
    "# aov_table = anova_lm(model)\n",
    "# eta_squared(aov_table)\n",
    "# omega_squared(aov_table)\n",
    "# # print \"\\nAnova table using type 2 errors\\n\"\n",
    "# print(aov_table)"
   ]
  },
  {
   "cell_type": "markdown",
   "metadata": {
    "hideCode": true,
    "hidePrompt": true
   },
   "source": [
    "In order of what affects CVS_graph most:\n",
    "* experience in undergraduate labs\n",
    "* order\n",
    "* prior knowledge\n",
    "\n",
    "Having used a similar sim doesn't matter, variable doesn't matter and sim doesn't matter.\n",
    "\n",
    "Experience in sims mattered before we included both physics and chem experience in labs"
   ]
  },
  {
   "cell_type": "markdown",
   "metadata": {},
   "source": [
    "### post hoc of experience in undergraduate labs"
   ]
  },
  {
   "cell_type": "code",
   "execution_count": 53,
   "metadata": {
    "collapsed": false
   },
   "outputs": [
    {
     "name": "stdout",
     "output_type": "stream",
     "text": [
      "Here is prob that they do CVS graph depending on the experience_undergrad_labs\n"
     ]
    },
    {
     "data": {
      "text/plain": [
       "<matplotlib.axes._subplots.AxesSubplot at 0x159d5588>"
      ]
     },
     "execution_count": 53,
     "metadata": {},
     "output_type": "execute_result"
    },
    {
     "data": {
      "image/png": "[encoded data removed]",
      "text/plain": [
       "<matplotlib.figure.Figure at 0x12035cc0>"
      ]
     },
     "metadata": {},
     "output_type": "display_data"
    }
   ],
   "source": [
    "cvs_exp = pd.pivot_table(data, values=['CVS_graph'], index=['experience_undergrad_labs'],aggfunc=(np.mean,np.std))\n",
    "print \"Here is prob that they do CVS graph depending on the experience_undergrad_labs\"\n",
    "cvs_exp['CVS_graph']['mean'].plot.bar(yerr=cvs_exp['CVS_graph']['std'])"
   ]
  },
  {
   "cell_type": "markdown",
   "metadata": {},
   "source": [
    "### post hoc of activity order"
   ]
  },
  {
   "cell_type": "code",
   "execution_count": 54,
   "metadata": {
    "collapsed": false
   },
   "outputs": [
    {
     "name": "stdout",
     "output_type": "stream",
     "text": [
      "Here is prob that they do CVS graph depending on sim_index\n"
     ]
    },
    {
     "data": {
      "text/plain": [
       "<matplotlib.axes._subplots.AxesSubplot at 0x160de400>"
      ]
     },
     "execution_count": 54,
     "metadata": {},
     "output_type": "execute_result"
    },
    {
     "data": {
      "image/png": "[encoded data removed]",
      "text/plain": [
       "<matplotlib.figure.Figure at 0x15970358>"
      ]
     },
     "metadata": {},
     "output_type": "display_data"
    }
   ],
   "source": [
    "cvs_exp = pd.pivot_table(data, values=['CVS_graph'], index=['sim_index'],aggfunc=(np.mean,np.std))\n",
    "print \"Here is prob that they do CVS graph depending on sim_index\"\n",
    "cvs_exp['CVS_graph']['mean'].plot.bar(yerr=cvs_exp['CVS_graph']['std'])"
   ]
  },
  {
   "cell_type": "markdown",
   "metadata": {},
   "source": [
    "### post hoc of experience with sims"
   ]
  },
  {
   "cell_type": "code",
   "execution_count": 55,
   "metadata": {
    "collapsed": false
   },
   "outputs": [
    {
     "name": "stdout",
     "output_type": "stream",
     "text": [
      "Here is prob that they do CVS graph depending on level_experience_sims\n",
      "where:\n",
      " 0 -> None\n",
      " 1 -> 1-2 (roughly)\n",
      " 2 -> 3-5 (roughly)\n",
      " 3 -> 6+ (roughly)\n"
     ]
    },
    {
     "data": {
      "image/png": "[encoded data removed]",
      "text/plain": [
       "<matplotlib.figure.Figure at 0x15e46470>"
      ]
     },
     "metadata": {},
     "output_type": "display_data"
    }
   ],
   "source": [
    "cvs_exp = pd.pivot_table(data, values=['CVS_graph'], index=['level_experience_sims'],aggfunc=(np.mean,np.std))\n",
    "print \"Here is prob that they do CVS graph depending on level_experience_sims\"\n",
    "cvs_exp['CVS_graph']['mean'].plot.bar(yerr=cvs_exp['CVS_graph']['std'])\n",
    "print '''where:\n",
    " 0 -> None\n",
    " 1 -> 1-2 (roughly)\n",
    " 2 -> 3-5 (roughly)\n",
    " 3 -> 6+ (roughly)'''"
   ]
  },
  {
   "cell_type": "markdown",
   "metadata": {},
   "source": [
    "### post hoc of pre"
   ]
  },
  {
   "cell_type": "code",
   "execution_count": 56,
   "metadata": {
    "collapsed": false
   },
   "outputs": [
    {
     "name": "stdout",
     "output_type": "stream",
     "text": [
      "Here is the avg pre score of students depending if they do CVS graph or not\n"
     ]
    },
    {
     "data": {
      "text/plain": [
       "<matplotlib.axes._subplots.AxesSubplot at 0x16827ac8>"
      ]
     },
     "execution_count": 56,
     "metadata": {},
     "output_type": "execute_result"
    },
    {
     "data": {
      "image/png": "[encoded data removed]",
      "text/plain": [
       "<matplotlib.figure.Figure at 0x168390b8>"
      ]
     },
     "metadata": {},
     "output_type": "display_data"
    }
   ],
   "source": [
    "cvs_pre = pd.pivot_table(data, values=['CVS_graph'], index=['pre'],aggfunc=(np.mean,np.std))\n",
    "print \"Here is the avg pre score of students depending if they do CVS graph or not\"\n",
    "cvs_pre['CVS_graph']['mean'].plot.bar(yerr=cvs_pre['CVS_graph']['std'])"
   ]
  }
 ],
 "metadata": {
  "anaconda-cloud": {},
  "celltoolbar": "Hide code",
  "hide_code_all_hidden": true,
  "kernelspec": {
   "display_name": "Python [Anaconda2]",
   "language": "python",
   "name": "Python [Anaconda2]"
  },
  "language_info": {
   "codemirror_mode": {
    "name": "ipython",
    "version": 2
   },
   "file_extension": ".py",
   "mimetype": "text/x-python",
   "name": "python",
   "nbconvert_exporter": "python",
   "pygments_lexer": "ipython2",
   "version": "2.7.12"
  },
  "toc": {
   "nav_menu": {},
   "number_sections": true,
   "sideBar": false,
   "skip_h1_title": false,
   "toc_cell": false,
   "toc_position": {},
   "toc_section_display": "block",
   "toc_window_display": false
  }
 },
 "nbformat": 4,
 "nbformat_minor": 2
}
