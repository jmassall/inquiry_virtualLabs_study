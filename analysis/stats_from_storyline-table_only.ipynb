{
 "cells": [
  {
   "cell_type": "markdown",
   "metadata": {},
   "source": [
    "Load libraries"
   ]
  },
  {
   "cell_type": "code",
   "execution_count": 2,
   "metadata": {},
   "outputs": [
    {
     "name": "stderr",
     "output_type": "stream",
     "text": [
      "Loading required package: mlogit\n",
      "Loading required package: Formula\n",
      "Warning message:\n",
      "\"package 'Formula' was built under R version 3.4.4\"Loading required package: maxLik\n",
      "Warning message:\n",
      "\"package 'maxLik' was built under R version 3.4.4\"Loading required package: miscTools\n",
      "\n",
      "Please cite the 'maxLik' package as:\n",
      "Henningsen, Arne and Toomet, Ott (2011). maxLik: A package for maximum likelihood estimation in R. Computational Statistics 26(3), 443-458. DOI 10.1007/s00180-010-0217-1.\n",
      "\n",
      "If you have questions, suggestions, or comments regarding the 'maxLik' package, please use a forum or 'tracker' at maxLik's R-Forge site:\n",
      "https://r-forge.r-project.org/projects/maxlik/\n",
      "Loading required package: ggplot2\n",
      "Warning message:\n",
      "\"package 'ggplot2' was built under R version 3.4.4\"Loading required package: reshape2\n",
      "Warning message:\n",
      "\"package 'reshape2' was built under R version 3.4.4\"Loading required package: lme4\n",
      "Warning message:\n",
      "\"package 'lme4' was built under R version 3.4.4\"Loading required package: Matrix\n",
      "Loading required package: compiler\n",
      "Loading required package: parallel\n",
      "Loading required package: car\n",
      "Loading required package: boot\n",
      "\n",
      "Attaching package: 'boot'\n",
      "\n",
      "The following object is masked from 'package:car':\n",
      "\n",
      "    logit\n",
      "\n",
      "Loading required package: dplyr\n",
      "\n",
      "Attaching package: 'dplyr'\n",
      "\n",
      "The following object is masked from 'package:car':\n",
      "\n",
      "    recode\n",
      "\n",
      "The following objects are masked from 'package:stats':\n",
      "\n",
      "    filter, lag\n",
      "\n",
      "The following objects are masked from 'package:base':\n",
      "\n",
      "    intersect, setdiff, setequal, union\n",
      "\n",
      "Loading required package: sjstats\n",
      "Warning message:\n",
      "\"package 'sjstats' was built under R version 3.4.4\"Warning message in checkMatrixPackageVersion():\n",
      "\"Package version inconsistency detected.\n",
      "TMB was built with Matrix version 1.2.14\n",
      "Current Matrix version is 1.2.12\n",
      "Please re-install 'TMB' from source using install.packages('TMB', type = 'source') or ask CRAN for a binary version of 'TMB' matching CRAN's 'Matrix' package\"Loading required package: broom\n",
      "Warning message:\n",
      "\"package 'broom' was built under R version 3.4.4\"\n",
      "Attaching package: 'broom'\n",
      "\n",
      "The following object is masked from 'package:sjstats':\n",
      "\n",
      "    bootstrap\n",
      "\n"
     ]
    }
   ],
   "source": [
    "## For some reason, when loading mlogit, the notebook can't find package 'statmod' so I specify it's location\n",
    "library(statmod, lib.loc='D:\\\\Applications\\\\Anaconda2\\\\pkgs\\\\r-statmod-1.4.30-r3.4.1_0\\\\lib\\\\R\\\\library\\\\')\n",
    "require(mlogit)\n",
    "require(ggplot2)\n",
    "require(reshape2)\n",
    "require(lme4)\n",
    "require(compiler)\n",
    "require(parallel)\n",
    "require(car)\n",
    "require(boot)\n",
    "require(dplyr)\n",
    "require(sjstats)\n",
    "require(broom)"
   ]
  },
  {
   "cell_type": "markdown",
   "metadata": {},
   "source": [
    "# Load data and set factors"
   ]
  },
  {
   "cell_type": "code",
   "execution_count": 3,
   "metadata": {},
   "outputs": [],
   "source": [
    "all_mydata <- read.csv(\"C:\\\\Users\\\\Sarah\\\\Documents\\\\Personal Content\\\\Lab_study_data\\\\all_massaged_data\\\\dataframe_all_factors_for_analysis.txt\",sep = '\\t')\n",
    "# sid is the student number\n",
    "# we use the \"factor()\" option to make sure R treats them as categorical\n",
    "all_mydata$sid <- factor(all_mydata$sid)\n",
    "all_mydata$sim_index <- factor(all_mydata$sim_index)\n",
    "all_mydata$lab_experience <- factor(all_mydata$lab_experience)\n",
    "all_mydata$lab_experience_chem <- factor(all_mydata$lab_experience_chem)\n",
    "all_mydata$lab_experience_phys <- factor(all_mydata$lab_experience_phys)\n",
    "all_mydata$similar_sim <- factor(all_mydata$similar_sim)\n",
    "all_mydata$cvs_graph <- factor(all_mydata$cvs_graph)\n",
    "all_mydata$cvs_graph_inverse <- factor(all_mydata$cvs_graph_inverse)\n",
    "# all_mydata$cvs_graph_NOT_inverse <- factor(all_mydata$cvs_graph_NOT_inverse)\n",
    "all_mydata$cvs_table_only <- factor(all_mydata$cvs_table_only)\n",
    "all_mydata$quant_score <- factor(all_mydata$quant_score)\n",
    "# all_mydata$main <- factor(all_mydata$main)\n",
    "# all_mydata$pre <- factor(all_mydata$pre)"
   ]
  },
  {
   "cell_type": "markdown",
   "metadata": {},
   "source": [
    "Here is what our data looks like:"
   ]
  },
  {
   "cell_type": "code",
   "execution_count": 4,
   "metadata": {},
   "outputs": [
    {
     "data": {
      "text/html": [
       "<table>\n",
       "<thead><tr><th scope=col>sid</th><th scope=col>sim</th><th scope=col>variable</th><th scope=col>pre</th><th scope=col>main</th><th scope=col>cvs_graph</th><th scope=col>cvs_table</th><th scope=col>cvs_table_only</th><th scope=col>cvs_graph_inverse</th><th scope=col>cvs_graph_axes</th><th scope=col>...</th><th scope=col>use_graph</th><th scope=col>use_concentration</th><th scope=col>use_width</th><th scope=col>use_area</th><th scope=col>use_separation</th><th scope=col>use_all_vars</th><th scope=col>use_graph_beers</th><th scope=col>use_table_beers</th><th scope=col>use_table_capacitor</th><th scope=col>use_graph_capacitor</th></tr></thead>\n",
       "<tbody>\n",
       "\t<tr><td>10127163     </td><td>L            </td><td>Concentration</td><td>0            </td><td>2            </td><td>1            </td><td>1            </td><td>0            </td><td>0            </td><td>1            </td><td>...          </td><td>1            </td><td>1            </td><td>1            </td><td>1            </td><td>1            </td><td>4            </td><td>1            </td><td>1            </td><td>1            </td><td>1            </td></tr>\n",
       "\t<tr><td>10127163     </td><td>L            </td><td>Width        </td><td>0            </td><td>2            </td><td>1            </td><td>1            </td><td>0            </td><td>0            </td><td>1            </td><td>...          </td><td>1            </td><td>1            </td><td>1            </td><td>1            </td><td>1            </td><td>4            </td><td>1            </td><td>1            </td><td>1            </td><td>1            </td></tr>\n",
       "\t<tr><td>10127163     </td><td>C            </td><td>Area         </td><td>2            </td><td>2            </td><td>1            </td><td>1            </td><td>0            </td><td>0            </td><td>1            </td><td>...          </td><td>1            </td><td>1            </td><td>1            </td><td>1            </td><td>1            </td><td>4            </td><td>1            </td><td>1            </td><td>1            </td><td>1            </td></tr>\n",
       "\t<tr><td>10127163     </td><td>C            </td><td>Separation   </td><td>2            </td><td>2            </td><td>1            </td><td>1            </td><td>0            </td><td>1            </td><td>2            </td><td>...          </td><td>1            </td><td>1            </td><td>1            </td><td>1            </td><td>1            </td><td>4            </td><td>1            </td><td>1            </td><td>1            </td><td>1            </td></tr>\n",
       "\t<tr><td>10232160     </td><td>L            </td><td>Concentration</td><td>0            </td><td>0            </td><td>1            </td><td>1            </td><td>0            </td><td>1            </td><td>2            </td><td>...          </td><td>1            </td><td>1            </td><td>1            </td><td>1            </td><td>1            </td><td>4            </td><td>1            </td><td>1            </td><td>1            </td><td>1            </td></tr>\n",
       "\t<tr><td>10232160     </td><td>L            </td><td>Width        </td><td>0            </td><td>0            </td><td>0            </td><td>0            </td><td>0            </td><td>0            </td><td>0            </td><td>...          </td><td>1            </td><td>1            </td><td>1            </td><td>1            </td><td>1            </td><td>4            </td><td>1            </td><td>1            </td><td>1            </td><td>1            </td></tr>\n",
       "</tbody>\n",
       "</table>\n"
      ],
      "text/latex": [
       "\\begin{tabular}{r|llllllllllllllllllllllllllllllllllll}\n",
       " sid & sim & variable & pre & main & cvs\\_graph & cvs\\_table & cvs\\_table\\_only & cvs\\_graph\\_inverse & cvs\\_graph\\_axes & ... & use\\_graph & use\\_concentration & use\\_width & use\\_area & use\\_separation & use\\_all\\_vars & use\\_graph\\_beers & use\\_table\\_beers & use\\_table\\_capacitor & use\\_graph\\_capacitor\\\\\n",
       "\\hline\n",
       "\t 10127163      & L             & Concentration & 0             & 2             & 1             & 1             & 0             & 0             & 1             & ...           & 1             & 1             & 1             & 1             & 1             & 4             & 1             & 1             & 1             & 1            \\\\\n",
       "\t 10127163      & L             & Width         & 0             & 2             & 1             & 1             & 0             & 0             & 1             & ...           & 1             & 1             & 1             & 1             & 1             & 4             & 1             & 1             & 1             & 1            \\\\\n",
       "\t 10127163      & C             & Area          & 2             & 2             & 1             & 1             & 0             & 0             & 1             & ...           & 1             & 1             & 1             & 1             & 1             & 4             & 1             & 1             & 1             & 1            \\\\\n",
       "\t 10127163      & C             & Separation    & 2             & 2             & 1             & 1             & 0             & 1             & 2             & ...           & 1             & 1             & 1             & 1             & 1             & 4             & 1             & 1             & 1             & 1            \\\\\n",
       "\t 10232160      & L             & Concentration & 0             & 0             & 1             & 1             & 0             & 1             & 2             & ...           & 1             & 1             & 1             & 1             & 1             & 4             & 1             & 1             & 1             & 1            \\\\\n",
       "\t 10232160      & L             & Width         & 0             & 0             & 0             & 0             & 0             & 0             & 0             & ...           & 1             & 1             & 1             & 1             & 1             & 4             & 1             & 1             & 1             & 1            \\\\\n",
       "\\end{tabular}\n"
      ],
      "text/markdown": [
       "\n",
       "sid | sim | variable | pre | main | cvs_graph | cvs_table | cvs_table_only | cvs_graph_inverse | cvs_graph_axes | ... | use_graph | use_concentration | use_width | use_area | use_separation | use_all_vars | use_graph_beers | use_table_beers | use_table_capacitor | use_graph_capacitor | \n",
       "|---|---|---|---|---|---|\n",
       "| 10127163      | L             | Concentration | 0             | 2             | 1             | 1             | 0             | 0             | 1             | ...           | 1             | 1             | 1             | 1             | 1             | 4             | 1             | 1             | 1             | 1             | \n",
       "| 10127163      | L             | Width         | 0             | 2             | 1             | 1             | 0             | 0             | 1             | ...           | 1             | 1             | 1             | 1             | 1             | 4             | 1             | 1             | 1             | 1             | \n",
       "| 10127163      | C             | Area          | 2             | 2             | 1             | 1             | 0             | 0             | 1             | ...           | 1             | 1             | 1             | 1             | 1             | 4             | 1             | 1             | 1             | 1             | \n",
       "| 10127163      | C             | Separation    | 2             | 2             | 1             | 1             | 0             | 1             | 2             | ...           | 1             | 1             | 1             | 1             | 1             | 4             | 1             | 1             | 1             | 1             | \n",
       "| 10232160      | L             | Concentration | 0             | 0             | 1             | 1             | 0             | 1             | 2             | ...           | 1             | 1             | 1             | 1             | 1             | 4             | 1             | 1             | 1             | 1             | \n",
       "| 10232160      | L             | Width         | 0             | 0             | 0             | 0             | 0             | 0             | 0             | ...           | 1             | 1             | 1             | 1             | 1             | 4             | 1             | 1             | 1             | 1             | \n",
       "\n",
       "\n"
      ],
      "text/plain": [
       "  sid      sim variable      pre main cvs_graph cvs_table cvs_table_only\n",
       "1 10127163 L   Concentration 0   2    1         1         0             \n",
       "2 10127163 L   Width         0   2    1         1         0             \n",
       "3 10127163 C   Area          2   2    1         1         0             \n",
       "4 10127163 C   Separation    2   2    1         1         0             \n",
       "5 10232160 L   Concentration 0   0    1         1         0             \n",
       "6 10232160 L   Width         0   0    0         0         0             \n",
       "  cvs_graph_inverse cvs_graph_axes ... use_graph use_concentration use_width\n",
       "1 0                 1              ... 1         1                 1        \n",
       "2 0                 1              ... 1         1                 1        \n",
       "3 0                 1              ... 1         1                 1        \n",
       "4 1                 2              ... 1         1                 1        \n",
       "5 1                 2              ... 1         1                 1        \n",
       "6 0                 0              ... 1         1                 1        \n",
       "  use_area use_separation use_all_vars use_graph_beers use_table_beers\n",
       "1 1        1              4            1               1              \n",
       "2 1        1              4            1               1              \n",
       "3 1        1              4            1               1              \n",
       "4 1        1              4            1               1              \n",
       "5 1        1              4            1               1              \n",
       "6 1        1              4            1               1              \n",
       "  use_table_capacitor use_graph_capacitor\n",
       "1 1                   1                  \n",
       "2 1                   1                  \n",
       "3 1                   1                  \n",
       "4 1                   1                  \n",
       "5 1                   1                  \n",
       "6 1                   1                  "
      ]
     },
     "metadata": {},
     "output_type": "display_data"
    }
   ],
   "source": [
    "head(all_mydata)\n",
    "# colnames(mydata)"
   ]
  },
  {
   "cell_type": "markdown",
   "metadata": {},
   "source": [
    "We have the following factors that change per variable:\n",
    "* main (0,1,2), treated as a continuous variable\n",
    "* pre (0,1,2), treated as a continuous variable\n",
    "* quant_score (0 or 1)\n",
    "* CVS_graph (0 or 1)\n",
    "* CVS_table (0 or 1)\n",
    "\n",
    "We have the following independant factors:\n",
    "* sim_index (1 or 2, wither it was student's 1st or 2nd activity)\n",
    "* variable (thus don't include sim as a variable)\n",
    "* student attibutes:\n",
    "   * lab_experience (0 or 1 if students have prior undergraduate physics or chemistry lab experience)\n",
    "   * similar_sim (0 or 1 if they have used a similar simulation)\n",
    "   * prior_number_virtual_labs (levels from 0 to 3 depending on the number of virtual labs they have done in the past)\n",
    "\n",
    "We ignore attitude components.\n",
    "\n",
    "For main and pre score:\n",
    "* score = 2 if they describe the correct relationship, ie. a correct quantitative model\n",
    "* score = 1 if they describe the correct direction of the relationship, ie. they have a correct qual model but incorrect quant model OR if their quant model is incorrect but qualitatively correct\n",
    "* score = 0 otherwise (i.e. all incorrect or only identified)"
   ]
  },
  {
   "cell_type": "markdown",
   "metadata": {
    "heading_collapsed": true
   },
   "source": [
    "# Use this code to remove perfect pre per variable instance"
   ]
  },
  {
   "cell_type": "code",
   "execution_count": 5,
   "metadata": {
    "hidden": true
   },
   "outputs": [],
   "source": [
    "# mydata <- (all_mydata %>% filter(pre < 2))\n",
    "mydata <- all_mydata"
   ]
  },
  {
   "cell_type": "code",
   "execution_count": 6,
   "metadata": {
    "hidden": true
   },
   "outputs": [],
   "source": [
    "# print(dim(mydata));print(dim(all_mydata));\n",
    "# print(dim(unique(mydata['sid'])));print(dim(unique(all_mydata['sid'])));"
   ]
  },
  {
   "cell_type": "markdown",
   "metadata": {
    "hidden": true
   },
   "source": [
    "We could remove 39 instances of perfect pre. If we do, all 147 students remain in the study (i.e. no student got a prefect pre on all variables)."
   ]
  },
  {
   "cell_type": "markdown",
   "metadata": {
    "heading_collapsed": true
   },
   "source": [
    "# Stat model 1: Prediction main model score as a continuous variable"
   ]
  },
  {
   "cell_type": "markdown",
   "metadata": {
    "hidden": true
   },
   "source": [
    "Some resources:\n",
    "* On SS Types: https://mcfromnz.wordpress.com/2011/03/02/anova-type-iiiiii-ss-explained/\n",
    "* on drop() function to do type 3: https://www.statmethods.net/stats/anova.html\n",
    "* On repeated measures: http://psych.wisc.edu/moore/Rpdf/610-R8_OneWayWithin.pdf, https://datascienceplus.com/two-way-anova-with-repeated-measures/\n",
    "* the car package: https://cran.r-project.org/web/packages/car/car.pdf"
   ]
  },
  {
   "cell_type": "markdown",
   "metadata": {
    "hidden": true
   },
   "source": [
    "## Complete model with interactions"
   ]
  },
  {
   "cell_type": "markdown",
   "metadata": {
    "hidden": true
   },
   "source": [
    "Our model (without student factors) is:\n",
    "\n",
    "    main  ~  cvs_table_only*variable + cvs_graph*variable\n",
    "             + cvs_table_only*pre + cvs_graph*pre\n",
    "             + sim_index + sid\n",
    "             \n",
    "We run a type III Anova:"
   ]
  },
  {
   "cell_type": "code",
   "execution_count": 7,
   "metadata": {
    "hidden": true
   },
   "outputs": [
    {
     "name": "stderr",
     "output_type": "stream",
     "text": [
      "Warning message:\n",
      "\"package 'bindrcpp' was built under R version 3.4.4\""
     ]
    },
    {
     "data": {
      "text/html": [
       "<table>\n",
       "<thead><tr><th scope=col>term</th><th scope=col>sumsq</th><th scope=col>df</th><th scope=col>statistic</th><th scope=col>p.value</th><th scope=col>eta</th></tr></thead>\n",
       "<tbody>\n",
       "\t<tr><td>(Intercept)            </td><td>7.805831e+00           </td><td>  1                    </td><td>34.747383469           </td><td>7.642655e-09           </td><td>7.541526e-02           </td></tr>\n",
       "\t<tr><td>cvs_table_only         </td><td>2.646537e-02           </td><td>  1                    </td><td> 0.117809663           </td><td>7.315917e-01           </td><td>2.764720e-04           </td></tr>\n",
       "\t<tr><td>variable               </td><td>2.962562e-01           </td><td>  3                    </td><td> 0.439591352           </td><td>7.247968e-01           </td><td>3.086160e-03           </td></tr>\n",
       "\t<tr><td>cvs_graph              </td><td>2.251265e+00           </td><td>  1                    </td><td>10.021427952           </td><td>1.658389e-03           </td><td>2.298380e-02           </td></tr>\n",
       "\t<tr><td>pre                    </td><td>9.773337e-04           </td><td>  1                    </td><td> 0.004350567           </td><td>9.474415e-01           </td><td>1.021249e-05           </td></tr>\n",
       "\t<tr><td>sim_index              </td><td>2.740467e+00           </td><td>  1                    </td><td>12.199093390           </td><td>5.281336e-04           </td><td>2.783916e-02           </td></tr>\n",
       "\t<tr><td>sid                    </td><td>9.881870e+01           </td><td>146                    </td><td> 3.012931588           </td><td>1.176573e-18           </td><td>5.080195e-01           </td></tr>\n",
       "\t<tr><td>cvs_table_only:variable</td><td>1.212752e+00           </td><td>  3                    </td><td> 1.799508506           </td><td>1.465681e-01           </td><td>1.251401e-02           </td></tr>\n",
       "\t<tr><td>variable:cvs_graph     </td><td>2.400688e+00           </td><td>  3                    </td><td> 3.562193174           </td><td>1.431263e-02           </td><td>2.447197e-02           </td></tr>\n",
       "\t<tr><td>cvs_table_only:pre     </td><td>1.981195e-03           </td><td>  1                    </td><td> 0.008819222           </td><td>9.252242e-01           </td><td>2.070197e-05           </td></tr>\n",
       "\t<tr><td>cvs_graph:pre          </td><td>2.227101e-01           </td><td>  1                    </td><td> 0.991386382           </td><td>3.199690e-01           </td><td>2.321795e-03           </td></tr>\n",
       "\t<tr><td>Residuals              </td><td>9.569883e+01           </td><td>426                    </td><td>          NA           </td><td>          NA           </td><td>5.000000e-01           </td></tr>\n",
       "</tbody>\n",
       "</table>\n"
      ],
      "text/latex": [
       "\\begin{tabular}{r|llllll}\n",
       " term & sumsq & df & statistic & p.value & eta\\\\\n",
       "\\hline\n",
       "\t (Intercept)             & 7.805831e+00            &   1                     & 34.747383469            & 7.642655e-09            & 7.541526e-02           \\\\\n",
       "\t cvs\\_table\\_only          & 2.646537e-02                &   1                         &  0.117809663                & 7.315917e-01                & 2.764720e-04               \\\\\n",
       "\t variable                & 2.962562e-01            &   3                     &  0.439591352            & 7.247968e-01            & 3.086160e-03           \\\\\n",
       "\t cvs\\_graph               & 2.251265e+00              &   1                       & 10.021427952              & 1.658389e-03              & 2.298380e-02             \\\\\n",
       "\t pre                     & 9.773337e-04            &   1                     &  0.004350567            & 9.474415e-01            & 1.021249e-05           \\\\\n",
       "\t sim\\_index               & 2.740467e+00              &   1                       & 12.199093390              & 5.281336e-04              & 2.783916e-02             \\\\\n",
       "\t sid                     & 9.881870e+01            & 146                     &  3.012931588            & 1.176573e-18            & 5.080195e-01           \\\\\n",
       "\t cvs\\_table\\_only:variable & 1.212752e+00                &   3                         &  1.799508506                & 1.465681e-01                & 1.251401e-02               \\\\\n",
       "\t variable:cvs\\_graph      & 2.400688e+00              &   3                       &  3.562193174              & 1.431263e-02              & 2.447197e-02             \\\\\n",
       "\t cvs\\_table\\_only:pre      & 1.981195e-03                &   1                         &  0.008819222                & 9.252242e-01                & 2.070197e-05               \\\\\n",
       "\t cvs\\_graph:pre           & 2.227101e-01              &   1                       &  0.991386382              & 3.199690e-01              & 2.321795e-03             \\\\\n",
       "\t Residuals               & 9.569883e+01            & 426                     &           NA            &           NA            & 5.000000e-01           \\\\\n",
       "\\end{tabular}\n"
      ],
      "text/markdown": [
       "\n",
       "term | sumsq | df | statistic | p.value | eta | \n",
       "|---|---|---|---|---|---|---|---|---|---|---|---|\n",
       "| (Intercept)             | 7.805831e+00            |   1                     | 34.747383469            | 7.642655e-09            | 7.541526e-02            | \n",
       "| cvs_table_only          | 2.646537e-02            |   1                     |  0.117809663            | 7.315917e-01            | 2.764720e-04            | \n",
       "| variable                | 2.962562e-01            |   3                     |  0.439591352            | 7.247968e-01            | 3.086160e-03            | \n",
       "| cvs_graph               | 2.251265e+00            |   1                     | 10.021427952            | 1.658389e-03            | 2.298380e-02            | \n",
       "| pre                     | 9.773337e-04            |   1                     |  0.004350567            | 9.474415e-01            | 1.021249e-05            | \n",
       "| sim_index               | 2.740467e+00            |   1                     | 12.199093390            | 5.281336e-04            | 2.783916e-02            | \n",
       "| sid                     | 9.881870e+01            | 146                     |  3.012931588            | 1.176573e-18            | 5.080195e-01            | \n",
       "| cvs_table_only:variable | 1.212752e+00            |   3                     |  1.799508506            | 1.465681e-01            | 1.251401e-02            | \n",
       "| variable:cvs_graph      | 2.400688e+00            |   3                     |  3.562193174            | 1.431263e-02            | 2.447197e-02            | \n",
       "| cvs_table_only:pre      | 1.981195e-03            |   1                     |  0.008819222            | 9.252242e-01            | 2.070197e-05            | \n",
       "| cvs_graph:pre           | 2.227101e-01            |   1                     |  0.991386382            | 3.199690e-01            | 2.321795e-03            | \n",
       "| Residuals               | 9.569883e+01            | 426                     |           NA            |           NA            | 5.000000e-01            | \n",
       "\n",
       "\n"
      ],
      "text/plain": [
       "   term                    sumsq        df  statistic    p.value     \n",
       "1  (Intercept)             7.805831e+00   1 34.747383469 7.642655e-09\n",
       "2  cvs_table_only          2.646537e-02   1  0.117809663 7.315917e-01\n",
       "3  variable                2.962562e-01   3  0.439591352 7.247968e-01\n",
       "4  cvs_graph               2.251265e+00   1 10.021427952 1.658389e-03\n",
       "5  pre                     9.773337e-04   1  0.004350567 9.474415e-01\n",
       "6  sim_index               2.740467e+00   1 12.199093390 5.281336e-04\n",
       "7  sid                     9.881870e+01 146  3.012931588 1.176573e-18\n",
       "8  cvs_table_only:variable 1.212752e+00   3  1.799508506 1.465681e-01\n",
       "9  variable:cvs_graph      2.400688e+00   3  3.562193174 1.431263e-02\n",
       "10 cvs_table_only:pre      1.981195e-03   1  0.008819222 9.252242e-01\n",
       "11 cvs_graph:pre           2.227101e-01   1  0.991386382 3.199690e-01\n",
       "12 Residuals               9.569883e+01 426           NA           NA\n",
       "   eta         \n",
       "1  7.541526e-02\n",
       "2  2.764720e-04\n",
       "3  3.086160e-03\n",
       "4  2.298380e-02\n",
       "5  1.021249e-05\n",
       "6  2.783916e-02\n",
       "7  5.080195e-01\n",
       "8  1.251401e-02\n",
       "9  2.447197e-02\n",
       "10 2.070197e-05\n",
       "11 2.321795e-03\n",
       "12 5.000000e-01"
      ]
     },
     "metadata": {},
     "output_type": "display_data"
    }
   ],
   "source": [
    "lm1 = lm(main\n",
    "        ~  cvs_table_only*variable + cvs_graph*variable + cvs_table_only*pre + cvs_graph*pre + sim_index + sid,\n",
    "         data=mydata)\n",
    "results1 = Anova(lm1, type=3)\n",
    "results_table1 = tidy(results1)\n",
    "results_table1$eta <- results_table1$sumsq/(results_table1$sumsq + results_table1$sumsq[dim(results_table1)[1]])\n",
    "results_table1"
   ]
  },
  {
   "cell_type": "markdown",
   "metadata": {
    "hidden": true
   },
   "source": [
    "None of the interactions are significant so let's move to a simpler model."
   ]
  },
  {
   "cell_type": "markdown",
   "metadata": {
    "heading_collapsed": true,
    "hidden": true
   },
   "source": [
    "## Simple model without interaction"
   ]
  },
  {
   "cell_type": "markdown",
   "metadata": {
    "hidden": true
   },
   "source": [
    "Our model (without student factors) is:\n",
    "\n",
    "    main  ~  cvs_table_only + cvs_graph + variable\n",
    "             + pre + sim_index + sid\n",
    "             \n",
    "We run a type II Anova:"
   ]
  },
  {
   "cell_type": "code",
   "execution_count": 8,
   "metadata": {
    "hidden": true
   },
   "outputs": [
    {
     "data": {
      "text/html": [
       "<table>\n",
       "<thead><tr><th scope=col>term</th><th scope=col>sumsq</th><th scope=col>df</th><th scope=col>statistic</th><th scope=col>p.value</th><th scope=col>eta</th></tr></thead>\n",
       "<tbody>\n",
       "\t<tr><td>cvs_table_only</td><td>2.875905e-03  </td><td>  1           </td><td> 0.01265297   </td><td>9.104905e-01  </td><td>2.915345e-05  </td></tr>\n",
       "\t<tr><td>cvs_graph     </td><td>3.533661e+00  </td><td>  1           </td><td>15.54686102   </td><td>9.381150e-05  </td><td>3.458340e-02  </td></tr>\n",
       "\t<tr><td>variable      </td><td>2.341790e+00  </td><td>  3           </td><td> 3.43434961   </td><td>1.698431e-02  </td><td>2.318924e-02  </td></tr>\n",
       "\t<tr><td>pre           </td><td>5.063759e-01  </td><td>  1           </td><td> 2.22787537   </td><td>1.362667e-01  </td><td>5.107137e-03  </td></tr>\n",
       "\t<tr><td>sim_index     </td><td>2.769224e+00  </td><td>  1           </td><td>12.18360845   </td><td>5.314560e-04  </td><td>2.730627e-02  </td></tr>\n",
       "\t<tr><td>sid           </td><td>1.003316e+02  </td><td>146           </td><td> 3.02345002   </td><td>6.702068e-19  </td><td>5.042401e-01  </td></tr>\n",
       "\t<tr><td>Residuals     </td><td>9.864427e+01  </td><td>434           </td><td>         NA   </td><td>          NA  </td><td>5.000000e-01  </td></tr>\n",
       "</tbody>\n",
       "</table>\n"
      ],
      "text/latex": [
       "\\begin{tabular}{r|llllll}\n",
       " term & sumsq & df & statistic & p.value & eta\\\\\n",
       "\\hline\n",
       "\t cvs\\_table\\_only & 2.875905e-03       &   1                &  0.01265297        & 9.104905e-01       & 2.915345e-05      \\\\\n",
       "\t cvs\\_graph      & 3.533661e+00     &   1              & 15.54686102      & 9.381150e-05     & 3.458340e-02    \\\\\n",
       "\t variable       & 2.341790e+00   &   3            &  3.43434961    & 1.698431e-02   & 2.318924e-02  \\\\\n",
       "\t pre            & 5.063759e-01   &   1            &  2.22787537    & 1.362667e-01   & 5.107137e-03  \\\\\n",
       "\t sim\\_index      & 2.769224e+00     &   1              & 12.18360845      & 5.314560e-04     & 2.730627e-02    \\\\\n",
       "\t sid            & 1.003316e+02   & 146            &  3.02345002    & 6.702068e-19   & 5.042401e-01  \\\\\n",
       "\t Residuals      & 9.864427e+01   & 434            &          NA    &           NA   & 5.000000e-01  \\\\\n",
       "\\end{tabular}\n"
      ],
      "text/markdown": [
       "\n",
       "term | sumsq | df | statistic | p.value | eta | \n",
       "|---|---|---|---|---|---|---|\n",
       "| cvs_table_only | 2.875905e-03   |   1            |  0.01265297    | 9.104905e-01   | 2.915345e-05   | \n",
       "| cvs_graph      | 3.533661e+00   |   1            | 15.54686102    | 9.381150e-05   | 3.458340e-02   | \n",
       "| variable       | 2.341790e+00   |   3            |  3.43434961    | 1.698431e-02   | 2.318924e-02   | \n",
       "| pre            | 5.063759e-01   |   1            |  2.22787537    | 1.362667e-01   | 5.107137e-03   | \n",
       "| sim_index      | 2.769224e+00   |   1            | 12.18360845    | 5.314560e-04   | 2.730627e-02   | \n",
       "| sid            | 1.003316e+02   | 146            |  3.02345002    | 6.702068e-19   | 5.042401e-01   | \n",
       "| Residuals      | 9.864427e+01   | 434            |          NA    |           NA   | 5.000000e-01   | \n",
       "\n",
       "\n"
      ],
      "text/plain": [
       "  term           sumsq        df  statistic   p.value      eta         \n",
       "1 cvs_table_only 2.875905e-03   1  0.01265297 9.104905e-01 2.915345e-05\n",
       "2 cvs_graph      3.533661e+00   1 15.54686102 9.381150e-05 3.458340e-02\n",
       "3 variable       2.341790e+00   3  3.43434961 1.698431e-02 2.318924e-02\n",
       "4 pre            5.063759e-01   1  2.22787537 1.362667e-01 5.107137e-03\n",
       "5 sim_index      2.769224e+00   1 12.18360845 5.314560e-04 2.730627e-02\n",
       "6 sid            1.003316e+02 146  3.02345002 6.702068e-19 5.042401e-01\n",
       "7 Residuals      9.864427e+01 434          NA           NA 5.000000e-01"
      ]
     },
     "metadata": {},
     "output_type": "display_data"
    }
   ],
   "source": [
    "lm1 = lm(main\n",
    "        ~  cvs_table_only + cvs_graph + variable + pre + sim_index + sid,\n",
    "         data=mydata)\n",
    "results1 = Anova(lm1, type=2)\n",
    "results_table1 = tidy(results1)\n",
    "results_table1$eta <- results_table1$sumsq/(results_table1$sumsq + results_table1$sumsq[dim(results_table1)[1]])\n",
    "results_table1"
   ]
  },
  {
   "cell_type": "markdown",
   "metadata": {
    "hidden": true
   },
   "source": [
    "We see that, in order of significance and eta^2: cvs_graph, sim_index, and variable matter."
   ]
  },
  {
   "cell_type": "markdown",
   "metadata": {
    "heading_collapsed": true,
    "hidden": true
   },
   "source": [
    "## Model by variable"
   ]
  },
  {
   "cell_type": "markdown",
   "metadata": {
    "heading_collapsed": true,
    "hidden": true
   },
   "source": [
    "### For Width without interaction"
   ]
  },
  {
   "cell_type": "code",
   "execution_count": 9,
   "metadata": {
    "hidden": true,
    "scrolled": true
   },
   "outputs": [
    {
     "data": {
      "text/html": [
       "<table>\n",
       "<thead><tr><th scope=col>term</th><th scope=col>sumsq</th><th scope=col>df</th><th scope=col>statistic</th><th scope=col>p.value</th><th scope=col>eta</th></tr></thead>\n",
       "<tbody>\n",
       "\t<tr><td>cvs_table_only</td><td> 2.0083545    </td><td>  1           </td><td> 5.6774156    </td><td>1.850865e-02  </td><td>0.038444711   </td></tr>\n",
       "\t<tr><td>cvs_graph     </td><td>10.7756170    </td><td>  1           </td><td>30.4615826    </td><td>1.569396e-07  </td><td>0.176628222   </td></tr>\n",
       "\t<tr><td>pre           </td><td> 0.2706068    </td><td>  1           </td><td> 0.7649782    </td><td>3.832520e-01  </td><td>0.005358304   </td></tr>\n",
       "\t<tr><td>sim_index     </td><td> 1.5010825    </td><td>  1           </td><td> 4.2434090    </td><td>4.122893e-02  </td><td>0.029016070   </td></tr>\n",
       "\t<tr><td>Residuals     </td><td>50.2317177    </td><td>142           </td><td>        NA    </td><td>          NA  </td><td>0.500000000   </td></tr>\n",
       "</tbody>\n",
       "</table>\n"
      ],
      "text/latex": [
       "\\begin{tabular}{r|llllll}\n",
       " term & sumsq & df & statistic & p.value & eta\\\\\n",
       "\\hline\n",
       "\t cvs\\_table\\_only &  2.0083545         &   1                &  5.6774156         & 1.850865e-02       & 0.038444711       \\\\\n",
       "\t cvs\\_graph      & 10.7756170       &   1              & 30.4615826       & 1.569396e-07     & 0.176628222     \\\\\n",
       "\t pre            &  0.2706068     &   1            &  0.7649782     & 3.832520e-01   & 0.005358304   \\\\\n",
       "\t sim\\_index      &  1.5010825       &   1              &  4.2434090       & 4.122893e-02     & 0.029016070     \\\\\n",
       "\t Residuals      & 50.2317177     & 142            &         NA     &           NA   & 0.500000000   \\\\\n",
       "\\end{tabular}\n"
      ],
      "text/markdown": [
       "\n",
       "term | sumsq | df | statistic | p.value | eta | \n",
       "|---|---|---|---|---|\n",
       "| cvs_table_only |  2.0083545     |   1            |  5.6774156     | 1.850865e-02   | 0.038444711    | \n",
       "| cvs_graph      | 10.7756170     |   1            | 30.4615826     | 1.569396e-07   | 0.176628222    | \n",
       "| pre            |  0.2706068     |   1            |  0.7649782     | 3.832520e-01   | 0.005358304    | \n",
       "| sim_index      |  1.5010825     |   1            |  4.2434090     | 4.122893e-02   | 0.029016070    | \n",
       "| Residuals      | 50.2317177     | 142            |         NA     |           NA   | 0.500000000    | \n",
       "\n",
       "\n"
      ],
      "text/plain": [
       "  term           sumsq      df  statistic  p.value      eta        \n",
       "1 cvs_table_only  2.0083545   1  5.6774156 1.850865e-02 0.038444711\n",
       "2 cvs_graph      10.7756170   1 30.4615826 1.569396e-07 0.176628222\n",
       "3 pre             0.2706068   1  0.7649782 3.832520e-01 0.005358304\n",
       "4 sim_index       1.5010825   1  4.2434090 4.122893e-02 0.029016070\n",
       "5 Residuals      50.2317177 142         NA           NA 0.500000000"
      ]
     },
     "metadata": {},
     "output_type": "display_data"
    }
   ],
   "source": [
    "test <- subset(mydata, variable == \"Width\")\n",
    "lm1 = lm(main\n",
    "        ~  cvs_table_only + cvs_graph + pre + sim_index,\n",
    "         data=test)\n",
    "results1 = Anova(lm1, type=2)\n",
    "results_table1 = tidy(results1)\n",
    "results_table1$eta <- results_table1$sumsq/(results_table1$sumsq + results_table1$sumsq[dim(results_table1)[1]])\n",
    "results_table1"
   ]
  },
  {
   "cell_type": "markdown",
   "metadata": {
    "heading_collapsed": true,
    "hidden": true
   },
   "source": [
    "### For Area without interaction"
   ]
  },
  {
   "cell_type": "code",
   "execution_count": 10,
   "metadata": {
    "hidden": true
   },
   "outputs": [
    {
     "data": {
      "text/html": [
       "<table>\n",
       "<thead><tr><th scope=col>term</th><th scope=col>sumsq</th><th scope=col>df</th><th scope=col>statistic</th><th scope=col>p.value</th><th scope=col>eta</th></tr></thead>\n",
       "<tbody>\n",
       "\t<tr><td>cvs_table_only</td><td> 0.306401330  </td><td>  1           </td><td> 0.99824432   </td><td>3.194352e-01  </td><td>0.0069808152  </td></tr>\n",
       "\t<tr><td>cvs_graph     </td><td> 6.448698455  </td><td>  1           </td><td>21.00962353   </td><td>9.927121e-06  </td><td>0.1288857865  </td></tr>\n",
       "\t<tr><td>pre           </td><td> 2.643065816  </td><td>  1           </td><td> 8.61101169   </td><td>3.897894e-03  </td><td>0.0571738520  </td></tr>\n",
       "\t<tr><td>sim_index     </td><td> 0.009813715  </td><td>  1           </td><td> 0.03197273   </td><td>8.583424e-01  </td><td>0.0002251094  </td></tr>\n",
       "\t<tr><td>Residuals     </td><td>43.585511150  </td><td>142           </td><td>         NA   </td><td>          NA  </td><td>0.5000000000  </td></tr>\n",
       "</tbody>\n",
       "</table>\n"
      ],
      "text/latex": [
       "\\begin{tabular}{r|llllll}\n",
       " term & sumsq & df & statistic & p.value & eta\\\\\n",
       "\\hline\n",
       "\t cvs\\_table\\_only &  0.306401330       &   1                &  0.99824432        & 3.194352e-01       & 0.0069808152      \\\\\n",
       "\t cvs\\_graph      &  6.448698455     &   1              & 21.00962353      & 9.927121e-06     & 0.1288857865    \\\\\n",
       "\t pre            &  2.643065816   &   1            &  8.61101169    & 3.897894e-03   & 0.0571738520  \\\\\n",
       "\t sim\\_index      &  0.009813715     &   1              &  0.03197273      & 8.583424e-01     & 0.0002251094    \\\\\n",
       "\t Residuals      & 43.585511150   & 142            &          NA    &           NA   & 0.5000000000  \\\\\n",
       "\\end{tabular}\n"
      ],
      "text/markdown": [
       "\n",
       "term | sumsq | df | statistic | p.value | eta | \n",
       "|---|---|---|---|---|\n",
       "| cvs_table_only |  0.306401330   |   1            |  0.99824432    | 3.194352e-01   | 0.0069808152   | \n",
       "| cvs_graph      |  6.448698455   |   1            | 21.00962353    | 9.927121e-06   | 0.1288857865   | \n",
       "| pre            |  2.643065816   |   1            |  8.61101169    | 3.897894e-03   | 0.0571738520   | \n",
       "| sim_index      |  0.009813715   |   1            |  0.03197273    | 8.583424e-01   | 0.0002251094   | \n",
       "| Residuals      | 43.585511150   | 142            |          NA    |           NA   | 0.5000000000   | \n",
       "\n",
       "\n"
      ],
      "text/plain": [
       "  term           sumsq        df  statistic   p.value      eta         \n",
       "1 cvs_table_only  0.306401330   1  0.99824432 3.194352e-01 0.0069808152\n",
       "2 cvs_graph       6.448698455   1 21.00962353 9.927121e-06 0.1288857865\n",
       "3 pre             2.643065816   1  8.61101169 3.897894e-03 0.0571738520\n",
       "4 sim_index       0.009813715   1  0.03197273 8.583424e-01 0.0002251094\n",
       "5 Residuals      43.585511150 142          NA           NA 0.5000000000"
      ]
     },
     "metadata": {},
     "output_type": "display_data"
    }
   ],
   "source": [
    "test <- subset(mydata, variable == \"Area\")\n",
    "lm1 = lm(main\n",
    "        ~  cvs_table_only + cvs_graph + pre + sim_index,\n",
    "         data=test)\n",
    "results1 = Anova(lm1, type=2)\n",
    "results_table1 = tidy(results1)\n",
    "results_table1$eta <- results_table1$sumsq/(results_table1$sumsq + results_table1$sumsq[dim(results_table1)[1]])\n",
    "results_table1"
   ]
  },
  {
   "cell_type": "markdown",
   "metadata": {
    "heading_collapsed": true,
    "hidden": true
   },
   "source": [
    "### For Concentration without interaction"
   ]
  },
  {
   "cell_type": "code",
   "execution_count": 11,
   "metadata": {
    "hidden": true
   },
   "outputs": [
    {
     "data": {
      "text/html": [
       "<table>\n",
       "<thead><tr><th scope=col>term</th><th scope=col>sumsq</th><th scope=col>df</th><th scope=col>statistic</th><th scope=col>p.value</th><th scope=col>eta</th></tr></thead>\n",
       "<tbody>\n",
       "\t<tr><td>cvs_table_only</td><td> 0.2787357    </td><td>  1           </td><td> 0.8475172    </td><td>3.588170e-01  </td><td>0.00593302    </td></tr>\n",
       "\t<tr><td>cvs_graph     </td><td> 8.3179422    </td><td>  1           </td><td>25.2913382    </td><td>1.464157e-06  </td><td>0.15118140    </td></tr>\n",
       "\t<tr><td>pre           </td><td> 1.7380768    </td><td>  1           </td><td> 5.2847552    </td><td>2.297220e-02  </td><td>0.03588121    </td></tr>\n",
       "\t<tr><td>sim_index     </td><td> 2.2443126    </td><td>  1           </td><td> 6.8240039    </td><td>9.961487e-03  </td><td>0.04585284    </td></tr>\n",
       "\t<tr><td>Residuals     </td><td>46.7016722    </td><td>142           </td><td>        NA    </td><td>          NA  </td><td>0.50000000    </td></tr>\n",
       "</tbody>\n",
       "</table>\n"
      ],
      "text/latex": [
       "\\begin{tabular}{r|llllll}\n",
       " term & sumsq & df & statistic & p.value & eta\\\\\n",
       "\\hline\n",
       "\t cvs\\_table\\_only &  0.2787357         &   1                &  0.8475172         & 3.588170e-01       & 0.00593302        \\\\\n",
       "\t cvs\\_graph      &  8.3179422       &   1              & 25.2913382       & 1.464157e-06     & 0.15118140      \\\\\n",
       "\t pre            &  1.7380768     &   1            &  5.2847552     & 2.297220e-02   & 0.03588121    \\\\\n",
       "\t sim\\_index      &  2.2443126       &   1              &  6.8240039       & 9.961487e-03     & 0.04585284      \\\\\n",
       "\t Residuals      & 46.7016722     & 142            &         NA     &           NA   & 0.50000000    \\\\\n",
       "\\end{tabular}\n"
      ],
      "text/markdown": [
       "\n",
       "term | sumsq | df | statistic | p.value | eta | \n",
       "|---|---|---|---|---|\n",
       "| cvs_table_only |  0.2787357     |   1            |  0.8475172     | 3.588170e-01   | 0.00593302     | \n",
       "| cvs_graph      |  8.3179422     |   1            | 25.2913382     | 1.464157e-06   | 0.15118140     | \n",
       "| pre            |  1.7380768     |   1            |  5.2847552     | 2.297220e-02   | 0.03588121     | \n",
       "| sim_index      |  2.2443126     |   1            |  6.8240039     | 9.961487e-03   | 0.04585284     | \n",
       "| Residuals      | 46.7016722     | 142            |         NA     |           NA   | 0.50000000     | \n",
       "\n",
       "\n"
      ],
      "text/plain": [
       "  term           sumsq      df  statistic  p.value      eta       \n",
       "1 cvs_table_only  0.2787357   1  0.8475172 3.588170e-01 0.00593302\n",
       "2 cvs_graph       8.3179422   1 25.2913382 1.464157e-06 0.15118140\n",
       "3 pre             1.7380768   1  5.2847552 2.297220e-02 0.03588121\n",
       "4 sim_index       2.2443126   1  6.8240039 9.961487e-03 0.04585284\n",
       "5 Residuals      46.7016722 142         NA           NA 0.50000000"
      ]
     },
     "metadata": {},
     "output_type": "display_data"
    }
   ],
   "source": [
    "test <- subset(mydata, variable == \"Concentration\")\n",
    "lm1 = lm(main\n",
    "        ~  cvs_table_only + cvs_graph + pre + sim_index,\n",
    "         data=test)\n",
    "results1 = Anova(lm1, type=2)\n",
    "results_table1 = tidy(results1)\n",
    "results_table1$eta <- results_table1$sumsq/(results_table1$sumsq + results_table1$sumsq[dim(results_table1)[1]])\n",
    "results_table1"
   ]
  },
  {
   "cell_type": "markdown",
   "metadata": {
    "heading_collapsed": true,
    "hidden": true
   },
   "source": [
    "### For Separation without interaction"
   ]
  },
  {
   "cell_type": "code",
   "execution_count": 12,
   "metadata": {
    "hidden": true
   },
   "outputs": [
    {
     "data": {
      "text/html": [
       "<table>\n",
       "<thead><tr><th scope=col>term</th><th scope=col>sumsq</th><th scope=col>df</th><th scope=col>statistic</th><th scope=col>p.value</th><th scope=col>eta</th></tr></thead>\n",
       "<tbody>\n",
       "\t<tr><td>cvs_table_only</td><td> 0.4788152    </td><td>  1           </td><td>1.302363      </td><td>0.2557030     </td><td>0.009088217   </td></tr>\n",
       "\t<tr><td>cvs_graph     </td><td> 0.7928125    </td><td>  1           </td><td>2.156426      </td><td>0.1441863     </td><td>0.014958931   </td></tr>\n",
       "\t<tr><td>pre           </td><td> 2.5078567    </td><td>  1           </td><td>6.821295      </td><td>0.0099759     </td><td>0.045835475   </td></tr>\n",
       "\t<tr><td>sim_index     </td><td> 0.3905307    </td><td>  1           </td><td>1.062232      </td><td>0.3044590     </td><td>0.007424964   </td></tr>\n",
       "\t<tr><td>Residuals     </td><td>52.2064594    </td><td>142           </td><td>      NA      </td><td>       NA     </td><td>0.500000000   </td></tr>\n",
       "</tbody>\n",
       "</table>\n"
      ],
      "text/latex": [
       "\\begin{tabular}{r|llllll}\n",
       " term & sumsq & df & statistic & p.value & eta\\\\\n",
       "\\hline\n",
       "\t cvs\\_table\\_only &  0.4788152         &   1                & 1.302363           & 0.2557030          & 0.009088217       \\\\\n",
       "\t cvs\\_graph      &  0.7928125       &   1              & 2.156426         & 0.1441863        & 0.014958931     \\\\\n",
       "\t pre            &  2.5078567     &   1            & 6.821295       & 0.0099759      & 0.045835475   \\\\\n",
       "\t sim\\_index      &  0.3905307       &   1              & 1.062232         & 0.3044590        & 0.007424964     \\\\\n",
       "\t Residuals      & 52.2064594     & 142            &       NA       &        NA      & 0.500000000   \\\\\n",
       "\\end{tabular}\n"
      ],
      "text/markdown": [
       "\n",
       "term | sumsq | df | statistic | p.value | eta | \n",
       "|---|---|---|---|---|\n",
       "| cvs_table_only |  0.4788152     |   1            | 1.302363       | 0.2557030      | 0.009088217    | \n",
       "| cvs_graph      |  0.7928125     |   1            | 2.156426       | 0.1441863      | 0.014958931    | \n",
       "| pre            |  2.5078567     |   1            | 6.821295       | 0.0099759      | 0.045835475    | \n",
       "| sim_index      |  0.3905307     |   1            | 1.062232       | 0.3044590      | 0.007424964    | \n",
       "| Residuals      | 52.2064594     | 142            |       NA       |        NA      | 0.500000000    | \n",
       "\n",
       "\n"
      ],
      "text/plain": [
       "  term           sumsq      df  statistic p.value   eta        \n",
       "1 cvs_table_only  0.4788152   1 1.302363  0.2557030 0.009088217\n",
       "2 cvs_graph       0.7928125   1 2.156426  0.1441863 0.014958931\n",
       "3 pre             2.5078567   1 6.821295  0.0099759 0.045835475\n",
       "4 sim_index       0.3905307   1 1.062232  0.3044590 0.007424964\n",
       "5 Residuals      52.2064594 142       NA         NA 0.500000000"
      ]
     },
     "metadata": {},
     "output_type": "display_data"
    }
   ],
   "source": [
    "test <- subset(mydata, variable == \"Separation\")\n",
    "lm1 = lm(main\n",
    "        ~  cvs_table_only + cvs_graph + pre + sim_index,\n",
    "         data=test)\n",
    "results1 = Anova(lm1, type=2)\n",
    "results_table1 = tidy(results1)\n",
    "results_table1$eta <- results_table1$sumsq/(results_table1$sumsq + results_table1$sumsq[dim(results_table1)[1]])\n",
    "results_table1"
   ]
  },
  {
   "cell_type": "markdown",
   "metadata": {
    "heading_collapsed": true,
    "hidden": true
   },
   "source": [
    "### For Width with interaction"
   ]
  },
  {
   "cell_type": "code",
   "execution_count": 13,
   "metadata": {
    "hidden": true,
    "scrolled": true
   },
   "outputs": [
    {
     "data": {
      "text/html": [
       "<table>\n",
       "<thead><tr><th scope=col>term</th><th scope=col>sumsq</th><th scope=col>df</th><th scope=col>statistic</th><th scope=col>p.value</th><th scope=col>eta</th></tr></thead>\n",
       "<tbody>\n",
       "\t<tr><td>cvs_table_only    </td><td> 1.90468176       </td><td>  1               </td><td> 5.3424028        </td><td>2.227267e-02      </td><td>0.036757358       </td></tr>\n",
       "\t<tr><td>pre               </td><td> 0.27060681       </td><td>  1               </td><td> 0.7590195        </td><td>3.851271e-01      </td><td>0.005392333       </td></tr>\n",
       "\t<tr><td>cvs_graph         </td><td>11.01025113       </td><td>  1               </td><td>30.8824273        </td><td>1.339132e-07      </td><td>0.180723248       </td></tr>\n",
       "\t<tr><td>sim_index         </td><td> 1.59026245       </td><td>  1               </td><td> 4.4604945        </td><td>3.646344e-02      </td><td>0.030876916       </td></tr>\n",
       "\t<tr><td>cvs_table_only:pre</td><td> 0.30620735       </td><td>  1               </td><td> 0.8588747        </td><td>3.556487e-01      </td><td>0.006097413       </td></tr>\n",
       "\t<tr><td>pre:cvs_graph     </td><td> 0.08090914       </td><td>  1               </td><td> 0.2269404        </td><td>6.345445e-01      </td><td>0.001618379       </td></tr>\n",
       "\t<tr><td>Residuals         </td><td>49.91301822       </td><td>140               </td><td>        NA        </td><td>          NA      </td><td>0.500000000       </td></tr>\n",
       "</tbody>\n",
       "</table>\n"
      ],
      "text/latex": [
       "\\begin{tabular}{r|llllll}\n",
       " term & sumsq & df & statistic & p.value & eta\\\\\n",
       "\\hline\n",
       "\t cvs\\_table\\_only     &  1.90468176            &   1                    &  5.3424028             & 2.227267e-02           & 0.036757358           \\\\\n",
       "\t pre                &  0.27060681        &   1                &  0.7590195         & 3.851271e-01       & 0.005392333       \\\\\n",
       "\t cvs\\_graph          & 11.01025113          &   1                  & 30.8824273           & 1.339132e-07         & 0.180723248         \\\\\n",
       "\t sim\\_index          &  1.59026245          &   1                  &  4.4604945           & 3.646344e-02         & 0.030876916         \\\\\n",
       "\t cvs\\_table\\_only:pre &  0.30620735            &   1                    &  0.8588747             & 3.556487e-01           & 0.006097413           \\\\\n",
       "\t pre:cvs\\_graph      &  0.08090914          &   1                  &  0.2269404           & 6.345445e-01         & 0.001618379         \\\\\n",
       "\t Residuals          & 49.91301822        & 140                &         NA         &           NA       & 0.500000000       \\\\\n",
       "\\end{tabular}\n"
      ],
      "text/markdown": [
       "\n",
       "term | sumsq | df | statistic | p.value | eta | \n",
       "|---|---|---|---|---|---|---|\n",
       "| cvs_table_only     |  1.90468176        |   1                |  5.3424028         | 2.227267e-02       | 0.036757358        | \n",
       "| pre                |  0.27060681        |   1                |  0.7590195         | 3.851271e-01       | 0.005392333        | \n",
       "| cvs_graph          | 11.01025113        |   1                | 30.8824273         | 1.339132e-07       | 0.180723248        | \n",
       "| sim_index          |  1.59026245        |   1                |  4.4604945         | 3.646344e-02       | 0.030876916        | \n",
       "| cvs_table_only:pre |  0.30620735        |   1                |  0.8588747         | 3.556487e-01       | 0.006097413        | \n",
       "| pre:cvs_graph      |  0.08090914        |   1                |  0.2269404         | 6.345445e-01       | 0.001618379        | \n",
       "| Residuals          | 49.91301822        | 140                |         NA         |           NA       | 0.500000000        | \n",
       "\n",
       "\n"
      ],
      "text/plain": [
       "  term               sumsq       df  statistic  p.value      eta        \n",
       "1 cvs_table_only      1.90468176   1  5.3424028 2.227267e-02 0.036757358\n",
       "2 pre                 0.27060681   1  0.7590195 3.851271e-01 0.005392333\n",
       "3 cvs_graph          11.01025113   1 30.8824273 1.339132e-07 0.180723248\n",
       "4 sim_index           1.59026245   1  4.4604945 3.646344e-02 0.030876916\n",
       "5 cvs_table_only:pre  0.30620735   1  0.8588747 3.556487e-01 0.006097413\n",
       "6 pre:cvs_graph       0.08090914   1  0.2269404 6.345445e-01 0.001618379\n",
       "7 Residuals          49.91301822 140         NA           NA 0.500000000"
      ]
     },
     "metadata": {},
     "output_type": "display_data"
    }
   ],
   "source": [
    "test <- subset(mydata, variable == \"Width\")\n",
    "lm1 = lm(main\n",
    "        ~  cvs_table_only*pre + cvs_graph*pre + sim_index,\n",
    "         data=test)\n",
    "results1 = Anova(lm1, type=2)\n",
    "results_table1 = tidy(results1)\n",
    "results_table1$eta <- results_table1$sumsq/(results_table1$sumsq + results_table1$sumsq[dim(results_table1)[1]])\n",
    "results_table1"
   ]
  },
  {
   "cell_type": "markdown",
   "metadata": {
    "heading_collapsed": true,
    "hidden": true
   },
   "source": [
    "### For Area  with interaction"
   ]
  },
  {
   "cell_type": "code",
   "execution_count": 14,
   "metadata": {
    "hidden": true
   },
   "outputs": [
    {
     "data": {
      "text/html": [
       "<table>\n",
       "<thead><tr><th scope=col>term</th><th scope=col>sumsq</th><th scope=col>df</th><th scope=col>statistic</th><th scope=col>p.value</th><th scope=col>eta</th></tr></thead>\n",
       "<tbody>\n",
       "\t<tr><td>cvs_table_only    </td><td>3.179735e-01      </td><td>  1               </td><td>1.029414e+00      </td><td>3.120465e-01      </td><td>7.299289e-03      </td></tr>\n",
       "\t<tr><td>pre               </td><td>2.643066e+00      </td><td>  1               </td><td>8.556719e+00      </td><td>4.017353e-03      </td><td>5.759900e-02      </td></tr>\n",
       "\t<tr><td>cvs_graph         </td><td>6.322457e+00      </td><td>  1               </td><td>2.046846e+01      </td><td>1.282505e-05      </td><td>1.275544e-01      </td></tr>\n",
       "\t<tr><td>sim_index         </td><td>1.266573e-02      </td><td>  1               </td><td>4.100430e-02      </td><td>8.398236e-01      </td><td>2.928021e-04      </td></tr>\n",
       "\t<tr><td>cvs_table_only:pre</td><td>4.890710e-07      </td><td>  1               </td><td>1.583329e-06      </td><td>9.989978e-01      </td><td>1.130949e-08      </td></tr>\n",
       "\t<tr><td>pre:cvs_graph     </td><td>2.652803e-01      </td><td>  1               </td><td>8.588243e-01      </td><td>3.556628e-01      </td><td>6.097057e-03      </td></tr>\n",
       "\t<tr><td>Residuals         </td><td>4.324429e+01      </td><td>140               </td><td>          NA      </td><td>          NA      </td><td>5.000000e-01      </td></tr>\n",
       "</tbody>\n",
       "</table>\n"
      ],
      "text/latex": [
       "\\begin{tabular}{r|llllll}\n",
       " term & sumsq & df & statistic & p.value & eta\\\\\n",
       "\\hline\n",
       "\t cvs\\_table\\_only     & 3.179735e-01           &   1                    & 1.029414e+00           & 3.120465e-01           & 7.299289e-03          \\\\\n",
       "\t pre                & 2.643066e+00       &   1                & 8.556719e+00       & 4.017353e-03       & 5.759900e-02      \\\\\n",
       "\t cvs\\_graph          & 6.322457e+00         &   1                  & 2.046846e+01         & 1.282505e-05         & 1.275544e-01        \\\\\n",
       "\t sim\\_index          & 1.266573e-02         &   1                  & 4.100430e-02         & 8.398236e-01         & 2.928021e-04        \\\\\n",
       "\t cvs\\_table\\_only:pre & 4.890710e-07           &   1                    & 1.583329e-06           & 9.989978e-01           & 1.130949e-08          \\\\\n",
       "\t pre:cvs\\_graph      & 2.652803e-01         &   1                  & 8.588243e-01         & 3.556628e-01         & 6.097057e-03        \\\\\n",
       "\t Residuals          & 4.324429e+01       & 140                &           NA       &           NA       & 5.000000e-01      \\\\\n",
       "\\end{tabular}\n"
      ],
      "text/markdown": [
       "\n",
       "term | sumsq | df | statistic | p.value | eta | \n",
       "|---|---|---|---|---|---|---|\n",
       "| cvs_table_only     | 3.179735e-01       |   1                | 1.029414e+00       | 3.120465e-01       | 7.299289e-03       | \n",
       "| pre                | 2.643066e+00       |   1                | 8.556719e+00       | 4.017353e-03       | 5.759900e-02       | \n",
       "| cvs_graph          | 6.322457e+00       |   1                | 2.046846e+01       | 1.282505e-05       | 1.275544e-01       | \n",
       "| sim_index          | 1.266573e-02       |   1                | 4.100430e-02       | 8.398236e-01       | 2.928021e-04       | \n",
       "| cvs_table_only:pre | 4.890710e-07       |   1                | 1.583329e-06       | 9.989978e-01       | 1.130949e-08       | \n",
       "| pre:cvs_graph      | 2.652803e-01       |   1                | 8.588243e-01       | 3.556628e-01       | 6.097057e-03       | \n",
       "| Residuals          | 4.324429e+01       | 140                |           NA       |           NA       | 5.000000e-01       | \n",
       "\n",
       "\n"
      ],
      "text/plain": [
       "  term               sumsq        df  statistic    p.value      eta         \n",
       "1 cvs_table_only     3.179735e-01   1 1.029414e+00 3.120465e-01 7.299289e-03\n",
       "2 pre                2.643066e+00   1 8.556719e+00 4.017353e-03 5.759900e-02\n",
       "3 cvs_graph          6.322457e+00   1 2.046846e+01 1.282505e-05 1.275544e-01\n",
       "4 sim_index          1.266573e-02   1 4.100430e-02 8.398236e-01 2.928021e-04\n",
       "5 cvs_table_only:pre 4.890710e-07   1 1.583329e-06 9.989978e-01 1.130949e-08\n",
       "6 pre:cvs_graph      2.652803e-01   1 8.588243e-01 3.556628e-01 6.097057e-03\n",
       "7 Residuals          4.324429e+01 140           NA           NA 5.000000e-01"
      ]
     },
     "metadata": {},
     "output_type": "display_data"
    }
   ],
   "source": [
    "test <- subset(mydata, variable == \"Area\")\n",
    "lm1 = lm(main\n",
    "        ~  cvs_table_only*pre + cvs_graph*pre + sim_index,\n",
    "         data=test)\n",
    "results1 = Anova(lm1, type=2)\n",
    "results_table1 = tidy(results1)\n",
    "results_table1$eta <- results_table1$sumsq/(results_table1$sumsq + results_table1$sumsq[dim(results_table1)[1]])\n",
    "results_table1"
   ]
  },
  {
   "cell_type": "markdown",
   "metadata": {
    "heading_collapsed": true,
    "hidden": true
   },
   "source": [
    "### For Concentration with interaction"
   ]
  },
  {
   "cell_type": "code",
   "execution_count": 15,
   "metadata": {
    "hidden": true
   },
   "outputs": [
    {
     "data": {
      "text/html": [
       "<table>\n",
       "<thead><tr><th scope=col>term</th><th scope=col>sumsq</th><th scope=col>df</th><th scope=col>statistic</th><th scope=col>p.value</th><th scope=col>eta</th></tr></thead>\n",
       "<tbody>\n",
       "\t<tr><td>cvs_table_only    </td><td> 0.2738310        </td><td>  1               </td><td> 0.8536326        </td><td>3.571164e-01      </td><td>0.006060423       </td></tr>\n",
       "\t<tr><td>pre               </td><td> 1.7380768        </td><td>  1               </td><td> 5.4182291        </td><td>2.136072e-02      </td><td>0.037259628       </td></tr>\n",
       "\t<tr><td>cvs_graph         </td><td> 8.5774119        </td><td>  1               </td><td>26.7389698        </td><td>7.891198e-07      </td><td>0.160364250       </td></tr>\n",
       "\t<tr><td>sim_index         </td><td> 1.9978595        </td><td>  1               </td><td> 6.2280681        </td><td>1.373516e-02      </td><td>0.042591468       </td></tr>\n",
       "\t<tr><td>cvs_table_only:pre</td><td> 1.7900473        </td><td>  1               </td><td> 5.5802404        </td><td>1.954085e-02      </td><td>0.038331029       </td></tr>\n",
       "\t<tr><td>pre:cvs_graph     </td><td> 0.4967508        </td><td>  1               </td><td> 1.5485563        </td><td>2.154280e-01      </td><td>0.010940107       </td></tr>\n",
       "\t<tr><td>Residuals         </td><td>44.9096459        </td><td>140               </td><td>        NA        </td><td>          NA      </td><td>0.500000000       </td></tr>\n",
       "</tbody>\n",
       "</table>\n"
      ],
      "text/latex": [
       "\\begin{tabular}{r|llllll}\n",
       " term & sumsq & df & statistic & p.value & eta\\\\\n",
       "\\hline\n",
       "\t cvs\\_table\\_only     &  0.2738310             &   1                    &  0.8536326             & 3.571164e-01           & 0.006060423           \\\\\n",
       "\t pre                &  1.7380768         &   1                &  5.4182291         & 2.136072e-02       & 0.037259628       \\\\\n",
       "\t cvs\\_graph          &  8.5774119           &   1                  & 26.7389698           & 7.891198e-07         & 0.160364250         \\\\\n",
       "\t sim\\_index          &  1.9978595           &   1                  &  6.2280681           & 1.373516e-02         & 0.042591468         \\\\\n",
       "\t cvs\\_table\\_only:pre &  1.7900473             &   1                    &  5.5802404             & 1.954085e-02           & 0.038331029           \\\\\n",
       "\t pre:cvs\\_graph      &  0.4967508           &   1                  &  1.5485563           & 2.154280e-01         & 0.010940107         \\\\\n",
       "\t Residuals          & 44.9096459         & 140                &         NA         &           NA       & 0.500000000       \\\\\n",
       "\\end{tabular}\n"
      ],
      "text/markdown": [
       "\n",
       "term | sumsq | df | statistic | p.value | eta | \n",
       "|---|---|---|---|---|---|---|\n",
       "| cvs_table_only     |  0.2738310         |   1                |  0.8536326         | 3.571164e-01       | 0.006060423        | \n",
       "| pre                |  1.7380768         |   1                |  5.4182291         | 2.136072e-02       | 0.037259628        | \n",
       "| cvs_graph          |  8.5774119         |   1                | 26.7389698         | 7.891198e-07       | 0.160364250        | \n",
       "| sim_index          |  1.9978595         |   1                |  6.2280681         | 1.373516e-02       | 0.042591468        | \n",
       "| cvs_table_only:pre |  1.7900473         |   1                |  5.5802404         | 1.954085e-02       | 0.038331029        | \n",
       "| pre:cvs_graph      |  0.4967508         |   1                |  1.5485563         | 2.154280e-01       | 0.010940107        | \n",
       "| Residuals          | 44.9096459         | 140                |         NA         |           NA       | 0.500000000        | \n",
       "\n",
       "\n"
      ],
      "text/plain": [
       "  term               sumsq      df  statistic  p.value      eta        \n",
       "1 cvs_table_only      0.2738310   1  0.8536326 3.571164e-01 0.006060423\n",
       "2 pre                 1.7380768   1  5.4182291 2.136072e-02 0.037259628\n",
       "3 cvs_graph           8.5774119   1 26.7389698 7.891198e-07 0.160364250\n",
       "4 sim_index           1.9978595   1  6.2280681 1.373516e-02 0.042591468\n",
       "5 cvs_table_only:pre  1.7900473   1  5.5802404 1.954085e-02 0.038331029\n",
       "6 pre:cvs_graph       0.4967508   1  1.5485563 2.154280e-01 0.010940107\n",
       "7 Residuals          44.9096459 140         NA           NA 0.500000000"
      ]
     },
     "metadata": {},
     "output_type": "display_data"
    }
   ],
   "source": [
    "test <- subset(mydata, variable == \"Concentration\")\n",
    "lm1 = lm(main\n",
    "        ~  cvs_table_only*pre + cvs_graph*pre + sim_index,\n",
    "         data=test)\n",
    "results1 = Anova(lm1, type=2)\n",
    "results_table1 = tidy(results1)\n",
    "results_table1$eta <- results_table1$sumsq/(results_table1$sumsq + results_table1$sumsq[dim(results_table1)[1]])\n",
    "results_table1"
   ]
  },
  {
   "cell_type": "markdown",
   "metadata": {
    "heading_collapsed": true,
    "hidden": true
   },
   "source": [
    "### For Separation with interaction"
   ]
  },
  {
   "cell_type": "code",
   "execution_count": 16,
   "metadata": {
    "hidden": true
   },
   "outputs": [
    {
     "data": {
      "text/html": [
       "<table>\n",
       "<thead><tr><th scope=col>term</th><th scope=col>sumsq</th><th scope=col>df</th><th scope=col>statistic</th><th scope=col>p.value</th><th scope=col>eta</th></tr></thead>\n",
       "<tbody>\n",
       "\t<tr><td>cvs_table_only    </td><td> 0.46376144       </td><td>  1               </td><td>1.26392161        </td><td>0.262834021       </td><td>0.0089472357      </td></tr>\n",
       "\t<tr><td>pre               </td><td> 2.50785668       </td><td>  1               </td><td>6.83483785        </td><td>0.009918134       </td><td>0.0465477945      </td></tr>\n",
       "\t<tr><td>cvs_graph         </td><td> 0.79434797       </td><td>  1               </td><td>2.16489230        </td><td>0.143438726       </td><td>0.0152280374      </td></tr>\n",
       "\t<tr><td>sim_index         </td><td> 0.26196670       </td><td>  1               </td><td>0.71395625        </td><td>0.399575237       </td><td>0.0050738126      </td></tr>\n",
       "\t<tr><td>cvs_table_only:pre</td><td> 0.80624340       </td><td>  1               </td><td>2.19731175        </td><td>0.140499124       </td><td>0.0154525548      </td></tr>\n",
       "\t<tr><td>pre:cvs_graph     </td><td> 0.02104242       </td><td>  1               </td><td>0.05734839        </td><td>0.811087341       </td><td>0.0004094636      </td></tr>\n",
       "\t<tr><td>Residuals         </td><td>51.36916812       </td><td>140               </td><td>        NA        </td><td>         NA       </td><td>0.5000000000      </td></tr>\n",
       "</tbody>\n",
       "</table>\n"
      ],
      "text/latex": [
       "\\begin{tabular}{r|llllll}\n",
       " term & sumsq & df & statistic & p.value & eta\\\\\n",
       "\\hline\n",
       "\t cvs\\_table\\_only     &  0.46376144            &   1                    & 1.26392161             & 0.262834021            & 0.0089472357          \\\\\n",
       "\t pre                &  2.50785668        &   1                & 6.83483785         & 0.009918134        & 0.0465477945      \\\\\n",
       "\t cvs\\_graph          &  0.79434797          &   1                  & 2.16489230           & 0.143438726          & 0.0152280374        \\\\\n",
       "\t sim\\_index          &  0.26196670          &   1                  & 0.71395625           & 0.399575237          & 0.0050738126        \\\\\n",
       "\t cvs\\_table\\_only:pre &  0.80624340            &   1                    & 2.19731175             & 0.140499124            & 0.0154525548          \\\\\n",
       "\t pre:cvs\\_graph      &  0.02104242          &   1                  & 0.05734839           & 0.811087341          & 0.0004094636        \\\\\n",
       "\t Residuals          & 51.36916812        & 140                &         NA         &          NA        & 0.5000000000      \\\\\n",
       "\\end{tabular}\n"
      ],
      "text/markdown": [
       "\n",
       "term | sumsq | df | statistic | p.value | eta | \n",
       "|---|---|---|---|---|---|---|\n",
       "| cvs_table_only     |  0.46376144        |   1                | 1.26392161         | 0.262834021        | 0.0089472357       | \n",
       "| pre                |  2.50785668        |   1                | 6.83483785         | 0.009918134        | 0.0465477945       | \n",
       "| cvs_graph          |  0.79434797        |   1                | 2.16489230         | 0.143438726        | 0.0152280374       | \n",
       "| sim_index          |  0.26196670        |   1                | 0.71395625         | 0.399575237        | 0.0050738126       | \n",
       "| cvs_table_only:pre |  0.80624340        |   1                | 2.19731175         | 0.140499124        | 0.0154525548       | \n",
       "| pre:cvs_graph      |  0.02104242        |   1                | 0.05734839         | 0.811087341        | 0.0004094636       | \n",
       "| Residuals          | 51.36916812        | 140                |         NA         |          NA        | 0.5000000000       | \n",
       "\n",
       "\n"
      ],
      "text/plain": [
       "  term               sumsq       df  statistic  p.value     eta         \n",
       "1 cvs_table_only      0.46376144   1 1.26392161 0.262834021 0.0089472357\n",
       "2 pre                 2.50785668   1 6.83483785 0.009918134 0.0465477945\n",
       "3 cvs_graph           0.79434797   1 2.16489230 0.143438726 0.0152280374\n",
       "4 sim_index           0.26196670   1 0.71395625 0.399575237 0.0050738126\n",
       "5 cvs_table_only:pre  0.80624340   1 2.19731175 0.140499124 0.0154525548\n",
       "6 pre:cvs_graph       0.02104242   1 0.05734839 0.811087341 0.0004094636\n",
       "7 Residuals          51.36916812 140         NA          NA 0.5000000000"
      ]
     },
     "metadata": {},
     "output_type": "display_data"
    }
   ],
   "source": [
    "test <- subset(mydata, variable == \"Separation\")\n",
    "lm1 = lm(main\n",
    "        ~  cvs_table_only*pre + cvs_graph*pre + sim_index,\n",
    "         data=test)\n",
    "results1 = Anova(lm1, type=2)\n",
    "results_table1 = tidy(results1)\n",
    "results_table1$eta <- results_table1$sumsq/(results_table1$sumsq + results_table1$sumsq[dim(results_table1)[1]])\n",
    "results_table1"
   ]
  },
  {
   "cell_type": "code",
   "execution_count": 17,
   "metadata": {
    "hidden": true
   },
   "outputs": [
    {
     "data": {
      "text/html": [
       "<strong>main:</strong> 1.21768707482993"
      ],
      "text/latex": [
       "\\textbf{main:} 1.21768707482993"
      ],
      "text/markdown": [
       "**main:** 1.21768707482993"
      ],
      "text/plain": [
       "    main \n",
       "1.217687 "
      ]
     },
     "metadata": {},
     "output_type": "display_data"
    }
   ],
   "source": [
    "colMeans(test[\"main\"])"
   ]
  },
  {
   "cell_type": "markdown",
   "metadata": {
    "hidden": true
   },
   "source": [
    "## Model for Separation with inverse cvs_graph"
   ]
  },
  {
   "cell_type": "code",
   "execution_count": 18,
   "metadata": {
    "hidden": true
   },
   "outputs": [
    {
     "data": {
      "text/html": [
       "<table>\n",
       "<thead><tr><th scope=col>term</th><th scope=col>sumsq</th><th scope=col>df</th><th scope=col>statistic</th><th scope=col>p.value</th><th scope=col>eta</th></tr></thead>\n",
       "<tbody>\n",
       "\t<tr><td>cvs_table_only   </td><td> 0.3542486       </td><td>  1              </td><td>1.006645         </td><td>0.317414573      </td><td>0.007039149      </td></tr>\n",
       "\t<tr><td>cvs_graph_inverse</td><td> 3.0280361       </td><td>  1              </td><td>8.604573         </td><td>0.003910897      </td><td>0.057133542      </td></tr>\n",
       "\t<tr><td>pre              </td><td> 2.7717625       </td><td>  1              </td><td>7.876337         </td><td>0.005712494      </td><td>0.052552236      </td></tr>\n",
       "\t<tr><td>sim_index        </td><td> 0.5366358       </td><td>  1              </td><td>1.524923         </td><td>0.218915467      </td><td>0.010624795      </td></tr>\n",
       "\t<tr><td>Residuals        </td><td>49.9712358       </td><td>142              </td><td>      NA         </td><td>         NA      </td><td>0.500000000      </td></tr>\n",
       "</tbody>\n",
       "</table>\n"
      ],
      "text/latex": [
       "\\begin{tabular}{r|llllll}\n",
       " term & sumsq & df & statistic & p.value & eta\\\\\n",
       "\\hline\n",
       "\t cvs\\_table\\_only    &  0.3542486            &   1                   & 1.006645              & 0.317414573           & 0.007039149          \\\\\n",
       "\t cvs\\_graph\\_inverse &  3.0280361            &   1                   & 8.604573              & 0.003910897           & 0.057133542          \\\\\n",
       "\t pre               &  2.7717625        &   1               & 7.876337          & 0.005712494       & 0.052552236      \\\\\n",
       "\t sim\\_index         &  0.5366358          &   1                 & 1.524923            & 0.218915467         & 0.010624795        \\\\\n",
       "\t Residuals         & 49.9712358        & 142               &       NA          &          NA       & 0.500000000      \\\\\n",
       "\\end{tabular}\n"
      ],
      "text/markdown": [
       "\n",
       "term | sumsq | df | statistic | p.value | eta | \n",
       "|---|---|---|---|---|\n",
       "| cvs_table_only    |  0.3542486        |   1               | 1.006645          | 0.317414573       | 0.007039149       | \n",
       "| cvs_graph_inverse |  3.0280361        |   1               | 8.604573          | 0.003910897       | 0.057133542       | \n",
       "| pre               |  2.7717625        |   1               | 7.876337          | 0.005712494       | 0.052552236       | \n",
       "| sim_index         |  0.5366358        |   1               | 1.524923          | 0.218915467       | 0.010624795       | \n",
       "| Residuals         | 49.9712358        | 142               |       NA          |          NA       | 0.500000000       | \n",
       "\n",
       "\n"
      ],
      "text/plain": [
       "  term              sumsq      df  statistic p.value     eta        \n",
       "1 cvs_table_only     0.3542486   1 1.006645  0.317414573 0.007039149\n",
       "2 cvs_graph_inverse  3.0280361   1 8.604573  0.003910897 0.057133542\n",
       "3 pre                2.7717625   1 7.876337  0.005712494 0.052552236\n",
       "4 sim_index          0.5366358   1 1.524923  0.218915467 0.010624795\n",
       "5 Residuals         49.9712358 142       NA           NA 0.500000000"
      ]
     },
     "metadata": {},
     "output_type": "display_data"
    }
   ],
   "source": [
    "test <- subset(mydata, variable == \"Separation\")\n",
    "lm1 = lm(main\n",
    "        ~  cvs_table_only + cvs_graph_inverse + pre + sim_index,\n",
    "         data=test)\n",
    "results1 = Anova(lm1, type=2)\n",
    "results_table1 = tidy(results1)\n",
    "results_table1$eta <- results_table1$sumsq/(results_table1$sumsq + results_table1$sumsq[dim(results_table1)[1]])\n",
    "results_table1"
   ]
  },
  {
   "cell_type": "markdown",
   "metadata": {
    "heading_collapsed": true
   },
   "source": [
    "# Stat model 2: Predicting transfer data"
   ]
  },
  {
   "cell_type": "markdown",
   "metadata": {
    "heading_collapsed": true,
    "hidden": true
   },
   "source": [
    "## Excluding student main worksheet score"
   ]
  },
  {
   "cell_type": "markdown",
   "metadata": {
    "hidden": true
   },
   "source": [
    "### Complete model with interactions"
   ]
  },
  {
   "cell_type": "markdown",
   "metadata": {
    "hidden": true
   },
   "source": [
    "Our model is:\n",
    "\n",
    "    quant_score  ~  cvs_table_only*variable + cvs_graph*variable\n",
    "             + cvs_table_only*pre + cvs_graph*pre\n",
    "             + sim_index + sid\n",
    "             \n",
    "We run a logistic regression:"
   ]
  },
  {
   "cell_type": "code",
   "execution_count": 19,
   "metadata": {
    "hidden": true
   },
   "outputs": [
    {
     "name": "stderr",
     "output_type": "stream",
     "text": [
      "\n",
      "Correlation matrix not shown by default, as p = 16 > 12.\n",
      "Use print(obj, correlation=TRUE)  or\n",
      "\t vcov(obj)\t if you need it\n",
      "\n"
     ]
    },
    {
     "data": {
      "text/plain": [
       "Generalized linear mixed model fit by maximum likelihood (Adaptive\n",
       "  Gauss-Hermite Quadrature, nAGQ = 10) [glmerMod]\n",
       " Family: binomial  ( logit )\n",
       "Formula: quant_score ~ cvs_table_only * variable + cvs_graph * variable +  \n",
       "    cvs_table_only * pre + cvs_graph * pre + sim_index + (1 |      sid)\n",
       "   Data: mydata\n",
       "Control: glmerControl(optimizer = \"bobyqa\")\n",
       "\n",
       "     AIC      BIC   logLik deviance df.resid \n",
       "   670.0    744.4   -318.0    636.0      571 \n",
       "\n",
       "Scaled residuals: \n",
       "    Min      1Q  Median      3Q     Max \n",
       "-3.2052 -0.4659  0.2881  0.4786  1.2799 \n",
       "\n",
       "Random effects:\n",
       " Groups Name        Variance Std.Dev.\n",
       " sid    (Intercept) 3.735    1.932   \n",
       "Number of obs: 588, groups:  sid, 147\n",
       "\n",
       "Fixed effects:\n",
       "                                      Estimate Std. Error z value Pr(>|z|)  \n",
       "(Intercept)                            1.16394    0.46704   2.492   0.0127 *\n",
       "cvs_table_only1                        0.28969    0.78196   0.370   0.7110  \n",
       "variableConcentration                 -0.19343    0.55514  -0.348   0.7275  \n",
       "variableSeparation                    -1.06166    0.51554  -2.059   0.0395 *\n",
       "variableWidth                          0.46819    0.55447   0.844   0.3985  \n",
       "cvs_graph1                            -0.39657    0.61332  -0.647   0.5179  \n",
       "pre                                    0.97715    0.44878   2.177   0.0295 *\n",
       "sim_index2                             0.26243    0.23355   1.124   0.2612  \n",
       "cvs_table_only1:variableConcentration -0.38802    1.05089  -0.369   0.7120  \n",
       "cvs_table_only1:variableSeparation    -0.02918    1.00874  -0.029   0.9769  \n",
       "cvs_table_only1:variableWidth         -0.74693    1.06211  -0.703   0.4819  \n",
       "variableConcentration:cvs_graph1       0.62729    0.76557   0.819   0.4126  \n",
       "variableSeparation:cvs_graph1          0.54295    0.70539   0.770   0.4415  \n",
       "variableWidth:cvs_graph1              -0.56059    0.75128  -0.746   0.4556  \n",
       "cvs_table_only1:pre                   -0.77598    0.69207  -1.121   0.2622  \n",
       "cvs_graph1:pre                        -0.32372    0.55532  -0.583   0.5599  \n",
       "---\n",
       "Signif. codes:  0 '***' 0.001 '**' 0.01 '*' 0.05 '.' 0.1 ' ' 1"
      ]
     },
     "metadata": {},
     "output_type": "display_data"
    }
   ],
   "source": [
    "mixed1 <- glmer(\n",
    "    quant_score\n",
    "    ~ cvs_table_only*variable + cvs_graph*variable + cvs_table_only*pre + cvs_graph*pre + sim_index + (1 | sid),\n",
    "           data = mydata, family = binomial, \n",
    "           control = glmerControl(optimizer = \"bobyqa\"), nAGQ = 10)\n",
    "summary(mixed1)"
   ]
  },
  {
   "cell_type": "markdown",
   "metadata": {
    "hidden": true
   },
   "source": [
    "**(non log) Odds ratio with confidence intervals**"
   ]
  },
  {
   "cell_type": "code",
   "execution_count": 20,
   "metadata": {
    "hidden": true,
    "scrolled": false
   },
   "outputs": [
    {
     "name": "stdout",
     "output_type": "stream",
     "text": [
      "                                        est  2.5 % 97.5 %\n",
      "(Intercept)                           3.203 1.2822   8.00\n",
      "cvs_table_only1                       1.336 0.2885   6.19\n",
      "variableConcentration                 0.824 0.2776   2.45\n",
      "variableSeparation                    0.346 0.1259   0.95\n",
      "variableWidth                         1.597 0.5387   4.73\n",
      "cvs_graph1                            0.673 0.2022   2.24\n",
      "pre                                   2.657 1.1025   6.40\n",
      "sim_index2                            1.300 0.8226   2.05\n",
      "cvs_table_only1:variableConcentration 0.678 0.0865   5.32\n",
      "cvs_table_only1:variableSeparation    0.971 0.1345   7.01\n",
      "cvs_table_only1:variableWidth         0.474 0.0591   3.80\n",
      "variableConcentration:cvs_graph1      1.873 0.4176   8.40\n",
      "variableSeparation:cvs_graph1         1.721 0.4319   6.86\n",
      "variableWidth:cvs_graph1              0.571 0.1309   2.49\n",
      "cvs_table_only1:pre                   0.460 0.1186   1.79\n",
      "cvs_graph1:pre                        0.723 0.2436   2.15\n"
     ]
    }
   ],
   "source": [
    "cc <- confint(mixed1,parm=\"beta_\",method=\"Wald\")\n",
    "ctab <- cbind(est=fixef(mixed1),cc)\n",
    "rtab <- exp(ctab)\n",
    "print(rtab,digits=3)"
   ]
  },
  {
   "cell_type": "markdown",
   "metadata": {
    "hidden": true
   },
   "source": [
    "Again interactions are not significant, so we stick to a simpler model."
   ]
  },
  {
   "cell_type": "markdown",
   "metadata": {
    "hidden": true
   },
   "source": [
    "### Simple model without interactions"
   ]
  },
  {
   "cell_type": "markdown",
   "metadata": {
    "hidden": true
   },
   "source": [
    "Our model is:\n",
    "\n",
    "    quant_score  ~  cvs_table_only + cvs_graph + variable\n",
    "                     + pre + sim_index + sid\n",
    "             \n",
    "We run a logistic regression:"
   ]
  },
  {
   "cell_type": "code",
   "execution_count": 21,
   "metadata": {
    "hidden": true
   },
   "outputs": [
    {
     "data": {
      "text/plain": [
       "Generalized linear mixed model fit by maximum likelihood (Adaptive\n",
       "  Gauss-Hermite Quadrature, nAGQ = 10) [glmerMod]\n",
       " Family: binomial  ( logit )\n",
       "Formula: quant_score ~ cvs_table_only + cvs_graph + variable + sim_index +  \n",
       "    pre + (1 | sid)\n",
       "   Data: mydata\n",
       "Control: glmerControl(optimizer = \"bobyqa\")\n",
       "\n",
       "     AIC      BIC   logLik deviance df.resid \n",
       "   658.8    698.2   -320.4    640.8      579 \n",
       "\n",
       "Scaled residuals: \n",
       "    Min      1Q  Median      3Q     Max \n",
       "-2.6604 -0.4832  0.2932  0.4892  1.3620 \n",
       "\n",
       "Random effects:\n",
       " Groups Name        Variance Std.Dev.\n",
       " sid    (Intercept) 3.461    1.86    \n",
       "Number of obs: 588, groups:  sid, 147\n",
       "\n",
       "Fixed effects:\n",
       "                      Estimate Std. Error z value Pr(>|z|)    \n",
       "(Intercept)            1.21488    0.36514   3.327 0.000877 ***\n",
       "cvs_table_only1       -0.23617    0.41210  -0.573 0.566580    \n",
       "cvs_graph1            -0.28717    0.34211  -0.839 0.401247    \n",
       "variableConcentration  0.03205    0.32643   0.098 0.921794    \n",
       "variableSeparation    -0.81255    0.31677  -2.565 0.010315 *  \n",
       "variableWidth          0.06914    0.32453   0.213 0.831299    \n",
       "sim_index2             0.24314    0.22991   1.058 0.290273    \n",
       "pre                    0.60464    0.23365   2.588 0.009659 ** \n",
       "---\n",
       "Signif. codes:  0 '***' 0.001 '**' 0.01 '*' 0.05 '.' 0.1 ' ' 1\n",
       "\n",
       "Correlation of Fixed Effects:\n",
       "            (Intr) cvs__1 cvs_g1 vrblCn vrblSp vrblWd sm_nd2\n",
       "cvs_tbl_nl1 -0.333                                          \n",
       "cvs_graph1  -0.443  0.375                                   \n",
       "vrblCncntrt -0.432  0.006 -0.071                            \n",
       "variblSprtn -0.494  0.047  0.043  0.502                     \n",
       "variablWdth -0.463  0.014 -0.025  0.501  0.502              \n",
       "sim_index2  -0.258  0.026 -0.145  0.076 -0.008  0.066       \n",
       "pre         -0.139 -0.056 -0.122  0.004 -0.090  0.052  0.018"
      ]
     },
     "metadata": {},
     "output_type": "display_data"
    }
   ],
   "source": [
    "mixed1 <- glmer(\n",
    "    quant_score\n",
    "    ~ cvs_table_only + cvs_graph + variable + sim_index + pre + (1 | sid),\n",
    "           data = mydata, family = binomial, \n",
    "           control = glmerControl(optimizer = \"bobyqa\"), nAGQ = 10)\n",
    "summary(mixed1)"
   ]
  },
  {
   "cell_type": "markdown",
   "metadata": {
    "hidden": true
   },
   "source": [
    "**(non log) Odds ratio with confidence intervals**"
   ]
  },
  {
   "cell_type": "code",
   "execution_count": 22,
   "metadata": {
    "hidden": true,
    "scrolled": false
   },
   "outputs": [
    {
     "name": "stdout",
     "output_type": "stream",
     "text": [
      "                        est 2.5 % 97.5 %\n",
      "(Intercept)           3.370 1.647  6.893\n",
      "cvs_table_only1       0.790 0.352  1.771\n",
      "cvs_graph1            0.750 0.384  1.467\n",
      "variableConcentration 1.033 0.545  1.958\n",
      "variableSeparation    0.444 0.238  0.826\n",
      "variableWidth         1.072 0.567  2.024\n",
      "sim_index2            1.275 0.813  2.001\n",
      "pre                   1.831 1.158  2.894\n"
     ]
    }
   ],
   "source": [
    "cc <- confint(mixed1,parm=\"beta_\",method=\"Wald\",level=0.95,value=(0.05))\n",
    "ctab <- cbind(est=fixef(mixed1),cc)\n",
    "rtab <- exp(ctab)\n",
    "print(rtab,digits=3)"
   ]
  },
  {
   "cell_type": "markdown",
   "metadata": {
    "hidden": true
   },
   "source": [
    "As expected, CVS doesn't predict quant transfer scores, only variable does."
   ]
  },
  {
   "cell_type": "markdown",
   "metadata": {
    "hidden": true
   },
   "source": [
    "## Including student main worksheet score\n",
    "as a continuous variable"
   ]
  },
  {
   "cell_type": "markdown",
   "metadata": {
    "hidden": true
   },
   "source": [
    "### Complete model with interactions"
   ]
  },
  {
   "cell_type": "markdown",
   "metadata": {
    "hidden": true
   },
   "source": [
    "Our model is:\n",
    "\n",
    "    quant_score  ~  main + cvs_table_only*variable + cvs_graph*variable\n",
    "                    + cvs_table_only*pre + cvs_graph*pre\n",
    "                    + sim_index + sid\n",
    "             \n",
    "We run a logistic regression:"
   ]
  },
  {
   "cell_type": "code",
   "execution_count": 23,
   "metadata": {
    "hidden": true
   },
   "outputs": [
    {
     "name": "stderr",
     "output_type": "stream",
     "text": [
      "\n",
      "Correlation matrix not shown by default, as p = 17 > 12.\n",
      "Use print(obj, correlation=TRUE)  or\n",
      "\t vcov(obj)\t if you need it\n",
      "\n"
     ]
    },
    {
     "data": {
      "text/plain": [
       "Generalized linear mixed model fit by maximum likelihood (Adaptive\n",
       "  Gauss-Hermite Quadrature, nAGQ = 10) [glmerMod]\n",
       " Family: binomial  ( logit )\n",
       "Formula: quant_score ~ main + cvs_table_only * variable + cvs_graph *  \n",
       "    variable + cvs_table_only * pre + cvs_graph * pre + sim_index +  \n",
       "    (1 | sid)\n",
       "   Data: mydata\n",
       "Control: glmerControl(optimizer = \"bobyqa\")\n",
       "\n",
       "     AIC      BIC   logLik deviance df.resid \n",
       "   639.2    718.0   -301.6    603.2      570 \n",
       "\n",
       "Scaled residuals: \n",
       "    Min      1Q  Median      3Q     Max \n",
       "-2.8868 -0.3810  0.2352  0.4439  2.6622 \n",
       "\n",
       "Random effects:\n",
       " Groups Name        Variance Std.Dev.\n",
       " sid    (Intercept) 4.377    2.092   \n",
       "Number of obs: 588, groups:  sid, 147\n",
       "\n",
       "Fixed effects:\n",
       "                                      Estimate Std. Error z value Pr(>|z|)    \n",
       "(Intercept)                           -0.22567    0.55203  -0.409   0.6827    \n",
       "main                                   1.46100    0.28806   5.072 3.94e-07 ***\n",
       "cvs_table_only1                        0.21502    0.82363   0.261   0.7940    \n",
       "variableConcentration                 -0.31037    0.58045  -0.535   0.5929    \n",
       "variableSeparation                    -1.25549    0.54115  -2.320   0.0203 *  \n",
       "variableWidth                          0.52098    0.58538   0.890   0.3735    \n",
       "cvs_graph1                            -1.07182    0.66768  -1.605   0.1084    \n",
       "pre                                    0.94804    0.47862   1.981   0.0476 *  \n",
       "sim_index2                             0.09353    0.24894   0.376   0.7071    \n",
       "cvs_table_only1:variableConcentration -0.42653    1.10618  -0.386   0.6998    \n",
       "cvs_table_only1:variableSeparation     0.45065    1.05548   0.427   0.6694    \n",
       "cvs_table_only1:variableWidth         -1.04497    1.11638  -0.936   0.3493    \n",
       "variableConcentration:cvs_graph1       0.72075    0.80763   0.892   0.3722    \n",
       "variableSeparation:cvs_graph1          1.08887    0.75331   1.445   0.1483    \n",
       "variableWidth:cvs_graph1              -0.69646    0.79287  -0.878   0.3797    \n",
       "cvs_table_only1:pre                   -0.81028    0.75950  -1.067   0.2860    \n",
       "cvs_graph1:pre                        -0.42703    0.59053  -0.723   0.4696    \n",
       "---\n",
       "Signif. codes:  0 '***' 0.001 '**' 0.01 '*' 0.05 '.' 0.1 ' ' 1"
      ]
     },
     "metadata": {},
     "output_type": "display_data"
    }
   ],
   "source": [
    "mixed1 <- glmer(\n",
    "    quant_score\n",
    "    ~ main + cvs_table_only*variable + cvs_graph*variable + cvs_table_only*pre + cvs_graph*pre + sim_index + (1 | sid),\n",
    "           data = mydata, family = binomial, \n",
    "           control = glmerControl(optimizer = \"bobyqa\"), nAGQ = 10)\n",
    "summary(mixed1)"
   ]
  },
  {
   "cell_type": "markdown",
   "metadata": {
    "hidden": true
   },
   "source": [
    "**(non log) Odds ratio with confidence intervals**"
   ]
  },
  {
   "cell_type": "code",
   "execution_count": 24,
   "metadata": {
    "hidden": true,
    "scrolled": false
   },
   "outputs": [
    {
     "name": "stdout",
     "output_type": "stream",
     "text": [
      "                                        est  2.5 % 97.5 %\n",
      "(Intercept)                           0.798 0.2705  2.354\n",
      "main                                  4.310 2.4508  7.581\n",
      "cvs_table_only1                       1.240 0.2468  6.230\n",
      "variableConcentration                 0.733 0.2350  2.287\n",
      "variableSeparation                    0.285 0.0987  0.823\n",
      "variableWidth                         1.684 0.5345  5.303\n",
      "cvs_graph1                            0.342 0.0925  1.267\n",
      "pre                                   2.581 1.0100  6.594\n",
      "sim_index2                            1.098 0.6741  1.789\n",
      "cvs_table_only1:variableConcentration 0.653 0.0747  5.706\n",
      "cvs_table_only1:variableSeparation    1.569 0.1983 12.421\n",
      "cvs_table_only1:variableWidth         0.352 0.0394  3.136\n",
      "variableConcentration:cvs_graph1      2.056 0.4222 10.011\n",
      "variableSeparation:cvs_graph1         2.971 0.6787 13.005\n",
      "variableWidth:cvs_graph1              0.498 0.1054  2.357\n",
      "cvs_table_only1:pre                   0.445 0.1004  1.971\n",
      "cvs_graph1:pre                        0.652 0.2051  2.076\n"
     ]
    }
   ],
   "source": [
    "cc <- confint(mixed1,parm=\"beta_\",method=\"Wald\")\n",
    "ctab <- cbind(est=fixef(mixed1),cc)\n",
    "rtab <- exp(ctab)\n",
    "print(rtab,digits=3)"
   ]
  },
  {
   "cell_type": "markdown",
   "metadata": {
    "hidden": true
   },
   "source": [
    "Again interactions are not significant, so we stick to a simpler model."
   ]
  },
  {
   "cell_type": "markdown",
   "metadata": {
    "hidden": true
   },
   "source": [
    "### Simple model without interactions"
   ]
  },
  {
   "cell_type": "markdown",
   "metadata": {
    "hidden": true
   },
   "source": [
    "Our model is:\n",
    "\n",
    "    quant_score  ~  main + cvs_table_only + cvs_graph + variable\n",
    "                     + pre + sim_index + sid\n",
    "             \n",
    "We run a logistic regression:"
   ]
  },
  {
   "cell_type": "code",
   "execution_count": 25,
   "metadata": {
    "hidden": true
   },
   "outputs": [
    {
     "data": {
      "text/plain": [
       "Generalized linear mixed model fit by maximum likelihood (Adaptive\n",
       "  Gauss-Hermite Quadrature, nAGQ = 10) [glmerMod]\n",
       " Family: binomial  ( logit )\n",
       "Formula: quant_score ~ main + cvs_table_only + cvs_graph + variable +  \n",
       "    sim_index + pre + (1 | sid)\n",
       "   Data: mydata\n",
       "Control: glmerControl(optimizer = \"bobyqa\")\n",
       "\n",
       "     AIC      BIC   logLik deviance df.resid \n",
       "   630.9    674.7   -305.5    610.9      578 \n",
       "\n",
       "Scaled residuals: \n",
       "    Min      1Q  Median      3Q     Max \n",
       "-2.8731 -0.4163  0.2662  0.4557  2.0194 \n",
       "\n",
       "Random effects:\n",
       " Groups Name        Variance Std.Dev.\n",
       " sid    (Intercept) 3.965    1.991   \n",
       "Number of obs: 588, groups:  sid, 147\n",
       "\n",
       "Fixed effects:\n",
       "                       Estimate Std. Error z value Pr(>|z|)    \n",
       "(Intercept)           -0.107638   0.452838  -0.238   0.8121    \n",
       "main                   1.340418   0.271828   4.931 8.18e-07 ***\n",
       "cvs_table_only1       -0.269439   0.439074  -0.614   0.5394    \n",
       "cvs_graph1            -0.808983   0.376226  -2.150   0.0315 *  \n",
       "variableConcentration -0.046692   0.341828  -0.137   0.8914    \n",
       "variableSeparation    -0.714581   0.331260  -2.157   0.0310 *  \n",
       "variableWidth          0.008884   0.340574   0.026   0.9792    \n",
       "sim_index2             0.092187   0.242831   0.380   0.7042    \n",
       "pre                    0.511612   0.251014   2.038   0.0415 *  \n",
       "---\n",
       "Signif. codes:  0 '***' 0.001 '**' 0.01 '*' 0.05 '.' 0.1 ' ' 1\n",
       "\n",
       "Correlation of Fixed Effects:\n",
       "            (Intr) main   cvs__1 cvs_g1 vrblCn vrblSp vrblWd sm_nd2\n",
       "main        -0.536                                                 \n",
       "cvs_tbl_nl1 -0.280 -0.003                                          \n",
       "cvs_graph1  -0.179 -0.317  0.349                                   \n",
       "vrblCncntrt -0.344 -0.045  0.013 -0.054                            \n",
       "variblSprtn -0.412  0.006  0.040  0.029  0.503                     \n",
       "variablWdth -0.377 -0.034  0.022 -0.016  0.509  0.501              \n",
       "sim_index2  -0.171 -0.095  0.029 -0.101  0.087 -0.005  0.087       \n",
       "pre         -0.111 -0.013 -0.031 -0.101 -0.003 -0.095  0.045  0.009"
      ]
     },
     "metadata": {},
     "output_type": "display_data"
    }
   ],
   "source": [
    "mixed1 <- glmer(\n",
    "    quant_score\n",
    "    ~ main + cvs_table_only + cvs_graph + variable + sim_index + pre + (1 | sid),\n",
    "           data = mydata, family = binomial, \n",
    "           control = glmerControl(optimizer = \"bobyqa\"), nAGQ = 10)\n",
    "summary(mixed1)"
   ]
  },
  {
   "cell_type": "markdown",
   "metadata": {
    "hidden": true
   },
   "source": [
    "**(non log) Odds ratio with confidence intervals**"
   ]
  },
  {
   "cell_type": "code",
   "execution_count": 26,
   "metadata": {
    "hidden": true,
    "scrolled": false
   },
   "outputs": [
    {
     "name": "stdout",
     "output_type": "stream",
     "text": [
      "                        est 2.5 % 97.5 %\n",
      "(Intercept)           0.898 0.370  2.181\n",
      "main                  3.821 2.243  6.509\n",
      "cvs_table_only1       0.764 0.323  1.806\n",
      "cvs_graph1            0.445 0.213  0.931\n",
      "variableConcentration 0.954 0.488  1.865\n",
      "variableSeparation    0.489 0.256  0.937\n",
      "variableWidth         1.009 0.518  1.967\n",
      "sim_index2            1.097 0.681  1.765\n",
      "pre                   1.668 1.020  2.728\n"
     ]
    }
   ],
   "source": [
    "cc <- confint(mixed1,parm=\"beta_\",method=\"Wald\")\n",
    "ctab <- cbind(est=fixef(mixed1),cc)\n",
    "rtab <- exp(ctab)\n",
    "print(rtab,digits=3)"
   ]
  },
  {
   "cell_type": "markdown",
   "metadata": {
    "heading_collapsed": true,
    "hidden": true
   },
   "source": [
    "## Discussion on all 4 models (w. w/o interaction and w. w/o main)\n",
    "What we notice:\n",
    "* cvs_graph never matters\n",
    "* main matters\n",
    "* pre doesn't matter\n",
    "* variable matters\n",
    "* sim_index doesn't matter..."
   ]
  },
  {
   "cell_type": "markdown",
   "metadata": {
    "heading_collapsed": true,
    "hidden": true
   },
   "source": [
    "## redo model split by activity order"
   ]
  },
  {
   "cell_type": "code",
   "execution_count": 27,
   "metadata": {
    "hidden": true
   },
   "outputs": [],
   "source": [
    "mydata_first <- (mydata %>% filter(sim_index==1))\n",
    "mydata_second <- (mydata %>% filter(sim_index ==2))"
   ]
  },
  {
   "cell_type": "markdown",
   "metadata": {
    "hidden": true
   },
   "source": [
    "### First"
   ]
  },
  {
   "cell_type": "code",
   "execution_count": 28,
   "metadata": {
    "hidden": true
   },
   "outputs": [
    {
     "name": "stderr",
     "output_type": "stream",
     "text": [
      "\n",
      "Correlation matrix not shown by default, as p = 15 > 12.\n",
      "Use print(obj, correlation=TRUE)  or\n",
      "\t vcov(obj)\t if you need it\n",
      "\n"
     ]
    },
    {
     "data": {
      "text/plain": [
       "Generalized linear mixed model fit by maximum likelihood (Adaptive\n",
       "  Gauss-Hermite Quadrature, nAGQ = 10) [glmerMod]\n",
       " Family: binomial  ( logit )\n",
       "Formula: quant_score ~ cvs_table_only * variable + cvs_graph * variable +  \n",
       "    cvs_table_only * pre + cvs_graph * pre + (1 | sid)\n",
       "   Data: mydata_first\n",
       "Control: glmerControl(optimizer = \"bobyqa\")\n",
       "\n",
       "     AIC      BIC   logLik deviance df.resid \n",
       "   344.4    403.3   -156.2    312.4      278 \n",
       "\n",
       "Scaled residuals: \n",
       "    Min      1Q  Median      3Q     Max \n",
       "-1.8335 -0.2994  0.1422  0.2748  1.3792 \n",
       "\n",
       "Random effects:\n",
       " Groups Name        Variance Std.Dev.\n",
       " sid    (Intercept) 15.75    3.968   \n",
       "Number of obs: 294, groups:  sid, 147\n",
       "\n",
       "Fixed effects:\n",
       "                                      Estimate Std. Error z value Pr(>|z|)  \n",
       "(Intercept)                             3.0281     1.1959   2.532   0.0113 *\n",
       "cvs_table_only1                         1.2203     2.0009   0.610   0.5419  \n",
       "variableConcentration                  -0.3191     1.3937  -0.229   0.8189  \n",
       "variableSeparation                     -1.8555     1.0152  -1.828   0.0676 .\n",
       "variableWidth                          -0.6974     1.3209  -0.528   0.5975  \n",
       "cvs_graph1                             -1.7208     1.4887  -1.156   0.2477  \n",
       "pre                                     1.2549     1.0183   1.232   0.2178  \n",
       "cvs_table_only1:variableConcentration  -3.4034     2.6576  -1.281   0.2003  \n",
       "cvs_table_only1:variableSeparation      0.5182     2.5053   0.207   0.8361  \n",
       "cvs_table_only1:variableWidth          -2.8654     2.6176  -1.095   0.2737  \n",
       "variableConcentration:cvs_graph1       -0.9097     1.8829  -0.483   0.6290  \n",
       "variableSeparation:cvs_graph1           1.4472     1.3930   1.039   0.2989  \n",
       "variableWidth:cvs_graph1               -0.6181     1.8823  -0.328   0.7426  \n",
       "cvs_table_only1:pre                    -0.9056     1.6274  -0.556   0.5779  \n",
       "cvs_graph1:pre                          0.4334     1.3130   0.330   0.7413  \n",
       "---\n",
       "Signif. codes:  0 '***' 0.001 '**' 0.01 '*' 0.05 '.' 0.1 ' ' 1"
      ]
     },
     "metadata": {},
     "output_type": "display_data"
    }
   ],
   "source": [
    "mixed1 <- glmer(\n",
    "    quant_score\n",
    "    ~ cvs_table_only*variable + cvs_graph*variable + cvs_table_only*pre + cvs_graph*pre + (1 | sid),\n",
    "           data = mydata_first, family = binomial, \n",
    "           control = glmerControl(optimizer = \"bobyqa\"), nAGQ = 10)\n",
    "summary(mixed1)"
   ]
  },
  {
   "cell_type": "markdown",
   "metadata": {
    "hidden": true
   },
   "source": [
    "### second"
   ]
  },
  {
   "cell_type": "code",
   "execution_count": 29,
   "metadata": {
    "hidden": true
   },
   "outputs": [
    {
     "name": "stderr",
     "output_type": "stream",
     "text": [
      "\n",
      "Correlation matrix not shown by default, as p = 15 > 12.\n",
      "Use print(obj, correlation=TRUE)  or\n",
      "\t vcov(obj)\t if you need it\n",
      "\n"
     ]
    },
    {
     "data": {
      "text/plain": [
       "Generalized linear mixed model fit by maximum likelihood (Adaptive\n",
       "  Gauss-Hermite Quadrature, nAGQ = 10) [glmerMod]\n",
       " Family: binomial  ( logit )\n",
       "Formula: quant_score ~ cvs_table_only * variable + cvs_graph * variable +  \n",
       "    cvs_table_only * pre + cvs_graph * pre + (1 | sid)\n",
       "   Data: mydata_second\n",
       "Control: glmerControl(optimizer = \"bobyqa\")\n",
       "\n",
       "     AIC      BIC   logLik deviance df.resid \n",
       "   339.2    398.1   -153.6    307.2      278 \n",
       "\n",
       "Scaled residuals: \n",
       "    Min      1Q  Median      3Q     Max \n",
       "-2.2223 -0.3546  0.2339  0.3828  1.4242 \n",
       "\n",
       "Random effects:\n",
       " Groups Name        Variance Std.Dev.\n",
       " sid    (Intercept) 4.384    2.094   \n",
       "Number of obs: 294, groups:  sid, 147\n",
       "\n",
       "Fixed effects:\n",
       "                                      Estimate Std. Error z value Pr(>|z|)  \n",
       "(Intercept)                            0.63183    0.72463   0.872    0.383  \n",
       "cvs_table_only1                       -1.56832    1.42510  -1.100    0.271  \n",
       "variableConcentration                  0.56315    0.98408   0.572    0.567  \n",
       "variableSeparation                    -1.05400    0.76513  -1.378    0.168  \n",
       "variableWidth                          1.96244    1.07123   1.832    0.067 .\n",
       "cvs_graph1                             0.98283    0.95006   1.034    0.301  \n",
       "pre                                    0.67244    0.76994   0.873    0.382  \n",
       "cvs_table_only1:variableConcentration  1.53682    1.90128   0.808    0.419  \n",
       "cvs_table_only1:variableSeparation    -0.02654    1.65864  -0.016    0.987  \n",
       "cvs_table_only1:variableWidth          1.18070    2.04055   0.579    0.563  \n",
       "variableConcentration:cvs_graph1       0.86352    1.35095   0.639    0.523  \n",
       "variableSeparation:cvs_graph1          0.24336    1.00644   0.242    0.809  \n",
       "variableWidth:cvs_graph1              -1.82597    1.34877  -1.354    0.176  \n",
       "cvs_table_only1:pre                    0.07110    1.31100   0.054    0.957  \n",
       "cvs_graph1:pre                        -0.08885    0.92743  -0.096    0.924  \n",
       "---\n",
       "Signif. codes:  0 '***' 0.001 '**' 0.01 '*' 0.05 '.' 0.1 ' ' 1"
      ]
     },
     "metadata": {},
     "output_type": "display_data"
    }
   ],
   "source": [
    "mixed1 <- glmer(\n",
    "    quant_score\n",
    "    ~ cvs_table_only*variable + cvs_graph*variable + cvs_table_only*pre + cvs_graph*pre + (1 | sid),\n",
    "           data = mydata_second, family = binomial, \n",
    "           control = glmerControl(optimizer = \"bobyqa\"), nAGQ = 10)\n",
    "summary(mixed1)"
   ]
  },
  {
   "cell_type": "markdown",
   "metadata": {
    "hideCode": true,
    "hidePrompt": true
   },
   "source": [
    "# Stat model 3: Predicting the use of CVS"
   ]
  },
  {
   "cell_type": "markdown",
   "metadata": {},
   "source": [
    "## Predicting the use of CVS_graph"
   ]
  },
  {
   "cell_type": "markdown",
   "metadata": {},
   "source": [
    "Our model is:\n",
    "\n",
    "    cvs_graph  ~ variable + pre + sim_index + sid\n",
    "                 + lab_experience + similar_sim + prior_number_virtual_labs\n",
    "             \n",
    "We run a logistic regression:"
   ]
  },
  {
   "cell_type": "code",
   "execution_count": 31,
   "metadata": {},
   "outputs": [
    {
     "data": {
      "text/plain": [
       "Generalized linear mixed model fit by maximum likelihood (Adaptive\n",
       "  Gauss-Hermite Quadrature, nAGQ = 10) [glmerMod]\n",
       " Family: binomial  ( logit )\n",
       "Formula: \n",
       "cvs_graph ~ variable + sim_index + pre + lab_experience + similar_sim +  \n",
       "    prior_number_virtual_labs + (1 | sid)\n",
       "   Data: mydata\n",
       "Control: glmerControl(optimizer = \"bobyqa\")\n",
       "\n",
       "     AIC      BIC   logLik deviance df.resid \n",
       "   603.7    647.5   -291.9    583.7      578 \n",
       "\n",
       "Scaled residuals: \n",
       "    Min      1Q  Median      3Q     Max \n",
       "-2.0406 -0.3283 -0.1003  0.3351  2.8259 \n",
       "\n",
       "Random effects:\n",
       " Groups Name        Variance Std.Dev.\n",
       " sid    (Intercept) 10.79    3.284   \n",
       "Number of obs: 588, groups:  sid, 147\n",
       "\n",
       "Fixed effects:\n",
       "                          Estimate Std. Error z value Pr(>|z|)    \n",
       "(Intercept)                -5.6625     1.3361  -4.238 2.25e-05 ***\n",
       "variableConcentration       0.7366     0.4057   1.816  0.06943 .  \n",
       "variableSeparation         -0.1014     0.3731  -0.272  0.78572    \n",
       "variableWidth               0.2744     0.3993   0.687  0.49204    \n",
       "sim_index2                  1.2946     0.2911   4.447 8.72e-06 ***\n",
       "pre                         0.4995     0.2651   1.884  0.05952 .  \n",
       "lab_experience1             3.9664     1.4007   2.832  0.00463 ** \n",
       "similar_sim1               -0.1497     0.4380  -0.342  0.73248    \n",
       "prior_number_virtual_labs   0.3226     0.3877   0.832  0.40531    \n",
       "---\n",
       "Signif. codes:  0 '***' 0.001 '**' 0.01 '*' 0.05 '.' 0.1 ' ' 1\n",
       "\n",
       "Correlation of Fixed Effects:\n",
       "            (Intr) vrblCn vrblSp vrblWd sm_nd2 pre    lb_xp1 smlr_1\n",
       "vrblCncntrt -0.235                                                 \n",
       "variblSprtn -0.132  0.466                                          \n",
       "variablWdth -0.201  0.573  0.471                                   \n",
       "sim_index2  -0.263  0.149 -0.009  0.112                            \n",
       "pre         -0.092 -0.088 -0.049 -0.006  0.051                     \n",
       "lab_exprnc1 -0.797  0.074 -0.002  0.046  0.113  0.045              \n",
       "similar_sm1  0.070 -0.306 -0.012 -0.295  0.041  0.132 -0.051       \n",
       "prr_nmbr_v_ -0.162  0.042 -0.001  0.028  0.014 -0.074 -0.375 -0.139"
      ]
     },
     "metadata": {},
     "output_type": "display_data"
    }
   ],
   "source": [
    "mixed <- glmer(\n",
    "    cvs_graph\n",
    "    ~ variable + sim_index + pre\n",
    "#     + lab_experience_chem + lab_experience_phys \n",
    "    +lab_experience + similar_sim + prior_number_virtual_labs + (1 | sid),\n",
    "           data = mydata, family = binomial, \n",
    "           control = glmerControl(optimizer = \"bobyqa\"), nAGQ = 10)\n",
    "\n",
    "summary(mixed)"
   ]
  },
  {
   "cell_type": "markdown",
   "metadata": {},
   "source": [
    "**(non log) Odds ratio with confidence intervals**"
   ]
  },
  {
   "cell_type": "code",
   "execution_count": 32,
   "metadata": {},
   "outputs": [
    {
     "name": "stdout",
     "output_type": "stream",
     "text": [
      "                               est    2.5 %   97.5 %\n",
      "(Intercept)                0.00347 0.000253   0.0476\n",
      "variableConcentration      2.08883 0.943120   4.6263\n",
      "variableSeparation         0.90354 0.434863   1.8773\n",
      "variableWidth              1.31570 0.601511   2.8779\n",
      "sim_index2                 3.64962 2.062665   6.4575\n",
      "pre                        1.64787 0.980161   2.7704\n",
      "lab_experience1           52.79573 3.391274 821.9297\n",
      "similar_sim1               0.86094 0.364845   2.0316\n",
      "prior_number_virtual_labs  1.38074 0.645833   2.9519\n"
     ]
    }
   ],
   "source": [
    "cc <- confint(mixed,parm=\"beta_\",method=\"Wald\")\n",
    "ctab <- cbind(est=fixef(mixed),cc)\n",
    "rtab <- exp(ctab)\n",
    "print(rtab,digits=3)"
   ]
  },
  {
   "cell_type": "markdown",
   "metadata": {},
   "source": [
    "## Predicting use of table_only"
   ]
  },
  {
   "cell_type": "code",
   "execution_count": 33,
   "metadata": {},
   "outputs": [
    {
     "data": {
      "text/plain": [
       "Generalized linear mixed model fit by maximum likelihood (Adaptive\n",
       "  Gauss-Hermite Quadrature, nAGQ = 10) [glmerMod]\n",
       " Family: binomial  ( logit )\n",
       "Formula: cvs_table_only ~ variable + sim_index + pre + lab_experience +  \n",
       "    similar_sim + prior_number_virtual_labs + (1 | sid)\n",
       "   Data: mydata\n",
       "Control: glmerControl(optimizer = \"bobyqa\")\n",
       "\n",
       "     AIC      BIC   logLik deviance df.resid \n",
       "   462.5    506.3   -221.3    442.5      578 \n",
       "\n",
       "Scaled residuals: \n",
       "    Min      1Q  Median      3Q     Max \n",
       "-1.5048 -0.2833 -0.2009 -0.1461  2.9175 \n",
       "\n",
       "Random effects:\n",
       " Groups Name        Variance Std.Dev.\n",
       " sid    (Intercept) 3.204    1.79    \n",
       "Number of obs: 588, groups:  sid, 147\n",
       "\n",
       "Fixed effects:\n",
       "                          Estimate Std. Error z value Pr(>|z|)  \n",
       "(Intercept)               -1.79523    0.74638  -2.405   0.0162 *\n",
       "variableConcentration     -0.12782    0.41083  -0.311   0.7557  \n",
       "variableSeparation        -0.27673    0.40099  -0.690   0.4901  \n",
       "variableWidth              0.04624    0.40370   0.115   0.9088  \n",
       "sim_index2                -0.63420    0.28351  -2.237   0.0253 *\n",
       "pre                        0.26612    0.26785   0.994   0.3204  \n",
       "lab_experience1            0.42321    0.78743   0.537   0.5910  \n",
       "similar_sim1               0.27341    0.45552   0.600   0.5484  \n",
       "prior_number_virtual_labs -0.56758    0.27642  -2.053   0.0400 *\n",
       "---\n",
       "Signif. codes:  0 '***' 0.001 '**' 0.01 '*' 0.05 '.' 0.1 ' ' 1\n",
       "\n",
       "Correlation of Fixed Effects:\n",
       "            (Intr) vrblCn vrblSp vrblWd sm_nd2 pre    lb_xp1 smlr_1\n",
       "vrblCncntrt -0.265                                                 \n",
       "variblSprtn -0.235  0.465                                          \n",
       "variablWdth -0.279  0.551  0.465                                   \n",
       "sim_index2  -0.148  0.041  0.015  0.035                            \n",
       "pre         -0.101 -0.088 -0.105 -0.018 -0.011                     \n",
       "lab_exprnc1 -0.680  0.016 -0.002  0.018 -0.010  0.031              \n",
       "similar_sm1  0.075 -0.309 -0.024 -0.302  0.001  0.149 -0.063       \n",
       "prr_nmbr_v_ -0.148  0.074  0.027  0.058  0.040 -0.166 -0.425 -0.225"
      ]
     },
     "metadata": {},
     "output_type": "display_data"
    }
   ],
   "source": [
    "mixed <- glmer(\n",
    "    cvs_table_only\n",
    "    ~ variable + sim_index + pre\n",
    "    + lab_experience + similar_sim + prior_number_virtual_labs + (1 | sid),\n",
    "           data = mydata, family = binomial, \n",
    "           control = glmerControl(optimizer = \"bobyqa\"), nAGQ = 10)\n",
    "\n",
    "summary(mixed)"
   ]
  },
  {
   "cell_type": "code",
   "execution_count": 34,
   "metadata": {},
   "outputs": [
    {
     "name": "stdout",
     "output_type": "stream",
     "text": [
      "                            est  2.5 % 97.5 %\n",
      "(Intercept)               0.166 0.0385  0.717\n",
      "variableConcentration     0.880 0.3934  1.969\n",
      "variableSeparation        0.758 0.3455  1.664\n",
      "variableWidth             1.047 0.4747  2.311\n",
      "sim_index2                0.530 0.3043  0.924\n",
      "pre                       1.305 0.7719  2.206\n",
      "lab_experience1           1.527 0.3262  7.146\n",
      "similar_sim1              1.314 0.5383  3.210\n",
      "prior_number_virtual_labs 0.567 0.3298  0.975\n"
     ]
    }
   ],
   "source": [
    "cc <- confint(mixed,parm=\"beta_\",method=\"Wald\")\n",
    "ctab <- cbind(est=fixef(mixed),cc)\n",
    "rtab <- exp(ctab)\n",
    "print(rtab,digits=3)"
   ]
  },
  {
   "cell_type": "markdown",
   "metadata": {},
   "source": [
    "## Predicting use of graph with inverse axis for Separation only"
   ]
  },
  {
   "cell_type": "code",
   "execution_count": 42,
   "metadata": {},
   "outputs": [],
   "source": [
    "mydata_separation <- (all_mydata %>% filter(variable == 'Separation'))"
   ]
  },
  {
   "cell_type": "code",
   "execution_count": 43,
   "metadata": {},
   "outputs": [
    {
     "data": {
      "text/plain": [
       "\n",
       "Call:\n",
       "glm(formula = cvs_graph_inverse ~ sim_index + pre + lab_experience + \n",
       "    similar_sim + prior_number_virtual_labs, family = binomial, \n",
       "    data = mydata_separation)\n",
       "\n",
       "Deviance Residuals: \n",
       "    Min       1Q   Median       3Q      Max  \n",
       "-1.1576  -0.9107  -0.7372   1.2840   1.9212  \n",
       "\n",
       "Coefficients:\n",
       "                            Estimate Std. Error z value Pr(>|z|)  \n",
       "(Intercept)                -17.88426 1008.19682  -0.018    0.986  \n",
       "sim_index2                   0.17107    0.38515   0.444    0.657  \n",
       "pre                         -0.07983    0.31624  -0.252    0.801  \n",
       "lab_experience1             16.21065 1008.19682   0.016    0.987  \n",
       "similar_sim1                 0.37141    0.55565   0.668    0.504  \n",
       "prior_number_virtual_labs    0.41843    0.23744   1.762    0.078 .\n",
       "---\n",
       "Signif. codes:  0 '***' 0.001 '**' 0.01 '*' 0.05 '.' 0.1 ' ' 1\n",
       "\n",
       "(Dispersion parameter for binomial family taken to be 1)\n",
       "\n",
       "    Null deviance: 177.69  on 146  degrees of freedom\n",
       "Residual deviance: 162.27  on 141  degrees of freedom\n",
       "AIC: 174.27\n",
       "\n",
       "Number of Fisher Scoring iterations: 16\n"
      ]
     },
     "metadata": {},
     "output_type": "display_data"
    }
   ],
   "source": [
    "mixed <- glm(\n",
    "    cvs_graph_inverse\n",
    "    ~ sim_index + pre\n",
    "    + lab_experience + similar_sim + prior_number_virtual_labs,\n",
    "           data = mydata_separation, family = binomial)\n",
    "\n",
    "summary(mixed)"
   ]
  },
  {
   "cell_type": "code",
   "execution_count": 44,
   "metadata": {},
   "outputs": [
    {
     "name": "stderr",
     "output_type": "stream",
     "text": [
      "Waiting for profiling to be done...\n"
     ]
    },
    {
     "ename": "ERROR",
     "evalue": "Error in if (!nonA[i]) next: argument is of length zero\n",
     "output_type": "error",
     "traceback": [
      "Error in if (!nonA[i]) next: argument is of length zero\nTraceback:\n",
      "1. confint(mixed, parm = \"beta_\", method = \"Wald\")",
      "2. confint.glm(mixed, parm = \"beta_\", method = \"Wald\")",
      "3. profile(object, which = parm, alpha = (1 - level)/4, trace = trace)",
      "4. profile.glm(object, which = parm, alpha = (1 - level)/4, trace = trace)"
     ]
    }
   ],
   "source": [
    "cc <- confint(mixed,parm=\"beta_\",method=\"Wald\")\n",
    "ctab <- cbind(est=fixef(mixed),cc)\n",
    "rtab <- exp(ctab)\n",
    "print(rtab,digits=3)"
   ]
  },
  {
   "cell_type": "markdown",
   "metadata": {},
   "source": [
    "## Predicting use of table + graph"
   ]
  },
  {
   "cell_type": "code",
   "execution_count": 45,
   "metadata": {},
   "outputs": [
    {
     "data": {
      "text/plain": [
       "Generalized linear mixed model fit by maximum likelihood (Adaptive\n",
       "  Gauss-Hermite Quadrature, nAGQ = 10) [glmerMod]\n",
       " Family: binomial  ( logit )\n",
       "Formula: \n",
       "cvs_table ~ variable + sim_index + pre + lab_experience + similar_sim +  \n",
       "    prior_number_virtual_labs + (1 | sid)\n",
       "   Data: mydata\n",
       "Control: glmerControl(optimizer = \"bobyqa\")\n",
       "\n",
       "     AIC      BIC   logLik deviance df.resid \n",
       "   638.0    681.8   -309.0    618.0      578 \n",
       "\n",
       "Scaled residuals: \n",
       "    Min      1Q  Median      3Q     Max \n",
       "-2.4461 -0.4324  0.2107  0.3639  2.4347 \n",
       "\n",
       "Random effects:\n",
       " Groups Name        Variance Std.Dev.\n",
       " sid    (Intercept) 6.385    2.527   \n",
       "Number of obs: 588, groups:  sid, 147\n",
       "\n",
       "Fixed effects:\n",
       "                          Estimate Std. Error z value Pr(>|z|)   \n",
       "(Intercept)               -2.42649    0.89129  -2.722  0.00648 **\n",
       "variableConcentration      0.53062    0.36336   1.460  0.14420   \n",
       "variableSeparation        -0.25288    0.33892  -0.746  0.45560   \n",
       "variableWidth              0.27573    0.35989   0.766  0.44358   \n",
       "sim_index2                 0.58127    0.24896   2.335  0.01955 * \n",
       "pre                        0.75612    0.25858   2.924  0.00345 **\n",
       "lab_experience1            2.98937    0.98089   3.048  0.00231 **\n",
       "similar_sim1               0.05056    0.38979   0.130  0.89681   \n",
       "prior_number_virtual_labs -0.07607    0.30676  -0.248  0.80414   \n",
       "---\n",
       "Signif. codes:  0 '***' 0.001 '**' 0.01 '*' 0.05 '.' 0.1 ' ' 1\n",
       "\n",
       "Correlation of Fixed Effects:\n",
       "            (Intr) vrblCn vrblSp vrblWd sm_nd2 pre    lb_xp1 smlr_1\n",
       "vrblCncntrt -0.238                                                 \n",
       "variblSprtn -0.177  0.464                                          \n",
       "variablWdth -0.229  0.543  0.469                                   \n",
       "sim_index2  -0.182  0.034 -0.018  0.023                            \n",
       "pre         -0.131 -0.004 -0.038  0.064  0.028                     \n",
       "lab_exprnc1 -0.727  0.053 -0.010  0.038  0.054  0.073              \n",
       "similar_sm1  0.059 -0.291 -0.012 -0.293  0.110  0.105 -0.051       \n",
       "prr_nmbr_v_ -0.184  0.037  0.000  0.028 -0.025 -0.086 -0.427 -0.131"
      ]
     },
     "metadata": {},
     "output_type": "display_data"
    }
   ],
   "source": [
    "mixed <- glmer(\n",
    "    cvs_table\n",
    "    ~ variable + sim_index + pre\n",
    "    + lab_experience + similar_sim + prior_number_virtual_labs + (1 | sid),\n",
    "           data = mydata, family = binomial, \n",
    "           control = glmerControl(optimizer = \"bobyqa\"), nAGQ = 10)\n",
    "\n",
    "summary(mixed)"
   ]
  },
  {
   "cell_type": "code",
   "execution_count": 46,
   "metadata": {},
   "outputs": [
    {
     "name": "stdout",
     "output_type": "stream",
     "text": [
      "                              est  2.5 %  97.5 %\n",
      "(Intercept)                0.0883 0.0154   0.507\n",
      "variableConcentration      1.7000 0.8340   3.465\n",
      "variableSeparation         0.7766 0.3997   1.509\n",
      "variableWidth              1.3175 0.6507   2.667\n",
      "sim_index2                 1.7883 1.0978   2.913\n",
      "pre                        2.1300 1.2831   3.536\n",
      "lab_experience1           19.8732 2.9063 135.895\n",
      "similar_sim1               1.0519 0.4900   2.258\n",
      "prior_number_virtual_labs  0.9267 0.5080   1.691\n"
     ]
    }
   ],
   "source": [
    "cc <- confint(mixed,parm=\"beta_\",method=\"Wald\")\n",
    "ctab <- cbind(est=fixef(mixed),cc)\n",
    "rtab <- exp(ctab)\n",
    "print(rtab,digits=3)"
   ]
  },
  {
   "cell_type": "markdown",
   "metadata": {},
   "source": [
    "\n",
    "\n",
    "\n",
    "\n",
    "\n",
    "\n",
    "\n",
    "____________________________________________________________________________\n",
    "\n",
    "\n",
    "\n",
    "\n",
    "\n",
    "# OTHER VERSION OF ANALYSES - keep for historical purposes\n",
    "Even though we decided not to include them or do analyses this way, we keep the code to run them here just in case.\n",
    "\n",
    "First we reload the data, in case some factors have changed from continuous to categorical variables"
   ]
  },
  {
   "cell_type": "code",
   "execution_count": null,
   "metadata": {},
   "outputs": [],
   "source": [
    "# mydata <- read.csv(\"C:\\\\Users\\\\Sarah\\\\Documents\\\\Personal Content\\\\Lab_study_data\\\\all_massaged_data\\\\dataframe_all_factors_for_analysis.txt\",sep = '\\t')\n",
    "# # sid is the student number\n",
    "# mydata$sid <- factor(mydata$sid)\n",
    "# mydata$sim_index <- factor(mydata$sim_index)\n",
    "# mydata$lab_experience <- factor(mydata$lab_experience)\n",
    "# mydata$similar_sim <- factor(mydata$similar_sim)\n",
    "# mydata$cvs_graph <- factor(mydata$cvs_graph)\n",
    "# mydata$cvs_table_only <- factor(mydata$cvs_table_only)\n",
    "# # mydata$main <- factor(mydata$main)\n",
    "# # mydata$pre <- factor(mydata$pre)"
   ]
  },
  {
   "cell_type": "code",
   "execution_count": null,
   "metadata": {},
   "outputs": [],
   "source": []
  },
  {
   "cell_type": "markdown",
   "metadata": {
    "hideCode": true,
    "hidePrompt": true
   },
   "source": [
    "## Stat model 1: Predicting main model scores as a categorical variable"
   ]
  },
  {
   "cell_type": "markdown",
   "metadata": {},
   "source": [
    "First we transform the data in an extra wide format for the mlogit function.\n",
    "Now every student has a row for each variable times type of model (0,1,2).\n",
    "The \"alt\" is the model type (0,1,2) and \"main\" is True if that was the model type they got correct (and the others are always False for that variable)."
   ]
  },
  {
   "cell_type": "code",
   "execution_count": 38,
   "metadata": {},
   "outputs": [],
   "source": [
    "# mydata$main <- factor(mydata$main)\n",
    "# mydata$pre <- factor(mydata$pre)"
   ]
  },
  {
   "cell_type": "code",
   "execution_count": 39,
   "metadata": {},
   "outputs": [],
   "source": [
    "# wide_mydata <- mlogit.data(mydata, shape = 'wide', choice = \"main\", id.var = \"sid\")\n",
    "# head(wide_mydata, 5)"
   ]
  },
  {
   "cell_type": "markdown",
   "metadata": {},
   "source": [
    "Then we run the mlogit model.\n",
    "\n",
    "See the following: https://cran.r-project.org/web/packages/mlogit/vignettes/mlogit.pdf\n",
    "\n",
    "Specifically, mixed in this document DOESN't mean with repeated measures. The \"1 | \" in the formula below tells it that some of the variables are individual specific.\n",
    "The examples using the \"Train\" dataset is what I followed. See pages 3-7 for how to structure data and 22,23 for example of running mlogit."
   ]
  },
  {
   "cell_type": "code",
   "execution_count": 40,
   "metadata": {},
   "outputs": [],
   "source": [
    "# ml.mydata <- mlogit(main\n",
    "#     ~ 1 | cvs_table_only + cvs_graph + variable + sim_index + pre\n",
    "#     + lab_experience + similar_sim + prior_number_virtual_labs, wide_mydata)\n",
    "# summary(ml.mydata)"
   ]
  }
 ],
 "metadata": {
  "anaconda-cloud": {},
  "kernelspec": {
   "display_name": "R",
   "language": "R",
   "name": "ir"
  },
  "language_info": {
   "codemirror_mode": "r",
   "file_extension": ".r",
   "mimetype": "text/x-r-source",
   "name": "R",
   "pygments_lexer": "r",
   "version": "3.4.3"
  },
  "toc": {
   "nav_menu": {
    "height": "172px",
    "width": "328px"
   },
   "number_sections": true,
   "sideBar": true,
   "skip_h1_title": false,
   "toc_cell": false,
   "toc_position": {},
   "toc_section_display": "block",
   "toc_window_display": false
  }
 },
 "nbformat": 4,
 "nbformat_minor": 1
}
