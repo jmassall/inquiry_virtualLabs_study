{
 "cells": [
  {
   "cell_type": "markdown",
   "metadata": {},
   "source": [
    "Load libraries"
   ]
  },
  {
   "cell_type": "code",
   "execution_count": 1,
   "metadata": {},
   "outputs": [
    {
     "name": "stderr",
     "output_type": "stream",
     "text": [
      "Loading required package: mlogit\n",
      "Loading required package: Formula\n",
      "Warning message:\n",
      "\"package 'Formula' was built under R version 3.4.4\"Loading required package: maxLik\n",
      "Warning message:\n",
      "\"package 'maxLik' was built under R version 3.4.4\"Loading required package: miscTools\n",
      "\n",
      "Please cite the 'maxLik' package as:\n",
      "Henningsen, Arne and Toomet, Ott (2011). maxLik: A package for maximum likelihood estimation in R. Computational Statistics 26(3), 443-458. DOI 10.1007/s00180-010-0217-1.\n",
      "\n",
      "If you have questions, suggestions, or comments regarding the 'maxLik' package, please use a forum or 'tracker' at maxLik's R-Forge site:\n",
      "https://r-forge.r-project.org/projects/maxlik/\n",
      "Loading required package: ggplot2\n",
      "Warning message:\n",
      "\"package 'ggplot2' was built under R version 3.4.4\"Loading required package: reshape2\n",
      "Warning message:\n",
      "\"package 'reshape2' was built under R version 3.4.4\"Loading required package: lme4\n",
      "Warning message:\n",
      "\"package 'lme4' was built under R version 3.4.4\"Loading required package: Matrix\n",
      "Loading required package: compiler\n",
      "Loading required package: parallel\n",
      "Loading required package: car\n",
      "Loading required package: boot\n",
      "\n",
      "Attaching package: 'boot'\n",
      "\n",
      "The following object is masked from 'package:car':\n",
      "\n",
      "    logit\n",
      "\n",
      "Loading required package: dplyr\n",
      "\n",
      "Attaching package: 'dplyr'\n",
      "\n",
      "The following object is masked from 'package:car':\n",
      "\n",
      "    recode\n",
      "\n",
      "The following objects are masked from 'package:stats':\n",
      "\n",
      "    filter, lag\n",
      "\n",
      "The following objects are masked from 'package:base':\n",
      "\n",
      "    intersect, setdiff, setequal, union\n",
      "\n",
      "Loading required package: sjstats\n",
      "Warning message:\n",
      "\"package 'sjstats' was built under R version 3.4.4\"Warning message in checkMatrixPackageVersion():\n",
      "\"Package version inconsistency detected.\n",
      "TMB was built with Matrix version 1.2.14\n",
      "Current Matrix version is 1.2.12\n",
      "Please re-install 'TMB' from source using install.packages('TMB', type = 'source') or ask CRAN for a binary version of 'TMB' matching CRAN's 'Matrix' package\"Loading required package: broom\n",
      "Warning message:\n",
      "\"package 'broom' was built under R version 3.4.4\"\n",
      "Attaching package: 'broom'\n",
      "\n",
      "The following object is masked from 'package:sjstats':\n",
      "\n",
      "    bootstrap\n",
      "\n"
     ]
    }
   ],
   "source": [
    "## For some reason, when loading mlogit, the notebook can't find package 'statmod' so I specify it's location\n",
    "library(statmod, lib.loc='D:\\\\Applications\\\\Anaconda2\\\\pkgs\\\\r-statmod-1.4.30-r3.4.1_0\\\\lib\\\\R\\\\library\\\\')\n",
    "require(mlogit)\n",
    "require(ggplot2)\n",
    "require(reshape2)\n",
    "require(lme4)\n",
    "require(compiler)\n",
    "require(parallel)\n",
    "require(car)\n",
    "require(boot)\n",
    "require(dplyr)\n",
    "require(sjstats)\n",
    "require(broom)"
   ]
  },
  {
   "cell_type": "markdown",
   "metadata": {
    "heading_collapsed": true
   },
   "source": [
    "# Load data and set factors"
   ]
  },
  {
   "cell_type": "code",
   "execution_count": 2,
   "metadata": {
    "hidden": true
   },
   "outputs": [],
   "source": [
    "all_mydata <- read.csv(\"C:\\\\Users\\\\Sarah\\\\Documents\\\\Personal Content\\\\Lab_study_data\\\\all_massaged_data\\\\dataframe_all_factors_for_analysis.txt\",sep = '\\t')\n",
    "# sid is the student number\n",
    "# we use the \"factor()\" option to make sure R treats them as categorical\n",
    "all_mydata$sid <- factor(all_mydata$sid)\n",
    "all_mydata$sim_index <- factor(all_mydata$sim_index)\n",
    "all_mydata$lab_experience <- factor(all_mydata$lab_experience)\n",
    "all_mydata$similar_sim <- factor(all_mydata$similar_sim)\n",
    "all_mydata$cvs_graph <- factor(all_mydata$cvs_graph)\n",
    "all_mydata$cvs_table_only <- factor(all_mydata$cvs_table_only)\n",
    "all_mydata$quant_score <- factor(all_mydata$quant_score)\n",
    "# all_mydata$main <- factor(all_mydata$main)\n",
    "# all_mydata$pre <- factor(all_mydata$pre)"
   ]
  },
  {
   "cell_type": "markdown",
   "metadata": {
    "hidden": true
   },
   "source": [
    "Here is what our data looks like:"
   ]
  },
  {
   "cell_type": "code",
   "execution_count": 3,
   "metadata": {
    "hidden": true
   },
   "outputs": [
    {
     "data": {
      "text/html": [
       "<table>\n",
       "<thead><tr><th scope=col>sid</th><th scope=col>sim</th><th scope=col>variable</th><th scope=col>pre</th><th scope=col>main</th><th scope=col>cvs_graph</th><th scope=col>cvs_table</th><th scope=col>cvs_table_only</th><th scope=col>qual_score</th><th scope=col>quant_score</th><th scope=col>...</th><th scope=col>use_graph</th><th scope=col>use_concentration</th><th scope=col>use_width</th><th scope=col>use_area</th><th scope=col>use_separation</th><th scope=col>use_all_vars</th><th scope=col>use_graph_beers</th><th scope=col>use_table_beers</th><th scope=col>use_table_capacitor</th><th scope=col>use_graph_capacitor</th></tr></thead>\n",
       "<tbody>\n",
       "\t<tr><td>10127163     </td><td>L            </td><td>Concentration</td><td>0            </td><td>2            </td><td>1            </td><td>1            </td><td>0            </td><td>1            </td><td>1            </td><td>...          </td><td>1            </td><td>1            </td><td>1            </td><td>1            </td><td>1            </td><td>4            </td><td>1            </td><td>1            </td><td>1            </td><td>1            </td></tr>\n",
       "\t<tr><td>10127163     </td><td>L            </td><td>Width        </td><td>0            </td><td>2            </td><td>1            </td><td>1            </td><td>0            </td><td>1            </td><td>1            </td><td>...          </td><td>1            </td><td>1            </td><td>1            </td><td>1            </td><td>1            </td><td>4            </td><td>1            </td><td>1            </td><td>1            </td><td>1            </td></tr>\n",
       "\t<tr><td>10232160     </td><td>L            </td><td>Concentration</td><td>0            </td><td>0            </td><td>1            </td><td>1            </td><td>0            </td><td>1            </td><td>1            </td><td>...          </td><td>1            </td><td>1            </td><td>1            </td><td>1            </td><td>1            </td><td>4            </td><td>1            </td><td>1            </td><td>1            </td><td>1            </td></tr>\n",
       "\t<tr><td>10232160     </td><td>L            </td><td>Width        </td><td>0            </td><td>0            </td><td>0            </td><td>0            </td><td>0            </td><td>1            </td><td>1            </td><td>...          </td><td>1            </td><td>1            </td><td>1            </td><td>1            </td><td>1            </td><td>4            </td><td>1            </td><td>1            </td><td>1            </td><td>1            </td></tr>\n",
       "\t<tr><td>10232160     </td><td>C            </td><td>Area         </td><td>0            </td><td>2            </td><td>1            </td><td>1            </td><td>0            </td><td>1            </td><td>1            </td><td>...          </td><td>1            </td><td>1            </td><td>1            </td><td>1            </td><td>1            </td><td>4            </td><td>1            </td><td>1            </td><td>1            </td><td>1            </td></tr>\n",
       "\t<tr><td>10232160     </td><td>C            </td><td>Separation   </td><td>0            </td><td>2            </td><td>1            </td><td>1            </td><td>0            </td><td>1            </td><td>1            </td><td>...          </td><td>1            </td><td>1            </td><td>1            </td><td>1            </td><td>1            </td><td>4            </td><td>1            </td><td>1            </td><td>1            </td><td>1            </td></tr>\n",
       "</tbody>\n",
       "</table>\n"
      ],
      "text/latex": [
       "\\begin{tabular}{r|llllllllllllllllllllllllllllllll}\n",
       " sid & sim & variable & pre & main & cvs\\_graph & cvs\\_table & cvs\\_table\\_only & qual\\_score & quant\\_score & ... & use\\_graph & use\\_concentration & use\\_width & use\\_area & use\\_separation & use\\_all\\_vars & use\\_graph\\_beers & use\\_table\\_beers & use\\_table\\_capacitor & use\\_graph\\_capacitor\\\\\n",
       "\\hline\n",
       "\t 10127163      & L             & Concentration & 0             & 2             & 1             & 1             & 0             & 1             & 1             & ...           & 1             & 1             & 1             & 1             & 1             & 4             & 1             & 1             & 1             & 1            \\\\\n",
       "\t 10127163      & L             & Width         & 0             & 2             & 1             & 1             & 0             & 1             & 1             & ...           & 1             & 1             & 1             & 1             & 1             & 4             & 1             & 1             & 1             & 1            \\\\\n",
       "\t 10232160      & L             & Concentration & 0             & 0             & 1             & 1             & 0             & 1             & 1             & ...           & 1             & 1             & 1             & 1             & 1             & 4             & 1             & 1             & 1             & 1            \\\\\n",
       "\t 10232160      & L             & Width         & 0             & 0             & 0             & 0             & 0             & 1             & 1             & ...           & 1             & 1             & 1             & 1             & 1             & 4             & 1             & 1             & 1             & 1            \\\\\n",
       "\t 10232160      & C             & Area          & 0             & 2             & 1             & 1             & 0             & 1             & 1             & ...           & 1             & 1             & 1             & 1             & 1             & 4             & 1             & 1             & 1             & 1            \\\\\n",
       "\t 10232160      & C             & Separation    & 0             & 2             & 1             & 1             & 0             & 1             & 1             & ...           & 1             & 1             & 1             & 1             & 1             & 4             & 1             & 1             & 1             & 1            \\\\\n",
       "\\end{tabular}\n"
      ],
      "text/markdown": [
       "\n",
       "sid | sim | variable | pre | main | cvs_graph | cvs_table | cvs_table_only | qual_score | quant_score | ... | use_graph | use_concentration | use_width | use_area | use_separation | use_all_vars | use_graph_beers | use_table_beers | use_table_capacitor | use_graph_capacitor | \n",
       "|---|---|---|---|---|---|\n",
       "| 10127163      | L             | Concentration | 0             | 2             | 1             | 1             | 0             | 1             | 1             | ...           | 1             | 1             | 1             | 1             | 1             | 4             | 1             | 1             | 1             | 1             | \n",
       "| 10127163      | L             | Width         | 0             | 2             | 1             | 1             | 0             | 1             | 1             | ...           | 1             | 1             | 1             | 1             | 1             | 4             | 1             | 1             | 1             | 1             | \n",
       "| 10232160      | L             | Concentration | 0             | 0             | 1             | 1             | 0             | 1             | 1             | ...           | 1             | 1             | 1             | 1             | 1             | 4             | 1             | 1             | 1             | 1             | \n",
       "| 10232160      | L             | Width         | 0             | 0             | 0             | 0             | 0             | 1             | 1             | ...           | 1             | 1             | 1             | 1             | 1             | 4             | 1             | 1             | 1             | 1             | \n",
       "| 10232160      | C             | Area          | 0             | 2             | 1             | 1             | 0             | 1             | 1             | ...           | 1             | 1             | 1             | 1             | 1             | 4             | 1             | 1             | 1             | 1             | \n",
       "| 10232160      | C             | Separation    | 0             | 2             | 1             | 1             | 0             | 1             | 1             | ...           | 1             | 1             | 1             | 1             | 1             | 4             | 1             | 1             | 1             | 1             | \n",
       "\n",
       "\n"
      ],
      "text/plain": [
       "  sid      sim variable      pre main cvs_graph cvs_table cvs_table_only\n",
       "1 10127163 L   Concentration 0   2    1         1         0             \n",
       "2 10127163 L   Width         0   2    1         1         0             \n",
       "3 10232160 L   Concentration 0   0    1         1         0             \n",
       "4 10232160 L   Width         0   0    0         0         0             \n",
       "5 10232160 C   Area          0   2    1         1         0             \n",
       "6 10232160 C   Separation    0   2    1         1         0             \n",
       "  qual_score quant_score ... use_graph use_concentration use_width use_area\n",
       "1 1          1           ... 1         1                 1         1       \n",
       "2 1          1           ... 1         1                 1         1       \n",
       "3 1          1           ... 1         1                 1         1       \n",
       "4 1          1           ... 1         1                 1         1       \n",
       "5 1          1           ... 1         1                 1         1       \n",
       "6 1          1           ... 1         1                 1         1       \n",
       "  use_separation use_all_vars use_graph_beers use_table_beers\n",
       "1 1              4            1               1              \n",
       "2 1              4            1               1              \n",
       "3 1              4            1               1              \n",
       "4 1              4            1               1              \n",
       "5 1              4            1               1              \n",
       "6 1              4            1               1              \n",
       "  use_table_capacitor use_graph_capacitor\n",
       "1 1                   1                  \n",
       "2 1                   1                  \n",
       "3 1                   1                  \n",
       "4 1                   1                  \n",
       "5 1                   1                  \n",
       "6 1                   1                  "
      ]
     },
     "metadata": {},
     "output_type": "display_data"
    }
   ],
   "source": [
    "head(all_mydata)\n",
    "# colnames(mydata)"
   ]
  },
  {
   "cell_type": "markdown",
   "metadata": {
    "hidden": true
   },
   "source": [
    "We have the following factors that change per variable:\n",
    "* main (0,1,2), treated as a continuous variable\n",
    "* pre (0,1,2), treated as a continuous variable\n",
    "* quant_score (0 or 1)\n",
    "* CVS_graph (0 or 1)\n",
    "* CVS_table (0 or 1)\n",
    "\n",
    "We have the following independant factors:\n",
    "* sim_index (1 or 2, wither it was student's 1st or 2nd activity)\n",
    "* variable (thus don't include sim as a variable)\n",
    "* student attibutes:\n",
    "   * lab_experience (0 or 1 if students have prior undergraduate physics or chemistry lab experience)\n",
    "   * similar_sim (0 or 1 if they have used a similar simulation)\n",
    "   * prior_number_virtual_labs (levels from 0 to 3 depending on the number of virtual labs they have done in the past)\n",
    "\n",
    "We ignore attitude components.\n",
    "\n",
    "For main and pre score:\n",
    "* score = 2 if they describe the correct relationship, ie. a correct quantitative model\n",
    "* score = 1 if they describe the correct direction of the relationship, ie. they have a correct qual model but incorrect quant model OR if their quant model is incorrect but qualitatively correct\n",
    "* score = 0 otherwise (i.e. all incorrect or only identified)"
   ]
  },
  {
   "cell_type": "markdown",
   "metadata": {
    "heading_collapsed": true
   },
   "source": [
    "# FIRST we remove perfect pre per variable instance"
   ]
  },
  {
   "cell_type": "code",
   "execution_count": 4,
   "metadata": {
    "hidden": true
   },
   "outputs": [
    {
     "name": "stderr",
     "output_type": "stream",
     "text": [
      "Warning message:\n",
      "\"package 'bindrcpp' was built under R version 3.4.4\""
     ]
    }
   ],
   "source": [
    "mydata <- (all_mydata %>% filter(pre < 2))"
   ]
  },
  {
   "cell_type": "code",
   "execution_count": 5,
   "metadata": {
    "hidden": true
   },
   "outputs": [
    {
     "name": "stdout",
     "output_type": "stream",
     "text": [
      "[1] 549  32\n",
      "[1] 549  32\n",
      "[1] 147   1\n",
      "[1] 147   1\n"
     ]
    }
   ],
   "source": [
    "print(dim(mydata));print(dim(all_mydata));\n",
    "print(dim(unique(mydata['sid'])));print(dim(unique(all_mydata['sid'])));"
   ]
  },
  {
   "cell_type": "markdown",
   "metadata": {
    "hidden": true
   },
   "source": [
    "We removed 39 instances of perfect pre. All 147 students remain in the study (i.e. no student got a prefect pre on all variables)."
   ]
  },
  {
   "cell_type": "markdown",
   "metadata": {},
   "source": [
    "# Stat model 1: Prediction main model score as a continuous variable"
   ]
  },
  {
   "cell_type": "markdown",
   "metadata": {},
   "source": [
    "Some resources:\n",
    "* On SS Types: https://mcfromnz.wordpress.com/2011/03/02/anova-type-iiiiii-ss-explained/\n",
    "* on drop() function to do type 3: https://www.statmethods.net/stats/anova.html\n",
    "* On repeated measures: http://psych.wisc.edu/moore/Rpdf/610-R8_OneWayWithin.pdf, https://datascienceplus.com/two-way-anova-with-repeated-measures/\n",
    "* the car package: https://cran.r-project.org/web/packages/car/car.pdf"
   ]
  },
  {
   "cell_type": "markdown",
   "metadata": {},
   "source": [
    "## Complete model with interactions"
   ]
  },
  {
   "cell_type": "markdown",
   "metadata": {},
   "source": [
    "Our model (without student factors) is:\n",
    "\n",
    "    main  ~  cvs_table_only*variable + cvs_graph*variable\n",
    "             + cvs_table_only*pre + cvs_graph*pre\n",
    "             + sim_index + sid\n",
    "             \n",
    "We run a type III Anova:"
   ]
  },
  {
   "cell_type": "code",
   "execution_count": 6,
   "metadata": {},
   "outputs": [
    {
     "data": {
      "text/html": [
       "<table>\n",
       "<thead><tr><th scope=col>term</th><th scope=col>sumsq</th><th scope=col>df</th><th scope=col>statistic</th><th scope=col>p.value</th><th scope=col>eta</th></tr></thead>\n",
       "<tbody>\n",
       "\t<tr><td>(Intercept)            </td><td>  4.51614308           </td><td>  1                    </td><td>20.94491355            </td><td>6.377037e-06           </td><td>0.051342504            </td></tr>\n",
       "\t<tr><td>cvs_table_only         </td><td>  0.01658873           </td><td>  1                    </td><td> 0.07693502            </td><td>7.816429e-01           </td><td>0.000198759            </td></tr>\n",
       "\t<tr><td>variable               </td><td>  0.44384032           </td><td>  3                    </td><td> 0.68614575            </td><td>5.609410e-01           </td><td>0.005290818            </td></tr>\n",
       "\t<tr><td>cvs_graph              </td><td>  2.42460628           </td><td>  1                    </td><td>11.24480955            </td><td>8.772326e-04           </td><td>0.028235922            </td></tr>\n",
       "\t<tr><td>pre                    </td><td>  0.61836397           </td><td>  1                    </td><td> 2.86784091            </td><td>9.117070e-02           </td><td>0.007355931            </td></tr>\n",
       "\t<tr><td>sim_index              </td><td>  2.58685638           </td><td>  1                    </td><td>11.99729111            </td><td>5.923491e-04           </td><td>0.030068603            </td></tr>\n",
       "\t<tr><td>sid                    </td><td>100.64902924           </td><td>146                    </td><td> 3.19718387            </td><td>8.159092e-20           </td><td>0.546726334            </td></tr>\n",
       "\t<tr><td>cvs_table_only:variable</td><td>  0.19078764           </td><td>  3                    </td><td> 0.29494421            </td><td>8.290550e-01           </td><td>0.002281174            </td></tr>\n",
       "\t<tr><td>variable:cvs_graph     </td><td>  2.00869631           </td><td>  3                    </td><td> 3.10530245            </td><td>2.653575e-02           </td><td>0.023506267            </td></tr>\n",
       "\t<tr><td>cvs_table_only:pre     </td><td>  0.13767781           </td><td>  1                    </td><td> 0.63852050            </td><td>4.247372e-01           </td><td>0.001647206            </td></tr>\n",
       "\t<tr><td>cvs_graph:pre          </td><td>  0.95191736           </td><td>  1                    </td><td> 4.41479079            </td><td>3.627486e-02           </td><td>0.011279060            </td></tr>\n",
       "\t<tr><td>Residuals              </td><td> 83.44495521           </td><td>387                    </td><td>         NA            </td><td>          NA           </td><td>0.500000000            </td></tr>\n",
       "</tbody>\n",
       "</table>\n"
      ],
      "text/latex": [
       "\\begin{tabular}{r|llllll}\n",
       " term & sumsq & df & statistic & p.value & eta\\\\\n",
       "\\hline\n",
       "\t (Intercept)             &   4.51614308            &   1                     & 20.94491355             & 6.377037e-06            & 0.051342504            \\\\\n",
       "\t cvs\\_table\\_only          &   0.01658873                &   1                         &  0.07693502                 & 7.816429e-01                & 0.000198759                \\\\\n",
       "\t variable                &   0.44384032            &   3                     &  0.68614575             & 5.609410e-01            & 0.005290818            \\\\\n",
       "\t cvs\\_graph               &   2.42460628              &   1                       & 11.24480955               & 8.772326e-04              & 0.028235922              \\\\\n",
       "\t pre                     &   0.61836397            &   1                     &  2.86784091             & 9.117070e-02            & 0.007355931            \\\\\n",
       "\t sim\\_index               &   2.58685638              &   1                       & 11.99729111               & 5.923491e-04              & 0.030068603              \\\\\n",
       "\t sid                     & 100.64902924            & 146                     &  3.19718387             & 8.159092e-20            & 0.546726334            \\\\\n",
       "\t cvs\\_table\\_only:variable &   0.19078764                &   3                         &  0.29494421                 & 8.290550e-01                & 0.002281174                \\\\\n",
       "\t variable:cvs\\_graph      &   2.00869631              &   3                       &  3.10530245               & 2.653575e-02              & 0.023506267              \\\\\n",
       "\t cvs\\_table\\_only:pre      &   0.13767781                &   1                         &  0.63852050                 & 4.247372e-01                & 0.001647206                \\\\\n",
       "\t cvs\\_graph:pre           &   0.95191736              &   1                       &  4.41479079               & 3.627486e-02              & 0.011279060              \\\\\n",
       "\t Residuals               &  83.44495521            & 387                     &          NA             &           NA            & 0.500000000            \\\\\n",
       "\\end{tabular}\n"
      ],
      "text/markdown": [
       "\n",
       "term | sumsq | df | statistic | p.value | eta | \n",
       "|---|---|---|---|---|---|---|---|---|---|---|---|\n",
       "| (Intercept)             |   4.51614308            |   1                     | 20.94491355             | 6.377037e-06            | 0.051342504             | \n",
       "| cvs_table_only          |   0.01658873            |   1                     |  0.07693502             | 7.816429e-01            | 0.000198759             | \n",
       "| variable                |   0.44384032            |   3                     |  0.68614575             | 5.609410e-01            | 0.005290818             | \n",
       "| cvs_graph               |   2.42460628            |   1                     | 11.24480955             | 8.772326e-04            | 0.028235922             | \n",
       "| pre                     |   0.61836397            |   1                     |  2.86784091             | 9.117070e-02            | 0.007355931             | \n",
       "| sim_index               |   2.58685638            |   1                     | 11.99729111             | 5.923491e-04            | 0.030068603             | \n",
       "| sid                     | 100.64902924            | 146                     |  3.19718387             | 8.159092e-20            | 0.546726334             | \n",
       "| cvs_table_only:variable |   0.19078764            |   3                     |  0.29494421             | 8.290550e-01            | 0.002281174             | \n",
       "| variable:cvs_graph      |   2.00869631            |   3                     |  3.10530245             | 2.653575e-02            | 0.023506267             | \n",
       "| cvs_table_only:pre      |   0.13767781            |   1                     |  0.63852050             | 4.247372e-01            | 0.001647206             | \n",
       "| cvs_graph:pre           |   0.95191736            |   1                     |  4.41479079             | 3.627486e-02            | 0.011279060             | \n",
       "| Residuals               |  83.44495521            | 387                     |          NA             |           NA            | 0.500000000             | \n",
       "\n",
       "\n"
      ],
      "text/plain": [
       "   term                    sumsq        df  statistic   p.value     \n",
       "1  (Intercept)               4.51614308   1 20.94491355 6.377037e-06\n",
       "2  cvs_table_only            0.01658873   1  0.07693502 7.816429e-01\n",
       "3  variable                  0.44384032   3  0.68614575 5.609410e-01\n",
       "4  cvs_graph                 2.42460628   1 11.24480955 8.772326e-04\n",
       "5  pre                       0.61836397   1  2.86784091 9.117070e-02\n",
       "6  sim_index                 2.58685638   1 11.99729111 5.923491e-04\n",
       "7  sid                     100.64902924 146  3.19718387 8.159092e-20\n",
       "8  cvs_table_only:variable   0.19078764   3  0.29494421 8.290550e-01\n",
       "9  variable:cvs_graph        2.00869631   3  3.10530245 2.653575e-02\n",
       "10 cvs_table_only:pre        0.13767781   1  0.63852050 4.247372e-01\n",
       "11 cvs_graph:pre             0.95191736   1  4.41479079 3.627486e-02\n",
       "12 Residuals                83.44495521 387          NA           NA\n",
       "   eta        \n",
       "1  0.051342504\n",
       "2  0.000198759\n",
       "3  0.005290818\n",
       "4  0.028235922\n",
       "5  0.007355931\n",
       "6  0.030068603\n",
       "7  0.546726334\n",
       "8  0.002281174\n",
       "9  0.023506267\n",
       "10 0.001647206\n",
       "11 0.011279060\n",
       "12 0.500000000"
      ]
     },
     "metadata": {},
     "output_type": "display_data"
    }
   ],
   "source": [
    "lm1 = lm(main\n",
    "        ~  cvs_table_only*variable + cvs_graph*variable + cvs_table_only*pre + cvs_graph*pre + sim_index + sid,\n",
    "         data=mydata)\n",
    "results1 = Anova(lm1, type=3)\n",
    "results_table1 = tidy(results1)\n",
    "results_table1$eta <- results_table1$sumsq/(results_table1$sumsq + results_table1$sumsq[dim(results_table1)[1]])\n",
    "results_table1"
   ]
  },
  {
   "cell_type": "markdown",
   "metadata": {},
   "source": [
    "None of the interactions are significant so let's move to a simpler model."
   ]
  },
  {
   "cell_type": "markdown",
   "metadata": {},
   "source": [
    "## Simple model without interaction"
   ]
  },
  {
   "cell_type": "markdown",
   "metadata": {},
   "source": [
    "Our model (without student factors) is:\n",
    "\n",
    "    main  ~  cvs_table_only + cvs_graph + variable\n",
    "             + pre + sim_index + sid\n",
    "             \n",
    "We run a type II Anova:"
   ]
  },
  {
   "cell_type": "code",
   "execution_count": 7,
   "metadata": {},
   "outputs": [
    {
     "data": {
      "text/html": [
       "<table>\n",
       "<thead><tr><th scope=col>term</th><th scope=col>sumsq</th><th scope=col>df</th><th scope=col>statistic</th><th scope=col>p.value</th><th scope=col>eta</th></tr></thead>\n",
       "<tbody>\n",
       "\t<tr><td>cvs_table_only</td><td>  0.04977712  </td><td>  1           </td><td> 0.2269466    </td><td>6.340606e-01  </td><td>0.0005742185  </td></tr>\n",
       "\t<tr><td>cvs_graph     </td><td>  4.34472215  </td><td>  1           </td><td>19.8086981    </td><td>1.114922e-05  </td><td>0.0477538157  </td></tr>\n",
       "\t<tr><td>variable      </td><td>  1.74754763  </td><td>  3           </td><td> 2.6558387    </td><td>4.816351e-02  </td><td>0.0197721051  </td></tr>\n",
       "\t<tr><td>pre           </td><td>  0.10980713  </td><td>  1           </td><td> 0.5006388    </td><td>4.796368e-01  </td><td>0.0012658356  </td></tr>\n",
       "\t<tr><td>sim_index     </td><td>  2.92872682  </td><td>  1           </td><td>13.3528137    </td><td>2.928603e-04  </td><td>0.0326992083  </td></tr>\n",
       "\t<tr><td>sid           </td><td>101.63002321  </td><td>146           </td><td> 3.1736797    </td><td>9.587964e-20  </td><td>0.5398186406  </td></tr>\n",
       "\t<tr><td>Residuals     </td><td> 86.63695306  </td><td>395           </td><td>        NA    </td><td>          NA  </td><td>0.5000000000  </td></tr>\n",
       "</tbody>\n",
       "</table>\n"
      ],
      "text/latex": [
       "\\begin{tabular}{r|llllll}\n",
       " term & sumsq & df & statistic & p.value & eta\\\\\n",
       "\\hline\n",
       "\t cvs\\_table\\_only &   0.04977712       &   1                &  0.2269466         & 6.340606e-01       & 0.0005742185      \\\\\n",
       "\t cvs\\_graph      &   4.34472215     &   1              & 19.8086981       & 1.114922e-05     & 0.0477538157    \\\\\n",
       "\t variable       &   1.74754763   &   3            &  2.6558387     & 4.816351e-02   & 0.0197721051  \\\\\n",
       "\t pre            &   0.10980713   &   1            &  0.5006388     & 4.796368e-01   & 0.0012658356  \\\\\n",
       "\t sim\\_index      &   2.92872682     &   1              & 13.3528137       & 2.928603e-04     & 0.0326992083    \\\\\n",
       "\t sid            & 101.63002321   & 146            &  3.1736797     & 9.587964e-20   & 0.5398186406  \\\\\n",
       "\t Residuals      &  86.63695306   & 395            &         NA     &           NA   & 0.5000000000  \\\\\n",
       "\\end{tabular}\n"
      ],
      "text/markdown": [
       "\n",
       "term | sumsq | df | statistic | p.value | eta | \n",
       "|---|---|---|---|---|---|---|\n",
       "| cvs_table_only |   0.04977712   |   1            |  0.2269466     | 6.340606e-01   | 0.0005742185   | \n",
       "| cvs_graph      |   4.34472215   |   1            | 19.8086981     | 1.114922e-05   | 0.0477538157   | \n",
       "| variable       |   1.74754763   |   3            |  2.6558387     | 4.816351e-02   | 0.0197721051   | \n",
       "| pre            |   0.10980713   |   1            |  0.5006388     | 4.796368e-01   | 0.0012658356   | \n",
       "| sim_index      |   2.92872682   |   1            | 13.3528137     | 2.928603e-04   | 0.0326992083   | \n",
       "| sid            | 101.63002321   | 146            |  3.1736797     | 9.587964e-20   | 0.5398186406   | \n",
       "| Residuals      |  86.63695306   | 395            |         NA     |           NA   | 0.5000000000   | \n",
       "\n",
       "\n"
      ],
      "text/plain": [
       "  term           sumsq        df  statistic  p.value      eta         \n",
       "1 cvs_table_only   0.04977712   1  0.2269466 6.340606e-01 0.0005742185\n",
       "2 cvs_graph        4.34472215   1 19.8086981 1.114922e-05 0.0477538157\n",
       "3 variable         1.74754763   3  2.6558387 4.816351e-02 0.0197721051\n",
       "4 pre              0.10980713   1  0.5006388 4.796368e-01 0.0012658356\n",
       "5 sim_index        2.92872682   1 13.3528137 2.928603e-04 0.0326992083\n",
       "6 sid            101.63002321 146  3.1736797 9.587964e-20 0.5398186406\n",
       "7 Residuals       86.63695306 395         NA           NA 0.5000000000"
      ]
     },
     "metadata": {},
     "output_type": "display_data"
    }
   ],
   "source": [
    "lm1 = lm(main\n",
    "        ~  cvs_table_only + cvs_graph + variable + pre + sim_index + sid,\n",
    "         data=mydata)\n",
    "results1 = Anova(lm1, type=2)\n",
    "results_table1 = tidy(results1)\n",
    "results_table1$eta <- results_table1$sumsq/(results_table1$sumsq + results_table1$sumsq[dim(results_table1)[1]])\n",
    "results_table1"
   ]
  },
  {
   "cell_type": "markdown",
   "metadata": {},
   "source": [
    "We see that, in order of significance and eta^2: cvs_graph, sim_index, and variable matter."
   ]
  },
  {
   "cell_type": "markdown",
   "metadata": {},
   "source": [
    "## Model by variable"
   ]
  },
  {
   "cell_type": "markdown",
   "metadata": {},
   "source": [
    "### For Width without interaction"
   ]
  },
  {
   "cell_type": "code",
   "execution_count": 8,
   "metadata": {
    "scrolled": true
   },
   "outputs": [
    {
     "data": {
      "text/html": [
       "<table>\n",
       "<thead><tr><th scope=col>term</th><th scope=col>sumsq</th><th scope=col>df</th><th scope=col>statistic</th><th scope=col>p.value</th><th scope=col>eta</th></tr></thead>\n",
       "<tbody>\n",
       "\t<tr><td>cvs_table_only</td><td> 1.792362334  </td><td>  1           </td><td> 4.979241880  </td><td>2.730230e-02  </td><td>3.557129e-02  </td></tr>\n",
       "\t<tr><td>cvs_graph     </td><td>10.940237359  </td><td>  1           </td><td>30.392341444  </td><td>1.731737e-07  </td><td>1.837591e-01  </td></tr>\n",
       "\t<tr><td>pre           </td><td> 0.002772954  </td><td>  1           </td><td> 0.007703358  </td><td>9.301905e-01  </td><td>5.705865e-05  </td></tr>\n",
       "\t<tr><td>sim_index     </td><td> 1.914251343  </td><td>  1           </td><td> 5.317853583  </td><td>2.263155e-02  </td><td>3.789862e-02  </td></tr>\n",
       "\t<tr><td>Residuals     </td><td>48.595533392  </td><td>135           </td><td>          NA  </td><td>          NA  </td><td>5.000000e-01  </td></tr>\n",
       "</tbody>\n",
       "</table>\n"
      ],
      "text/latex": [
       "\\begin{tabular}{r|llllll}\n",
       " term & sumsq & df & statistic & p.value & eta\\\\\n",
       "\\hline\n",
       "\t cvs\\_table\\_only &  1.792362334       &   1                &  4.979241880       & 2.730230e-02       & 3.557129e-02      \\\\\n",
       "\t cvs\\_graph      & 10.940237359     &   1              & 30.392341444     & 1.731737e-07     & 1.837591e-01    \\\\\n",
       "\t pre            &  0.002772954   &   1            &  0.007703358   & 9.301905e-01   & 5.705865e-05  \\\\\n",
       "\t sim\\_index      &  1.914251343     &   1              &  5.317853583     & 2.263155e-02     & 3.789862e-02    \\\\\n",
       "\t Residuals      & 48.595533392   & 135            &           NA   &           NA   & 5.000000e-01  \\\\\n",
       "\\end{tabular}\n"
      ],
      "text/markdown": [
       "\n",
       "term | sumsq | df | statistic | p.value | eta | \n",
       "|---|---|---|---|---|\n",
       "| cvs_table_only |  1.792362334   |   1            |  4.979241880   | 2.730230e-02   | 3.557129e-02   | \n",
       "| cvs_graph      | 10.940237359   |   1            | 30.392341444   | 1.731737e-07   | 1.837591e-01   | \n",
       "| pre            |  0.002772954   |   1            |  0.007703358   | 9.301905e-01   | 5.705865e-05   | \n",
       "| sim_index      |  1.914251343   |   1            |  5.317853583   | 2.263155e-02   | 3.789862e-02   | \n",
       "| Residuals      | 48.595533392   | 135            |           NA   |           NA   | 5.000000e-01   | \n",
       "\n",
       "\n"
      ],
      "text/plain": [
       "  term           sumsq        df  statistic    p.value      eta         \n",
       "1 cvs_table_only  1.792362334   1  4.979241880 2.730230e-02 3.557129e-02\n",
       "2 cvs_graph      10.940237359   1 30.392341444 1.731737e-07 1.837591e-01\n",
       "3 pre             0.002772954   1  0.007703358 9.301905e-01 5.705865e-05\n",
       "4 sim_index       1.914251343   1  5.317853583 2.263155e-02 3.789862e-02\n",
       "5 Residuals      48.595533392 135           NA           NA 5.000000e-01"
      ]
     },
     "metadata": {},
     "output_type": "display_data"
    }
   ],
   "source": [
    "test <- subset(mydata, variable == \"Width\")\n",
    "lm1 = lm(main\n",
    "        ~  cvs_table_only + cvs_graph + pre + sim_index,\n",
    "         data=test)\n",
    "results1 = Anova(lm1, type=2)\n",
    "results_table1 = tidy(results1)\n",
    "results_table1$eta <- results_table1$sumsq/(results_table1$sumsq + results_table1$sumsq[dim(results_table1)[1]])\n",
    "results_table1"
   ]
  },
  {
   "cell_type": "markdown",
   "metadata": {},
   "source": [
    "### For Area without interaction"
   ]
  },
  {
   "cell_type": "code",
   "execution_count": 9,
   "metadata": {},
   "outputs": [
    {
     "data": {
      "text/html": [
       "<table>\n",
       "<thead><tr><th scope=col>term</th><th scope=col>sumsq</th><th scope=col>df</th><th scope=col>statistic</th><th scope=col>p.value</th><th scope=col>eta</th></tr></thead>\n",
       "<tbody>\n",
       "\t<tr><td>cvs_table_only</td><td> 0.13427005   </td><td>  1           </td><td> 0.4213590    </td><td>5.173961e-01  </td><td>0.0032061687  </td></tr>\n",
       "\t<tr><td>cvs_graph     </td><td> 6.43611111   </td><td>  1           </td><td>20.1974579    </td><td>1.519191e-05  </td><td>0.1335833167  </td></tr>\n",
       "\t<tr><td>pre           </td><td> 0.86726624   </td><td>  1           </td><td> 2.7216083    </td><td>1.013940e-01  </td><td>0.0203527936  </td></tr>\n",
       "\t<tr><td>sim_index     </td><td> 0.03383323   </td><td>  1           </td><td> 0.1061736    </td><td>7.450631e-01  </td><td>0.0008098293  </td></tr>\n",
       "\t<tr><td>Residuals     </td><td>41.74438974   </td><td>131           </td><td>        NA    </td><td>          NA  </td><td>0.5000000000  </td></tr>\n",
       "</tbody>\n",
       "</table>\n"
      ],
      "text/latex": [
       "\\begin{tabular}{r|llllll}\n",
       " term & sumsq & df & statistic & p.value & eta\\\\\n",
       "\\hline\n",
       "\t cvs\\_table\\_only &  0.13427005        &   1                &  0.4213590         & 5.173961e-01       & 0.0032061687      \\\\\n",
       "\t cvs\\_graph      &  6.43611111      &   1              & 20.1974579       & 1.519191e-05     & 0.1335833167    \\\\\n",
       "\t pre            &  0.86726624    &   1            &  2.7216083     & 1.013940e-01   & 0.0203527936  \\\\\n",
       "\t sim\\_index      &  0.03383323      &   1              &  0.1061736       & 7.450631e-01     & 0.0008098293    \\\\\n",
       "\t Residuals      & 41.74438974    & 131            &         NA     &           NA   & 0.5000000000  \\\\\n",
       "\\end{tabular}\n"
      ],
      "text/markdown": [
       "\n",
       "term | sumsq | df | statistic | p.value | eta | \n",
       "|---|---|---|---|---|\n",
       "| cvs_table_only |  0.13427005    |   1            |  0.4213590     | 5.173961e-01   | 0.0032061687   | \n",
       "| cvs_graph      |  6.43611111    |   1            | 20.1974579     | 1.519191e-05   | 0.1335833167   | \n",
       "| pre            |  0.86726624    |   1            |  2.7216083     | 1.013940e-01   | 0.0203527936   | \n",
       "| sim_index      |  0.03383323    |   1            |  0.1061736     | 7.450631e-01   | 0.0008098293   | \n",
       "| Residuals      | 41.74438974    | 131            |         NA     |           NA   | 0.5000000000   | \n",
       "\n",
       "\n"
      ],
      "text/plain": [
       "  term           sumsq       df  statistic  p.value      eta         \n",
       "1 cvs_table_only  0.13427005   1  0.4213590 5.173961e-01 0.0032061687\n",
       "2 cvs_graph       6.43611111   1 20.1974579 1.519191e-05 0.1335833167\n",
       "3 pre             0.86726624   1  2.7216083 1.013940e-01 0.0203527936\n",
       "4 sim_index       0.03383323   1  0.1061736 7.450631e-01 0.0008098293\n",
       "5 Residuals      41.74438974 131         NA           NA 0.5000000000"
      ]
     },
     "metadata": {},
     "output_type": "display_data"
    }
   ],
   "source": [
    "test <- subset(mydata, variable == \"Area\")\n",
    "lm1 = lm(main\n",
    "        ~  cvs_table_only + cvs_graph + pre + sim_index,\n",
    "         data=test)\n",
    "results1 = Anova(lm1, type=2)\n",
    "results_table1 = tidy(results1)\n",
    "results_table1$eta <- results_table1$sumsq/(results_table1$sumsq + results_table1$sumsq[dim(results_table1)[1]])\n",
    "results_table1"
   ]
  },
  {
   "cell_type": "markdown",
   "metadata": {},
   "source": [
    "### For Concentration without interaction"
   ]
  },
  {
   "cell_type": "code",
   "execution_count": 10,
   "metadata": {},
   "outputs": [
    {
     "data": {
      "text/html": [
       "<table>\n",
       "<thead><tr><th scope=col>term</th><th scope=col>sumsq</th><th scope=col>df</th><th scope=col>statistic</th><th scope=col>p.value</th><th scope=col>eta</th></tr></thead>\n",
       "<tbody>\n",
       "\t<tr><td>cvs_table_only</td><td> 0.001731068  </td><td>  1           </td><td> 0.005176852  </td><td>9.427520e-01  </td><td>3.982035e-05  </td></tr>\n",
       "\t<tr><td>cvs_graph     </td><td> 6.757247108  </td><td>  1           </td><td>20.207910550  </td><td>1.520275e-05  </td><td>1.345329e-01  </td></tr>\n",
       "\t<tr><td>pre           </td><td> 0.507002020  </td><td>  1           </td><td> 1.516216782  </td><td>2.204158e-01  </td><td>1.152874e-02  </td></tr>\n",
       "\t<tr><td>sim_index     </td><td> 2.048674243  </td><td>  1           </td><td> 6.126670400  </td><td>1.460262e-02  </td><td>4.500713e-02  </td></tr>\n",
       "\t<tr><td>Residuals     </td><td>43.470210433  </td><td>130           </td><td>          NA  </td><td>          NA  </td><td>5.000000e-01  </td></tr>\n",
       "</tbody>\n",
       "</table>\n"
      ],
      "text/latex": [
       "\\begin{tabular}{r|llllll}\n",
       " term & sumsq & df & statistic & p.value & eta\\\\\n",
       "\\hline\n",
       "\t cvs\\_table\\_only &  0.001731068       &   1                &  0.005176852       & 9.427520e-01       & 3.982035e-05      \\\\\n",
       "\t cvs\\_graph      &  6.757247108     &   1              & 20.207910550     & 1.520275e-05     & 1.345329e-01    \\\\\n",
       "\t pre            &  0.507002020   &   1            &  1.516216782   & 2.204158e-01   & 1.152874e-02  \\\\\n",
       "\t sim\\_index      &  2.048674243     &   1              &  6.126670400     & 1.460262e-02     & 4.500713e-02    \\\\\n",
       "\t Residuals      & 43.470210433   & 130            &           NA   &           NA   & 5.000000e-01  \\\\\n",
       "\\end{tabular}\n"
      ],
      "text/markdown": [
       "\n",
       "term | sumsq | df | statistic | p.value | eta | \n",
       "|---|---|---|---|---|\n",
       "| cvs_table_only |  0.001731068   |   1            |  0.005176852   | 9.427520e-01   | 3.982035e-05   | \n",
       "| cvs_graph      |  6.757247108   |   1            | 20.207910550   | 1.520275e-05   | 1.345329e-01   | \n",
       "| pre            |  0.507002020   |   1            |  1.516216782   | 2.204158e-01   | 1.152874e-02   | \n",
       "| sim_index      |  2.048674243   |   1            |  6.126670400   | 1.460262e-02   | 4.500713e-02   | \n",
       "| Residuals      | 43.470210433   | 130            |           NA   |           NA   | 5.000000e-01   | \n",
       "\n",
       "\n"
      ],
      "text/plain": [
       "  term           sumsq        df  statistic    p.value      eta         \n",
       "1 cvs_table_only  0.001731068   1  0.005176852 9.427520e-01 3.982035e-05\n",
       "2 cvs_graph       6.757247108   1 20.207910550 1.520275e-05 1.345329e-01\n",
       "3 pre             0.507002020   1  1.516216782 2.204158e-01 1.152874e-02\n",
       "4 sim_index       2.048674243   1  6.126670400 1.460262e-02 4.500713e-02\n",
       "5 Residuals      43.470210433 130           NA           NA 5.000000e-01"
      ]
     },
     "metadata": {},
     "output_type": "display_data"
    }
   ],
   "source": [
    "test <- subset(mydata, variable == \"Concentration\")\n",
    "lm1 = lm(main\n",
    "        ~  cvs_table_only + cvs_graph + pre + sim_index,\n",
    "         data=test)\n",
    "results1 = Anova(lm1, type=2)\n",
    "results_table1 = tidy(results1)\n",
    "results_table1$eta <- results_table1$sumsq/(results_table1$sumsq + results_table1$sumsq[dim(results_table1)[1]])\n",
    "results_table1"
   ]
  },
  {
   "cell_type": "markdown",
   "metadata": {},
   "source": [
    "### For Separation without interaction"
   ]
  },
  {
   "cell_type": "code",
   "execution_count": 11,
   "metadata": {},
   "outputs": [
    {
     "data": {
      "text/html": [
       "<table>\n",
       "<thead><tr><th scope=col>term</th><th scope=col>sumsq</th><th scope=col>df</th><th scope=col>statistic</th><th scope=col>p.value</th><th scope=col>eta</th></tr></thead>\n",
       "<tbody>\n",
       "\t<tr><td>cvs_table_only</td><td> 0.08258145   </td><td>  1           </td><td>0.2260558     </td><td>0.6352439     </td><td>0.001696784   </td></tr>\n",
       "\t<tr><td>cvs_graph     </td><td> 0.90022731   </td><td>  1           </td><td>2.4642535     </td><td>0.1188391     </td><td>0.018191172   </td></tr>\n",
       "\t<tr><td>pre           </td><td> 0.76145678   </td><td>  1           </td><td>2.0843875     </td><td>0.1511633     </td><td>0.015430262   </td></tr>\n",
       "\t<tr><td>sim_index     </td><td> 0.35528444   </td><td>  1           </td><td>0.9725443     </td><td>0.3258371     </td><td>0.007259280   </td></tr>\n",
       "\t<tr><td>Residuals     </td><td>48.58681664   </td><td>133           </td><td>       NA     </td><td>       NA     </td><td>0.500000000   </td></tr>\n",
       "</tbody>\n",
       "</table>\n"
      ],
      "text/latex": [
       "\\begin{tabular}{r|llllll}\n",
       " term & sumsq & df & statistic & p.value & eta\\\\\n",
       "\\hline\n",
       "\t cvs\\_table\\_only &  0.08258145        &   1                & 0.2260558          & 0.6352439          & 0.001696784       \\\\\n",
       "\t cvs\\_graph      &  0.90022731      &   1              & 2.4642535        & 0.1188391        & 0.018191172     \\\\\n",
       "\t pre            &  0.76145678    &   1            & 2.0843875      & 0.1511633      & 0.015430262   \\\\\n",
       "\t sim\\_index      &  0.35528444      &   1              & 0.9725443        & 0.3258371        & 0.007259280     \\\\\n",
       "\t Residuals      & 48.58681664    & 133            &        NA      &        NA      & 0.500000000   \\\\\n",
       "\\end{tabular}\n"
      ],
      "text/markdown": [
       "\n",
       "term | sumsq | df | statistic | p.value | eta | \n",
       "|---|---|---|---|---|\n",
       "| cvs_table_only |  0.08258145    |   1            | 0.2260558      | 0.6352439      | 0.001696784    | \n",
       "| cvs_graph      |  0.90022731    |   1            | 2.4642535      | 0.1188391      | 0.018191172    | \n",
       "| pre            |  0.76145678    |   1            | 2.0843875      | 0.1511633      | 0.015430262    | \n",
       "| sim_index      |  0.35528444    |   1            | 0.9725443      | 0.3258371      | 0.007259280    | \n",
       "| Residuals      | 48.58681664    | 133            |        NA      |        NA      | 0.500000000    | \n",
       "\n",
       "\n"
      ],
      "text/plain": [
       "  term           sumsq       df  statistic p.value   eta        \n",
       "1 cvs_table_only  0.08258145   1 0.2260558 0.6352439 0.001696784\n",
       "2 cvs_graph       0.90022731   1 2.4642535 0.1188391 0.018191172\n",
       "3 pre             0.76145678   1 2.0843875 0.1511633 0.015430262\n",
       "4 sim_index       0.35528444   1 0.9725443 0.3258371 0.007259280\n",
       "5 Residuals      48.58681664 133        NA        NA 0.500000000"
      ]
     },
     "metadata": {},
     "output_type": "display_data"
    }
   ],
   "source": [
    "test <- subset(mydata, variable == \"Separation\")\n",
    "lm1 = lm(main\n",
    "        ~  cvs_table_only + cvs_graph + pre + sim_index,\n",
    "         data=test)\n",
    "results1 = Anova(lm1, type=2)\n",
    "results_table1 = tidy(results1)\n",
    "results_table1$eta <- results_table1$sumsq/(results_table1$sumsq + results_table1$sumsq[dim(results_table1)[1]])\n",
    "results_table1"
   ]
  },
  {
   "cell_type": "markdown",
   "metadata": {},
   "source": [
    "### For Width with interaction"
   ]
  },
  {
   "cell_type": "code",
   "execution_count": 12,
   "metadata": {
    "scrolled": true
   },
   "outputs": [
    {
     "data": {
      "text/html": [
       "<table>\n",
       "<thead><tr><th scope=col>term</th><th scope=col>sumsq</th><th scope=col>df</th><th scope=col>statistic</th><th scope=col>p.value</th><th scope=col>eta</th></tr></thead>\n",
       "<tbody>\n",
       "\t<tr><td>cvs_table_only    </td><td> 1.784553299      </td><td>  1               </td><td> 4.891344806      </td><td>2.869904e-02      </td><td>3.547246e-02      </td></tr>\n",
       "\t<tr><td>pre               </td><td> 0.002772954      </td><td>  1               </td><td> 0.007600487      </td><td>9.306589e-01      </td><td>5.714325e-05      </td></tr>\n",
       "\t<tr><td>cvs_graph         </td><td>10.965427970      </td><td>  1               </td><td>30.055526608      </td><td>2.036985e-07      </td><td>1.843269e-01      </td></tr>\n",
       "\t<tr><td>sim_index         </td><td> 1.937525446      </td><td>  1               </td><td> 5.310631537      </td><td>2.274507e-02      </td><td>3.839641e-02      </td></tr>\n",
       "\t<tr><td>cvs_table_only:pre</td><td> 0.070479509      </td><td>  1               </td><td> 0.193179763      </td><td>6.609965e-01      </td><td>1.450373e-03      </td></tr>\n",
       "\t<tr><td>pre:cvs_graph     </td><td> 0.029027102      </td><td>  1               </td><td> 0.079561403      </td><td>7.783311e-01      </td><td>5.978484e-04      </td></tr>\n",
       "\t<tr><td>Residuals         </td><td>48.523585665      </td><td>133               </td><td>          NA      </td><td>          NA      </td><td>5.000000e-01      </td></tr>\n",
       "</tbody>\n",
       "</table>\n"
      ],
      "text/latex": [
       "\\begin{tabular}{r|llllll}\n",
       " term & sumsq & df & statistic & p.value & eta\\\\\n",
       "\\hline\n",
       "\t cvs\\_table\\_only     &  1.784553299           &   1                    &  4.891344806           & 2.869904e-02           & 3.547246e-02          \\\\\n",
       "\t pre                &  0.002772954       &   1                &  0.007600487       & 9.306589e-01       & 5.714325e-05      \\\\\n",
       "\t cvs\\_graph          & 10.965427970         &   1                  & 30.055526608         & 2.036985e-07         & 1.843269e-01        \\\\\n",
       "\t sim\\_index          &  1.937525446         &   1                  &  5.310631537         & 2.274507e-02         & 3.839641e-02        \\\\\n",
       "\t cvs\\_table\\_only:pre &  0.070479509           &   1                    &  0.193179763           & 6.609965e-01           & 1.450373e-03          \\\\\n",
       "\t pre:cvs\\_graph      &  0.029027102         &   1                  &  0.079561403         & 7.783311e-01         & 5.978484e-04        \\\\\n",
       "\t Residuals          & 48.523585665       & 133                &           NA       &           NA       & 5.000000e-01      \\\\\n",
       "\\end{tabular}\n"
      ],
      "text/markdown": [
       "\n",
       "term | sumsq | df | statistic | p.value | eta | \n",
       "|---|---|---|---|---|---|---|\n",
       "| cvs_table_only     |  1.784553299       |   1                |  4.891344806       | 2.869904e-02       | 3.547246e-02       | \n",
       "| pre                |  0.002772954       |   1                |  0.007600487       | 9.306589e-01       | 5.714325e-05       | \n",
       "| cvs_graph          | 10.965427970       |   1                | 30.055526608       | 2.036985e-07       | 1.843269e-01       | \n",
       "| sim_index          |  1.937525446       |   1                |  5.310631537       | 2.274507e-02       | 3.839641e-02       | \n",
       "| cvs_table_only:pre |  0.070479509       |   1                |  0.193179763       | 6.609965e-01       | 1.450373e-03       | \n",
       "| pre:cvs_graph      |  0.029027102       |   1                |  0.079561403       | 7.783311e-01       | 5.978484e-04       | \n",
       "| Residuals          | 48.523585665       | 133                |           NA       |           NA       | 5.000000e-01       | \n",
       "\n",
       "\n"
      ],
      "text/plain": [
       "  term               sumsq        df  statistic    p.value      eta         \n",
       "1 cvs_table_only      1.784553299   1  4.891344806 2.869904e-02 3.547246e-02\n",
       "2 pre                 0.002772954   1  0.007600487 9.306589e-01 5.714325e-05\n",
       "3 cvs_graph          10.965427970   1 30.055526608 2.036985e-07 1.843269e-01\n",
       "4 sim_index           1.937525446   1  5.310631537 2.274507e-02 3.839641e-02\n",
       "5 cvs_table_only:pre  0.070479509   1  0.193179763 6.609965e-01 1.450373e-03\n",
       "6 pre:cvs_graph       0.029027102   1  0.079561403 7.783311e-01 5.978484e-04\n",
       "7 Residuals          48.523585665 133           NA           NA 5.000000e-01"
      ]
     },
     "metadata": {},
     "output_type": "display_data"
    }
   ],
   "source": [
    "test <- subset(mydata, variable == \"Width\")\n",
    "lm1 = lm(main\n",
    "        ~  cvs_table_only*pre + cvs_graph*pre + sim_index,\n",
    "         data=test)\n",
    "results1 = Anova(lm1, type=2)\n",
    "results_table1 = tidy(results1)\n",
    "results_table1$eta <- results_table1$sumsq/(results_table1$sumsq + results_table1$sumsq[dim(results_table1)[1]])\n",
    "results_table1"
   ]
  },
  {
   "cell_type": "markdown",
   "metadata": {},
   "source": [
    "### For Area  with interaction"
   ]
  },
  {
   "cell_type": "code",
   "execution_count": 13,
   "metadata": {},
   "outputs": [
    {
     "data": {
      "text/html": [
       "<table>\n",
       "<thead><tr><th scope=col>term</th><th scope=col>sumsq</th><th scope=col>df</th><th scope=col>statistic</th><th scope=col>p.value</th><th scope=col>eta</th></tr></thead>\n",
       "<tbody>\n",
       "\t<tr><td>cvs_table_only    </td><td> 0.09088440       </td><td>  1               </td><td> 0.29793427       </td><td>0.586123028       </td><td>0.0023042462      </td></tr>\n",
       "\t<tr><td>pre               </td><td> 0.86726624       </td><td>  1               </td><td> 2.84304387       </td><td>0.094187396       </td><td>0.0215638519      </td></tr>\n",
       "\t<tr><td>cvs_graph         </td><td> 6.20267166       </td><td>  1               </td><td>20.33339573       </td><td>0.000014445       </td><td>0.1361610752      </td></tr>\n",
       "\t<tr><td>sim_index         </td><td> 0.01571997       </td><td>  1               </td><td> 0.05153269       </td><td>0.820776780       </td><td>0.0003993187      </td></tr>\n",
       "\t<tr><td>cvs_table_only:pre</td><td> 0.80404013       </td><td>  1               </td><td> 2.63577811       </td><td>0.106922041       </td><td>0.0200232653      </td></tr>\n",
       "\t<tr><td>pre:cvs_graph     </td><td> 0.77389531       </td><td>  1               </td><td> 2.53695835       </td><td>0.113656256       </td><td>0.0192870383      </td></tr>\n",
       "\t<tr><td>Residuals         </td><td>39.35125516       </td><td>129               </td><td>         NA       </td><td>         NA       </td><td>0.5000000000      </td></tr>\n",
       "</tbody>\n",
       "</table>\n"
      ],
      "text/latex": [
       "\\begin{tabular}{r|llllll}\n",
       " term & sumsq & df & statistic & p.value & eta\\\\\n",
       "\\hline\n",
       "\t cvs\\_table\\_only     &  0.09088440            &   1                    &  0.29793427            & 0.586123028            & 0.0023042462          \\\\\n",
       "\t pre                &  0.86726624        &   1                &  2.84304387        & 0.094187396        & 0.0215638519      \\\\\n",
       "\t cvs\\_graph          &  6.20267166          &   1                  & 20.33339573          & 0.000014445          & 0.1361610752        \\\\\n",
       "\t sim\\_index          &  0.01571997          &   1                  &  0.05153269          & 0.820776780          & 0.0003993187        \\\\\n",
       "\t cvs\\_table\\_only:pre &  0.80404013            &   1                    &  2.63577811            & 0.106922041            & 0.0200232653          \\\\\n",
       "\t pre:cvs\\_graph      &  0.77389531          &   1                  &  2.53695835          & 0.113656256          & 0.0192870383        \\\\\n",
       "\t Residuals          & 39.35125516        & 129                &          NA        &          NA        & 0.5000000000      \\\\\n",
       "\\end{tabular}\n"
      ],
      "text/markdown": [
       "\n",
       "term | sumsq | df | statistic | p.value | eta | \n",
       "|---|---|---|---|---|---|---|\n",
       "| cvs_table_only     |  0.09088440        |   1                |  0.29793427        | 0.586123028        | 0.0023042462       | \n",
       "| pre                |  0.86726624        |   1                |  2.84304387        | 0.094187396        | 0.0215638519       | \n",
       "| cvs_graph          |  6.20267166        |   1                | 20.33339573        | 0.000014445        | 0.1361610752       | \n",
       "| sim_index          |  0.01571997        |   1                |  0.05153269        | 0.820776780        | 0.0003993187       | \n",
       "| cvs_table_only:pre |  0.80404013        |   1                |  2.63577811        | 0.106922041        | 0.0200232653       | \n",
       "| pre:cvs_graph      |  0.77389531        |   1                |  2.53695835        | 0.113656256        | 0.0192870383       | \n",
       "| Residuals          | 39.35125516        | 129                |          NA        |          NA        | 0.5000000000       | \n",
       "\n",
       "\n"
      ],
      "text/plain": [
       "  term               sumsq       df  statistic   p.value     eta         \n",
       "1 cvs_table_only      0.09088440   1  0.29793427 0.586123028 0.0023042462\n",
       "2 pre                 0.86726624   1  2.84304387 0.094187396 0.0215638519\n",
       "3 cvs_graph           6.20267166   1 20.33339573 0.000014445 0.1361610752\n",
       "4 sim_index           0.01571997   1  0.05153269 0.820776780 0.0003993187\n",
       "5 cvs_table_only:pre  0.80404013   1  2.63577811 0.106922041 0.0200232653\n",
       "6 pre:cvs_graph       0.77389531   1  2.53695835 0.113656256 0.0192870383\n",
       "7 Residuals          39.35125516 129          NA          NA 0.5000000000"
      ]
     },
     "metadata": {},
     "output_type": "display_data"
    }
   ],
   "source": [
    "test <- subset(mydata, variable == \"Area\")\n",
    "lm1 = lm(main\n",
    "        ~  cvs_table_only*pre + cvs_graph*pre + sim_index,\n",
    "         data=test)\n",
    "results1 = Anova(lm1, type=2)\n",
    "results_table1 = tidy(results1)\n",
    "results_table1$eta <- results_table1$sumsq/(results_table1$sumsq + results_table1$sumsq[dim(results_table1)[1]])\n",
    "results_table1"
   ]
  },
  {
   "cell_type": "markdown",
   "metadata": {},
   "source": [
    "### For Concentration with interaction"
   ]
  },
  {
   "cell_type": "code",
   "execution_count": 14,
   "metadata": {},
   "outputs": [
    {
     "data": {
      "text/html": [
       "<table>\n",
       "<thead><tr><th scope=col>term</th><th scope=col>sumsq</th><th scope=col>df</th><th scope=col>statistic</th><th scope=col>p.value</th><th scope=col>eta</th></tr></thead>\n",
       "<tbody>\n",
       "\t<tr><td>cvs_table_only    </td><td>1.378535e-03      </td><td>  1               </td><td>4.061585e-03      </td><td>9.492842e-01      </td><td>3.173012e-05      </td></tr>\n",
       "\t<tr><td>pre               </td><td>5.070020e-01      </td><td>  1               </td><td>1.493783e+00      </td><td>2.238763e-01      </td><td>1.153556e-02      </td></tr>\n",
       "\t<tr><td>cvs_graph         </td><td>6.766789e+00      </td><td>  1               </td><td>1.993703e+01      </td><td>1.737392e-05      </td><td>1.347670e-01      </td></tr>\n",
       "\t<tr><td>sim_index         </td><td>1.990416e+00      </td><td>  1               </td><td>5.864376e+00      </td><td>1.685190e-02      </td><td>4.380834e-02      </td></tr>\n",
       "\t<tr><td>cvs_table_only:pre</td><td>2.372703e-02      </td><td>  1               </td><td>6.990708e-02      </td><td>7.918974e-01      </td><td>5.458509e-04      </td></tr>\n",
       "\t<tr><td>pre:cvs_graph     </td><td>8.594135e-05      </td><td>  1               </td><td>2.532095e-04      </td><td>9.873289e-01      </td><td>1.978195e-06      </td></tr>\n",
       "\t<tr><td>Residuals         </td><td>4.344423e+01      </td><td>128               </td><td>          NA      </td><td>          NA      </td><td>5.000000e-01      </td></tr>\n",
       "</tbody>\n",
       "</table>\n"
      ],
      "text/latex": [
       "\\begin{tabular}{r|llllll}\n",
       " term & sumsq & df & statistic & p.value & eta\\\\\n",
       "\\hline\n",
       "\t cvs\\_table\\_only     & 1.378535e-03           &   1                    & 4.061585e-03           & 9.492842e-01           & 3.173012e-05          \\\\\n",
       "\t pre                & 5.070020e-01       &   1                & 1.493783e+00       & 2.238763e-01       & 1.153556e-02      \\\\\n",
       "\t cvs\\_graph          & 6.766789e+00         &   1                  & 1.993703e+01         & 1.737392e-05         & 1.347670e-01        \\\\\n",
       "\t sim\\_index          & 1.990416e+00         &   1                  & 5.864376e+00         & 1.685190e-02         & 4.380834e-02        \\\\\n",
       "\t cvs\\_table\\_only:pre & 2.372703e-02           &   1                    & 6.990708e-02           & 7.918974e-01           & 5.458509e-04          \\\\\n",
       "\t pre:cvs\\_graph      & 8.594135e-05         &   1                  & 2.532095e-04         & 9.873289e-01         & 1.978195e-06        \\\\\n",
       "\t Residuals          & 4.344423e+01       & 128                &           NA       &           NA       & 5.000000e-01      \\\\\n",
       "\\end{tabular}\n"
      ],
      "text/markdown": [
       "\n",
       "term | sumsq | df | statistic | p.value | eta | \n",
       "|---|---|---|---|---|---|---|\n",
       "| cvs_table_only     | 1.378535e-03       |   1                | 4.061585e-03       | 9.492842e-01       | 3.173012e-05       | \n",
       "| pre                | 5.070020e-01       |   1                | 1.493783e+00       | 2.238763e-01       | 1.153556e-02       | \n",
       "| cvs_graph          | 6.766789e+00       |   1                | 1.993703e+01       | 1.737392e-05       | 1.347670e-01       | \n",
       "| sim_index          | 1.990416e+00       |   1                | 5.864376e+00       | 1.685190e-02       | 4.380834e-02       | \n",
       "| cvs_table_only:pre | 2.372703e-02       |   1                | 6.990708e-02       | 7.918974e-01       | 5.458509e-04       | \n",
       "| pre:cvs_graph      | 8.594135e-05       |   1                | 2.532095e-04       | 9.873289e-01       | 1.978195e-06       | \n",
       "| Residuals          | 4.344423e+01       | 128                |           NA       |           NA       | 5.000000e-01       | \n",
       "\n",
       "\n"
      ],
      "text/plain": [
       "  term               sumsq        df  statistic    p.value      eta         \n",
       "1 cvs_table_only     1.378535e-03   1 4.061585e-03 9.492842e-01 3.173012e-05\n",
       "2 pre                5.070020e-01   1 1.493783e+00 2.238763e-01 1.153556e-02\n",
       "3 cvs_graph          6.766789e+00   1 1.993703e+01 1.737392e-05 1.347670e-01\n",
       "4 sim_index          1.990416e+00   1 5.864376e+00 1.685190e-02 4.380834e-02\n",
       "5 cvs_table_only:pre 2.372703e-02   1 6.990708e-02 7.918974e-01 5.458509e-04\n",
       "6 pre:cvs_graph      8.594135e-05   1 2.532095e-04 9.873289e-01 1.978195e-06\n",
       "7 Residuals          4.344423e+01 128           NA           NA 5.000000e-01"
      ]
     },
     "metadata": {},
     "output_type": "display_data"
    }
   ],
   "source": [
    "test <- subset(mydata, variable == \"Concentration\")\n",
    "lm1 = lm(main\n",
    "        ~  cvs_table_only*pre + cvs_graph*pre + sim_index,\n",
    "         data=test)\n",
    "results1 = Anova(lm1, type=2)\n",
    "results_table1 = tidy(results1)\n",
    "results_table1$eta <- results_table1$sumsq/(results_table1$sumsq + results_table1$sumsq[dim(results_table1)[1]])\n",
    "results_table1"
   ]
  },
  {
   "cell_type": "markdown",
   "metadata": {},
   "source": [
    "### For Separation with interaction"
   ]
  },
  {
   "cell_type": "code",
   "execution_count": 15,
   "metadata": {},
   "outputs": [
    {
     "data": {
      "text/html": [
       "<table>\n",
       "<thead><tr><th scope=col>term</th><th scope=col>sumsq</th><th scope=col>df</th><th scope=col>statistic</th><th scope=col>p.value</th><th scope=col>eta</th></tr></thead>\n",
       "<tbody>\n",
       "\t<tr><td>cvs_table_only    </td><td> 0.078825521      </td><td>  1               </td><td>0.21259614        </td><td>0.6455047         </td><td>0.0016202419      </td></tr>\n",
       "\t<tr><td>pre               </td><td> 0.761456782      </td><td>  1               </td><td>2.05368479        </td><td>0.1542205         </td><td>0.0154350087      </td></tr>\n",
       "\t<tr><td>cvs_graph         </td><td> 0.898950741      </td><td>  1               </td><td>2.42451247        </td><td>0.1218630         </td><td>0.0181714171      </td></tr>\n",
       "\t<tr><td>sim_index         </td><td> 0.327733253      </td><td>  1               </td><td>0.88391201        </td><td>0.3488628         </td><td>0.0067021974      </td></tr>\n",
       "\t<tr><td>cvs_table_only:pre</td><td> 0.005427385      </td><td>  1               </td><td>0.01463791        </td><td>0.9038865         </td><td>0.0001117273      </td></tr>\n",
       "\t<tr><td>pre:cvs_graph     </td><td> 0.013800705      </td><td>  1               </td><td>0.03722115        </td><td>0.8473143         </td><td>0.0002840502      </td></tr>\n",
       "\t<tr><td>Residuals         </td><td>48.571640181      </td><td>131               </td><td>        NA        </td><td>       NA         </td><td>0.5000000000      </td></tr>\n",
       "</tbody>\n",
       "</table>\n"
      ],
      "text/latex": [
       "\\begin{tabular}{r|llllll}\n",
       " term & sumsq & df & statistic & p.value & eta\\\\\n",
       "\\hline\n",
       "\t cvs\\_table\\_only     &  0.078825521           &   1                    & 0.21259614             & 0.6455047              & 0.0016202419          \\\\\n",
       "\t pre                &  0.761456782       &   1                & 2.05368479         & 0.1542205          & 0.0154350087      \\\\\n",
       "\t cvs\\_graph          &  0.898950741         &   1                  & 2.42451247           & 0.1218630            & 0.0181714171        \\\\\n",
       "\t sim\\_index          &  0.327733253         &   1                  & 0.88391201           & 0.3488628            & 0.0067021974        \\\\\n",
       "\t cvs\\_table\\_only:pre &  0.005427385           &   1                    & 0.01463791             & 0.9038865              & 0.0001117273          \\\\\n",
       "\t pre:cvs\\_graph      &  0.013800705         &   1                  & 0.03722115           & 0.8473143            & 0.0002840502        \\\\\n",
       "\t Residuals          & 48.571640181       & 131                &         NA         &        NA          & 0.5000000000      \\\\\n",
       "\\end{tabular}\n"
      ],
      "text/markdown": [
       "\n",
       "term | sumsq | df | statistic | p.value | eta | \n",
       "|---|---|---|---|---|---|---|\n",
       "| cvs_table_only     |  0.078825521       |   1                | 0.21259614         | 0.6455047          | 0.0016202419       | \n",
       "| pre                |  0.761456782       |   1                | 2.05368479         | 0.1542205          | 0.0154350087       | \n",
       "| cvs_graph          |  0.898950741       |   1                | 2.42451247         | 0.1218630          | 0.0181714171       | \n",
       "| sim_index          |  0.327733253       |   1                | 0.88391201         | 0.3488628          | 0.0067021974       | \n",
       "| cvs_table_only:pre |  0.005427385       |   1                | 0.01463791         | 0.9038865          | 0.0001117273       | \n",
       "| pre:cvs_graph      |  0.013800705       |   1                | 0.03722115         | 0.8473143          | 0.0002840502       | \n",
       "| Residuals          | 48.571640181       | 131                |         NA         |        NA          | 0.5000000000       | \n",
       "\n",
       "\n"
      ],
      "text/plain": [
       "  term               sumsq        df  statistic  p.value   eta         \n",
       "1 cvs_table_only      0.078825521   1 0.21259614 0.6455047 0.0016202419\n",
       "2 pre                 0.761456782   1 2.05368479 0.1542205 0.0154350087\n",
       "3 cvs_graph           0.898950741   1 2.42451247 0.1218630 0.0181714171\n",
       "4 sim_index           0.327733253   1 0.88391201 0.3488628 0.0067021974\n",
       "5 cvs_table_only:pre  0.005427385   1 0.01463791 0.9038865 0.0001117273\n",
       "6 pre:cvs_graph       0.013800705   1 0.03722115 0.8473143 0.0002840502\n",
       "7 Residuals          48.571640181 131         NA        NA 0.5000000000"
      ]
     },
     "metadata": {},
     "output_type": "display_data"
    }
   ],
   "source": [
    "test <- subset(mydata, variable == \"Separation\")\n",
    "lm1 = lm(main\n",
    "        ~  cvs_table_only*pre + cvs_graph*pre + sim_index,\n",
    "         data=test)\n",
    "results1 = Anova(lm1, type=2)\n",
    "results_table1 = tidy(results1)\n",
    "results_table1$eta <- results_table1$sumsq/(results_table1$sumsq + results_table1$sumsq[dim(results_table1)[1]])\n",
    "results_table1"
   ]
  },
  {
   "cell_type": "code",
   "execution_count": 16,
   "metadata": {},
   "outputs": [
    {
     "data": {
      "text/html": [
       "<strong>main:</strong> 1.18840579710145"
      ],
      "text/latex": [
       "\\textbf{main:} 1.18840579710145"
      ],
      "text/markdown": [
       "**main:** 1.18840579710145"
      ],
      "text/plain": [
       "    main \n",
       "1.188406 "
      ]
     },
     "metadata": {},
     "output_type": "display_data"
    }
   ],
   "source": [
    "colMeans(test[\"main\"])"
   ]
  },
  {
   "cell_type": "markdown",
   "metadata": {},
   "source": [
    "# Stat model 2: Predicting transfer data"
   ]
  },
  {
   "cell_type": "markdown",
   "metadata": {},
   "source": [
    "## Excluding student main worksheet score"
   ]
  },
  {
   "cell_type": "markdown",
   "metadata": {},
   "source": [
    "### Complete model with interactions"
   ]
  },
  {
   "cell_type": "markdown",
   "metadata": {},
   "source": [
    "Our model is:\n",
    "\n",
    "    quant_score  ~  cvs_table_only*variable + cvs_graph*variable\n",
    "             + cvs_table_only*pre + cvs_graph*pre\n",
    "             + sim_index + sid\n",
    "             \n",
    "We run a logistic regression:"
   ]
  },
  {
   "cell_type": "code",
   "execution_count": 17,
   "metadata": {},
   "outputs": [
    {
     "name": "stderr",
     "output_type": "stream",
     "text": [
      "\n",
      "Correlation matrix not shown by default, as p = 16 > 12.\n",
      "Use print(obj, correlation=TRUE)  or\n",
      "\t vcov(obj)\t if you need it\n",
      "\n"
     ]
    },
    {
     "data": {
      "text/plain": [
       "Generalized linear mixed model fit by maximum likelihood (Adaptive\n",
       "  Gauss-Hermite Quadrature, nAGQ = 10) [glmerMod]\n",
       " Family: binomial  ( logit )\n",
       "Formula: quant_score ~ cvs_table_only * variable + cvs_graph * variable +  \n",
       "    cvs_table_only * pre + cvs_graph * pre + sim_index + (1 |      sid)\n",
       "   Data: mydata\n",
       "Control: glmerControl(optimizer = \"bobyqa\")\n",
       "\n",
       "     AIC      BIC   logLik deviance df.resid \n",
       "   644.3    717.6   -305.2    610.3      532 \n",
       "\n",
       "Scaled residuals: \n",
       "    Min      1Q  Median      3Q     Max \n",
       "-2.7498 -0.5006  0.2947  0.4849  1.2801 \n",
       "\n",
       "Random effects:\n",
       " Groups Name        Variance Std.Dev.\n",
       " sid    (Intercept) 3.612    1.9     \n",
       "Number of obs: 549, groups:  sid, 147\n",
       "\n",
       "Fixed effects:\n",
       "                                      Estimate Std. Error z value Pr(>|z|)  \n",
       "(Intercept)                            1.15239    0.46688   2.468   0.0136 *\n",
       "cvs_table_only1                        0.29186    0.79386   0.368   0.7131  \n",
       "variableConcentration                 -0.15172    0.55501  -0.273   0.7846  \n",
       "variableSeparation                    -1.03643    0.51301  -2.020   0.0434 *\n",
       "variableWidth                          0.49657    0.55338   0.897   0.3695  \n",
       "cvs_graph1                            -0.33934    0.62011  -0.547   0.5842  \n",
       "pre                                    0.66382    0.50476   1.315   0.1885  \n",
       "sim_index2                             0.26089    0.24013   1.086   0.2773  \n",
       "cvs_table_only1:variableConcentration -0.62997    1.09187  -0.577   0.5640  \n",
       "cvs_table_only1:variableSeparation     0.57400    1.04802   0.548   0.5839  \n",
       "cvs_table_only1:variableWidth         -0.57121    1.07422  -0.532   0.5949  \n",
       "variableConcentration:cvs_graph1       0.69777    0.78029   0.894   0.3712  \n",
       "variableSeparation:cvs_graph1          0.40764    0.71571   0.570   0.5690  \n",
       "variableWidth:cvs_graph1              -0.66378    0.76495  -0.868   0.3855  \n",
       "cvs_table_only1:pre                   -1.49087    0.96745  -1.541   0.1233  \n",
       "cvs_graph1:pre                         0.02379    0.68932   0.035   0.9725  \n",
       "---\n",
       "Signif. codes:  0 '***' 0.001 '**' 0.01 '*' 0.05 '.' 0.1 ' ' 1"
      ]
     },
     "metadata": {},
     "output_type": "display_data"
    }
   ],
   "source": [
    "mixed1 <- glmer(\n",
    "    quant_score\n",
    "    ~ cvs_table_only*variable + cvs_graph*variable + cvs_table_only*pre + cvs_graph*pre + sim_index + (1 | sid),\n",
    "           data = mydata, family = binomial, \n",
    "           control = glmerControl(optimizer = \"bobyqa\"), nAGQ = 10)\n",
    "summary(mixed1)"
   ]
  },
  {
   "cell_type": "markdown",
   "metadata": {},
   "source": [
    "**(non log) Odds ratio with confidence intervals**"
   ]
  },
  {
   "cell_type": "code",
   "execution_count": 18,
   "metadata": {
    "scrolled": false
   },
   "outputs": [
    {
     "name": "stdout",
     "output_type": "stream",
     "text": [
      "                                        est  2.5 % 97.5 %\n",
      "(Intercept)                           3.166 1.2679   7.90\n",
      "cvs_table_only1                       1.339 0.2825   6.35\n",
      "variableConcentration                 0.859 0.2895   2.55\n",
      "variableSeparation                    0.355 0.1298   0.97\n",
      "variableWidth                         1.643 0.5554   4.86\n",
      "cvs_graph1                            0.712 0.2112   2.40\n",
      "pre                                   1.942 0.7222   5.22\n",
      "sim_index2                            1.298 0.8108   2.08\n",
      "cvs_table_only1:variableConcentration 0.533 0.0627   4.53\n",
      "cvs_table_only1:variableSeparation    1.775 0.2276  13.85\n",
      "cvs_table_only1:variableWidth         0.565 0.0688   4.64\n",
      "variableConcentration:cvs_graph1      2.009 0.4354   9.27\n",
      "variableSeparation:cvs_graph1         1.503 0.3697   6.11\n",
      "variableWidth:cvs_graph1              0.515 0.1150   2.31\n",
      "cvs_table_only1:pre                   0.225 0.0338   1.50\n",
      "cvs_graph1:pre                        1.024 0.2652   3.95\n"
     ]
    }
   ],
   "source": [
    "cc <- confint(mixed1,parm=\"beta_\",method=\"Wald\")\n",
    "ctab <- cbind(est=fixef(mixed1),cc)\n",
    "rtab <- exp(ctab)\n",
    "print(rtab,digits=3)"
   ]
  },
  {
   "cell_type": "markdown",
   "metadata": {},
   "source": [
    "Again interactions are not significant, so we stick to a simpler model."
   ]
  },
  {
   "cell_type": "markdown",
   "metadata": {},
   "source": [
    "### Simple model without interactions"
   ]
  },
  {
   "cell_type": "markdown",
   "metadata": {},
   "source": [
    "Our model is:\n",
    "\n",
    "    quant_score  ~  cvs_table_only + cvs_graph + variable\n",
    "                     + pre + sim_index + sid\n",
    "             \n",
    "We run a logistic regression:"
   ]
  },
  {
   "cell_type": "code",
   "execution_count": 19,
   "metadata": {},
   "outputs": [
    {
     "data": {
      "text/plain": [
       "Generalized linear mixed model fit by maximum likelihood (Adaptive\n",
       "  Gauss-Hermite Quadrature, nAGQ = 10) [glmerMod]\n",
       " Family: binomial  ( logit )\n",
       "Formula: quant_score ~ cvs_table_only + cvs_graph + variable + sim_index +  \n",
       "    pre + (1 | sid)\n",
       "   Data: mydata\n",
       "Control: glmerControl(optimizer = \"bobyqa\")\n",
       "\n",
       "     AIC      BIC   logLik deviance df.resid \n",
       "   635.8    674.6   -308.9    617.8      540 \n",
       "\n",
       "Scaled residuals: \n",
       "    Min      1Q  Median      3Q     Max \n",
       "-2.4121 -0.5315  0.3070  0.4982  1.4331 \n",
       "\n",
       "Random effects:\n",
       " Groups Name        Variance Std.Dev.\n",
       " sid    (Intercept) 3.167    1.78    \n",
       "Number of obs: 549, groups:  sid, 147\n",
       "\n",
       "Fixed effects:\n",
       "                      Estimate Std. Error z value Pr(>|z|)   \n",
       "(Intercept)            1.15680    0.36448   3.174   0.0015 **\n",
       "cvs_table_only1       -0.23523    0.41552  -0.566   0.5713   \n",
       "cvs_graph1            -0.17789    0.33941  -0.524   0.6002   \n",
       "variableConcentration  0.08048    0.33327   0.241   0.8092   \n",
       "variableSeparation    -0.79314    0.32207  -2.463   0.0138 * \n",
       "variableWidth          0.08402    0.32874   0.256   0.7983   \n",
       "sim_index2             0.24505    0.23473   1.044   0.2965   \n",
       "pre                    0.41669    0.31034   1.343   0.1794   \n",
       "---\n",
       "Signif. codes:  0 '***' 0.001 '**' 0.01 '*' 0.05 '.' 0.1 ' ' 1\n",
       "\n",
       "Correlation of Fixed Effects:\n",
       "            (Intr) cvs__1 cvs_g1 vrblCn vrblSp vrblWd sm_nd2\n",
       "cvs_tbl_nl1 -0.334                                          \n",
       "cvs_graph1  -0.438  0.361                                   \n",
       "vrblCncntrt -0.441  0.013 -0.073                            \n",
       "variblSprtn -0.489  0.034  0.035  0.495                     \n",
       "variablWdth -0.476  0.009 -0.018  0.504  0.500              \n",
       "sim_index2  -0.274  0.034 -0.121  0.090 -0.006  0.073       \n",
       "pre         -0.149  0.007 -0.084 -0.001 -0.113  0.036 -0.046"
      ]
     },
     "metadata": {},
     "output_type": "display_data"
    }
   ],
   "source": [
    "mixed1 <- glmer(\n",
    "    quant_score\n",
    "    ~ cvs_table_only + cvs_graph + variable + sim_index + pre + (1 | sid),\n",
    "           data = mydata, family = binomial, \n",
    "           control = glmerControl(optimizer = \"bobyqa\"), nAGQ = 10)\n",
    "summary(mixed1)"
   ]
  },
  {
   "cell_type": "markdown",
   "metadata": {},
   "source": [
    "**(non log) Odds ratio with confidence intervals**"
   ]
  },
  {
   "cell_type": "code",
   "execution_count": 20,
   "metadata": {
    "scrolled": false
   },
   "outputs": [
    {
     "name": "stdout",
     "output_type": "stream",
     "text": [
      "                        est 2.5 % 97.5 %\n",
      "(Intercept)           3.180 1.556  6.496\n",
      "cvs_table_only1       0.790 0.350  1.785\n",
      "cvs_graph1            0.837 0.430  1.628\n",
      "variableConcentration 1.084 0.564  2.083\n",
      "variableSeparation    0.452 0.241  0.851\n",
      "variableWidth         1.088 0.571  2.072\n",
      "sim_index2            1.278 0.807  2.024\n",
      "pre                   1.517 0.826  2.787\n"
     ]
    }
   ],
   "source": [
    "cc <- confint(mixed1,parm=\"beta_\",method=\"Wald\",level=0.95,value=(0.05))\n",
    "ctab <- cbind(est=fixef(mixed1),cc)\n",
    "rtab <- exp(ctab)\n",
    "print(rtab,digits=3)"
   ]
  },
  {
   "cell_type": "markdown",
   "metadata": {},
   "source": [
    "As expected, CVS doesn't predict quant transfer scores, only variable does."
   ]
  },
  {
   "cell_type": "markdown",
   "metadata": {},
   "source": [
    "## Including student main worksheet score\n",
    "as a continuous variable"
   ]
  },
  {
   "cell_type": "markdown",
   "metadata": {},
   "source": [
    "### Complete model with interactions"
   ]
  },
  {
   "cell_type": "markdown",
   "metadata": {},
   "source": [
    "Our model is:\n",
    "\n",
    "    quant_score  ~  main + cvs_table_only*variable + cvs_graph*variable\n",
    "                    + cvs_table_only*pre + cvs_graph*pre\n",
    "                    + sim_index + sid\n",
    "             \n",
    "We run a logistic regression:"
   ]
  },
  {
   "cell_type": "code",
   "execution_count": 21,
   "metadata": {},
   "outputs": [
    {
     "name": "stderr",
     "output_type": "stream",
     "text": [
      "\n",
      "Correlation matrix not shown by default, as p = 17 > 12.\n",
      "Use print(obj, correlation=TRUE)  or\n",
      "\t vcov(obj)\t if you need it\n",
      "\n"
     ]
    },
    {
     "data": {
      "text/plain": [
       "Generalized linear mixed model fit by maximum likelihood (Adaptive\n",
       "  Gauss-Hermite Quadrature, nAGQ = 10) [glmerMod]\n",
       " Family: binomial  ( logit )\n",
       "Formula: quant_score ~ main + cvs_table_only * variable + cvs_graph *  \n",
       "    variable + cvs_table_only * pre + cvs_graph * pre + sim_index +  \n",
       "    (1 | sid)\n",
       "   Data: mydata\n",
       "Control: glmerControl(optimizer = \"bobyqa\")\n",
       "\n",
       "     AIC      BIC   logLik deviance df.resid \n",
       "   617.8    695.3   -290.9    581.8      531 \n",
       "\n",
       "Scaled residuals: \n",
       "    Min      1Q  Median      3Q     Max \n",
       "-2.4260 -0.4262  0.2495  0.4576  2.5404 \n",
       "\n",
       "Random effects:\n",
       " Groups Name        Variance Std.Dev.\n",
       " sid    (Intercept) 4.232    2.057   \n",
       "Number of obs: 549, groups:  sid, 147\n",
       "\n",
       "Fixed effects:\n",
       "                                      Estimate Std. Error z value Pr(>|z|)    \n",
       "(Intercept)                            -0.1673     0.5519  -0.303    0.762    \n",
       "main                                    1.3980     0.2939   4.757 1.97e-06 ***\n",
       "cvs_table_only1                         0.2459     0.8320   0.296    0.768    \n",
       "variableConcentration                  -0.3091     0.5805  -0.532    0.594    \n",
       "variableSeparation                     -1.2219     0.5373  -2.274    0.023 *  \n",
       "variableWidth                           0.5342     0.5825   0.917    0.359    \n",
       "cvs_graph1                             -1.0047     0.6737  -1.491    0.136    \n",
       "pre                                     0.7191     0.5274   1.363    0.173    \n",
       "sim_index2                              0.1045     0.2554   0.409    0.682    \n",
       "cvs_table_only1:variableConcentration  -0.5802     1.1405  -0.509    0.611    \n",
       "cvs_table_only1:variableSeparation      0.8106     1.0834   0.748    0.454    \n",
       "cvs_table_only1:variableWidth          -0.8472     1.1226  -0.755    0.450    \n",
       "variableConcentration:cvs_graph1        0.8443     0.8241   1.024    0.306    \n",
       "variableSeparation:cvs_graph1           0.9144     0.7603   1.203    0.229    \n",
       "variableWidth:cvs_graph1               -0.7883     0.8049  -0.979    0.327    \n",
       "cvs_table_only1:pre                    -1.4303     1.0016  -1.428    0.153    \n",
       "cvs_graph1:pre                         -0.1397     0.7236  -0.193    0.847    \n",
       "---\n",
       "Signif. codes:  0 '***' 0.001 '**' 0.01 '*' 0.05 '.' 0.1 ' ' 1"
      ]
     },
     "metadata": {},
     "output_type": "display_data"
    }
   ],
   "source": [
    "mixed1 <- glmer(\n",
    "    quant_score\n",
    "    ~ main + cvs_table_only*variable + cvs_graph*variable + cvs_table_only*pre + cvs_graph*pre + sim_index + (1 | sid),\n",
    "           data = mydata, family = binomial, \n",
    "           control = glmerControl(optimizer = \"bobyqa\"), nAGQ = 10)\n",
    "summary(mixed1)"
   ]
  },
  {
   "cell_type": "markdown",
   "metadata": {},
   "source": [
    "**(non log) Odds ratio with confidence intervals**"
   ]
  },
  {
   "cell_type": "code",
   "execution_count": 22,
   "metadata": {
    "scrolled": false
   },
   "outputs": [
    {
     "name": "stdout",
     "output_type": "stream",
     "text": [
      "                                        est  2.5 % 97.5 %\n",
      "(Intercept)                           0.846 0.2868  2.495\n",
      "main                                  4.047 2.2750  7.200\n",
      "cvs_table_only1                       1.279 0.2504  6.531\n",
      "variableConcentration                 0.734 0.2353  2.290\n",
      "variableSeparation                    0.295 0.1028  0.845\n",
      "variableWidth                         1.706 0.5448  5.344\n",
      "cvs_graph1                            0.366 0.0978  1.371\n",
      "pre                                   2.053 0.7300  5.771\n",
      "sim_index2                            1.110 0.6730  1.831\n",
      "cvs_table_only1:variableConcentration 0.560 0.0599  5.234\n",
      "cvs_table_only1:variableSeparation    2.249 0.2691 18.803\n",
      "cvs_table_only1:variableWidth         0.429 0.0475  3.869\n",
      "variableConcentration:cvs_graph1      2.326 0.4626 11.699\n",
      "variableSeparation:cvs_graph1         2.495 0.5623 11.073\n",
      "variableWidth:cvs_graph1              0.455 0.0939  2.202\n",
      "cvs_table_only1:pre                   0.239 0.0336  1.704\n",
      "cvs_graph1:pre                        0.870 0.2106  3.592\n"
     ]
    }
   ],
   "source": [
    "cc <- confint(mixed1,parm=\"beta_\",method=\"Wald\")\n",
    "ctab <- cbind(est=fixef(mixed1),cc)\n",
    "rtab <- exp(ctab)\n",
    "print(rtab,digits=3)"
   ]
  },
  {
   "cell_type": "markdown",
   "metadata": {},
   "source": [
    "Again interactions are not significant, so we stick to a simpler model."
   ]
  },
  {
   "cell_type": "markdown",
   "metadata": {},
   "source": [
    "### Simple model without interactions"
   ]
  },
  {
   "cell_type": "markdown",
   "metadata": {},
   "source": [
    "Our model is:\n",
    "\n",
    "    quant_score  ~  main + cvs_table_only + cvs_graph + variable\n",
    "                     + pre + sim_index + sid\n",
    "             \n",
    "We run a logistic regression:"
   ]
  },
  {
   "cell_type": "code",
   "execution_count": 23,
   "metadata": {},
   "outputs": [
    {
     "data": {
      "text/plain": [
       "Generalized linear mixed model fit by maximum likelihood (Adaptive\n",
       "  Gauss-Hermite Quadrature, nAGQ = 10) [glmerMod]\n",
       " Family: binomial  ( logit )\n",
       "Formula: quant_score ~ main + cvs_table_only + cvs_graph + variable +  \n",
       "    sim_index + pre + (1 | sid)\n",
       "   Data: mydata\n",
       "Control: glmerControl(optimizer = \"bobyqa\")\n",
       "\n",
       "     AIC      BIC   logLik deviance df.resid \n",
       "   611.1    654.2   -295.5    591.1      539 \n",
       "\n",
       "Scaled residuals: \n",
       "    Min      1Q  Median      3Q     Max \n",
       "-2.8527 -0.4704  0.2833  0.4741  1.9656 \n",
       "\n",
       "Random effects:\n",
       " Groups Name        Variance Std.Dev.\n",
       " sid    (Intercept) 3.648    1.91    \n",
       "Number of obs: 549, groups:  sid, 147\n",
       "\n",
       "Fixed effects:\n",
       "                       Estimate Std. Error z value Pr(>|z|)    \n",
       "(Intercept)           -0.095498   0.452358  -0.211   0.8328    \n",
       "main                   1.285815   0.275273   4.671    3e-06 ***\n",
       "cvs_table_only1       -0.271983   0.439773  -0.618   0.5363    \n",
       "cvs_graph1            -0.698200   0.375859  -1.858   0.0632 .  \n",
       "variableConcentration -0.007647   0.348507  -0.022   0.9825    \n",
       "variableSeparation    -0.729348   0.335575  -2.173   0.0297 *  \n",
       "variableWidth          0.020940   0.343991   0.061   0.9515    \n",
       "sim_index2             0.102507   0.247367   0.414   0.6786    \n",
       "pre                    0.376163   0.324708   1.158   0.2467    \n",
       "---\n",
       "Signif. codes:  0 '***' 0.001 '**' 0.01 '*' 0.05 '.' 0.1 ' ' 1\n",
       "\n",
       "Correlation of Fixed Effects:\n",
       "            (Intr) main   cvs__1 cvs_g1 vrblCn vrblSp vrblWd sm_nd2\n",
       "main        -0.536                                                 \n",
       "cvs_tbl_nl1 -0.281 -0.005                                          \n",
       "cvs_graph1  -0.175 -0.326  0.341                                   \n",
       "vrblCncntrt -0.349 -0.049  0.019 -0.053                            \n",
       "variblSprtn -0.400 -0.014  0.032  0.033  0.495                     \n",
       "variablWdth -0.384 -0.038  0.017 -0.004  0.509  0.499              \n",
       "sim_index2  -0.181 -0.096  0.033 -0.080  0.103  0.001  0.093       \n",
       "pre         -0.131  0.011  0.014 -0.066 -0.005 -0.121  0.029 -0.056"
      ]
     },
     "metadata": {},
     "output_type": "display_data"
    }
   ],
   "source": [
    "mixed1 <- glmer(\n",
    "    quant_score\n",
    "    ~ main + cvs_table_only + cvs_graph + variable + sim_index + pre + (1 | sid),\n",
    "           data = mydata, family = binomial, \n",
    "           control = glmerControl(optimizer = \"bobyqa\"), nAGQ = 10)\n",
    "summary(mixed1)"
   ]
  },
  {
   "cell_type": "markdown",
   "metadata": {},
   "source": [
    "**(non log) Odds ratio with confidence intervals**"
   ]
  },
  {
   "cell_type": "code",
   "execution_count": 24,
   "metadata": {
    "scrolled": false
   },
   "outputs": [
    {
     "name": "stdout",
     "output_type": "stream",
     "text": [
      "                        est 2.5 % 97.5 %\n",
      "(Intercept)           0.909 0.375  2.206\n",
      "main                  3.618 2.109  6.205\n",
      "cvs_table_only1       0.762 0.322  1.804\n",
      "cvs_graph1            0.497 0.238  1.039\n",
      "variableConcentration 0.992 0.501  1.965\n",
      "variableSeparation    0.482 0.250  0.931\n",
      "variableWidth         1.021 0.520  2.004\n",
      "sim_index2            1.108 0.682  1.799\n",
      "pre                   1.457 0.771  2.753\n"
     ]
    }
   ],
   "source": [
    "cc <- confint(mixed1,parm=\"beta_\",method=\"Wald\")\n",
    "ctab <- cbind(est=fixef(mixed1),cc)\n",
    "rtab <- exp(ctab)\n",
    "print(rtab,digits=3)"
   ]
  },
  {
   "cell_type": "markdown",
   "metadata": {},
   "source": [
    "## Discussion on all 4 models (w. w/o interaction and w. w/o main)\n",
    "What we notice:\n",
    "* cvs_graph never matters\n",
    "* main matters\n",
    "* pre doesn't matter\n",
    "* variable matters\n",
    "* sim_index doesn't matter..."
   ]
  },
  {
   "cell_type": "markdown",
   "metadata": {
    "hideCode": true,
    "hidePrompt": true
   },
   "source": [
    "# Stat model 3: Predicting the use of CVS"
   ]
  },
  {
   "cell_type": "markdown",
   "metadata": {},
   "source": [
    "## Predicting the use of CVS_graph"
   ]
  },
  {
   "cell_type": "markdown",
   "metadata": {},
   "source": [
    "Our model is:\n",
    "\n",
    "    cvs_graph  ~ variable + pre + sim_index + sid\n",
    "                 + lab_experience + similar_sim + prior_number_virtual_labs\n",
    "             \n",
    "We run a logistic regression:"
   ]
  },
  {
   "cell_type": "code",
   "execution_count": 25,
   "metadata": {},
   "outputs": [
    {
     "data": {
      "text/plain": [
       "Generalized linear mixed model fit by maximum likelihood (Adaptive\n",
       "  Gauss-Hermite Quadrature, nAGQ = 10) [glmerMod]\n",
       " Family: binomial  ( logit )\n",
       "Formula: \n",
       "cvs_graph ~ variable + sim_index + pre + lab_experience + similar_sim +  \n",
       "    prior_number_virtual_labs + (1 | sid)\n",
       "   Data: mydata\n",
       "Control: glmerControl(optimizer = \"bobyqa\")\n",
       "\n",
       "     AIC      BIC   logLik deviance df.resid \n",
       "   561.0    604.1   -270.5    541.0      539 \n",
       "\n",
       "Scaled residuals: \n",
       "     Min       1Q   Median       3Q      Max \n",
       "-2.47112 -0.30915 -0.07747  0.32556  2.83633 \n",
       "\n",
       "Random effects:\n",
       " Groups Name        Variance Std.Dev.\n",
       " sid    (Intercept) 11.45    3.383   \n",
       "Number of obs: 549, groups:  sid, 147\n",
       "\n",
       "Fixed effects:\n",
       "                          Estimate Std. Error z value Pr(>|z|)    \n",
       "(Intercept)                -6.2905     1.5039  -4.183 2.88e-05 ***\n",
       "variableConcentration       0.8132     0.4288   1.897 0.057890 .  \n",
       "variableSeparation         -0.1421     0.3948  -0.360 0.719011    \n",
       "variableWidth               0.1669     0.4183   0.399 0.689885    \n",
       "sim_index2                  1.0770     0.3029   3.556 0.000377 ***\n",
       "pre                         0.9284     0.3978   2.334 0.019607 *  \n",
       "lab_experience1             4.5138     1.5489   2.914 0.003567 ** \n",
       "similar_sim1               -0.1183     0.4564  -0.259 0.795458    \n",
       "prior_number_virtual_labs   0.3948     0.4034   0.979 0.327742    \n",
       "---\n",
       "Signif. codes:  0 '***' 0.001 '**' 0.01 '*' 0.05 '.' 0.1 ' ' 1\n",
       "\n",
       "Correlation of Fixed Effects:\n",
       "            (Intr) vrblCn vrblSp vrblWd sm_nd2 pre    lb_xp1 smlr_1\n",
       "vrblCncntrt -0.230                                                 \n",
       "variblSprtn -0.110  0.459                                          \n",
       "variablWdth -0.179  0.565  0.473                                   \n",
       "sim_index2  -0.222  0.150 -0.022  0.096                            \n",
       "pre         -0.155 -0.029 -0.089  0.000 -0.007                     \n",
       "lab_exprnc1 -0.822  0.069 -0.010  0.034  0.087  0.098              \n",
       "similar_sm1  0.073 -0.286 -0.014 -0.286  0.065  0.062 -0.057       \n",
       "prr_nmbr_v_ -0.173  0.056 -0.005  0.031  0.015 -0.026 -0.332 -0.136"
      ]
     },
     "metadata": {},
     "output_type": "display_data"
    }
   ],
   "source": [
    "mixed <- glmer(\n",
    "    cvs_graph\n",
    "    ~ variable + sim_index + pre\n",
    "    + lab_experience + similar_sim + prior_number_virtual_labs + (1 | sid),\n",
    "           data = mydata, family = binomial, \n",
    "           control = glmerControl(optimizer = \"bobyqa\"), nAGQ = 10)\n",
    "\n",
    "summary(mixed)"
   ]
  },
  {
   "cell_type": "markdown",
   "metadata": {},
   "source": [
    "**(non log) Odds ratio with confidence intervals**"
   ]
  },
  {
   "cell_type": "code",
   "execution_count": 26,
   "metadata": {},
   "outputs": [
    {
     "name": "stdout",
     "output_type": "stream",
     "text": [
      "                               est    2.5 %   97.5 %\n",
      "(Intercept)                0.00185 9.73e-05 3.53e-02\n",
      "variableConcentration      2.25501 9.73e-01 5.23e+00\n",
      "variableSeparation         0.86758 4.00e-01 1.88e+00\n",
      "variableWidth              1.18167 5.20e-01 2.68e+00\n",
      "sim_index2                 2.93582 1.62e+00 5.32e+00\n",
      "pre                        2.53046 1.16e+00 5.52e+00\n",
      "lab_experience1           91.27049 4.38e+00 1.90e+03\n",
      "similar_sim1               0.88842 3.63e-01 2.17e+00\n",
      "prior_number_virtual_labs  1.48409 6.73e-01 3.27e+00\n"
     ]
    }
   ],
   "source": [
    "cc <- confint(mixed,parm=\"beta_\",method=\"Wald\")\n",
    "ctab <- cbind(est=fixef(mixed),cc)\n",
    "rtab <- exp(ctab)\n",
    "print(rtab,digits=3)"
   ]
  },
  {
   "cell_type": "markdown",
   "metadata": {},
   "source": [
    "## Predicting use of table_only"
   ]
  },
  {
   "cell_type": "code",
   "execution_count": 27,
   "metadata": {},
   "outputs": [
    {
     "data": {
      "text/plain": [
       "Generalized linear mixed model fit by maximum likelihood (Adaptive\n",
       "  Gauss-Hermite Quadrature, nAGQ = 10) [glmerMod]\n",
       " Family: binomial  ( logit )\n",
       "Formula: cvs_table_only ~ variable + sim_index + pre + lab_experience +  \n",
       "    similar_sim + prior_number_virtual_labs + (1 | sid)\n",
       "   Data: mydata\n",
       "Control: glmerControl(optimizer = \"bobyqa\")\n",
       "\n",
       "     AIC      BIC   logLik deviance df.resid \n",
       "   427.4    470.5   -203.7    407.4      539 \n",
       "\n",
       "Scaled residuals: \n",
       "    Min      1Q  Median      3Q     Max \n",
       "-1.5401 -0.2913 -0.2034 -0.1509  2.9021 \n",
       "\n",
       "Random effects:\n",
       " Groups Name        Variance Std.Dev.\n",
       " sid    (Intercept) 2.946    1.716   \n",
       "Number of obs: 549, groups:  sid, 147\n",
       "\n",
       "Fixed effects:\n",
       "                          Estimate Std. Error z value Pr(>|z|)  \n",
       "(Intercept)                -1.6050     0.7344  -2.185   0.0289 *\n",
       "variableConcentration      -0.2349     0.4357  -0.539   0.5898  \n",
       "variableSeparation         -0.1197     0.4152  -0.288   0.7730  \n",
       "variableWidth               0.1100     0.4162   0.264   0.7915  \n",
       "sim_index2                 -0.6155     0.2965  -2.076   0.0379 *\n",
       "pre                        -0.2167     0.3879  -0.559   0.5765  \n",
       "lab_experience1             0.3536     0.7684   0.460   0.6454  \n",
       "similar_sim1                0.2291     0.4664   0.491   0.6234  \n",
       "prior_number_virtual_labs  -0.5764     0.2740  -2.103   0.0354 *\n",
       "---\n",
       "Signif. codes:  0 '***' 0.001 '**' 0.01 '*' 0.05 '.' 0.1 ' ' 1\n",
       "\n",
       "Correlation of Fixed Effects:\n",
       "            (Intr) vrblCn vrblSp vrblWd sm_nd2 pre    lb_xp1 smlr_1\n",
       "vrblCncntrt -0.286                                                 \n",
       "variblSprtn -0.254  0.460                                          \n",
       "variablWdth -0.305  0.548  0.477                                   \n",
       "sim_index2  -0.144  0.047 -0.010  0.016                            \n",
       "pre         -0.096 -0.042 -0.128 -0.020 -0.020                     \n",
       "lab_exprnc1 -0.660  0.005 -0.012  0.017 -0.016  0.066              \n",
       "similar_sm1  0.080 -0.286 -0.015 -0.296  0.028  0.068 -0.073       \n",
       "prr_nmbr_v_ -0.161  0.083  0.019  0.059  0.028 -0.088 -0.425 -0.220"
      ]
     },
     "metadata": {},
     "output_type": "display_data"
    }
   ],
   "source": [
    "mixed <- glmer(\n",
    "    cvs_table_only\n",
    "    ~ variable + sim_index + pre\n",
    "    + lab_experience + similar_sim + prior_number_virtual_labs + (1 | sid),\n",
    "           data = mydata, family = binomial, \n",
    "           control = glmerControl(optimizer = \"bobyqa\"), nAGQ = 10)\n",
    "\n",
    "summary(mixed)"
   ]
  },
  {
   "cell_type": "code",
   "execution_count": 28,
   "metadata": {},
   "outputs": [
    {
     "name": "stdout",
     "output_type": "stream",
     "text": [
      "                            est  2.5 % 97.5 %\n",
      "(Intercept)               0.201 0.0476  0.847\n",
      "variableConcentration     0.791 0.3366  1.857\n",
      "variableSeparation        0.887 0.3932  2.002\n",
      "variableWidth             1.116 0.4937  2.524\n",
      "sim_index2                0.540 0.3022  0.966\n",
      "pre                       0.805 0.3765  1.722\n",
      "lab_experience1           1.424 0.3159  6.421\n",
      "similar_sim1              1.257 0.5040  3.137\n",
      "prior_number_virtual_labs 0.562 0.3284  0.962\n"
     ]
    }
   ],
   "source": [
    "cc <- confint(mixed,parm=\"beta_\",method=\"Wald\")\n",
    "ctab <- cbind(est=fixef(mixed),cc)\n",
    "rtab <- exp(ctab)\n",
    "print(rtab,digits=3)"
   ]
  },
  {
   "cell_type": "markdown",
   "metadata": {},
   "source": [
    "## Predicting use of table + graph"
   ]
  },
  {
   "cell_type": "code",
   "execution_count": 29,
   "metadata": {},
   "outputs": [
    {
     "data": {
      "text/plain": [
       "Generalized linear mixed model fit by maximum likelihood (Adaptive\n",
       "  Gauss-Hermite Quadrature, nAGQ = 10) [glmerMod]\n",
       " Family: binomial  ( logit )\n",
       "Formula: \n",
       "cvs_table ~ variable + sim_index + pre + lab_experience + similar_sim +  \n",
       "    prior_number_virtual_labs + (1 | sid)\n",
       "   Data: mydata\n",
       "Control: glmerControl(optimizer = \"bobyqa\")\n",
       "\n",
       "     AIC      BIC   logLik deviance df.resid \n",
       "   610.1    653.2   -295.1    590.1      539 \n",
       "\n",
       "Scaled residuals: \n",
       "    Min      1Q  Median      3Q     Max \n",
       "-2.3867 -0.4387  0.2258  0.3497  2.3340 \n",
       "\n",
       "Random effects:\n",
       " Groups Name        Variance Std.Dev.\n",
       " sid    (Intercept) 6.418    2.533   \n",
       "Number of obs: 549, groups:  sid, 147\n",
       "\n",
       "Fixed effects:\n",
       "                          Estimate Std. Error z value Pr(>|z|)   \n",
       "(Intercept)               -2.47889    0.91531  -2.708  0.00676 **\n",
       "variableConcentration      0.50799    0.37462   1.356  0.17509   \n",
       "variableSeparation        -0.16126    0.34963  -0.461  0.64462   \n",
       "variableWidth              0.19536    0.36655   0.533  0.59405   \n",
       "sim_index2                 0.44576    0.25657   1.737  0.08232 . \n",
       "pre                        0.63851    0.34679   1.841  0.06559 . \n",
       "lab_experience1            3.04886    1.00085   3.046  0.00232 **\n",
       "similar_sim1               0.12716    0.39920   0.319  0.75007   \n",
       "prior_number_virtual_labs -0.04198    0.30994  -0.135  0.89226   \n",
       "---\n",
       "Signif. codes:  0 '***' 0.001 '**' 0.01 '*' 0.05 '.' 0.1 ' ' 1\n",
       "\n",
       "Correlation of Fixed Effects:\n",
       "            (Intr) vrblCn vrblSp vrblWd sm_nd2 pre    lb_xp1 smlr_1\n",
       "vrblCncntrt -0.239                                                 \n",
       "variblSprtn -0.176  0.463                                          \n",
       "variablWdth -0.226  0.543  0.473                                   \n",
       "sim_index2  -0.166  0.042 -0.022  0.022                            \n",
       "pre         -0.141  0.007 -0.058  0.039 -0.020                     \n",
       "lab_exprnc1 -0.731  0.044 -0.008  0.031  0.032  0.083              \n",
       "similar_sm1  0.054 -0.274 -0.009 -0.283  0.127  0.080 -0.052       \n",
       "prr_nmbr_v_ -0.192  0.046  0.000  0.034 -0.022 -0.067 -0.413 -0.131"
      ]
     },
     "metadata": {},
     "output_type": "display_data"
    }
   ],
   "source": [
    "mixed <- glmer(\n",
    "    cvs_table\n",
    "    ~ variable + sim_index + pre\n",
    "    + lab_experience + similar_sim + prior_number_virtual_labs + (1 | sid),\n",
    "           data = mydata, family = binomial, \n",
    "           control = glmerControl(optimizer = \"bobyqa\"), nAGQ = 10)\n",
    "\n",
    "summary(mixed)"
   ]
  },
  {
   "cell_type": "code",
   "execution_count": 30,
   "metadata": {},
   "outputs": [
    {
     "name": "stdout",
     "output_type": "stream",
     "text": [
      "                              est  2.5 %  97.5 %\n",
      "(Intercept)                0.0838 0.0139   0.504\n",
      "variableConcentration      1.6620 0.7975   3.463\n",
      "variableSeparation         0.8511 0.4289   1.689\n",
      "variableWidth              1.2158 0.5927   2.494\n",
      "sim_index2                 1.5617 0.9445   2.582\n",
      "pre                        1.8937 0.9596   3.737\n",
      "lab_experience1           21.0913 2.9661 149.979\n",
      "similar_sim1               1.1356 0.5193   2.483\n",
      "prior_number_virtual_labs  0.9589 0.5223   1.760\n"
     ]
    }
   ],
   "source": [
    "cc <- confint(mixed,parm=\"beta_\",method=\"Wald\")\n",
    "ctab <- cbind(est=fixef(mixed),cc)\n",
    "rtab <- exp(ctab)\n",
    "print(rtab,digits=3)"
   ]
  },
  {
   "cell_type": "markdown",
   "metadata": {},
   "source": [
    "\n",
    "\n",
    "\n",
    "\n",
    "\n",
    "\n",
    "\n",
    "____________________________________________________________________________\n",
    "\n",
    "\n",
    "\n",
    "\n",
    "\n",
    "# OTHER VERSION OF ANALYSES - keep for historical purposes\n",
    "Even though we decided not to include them or do analyses this way, we keep the code to run them here just in case.\n",
    "\n",
    "First we reload the data, in case some factors have changed from continuous to categorical variables"
   ]
  },
  {
   "cell_type": "code",
   "execution_count": 31,
   "metadata": {},
   "outputs": [],
   "source": [
    "# mydata <- read.csv(\"C:\\\\Users\\\\Sarah\\\\Documents\\\\Personal Content\\\\Lab_study_data\\\\all_massaged_data\\\\dataframe_all_factors_for_analysis.txt\",sep = '\\t')\n",
    "# # sid is the student number\n",
    "# mydata$sid <- factor(mydata$sid)\n",
    "# mydata$sim_index <- factor(mydata$sim_index)\n",
    "# mydata$lab_experience <- factor(mydata$lab_experience)\n",
    "# mydata$similar_sim <- factor(mydata$similar_sim)\n",
    "# mydata$cvs_graph <- factor(mydata$cvs_graph)\n",
    "# mydata$cvs_table_only <- factor(mydata$cvs_table_only)\n",
    "# # mydata$main <- factor(mydata$main)\n",
    "# # mydata$pre <- factor(mydata$pre)"
   ]
  },
  {
   "cell_type": "markdown",
   "metadata": {
    "hideCode": true,
    "hidePrompt": true
   },
   "source": [
    "## Stat model 1: Predicting main model scores as a categorical variable"
   ]
  },
  {
   "cell_type": "markdown",
   "metadata": {},
   "source": [
    "First we transform the data in an extra wide format for the mlogit function.\n",
    "Now every student has a row for each variable times type of model (0,1,2).\n",
    "The \"alt\" is the model type (0,1,2) and \"main\" is True if that was the model type they got correct (and the others are always False for that variable)."
   ]
  },
  {
   "cell_type": "code",
   "execution_count": 32,
   "metadata": {},
   "outputs": [],
   "source": [
    "# mydata$main <- factor(mydata$main)\n",
    "# mydata$pre <- factor(mydata$pre)"
   ]
  },
  {
   "cell_type": "code",
   "execution_count": 33,
   "metadata": {},
   "outputs": [],
   "source": [
    "# wide_mydata <- mlogit.data(mydata, shape = 'wide', choice = \"main\", id.var = \"sid\")\n",
    "# head(wide_mydata, 5)"
   ]
  },
  {
   "cell_type": "markdown",
   "metadata": {},
   "source": [
    "Then we run the mlogit model.\n",
    "\n",
    "See the following: https://cran.r-project.org/web/packages/mlogit/vignettes/mlogit.pdf\n",
    "\n",
    "Specifically, mixed in this document DOESN't mean with repeated measures. The \"1 | \" in the formula below tells it that some of the variables are individual specific.\n",
    "The examples using the \"Train\" dataset is what I followed. See pages 3-7 for how to structure data and 22,23 for example of running mlogit."
   ]
  },
  {
   "cell_type": "code",
   "execution_count": 34,
   "metadata": {},
   "outputs": [],
   "source": [
    "# ml.mydata <- mlogit(main\n",
    "#     ~ 1 | cvs_table_only + cvs_graph + variable + sim_index + pre\n",
    "#     + lab_experience + similar_sim + prior_number_virtual_labs, wide_mydata)\n",
    "# summary(ml.mydata)"
   ]
  }
 ],
 "metadata": {
  "anaconda-cloud": {},
  "kernelspec": {
   "display_name": "R",
   "language": "R",
   "name": "ir"
  },
  "language_info": {
   "codemirror_mode": "r",
   "file_extension": ".r",
   "mimetype": "text/x-r-source",
   "name": "R",
   "pygments_lexer": "r",
   "version": "3.4.3"
  },
  "toc": {
   "nav_menu": {
    "height": "172px",
    "width": "328px"
   },
   "number_sections": true,
   "sideBar": true,
   "skip_h1_title": false,
   "toc_cell": false,
   "toc_position": {},
   "toc_section_display": "block",
   "toc_window_display": false
  }
 },
 "nbformat": 4,
 "nbformat_minor": 1
}
