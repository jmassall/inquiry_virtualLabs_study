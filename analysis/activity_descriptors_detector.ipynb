{
 "cells": [
  {
   "cell_type": "markdown",
   "metadata": {
    "heading_collapsed": true
   },
   "source": [
    "# About activity_descriptors_detector.ipynb"
   ]
  },
  {
   "cell_type": "markdown",
   "metadata": {
    "hidden": true
   },
   "source": [
    "This notebook detects different aspects of activities from log files."
   ]
  },
  {
   "cell_type": "code",
   "execution_count": 1,
   "metadata": {
    "hidden": true
   },
   "outputs": [
    {
     "data": {
      "text/html": [
       "<script>jQuery(function() {if (jQuery(\"body.notebook_app\").length == 0) { jQuery(\".input_area\").toggle(); jQuery(\".prompt\").toggle();}});</script>"
      ]
     },
     "metadata": {},
     "output_type": "display_data"
    }
   ],
   "source": [
    "from IPython.display import display\n",
    "from IPython.display import HTML\n",
    "import IPython.core.display as di\n",
    "\n",
    "# This line will hide code by default when the notebook is exported as HTML\n",
    "di.display_html('<script>jQuery(function() {if (jQuery(\"body.notebook_app\").length == 0) { jQuery(\".input_area\").toggle(); jQuery(\".prompt\").toggle();}});</script>', raw=True)"
   ]
  },
  {
   "cell_type": "code",
   "execution_count": 2,
   "metadata": {
    "hidden": true
   },
   "outputs": [],
   "source": [
    "%load_ext autoreload\n",
    "%autoreload 1\n",
    "%aimport utils_timeline_viz\n",
    "from utils_timeline_viz import *\n",
    "from utils_read_parsing import *\n",
    "from tabulate import tabulate\n",
    "import seaborn as sns\n",
    "%matplotlib inline\n",
    "matplotlib.style.use('ggplot')\n",
    "matplotlib.rcParams['figure.figsize'] = 8,4\n",
    "pd.options.mode.chained_assignment = None #removed annoying pandas warning when making chained assigment"
   ]
  },
  {
   "cell_type": "markdown",
   "metadata": {
    "heading_collapsed": true
   },
   "source": [
    "# Preparing activity descriptive data"
   ]
  },
  {
   "cell_type": "markdown",
   "metadata": {
    "hidden": true
   },
   "source": [
    "## Getting log data"
   ]
  },
  {
   "cell_type": "code",
   "execution_count": 3,
   "metadata": {
    "hidden": true
   },
   "outputs": [
    {
     "name": "stdout",
     "output_type": "stream",
     "text": [
      "The file Sarah_beers_log_files_per_student.txt has been unpickled and loaded\n",
      "The file Sarah_capacitor_log_files_per_student.txt has been unpickled and loaded\n"
     ]
    }
   ],
   "source": [
    "log_files_per_sim = {}\n",
    "for sim in ['beers','capacitor']:\n",
    "    log_files_per_sim[sim] = get_parsed_log_files_per_student_for_sim(sim)"
   ]
  },
  {
   "cell_type": "code",
   "execution_count": 4,
   "metadata": {
    "hidden": true
   },
   "outputs": [],
   "source": [
    "students = log_files_per_sim['beers'].keys()"
   ]
  },
  {
   "cell_type": "markdown",
   "metadata": {
    "hidden": true
   },
   "source": [
    "## Two types of detectors"
   ]
  },
  {
   "cell_type": "code",
   "execution_count": 5,
   "metadata": {
    "hidden": true
   },
   "outputs": [],
   "source": [
    "def detect_action(log_files_per_sim,students,initial_value,update_function,get_use_function,ignore_model_events=True):\n",
    "    '''\n",
    "    This function is a generic detector for a specific action.\n",
    "    \n",
    "    Args:\n",
    "        students (list): All student to run detector on\n",
    "        log_files_per_sim (dict): dictionary by sim and student of log file names\n",
    "        initial_value (): False for binary usage, 0 for number of times students did something, etc...\n",
    "        update_function (function): takes use from 1st log file and compares it to the next using max, sum, min, etc...\n",
    "        get_use_function (function): takes a dataframe and returns what it detected\n",
    "\n",
    "    Returns:\n",
    "        action_use (dict): a dictionary by sim by student of use of action\n",
    "    '''\n",
    "    action_use = {'beers':{sid:initial_value for sid in students},'capacitor':{sid:initial_value for sid in students}}\n",
    "    \n",
    "    for sim in ['beers','capacitor']:\n",
    "        for sid in students:\n",
    "            logs = log_files_per_sim[sim][sid]\n",
    "            use = initial_value\n",
    "\n",
    "            for log in logs:\n",
    "                df = prep_parsing_data(log,remove_model_events=ignore_model_events)\n",
    "                if not df.empty:\n",
    "                    use = update_function([use, get_use_function(df)])\n",
    "            \n",
    "            action_use[sim][sid] = use\n",
    "    \n",
    "    return action_use"
   ]
  },
  {
   "cell_type": "code",
   "execution_count": 6,
   "metadata": {
    "hidden": true
   },
   "outputs": [],
   "source": [
    "def detect_multiple_actions(log_files_per_sim,students,detectors):\n",
    "    '''\n",
    "    This function is a generic actions detector.\n",
    "    \n",
    "    Args:\n",
    "        students (list): All student to run detector on\n",
    "        log_files_per_sim (dict): dictionary by sim and student of log file names\n",
    "        detectors (list of tuples): Contains each detector:\n",
    "            action (string): name of the action to use as column name in dataframe\n",
    "            update_function (function): takes use from 1st log file and compares it to the next using max, sum, min, etc...\n",
    "            get_use_function (function): takes a dataframe and returns what it detected\n",
    "\n",
    "    Returns:\n",
    "        df (DataFrame): a dataframe with sim*student rows and one column per action detected\n",
    "    '''\n",
    "    df_action_l = pd.DataFrame({'sid':students,'sim':'L'})\n",
    "    df_action_c = pd.DataFrame({'sid':students,'sim':'C'})\n",
    "    \n",
    "    for sim,df_action in [('beers',df_action_l),('capacitor',df_action_c)]:\n",
    "        action_use = {action:{sid:0 for sid in students} for action,_,_ in detectors}\n",
    "        for sid in students:\n",
    "            logs = log_files_per_sim[sim][sid]\n",
    "            for log in logs:\n",
    "                df = prep_parsing_data(log,remove_model_events=False)\n",
    "                if not df.empty:\n",
    "                    for action,update_function,get_use_function in detectors:\n",
    "                        action_use[action][sid] = update_function([action_use[action][sid], get_use_function(df)])\n",
    "    \n",
    "        for action,_,_ in detectors:\n",
    "            df_action[action] = df_action['sid'].map(action_use[action])\n",
    "    return pd.concat([df_action_l,df_action_c])"
   ]
  },
  {
   "cell_type": "markdown",
   "metadata": {
    "heading_collapsed": true,
    "hidden": true
   },
   "source": [
    "## Actions to detect"
   ]
  },
  {
   "cell_type": "markdown",
   "metadata": {
    "hidden": true
   },
   "source": [
    "### Activity duration and user actions"
   ]
  },
  {
   "cell_type": "code",
   "execution_count": 7,
   "metadata": {
    "hidden": true
   },
   "outputs": [],
   "source": [
    "def get_activity_duration(df):\n",
    "    return list(df.sort_values(by='Time')['Time'])[-1]"
   ]
  },
  {
   "cell_type": "code",
   "execution_count": 8,
   "metadata": {
    "hidden": true
   },
   "outputs": [],
   "source": [
    "def get_number_actions(df):\n",
    "    #ignore model events count dragging as 1 event (by only counting dragStarted)\n",
    "    return df[(df['User or Model']!='model')&(df['Event']!='dragged')&(df['Event']!='dragEnded')].shape[0]"
   ]
  },
  {
   "cell_type": "markdown",
   "metadata": {
    "hidden": true
   },
   "source": [
    "### Exploration measures"
   ]
  },
  {
   "cell_type": "code",
   "execution_count": 9,
   "metadata": {
    "hidden": true
   },
   "outputs": [],
   "source": [
    "def get_time_second_record(df):\n",
    "    times = list(df[df['Event']=='recording data']['Time'])\n",
    "    if len(times)>=2:\n",
    "        times.sort()\n",
    "        return times[1] #return the time of the second record\n",
    "    else:\n",
    "        return list(df.sort_values(by='Time')['Time'])[-1] #else, return last time stamp\n",
    "\n",
    "def get_time_first_record(df):\n",
    "    times = list(df[df['Event']=='recording data']['Time'])\n",
    "    if len(times)>=1:\n",
    "        times.sort()\n",
    "        return times[0] #return the time of the first record\n",
    "    else:\n",
    "        return list(df.sort_values(by='Time')['Time'])[-1] #else, return last time stamp"
   ]
  },
  {
   "cell_type": "markdown",
   "metadata": {
    "hidden": true
   },
   "source": [
    "### Uses of different components"
   ]
  },
  {
   "cell_type": "code",
   "execution_count": 10,
   "metadata": {
    "hidden": true
   },
   "outputs": [],
   "source": [
    "def get_use_concentration_plus_minus(df):\n",
    "    if 'solutionControls slider' in df['Item'].tolist():\n",
    "        return 1\n",
    "    else:\n",
    "        return 0"
   ]
  },
  {
   "cell_type": "code",
   "execution_count": 11,
   "metadata": {
    "hidden": true
   },
   "outputs": [],
   "source": [
    "# #FIX ME\n",
    "# def get_number_words_notes(df):\n",
    "# #     print df.head()\n",
    "#     return max([len(str(text).split(' ')) if str(text)=='nan' else 0 for text in df['Notes'].tolist()])"
   ]
  },
  {
   "cell_type": "code",
   "execution_count": 12,
   "metadata": {
    "hidden": true
   },
   "outputs": [],
   "source": [
    "def get_use_move_trial(df):\n",
    "    if 'Moving trial in table' in df['Event'].tolist():\n",
    "        return 1\n",
    "    else:\n",
    "        return 0"
   ]
  },
  {
   "cell_type": "code",
   "execution_count": 13,
   "metadata": {
    "hidden": true
   },
   "outputs": [],
   "source": [
    "def get_use_remove_trial(df):\n",
    "    if 'Removing data from table' in df['Event'].tolist():\n",
    "        return 1\n",
    "    else:\n",
    "        return 0"
   ]
  },
  {
   "cell_type": "code",
   "execution_count": 14,
   "metadata": {
    "hidden": true
   },
   "outputs": [],
   "source": [
    "def get_use_restore(df):\n",
    "    if 'Restoring sim state from trial' in df['Event'].tolist():\n",
    "        return 1\n",
    "    else:\n",
    "        return 0"
   ]
  },
  {
   "cell_type": "markdown",
   "metadata": {
    "hidden": true
   },
   "source": [
    "### Uses of variable controls"
   ]
  },
  {
   "cell_type": "code",
   "execution_count": 15,
   "metadata": {
    "hidden": true
   },
   "outputs": [],
   "source": [
    "def get_use_number_area(df):\n",
    "    if 'plateAreaDragHandleNode' in df['Item'].tolist():\n",
    "        return df[df['Event']=='dragStarted']['Item'].value_counts()['plateAreaDragHandleNode']\n",
    "    else:\n",
    "        return 0\n",
    "\n",
    "def get_use_number_separation(df):\n",
    "    if 'plateSeparationDragHandleNode' in df['Item'].tolist():\n",
    "        return df[df['Event']=='dragStarted']['Item'].value_counts()['plateSeparationDragHandleNode']\n",
    "    else:\n",
    "        return 0\n",
    "    \n",
    "def get_use_number_width(df):\n",
    "    if 'cuvetteNode' in df['Item'].tolist():\n",
    "        return df[df['Event']=='dragStarted']['Item'].value_counts()['cuvetteNode']\n",
    "    else:\n",
    "        return 0\n",
    "\n",
    "def get_use_number_concentration(df):\n",
    "    if 'Changed concentration' in df['Event'].tolist():\n",
    "        number_plus_minus = df['Event'].value_counts()['Changed concentration']\n",
    "    else:\n",
    "        number_plus_minus = 0\n",
    "    if 'solutionControls' in df['Item'].tolist():\n",
    "        return df[df['Event']=='dragStarted']['Item'].value_counts()['solutionControls'] + number_plus_minus\n",
    "    else:\n",
    "        return number_plus_minus\n",
    "\n",
    "def get_use_number_concentration_drag_only(df):\n",
    "    if 'solutionControls' in df['Item'].tolist():\n",
    "        return df[df['Event']=='dragStarted']['Item'].value_counts()['solutionControls']\n",
    "    else:\n",
    "        return 0"
   ]
  },
  {
   "cell_type": "markdown",
   "metadata": {
    "hidden": true
   },
   "source": [
    "## Running detectors"
   ]
  },
  {
   "cell_type": "code",
   "execution_count": 16,
   "metadata": {
    "hidden": true
   },
   "outputs": [],
   "source": [
    "detectors = [('duration',sum,get_activity_duration),\n",
    "             ('number of actions',sum,get_number_actions),\n",
    "             ('time second record',sum,get_time_second_record),\n",
    "             ('time first record',sum,get_time_first_record),\n",
    "             ('use concentration buttons',max,get_use_concentration_plus_minus),\n",
    "             ('use restore',max,get_use_restore),\n",
    "             ('use remove trial',max,get_use_remove_trial),\n",
    "             ('use move trial',max,get_use_move_trial),\n",
    "             ('use concentration',sum,get_use_number_concentration),\n",
    "             ('use concentration drag only',sum,get_use_number_concentration_drag_only),\n",
    "             ('use width',sum,get_use_number_width),\n",
    "             ('use area',sum,get_use_number_area),\n",
    "             ('use separation',sum,get_use_number_separation)\n",
    "#              ('number of words in notes',max,get_number_words_notes),\n",
    "            ]"
   ]
  },
  {
   "cell_type": "code",
   "execution_count": 17,
   "metadata": {
    "hidden": true
   },
   "outputs": [
    {
     "data": {
      "text/html": [
       "<div>\n",
       "<style>\n",
       "    .dataframe thead tr:only-child th {\n",
       "        text-align: right;\n",
       "    }\n",
       "\n",
       "    .dataframe thead th {\n",
       "        text-align: left;\n",
       "    }\n",
       "\n",
       "    .dataframe tbody tr th {\n",
       "        vertical-align: top;\n",
       "    }\n",
       "</style>\n",
       "<table border=\"1\" class=\"dataframe\">\n",
       "  <thead>\n",
       "    <tr style=\"text-align: right;\">\n",
       "      <th></th>\n",
       "      <th>sid</th>\n",
       "      <th>sim</th>\n",
       "      <th>duration</th>\n",
       "      <th>number of actions</th>\n",
       "      <th>time second record</th>\n",
       "      <th>time first record</th>\n",
       "      <th>use concentration buttons</th>\n",
       "      <th>use restore</th>\n",
       "      <th>use remove trial</th>\n",
       "      <th>use move trial</th>\n",
       "      <th>use concentration</th>\n",
       "      <th>use concentration drag only</th>\n",
       "      <th>use width</th>\n",
       "      <th>use area</th>\n",
       "      <th>use separation</th>\n",
       "    </tr>\n",
       "  </thead>\n",
       "  <tbody>\n",
       "    <tr>\n",
       "      <th>0</th>\n",
       "      <td>10866146</td>\n",
       "      <td>L</td>\n",
       "      <td>1045.064</td>\n",
       "      <td>263</td>\n",
       "      <td>796.405</td>\n",
       "      <td>762.031</td>\n",
       "      <td>1</td>\n",
       "      <td>1</td>\n",
       "      <td>1</td>\n",
       "      <td>0</td>\n",
       "      <td>78</td>\n",
       "      <td>20</td>\n",
       "      <td>19</td>\n",
       "      <td>0</td>\n",
       "      <td>0</td>\n",
       "    </tr>\n",
       "    <tr>\n",
       "      <th>0</th>\n",
       "      <td>10866146</td>\n",
       "      <td>C</td>\n",
       "      <td>851.686</td>\n",
       "      <td>50</td>\n",
       "      <td>851.686</td>\n",
       "      <td>851.686</td>\n",
       "      <td>0</td>\n",
       "      <td>0</td>\n",
       "      <td>0</td>\n",
       "      <td>0</td>\n",
       "      <td>0</td>\n",
       "      <td>0</td>\n",
       "      <td>0</td>\n",
       "      <td>8</td>\n",
       "      <td>18</td>\n",
       "    </tr>\n",
       "  </tbody>\n",
       "</table>\n",
       "</div>"
      ],
      "text/plain": [
       "        sid sim  duration  number of actions  time second record  \\\n",
       "0  10866146   L  1045.064                263             796.405   \n",
       "0  10866146   C   851.686                 50             851.686   \n",
       "\n",
       "   time first record  use concentration buttons  use restore  \\\n",
       "0            762.031                          1            1   \n",
       "0            851.686                          0            0   \n",
       "\n",
       "   use remove trial  use move trial  use concentration  \\\n",
       "0                 1               0                 78   \n",
       "0                 0               0                  0   \n",
       "\n",
       "   use concentration drag only  use width  use area  use separation  \n",
       "0                           20         19         0               0  \n",
       "0                            0          0         8              18  "
      ]
     },
     "execution_count": 17,
     "metadata": {},
     "output_type": "execute_result"
    }
   ],
   "source": [
    "# #test 1 student\n",
    "detect_multiple_actions(log_files_per_sim,[10866146],detectors)"
   ]
  },
  {
   "cell_type": "code",
   "execution_count": 18,
   "metadata": {
    "hidden": true
   },
   "outputs": [],
   "source": [
    "df = detect_multiple_actions(log_files_per_sim,students,detectors)\n",
    "df['order'] = df['sid'].map(get_student_metadata()['activity order'].to_dict()) # add order of activity (CL or LC)\n",
    "df['activity number'] = df.apply(lambda row: 1 if (row['sim']=='L' and row['order']=='LC') or (row['sim']=='C' and row['order']=='CL') else 2, axis=1)"
   ]
  },
  {
   "cell_type": "markdown",
   "metadata": {
    "heading_collapsed": true
   },
   "source": [
    "# Investigation"
   ]
  },
  {
   "cell_type": "markdown",
   "metadata": {
    "heading_collapsed": true,
    "hidden": true
   },
   "source": [
    "## Use of components"
   ]
  },
  {
   "cell_type": "code",
   "execution_count": 19,
   "metadata": {
    "hidden": true,
    "scrolled": false
   },
   "outputs": [
    {
     "data": {
      "text/html": [
       "<div>\n",
       "<style>\n",
       "    .dataframe thead tr:only-child th {\n",
       "        text-align: right;\n",
       "    }\n",
       "\n",
       "    .dataframe thead th {\n",
       "        text-align: left;\n",
       "    }\n",
       "\n",
       "    .dataframe tbody tr th {\n",
       "        vertical-align: top;\n",
       "    }\n",
       "</style>\n",
       "<table border=\"1\" class=\"dataframe\">\n",
       "  <thead>\n",
       "    <tr>\n",
       "      <th></th>\n",
       "      <th colspan=\"8\" halign=\"left\">duration</th>\n",
       "      <th colspan=\"2\" halign=\"left\">number of actions</th>\n",
       "      <th>...</th>\n",
       "      <th colspan=\"2\" halign=\"left\">use separation</th>\n",
       "      <th colspan=\"8\" halign=\"left\">use width</th>\n",
       "    </tr>\n",
       "    <tr>\n",
       "      <th></th>\n",
       "      <th>count</th>\n",
       "      <th>mean</th>\n",
       "      <th>std</th>\n",
       "      <th>min</th>\n",
       "      <th>25%</th>\n",
       "      <th>50%</th>\n",
       "      <th>75%</th>\n",
       "      <th>max</th>\n",
       "      <th>count</th>\n",
       "      <th>mean</th>\n",
       "      <th>...</th>\n",
       "      <th>75%</th>\n",
       "      <th>max</th>\n",
       "      <th>count</th>\n",
       "      <th>mean</th>\n",
       "      <th>std</th>\n",
       "      <th>min</th>\n",
       "      <th>25%</th>\n",
       "      <th>50%</th>\n",
       "      <th>75%</th>\n",
       "      <th>max</th>\n",
       "    </tr>\n",
       "    <tr>\n",
       "      <th>activity number</th>\n",
       "      <th></th>\n",
       "      <th></th>\n",
       "      <th></th>\n",
       "      <th></th>\n",
       "      <th></th>\n",
       "      <th></th>\n",
       "      <th></th>\n",
       "      <th></th>\n",
       "      <th></th>\n",
       "      <th></th>\n",
       "      <th></th>\n",
       "      <th></th>\n",
       "      <th></th>\n",
       "      <th></th>\n",
       "      <th></th>\n",
       "      <th></th>\n",
       "      <th></th>\n",
       "      <th></th>\n",
       "      <th></th>\n",
       "      <th></th>\n",
       "      <th></th>\n",
       "    </tr>\n",
       "  </thead>\n",
       "  <tbody>\n",
       "    <tr>\n",
       "      <th>1</th>\n",
       "      <td>148.0</td>\n",
       "      <td>830.706196</td>\n",
       "      <td>163.668612</td>\n",
       "      <td>165.834</td>\n",
       "      <td>760.93450</td>\n",
       "      <td>879.0965</td>\n",
       "      <td>934.94775</td>\n",
       "      <td>1064.577</td>\n",
       "      <td>148.0</td>\n",
       "      <td>204.858108</td>\n",
       "      <td>...</td>\n",
       "      <td>13.0</td>\n",
       "      <td>26.0</td>\n",
       "      <td>148.0</td>\n",
       "      <td>6.108108</td>\n",
       "      <td>7.876716</td>\n",
       "      <td>0.0</td>\n",
       "      <td>0.0</td>\n",
       "      <td>2.0</td>\n",
       "      <td>10.25</td>\n",
       "      <td>36.0</td>\n",
       "    </tr>\n",
       "    <tr>\n",
       "      <th>2</th>\n",
       "      <td>148.0</td>\n",
       "      <td>772.721926</td>\n",
       "      <td>213.812654</td>\n",
       "      <td>116.421</td>\n",
       "      <td>638.99525</td>\n",
       "      <td>850.0865</td>\n",
       "      <td>918.47125</td>\n",
       "      <td>1628.382</td>\n",
       "      <td>148.0</td>\n",
       "      <td>170.547297</td>\n",
       "      <td>...</td>\n",
       "      <td>12.0</td>\n",
       "      <td>31.0</td>\n",
       "      <td>148.0</td>\n",
       "      <td>6.310811</td>\n",
       "      <td>7.890278</td>\n",
       "      <td>0.0</td>\n",
       "      <td>0.0</td>\n",
       "      <td>0.0</td>\n",
       "      <td>11.25</td>\n",
       "      <td>30.0</td>\n",
       "    </tr>\n",
       "  </tbody>\n",
       "</table>\n",
       "<p>2 rows × 112 columns</p>\n",
       "</div>"
      ],
      "text/plain": [
       "                duration                                              \\\n",
       "                   count        mean         std      min        25%   \n",
       "activity number                                                        \n",
       "1                  148.0  830.706196  163.668612  165.834  760.93450   \n",
       "2                  148.0  772.721926  213.812654  116.421  638.99525   \n",
       "\n",
       "                                               number of actions              \\\n",
       "                      50%        75%       max             count        mean   \n",
       "activity number                                                                \n",
       "1                879.0965  934.94775  1064.577             148.0  204.858108   \n",
       "2                850.0865  918.47125  1628.382             148.0  170.547297   \n",
       "\n",
       "                 ...  use separation       use width                           \\\n",
       "                 ...             75%   max     count      mean       std  min   \n",
       "activity number  ...                                                            \n",
       "1                ...            13.0  26.0     148.0  6.108108  7.876716  0.0   \n",
       "2                ...            12.0  31.0     148.0  6.310811  7.890278  0.0   \n",
       "\n",
       "                                        \n",
       "                 25%  50%    75%   max  \n",
       "activity number                         \n",
       "1                0.0  2.0  10.25  36.0  \n",
       "2                0.0  0.0  11.25  30.0  \n",
       "\n",
       "[2 rows x 112 columns]"
      ]
     },
     "execution_count": 19,
     "metadata": {},
     "output_type": "execute_result"
    }
   ],
   "source": [
    "df.groupby('activity number').describe()"
   ]
  },
  {
   "cell_type": "markdown",
   "metadata": {
    "hidden": true
   },
   "source": [
    "Half the students use the concentration buttons (49%) thus it's important to not just consider the slider for changing concentration.\n",
    "\n",
    "Few students restore or move trials (at most 17 and 18% in a sim).\n",
    "\n",
    "Half the students remove a trial from the table"
   ]
  },
  {
   "cell_type": "markdown",
   "metadata": {
    "heading_collapsed": true,
    "hidden": true
   },
   "source": [
    "## How many actions do students do?"
   ]
  },
  {
   "cell_type": "code",
   "execution_count": 20,
   "metadata": {
    "hidden": true
   },
   "outputs": [
    {
     "name": "stdout",
     "output_type": "stream",
     "text": [
      "\n"
     ]
    },
    {
     "data": {
      "image/png": "[encoded data removed]",
      "text/plain": [
       "<matplotlib.figure.Figure at 0xe87d550>"
      ]
     },
     "metadata": {},
     "output_type": "display_data"
    }
   ],
   "source": [
    "fig, ax = plt.subplots()\n",
    "a_heights, a_bins = np.histogram(df[df['activity number']==1]['number of actions'],bins=12)\n",
    "b_heights, b_bins = np.histogram(df[df['activity number']==2]['number of actions'], bins=a_bins)\n",
    "\n",
    "width = (a_bins[1] - a_bins[0])/3\n",
    "\n",
    "ax.bar(a_bins[:-1], a_heights, width=width, facecolor='orange',label='first')\n",
    "ax.bar(b_bins[:-1]+width, b_heights, width=width, facecolor='purple',label='second')\n",
    "plt.ylim(0,100)\n",
    "plt.legend()\n",
    "plt.title(\"Number of actions by activity number\")\n",
    "print"
   ]
  },
  {
   "cell_type": "markdown",
   "metadata": {
    "heading_collapsed": true,
    "hidden": true
   },
   "source": [
    "## How long are activities?"
   ]
  },
  {
   "cell_type": "code",
   "execution_count": 21,
   "metadata": {
    "hidden": true
   },
   "outputs": [
    {
     "name": "stdout",
     "output_type": "stream",
     "text": [
      "\n"
     ]
    },
    {
     "data": {
      "image/png": "[encoded data removed]",
      "text/plain": [
       "<matplotlib.figure.Figure at 0xe485ba8>"
      ]
     },
     "metadata": {},
     "output_type": "display_data"
    }
   ],
   "source": [
    "fig, ax = plt.subplots()\n",
    "a_heights, a_bins = np.histogram(df[df['activity number']==1]['duration'],bins=12)\n",
    "b_heights, b_bins = np.histogram(df[df['activity number']==2]['duration'], bins=a_bins)\n",
    "\n",
    "width = (a_bins[1] - a_bins[0])/3\n",
    "\n",
    "ax.bar(a_bins[:-1], a_heights, width=width, facecolor='orange',label='first')\n",
    "ax.bar(b_bins[:-1]+width, b_heights, width=width, facecolor='purple',label='second')\n",
    "plt.legend()\n",
    "plt.ylim(0,100)\n",
    "plt.title(\"Duration by acvitivy number\")\n",
    "print"
   ]
  },
  {
   "cell_type": "markdown",
   "metadata": {
    "heading_collapsed": true,
    "hidden": true
   },
   "source": [
    "## How long do students explore in each sim?"
   ]
  },
  {
   "cell_type": "code",
   "execution_count": 22,
   "metadata": {
    "hidden": true
   },
   "outputs": [
    {
     "name": "stdout",
     "output_type": "stream",
     "text": [
      "\n"
     ]
    },
    {
     "data": {
      "image/png": "[encoded data removed]",
      "text/plain": [
       "<matplotlib.figure.Figure at 0xe485898>"
      ]
     },
     "metadata": {},
     "output_type": "display_data"
    }
   ],
   "source": [
    "fig, ax = plt.subplots()\n",
    "a_heights, a_bins = np.histogram(df[df['activity number']==1]['time first record'],bins=12)\n",
    "b_heights, b_bins = np.histogram(df[df['activity number']==2]['time first record'],bins=a_bins)\n",
    "c_heights, c_bins = np.histogram(df[df['activity number']==1]['time second record'],bins=a_bins)\n",
    "d_heights, d_bins = np.histogram(df[df['activity number']==2]['time second record'],bins=a_bins)\n",
    "\n",
    "width = (a_bins[1] - a_bins[0])/5\n",
    "\n",
    "ax.bar(a_bins[:-1], a_heights, width=width, facecolor='orange',label='1st record - first')\n",
    "ax.bar(b_bins[:-1]+width*2, b_heights, width=width, facecolor='purple',label='1st record - second')\n",
    "ax.bar(c_bins[:-1]+width, c_heights, width=width, facecolor='orange',label='2nd record - first',alpha=1,hatch='XX')\n",
    "ax.bar(d_bins[:-1]+width*3, d_heights, width=width, facecolor='purple',label='2nd record - second',alpha=1,hatch='XX')\n",
    "plt.legend()\n",
    "plt.title(\"Time of exploration (first and second record, if any) by acvitivy number\")\n",
    "print"
   ]
  },
  {
   "cell_type": "code",
   "execution_count": 23,
   "metadata": {
    "hidden": true
   },
   "outputs": [
    {
     "name": "stdout",
     "output_type": "stream",
     "text": [
      "\n"
     ]
    },
    {
     "data": {
      "image/png": "[encoded data removed]",
      "text/plain": [
       "<matplotlib.figure.Figure at 0xe492e80>"
      ]
     },
     "metadata": {},
     "output_type": "display_data"
    }
   ],
   "source": [
    "fig, ax = plt.subplots()\n",
    "a_heights, a_bins = np.histogram(df[df['activity number']==1]['time second record'],bins=12)\n",
    "b_heights, b_bins = np.histogram(df[df['activity number']==2]['time second record'],bins=a_bins)\n",
    "\n",
    "width = (a_bins[1] - a_bins[0])/3\n",
    "\n",
    "ax.bar(a_bins[:-1], a_heights, width=width, facecolor='orange',label='first')\n",
    "ax.bar(b_bins[:-1]+width, b_heights, width=width, facecolor='purple',label='second')\n",
    "plt.legend()\n",
    "plt.title(\"Time of exploration (second record, if any) by acvitivy number\")\n",
    "print"
   ]
  },
  {
   "cell_type": "markdown",
   "metadata": {
    "hidden": true
   },
   "source": [
    "So far, we find that most students do less than 200 actions within an activity of over 800s (13.3 min) long and explore for the first 200s (3.3min). In the second activity, it seems like students do more actions in a shorter activity and explore much less.\n",
    "\n",
    "The difference between looking at the 1st or 2nd record only changes things for the first activity: more students do their first record super early in the activity compared the second record."
   ]
  },
  {
   "cell_type": "markdown",
   "metadata": {
    "hidden": true
   },
   "source": [
    "## How many times do they change variable values?"
   ]
  },
  {
   "cell_type": "code",
   "execution_count": 24,
   "metadata": {
    "hidden": true
   },
   "outputs": [
    {
     "data": {
      "image/png": "[encoded data removed]",
      "text/plain": [
       "<matplotlib.figure.Figure at 0xebba780>"
      ]
     },
     "metadata": {},
     "output_type": "display_data"
    }
   ],
   "source": [
    "fig, axes = plt.subplots(4,figsize=(10,10))\n",
    "plt.ylim=(0,40)\n",
    "plt.xlim=(0,40)\n",
    "for ax,sim_variable in zip(axes,[('L','use concentration drag only'),('L','use width'),('C','use area'),('C','use separation')]):\n",
    "    sim,variable = sim_variable\n",
    "    ax.hist(df[df['sim']==sim][variable], bins=12,label = variable,alpha=0.8)\n",
    "    ax.axvline(df[df['sim']==sim][variable].mean(), color='r', linestyle='dashed', linewidth=2)\n",
    "    ax.set_title(variable);ax.set_ylim([0,40]);ax.set_xlim([0,40])"
   ]
  },
  {
   "cell_type": "markdown",
   "metadata": {
    "hidden": true
   },
   "source": [
    "Students on average do more individual drags of the controls for the separation variable. Let's look at how long they spend changing variable controls."
   ]
  },
  {
   "cell_type": "markdown",
   "metadata": {},
   "source": [
    "# An aggregate detector"
   ]
  },
  {
   "cell_type": "code",
   "execution_count": 25,
   "metadata": {},
   "outputs": [],
   "source": [
    "def detect_aggregate_action(log_files_per_sim,students,get_use_function):\n",
    "    '''\n",
    "    This function is a detector for a specific action that aggregates the findings over all students.\n",
    "    \n",
    "    Args:\n",
    "        students (list): All student to run detector on\n",
    "        log_files_per_sim (dict): dictionary by sim and student of log file names\n",
    "        get_use_function (function): takes a dataframe and returns what it detected\n",
    "\n",
    "    Returns:\n",
    "        aggregate_action_use (dict): a dictionary by sim by student of aggregate use of action\n",
    "    '''\n",
    "    aggregate_action_use = {'beers':{sid:[] for sid in students},'capacitor':{sid:[] for sid in students}}\n",
    "    \n",
    "    for sim in ['beers','capacitor']:\n",
    "        for sid in students:\n",
    "            logs = log_files_per_sim[sim][sid]\n",
    "            use = []\n",
    "\n",
    "            for log in logs:\n",
    "                df = prep_parsing_data(log,remove_model_events=False)\n",
    "                if not df.empty:\n",
    "                    use.extend(get_use_function(df))\n",
    "#                     try:\n",
    "#                         use.extend(get_use_function(df))\n",
    "#                     except:\n",
    "#                         print \"Unable to run aggregate detector on sim =\",sim,\", sid =\",sid\n",
    "            aggregate_action_use[sim][sid] = use\n",
    "    \n",
    "    return aggregate_action_use"
   ]
  },
  {
   "cell_type": "markdown",
   "metadata": {},
   "source": [
    "# Aggregate investigations"
   ]
  },
  {
   "cell_type": "markdown",
   "metadata": {
    "heading_collapsed": true
   },
   "source": [
    "## Aggregate analysis of wiggling"
   ]
  },
  {
   "cell_type": "code",
   "execution_count": 26,
   "metadata": {
    "hidden": true
   },
   "outputs": [],
   "source": [
    "def get_wiggle_times(df):\n",
    "    df_drag = df[(df['Event']=='dragStarted')|(df['Event']=='dragEnded')]\n",
    "    #this works since pairs of \"dragStarted\" and \"dragEnded\" will be consecutive\n",
    "#     if df_drag[df_drag['Event']=='dragStarted'].shape[0]==df_drag[df_drag['Event']=='dragEnded'].shape[0]+1:\n",
    "#         #sometimes the last dragEnded is missing, so we ignore this dragStart\n",
    "#         print \"dragEnded missing\", set(df['User'])\n",
    "#         return list(df_drag[df_drag['Event']=='dragEnded']['Time'].values - df_drag[df_drag['Event']=='dragStarted']['Time'].values[:-1])\n",
    "#     else:\n",
    "    return list(df_drag[df_drag['Event']=='dragEnded']['Time'].values - df_drag[df_drag['Event']=='dragStarted']['Time'].values)"
   ]
  },
  {
   "cell_type": "code",
   "execution_count": 27,
   "metadata": {
    "hidden": true
   },
   "outputs": [],
   "source": [
    "# wiggle_times = detect_aggregate_action(log_files_per_sim,students,get_wiggle_times)\n",
    "# #Here error means an unequal number of drag start and end"
   ]
  },
  {
   "cell_type": "code",
   "execution_count": 28,
   "metadata": {
    "hidden": true
   },
   "outputs": [],
   "source": [
    "# import itertools\n",
    "# all_wiggle_times = list(itertools.chain.from_iterable(wiggle_times['beers'].values()+wiggle_times['capacitor'].values()))\n",
    "# print np.mean(all_wiggle_times)\n",
    "# plt.hist(all_wiggle_times,bins=50)\n",
    "# print"
   ]
  },
  {
   "cell_type": "markdown",
   "metadata": {},
   "source": [
    "## Aggregate pause analysis"
   ]
  },
  {
   "cell_type": "code",
   "execution_count": 29,
   "metadata": {},
   "outputs": [],
   "source": [
    "def get_time_between_actions(df):\n",
    "    df = df[df['User or Model']=='user'] #remove model events, keep only user events\n",
    "    df['previous Time'] = df['Time'].shift()\n",
    "    df['time difference'] = df['Time'] - df['Time'].shift()\n",
    "    df = df.iloc[1:] #removes first row with NaN time difference\n",
    "    return df[(df['Event']!='dragged')&(df['Event']!='dragEnded')]['time difference']"
   ]
  },
  {
   "cell_type": "code",
   "execution_count": 30,
   "metadata": {
    "scrolled": false
   },
   "outputs": [],
   "source": [
    "all_intervals = detect_aggregate_action(log_files_per_sim,students,get_time_between_actions)"
   ]
  },
  {
   "cell_type": "code",
   "execution_count": 31,
   "metadata": {},
   "outputs": [],
   "source": [
    "import itertools\n",
    "intervals = list(itertools.chain.from_iterable(all_intervals['beers'].values()+all_intervals['capacitor'].values()))"
   ]
  },
  {
   "cell_type": "code",
   "execution_count": 45,
   "metadata": {},
   "outputs": [
    {
     "data": {
      "text/plain": [
       "<matplotlib.text.Text at 0x153aeb70>"
      ]
     },
     "execution_count": 45,
     "metadata": {},
     "output_type": "execute_result"
    },
    {
     "data": {
      "image/png": "[encoded data removed]",
      "text/plain": [
       "<matplotlib.figure.Figure at 0x14bef9e8>"
      ]
     },
     "metadata": {},
     "output_type": "display_data"
    }
   ],
   "source": [
    "fig, axes = plt.subplots(3,figsize=(10,10))\n",
    "a_cutoff,b_cutoff = 5,100\n",
    "axes[0].hist(intervals, bins=50)\n",
    "axes[0].set_title('Time in between actions (all) in log scale');axes[0].set_yscale('log')\n",
    "axes[1].hist([i for i in intervals if i<a_cutoff], bins=50)\n",
    "axes[1].set_title('Time in between actions (Below '+str(a_cutoff)+\"s)\")\n",
    "axes[2].hist([i for i in intervals if i>=a_cutoff], bins=50)\n",
    "axes[2].set_title('Time in between actions (Above '+str(a_cutoff)+\"s)\")\n",
    "# axes[2].hist([i for i in intervals if i>=a_cutoff and i<b_cutoff], bins=50)\n",
    "# axes[2].set_title('Time in between actions (Between '+str(a_cutoff)+\"s and \"+str(b_cutoff)+\"s and )\")\n",
    "# axes[3].hist([i for i in intervals if i>=b_cutoff], bins=50)\n",
    "# axes[3].set_title('Time in between actions (Above '+str(b_cutoff)+\"s)\")"
   ]
  },
  {
   "cell_type": "markdown",
   "metadata": {},
   "source": [
    "## Aggregate time playing with variable"
   ]
  },
  {
   "cell_type": "code",
   "execution_count": 146,
   "metadata": {},
   "outputs": [],
   "source": [
    "def get_use_number_width(df):\n",
    "    if 'cuvetteNode' in df['Item'].tolist():\n",
    "        return df[df['Event']=='dragStarted']['Item'].value_counts()['cuvetteNode']\n",
    "    else:\n",
    "        return 0\n",
    "    \n",
    "def get_time_exploring_width(df):\n",
    "    df = df[(df['User or Model']=='user')&(df['Event']!='dragged')] #remove model events, keep only user events\n",
    "    df = df.reset_index()\n",
    "    df['event number'] = df.index #get a number for each row\n",
    "    \n",
    "    df['previous Time'] = df['Time'].shift()\n",
    "    df['time difference'] = df['Time'] - df['Time'].shift() #get intervals of time\n",
    "    \n",
    "    #keep only events where previous event was also on variable\n",
    "    df['previous Item'] = df['Item'].shift()\n",
    "    df = df[(df['Item']=='cuvetteNode')&(df['previous Item']=='cuvetteNode')]\n",
    "    \n",
    "    times = []\n",
    "    t = 0\n",
    "    previous_event_number = 0\n",
    "    for i, row in df.iterrows():\n",
    "        if previous_event_number == row['event number']-1: #consecutive explorations\n",
    "            t += row['time difference'] #add times\n",
    "        else: #if not consecutive, we append the lenght of time played with variable\n",
    "            if t !=0:\n",
    "                times.append(t)\n",
    "            t = row['time difference']\n",
    "        previous_event_number = row['event number']\n",
    "    times.append(t)\n",
    "    return times"
   ]
  },
  {
   "cell_type": "code",
   "execution_count": 149,
   "metadata": {},
   "outputs": [],
   "source": [
    "times = detect_aggregate_action(log_files_per_sim,students,get_time_exploring_width)"
   ]
  },
  {
   "cell_type": "code",
   "execution_count": 152,
   "metadata": {},
   "outputs": [
    {
     "data": {
      "text/plain": [
       "1498"
      ]
     },
     "execution_count": 152,
     "metadata": {},
     "output_type": "execute_result"
    }
   ],
   "source": [
    "import itertools\n",
    "aggregate_times = list(itertools.chain.from_iterable(times['beers'].values()))\n",
    "len(aggregate_times)"
   ]
  },
  {
   "cell_type": "code",
   "execution_count": 162,
   "metadata": {},
   "outputs": [
    {
     "data": {
      "text/plain": [
       "<matplotlib.text.Text at 0x1c119780>"
      ]
     },
     "execution_count": 162,
     "metadata": {},
     "output_type": "execute_result"
    },
    {
     "data": {
      "image/png": "[encoded data removed]",
      "text/plain": [
       "<matplotlib.figure.Figure at 0x1bc16160>"
      ]
     },
     "metadata": {},
     "output_type": "display_data"
    }
   ],
   "source": [
    "fig, axes = plt.subplots(2,figsize=(10,10))\n",
    "a_cutoff,b_cutoff = 5,100\n",
    "axes[0].hist(aggregate_times, bins=50)\n",
    "axes[0].set_title('Exploration time for width (all) in log scale');axes[0].set_yscale('log')\n",
    "axes[1].hist([i for i in aggregate_times if i<a_cutoff], bins=50)\n",
    "axes[1].set_title('Exploration time for width (Below '+str(a_cutoff)+\"s)\")"
   ]
  }
 ],
 "metadata": {
  "anaconda-cloud": {},
  "kernelspec": {
   "display_name": "Python 2",
   "language": "python",
   "name": "python2"
  },
  "language_info": {
   "codemirror_mode": {
    "name": "ipython",
    "version": 2
   },
   "file_extension": ".py",
   "mimetype": "text/x-python",
   "name": "python",
   "nbconvert_exporter": "python",
   "pygments_lexer": "ipython2",
   "version": "2.7.13"
  },
  "toc": {
   "nav_menu": {},
   "number_sections": true,
   "sideBar": false,
   "skip_h1_title": false,
   "toc_cell": false,
   "toc_position": {},
   "toc_section_display": "block",
   "toc_window_display": false
  }
 },
 "nbformat": 4,
 "nbformat_minor": 1
}
