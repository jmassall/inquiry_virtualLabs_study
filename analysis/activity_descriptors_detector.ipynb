{
 "cells": [
  {
   "cell_type": "markdown",
   "metadata": {
    "heading_collapsed": true
   },
   "source": [
    "# About activity_descriptors_detector.ipynb"
   ]
  },
  {
   "cell_type": "markdown",
   "metadata": {
    "hidden": true
   },
   "source": [
    "This notebook detects different aspects of activities from log files."
   ]
  },
  {
   "cell_type": "code",
   "execution_count": 1,
   "metadata": {
    "collapsed": false,
    "hidden": true
   },
   "outputs": [
    {
     "data": {
      "text/html": [
       "<script>jQuery(function() {if (jQuery(\"body.notebook_app\").length == 0) { jQuery(\".input_area\").toggle(); jQuery(\".prompt\").toggle();}});</script>"
      ]
     },
     "metadata": {},
     "output_type": "display_data"
    }
   ],
   "source": [
    "from IPython.display import display\n",
    "from IPython.display import HTML\n",
    "import IPython.core.display as di\n",
    "\n",
    "# This line will hide code by default when the notebook is exported as HTML\n",
    "di.display_html('<script>jQuery(function() {if (jQuery(\"body.notebook_app\").length == 0) { jQuery(\".input_area\").toggle(); jQuery(\".prompt\").toggle();}});</script>', raw=True)"
   ]
  },
  {
   "cell_type": "code",
   "execution_count": 2,
   "metadata": {
    "collapsed": false,
    "hidden": true
   },
   "outputs": [],
   "source": [
    "%load_ext autoreload\n",
    "%autoreload 1\n",
    "%aimport utils_timeline_viz\n",
    "from utils_timeline_viz import *\n",
    "from utils_read_parsing import *\n",
    "from tabulate import tabulate\n",
    "import seaborn as sns\n",
    "%matplotlib inline\n",
    "matplotlib.style.use('ggplot')\n",
    "matplotlib.rcParams['figure.figsize'] = 8,4"
   ]
  },
  {
   "cell_type": "markdown",
   "metadata": {},
   "source": [
    "# Preparing activity descriptive data"
   ]
  },
  {
   "cell_type": "markdown",
   "metadata": {
    "heading_collapsed": true
   },
   "source": [
    "## Getting log data"
   ]
  },
  {
   "cell_type": "code",
   "execution_count": 3,
   "metadata": {
    "collapsed": false,
    "hidden": true
   },
   "outputs": [
    {
     "name": "stdout",
     "output_type": "stream",
     "text": [
      "The file sperez8_beers_log_files_per_student.txt has been unpickled and loaded\n",
      "The file sperez8_capacitor_log_files_per_student.txt has been unpickled and loaded\n"
     ]
    }
   ],
   "source": [
    "log_files_per_sim = {}\n",
    "for sim in ['beers','capacitor']:\n",
    "    log_files_per_sim[sim] = get_parsed_log_files_per_student_for_sim(sim)"
   ]
  },
  {
   "cell_type": "code",
   "execution_count": 4,
   "metadata": {
    "collapsed": true,
    "hidden": true
   },
   "outputs": [],
   "source": [
    "students = log_files_per_sim['beers'].keys()"
   ]
  },
  {
   "cell_type": "markdown",
   "metadata": {
    "heading_collapsed": true
   },
   "source": [
    "## Two types of detectors"
   ]
  },
  {
   "cell_type": "code",
   "execution_count": 5,
   "metadata": {
    "collapsed": true,
    "hidden": true
   },
   "outputs": [],
   "source": [
    "def detect_action(log_files_per_sim,students,initial_value,update_function,get_use_function,ignore_model_events=True):\n",
    "    '''\n",
    "    This function is a generic detector for a specific action.\n",
    "    \n",
    "    Args:\n",
    "        students (list): All student to run detector on\n",
    "        log_files_per_sim (dict): dictionary by sim and student of log file names\n",
    "        initial_value (): False for binary usage, 0 for number of times students did something, etc...\n",
    "        update_function (function): takes use from 1st log file and compares it to the next using max, sum, min, etc...\n",
    "        get_use_function (function): takes a dataframe and returns what it detected\n",
    "\n",
    "    Returns:\n",
    "        action_use (dict): a dictionary by sim by student of use of action\n",
    "    '''\n",
    "    action_use = {'beers':{sid:initial_value for sid in students},'capacitor':{sid:initial_value for sid in students}}\n",
    "    \n",
    "    for sim in ['beers','capacitor']:\n",
    "        for sid in students:\n",
    "            logs = log_files_per_sim[sim][sid]\n",
    "            use = initial_value\n",
    "\n",
    "            for log in logs:\n",
    "                df = prep_parsing_data(log,remove_model_events=ignore_model_events)\n",
    "                if not df.empty:\n",
    "                    use = update_function([use, get_use_function(df)])\n",
    "            \n",
    "            action_use[sim][sid] = use\n",
    "    \n",
    "    return action_use"
   ]
  },
  {
   "cell_type": "code",
   "execution_count": 6,
   "metadata": {
    "collapsed": true,
    "hidden": true
   },
   "outputs": [],
   "source": [
    "def detect_multiple_actions(log_files_per_sim,students,detectors):\n",
    "    '''\n",
    "    This function is a generic actions detector.\n",
    "    \n",
    "    Args:\n",
    "        students (list): All student to run detector on\n",
    "        log_files_per_sim (dict): dictionary by sim and student of log file names\n",
    "        detectors (list of tuples): Contains each detector:\n",
    "            action (string): name of the action to use as column name in dataframe\n",
    "            update_function (function): takes use from 1st log file and compares it to the next using max, sum, min, etc...\n",
    "            get_use_function (function): takes a dataframe and returns what it detected\n",
    "\n",
    "    Returns:\n",
    "        df (DataFrame): a dataframe with sim*student rows and one column per action detected\n",
    "    '''\n",
    "    df_action_l = pd.DataFrame({'sid':students,'sim':'L'})\n",
    "    df_action_c = pd.DataFrame({'sid':students,'sim':'C'})\n",
    "    \n",
    "    for sim,df_action in [('beers',df_action_l),('capacitor',df_action_c)]:\n",
    "        action_use = {action:{sid:0 for sid in students} for action,_,_ in detectors}\n",
    "        for sid in students:\n",
    "            logs = log_files_per_sim[sim][sid]\n",
    "            for log in logs:\n",
    "                df = prep_parsing_data(log,remove_model_events=False)\n",
    "                if not df.empty:\n",
    "                    for action,update_function,get_use_function in detectors:\n",
    "                        action_use[action][sid] = update_function([action_use[action][sid], get_use_function(df)])\n",
    "    \n",
    "        for action,_,_ in detectors:\n",
    "            df_action[action] = df_action['sid'].map(action_use[action])\n",
    "    return pd.concat([df_action_l,df_action_c])"
   ]
  },
  {
   "cell_type": "markdown",
   "metadata": {
    "heading_collapsed": true
   },
   "source": [
    "## Actions to detect"
   ]
  },
  {
   "cell_type": "markdown",
   "metadata": {
    "heading_collapsed": true,
    "hidden": true
   },
   "source": [
    "### Activity duration and user actions"
   ]
  },
  {
   "cell_type": "code",
   "execution_count": 7,
   "metadata": {
    "collapsed": false,
    "hidden": true
   },
   "outputs": [],
   "source": [
    "def get_activity_duration(df):\n",
    "    return list(df.sort_values(by='Time')['Time'])[-1]"
   ]
  },
  {
   "cell_type": "code",
   "execution_count": 8,
   "metadata": {
    "collapsed": false,
    "hidden": true
   },
   "outputs": [],
   "source": [
    "def get_number_actions(df):\n",
    "    #ignore model events count dragging as 1 event (by only counting dragStarted)\n",
    "    return df[(df['User or Model']!='model')&(df['Event']!='dragged')&(df['Event']!='dragEnded')].shape[0]"
   ]
  },
  {
   "cell_type": "markdown",
   "metadata": {
    "heading_collapsed": true,
    "hidden": true
   },
   "source": [
    "### Exploration measures"
   ]
  },
  {
   "cell_type": "code",
   "execution_count": 9,
   "metadata": {
    "collapsed": false,
    "hidden": true
   },
   "outputs": [],
   "source": [
    "def get_time_second_record(df):\n",
    "    times = list(df[df['Event']=='recording data']['Time'])\n",
    "    if len(times)>=2:\n",
    "        times.sort()\n",
    "        return times[1] #return the time of the second record\n",
    "    else:\n",
    "        return list(df.sort_values(by='Time')['Time'])[-1] #else, return last time stamp"
   ]
  },
  {
   "cell_type": "markdown",
   "metadata": {
    "heading_collapsed": true,
    "hidden": true
   },
   "source": [
    "### Uses of different components"
   ]
  },
  {
   "cell_type": "code",
   "execution_count": 10,
   "metadata": {
    "collapsed": true,
    "hidden": true
   },
   "outputs": [],
   "source": [
    "def get_use_concentration_plus_minus(df):\n",
    "    if 'solutionControls slider' in df['Item'].tolist():\n",
    "        return 1\n",
    "    else:\n",
    "        return 0"
   ]
  },
  {
   "cell_type": "code",
   "execution_count": 11,
   "metadata": {
    "collapsed": false,
    "hidden": true
   },
   "outputs": [],
   "source": [
    "# #FIX ME\n",
    "# def get_number_words_notes(df):\n",
    "# #     print df.head()\n",
    "#     return max([len(str(text).split(' ')) if str(text)=='nan' else 0 for text in df['Notes'].tolist()])"
   ]
  },
  {
   "cell_type": "code",
   "execution_count": 12,
   "metadata": {
    "collapsed": true,
    "hidden": true
   },
   "outputs": [],
   "source": [
    "def get_use_move_trial(df):\n",
    "    if 'Moving trial in table' in df['Event'].tolist():\n",
    "        return 1\n",
    "    else:\n",
    "        return 0"
   ]
  },
  {
   "cell_type": "code",
   "execution_count": 13,
   "metadata": {
    "collapsed": false,
    "hidden": true
   },
   "outputs": [],
   "source": [
    "def get_use_remove_trial(df):\n",
    "    if 'Removing data from table' in df['Event'].tolist():\n",
    "        return 1\n",
    "    else:\n",
    "        return 0"
   ]
  },
  {
   "cell_type": "code",
   "execution_count": 14,
   "metadata": {
    "collapsed": false,
    "hidden": true
   },
   "outputs": [],
   "source": [
    "def get_use_restore(df):\n",
    "    if 'Restoring sim state from trial' in df['Event'].tolist():\n",
    "        return 1\n",
    "    else:\n",
    "        return 0"
   ]
  },
  {
   "cell_type": "markdown",
   "metadata": {
    "heading_collapsed": true
   },
   "source": [
    "## Running detectors"
   ]
  },
  {
   "cell_type": "code",
   "execution_count": 15,
   "metadata": {
    "collapsed": false,
    "hidden": true
   },
   "outputs": [],
   "source": [
    "detectors = [('duration',sum,get_activity_duration),\n",
    "             ('number of actions',sum,get_number_actions),\n",
    "             ('time second record',sum,get_time_second_record),\n",
    "             ('use concentration buttons',max,get_use_concentration_plus_minus),\n",
    "             ('use restore',max,get_use_restore),\n",
    "             ('use remove trial',max,get_use_remove_trial),\n",
    "             ('use move trial',max,get_use_move_trial),\n",
    "#              ('number of words in notes',max,get_number_words_notes),\n",
    "            ]"
   ]
  },
  {
   "cell_type": "code",
   "execution_count": 16,
   "metadata": {
    "collapsed": false,
    "hidden": true
   },
   "outputs": [
    {
     "data": {
      "text/html": [
       "<div>\n",
       "<table border=\"1\" class=\"dataframe\">\n",
       "  <thead>\n",
       "    <tr style=\"text-align: right;\">\n",
       "      <th></th>\n",
       "      <th>sid</th>\n",
       "      <th>sim</th>\n",
       "      <th>duration</th>\n",
       "      <th>number of actions</th>\n",
       "      <th>time second record</th>\n",
       "      <th>use concentration buttons</th>\n",
       "      <th>use restore</th>\n",
       "      <th>use remove trial</th>\n",
       "      <th>use move trial</th>\n",
       "    </tr>\n",
       "  </thead>\n",
       "  <tbody>\n",
       "    <tr>\n",
       "      <th>0</th>\n",
       "      <td>10866146</td>\n",
       "      <td>L</td>\n",
       "      <td>1045.064</td>\n",
       "      <td>263</td>\n",
       "      <td>796.405</td>\n",
       "      <td>1</td>\n",
       "      <td>1</td>\n",
       "      <td>1</td>\n",
       "      <td>0</td>\n",
       "    </tr>\n",
       "    <tr>\n",
       "      <th>0</th>\n",
       "      <td>10866146</td>\n",
       "      <td>C</td>\n",
       "      <td>851.686</td>\n",
       "      <td>50</td>\n",
       "      <td>851.686</td>\n",
       "      <td>0</td>\n",
       "      <td>0</td>\n",
       "      <td>0</td>\n",
       "      <td>0</td>\n",
       "    </tr>\n",
       "  </tbody>\n",
       "</table>\n",
       "</div>"
      ],
      "text/plain": [
       "        sid sim  duration  number of actions  time second record  \\\n",
       "0  10866146   L  1045.064                263             796.405   \n",
       "0  10866146   C   851.686                 50             851.686   \n",
       "\n",
       "   use concentration buttons  use restore  use remove trial  use move trial  \n",
       "0                          1            1                 1               0  \n",
       "0                          0            0                 0               0  "
      ]
     },
     "execution_count": 16,
     "metadata": {},
     "output_type": "execute_result"
    }
   ],
   "source": [
    "# #test 1 student\n",
    "detect_multiple_actions(log_files_per_sim,[10866146],detectors)"
   ]
  },
  {
   "cell_type": "code",
   "execution_count": 17,
   "metadata": {
    "collapsed": false,
    "hidden": true
   },
   "outputs": [],
   "source": [
    "df = detect_multiple_actions(log_files_per_sim,students,detectors)\n",
    "df['order'] = df['sid'].map(get_student_metadata()['activity order'].to_dict()) # add order of activity (CL or LC)\n",
    "df['activity number'] = df.apply(lambda row: 1 if (row['sim']=='L' and row['order']=='LC') or (row['sim']=='C' and row['order']=='CL') else 2, axis=1)"
   ]
  },
  {
   "cell_type": "markdown",
   "metadata": {},
   "source": [
    "# Investigation"
   ]
  },
  {
   "cell_type": "markdown",
   "metadata": {},
   "source": [
    "## Use of components"
   ]
  },
  {
   "cell_type": "code",
   "execution_count": 18,
   "metadata": {
    "collapsed": false,
    "scrolled": true
   },
   "outputs": [
    {
     "data": {
      "text/html": [
       "<div>\n",
       "<table border=\"1\" class=\"dataframe\">\n",
       "  <thead>\n",
       "    <tr style=\"text-align: right;\">\n",
       "      <th></th>\n",
       "      <th></th>\n",
       "      <th>activity number</th>\n",
       "      <th>duration</th>\n",
       "      <th>number of actions</th>\n",
       "      <th>sid</th>\n",
       "      <th>time second record</th>\n",
       "      <th>use concentration buttons</th>\n",
       "      <th>use move trial</th>\n",
       "      <th>use remove trial</th>\n",
       "      <th>use restore</th>\n",
       "    </tr>\n",
       "    <tr>\n",
       "      <th>sim</th>\n",
       "      <th></th>\n",
       "      <th></th>\n",
       "      <th></th>\n",
       "      <th></th>\n",
       "      <th></th>\n",
       "      <th></th>\n",
       "      <th></th>\n",
       "      <th></th>\n",
       "      <th></th>\n",
       "      <th></th>\n",
       "    </tr>\n",
       "  </thead>\n",
       "  <tbody>\n",
       "    <tr>\n",
       "      <th rowspan=\"8\" valign=\"top\">C</th>\n",
       "      <th>count</th>\n",
       "      <td>148.000000</td>\n",
       "      <td>148.000000</td>\n",
       "      <td>148.000000</td>\n",
       "      <td>1.480000e+02</td>\n",
       "      <td>148.000000</td>\n",
       "      <td>148.000000</td>\n",
       "      <td>148.000000</td>\n",
       "      <td>148.000000</td>\n",
       "      <td>148.000000</td>\n",
       "    </tr>\n",
       "    <tr>\n",
       "      <th>mean</th>\n",
       "      <td>1.513514</td>\n",
       "      <td>800.704628</td>\n",
       "      <td>151.797297</td>\n",
       "      <td>2.204070e+07</td>\n",
       "      <td>270.856899</td>\n",
       "      <td>0.000000</td>\n",
       "      <td>0.121622</td>\n",
       "      <td>0.594595</td>\n",
       "      <td>0.121622</td>\n",
       "    </tr>\n",
       "    <tr>\n",
       "      <th>std</th>\n",
       "      <td>0.501515</td>\n",
       "      <td>203.545299</td>\n",
       "      <td>161.065794</td>\n",
       "      <td>1.807852e+07</td>\n",
       "      <td>261.255506</td>\n",
       "      <td>0.000000</td>\n",
       "      <td>0.327958</td>\n",
       "      <td>0.492637</td>\n",
       "      <td>0.327958</td>\n",
       "    </tr>\n",
       "    <tr>\n",
       "      <th>min</th>\n",
       "      <td>1.000000</td>\n",
       "      <td>116.421000</td>\n",
       "      <td>22.000000</td>\n",
       "      <td>1.012716e+07</td>\n",
       "      <td>16.825000</td>\n",
       "      <td>0.000000</td>\n",
       "      <td>0.000000</td>\n",
       "      <td>0.000000</td>\n",
       "      <td>0.000000</td>\n",
       "    </tr>\n",
       "    <tr>\n",
       "      <th>25%</th>\n",
       "      <td>1.000000</td>\n",
       "      <td>690.989750</td>\n",
       "      <td>65.000000</td>\n",
       "      <td>1.353541e+07</td>\n",
       "      <td>68.178750</td>\n",
       "      <td>0.000000</td>\n",
       "      <td>0.000000</td>\n",
       "      <td>0.000000</td>\n",
       "      <td>0.000000</td>\n",
       "    </tr>\n",
       "    <tr>\n",
       "      <th>50%</th>\n",
       "      <td>2.000000</td>\n",
       "      <td>855.747500</td>\n",
       "      <td>102.500000</td>\n",
       "      <td>1.670466e+07</td>\n",
       "      <td>170.754000</td>\n",
       "      <td>0.000000</td>\n",
       "      <td>0.000000</td>\n",
       "      <td>1.000000</td>\n",
       "      <td>0.000000</td>\n",
       "    </tr>\n",
       "    <tr>\n",
       "      <th>75%</th>\n",
       "      <td>2.000000</td>\n",
       "      <td>925.429250</td>\n",
       "      <td>177.250000</td>\n",
       "      <td>1.936215e+07</td>\n",
       "      <td>413.472250</td>\n",
       "      <td>0.000000</td>\n",
       "      <td>0.000000</td>\n",
       "      <td>1.000000</td>\n",
       "      <td>0.000000</td>\n",
       "    </tr>\n",
       "    <tr>\n",
       "      <th>max</th>\n",
       "      <td>2.000000</td>\n",
       "      <td>1628.382000</td>\n",
       "      <td>1419.000000</td>\n",
       "      <td>9.044717e+07</td>\n",
       "      <td>972.075000</td>\n",
       "      <td>0.000000</td>\n",
       "      <td>1.000000</td>\n",
       "      <td>1.000000</td>\n",
       "      <td>1.000000</td>\n",
       "    </tr>\n",
       "    <tr>\n",
       "      <th rowspan=\"8\" valign=\"top\">L</th>\n",
       "      <th>count</th>\n",
       "      <td>148.000000</td>\n",
       "      <td>148.000000</td>\n",
       "      <td>148.000000</td>\n",
       "      <td>1.480000e+02</td>\n",
       "      <td>148.000000</td>\n",
       "      <td>148.000000</td>\n",
       "      <td>148.000000</td>\n",
       "      <td>148.000000</td>\n",
       "      <td>148.000000</td>\n",
       "    </tr>\n",
       "    <tr>\n",
       "      <th>mean</th>\n",
       "      <td>1.486486</td>\n",
       "      <td>802.723493</td>\n",
       "      <td>223.608108</td>\n",
       "      <td>2.204070e+07</td>\n",
       "      <td>257.151615</td>\n",
       "      <td>0.486486</td>\n",
       "      <td>0.168919</td>\n",
       "      <td>0.560811</td>\n",
       "      <td>0.175676</td>\n",
       "    </tr>\n",
       "    <tr>\n",
       "      <th>std</th>\n",
       "      <td>0.501515</td>\n",
       "      <td>181.005660</td>\n",
       "      <td>196.713011</td>\n",
       "      <td>1.807852e+07</td>\n",
       "      <td>240.302536</td>\n",
       "      <td>0.501515</td>\n",
       "      <td>0.375953</td>\n",
       "      <td>0.497973</td>\n",
       "      <td>0.381836</td>\n",
       "    </tr>\n",
       "    <tr>\n",
       "      <th>min</th>\n",
       "      <td>1.000000</td>\n",
       "      <td>165.834000</td>\n",
       "      <td>26.000000</td>\n",
       "      <td>1.012716e+07</td>\n",
       "      <td>19.455000</td>\n",
       "      <td>0.000000</td>\n",
       "      <td>0.000000</td>\n",
       "      <td>0.000000</td>\n",
       "      <td>0.000000</td>\n",
       "    </tr>\n",
       "    <tr>\n",
       "      <th>25%</th>\n",
       "      <td>1.000000</td>\n",
       "      <td>703.364000</td>\n",
       "      <td>92.750000</td>\n",
       "      <td>1.353541e+07</td>\n",
       "      <td>72.680750</td>\n",
       "      <td>0.000000</td>\n",
       "      <td>0.000000</td>\n",
       "      <td>0.000000</td>\n",
       "      <td>0.000000</td>\n",
       "    </tr>\n",
       "    <tr>\n",
       "      <th>50%</th>\n",
       "      <td>1.000000</td>\n",
       "      <td>873.684500</td>\n",
       "      <td>167.000000</td>\n",
       "      <td>1.670466e+07</td>\n",
       "      <td>155.776000</td>\n",
       "      <td>0.000000</td>\n",
       "      <td>0.000000</td>\n",
       "      <td>1.000000</td>\n",
       "      <td>0.000000</td>\n",
       "    </tr>\n",
       "    <tr>\n",
       "      <th>75%</th>\n",
       "      <td>2.000000</td>\n",
       "      <td>928.330500</td>\n",
       "      <td>294.750000</td>\n",
       "      <td>1.936215e+07</td>\n",
       "      <td>416.246250</td>\n",
       "      <td>1.000000</td>\n",
       "      <td>0.000000</td>\n",
       "      <td>1.000000</td>\n",
       "      <td>0.000000</td>\n",
       "    </tr>\n",
       "    <tr>\n",
       "      <th>max</th>\n",
       "      <td>2.000000</td>\n",
       "      <td>1045.064000</td>\n",
       "      <td>1281.000000</td>\n",
       "      <td>9.044717e+07</td>\n",
       "      <td>945.799000</td>\n",
       "      <td>1.000000</td>\n",
       "      <td>1.000000</td>\n",
       "      <td>1.000000</td>\n",
       "      <td>1.000000</td>\n",
       "    </tr>\n",
       "  </tbody>\n",
       "</table>\n",
       "</div>"
      ],
      "text/plain": [
       "           activity number     duration  number of actions           sid  \\\n",
       "sim                                                                        \n",
       "C   count       148.000000   148.000000         148.000000  1.480000e+02   \n",
       "    mean          1.513514   800.704628         151.797297  2.204070e+07   \n",
       "    std           0.501515   203.545299         161.065794  1.807852e+07   \n",
       "    min           1.000000   116.421000          22.000000  1.012716e+07   \n",
       "    25%           1.000000   690.989750          65.000000  1.353541e+07   \n",
       "    50%           2.000000   855.747500         102.500000  1.670466e+07   \n",
       "    75%           2.000000   925.429250         177.250000  1.936215e+07   \n",
       "    max           2.000000  1628.382000        1419.000000  9.044717e+07   \n",
       "L   count       148.000000   148.000000         148.000000  1.480000e+02   \n",
       "    mean          1.486486   802.723493         223.608108  2.204070e+07   \n",
       "    std           0.501515   181.005660         196.713011  1.807852e+07   \n",
       "    min           1.000000   165.834000          26.000000  1.012716e+07   \n",
       "    25%           1.000000   703.364000          92.750000  1.353541e+07   \n",
       "    50%           1.000000   873.684500         167.000000  1.670466e+07   \n",
       "    75%           2.000000   928.330500         294.750000  1.936215e+07   \n",
       "    max           2.000000  1045.064000        1281.000000  9.044717e+07   \n",
       "\n",
       "           time second record  use concentration buttons  use move trial  \\\n",
       "sim                                                                        \n",
       "C   count          148.000000                 148.000000      148.000000   \n",
       "    mean           270.856899                   0.000000        0.121622   \n",
       "    std            261.255506                   0.000000        0.327958   \n",
       "    min             16.825000                   0.000000        0.000000   \n",
       "    25%             68.178750                   0.000000        0.000000   \n",
       "    50%            170.754000                   0.000000        0.000000   \n",
       "    75%            413.472250                   0.000000        0.000000   \n",
       "    max            972.075000                   0.000000        1.000000   \n",
       "L   count          148.000000                 148.000000      148.000000   \n",
       "    mean           257.151615                   0.486486        0.168919   \n",
       "    std            240.302536                   0.501515        0.375953   \n",
       "    min             19.455000                   0.000000        0.000000   \n",
       "    25%             72.680750                   0.000000        0.000000   \n",
       "    50%            155.776000                   0.000000        0.000000   \n",
       "    75%            416.246250                   1.000000        0.000000   \n",
       "    max            945.799000                   1.000000        1.000000   \n",
       "\n",
       "           use remove trial  use restore  \n",
       "sim                                       \n",
       "C   count        148.000000   148.000000  \n",
       "    mean           0.594595     0.121622  \n",
       "    std            0.492637     0.327958  \n",
       "    min            0.000000     0.000000  \n",
       "    25%            0.000000     0.000000  \n",
       "    50%            1.000000     0.000000  \n",
       "    75%            1.000000     0.000000  \n",
       "    max            1.000000     1.000000  \n",
       "L   count        148.000000   148.000000  \n",
       "    mean           0.560811     0.175676  \n",
       "    std            0.497973     0.381836  \n",
       "    min            0.000000     0.000000  \n",
       "    25%            0.000000     0.000000  \n",
       "    50%            1.000000     0.000000  \n",
       "    75%            1.000000     0.000000  \n",
       "    max            1.000000     1.000000  "
      ]
     },
     "execution_count": 18,
     "metadata": {},
     "output_type": "execute_result"
    }
   ],
   "source": [
    "df.groupby('sim').describe()"
   ]
  },
  {
   "cell_type": "markdown",
   "metadata": {},
   "source": [
    "Half the students use the concentration buttons (49%) thus it's important to not just consider the slider for changing concentration.\n",
    "\n",
    "Few students restore or move trials (at most 17 and 18% in a sim).\n",
    "\n",
    "Half the students remove a trial from the table"
   ]
  },
  {
   "cell_type": "markdown",
   "metadata": {},
   "source": [
    "## How many actions do students do?"
   ]
  },
  {
   "cell_type": "code",
   "execution_count": 19,
   "metadata": {
    "collapsed": false
   },
   "outputs": [
    {
     "name": "stdout",
     "output_type": "stream",
     "text": [
      "\n"
     ]
    },
    {
     "data": {
      "image/png": "[encoded data removed]",
      "text/plain": [
       "<matplotlib.figure.Figure at 0xc8717f0>"
      ]
     },
     "metadata": {},
     "output_type": "display_data"
    }
   ],
   "source": [
    "fig, ax = plt.subplots()\n",
    "a_heights, a_bins = np.histogram(df[df['activity number']==1]['number of actions'],bins=12)\n",
    "b_heights, b_bins = np.histogram(df[df['activity number']==2]['number of actions'], bins=a_bins)\n",
    "\n",
    "width = (a_bins[1] - a_bins[0])/3\n",
    "\n",
    "ax.bar(a_bins[:-1], a_heights, width=width, facecolor='orange',label='first')\n",
    "ax.bar(b_bins[:-1]+width, b_heights, width=width, facecolor='purple',label='second')\n",
    "plt.legend()\n",
    "plt.title(\"Number of actions by activity number\")\n",
    "print"
   ]
  },
  {
   "cell_type": "markdown",
   "metadata": {},
   "source": [
    "## How long are activities?"
   ]
  },
  {
   "cell_type": "code",
   "execution_count": 20,
   "metadata": {
    "collapsed": false
   },
   "outputs": [
    {
     "name": "stdout",
     "output_type": "stream",
     "text": [
      "\n"
     ]
    },
    {
     "data": {
      "image/png": "[encoded data removed]",
      "text/plain": [
       "<matplotlib.figure.Figure at 0xecbd860>"
      ]
     },
     "metadata": {},
     "output_type": "display_data"
    }
   ],
   "source": [
    "fig, ax = plt.subplots()\n",
    "a_heights, a_bins = np.histogram(df[df['activity number']==1]['duration'],bins=12)\n",
    "b_heights, b_bins = np.histogram(df[df['activity number']==2]['duration'], bins=a_bins)\n",
    "\n",
    "width = (a_bins[1] - a_bins[0])/3\n",
    "\n",
    "ax.bar(a_bins[:-1], a_heights, width=width, facecolor='orange',label='first')\n",
    "ax.bar(b_bins[:-1]+width, b_heights, width=width, facecolor='purple',label='second')\n",
    "plt.legend()\n",
    "plt.title(\"Duration by acvitivy number\")\n",
    "print"
   ]
  },
  {
   "cell_type": "markdown",
   "metadata": {},
   "source": [
    "## How long do students explore in each sim?"
   ]
  },
  {
   "cell_type": "code",
   "execution_count": 21,
   "metadata": {
    "collapsed": false
   },
   "outputs": [
    {
     "name": "stdout",
     "output_type": "stream",
     "text": [
      "\n"
     ]
    },
    {
     "data": {
      "image/png": "[encoded data removed]",
      "text/plain": [
       "<matplotlib.figure.Figure at 0xef24518>"
      ]
     },
     "metadata": {},
     "output_type": "display_data"
    }
   ],
   "source": [
    "fig, ax = plt.subplots()\n",
    "a_heights, a_bins = np.histogram(df[df['activity number']==1]['time second record'],bins=12)\n",
    "b_heights, b_bins = np.histogram(df[df['activity number']==2]['time second record'],bins=a_bins)\n",
    "\n",
    "width = (a_bins[1] - a_bins[0])/3\n",
    "\n",
    "ax.bar(a_bins[:-1], a_heights, width=width, facecolor='orange',label='first')\n",
    "ax.bar(b_bins[:-1]+width, b_heights, width=width, facecolor='purple',label='second')\n",
    "plt.legend()\n",
    "plt.title(\"Time of exploration (second record, if any) by acvitivy number\")\n",
    "print"
   ]
  },
  {
   "cell_type": "markdown",
   "metadata": {},
   "source": [
    "So far, we find that most students do less than 200 actions within an activity of over 800s (13.3 min) long and explore for the first 200s (3.3min). In the second activity, it seems like students do more actions in a shorter activity and explore much less."
   ]
  }
 ],
 "metadata": {
  "anaconda-cloud": {},
  "kernelspec": {
   "display_name": "Python [Anaconda2]",
   "language": "python",
   "name": "Python [Anaconda2]"
  },
  "language_info": {
   "codemirror_mode": {
    "name": "ipython",
    "version": 2
   },
   "file_extension": ".py",
   "mimetype": "text/x-python",
   "name": "python",
   "nbconvert_exporter": "python",
   "pygments_lexer": "ipython2",
   "version": "2.7.12"
  },
  "toc": {
   "nav_menu": {},
   "number_sections": true,
   "sideBar": false,
   "skip_h1_title": false,
   "toc_cell": false,
   "toc_position": {},
   "toc_section_display": "block",
   "toc_window_display": false
  }
 },
 "nbformat": 4,
 "nbformat_minor": 1
}
