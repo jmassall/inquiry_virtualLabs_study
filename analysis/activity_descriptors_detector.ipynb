{
 "cells": [
  {
   "cell_type": "markdown",
   "metadata": {},
   "source": [
    "# About activity_descriptors_detector.ipynb"
   ]
  },
  {
   "cell_type": "markdown",
   "metadata": {},
   "source": [
    "This notebook detects different aspects of activities from log files."
   ]
  },
  {
   "cell_type": "code",
   "execution_count": 1,
   "metadata": {
    "collapsed": false
   },
   "outputs": [
    {
     "data": {
      "text/html": [
       "<script>jQuery(function() {if (jQuery(\"body.notebook_app\").length == 0) { jQuery(\".input_area\").toggle(); jQuery(\".prompt\").toggle();}});</script>"
      ]
     },
     "metadata": {},
     "output_type": "display_data"
    }
   ],
   "source": [
    "from IPython.display import display\n",
    "from IPython.display import HTML\n",
    "import IPython.core.display as di\n",
    "\n",
    "# This line will hide code by default when the notebook is exported as HTML\n",
    "di.display_html('<script>jQuery(function() {if (jQuery(\"body.notebook_app\").length == 0) { jQuery(\".input_area\").toggle(); jQuery(\".prompt\").toggle();}});</script>', raw=True)"
   ]
  },
  {
   "cell_type": "code",
   "execution_count": 99,
   "metadata": {
    "collapsed": false
   },
   "outputs": [
    {
     "name": "stdout",
     "output_type": "stream",
     "text": [
      "The autoreload extension is already loaded. To reload it, use:\n",
      "  %reload_ext autoreload\n"
     ]
    }
   ],
   "source": [
    "%load_ext autoreload\n",
    "%autoreload 1\n",
    "%aimport utils_timeline_viz\n",
    "from utils_timeline_viz import *\n",
    "from utils_read_parsing import *\n",
    "from tabulate import tabulate\n",
    "import seaborn as sns\n",
    "%matplotlib inline\n",
    "matplotlib.style.use('ggplot')\n",
    "matplotlib.rcParams['figure.figsize'] = 8,4\n",
    "pd.options.mode.chained_assignment = None #removed annoying pandas warning when making chained assigment"
   ]
  },
  {
   "cell_type": "markdown",
   "metadata": {
    "heading_collapsed": true
   },
   "source": [
    "# Preparing activity descriptive data"
   ]
  },
  {
   "cell_type": "markdown",
   "metadata": {
    "heading_collapsed": true,
    "hidden": true
   },
   "source": [
    "## Getting log data"
   ]
  },
  {
   "cell_type": "code",
   "execution_count": 3,
   "metadata": {
    "collapsed": false,
    "hidden": true
   },
   "outputs": [
    {
     "name": "stdout",
     "output_type": "stream",
     "text": [
      "The file sperez8_beers_log_files_per_student.txt has been unpickled and loaded\n",
      "The file sperez8_capacitor_log_files_per_student.txt has been unpickled and loaded\n"
     ]
    }
   ],
   "source": [
    "log_files_per_sim = {}\n",
    "for sim in ['beers','capacitor']:\n",
    "    log_files_per_sim[sim] = get_parsed_log_files_per_student_for_sim(sim)"
   ]
  },
  {
   "cell_type": "code",
   "execution_count": 4,
   "metadata": {
    "collapsed": true,
    "hidden": true
   },
   "outputs": [],
   "source": [
    "students = log_files_per_sim['beers'].keys()"
   ]
  },
  {
   "cell_type": "markdown",
   "metadata": {
    "heading_collapsed": true,
    "hidden": true
   },
   "source": [
    "## Two types of detectors"
   ]
  },
  {
   "cell_type": "code",
   "execution_count": 5,
   "metadata": {
    "collapsed": true,
    "hidden": true
   },
   "outputs": [],
   "source": [
    "def detect_action(log_files_per_sim,students,initial_value,update_function,get_use_function,ignore_model_events=True):\n",
    "    '''\n",
    "    This function is a generic detector for a specific action.\n",
    "    \n",
    "    Args:\n",
    "        students (list): All student to run detector on\n",
    "        log_files_per_sim (dict): dictionary by sim and student of log file names\n",
    "        initial_value (): False for binary usage, 0 for number of times students did something, etc...\n",
    "        update_function (function): takes use from 1st log file and compares it to the next using max, sum, min, etc...\n",
    "        get_use_function (function): takes a dataframe and returns what it detected\n",
    "\n",
    "    Returns:\n",
    "        action_use (dict): a dictionary by sim by student of use of action\n",
    "    '''\n",
    "    action_use = {'beers':{sid:initial_value for sid in students},'capacitor':{sid:initial_value for sid in students}}\n",
    "    \n",
    "    for sim in ['beers','capacitor']:\n",
    "        for sid in students:\n",
    "            logs = log_files_per_sim[sim][sid]\n",
    "            use = initial_value\n",
    "\n",
    "            for log in logs:\n",
    "                df = prep_parsing_data(log,remove_model_events=ignore_model_events)\n",
    "                if not df.empty:\n",
    "                    use = update_function([use, get_use_function(df)])\n",
    "            \n",
    "            action_use[sim][sid] = use\n",
    "    \n",
    "    return action_use"
   ]
  },
  {
   "cell_type": "code",
   "execution_count": 6,
   "metadata": {
    "collapsed": true,
    "hidden": true
   },
   "outputs": [],
   "source": [
    "def detect_multiple_actions(log_files_per_sim,students,detectors):\n",
    "    '''\n",
    "    This function is a generic actions detector.\n",
    "    \n",
    "    Args:\n",
    "        students (list): All student to run detector on\n",
    "        log_files_per_sim (dict): dictionary by sim and student of log file names\n",
    "        detectors (list of tuples): Contains each detector:\n",
    "            action (string): name of the action to use as column name in dataframe\n",
    "            update_function (function): takes use from 1st log file and compares it to the next using max, sum, min, etc...\n",
    "            get_use_function (function): takes a dataframe and returns what it detected\n",
    "\n",
    "    Returns:\n",
    "        df (DataFrame): a dataframe with sim*student rows and one column per action detected\n",
    "    '''\n",
    "    df_action_l = pd.DataFrame({'sid':students,'sim':'L'})\n",
    "    df_action_c = pd.DataFrame({'sid':students,'sim':'C'})\n",
    "    \n",
    "    for sim,df_action in [('beers',df_action_l),('capacitor',df_action_c)]:\n",
    "        action_use = {action:{sid:0 for sid in students} for action,_,_ in detectors}\n",
    "        for sid in students:\n",
    "            logs = log_files_per_sim[sim][sid]\n",
    "            for log in logs:\n",
    "                df = prep_parsing_data(log,remove_model_events=False)\n",
    "                if not df.empty:\n",
    "                    for action,update_function,get_use_function in detectors:\n",
    "                        action_use[action][sid] = update_function([action_use[action][sid], get_use_function(df)])\n",
    "    \n",
    "        for action,_,_ in detectors:\n",
    "            df_action[action] = df_action['sid'].map(action_use[action])\n",
    "    return pd.concat([df_action_l,df_action_c])"
   ]
  },
  {
   "cell_type": "markdown",
   "metadata": {
    "hidden": true
   },
   "source": [
    "## Actions to detect"
   ]
  },
  {
   "cell_type": "markdown",
   "metadata": {
    "heading_collapsed": true,
    "hidden": true
   },
   "source": [
    "### Activity duration and user actions"
   ]
  },
  {
   "cell_type": "code",
   "execution_count": 7,
   "metadata": {
    "collapsed": true,
    "hidden": true
   },
   "outputs": [],
   "source": [
    "def get_activity_duration(df):\n",
    "    return list(df.sort_values(by='Time')['Time'])[-1]"
   ]
  },
  {
   "cell_type": "code",
   "execution_count": 8,
   "metadata": {
    "collapsed": true,
    "hidden": true
   },
   "outputs": [],
   "source": [
    "def get_number_actions(df):\n",
    "    #ignore model events count dragging as 1 event (by only counting dragStarted)\n",
    "    return df[(df['User or Model']!='model')&(df['Event']!='dragged')&(df['Event']!='dragEnded')].shape[0]"
   ]
  },
  {
   "cell_type": "markdown",
   "metadata": {
    "heading_collapsed": true,
    "hidden": true
   },
   "source": [
    "### Exploration measures"
   ]
  },
  {
   "cell_type": "code",
   "execution_count": 27,
   "metadata": {
    "collapsed": true,
    "hidden": true
   },
   "outputs": [],
   "source": [
    "def get_time_second_record(df):\n",
    "    times = list(df[df['Event']=='recording data']['Time'])\n",
    "    if len(times)>=2:\n",
    "        times.sort()\n",
    "        return times[1] #return the time of the second record\n",
    "    else:\n",
    "        return list(df.sort_values(by='Time')['Time'])[-1] #else, return last time stamp\n",
    "\n",
    "def get_time_first_record(df):\n",
    "    times = list(df[df['Event']=='recording data']['Time'])\n",
    "    if len(times)>=1:\n",
    "        times.sort()\n",
    "        return times[0] #return the time of the first record\n",
    "    else:\n",
    "        return list(df.sort_values(by='Time')['Time'])[-1] #else, return last time stamp"
   ]
  },
  {
   "cell_type": "markdown",
   "metadata": {
    "heading_collapsed": true,
    "hidden": true
   },
   "source": [
    "### Uses of different components"
   ]
  },
  {
   "cell_type": "code",
   "execution_count": 10,
   "metadata": {
    "collapsed": true,
    "hidden": true
   },
   "outputs": [],
   "source": [
    "def get_use_concentration_plus_minus(df):\n",
    "    if 'solutionControls slider' in df['Item'].tolist():\n",
    "        return 1\n",
    "    else:\n",
    "        return 0"
   ]
  },
  {
   "cell_type": "code",
   "execution_count": 11,
   "metadata": {
    "collapsed": true,
    "hidden": true
   },
   "outputs": [],
   "source": [
    "# #FIX ME\n",
    "# def get_number_words_notes(df):\n",
    "# #     print df.head()\n",
    "#     return max([len(str(text).split(' ')) if str(text)=='nan' else 0 for text in df['Notes'].tolist()])"
   ]
  },
  {
   "cell_type": "code",
   "execution_count": 12,
   "metadata": {
    "collapsed": true,
    "hidden": true
   },
   "outputs": [],
   "source": [
    "def get_use_move_trial(df):\n",
    "    if 'Moving trial in table' in df['Event'].tolist():\n",
    "        return 1\n",
    "    else:\n",
    "        return 0"
   ]
  },
  {
   "cell_type": "code",
   "execution_count": 13,
   "metadata": {
    "collapsed": true,
    "hidden": true
   },
   "outputs": [],
   "source": [
    "def get_use_remove_trial(df):\n",
    "    if 'Removing data from table' in df['Event'].tolist():\n",
    "        return 1\n",
    "    else:\n",
    "        return 0"
   ]
  },
  {
   "cell_type": "code",
   "execution_count": 14,
   "metadata": {
    "collapsed": true,
    "hidden": true
   },
   "outputs": [],
   "source": [
    "def get_use_restore(df):\n",
    "    if 'Restoring sim state from trial' in df['Event'].tolist():\n",
    "        return 1\n",
    "    else:\n",
    "        return 0"
   ]
  },
  {
   "cell_type": "markdown",
   "metadata": {
    "heading_collapsed": true,
    "hidden": true
   },
   "source": [
    "### Uses of variable controls"
   ]
  },
  {
   "cell_type": "code",
   "execution_count": 15,
   "metadata": {
    "collapsed": true,
    "hidden": true
   },
   "outputs": [],
   "source": [
    "def get_use_number_area(df):\n",
    "    if 'plateAreaDragHandleNode' in df['Item'].tolist():\n",
    "        return df[df['Event']=='dragStarted']['Item'].value_counts()['plateAreaDragHandleNode']\n",
    "    else:\n",
    "        return 0\n",
    "\n",
    "def get_use_number_separation(df):\n",
    "    if 'plateSeparationDragHandleNode' in df['Item'].tolist():\n",
    "        return df[df['Event']=='dragStarted']['Item'].value_counts()['plateSeparationDragHandleNode']\n",
    "    else:\n",
    "        return 0\n",
    "    \n",
    "def get_use_number_width(df):\n",
    "    if 'cuvetteNode' in df['Item'].tolist():\n",
    "        return df[df['Event']=='dragStarted']['Item'].value_counts()['cuvetteNode']\n",
    "    else:\n",
    "        return 0\n",
    "\n",
    "def get_use_number_concentration(df):\n",
    "    if 'Changed concentration' in df['Event'].tolist():\n",
    "        number_plus_minus = df['Event'].value_counts()['Changed concentration']\n",
    "    else:\n",
    "        number_plus_minus = 0\n",
    "    if 'solutionControls' in df['Item'].tolist():\n",
    "        return df[df['Event']=='dragStarted']['Item'].value_counts()['solutionControls'] + number_plus_minus\n",
    "    else:\n",
    "        return number_plus_minus\n",
    "\n",
    "def get_use_number_concentration_drag_only(df):\n",
    "    if 'solutionControls' in df['Item'].tolist():\n",
    "        return df[df['Event']=='dragStarted']['Item'].value_counts()['solutionControls']\n",
    "    else:\n",
    "        return 0"
   ]
  },
  {
   "cell_type": "markdown",
   "metadata": {
    "heading_collapsed": true,
    "hidden": true
   },
   "source": [
    "## Running detectors"
   ]
  },
  {
   "cell_type": "code",
   "execution_count": 28,
   "metadata": {
    "collapsed": true,
    "hidden": true
   },
   "outputs": [],
   "source": [
    "detectors = [('duration',sum,get_activity_duration),\n",
    "             ('number of actions',sum,get_number_actions),\n",
    "             ('time second record',sum,get_time_second_record),\n",
    "             ('time first record',sum,get_time_first_record),\n",
    "             ('use concentration buttons',max,get_use_concentration_plus_minus),\n",
    "             ('use restore',max,get_use_restore),\n",
    "             ('use remove trial',max,get_use_remove_trial),\n",
    "             ('use move trial',max,get_use_move_trial),\n",
    "             ('use concentration',sum,get_use_number_concentration),\n",
    "             ('use concentration drag only',sum,get_use_number_concentration_drag_only),\n",
    "             ('use width',sum,get_use_number_width),\n",
    "             ('use area',sum,get_use_number_area),\n",
    "             ('use separation',sum,get_use_number_separation)\n",
    "#              ('number of words in notes',max,get_number_words_notes),\n",
    "            ]"
   ]
  },
  {
   "cell_type": "code",
   "execution_count": 29,
   "metadata": {
    "collapsed": false,
    "hidden": true
   },
   "outputs": [
    {
     "data": {
      "text/html": [
       "<div>\n",
       "<table border=\"1\" class=\"dataframe\">\n",
       "  <thead>\n",
       "    <tr style=\"text-align: right;\">\n",
       "      <th></th>\n",
       "      <th>sid</th>\n",
       "      <th>sim</th>\n",
       "      <th>duration</th>\n",
       "      <th>number of actions</th>\n",
       "      <th>time second record</th>\n",
       "      <th>time first record</th>\n",
       "      <th>use concentration buttons</th>\n",
       "      <th>use restore</th>\n",
       "      <th>use remove trial</th>\n",
       "      <th>use move trial</th>\n",
       "      <th>use concentration</th>\n",
       "      <th>use concentration drag only</th>\n",
       "      <th>use width</th>\n",
       "      <th>use area</th>\n",
       "      <th>use separation</th>\n",
       "    </tr>\n",
       "  </thead>\n",
       "  <tbody>\n",
       "    <tr>\n",
       "      <th>0</th>\n",
       "      <td>10866146</td>\n",
       "      <td>L</td>\n",
       "      <td>1045.064</td>\n",
       "      <td>263</td>\n",
       "      <td>796.405</td>\n",
       "      <td>762.031</td>\n",
       "      <td>1</td>\n",
       "      <td>1</td>\n",
       "      <td>1</td>\n",
       "      <td>0</td>\n",
       "      <td>78</td>\n",
       "      <td>20</td>\n",
       "      <td>19</td>\n",
       "      <td>0</td>\n",
       "      <td>0</td>\n",
       "    </tr>\n",
       "    <tr>\n",
       "      <th>0</th>\n",
       "      <td>10866146</td>\n",
       "      <td>C</td>\n",
       "      <td>851.686</td>\n",
       "      <td>50</td>\n",
       "      <td>851.686</td>\n",
       "      <td>851.686</td>\n",
       "      <td>0</td>\n",
       "      <td>0</td>\n",
       "      <td>0</td>\n",
       "      <td>0</td>\n",
       "      <td>0</td>\n",
       "      <td>0</td>\n",
       "      <td>0</td>\n",
       "      <td>8</td>\n",
       "      <td>18</td>\n",
       "    </tr>\n",
       "  </tbody>\n",
       "</table>\n",
       "</div>"
      ],
      "text/plain": [
       "        sid sim  duration  number of actions  time second record  \\\n",
       "0  10866146   L  1045.064                263             796.405   \n",
       "0  10866146   C   851.686                 50             851.686   \n",
       "\n",
       "   time first record  use concentration buttons  use restore  \\\n",
       "0            762.031                          1            1   \n",
       "0            851.686                          0            0   \n",
       "\n",
       "   use remove trial  use move trial  use concentration  \\\n",
       "0                 1               0                 78   \n",
       "0                 0               0                  0   \n",
       "\n",
       "   use concentration drag only  use width  use area  use separation  \n",
       "0                           20         19         0               0  \n",
       "0                            0          0         8              18  "
      ]
     },
     "execution_count": 29,
     "metadata": {},
     "output_type": "execute_result"
    }
   ],
   "source": [
    "# #test 1 student\n",
    "detect_multiple_actions(log_files_per_sim,[10866146],detectors)"
   ]
  },
  {
   "cell_type": "code",
   "execution_count": 30,
   "metadata": {
    "collapsed": true,
    "hidden": true
   },
   "outputs": [],
   "source": [
    "df = detect_multiple_actions(log_files_per_sim,students,detectors)\n",
    "df['order'] = df['sid'].map(get_student_metadata()['activity order'].to_dict()) # add order of activity (CL or LC)\n",
    "df['activity number'] = df.apply(lambda row: 1 if (row['sim']=='L' and row['order']=='LC') or (row['sim']=='C' and row['order']=='CL') else 2, axis=1)"
   ]
  },
  {
   "cell_type": "markdown",
   "metadata": {},
   "source": [
    "# Investigation"
   ]
  },
  {
   "cell_type": "markdown",
   "metadata": {
    "heading_collapsed": true
   },
   "source": [
    "## Use of components"
   ]
  },
  {
   "cell_type": "code",
   "execution_count": 19,
   "metadata": {
    "collapsed": false,
    "hidden": true,
    "scrolled": false
   },
   "outputs": [
    {
     "data": {
      "text/html": [
       "<div>\n",
       "<table border=\"1\" class=\"dataframe\">\n",
       "  <thead>\n",
       "    <tr style=\"text-align: right;\">\n",
       "      <th></th>\n",
       "      <th></th>\n",
       "      <th>duration</th>\n",
       "      <th>number of actions</th>\n",
       "      <th>sid</th>\n",
       "      <th>time second record</th>\n",
       "      <th>use area</th>\n",
       "      <th>use concentration</th>\n",
       "      <th>use concentration buttons</th>\n",
       "      <th>use concentration drag only</th>\n",
       "      <th>use move trial</th>\n",
       "      <th>use remove trial</th>\n",
       "      <th>use restore</th>\n",
       "      <th>use separation</th>\n",
       "      <th>use width</th>\n",
       "    </tr>\n",
       "    <tr>\n",
       "      <th>activity number</th>\n",
       "      <th></th>\n",
       "      <th></th>\n",
       "      <th></th>\n",
       "      <th></th>\n",
       "      <th></th>\n",
       "      <th></th>\n",
       "      <th></th>\n",
       "      <th></th>\n",
       "      <th></th>\n",
       "      <th></th>\n",
       "      <th></th>\n",
       "      <th></th>\n",
       "      <th></th>\n",
       "      <th></th>\n",
       "    </tr>\n",
       "  </thead>\n",
       "  <tbody>\n",
       "    <tr>\n",
       "      <th rowspan=\"8\" valign=\"top\">1</th>\n",
       "      <th>count</th>\n",
       "      <td>148.000000</td>\n",
       "      <td>148.000000</td>\n",
       "      <td>1.480000e+02</td>\n",
       "      <td>148.000000</td>\n",
       "      <td>148.000000</td>\n",
       "      <td>148.000000</td>\n",
       "      <td>148.000000</td>\n",
       "      <td>148.000000</td>\n",
       "      <td>148.000000</td>\n",
       "      <td>148.000000</td>\n",
       "      <td>148.000000</td>\n",
       "      <td>148.000000</td>\n",
       "      <td>148.000000</td>\n",
       "    </tr>\n",
       "    <tr>\n",
       "      <th>mean</th>\n",
       "      <td>830.706196</td>\n",
       "      <td>204.858108</td>\n",
       "      <td>2.204070e+07</td>\n",
       "      <td>307.919142</td>\n",
       "      <td>4.858108</td>\n",
       "      <td>17.459459</td>\n",
       "      <td>0.263514</td>\n",
       "      <td>5.385135</td>\n",
       "      <td>0.189189</td>\n",
       "      <td>0.601351</td>\n",
       "      <td>0.202703</td>\n",
       "      <td>6.770270</td>\n",
       "      <td>6.108108</td>\n",
       "    </tr>\n",
       "    <tr>\n",
       "      <th>std</th>\n",
       "      <td>163.668612</td>\n",
       "      <td>219.196244</td>\n",
       "      <td>1.807852e+07</td>\n",
       "      <td>265.925811</td>\n",
       "      <td>6.293296</td>\n",
       "      <td>41.804758</td>\n",
       "      <td>0.442034</td>\n",
       "      <td>6.986404</td>\n",
       "      <td>0.392989</td>\n",
       "      <td>0.491283</td>\n",
       "      <td>0.403378</td>\n",
       "      <td>8.330009</td>\n",
       "      <td>7.876716</td>\n",
       "    </tr>\n",
       "    <tr>\n",
       "      <th>min</th>\n",
       "      <td>165.834000</td>\n",
       "      <td>25.000000</td>\n",
       "      <td>1.012716e+07</td>\n",
       "      <td>19.455000</td>\n",
       "      <td>0.000000</td>\n",
       "      <td>0.000000</td>\n",
       "      <td>0.000000</td>\n",
       "      <td>0.000000</td>\n",
       "      <td>0.000000</td>\n",
       "      <td>0.000000</td>\n",
       "      <td>0.000000</td>\n",
       "      <td>0.000000</td>\n",
       "      <td>0.000000</td>\n",
       "    </tr>\n",
       "    <tr>\n",
       "      <th>25%</th>\n",
       "      <td>760.934500</td>\n",
       "      <td>78.750000</td>\n",
       "      <td>1.353541e+07</td>\n",
       "      <td>93.133750</td>\n",
       "      <td>0.000000</td>\n",
       "      <td>0.000000</td>\n",
       "      <td>0.000000</td>\n",
       "      <td>0.000000</td>\n",
       "      <td>0.000000</td>\n",
       "      <td>0.000000</td>\n",
       "      <td>0.000000</td>\n",
       "      <td>0.000000</td>\n",
       "      <td>0.000000</td>\n",
       "    </tr>\n",
       "    <tr>\n",
       "      <th>50%</th>\n",
       "      <td>879.096500</td>\n",
       "      <td>127.000000</td>\n",
       "      <td>1.670466e+07</td>\n",
       "      <td>207.591500</td>\n",
       "      <td>0.000000</td>\n",
       "      <td>1.500000</td>\n",
       "      <td>0.000000</td>\n",
       "      <td>1.500000</td>\n",
       "      <td>0.000000</td>\n",
       "      <td>1.000000</td>\n",
       "      <td>0.000000</td>\n",
       "      <td>0.000000</td>\n",
       "      <td>2.000000</td>\n",
       "    </tr>\n",
       "    <tr>\n",
       "      <th>75%</th>\n",
       "      <td>934.947750</td>\n",
       "      <td>226.250000</td>\n",
       "      <td>1.936215e+07</td>\n",
       "      <td>469.546750</td>\n",
       "      <td>9.000000</td>\n",
       "      <td>14.000000</td>\n",
       "      <td>1.000000</td>\n",
       "      <td>10.000000</td>\n",
       "      <td>0.000000</td>\n",
       "      <td>1.000000</td>\n",
       "      <td>0.000000</td>\n",
       "      <td>13.000000</td>\n",
       "      <td>10.250000</td>\n",
       "    </tr>\n",
       "    <tr>\n",
       "      <th>max</th>\n",
       "      <td>1064.577000</td>\n",
       "      <td>1419.000000</td>\n",
       "      <td>9.044717e+07</td>\n",
       "      <td>972.075000</td>\n",
       "      <td>27.000000</td>\n",
       "      <td>289.000000</td>\n",
       "      <td>1.000000</td>\n",
       "      <td>34.000000</td>\n",
       "      <td>1.000000</td>\n",
       "      <td>1.000000</td>\n",
       "      <td>1.000000</td>\n",
       "      <td>26.000000</td>\n",
       "      <td>36.000000</td>\n",
       "    </tr>\n",
       "    <tr>\n",
       "      <th rowspan=\"8\" valign=\"top\">2</th>\n",
       "      <th>count</th>\n",
       "      <td>148.000000</td>\n",
       "      <td>148.000000</td>\n",
       "      <td>1.480000e+02</td>\n",
       "      <td>148.000000</td>\n",
       "      <td>148.000000</td>\n",
       "      <td>148.000000</td>\n",
       "      <td>148.000000</td>\n",
       "      <td>148.000000</td>\n",
       "      <td>148.000000</td>\n",
       "      <td>148.000000</td>\n",
       "      <td>148.000000</td>\n",
       "      <td>148.000000</td>\n",
       "      <td>148.000000</td>\n",
       "    </tr>\n",
       "    <tr>\n",
       "      <th>mean</th>\n",
       "      <td>772.721926</td>\n",
       "      <td>170.547297</td>\n",
       "      <td>2.204070e+07</td>\n",
       "      <td>220.089372</td>\n",
       "      <td>5.797297</td>\n",
       "      <td>14.837838</td>\n",
       "      <td>0.222973</td>\n",
       "      <td>4.472973</td>\n",
       "      <td>0.101351</td>\n",
       "      <td>0.554054</td>\n",
       "      <td>0.094595</td>\n",
       "      <td>7.067568</td>\n",
       "      <td>6.310811</td>\n",
       "    </tr>\n",
       "    <tr>\n",
       "      <th>std</th>\n",
       "      <td>213.812654</td>\n",
       "      <td>136.361731</td>\n",
       "      <td>1.807852e+07</td>\n",
       "      <td>226.923985</td>\n",
       "      <td>7.565550</td>\n",
       "      <td>38.319646</td>\n",
       "      <td>0.417654</td>\n",
       "      <td>5.653782</td>\n",
       "      <td>0.302818</td>\n",
       "      <td>0.498757</td>\n",
       "      <td>0.293648</td>\n",
       "      <td>8.355748</td>\n",
       "      <td>7.890278</td>\n",
       "    </tr>\n",
       "    <tr>\n",
       "      <th>min</th>\n",
       "      <td>116.421000</td>\n",
       "      <td>22.000000</td>\n",
       "      <td>1.012716e+07</td>\n",
       "      <td>16.825000</td>\n",
       "      <td>0.000000</td>\n",
       "      <td>0.000000</td>\n",
       "      <td>0.000000</td>\n",
       "      <td>0.000000</td>\n",
       "      <td>0.000000</td>\n",
       "      <td>0.000000</td>\n",
       "      <td>0.000000</td>\n",
       "      <td>0.000000</td>\n",
       "      <td>0.000000</td>\n",
       "    </tr>\n",
       "    <tr>\n",
       "      <th>25%</th>\n",
       "      <td>638.995250</td>\n",
       "      <td>72.500000</td>\n",
       "      <td>1.353541e+07</td>\n",
       "      <td>51.221750</td>\n",
       "      <td>0.000000</td>\n",
       "      <td>0.000000</td>\n",
       "      <td>0.000000</td>\n",
       "      <td>0.000000</td>\n",
       "      <td>0.000000</td>\n",
       "      <td>0.000000</td>\n",
       "      <td>0.000000</td>\n",
       "      <td>0.000000</td>\n",
       "      <td>0.000000</td>\n",
       "    </tr>\n",
       "    <tr>\n",
       "      <th>50%</th>\n",
       "      <td>850.086500</td>\n",
       "      <td>130.500000</td>\n",
       "      <td>1.670466e+07</td>\n",
       "      <td>122.228000</td>\n",
       "      <td>2.000000</td>\n",
       "      <td>0.000000</td>\n",
       "      <td>0.000000</td>\n",
       "      <td>0.000000</td>\n",
       "      <td>0.000000</td>\n",
       "      <td>1.000000</td>\n",
       "      <td>0.000000</td>\n",
       "      <td>5.000000</td>\n",
       "      <td>0.000000</td>\n",
       "    </tr>\n",
       "    <tr>\n",
       "      <th>75%</th>\n",
       "      <td>918.471250</td>\n",
       "      <td>228.000000</td>\n",
       "      <td>1.936215e+07</td>\n",
       "      <td>340.832500</td>\n",
       "      <td>10.000000</td>\n",
       "      <td>13.000000</td>\n",
       "      <td>0.000000</td>\n",
       "      <td>8.000000</td>\n",
       "      <td>0.000000</td>\n",
       "      <td>1.000000</td>\n",
       "      <td>0.000000</td>\n",
       "      <td>12.000000</td>\n",
       "      <td>11.250000</td>\n",
       "    </tr>\n",
       "    <tr>\n",
       "      <th>max</th>\n",
       "      <td>1628.382000</td>\n",
       "      <td>799.000000</td>\n",
       "      <td>9.044717e+07</td>\n",
       "      <td>945.799000</td>\n",
       "      <td>39.000000</td>\n",
       "      <td>244.000000</td>\n",
       "      <td>1.000000</td>\n",
       "      <td>21.000000</td>\n",
       "      <td>1.000000</td>\n",
       "      <td>1.000000</td>\n",
       "      <td>1.000000</td>\n",
       "      <td>31.000000</td>\n",
       "      <td>30.000000</td>\n",
       "    </tr>\n",
       "  </tbody>\n",
       "</table>\n",
       "</div>"
      ],
      "text/plain": [
       "                          duration  number of actions           sid  \\\n",
       "activity number                                                       \n",
       "1               count   148.000000         148.000000  1.480000e+02   \n",
       "                mean    830.706196         204.858108  2.204070e+07   \n",
       "                std     163.668612         219.196244  1.807852e+07   \n",
       "                min     165.834000          25.000000  1.012716e+07   \n",
       "                25%     760.934500          78.750000  1.353541e+07   \n",
       "                50%     879.096500         127.000000  1.670466e+07   \n",
       "                75%     934.947750         226.250000  1.936215e+07   \n",
       "                max    1064.577000        1419.000000  9.044717e+07   \n",
       "2               count   148.000000         148.000000  1.480000e+02   \n",
       "                mean    772.721926         170.547297  2.204070e+07   \n",
       "                std     213.812654         136.361731  1.807852e+07   \n",
       "                min     116.421000          22.000000  1.012716e+07   \n",
       "                25%     638.995250          72.500000  1.353541e+07   \n",
       "                50%     850.086500         130.500000  1.670466e+07   \n",
       "                75%     918.471250         228.000000  1.936215e+07   \n",
       "                max    1628.382000         799.000000  9.044717e+07   \n",
       "\n",
       "                       time second record    use area  use concentration  \\\n",
       "activity number                                                            \n",
       "1               count          148.000000  148.000000         148.000000   \n",
       "                mean           307.919142    4.858108          17.459459   \n",
       "                std            265.925811    6.293296          41.804758   \n",
       "                min             19.455000    0.000000           0.000000   \n",
       "                25%             93.133750    0.000000           0.000000   \n",
       "                50%            207.591500    0.000000           1.500000   \n",
       "                75%            469.546750    9.000000          14.000000   \n",
       "                max            972.075000   27.000000         289.000000   \n",
       "2               count          148.000000  148.000000         148.000000   \n",
       "                mean           220.089372    5.797297          14.837838   \n",
       "                std            226.923985    7.565550          38.319646   \n",
       "                min             16.825000    0.000000           0.000000   \n",
       "                25%             51.221750    0.000000           0.000000   \n",
       "                50%            122.228000    2.000000           0.000000   \n",
       "                75%            340.832500   10.000000          13.000000   \n",
       "                max            945.799000   39.000000         244.000000   \n",
       "\n",
       "                       use concentration buttons  use concentration drag only  \\\n",
       "activity number                                                                 \n",
       "1               count                 148.000000                   148.000000   \n",
       "                mean                    0.263514                     5.385135   \n",
       "                std                     0.442034                     6.986404   \n",
       "                min                     0.000000                     0.000000   \n",
       "                25%                     0.000000                     0.000000   \n",
       "                50%                     0.000000                     1.500000   \n",
       "                75%                     1.000000                    10.000000   \n",
       "                max                     1.000000                    34.000000   \n",
       "2               count                 148.000000                   148.000000   \n",
       "                mean                    0.222973                     4.472973   \n",
       "                std                     0.417654                     5.653782   \n",
       "                min                     0.000000                     0.000000   \n",
       "                25%                     0.000000                     0.000000   \n",
       "                50%                     0.000000                     0.000000   \n",
       "                75%                     0.000000                     8.000000   \n",
       "                max                     1.000000                    21.000000   \n",
       "\n",
       "                       use move trial  use remove trial  use restore  \\\n",
       "activity number                                                        \n",
       "1               count      148.000000        148.000000   148.000000   \n",
       "                mean         0.189189          0.601351     0.202703   \n",
       "                std          0.392989          0.491283     0.403378   \n",
       "                min          0.000000          0.000000     0.000000   \n",
       "                25%          0.000000          0.000000     0.000000   \n",
       "                50%          0.000000          1.000000     0.000000   \n",
       "                75%          0.000000          1.000000     0.000000   \n",
       "                max          1.000000          1.000000     1.000000   \n",
       "2               count      148.000000        148.000000   148.000000   \n",
       "                mean         0.101351          0.554054     0.094595   \n",
       "                std          0.302818          0.498757     0.293648   \n",
       "                min          0.000000          0.000000     0.000000   \n",
       "                25%          0.000000          0.000000     0.000000   \n",
       "                50%          0.000000          1.000000     0.000000   \n",
       "                75%          0.000000          1.000000     0.000000   \n",
       "                max          1.000000          1.000000     1.000000   \n",
       "\n",
       "                       use separation   use width  \n",
       "activity number                                    \n",
       "1               count      148.000000  148.000000  \n",
       "                mean         6.770270    6.108108  \n",
       "                std          8.330009    7.876716  \n",
       "                min          0.000000    0.000000  \n",
       "                25%          0.000000    0.000000  \n",
       "                50%          0.000000    2.000000  \n",
       "                75%         13.000000   10.250000  \n",
       "                max         26.000000   36.000000  \n",
       "2               count      148.000000  148.000000  \n",
       "                mean         7.067568    6.310811  \n",
       "                std          8.355748    7.890278  \n",
       "                min          0.000000    0.000000  \n",
       "                25%          0.000000    0.000000  \n",
       "                50%          5.000000    0.000000  \n",
       "                75%         12.000000   11.250000  \n",
       "                max         31.000000   30.000000  "
      ]
     },
     "execution_count": 19,
     "metadata": {},
     "output_type": "execute_result"
    }
   ],
   "source": [
    "df.groupby('activity number').describe()"
   ]
  },
  {
   "cell_type": "markdown",
   "metadata": {
    "hidden": true
   },
   "source": [
    "Half the students use the concentration buttons (49%) thus it's important to not just consider the slider for changing concentration.\n",
    "\n",
    "Few students restore or move trials (at most 17 and 18% in a sim).\n",
    "\n",
    "Half the students remove a trial from the table"
   ]
  },
  {
   "cell_type": "markdown",
   "metadata": {
    "heading_collapsed": true
   },
   "source": [
    "## How many actions do students do?"
   ]
  },
  {
   "cell_type": "code",
   "execution_count": 20,
   "metadata": {
    "collapsed": false,
    "hidden": true
   },
   "outputs": [
    {
     "name": "stdout",
     "output_type": "stream",
     "text": [
      "\n"
     ]
    },
    {
     "data": {
      "image/png": "[encoded data removed]",
      "text/plain": [
       "<matplotlib.figure.Figure at 0xc540940>"
      ]
     },
     "metadata": {},
     "output_type": "display_data"
    }
   ],
   "source": [
    "fig, ax = plt.subplots()\n",
    "a_heights, a_bins = np.histogram(df[df['activity number']==1]['number of actions'],bins=12)\n",
    "b_heights, b_bins = np.histogram(df[df['activity number']==2]['number of actions'], bins=a_bins)\n",
    "\n",
    "width = (a_bins[1] - a_bins[0])/3\n",
    "\n",
    "ax.bar(a_bins[:-1], a_heights, width=width, facecolor='orange',label='first')\n",
    "ax.bar(b_bins[:-1]+width, b_heights, width=width, facecolor='purple',label='second')\n",
    "plt.ylim(0,100)\n",
    "plt.legend()\n",
    "plt.title(\"Number of actions by activity number\")\n",
    "print"
   ]
  },
  {
   "cell_type": "markdown",
   "metadata": {
    "heading_collapsed": true
   },
   "source": [
    "## How long are activities?"
   ]
  },
  {
   "cell_type": "code",
   "execution_count": 21,
   "metadata": {
    "collapsed": false,
    "hidden": true
   },
   "outputs": [
    {
     "name": "stdout",
     "output_type": "stream",
     "text": [
      "\n"
     ]
    },
    {
     "data": {
      "image/png": "[encoded data removed]",
      "text/plain": [
       "<matplotlib.figure.Figure at 0xc96f1d0>"
      ]
     },
     "metadata": {},
     "output_type": "display_data"
    }
   ],
   "source": [
    "fig, ax = plt.subplots()\n",
    "a_heights, a_bins = np.histogram(df[df['activity number']==1]['duration'],bins=12)\n",
    "b_heights, b_bins = np.histogram(df[df['activity number']==2]['duration'], bins=a_bins)\n",
    "\n",
    "width = (a_bins[1] - a_bins[0])/3\n",
    "\n",
    "ax.bar(a_bins[:-1], a_heights, width=width, facecolor='orange',label='first')\n",
    "ax.bar(b_bins[:-1]+width, b_heights, width=width, facecolor='purple',label='second')\n",
    "plt.legend()\n",
    "plt.ylim(0,100)\n",
    "plt.title(\"Duration by acvitivy number\")\n",
    "print"
   ]
  },
  {
   "cell_type": "markdown",
   "metadata": {
    "heading_collapsed": true
   },
   "source": [
    "## How long do students explore in each sim?"
   ]
  },
  {
   "cell_type": "code",
   "execution_count": 58,
   "metadata": {
    "collapsed": false,
    "hidden": true
   },
   "outputs": [
    {
     "name": "stdout",
     "output_type": "stream",
     "text": [
      "\n"
     ]
    },
    {
     "data": {
      "image/png": "[encoded data removed]",
      "text/plain": [
       "<matplotlib.figure.Figure at 0x10478128>"
      ]
     },
     "metadata": {},
     "output_type": "display_data"
    }
   ],
   "source": [
    "fig, ax = plt.subplots()\n",
    "a_heights, a_bins = np.histogram(df[df['activity number']==1]['time first record'],bins=12)\n",
    "b_heights, b_bins = np.histogram(df[df['activity number']==2]['time first record'],bins=a_bins)\n",
    "c_heights, c_bins = np.histogram(df[df['activity number']==1]['time second record'],bins=a_bins)\n",
    "d_heights, d_bins = np.histogram(df[df['activity number']==2]['time second record'],bins=a_bins)\n",
    "\n",
    "width = (a_bins[1] - a_bins[0])/5\n",
    "\n",
    "ax.bar(a_bins[:-1], a_heights, width=width, facecolor='orange',label='1st record - first')\n",
    "ax.bar(b_bins[:-1]+width*2, b_heights, width=width, facecolor='purple',label='1st record - second')\n",
    "ax.bar(c_bins[:-1]+width, c_heights, width=width, facecolor='orange',label='2nd record - first',alpha=1,hatch='XX')\n",
    "ax.bar(d_bins[:-1]+width*3, d_heights, width=width, facecolor='purple',label='2nd record - second',alpha=1,hatch='XX')\n",
    "plt.legend()\n",
    "plt.title(\"Time of exploration (first and second record, if any) by acvitivy number\")\n",
    "print"
   ]
  },
  {
   "cell_type": "code",
   "execution_count": 34,
   "metadata": {
    "collapsed": false,
    "hidden": true
   },
   "outputs": [
    {
     "name": "stdout",
     "output_type": "stream",
     "text": [
      "\n"
     ]
    },
    {
     "data": {
      "image/png": "[encoded data removed]",
      "text/plain": [
       "<matplotlib.figure.Figure at 0xcd22eb8>"
      ]
     },
     "metadata": {},
     "output_type": "display_data"
    }
   ],
   "source": [
    "fig, ax = plt.subplots()\n",
    "a_heights, a_bins = np.histogram(df[df['activity number']==1]['time second record'],bins=12)\n",
    "b_heights, b_bins = np.histogram(df[df['activity number']==2]['time second record'],bins=a_bins)\n",
    "\n",
    "width = (a_bins[1] - a_bins[0])/3\n",
    "\n",
    "ax.bar(a_bins[:-1], a_heights, width=width, facecolor='orange',label='first')\n",
    "ax.bar(b_bins[:-1]+width, b_heights, width=width, facecolor='purple',label='second')\n",
    "plt.legend()\n",
    "plt.title(\"Time of exploration (second record, if any) by acvitivy number\")\n",
    "print"
   ]
  },
  {
   "cell_type": "markdown",
   "metadata": {
    "hidden": true
   },
   "source": [
    "So far, we find that most students do less than 200 actions within an activity of over 800s (13.3 min) long and explore for the first 200s (3.3min). In the second activity, it seems like students do more actions in a shorter activity and explore much less.\n",
    "\n",
    "The difference between looking at the 1st or 2nd record only changes things for the first activity: more students do their first record super early in the activity compared the second record."
   ]
  },
  {
   "cell_type": "markdown",
   "metadata": {},
   "source": [
    "## How many times do they change variable values?"
   ]
  },
  {
   "cell_type": "code",
   "execution_count": 23,
   "metadata": {
    "collapsed": false
   },
   "outputs": [
    {
     "data": {
      "image/png": "[encoded data removed]",
      "text/plain": [
       "<matplotlib.figure.Figure at 0xc42c898>"
      ]
     },
     "metadata": {},
     "output_type": "display_data"
    }
   ],
   "source": [
    "fig, axes = plt.subplots(4,figsize=(10,10))\n",
    "plt.ylim=(0,40)\n",
    "plt.xlim=(0,40)\n",
    "for ax,sim_variable in zip(axes,[('L','use concentration drag only'),('L','use width'),('C','use area'),('C','use separation')]):\n",
    "    sim,variable = sim_variable\n",
    "    ax.hist(df[df['sim']==sim][variable], bins=12,label = variable,alpha=0.8)\n",
    "    ax.axvline(df[df['sim']==sim][variable].mean(), color='r', linestyle='dashed', linewidth=2)\n",
    "    ax.set_title(variable);ax.set_ylim([0,40]);ax.set_xlim([0,40])"
   ]
  },
  {
   "cell_type": "markdown",
   "metadata": {},
   "source": [
    "Students on average do more individual drags of the controls for the separation variable. Let's look at how long they spend changing variable controls."
   ]
  },
  {
   "cell_type": "markdown",
   "metadata": {},
   "source": [
    "# An aggregate detector"
   ]
  },
  {
   "cell_type": "code",
   "execution_count": 65,
   "metadata": {
    "collapsed": true
   },
   "outputs": [],
   "source": [
    "def detect_aggregate_action(log_files_per_sim,students,get_use_function):\n",
    "    '''\n",
    "    This function is a detector for a specific action that aggregates the findings over all students.\n",
    "    \n",
    "    Args:\n",
    "        students (list): All student to run detector on\n",
    "        log_files_per_sim (dict): dictionary by sim and student of log file names\n",
    "        get_use_function (function): takes a dataframe and returns what it detected\n",
    "\n",
    "    Returns:\n",
    "        aggregate_action_use (dict): a dictionary by sim by student of aggregate use of action\n",
    "    '''\n",
    "    aggregate_action_use = {'beers':{sid:[] for sid in students},'capacitor':{sid:[] for sid in students}}\n",
    "    \n",
    "    for sim in ['beers','capacitor']:\n",
    "        for sid in students:\n",
    "            logs = log_files_per_sim[sim][sid]\n",
    "            use = []\n",
    "\n",
    "            for log in logs:\n",
    "                df = prep_parsing_data(log,remove_model_events=False)\n",
    "                if not df.empty:\n",
    "                    use.extend(get_use_function(df))\n",
    "#                     try:\n",
    "#                         use.extend(get_use_function(df))\n",
    "#                     except:\n",
    "#                         print \"Unable to run aggregate detector on sim =\",sim,\", sid =\",sid\n",
    "            aggregate_action_use[sim][sid] = use\n",
    "    \n",
    "    return aggregate_action_use"
   ]
  },
  {
   "cell_type": "markdown",
   "metadata": {},
   "source": [
    "# Aggregate investigations"
   ]
  },
  {
   "cell_type": "markdown",
   "metadata": {
    "heading_collapsed": true
   },
   "source": [
    "## Aggregate analysis of wiggling"
   ]
  },
  {
   "cell_type": "code",
   "execution_count": 24,
   "metadata": {
    "collapsed": true,
    "hidden": true
   },
   "outputs": [],
   "source": [
    "def get_wiggle_times(df):\n",
    "    df_drag = df[(df['Event']=='dragStarted')|(df['Event']=='dragEnded')]\n",
    "    #this works since pairs of \"dragStarted\" and \"dragEnded\" will be consecutive\n",
    "#     if df_drag[df_drag['Event']=='dragStarted'].shape[0]==df_drag[df_drag['Event']=='dragEnded'].shape[0]+1:\n",
    "#         #sometimes the last dragEnded is missing, so we ignore this dragStart\n",
    "#         print \"dragEnded missing\", set(df['User'])\n",
    "#         return list(df_drag[df_drag['Event']=='dragEnded']['Time'].values - df_drag[df_drag['Event']=='dragStarted']['Time'].values[:-1])\n",
    "#     else:\n",
    "    return list(df_drag[df_drag['Event']=='dragEnded']['Time'].values - df_drag[df_drag['Event']=='dragStarted']['Time'].values)"
   ]
  },
  {
   "cell_type": "code",
   "execution_count": 27,
   "metadata": {
    "collapsed": false,
    "hidden": true
   },
   "outputs": [
    {
     "name": "stdout",
     "output_type": "stream",
     "text": [
      "Unequal number of drag start and end for sim = beers , sid = 19470169\n",
      "Unequal number of drag start and end for sim = beers , sid = 12816168\n",
      "Unequal number of drag start and end for sim = beers , sid = 10866146\n",
      "Unequal number of drag start and end for sim = capacitor , sid = 19618321\n",
      "Unequal number of drag start and end for sim = capacitor , sid = 17691169\n",
      "Unequal number of drag start and end for sim = capacitor , sid = 16901162\n",
      "Unequal number of drag start and end for sim = capacitor , sid = 19053161\n",
      "Unequal number of drag start and end for sim = capacitor , sid = 11394167\n",
      "Unequal number of drag start and end for sim = capacitor , sid = 19436162\n",
      "Unequal number of drag start and end for sim = capacitor , sid = 19989152\n",
      "Unequal number of drag start and end for sim = capacitor , sid = 16233163\n",
      "Unequal number of drag start and end for sim = capacitor , sid = 17576140\n",
      "Unequal number of drag start and end for sim = capacitor , sid = 16317166\n",
      "Unequal number of drag start and end for sim = capacitor , sid = 16657165\n",
      "Unequal number of drag start and end for sim = capacitor , sid = 17701169\n",
      "Unequal number of drag start and end for sim = capacitor , sid = 10127163\n",
      "Unequal number of drag start and end for sim = capacitor , sid = 13134165\n",
      "Unequal number of drag start and end for sim = capacitor , sid = 17655165\n",
      "Unequal number of drag start and end for sim = capacitor , sid = 14261165\n",
      "Unequal number of drag start and end for sim = capacitor , sid = 16328144\n"
     ]
    }
   ],
   "source": [
    "wiggle_times = detect_aggregate_action(log_files_per_sim,students,get_wiggle_times)\n",
    "#Here error means an unequal number of drag start and end"
   ]
  },
  {
   "cell_type": "code",
   "execution_count": 28,
   "metadata": {
    "collapsed": false,
    "hidden": true
   },
   "outputs": [
    {
     "name": "stdout",
     "output_type": "stream",
     "text": [
      "2.02436364325\n",
      "\n"
     ]
    },
    {
     "data": {
      "image/png": "[encoded data removed]",
      "text/plain": [
       "<matplotlib.figure.Figure at 0xeef5278>"
      ]
     },
     "metadata": {},
     "output_type": "display_data"
    }
   ],
   "source": [
    "import itertools\n",
    "all_wiggle_times = list(itertools.chain.from_iterable(wiggle_times['beers'].values()+wiggle_times['capacitor'].values()))\n",
    "print np.mean(all_wiggle_times)\n",
    "plt.hist(all_wiggle_times,bins=50)\n",
    "print"
   ]
  },
  {
   "cell_type": "markdown",
   "metadata": {},
   "source": [
    "## Aggregate pause analysis"
   ]
  },
  {
   "cell_type": "code",
   "execution_count": 108,
   "metadata": {
    "collapsed": true
   },
   "outputs": [],
   "source": [
    "def get_time_between_actions(df):\n",
    "    df = df[df['User or Model']=='user'] #remove model events, keep only user events\n",
    "    df['previous Time'] = df['Time'].shift()\n",
    "    df['time difference'] = df['Time'] - df['Time'].shift()\n",
    "    df = df.iloc[1:] #removes first row with NaN time difference\n",
    "    return df[(df['Event']!='dragged')&(df['Event']!='dragEnded')]['time difference']"
   ]
  },
  {
   "cell_type": "code",
   "execution_count": 140,
   "metadata": {
    "collapsed": false,
    "scrolled": false
   },
   "outputs": [],
   "source": [
    "all_intervals = detect_aggregate_action(log_files_per_sim,students,get_time_between_actions)"
   ]
  },
  {
   "cell_type": "code",
   "execution_count": 141,
   "metadata": {
    "collapsed": true
   },
   "outputs": [],
   "source": [
    "import itertools\n",
    "intervals = list(itertools.chain.from_iterable(all_intervals['beers'].values()+all_intervals['capacitor'].values()))"
   ]
  },
  {
   "cell_type": "code",
   "execution_count": 153,
   "metadata": {
    "collapsed": false
   },
   "outputs": [
    {
     "data": {
      "text/plain": [
       "<matplotlib.text.Text at 0x1749c630>"
      ]
     },
     "execution_count": 153,
     "metadata": {},
     "output_type": "execute_result"
    },
    {
     "data": {
      "image/png": "[encoded data removed]",
      "text/plain": [
       "<matplotlib.figure.Figure at 0x169552e8>"
      ]
     },
     "metadata": {},
     "output_type": "display_data"
    }
   ],
   "source": [
    "fig, axes = plt.subplots(3,figsize=(10,10))\n",
    "a_cutoff,b_cutoff = 10,100\n",
    "axes[0].hist(intervals, bins=50)\n",
    "axes[0].set_title('Time in between actions (all) in log scale');axes[0].set_yscale('log')\n",
    "axes[1].hist([i for i in intervals if i<a_cutoff], bins=50)\n",
    "axes[1].set_title('Time in between actions (Below '+str(a_cutoff)+\"s)\")\n",
    "axes[2].hist([i for i in intervals if i>=a_cutoff], bins=50)\n",
    "axes[2].set_title('Time in between actions (Above '+str(a_cutoff)+\"s)\")\n",
    "# axes[2].hist([i for i in intervals if i>=a_cutoff and i<b_cutoff], bins=50)\n",
    "# axes[2].set_title('Time in between actions (Between '+str(a_cutoff)+\"s and \"+str(b_cutoff)+\"s and )\")\n",
    "# axes[3].hist([i for i in intervals if i>=b_cutoff], bins=50)\n",
    "# axes[3].set_title('Time in between actions (Above '+str(b_cutoff)+\"s)\")"
   ]
  },
  {
   "cell_type": "code",
   "execution_count": null,
   "metadata": {
    "collapsed": true
   },
   "outputs": [],
   "source": []
  },
  {
   "cell_type": "code",
   "execution_count": null,
   "metadata": {
    "collapsed": true
   },
   "outputs": [],
   "source": []
  }
 ],
 "metadata": {
  "anaconda-cloud": {},
  "kernelspec": {
   "display_name": "Python [Anaconda2]",
   "language": "python",
   "name": "Python [Anaconda2]"
  },
  "language_info": {
   "codemirror_mode": {
    "name": "ipython",
    "version": 2
   },
   "file_extension": ".py",
   "mimetype": "text/x-python",
   "name": "python",
   "nbconvert_exporter": "python",
   "pygments_lexer": "ipython2",
   "version": "2.7.12"
  },
  "toc": {
   "nav_menu": {},
   "number_sections": true,
   "sideBar": false,
   "skip_h1_title": false,
   "toc_cell": false,
   "toc_position": {},
   "toc_section_display": "block",
   "toc_window_display": false
  }
 },
 "nbformat": 4,
 "nbformat_minor": 1
}
