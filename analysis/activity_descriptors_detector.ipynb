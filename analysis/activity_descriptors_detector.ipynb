{
 "cells": [
  {
   "cell_type": "markdown",
   "metadata": {},
   "source": [
    "# About activity_descriptors_detector.ipynb\n",
    "\n",
    "This notebook detects different aspects of activities from log files.\n",
    "This is a work in progress :)"
   ]
  },
  {
   "cell_type": "code",
   "execution_count": 1,
   "metadata": {},
   "outputs": [
    {
     "data": {
      "text/html": [
       "<script>jQuery(function() {if (jQuery(\"body.notebook_app\").length == 0) { jQuery(\".input_area\").toggle(); jQuery(\".prompt\").toggle();}});</script>"
      ]
     },
     "metadata": {},
     "output_type": "display_data"
    }
   ],
   "source": [
    "from IPython.display import display\n",
    "from IPython.display import HTML\n",
    "import IPython.core.display as di\n",
    "\n",
    "# This line will hide code by default when the notebook is exported as HTML\n",
    "di.display_html('<script>jQuery(function() {if (jQuery(\"body.notebook_app\").length == 0) { jQuery(\".input_area\").toggle(); jQuery(\".prompt\").toggle();}});</script>', raw=True)"
   ]
  },
  {
   "cell_type": "code",
   "execution_count": 2,
   "metadata": {},
   "outputs": [],
   "source": [
    "%load_ext autoreload\n",
    "%autoreload 1\n",
    "%aimport utils_timeline_viz\n",
    "from utils_timeline_viz import *\n",
    "from utils_read_parsing import *\n",
    "from tabulate import tabulate\n",
    "%matplotlib inline\n",
    "matplotlib.style.use('ggplot')\n",
    "matplotlib.rcParams['figure.figsize'] = 10,6"
   ]
  },
  {
   "cell_type": "markdown",
   "metadata": {},
   "source": [
    "# Grabbing log data and preparing df with results"
   ]
  },
  {
   "cell_type": "code",
   "execution_count": 3,
   "metadata": {},
   "outputs": [],
   "source": [
    "log_files_per_sim = {}\n",
    "for sim in ['beers','capacitor']:\n",
    "    log_files_per_sim[sim] = get_parsed_log_files_per_student_for_sim(sim)"
   ]
  },
  {
   "cell_type": "code",
   "execution_count": 4,
   "metadata": {},
   "outputs": [
    {
     "data": {
      "text/html": [
       "<div>\n",
       "<style>\n",
       "    .dataframe thead tr:only-child th {\n",
       "        text-align: right;\n",
       "    }\n",
       "\n",
       "    .dataframe thead th {\n",
       "        text-align: left;\n",
       "    }\n",
       "\n",
       "    .dataframe tbody tr th {\n",
       "        vertical-align: top;\n",
       "    }\n",
       "</style>\n",
       "<table border=\"1\" class=\"dataframe\">\n",
       "  <thead>\n",
       "    <tr style=\"text-align: right;\">\n",
       "      <th></th>\n",
       "      <th>use table</th>\n",
       "      <th>use graph</th>\n",
       "      <th>exploration duration</th>\n",
       "      <th>activity duration</th>\n",
       "      <th>activity order</th>\n",
       "    </tr>\n",
       "  </thead>\n",
       "  <tbody>\n",
       "    <tr>\n",
       "      <th>10127163</th>\n",
       "      <td>False</td>\n",
       "      <td>False</td>\n",
       "      <td>0.0</td>\n",
       "      <td>0.0</td>\n",
       "      <td>LC</td>\n",
       "    </tr>\n",
       "    <tr>\n",
       "      <th>10192168</th>\n",
       "      <td>False</td>\n",
       "      <td>False</td>\n",
       "      <td>0.0</td>\n",
       "      <td>0.0</td>\n",
       "      <td>CL</td>\n",
       "    </tr>\n",
       "    <tr>\n",
       "      <th>10232160</th>\n",
       "      <td>False</td>\n",
       "      <td>False</td>\n",
       "      <td>0.0</td>\n",
       "      <td>0.0</td>\n",
       "      <td>LC</td>\n",
       "    </tr>\n",
       "    <tr>\n",
       "      <th>10375163</th>\n",
       "      <td>False</td>\n",
       "      <td>False</td>\n",
       "      <td>0.0</td>\n",
       "      <td>0.0</td>\n",
       "      <td>CL</td>\n",
       "    </tr>\n",
       "    <tr>\n",
       "      <th>10420167</th>\n",
       "      <td>False</td>\n",
       "      <td>False</td>\n",
       "      <td>0.0</td>\n",
       "      <td>0.0</td>\n",
       "      <td>CL</td>\n",
       "    </tr>\n",
       "  </tbody>\n",
       "</table>\n",
       "</div>"
      ],
      "text/plain": [
       "          use table  use graph  exploration duration  activity duration  \\\n",
       "10127163      False      False                   0.0                0.0   \n",
       "10192168      False      False                   0.0                0.0   \n",
       "10232160      False      False                   0.0                0.0   \n",
       "10375163      False      False                   0.0                0.0   \n",
       "10420167      False      False                   0.0                0.0   \n",
       "\n",
       "         activity order  \n",
       "10127163             LC  \n",
       "10192168             CL  \n",
       "10232160             LC  \n",
       "10375163             CL  \n",
       "10420167             CL  "
      ]
     },
     "execution_count": 4,
     "metadata": {},
     "output_type": "execute_result"
    }
   ],
   "source": [
    "ids = get_students_to_analyze_log()\n",
    "results = pd.DataFrame(index =ids, columns = ['use table','use graph','exploration duration','activity duration'])\n",
    "results = results.fillna(0)\n",
    "results.index.name = 'studentid'\n",
    "results[['use table']] = results[['use table']].astype(bool)\n",
    "results[['use graph']] = results[['use graph']].astype(bool)\n",
    "results[['exploration duration']] = results[['exploration duration']].astype(float)\n",
    "results[['activity duration']] = results[['activity duration']].astype(float)\n",
    "metadf = get_student_metadata()\n",
    "results = results.merge(metadf[['activity order']],how='left',left_index=True,right_index=True)\n",
    "results_light = results.copy()\n",
    "results_caps = results.copy()\n",
    "results_caps.head()"
   ]
  },
  {
   "cell_type": "markdown",
   "metadata": {
    "collapsed": true
   },
   "source": [
    "# Build dectectors\n",
    "## Use table/graph"
   ]
  },
  {
   "cell_type": "code",
   "execution_count": 5,
   "metadata": {},
   "outputs": [],
   "source": [
    "def get_use_table(df):\n",
    "    tables = set(df['Table'])\n",
    "    for i,t in enumerate(tables):\n",
    "        if len(t)>10:\n",
    "            return True\n",
    "    else:\n",
    "        return False\n",
    "\n",
    "def get_use_graph(df):\n",
    "    tables = set(df['Table'])\n",
    "    for i,t in enumerate(tables):\n",
    "        table = read_table(t)\n",
    "        points = get_pts(table,in_graph=True)\n",
    "        if len(points)>0:\n",
    "            return True\n",
    "    else:\n",
    "        return False"
   ]
  },
  {
   "cell_type": "code",
   "execution_count": 7,
   "metadata": {},
   "outputs": [],
   "source": [
    "# # item\n",
    "# # \tcuvetteNode\n",
    "# # \tsolutionControls slider\n",
    "# # \tsolutionControls\n",
    "# # \tplateAreaDragHandleNode\n",
    "# # \tplateSeparationDragHandleNode\n",
    "    \n",
    "#     def get_use_concentration(df):\n",
    "#     tables = set(df['Table'])\n",
    "#     for i,t in enumerate(tables):\n",
    "#         table = read_table(t)\n",
    "#         points = get_pts(table,in_graph=True)\n",
    "#         if len(points)>0:\n",
    "#             return True\n",
    "#     else:\n",
    "#         return False"
   ]
  },
  {
   "cell_type": "code",
   "execution_count": 8,
   "metadata": {},
   "outputs": [],
   "source": [
    "def get_exploration_duration(df):\n",
    "    times = list(df[df['Event']=='recording data']['Time'])\n",
    "    if len(times)>=2:\n",
    "        times.sort()\n",
    "        #return the time of the second record\n",
    "        return times[1]\n",
    "    else:\n",
    "        #else, return last time stamp\n",
    "        return list(df.sort_values(by='Time')['Time'])[-1]\n",
    "\n",
    "def get_activity_duration(df):\n",
    "    return list(df.sort_values(by='Time')['Time'])[-1]"
   ]
  },
  {
   "cell_type": "code",
   "execution_count": 9,
   "metadata": {},
   "outputs": [
    {
     "name": "stderr",
     "output_type": "stream",
     "text": [
      "d:\\applications\\anaconda2\\lib\\site-packages\\pandas\\core\\indexing.py:517: SettingWithCopyWarning: \n",
      "A value is trying to be set on a copy of a slice from a DataFrame.\n",
      "Try using .loc[row_indexer,col_indexer] = value instead\n",
      "\n",
      "See the caveats in the documentation: http://pandas.pydata.org/pandas-docs/stable/indexing.html#indexing-view-versus-copy\n",
      "  self.obj[item] = s\n"
     ]
    }
   ],
   "source": [
    "for sim,results in [('beers',results_light),('capacitor',results_caps)]:\n",
    "    log_files = log_files_per_sim[sim]\n",
    "    for sid,logs in log_files.iteritems():\n",
    "        use_table = False\n",
    "        use_graph = False\n",
    "        exploration_duration = 0\n",
    "        activity_duration= 0\n",
    "        for log in logs:\n",
    "            df = prep_parsing_data(log)\n",
    "            if not df.empty:\n",
    "                exploration_duration = max(exploration_duration, get_exploration_duration(df))\n",
    "                activity_duration += get_activity_duration(df)\n",
    "                if get_use_table(df):\n",
    "                    use_table = True\n",
    "                    if get_use_graph(df):\n",
    "                        use_graph = True\n",
    "\n",
    "        results.set_value(sid, 'exploration duration',exploration_duration)\n",
    "        results.set_value(sid, 'activity duration',activity_duration)\n",
    "        results.set_value(sid, 'use table',use_table)\n",
    "        results.set_value(sid, 'use graph',use_graph)"
   ]
  },
  {
   "cell_type": "markdown",
   "metadata": {},
   "source": [
    "## Per sim, how much are the graph and table used?"
   ]
  },
  {
   "cell_type": "code",
   "execution_count": 10,
   "metadata": {},
   "outputs": [
    {
     "name": "stdout",
     "output_type": "stream",
     "text": [
      "-----  --------------  --------------\n",
      "       use table       use graph\n",
      "light  0.952702702703  0.797297297297\n",
      "caps   0.932432432432  0.655405405405\n",
      "-----  --------------  --------------\n"
     ]
    }
   ],
   "source": [
    "p = [['','use table','use graph']]\n",
    "p.append(['light',sum(results_light['use table'])/float(len(results_light)),sum(results_light['use graph'])/float(len(results_light))])\n",
    "p.append(['caps',sum(results_caps['use table'])/float(len(results_caps)),sum(results_caps['use graph'])/float(len(results_caps))])\n",
    "print tabulate(p)"
   ]
  },
  {
   "cell_type": "markdown",
   "metadata": {},
   "source": [
    "## How long are activities?"
   ]
  },
  {
   "cell_type": "code",
   "execution_count": 11,
   "metadata": {},
   "outputs": [
    {
     "name": "stderr",
     "output_type": "stream",
     "text": [
      "d:\\applications\\anaconda2\\lib\\site-packages\\matplotlib\\axes\\_axes.py:545: UserWarning: No labelled objects found. Use label='...' kwarg on individual plots.\n",
      "  warnings.warn(\"No labelled objects found. \"\n"
     ]
    },
    {
     "name": "stdout",
     "output_type": "stream",
     "text": [
      "[  165.834        224.44846667   283.06293333   341.6774       400.29186667\n",
      "   458.90633333   517.5208       576.13526667   634.74973333   693.3642\n",
      "   751.97866667   810.59313333   869.2076       927.82206667   986.43653333\n",
      "  1045.051     ]\n"
     ]
    },
    {
     "data": {
      "image/png": "[encoded data removed]",
      "text/plain": [
       "<matplotlib.figure.Figure at 0xe0b1588>"
      ]
     },
     "metadata": {},
     "output_type": "display_data"
    }
   ],
   "source": [
    "fig, ax = plt.subplots()\n",
    "a_heights, a_bins = np.histogram(results_light['activity duration'],bins=15)\n",
    "b_heights, b_bins = np.histogram(results_caps['activity duration'], bins=a_bins)\n",
    "\n",
    "width = (a_bins[1] - a_bins[0])/3\n",
    "\n",
    "ax.bar(a_bins[:-1], a_heights, width=width, facecolor='cornflowerblue')\n",
    "ax.bar(b_bins[:-1]+width, b_heights, width=width, facecolor='violet')\n",
    "plt.legend()\n",
    "print a_bins"
   ]
  },
  {
   "cell_type": "code",
   "execution_count": 20,
   "metadata": {},
   "outputs": [
    {
     "name": "stdout",
     "output_type": "stream",
     "text": [
      "14.5614083333 13.3775432432 3.00639354976\n",
      "14.13855 13.1197120495 3.16261614146\n"
     ]
    }
   ],
   "source": [
    "print np.median(results_light['activity duration'])/60,  np.mean(results_light['activity duration'])/60,  np.std(results_light['activity duration'])/60\n",
    "print np.median(results_caps['activity duration'])/60,  np.mean(results_caps['activity duration'])/60,  np.std(results_caps['activity duration'])/60"
   ]
  },
  {
   "cell_type": "markdown",
   "metadata": {},
   "source": [
    "## How long do students explore in each sim?\n",
    "### Overall"
   ]
  },
  {
   "cell_type": "code",
   "execution_count": 12,
   "metadata": {},
   "outputs": [
    {
     "name": "stdout",
     "output_type": "stream",
     "text": [
      "[  19.455        81.21033333  142.96566667  204.721       266.47633333\n",
      "  328.23166667  389.987       451.74233333  513.49766667  575.253\n",
      "  637.00833333  698.76366667  760.519       822.27433333  884.02966667\n",
      "  945.785     ]\n"
     ]
    },
    {
     "data": {
      "image/png": "[encoded data removed]",
      "text/plain": [
       "<matplotlib.figure.Figure at 0xe640dd8>"
      ]
     },
     "metadata": {},
     "output_type": "display_data"
    }
   ],
   "source": [
    "fig, ax = plt.subplots()\n",
    "a_heights, a_bins = np.histogram(results_light['exploration duration'],bins=15)\n",
    "b_heights, b_bins = np.histogram(results_caps['exploration duration'], bins=a_bins)\n",
    "\n",
    "width = (a_bins[1] - a_bins[0])/3\n",
    "\n",
    "ax.bar(a_bins[:-1], a_heights, width=width, facecolor='cornflowerblue')\n",
    "ax.bar(b_bins[:-1]+width, b_heights, width=width, facecolor='violet')\n",
    "plt.legend()\n",
    "print a_bins"
   ]
  },
  {
   "cell_type": "markdown",
   "metadata": {},
   "source": [
    "### by order"
   ]
  },
  {
   "cell_type": "code",
   "execution_count": 13,
   "metadata": {},
   "outputs": [
    {
     "name": "stdout",
     "output_type": "stream",
     "text": [
      "[  24.445       101.22333333  178.00166667  254.78        331.55833333\n",
      "  408.33666667  485.115       561.89333333  638.67166667  715.45\n",
      "  792.22833333  869.00666667  945.785     ]\n"
     ]
    },
    {
     "data": {
      "image/png": "[encoded data removed]",
      "text/plain": [
       "<matplotlib.figure.Figure at 0xf58a198>"
      ]
     },
     "metadata": {},
     "output_type": "display_data"
    }
   ],
   "source": [
    "fig, ax = plt.subplots()\n",
    "a_heights, a_bins = np.histogram(results_light[results_light['activity order']=='CL']['exploration duration'],bins=12)\n",
    "b_heights, b_bins = np.histogram(results_light[results_light['activity order']=='LC']['exploration duration'], bins=a_bins)\n",
    "c_heights, c_bins = np.histogram(results_caps[results_light['activity order']=='CL']['exploration duration'], bins=a_bins)\n",
    "d_heights, d_bins = np.histogram(results_caps[results_light['activity order']=='LC']['exploration duration'], bins=a_bins)\n",
    "\n",
    "width = (a_bins[1] - a_bins[0])/6\n",
    "\n",
    "ax.bar(a_bins[:-1], a_heights, width=width, facecolor='cornflowerblue',hatch=\"//\",label='light CL')\n",
    "ax.bar(b_bins[:-1]+width, b_heights, width=width, facecolor='cornflowerblue',label='light LC')\n",
    "ax.bar(c_bins[:-1]+width*3, c_heights, width=width, facecolor='violet',label='caps CL')\n",
    "ax.bar(d_bins[:-1]+width*4, d_heights, width=width, facecolor='violet',hatch=\"//\",label='caps LC')\n",
    "plt.legend()\n",
    "print a_bins"
   ]
  },
  {
   "cell_type": "code",
   "execution_count": 14,
   "metadata": {},
   "outputs": [
    {
     "name": "stdout",
     "output_type": "stream",
     "text": [
      "-----  ----------------------------  ----------------------------  -------------  ----------------\n",
      "       CL                            LC                            mannwhitney U  p-value\n",
      "light  212.285541667+-228.052367311  294.825118421+-237.052210449  1977.0         0.00180764592394\n",
      "caps   319.349958333+-287.698960446  220.454631579+-211.456827371  2134.0         0.0105107644293\n",
      "-----  ----------------------------  ----------------------------  -------------  ----------------\n"
     ]
    }
   ],
   "source": [
    "from scipy.stats import mannwhitneyu\n",
    "p = [['','CL','LC','mannwhitney U','p-value']]\n",
    "l_CL = results_light[results_light['activity order']=='CL']['exploration duration'].values\n",
    "l_LC = results_light[results_light['activity order']=='LC']['exploration duration'].values\n",
    "c_CL = results_caps[results_caps['activity order']=='CL']['exploration duration'].values\n",
    "c_LC = results_caps[results_caps['activity order']=='LC']['exploration duration'].values\n",
    "m,pv = mannwhitneyu(l_CL,l_LC)\n",
    "p.append(['light',str(np.mean(l_CL))+'+-'+str(np.std(l_CL)),str(np.mean(l_LC))+'+-'+str(np.std(l_LC)),m,pv])\n",
    "m,pv = mannwhitneyu(c_CL,c_LC)\n",
    "p.append(['caps',str(np.mean(c_CL))+'+-'+str(np.std(c_CL)),str(np.mean(c_LC))+'+-'+str(np.std(c_LC)),m,pv])\n",
    "print tabulate(p)"
   ]
  },
  {
   "cell_type": "code",
   "execution_count": null,
   "metadata": {},
   "outputs": [],
   "source": []
  },
  {
   "cell_type": "code",
   "execution_count": null,
   "metadata": {},
   "outputs": [],
   "source": []
  }
 ],
 "metadata": {
  "anaconda-cloud": {},
  "kernelspec": {
   "display_name": "Python 2",
   "language": "python",
   "name": "python2"
  },
  "language_info": {
   "codemirror_mode": {
    "name": "ipython",
    "version": 2
   },
   "file_extension": ".py",
   "mimetype": "text/x-python",
   "name": "python",
   "nbconvert_exporter": "python",
   "pygments_lexer": "ipython2",
   "version": "2.7.13"
  },
  "toc": {
   "nav_menu": {},
   "number_sections": true,
   "sideBar": false,
   "skip_h1_title": false,
   "toc_cell": false,
   "toc_position": {},
   "toc_section_display": "block",
   "toc_window_display": false
  }
 },
 "nbformat": 4,
 "nbformat_minor": 1
}
