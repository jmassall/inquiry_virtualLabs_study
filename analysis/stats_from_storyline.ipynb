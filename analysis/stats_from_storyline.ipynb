{
 "cells": [
  {
   "cell_type": "markdown",
   "metadata": {},
   "source": [
    "Load libraries"
   ]
  },
  {
   "cell_type": "code",
   "execution_count": 91,
   "metadata": {},
   "outputs": [],
   "source": [
    "## For some reason, when loading mlogit, the notebook can't find package 'statmod' so I specify it's location\n",
    "library(statmod, lib.loc='D:\\\\Applications\\\\Anaconda2\\\\pkgs\\\\r-statmod-1.4.30-r3.4.1_0\\\\lib\\\\R\\\\library\\\\')\n",
    "require(mlogit)\n",
    "require(ggplot2)\n",
    "require(reshape2)\n",
    "require(lme4)\n",
    "require(compiler)\n",
    "require(parallel)\n",
    "require(car)\n",
    "require(boot)\n",
    "require(dplyr)\n",
    "require(sjstats)\n",
    "require(broom)"
   ]
  },
  {
   "cell_type": "markdown",
   "metadata": {},
   "source": [
    "# Load data and set factors"
   ]
  },
  {
   "cell_type": "code",
   "execution_count": 93,
   "metadata": {},
   "outputs": [],
   "source": [
    "mydata <- read.csv(\"C:\\\\Users\\\\Sarah\\\\Documents\\\\Personal Content\\\\Lab_study_data\\\\all_massaged_data\\\\dataframe_all_factors_for_analysis.txt\",sep = '\\t')\n",
    "# sid is the student number\n",
    "mydata$sid <- factor(mydata$sid)\n",
    "mydata$sim_index <- factor(mydata$sim_index)\n",
    "mydata$lab_experience <- factor(mydata$lab_experience)\n",
    "mydata$similar_sim <- factor(mydata$similar_sim)\n",
    "mydata$cvs_graph <- factor(mydata$cvs_graph)\n",
    "mydata$cvs_table <- factor(mydata$cvs_table)\n",
    "mydata$quant_score <- factor(mydata$quant_score)\n",
    "# mydata$main <- factor(mydata$main)\n",
    "# mydata$pre <- factor(mydata$pre)"
   ]
  },
  {
   "cell_type": "markdown",
   "metadata": {},
   "source": [
    "Here is what our data looks like:"
   ]
  },
  {
   "cell_type": "code",
   "execution_count": 94,
   "metadata": {},
   "outputs": [
    {
     "data": {
      "text/html": [
       "<table>\n",
       "<thead><tr><th scope=col>sid</th><th scope=col>sim</th><th scope=col>variable</th><th scope=col>pre</th><th scope=col>main</th><th scope=col>cvs_graph</th><th scope=col>cvs_table</th><th scope=col>cvs_table_only</th><th scope=col>qual_score</th><th scope=col>quant_score</th><th scope=col>...</th><th scope=col>pre_with_ident</th><th scope=col>main_with_ident</th><th scope=col>CVS_context</th><th scope=col>use_table</th><th scope=col>use_graph</th><th scope=col>use_concentration</th><th scope=col>use_width</th><th scope=col>use_area</th><th scope=col>use_separation</th><th scope=col>use_all_vars</th></tr></thead>\n",
       "<tbody>\n",
       "\t<tr><td>10127163     </td><td>L            </td><td>Concentration</td><td>0            </td><td>2            </td><td>1            </td><td>1            </td><td>0            </td><td>1            </td><td>1            </td><td>...          </td><td>1            </td><td>3            </td><td>2            </td><td>1            </td><td>1            </td><td>1            </td><td>1            </td><td>1            </td><td>1            </td><td>4            </td></tr>\n",
       "\t<tr><td>10127163     </td><td>L            </td><td>Width        </td><td>0            </td><td>2            </td><td>1            </td><td>1            </td><td>0            </td><td>1            </td><td>1            </td><td>...          </td><td>1            </td><td>3            </td><td>2            </td><td>1            </td><td>1            </td><td>1            </td><td>1            </td><td>1            </td><td>1            </td><td>4            </td></tr>\n",
       "\t<tr><td>10127163     </td><td>C            </td><td>Area         </td><td>2            </td><td>2            </td><td>1            </td><td>1            </td><td>0            </td><td>1            </td><td>1            </td><td>...          </td><td>3            </td><td>3            </td><td>2            </td><td>1            </td><td>1            </td><td>1            </td><td>1            </td><td>1            </td><td>1            </td><td>4            </td></tr>\n",
       "\t<tr><td>10127163     </td><td>C            </td><td>Separation   </td><td>2            </td><td>2            </td><td>1            </td><td>1            </td><td>0            </td><td>1            </td><td>1            </td><td>...          </td><td>3            </td><td>3            </td><td>2            </td><td>1            </td><td>1            </td><td>1            </td><td>1            </td><td>1            </td><td>1            </td><td>4            </td></tr>\n",
       "\t<tr><td>10232160     </td><td>L            </td><td>Concentration</td><td>0            </td><td>0            </td><td>1            </td><td>1            </td><td>0            </td><td>1            </td><td>1            </td><td>...          </td><td>1            </td><td>1            </td><td>2            </td><td>1            </td><td>1            </td><td>1            </td><td>1            </td><td>1            </td><td>1            </td><td>4            </td></tr>\n",
       "\t<tr><td>10232160     </td><td>L            </td><td>Width        </td><td>0            </td><td>0            </td><td>0            </td><td>0            </td><td>0            </td><td>1            </td><td>1            </td><td>...          </td><td>1            </td><td>1            </td><td>0            </td><td>1            </td><td>1            </td><td>1            </td><td>1            </td><td>1            </td><td>1            </td><td>4            </td></tr>\n",
       "</tbody>\n",
       "</table>\n"
      ],
      "text/latex": [
       "\\begin{tabular}{r|llllllllllllllllllllllllllll}\n",
       " sid & sim & variable & pre & main & cvs\\_graph & cvs\\_table & cvs\\_table\\_only & qual\\_score & quant\\_score & ... & pre\\_with\\_ident & main\\_with\\_ident & CVS\\_context & use\\_table & use\\_graph & use\\_concentration & use\\_width & use\\_area & use\\_separation & use\\_all\\_vars\\\\\n",
       "\\hline\n",
       "\t 10127163      & L             & Concentration & 0             & 2             & 1             & 1             & 0             & 1             & 1             & ...           & 1             & 3             & 2             & 1             & 1             & 1             & 1             & 1             & 1             & 4            \\\\\n",
       "\t 10127163      & L             & Width         & 0             & 2             & 1             & 1             & 0             & 1             & 1             & ...           & 1             & 3             & 2             & 1             & 1             & 1             & 1             & 1             & 1             & 4            \\\\\n",
       "\t 10127163      & C             & Area          & 2             & 2             & 1             & 1             & 0             & 1             & 1             & ...           & 3             & 3             & 2             & 1             & 1             & 1             & 1             & 1             & 1             & 4            \\\\\n",
       "\t 10127163      & C             & Separation    & 2             & 2             & 1             & 1             & 0             & 1             & 1             & ...           & 3             & 3             & 2             & 1             & 1             & 1             & 1             & 1             & 1             & 4            \\\\\n",
       "\t 10232160      & L             & Concentration & 0             & 0             & 1             & 1             & 0             & 1             & 1             & ...           & 1             & 1             & 2             & 1             & 1             & 1             & 1             & 1             & 1             & 4            \\\\\n",
       "\t 10232160      & L             & Width         & 0             & 0             & 0             & 0             & 0             & 1             & 1             & ...           & 1             & 1             & 0             & 1             & 1             & 1             & 1             & 1             & 1             & 4            \\\\\n",
       "\\end{tabular}\n"
      ],
      "text/markdown": [
       "\n",
       "sid | sim | variable | pre | main | cvs_graph | cvs_table | cvs_table_only | qual_score | quant_score | ... | pre_with_ident | main_with_ident | CVS_context | use_table | use_graph | use_concentration | use_width | use_area | use_separation | use_all_vars | \n",
       "|---|---|---|---|---|---|\n",
       "| 10127163      | L             | Concentration | 0             | 2             | 1             | 1             | 0             | 1             | 1             | ...           | 1             | 3             | 2             | 1             | 1             | 1             | 1             | 1             | 1             | 4             | \n",
       "| 10127163      | L             | Width         | 0             | 2             | 1             | 1             | 0             | 1             | 1             | ...           | 1             | 3             | 2             | 1             | 1             | 1             | 1             | 1             | 1             | 4             | \n",
       "| 10127163      | C             | Area          | 2             | 2             | 1             | 1             | 0             | 1             | 1             | ...           | 3             | 3             | 2             | 1             | 1             | 1             | 1             | 1             | 1             | 4             | \n",
       "| 10127163      | C             | Separation    | 2             | 2             | 1             | 1             | 0             | 1             | 1             | ...           | 3             | 3             | 2             | 1             | 1             | 1             | 1             | 1             | 1             | 4             | \n",
       "| 10232160      | L             | Concentration | 0             | 0             | 1             | 1             | 0             | 1             | 1             | ...           | 1             | 1             | 2             | 1             | 1             | 1             | 1             | 1             | 1             | 4             | \n",
       "| 10232160      | L             | Width         | 0             | 0             | 0             | 0             | 0             | 1             | 1             | ...           | 1             | 1             | 0             | 1             | 1             | 1             | 1             | 1             | 1             | 4             | \n",
       "\n",
       "\n"
      ],
      "text/plain": [
       "  sid      sim variable      pre main cvs_graph cvs_table cvs_table_only\n",
       "1 10127163 L   Concentration 0   2    1         1         0             \n",
       "2 10127163 L   Width         0   2    1         1         0             \n",
       "3 10127163 C   Area          2   2    1         1         0             \n",
       "4 10127163 C   Separation    2   2    1         1         0             \n",
       "5 10232160 L   Concentration 0   0    1         1         0             \n",
       "6 10232160 L   Width         0   0    0         0         0             \n",
       "  qual_score quant_score ... pre_with_ident main_with_ident CVS_context\n",
       "1 1          1           ... 1              3               2          \n",
       "2 1          1           ... 1              3               2          \n",
       "3 1          1           ... 3              3               2          \n",
       "4 1          1           ... 3              3               2          \n",
       "5 1          1           ... 1              1               2          \n",
       "6 1          1           ... 1              1               0          \n",
       "  use_table use_graph use_concentration use_width use_area use_separation\n",
       "1 1         1         1                 1         1        1             \n",
       "2 1         1         1                 1         1        1             \n",
       "3 1         1         1                 1         1        1             \n",
       "4 1         1         1                 1         1        1             \n",
       "5 1         1         1                 1         1        1             \n",
       "6 1         1         1                 1         1        1             \n",
       "  use_all_vars\n",
       "1 4           \n",
       "2 4           \n",
       "3 4           \n",
       "4 4           \n",
       "5 4           \n",
       "6 4           "
      ]
     },
     "metadata": {},
     "output_type": "display_data"
    }
   ],
   "source": [
    "head(mydata)\n",
    "# colnames(mydata)"
   ]
  },
  {
   "cell_type": "markdown",
   "metadata": {},
   "source": [
    "We have the following factors that change per variable:\n",
    "* main (0,1,2), treated as a continuous variable\n",
    "* pre (0,1,2), treated as a continuous variable\n",
    "* quant_score (0 or 1)\n",
    "* CVS_graph (0 or 1)\n",
    "* CVS_table (0 or 1)\n",
    "\n",
    "We have the following independant factors:\n",
    "* sim_index (1 or 2, wither it was student's 1st or 2nd activity)\n",
    "* variable (thus don't include sim as a variable)\n",
    "* student attibutes:\n",
    "   * lab_experience (0 or 1 if students have prior undergraduate physics or chemistry lab experience)\n",
    "   * similar_sim (0 or 1 if they have used a similar simulation)\n",
    "   * prior_number_virtual_labs (levels from 0 to 3 depending on the number of virtual labs they have done in the past)\n",
    "\n",
    "We ignore attitude components.\n",
    "\n",
    "For main and pre score:\n",
    "* score = 2 if they describe the correct relationship, ie. a correct quantitative model\n",
    "* score = 1 if they describe the correct direction of the relationship, ie. they have a correct qual model but incorrect quant model OR if their quant model is incorrect but qualitatively correct\n",
    "* score = 0 otherwise (i.e. all incorrect or only identified)"
   ]
  },
  {
   "cell_type": "markdown",
   "metadata": {},
   "source": [
    "# Stat model 1: Prediction main model score as a continuous variable"
   ]
  },
  {
   "cell_type": "markdown",
   "metadata": {},
   "source": [
    "Some resources:\n",
    "* On SS Types: https://mcfromnz.wordpress.com/2011/03/02/anova-type-iiiiii-ss-explained/\n",
    "* on drop() function to do type 3: https://www.statmethods.net/stats/anova.html\n",
    "* On repeated measures: http://psych.wisc.edu/moore/Rpdf/610-R8_OneWayWithin.pdf, https://datascienceplus.com/two-way-anova-with-repeated-measures/\n",
    "* the car package: https://cran.r-project.org/web/packages/car/car.pdf"
   ]
  },
  {
   "cell_type": "markdown",
   "metadata": {},
   "source": [
    "## Complete model with interactions"
   ]
  },
  {
   "cell_type": "markdown",
   "metadata": {},
   "source": [
    "Our model (without student factors) is:\n",
    "\n",
    "    main  ~  cvs_table*variable + cvs_graph*variable\n",
    "             + cvs_table*pre + cvs_graph*pre\n",
    "             + sim_index + sid\n",
    "             \n",
    "We run a type III Anova:"
   ]
  },
  {
   "cell_type": "code",
   "execution_count": 95,
   "metadata": {},
   "outputs": [
    {
     "data": {
      "text/html": [
       "<table>\n",
       "<thead><tr><th scope=col>term</th><th scope=col>sumsq</th><th scope=col>df</th><th scope=col>statistic</th><th scope=col>p.value</th><th scope=col>eta</th></tr></thead>\n",
       "<tbody>\n",
       "\t<tr><td>(Intercept)       </td><td>7.805831e+00      </td><td>  1               </td><td>34.747383469      </td><td>7.642655e-09      </td><td>7.541526e-02      </td></tr>\n",
       "\t<tr><td>cvs_table         </td><td>2.646537e-02      </td><td>  1               </td><td> 0.117809663      </td><td>7.315917e-01      </td><td>2.764720e-04      </td></tr>\n",
       "\t<tr><td>variable          </td><td>2.962562e-01      </td><td>  3               </td><td> 0.439591352      </td><td>7.247968e-01      </td><td>3.086160e-03      </td></tr>\n",
       "\t<tr><td>cvs_graph         </td><td>1.019934e+00      </td><td>  1               </td><td> 4.540199846      </td><td>3.367984e-02      </td><td>1.054536e-02      </td></tr>\n",
       "\t<tr><td>pre               </td><td>9.773337e-04      </td><td>  1               </td><td> 0.004350567      </td><td>9.474415e-01      </td><td>1.021249e-05      </td></tr>\n",
       "\t<tr><td>sim_index         </td><td>2.740467e+00      </td><td>  1               </td><td>12.199093390      </td><td>5.281336e-04      </td><td>2.783916e-02      </td></tr>\n",
       "\t<tr><td>sid               </td><td>9.881870e+01      </td><td>146               </td><td> 3.012931588      </td><td>1.176573e-18      </td><td>5.080195e-01      </td></tr>\n",
       "\t<tr><td>cvs_table:variable</td><td>1.212752e+00      </td><td>  3               </td><td> 1.799508506      </td><td>1.465681e-01      </td><td>1.251401e-02      </td></tr>\n",
       "\t<tr><td>variable:cvs_graph</td><td>4.663895e-02      </td><td>  3               </td><td> 0.069203884      </td><td>9.763197e-01      </td><td>4.871139e-04      </td></tr>\n",
       "\t<tr><td>cvs_table:pre     </td><td>1.981195e-03      </td><td>  1               </td><td> 0.008819222      </td><td>9.252242e-01      </td><td>2.070197e-05      </td></tr>\n",
       "\t<tr><td>cvs_graph:pre     </td><td>1.072164e-01      </td><td>  1               </td><td> 0.477269864      </td><td>4.900378e-01      </td><td>1.119098e-03      </td></tr>\n",
       "\t<tr><td>Residuals         </td><td>9.569883e+01      </td><td>426               </td><td>          NA      </td><td>          NA      </td><td>5.000000e-01      </td></tr>\n",
       "</tbody>\n",
       "</table>\n"
      ],
      "text/latex": [
       "\\begin{tabular}{r|llllll}\n",
       " term & sumsq & df & statistic & p.value & eta\\\\\n",
       "\\hline\n",
       "\t (Intercept)        & 7.805831e+00       &   1                & 34.747383469       & 7.642655e-09       & 7.541526e-02      \\\\\n",
       "\t cvs\\_table          & 2.646537e-02         &   1                  &  0.117809663         & 7.315917e-01         & 2.764720e-04        \\\\\n",
       "\t variable           & 2.962562e-01       &   3                &  0.439591352       & 7.247968e-01       & 3.086160e-03      \\\\\n",
       "\t cvs\\_graph          & 1.019934e+00         &   1                  &  4.540199846         & 3.367984e-02         & 1.054536e-02        \\\\\n",
       "\t pre                & 9.773337e-04       &   1                &  0.004350567       & 9.474415e-01       & 1.021249e-05      \\\\\n",
       "\t sim\\_index          & 2.740467e+00         &   1                  & 12.199093390         & 5.281336e-04         & 2.783916e-02        \\\\\n",
       "\t sid                & 9.881870e+01       & 146                &  3.012931588       & 1.176573e-18       & 5.080195e-01      \\\\\n",
       "\t cvs\\_table:variable & 1.212752e+00         &   3                  &  1.799508506         & 1.465681e-01         & 1.251401e-02        \\\\\n",
       "\t variable:cvs\\_graph & 4.663895e-02         &   3                  &  0.069203884         & 9.763197e-01         & 4.871139e-04        \\\\\n",
       "\t cvs\\_table:pre      & 1.981195e-03         &   1                  &  0.008819222         & 9.252242e-01         & 2.070197e-05        \\\\\n",
       "\t cvs\\_graph:pre      & 1.072164e-01         &   1                  &  0.477269864         & 4.900378e-01         & 1.119098e-03        \\\\\n",
       "\t Residuals          & 9.569883e+01       & 426                &           NA       &           NA       & 5.000000e-01      \\\\\n",
       "\\end{tabular}\n"
      ],
      "text/markdown": [
       "\n",
       "term | sumsq | df | statistic | p.value | eta | \n",
       "|---|---|---|---|---|---|---|---|---|---|---|---|\n",
       "| (Intercept)        | 7.805831e+00       |   1                | 34.747383469       | 7.642655e-09       | 7.541526e-02       | \n",
       "| cvs_table          | 2.646537e-02       |   1                |  0.117809663       | 7.315917e-01       | 2.764720e-04       | \n",
       "| variable           | 2.962562e-01       |   3                |  0.439591352       | 7.247968e-01       | 3.086160e-03       | \n",
       "| cvs_graph          | 1.019934e+00       |   1                |  4.540199846       | 3.367984e-02       | 1.054536e-02       | \n",
       "| pre                | 9.773337e-04       |   1                |  0.004350567       | 9.474415e-01       | 1.021249e-05       | \n",
       "| sim_index          | 2.740467e+00       |   1                | 12.199093390       | 5.281336e-04       | 2.783916e-02       | \n",
       "| sid                | 9.881870e+01       | 146                |  3.012931588       | 1.176573e-18       | 5.080195e-01       | \n",
       "| cvs_table:variable | 1.212752e+00       |   3                |  1.799508506       | 1.465681e-01       | 1.251401e-02       | \n",
       "| variable:cvs_graph | 4.663895e-02       |   3                |  0.069203884       | 9.763197e-01       | 4.871139e-04       | \n",
       "| cvs_table:pre      | 1.981195e-03       |   1                |  0.008819222       | 9.252242e-01       | 2.070197e-05       | \n",
       "| cvs_graph:pre      | 1.072164e-01       |   1                |  0.477269864       | 4.900378e-01       | 1.119098e-03       | \n",
       "| Residuals          | 9.569883e+01       | 426                |           NA       |           NA       | 5.000000e-01       | \n",
       "\n",
       "\n"
      ],
      "text/plain": [
       "   term               sumsq        df  statistic    p.value      eta         \n",
       "1  (Intercept)        7.805831e+00   1 34.747383469 7.642655e-09 7.541526e-02\n",
       "2  cvs_table          2.646537e-02   1  0.117809663 7.315917e-01 2.764720e-04\n",
       "3  variable           2.962562e-01   3  0.439591352 7.247968e-01 3.086160e-03\n",
       "4  cvs_graph          1.019934e+00   1  4.540199846 3.367984e-02 1.054536e-02\n",
       "5  pre                9.773337e-04   1  0.004350567 9.474415e-01 1.021249e-05\n",
       "6  sim_index          2.740467e+00   1 12.199093390 5.281336e-04 2.783916e-02\n",
       "7  sid                9.881870e+01 146  3.012931588 1.176573e-18 5.080195e-01\n",
       "8  cvs_table:variable 1.212752e+00   3  1.799508506 1.465681e-01 1.251401e-02\n",
       "9  variable:cvs_graph 4.663895e-02   3  0.069203884 9.763197e-01 4.871139e-04\n",
       "10 cvs_table:pre      1.981195e-03   1  0.008819222 9.252242e-01 2.070197e-05\n",
       "11 cvs_graph:pre      1.072164e-01   1  0.477269864 4.900378e-01 1.119098e-03\n",
       "12 Residuals          9.569883e+01 426           NA           NA 5.000000e-01"
      ]
     },
     "metadata": {},
     "output_type": "display_data"
    }
   ],
   "source": [
    "lm1 = lm(main\n",
    "        ~  cvs_table*variable + cvs_graph*variable + cvs_table*pre + cvs_graph*pre + sim_index + sid,\n",
    "         data=mydata)\n",
    "results1 = Anova(lm1, type=3)\n",
    "results_table1 = tidy(results1)\n",
    "results_table1$eta <- results_table1$sumsq/(results_table1$sumsq + results_table1$sumsq[dim(results_table1)[1]])\n",
    "results_table1"
   ]
  },
  {
   "cell_type": "markdown",
   "metadata": {},
   "source": [
    "None of the interactions are significant so let's move to a simpler model."
   ]
  },
  {
   "cell_type": "markdown",
   "metadata": {},
   "source": [
    "## Simple model with interaction"
   ]
  },
  {
   "cell_type": "markdown",
   "metadata": {},
   "source": [
    "Our model (without student factors) is:\n",
    "\n",
    "    main  ~  cvs_table + cvs_graph + variable\n",
    "             + pre + sim_index + sid\n",
    "             \n",
    "We run a type II Anova:"
   ]
  },
  {
   "cell_type": "code",
   "execution_count": 96,
   "metadata": {},
   "outputs": [
    {
     "data": {
      "text/html": [
       "<table>\n",
       "<thead><tr><th scope=col>term</th><th scope=col>sumsq</th><th scope=col>df</th><th scope=col>statistic</th><th scope=col>p.value</th><th scope=col>eta</th></tr></thead>\n",
       "<tbody>\n",
       "\t<tr><td>cvs_table   </td><td>2.875905e-03</td><td>  1         </td><td> 0.01265297 </td><td>9.104905e-01</td><td>2.915345e-05</td></tr>\n",
       "\t<tr><td>cvs_graph   </td><td>2.846821e+00</td><td>  1         </td><td>12.52501086 </td><td>4.449018e-04</td><td>2.804996e-02</td></tr>\n",
       "\t<tr><td>variable    </td><td>2.341790e+00</td><td>  3         </td><td> 3.43434961 </td><td>1.698431e-02</td><td>2.318924e-02</td></tr>\n",
       "\t<tr><td>pre         </td><td>5.063759e-01</td><td>  1         </td><td> 2.22787537 </td><td>1.362667e-01</td><td>5.107137e-03</td></tr>\n",
       "\t<tr><td>sim_index   </td><td>2.769224e+00</td><td>  1         </td><td>12.18360845 </td><td>5.314560e-04</td><td>2.730627e-02</td></tr>\n",
       "\t<tr><td>sid         </td><td>1.003316e+02</td><td>146         </td><td> 3.02345002 </td><td>6.702068e-19</td><td>5.042401e-01</td></tr>\n",
       "\t<tr><td>Residuals   </td><td>9.864427e+01</td><td>434         </td><td>         NA </td><td>          NA</td><td>5.000000e-01</td></tr>\n",
       "</tbody>\n",
       "</table>\n"
      ],
      "text/latex": [
       "\\begin{tabular}{r|llllll}\n",
       " term & sumsq & df & statistic & p.value & eta\\\\\n",
       "\\hline\n",
       "\t cvs\\_table  & 2.875905e-03 &   1          &  0.01265297  & 9.104905e-01 & 2.915345e-05\\\\\n",
       "\t cvs\\_graph  & 2.846821e+00 &   1          & 12.52501086  & 4.449018e-04 & 2.804996e-02\\\\\n",
       "\t variable     & 2.341790e+00 &   3          &  3.43434961  & 1.698431e-02 & 2.318924e-02\\\\\n",
       "\t pre          & 5.063759e-01 &   1          &  2.22787537  & 1.362667e-01 & 5.107137e-03\\\\\n",
       "\t sim\\_index  & 2.769224e+00 &   1          & 12.18360845  & 5.314560e-04 & 2.730627e-02\\\\\n",
       "\t sid          & 1.003316e+02 & 146          &  3.02345002  & 6.702068e-19 & 5.042401e-01\\\\\n",
       "\t Residuals    & 9.864427e+01 & 434          &          NA  &           NA & 5.000000e-01\\\\\n",
       "\\end{tabular}\n"
      ],
      "text/markdown": [
       "\n",
       "term | sumsq | df | statistic | p.value | eta | \n",
       "|---|---|---|---|---|---|---|\n",
       "| cvs_table    | 2.875905e-03 |   1          |  0.01265297  | 9.104905e-01 | 2.915345e-05 | \n",
       "| cvs_graph    | 2.846821e+00 |   1          | 12.52501086  | 4.449018e-04 | 2.804996e-02 | \n",
       "| variable     | 2.341790e+00 |   3          |  3.43434961  | 1.698431e-02 | 2.318924e-02 | \n",
       "| pre          | 5.063759e-01 |   1          |  2.22787537  | 1.362667e-01 | 5.107137e-03 | \n",
       "| sim_index    | 2.769224e+00 |   1          | 12.18360845  | 5.314560e-04 | 2.730627e-02 | \n",
       "| sid          | 1.003316e+02 | 146          |  3.02345002  | 6.702068e-19 | 5.042401e-01 | \n",
       "| Residuals    | 9.864427e+01 | 434          |          NA  |           NA | 5.000000e-01 | \n",
       "\n",
       "\n"
      ],
      "text/plain": [
       "  term      sumsq        df  statistic   p.value      eta         \n",
       "1 cvs_table 2.875905e-03   1  0.01265297 9.104905e-01 2.915345e-05\n",
       "2 cvs_graph 2.846821e+00   1 12.52501086 4.449018e-04 2.804996e-02\n",
       "3 variable  2.341790e+00   3  3.43434961 1.698431e-02 2.318924e-02\n",
       "4 pre       5.063759e-01   1  2.22787537 1.362667e-01 5.107137e-03\n",
       "5 sim_index 2.769224e+00   1 12.18360845 5.314560e-04 2.730627e-02\n",
       "6 sid       1.003316e+02 146  3.02345002 6.702068e-19 5.042401e-01\n",
       "7 Residuals 9.864427e+01 434          NA           NA 5.000000e-01"
      ]
     },
     "metadata": {},
     "output_type": "display_data"
    }
   ],
   "source": [
    "lm1 = lm(main\n",
    "        ~  cvs_table + cvs_graph + variable + pre + sim_index + sid,\n",
    "         data=mydata)\n",
    "results1 = Anova(lm1, type=2)\n",
    "results_table1 = tidy(results1)\n",
    "results_table1$eta <- results_table1$sumsq/(results_table1$sumsq + results_table1$sumsq[dim(results_table1)[1]])\n",
    "results_table1"
   ]
  },
  {
   "cell_type": "markdown",
   "metadata": {},
   "source": [
    "We see that, in order of significance and eta^2: cvs_graph, sim_index, and variable matter."
   ]
  },
  {
   "cell_type": "markdown",
   "metadata": {},
   "source": [
    "# Stat model 2: Predicting transfer data"
   ]
  },
  {
   "cell_type": "markdown",
   "metadata": {},
   "source": [
    "## Excluding student main worksheet score"
   ]
  },
  {
   "cell_type": "markdown",
   "metadata": {},
   "source": [
    "### Complete model with interactions"
   ]
  },
  {
   "cell_type": "markdown",
   "metadata": {},
   "source": [
    "Our model is:\n",
    "\n",
    "    quant_score  ~  cvs_table*variable + cvs_graph*variable\n",
    "             + cvs_table*pre + cvs_graph*pre\n",
    "             + sim_index + sid\n",
    "             \n",
    "We run a logistic regression:"
   ]
  },
  {
   "cell_type": "code",
   "execution_count": 97,
   "metadata": {},
   "outputs": [
    {
     "name": "stderr",
     "output_type": "stream",
     "text": [
      "\n",
      "Correlation matrix not shown by default, as p = 16 > 12.\n",
      "Use print(obj, correlation=TRUE)  or\n",
      "\t vcov(obj)\t if you need it\n",
      "\n"
     ]
    },
    {
     "data": {
      "text/plain": [
       "Generalized linear mixed model fit by maximum likelihood (Adaptive\n",
       "  Gauss-Hermite Quadrature, nAGQ = 10) [glmerMod]\n",
       " Family: binomial  ( logit )\n",
       "Formula: \n",
       "quant_score ~ cvs_table * variable + cvs_graph * variable + cvs_table *  \n",
       "    pre + cvs_graph * pre + sim_index + (1 | sid)\n",
       "   Data: mydata\n",
       "Control: glmerControl(optimizer = \"bobyqa\")\n",
       "\n",
       "     AIC      BIC   logLik deviance df.resid \n",
       "   670.0    744.4   -318.0    636.0      571 \n",
       "\n",
       "Scaled residuals: \n",
       "    Min      1Q  Median      3Q     Max \n",
       "-3.2052 -0.4659  0.2881  0.4786  1.2799 \n",
       "\n",
       "Random effects:\n",
       " Groups Name        Variance Std.Dev.\n",
       " sid    (Intercept) 3.735    1.932   \n",
       "Number of obs: 588, groups:  sid, 147\n",
       "\n",
       "Fixed effects:\n",
       "                                 Estimate Std. Error z value Pr(>|z|)  \n",
       "(Intercept)                       1.16394    0.46704   2.492   0.0127 *\n",
       "cvs_table1                        0.28970    0.78194   0.370   0.7110  \n",
       "variableConcentration            -0.19343    0.55513  -0.348   0.7275  \n",
       "variableSeparation               -1.06166    0.51553  -2.059   0.0395 *\n",
       "variableWidth                     0.46819    0.55446   0.844   0.3984  \n",
       "cvs_graph1                       -0.68626    0.79515  -0.863   0.3881  \n",
       "pre                               0.97715    0.44878   2.177   0.0295 *\n",
       "sim_index2                        0.26243    0.23355   1.124   0.2612  \n",
       "cvs_table1:variableConcentration -0.38802    1.05085  -0.369   0.7119  \n",
       "cvs_table1:variableSeparation    -0.02919    1.00871  -0.029   0.9769  \n",
       "cvs_table1:variableWidth         -0.74694    1.06208  -0.703   0.4819  \n",
       "variableConcentration:cvs_graph1  1.01531    1.02739   0.988   0.3230  \n",
       "variableSeparation:cvs_graph1     0.57214    0.98493   0.581   0.5613  \n",
       "variableWidth:cvs_graph1          0.18634    1.01908   0.183   0.8549  \n",
       "cvs_table1:pre                   -0.77598    0.69207  -1.121   0.2622  \n",
       "cvs_graph1:pre                    0.45226    0.63504   0.712   0.4764  \n",
       "---\n",
       "Signif. codes:  0 '***' 0.001 '**' 0.01 '*' 0.05 '.' 0.1 ' ' 1"
      ]
     },
     "metadata": {},
     "output_type": "display_data"
    }
   ],
   "source": [
    "mixed1 <- glmer(\n",
    "    quant_score\n",
    "    ~ cvs_table*variable + cvs_graph*variable + cvs_table*pre + cvs_graph*pre + sim_index + (1 | sid),\n",
    "           data = mydata, family = binomial, \n",
    "           control = glmerControl(optimizer = \"bobyqa\"), nAGQ = 10)\n",
    "summary(mixed1)"
   ]
  },
  {
   "cell_type": "markdown",
   "metadata": {},
   "source": [
    "**(non log) Odds ratio with confidence intervals**"
   ]
  },
  {
   "cell_type": "code",
   "execution_count": 98,
   "metadata": {
    "scrolled": false
   },
   "outputs": [
    {
     "name": "stdout",
     "output_type": "stream",
     "text": [
      "                                   est  2.5 % 97.5 %\n",
      "(Intercept)                      3.203 1.2822   8.00\n",
      "cvs_table1                       1.336 0.2886   6.19\n",
      "variableConcentration            0.824 0.2776   2.45\n",
      "variableSeparation               0.346 0.1259   0.95\n",
      "variableWidth                    1.597 0.5387   4.73\n",
      "cvs_graph1                       0.503 0.1060   2.39\n",
      "pre                              2.657 1.1025   6.40\n",
      "sim_index2                       1.300 0.8226   2.05\n",
      "cvs_table1:variableConcentration 0.678 0.0865   5.32\n",
      "cvs_table1:variableSeparation    0.971 0.1345   7.01\n",
      "cvs_table1:variableWidth         0.474 0.0591   3.80\n",
      "variableConcentration:cvs_graph1 2.760 0.3685  20.68\n",
      "variableSeparation:cvs_graph1    1.772 0.2571  12.21\n",
      "variableWidth:cvs_graph1         1.205 0.1635   8.88\n",
      "cvs_table1:pre                   0.460 0.1186   1.79\n",
      "cvs_graph1:pre                   1.572 0.4528   5.46\n"
     ]
    }
   ],
   "source": [
    "cc <- confint(mixed1,parm=\"beta_\",method=\"Wald\")\n",
    "ctab <- cbind(est=fixef(mixed1),cc)\n",
    "rtab <- exp(ctab)\n",
    "print(rtab,digits=3)"
   ]
  },
  {
   "cell_type": "markdown",
   "metadata": {},
   "source": [
    "Again interactions are not significant, so we stick to a simpler model."
   ]
  },
  {
   "cell_type": "markdown",
   "metadata": {},
   "source": [
    "### Simple model without interactions"
   ]
  },
  {
   "cell_type": "markdown",
   "metadata": {},
   "source": [
    "Our model is:\n",
    "\n",
    "    quant_score  ~  cvs_table + cvs_graph + variable\n",
    "                     + pre + sim_index + sid\n",
    "             \n",
    "We run a logistic regression:"
   ]
  },
  {
   "cell_type": "code",
   "execution_count": 99,
   "metadata": {},
   "outputs": [
    {
     "data": {
      "text/plain": [
       "Generalized linear mixed model fit by maximum likelihood (Adaptive\n",
       "  Gauss-Hermite Quadrature, nAGQ = 10) [glmerMod]\n",
       " Family: binomial  ( logit )\n",
       "Formula: quant_score ~ cvs_table + cvs_graph + variable + sim_index +  \n",
       "    pre + (1 | sid)\n",
       "   Data: mydata\n",
       "Control: glmerControl(optimizer = \"bobyqa\")\n",
       "\n",
       "     AIC      BIC   logLik deviance df.resid \n",
       "   658.8    698.2   -320.4    640.8      579 \n",
       "\n",
       "Scaled residuals: \n",
       "    Min      1Q  Median      3Q     Max \n",
       "-2.6604 -0.4832  0.2932  0.4892  1.3620 \n",
       "\n",
       "Random effects:\n",
       " Groups Name        Variance Std.Dev.\n",
       " sid    (Intercept) 3.461    1.86    \n",
       "Number of obs: 588, groups:  sid, 147\n",
       "\n",
       "Fixed effects:\n",
       "                      Estimate Std. Error z value Pr(>|z|)    \n",
       "(Intercept)            1.21488    0.36514   3.327 0.000877 ***\n",
       "cvs_table1            -0.23617    0.41210  -0.573 0.566580    \n",
       "cvs_graph1            -0.05100    0.42562  -0.120 0.904629    \n",
       "variableConcentration  0.03205    0.32643   0.098 0.921793    \n",
       "variableSeparation    -0.81255    0.31677  -2.565 0.010315 *  \n",
       "variableWidth          0.06914    0.32453   0.213 0.831298    \n",
       "sim_index2             0.24314    0.22991   1.058 0.290273    \n",
       "pre                    0.60464    0.23365   2.588 0.009659 ** \n",
       "---\n",
       "Signif. codes:  0 '***' 0.001 '**' 0.01 '*' 0.05 '.' 0.1 ' ' 1\n",
       "\n",
       "Correlation of Fixed Effects:\n",
       "            (Intr) cvs_t1 cvs_g1 vrblCn vrblSp vrblWd sm_nd2\n",
       "cvs_table1  -0.333                                          \n",
       "cvs_graph1  -0.033 -0.667                                   \n",
       "vrblCncntrt -0.432  0.006 -0.062                            \n",
       "variblSprtn -0.494  0.047 -0.011  0.502                     \n",
       "variablWdth -0.463  0.014 -0.033  0.501  0.502              \n",
       "sim_index2  -0.258  0.026 -0.142  0.076 -0.008  0.066       \n",
       "pre         -0.139 -0.056 -0.044  0.004 -0.090  0.052  0.018"
      ]
     },
     "metadata": {},
     "output_type": "display_data"
    }
   ],
   "source": [
    "mixed1 <- glmer(\n",
    "    quant_score\n",
    "    ~ cvs_table + cvs_graph + variable + sim_index + pre + (1 | sid),\n",
    "           data = mydata, family = binomial, \n",
    "           control = glmerControl(optimizer = \"bobyqa\"), nAGQ = 10)\n",
    "summary(mixed1)"
   ]
  },
  {
   "cell_type": "markdown",
   "metadata": {},
   "source": [
    "**(non log) Odds ratio with confidence intervals**"
   ]
  },
  {
   "cell_type": "code",
   "execution_count": 100,
   "metadata": {
    "scrolled": false
   },
   "outputs": [
    {
     "name": "stdout",
     "output_type": "stream",
     "text": [
      "                        est 2.5 % 97.5 %\n",
      "(Intercept)           3.370 1.647  6.893\n",
      "cvs_table1            0.790 0.352  1.771\n",
      "cvs_graph1            0.950 0.413  2.188\n",
      "variableConcentration 1.033 0.545  1.958\n",
      "variableSeparation    0.444 0.238  0.826\n",
      "variableWidth         1.072 0.567  2.024\n",
      "sim_index2            1.275 0.813  2.001\n",
      "pre                   1.831 1.158  2.894\n"
     ]
    }
   ],
   "source": [
    "cc <- confint(mixed1,parm=\"beta_\",method=\"Wald\")\n",
    "ctab <- cbind(est=fixef(mixed1),cc)\n",
    "rtab <- exp(ctab)\n",
    "print(rtab,digits=3)"
   ]
  },
  {
   "cell_type": "markdown",
   "metadata": {},
   "source": [
    "As expected, CVS doesn't predict quant transfer scores, only variable does."
   ]
  },
  {
   "cell_type": "markdown",
   "metadata": {},
   "source": [
    "## Including student main worksheet score\n",
    "as a continuous variable"
   ]
  },
  {
   "cell_type": "markdown",
   "metadata": {},
   "source": [
    "### Complete model with interactions"
   ]
  },
  {
   "cell_type": "markdown",
   "metadata": {},
   "source": [
    "Our model is:\n",
    "\n",
    "    quant_score  ~  main + cvs_table*variable + cvs_graph*variable\n",
    "                    + cvs_table*pre + cvs_graph*pre\n",
    "                    + sim_index + sid\n",
    "             \n",
    "We run a logistic regression:"
   ]
  },
  {
   "cell_type": "code",
   "execution_count": 101,
   "metadata": {},
   "outputs": [
    {
     "name": "stderr",
     "output_type": "stream",
     "text": [
      "\n",
      "Correlation matrix not shown by default, as p = 17 > 12.\n",
      "Use print(obj, correlation=TRUE)  or\n",
      "\t vcov(obj)\t if you need it\n",
      "\n"
     ]
    },
    {
     "data": {
      "text/plain": [
       "Generalized linear mixed model fit by maximum likelihood (Adaptive\n",
       "  Gauss-Hermite Quadrature, nAGQ = 10) [glmerMod]\n",
       " Family: binomial  ( logit )\n",
       "Formula: quant_score ~ main + cvs_table * variable + cvs_graph * variable +  \n",
       "    cvs_table * pre + cvs_graph * pre + sim_index + (1 | sid)\n",
       "   Data: mydata\n",
       "Control: glmerControl(optimizer = \"bobyqa\")\n",
       "\n",
       "     AIC      BIC   logLik deviance df.resid \n",
       "   639.2    718.0   -301.6    603.2      570 \n",
       "\n",
       "Scaled residuals: \n",
       "    Min      1Q  Median      3Q     Max \n",
       "-2.8868 -0.3810  0.2352  0.4439  2.6622 \n",
       "\n",
       "Random effects:\n",
       " Groups Name        Variance Std.Dev.\n",
       " sid    (Intercept) 4.377    2.092   \n",
       "Number of obs: 588, groups:  sid, 147\n",
       "\n",
       "Fixed effects:\n",
       "                                 Estimate Std. Error z value Pr(>|z|)    \n",
       "(Intercept)                      -0.22567    0.55203  -0.409   0.6827    \n",
       "main                              1.46100    0.28806   5.072 3.94e-07 ***\n",
       "cvs_table1                        0.21502    0.82361   0.261   0.7940    \n",
       "variableConcentration            -0.31037    0.58044  -0.535   0.5928    \n",
       "variableSeparation               -1.25549    0.54114  -2.320   0.0203 *  \n",
       "variableWidth                     0.52098    0.58537   0.890   0.3735    \n",
       "cvs_graph1                       -1.28683    0.85579  -1.504   0.1327    \n",
       "pre                               0.94804    0.47862   1.981   0.0476 *  \n",
       "sim_index2                        0.09353    0.24894   0.376   0.7071    \n",
       "cvs_table1:variableConcentration -0.42653    1.10616  -0.386   0.6998    \n",
       "cvs_table1:variableSeparation     0.45065    1.05546   0.427   0.6694    \n",
       "cvs_table1:variableWidth         -1.04497    1.11634  -0.936   0.3492    \n",
       "variableConcentration:cvs_graph1  1.14727    1.08929   1.053   0.2922    \n",
       "variableSeparation:cvs_graph1     0.63822    1.03212   0.618   0.5363    \n",
       "variableWidth:cvs_graph1          0.34851    1.06936   0.326   0.7445    \n",
       "cvs_table1:pre                   -0.81029    0.75949  -1.067   0.2860    \n",
       "cvs_graph1:pre                    0.38326    0.70080   0.547   0.5845    \n",
       "---\n",
       "Signif. codes:  0 '***' 0.001 '**' 0.01 '*' 0.05 '.' 0.1 ' ' 1"
      ]
     },
     "metadata": {},
     "output_type": "display_data"
    }
   ],
   "source": [
    "mixed1 <- glmer(\n",
    "    quant_score\n",
    "    ~ main + cvs_table*variable + cvs_graph*variable + cvs_table*pre + cvs_graph*pre + sim_index + (1 | sid),\n",
    "           data = mydata, family = binomial, \n",
    "           control = glmerControl(optimizer = \"bobyqa\"), nAGQ = 10)\n",
    "summary(mixed1)"
   ]
  },
  {
   "cell_type": "markdown",
   "metadata": {},
   "source": [
    "**(non log) Odds ratio with confidence intervals**"
   ]
  },
  {
   "cell_type": "code",
   "execution_count": 102,
   "metadata": {
    "scrolled": false
   },
   "outputs": [
    {
     "name": "stdout",
     "output_type": "stream",
     "text": [
      "                                   est  2.5 % 97.5 %\n",
      "(Intercept)                      0.798 0.2705  2.354\n",
      "main                             4.310 2.4508  7.581\n",
      "cvs_table1                       1.240 0.2468  6.229\n",
      "variableConcentration            0.733 0.2350  2.287\n",
      "variableSeparation               0.285 0.0987  0.823\n",
      "variableWidth                    1.684 0.5346  5.303\n",
      "cvs_graph1                       0.276 0.0516  1.478\n",
      "pre                              2.581 1.0100  6.594\n",
      "sim_index2                       1.098 0.6741  1.789\n",
      "cvs_table1:variableConcentration 0.653 0.0747  5.706\n",
      "cvs_table1:variableSeparation    1.569 0.1983 12.420\n",
      "cvs_table1:variableWidth         0.352 0.0394  3.136\n",
      "variableConcentration:cvs_graph1 3.150 0.3724 26.636\n",
      "variableSeparation:cvs_graph1    1.893 0.2504 14.313\n",
      "variableWidth:cvs_graph1         1.417 0.1742 11.524\n",
      "cvs_table1:pre                   0.445 0.1004  1.971\n",
      "cvs_graph1:pre                   1.467 0.3715  5.794\n"
     ]
    }
   ],
   "source": [
    "cc <- confint(mixed1,parm=\"beta_\",method=\"Wald\")\n",
    "ctab <- cbind(est=fixef(mixed1),cc)\n",
    "rtab <- exp(ctab)\n",
    "print(rtab,digits=3)"
   ]
  },
  {
   "cell_type": "markdown",
   "metadata": {},
   "source": [
    "Again interactions are not significant, so we stick to a simpler model."
   ]
  },
  {
   "cell_type": "markdown",
   "metadata": {},
   "source": [
    "### Simple model without interactions"
   ]
  },
  {
   "cell_type": "markdown",
   "metadata": {},
   "source": [
    "Our model is:\n",
    "\n",
    "    quant_score  ~  main + cvs_table + cvs_graph + variable\n",
    "                     + pre + sim_index + sid\n",
    "             \n",
    "We run a logistic regression:"
   ]
  },
  {
   "cell_type": "code",
   "execution_count": 103,
   "metadata": {},
   "outputs": [
    {
     "data": {
      "text/plain": [
       "Generalized linear mixed model fit by maximum likelihood (Adaptive\n",
       "  Gauss-Hermite Quadrature, nAGQ = 10) [glmerMod]\n",
       " Family: binomial  ( logit )\n",
       "Formula: quant_score ~ main + cvs_table + cvs_graph + variable + sim_index +  \n",
       "    pre + (1 | sid)\n",
       "   Data: mydata\n",
       "Control: glmerControl(optimizer = \"bobyqa\")\n",
       "\n",
       "     AIC      BIC   logLik deviance df.resid \n",
       "   630.9    674.7   -305.5    610.9      578 \n",
       "\n",
       "Scaled residuals: \n",
       "    Min      1Q  Median      3Q     Max \n",
       "-2.8731 -0.4163  0.2662  0.4557  2.0194 \n",
       "\n",
       "Random effects:\n",
       " Groups Name        Variance Std.Dev.\n",
       " sid    (Intercept) 3.965    1.991   \n",
       "Number of obs: 588, groups:  sid, 147\n",
       "\n",
       "Fixed effects:\n",
       "                       Estimate Std. Error z value Pr(>|z|)    \n",
       "(Intercept)           -0.107637   0.452839  -0.238   0.8121    \n",
       "main                   1.340418   0.271828   4.931 8.18e-07 ***\n",
       "cvs_table1            -0.269440   0.439074  -0.614   0.5394    \n",
       "cvs_graph1            -0.539544   0.468049  -1.153   0.2490    \n",
       "variableConcentration -0.046691   0.341829  -0.137   0.8914    \n",
       "variableSeparation    -0.714581   0.331261  -2.157   0.0310 *  \n",
       "variableWidth          0.008884   0.340576   0.026   0.9792    \n",
       "sim_index2             0.092187   0.242831   0.380   0.7042    \n",
       "pre                    0.511612   0.251014   2.038   0.0415 *  \n",
       "---\n",
       "Signif. codes:  0 '***' 0.001 '**' 0.01 '*' 0.05 '.' 0.1 ' ' 1\n",
       "\n",
       "Correlation of Fixed Effects:\n",
       "            (Intr) main   cvs_t1 cvs_g1 vrblCn vrblSp vrblWd sm_nd2\n",
       "main        -0.536                                                 \n",
       "cvs_table1  -0.280 -0.003                                          \n",
       "cvs_graph1   0.119 -0.251 -0.658                                   \n",
       "vrblCncntrt -0.344 -0.045  0.013 -0.056                            \n",
       "variblSprtn -0.412  0.006  0.040 -0.014  0.503                     \n",
       "variablWdth -0.377 -0.034  0.022 -0.033  0.509  0.501              \n",
       "sim_index2  -0.171 -0.095  0.029 -0.108  0.087 -0.005  0.087       \n",
       "pre         -0.111 -0.013 -0.031 -0.052 -0.003 -0.095  0.045  0.009"
      ]
     },
     "metadata": {},
     "output_type": "display_data"
    }
   ],
   "source": [
    "mixed1 <- glmer(\n",
    "    quant_score\n",
    "    ~ main + cvs_table + cvs_graph + variable + sim_index + pre + (1 | sid),\n",
    "           data = mydata, family = binomial, \n",
    "           control = glmerControl(optimizer = \"bobyqa\"), nAGQ = 10)\n",
    "summary(mixed1)"
   ]
  },
  {
   "cell_type": "markdown",
   "metadata": {},
   "source": [
    "**(non log) Odds ratio with confidence intervals**"
   ]
  },
  {
   "cell_type": "code",
   "execution_count": 104,
   "metadata": {
    "scrolled": false
   },
   "outputs": [
    {
     "name": "stdout",
     "output_type": "stream",
     "text": [
      "                        est 2.5 % 97.5 %\n",
      "(Intercept)           0.898 0.370  2.181\n",
      "main                  3.821 2.243  6.509\n",
      "cvs_table1            0.764 0.323  1.806\n",
      "cvs_graph1            0.583 0.233  1.459\n",
      "variableConcentration 0.954 0.488  1.865\n",
      "variableSeparation    0.489 0.256  0.937\n",
      "variableWidth         1.009 0.518  1.967\n",
      "sim_index2            1.097 0.681  1.765\n",
      "pre                   1.668 1.020  2.728\n"
     ]
    }
   ],
   "source": [
    "cc <- confint(mixed1,parm=\"beta_\",method=\"Wald\")\n",
    "ctab <- cbind(est=fixef(mixed1),cc)\n",
    "rtab <- exp(ctab)\n",
    "print(rtab,digits=3)"
   ]
  },
  {
   "cell_type": "markdown",
   "metadata": {},
   "source": [
    "## Discussion on all 4 models (w. w/o interaction and w. w/o main)\n",
    "What we notice:\n",
    "* cvs_graph never matters\n",
    "* main matters\n",
    "* pre matters\n",
    "* variable matters\n",
    "* sim_index doesn't matter..."
   ]
  },
  {
   "cell_type": "markdown",
   "metadata": {
    "hideCode": true,
    "hidePrompt": true
   },
   "source": [
    "# Stat model 3: Predicting the use of CVS graph"
   ]
  },
  {
   "cell_type": "markdown",
   "metadata": {},
   "source": [
    "Our model is:\n",
    "\n",
    "    cvs_graph  ~ variable + pre + sim_index + sid\n",
    "                 + lab_experience + similar_sim + prior_number_virtual_labs\n",
    "             \n",
    "We run a logistic regression:"
   ]
  },
  {
   "cell_type": "code",
   "execution_count": 105,
   "metadata": {},
   "outputs": [
    {
     "data": {
      "text/plain": [
       "Generalized linear mixed model fit by maximum likelihood (Adaptive\n",
       "  Gauss-Hermite Quadrature, nAGQ = 10) [glmerMod]\n",
       " Family: binomial  ( logit )\n",
       "Formula: \n",
       "cvs_graph ~ variable + sim_index + pre + lab_experience + similar_sim +  \n",
       "    prior_number_virtual_labs + (1 | sid)\n",
       "   Data: mydata\n",
       "Control: glmerControl(optimizer = \"bobyqa\")\n",
       "\n",
       "     AIC      BIC   logLik deviance df.resid \n",
       "   603.7    647.5   -291.9    583.7      578 \n",
       "\n",
       "Scaled residuals: \n",
       "    Min      1Q  Median      3Q     Max \n",
       "-2.0406 -0.3283 -0.1003  0.3351  2.8259 \n",
       "\n",
       "Random effects:\n",
       " Groups Name        Variance Std.Dev.\n",
       " sid    (Intercept) 10.79    3.284   \n",
       "Number of obs: 588, groups:  sid, 147\n",
       "\n",
       "Fixed effects:\n",
       "                          Estimate Std. Error z value Pr(>|z|)    \n",
       "(Intercept)                -5.6625     1.3361  -4.238 2.25e-05 ***\n",
       "variableConcentration       0.7366     0.4057   1.816  0.06943 .  \n",
       "variableSeparation         -0.1014     0.3731  -0.272  0.78572    \n",
       "variableWidth               0.2744     0.3993   0.687  0.49204    \n",
       "sim_index2                  1.2946     0.2911   4.447 8.72e-06 ***\n",
       "pre                         0.4995     0.2651   1.884  0.05952 .  \n",
       "lab_experience1             3.9664     1.4007   2.832  0.00463 ** \n",
       "similar_sim1               -0.1497     0.4380  -0.342  0.73248    \n",
       "prior_number_virtual_labs   0.3226     0.3877   0.832  0.40531    \n",
       "---\n",
       "Signif. codes:  0 '***' 0.001 '**' 0.01 '*' 0.05 '.' 0.1 ' ' 1\n",
       "\n",
       "Correlation of Fixed Effects:\n",
       "            (Intr) vrblCn vrblSp vrblWd sm_nd2 pre    lb_xp1 smlr_1\n",
       "vrblCncntrt -0.235                                                 \n",
       "variblSprtn -0.132  0.466                                          \n",
       "variablWdth -0.201  0.573  0.471                                   \n",
       "sim_index2  -0.263  0.149 -0.009  0.112                            \n",
       "pre         -0.092 -0.088 -0.049 -0.006  0.051                     \n",
       "lab_exprnc1 -0.797  0.074 -0.002  0.046  0.113  0.045              \n",
       "similar_sm1  0.070 -0.306 -0.012 -0.295  0.041  0.132 -0.051       \n",
       "prr_nmbr_v_ -0.162  0.042 -0.001  0.028  0.014 -0.074 -0.375 -0.139"
      ]
     },
     "metadata": {},
     "output_type": "display_data"
    }
   ],
   "source": [
    "mixed <- glmer(\n",
    "    cvs_graph\n",
    "    ~ variable + sim_index + pre\n",
    "    + lab_experience + similar_sim + prior_number_virtual_labs + (1 | sid),\n",
    "           data = mydata, family = binomial, \n",
    "           control = glmerControl(optimizer = \"bobyqa\"), nAGQ = 10)\n",
    "\n",
    "summary(mixed)"
   ]
  },
  {
   "cell_type": "markdown",
   "metadata": {},
   "source": [
    "**(non log) Odds ratio with confidence intervals**"
   ]
  },
  {
   "cell_type": "code",
   "execution_count": 106,
   "metadata": {},
   "outputs": [
    {
     "name": "stdout",
     "output_type": "stream",
     "text": [
      "                        est 2.5 % 97.5 %\n",
      "(Intercept)           0.898 0.370  2.181\n",
      "main                  3.821 2.243  6.509\n",
      "cvs_table1            0.764 0.323  1.806\n",
      "cvs_graph1            0.583 0.233  1.459\n",
      "variableConcentration 0.954 0.488  1.865\n",
      "variableSeparation    0.489 0.256  0.937\n",
      "variableWidth         1.009 0.518  1.967\n",
      "sim_index2            1.097 0.681  1.765\n",
      "pre                   1.668 1.020  2.728\n"
     ]
    }
   ],
   "source": [
    "cc <- confint(mixed1,parm=\"beta_\",method=\"Wald\")\n",
    "ctab <- cbind(est=fixef(mixed1),cc)\n",
    "rtab <- exp(ctab)\n",
    "print(rtab,digits=3)"
   ]
  },
  {
   "cell_type": "markdown",
   "metadata": {},
   "source": [
    "\n",
    "\n",
    "\n",
    "\n",
    "\n",
    "\n",
    "\n",
    "____________________________________________________________________________\n",
    "\n",
    "\n",
    "\n",
    "\n",
    "\n",
    "# OTHER VERSION OF ANALYSES - keep for historical purposes\n",
    "Even though we decided not to include them or do analyses this way, we keep the code to run them here just in case.\n",
    "\n",
    "First we reload the data, in case some factors have changed from continuous to categorical variables"
   ]
  },
  {
   "cell_type": "code",
   "execution_count": 107,
   "metadata": {},
   "outputs": [],
   "source": [
    "mydata <- read.csv(\"C:\\\\Users\\\\Sarah\\\\Documents\\\\Personal Content\\\\Lab_study_data\\\\all_massaged_data\\\\dataframe_all_factors_for_analysis.txt\",sep = '\\t')\n",
    "# sid is the student number\n",
    "mydata$sid <- factor(mydata$sid)\n",
    "mydata$sim_index <- factor(mydata$sim_index)\n",
    "mydata$lab_experience <- factor(mydata$lab_experience)\n",
    "mydata$similar_sim <- factor(mydata$similar_sim)\n",
    "mydata$cvs_graph <- factor(mydata$cvs_graph)\n",
    "mydata$cvs_table <- factor(mydata$cvs_table)\n",
    "# mydata$main <- factor(mydata$main)\n",
    "# mydata$pre <- factor(mydata$pre)"
   ]
  },
  {
   "cell_type": "markdown",
   "metadata": {
    "hideCode": true,
    "hidePrompt": true
   },
   "source": [
    "## Stat model 1: Predicting main model scores as a categorical variable"
   ]
  },
  {
   "cell_type": "markdown",
   "metadata": {},
   "source": [
    "First we transform the data in an extra wide format for the mlogit function.\n",
    "Now every student has a row for each variable times type of model (0,1,2).\n",
    "The \"alt\" is the model type (0,1,2) and \"main\" is True if that was the model type they got correct (and the others are always False for that variable)."
   ]
  },
  {
   "cell_type": "code",
   "execution_count": 108,
   "metadata": {},
   "outputs": [],
   "source": [
    "mydata$main <- factor(mydata$main)\n",
    "mydata$pre <- factor(mydata$pre)"
   ]
  },
  {
   "cell_type": "code",
   "execution_count": 109,
   "metadata": {},
   "outputs": [
    {
     "data": {
      "text/html": [
       "<table>\n",
       "<thead><tr><th></th><th scope=col>sid</th><th scope=col>sim</th><th scope=col>variable</th><th scope=col>pre</th><th scope=col>main</th><th scope=col>cvs_graph</th><th scope=col>cvs_table</th><th scope=col>cvs_table_only</th><th scope=col>qual_score</th><th scope=col>quant_score</th><th scope=col>...</th><th scope=col>CVS_context</th><th scope=col>use_table</th><th scope=col>use_graph</th><th scope=col>use_concentration</th><th scope=col>use_width</th><th scope=col>use_area</th><th scope=col>use_separation</th><th scope=col>use_all_vars</th><th scope=col>chid</th><th scope=col>alt</th></tr></thead>\n",
       "<tbody>\n",
       "\t<tr><th scope=row>1.0</th><td>10127163     </td><td>L            </td><td>Concentration</td><td>0            </td><td>FALSE        </td><td>1            </td><td>1            </td><td>0            </td><td>1            </td><td>1            </td><td>...          </td><td>2            </td><td>1            </td><td>1            </td><td>1            </td><td>1            </td><td>1            </td><td>1            </td><td>4            </td><td>1            </td><td>0            </td></tr>\n",
       "\t<tr><th scope=row>1.1</th><td>10127163     </td><td>L            </td><td>Concentration</td><td>0            </td><td>FALSE        </td><td>1            </td><td>1            </td><td>0            </td><td>1            </td><td>1            </td><td>...          </td><td>2            </td><td>1            </td><td>1            </td><td>1            </td><td>1            </td><td>1            </td><td>1            </td><td>4            </td><td>1            </td><td>1            </td></tr>\n",
       "\t<tr><th scope=row>1.2</th><td>10127163     </td><td>L            </td><td>Concentration</td><td>0            </td><td> TRUE        </td><td>1            </td><td>1            </td><td>0            </td><td>1            </td><td>1            </td><td>...          </td><td>2            </td><td>1            </td><td>1            </td><td>1            </td><td>1            </td><td>1            </td><td>1            </td><td>4            </td><td>1            </td><td>2            </td></tr>\n",
       "\t<tr><th scope=row>2.0</th><td>10127163     </td><td>L            </td><td>Width        </td><td>0            </td><td>FALSE        </td><td>1            </td><td>1            </td><td>0            </td><td>1            </td><td>1            </td><td>...          </td><td>2            </td><td>1            </td><td>1            </td><td>1            </td><td>1            </td><td>1            </td><td>1            </td><td>4            </td><td>2            </td><td>0            </td></tr>\n",
       "\t<tr><th scope=row>2.1</th><td>10127163     </td><td>L            </td><td>Width        </td><td>0            </td><td>FALSE        </td><td>1            </td><td>1            </td><td>0            </td><td>1            </td><td>1            </td><td>...          </td><td>2            </td><td>1            </td><td>1            </td><td>1            </td><td>1            </td><td>1            </td><td>1            </td><td>4            </td><td>2            </td><td>1            </td></tr>\n",
       "</tbody>\n",
       "</table>\n"
      ],
      "text/latex": [
       "\\begin{tabular}{r|llllllllllllllllllllllllllllll}\n",
       "  & sid & sim & variable & pre & main & cvs\\_graph & cvs\\_table & cvs\\_table\\_only & qual\\_score & quant\\_score & ... & CVS\\_context & use\\_table & use\\_graph & use\\_concentration & use\\_width & use\\_area & use\\_separation & use\\_all\\_vars & chid & alt\\\\\n",
       "\\hline\n",
       "\t1.0 & 10127163      & L             & Concentration & 0             & FALSE         & 1             & 1             & 0             & 1             & 1             & ...           & 2             & 1             & 1             & 1             & 1             & 1             & 1             & 4             & 1             & 0            \\\\\n",
       "\t1.1 & 10127163      & L             & Concentration & 0             & FALSE         & 1             & 1             & 0             & 1             & 1             & ...           & 2             & 1             & 1             & 1             & 1             & 1             & 1             & 4             & 1             & 1            \\\\\n",
       "\t1.2 & 10127163      & L             & Concentration & 0             &  TRUE         & 1             & 1             & 0             & 1             & 1             & ...           & 2             & 1             & 1             & 1             & 1             & 1             & 1             & 4             & 1             & 2            \\\\\n",
       "\t2.0 & 10127163      & L             & Width         & 0             & FALSE         & 1             & 1             & 0             & 1             & 1             & ...           & 2             & 1             & 1             & 1             & 1             & 1             & 1             & 4             & 2             & 0            \\\\\n",
       "\t2.1 & 10127163      & L             & Width         & 0             & FALSE         & 1             & 1             & 0             & 1             & 1             & ...           & 2             & 1             & 1             & 1             & 1             & 1             & 1             & 4             & 2             & 1            \\\\\n",
       "\\end{tabular}\n"
      ],
      "text/markdown": [
       "\n",
       "| <!--/--> | sid | sim | variable | pre | main | cvs_graph | cvs_table | cvs_table_only | qual_score | quant_score | ... | CVS_context | use_table | use_graph | use_concentration | use_width | use_area | use_separation | use_all_vars | chid | alt | \n",
       "|---|---|---|---|---|\n",
       "| 1.0 | 10127163      | L             | Concentration | 0             | FALSE         | 1             | 1             | 0             | 1             | 1             | ...           | 2             | 1             | 1             | 1             | 1             | 1             | 1             | 4             | 1             | 0             | \n",
       "| 1.1 | 10127163      | L             | Concentration | 0             | FALSE         | 1             | 1             | 0             | 1             | 1             | ...           | 2             | 1             | 1             | 1             | 1             | 1             | 1             | 4             | 1             | 1             | \n",
       "| 1.2 | 10127163      | L             | Concentration | 0             |  TRUE         | 1             | 1             | 0             | 1             | 1             | ...           | 2             | 1             | 1             | 1             | 1             | 1             | 1             | 4             | 1             | 2             | \n",
       "| 2.0 | 10127163      | L             | Width         | 0             | FALSE         | 1             | 1             | 0             | 1             | 1             | ...           | 2             | 1             | 1             | 1             | 1             | 1             | 1             | 4             | 2             | 0             | \n",
       "| 2.1 | 10127163      | L             | Width         | 0             | FALSE         | 1             | 1             | 0             | 1             | 1             | ...           | 2             | 1             | 1             | 1             | 1             | 1             | 1             | 4             | 2             | 1             | \n",
       "\n",
       "\n"
      ],
      "text/plain": [
       "    sid      sim variable      pre main  cvs_graph cvs_table cvs_table_only\n",
       "1.0 10127163 L   Concentration 0   FALSE 1         1         0             \n",
       "1.1 10127163 L   Concentration 0   FALSE 1         1         0             \n",
       "1.2 10127163 L   Concentration 0    TRUE 1         1         0             \n",
       "2.0 10127163 L   Width         0   FALSE 1         1         0             \n",
       "2.1 10127163 L   Width         0   FALSE 1         1         0             \n",
       "    qual_score quant_score ... CVS_context use_table use_graph\n",
       "1.0 1          1           ... 2           1         1        \n",
       "1.1 1          1           ... 2           1         1        \n",
       "1.2 1          1           ... 2           1         1        \n",
       "2.0 1          1           ... 2           1         1        \n",
       "2.1 1          1           ... 2           1         1        \n",
       "    use_concentration use_width use_area use_separation use_all_vars chid alt\n",
       "1.0 1                 1         1        1              4            1    0  \n",
       "1.1 1                 1         1        1              4            1    1  \n",
       "1.2 1                 1         1        1              4            1    2  \n",
       "2.0 1                 1         1        1              4            2    0  \n",
       "2.1 1                 1         1        1              4            2    1  "
      ]
     },
     "metadata": {},
     "output_type": "display_data"
    }
   ],
   "source": [
    "wide_mydata <- mlogit.data(mydata, shape = 'wide', choice = \"main\", id.var = \"sid\")\n",
    "head(wide_mydata, 5)"
   ]
  },
  {
   "cell_type": "markdown",
   "metadata": {},
   "source": [
    "Then we run the mlogit model.\n",
    "\n",
    "See the following: https://cran.r-project.org/web/packages/mlogit/vignettes/mlogit.pdf\n",
    "\n",
    "Specifically, mixed in this document DOESN't mean with repeated measures. The \"1 | \" in the formula below tells it that some of the variables are individual specific.\n",
    "The examples using the \"Train\" dataset is what I followed. See pages 3-7 for how to structure data and 22,23 for example of running mlogit."
   ]
  },
  {
   "cell_type": "code",
   "execution_count": 110,
   "metadata": {},
   "outputs": [
    {
     "data": {
      "text/plain": [
       "\n",
       "Call:\n",
       "mlogit(formula = main ~ 1 | cvs_table + cvs_graph + variable + \n",
       "    sim_index + pre + lab_experience + similar_sim + prior_number_virtual_labs, \n",
       "    data = wide_mydata, method = \"nr\", print.level = 0)\n",
       "\n",
       "Frequencies of alternatives:\n",
       "       0        1        2 \n",
       "0.095238 0.486395 0.418367 \n",
       "\n",
       "nr method\n",
       "6 iterations, 0h:0m:0s \n",
       "g'(-H)^-1g = 8.22E-06 \n",
       "successive function values within tolerance limits \n",
       "\n",
       "Coefficients :\n",
       "                              Estimate Std. Error z-value Pr(>|z|)   \n",
       "1:(intercept)                1.6611897  0.5679551  2.9249 0.003446 **\n",
       "2:(intercept)                0.1104790  0.6206179  0.1780 0.858712   \n",
       "1:cvs_table1                -0.1951430  0.4023796 -0.4850 0.627696   \n",
       "2:cvs_table1                 0.4026985  0.4434384  0.9081 0.363811   \n",
       "1:cvs_graph1                 0.0098364  0.4395978  0.0224 0.982148   \n",
       "2:cvs_graph1                 1.2499559  0.4550555  2.7468 0.006018 **\n",
       "1:variableConcentration     -0.1756190  0.4629949 -0.3793 0.704457   \n",
       "2:variableConcentration      0.1479874  0.4817398  0.3072 0.758696   \n",
       "1:variableSeparation        -0.3739063  0.4284758 -0.8726 0.382858   \n",
       "2:variableSeparation        -0.6898166  0.4586480 -1.5040 0.132576   \n",
       "1:variableWidth             -0.3512308  0.4468748 -0.7860 0.431884   \n",
       "2:variableWidth              0.0914835  0.4677626  0.1956 0.844941   \n",
       "1:sim_index2                 0.0655811  0.3031912  0.2163 0.828752   \n",
       "2:sim_index2                 0.6257718  0.3178294  1.9689 0.048965 * \n",
       "1:pre1                       0.8955215  0.4340469  2.0632 0.039095 * \n",
       "2:pre1                       1.0848206  0.4459342  2.4327 0.014987 * \n",
       "1:pre2                      -0.7015255  0.8664110 -0.8097 0.418118   \n",
       "2:pre2                       1.6107358  0.7837737  2.0551 0.039869 * \n",
       "1:lab_experience1           -0.2279998  0.5367750 -0.4248 0.671013   \n",
       "2:lab_experience1           -0.4390191  0.5857660 -0.7495 0.453569   \n",
       "1:similar_sim1              -0.6356599  0.3689187 -1.7230 0.084882 . \n",
       "2:similar_sim1              -0.4912628  0.3870554 -1.2692 0.204359   \n",
       "1:prior_number_virtual_labs  0.2831656  0.1828031  1.5490 0.121377   \n",
       "2:prior_number_virtual_labs  0.2707507  0.1903304  1.4225 0.154873   \n",
       "---\n",
       "Signif. codes:  0 '***' 0.001 '**' 0.01 '*' 0.05 '.' 0.1 ' ' 1\n",
       "\n",
       "Log-Likelihood: -475.37\n",
       "McFadden R^2:  0.13909 \n",
       "Likelihood ratio test : chisq = 153.6 (p.value = < 2.22e-16)"
      ]
     },
     "metadata": {},
     "output_type": "display_data"
    }
   ],
   "source": [
    "ml.mydata <- mlogit(main\n",
    "    ~ 1 | cvs_table + cvs_graph + variable + sim_index + pre\n",
    "    + lab_experience + similar_sim + prior_number_virtual_labs, wide_mydata)\n",
    "summary(ml.mydata)"
   ]
  }
 ],
 "metadata": {
  "anaconda-cloud": {},
  "kernelspec": {
   "display_name": "R",
   "language": "R",
   "name": "ir"
  },
  "language_info": {
   "codemirror_mode": "r",
   "file_extension": ".r",
   "mimetype": "text/x-r-source",
   "name": "R",
   "pygments_lexer": "r",
   "version": "3.4.3"
  },
  "toc": {
   "nav_menu": {},
   "number_sections": true,
   "sideBar": true,
   "skip_h1_title": false,
   "toc_cell": false,
   "toc_position": {},
   "toc_section_display": "block",
   "toc_window_display": false
  }
 },
 "nbformat": 4,
 "nbformat_minor": 1
}
