{
 "cells": [
  {
   "cell_type": "markdown",
   "metadata": {},
   "source": [
    "Load libraries"
   ]
  },
  {
   "cell_type": "code",
   "execution_count": 125,
   "metadata": {},
   "outputs": [],
   "source": [
    "## For some reason, when loading mlogit, the notebook can't find package 'statmod' so I specify it's location\n",
    "library(statmod, lib.loc='D:\\\\Applications\\\\Anaconda2\\\\pkgs\\\\r-statmod-1.4.30-r3.4.1_0\\\\lib\\\\R\\\\library\\\\')\n",
    "require(mlogit)\n",
    "require(ggplot2)\n",
    "require(reshape2)\n",
    "require(lme4)\n",
    "require(compiler)\n",
    "require(parallel)\n",
    "require(car)\n",
    "require(boot)\n",
    "require(dplyr)\n",
    "require(sjstats)\n",
    "require(broom)"
   ]
  },
  {
   "cell_type": "markdown",
   "metadata": {},
   "source": [
    "# Load data and set factors"
   ]
  },
  {
   "cell_type": "code",
   "execution_count": 126,
   "metadata": {},
   "outputs": [],
   "source": [
    "mydata <- read.csv(\"C:\\\\Users\\\\Sarah\\\\Documents\\\\Personal Content\\\\Lab_study_data\\\\all_massaged_data\\\\dataframe_all_factors_for_analysis.txt\",sep = '\\t')\n",
    "# sid is the student number\n",
    "mydata$sid <- factor(mydata$sid)\n",
    "mydata$sim_index <- factor(mydata$sim_index)\n",
    "mydata$lab_experience <- factor(mydata$lab_experience)\n",
    "mydata$similar_sim <- factor(mydata$similar_sim)\n",
    "mydata$cvs_graph <- factor(mydata$cvs_graph)\n",
    "mydata$cvs_table <- factor(mydata$cvs_table)\n",
    "mydata$main <- factor(mydata$main)\n",
    "mydata$pre <- factor(mydata$pre)"
   ]
  },
  {
   "cell_type": "code",
   "execution_count": 127,
   "metadata": {},
   "outputs": [
    {
     "data": {
      "text/html": [
       "<table>\n",
       "<thead><tr><th scope=col>sid</th><th scope=col>sim</th><th scope=col>variable</th><th scope=col>pre</th><th scope=col>main</th><th scope=col>cvs_graph</th><th scope=col>cvs_table</th><th scope=col>qual_score</th><th scope=col>quant_score</th><th scope=col>activity_order</th><th scope=col>...</th><th scope=col>pre_with_ident</th><th scope=col>main_with_ident</th><th scope=col>CVS_context</th><th scope=col>use_table</th><th scope=col>use_graph</th><th scope=col>use_concentration</th><th scope=col>use_width</th><th scope=col>use_area</th><th scope=col>use_separation</th><th scope=col>use_all_vars</th></tr></thead>\n",
       "<tbody>\n",
       "\t<tr><td>10127163     </td><td>L            </td><td>Concentration</td><td>0            </td><td>2            </td><td>1            </td><td>1            </td><td>1            </td><td>1            </td><td>LC           </td><td>...          </td><td>1            </td><td>3            </td><td>2            </td><td>1            </td><td>1            </td><td>1            </td><td>1            </td><td>1            </td><td>1            </td><td>4            </td></tr>\n",
       "\t<tr><td>10127163     </td><td>L            </td><td>Width        </td><td>0            </td><td>2            </td><td>1            </td><td>1            </td><td>1            </td><td>1            </td><td>LC           </td><td>...          </td><td>1            </td><td>3            </td><td>2            </td><td>1            </td><td>1            </td><td>1            </td><td>1            </td><td>1            </td><td>1            </td><td>4            </td></tr>\n",
       "\t<tr><td>10127163     </td><td>C            </td><td>Area         </td><td>2            </td><td>2            </td><td>1            </td><td>1            </td><td>1            </td><td>1            </td><td>LC           </td><td>...          </td><td>3            </td><td>3            </td><td>2            </td><td>1            </td><td>1            </td><td>1            </td><td>1            </td><td>1            </td><td>1            </td><td>4            </td></tr>\n",
       "\t<tr><td>10127163     </td><td>C            </td><td>Separation   </td><td>2            </td><td>2            </td><td>1            </td><td>1            </td><td>1            </td><td>1            </td><td>LC           </td><td>...          </td><td>3            </td><td>3            </td><td>2            </td><td>1            </td><td>1            </td><td>1            </td><td>1            </td><td>1            </td><td>1            </td><td>4            </td></tr>\n",
       "\t<tr><td>10232160     </td><td>L            </td><td>Concentration</td><td>0            </td><td>0            </td><td>1            </td><td>1            </td><td>1            </td><td>1            </td><td>LC           </td><td>...          </td><td>1            </td><td>1            </td><td>2            </td><td>1            </td><td>1            </td><td>1            </td><td>1            </td><td>1            </td><td>1            </td><td>4            </td></tr>\n",
       "\t<tr><td>10232160     </td><td>L            </td><td>Width        </td><td>0            </td><td>0            </td><td>0            </td><td>0            </td><td>1            </td><td>1            </td><td>LC           </td><td>...          </td><td>1            </td><td>1            </td><td>0            </td><td>1            </td><td>1            </td><td>1            </td><td>1            </td><td>1            </td><td>1            </td><td>4            </td></tr>\n",
       "</tbody>\n",
       "</table>\n"
      ],
      "text/latex": [
       "\\begin{tabular}{r|lllllllllllllllllllllllllll}\n",
       " sid & sim & variable & pre & main & cvs\\_graph & cvs\\_table & qual\\_score & quant\\_score & activity\\_order & ... & pre\\_with\\_ident & main\\_with\\_ident & CVS\\_context & use\\_table & use\\_graph & use\\_concentration & use\\_width & use\\_area & use\\_separation & use\\_all\\_vars\\\\\n",
       "\\hline\n",
       "\t 10127163      & L             & Concentration & 0             & 2             & 1             & 1             & 1             & 1             & LC            & ...           & 1             & 3             & 2             & 1             & 1             & 1             & 1             & 1             & 1             & 4            \\\\\n",
       "\t 10127163      & L             & Width         & 0             & 2             & 1             & 1             & 1             & 1             & LC            & ...           & 1             & 3             & 2             & 1             & 1             & 1             & 1             & 1             & 1             & 4            \\\\\n",
       "\t 10127163      & C             & Area          & 2             & 2             & 1             & 1             & 1             & 1             & LC            & ...           & 3             & 3             & 2             & 1             & 1             & 1             & 1             & 1             & 1             & 4            \\\\\n",
       "\t 10127163      & C             & Separation    & 2             & 2             & 1             & 1             & 1             & 1             & LC            & ...           & 3             & 3             & 2             & 1             & 1             & 1             & 1             & 1             & 1             & 4            \\\\\n",
       "\t 10232160      & L             & Concentration & 0             & 0             & 1             & 1             & 1             & 1             & LC            & ...           & 1             & 1             & 2             & 1             & 1             & 1             & 1             & 1             & 1             & 4            \\\\\n",
       "\t 10232160      & L             & Width         & 0             & 0             & 0             & 0             & 1             & 1             & LC            & ...           & 1             & 1             & 0             & 1             & 1             & 1             & 1             & 1             & 1             & 4            \\\\\n",
       "\\end{tabular}\n"
      ],
      "text/markdown": [
       "\n",
       "sid | sim | variable | pre | main | cvs_graph | cvs_table | qual_score | quant_score | activity_order | ... | pre_with_ident | main_with_ident | CVS_context | use_table | use_graph | use_concentration | use_width | use_area | use_separation | use_all_vars | \n",
       "|---|---|---|---|---|---|\n",
       "| 10127163      | L             | Concentration | 0             | 2             | 1             | 1             | 1             | 1             | LC            | ...           | 1             | 3             | 2             | 1             | 1             | 1             | 1             | 1             | 1             | 4             | \n",
       "| 10127163      | L             | Width         | 0             | 2             | 1             | 1             | 1             | 1             | LC            | ...           | 1             | 3             | 2             | 1             | 1             | 1             | 1             | 1             | 1             | 4             | \n",
       "| 10127163      | C             | Area          | 2             | 2             | 1             | 1             | 1             | 1             | LC            | ...           | 3             | 3             | 2             | 1             | 1             | 1             | 1             | 1             | 1             | 4             | \n",
       "| 10127163      | C             | Separation    | 2             | 2             | 1             | 1             | 1             | 1             | LC            | ...           | 3             | 3             | 2             | 1             | 1             | 1             | 1             | 1             | 1             | 4             | \n",
       "| 10232160      | L             | Concentration | 0             | 0             | 1             | 1             | 1             | 1             | LC            | ...           | 1             | 1             | 2             | 1             | 1             | 1             | 1             | 1             | 1             | 4             | \n",
       "| 10232160      | L             | Width         | 0             | 0             | 0             | 0             | 1             | 1             | LC            | ...           | 1             | 1             | 0             | 1             | 1             | 1             | 1             | 1             | 1             | 4             | \n",
       "\n",
       "\n"
      ],
      "text/plain": [
       "  sid      sim variable      pre main cvs_graph cvs_table qual_score\n",
       "1 10127163 L   Concentration 0   2    1         1         1         \n",
       "2 10127163 L   Width         0   2    1         1         1         \n",
       "3 10127163 C   Area          2   2    1         1         1         \n",
       "4 10127163 C   Separation    2   2    1         1         1         \n",
       "5 10232160 L   Concentration 0   0    1         1         1         \n",
       "6 10232160 L   Width         0   0    0         0         1         \n",
       "  quant_score activity_order ... pre_with_ident main_with_ident CVS_context\n",
       "1 1           LC             ... 1              3               2          \n",
       "2 1           LC             ... 1              3               2          \n",
       "3 1           LC             ... 3              3               2          \n",
       "4 1           LC             ... 3              3               2          \n",
       "5 1           LC             ... 1              1               2          \n",
       "6 1           LC             ... 1              1               0          \n",
       "  use_table use_graph use_concentration use_width use_area use_separation\n",
       "1 1         1         1                 1         1        1             \n",
       "2 1         1         1                 1         1        1             \n",
       "3 1         1         1                 1         1        1             \n",
       "4 1         1         1                 1         1        1             \n",
       "5 1         1         1                 1         1        1             \n",
       "6 1         1         1                 1         1        1             \n",
       "  use_all_vars\n",
       "1 4           \n",
       "2 4           \n",
       "3 4           \n",
       "4 4           \n",
       "5 4           \n",
       "6 4           "
      ]
     },
     "metadata": {},
     "output_type": "display_data"
    },
    {
     "data": {
      "text/html": [
       "<ol class=list-inline>\n",
       "\t<li>'sid'</li>\n",
       "\t<li>'sim'</li>\n",
       "\t<li>'variable'</li>\n",
       "\t<li>'pre'</li>\n",
       "\t<li>'main'</li>\n",
       "\t<li>'cvs_graph'</li>\n",
       "\t<li>'cvs_table'</li>\n",
       "\t<li>'qual_score'</li>\n",
       "\t<li>'quant_score'</li>\n",
       "\t<li>'activity_order'</li>\n",
       "\t<li>'sim_index'</li>\n",
       "\t<li>'similar_sim'</li>\n",
       "\t<li>'lab_experience'</li>\n",
       "\t<li>'prior_number_virtual_labs'</li>\n",
       "\t<li>'overall.POCC'</li>\n",
       "\t<li>'PC1'</li>\n",
       "\t<li>'PC2'</li>\n",
       "\t<li>'pre_with_ident'</li>\n",
       "\t<li>'main_with_ident'</li>\n",
       "\t<li>'CVS_context'</li>\n",
       "\t<li>'use_table'</li>\n",
       "\t<li>'use_graph'</li>\n",
       "\t<li>'use_concentration'</li>\n",
       "\t<li>'use_width'</li>\n",
       "\t<li>'use_area'</li>\n",
       "\t<li>'use_separation'</li>\n",
       "\t<li>'use_all_vars'</li>\n",
       "</ol>\n"
      ],
      "text/latex": [
       "\\begin{enumerate*}\n",
       "\\item 'sid'\n",
       "\\item 'sim'\n",
       "\\item 'variable'\n",
       "\\item 'pre'\n",
       "\\item 'main'\n",
       "\\item 'cvs\\_graph'\n",
       "\\item 'cvs\\_table'\n",
       "\\item 'qual\\_score'\n",
       "\\item 'quant\\_score'\n",
       "\\item 'activity\\_order'\n",
       "\\item 'sim\\_index'\n",
       "\\item 'similar\\_sim'\n",
       "\\item 'lab\\_experience'\n",
       "\\item 'prior\\_number\\_virtual\\_labs'\n",
       "\\item 'overall.POCC'\n",
       "\\item 'PC1'\n",
       "\\item 'PC2'\n",
       "\\item 'pre\\_with\\_ident'\n",
       "\\item 'main\\_with\\_ident'\n",
       "\\item 'CVS\\_context'\n",
       "\\item 'use\\_table'\n",
       "\\item 'use\\_graph'\n",
       "\\item 'use\\_concentration'\n",
       "\\item 'use\\_width'\n",
       "\\item 'use\\_area'\n",
       "\\item 'use\\_separation'\n",
       "\\item 'use\\_all\\_vars'\n",
       "\\end{enumerate*}\n"
      ],
      "text/markdown": [
       "1. 'sid'\n",
       "2. 'sim'\n",
       "3. 'variable'\n",
       "4. 'pre'\n",
       "5. 'main'\n",
       "6. 'cvs_graph'\n",
       "7. 'cvs_table'\n",
       "8. 'qual_score'\n",
       "9. 'quant_score'\n",
       "10. 'activity_order'\n",
       "11. 'sim_index'\n",
       "12. 'similar_sim'\n",
       "13. 'lab_experience'\n",
       "14. 'prior_number_virtual_labs'\n",
       "15. 'overall.POCC'\n",
       "16. 'PC1'\n",
       "17. 'PC2'\n",
       "18. 'pre_with_ident'\n",
       "19. 'main_with_ident'\n",
       "20. 'CVS_context'\n",
       "21. 'use_table'\n",
       "22. 'use_graph'\n",
       "23. 'use_concentration'\n",
       "24. 'use_width'\n",
       "25. 'use_area'\n",
       "26. 'use_separation'\n",
       "27. 'use_all_vars'\n",
       "\n",
       "\n"
      ],
      "text/plain": [
       " [1] \"sid\"                       \"sim\"                      \n",
       " [3] \"variable\"                  \"pre\"                      \n",
       " [5] \"main\"                      \"cvs_graph\"                \n",
       " [7] \"cvs_table\"                 \"qual_score\"               \n",
       " [9] \"quant_score\"               \"activity_order\"           \n",
       "[11] \"sim_index\"                 \"similar_sim\"              \n",
       "[13] \"lab_experience\"            \"prior_number_virtual_labs\"\n",
       "[15] \"overall.POCC\"              \"PC1\"                      \n",
       "[17] \"PC2\"                       \"pre_with_ident\"           \n",
       "[19] \"main_with_ident\"           \"CVS_context\"              \n",
       "[21] \"use_table\"                 \"use_graph\"                \n",
       "[23] \"use_concentration\"         \"use_width\"                \n",
       "[25] \"use_area\"                  \"use_separation\"           \n",
       "[27] \"use_all_vars\"             "
      ]
     },
     "metadata": {},
     "output_type": "display_data"
    }
   ],
   "source": [
    "head(mydata)\n",
    "colnames(mydata)"
   ]
  },
  {
   "cell_type": "markdown",
   "metadata": {
    "hideCode": true,
    "hidePrompt": true
   },
   "source": [
    "# Stat model 1: Predicting main model scores"
   ]
  },
  {
   "cell_type": "markdown",
   "metadata": {},
   "source": [
    "We try to predict the HIGHEST type of model in the main worksheet (0,1 or 2 for neither, qual or quant). In other words:\n",
    "* score = 2 if they have a correct quantitative model\n",
    "* score = 1 if they have a correct qual model but incorrect quant model OR if their quant model is incorrect but qualitatively correct\n",
    "* score = 0 otherwise (i.e. all incorrect or only identified)\n",
    "\n",
    "We have 8 independant variables, all are categorical except for prior_number_virtual_labs:\n",
    "* sim_index (1 or 2, wither it was student's 1st or 2nd activity)\n",
    "* variable (thus don't include sim)\n",
    "* CVS_graph (0 or 1)\n",
    "* CVS_table (0 or 1)\n",
    "* pre (0,1,2) a categorical variable\n",
    "* student attibutes (lab_experience, similar_sim, prior_number_virtual_labs)\n",
    "\n",
    "We ignore attitude components."
   ]
  },
  {
   "cell_type": "markdown",
   "metadata": {},
   "source": [
    "First we transform the data in an extra wide format for the mlogit function.\n",
    "Now every student has a row for each variable times type of model (0,1,2).\n",
    "The \"alt\" is the model type (0,1,2) and \"main\" is True if that was the model type they got correct (and the others are always False for that variable)."
   ]
  },
  {
   "cell_type": "code",
   "execution_count": 128,
   "metadata": {},
   "outputs": [
    {
     "data": {
      "text/html": [
       "<table>\n",
       "<thead><tr><th></th><th scope=col>sid</th><th scope=col>sim</th><th scope=col>variable</th><th scope=col>pre</th><th scope=col>main</th><th scope=col>cvs_graph</th><th scope=col>cvs_table</th><th scope=col>qual_score</th><th scope=col>quant_score</th><th scope=col>activity_order</th><th scope=col>...</th><th scope=col>CVS_context</th><th scope=col>use_table</th><th scope=col>use_graph</th><th scope=col>use_concentration</th><th scope=col>use_width</th><th scope=col>use_area</th><th scope=col>use_separation</th><th scope=col>use_all_vars</th><th scope=col>chid</th><th scope=col>alt</th></tr></thead>\n",
       "<tbody>\n",
       "\t<tr><th scope=row>1.0</th><td>10127163     </td><td>L            </td><td>Concentration</td><td>0            </td><td>FALSE        </td><td>1            </td><td>1            </td><td>1            </td><td>1            </td><td>LC           </td><td>...          </td><td>2            </td><td>1            </td><td>1            </td><td>1            </td><td>1            </td><td>1            </td><td>1            </td><td>4            </td><td>1            </td><td>0            </td></tr>\n",
       "\t<tr><th scope=row>1.1</th><td>10127163     </td><td>L            </td><td>Concentration</td><td>0            </td><td>FALSE        </td><td>1            </td><td>1            </td><td>1            </td><td>1            </td><td>LC           </td><td>...          </td><td>2            </td><td>1            </td><td>1            </td><td>1            </td><td>1            </td><td>1            </td><td>1            </td><td>4            </td><td>1            </td><td>1            </td></tr>\n",
       "\t<tr><th scope=row>1.2</th><td>10127163     </td><td>L            </td><td>Concentration</td><td>0            </td><td> TRUE        </td><td>1            </td><td>1            </td><td>1            </td><td>1            </td><td>LC           </td><td>...          </td><td>2            </td><td>1            </td><td>1            </td><td>1            </td><td>1            </td><td>1            </td><td>1            </td><td>4            </td><td>1            </td><td>2            </td></tr>\n",
       "\t<tr><th scope=row>2.0</th><td>10127163     </td><td>L            </td><td>Width        </td><td>0            </td><td>FALSE        </td><td>1            </td><td>1            </td><td>1            </td><td>1            </td><td>LC           </td><td>...          </td><td>2            </td><td>1            </td><td>1            </td><td>1            </td><td>1            </td><td>1            </td><td>1            </td><td>4            </td><td>2            </td><td>0            </td></tr>\n",
       "\t<tr><th scope=row>2.1</th><td>10127163     </td><td>L            </td><td>Width        </td><td>0            </td><td>FALSE        </td><td>1            </td><td>1            </td><td>1            </td><td>1            </td><td>LC           </td><td>...          </td><td>2            </td><td>1            </td><td>1            </td><td>1            </td><td>1            </td><td>1            </td><td>1            </td><td>4            </td><td>2            </td><td>1            </td></tr>\n",
       "</tbody>\n",
       "</table>\n"
      ],
      "text/latex": [
       "\\begin{tabular}{r|lllllllllllllllllllllllllllll}\n",
       "  & sid & sim & variable & pre & main & cvs\\_graph & cvs\\_table & qual\\_score & quant\\_score & activity\\_order & ... & CVS\\_context & use\\_table & use\\_graph & use\\_concentration & use\\_width & use\\_area & use\\_separation & use\\_all\\_vars & chid & alt\\\\\n",
       "\\hline\n",
       "\t1.0 & 10127163      & L             & Concentration & 0             & FALSE         & 1             & 1             & 1             & 1             & LC            & ...           & 2             & 1             & 1             & 1             & 1             & 1             & 1             & 4             & 1             & 0            \\\\\n",
       "\t1.1 & 10127163      & L             & Concentration & 0             & FALSE         & 1             & 1             & 1             & 1             & LC            & ...           & 2             & 1             & 1             & 1             & 1             & 1             & 1             & 4             & 1             & 1            \\\\\n",
       "\t1.2 & 10127163      & L             & Concentration & 0             &  TRUE         & 1             & 1             & 1             & 1             & LC            & ...           & 2             & 1             & 1             & 1             & 1             & 1             & 1             & 4             & 1             & 2            \\\\\n",
       "\t2.0 & 10127163      & L             & Width         & 0             & FALSE         & 1             & 1             & 1             & 1             & LC            & ...           & 2             & 1             & 1             & 1             & 1             & 1             & 1             & 4             & 2             & 0            \\\\\n",
       "\t2.1 & 10127163      & L             & Width         & 0             & FALSE         & 1             & 1             & 1             & 1             & LC            & ...           & 2             & 1             & 1             & 1             & 1             & 1             & 1             & 4             & 2             & 1            \\\\\n",
       "\\end{tabular}\n"
      ],
      "text/markdown": [
       "\n",
       "| <!--/--> | sid | sim | variable | pre | main | cvs_graph | cvs_table | qual_score | quant_score | activity_order | ... | CVS_context | use_table | use_graph | use_concentration | use_width | use_area | use_separation | use_all_vars | chid | alt | \n",
       "|---|---|---|---|---|\n",
       "| 1.0 | 10127163      | L             | Concentration | 0             | FALSE         | 1             | 1             | 1             | 1             | LC            | ...           | 2             | 1             | 1             | 1             | 1             | 1             | 1             | 4             | 1             | 0             | \n",
       "| 1.1 | 10127163      | L             | Concentration | 0             | FALSE         | 1             | 1             | 1             | 1             | LC            | ...           | 2             | 1             | 1             | 1             | 1             | 1             | 1             | 4             | 1             | 1             | \n",
       "| 1.2 | 10127163      | L             | Concentration | 0             |  TRUE         | 1             | 1             | 1             | 1             | LC            | ...           | 2             | 1             | 1             | 1             | 1             | 1             | 1             | 4             | 1             | 2             | \n",
       "| 2.0 | 10127163      | L             | Width         | 0             | FALSE         | 1             | 1             | 1             | 1             | LC            | ...           | 2             | 1             | 1             | 1             | 1             | 1             | 1             | 4             | 2             | 0             | \n",
       "| 2.1 | 10127163      | L             | Width         | 0             | FALSE         | 1             | 1             | 1             | 1             | LC            | ...           | 2             | 1             | 1             | 1             | 1             | 1             | 1             | 4             | 2             | 1             | \n",
       "\n",
       "\n"
      ],
      "text/plain": [
       "    sid      sim variable      pre main  cvs_graph cvs_table qual_score\n",
       "1.0 10127163 L   Concentration 0   FALSE 1         1         1         \n",
       "1.1 10127163 L   Concentration 0   FALSE 1         1         1         \n",
       "1.2 10127163 L   Concentration 0    TRUE 1         1         1         \n",
       "2.0 10127163 L   Width         0   FALSE 1         1         1         \n",
       "2.1 10127163 L   Width         0   FALSE 1         1         1         \n",
       "    quant_score activity_order ... CVS_context use_table use_graph\n",
       "1.0 1           LC             ... 2           1         1        \n",
       "1.1 1           LC             ... 2           1         1        \n",
       "1.2 1           LC             ... 2           1         1        \n",
       "2.0 1           LC             ... 2           1         1        \n",
       "2.1 1           LC             ... 2           1         1        \n",
       "    use_concentration use_width use_area use_separation use_all_vars chid alt\n",
       "1.0 1                 1         1        1              4            1    0  \n",
       "1.1 1                 1         1        1              4            1    1  \n",
       "1.2 1                 1         1        1              4            1    2  \n",
       "2.0 1                 1         1        1              4            2    0  \n",
       "2.1 1                 1         1        1              4            2    1  "
      ]
     },
     "metadata": {},
     "output_type": "display_data"
    }
   ],
   "source": [
    "wide_mydata <- mlogit.data(mydata, shape = 'wide', choice = \"main\", id.var = \"sid\")\n",
    "head(wide_mydata, 5)"
   ]
  },
  {
   "cell_type": "markdown",
   "metadata": {},
   "source": [
    "Then we run the mlogit model.\n",
    "\n",
    "See the following: https://cran.r-project.org/web/packages/mlogit/vignettes/mlogit.pdf\n",
    "\n",
    "Specifically, mixed in this document DOESN't mean with repeated measures. The \"1 | \" in the formula below tells it that some of the variables are individual specific.\n",
    "The examples using the \"Train\" dataset is what I followed. See pages 3-7 for how to structure data and 22,23 for example of running mlogit."
   ]
  },
  {
   "cell_type": "markdown",
   "metadata": {},
   "source": [
    "## The model for all variables"
   ]
  },
  {
   "cell_type": "code",
   "execution_count": 129,
   "metadata": {},
   "outputs": [
    {
     "data": {
      "text/plain": [
       "\n",
       "Call:\n",
       "mlogit(formula = main ~ 1 | cvs_table + cvs_graph + variable + \n",
       "    sim_index + pre + lab_experience + similar_sim + prior_number_virtual_labs, \n",
       "    data = wide_mydata, method = \"nr\", print.level = 0)\n",
       "\n",
       "Frequencies of alternatives:\n",
       "       0        1        2 \n",
       "0.095238 0.486395 0.418367 \n",
       "\n",
       "nr method\n",
       "6 iterations, 0h:0m:0s \n",
       "g'(-H)^-1g = 8.22E-06 \n",
       "successive function values within tolerance limits \n",
       "\n",
       "Coefficients :\n",
       "                              Estimate Std. Error z-value Pr(>|z|)   \n",
       "1:(intercept)                1.6611897  0.5679551  2.9249 0.003446 **\n",
       "2:(intercept)                0.1104790  0.6206179  0.1780 0.858712   \n",
       "1:cvs_table1                -0.1951430  0.4023796 -0.4850 0.627696   \n",
       "2:cvs_table1                 0.4026985  0.4434384  0.9081 0.363811   \n",
       "1:cvs_graph1                 0.0098364  0.4395978  0.0224 0.982148   \n",
       "2:cvs_graph1                 1.2499559  0.4550555  2.7468 0.006018 **\n",
       "1:variableConcentration     -0.1756190  0.4629949 -0.3793 0.704457   \n",
       "2:variableConcentration      0.1479874  0.4817398  0.3072 0.758696   \n",
       "1:variableSeparation        -0.3739063  0.4284758 -0.8726 0.382858   \n",
       "2:variableSeparation        -0.6898166  0.4586480 -1.5040 0.132576   \n",
       "1:variableWidth             -0.3512308  0.4468748 -0.7860 0.431884   \n",
       "2:variableWidth              0.0914835  0.4677626  0.1956 0.844941   \n",
       "1:sim_index2                 0.0655811  0.3031912  0.2163 0.828752   \n",
       "2:sim_index2                 0.6257718  0.3178294  1.9689 0.048965 * \n",
       "1:pre1                       0.8955215  0.4340469  2.0632 0.039095 * \n",
       "2:pre1                       1.0848206  0.4459342  2.4327 0.014987 * \n",
       "1:pre2                      -0.7015255  0.8664110 -0.8097 0.418118   \n",
       "2:pre2                       1.6107358  0.7837737  2.0551 0.039869 * \n",
       "1:lab_experience1           -0.2279998  0.5367750 -0.4248 0.671013   \n",
       "2:lab_experience1           -0.4390191  0.5857660 -0.7495 0.453569   \n",
       "1:similar_sim1              -0.6356599  0.3689187 -1.7230 0.084882 . \n",
       "2:similar_sim1              -0.4912628  0.3870554 -1.2692 0.204359   \n",
       "1:prior_number_virtual_labs  0.2831656  0.1828031  1.5490 0.121377   \n",
       "2:prior_number_virtual_labs  0.2707507  0.1903304  1.4225 0.154873   \n",
       "---\n",
       "Signif. codes:  0 '***' 0.001 '**' 0.01 '*' 0.05 '.' 0.1 ' ' 1\n",
       "\n",
       "Log-Likelihood: -475.37\n",
       "McFadden R^2:  0.13909 \n",
       "Likelihood ratio test : chisq = 153.6 (p.value = < 2.22e-16)"
      ]
     },
     "metadata": {},
     "output_type": "display_data"
    }
   ],
   "source": [
    "ml.mydata <- mlogit(main\n",
    "    ~ 1 | cvs_table + cvs_graph + variable + sim_index + pre\n",
    "    + lab_experience + similar_sim + prior_number_virtual_labs, wide_mydata)\n",
    "summary(ml.mydata)"
   ]
  },
  {
   "cell_type": "code",
   "execution_count": 130,
   "metadata": {
    "scrolled": false
   },
   "outputs": [],
   "source": [
    "# for(var in list('Width','Separation','Area','Concentration')){\n",
    "#     print(var)\n",
    "#     var_data = wide_mydata[wide_mydata$variable == var,]\n",
    "\n",
    "#     ml.var_data <- mlogit(main\n",
    "#         ~ 1 | cvs_table + cvs_graph + sim_index + pre\n",
    "#         + lab_experience + similar_sim + prior_number_virtual_labs, var_data)\n",
    "#     print(summary(ml.var_data))\n",
    "#     }"
   ]
  },
  {
   "cell_type": "markdown",
   "metadata": {},
   "source": [
    "# Stat model 2: Predicting transfer data"
   ]
  },
  {
   "cell_type": "markdown",
   "metadata": {},
   "source": [
    "## Excluding student main worksheet score"
   ]
  },
  {
   "cell_type": "code",
   "execution_count": 131,
   "metadata": {},
   "outputs": [
    {
     "data": {
      "text/plain": [
       "Generalized linear mixed model fit by maximum likelihood (Adaptive\n",
       "  Gauss-Hermite Quadrature, nAGQ = 10) [glmerMod]\n",
       " Family: binomial  ( logit )\n",
       "Formula: quant_score ~ cvs_table + cvs_graph + variable + sim_index +  \n",
       "    pre + lab_experience + similar_sim + prior_number_virtual_labs +  \n",
       "    (1 | sid)\n",
       "   Data: mydata\n",
       "Control: glmerControl(optimizer = \"bobyqa\")\n",
       "\n",
       "     AIC      BIC   logLik deviance df.resid \n",
       "   658.8    715.7   -316.4    632.8      575 \n",
       "\n",
       "Scaled residuals: \n",
       "    Min      1Q  Median      3Q     Max \n",
       "-2.6646 -0.4526  0.2772  0.4765  1.4940 \n",
       "\n",
       "Random effects:\n",
       " Groups Name        Variance Std.Dev.\n",
       " sid    (Intercept) 3.571    1.89    \n",
       "Number of obs: 588, groups:  sid, 147\n",
       "\n",
       "Fixed effects:\n",
       "                          Estimate Std. Error z value Pr(>|z|)  \n",
       "(Intercept)                0.63441    0.69197   0.917   0.3592  \n",
       "cvs_table1                -0.26984    0.42060  -0.642   0.5212  \n",
       "cvs_graph1                -0.11581    0.43409  -0.267   0.7896  \n",
       "variableConcentration     -0.09122    0.34399  -0.265   0.7909  \n",
       "variableSeparation        -0.80670    0.32129  -2.511   0.0120 *\n",
       "variableWidth             -0.06285    0.34117  -0.184   0.8538  \n",
       "sim_index2                 0.30545    0.23571   1.296   0.1950  \n",
       "pre1                       0.41429    0.32019   1.294   0.1957  \n",
       "pre2                       1.66966    0.68764   2.428   0.0152 *\n",
       "lab_experience1           -0.27788    0.73675  -0.377   0.7060  \n",
       "similar_sim1               0.52384    0.37778   1.387   0.1656  \n",
       "prior_number_virtual_labs  0.45484    0.24083   1.889   0.0589 .\n",
       "---\n",
       "Signif. codes:  0 '***' 0.001 '**' 0.01 '*' 0.05 '.' 0.1 ' ' 1\n",
       "\n",
       "Correlation of Fixed Effects:\n",
       "            (Intr) cvs_t1 cvs_g1 vrblCn vrblSp vrblWd sm_nd2 pre1   pre2  \n",
       "cvs_table1  -0.144                                                        \n",
       "cvs_graph1   0.093 -0.654                                                 \n",
       "vrblCncntrt -0.258  0.022 -0.067                                          \n",
       "variblSprtn -0.240  0.050 -0.012  0.495                                   \n",
       "variablWdth -0.266  0.027 -0.035  0.541  0.496                            \n",
       "sim_index2  -0.144  0.017 -0.143  0.036 -0.009  0.025                     \n",
       "pre1        -0.103 -0.005 -0.070 -0.025 -0.114  0.011 -0.041              \n",
       "pre2         0.001 -0.085 -0.001 -0.025 -0.028  0.000  0.087  0.100       \n",
       "lab_exprnc1 -0.668 -0.074 -0.047  0.017 -0.005  0.018  0.000  0.057 -0.013\n",
       "similar_sm1  0.094 -0.050 -0.003 -0.279 -0.051 -0.278  0.131  0.083  0.142\n",
       "prr_nmbr_v_ -0.205  0.047 -0.101  0.053 -0.021  0.039  0.011 -0.052 -0.036\n",
       "            lb_xp1 smlr_1\n",
       "cvs_table1               \n",
       "cvs_graph1               \n",
       "vrblCncntrt              \n",
       "variblSprtn              \n",
       "variablWdth              \n",
       "sim_index2               \n",
       "pre1                     \n",
       "pre2                     \n",
       "lab_exprnc1              \n",
       "similar_sm1 -0.064       \n",
       "prr_nmbr_v_ -0.402 -0.122"
      ]
     },
     "metadata": {},
     "output_type": "display_data"
    }
   ],
   "source": [
    "mixed1 <- glmer(\n",
    "    quant_score\n",
    "    ~ cvs_table + cvs_graph + variable + sim_index + pre\n",
    "    + lab_experience + similar_sim + prior_number_virtual_labs + (1 | sid),\n",
    "           data = mydata, family = binomial, \n",
    "           control = glmerControl(optimizer = \"bobyqa\"), nAGQ = 10)\n",
    "summary(mixed1)"
   ]
  },
  {
   "cell_type": "markdown",
   "metadata": {},
   "source": [
    "As expected, CVS doesn't predict quant transfer scores, only variable does."
   ]
  },
  {
   "cell_type": "markdown",
   "metadata": {},
   "source": [
    "## Including student main worksheet score\n",
    "as a categorical variable"
   ]
  },
  {
   "cell_type": "code",
   "execution_count": 132,
   "metadata": {},
   "outputs": [],
   "source": [
    "mydata$main <- factor(mydata$main)"
   ]
  },
  {
   "cell_type": "code",
   "execution_count": 133,
   "metadata": {},
   "outputs": [
    {
     "name": "stderr",
     "output_type": "stream",
     "text": [
      "\n",
      "Correlation matrix not shown by default, as p = 14 > 12.\n",
      "Use print(obj, correlation=TRUE)  or\n",
      "\t vcov(obj)\t if you need it\n",
      "\n"
     ]
    },
    {
     "data": {
      "text/plain": [
       "Generalized linear mixed model fit by maximum likelihood (Adaptive\n",
       "  Gauss-Hermite Quadrature, nAGQ = 10) [glmerMod]\n",
       " Family: binomial  ( logit )\n",
       "Formula: quant_score ~ cvs_table + cvs_graph + variable + sim_index +  \n",
       "    pre + main + lab_experience + similar_sim + prior_number_virtual_labs +  \n",
       "    (1 | sid)\n",
       "   Data: mydata\n",
       "Control: glmerControl(optimizer = \"bobyqa\")\n",
       "\n",
       "     AIC      BIC   logLik deviance df.resid \n",
       "   633.8    699.4   -301.9    603.8      573 \n",
       "\n",
       "Scaled residuals: \n",
       "    Min      1Q  Median      3Q     Max \n",
       "-2.7180 -0.3917  0.2569  0.4453  2.3367 \n",
       "\n",
       "Random effects:\n",
       " Groups Name        Variance Std.Dev.\n",
       " sid    (Intercept) 4.008    2.002   \n",
       "Number of obs: 588, groups:  sid, 147\n",
       "\n",
       "Fixed effects:\n",
       "                          Estimate Std. Error z value Pr(>|z|)    \n",
       "(Intercept)                -0.9516     0.8517  -1.117  0.26389    \n",
       "cvs_table1                 -0.3024     0.4463  -0.678  0.49803    \n",
       "cvs_graph1                 -0.5763     0.4783  -1.205  0.22823    \n",
       "variableConcentration      -0.1649     0.3623  -0.455  0.64898    \n",
       "variableSeparation         -0.7166     0.3351  -2.139  0.03245 *  \n",
       "variableWidth              -0.1106     0.3590  -0.308  0.75801    \n",
       "sim_index2                  0.1685     0.2490   0.677  0.49842    \n",
       "pre1                        0.3680     0.3335   1.103  0.26982    \n",
       "pre2                        1.4409     0.7474   1.928  0.05386 .  \n",
       "main1                       1.6190     0.5267   3.074  0.00211 ** \n",
       "main2                       2.7629     0.5820   4.747 2.06e-06 ***\n",
       "lab_experience1            -0.1637     0.7762  -0.211  0.83293    \n",
       "similar_sim1                0.5380     0.3934   1.368  0.17146    \n",
       "prior_number_virtual_labs   0.4234     0.2546   1.663  0.09621 .  \n",
       "---\n",
       "Signif. codes:  0 '***' 0.001 '**' 0.01 '*' 0.05 '.' 0.1 ' ' 1"
      ]
     },
     "metadata": {},
     "output_type": "display_data"
    }
   ],
   "source": [
    "mixed1 <- glmer(\n",
    "    quant_score\n",
    "    ~ cvs_table + cvs_graph + variable + sim_index + pre + main\n",
    "    + lab_experience + similar_sim + prior_number_virtual_labs + (1 | sid),\n",
    "           data = mydata, family = binomial, \n",
    "           control = glmerControl(optimizer = \"bobyqa\"), nAGQ = 10)\n",
    "\n",
    "summary(mixed1)"
   ]
  },
  {
   "cell_type": "markdown",
   "metadata": {
    "hideCode": true,
    "hidePrompt": true
   },
   "source": [
    "# Stat model 3: Predicting the use of CVS"
   ]
  },
  {
   "cell_type": "markdown",
   "metadata": {},
   "source": [
    "## For cvs_table"
   ]
  },
  {
   "cell_type": "code",
   "execution_count": 134,
   "metadata": {},
   "outputs": [
    {
     "data": {
      "text/plain": [
       "Generalized linear mixed model fit by maximum likelihood (Adaptive\n",
       "  Gauss-Hermite Quadrature, nAGQ = 10) [glmerMod]\n",
       " Family: binomial  ( logit )\n",
       "Formula: \n",
       "cvs_table ~ variable + sim_index + pre + lab_experience + similar_sim +  \n",
       "    prior_number_virtual_labs + (1 | sid)\n",
       "   Data: mydata\n",
       "Control: glmerControl(optimizer = \"bobyqa\")\n",
       "\n",
       "     AIC      BIC   logLik deviance df.resid \n",
       "   639.6    687.8   -308.8    617.6      577 \n",
       "\n",
       "Scaled residuals: \n",
       "    Min      1Q  Median      3Q     Max \n",
       "-2.2907 -0.4368  0.2094  0.3609  2.4240 \n",
       "\n",
       "Random effects:\n",
       " Groups Name        Variance Std.Dev.\n",
       " sid    (Intercept) 6.361    2.522   \n",
       "Number of obs: 588, groups:  sid, 147\n",
       "\n",
       "Fixed effects:\n",
       "                          Estimate Std. Error z value Pr(>|z|)   \n",
       "(Intercept)               -2.38742    0.89177  -2.677  0.00742 **\n",
       "variableConcentration      0.52474    0.36349   1.444  0.14885   \n",
       "variableSeparation        -0.24145    0.33966  -0.711  0.47716   \n",
       "variableWidth              0.27596    0.35960   0.767  0.44284   \n",
       "sim_index2                 0.58613    0.24915   2.353  0.01865 * \n",
       "pre1                       0.61143    0.34506   1.772  0.07640 . \n",
       "pre2                       1.81397    0.72222   2.512  0.01202 * \n",
       "lab_experience1            2.96255    0.98000   3.023  0.00250 **\n",
       "similar_sim1               0.05210    0.38961   0.134  0.89361   \n",
       "prior_number_virtual_labs -0.07449    0.30632  -0.243  0.80788   \n",
       "---\n",
       "Signif. codes:  0 '***' 0.001 '**' 0.01 '*' 0.05 '.' 0.1 ' ' 1\n",
       "\n",
       "Correlation of Fixed Effects:\n",
       "            (Intr) vrblCn vrblSp vrblWd sm_nd2 pre1   pre2   lb_xp1 smlr_1\n",
       "vrblCncntrt -0.240                                                        \n",
       "variblSprtn -0.172  0.463                                                 \n",
       "variablWdth -0.230  0.544  0.469                                          \n",
       "sim_index2  -0.179  0.034 -0.016  0.023                                   \n",
       "pre1        -0.138  0.010 -0.063  0.045 -0.006                            \n",
       "pre2        -0.054 -0.015  0.006  0.050  0.045  0.103                     \n",
       "lab_exprnc1 -0.727  0.053 -0.013  0.039  0.052  0.077  0.029              \n",
       "similar_sm1  0.060 -0.291 -0.011 -0.292  0.111  0.074  0.078 -0.052       \n",
       "prr_nmbr_v_ -0.184  0.037  0.001  0.028 -0.025 -0.069 -0.056 -0.426 -0.132"
      ]
     },
     "metadata": {},
     "output_type": "display_data"
    }
   ],
   "source": [
    "# mydata$variable <- relevel(mydata$variable, \"Width\")\n",
    "mixed <- glmer(\n",
    "    cvs_table\n",
    "    ~ variable + sim_index + pre\n",
    "    + lab_experience + similar_sim + prior_number_virtual_labs + (1 | sid),\n",
    "           data = mydata, family = binomial, \n",
    "           control = glmerControl(optimizer = \"bobyqa\"), nAGQ = 10)\n",
    "\n",
    "summary(mixed)"
   ]
  },
  {
   "cell_type": "markdown",
   "metadata": {},
   "source": [
    "## For cvs_graph"
   ]
  },
  {
   "cell_type": "code",
   "execution_count": 135,
   "metadata": {},
   "outputs": [
    {
     "data": {
      "text/plain": [
       "Generalized linear mixed model fit by maximum likelihood (Adaptive\n",
       "  Gauss-Hermite Quadrature, nAGQ = 10) [glmerMod]\n",
       " Family: binomial  ( logit )\n",
       "Formula: \n",
       "cvs_graph ~ variable + sim_index + pre + lab_experience + similar_sim +  \n",
       "    prior_number_virtual_labs + (1 | sid)\n",
       "   Data: mydata\n",
       "Control: glmerControl(optimizer = \"bobyqa\")\n",
       "\n",
       "     AIC      BIC   logLik deviance df.resid \n",
       "   604.1    652.2   -291.1    582.1      577 \n",
       "\n",
       "Scaled residuals: \n",
       "     Min       1Q   Median       3Q      Max \n",
       "-2.18574 -0.32928 -0.09205  0.33075  2.80758 \n",
       "\n",
       "Random effects:\n",
       " Groups Name        Variance Std.Dev.\n",
       " sid    (Intercept) 11.1     3.332   \n",
       "Number of obs: 588, groups:  sid, 147\n",
       "\n",
       "Fixed effects:\n",
       "                          Estimate Std. Error z value Pr(>|z|)    \n",
       "(Intercept)                -5.8095     1.3601  -4.271 1.94e-05 ***\n",
       "variableConcentration       0.7505     0.4089   1.835  0.06644 .  \n",
       "variableSeparation         -0.1380     0.3756  -0.367  0.71327    \n",
       "variableWidth               0.2763     0.4022   0.687  0.49208    \n",
       "sim_index2                  1.2732     0.2924   4.354 1.33e-05 ***\n",
       "pre1                        0.8581     0.3924   2.187  0.02874 *  \n",
       "pre2                        0.4776     0.6666   0.716  0.47370    \n",
       "lab_experience1             4.0572     1.4202   2.857  0.00428 ** \n",
       "similar_sim1               -0.1752     0.4414  -0.397  0.69149    \n",
       "prior_number_virtual_labs   0.3352     0.3929   0.853  0.39351    \n",
       "---\n",
       "Signif. codes:  0 '***' 0.001 '**' 0.01 '*' 0.05 '.' 0.1 ' ' 1\n",
       "\n",
       "Correlation of Fixed Effects:\n",
       "            (Intr) vrblCn vrblSp vrblWd sm_nd2 pre1   pre2   lb_xp1 smlr_1\n",
       "vrblCncntrt -0.237                                                        \n",
       "variblSprtn -0.123  0.462                                                 \n",
       "variablWdth -0.198  0.573  0.471                                          \n",
       "sim_index2  -0.256  0.146 -0.006  0.110                                   \n",
       "pre1        -0.150 -0.029 -0.089  0.004  0.020                            \n",
       "pre2        -0.004 -0.099  0.014 -0.014  0.054  0.092                     \n",
       "lab_exprnc1 -0.797  0.076 -0.006  0.045  0.109  0.085 -0.006              \n",
       "similar_sm1  0.075 -0.309 -0.012 -0.298  0.041  0.056  0.138 -0.053       \n",
       "prr_nmbr_v_ -0.167  0.045 -0.002  0.030  0.015 -0.028 -0.076 -0.371 -0.138"
      ]
     },
     "metadata": {},
     "output_type": "display_data"
    }
   ],
   "source": [
    "mixed <- glmer(\n",
    "    cvs_graph\n",
    "    ~ variable + sim_index + pre\n",
    "    + lab_experience + similar_sim + prior_number_virtual_labs + (1 | sid),\n",
    "           data = mydata, family = binomial, \n",
    "           control = glmerControl(optimizer = \"bobyqa\"), nAGQ = 10)\n",
    "\n",
    "summary(mixed)"
   ]
  },
  {
   "cell_type": "markdown",
   "metadata": {},
   "source": [
    "# ANALYSES THAT WE NO LONGER CARE ABOUT\n",
    "but keep here just in case"
   ]
  },
  {
   "cell_type": "markdown",
   "metadata": {},
   "source": [
    "## Predict main as a continous variable using an ANOVA\n",
    "\n",
    "Some resources:\n",
    "* On SS Types: https://mcfromnz.wordpress.com/2011/03/02/anova-type-iiiiii-ss-explained/\n",
    "* on drop() function to do type 3: https://www.statmethods.net/stats/anova.html\n",
    "* On repeated measures: http://psych.wisc.edu/moore/Rpdf/610-R8_OneWayWithin.pdf, https://datascienceplus.com/two-way-anova-with-repeated-measures/\n",
    "* the car package: https://cran.r-project.org/web/packages/car/car.pdf"
   ]
  },
  {
   "cell_type": "code",
   "execution_count": 136,
   "metadata": {},
   "outputs": [],
   "source": [
    "mydata <- read.csv(\"C:\\\\Users\\\\Sarah\\\\Documents\\\\Personal Content\\\\Lab_study_data\\\\all_massaged_data\\\\dataframe_all_factors_for_analysis.txt\",sep = '\\t')\n",
    "# sid is the student number\n",
    "mydata$sid <- factor(mydata$sid)\n",
    "mydata$sim_index <- factor(mydata$sim_index)\n",
    "mydata$lab_experience <- factor(mydata$lab_experience)\n",
    "mydata$similar_sim <- factor(mydata$similar_sim)\n",
    "mydata$cvs_graph <- factor(mydata$cvs_graph)\n",
    "mydata$cvs_table <- factor(mydata$cvs_table)\n",
    "# mydata$main <- factor(mydata$main)\n",
    "# mydata$pre <- factor(mydata$pre)"
   ]
  },
  {
   "cell_type": "code",
   "execution_count": 137,
   "metadata": {},
   "outputs": [
    {
     "data": {
      "text/html": [
       "<table>\n",
       "<thead><tr><th scope=col>term</th><th scope=col>sumsq</th><th scope=col>df</th><th scope=col>statistic</th><th scope=col>p.value</th><th scope=col>eta</th></tr></thead>\n",
       "<tbody>\n",
       "\t<tr><td>cvs_table                </td><td>2.948199e-03             </td><td>  1                      </td><td> 0.012941292             </td><td>9.094809e-01             </td><td>2.988662e-05             </td></tr>\n",
       "\t<tr><td>cvs_graph                </td><td>2.847763e+00             </td><td>  1                      </td><td>12.500420043             </td><td>4.507331e-04             </td><td>2.805928e-02             </td></tr>\n",
       "\t<tr><td>variable                 </td><td>2.053713e+00             </td><td>  3                      </td><td> 3.004964024             </td><td>3.020047e-02             </td><td>2.039500e-02             </td></tr>\n",
       "\t<tr><td>sim_index                </td><td>2.747183e+00             </td><td>  1                      </td><td>12.058916980             </td><td>5.672906e-04             </td><td>2.709510e-02             </td></tr>\n",
       "\t<tr><td>pre                      </td><td>5.046346e-01             </td><td>  1                      </td><td> 2.215122837             </td><td>1.373921e-01             </td><td>5.089719e-03             </td></tr>\n",
       "\t<tr><td>sid                      </td><td>1.002275e+02             </td><td>146                      </td><td> 3.013387963             </td><td>8.909223e-19             </td><td>5.039834e-01             </td></tr>\n",
       "\t<tr><td>lab_experience           </td><td>          NA             </td><td>  0                      </td><td>          NA             </td><td>          NA             </td><td>          NA             </td></tr>\n",
       "\t<tr><td>similar_sim              </td><td>1.078127e-03             </td><td>  1                      </td><td> 0.004732502             </td><td>9.451860e-01             </td><td>1.092945e-05             </td></tr>\n",
       "\t<tr><td>prior_number_virtual_labs</td><td>          NA             </td><td>  0                      </td><td>          NA             </td><td>          NA             </td><td>          NA             </td></tr>\n",
       "\t<tr><td>Residuals                </td><td>9.864319e+01             </td><td>433                      </td><td>          NA             </td><td>          NA             </td><td>5.000000e-01             </td></tr>\n",
       "</tbody>\n",
       "</table>\n"
      ],
      "text/latex": [
       "\\begin{tabular}{r|llllll}\n",
       " term & sumsq & df & statistic & p.value & eta\\\\\n",
       "\\hline\n",
       "\t cvs\\_table                 & 2.948199e-03                &   1                         &  0.012941292                & 9.094809e-01                & 2.988662e-05               \\\\\n",
       "\t cvs\\_graph                 & 2.847763e+00                &   1                         & 12.500420043                & 4.507331e-04                & 2.805928e-02               \\\\\n",
       "\t variable                  & 2.053713e+00              &   3                       &  3.004964024              & 3.020047e-02              & 2.039500e-02             \\\\\n",
       "\t sim\\_index                 & 2.747183e+00                &   1                         & 12.058916980                & 5.672906e-04                & 2.709510e-02               \\\\\n",
       "\t pre                       & 5.046346e-01              &   1                       &  2.215122837              & 1.373921e-01              & 5.089719e-03             \\\\\n",
       "\t sid                       & 1.002275e+02              & 146                       &  3.013387963              & 8.909223e-19              & 5.039834e-01             \\\\\n",
       "\t lab\\_experience            &           NA                &   0                         &           NA                &           NA                &           NA               \\\\\n",
       "\t similar\\_sim               & 1.078127e-03                &   1                         &  0.004732502                & 9.451860e-01                & 1.092945e-05               \\\\\n",
       "\t prior\\_number\\_virtual\\_labs &           NA                    &   0                             &           NA                    &           NA                    &           NA                   \\\\\n",
       "\t Residuals                 & 9.864319e+01              & 433                       &           NA              &           NA              & 5.000000e-01             \\\\\n",
       "\\end{tabular}\n"
      ],
      "text/markdown": [
       "\n",
       "term | sumsq | df | statistic | p.value | eta | \n",
       "|---|---|---|---|---|---|---|---|---|---|\n",
       "| cvs_table                 | 2.948199e-03              |   1                       |  0.012941292              | 9.094809e-01              | 2.988662e-05              | \n",
       "| cvs_graph                 | 2.847763e+00              |   1                       | 12.500420043              | 4.507331e-04              | 2.805928e-02              | \n",
       "| variable                  | 2.053713e+00              |   3                       |  3.004964024              | 3.020047e-02              | 2.039500e-02              | \n",
       "| sim_index                 | 2.747183e+00              |   1                       | 12.058916980              | 5.672906e-04              | 2.709510e-02              | \n",
       "| pre                       | 5.046346e-01              |   1                       |  2.215122837              | 1.373921e-01              | 5.089719e-03              | \n",
       "| sid                       | 1.002275e+02              | 146                       |  3.013387963              | 8.909223e-19              | 5.039834e-01              | \n",
       "| lab_experience            |           NA              |   0                       |           NA              |           NA              |           NA              | \n",
       "| similar_sim               | 1.078127e-03              |   1                       |  0.004732502              | 9.451860e-01              | 1.092945e-05              | \n",
       "| prior_number_virtual_labs |           NA              |   0                       |           NA              |           NA              |           NA              | \n",
       "| Residuals                 | 9.864319e+01              | 433                       |           NA              |           NA              | 5.000000e-01              | \n",
       "\n",
       "\n"
      ],
      "text/plain": [
       "   term                      sumsq        df  statistic    p.value     \n",
       "1  cvs_table                 2.948199e-03   1  0.012941292 9.094809e-01\n",
       "2  cvs_graph                 2.847763e+00   1 12.500420043 4.507331e-04\n",
       "3  variable                  2.053713e+00   3  3.004964024 3.020047e-02\n",
       "4  sim_index                 2.747183e+00   1 12.058916980 5.672906e-04\n",
       "5  pre                       5.046346e-01   1  2.215122837 1.373921e-01\n",
       "6  sid                       1.002275e+02 146  3.013387963 8.909223e-19\n",
       "7  lab_experience                      NA   0           NA           NA\n",
       "8  similar_sim               1.078127e-03   1  0.004732502 9.451860e-01\n",
       "9  prior_number_virtual_labs           NA   0           NA           NA\n",
       "10 Residuals                 9.864319e+01 433           NA           NA\n",
       "   eta         \n",
       "1  2.988662e-05\n",
       "2  2.805928e-02\n",
       "3  2.039500e-02\n",
       "4  2.709510e-02\n",
       "5  5.089719e-03\n",
       "6  5.039834e-01\n",
       "7            NA\n",
       "8  1.092945e-05\n",
       "9            NA\n",
       "10 5.000000e-01"
      ]
     },
     "metadata": {},
     "output_type": "display_data"
    }
   ],
   "source": [
    "lm1 = lm(main\n",
    "        ~  cvs_table + cvs_graph + variable + sim_index + pre + sid\n",
    "         + lab_experience + similar_sim + prior_number_virtual_labs,\n",
    "         data=mydata)\n",
    "results1 = Anova(lm1, type=2)\n",
    "results_table1 = tidy(results1)\n",
    "results_table1$eta <- results_table1$sumsq/(results_table1$sumsq + results_table1$sumsq[dim(results_table1)[1]])\n",
    "results_table1"
   ]
  },
  {
   "cell_type": "markdown",
   "metadata": {},
   "source": [
    "We see that, in order of significance: cvs_graph, sim_index, and variable matter."
   ]
  }
 ],
 "metadata": {
  "anaconda-cloud": {},
  "kernelspec": {
   "display_name": "R",
   "language": "R",
   "name": "ir"
  },
  "language_info": {
   "codemirror_mode": "r",
   "file_extension": ".r",
   "mimetype": "text/x-r-source",
   "name": "R",
   "pygments_lexer": "r",
   "version": "3.4.3"
  },
  "toc": {
   "nav_menu": {},
   "number_sections": true,
   "sideBar": true,
   "skip_h1_title": false,
   "toc_cell": false,
   "toc_position": {},
   "toc_section_display": "block",
   "toc_window_display": false
  }
 },
 "nbformat": 4,
 "nbformat_minor": 1
}
