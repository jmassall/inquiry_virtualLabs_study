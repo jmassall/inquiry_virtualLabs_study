{
 "cells": [
  {
   "cell_type": "markdown",
   "metadata": {},
   "source": [
    "Load libraries"
   ]
  },
  {
   "cell_type": "code",
   "execution_count": 2,
   "metadata": {},
   "outputs": [],
   "source": [
    "require(ggplot2)\n",
    "#require(GGally)\n",
    "require(reshape2)\n",
    "require(lme4)\n",
    "require(compiler)\n",
    "require(parallel)\n",
    "require(boot)\n",
    "# require(aod)\n",
    "require(dplyr)"
   ]
  },
  {
   "cell_type": "markdown",
   "metadata": {},
   "source": [
    "# Load data and set factors"
   ]
  },
  {
   "cell_type": "code",
   "execution_count": 7,
   "metadata": {},
   "outputs": [],
   "source": [
    "mydata <- read.csv(\"C:\\\\Users\\\\Sarah\\\\Documents\\\\Personal Content\\\\Lab_study_data\\\\all_massaged_data\\\\dataframe_all_factors_for_analysis.txt\",sep = '\\t')\n",
    "# # SID is the student number\n",
    "mydata$sid <- factor(mydata$sid)\n",
    "mydata$sim_index <- factor(mydata$sim_index)\n",
    "mydata$lab_experience <- factor(mydata$lab_experience)\n",
    "mydata$similar_sim <- factor(mydata$similar_sim)\n",
    "# mydata$pre <- factor(mydata$pre)\n",
    "# mydata$main <- factor(mydata$main)\n",
    "# mydata$CVS_graph <- factor(mydata$cvs_graph)\n",
    "# mydata$CVS_table <- factor(mydata$cvs_table)"
   ]
  },
  {
   "cell_type": "code",
   "execution_count": 8,
   "metadata": {},
   "outputs": [
    {
     "data": {
      "text/html": [
       "<table>\n",
       "<thead><tr><th scope=col>sid</th><th scope=col>sim</th><th scope=col>variable</th><th scope=col>pre</th><th scope=col>main</th><th scope=col>cvs_graph</th><th scope=col>cvs_table</th><th scope=col>qual_score</th><th scope=col>quant_score</th><th scope=col>activity_order</th><th scope=col>...</th><th scope=col>pre_with_ident</th><th scope=col>main_with_ident</th><th scope=col>CVS_context</th><th scope=col>use_table</th><th scope=col>use_graph</th><th scope=col>use_concentration</th><th scope=col>use_width</th><th scope=col>use_area</th><th scope=col>use_separation</th><th scope=col>use_all_vars</th></tr></thead>\n",
       "<tbody>\n",
       "\t<tr><td>10127163     </td><td>L            </td><td>Concentration</td><td>0            </td><td>2            </td><td>1            </td><td>1            </td><td>1            </td><td>1            </td><td>LC           </td><td>...          </td><td>1            </td><td>3            </td><td>2            </td><td>1            </td><td>1            </td><td>1            </td><td>1            </td><td>1            </td><td>1            </td><td>4            </td></tr>\n",
       "\t<tr><td>10127163     </td><td>L            </td><td>Width        </td><td>0            </td><td>2            </td><td>1            </td><td>1            </td><td>1            </td><td>1            </td><td>LC           </td><td>...          </td><td>1            </td><td>3            </td><td>2            </td><td>1            </td><td>1            </td><td>1            </td><td>1            </td><td>1            </td><td>1            </td><td>4            </td></tr>\n",
       "\t<tr><td>10127163     </td><td>C            </td><td>Area         </td><td>2            </td><td>2            </td><td>1            </td><td>1            </td><td>1            </td><td>1            </td><td>LC           </td><td>...          </td><td>3            </td><td>3            </td><td>2            </td><td>1            </td><td>1            </td><td>1            </td><td>1            </td><td>1            </td><td>1            </td><td>4            </td></tr>\n",
       "\t<tr><td>10127163     </td><td>C            </td><td>Separation   </td><td>2            </td><td>2            </td><td>1            </td><td>1            </td><td>1            </td><td>1            </td><td>LC           </td><td>...          </td><td>3            </td><td>3            </td><td>2            </td><td>1            </td><td>1            </td><td>1            </td><td>1            </td><td>1            </td><td>1            </td><td>4            </td></tr>\n",
       "\t<tr><td>10232160     </td><td>L            </td><td>Concentration</td><td>0            </td><td>0            </td><td>1            </td><td>1            </td><td>1            </td><td>1            </td><td>LC           </td><td>...          </td><td>1            </td><td>1            </td><td>2            </td><td>1            </td><td>1            </td><td>1            </td><td>1            </td><td>1            </td><td>1            </td><td>4            </td></tr>\n",
       "\t<tr><td>10232160     </td><td>L            </td><td>Width        </td><td>0            </td><td>0            </td><td>0            </td><td>0            </td><td>1            </td><td>1            </td><td>LC           </td><td>...          </td><td>1            </td><td>1            </td><td>0            </td><td>1            </td><td>1            </td><td>1            </td><td>1            </td><td>1            </td><td>1            </td><td>4            </td></tr>\n",
       "</tbody>\n",
       "</table>\n"
      ],
      "text/latex": [
       "\\begin{tabular}{r|lllllllllllllllllllllllllll}\n",
       " sid & sim & variable & pre & main & cvs\\_graph & cvs\\_table & qual\\_score & quant\\_score & activity\\_order & ... & pre\\_with\\_ident & main\\_with\\_ident & CVS\\_context & use\\_table & use\\_graph & use\\_concentration & use\\_width & use\\_area & use\\_separation & use\\_all\\_vars\\\\\n",
       "\\hline\n",
       "\t 10127163      & L             & Concentration & 0             & 2             & 1             & 1             & 1             & 1             & LC            & ...           & 1             & 3             & 2             & 1             & 1             & 1             & 1             & 1             & 1             & 4            \\\\\n",
       "\t 10127163      & L             & Width         & 0             & 2             & 1             & 1             & 1             & 1             & LC            & ...           & 1             & 3             & 2             & 1             & 1             & 1             & 1             & 1             & 1             & 4            \\\\\n",
       "\t 10127163      & C             & Area          & 2             & 2             & 1             & 1             & 1             & 1             & LC            & ...           & 3             & 3             & 2             & 1             & 1             & 1             & 1             & 1             & 1             & 4            \\\\\n",
       "\t 10127163      & C             & Separation    & 2             & 2             & 1             & 1             & 1             & 1             & LC            & ...           & 3             & 3             & 2             & 1             & 1             & 1             & 1             & 1             & 1             & 4            \\\\\n",
       "\t 10232160      & L             & Concentration & 0             & 0             & 1             & 1             & 1             & 1             & LC            & ...           & 1             & 1             & 2             & 1             & 1             & 1             & 1             & 1             & 1             & 4            \\\\\n",
       "\t 10232160      & L             & Width         & 0             & 0             & 0             & 0             & 1             & 1             & LC            & ...           & 1             & 1             & 0             & 1             & 1             & 1             & 1             & 1             & 1             & 4            \\\\\n",
       "\\end{tabular}\n"
      ],
      "text/markdown": [
       "\n",
       "sid | sim | variable | pre | main | cvs_graph | cvs_table | qual_score | quant_score | activity_order | ... | pre_with_ident | main_with_ident | CVS_context | use_table | use_graph | use_concentration | use_width | use_area | use_separation | use_all_vars | \n",
       "|---|---|---|---|---|---|\n",
       "| 10127163      | L             | Concentration | 0             | 2             | 1             | 1             | 1             | 1             | LC            | ...           | 1             | 3             | 2             | 1             | 1             | 1             | 1             | 1             | 1             | 4             | \n",
       "| 10127163      | L             | Width         | 0             | 2             | 1             | 1             | 1             | 1             | LC            | ...           | 1             | 3             | 2             | 1             | 1             | 1             | 1             | 1             | 1             | 4             | \n",
       "| 10127163      | C             | Area          | 2             | 2             | 1             | 1             | 1             | 1             | LC            | ...           | 3             | 3             | 2             | 1             | 1             | 1             | 1             | 1             | 1             | 4             | \n",
       "| 10127163      | C             | Separation    | 2             | 2             | 1             | 1             | 1             | 1             | LC            | ...           | 3             | 3             | 2             | 1             | 1             | 1             | 1             | 1             | 1             | 4             | \n",
       "| 10232160      | L             | Concentration | 0             | 0             | 1             | 1             | 1             | 1             | LC            | ...           | 1             | 1             | 2             | 1             | 1             | 1             | 1             | 1             | 1             | 4             | \n",
       "| 10232160      | L             | Width         | 0             | 0             | 0             | 0             | 1             | 1             | LC            | ...           | 1             | 1             | 0             | 1             | 1             | 1             | 1             | 1             | 1             | 4             | \n",
       "\n",
       "\n"
      ],
      "text/plain": [
       "  sid      sim variable      pre main cvs_graph cvs_table qual_score\n",
       "1 10127163 L   Concentration 0   2    1         1         1         \n",
       "2 10127163 L   Width         0   2    1         1         1         \n",
       "3 10127163 C   Area          2   2    1         1         1         \n",
       "4 10127163 C   Separation    2   2    1         1         1         \n",
       "5 10232160 L   Concentration 0   0    1         1         1         \n",
       "6 10232160 L   Width         0   0    0         0         1         \n",
       "  quant_score activity_order ... pre_with_ident main_with_ident CVS_context\n",
       "1 1           LC             ... 1              3               2          \n",
       "2 1           LC             ... 1              3               2          \n",
       "3 1           LC             ... 3              3               2          \n",
       "4 1           LC             ... 3              3               2          \n",
       "5 1           LC             ... 1              1               2          \n",
       "6 1           LC             ... 1              1               0          \n",
       "  use_table use_graph use_concentration use_width use_area use_separation\n",
       "1 1         1         1                 1         1        1             \n",
       "2 1         1         1                 1         1        1             \n",
       "3 1         1         1                 1         1        1             \n",
       "4 1         1         1                 1         1        1             \n",
       "5 1         1         1                 1         1        1             \n",
       "6 1         1         1                 1         1        1             \n",
       "  use_all_vars\n",
       "1 4           \n",
       "2 4           \n",
       "3 4           \n",
       "4 4           \n",
       "5 4           \n",
       "6 4           "
      ]
     },
     "metadata": {},
     "output_type": "display_data"
    }
   ],
   "source": [
    "head(mydata)"
   ]
  },
  {
   "cell_type": "markdown",
   "metadata": {
    "hideCode": true,
    "hidePrompt": true
   },
   "source": [
    "## Stat model 1: Predicting main model scores"
   ]
  },
  {
   "cell_type": "markdown",
   "metadata": {},
   "source": [
    "We try to predict the type of model in the main worksheet (0,1 or 2 for neither, qual or quant). To do so, we have 10 independant variables:\n",
    "* sim_index (1 or 2, wither it was student's 1st or 2nd activity)\n",
    "* variable (thus don't include sim)\n",
    "* CVS_graph (0 or 1)\n",
    "* CVS_table (0 or 1)\n",
    "* pre (0,1,2)\n",
    "* student attributes: lab_experience, similar_sim, prior_number_virtual_labs, attitude components\n",
    "\n",
    "We do so using a logistical regression model with mixed random effects for students"
   ]
  },
  {
   "cell_type": "markdown",
   "metadata": {},
   "source": [
    "### Filtering data\n",
    "**Should we remove students with max pre for a certain variables???**"
   ]
  },
  {
   "cell_type": "markdown",
   "metadata": {},
   "source": [
    "### Results"
   ]
  },
  {
   "cell_type": "code",
   "execution_count": 33,
   "metadata": {},
   "outputs": [
    {
     "name": "stderr",
     "output_type": "stream",
     "text": [
      "\n",
      "Correlation matrix not shown by default, as p = 13 > 12.\n",
      "Use print(obj, correlation=TRUE)  or\n",
      "\t vcov(obj)\t if you need it\n",
      "\n"
     ]
    },
    {
     "data": {
      "text/plain": [
       "Linear mixed model fit by REML ['lmerMod']\n",
       "Formula: \n",
       "main ~ cvs_table + cvs_graph + variable + sim_index + pre + lab_experience +  \n",
       "    similar_sim + prior_number_virtual_labs + PC1 + PC2 + (1 |      sid)\n",
       "   Data: mydata\n",
       "Control: lmerControl(optimizer = \"bobyqa\", optCtrl = list(maxfun = 100))\n",
       "\n",
       "REML criterion at convergence: 1009.6\n",
       "\n",
       "Scaled residuals: \n",
       "    Min      1Q  Median      3Q     Max \n",
       "-3.3675 -0.4290  0.0415  0.5686  2.2664 \n",
       "\n",
       "Random effects:\n",
       " Groups   Name        Variance Std.Dev.\n",
       " sid      (Intercept) 0.1203   0.3469  \n",
       " Residual             0.2289   0.4784  \n",
       "Number of obs: 588, groups:  sid, 147\n",
       "\n",
       "Fixed effects:\n",
       "                          Estimate Std. Error t value\n",
       "(Intercept)                1.03499    0.12078   8.569\n",
       "cvs_table                  0.04342    0.07317   0.593\n",
       "cvs_graph                  0.33136    0.07458   4.443\n",
       "variableConcentration      0.05276    0.05837   0.904\n",
       "variableSeparation        -0.11075    0.05586  -1.983\n",
       "variableWidth              0.04472    0.05825   0.768\n",
       "sim_index2                 0.13214    0.04033   3.277\n",
       "pre                        0.11223    0.03860   2.907\n",
       "lab_experience1           -0.05000    0.13046  -0.383\n",
       "similar_sim1              -0.01774    0.06297  -0.282\n",
       "prior_number_virtual_labs  0.02822    0.04276   0.660\n",
       "PC1                        0.02823    0.03040   0.929\n",
       "PC2                       -0.01097    0.03815  -0.288"
      ]
     },
     "metadata": {},
     "output_type": "display_data"
    },
    {
     "data": {
      "text/html": [
       "<table>\n",
       "<thead><tr><th></th><th scope=col>Df</th><th scope=col>Sum Sq</th><th scope=col>Mean Sq</th><th scope=col>F value</th></tr></thead>\n",
       "<tbody>\n",
       "\t<tr><th scope=row>cvs_table</th><td>1          </td><td>8.307394101</td><td>8.307394101</td><td>36.29927400</td></tr>\n",
       "\t<tr><th scope=row>cvs_graph</th><td>1          </td><td>5.929295340</td><td>5.929295340</td><td>25.90813841</td></tr>\n",
       "\t<tr><th scope=row>variable</th><td>3          </td><td>1.888789818</td><td>0.629596606</td><td> 2.75103112</td></tr>\n",
       "\t<tr><th scope=row>sim_index</th><td>1          </td><td>2.535183795</td><td>2.535183795</td><td>11.07752083</td></tr>\n",
       "\t<tr><th scope=row>pre</th><td>1          </td><td>2.132525429</td><td>2.132525429</td><td> 9.31809951</td></tr>\n",
       "\t<tr><th scope=row>lab_experience</th><td>1          </td><td>0.002458947</td><td>0.002458947</td><td> 0.01074440</td></tr>\n",
       "\t<tr><th scope=row>similar_sim</th><td>1          </td><td>0.005621504</td><td>0.005621504</td><td> 0.02456324</td></tr>\n",
       "\t<tr><th scope=row>prior_number_virtual_labs</th><td>1          </td><td>0.155303394</td><td>0.155303394</td><td> 0.67860034</td></tr>\n",
       "\t<tr><th scope=row>PC1</th><td>1          </td><td>0.201265550</td><td>0.201265550</td><td> 0.87943262</td></tr>\n",
       "\t<tr><th scope=row>PC2</th><td>1          </td><td>0.018922714</td><td>0.018922714</td><td> 0.08268306</td></tr>\n",
       "</tbody>\n",
       "</table>\n"
      ],
      "text/latex": [
       "\\begin{tabular}{r|llll}\n",
       "  & Df & Sum Sq & Mean Sq & F value\\\\\n",
       "\\hline\n",
       "\tcvs\\_table & 1           & 8.307394101 & 8.307394101 & 36.29927400\\\\\n",
       "\tcvs\\_graph & 1           & 5.929295340 & 5.929295340 & 25.90813841\\\\\n",
       "\tvariable & 3           & 1.888789818 & 0.629596606 &  2.75103112\\\\\n",
       "\tsim\\_index & 1           & 2.535183795 & 2.535183795 & 11.07752083\\\\\n",
       "\tpre & 1           & 2.132525429 & 2.132525429 &  9.31809951\\\\\n",
       "\tlab\\_experience & 1           & 0.002458947 & 0.002458947 &  0.01074440\\\\\n",
       "\tsimilar\\_sim & 1           & 0.005621504 & 0.005621504 &  0.02456324\\\\\n",
       "\tprior\\_number\\_virtual\\_labs & 1           & 0.155303394 & 0.155303394 &  0.67860034\\\\\n",
       "\tPC1 & 1           & 0.201265550 & 0.201265550 &  0.87943262\\\\\n",
       "\tPC2 & 1           & 0.018922714 & 0.018922714 &  0.08268306\\\\\n",
       "\\end{tabular}\n"
      ],
      "text/markdown": [
       "\n",
       "| <!--/--> | Df | Sum Sq | Mean Sq | F value | \n",
       "|---|---|---|---|---|---|---|---|---|---|\n",
       "| cvs_table | 1           | 8.307394101 | 8.307394101 | 36.29927400 | \n",
       "| cvs_graph | 1           | 5.929295340 | 5.929295340 | 25.90813841 | \n",
       "| variable | 3           | 1.888789818 | 0.629596606 |  2.75103112 | \n",
       "| sim_index | 1           | 2.535183795 | 2.535183795 | 11.07752083 | \n",
       "| pre | 1           | 2.132525429 | 2.132525429 |  9.31809951 | \n",
       "| lab_experience | 1           | 0.002458947 | 0.002458947 |  0.01074440 | \n",
       "| similar_sim | 1           | 0.005621504 | 0.005621504 |  0.02456324 | \n",
       "| prior_number_virtual_labs | 1           | 0.155303394 | 0.155303394 |  0.67860034 | \n",
       "| PC1 | 1           | 0.201265550 | 0.201265550 |  0.87943262 | \n",
       "| PC2 | 1           | 0.018922714 | 0.018922714 |  0.08268306 | \n",
       "\n",
       "\n"
      ],
      "text/plain": [
       "                          Df Sum Sq      Mean Sq     F value    \n",
       "cvs_table                 1  8.307394101 8.307394101 36.29927400\n",
       "cvs_graph                 1  5.929295340 5.929295340 25.90813841\n",
       "variable                  3  1.888789818 0.629596606  2.75103112\n",
       "sim_index                 1  2.535183795 2.535183795 11.07752083\n",
       "pre                       1  2.132525429 2.132525429  9.31809951\n",
       "lab_experience            1  0.002458947 0.002458947  0.01074440\n",
       "similar_sim               1  0.005621504 0.005621504  0.02456324\n",
       "prior_number_virtual_labs 1  0.155303394 0.155303394  0.67860034\n",
       "PC1                       1  0.201265550 0.201265550  0.87943262\n",
       "PC2                       1  0.018922714 0.018922714  0.08268306"
      ]
     },
     "metadata": {},
     "output_type": "display_data"
    }
   ],
   "source": [
    "mixed <- lmer(\n",
    "    main\n",
    "    ~  cvs_table + cvs_graph + variable + sim_index + pre\n",
    "    + lab_experience + similar_sim + prior_number_virtual_labs\n",
    "    +  PC1 + PC2 + (1 | sid),\n",
    "           data = mydata,\n",
    "           control = lmerControl(optimizer=\"bobyqa\",optCtrl=list(maxfun=100)))\n",
    "\n",
    "summary(mixed)\n",
    "anova(mixed)"
   ]
  },
  {
   "cell_type": "markdown",
   "metadata": {},
   "source": [
    "### Models per variable"
   ]
  },
  {
   "cell_type": "markdown",
   "metadata": {},
   "source": [
    "### A closer look at CVS graph with inverse scale for Separation"
   ]
  },
  {
   "cell_type": "markdown",
   "metadata": {},
   "source": [
    "### Post-hoc analyses"
   ]
  },
  {
   "cell_type": "markdown",
   "metadata": {},
   "source": [
    "## Stat model 2: Predicting transfer data"
   ]
  },
  {
   "cell_type": "markdown",
   "metadata": {
    "hideCode": true,
    "hidePrompt": true
   },
   "source": [
    "## Stat model 3: Predicting the use of CVS"
   ]
  }
 ],
 "metadata": {
  "anaconda-cloud": {},
  "kernelspec": {
   "display_name": "R",
   "language": "R",
   "name": "ir"
  },
  "language_info": {
   "codemirror_mode": "r",
   "file_extension": ".r",
   "mimetype": "text/x-r-source",
   "name": "R",
   "pygments_lexer": "r",
   "version": "3.4.3"
  },
  "toc": {
   "nav_menu": {},
   "number_sections": true,
   "sideBar": true,
   "skip_h1_title": false,
   "toc_cell": false,
   "toc_position": {},
   "toc_section_display": "block",
   "toc_window_display": false
  }
 },
 "nbformat": 4,
 "nbformat_minor": 1
}
