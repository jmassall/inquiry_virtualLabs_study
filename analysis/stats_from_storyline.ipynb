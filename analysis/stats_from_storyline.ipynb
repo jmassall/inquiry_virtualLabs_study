{
 "cells": [
  {
   "cell_type": "markdown",
   "metadata": {},
   "source": [
    "Load libraries"
   ]
  },
  {
   "cell_type": "code",
   "execution_count": 1,
   "metadata": {},
   "outputs": [
    {
     "name": "stderr",
     "output_type": "stream",
     "text": [
      "Loading required package: mlogit\n",
      "Loading required package: Formula\n",
      "Warning message:\n",
      "\"package 'Formula' was built under R version 3.4.4\"Loading required package: maxLik\n",
      "Warning message:\n",
      "\"package 'maxLik' was built under R version 3.4.4\"Loading required package: miscTools\n",
      "\n",
      "Please cite the 'maxLik' package as:\n",
      "Henningsen, Arne and Toomet, Ott (2011). maxLik: A package for maximum likelihood estimation in R. Computational Statistics 26(3), 443-458. DOI 10.1007/s00180-010-0217-1.\n",
      "\n",
      "If you have questions, suggestions, or comments regarding the 'maxLik' package, please use a forum or 'tracker' at maxLik's R-Forge site:\n",
      "https://r-forge.r-project.org/projects/maxlik/\n",
      "Loading required package: ggplot2\n",
      "Warning message:\n",
      "\"package 'ggplot2' was built under R version 3.4.4\"Loading required package: reshape2\n",
      "Warning message:\n",
      "\"package 'reshape2' was built under R version 3.4.4\"Loading required package: lme4\n",
      "Warning message:\n",
      "\"package 'lme4' was built under R version 3.4.4\"Loading required package: Matrix\n",
      "Loading required package: compiler\n",
      "Loading required package: parallel\n",
      "Loading required package: car\n",
      "Loading required package: boot\n",
      "\n",
      "Attaching package: 'boot'\n",
      "\n",
      "The following object is masked from 'package:car':\n",
      "\n",
      "    logit\n",
      "\n",
      "Loading required package: dplyr\n",
      "\n",
      "Attaching package: 'dplyr'\n",
      "\n",
      "The following object is masked from 'package:car':\n",
      "\n",
      "    recode\n",
      "\n",
      "The following objects are masked from 'package:stats':\n",
      "\n",
      "    filter, lag\n",
      "\n",
      "The following objects are masked from 'package:base':\n",
      "\n",
      "    intersect, setdiff, setequal, union\n",
      "\n",
      "Loading required package: sjstats\n",
      "Warning message:\n",
      "\"package 'sjstats' was built under R version 3.4.4\"Warning message in checkMatrixPackageVersion():\n",
      "\"Package version inconsistency detected.\n",
      "TMB was built with Matrix version 1.2.14\n",
      "Current Matrix version is 1.2.12\n",
      "Please re-install 'TMB' from source using install.packages('TMB', type = 'source') or ask CRAN for a binary version of 'TMB' matching CRAN's 'Matrix' package\"Loading required package: broom\n",
      "Warning message:\n",
      "\"package 'broom' was built under R version 3.4.4\"\n",
      "Attaching package: 'broom'\n",
      "\n",
      "The following object is masked from 'package:sjstats':\n",
      "\n",
      "    bootstrap\n",
      "\n"
     ]
    }
   ],
   "source": [
    "## For some reason, when loading mlogit, the notebook can't find package 'statmod' so I specify it's location\n",
    "library(statmod, lib.loc='D:\\\\Applications\\\\Anaconda2\\\\pkgs\\\\r-statmod-1.4.30-r3.4.1_0\\\\lib\\\\R\\\\library\\\\')\n",
    "require(mlogit)\n",
    "require(ggplot2)\n",
    "require(reshape2)\n",
    "require(lme4)\n",
    "require(compiler)\n",
    "require(parallel)\n",
    "require(car)\n",
    "require(boot)\n",
    "require(dplyr)\n",
    "require(sjstats)\n",
    "require(broom)"
   ]
  },
  {
   "cell_type": "markdown",
   "metadata": {
    "heading_collapsed": true
   },
   "source": [
    "# Load data and set factors"
   ]
  },
  {
   "cell_type": "code",
   "execution_count": 2,
   "metadata": {
    "hidden": true
   },
   "outputs": [],
   "source": [
    "all_mydata <- read.csv(\"C:\\\\Users\\\\Sarah\\\\Documents\\\\Personal Content\\\\Lab_study_data\\\\all_massaged_data\\\\dataframe_all_factors_for_analysis.txt\",sep = '\\t')\n",
    "# sid is the student number\n",
    "# we use the \"factor()\" option to make sure R treats them as categorical\n",
    "all_mydata$sid <- factor(all_mydata$sid)\n",
    "all_mydata$sim_index <- factor(all_mydata$sim_index)\n",
    "all_mydata$lab_experience <- factor(all_mydata$lab_experience)\n",
    "all_mydata$similar_sim <- factor(all_mydata$similar_sim)\n",
    "all_mydata$cvs_graph <- factor(all_mydata$cvs_graph)\n",
    "all_mydata$cvs_table <- factor(all_mydata$cvs_table)\n",
    "all_mydata$quant_score <- factor(all_mydata$quant_score)\n",
    "# all_mydata$main <- factor(all_mydata$main)\n",
    "# all_mydata$pre <- factor(all_mydata$pre)"
   ]
  },
  {
   "cell_type": "markdown",
   "metadata": {
    "hidden": true
   },
   "source": [
    "Here is what our data looks like:"
   ]
  },
  {
   "cell_type": "code",
   "execution_count": 3,
   "metadata": {
    "hidden": true
   },
   "outputs": [
    {
     "data": {
      "text/html": [
       "<table>\n",
       "<thead><tr><th scope=col>sid</th><th scope=col>sim</th><th scope=col>variable</th><th scope=col>pre</th><th scope=col>main</th><th scope=col>cvs_graph</th><th scope=col>cvs_table</th><th scope=col>cvs_table_only</th><th scope=col>qual_score</th><th scope=col>quant_score</th><th scope=col>...</th><th scope=col>use_graph</th><th scope=col>use_concentration</th><th scope=col>use_width</th><th scope=col>use_area</th><th scope=col>use_separation</th><th scope=col>use_all_vars</th><th scope=col>use_graph_beers</th><th scope=col>use_table_beers</th><th scope=col>use_table_capacitor</th><th scope=col>use_graph_capacitor</th></tr></thead>\n",
       "<tbody>\n",
       "\t<tr><td>10127163     </td><td>L            </td><td>Concentration</td><td>0            </td><td>2            </td><td>1            </td><td>1            </td><td>0            </td><td>1            </td><td>1            </td><td>...          </td><td>1            </td><td>1            </td><td>1            </td><td>1            </td><td>1            </td><td>4            </td><td>1            </td><td>1            </td><td>1            </td><td>1            </td></tr>\n",
       "\t<tr><td>10127163     </td><td>L            </td><td>Width        </td><td>0            </td><td>2            </td><td>1            </td><td>1            </td><td>0            </td><td>1            </td><td>1            </td><td>...          </td><td>1            </td><td>1            </td><td>1            </td><td>1            </td><td>1            </td><td>4            </td><td>1            </td><td>1            </td><td>1            </td><td>1            </td></tr>\n",
       "\t<tr><td>10232160     </td><td>L            </td><td>Concentration</td><td>0            </td><td>0            </td><td>1            </td><td>1            </td><td>0            </td><td>1            </td><td>1            </td><td>...          </td><td>1            </td><td>1            </td><td>1            </td><td>1            </td><td>1            </td><td>4            </td><td>1            </td><td>1            </td><td>1            </td><td>1            </td></tr>\n",
       "\t<tr><td>10232160     </td><td>L            </td><td>Width        </td><td>0            </td><td>0            </td><td>0            </td><td>0            </td><td>0            </td><td>1            </td><td>1            </td><td>...          </td><td>1            </td><td>1            </td><td>1            </td><td>1            </td><td>1            </td><td>4            </td><td>1            </td><td>1            </td><td>1            </td><td>1            </td></tr>\n",
       "\t<tr><td>10232160     </td><td>C            </td><td>Area         </td><td>0            </td><td>2            </td><td>1            </td><td>1            </td><td>0            </td><td>1            </td><td>1            </td><td>...          </td><td>1            </td><td>1            </td><td>1            </td><td>1            </td><td>1            </td><td>4            </td><td>1            </td><td>1            </td><td>1            </td><td>1            </td></tr>\n",
       "\t<tr><td>10232160     </td><td>C            </td><td>Separation   </td><td>0            </td><td>2            </td><td>1            </td><td>1            </td><td>0            </td><td>1            </td><td>1            </td><td>...          </td><td>1            </td><td>1            </td><td>1            </td><td>1            </td><td>1            </td><td>4            </td><td>1            </td><td>1            </td><td>1            </td><td>1            </td></tr>\n",
       "</tbody>\n",
       "</table>\n"
      ],
      "text/latex": [
       "\\begin{tabular}{r|llllllllllllllllllllllllllllllll}\n",
       " sid & sim & variable & pre & main & cvs\\_graph & cvs\\_table & cvs\\_table\\_only & qual\\_score & quant\\_score & ... & use\\_graph & use\\_concentration & use\\_width & use\\_area & use\\_separation & use\\_all\\_vars & use\\_graph\\_beers & use\\_table\\_beers & use\\_table\\_capacitor & use\\_graph\\_capacitor\\\\\n",
       "\\hline\n",
       "\t 10127163      & L             & Concentration & 0             & 2             & 1             & 1             & 0             & 1             & 1             & ...           & 1             & 1             & 1             & 1             & 1             & 4             & 1             & 1             & 1             & 1            \\\\\n",
       "\t 10127163      & L             & Width         & 0             & 2             & 1             & 1             & 0             & 1             & 1             & ...           & 1             & 1             & 1             & 1             & 1             & 4             & 1             & 1             & 1             & 1            \\\\\n",
       "\t 10232160      & L             & Concentration & 0             & 0             & 1             & 1             & 0             & 1             & 1             & ...           & 1             & 1             & 1             & 1             & 1             & 4             & 1             & 1             & 1             & 1            \\\\\n",
       "\t 10232160      & L             & Width         & 0             & 0             & 0             & 0             & 0             & 1             & 1             & ...           & 1             & 1             & 1             & 1             & 1             & 4             & 1             & 1             & 1             & 1            \\\\\n",
       "\t 10232160      & C             & Area          & 0             & 2             & 1             & 1             & 0             & 1             & 1             & ...           & 1             & 1             & 1             & 1             & 1             & 4             & 1             & 1             & 1             & 1            \\\\\n",
       "\t 10232160      & C             & Separation    & 0             & 2             & 1             & 1             & 0             & 1             & 1             & ...           & 1             & 1             & 1             & 1             & 1             & 4             & 1             & 1             & 1             & 1            \\\\\n",
       "\\end{tabular}\n"
      ],
      "text/markdown": [
       "\n",
       "sid | sim | variable | pre | main | cvs_graph | cvs_table | cvs_table_only | qual_score | quant_score | ... | use_graph | use_concentration | use_width | use_area | use_separation | use_all_vars | use_graph_beers | use_table_beers | use_table_capacitor | use_graph_capacitor | \n",
       "|---|---|---|---|---|---|\n",
       "| 10127163      | L             | Concentration | 0             | 2             | 1             | 1             | 0             | 1             | 1             | ...           | 1             | 1             | 1             | 1             | 1             | 4             | 1             | 1             | 1             | 1             | \n",
       "| 10127163      | L             | Width         | 0             | 2             | 1             | 1             | 0             | 1             | 1             | ...           | 1             | 1             | 1             | 1             | 1             | 4             | 1             | 1             | 1             | 1             | \n",
       "| 10232160      | L             | Concentration | 0             | 0             | 1             | 1             | 0             | 1             | 1             | ...           | 1             | 1             | 1             | 1             | 1             | 4             | 1             | 1             | 1             | 1             | \n",
       "| 10232160      | L             | Width         | 0             | 0             | 0             | 0             | 0             | 1             | 1             | ...           | 1             | 1             | 1             | 1             | 1             | 4             | 1             | 1             | 1             | 1             | \n",
       "| 10232160      | C             | Area          | 0             | 2             | 1             | 1             | 0             | 1             | 1             | ...           | 1             | 1             | 1             | 1             | 1             | 4             | 1             | 1             | 1             | 1             | \n",
       "| 10232160      | C             | Separation    | 0             | 2             | 1             | 1             | 0             | 1             | 1             | ...           | 1             | 1             | 1             | 1             | 1             | 4             | 1             | 1             | 1             | 1             | \n",
       "\n",
       "\n"
      ],
      "text/plain": [
       "  sid      sim variable      pre main cvs_graph cvs_table cvs_table_only\n",
       "1 10127163 L   Concentration 0   2    1         1         0             \n",
       "2 10127163 L   Width         0   2    1         1         0             \n",
       "3 10232160 L   Concentration 0   0    1         1         0             \n",
       "4 10232160 L   Width         0   0    0         0         0             \n",
       "5 10232160 C   Area          0   2    1         1         0             \n",
       "6 10232160 C   Separation    0   2    1         1         0             \n",
       "  qual_score quant_score ... use_graph use_concentration use_width use_area\n",
       "1 1          1           ... 1         1                 1         1       \n",
       "2 1          1           ... 1         1                 1         1       \n",
       "3 1          1           ... 1         1                 1         1       \n",
       "4 1          1           ... 1         1                 1         1       \n",
       "5 1          1           ... 1         1                 1         1       \n",
       "6 1          1           ... 1         1                 1         1       \n",
       "  use_separation use_all_vars use_graph_beers use_table_beers\n",
       "1 1              4            1               1              \n",
       "2 1              4            1               1              \n",
       "3 1              4            1               1              \n",
       "4 1              4            1               1              \n",
       "5 1              4            1               1              \n",
       "6 1              4            1               1              \n",
       "  use_table_capacitor use_graph_capacitor\n",
       "1 1                   1                  \n",
       "2 1                   1                  \n",
       "3 1                   1                  \n",
       "4 1                   1                  \n",
       "5 1                   1                  \n",
       "6 1                   1                  "
      ]
     },
     "metadata": {},
     "output_type": "display_data"
    }
   ],
   "source": [
    "head(all_mydata)\n",
    "# colnames(mydata)"
   ]
  },
  {
   "cell_type": "markdown",
   "metadata": {
    "hidden": true
   },
   "source": [
    "We have the following factors that change per variable:\n",
    "* main (0,1,2), treated as a continuous variable\n",
    "* pre (0,1,2), treated as a continuous variable\n",
    "* quant_score (0 or 1)\n",
    "* CVS_graph (0 or 1)\n",
    "* CVS_table (0 or 1)\n",
    "\n",
    "We have the following independant factors:\n",
    "* sim_index (1 or 2, wither it was student's 1st or 2nd activity)\n",
    "* variable (thus don't include sim as a variable)\n",
    "* student attibutes:\n",
    "   * lab_experience (0 or 1 if students have prior undergraduate physics or chemistry lab experience)\n",
    "   * similar_sim (0 or 1 if they have used a similar simulation)\n",
    "   * prior_number_virtual_labs (levels from 0 to 3 depending on the number of virtual labs they have done in the past)\n",
    "\n",
    "We ignore attitude components.\n",
    "\n",
    "For main and pre score:\n",
    "* score = 2 if they describe the correct relationship, ie. a correct quantitative model\n",
    "* score = 1 if they describe the correct direction of the relationship, ie. they have a correct qual model but incorrect quant model OR if their quant model is incorrect but qualitatively correct\n",
    "* score = 0 otherwise (i.e. all incorrect or only identified)"
   ]
  },
  {
   "cell_type": "markdown",
   "metadata": {
    "heading_collapsed": true
   },
   "source": [
    "# FIRST we remove perfect pre per variable instance"
   ]
  },
  {
   "cell_type": "code",
   "execution_count": 4,
   "metadata": {
    "hidden": true
   },
   "outputs": [
    {
     "name": "stderr",
     "output_type": "stream",
     "text": [
      "Warning message:\n",
      "\"package 'bindrcpp' was built under R version 3.4.4\""
     ]
    }
   ],
   "source": [
    "mydata <- (all_mydata %>% filter(pre < 2))"
   ]
  },
  {
   "cell_type": "code",
   "execution_count": 5,
   "metadata": {
    "hidden": true
   },
   "outputs": [
    {
     "name": "stdout",
     "output_type": "stream",
     "text": [
      "[1] 549  32\n",
      "[1] 549  32\n",
      "[1] 147   1\n",
      "[1] 147   1\n"
     ]
    }
   ],
   "source": [
    "print(dim(mydata));print(dim(all_mydata));\n",
    "print(dim(unique(mydata['sid'])));print(dim(unique(all_mydata['sid'])));"
   ]
  },
  {
   "cell_type": "markdown",
   "metadata": {
    "hidden": true
   },
   "source": [
    "We removed 39 instances of perfect pre. All 147 students remain in the study (i.e. no student got a prefect pre on all variables)."
   ]
  },
  {
   "cell_type": "markdown",
   "metadata": {
    "heading_collapsed": true
   },
   "source": [
    "# Stat model 1: Prediction main model score as a continuous variable"
   ]
  },
  {
   "cell_type": "markdown",
   "metadata": {
    "hidden": true
   },
   "source": [
    "Some resources:\n",
    "* On SS Types: https://mcfromnz.wordpress.com/2011/03/02/anova-type-iiiiii-ss-explained/\n",
    "* on drop() function to do type 3: https://www.statmethods.net/stats/anova.html\n",
    "* On repeated measures: http://psych.wisc.edu/moore/Rpdf/610-R8_OneWayWithin.pdf, https://datascienceplus.com/two-way-anova-with-repeated-measures/\n",
    "* the car package: https://cran.r-project.org/web/packages/car/car.pdf"
   ]
  },
  {
   "cell_type": "markdown",
   "metadata": {
    "hidden": true
   },
   "source": [
    "## Complete model with interactions"
   ]
  },
  {
   "cell_type": "markdown",
   "metadata": {
    "hidden": true
   },
   "source": [
    "Our model (without student factors) is:\n",
    "\n",
    "    main  ~  cvs_table*variable + cvs_graph*variable\n",
    "             + cvs_table*pre + cvs_graph*pre\n",
    "             + sim_index + sid\n",
    "             \n",
    "We run a type III Anova:"
   ]
  },
  {
   "cell_type": "code",
   "execution_count": 6,
   "metadata": {
    "hidden": true
   },
   "outputs": [
    {
     "data": {
      "text/html": [
       "<table>\n",
       "<thead><tr><th scope=col>term</th><th scope=col>sumsq</th><th scope=col>df</th><th scope=col>statistic</th><th scope=col>p.value</th><th scope=col>eta</th></tr></thead>\n",
       "<tbody>\n",
       "\t<tr><td>(Intercept)       </td><td>  4.51614308      </td><td>  1               </td><td>20.94491355       </td><td>6.377037e-06      </td><td>0.051342504       </td></tr>\n",
       "\t<tr><td>cvs_table         </td><td>  0.01658873      </td><td>  1               </td><td> 0.07693502       </td><td>7.816429e-01      </td><td>0.000198759       </td></tr>\n",
       "\t<tr><td>variable          </td><td>  0.44384032      </td><td>  3               </td><td> 0.68614575       </td><td>5.609410e-01      </td><td>0.005290818       </td></tr>\n",
       "\t<tr><td>cvs_graph         </td><td>  1.20527377      </td><td>  1               </td><td> 5.58980403       </td><td>1.855833e-02      </td><td>0.014238281       </td></tr>\n",
       "\t<tr><td>pre               </td><td>  0.61836397      </td><td>  1               </td><td> 2.86784091       </td><td>9.117070e-02      </td><td>0.007355931       </td></tr>\n",
       "\t<tr><td>sim_index         </td><td>  2.58685638      </td><td>  1               </td><td>11.99729111       </td><td>5.923491e-04      </td><td>0.030068603       </td></tr>\n",
       "\t<tr><td>sid               </td><td>100.64902924      </td><td>146               </td><td> 3.19718387       </td><td>8.159092e-20      </td><td>0.546726334       </td></tr>\n",
       "\t<tr><td>cvs_table:variable</td><td>  0.19078764      </td><td>  3               </td><td> 0.29494421       </td><td>8.290550e-01      </td><td>0.002281174       </td></tr>\n",
       "\t<tr><td>variable:cvs_graph</td><td>  0.28822466      </td><td>  3               </td><td> 0.44557494       </td><td>7.205689e-01      </td><td>0.003442180       </td></tr>\n",
       "\t<tr><td>cvs_table:pre     </td><td>  0.13767781      </td><td>  1               </td><td> 0.63852050       </td><td>4.247372e-01      </td><td>0.001647206       </td></tr>\n",
       "\t<tr><td>cvs_graph:pre     </td><td>  1.06358972      </td><td>  1               </td><td> 4.93270348       </td><td>2.693130e-02      </td><td>0.012585588       </td></tr>\n",
       "\t<tr><td>Residuals         </td><td> 83.44495521      </td><td>387               </td><td>         NA       </td><td>          NA      </td><td>0.500000000       </td></tr>\n",
       "</tbody>\n",
       "</table>\n"
      ],
      "text/latex": [
       "\\begin{tabular}{r|llllll}\n",
       " term & sumsq & df & statistic & p.value & eta\\\\\n",
       "\\hline\n",
       "\t (Intercept)        &   4.51614308       &   1                & 20.94491355        & 6.377037e-06       & 0.051342504       \\\\\n",
       "\t cvs\\_table          &   0.01658873         &   1                  &  0.07693502          & 7.816429e-01         & 0.000198759         \\\\\n",
       "\t variable           &   0.44384032       &   3                &  0.68614575        & 5.609410e-01       & 0.005290818       \\\\\n",
       "\t cvs\\_graph          &   1.20527377         &   1                  &  5.58980403          & 1.855833e-02         & 0.014238281         \\\\\n",
       "\t pre                &   0.61836397       &   1                &  2.86784091        & 9.117070e-02       & 0.007355931       \\\\\n",
       "\t sim\\_index          &   2.58685638         &   1                  & 11.99729111          & 5.923491e-04         & 0.030068603         \\\\\n",
       "\t sid                & 100.64902924       & 146                &  3.19718387        & 8.159092e-20       & 0.546726334       \\\\\n",
       "\t cvs\\_table:variable &   0.19078764         &   3                  &  0.29494421          & 8.290550e-01         & 0.002281174         \\\\\n",
       "\t variable:cvs\\_graph &   0.28822466         &   3                  &  0.44557494          & 7.205689e-01         & 0.003442180         \\\\\n",
       "\t cvs\\_table:pre      &   0.13767781         &   1                  &  0.63852050          & 4.247372e-01         & 0.001647206         \\\\\n",
       "\t cvs\\_graph:pre      &   1.06358972         &   1                  &  4.93270348          & 2.693130e-02         & 0.012585588         \\\\\n",
       "\t Residuals          &  83.44495521       & 387                &          NA        &           NA       & 0.500000000       \\\\\n",
       "\\end{tabular}\n"
      ],
      "text/markdown": [
       "\n",
       "term | sumsq | df | statistic | p.value | eta | \n",
       "|---|---|---|---|---|---|---|---|---|---|---|---|\n",
       "| (Intercept)        |   4.51614308       |   1                | 20.94491355        | 6.377037e-06       | 0.051342504        | \n",
       "| cvs_table          |   0.01658873       |   1                |  0.07693502        | 7.816429e-01       | 0.000198759        | \n",
       "| variable           |   0.44384032       |   3                |  0.68614575        | 5.609410e-01       | 0.005290818        | \n",
       "| cvs_graph          |   1.20527377       |   1                |  5.58980403        | 1.855833e-02       | 0.014238281        | \n",
       "| pre                |   0.61836397       |   1                |  2.86784091        | 9.117070e-02       | 0.007355931        | \n",
       "| sim_index          |   2.58685638       |   1                | 11.99729111        | 5.923491e-04       | 0.030068603        | \n",
       "| sid                | 100.64902924       | 146                |  3.19718387        | 8.159092e-20       | 0.546726334        | \n",
       "| cvs_table:variable |   0.19078764       |   3                |  0.29494421        | 8.290550e-01       | 0.002281174        | \n",
       "| variable:cvs_graph |   0.28822466       |   3                |  0.44557494        | 7.205689e-01       | 0.003442180        | \n",
       "| cvs_table:pre      |   0.13767781       |   1                |  0.63852050        | 4.247372e-01       | 0.001647206        | \n",
       "| cvs_graph:pre      |   1.06358972       |   1                |  4.93270348        | 2.693130e-02       | 0.012585588        | \n",
       "| Residuals          |  83.44495521       | 387                |          NA        |           NA       | 0.500000000        | \n",
       "\n",
       "\n"
      ],
      "text/plain": [
       "   term               sumsq        df  statistic   p.value      eta        \n",
       "1  (Intercept)          4.51614308   1 20.94491355 6.377037e-06 0.051342504\n",
       "2  cvs_table            0.01658873   1  0.07693502 7.816429e-01 0.000198759\n",
       "3  variable             0.44384032   3  0.68614575 5.609410e-01 0.005290818\n",
       "4  cvs_graph            1.20527377   1  5.58980403 1.855833e-02 0.014238281\n",
       "5  pre                  0.61836397   1  2.86784091 9.117070e-02 0.007355931\n",
       "6  sim_index            2.58685638   1 11.99729111 5.923491e-04 0.030068603\n",
       "7  sid                100.64902924 146  3.19718387 8.159092e-20 0.546726334\n",
       "8  cvs_table:variable   0.19078764   3  0.29494421 8.290550e-01 0.002281174\n",
       "9  variable:cvs_graph   0.28822466   3  0.44557494 7.205689e-01 0.003442180\n",
       "10 cvs_table:pre        0.13767781   1  0.63852050 4.247372e-01 0.001647206\n",
       "11 cvs_graph:pre        1.06358972   1  4.93270348 2.693130e-02 0.012585588\n",
       "12 Residuals           83.44495521 387          NA           NA 0.500000000"
      ]
     },
     "metadata": {},
     "output_type": "display_data"
    }
   ],
   "source": [
    "lm1 = lm(main\n",
    "        ~  cvs_table*variable + cvs_graph*variable + cvs_table*pre + cvs_graph*pre + sim_index + sid,\n",
    "         data=mydata)\n",
    "results1 = Anova(lm1, type=3)\n",
    "results_table1 = tidy(results1)\n",
    "results_table1$eta <- results_table1$sumsq/(results_table1$sumsq + results_table1$sumsq[dim(results_table1)[1]])\n",
    "results_table1"
   ]
  },
  {
   "cell_type": "markdown",
   "metadata": {
    "hidden": true
   },
   "source": [
    "None of the interactions are significant so let's move to a simpler model."
   ]
  },
  {
   "cell_type": "markdown",
   "metadata": {
    "hidden": true
   },
   "source": [
    "## Simple model without interaction"
   ]
  },
  {
   "cell_type": "markdown",
   "metadata": {
    "hidden": true
   },
   "source": [
    "Our model (without student factors) is:\n",
    "\n",
    "    main  ~  cvs_table + cvs_graph + variable\n",
    "             + pre + sim_index + sid\n",
    "             \n",
    "We run a type II Anova:"
   ]
  },
  {
   "cell_type": "code",
   "execution_count": 7,
   "metadata": {
    "hidden": true
   },
   "outputs": [
    {
     "data": {
      "text/html": [
       "<table>\n",
       "<thead><tr><th scope=col>term</th><th scope=col>sumsq</th><th scope=col>df</th><th scope=col>statistic</th><th scope=col>p.value</th><th scope=col>eta</th></tr></thead>\n",
       "<tbody>\n",
       "\t<tr><td>cvs_table   </td><td>  0.04977712</td><td>  1         </td><td> 0.2269466  </td><td>6.340606e-01</td><td>0.0005742185</td></tr>\n",
       "\t<tr><td>cvs_graph   </td><td>  4.03782891</td><td>  1         </td><td>18.4094935  </td><td>2.243316e-05</td><td>0.0445308919</td></tr>\n",
       "\t<tr><td>variable    </td><td>  1.74754763</td><td>  3         </td><td> 2.6558387  </td><td>4.816351e-02</td><td>0.0197721051</td></tr>\n",
       "\t<tr><td>pre         </td><td>  0.10980713</td><td>  1         </td><td> 0.5006388  </td><td>4.796368e-01</td><td>0.0012658356</td></tr>\n",
       "\t<tr><td>sim_index   </td><td>  2.92872682</td><td>  1         </td><td>13.3528137  </td><td>2.928603e-04</td><td>0.0326992083</td></tr>\n",
       "\t<tr><td>sid         </td><td>101.63002321</td><td>146         </td><td> 3.1736797  </td><td>9.587964e-20</td><td>0.5398186406</td></tr>\n",
       "\t<tr><td>Residuals   </td><td> 86.63695306</td><td>395         </td><td>        NA  </td><td>          NA</td><td>0.5000000000</td></tr>\n",
       "</tbody>\n",
       "</table>\n"
      ],
      "text/latex": [
       "\\begin{tabular}{r|llllll}\n",
       " term & sumsq & df & statistic & p.value & eta\\\\\n",
       "\\hline\n",
       "\t cvs\\_table  &   0.04977712 &   1          &  0.2269466   & 6.340606e-01 & 0.0005742185\\\\\n",
       "\t cvs\\_graph  &   4.03782891 &   1          & 18.4094935   & 2.243316e-05 & 0.0445308919\\\\\n",
       "\t variable     &   1.74754763 &   3          &  2.6558387   & 4.816351e-02 & 0.0197721051\\\\\n",
       "\t pre          &   0.10980713 &   1          &  0.5006388   & 4.796368e-01 & 0.0012658356\\\\\n",
       "\t sim\\_index  &   2.92872682 &   1          & 13.3528137   & 2.928603e-04 & 0.0326992083\\\\\n",
       "\t sid          & 101.63002321 & 146          &  3.1736797   & 9.587964e-20 & 0.5398186406\\\\\n",
       "\t Residuals    &  86.63695306 & 395          &         NA   &           NA & 0.5000000000\\\\\n",
       "\\end{tabular}\n"
      ],
      "text/markdown": [
       "\n",
       "term | sumsq | df | statistic | p.value | eta | \n",
       "|---|---|---|---|---|---|---|\n",
       "| cvs_table    |   0.04977712 |   1          |  0.2269466   | 6.340606e-01 | 0.0005742185 | \n",
       "| cvs_graph    |   4.03782891 |   1          | 18.4094935   | 2.243316e-05 | 0.0445308919 | \n",
       "| variable     |   1.74754763 |   3          |  2.6558387   | 4.816351e-02 | 0.0197721051 | \n",
       "| pre          |   0.10980713 |   1          |  0.5006388   | 4.796368e-01 | 0.0012658356 | \n",
       "| sim_index    |   2.92872682 |   1          | 13.3528137   | 2.928603e-04 | 0.0326992083 | \n",
       "| sid          | 101.63002321 | 146          |  3.1736797   | 9.587964e-20 | 0.5398186406 | \n",
       "| Residuals    |  86.63695306 | 395          |         NA   |           NA | 0.5000000000 | \n",
       "\n",
       "\n"
      ],
      "text/plain": [
       "  term      sumsq        df  statistic  p.value      eta         \n",
       "1 cvs_table   0.04977712   1  0.2269466 6.340606e-01 0.0005742185\n",
       "2 cvs_graph   4.03782891   1 18.4094935 2.243316e-05 0.0445308919\n",
       "3 variable    1.74754763   3  2.6558387 4.816351e-02 0.0197721051\n",
       "4 pre         0.10980713   1  0.5006388 4.796368e-01 0.0012658356\n",
       "5 sim_index   2.92872682   1 13.3528137 2.928603e-04 0.0326992083\n",
       "6 sid       101.63002321 146  3.1736797 9.587964e-20 0.5398186406\n",
       "7 Residuals  86.63695306 395         NA           NA 0.5000000000"
      ]
     },
     "metadata": {},
     "output_type": "display_data"
    }
   ],
   "source": [
    "lm1 = lm(main\n",
    "        ~  cvs_table + cvs_graph + variable + pre + sim_index + sid,\n",
    "         data=mydata)\n",
    "results1 = Anova(lm1, type=2)\n",
    "results_table1 = tidy(results1)\n",
    "results_table1$eta <- results_table1$sumsq/(results_table1$sumsq + results_table1$sumsq[dim(results_table1)[1]])\n",
    "results_table1"
   ]
  },
  {
   "cell_type": "markdown",
   "metadata": {
    "hidden": true
   },
   "source": [
    "We see that, in order of significance and eta^2: cvs_graph, sim_index, and variable matter."
   ]
  },
  {
   "cell_type": "markdown",
   "metadata": {
    "hidden": true
   },
   "source": [
    "## Model by variable"
   ]
  },
  {
   "cell_type": "markdown",
   "metadata": {
    "hidden": true
   },
   "source": [
    "### For Width without interaction"
   ]
  },
  {
   "cell_type": "code",
   "execution_count": 8,
   "metadata": {
    "hidden": true,
    "scrolled": true
   },
   "outputs": [
    {
     "data": {
      "text/html": [
       "<table>\n",
       "<thead><tr><th scope=col>term</th><th scope=col>sumsq</th><th scope=col>df</th><th scope=col>statistic</th><th scope=col>p.value</th><th scope=col>eta</th></tr></thead>\n",
       "<tbody>\n",
       "\t<tr><td>cvs_table   </td><td> 1.792362334</td><td>  1         </td><td>4.979241880 </td><td>0.02730230  </td><td>3.557129e-02</td></tr>\n",
       "\t<tr><td>cvs_graph   </td><td> 1.421995946</td><td>  1         </td><td>3.950351798 </td><td>0.04888498  </td><td>2.842995e-02</td></tr>\n",
       "\t<tr><td>pre         </td><td> 0.002772954</td><td>  1         </td><td>0.007703358 </td><td>0.93019051  </td><td>5.705865e-05</td></tr>\n",
       "\t<tr><td>sim_index   </td><td> 1.914251343</td><td>  1         </td><td>5.317853583 </td><td>0.02263155  </td><td>3.789862e-02</td></tr>\n",
       "\t<tr><td>Residuals   </td><td>48.595533392</td><td>135         </td><td>         NA </td><td>        NA  </td><td>5.000000e-01</td></tr>\n",
       "</tbody>\n",
       "</table>\n"
      ],
      "text/latex": [
       "\\begin{tabular}{r|llllll}\n",
       " term & sumsq & df & statistic & p.value & eta\\\\\n",
       "\\hline\n",
       "\t cvs\\_table  &  1.792362334 &   1          & 4.979241880  & 0.02730230   & 3.557129e-02\\\\\n",
       "\t cvs\\_graph  &  1.421995946 &   1          & 3.950351798  & 0.04888498   & 2.842995e-02\\\\\n",
       "\t pre          &  0.002772954 &   1          & 0.007703358  & 0.93019051   & 5.705865e-05\\\\\n",
       "\t sim\\_index  &  1.914251343 &   1          & 5.317853583  & 0.02263155   & 3.789862e-02\\\\\n",
       "\t Residuals    & 48.595533392 & 135          &          NA  &         NA   & 5.000000e-01\\\\\n",
       "\\end{tabular}\n"
      ],
      "text/markdown": [
       "\n",
       "term | sumsq | df | statistic | p.value | eta | \n",
       "|---|---|---|---|---|\n",
       "| cvs_table    |  1.792362334 |   1          | 4.979241880  | 0.02730230   | 3.557129e-02 | \n",
       "| cvs_graph    |  1.421995946 |   1          | 3.950351798  | 0.04888498   | 2.842995e-02 | \n",
       "| pre          |  0.002772954 |   1          | 0.007703358  | 0.93019051   | 5.705865e-05 | \n",
       "| sim_index    |  1.914251343 |   1          | 5.317853583  | 0.02263155   | 3.789862e-02 | \n",
       "| Residuals    | 48.595533392 | 135          |          NA  |         NA   | 5.000000e-01 | \n",
       "\n",
       "\n"
      ],
      "text/plain": [
       "  term      sumsq        df  statistic   p.value    eta         \n",
       "1 cvs_table  1.792362334   1 4.979241880 0.02730230 3.557129e-02\n",
       "2 cvs_graph  1.421995946   1 3.950351798 0.04888498 2.842995e-02\n",
       "3 pre        0.002772954   1 0.007703358 0.93019051 5.705865e-05\n",
       "4 sim_index  1.914251343   1 5.317853583 0.02263155 3.789862e-02\n",
       "5 Residuals 48.595533392 135          NA         NA 5.000000e-01"
      ]
     },
     "metadata": {},
     "output_type": "display_data"
    }
   ],
   "source": [
    "test <- subset(mydata, variable == \"Width\")\n",
    "lm1 = lm(main\n",
    "        ~  cvs_table + cvs_graph + pre + sim_index,\n",
    "         data=test)\n",
    "results1 = Anova(lm1, type=2)\n",
    "results_table1 = tidy(results1)\n",
    "results_table1$eta <- results_table1$sumsq/(results_table1$sumsq + results_table1$sumsq[dim(results_table1)[1]])\n",
    "results_table1"
   ]
  },
  {
   "cell_type": "markdown",
   "metadata": {
    "hidden": true
   },
   "source": [
    "### For Area without interaction"
   ]
  },
  {
   "cell_type": "code",
   "execution_count": 9,
   "metadata": {
    "hidden": true
   },
   "outputs": [
    {
     "data": {
      "text/html": [
       "<table>\n",
       "<thead><tr><th scope=col>term</th><th scope=col>sumsq</th><th scope=col>df</th><th scope=col>statistic</th><th scope=col>p.value</th><th scope=col>eta</th></tr></thead>\n",
       "<tbody>\n",
       "\t<tr><td>cvs_table   </td><td> 0.13427005 </td><td>  1         </td><td>0.4213590   </td><td>0.5173961   </td><td>0.0032061687</td></tr>\n",
       "\t<tr><td>cvs_graph   </td><td> 2.15619017 </td><td>  1         </td><td>6.7664401   </td><td>0.0103569   </td><td>0.0491153004</td></tr>\n",
       "\t<tr><td>pre         </td><td> 0.86726624 </td><td>  1         </td><td>2.7216083   </td><td>0.1013940   </td><td>0.0203527936</td></tr>\n",
       "\t<tr><td>sim_index   </td><td> 0.03383323 </td><td>  1         </td><td>0.1061736   </td><td>0.7450631   </td><td>0.0008098293</td></tr>\n",
       "\t<tr><td>Residuals   </td><td>41.74438974 </td><td>131         </td><td>       NA   </td><td>       NA   </td><td>0.5000000000</td></tr>\n",
       "</tbody>\n",
       "</table>\n"
      ],
      "text/latex": [
       "\\begin{tabular}{r|llllll}\n",
       " term & sumsq & df & statistic & p.value & eta\\\\\n",
       "\\hline\n",
       "\t cvs\\_table  &  0.13427005  &   1          & 0.4213590    & 0.5173961    & 0.0032061687\\\\\n",
       "\t cvs\\_graph  &  2.15619017  &   1          & 6.7664401    & 0.0103569    & 0.0491153004\\\\\n",
       "\t pre          &  0.86726624  &   1          & 2.7216083    & 0.1013940    & 0.0203527936\\\\\n",
       "\t sim\\_index  &  0.03383323  &   1          & 0.1061736    & 0.7450631    & 0.0008098293\\\\\n",
       "\t Residuals    & 41.74438974  & 131          &        NA    &        NA    & 0.5000000000\\\\\n",
       "\\end{tabular}\n"
      ],
      "text/markdown": [
       "\n",
       "term | sumsq | df | statistic | p.value | eta | \n",
       "|---|---|---|---|---|\n",
       "| cvs_table    |  0.13427005  |   1          | 0.4213590    | 0.5173961    | 0.0032061687 | \n",
       "| cvs_graph    |  2.15619017  |   1          | 6.7664401    | 0.0103569    | 0.0491153004 | \n",
       "| pre          |  0.86726624  |   1          | 2.7216083    | 0.1013940    | 0.0203527936 | \n",
       "| sim_index    |  0.03383323  |   1          | 0.1061736    | 0.7450631    | 0.0008098293 | \n",
       "| Residuals    | 41.74438974  | 131          |        NA    |        NA    | 0.5000000000 | \n",
       "\n",
       "\n"
      ],
      "text/plain": [
       "  term      sumsq       df  statistic p.value   eta         \n",
       "1 cvs_table  0.13427005   1 0.4213590 0.5173961 0.0032061687\n",
       "2 cvs_graph  2.15619017   1 6.7664401 0.0103569 0.0491153004\n",
       "3 pre        0.86726624   1 2.7216083 0.1013940 0.0203527936\n",
       "4 sim_index  0.03383323   1 0.1061736 0.7450631 0.0008098293\n",
       "5 Residuals 41.74438974 131        NA        NA 0.5000000000"
      ]
     },
     "metadata": {},
     "output_type": "display_data"
    }
   ],
   "source": [
    "test <- subset(mydata, variable == \"Area\")\n",
    "lm1 = lm(main\n",
    "        ~  cvs_table + cvs_graph + pre + sim_index,\n",
    "         data=test)\n",
    "results1 = Anova(lm1, type=2)\n",
    "results_table1 = tidy(results1)\n",
    "results_table1$eta <- results_table1$sumsq/(results_table1$sumsq + results_table1$sumsq[dim(results_table1)[1]])\n",
    "results_table1"
   ]
  },
  {
   "cell_type": "markdown",
   "metadata": {
    "hidden": true
   },
   "source": [
    "### For Concentration without interaction"
   ]
  },
  {
   "cell_type": "code",
   "execution_count": 10,
   "metadata": {
    "hidden": true
   },
   "outputs": [
    {
     "data": {
      "text/html": [
       "<table>\n",
       "<thead><tr><th scope=col>term</th><th scope=col>sumsq</th><th scope=col>df</th><th scope=col>statistic</th><th scope=col>p.value</th><th scope=col>eta</th></tr></thead>\n",
       "<tbody>\n",
       "\t<tr><td>cvs_table   </td><td> 0.001731068</td><td>  1         </td><td> 0.005176852</td><td>0.94275200  </td><td>3.982035e-05</td></tr>\n",
       "\t<tr><td>cvs_graph   </td><td> 3.466850185</td><td>  1         </td><td>10.367801754</td><td>0.00161983  </td><td>7.386168e-02</td></tr>\n",
       "\t<tr><td>pre         </td><td> 0.507002020</td><td>  1         </td><td> 1.516216782</td><td>0.22041583  </td><td>1.152874e-02</td></tr>\n",
       "\t<tr><td>sim_index   </td><td> 2.048674243</td><td>  1         </td><td> 6.126670400</td><td>0.01460262  </td><td>4.500713e-02</td></tr>\n",
       "\t<tr><td>Residuals   </td><td>43.470210433</td><td>130         </td><td>          NA</td><td>        NA  </td><td>5.000000e-01</td></tr>\n",
       "</tbody>\n",
       "</table>\n"
      ],
      "text/latex": [
       "\\begin{tabular}{r|llllll}\n",
       " term & sumsq & df & statistic & p.value & eta\\\\\n",
       "\\hline\n",
       "\t cvs\\_table  &  0.001731068 &   1          &  0.005176852 & 0.94275200   & 3.982035e-05\\\\\n",
       "\t cvs\\_graph  &  3.466850185 &   1          & 10.367801754 & 0.00161983   & 7.386168e-02\\\\\n",
       "\t pre          &  0.507002020 &   1          &  1.516216782 & 0.22041583   & 1.152874e-02\\\\\n",
       "\t sim\\_index  &  2.048674243 &   1          &  6.126670400 & 0.01460262   & 4.500713e-02\\\\\n",
       "\t Residuals    & 43.470210433 & 130          &           NA &         NA   & 5.000000e-01\\\\\n",
       "\\end{tabular}\n"
      ],
      "text/markdown": [
       "\n",
       "term | sumsq | df | statistic | p.value | eta | \n",
       "|---|---|---|---|---|\n",
       "| cvs_table    |  0.001731068 |   1          |  0.005176852 | 0.94275200   | 3.982035e-05 | \n",
       "| cvs_graph    |  3.466850185 |   1          | 10.367801754 | 0.00161983   | 7.386168e-02 | \n",
       "| pre          |  0.507002020 |   1          |  1.516216782 | 0.22041583   | 1.152874e-02 | \n",
       "| sim_index    |  2.048674243 |   1          |  6.126670400 | 0.01460262   | 4.500713e-02 | \n",
       "| Residuals    | 43.470210433 | 130          |           NA |         NA   | 5.000000e-01 | \n",
       "\n",
       "\n"
      ],
      "text/plain": [
       "  term      sumsq        df  statistic    p.value    eta         \n",
       "1 cvs_table  0.001731068   1  0.005176852 0.94275200 3.982035e-05\n",
       "2 cvs_graph  3.466850185   1 10.367801754 0.00161983 7.386168e-02\n",
       "3 pre        0.507002020   1  1.516216782 0.22041583 1.152874e-02\n",
       "4 sim_index  2.048674243   1  6.126670400 0.01460262 4.500713e-02\n",
       "5 Residuals 43.470210433 130           NA         NA 5.000000e-01"
      ]
     },
     "metadata": {},
     "output_type": "display_data"
    }
   ],
   "source": [
    "test <- subset(mydata, variable == \"Concentration\")\n",
    "lm1 = lm(main\n",
    "        ~  cvs_table + cvs_graph + pre + sim_index,\n",
    "         data=test)\n",
    "results1 = Anova(lm1, type=2)\n",
    "results_table1 = tidy(results1)\n",
    "results_table1$eta <- results_table1$sumsq/(results_table1$sumsq + results_table1$sumsq[dim(results_table1)[1]])\n",
    "results_table1"
   ]
  },
  {
   "cell_type": "markdown",
   "metadata": {
    "hidden": true
   },
   "source": [
    "### For Separation without interaction"
   ]
  },
  {
   "cell_type": "code",
   "execution_count": 11,
   "metadata": {
    "hidden": true
   },
   "outputs": [
    {
     "data": {
      "text/html": [
       "<table>\n",
       "<thead><tr><th scope=col>term</th><th scope=col>sumsq</th><th scope=col>df</th><th scope=col>statistic</th><th scope=col>p.value</th><th scope=col>eta</th></tr></thead>\n",
       "<tbody>\n",
       "\t<tr><td>cvs_table  </td><td> 0.08258145</td><td>  1        </td><td>0.2260558  </td><td>0.6352439  </td><td>0.001696784</td></tr>\n",
       "\t<tr><td>cvs_graph  </td><td> 0.86853750</td><td>  1        </td><td>2.3775068  </td><td>0.1254698  </td><td>0.017562052</td></tr>\n",
       "\t<tr><td>pre        </td><td> 0.76145678</td><td>  1        </td><td>2.0843875  </td><td>0.1511633  </td><td>0.015430262</td></tr>\n",
       "\t<tr><td>sim_index  </td><td> 0.35528444</td><td>  1        </td><td>0.9725443  </td><td>0.3258371  </td><td>0.007259280</td></tr>\n",
       "\t<tr><td>Residuals  </td><td>48.58681664</td><td>133        </td><td>       NA  </td><td>       NA  </td><td>0.500000000</td></tr>\n",
       "</tbody>\n",
       "</table>\n"
      ],
      "text/latex": [
       "\\begin{tabular}{r|llllll}\n",
       " term & sumsq & df & statistic & p.value & eta\\\\\n",
       "\\hline\n",
       "\t cvs\\_table &  0.08258145 &   1         & 0.2260558   & 0.6352439   & 0.001696784\\\\\n",
       "\t cvs\\_graph &  0.86853750 &   1         & 2.3775068   & 0.1254698   & 0.017562052\\\\\n",
       "\t pre         &  0.76145678 &   1         & 2.0843875   & 0.1511633   & 0.015430262\\\\\n",
       "\t sim\\_index &  0.35528444 &   1         & 0.9725443   & 0.3258371   & 0.007259280\\\\\n",
       "\t Residuals   & 48.58681664 & 133         &        NA   &        NA   & 0.500000000\\\\\n",
       "\\end{tabular}\n"
      ],
      "text/markdown": [
       "\n",
       "term | sumsq | df | statistic | p.value | eta | \n",
       "|---|---|---|---|---|\n",
       "| cvs_table   |  0.08258145 |   1         | 0.2260558   | 0.6352439   | 0.001696784 | \n",
       "| cvs_graph   |  0.86853750 |   1         | 2.3775068   | 0.1254698   | 0.017562052 | \n",
       "| pre         |  0.76145678 |   1         | 2.0843875   | 0.1511633   | 0.015430262 | \n",
       "| sim_index   |  0.35528444 |   1         | 0.9725443   | 0.3258371   | 0.007259280 | \n",
       "| Residuals   | 48.58681664 | 133         |        NA   |        NA   | 0.500000000 | \n",
       "\n",
       "\n"
      ],
      "text/plain": [
       "  term      sumsq       df  statistic p.value   eta        \n",
       "1 cvs_table  0.08258145   1 0.2260558 0.6352439 0.001696784\n",
       "2 cvs_graph  0.86853750   1 2.3775068 0.1254698 0.017562052\n",
       "3 pre        0.76145678   1 2.0843875 0.1511633 0.015430262\n",
       "4 sim_index  0.35528444   1 0.9725443 0.3258371 0.007259280\n",
       "5 Residuals 48.58681664 133        NA        NA 0.500000000"
      ]
     },
     "metadata": {},
     "output_type": "display_data"
    }
   ],
   "source": [
    "test <- subset(mydata, variable == \"Separation\")\n",
    "lm1 = lm(main\n",
    "        ~  cvs_table + cvs_graph + pre + sim_index,\n",
    "         data=test)\n",
    "results1 = Anova(lm1, type=2)\n",
    "results_table1 = tidy(results1)\n",
    "results_table1$eta <- results_table1$sumsq/(results_table1$sumsq + results_table1$sumsq[dim(results_table1)[1]])\n",
    "results_table1"
   ]
  },
  {
   "cell_type": "markdown",
   "metadata": {
    "hidden": true
   },
   "source": [
    "### For Width with interaction"
   ]
  },
  {
   "cell_type": "code",
   "execution_count": 12,
   "metadata": {
    "hidden": true,
    "scrolled": true
   },
   "outputs": [
    {
     "data": {
      "text/html": [
       "<table>\n",
       "<thead><tr><th scope=col>term</th><th scope=col>sumsq</th><th scope=col>df</th><th scope=col>statistic</th><th scope=col>p.value</th><th scope=col>eta</th></tr></thead>\n",
       "<tbody>\n",
       "\t<tr><td>cvs_table    </td><td> 1.784553299 </td><td>  1          </td><td>4.891344806  </td><td>0.02869904   </td><td>3.547246e-02 </td></tr>\n",
       "\t<tr><td>pre          </td><td> 0.002772954 </td><td>  1          </td><td>0.007600487  </td><td>0.93065894   </td><td>5.714325e-05 </td></tr>\n",
       "\t<tr><td>cvs_graph    </td><td> 1.376135064 </td><td>  1          </td><td>3.771896925  </td><td>0.05423415   </td><td>2.757801e-02 </td></tr>\n",
       "\t<tr><td>sim_index    </td><td> 1.937525446 </td><td>  1          </td><td>5.310631537  </td><td>0.02274507   </td><td>3.839641e-02 </td></tr>\n",
       "\t<tr><td>cvs_table:pre</td><td> 0.070479509 </td><td>  1          </td><td>0.193179763  </td><td>0.66099652   </td><td>1.450373e-03 </td></tr>\n",
       "\t<tr><td>pre:cvs_graph</td><td> 0.023526495 </td><td>  1          </td><td>0.064484595  </td><td>0.79993548   </td><td>4.846116e-04 </td></tr>\n",
       "\t<tr><td>Residuals    </td><td>48.523585665 </td><td>133          </td><td>         NA  </td><td>        NA   </td><td>5.000000e-01 </td></tr>\n",
       "</tbody>\n",
       "</table>\n"
      ],
      "text/latex": [
       "\\begin{tabular}{r|llllll}\n",
       " term & sumsq & df & statistic & p.value & eta\\\\\n",
       "\\hline\n",
       "\t cvs\\_table     &  1.784553299    &   1             & 4.891344806     & 0.02869904      & 3.547246e-02   \\\\\n",
       "\t pre           &  0.002772954  &   1           & 0.007600487   & 0.93065894    & 5.714325e-05 \\\\\n",
       "\t cvs\\_graph     &  1.376135064    &   1             & 3.771896925     & 0.05423415      & 2.757801e-02   \\\\\n",
       "\t sim\\_index     &  1.937525446    &   1             & 5.310631537     & 0.02274507      & 3.839641e-02   \\\\\n",
       "\t cvs\\_table:pre &  0.070479509    &   1             & 0.193179763     & 0.66099652      & 1.450373e-03   \\\\\n",
       "\t pre:cvs\\_graph &  0.023526495    &   1             & 0.064484595     & 0.79993548      & 4.846116e-04   \\\\\n",
       "\t Residuals     & 48.523585665  & 133           &          NA   &         NA    & 5.000000e-01 \\\\\n",
       "\\end{tabular}\n"
      ],
      "text/markdown": [
       "\n",
       "term | sumsq | df | statistic | p.value | eta | \n",
       "|---|---|---|---|---|---|---|\n",
       "| cvs_table     |  1.784553299  |   1           | 4.891344806   | 0.02869904    | 3.547246e-02  | \n",
       "| pre           |  0.002772954  |   1           | 0.007600487   | 0.93065894    | 5.714325e-05  | \n",
       "| cvs_graph     |  1.376135064  |   1           | 3.771896925   | 0.05423415    | 2.757801e-02  | \n",
       "| sim_index     |  1.937525446  |   1           | 5.310631537   | 0.02274507    | 3.839641e-02  | \n",
       "| cvs_table:pre |  0.070479509  |   1           | 0.193179763   | 0.66099652    | 1.450373e-03  | \n",
       "| pre:cvs_graph |  0.023526495  |   1           | 0.064484595   | 0.79993548    | 4.846116e-04  | \n",
       "| Residuals     | 48.523585665  | 133           |          NA   |         NA    | 5.000000e-01  | \n",
       "\n",
       "\n"
      ],
      "text/plain": [
       "  term          sumsq        df  statistic   p.value    eta         \n",
       "1 cvs_table      1.784553299   1 4.891344806 0.02869904 3.547246e-02\n",
       "2 pre            0.002772954   1 0.007600487 0.93065894 5.714325e-05\n",
       "3 cvs_graph      1.376135064   1 3.771896925 0.05423415 2.757801e-02\n",
       "4 sim_index      1.937525446   1 5.310631537 0.02274507 3.839641e-02\n",
       "5 cvs_table:pre  0.070479509   1 0.193179763 0.66099652 1.450373e-03\n",
       "6 pre:cvs_graph  0.023526495   1 0.064484595 0.79993548 4.846116e-04\n",
       "7 Residuals     48.523585665 133          NA         NA 5.000000e-01"
      ]
     },
     "metadata": {},
     "output_type": "display_data"
    }
   ],
   "source": [
    "test <- subset(mydata, variable == \"Width\")\n",
    "lm1 = lm(main\n",
    "        ~  cvs_table*pre + cvs_graph*pre + sim_index,\n",
    "         data=test)\n",
    "results1 = Anova(lm1, type=2)\n",
    "results_table1 = tidy(results1)\n",
    "results_table1$eta <- results_table1$sumsq/(results_table1$sumsq + results_table1$sumsq[dim(results_table1)[1]])\n",
    "results_table1"
   ]
  },
  {
   "cell_type": "markdown",
   "metadata": {
    "hidden": true
   },
   "source": [
    "### For Area  with interaction"
   ]
  },
  {
   "cell_type": "code",
   "execution_count": 13,
   "metadata": {
    "hidden": true
   },
   "outputs": [
    {
     "data": {
      "text/html": [
       "<table>\n",
       "<thead><tr><th scope=col>term</th><th scope=col>sumsq</th><th scope=col>df</th><th scope=col>statistic</th><th scope=col>p.value</th><th scope=col>eta</th></tr></thead>\n",
       "<tbody>\n",
       "\t<tr><td>cvs_table    </td><td> 0.09088440  </td><td>  1          </td><td>0.29793427   </td><td>0.586123028  </td><td>0.0023042462 </td></tr>\n",
       "\t<tr><td>pre          </td><td> 0.86726624  </td><td>  1          </td><td>2.84304387   </td><td>0.094187396  </td><td>0.0215638519 </td></tr>\n",
       "\t<tr><td>cvs_graph    </td><td> 2.05516890  </td><td>  1          </td><td>6.73718758   </td><td>0.010536531  </td><td>0.0496340591 </td></tr>\n",
       "\t<tr><td>sim_index    </td><td> 0.01571997  </td><td>  1          </td><td>0.05153269   </td><td>0.820776780  </td><td>0.0003993187 </td></tr>\n",
       "\t<tr><td>cvs_table:pre</td><td> 0.80404013  </td><td>  1          </td><td>2.63577811   </td><td>0.106922041  </td><td>0.0200232653 </td></tr>\n",
       "\t<tr><td>pre:cvs_graph</td><td> 2.18889587  </td><td>  1          </td><td>7.17556698   </td><td>0.008352871  </td><td>0.0526934981 </td></tr>\n",
       "\t<tr><td>Residuals    </td><td>39.35125516  </td><td>129          </td><td>        NA   </td><td>         NA  </td><td>0.5000000000 </td></tr>\n",
       "</tbody>\n",
       "</table>\n"
      ],
      "text/latex": [
       "\\begin{tabular}{r|llllll}\n",
       " term & sumsq & df & statistic & p.value & eta\\\\\n",
       "\\hline\n",
       "\t cvs\\_table     &  0.09088440     &   1             & 0.29793427      & 0.586123028     & 0.0023042462   \\\\\n",
       "\t pre           &  0.86726624   &   1           & 2.84304387    & 0.094187396   & 0.0215638519 \\\\\n",
       "\t cvs\\_graph     &  2.05516890     &   1             & 6.73718758      & 0.010536531     & 0.0496340591   \\\\\n",
       "\t sim\\_index     &  0.01571997     &   1             & 0.05153269      & 0.820776780     & 0.0003993187   \\\\\n",
       "\t cvs\\_table:pre &  0.80404013     &   1             & 2.63577811      & 0.106922041     & 0.0200232653   \\\\\n",
       "\t pre:cvs\\_graph &  2.18889587     &   1             & 7.17556698      & 0.008352871     & 0.0526934981   \\\\\n",
       "\t Residuals     & 39.35125516   & 129           &         NA    &          NA   & 0.5000000000 \\\\\n",
       "\\end{tabular}\n"
      ],
      "text/markdown": [
       "\n",
       "term | sumsq | df | statistic | p.value | eta | \n",
       "|---|---|---|---|---|---|---|\n",
       "| cvs_table     |  0.09088440   |   1           | 0.29793427    | 0.586123028   | 0.0023042462  | \n",
       "| pre           |  0.86726624   |   1           | 2.84304387    | 0.094187396   | 0.0215638519  | \n",
       "| cvs_graph     |  2.05516890   |   1           | 6.73718758    | 0.010536531   | 0.0496340591  | \n",
       "| sim_index     |  0.01571997   |   1           | 0.05153269    | 0.820776780   | 0.0003993187  | \n",
       "| cvs_table:pre |  0.80404013   |   1           | 2.63577811    | 0.106922041   | 0.0200232653  | \n",
       "| pre:cvs_graph |  2.18889587   |   1           | 7.17556698    | 0.008352871   | 0.0526934981  | \n",
       "| Residuals     | 39.35125516   | 129           |         NA    |          NA   | 0.5000000000  | \n",
       "\n",
       "\n"
      ],
      "text/plain": [
       "  term          sumsq       df  statistic  p.value     eta         \n",
       "1 cvs_table      0.09088440   1 0.29793427 0.586123028 0.0023042462\n",
       "2 pre            0.86726624   1 2.84304387 0.094187396 0.0215638519\n",
       "3 cvs_graph      2.05516890   1 6.73718758 0.010536531 0.0496340591\n",
       "4 sim_index      0.01571997   1 0.05153269 0.820776780 0.0003993187\n",
       "5 cvs_table:pre  0.80404013   1 2.63577811 0.106922041 0.0200232653\n",
       "6 pre:cvs_graph  2.18889587   1 7.17556698 0.008352871 0.0526934981\n",
       "7 Residuals     39.35125516 129         NA          NA 0.5000000000"
      ]
     },
     "metadata": {},
     "output_type": "display_data"
    }
   ],
   "source": [
    "test <- subset(mydata, variable == \"Area\")\n",
    "lm1 = lm(main\n",
    "        ~  cvs_table*pre + cvs_graph*pre + sim_index,\n",
    "         data=test)\n",
    "results1 = Anova(lm1, type=2)\n",
    "results_table1 = tidy(results1)\n",
    "results_table1$eta <- results_table1$sumsq/(results_table1$sumsq + results_table1$sumsq[dim(results_table1)[1]])\n",
    "results_table1"
   ]
  },
  {
   "cell_type": "markdown",
   "metadata": {
    "hidden": true
   },
   "source": [
    "### For Concentration with interaction"
   ]
  },
  {
   "cell_type": "code",
   "execution_count": 14,
   "metadata": {
    "hidden": true
   },
   "outputs": [
    {
     "data": {
      "text/html": [
       "<table>\n",
       "<thead><tr><th scope=col>term</th><th scope=col>sumsq</th><th scope=col>df</th><th scope=col>statistic</th><th scope=col>p.value</th><th scope=col>eta</th></tr></thead>\n",
       "<tbody>\n",
       "\t<tr><td>cvs_table    </td><td> 0.001378535 </td><td>  1          </td><td> 0.004061585 </td><td>0.949284188  </td><td>3.173012e-05 </td></tr>\n",
       "\t<tr><td>pre          </td><td> 0.507002020 </td><td>  1          </td><td> 1.493782994 </td><td>0.223876320  </td><td>1.153556e-02 </td></tr>\n",
       "\t<tr><td>cvs_graph    </td><td> 3.432122881 </td><td>  1          </td><td>10.112083563 </td><td>0.001847887  </td><td>7.321650e-02 </td></tr>\n",
       "\t<tr><td>sim_index    </td><td> 1.990416439 </td><td>  1          </td><td> 5.864375506 </td><td>0.016851902  </td><td>4.380834e-02 </td></tr>\n",
       "\t<tr><td>cvs_table:pre</td><td> 0.023727028 </td><td>  1          </td><td> 0.069907079 </td><td>0.791897372  </td><td>5.458509e-04 </td></tr>\n",
       "\t<tr><td>pre:cvs_graph</td><td> 0.023767879 </td><td>  1          </td><td> 0.070027441 </td><td>0.791722470  </td><td>5.467902e-04 </td></tr>\n",
       "\t<tr><td>Residuals    </td><td>43.444234417 </td><td>128          </td><td>          NA </td><td>         NA  </td><td>5.000000e-01 </td></tr>\n",
       "</tbody>\n",
       "</table>\n"
      ],
      "text/latex": [
       "\\begin{tabular}{r|llllll}\n",
       " term & sumsq & df & statistic & p.value & eta\\\\\n",
       "\\hline\n",
       "\t cvs\\_table     &  0.001378535    &   1             &  0.004061585    & 0.949284188     & 3.173012e-05   \\\\\n",
       "\t pre           &  0.507002020  &   1           &  1.493782994  & 0.223876320   & 1.153556e-02 \\\\\n",
       "\t cvs\\_graph     &  3.432122881    &   1             & 10.112083563    & 0.001847887     & 7.321650e-02   \\\\\n",
       "\t sim\\_index     &  1.990416439    &   1             &  5.864375506    & 0.016851902     & 4.380834e-02   \\\\\n",
       "\t cvs\\_table:pre &  0.023727028    &   1             &  0.069907079    & 0.791897372     & 5.458509e-04   \\\\\n",
       "\t pre:cvs\\_graph &  0.023767879    &   1             &  0.070027441    & 0.791722470     & 5.467902e-04   \\\\\n",
       "\t Residuals     & 43.444234417  & 128           &           NA  &          NA   & 5.000000e-01 \\\\\n",
       "\\end{tabular}\n"
      ],
      "text/markdown": [
       "\n",
       "term | sumsq | df | statistic | p.value | eta | \n",
       "|---|---|---|---|---|---|---|\n",
       "| cvs_table     |  0.001378535  |   1           |  0.004061585  | 0.949284188   | 3.173012e-05  | \n",
       "| pre           |  0.507002020  |   1           |  1.493782994  | 0.223876320   | 1.153556e-02  | \n",
       "| cvs_graph     |  3.432122881  |   1           | 10.112083563  | 0.001847887   | 7.321650e-02  | \n",
       "| sim_index     |  1.990416439  |   1           |  5.864375506  | 0.016851902   | 4.380834e-02  | \n",
       "| cvs_table:pre |  0.023727028  |   1           |  0.069907079  | 0.791897372   | 5.458509e-04  | \n",
       "| pre:cvs_graph |  0.023767879  |   1           |  0.070027441  | 0.791722470   | 5.467902e-04  | \n",
       "| Residuals     | 43.444234417  | 128           |           NA  |          NA   | 5.000000e-01  | \n",
       "\n",
       "\n"
      ],
      "text/plain": [
       "  term          sumsq        df  statistic    p.value     eta         \n",
       "1 cvs_table      0.001378535   1  0.004061585 0.949284188 3.173012e-05\n",
       "2 pre            0.507002020   1  1.493782994 0.223876320 1.153556e-02\n",
       "3 cvs_graph      3.432122881   1 10.112083563 0.001847887 7.321650e-02\n",
       "4 sim_index      1.990416439   1  5.864375506 0.016851902 4.380834e-02\n",
       "5 cvs_table:pre  0.023727028   1  0.069907079 0.791897372 5.458509e-04\n",
       "6 pre:cvs_graph  0.023767879   1  0.070027441 0.791722470 5.467902e-04\n",
       "7 Residuals     43.444234417 128           NA          NA 5.000000e-01"
      ]
     },
     "metadata": {},
     "output_type": "display_data"
    }
   ],
   "source": [
    "test <- subset(mydata, variable == \"Concentration\")\n",
    "lm1 = lm(main\n",
    "        ~  cvs_table*pre + cvs_graph*pre + sim_index,\n",
    "         data=test)\n",
    "results1 = Anova(lm1, type=2)\n",
    "results_table1 = tidy(results1)\n",
    "results_table1$eta <- results_table1$sumsq/(results_table1$sumsq + results_table1$sumsq[dim(results_table1)[1]])\n",
    "results_table1"
   ]
  },
  {
   "cell_type": "markdown",
   "metadata": {
    "hidden": true
   },
   "source": [
    "### For Separation with interaction"
   ]
  },
  {
   "cell_type": "code",
   "execution_count": 15,
   "metadata": {
    "hidden": true
   },
   "outputs": [
    {
     "data": {
      "text/html": [
       "<table>\n",
       "<thead><tr><th scope=col>term</th><th scope=col>sumsq</th><th scope=col>df</th><th scope=col>statistic</th><th scope=col>p.value</th><th scope=col>eta</th></tr></thead>\n",
       "<tbody>\n",
       "\t<tr><td>cvs_table    </td><td>7.882552e-02 </td><td>  1          </td><td>0.212596140  </td><td>0.6455047    </td><td>1.620242e-03 </td></tr>\n",
       "\t<tr><td>pre          </td><td>7.614568e-01 </td><td>  1          </td><td>2.053684787  </td><td>0.1542205    </td><td>1.543501e-02 </td></tr>\n",
       "\t<tr><td>cvs_graph    </td><td>8.786555e-01 </td><td>  1          </td><td>2.369775125  </td><td>0.1261169    </td><td>1.776846e-02 </td></tr>\n",
       "\t<tr><td>sim_index    </td><td>3.277333e-01 </td><td>  1          </td><td>0.883912011  </td><td>0.3488628    </td><td>6.702197e-03 </td></tr>\n",
       "\t<tr><td>cvs_table:pre</td><td>5.427385e-03 </td><td>  1          </td><td>0.014637912  </td><td>0.9038865    </td><td>1.117273e-04 </td></tr>\n",
       "\t<tr><td>pre:cvs_graph</td><td>8.144797e-05 </td><td>  1          </td><td>0.000219669  </td><td>0.9881973    </td><td>1.676860e-06 </td></tr>\n",
       "\t<tr><td>Residuals    </td><td>4.857164e+01 </td><td>131          </td><td>         NA  </td><td>       NA    </td><td>5.000000e-01 </td></tr>\n",
       "</tbody>\n",
       "</table>\n"
      ],
      "text/latex": [
       "\\begin{tabular}{r|llllll}\n",
       " term & sumsq & df & statistic & p.value & eta\\\\\n",
       "\\hline\n",
       "\t cvs\\_table     & 7.882552e-02    &   1             & 0.212596140     & 0.6455047       & 1.620242e-03   \\\\\n",
       "\t pre           & 7.614568e-01  &   1           & 2.053684787   & 0.1542205     & 1.543501e-02 \\\\\n",
       "\t cvs\\_graph     & 8.786555e-01    &   1             & 2.369775125     & 0.1261169       & 1.776846e-02   \\\\\n",
       "\t sim\\_index     & 3.277333e-01    &   1             & 0.883912011     & 0.3488628       & 6.702197e-03   \\\\\n",
       "\t cvs\\_table:pre & 5.427385e-03    &   1             & 0.014637912     & 0.9038865       & 1.117273e-04   \\\\\n",
       "\t pre:cvs\\_graph & 8.144797e-05    &   1             & 0.000219669     & 0.9881973       & 1.676860e-06   \\\\\n",
       "\t Residuals     & 4.857164e+01  & 131           &          NA   &        NA     & 5.000000e-01 \\\\\n",
       "\\end{tabular}\n"
      ],
      "text/markdown": [
       "\n",
       "term | sumsq | df | statistic | p.value | eta | \n",
       "|---|---|---|---|---|---|---|\n",
       "| cvs_table     | 7.882552e-02  |   1           | 0.212596140   | 0.6455047     | 1.620242e-03  | \n",
       "| pre           | 7.614568e-01  |   1           | 2.053684787   | 0.1542205     | 1.543501e-02  | \n",
       "| cvs_graph     | 8.786555e-01  |   1           | 2.369775125   | 0.1261169     | 1.776846e-02  | \n",
       "| sim_index     | 3.277333e-01  |   1           | 0.883912011   | 0.3488628     | 6.702197e-03  | \n",
       "| cvs_table:pre | 5.427385e-03  |   1           | 0.014637912   | 0.9038865     | 1.117273e-04  | \n",
       "| pre:cvs_graph | 8.144797e-05  |   1           | 0.000219669   | 0.9881973     | 1.676860e-06  | \n",
       "| Residuals     | 4.857164e+01  | 131           |          NA   |        NA     | 5.000000e-01  | \n",
       "\n",
       "\n"
      ],
      "text/plain": [
       "  term          sumsq        df  statistic   p.value   eta         \n",
       "1 cvs_table     7.882552e-02   1 0.212596140 0.6455047 1.620242e-03\n",
       "2 pre           7.614568e-01   1 2.053684787 0.1542205 1.543501e-02\n",
       "3 cvs_graph     8.786555e-01   1 2.369775125 0.1261169 1.776846e-02\n",
       "4 sim_index     3.277333e-01   1 0.883912011 0.3488628 6.702197e-03\n",
       "5 cvs_table:pre 5.427385e-03   1 0.014637912 0.9038865 1.117273e-04\n",
       "6 pre:cvs_graph 8.144797e-05   1 0.000219669 0.9881973 1.676860e-06\n",
       "7 Residuals     4.857164e+01 131          NA        NA 5.000000e-01"
      ]
     },
     "metadata": {},
     "output_type": "display_data"
    }
   ],
   "source": [
    "test <- subset(mydata, variable == \"Separation\")\n",
    "lm1 = lm(main\n",
    "        ~  cvs_table*pre + cvs_graph*pre + sim_index,\n",
    "         data=test)\n",
    "results1 = Anova(lm1, type=2)\n",
    "results_table1 = tidy(results1)\n",
    "results_table1$eta <- results_table1$sumsq/(results_table1$sumsq + results_table1$sumsq[dim(results_table1)[1]])\n",
    "results_table1"
   ]
  },
  {
   "cell_type": "code",
   "execution_count": 16,
   "metadata": {
    "hidden": true
   },
   "outputs": [
    {
     "data": {
      "text/html": [
       "<strong>main:</strong> 1.18840579710145"
      ],
      "text/latex": [
       "\\textbf{main:} 1.18840579710145"
      ],
      "text/markdown": [
       "**main:** 1.18840579710145"
      ],
      "text/plain": [
       "    main \n",
       "1.188406 "
      ]
     },
     "metadata": {},
     "output_type": "display_data"
    }
   ],
   "source": [
    "colMeans(test[\"main\"])"
   ]
  },
  {
   "cell_type": "markdown",
   "metadata": {},
   "source": [
    "# Stat model 2: Predicting transfer data"
   ]
  },
  {
   "cell_type": "markdown",
   "metadata": {},
   "source": [
    "## Excluding student main worksheet score"
   ]
  },
  {
   "cell_type": "markdown",
   "metadata": {},
   "source": [
    "### Complete model with interactions"
   ]
  },
  {
   "cell_type": "markdown",
   "metadata": {},
   "source": [
    "Our model is:\n",
    "\n",
    "    quant_score  ~  cvs_table*variable + cvs_graph*variable\n",
    "             + cvs_table*pre + cvs_graph*pre\n",
    "             + sim_index + sid\n",
    "             \n",
    "We run a logistic regression:"
   ]
  },
  {
   "cell_type": "code",
   "execution_count": 17,
   "metadata": {},
   "outputs": [
    {
     "name": "stderr",
     "output_type": "stream",
     "text": [
      "\n",
      "Correlation matrix not shown by default, as p = 16 > 12.\n",
      "Use print(obj, correlation=TRUE)  or\n",
      "\t vcov(obj)\t if you need it\n",
      "\n"
     ]
    },
    {
     "data": {
      "text/plain": [
       "Generalized linear mixed model fit by maximum likelihood (Adaptive\n",
       "  Gauss-Hermite Quadrature, nAGQ = 10) [glmerMod]\n",
       " Family: binomial  ( logit )\n",
       "Formula: \n",
       "quant_score ~ cvs_table * variable + cvs_graph * variable + cvs_table *  \n",
       "    pre + cvs_graph * pre + sim_index + (1 | sid)\n",
       "   Data: mydata\n",
       "Control: glmerControl(optimizer = \"bobyqa\")\n",
       "\n",
       "     AIC      BIC   logLik deviance df.resid \n",
       "   644.3    717.6   -305.2    610.3      532 \n",
       "\n",
       "Scaled residuals: \n",
       "    Min      1Q  Median      3Q     Max \n",
       "-2.7498 -0.5006  0.2947  0.4849  1.2801 \n",
       "\n",
       "Random effects:\n",
       " Groups Name        Variance Std.Dev.\n",
       " sid    (Intercept) 3.612    1.9     \n",
       "Number of obs: 549, groups:  sid, 147\n",
       "\n",
       "Fixed effects:\n",
       "                                 Estimate Std. Error z value Pr(>|z|)  \n",
       "(Intercept)                       1.15239    0.46688   2.468   0.0136 *\n",
       "cvs_table1                        0.29185    0.79386   0.368   0.7131  \n",
       "variableConcentration            -0.15172    0.55501  -0.273   0.7846  \n",
       "variableSeparation               -1.03643    0.51301  -2.020   0.0434 *\n",
       "variableWidth                     0.49656    0.55338   0.897   0.3695  \n",
       "cvs_graph1                       -0.63120    0.81444  -0.775   0.4383  \n",
       "pre                               0.66382    0.50476   1.315   0.1885  \n",
       "sim_index2                        0.26089    0.24013   1.086   0.2773  \n",
       "cvs_table1:variableConcentration -0.62997    1.09185  -0.577   0.5640  \n",
       "cvs_table1:variableSeparation     0.57401    1.04803   0.548   0.5839  \n",
       "cvs_table1:variableWidth         -0.57121    1.07421  -0.532   0.5949  \n",
       "variableConcentration:cvs_graph1  1.32774    1.08178   1.227   0.2197  \n",
       "variableSeparation:cvs_graph1    -0.16636    1.03541  -0.161   0.8724  \n",
       "variableWidth:cvs_graph1         -0.09258    1.04230  -0.089   0.9292  \n",
       "cvs_table1:pre                   -1.49087    0.96746  -1.541   0.1233  \n",
       "cvs_graph1:pre                    1.51467    0.97123   1.560   0.1189  \n",
       "---\n",
       "Signif. codes:  0 '***' 0.001 '**' 0.01 '*' 0.05 '.' 0.1 ' ' 1"
      ]
     },
     "metadata": {},
     "output_type": "display_data"
    }
   ],
   "source": [
    "mixed1 <- glmer(\n",
    "    quant_score\n",
    "    ~ cvs_table*variable + cvs_graph*variable + cvs_table*pre + cvs_graph*pre + sim_index + (1 | sid),\n",
    "           data = mydata, family = binomial, \n",
    "           control = glmerControl(optimizer = \"bobyqa\"), nAGQ = 10)\n",
    "summary(mixed1)"
   ]
  },
  {
   "cell_type": "markdown",
   "metadata": {},
   "source": [
    "**(non log) Odds ratio with confidence intervals**"
   ]
  },
  {
   "cell_type": "code",
   "execution_count": 18,
   "metadata": {
    "scrolled": false
   },
   "outputs": [
    {
     "name": "stdout",
     "output_type": "stream",
     "text": [
      "                                   est  2.5 % 97.5 %\n",
      "(Intercept)                      3.166 1.2679   7.90\n",
      "cvs_table1                       1.339 0.2825   6.35\n",
      "variableConcentration            0.859 0.2895   2.55\n",
      "variableSeparation               0.355 0.1298   0.97\n",
      "variableWidth                    1.643 0.5554   4.86\n",
      "cvs_graph1                       0.532 0.1078   2.62\n",
      "pre                              1.942 0.7222   5.22\n",
      "sim_index2                       1.298 0.8108   2.08\n",
      "cvs_table1:variableConcentration 0.533 0.0627   4.53\n",
      "cvs_table1:variableSeparation    1.775 0.2276  13.85\n",
      "cvs_table1:variableWidth         0.565 0.0688   4.64\n",
      "variableConcentration:cvs_graph1 3.773 0.4527  31.44\n",
      "variableSeparation:cvs_graph1    0.847 0.1113   6.44\n",
      "variableWidth:cvs_graph1         0.912 0.1182   7.03\n",
      "cvs_table1:pre                   0.225 0.0338   1.50\n",
      "cvs_graph1:pre                   4.548 0.6778  30.52\n"
     ]
    }
   ],
   "source": [
    "cc <- confint(mixed1,parm=\"beta_\",method=\"Wald\")\n",
    "ctab <- cbind(est=fixef(mixed1),cc)\n",
    "rtab <- exp(ctab)\n",
    "print(rtab,digits=3)"
   ]
  },
  {
   "cell_type": "markdown",
   "metadata": {},
   "source": [
    "Again interactions are not significant, so we stick to a simpler model."
   ]
  },
  {
   "cell_type": "markdown",
   "metadata": {},
   "source": [
    "### Simple model without interactions"
   ]
  },
  {
   "cell_type": "markdown",
   "metadata": {},
   "source": [
    "Our model is:\n",
    "\n",
    "    quant_score  ~  cvs_table + cvs_graph + variable\n",
    "                     + pre + sim_index + sid\n",
    "             \n",
    "We run a logistic regression:"
   ]
  },
  {
   "cell_type": "code",
   "execution_count": 19,
   "metadata": {},
   "outputs": [
    {
     "data": {
      "text/plain": [
       "Generalized linear mixed model fit by maximum likelihood (Adaptive\n",
       "  Gauss-Hermite Quadrature, nAGQ = 10) [glmerMod]\n",
       " Family: binomial  ( logit )\n",
       "Formula: quant_score ~ cvs_table + cvs_graph + variable + sim_index +  \n",
       "    pre + (1 | sid)\n",
       "   Data: mydata\n",
       "Control: glmerControl(optimizer = \"bobyqa\")\n",
       "\n",
       "     AIC      BIC   logLik deviance df.resid \n",
       "   635.8    674.6   -308.9    617.8      540 \n",
       "\n",
       "Scaled residuals: \n",
       "    Min      1Q  Median      3Q     Max \n",
       "-2.4121 -0.5315  0.3070  0.4982  1.4331 \n",
       "\n",
       "Random effects:\n",
       " Groups Name        Variance Std.Dev.\n",
       " sid    (Intercept) 3.167    1.78    \n",
       "Number of obs: 549, groups:  sid, 147\n",
       "\n",
       "Fixed effects:\n",
       "                      Estimate Std. Error z value Pr(>|z|)   \n",
       "(Intercept)            1.15680    0.36448   3.174   0.0015 **\n",
       "cvs_table1            -0.23523    0.41552  -0.566   0.5713   \n",
       "cvs_graph1             0.05734    0.43125   0.133   0.8942   \n",
       "variableConcentration  0.08048    0.33327   0.241   0.8092   \n",
       "variableSeparation    -0.79314    0.32207  -2.463   0.0138 * \n",
       "variableWidth          0.08402    0.32874   0.256   0.7983   \n",
       "sim_index2             0.24505    0.23473   1.044   0.2965   \n",
       "pre                    0.41668    0.31034   1.343   0.1794   \n",
       "---\n",
       "Signif. codes:  0 '***' 0.001 '**' 0.01 '*' 0.05 '.' 0.1 ' ' 1\n",
       "\n",
       "Correlation of Fixed Effects:\n",
       "            (Intr) cvs_t1 cvs_g1 vrblCn vrblSp vrblWd sm_nd2\n",
       "cvs_table1  -0.334                                          \n",
       "cvs_graph1  -0.023 -0.679                                   \n",
       "vrblCncntrt -0.441  0.013 -0.070                            \n",
       "variblSprtn -0.489  0.034 -0.005  0.495                     \n",
       "variablWdth -0.476  0.009 -0.023  0.504  0.500              \n",
       "sim_index2  -0.274  0.034 -0.128  0.090 -0.006  0.073       \n",
       "pre         -0.149  0.007 -0.073 -0.001 -0.113  0.036 -0.046"
      ]
     },
     "metadata": {},
     "output_type": "display_data"
    }
   ],
   "source": [
    "mixed1 <- glmer(\n",
    "    quant_score\n",
    "    ~ cvs_table + cvs_graph + variable + sim_index + pre + (1 | sid),\n",
    "           data = mydata, family = binomial, \n",
    "           control = glmerControl(optimizer = \"bobyqa\"), nAGQ = 10)\n",
    "summary(mixed1)"
   ]
  },
  {
   "cell_type": "markdown",
   "metadata": {},
   "source": [
    "**(non log) Odds ratio with confidence intervals**"
   ]
  },
  {
   "cell_type": "code",
   "execution_count": 20,
   "metadata": {
    "scrolled": false
   },
   "outputs": [
    {
     "name": "stdout",
     "output_type": "stream",
     "text": [
      "                        est 2.5 % 97.5 %\n",
      "(Intercept)           3.180 1.556  6.496\n",
      "cvs_table1            0.790 0.350  1.785\n",
      "cvs_graph1            1.059 0.455  2.466\n",
      "variableConcentration 1.084 0.564  2.083\n",
      "variableSeparation    0.452 0.241  0.851\n",
      "variableWidth         1.088 0.571  2.072\n",
      "sim_index2            1.278 0.807  2.024\n",
      "pre                   1.517 0.826  2.787\n"
     ]
    }
   ],
   "source": [
    "cc <- confint(mixed1,parm=\"beta_\",method=\"Wald\")\n",
    "ctab <- cbind(est=fixef(mixed1),cc)\n",
    "rtab <- exp(ctab)\n",
    "print(rtab,digits=3)"
   ]
  },
  {
   "cell_type": "markdown",
   "metadata": {},
   "source": [
    "As expected, CVS doesn't predict quant transfer scores, only variable does."
   ]
  },
  {
   "cell_type": "markdown",
   "metadata": {},
   "source": [
    "## Including student main worksheet score\n",
    "as a continuous variable"
   ]
  },
  {
   "cell_type": "markdown",
   "metadata": {},
   "source": [
    "### Complete model with interactions"
   ]
  },
  {
   "cell_type": "markdown",
   "metadata": {},
   "source": [
    "Our model is:\n",
    "\n",
    "    quant_score  ~  main + cvs_table*variable + cvs_graph*variable\n",
    "                    + cvs_table*pre + cvs_graph*pre\n",
    "                    + sim_index + sid\n",
    "             \n",
    "We run a logistic regression:"
   ]
  },
  {
   "cell_type": "code",
   "execution_count": 21,
   "metadata": {},
   "outputs": [
    {
     "name": "stderr",
     "output_type": "stream",
     "text": [
      "\n",
      "Correlation matrix not shown by default, as p = 17 > 12.\n",
      "Use print(obj, correlation=TRUE)  or\n",
      "\t vcov(obj)\t if you need it\n",
      "\n"
     ]
    },
    {
     "data": {
      "text/plain": [
       "Generalized linear mixed model fit by maximum likelihood (Adaptive\n",
       "  Gauss-Hermite Quadrature, nAGQ = 10) [glmerMod]\n",
       " Family: binomial  ( logit )\n",
       "Formula: quant_score ~ main + cvs_table * variable + cvs_graph * variable +  \n",
       "    cvs_table * pre + cvs_graph * pre + sim_index + (1 | sid)\n",
       "   Data: mydata\n",
       "Control: glmerControl(optimizer = \"bobyqa\")\n",
       "\n",
       "     AIC      BIC   logLik deviance df.resid \n",
       "   617.8    695.3   -290.9    581.8      531 \n",
       "\n",
       "Scaled residuals: \n",
       "    Min      1Q  Median      3Q     Max \n",
       "-2.4260 -0.4262  0.2495  0.4576  2.5404 \n",
       "\n",
       "Random effects:\n",
       " Groups Name        Variance Std.Dev.\n",
       " sid    (Intercept) 4.232    2.057   \n",
       "Number of obs: 549, groups:  sid, 147\n",
       "\n",
       "Fixed effects:\n",
       "                                 Estimate Std. Error z value Pr(>|z|)    \n",
       "(Intercept)                       -0.1673     0.5519  -0.303    0.762    \n",
       "main                               1.3980     0.2939   4.757 1.97e-06 ***\n",
       "cvs_table1                         0.2459     0.8320   0.296    0.768    \n",
       "variableConcentration             -0.3091     0.5805  -0.532    0.594    \n",
       "variableSeparation                -1.2219     0.5373  -2.274    0.023 *  \n",
       "variableWidth                      0.5343     0.5825   0.917    0.359    \n",
       "cvs_graph1                        -1.2506     0.8744  -1.430    0.153    \n",
       "pre                                0.7191     0.5274   1.363    0.173    \n",
       "sim_index2                         0.1045     0.2554   0.409    0.682    \n",
       "cvs_table1:variableConcentration  -0.5802     1.1404  -0.509    0.611    \n",
       "cvs_table1:variableSeparation      0.8106     1.0833   0.748    0.454    \n",
       "cvs_table1:variableWidth          -0.8472     1.1226  -0.755    0.450    \n",
       "variableConcentration:cvs_graph1   1.4244     1.1382   1.251    0.211    \n",
       "variableSeparation:cvs_graph1      0.1038     1.0721   0.097    0.923    \n",
       "variableWidth:cvs_graph1           0.0589     1.0869   0.054    0.957    \n",
       "cvs_table1:pre                    -1.4303     1.0016  -1.428    0.153    \n",
       "cvs_graph1:pre                     1.2906     1.0101   1.278    0.201    \n",
       "---\n",
       "Signif. codes:  0 '***' 0.001 '**' 0.01 '*' 0.05 '.' 0.1 ' ' 1"
      ]
     },
     "metadata": {},
     "output_type": "display_data"
    }
   ],
   "source": [
    "mixed1 <- glmer(\n",
    "    quant_score\n",
    "    ~ main + cvs_table*variable + cvs_graph*variable + cvs_table*pre + cvs_graph*pre + sim_index + (1 | sid),\n",
    "           data = mydata, family = binomial, \n",
    "           control = glmerControl(optimizer = \"bobyqa\"), nAGQ = 10)\n",
    "summary(mixed1)"
   ]
  },
  {
   "cell_type": "markdown",
   "metadata": {},
   "source": [
    "**(non log) Odds ratio with confidence intervals**"
   ]
  },
  {
   "cell_type": "code",
   "execution_count": 22,
   "metadata": {
    "scrolled": false
   },
   "outputs": [
    {
     "name": "stdout",
     "output_type": "stream",
     "text": [
      "                                   est  2.5 % 97.5 %\n",
      "(Intercept)                      0.846 0.2868  2.495\n",
      "main                             4.047 2.2750  7.200\n",
      "cvs_table1                       1.279 0.2504  6.530\n",
      "variableConcentration            0.734 0.2353  2.290\n",
      "variableSeparation               0.295 0.1028  0.845\n",
      "variableWidth                    1.706 0.5448  5.343\n",
      "cvs_graph1                       0.286 0.0516  1.589\n",
      "pre                              2.053 0.7300  5.771\n",
      "sim_index2                       1.110 0.6730  1.831\n",
      "cvs_table1:variableConcentration 0.560 0.0599  5.233\n",
      "cvs_table1:variableSeparation    2.249 0.2691 18.801\n",
      "cvs_table1:variableWidth         0.429 0.0475  3.869\n",
      "variableConcentration:cvs_graph1 4.156 0.4464 38.682\n",
      "variableSeparation:cvs_graph1    1.109 0.1357  9.072\n",
      "variableWidth:cvs_graph1         1.061 0.1260  8.929\n",
      "cvs_table1:pre                   0.239 0.0336  1.704\n",
      "cvs_graph1:pre                   3.635 0.5020 26.321\n"
     ]
    }
   ],
   "source": [
    "cc <- confint(mixed1,parm=\"beta_\",method=\"Wald\")\n",
    "ctab <- cbind(est=fixef(mixed1),cc)\n",
    "rtab <- exp(ctab)\n",
    "print(rtab,digits=3)"
   ]
  },
  {
   "cell_type": "markdown",
   "metadata": {},
   "source": [
    "Again interactions are not significant, so we stick to a simpler model."
   ]
  },
  {
   "cell_type": "markdown",
   "metadata": {},
   "source": [
    "### Simple model without interactions"
   ]
  },
  {
   "cell_type": "markdown",
   "metadata": {},
   "source": [
    "Our model is:\n",
    "\n",
    "    quant_score  ~  main + cvs_table + cvs_graph + variable\n",
    "                     + pre + sim_index + sid\n",
    "             \n",
    "We run a logistic regression:"
   ]
  },
  {
   "cell_type": "code",
   "execution_count": 23,
   "metadata": {},
   "outputs": [
    {
     "data": {
      "text/plain": [
       "Generalized linear mixed model fit by maximum likelihood (Adaptive\n",
       "  Gauss-Hermite Quadrature, nAGQ = 10) [glmerMod]\n",
       " Family: binomial  ( logit )\n",
       "Formula: quant_score ~ main + cvs_table + cvs_graph + variable + sim_index +  \n",
       "    pre + (1 | sid)\n",
       "   Data: mydata\n",
       "Control: glmerControl(optimizer = \"bobyqa\")\n",
       "\n",
       "     AIC      BIC   logLik deviance df.resid \n",
       "   611.1    654.2   -295.5    591.1      539 \n",
       "\n",
       "Scaled residuals: \n",
       "    Min      1Q  Median      3Q     Max \n",
       "-2.8527 -0.4704  0.2833  0.4741  1.9656 \n",
       "\n",
       "Random effects:\n",
       " Groups Name        Variance Std.Dev.\n",
       " sid    (Intercept) 3.648    1.91    \n",
       "Number of obs: 549, groups:  sid, 147\n",
       "\n",
       "Fixed effects:\n",
       "                       Estimate Std. Error z value Pr(>|z|)    \n",
       "(Intercept)           -0.095498   0.452360  -0.211   0.8328    \n",
       "main                   1.285816   0.275274   4.671    3e-06 ***\n",
       "cvs_table1            -0.271983   0.439773  -0.618   0.5363    \n",
       "cvs_graph1            -0.426217   0.470983  -0.905   0.3655    \n",
       "variableConcentration -0.007647   0.348508  -0.022   0.9825    \n",
       "variableSeparation    -0.729348   0.335576  -2.173   0.0297 *  \n",
       "variableWidth          0.020940   0.343992   0.061   0.9515    \n",
       "sim_index2             0.102507   0.247368   0.414   0.6786    \n",
       "pre                    0.376163   0.324708   1.158   0.2467    \n",
       "---\n",
       "Signif. codes:  0 '***' 0.001 '**' 0.01 '*' 0.05 '.' 0.1 ' ' 1\n",
       "\n",
       "Correlation of Fixed Effects:\n",
       "            (Intr) main   cvs_t1 cvs_g1 vrblCn vrblSp vrblWd sm_nd2\n",
       "main        -0.536                                                 \n",
       "cvs_table1  -0.281 -0.005                                          \n",
       "cvs_graph1   0.123 -0.256 -0.661                                   \n",
       "vrblCncntrt -0.349 -0.049  0.019 -0.060                            \n",
       "variblSprtn -0.400 -0.014  0.032 -0.004  0.495                     \n",
       "variablWdth -0.384 -0.038  0.017 -0.019  0.509  0.499              \n",
       "sim_index2  -0.181 -0.096  0.033 -0.095  0.103  0.001  0.093       \n",
       "pre         -0.131  0.011  0.014 -0.065 -0.005 -0.121  0.029 -0.056"
      ]
     },
     "metadata": {},
     "output_type": "display_data"
    }
   ],
   "source": [
    "mixed1 <- glmer(\n",
    "    quant_score\n",
    "    ~ main + cvs_table + cvs_graph + variable + sim_index + pre + (1 | sid),\n",
    "           data = mydata, family = binomial, \n",
    "           control = glmerControl(optimizer = \"bobyqa\"), nAGQ = 10)\n",
    "summary(mixed1)"
   ]
  },
  {
   "cell_type": "markdown",
   "metadata": {},
   "source": [
    "**(non log) Odds ratio with confidence intervals**"
   ]
  },
  {
   "cell_type": "code",
   "execution_count": 24,
   "metadata": {
    "scrolled": false
   },
   "outputs": [
    {
     "name": "stdout",
     "output_type": "stream",
     "text": [
      "                        est 2.5 % 97.5 %\n",
      "(Intercept)           0.909 0.375  2.206\n",
      "main                  3.618 2.109  6.205\n",
      "cvs_table1            0.762 0.322  1.804\n",
      "cvs_graph1            0.653 0.259  1.644\n",
      "variableConcentration 0.992 0.501  1.965\n",
      "variableSeparation    0.482 0.250  0.931\n",
      "variableWidth         1.021 0.520  2.004\n",
      "sim_index2            1.108 0.682  1.799\n",
      "pre                   1.457 0.771  2.753\n"
     ]
    }
   ],
   "source": [
    "cc <- confint(mixed1,parm=\"beta_\",method=\"Wald\")\n",
    "ctab <- cbind(est=fixef(mixed1),cc)\n",
    "rtab <- exp(ctab)\n",
    "print(rtab,digits=3)"
   ]
  },
  {
   "cell_type": "markdown",
   "metadata": {},
   "source": [
    "## Discussion on all 4 models (w. w/o interaction and w. w/o main)\n",
    "What we notice:\n",
    "* cvs_graph never matters\n",
    "* main matters\n",
    "* pre doesn't matter\n",
    "* variable matters\n",
    "* sim_index doesn't matter..."
   ]
  },
  {
   "cell_type": "markdown",
   "metadata": {
    "hideCode": true,
    "hidePrompt": true
   },
   "source": [
    "# Stat model 3: Predicting the use of CVS graph"
   ]
  },
  {
   "cell_type": "markdown",
   "metadata": {},
   "source": [
    "Our model is:\n",
    "\n",
    "    cvs_graph  ~ variable + pre + sim_index + sid\n",
    "                 + lab_experience + similar_sim + prior_number_virtual_labs\n",
    "             \n",
    "We run a logistic regression:"
   ]
  },
  {
   "cell_type": "code",
   "execution_count": 25,
   "metadata": {},
   "outputs": [
    {
     "data": {
      "text/plain": [
       "Generalized linear mixed model fit by maximum likelihood (Adaptive\n",
       "  Gauss-Hermite Quadrature, nAGQ = 10) [glmerMod]\n",
       " Family: binomial  ( logit )\n",
       "Formula: \n",
       "cvs_graph ~ variable + sim_index + pre + lab_experience + similar_sim +  \n",
       "    prior_number_virtual_labs + (1 | sid)\n",
       "   Data: mydata\n",
       "Control: glmerControl(optimizer = \"bobyqa\")\n",
       "\n",
       "     AIC      BIC   logLik deviance df.resid \n",
       "   561.0    604.1   -270.5    541.0      539 \n",
       "\n",
       "Scaled residuals: \n",
       "     Min       1Q   Median       3Q      Max \n",
       "-2.47112 -0.30915 -0.07747  0.32556  2.83633 \n",
       "\n",
       "Random effects:\n",
       " Groups Name        Variance Std.Dev.\n",
       " sid    (Intercept) 11.45    3.383   \n",
       "Number of obs: 549, groups:  sid, 147\n",
       "\n",
       "Fixed effects:\n",
       "                          Estimate Std. Error z value Pr(>|z|)    \n",
       "(Intercept)                -6.2905     1.5039  -4.183 2.88e-05 ***\n",
       "variableConcentration       0.8132     0.4288   1.897 0.057890 .  \n",
       "variableSeparation         -0.1421     0.3948  -0.360 0.719011    \n",
       "variableWidth               0.1669     0.4183   0.399 0.689885    \n",
       "sim_index2                  1.0770     0.3029   3.556 0.000377 ***\n",
       "pre                         0.9284     0.3978   2.334 0.019607 *  \n",
       "lab_experience1             4.5138     1.5489   2.914 0.003567 ** \n",
       "similar_sim1               -0.1183     0.4564  -0.259 0.795458    \n",
       "prior_number_virtual_labs   0.3948     0.4034   0.979 0.327742    \n",
       "---\n",
       "Signif. codes:  0 '***' 0.001 '**' 0.01 '*' 0.05 '.' 0.1 ' ' 1\n",
       "\n",
       "Correlation of Fixed Effects:\n",
       "            (Intr) vrblCn vrblSp vrblWd sm_nd2 pre    lb_xp1 smlr_1\n",
       "vrblCncntrt -0.230                                                 \n",
       "variblSprtn -0.110  0.459                                          \n",
       "variablWdth -0.179  0.565  0.473                                   \n",
       "sim_index2  -0.222  0.150 -0.022  0.096                            \n",
       "pre         -0.155 -0.029 -0.089  0.000 -0.007                     \n",
       "lab_exprnc1 -0.822  0.069 -0.010  0.034  0.087  0.098              \n",
       "similar_sm1  0.073 -0.286 -0.014 -0.286  0.065  0.062 -0.057       \n",
       "prr_nmbr_v_ -0.173  0.056 -0.005  0.031  0.015 -0.026 -0.332 -0.136"
      ]
     },
     "metadata": {},
     "output_type": "display_data"
    }
   ],
   "source": [
    "mixed <- glmer(\n",
    "    cvs_graph\n",
    "    ~ variable + sim_index + pre\n",
    "    + lab_experience + similar_sim + prior_number_virtual_labs + (1 | sid),\n",
    "           data = mydata, family = binomial, \n",
    "           control = glmerControl(optimizer = \"bobyqa\"), nAGQ = 10)\n",
    "\n",
    "summary(mixed)"
   ]
  },
  {
   "cell_type": "markdown",
   "metadata": {},
   "source": [
    "**(non log) Odds ratio with confidence intervals**"
   ]
  },
  {
   "cell_type": "code",
   "execution_count": 26,
   "metadata": {},
   "outputs": [
    {
     "name": "stdout",
     "output_type": "stream",
     "text": [
      "                               est    2.5 %   97.5 %\n",
      "(Intercept)                0.00185 9.73e-05 3.53e-02\n",
      "variableConcentration      2.25501 9.73e-01 5.23e+00\n",
      "variableSeparation         0.86758 4.00e-01 1.88e+00\n",
      "variableWidth              1.18167 5.20e-01 2.68e+00\n",
      "sim_index2                 2.93582 1.62e+00 5.32e+00\n",
      "pre                        2.53046 1.16e+00 5.52e+00\n",
      "lab_experience1           91.27049 4.38e+00 1.90e+03\n",
      "similar_sim1               0.88842 3.63e-01 2.17e+00\n",
      "prior_number_virtual_labs  1.48409 6.73e-01 3.27e+00\n"
     ]
    }
   ],
   "source": [
    "cc <- confint(mixed,parm=\"beta_\",method=\"Wald\")\n",
    "ctab <- cbind(est=fixef(mixed),cc)\n",
    "rtab <- exp(ctab)\n",
    "print(rtab,digits=3)"
   ]
  },
  {
   "cell_type": "markdown",
   "metadata": {},
   "source": [
    "\n",
    "\n",
    "\n",
    "\n",
    "\n",
    "\n",
    "\n",
    "____________________________________________________________________________\n",
    "\n",
    "\n",
    "\n",
    "\n",
    "\n",
    "# OTHER VERSION OF ANALYSES - keep for historical purposes\n",
    "Even though we decided not to include them or do analyses this way, we keep the code to run them here just in case.\n",
    "\n",
    "First we reload the data, in case some factors have changed from continuous to categorical variables"
   ]
  },
  {
   "cell_type": "code",
   "execution_count": 27,
   "metadata": {},
   "outputs": [],
   "source": [
    "# mydata <- read.csv(\"C:\\\\Users\\\\Sarah\\\\Documents\\\\Personal Content\\\\Lab_study_data\\\\all_massaged_data\\\\dataframe_all_factors_for_analysis.txt\",sep = '\\t')\n",
    "# # sid is the student number\n",
    "# mydata$sid <- factor(mydata$sid)\n",
    "# mydata$sim_index <- factor(mydata$sim_index)\n",
    "# mydata$lab_experience <- factor(mydata$lab_experience)\n",
    "# mydata$similar_sim <- factor(mydata$similar_sim)\n",
    "# mydata$cvs_graph <- factor(mydata$cvs_graph)\n",
    "# mydata$cvs_table <- factor(mydata$cvs_table)\n",
    "# # mydata$main <- factor(mydata$main)\n",
    "# # mydata$pre <- factor(mydata$pre)"
   ]
  },
  {
   "cell_type": "markdown",
   "metadata": {
    "hideCode": true,
    "hidePrompt": true
   },
   "source": [
    "## Stat model 1: Predicting main model scores as a categorical variable"
   ]
  },
  {
   "cell_type": "markdown",
   "metadata": {},
   "source": [
    "First we transform the data in an extra wide format for the mlogit function.\n",
    "Now every student has a row for each variable times type of model (0,1,2).\n",
    "The \"alt\" is the model type (0,1,2) and \"main\" is True if that was the model type they got correct (and the others are always False for that variable)."
   ]
  },
  {
   "cell_type": "code",
   "execution_count": 28,
   "metadata": {},
   "outputs": [],
   "source": [
    "# mydata$main <- factor(mydata$main)\n",
    "# mydata$pre <- factor(mydata$pre)"
   ]
  },
  {
   "cell_type": "code",
   "execution_count": 29,
   "metadata": {},
   "outputs": [],
   "source": [
    "# wide_mydata <- mlogit.data(mydata, shape = 'wide', choice = \"main\", id.var = \"sid\")\n",
    "# head(wide_mydata, 5)"
   ]
  },
  {
   "cell_type": "markdown",
   "metadata": {},
   "source": [
    "Then we run the mlogit model.\n",
    "\n",
    "See the following: https://cran.r-project.org/web/packages/mlogit/vignettes/mlogit.pdf\n",
    "\n",
    "Specifically, mixed in this document DOESN't mean with repeated measures. The \"1 | \" in the formula below tells it that some of the variables are individual specific.\n",
    "The examples using the \"Train\" dataset is what I followed. See pages 3-7 for how to structure data and 22,23 for example of running mlogit."
   ]
  },
  {
   "cell_type": "code",
   "execution_count": 30,
   "metadata": {},
   "outputs": [],
   "source": [
    "# ml.mydata <- mlogit(main\n",
    "#     ~ 1 | cvs_table + cvs_graph + variable + sim_index + pre\n",
    "#     + lab_experience + similar_sim + prior_number_virtual_labs, wide_mydata)\n",
    "# summary(ml.mydata)"
   ]
  }
 ],
 "metadata": {
  "anaconda-cloud": {},
  "kernelspec": {
   "display_name": "R",
   "language": "R",
   "name": "ir"
  },
  "language_info": {
   "codemirror_mode": "r",
   "file_extension": ".r",
   "mimetype": "text/x-r-source",
   "name": "R",
   "pygments_lexer": "r",
   "version": "3.4.3"
  },
  "toc": {
   "nav_menu": {
    "height": "172px",
    "width": "328px"
   },
   "number_sections": true,
   "sideBar": true,
   "skip_h1_title": false,
   "toc_cell": false,
   "toc_position": {},
   "toc_section_display": "block",
   "toc_window_display": false
  }
 },
 "nbformat": 4,
 "nbformat_minor": 1
}
