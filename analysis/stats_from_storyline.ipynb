{
 "cells": [
  {
   "cell_type": "markdown",
   "metadata": {},
   "source": [
    "Load libraries"
   ]
  },
  {
   "cell_type": "code",
   "execution_count": 17,
   "metadata": {},
   "outputs": [],
   "source": [
    "require(ggplot2)\n",
    "#require(GGally)\n",
    "require(reshape2)\n",
    "require(lme4)\n",
    "require(compiler)\n",
    "require(parallel)\n",
    "require(boot)\n",
    "# require(aod)\n",
    "require(dplyr)"
   ]
  },
  {
   "cell_type": "markdown",
   "metadata": {},
   "source": [
    "# Load data and set factors"
   ]
  },
  {
   "cell_type": "code",
   "execution_count": 37,
   "metadata": {},
   "outputs": [],
   "source": [
    "mydata <- read.csv(\"C:\\\\Users\\\\sperez8\\\\Documents\\\\Personal Content\\\\Lab_study_data\\\\all_massaged_data\\\\dataframe_all_factors_for_analysis.txt\",sep = '\\t')\n",
    "# # SID is the student number\n",
    "mydata$sid <- factor(mydata$sid)\n",
    "mydata$sim_index <- factor(mydata$sim_index)\n",
    "mydata$lab_experience <- factor(mydata$lab_experience)\n",
    "mydata$similar_sim <- factor(mydata$similar_sim)\n",
    "mydata$pre_statement <- factor(mydata$pre_statement)\n",
    "mydata$pre_correct <- factor(mydata$pre_correct)\n",
    "mydata$similar_sim <- factor(mydata$similar_sim)\n",
    "# mydata$CVS_context <- factor(mydata$CVS_context)"
   ]
  },
  {
   "cell_type": "code",
   "execution_count": 38,
   "metadata": {},
   "outputs": [
    {
     "data": {
      "text/html": [
       "<table>\n",
       "<thead><tr><th scope=col>sid</th><th scope=col>sim</th><th scope=col>variable</th><th scope=col>model</th><th scope=col>pre_statement</th><th scope=col>pre_correct</th><th scope=col>main_statement</th><th scope=col>main_correct</th><th scope=col>CVS_context</th><th scope=col>qual_score</th><th scope=col>...</th><th scope=col>use_area</th><th scope=col>use_separation</th><th scope=col>activity_order</th><th scope=col>sim_index</th><th scope=col>similar_sim</th><th scope=col>lab_experience</th><th scope=col>prior_number_virtual_labs</th><th scope=col>overall.POCC</th><th scope=col>PC1</th><th scope=col>PC2</th></tr></thead>\n",
       "<tbody>\n",
       "\t<tr><td>10127163  </td><td>C         </td><td>Area      </td><td>ident     </td><td>0         </td><td>NA        </td><td>0         </td><td>NA        </td><td>2         </td><td>1         </td><td>...       </td><td>1         </td><td>1         </td><td>LC        </td><td>2         </td><td>0         </td><td>1         </td><td>1         </td><td>17        </td><td>-0.5087537</td><td>0.1523806 </td></tr>\n",
       "\t<tr><td>10127163  </td><td>C         </td><td>Area      </td><td>qual      </td><td>1         </td><td>1         </td><td>1         </td><td> 1        </td><td>2         </td><td>1         </td><td>...       </td><td>1         </td><td>1         </td><td>LC        </td><td>2         </td><td>0         </td><td>1         </td><td>1         </td><td>17        </td><td>-0.5087537</td><td>0.1523806 </td></tr>\n",
       "\t<tr><td>10127163  </td><td>C         </td><td>Area      </td><td>quant     </td><td>1         </td><td>1         </td><td>1         </td><td> 1        </td><td>2         </td><td>1         </td><td>...       </td><td>1         </td><td>1         </td><td>LC        </td><td>2         </td><td>0         </td><td>1         </td><td>1         </td><td>17        </td><td>-0.5087537</td><td>0.1523806 </td></tr>\n",
       "\t<tr><td>10127163  </td><td>C         </td><td>Separation</td><td>ident     </td><td>0         </td><td>NA        </td><td>0         </td><td>NA        </td><td>2         </td><td>1         </td><td>...       </td><td>1         </td><td>1         </td><td>LC        </td><td>2         </td><td>0         </td><td>1         </td><td>1         </td><td>17        </td><td>-0.5087537</td><td>0.1523806 </td></tr>\n",
       "\t<tr><td>10127163  </td><td>C         </td><td>Separation</td><td>qual      </td><td>1         </td><td>1         </td><td>1         </td><td> 1        </td><td>2         </td><td>1         </td><td>...       </td><td>1         </td><td>1         </td><td>LC        </td><td>2         </td><td>0         </td><td>1         </td><td>1         </td><td>17        </td><td>-0.5087537</td><td>0.1523806 </td></tr>\n",
       "\t<tr><td>10127163  </td><td>C         </td><td>Separation</td><td>quant     </td><td>1         </td><td>1         </td><td>1         </td><td> 1        </td><td>2         </td><td>1         </td><td>...       </td><td>1         </td><td>1         </td><td>LC        </td><td>2         </td><td>0         </td><td>1         </td><td>1         </td><td>17        </td><td>-0.5087537</td><td>0.1523806 </td></tr>\n",
       "</tbody>\n",
       "</table>\n"
      ],
      "text/latex": [
       "\\begin{tabular}{r|lllllllllllllllllllllllll}\n",
       " sid & sim & variable & model & pre\\_statement & pre\\_correct & main\\_statement & main\\_correct & CVS\\_context & qual\\_score & ... & use\\_area & use\\_separation & activity\\_order & sim\\_index & similar\\_sim & lab\\_experience & prior\\_number\\_virtual\\_labs & overall.POCC & PC1 & PC2\\\\\n",
       "\\hline\n",
       "\t 10127163   & C          & Area       & ident      & 0          & NA         & 0          & NA         & 2          & 1          & ...        & 1          & 1          & LC         & 2          & 0          & 1          & 1          & 17         & -0.5087537 & 0.1523806 \\\\\n",
       "\t 10127163   & C          & Area       & qual       & 1          & 1          & 1          &  1         & 2          & 1          & ...        & 1          & 1          & LC         & 2          & 0          & 1          & 1          & 17         & -0.5087537 & 0.1523806 \\\\\n",
       "\t 10127163   & C          & Area       & quant      & 1          & 1          & 1          &  1         & 2          & 1          & ...        & 1          & 1          & LC         & 2          & 0          & 1          & 1          & 17         & -0.5087537 & 0.1523806 \\\\\n",
       "\t 10127163   & C          & Separation & ident      & 0          & NA         & 0          & NA         & 2          & 1          & ...        & 1          & 1          & LC         & 2          & 0          & 1          & 1          & 17         & -0.5087537 & 0.1523806 \\\\\n",
       "\t 10127163   & C          & Separation & qual       & 1          & 1          & 1          &  1         & 2          & 1          & ...        & 1          & 1          & LC         & 2          & 0          & 1          & 1          & 17         & -0.5087537 & 0.1523806 \\\\\n",
       "\t 10127163   & C          & Separation & quant      & 1          & 1          & 1          &  1         & 2          & 1          & ...        & 1          & 1          & LC         & 2          & 0          & 1          & 1          & 17         & -0.5087537 & 0.1523806 \\\\\n",
       "\\end{tabular}\n"
      ],
      "text/markdown": [
       "\n",
       "sid | sim | variable | model | pre_statement | pre_correct | main_statement | main_correct | CVS_context | qual_score | ... | use_area | use_separation | activity_order | sim_index | similar_sim | lab_experience | prior_number_virtual_labs | overall.POCC | PC1 | PC2 | \n",
       "|---|---|---|---|---|---|\n",
       "| 10127163   | C          | Area       | ident      | 0          | NA         | 0          | NA         | 2          | 1          | ...        | 1          | 1          | LC         | 2          | 0          | 1          | 1          | 17         | -0.5087537 | 0.1523806  | \n",
       "| 10127163   | C          | Area       | qual       | 1          | 1          | 1          |  1         | 2          | 1          | ...        | 1          | 1          | LC         | 2          | 0          | 1          | 1          | 17         | -0.5087537 | 0.1523806  | \n",
       "| 10127163   | C          | Area       | quant      | 1          | 1          | 1          |  1         | 2          | 1          | ...        | 1          | 1          | LC         | 2          | 0          | 1          | 1          | 17         | -0.5087537 | 0.1523806  | \n",
       "| 10127163   | C          | Separation | ident      | 0          | NA         | 0          | NA         | 2          | 1          | ...        | 1          | 1          | LC         | 2          | 0          | 1          | 1          | 17         | -0.5087537 | 0.1523806  | \n",
       "| 10127163   | C          | Separation | qual       | 1          | 1          | 1          |  1         | 2          | 1          | ...        | 1          | 1          | LC         | 2          | 0          | 1          | 1          | 17         | -0.5087537 | 0.1523806  | \n",
       "| 10127163   | C          | Separation | quant      | 1          | 1          | 1          |  1         | 2          | 1          | ...        | 1          | 1          | LC         | 2          | 0          | 1          | 1          | 17         | -0.5087537 | 0.1523806  | \n",
       "\n",
       "\n"
      ],
      "text/plain": [
       "  sid      sim variable   model pre_statement pre_correct main_statement\n",
       "1 10127163 C   Area       ident 0             NA          0             \n",
       "2 10127163 C   Area       qual  1             1           1             \n",
       "3 10127163 C   Area       quant 1             1           1             \n",
       "4 10127163 C   Separation ident 0             NA          0             \n",
       "5 10127163 C   Separation qual  1             1           1             \n",
       "6 10127163 C   Separation quant 1             1           1             \n",
       "  main_correct CVS_context qual_score ... use_area use_separation\n",
       "1 NA           2           1          ... 1        1             \n",
       "2  1           2           1          ... 1        1             \n",
       "3  1           2           1          ... 1        1             \n",
       "4 NA           2           1          ... 1        1             \n",
       "5  1           2           1          ... 1        1             \n",
       "6  1           2           1          ... 1        1             \n",
       "  activity_order sim_index similar_sim lab_experience prior_number_virtual_labs\n",
       "1 LC             2         0           1              1                        \n",
       "2 LC             2         0           1              1                        \n",
       "3 LC             2         0           1              1                        \n",
       "4 LC             2         0           1              1                        \n",
       "5 LC             2         0           1              1                        \n",
       "6 LC             2         0           1              1                        \n",
       "  overall.POCC PC1        PC2      \n",
       "1 17           -0.5087537 0.1523806\n",
       "2 17           -0.5087537 0.1523806\n",
       "3 17           -0.5087537 0.1523806\n",
       "4 17           -0.5087537 0.1523806\n",
       "5 17           -0.5087537 0.1523806\n",
       "6 17           -0.5087537 0.1523806"
      ]
     },
     "metadata": {},
     "output_type": "display_data"
    }
   ],
   "source": [
    "head(mydata)"
   ]
  },
  {
   "cell_type": "markdown",
   "metadata": {},
   "source": [
    "## Model\n",
    "Model is:\n",
    "\n",
    "main_correct ~  CVS_context*model + variable + pre_statement + pre_correct + sim_index + lab_experience + similar_sim + prior_number_virtual_labs\n",
    "\n",
    "with sid as the student id (8 digit number)\n",
    "\n",
    "All the variables are binary or categorical except for \"CVS_context\" and \"prior_number_virtual_labs\"\n",
    "\n",
    "https://rstudio-pubs-static.s3.amazonaws.com/33653_57fc7b8e5d484c909b615d8633c01d51.html"
   ]
  },
  {
   "cell_type": "markdown",
   "metadata": {},
   "source": [
    "Mixed effects with sid as random effects"
   ]
  },
  {
   "cell_type": "code",
   "execution_count": 56,
   "metadata": {},
   "outputs": [
    {
     "name": "stderr",
     "output_type": "stream",
     "text": [
      "Warning message in checkConv(attr(opt, \"derivs\"), opt$par, ctrl = control$checkConv, :\n",
      "\"unable to evaluate scaled gradient\"Warning message in checkConv(attr(opt, \"derivs\"), opt$par, ctrl = control$checkConv, :\n",
      "\" Hessian is numerically singular: parameters are not uniquely determined\"Warning message in vcov.merMod(object, use.hessian = use.hessian):\n",
      "\"variance-covariance matrix computed from finite-difference Hessian is\n",
      "not positive definite or contains NA values: falling back to var-cov estimated from RX\"Warning message in vcov.merMod(object, correlation = correlation, sigm = sig):\n",
      "\"variance-covariance matrix computed from finite-difference Hessian is\n",
      "not positive definite or contains NA values: falling back to var-cov estimated from RX\""
     ]
    },
    {
     "data": {
      "text/plain": [
       "Generalized linear mixed model fit by maximum likelihood (Adaptive\n",
       "  Gauss-Hermite Quadrature, nAGQ = 10) [glmerMod]\n",
       " Family: binomial  ( logit )\n",
       "Formula: main_correct ~ CVS_context + variable + sim_index + pre_correct +  \n",
       "    lab_experience + similar_sim + prior_number_virtual_labs +      (1 | sid)\n",
       "   Data: lm_data[complete.cases(lm_data), ]\n",
       "Control: glmerControl(optimizer = \"bobyqa\", optCtrl = list(maxfun = 2e+05))\n",
       "\n",
       "     AIC      BIC   logLik deviance df.resid \n",
       "    35.6     58.3     -6.8     13.6       47 \n",
       "\n",
       "Scaled residuals: \n",
       "     Min       1Q   Median       3Q      Max \n",
       "-1.42017  0.00000  0.00002  0.02377  0.85081 \n",
       "\n",
       "Random effects:\n",
       " Groups Name        Variance Std.Dev.\n",
       " sid    (Intercept) 3.253    1.804   \n",
       "Number of obs: 58, groups:  sid, 29\n",
       "\n",
       "Fixed effects:\n",
       "                           Estimate Std. Error z value Pr(>|z|)\n",
       "(Intercept)                   1.750  88067.515   0.000    1.000\n",
       "CVS_context                  -0.772      1.365  -0.566    0.572\n",
       "variableConcentration        14.930  19658.780   0.001    0.999\n",
       "variableSeparation           -3.961      4.433  -0.894    0.372\n",
       "variableWidth                16.208  26381.448   0.001    1.000\n",
       "sim_index2                    5.127      5.571   0.920    0.357\n",
       "pre_correct1                  3.633      4.670   0.778    0.437\n",
       "lab_experience1               8.357  88067.516   0.000    1.000\n",
       "similar_sim1                  2.622  30655.561   0.000    1.000\n",
       "prior_number_virtual_labs    -3.108      2.192  -1.417    0.156\n",
       "\n",
       "Correlation of Fixed Effects:\n",
       "            (Intr) CVS_cn vrblCn vrblSp vrblWd sm_nd2 pr_cr1 lb_xp1 smlr_1\n",
       "CVS_context  0.000                                                        \n",
       "vrblCncntrt -0.104  0.000                                                 \n",
       "variblSprtn  0.000  0.218  0.000                                          \n",
       "variablWdth -0.219  0.000  0.172  0.000                                   \n",
       "sim_index2   0.000 -0.492  0.000 -0.805  0.000                            \n",
       "pre_corrct1  0.000 -0.333  0.000 -0.889  0.000  0.875                     \n",
       "lab_exprnc1 -1.000  0.000  0.104  0.000  0.219  0.000  0.000              \n",
       "similar_sm1  0.102  0.000 -0.501  0.000 -0.324  0.000  0.000 -0.102       \n",
       "prr_nmbr_v_  0.000  0.297  0.000  0.398  0.000 -0.534 -0.463  0.000  0.000\n",
       "convergence code: 0\n",
       "unable to evaluate scaled gradient\n",
       " Hessian is numerically singular: parameters are not uniquely determined\n"
      ]
     },
     "metadata": {},
     "output_type": "display_data"
    }
   ],
   "source": [
    "lm_data = mydata[mydata$model == \"quant\", ]\n",
    "\n",
    "mixed <- glmer(\n",
    "    main_correct\n",
    "    ~  CVS_context + variable + sim_index + pre_correct\n",
    "    + lab_experience + similar_sim + prior_number_virtual_labs + (1 | sid),\n",
    "           data = lm_data[complete.cases(lm_data), ], family = binomial, \n",
    "           control = glmerControl(optimizer=\"bobyqa\",optCtrl=list(maxfun=2e5)), nAGQ = 10)\n",
    "\n",
    "summary(mixed)"
   ]
  },
  {
   "cell_type": "code",
   "execution_count": 57,
   "metadata": {},
   "outputs": [
    {
     "name": "stderr",
     "output_type": "stream",
     "text": [
      "Warning message in checkConv(attr(opt, \"derivs\"), opt$par, ctrl = control$checkConv, :\n",
      "\"Model is nearly unidentifiable: large eigenvalue ratio\n",
      " - Rescale variables?\""
     ]
    },
    {
     "data": {
      "text/plain": [
       "Generalized linear mixed model fit by maximum likelihood (Adaptive\n",
       "  Gauss-Hermite Quadrature, nAGQ = 10) [glmerMod]\n",
       " Family: binomial  ( logit )\n",
       "Formula: main_correct ~ CVS_context + variable + sim_index + pre_correct +  \n",
       "    lab_experience + similar_sim + prior_number_virtual_labs +      (1 | sid)\n",
       "   Data: mydata_sc\n",
       "Control: glmerControl(optimizer = \"bobyqa\", optCtrl = list(maxfun = 2e+05))\n",
       "\n",
       "     AIC      BIC   logLik deviance df.resid \n",
       "   118.8    159.9    -48.4     96.8      300 \n",
       "\n",
       "Scaled residuals: \n",
       "     Min       1Q   Median       3Q      Max \n",
       "-2.66757  0.01725  0.03975  0.07208  0.74085 \n",
       "\n",
       "Random effects:\n",
       " Groups Name        Variance Std.Dev.\n",
       " sid    (Intercept) 10.45    3.233   \n",
       "Number of obs: 311, groups:  sid, 112\n",
       "\n",
       "Fixed effects:\n",
       "                          Estimate Std. Error z value Pr(>|z|)  \n",
       "(Intercept)                21.6778   387.0381   0.056   0.9553  \n",
       "CVS_context                 0.1906     0.6040   0.316   0.7523  \n",
       "variableConcentration       0.1551     1.5454   0.100   0.9201  \n",
       "variableSeparation         -1.4523     1.2595  -1.153   0.2489  \n",
       "variableWidth              -1.6484     1.3521  -1.219   0.2228  \n",
       "sim_index2                  1.4468     0.9958   1.453   0.1463  \n",
       "pre_correct1                2.1055     1.2072   1.744   0.0811 .\n",
       "lab_experience1           -16.7168   387.0373  -0.043   0.9655  \n",
       "similar_sim1                1.5641     1.2949   1.208   0.2271  \n",
       "prior_number_virtual_labs  -0.4076     0.7773  -0.524   0.6001  \n",
       "---\n",
       "Signif. codes:  0 '***' 0.001 '**' 0.01 '*' 0.05 '.' 0.1 ' ' 1\n",
       "\n",
       "Correlation of Fixed Effects:\n",
       "            (Intr) CVS_cn vrblCn vrblSp vrblWd sm_nd2 pr_cr1 lb_xp1 smlr_1\n",
       "CVS_context  0.000                                                        \n",
       "vrblCncntrt -0.001 -0.080                                                 \n",
       "variblSprtn -0.002 -0.107  0.445                                          \n",
       "variablWdth -0.002 -0.084  0.591  0.599                                   \n",
       "sim_index2   0.000 -0.227 -0.139 -0.197 -0.248                            \n",
       "pre_corrct1  0.001  0.075 -0.149 -0.524 -0.339  0.335                     \n",
       "lab_exprnc1 -1.000 -0.001 -0.001 -0.001 -0.001  0.000  0.000              \n",
       "similar_sm1  0.000  0.123 -0.364 -0.095 -0.449  0.050  0.117  0.000       \n",
       "prr_nmbr_v_ -0.002 -0.104  0.054  0.033  0.102 -0.004 -0.014 -0.002 -0.131\n",
       "convergence code: 0\n",
       "Model is nearly unidentifiable: large eigenvalue ratio\n",
       " - Rescale variables?\n"
      ]
     },
     "metadata": {},
     "output_type": "display_data"
    }
   ],
   "source": [
    "numcols <- grep(\"^c\\\\.\",names(mydata))\n",
    "mydata_sc <- mydata\n",
    "mydata_sc[,numcols] <- scale(mydata_sc[,numcols])\n",
    "mixed_sc <- update(mixed,data=mydata_sc)\n",
    "summary(mixed_sc)"
   ]
  },
  {
   "cell_type": "code",
   "execution_count": 58,
   "metadata": {},
   "outputs": [
    {
     "data": {
      "text/html": [
       "3.23300366648954"
      ],
      "text/latex": [
       "3.23300366648954"
      ],
      "text/markdown": [
       "3.23300366648954"
      ],
      "text/plain": [
       "[1] 3.233004"
      ]
     },
     "metadata": {},
     "output_type": "display_data"
    }
   ],
   "source": [
    "tt <- getME(mixed_sc,\"theta\")\n",
    "ll <- getME(mixed_sc,\"lower\")\n",
    "min(tt[ll==0])"
   ]
  },
  {
   "cell_type": "code",
   "execution_count": 59,
   "metadata": {},
   "outputs": [
    {
     "data": {
      "text/html": [
       "0.125952696329322"
      ],
      "text/latex": [
       "0.125952696329322"
      ],
      "text/markdown": [
       "0.125952696329322"
      ],
      "text/plain": [
       "[1] 0.1259527"
      ]
     },
     "metadata": {},
     "output_type": "display_data"
    }
   ],
   "source": [
    "derivs1 <- mixed_sc@optinfo$derivs\n",
    "sc_grad1 <- with(derivs1,solve(Hessian,gradient))\n",
    "max(abs(sc_grad1))"
   ]
  },
  {
   "cell_type": "code",
   "execution_count": 60,
   "metadata": {},
   "outputs": [
    {
     "data": {
      "text/html": [
       "1.97959637176927e-06"
      ],
      "text/latex": [
       "1.97959637176927e-06"
      ],
      "text/markdown": [
       "1.97959637176927e-06"
      ],
      "text/plain": [
       "[1] 1.979596e-06"
      ]
     },
     "metadata": {},
     "output_type": "display_data"
    }
   ],
   "source": [
    "max(pmin(abs(sc_grad1),abs(derivs1$gradient)))"
   ]
  },
  {
   "cell_type": "code",
   "execution_count": 61,
   "metadata": {},
   "outputs": [
    {
     "name": "stderr",
     "output_type": "stream",
     "text": [
      "Warning message in checkConv(attr(opt, \"derivs\"), opt$par, ctrl = control$checkConv, :\n",
      "\"Model failed to converge with max|grad| = 0.330368 (tol = 0.001, component 1)\"Warning message in checkConv(attr(opt, \"derivs\"), opt$par, ctrl = control$checkConv, :\n",
      "\"Model is nearly unidentifiable: large eigenvalue ratio\n",
      " - Rescale variables?\""
     ]
    }
   ],
   "source": [
    "ss <- getME(mixed_sc,c(\"theta\",\"fixef\"))\n",
    "m2 <- update(mixed_sc,start=ss,control=glmerControl(optCtrl=list(maxfun=2e4)))"
   ]
  },
  {
   "cell_type": "code",
   "execution_count": 62,
   "metadata": {},
   "outputs": [
    {
     "name": "stderr",
     "output_type": "stream",
     "text": [
      "Warning message in checkConv(attr(opt, \"derivs\"), opt$par, ctrl = control$checkConv, :\n",
      "\"Model is nearly unidentifiable: large eigenvalue ratio\n",
      " - Rescale variables?\""
     ]
    }
   ],
   "source": [
    "m3 <- update(mixed_sc,start=ss,control=glmerControl(optimizer=\"bobyqa\",\n",
    "                            optCtrl=list(maxfun=2e5)))"
   ]
  },
  {
   "cell_type": "markdown",
   "metadata": {},
   "source": [
    "## other tstuff"
   ]
  },
  {
   "cell_type": "markdown",
   "metadata": {},
   "source": [
    "A bunch of relevels"
   ]
  },
  {
   "cell_type": "code",
   "execution_count": null,
   "metadata": {},
   "outputs": [],
   "source": [
    "mydata$variable <- relevel(mydata$variable, \"Concentration\")\n",
    "\n",
    "mixed <- glmer(\n",
    "    CVS_graph_3 \n",
    "    ~ pre + variable + sim_index +level_experience_sims \n",
    "    + experience_undergrad_labs + used_similar_sim + (1 | sid),\n",
    "           data = mydata, family = binomial, \n",
    "           control = glmerControl(optimizer = \"bobyqa\"), nAGQ = 10)\n",
    "\n",
    "summary(mixed)"
   ]
  },
  {
   "cell_type": "code",
   "execution_count": null,
   "metadata": {},
   "outputs": [],
   "source": [
    "mydata$variable <- relevel(mydata$variable, \"Separation\")\n",
    "\n",
    "mixed <- glmer(\n",
    "    CVS_graph_3 \n",
    "    ~ pre + variable + sim_index +level_experience_sims \n",
    "    + experience_undergrad_labs + used_similar_sim + (1 | sid),\n",
    "           data = mydata, family = binomial, \n",
    "           control = glmerControl(optimizer = \"bobyqa\"), nAGQ = 10)\n",
    "\n",
    "summary(mixed)"
   ]
  },
  {
   "cell_type": "code",
   "execution_count": null,
   "metadata": {},
   "outputs": [],
   "source": [
    "mydata$variable <- relevel(mydata$variable, \"Width\")\n",
    "\n",
    "mixed <- glmer(\n",
    "    CVS_graph_3 \n",
    "    ~ pre + variable + sim_index +level_experience_sims \n",
    "    + experience_undergrad_labs + used_similar_sim + (1 | sid),\n",
    "           data = mydata, family = binomial, \n",
    "           control = glmerControl(optimizer = \"bobyqa\"), nAGQ = 10)\n",
    "\n",
    "summary(mixed)"
   ]
  }
 ],
 "metadata": {
  "anaconda-cloud": {},
  "kernelspec": {
   "display_name": "R",
   "language": "R",
   "name": "r"
  },
  "language_info": {
   "codemirror_mode": "r",
   "file_extension": ".r",
   "mimetype": "text/x-r-source",
   "name": "R",
   "pygments_lexer": "r",
   "version": "3.4.3"
  },
  "toc": {
   "nav_menu": {},
   "number_sections": true,
   "sideBar": true,
   "skip_h1_title": false,
   "toc_cell": false,
   "toc_position": {},
   "toc_section_display": "block",
   "toc_window_display": false
  }
 },
 "nbformat": 4,
 "nbformat_minor": 1
}
