{
 "cells": [
  {
   "cell_type": "markdown",
   "metadata": {},
   "source": [
    "Load libraries"
   ]
  },
  {
   "cell_type": "code",
   "execution_count": 35,
   "metadata": {},
   "outputs": [],
   "source": [
    "require(ggplot2)\n",
    "#require(GGally)\n",
    "require(reshape2)\n",
    "require(lme4)\n",
    "require(compiler)\n",
    "require(parallel)\n",
    "require(boot)\n",
    "# require(aod)\n",
    "require(dplyr)"
   ]
  },
  {
   "cell_type": "markdown",
   "metadata": {},
   "source": [
    "# Load data and set factors"
   ]
  },
  {
   "cell_type": "code",
   "execution_count": 36,
   "metadata": {},
   "outputs": [],
   "source": [
    "mydata <- read.csv(\"C:\\\\Users\\\\Sarah\\\\Documents\\\\Personal Content\\\\Lab_study_data\\\\all_massaged_data\\\\dataframe_all_factors_for_analysis.txt\",sep = '\\t')\n",
    "# # SID is the student number\n",
    "mydata$sid <- factor(mydata$sid)\n",
    "mydata$sim_index <- factor(mydata$sim_index)\n",
    "mydata$lab_experience <- factor(mydata$lab_experience)\n",
    "mydata$similar_sim <- factor(mydata$similar_sim)\n",
    "mydata$CVS_graph <- factor(mydata$cvs_graph)\n",
    "mydata$CVS_table <- factor(mydata$cvs_table)\n",
    "# mydata$pre <- factor(mydata$pre)\n",
    "# mydata$main <- factor(mydata$main)"
   ]
  },
  {
   "cell_type": "code",
   "execution_count": 37,
   "metadata": {},
   "outputs": [
    {
     "data": {
      "text/html": [
       "<table>\n",
       "<thead><tr><th scope=col>sid</th><th scope=col>sim</th><th scope=col>variable</th><th scope=col>pre</th><th scope=col>main</th><th scope=col>cvs_graph</th><th scope=col>cvs_table</th><th scope=col>qual_score</th><th scope=col>quant_score</th><th scope=col>activity_order</th><th scope=col>...</th><th scope=col>CVS_context</th><th scope=col>use_table</th><th scope=col>use_graph</th><th scope=col>use_concentration</th><th scope=col>use_width</th><th scope=col>use_area</th><th scope=col>use_separation</th><th scope=col>use_all_vars</th><th scope=col>CVS_graph</th><th scope=col>CVS_table</th></tr></thead>\n",
       "<tbody>\n",
       "\t<tr><td>10127163     </td><td>L            </td><td>Concentration</td><td>0            </td><td>2            </td><td>1            </td><td>1            </td><td>1            </td><td>1            </td><td>LC           </td><td>...          </td><td>2            </td><td>1            </td><td>1            </td><td>1            </td><td>1            </td><td>1            </td><td>1            </td><td>4            </td><td>1            </td><td>1            </td></tr>\n",
       "\t<tr><td>10127163     </td><td>L            </td><td>Width        </td><td>0            </td><td>2            </td><td>1            </td><td>1            </td><td>1            </td><td>1            </td><td>LC           </td><td>...          </td><td>2            </td><td>1            </td><td>1            </td><td>1            </td><td>1            </td><td>1            </td><td>1            </td><td>4            </td><td>1            </td><td>1            </td></tr>\n",
       "\t<tr><td>10127163     </td><td>C            </td><td>Area         </td><td>2            </td><td>2            </td><td>1            </td><td>1            </td><td>1            </td><td>1            </td><td>LC           </td><td>...          </td><td>2            </td><td>1            </td><td>1            </td><td>1            </td><td>1            </td><td>1            </td><td>1            </td><td>4            </td><td>1            </td><td>1            </td></tr>\n",
       "\t<tr><td>10127163     </td><td>C            </td><td>Separation   </td><td>2            </td><td>2            </td><td>1            </td><td>1            </td><td>1            </td><td>1            </td><td>LC           </td><td>...          </td><td>2            </td><td>1            </td><td>1            </td><td>1            </td><td>1            </td><td>1            </td><td>1            </td><td>4            </td><td>1            </td><td>1            </td></tr>\n",
       "\t<tr><td>10232160     </td><td>L            </td><td>Concentration</td><td>0            </td><td>0            </td><td>1            </td><td>1            </td><td>1            </td><td>1            </td><td>LC           </td><td>...          </td><td>2            </td><td>1            </td><td>1            </td><td>1            </td><td>1            </td><td>1            </td><td>1            </td><td>4            </td><td>1            </td><td>1            </td></tr>\n",
       "\t<tr><td>10232160     </td><td>L            </td><td>Width        </td><td>0            </td><td>0            </td><td>0            </td><td>0            </td><td>1            </td><td>1            </td><td>LC           </td><td>...          </td><td>0            </td><td>1            </td><td>1            </td><td>1            </td><td>1            </td><td>1            </td><td>1            </td><td>4            </td><td>0            </td><td>0            </td></tr>\n",
       "</tbody>\n",
       "</table>\n"
      ],
      "text/latex": [
       "\\begin{tabular}{r|lllllllllllllllllllllllllllll}\n",
       " sid & sim & variable & pre & main & cvs\\_graph & cvs\\_table & qual\\_score & quant\\_score & activity\\_order & ... & CVS\\_context & use\\_table & use\\_graph & use\\_concentration & use\\_width & use\\_area & use\\_separation & use\\_all\\_vars & CVS\\_graph & CVS\\_table\\\\\n",
       "\\hline\n",
       "\t 10127163      & L             & Concentration & 0             & 2             & 1             & 1             & 1             & 1             & LC            & ...           & 2             & 1             & 1             & 1             & 1             & 1             & 1             & 4             & 1             & 1            \\\\\n",
       "\t 10127163      & L             & Width         & 0             & 2             & 1             & 1             & 1             & 1             & LC            & ...           & 2             & 1             & 1             & 1             & 1             & 1             & 1             & 4             & 1             & 1            \\\\\n",
       "\t 10127163      & C             & Area          & 2             & 2             & 1             & 1             & 1             & 1             & LC            & ...           & 2             & 1             & 1             & 1             & 1             & 1             & 1             & 4             & 1             & 1            \\\\\n",
       "\t 10127163      & C             & Separation    & 2             & 2             & 1             & 1             & 1             & 1             & LC            & ...           & 2             & 1             & 1             & 1             & 1             & 1             & 1             & 4             & 1             & 1            \\\\\n",
       "\t 10232160      & L             & Concentration & 0             & 0             & 1             & 1             & 1             & 1             & LC            & ...           & 2             & 1             & 1             & 1             & 1             & 1             & 1             & 4             & 1             & 1            \\\\\n",
       "\t 10232160      & L             & Width         & 0             & 0             & 0             & 0             & 1             & 1             & LC            & ...           & 0             & 1             & 1             & 1             & 1             & 1             & 1             & 4             & 0             & 0            \\\\\n",
       "\\end{tabular}\n"
      ],
      "text/markdown": [
       "\n",
       "sid | sim | variable | pre | main | cvs_graph | cvs_table | qual_score | quant_score | activity_order | ... | CVS_context | use_table | use_graph | use_concentration | use_width | use_area | use_separation | use_all_vars | CVS_graph | CVS_table | \n",
       "|---|---|---|---|---|---|\n",
       "| 10127163      | L             | Concentration | 0             | 2             | 1             | 1             | 1             | 1             | LC            | ...           | 2             | 1             | 1             | 1             | 1             | 1             | 1             | 4             | 1             | 1             | \n",
       "| 10127163      | L             | Width         | 0             | 2             | 1             | 1             | 1             | 1             | LC            | ...           | 2             | 1             | 1             | 1             | 1             | 1             | 1             | 4             | 1             | 1             | \n",
       "| 10127163      | C             | Area          | 2             | 2             | 1             | 1             | 1             | 1             | LC            | ...           | 2             | 1             | 1             | 1             | 1             | 1             | 1             | 4             | 1             | 1             | \n",
       "| 10127163      | C             | Separation    | 2             | 2             | 1             | 1             | 1             | 1             | LC            | ...           | 2             | 1             | 1             | 1             | 1             | 1             | 1             | 4             | 1             | 1             | \n",
       "| 10232160      | L             | Concentration | 0             | 0             | 1             | 1             | 1             | 1             | LC            | ...           | 2             | 1             | 1             | 1             | 1             | 1             | 1             | 4             | 1             | 1             | \n",
       "| 10232160      | L             | Width         | 0             | 0             | 0             | 0             | 1             | 1             | LC            | ...           | 0             | 1             | 1             | 1             | 1             | 1             | 1             | 4             | 0             | 0             | \n",
       "\n",
       "\n"
      ],
      "text/plain": [
       "  sid      sim variable      pre main cvs_graph cvs_table qual_score\n",
       "1 10127163 L   Concentration 0   2    1         1         1         \n",
       "2 10127163 L   Width         0   2    1         1         1         \n",
       "3 10127163 C   Area          2   2    1         1         1         \n",
       "4 10127163 C   Separation    2   2    1         1         1         \n",
       "5 10232160 L   Concentration 0   0    1         1         1         \n",
       "6 10232160 L   Width         0   0    0         0         1         \n",
       "  quant_score activity_order ... CVS_context use_table use_graph\n",
       "1 1           LC             ... 2           1         1        \n",
       "2 1           LC             ... 2           1         1        \n",
       "3 1           LC             ... 2           1         1        \n",
       "4 1           LC             ... 2           1         1        \n",
       "5 1           LC             ... 2           1         1        \n",
       "6 1           LC             ... 0           1         1        \n",
       "  use_concentration use_width use_area use_separation use_all_vars CVS_graph\n",
       "1 1                 1         1        1              4            1        \n",
       "2 1                 1         1        1              4            1        \n",
       "3 1                 1         1        1              4            1        \n",
       "4 1                 1         1        1              4            1        \n",
       "5 1                 1         1        1              4            1        \n",
       "6 1                 1         1        1              4            0        \n",
       "  CVS_table\n",
       "1 1        \n",
       "2 1        \n",
       "3 1        \n",
       "4 1        \n",
       "5 1        \n",
       "6 0        "
      ]
     },
     "metadata": {},
     "output_type": "display_data"
    },
    {
     "data": {
      "text/html": [
       "<ol class=list-inline>\n",
       "\t<li>'sid'</li>\n",
       "\t<li>'sim'</li>\n",
       "\t<li>'variable'</li>\n",
       "\t<li>'pre'</li>\n",
       "\t<li>'main'</li>\n",
       "\t<li>'cvs_graph'</li>\n",
       "\t<li>'cvs_table'</li>\n",
       "\t<li>'qual_score'</li>\n",
       "\t<li>'quant_score'</li>\n",
       "\t<li>'activity_order'</li>\n",
       "\t<li>'sim_index'</li>\n",
       "\t<li>'similar_sim'</li>\n",
       "\t<li>'lab_experience'</li>\n",
       "\t<li>'prior_number_virtual_labs'</li>\n",
       "\t<li>'overall.POCC'</li>\n",
       "\t<li>'PC1'</li>\n",
       "\t<li>'PC2'</li>\n",
       "\t<li>'pre_with_ident'</li>\n",
       "\t<li>'main_with_ident'</li>\n",
       "\t<li>'CVS_context'</li>\n",
       "\t<li>'use_table'</li>\n",
       "\t<li>'use_graph'</li>\n",
       "\t<li>'use_concentration'</li>\n",
       "\t<li>'use_width'</li>\n",
       "\t<li>'use_area'</li>\n",
       "\t<li>'use_separation'</li>\n",
       "\t<li>'use_all_vars'</li>\n",
       "\t<li>'CVS_graph'</li>\n",
       "\t<li>'CVS_table'</li>\n",
       "</ol>\n"
      ],
      "text/latex": [
       "\\begin{enumerate*}\n",
       "\\item 'sid'\n",
       "\\item 'sim'\n",
       "\\item 'variable'\n",
       "\\item 'pre'\n",
       "\\item 'main'\n",
       "\\item 'cvs\\_graph'\n",
       "\\item 'cvs\\_table'\n",
       "\\item 'qual\\_score'\n",
       "\\item 'quant\\_score'\n",
       "\\item 'activity\\_order'\n",
       "\\item 'sim\\_index'\n",
       "\\item 'similar\\_sim'\n",
       "\\item 'lab\\_experience'\n",
       "\\item 'prior\\_number\\_virtual\\_labs'\n",
       "\\item 'overall.POCC'\n",
       "\\item 'PC1'\n",
       "\\item 'PC2'\n",
       "\\item 'pre\\_with\\_ident'\n",
       "\\item 'main\\_with\\_ident'\n",
       "\\item 'CVS\\_context'\n",
       "\\item 'use\\_table'\n",
       "\\item 'use\\_graph'\n",
       "\\item 'use\\_concentration'\n",
       "\\item 'use\\_width'\n",
       "\\item 'use\\_area'\n",
       "\\item 'use\\_separation'\n",
       "\\item 'use\\_all\\_vars'\n",
       "\\item 'CVS\\_graph'\n",
       "\\item 'CVS\\_table'\n",
       "\\end{enumerate*}\n"
      ],
      "text/markdown": [
       "1. 'sid'\n",
       "2. 'sim'\n",
       "3. 'variable'\n",
       "4. 'pre'\n",
       "5. 'main'\n",
       "6. 'cvs_graph'\n",
       "7. 'cvs_table'\n",
       "8. 'qual_score'\n",
       "9. 'quant_score'\n",
       "10. 'activity_order'\n",
       "11. 'sim_index'\n",
       "12. 'similar_sim'\n",
       "13. 'lab_experience'\n",
       "14. 'prior_number_virtual_labs'\n",
       "15. 'overall.POCC'\n",
       "16. 'PC1'\n",
       "17. 'PC2'\n",
       "18. 'pre_with_ident'\n",
       "19. 'main_with_ident'\n",
       "20. 'CVS_context'\n",
       "21. 'use_table'\n",
       "22. 'use_graph'\n",
       "23. 'use_concentration'\n",
       "24. 'use_width'\n",
       "25. 'use_area'\n",
       "26. 'use_separation'\n",
       "27. 'use_all_vars'\n",
       "28. 'CVS_graph'\n",
       "29. 'CVS_table'\n",
       "\n",
       "\n"
      ],
      "text/plain": [
       " [1] \"sid\"                       \"sim\"                      \n",
       " [3] \"variable\"                  \"pre\"                      \n",
       " [5] \"main\"                      \"cvs_graph\"                \n",
       " [7] \"cvs_table\"                 \"qual_score\"               \n",
       " [9] \"quant_score\"               \"activity_order\"           \n",
       "[11] \"sim_index\"                 \"similar_sim\"              \n",
       "[13] \"lab_experience\"            \"prior_number_virtual_labs\"\n",
       "[15] \"overall.POCC\"              \"PC1\"                      \n",
       "[17] \"PC2\"                       \"pre_with_ident\"           \n",
       "[19] \"main_with_ident\"           \"CVS_context\"              \n",
       "[21] \"use_table\"                 \"use_graph\"                \n",
       "[23] \"use_concentration\"         \"use_width\"                \n",
       "[25] \"use_area\"                  \"use_separation\"           \n",
       "[27] \"use_all_vars\"              \"CVS_graph\"                \n",
       "[29] \"CVS_table\"                "
      ]
     },
     "metadata": {},
     "output_type": "display_data"
    }
   ],
   "source": [
    "head(mydata)\n",
    "colnames(mydata)"
   ]
  },
  {
   "cell_type": "markdown",
   "metadata": {
    "hideCode": true,
    "hidePrompt": true
   },
   "source": [
    "## Stat model 1: Predicting main model scores"
   ]
  },
  {
   "cell_type": "markdown",
   "metadata": {},
   "source": [
    "We try to predict the type of model in the main worksheet (0,1 or 2 for neither, qual or quant). To do so, we have 10 independant variables:\n",
    "* sim_index (1 or 2, wither it was student's 1st or 2nd activity)\n",
    "* variable (thus don't include sim)\n",
    "* CVS_graph (0 or 1)\n",
    "* CVS_table (0 or 1)\n",
    "* pre (0,1,2)\n",
    "* student attributes: lab_experience, similar_sim, prior_number_virtual_labs, attitude components\n",
    "\n",
    "We do so using a repeated measures anova where we have repeat measures of \"variable\" by student."
   ]
  },
  {
   "cell_type": "markdown",
   "metadata": {},
   "source": [
    "### Filtering data\n",
    "**Should we remove students with max pre for a certain variables???**"
   ]
  },
  {
   "cell_type": "markdown",
   "metadata": {},
   "source": [
    "### Results"
   ]
  },
  {
   "cell_type": "code",
   "execution_count": 38,
   "metadata": {},
   "outputs": [
    {
     "data": {
      "text/plain": [
       "\n",
       "Error: sid\n",
       "                           Df Sum Sq Mean Sq F value   Pr(>F)    \n",
       "cvs_table                   1  21.10  21.101  31.621 1.01e-07 ***\n",
       "cvs_graph                   1   2.83   2.825   4.234   0.0415 *  \n",
       "pre                         1  12.57  12.571  18.839 2.74e-05 ***\n",
       "lab_experience              1   0.23   0.233   0.350   0.5551    \n",
       "similar_sim                 1   0.30   0.302   0.452   0.5024    \n",
       "prior_number_virtual_labs   1   0.20   0.204   0.306   0.5809    \n",
       "overall.POCC                1   0.34   0.342   0.513   0.4751    \n",
       "PC1                         1   0.02   0.019   0.029   0.8658    \n",
       "PC2                         1   0.58   0.584   0.874   0.3514    \n",
       "Residuals                 137  91.42   0.667                     \n",
       "---\n",
       "Signif. codes:  0 '***' 0.001 '**' 0.01 '*' 0.05 '.' 0.1 ' ' 1\n",
       "\n",
       "Error: sid:variable\n",
       "             Df Sum Sq Mean Sq F value   Pr(>F)    \n",
       "cvs_table     1   2.84   2.841  12.470 0.000458 ***\n",
       "cvs_graph     1   4.23   4.231  18.573 2.03e-05 ***\n",
       "variable      3   2.00   0.667   2.926 0.033535 *  \n",
       "sim_index     1   2.78   2.777  12.190 0.000530 ***\n",
       "pre           1   0.51   0.506   2.223 0.136717    \n",
       "similar_sim   1   0.00   0.001   0.005 0.945186    \n",
       "Residuals   433  98.64   0.228                     \n",
       "---\n",
       "Signif. codes:  0 '***' 0.001 '**' 0.01 '*' 0.05 '.' 0.1 ' ' 1"
      ]
     },
     "metadata": {},
     "output_type": "display_data"
    }
   ],
   "source": [
    "am1 <- aov(main\n",
    "    ~  cvs_table + cvs_graph + variable + sim_index + pre\n",
    "    + lab_experience + similar_sim + prior_number_virtual_labs + overall.POCC\n",
    "    +  PC1 + PC2 + Error(sid/variable), data=mydata)\n",
    "summary(am1)"
   ]
  },
  {
   "cell_type": "markdown",
   "metadata": {},
   "source": [
    "We see that the variance from having repeated measures for each student (first table) has been removed from the overall model error and thus separated in the output.\n",
    "\n",
    "Looking the second table we notice that both cvs are significant, cvs_graph more significant than cvs_table, variable is significant and so is sim_index.\n",
    "\n",
    "eta squares, and post hoc test are coming!"
   ]
  },
  {
   "cell_type": "markdown",
   "metadata": {},
   "source": [
    "## Stat model 2: Predicting transfer data"
   ]
  },
  {
   "cell_type": "code",
   "execution_count": 39,
   "metadata": {},
   "outputs": [
    {
     "data": {
      "text/plain": [
       "\n",
       "Error: sid\n",
       "                           Df Sum Sq Mean Sq F value Pr(>F)  \n",
       "cvs_table                   1   0.05  0.0542   0.130 0.7195  \n",
       "cvs_graph                   1   2.04  2.0383   4.875 0.0289 *\n",
       "pre                         1   1.58  1.5804   3.780 0.0539 .\n",
       "lab_experience              1   0.06  0.0646   0.154 0.6949  \n",
       "similar_sim                 1   0.62  0.6225   1.489 0.2245  \n",
       "prior_number_virtual_labs   1   2.11  2.1087   5.044 0.0263 *\n",
       "overall.POCC                1   0.19  0.1877   0.449 0.5040  \n",
       "PC1                         1   0.05  0.0549   0.131 0.7177  \n",
       "PC2                         1   0.43  0.4314   1.032 0.3115  \n",
       "Residuals                 137  57.28  0.4181                 \n",
       "---\n",
       "Signif. codes:  0 '***' 0.001 '**' 0.01 '*' 0.05 '.' 0.1 ' ' 1\n",
       "\n",
       "Error: sid:variable\n",
       "             Df Sum Sq Mean Sq F value Pr(>F)  \n",
       "cvs_table     1   0.06  0.0557   0.410 0.5222  \n",
       "cvs_graph     1   0.24  0.2397   1.766 0.1845  \n",
       "variable      3   1.35  0.4512   3.325 0.0197 *\n",
       "sim_index     1   0.24  0.2440   1.798 0.1807  \n",
       "pre           1   0.49  0.4863   3.583 0.0590 .\n",
       "similar_sim   1   0.86  0.8561   6.308 0.0124 *\n",
       "Residuals   433  58.76  0.1357                 \n",
       "---\n",
       "Signif. codes:  0 '***' 0.001 '**' 0.01 '*' 0.05 '.' 0.1 ' ' 1"
      ]
     },
     "metadata": {},
     "output_type": "display_data"
    }
   ],
   "source": [
    "am2 <- aov(quant_score\n",
    "    ~  cvs_table + cvs_graph + variable + sim_index + pre\n",
    "    + lab_experience + similar_sim + prior_number_virtual_labs + overall.POCC\n",
    "    +  PC1 + PC2 + Error(sid/variable), data=mydata)\n",
    "summary(am2)"
   ]
  },
  {
   "cell_type": "markdown",
   "metadata": {},
   "source": [
    "As expected, CVS doesn't predict quant transfer scores.\n",
    "\n",
    "Post hoc by variable and similar sim (weither students had worked with a similar sim before) coming soon."
   ]
  },
  {
   "cell_type": "markdown",
   "metadata": {
    "hideCode": true,
    "hidePrompt": true
   },
   "source": [
    "## Stat model 3: Predicting the use of CVS"
   ]
  },
  {
   "cell_type": "markdown",
   "metadata": {},
   "source": [
    "We need to use GEE (generalized estimating equations) for our logistical model with repeated measures.\n",
    "\n",
    "**coming soon!**"
   ]
  },
  {
   "cell_type": "code",
   "execution_count": 40,
   "metadata": {},
   "outputs": [
    {
     "ename": "ERROR",
     "evalue": "Error in load(gee): object 'gee' not found\n",
     "output_type": "error",
     "traceback": [
      "Error in load(gee): object 'gee' not found\nTraceback:\n",
      "1. load(gee)"
     ]
    }
   ],
   "source": [
    "load(gee)"
   ]
  },
  {
   "cell_type": "code",
   "execution_count": null,
   "metadata": {},
   "outputs": [],
   "source": [
    "gm1 <- gee(cvs_table ~ variable + sim_index + pre\n",
    "    + lab_experience + similar_sim + prior_number_virtual_labs + overall.POCC\n",
    "    +  PC1 + PC2, id=sid, data=mydata)\n",
    "summary(gm1)"
   ]
  },
  {
   "cell_type": "code",
   "execution_count": null,
   "metadata": {},
   "outputs": [],
   "source": [
    "gm2 <- gee(cvs_graph ~ variable + sim_index + pre\n",
    "    + lab_experience + similar_sim + prior_number_virtual_labs + overall.POCC\n",
    "    +  PC1 + PC2, id=sid, data=mydata)\n",
    "summary(gm2)"
   ]
  }
 ],
 "metadata": {
  "anaconda-cloud": {},
  "kernelspec": {
   "display_name": "R",
   "language": "R",
   "name": "ir"
  },
  "language_info": {
   "codemirror_mode": "r",
   "file_extension": ".r",
   "mimetype": "text/x-r-source",
   "name": "R",
   "pygments_lexer": "r",
   "version": "3.4.3"
  },
  "toc": {
   "nav_menu": {},
   "number_sections": true,
   "sideBar": true,
   "skip_h1_title": false,
   "toc_cell": false,
   "toc_position": {},
   "toc_section_display": "block",
   "toc_window_display": false
  }
 },
 "nbformat": 4,
 "nbformat_minor": 1
}
