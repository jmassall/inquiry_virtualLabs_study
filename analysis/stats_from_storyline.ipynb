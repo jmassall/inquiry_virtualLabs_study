{
 "cells": [
  {
   "cell_type": "markdown",
   "metadata": {},
   "source": [
    "Load libraries"
   ]
  },
  {
   "cell_type": "code",
   "execution_count": 1,
   "metadata": {},
   "outputs": [
    {
     "name": "stderr",
     "output_type": "stream",
     "text": [
      "Loading required package: ggplot2\n",
      "Warning message:\n",
      "\"package 'ggplot2' was built under R version 3.4.4\"Loading required package: reshape2\n",
      "Warning message:\n",
      "\"package 'reshape2' was built under R version 3.4.4\"Loading required package: lme4\n",
      "Warning message:\n",
      "\"package 'lme4' was built under R version 3.4.4\"Loading required package: Matrix\n",
      "Loading required package: compiler\n",
      "Loading required package: parallel\n",
      "Loading required package: car\n",
      "Loading required package: boot\n",
      "\n",
      "Attaching package: 'boot'\n",
      "\n",
      "The following object is masked from 'package:car':\n",
      "\n",
      "    logit\n",
      "\n",
      "Loading required package: dplyr\n",
      "\n",
      "Attaching package: 'dplyr'\n",
      "\n",
      "The following object is masked from 'package:car':\n",
      "\n",
      "    recode\n",
      "\n",
      "The following objects are masked from 'package:stats':\n",
      "\n",
      "    filter, lag\n",
      "\n",
      "The following objects are masked from 'package:base':\n",
      "\n",
      "    intersect, setdiff, setequal, union\n",
      "\n"
     ]
    }
   ],
   "source": [
    "require(ggplot2)\n",
    "require(reshape2)\n",
    "require(lme4)\n",
    "require(compiler)\n",
    "require(parallel)\n",
    "require(car)\n",
    "require(boot)\n",
    "require(dplyr)"
   ]
  },
  {
   "cell_type": "markdown",
   "metadata": {},
   "source": [
    "# Load data and set factors"
   ]
  },
  {
   "cell_type": "code",
   "execution_count": 2,
   "metadata": {},
   "outputs": [],
   "source": [
    "mydata <- read.csv(\"C:\\\\Users\\\\Sarah\\\\Documents\\\\Personal Content\\\\Lab_study_data\\\\all_massaged_data\\\\dataframe_all_factors_for_analysis.txt\",sep = '\\t')\n",
    "# # SID is the student number\n",
    "mydata$sid <- factor(mydata$sid)\n",
    "mydata$sim_index <- factor(mydata$sim_index)\n",
    "mydata$lab_experience <- factor(mydata$lab_experience)\n",
    "mydata$similar_sim <- factor(mydata$similar_sim)\n",
    "mydata$CVS_graph <- factor(mydata$cvs_graph)\n",
    "mydata$CVS_table <- factor(mydata$cvs_table)\n",
    "# mydata$pre <- factor(mydata$pre)\n",
    "# mydata$main <- factor(mydata$main)"
   ]
  },
  {
   "cell_type": "code",
   "execution_count": 3,
   "metadata": {},
   "outputs": [
    {
     "data": {
      "text/html": [
       "<table>\n",
       "<thead><tr><th scope=col>sid</th><th scope=col>sim</th><th scope=col>variable</th><th scope=col>pre</th><th scope=col>main</th><th scope=col>cvs_graph</th><th scope=col>cvs_table</th><th scope=col>qual_score</th><th scope=col>quant_score</th><th scope=col>activity_order</th><th scope=col>...</th><th scope=col>CVS_context</th><th scope=col>use_table</th><th scope=col>use_graph</th><th scope=col>use_concentration</th><th scope=col>use_width</th><th scope=col>use_area</th><th scope=col>use_separation</th><th scope=col>use_all_vars</th><th scope=col>CVS_graph</th><th scope=col>CVS_table</th></tr></thead>\n",
       "<tbody>\n",
       "\t<tr><td>10127163     </td><td>L            </td><td>Concentration</td><td>0            </td><td>2            </td><td>1            </td><td>1            </td><td>1            </td><td>1            </td><td>LC           </td><td>...          </td><td>2            </td><td>1            </td><td>1            </td><td>1            </td><td>1            </td><td>1            </td><td>1            </td><td>4            </td><td>1            </td><td>1            </td></tr>\n",
       "\t<tr><td>10127163     </td><td>L            </td><td>Width        </td><td>0            </td><td>2            </td><td>1            </td><td>1            </td><td>1            </td><td>1            </td><td>LC           </td><td>...          </td><td>2            </td><td>1            </td><td>1            </td><td>1            </td><td>1            </td><td>1            </td><td>1            </td><td>4            </td><td>1            </td><td>1            </td></tr>\n",
       "\t<tr><td>10127163     </td><td>C            </td><td>Area         </td><td>2            </td><td>2            </td><td>1            </td><td>1            </td><td>1            </td><td>1            </td><td>LC           </td><td>...          </td><td>2            </td><td>1            </td><td>1            </td><td>1            </td><td>1            </td><td>1            </td><td>1            </td><td>4            </td><td>1            </td><td>1            </td></tr>\n",
       "\t<tr><td>10127163     </td><td>C            </td><td>Separation   </td><td>2            </td><td>2            </td><td>1            </td><td>1            </td><td>1            </td><td>1            </td><td>LC           </td><td>...          </td><td>2            </td><td>1            </td><td>1            </td><td>1            </td><td>1            </td><td>1            </td><td>1            </td><td>4            </td><td>1            </td><td>1            </td></tr>\n",
       "\t<tr><td>10232160     </td><td>L            </td><td>Concentration</td><td>0            </td><td>0            </td><td>1            </td><td>1            </td><td>1            </td><td>1            </td><td>LC           </td><td>...          </td><td>2            </td><td>1            </td><td>1            </td><td>1            </td><td>1            </td><td>1            </td><td>1            </td><td>4            </td><td>1            </td><td>1            </td></tr>\n",
       "\t<tr><td>10232160     </td><td>L            </td><td>Width        </td><td>0            </td><td>0            </td><td>0            </td><td>0            </td><td>1            </td><td>1            </td><td>LC           </td><td>...          </td><td>0            </td><td>1            </td><td>1            </td><td>1            </td><td>1            </td><td>1            </td><td>1            </td><td>4            </td><td>0            </td><td>0            </td></tr>\n",
       "</tbody>\n",
       "</table>\n"
      ],
      "text/latex": [
       "\\begin{tabular}{r|lllllllllllllllllllllllllllll}\n",
       " sid & sim & variable & pre & main & cvs\\_graph & cvs\\_table & qual\\_score & quant\\_score & activity\\_order & ... & CVS\\_context & use\\_table & use\\_graph & use\\_concentration & use\\_width & use\\_area & use\\_separation & use\\_all\\_vars & CVS\\_graph & CVS\\_table\\\\\n",
       "\\hline\n",
       "\t 10127163      & L             & Concentration & 0             & 2             & 1             & 1             & 1             & 1             & LC            & ...           & 2             & 1             & 1             & 1             & 1             & 1             & 1             & 4             & 1             & 1            \\\\\n",
       "\t 10127163      & L             & Width         & 0             & 2             & 1             & 1             & 1             & 1             & LC            & ...           & 2             & 1             & 1             & 1             & 1             & 1             & 1             & 4             & 1             & 1            \\\\\n",
       "\t 10127163      & C             & Area          & 2             & 2             & 1             & 1             & 1             & 1             & LC            & ...           & 2             & 1             & 1             & 1             & 1             & 1             & 1             & 4             & 1             & 1            \\\\\n",
       "\t 10127163      & C             & Separation    & 2             & 2             & 1             & 1             & 1             & 1             & LC            & ...           & 2             & 1             & 1             & 1             & 1             & 1             & 1             & 4             & 1             & 1            \\\\\n",
       "\t 10232160      & L             & Concentration & 0             & 0             & 1             & 1             & 1             & 1             & LC            & ...           & 2             & 1             & 1             & 1             & 1             & 1             & 1             & 4             & 1             & 1            \\\\\n",
       "\t 10232160      & L             & Width         & 0             & 0             & 0             & 0             & 1             & 1             & LC            & ...           & 0             & 1             & 1             & 1             & 1             & 1             & 1             & 4             & 0             & 0            \\\\\n",
       "\\end{tabular}\n"
      ],
      "text/markdown": [
       "\n",
       "sid | sim | variable | pre | main | cvs_graph | cvs_table | qual_score | quant_score | activity_order | ... | CVS_context | use_table | use_graph | use_concentration | use_width | use_area | use_separation | use_all_vars | CVS_graph | CVS_table | \n",
       "|---|---|---|---|---|---|\n",
       "| 10127163      | L             | Concentration | 0             | 2             | 1             | 1             | 1             | 1             | LC            | ...           | 2             | 1             | 1             | 1             | 1             | 1             | 1             | 4             | 1             | 1             | \n",
       "| 10127163      | L             | Width         | 0             | 2             | 1             | 1             | 1             | 1             | LC            | ...           | 2             | 1             | 1             | 1             | 1             | 1             | 1             | 4             | 1             | 1             | \n",
       "| 10127163      | C             | Area          | 2             | 2             | 1             | 1             | 1             | 1             | LC            | ...           | 2             | 1             | 1             | 1             | 1             | 1             | 1             | 4             | 1             | 1             | \n",
       "| 10127163      | C             | Separation    | 2             | 2             | 1             | 1             | 1             | 1             | LC            | ...           | 2             | 1             | 1             | 1             | 1             | 1             | 1             | 4             | 1             | 1             | \n",
       "| 10232160      | L             | Concentration | 0             | 0             | 1             | 1             | 1             | 1             | LC            | ...           | 2             | 1             | 1             | 1             | 1             | 1             | 1             | 4             | 1             | 1             | \n",
       "| 10232160      | L             | Width         | 0             | 0             | 0             | 0             | 1             | 1             | LC            | ...           | 0             | 1             | 1             | 1             | 1             | 1             | 1             | 4             | 0             | 0             | \n",
       "\n",
       "\n"
      ],
      "text/plain": [
       "  sid      sim variable      pre main cvs_graph cvs_table qual_score\n",
       "1 10127163 L   Concentration 0   2    1         1         1         \n",
       "2 10127163 L   Width         0   2    1         1         1         \n",
       "3 10127163 C   Area          2   2    1         1         1         \n",
       "4 10127163 C   Separation    2   2    1         1         1         \n",
       "5 10232160 L   Concentration 0   0    1         1         1         \n",
       "6 10232160 L   Width         0   0    0         0         1         \n",
       "  quant_score activity_order ... CVS_context use_table use_graph\n",
       "1 1           LC             ... 2           1         1        \n",
       "2 1           LC             ... 2           1         1        \n",
       "3 1           LC             ... 2           1         1        \n",
       "4 1           LC             ... 2           1         1        \n",
       "5 1           LC             ... 2           1         1        \n",
       "6 1           LC             ... 0           1         1        \n",
       "  use_concentration use_width use_area use_separation use_all_vars CVS_graph\n",
       "1 1                 1         1        1              4            1        \n",
       "2 1                 1         1        1              4            1        \n",
       "3 1                 1         1        1              4            1        \n",
       "4 1                 1         1        1              4            1        \n",
       "5 1                 1         1        1              4            1        \n",
       "6 1                 1         1        1              4            0        \n",
       "  CVS_table\n",
       "1 1        \n",
       "2 1        \n",
       "3 1        \n",
       "4 1        \n",
       "5 1        \n",
       "6 0        "
      ]
     },
     "metadata": {},
     "output_type": "display_data"
    },
    {
     "data": {
      "text/html": [
       "<ol class=list-inline>\n",
       "\t<li>'sid'</li>\n",
       "\t<li>'sim'</li>\n",
       "\t<li>'variable'</li>\n",
       "\t<li>'pre'</li>\n",
       "\t<li>'main'</li>\n",
       "\t<li>'cvs_graph'</li>\n",
       "\t<li>'cvs_table'</li>\n",
       "\t<li>'qual_score'</li>\n",
       "\t<li>'quant_score'</li>\n",
       "\t<li>'activity_order'</li>\n",
       "\t<li>'sim_index'</li>\n",
       "\t<li>'similar_sim'</li>\n",
       "\t<li>'lab_experience'</li>\n",
       "\t<li>'prior_number_virtual_labs'</li>\n",
       "\t<li>'overall.POCC'</li>\n",
       "\t<li>'PC1'</li>\n",
       "\t<li>'PC2'</li>\n",
       "\t<li>'pre_with_ident'</li>\n",
       "\t<li>'main_with_ident'</li>\n",
       "\t<li>'CVS_context'</li>\n",
       "\t<li>'use_table'</li>\n",
       "\t<li>'use_graph'</li>\n",
       "\t<li>'use_concentration'</li>\n",
       "\t<li>'use_width'</li>\n",
       "\t<li>'use_area'</li>\n",
       "\t<li>'use_separation'</li>\n",
       "\t<li>'use_all_vars'</li>\n",
       "\t<li>'CVS_graph'</li>\n",
       "\t<li>'CVS_table'</li>\n",
       "</ol>\n"
      ],
      "text/latex": [
       "\\begin{enumerate*}\n",
       "\\item 'sid'\n",
       "\\item 'sim'\n",
       "\\item 'variable'\n",
       "\\item 'pre'\n",
       "\\item 'main'\n",
       "\\item 'cvs\\_graph'\n",
       "\\item 'cvs\\_table'\n",
       "\\item 'qual\\_score'\n",
       "\\item 'quant\\_score'\n",
       "\\item 'activity\\_order'\n",
       "\\item 'sim\\_index'\n",
       "\\item 'similar\\_sim'\n",
       "\\item 'lab\\_experience'\n",
       "\\item 'prior\\_number\\_virtual\\_labs'\n",
       "\\item 'overall.POCC'\n",
       "\\item 'PC1'\n",
       "\\item 'PC2'\n",
       "\\item 'pre\\_with\\_ident'\n",
       "\\item 'main\\_with\\_ident'\n",
       "\\item 'CVS\\_context'\n",
       "\\item 'use\\_table'\n",
       "\\item 'use\\_graph'\n",
       "\\item 'use\\_concentration'\n",
       "\\item 'use\\_width'\n",
       "\\item 'use\\_area'\n",
       "\\item 'use\\_separation'\n",
       "\\item 'use\\_all\\_vars'\n",
       "\\item 'CVS\\_graph'\n",
       "\\item 'CVS\\_table'\n",
       "\\end{enumerate*}\n"
      ],
      "text/markdown": [
       "1. 'sid'\n",
       "2. 'sim'\n",
       "3. 'variable'\n",
       "4. 'pre'\n",
       "5. 'main'\n",
       "6. 'cvs_graph'\n",
       "7. 'cvs_table'\n",
       "8. 'qual_score'\n",
       "9. 'quant_score'\n",
       "10. 'activity_order'\n",
       "11. 'sim_index'\n",
       "12. 'similar_sim'\n",
       "13. 'lab_experience'\n",
       "14. 'prior_number_virtual_labs'\n",
       "15. 'overall.POCC'\n",
       "16. 'PC1'\n",
       "17. 'PC2'\n",
       "18. 'pre_with_ident'\n",
       "19. 'main_with_ident'\n",
       "20. 'CVS_context'\n",
       "21. 'use_table'\n",
       "22. 'use_graph'\n",
       "23. 'use_concentration'\n",
       "24. 'use_width'\n",
       "25. 'use_area'\n",
       "26. 'use_separation'\n",
       "27. 'use_all_vars'\n",
       "28. 'CVS_graph'\n",
       "29. 'CVS_table'\n",
       "\n",
       "\n"
      ],
      "text/plain": [
       " [1] \"sid\"                       \"sim\"                      \n",
       " [3] \"variable\"                  \"pre\"                      \n",
       " [5] \"main\"                      \"cvs_graph\"                \n",
       " [7] \"cvs_table\"                 \"qual_score\"               \n",
       " [9] \"quant_score\"               \"activity_order\"           \n",
       "[11] \"sim_index\"                 \"similar_sim\"              \n",
       "[13] \"lab_experience\"            \"prior_number_virtual_labs\"\n",
       "[15] \"overall.POCC\"              \"PC1\"                      \n",
       "[17] \"PC2\"                       \"pre_with_ident\"           \n",
       "[19] \"main_with_ident\"           \"CVS_context\"              \n",
       "[21] \"use_table\"                 \"use_graph\"                \n",
       "[23] \"use_concentration\"         \"use_width\"                \n",
       "[25] \"use_area\"                  \"use_separation\"           \n",
       "[27] \"use_all_vars\"              \"CVS_graph\"                \n",
       "[29] \"CVS_table\"                "
      ]
     },
     "metadata": {},
     "output_type": "display_data"
    }
   ],
   "source": [
    "head(mydata)\n",
    "colnames(mydata)"
   ]
  },
  {
   "cell_type": "markdown",
   "metadata": {
    "hideCode": true,
    "hidePrompt": true
   },
   "source": [
    "# Stat model 1: Predicting main model scores"
   ]
  },
  {
   "cell_type": "markdown",
   "metadata": {},
   "source": [
    "We try to predict the type of model in the main worksheet (0,1 or 2 for neither, qual or quant). To do so, we have 10 independant variables:\n",
    "* sim_index (1 or 2, wither it was student's 1st or 2nd activity)\n",
    "* variable (thus don't include sim)\n",
    "* CVS_graph (0 or 1)\n",
    "* CVS_table (0 or 1)\n",
    "* pre (0,1,2)\n",
    "* student attributes: lab_experience, similar_sim, prior_number_virtual_labs, attitude components\n",
    "\n",
    "We do so using a repeated measures anova where we have repeat measures of \"variable\" by student."
   ]
  },
  {
   "cell_type": "markdown",
   "metadata": {},
   "source": [
    "**Should we remove students with max pre for a certain variables???**"
   ]
  },
  {
   "cell_type": "markdown",
   "metadata": {},
   "source": [
    "## Using type 1 and aov package"
   ]
  },
  {
   "cell_type": "code",
   "execution_count": 4,
   "metadata": {},
   "outputs": [
    {
     "data": {
      "text/plain": [
       "\n",
       "Error: sid\n",
       "                           Df Sum Sq Mean Sq F value   Pr(>F)    \n",
       "cvs_table                   1  21.10  21.101  31.621 1.01e-07 ***\n",
       "cvs_graph                   1   2.83   2.825   4.234   0.0415 *  \n",
       "pre                         1  12.57  12.571  18.839 2.74e-05 ***\n",
       "lab_experience              1   0.23   0.233   0.350   0.5551    \n",
       "similar_sim                 1   0.30   0.302   0.452   0.5024    \n",
       "prior_number_virtual_labs   1   0.20   0.204   0.306   0.5809    \n",
       "overall.POCC                1   0.34   0.342   0.513   0.4751    \n",
       "PC1                         1   0.02   0.019   0.029   0.8658    \n",
       "PC2                         1   0.58   0.584   0.874   0.3514    \n",
       "Residuals                 137  91.42   0.667                     \n",
       "---\n",
       "Signif. codes:  0 '***' 0.001 '**' 0.01 '*' 0.05 '.' 0.1 ' ' 1\n",
       "\n",
       "Error: sid:variable\n",
       "             Df Sum Sq Mean Sq F value   Pr(>F)    \n",
       "cvs_table     1   2.84   2.841  12.470 0.000458 ***\n",
       "cvs_graph     1   4.23   4.231  18.573 2.03e-05 ***\n",
       "variable      3   2.00   0.667   2.926 0.033535 *  \n",
       "sim_index     1   2.78   2.777  12.190 0.000530 ***\n",
       "pre           1   0.51   0.506   2.223 0.136717    \n",
       "similar_sim   1   0.00   0.001   0.005 0.945186    \n",
       "Residuals   433  98.64   0.228                     \n",
       "---\n",
       "Signif. codes:  0 '***' 0.001 '**' 0.01 '*' 0.05 '.' 0.1 ' ' 1"
      ]
     },
     "metadata": {},
     "output_type": "display_data"
    }
   ],
   "source": [
    "am1 <- aov(main\n",
    "    ~  cvs_table + cvs_graph + variable + sim_index + pre\n",
    "    + lab_experience + similar_sim + prior_number_virtual_labs + overall.POCC\n",
    "    +  PC1 + PC2 + Error(sid/variable), data=mydata)\n",
    "summary(am1)"
   ]
  },
  {
   "cell_type": "markdown",
   "metadata": {},
   "source": [
    "We see that the variance from having repeated measures for each student (first table) has been removed from the overall model error and thus separated in the output.\n",
    "\n",
    "Looking the second table we notice that both cvs are significant, cvs_graph more significant than cvs_table, variable is significant and so is sim_index.\n",
    "\n",
    "eta squares, and post hoc test are coming!"
   ]
  },
  {
   "cell_type": "markdown",
   "metadata": {},
   "source": [
    "## Using type 3 and anova package"
   ]
  },
  {
   "cell_type": "markdown",
   "metadata": {},
   "source": [
    "We create a dataframe to tell the anova how \"variable\" leades to multiple between subject measures.\n",
    "\n",
    "For info on why Type 1,2,3: https://mcfromnz.wordpress.com/2011/03/02/anova-type-iiiiii-ss-explained/"
   ]
  },
  {
   "cell_type": "code",
   "execution_count": 5,
   "metadata": {},
   "outputs": [
    {
     "data": {
      "text/html": [
       "<table>\n",
       "<thead><tr><th scope=col>measures</th><th scope=col>vars</th></tr></thead>\n",
       "<tbody>\n",
       "\t<tr><td>pre          </td><td>Width        </td></tr>\n",
       "\t<tr><td>pre          </td><td>Area         </td></tr>\n",
       "\t<tr><td>pre          </td><td>Concentration</td></tr>\n",
       "\t<tr><td>pre          </td><td>Separation   </td></tr>\n",
       "\t<tr><td>main         </td><td>Width        </td></tr>\n",
       "\t<tr><td>main         </td><td>Area         </td></tr>\n",
       "\t<tr><td>main         </td><td>Concentration</td></tr>\n",
       "\t<tr><td>main         </td><td>Separation   </td></tr>\n",
       "\t<tr><td>cvs_table    </td><td>Width        </td></tr>\n",
       "\t<tr><td>cvs_table    </td><td>Area         </td></tr>\n",
       "\t<tr><td>cvs_table    </td><td>Concentration</td></tr>\n",
       "\t<tr><td>cvs_table    </td><td>Separation   </td></tr>\n",
       "\t<tr><td>cvs_graph    </td><td>Width        </td></tr>\n",
       "\t<tr><td>cvs_graph    </td><td>Area         </td></tr>\n",
       "\t<tr><td>cvs_graph    </td><td>Concentration</td></tr>\n",
       "\t<tr><td>cvs_graph    </td><td>Separation   </td></tr>\n",
       "\t<tr><td>sim_index    </td><td>Width        </td></tr>\n",
       "\t<tr><td>sim_index    </td><td>Area         </td></tr>\n",
       "\t<tr><td>sim_index    </td><td>Concentration</td></tr>\n",
       "\t<tr><td>sim_index    </td><td>Separation   </td></tr>\n",
       "\t<tr><td>similar_sim  </td><td>Width        </td></tr>\n",
       "\t<tr><td>similar_sim  </td><td>Area         </td></tr>\n",
       "\t<tr><td>similar_sim  </td><td>Concentration</td></tr>\n",
       "\t<tr><td>similar_sim  </td><td>Separation   </td></tr>\n",
       "</tbody>\n",
       "</table>\n"
      ],
      "text/latex": [
       "\\begin{tabular}{r|ll}\n",
       " measures & vars\\\\\n",
       "\\hline\n",
       "\t pre           & Width        \\\\\n",
       "\t pre           & Area         \\\\\n",
       "\t pre           & Concentration\\\\\n",
       "\t pre           & Separation   \\\\\n",
       "\t main          & Width        \\\\\n",
       "\t main          & Area         \\\\\n",
       "\t main          & Concentration\\\\\n",
       "\t main          & Separation   \\\\\n",
       "\t cvs\\_table   & Width        \\\\\n",
       "\t cvs\\_table   & Area         \\\\\n",
       "\t cvs\\_table   & Concentration\\\\\n",
       "\t cvs\\_table   & Separation   \\\\\n",
       "\t cvs\\_graph   & Width        \\\\\n",
       "\t cvs\\_graph   & Area         \\\\\n",
       "\t cvs\\_graph   & Concentration\\\\\n",
       "\t cvs\\_graph   & Separation   \\\\\n",
       "\t sim\\_index   & Width        \\\\\n",
       "\t sim\\_index   & Area         \\\\\n",
       "\t sim\\_index   & Concentration\\\\\n",
       "\t sim\\_index   & Separation   \\\\\n",
       "\t similar\\_sim & Width        \\\\\n",
       "\t similar\\_sim & Area         \\\\\n",
       "\t similar\\_sim & Concentration\\\\\n",
       "\t similar\\_sim & Separation   \\\\\n",
       "\\end{tabular}\n"
      ],
      "text/markdown": [
       "\n",
       "measures | vars | \n",
       "|---|---|---|---|---|---|---|---|---|---|---|---|---|---|---|---|---|---|---|---|---|---|---|---|\n",
       "| pre           | Width         | \n",
       "| pre           | Area          | \n",
       "| pre           | Concentration | \n",
       "| pre           | Separation    | \n",
       "| main          | Width         | \n",
       "| main          | Area          | \n",
       "| main          | Concentration | \n",
       "| main          | Separation    | \n",
       "| cvs_table     | Width         | \n",
       "| cvs_table     | Area          | \n",
       "| cvs_table     | Concentration | \n",
       "| cvs_table     | Separation    | \n",
       "| cvs_graph     | Width         | \n",
       "| cvs_graph     | Area          | \n",
       "| cvs_graph     | Concentration | \n",
       "| cvs_graph     | Separation    | \n",
       "| sim_index     | Width         | \n",
       "| sim_index     | Area          | \n",
       "| sim_index     | Concentration | \n",
       "| sim_index     | Separation    | \n",
       "| similar_sim   | Width         | \n",
       "| similar_sim   | Area          | \n",
       "| similar_sim   | Concentration | \n",
       "| similar_sim   | Separation    | \n",
       "\n",
       "\n"
      ],
      "text/plain": [
       "   measures    vars         \n",
       "1  pre         Width        \n",
       "2  pre         Area         \n",
       "3  pre         Concentration\n",
       "4  pre         Separation   \n",
       "5  main        Width        \n",
       "6  main        Area         \n",
       "7  main        Concentration\n",
       "8  main        Separation   \n",
       "9  cvs_table   Width        \n",
       "10 cvs_table   Area         \n",
       "11 cvs_table   Concentration\n",
       "12 cvs_table   Separation   \n",
       "13 cvs_graph   Width        \n",
       "14 cvs_graph   Area         \n",
       "15 cvs_graph   Concentration\n",
       "16 cvs_graph   Separation   \n",
       "17 sim_index   Width        \n",
       "18 sim_index   Area         \n",
       "19 sim_index   Concentration\n",
       "20 sim_index   Separation   \n",
       "21 similar_sim Width        \n",
       "22 similar_sim Area         \n",
       "23 similar_sim Concentration\n",
       "24 similar_sim Separation   "
      ]
     },
     "metadata": {},
     "output_type": "display_data"
    }
   ],
   "source": [
    "variables <- factor(c(\"Width\",\"Area\",\"Concentration\",\"Separation\"))\n",
    "measures <- factor(rep(c(\"pre\", \"main\", \"cvs_table\",\"cvs_graph\",\"sim_index\",\"similar_sim\"), c(4,4,4,4,4,4)),\n",
    "levels=c(\"pre\", \"main\", \"cvs_table\",\"cvs_graph\",\"sim_index\",\"similar_sim\"))\n",
    "vars <- ordered(rep(variables, 6))\n",
    "idata <- data.frame(measures,vars)\n",
    "idata"
   ]
  },
  {
   "cell_type": "markdown",
   "metadata": {},
   "source": [
    "Try repeating this blog: http://psych.wisc.edu/moore/Rpdf/610-R8_OneWayWithin.pdf"
   ]
  },
  {
   "cell_type": "code",
   "execution_count": 9,
   "metadata": {},
   "outputs": [
    {
     "data": {
      "text/html": [
       "<table>\n",
       "<thead><tr><th></th><th scope=col>Sum Sq</th><th scope=col>Df</th><th scope=col>F value</th><th scope=col>Pr(&gt;F)</th></tr></thead>\n",
       "<tbody>\n",
       "\t<tr><th scope=row>(Intercept)</th><td>  5.5733105 </td><td>  1         </td><td>16.2300511  </td><td>6.364673e-05</td></tr>\n",
       "\t<tr><th scope=row>cvs_table</th><td>  0.7448854 </td><td>  1         </td><td> 2.1691824  </td><td>1.413492e-01</td></tr>\n",
       "\t<tr><th scope=row>cvs_graph</th><td>  6.4379911 </td><td>  1         </td><td>18.7480893  </td><td>1.760392e-05</td></tr>\n",
       "\t<tr><th scope=row>variable</th><td>  2.5465220 </td><td>  3         </td><td> 2.4719110  </td><td>6.086836e-02</td></tr>\n",
       "\t<tr><th scope=row>sim_index</th><td>  2.2707103 </td><td>  1         </td><td> 6.6125410  </td><td>1.037689e-02</td></tr>\n",
       "\t<tr><th scope=row>pre</th><td>  6.1760252 </td><td>  1         </td><td>17.9852179  </td><td>2.594679e-05</td></tr>\n",
       "\t<tr><th scope=row>lab_experience</th><td>  0.1486979 </td><td>  1         </td><td> 0.4330236  </td><td>5.107728e-01</td></tr>\n",
       "\t<tr><th scope=row>similar_sim</th><td>  0.1663807 </td><td>  1         </td><td> 0.4845176  </td><td>4.866649e-01</td></tr>\n",
       "\t<tr><th scope=row>prior_number_virtual_labs</th><td>  0.1983452 </td><td>  1         </td><td> 0.5776016  </td><td>4.475660e-01</td></tr>\n",
       "\t<tr><th scope=row>overall.POCC</th><td>  0.7600863 </td><td>  1         </td><td> 2.2134491  </td><td>1.373616e-01</td></tr>\n",
       "\t<tr><th scope=row>PC1</th><td>  0.0505134 </td><td>  1         </td><td> 0.1471002  </td><td>7.014641e-01</td></tr>\n",
       "\t<tr><th scope=row>PC2</th><td>  0.3776230 </td><td>  1         </td><td> 1.0996767  </td><td>2.947784e-01</td></tr>\n",
       "\t<tr><th scope=row>Residuals</th><td>197.1084517 </td><td>574         </td><td>        NA  </td><td>          NA</td></tr>\n",
       "</tbody>\n",
       "</table>\n"
      ],
      "text/latex": [
       "\\begin{tabular}{r|llll}\n",
       "  & Sum Sq & Df & F value & Pr(>F)\\\\\n",
       "\\hline\n",
       "\t(Intercept) &   5.5733105  &   1          & 16.2300511   & 6.364673e-05\\\\\n",
       "\tcvs\\_table &   0.7448854  &   1          &  2.1691824   & 1.413492e-01\\\\\n",
       "\tcvs\\_graph &   6.4379911  &   1          & 18.7480893   & 1.760392e-05\\\\\n",
       "\tvariable &   2.5465220  &   3          &  2.4719110   & 6.086836e-02\\\\\n",
       "\tsim\\_index &   2.2707103  &   1          &  6.6125410   & 1.037689e-02\\\\\n",
       "\tpre &   6.1760252  &   1          & 17.9852179   & 2.594679e-05\\\\\n",
       "\tlab\\_experience &   0.1486979  &   1          &  0.4330236   & 5.107728e-01\\\\\n",
       "\tsimilar\\_sim &   0.1663807  &   1          &  0.4845176   & 4.866649e-01\\\\\n",
       "\tprior\\_number\\_virtual\\_labs &   0.1983452  &   1          &  0.5776016   & 4.475660e-01\\\\\n",
       "\toverall.POCC &   0.7600863  &   1          &  2.2134491   & 1.373616e-01\\\\\n",
       "\tPC1 &   0.0505134  &   1          &  0.1471002   & 7.014641e-01\\\\\n",
       "\tPC2 &   0.3776230  &   1          &  1.0996767   & 2.947784e-01\\\\\n",
       "\tResiduals & 197.1084517  & 574          &         NA   &           NA\\\\\n",
       "\\end{tabular}\n"
      ],
      "text/markdown": [
       "\n",
       "| <!--/--> | Sum Sq | Df | F value | Pr(>F) | \n",
       "|---|---|---|---|---|---|---|---|---|---|---|---|---|\n",
       "| (Intercept) |   5.5733105  |   1          | 16.2300511   | 6.364673e-05 | \n",
       "| cvs_table |   0.7448854  |   1          |  2.1691824   | 1.413492e-01 | \n",
       "| cvs_graph |   6.4379911  |   1          | 18.7480893   | 1.760392e-05 | \n",
       "| variable |   2.5465220  |   3          |  2.4719110   | 6.086836e-02 | \n",
       "| sim_index |   2.2707103  |   1          |  6.6125410   | 1.037689e-02 | \n",
       "| pre |   6.1760252  |   1          | 17.9852179   | 2.594679e-05 | \n",
       "| lab_experience |   0.1486979  |   1          |  0.4330236   | 5.107728e-01 | \n",
       "| similar_sim |   0.1663807  |   1          |  0.4845176   | 4.866649e-01 | \n",
       "| prior_number_virtual_labs |   0.1983452  |   1          |  0.5776016   | 4.475660e-01 | \n",
       "| overall.POCC |   0.7600863  |   1          |  2.2134491   | 1.373616e-01 | \n",
       "| PC1 |   0.0505134  |   1          |  0.1471002   | 7.014641e-01 | \n",
       "| PC2 |   0.3776230  |   1          |  1.0996767   | 2.947784e-01 | \n",
       "| Residuals | 197.1084517  | 574          |         NA   |           NA | \n",
       "\n",
       "\n"
      ],
      "text/plain": [
       "                          Sum Sq      Df  F value    Pr(>F)      \n",
       "(Intercept)                 5.5733105   1 16.2300511 6.364673e-05\n",
       "cvs_table                   0.7448854   1  2.1691824 1.413492e-01\n",
       "cvs_graph                   6.4379911   1 18.7480893 1.760392e-05\n",
       "variable                    2.5465220   3  2.4719110 6.086836e-02\n",
       "sim_index                   2.2707103   1  6.6125410 1.037689e-02\n",
       "pre                         6.1760252   1 17.9852179 2.594679e-05\n",
       "lab_experience              0.1486979   1  0.4330236 5.107728e-01\n",
       "similar_sim                 0.1663807   1  0.4845176 4.866649e-01\n",
       "prior_number_virtual_labs   0.1983452   1  0.5776016 4.475660e-01\n",
       "overall.POCC                0.7600863   1  2.2134491 1.373616e-01\n",
       "PC1                         0.0505134   1  0.1471002 7.014641e-01\n",
       "PC2                         0.3776230   1  1.0996767 2.947784e-01\n",
       "Residuals                 197.1084517 574         NA           NA"
      ]
     },
     "metadata": {},
     "output_type": "display_data"
    }
   ],
   "source": [
    "mod.ok <- lm(main\n",
    "    ~  cvs_table + cvs_graph + variable + sim_index + pre\n",
    "    + lab_experience + similar_sim + prior_number_virtual_labs + overall.POCC\n",
    "    +  PC1 + PC2, data=mydata)\n",
    "av.ok <- Anova(mod.ok, idata=idata, type=3, idesign=~pre*variable*main*cvs_table*cvs_graph*sim_index*similar_sim)\n",
    "av.ok"
   ]
  },
  {
   "cell_type": "code",
   "execution_count": 68,
   "metadata": {},
   "outputs": [
    {
     "data": {
      "text/html": [
       "<table>\n",
       "<thead><tr><th></th><th scope=col>Sum Sq</th><th scope=col>Df</th><th scope=col>F value</th><th scope=col>Pr(&gt;F)</th></tr></thead>\n",
       "<tbody>\n",
       "\t<tr><th scope=row>(Intercept)</th><td>  5.5733105 </td><td>  1         </td><td>16.2300511  </td><td>6.364673e-05</td></tr>\n",
       "\t<tr><th scope=row>cvs_table</th><td>  0.7448854 </td><td>  1         </td><td> 2.1691824  </td><td>1.413492e-01</td></tr>\n",
       "\t<tr><th scope=row>cvs_graph</th><td>  6.4379911 </td><td>  1         </td><td>18.7480893  </td><td>1.760392e-05</td></tr>\n",
       "\t<tr><th scope=row>variable</th><td>  2.5465220 </td><td>  3         </td><td> 2.4719110  </td><td>6.086836e-02</td></tr>\n",
       "\t<tr><th scope=row>sim_index</th><td>  2.2707103 </td><td>  1         </td><td> 6.6125410  </td><td>1.037689e-02</td></tr>\n",
       "\t<tr><th scope=row>pre</th><td>  6.1760252 </td><td>  1         </td><td>17.9852179  </td><td>2.594679e-05</td></tr>\n",
       "\t<tr><th scope=row>lab_experience</th><td>  0.1486979 </td><td>  1         </td><td> 0.4330236  </td><td>5.107728e-01</td></tr>\n",
       "\t<tr><th scope=row>similar_sim</th><td>  0.1663807 </td><td>  1         </td><td> 0.4845176  </td><td>4.866649e-01</td></tr>\n",
       "\t<tr><th scope=row>prior_number_virtual_labs</th><td>  0.1983452 </td><td>  1         </td><td> 0.5776016  </td><td>4.475660e-01</td></tr>\n",
       "\t<tr><th scope=row>overall.POCC</th><td>  0.7600863 </td><td>  1         </td><td> 2.2134491  </td><td>1.373616e-01</td></tr>\n",
       "\t<tr><th scope=row>PC1</th><td>  0.0505134 </td><td>  1         </td><td> 0.1471002  </td><td>7.014641e-01</td></tr>\n",
       "\t<tr><th scope=row>PC2</th><td>  0.3776230 </td><td>  1         </td><td> 1.0996767  </td><td>2.947784e-01</td></tr>\n",
       "\t<tr><th scope=row>Residuals</th><td>197.1084517 </td><td>574         </td><td>        NA  </td><td>          NA</td></tr>\n",
       "</tbody>\n",
       "</table>\n"
      ],
      "text/latex": [
       "\\begin{tabular}{r|llll}\n",
       "  & Sum Sq & Df & F value & Pr(>F)\\\\\n",
       "\\hline\n",
       "\t(Intercept) &   5.5733105  &   1          & 16.2300511   & 6.364673e-05\\\\\n",
       "\tcvs\\_table &   0.7448854  &   1          &  2.1691824   & 1.413492e-01\\\\\n",
       "\tcvs\\_graph &   6.4379911  &   1          & 18.7480893   & 1.760392e-05\\\\\n",
       "\tvariable &   2.5465220  &   3          &  2.4719110   & 6.086836e-02\\\\\n",
       "\tsim\\_index &   2.2707103  &   1          &  6.6125410   & 1.037689e-02\\\\\n",
       "\tpre &   6.1760252  &   1          & 17.9852179   & 2.594679e-05\\\\\n",
       "\tlab\\_experience &   0.1486979  &   1          &  0.4330236   & 5.107728e-01\\\\\n",
       "\tsimilar\\_sim &   0.1663807  &   1          &  0.4845176   & 4.866649e-01\\\\\n",
       "\tprior\\_number\\_virtual\\_labs &   0.1983452  &   1          &  0.5776016   & 4.475660e-01\\\\\n",
       "\toverall.POCC &   0.7600863  &   1          &  2.2134491   & 1.373616e-01\\\\\n",
       "\tPC1 &   0.0505134  &   1          &  0.1471002   & 7.014641e-01\\\\\n",
       "\tPC2 &   0.3776230  &   1          &  1.0996767   & 2.947784e-01\\\\\n",
       "\tResiduals & 197.1084517  & 574          &         NA   &           NA\\\\\n",
       "\\end{tabular}\n"
      ],
      "text/markdown": [
       "\n",
       "| <!--/--> | Sum Sq | Df | F value | Pr(>F) | \n",
       "|---|---|---|---|---|---|---|---|---|---|---|---|---|\n",
       "| (Intercept) |   5.5733105  |   1          | 16.2300511   | 6.364673e-05 | \n",
       "| cvs_table |   0.7448854  |   1          |  2.1691824   | 1.413492e-01 | \n",
       "| cvs_graph |   6.4379911  |   1          | 18.7480893   | 1.760392e-05 | \n",
       "| variable |   2.5465220  |   3          |  2.4719110   | 6.086836e-02 | \n",
       "| sim_index |   2.2707103  |   1          |  6.6125410   | 1.037689e-02 | \n",
       "| pre |   6.1760252  |   1          | 17.9852179   | 2.594679e-05 | \n",
       "| lab_experience |   0.1486979  |   1          |  0.4330236   | 5.107728e-01 | \n",
       "| similar_sim |   0.1663807  |   1          |  0.4845176   | 4.866649e-01 | \n",
       "| prior_number_virtual_labs |   0.1983452  |   1          |  0.5776016   | 4.475660e-01 | \n",
       "| overall.POCC |   0.7600863  |   1          |  2.2134491   | 1.373616e-01 | \n",
       "| PC1 |   0.0505134  |   1          |  0.1471002   | 7.014641e-01 | \n",
       "| PC2 |   0.3776230  |   1          |  1.0996767   | 2.947784e-01 | \n",
       "| Residuals | 197.1084517  | 574          |         NA   |           NA | \n",
       "\n",
       "\n"
      ],
      "text/plain": [
       "                          Sum Sq      Df  F value    Pr(>F)      \n",
       "(Intercept)                 5.5733105   1 16.2300511 6.364673e-05\n",
       "cvs_table                   0.7448854   1  2.1691824 1.413492e-01\n",
       "cvs_graph                   6.4379911   1 18.7480893 1.760392e-05\n",
       "variable                    2.5465220   3  2.4719110 6.086836e-02\n",
       "sim_index                   2.2707103   1  6.6125410 1.037689e-02\n",
       "pre                         6.1760252   1 17.9852179 2.594679e-05\n",
       "lab_experience              0.1486979   1  0.4330236 5.107728e-01\n",
       "similar_sim                 0.1663807   1  0.4845176 4.866649e-01\n",
       "prior_number_virtual_labs   0.1983452   1  0.5776016 4.475660e-01\n",
       "overall.POCC                0.7600863   1  2.2134491 1.373616e-01\n",
       "PC1                         0.0505134   1  0.1471002 7.014641e-01\n",
       "PC2                         0.3776230   1  1.0996767 2.947784e-01\n",
       "Residuals                 197.1084517 574         NA           NA"
      ]
     },
     "metadata": {},
     "output_type": "display_data"
    }
   ],
   "source": [
    "mod.ok <- lm(main\n",
    "    ~  cvs_table + cvs_graph + variable + sim_index + pre\n",
    "    + lab_experience + similar_sim + prior_number_virtual_labs + overall.POCC\n",
    "    +  PC1 + PC2, data=mydata)\n",
    "variables <- factor(cbind(\"Width\",\"Area\",\"Concentration\",\"Separation\"))\n",
    "idata <- data.frame(variables)\n",
    "av.ok <- Anova(mod.ok, idata=idata, idesign=~variable,type=3)\n",
    "av.ok"
   ]
  },
  {
   "cell_type": "markdown",
   "metadata": {},
   "source": [
    "## Repeat to compare cvs_table to cvs_graph\n",
    "We rerun the model for all students who did cvs_table to see if doing cvs_graph actually helps more."
   ]
  },
  {
   "cell_type": "code",
   "execution_count": 53,
   "metadata": {},
   "outputs": [],
   "source": [
    "# am1_graph <- aov(main\n",
    "#     ~ cvs_graph + variable + sim_index + pre\n",
    "#     + lab_experience + similar_sim + prior_number_virtual_labs + overall.POCC\n",
    "#     +  PC1 + PC2 + Error(sid/variable), data=filter(mydata, cvs_table == 1))\n",
    "# summary(am1_graph)"
   ]
  },
  {
   "cell_type": "markdown",
   "metadata": {},
   "source": [
    "# Stat model 2: Predicting transfer data"
   ]
  },
  {
   "cell_type": "code",
   "execution_count": 55,
   "metadata": {},
   "outputs": [
    {
     "data": {
      "text/plain": [
       "\n",
       "Error: sid\n",
       "                           Df Sum Sq Mean Sq F value Pr(>F)  \n",
       "cvs_table                   1   0.05  0.0542   0.130 0.7195  \n",
       "cvs_graph                   1   2.04  2.0383   4.875 0.0289 *\n",
       "pre                         1   1.58  1.5804   3.780 0.0539 .\n",
       "lab_experience              1   0.06  0.0646   0.154 0.6949  \n",
       "similar_sim                 1   0.62  0.6225   1.489 0.2245  \n",
       "prior_number_virtual_labs   1   2.11  2.1087   5.044 0.0263 *\n",
       "overall.POCC                1   0.19  0.1877   0.449 0.5040  \n",
       "PC1                         1   0.05  0.0549   0.131 0.7177  \n",
       "PC2                         1   0.43  0.4314   1.032 0.3115  \n",
       "Residuals                 137  57.28  0.4181                 \n",
       "---\n",
       "Signif. codes:  0 '***' 0.001 '**' 0.01 '*' 0.05 '.' 0.1 ' ' 1\n",
       "\n",
       "Error: sid:variable\n",
       "             Df Sum Sq Mean Sq F value Pr(>F)  \n",
       "cvs_table     1   0.06  0.0557   0.410 0.5222  \n",
       "cvs_graph     1   0.24  0.2397   1.766 0.1845  \n",
       "variable      3   1.35  0.4512   3.325 0.0197 *\n",
       "sim_index     1   0.24  0.2440   1.798 0.1807  \n",
       "pre           1   0.49  0.4863   3.583 0.0590 .\n",
       "similar_sim   1   0.86  0.8561   6.308 0.0124 *\n",
       "Residuals   433  58.76  0.1357                 \n",
       "---\n",
       "Signif. codes:  0 '***' 0.001 '**' 0.01 '*' 0.05 '.' 0.1 ' ' 1"
      ]
     },
     "metadata": {},
     "output_type": "display_data"
    }
   ],
   "source": [
    "am2 <- aov(quant_score\n",
    "    ~  cvs_table + cvs_graph + variable + sim_index + pre\n",
    "    + lab_experience + similar_sim + prior_number_virtual_labs + overall.POCC\n",
    "    +  PC1 + PC2 + Error(sid/variable), data=mydata)\n",
    "summary(am2)"
   ]
  },
  {
   "cell_type": "markdown",
   "metadata": {},
   "source": [
    "As expected, CVS doesn't predict quant transfer scores.\n",
    "\n",
    "Post hoc by variable and similar sim (weither students had worked with a similar sim before) coming soon."
   ]
  },
  {
   "cell_type": "markdown",
   "metadata": {},
   "source": [
    "## Using type 3 and anova package"
   ]
  },
  {
   "cell_type": "code",
   "execution_count": 58,
   "metadata": {},
   "outputs": [
    {
     "data": {
      "text/html": [
       "<table>\n",
       "<thead><tr><th></th><th scope=col>Sum Sq</th><th scope=col>Df</th><th scope=col>F value</th><th scope=col>Pr(&gt;F)</th></tr></thead>\n",
       "<tbody>\n",
       "\t<tr><th scope=row>(Intercept)</th><td>3.769096e+00</td><td>  1         </td><td>18.00758652 </td><td>2.565288e-05</td></tr>\n",
       "\t<tr><th scope=row>cvs_table</th><td>2.625584e-01</td><td>  1         </td><td> 1.25442366 </td><td>2.631777e-01</td></tr>\n",
       "\t<tr><th scope=row>cvs_graph</th><td>2.584682e-01</td><td>  1         </td><td> 1.23488160 </td><td>2.669250e-01</td></tr>\n",
       "\t<tr><th scope=row>variable</th><td>1.541581e+00</td><td>  3         </td><td> 2.45506674 </td><td>6.223762e-02</td></tr>\n",
       "\t<tr><th scope=row>sim_index</th><td>7.500589e-02</td><td>  1         </td><td> 0.35835513 </td><td>5.496573e-01</td></tr>\n",
       "\t<tr><th scope=row>pre</th><td>1.438331e+00</td><td>  1         </td><td> 6.87190262 </td><td>8.988296e-03</td></tr>\n",
       "\t<tr><th scope=row>lab_experience</th><td>7.416440e-02</td><td>  1         </td><td> 0.35433477 </td><td>5.519041e-01</td></tr>\n",
       "\t<tr><th scope=row>similar_sim</th><td>2.510144e-02</td><td>  1         </td><td> 0.11992697 </td><td>7.292406e-01</td></tr>\n",
       "\t<tr><th scope=row>prior_number_virtual_labs</th><td>1.875921e+00</td><td>  1         </td><td> 8.96257298 </td><td>2.874305e-03</td></tr>\n",
       "\t<tr><th scope=row>overall.POCC</th><td>1.370463e-02</td><td>  1         </td><td> 0.06547651 </td><td>7.981322e-01</td></tr>\n",
       "\t<tr><th scope=row>PC1</th><td>2.209902e-03</td><td>  1         </td><td> 0.01055824 </td><td>9.181947e-01</td></tr>\n",
       "\t<tr><th scope=row>PC2</th><td>3.584625e-01</td><td>  1         </td><td> 1.71262370 </td><td>1.911690e-01</td></tr>\n",
       "\t<tr><th scope=row>Residuals</th><td>1.201417e+02</td><td>574         </td><td>         NA </td><td>          NA</td></tr>\n",
       "</tbody>\n",
       "</table>\n"
      ],
      "text/latex": [
       "\\begin{tabular}{r|llll}\n",
       "  & Sum Sq & Df & F value & Pr(>F)\\\\\n",
       "\\hline\n",
       "\t(Intercept) & 3.769096e+00 &   1          & 18.00758652  & 2.565288e-05\\\\\n",
       "\tcvs\\_table & 2.625584e-01 &   1          &  1.25442366  & 2.631777e-01\\\\\n",
       "\tcvs\\_graph & 2.584682e-01 &   1          &  1.23488160  & 2.669250e-01\\\\\n",
       "\tvariable & 1.541581e+00 &   3          &  2.45506674  & 6.223762e-02\\\\\n",
       "\tsim\\_index & 7.500589e-02 &   1          &  0.35835513  & 5.496573e-01\\\\\n",
       "\tpre & 1.438331e+00 &   1          &  6.87190262  & 8.988296e-03\\\\\n",
       "\tlab\\_experience & 7.416440e-02 &   1          &  0.35433477  & 5.519041e-01\\\\\n",
       "\tsimilar\\_sim & 2.510144e-02 &   1          &  0.11992697  & 7.292406e-01\\\\\n",
       "\tprior\\_number\\_virtual\\_labs & 1.875921e+00 &   1          &  8.96257298  & 2.874305e-03\\\\\n",
       "\toverall.POCC & 1.370463e-02 &   1          &  0.06547651  & 7.981322e-01\\\\\n",
       "\tPC1 & 2.209902e-03 &   1          &  0.01055824  & 9.181947e-01\\\\\n",
       "\tPC2 & 3.584625e-01 &   1          &  1.71262370  & 1.911690e-01\\\\\n",
       "\tResiduals & 1.201417e+02 & 574          &          NA  &           NA\\\\\n",
       "\\end{tabular}\n"
      ],
      "text/markdown": [
       "\n",
       "| <!--/--> | Sum Sq | Df | F value | Pr(>F) | \n",
       "|---|---|---|---|---|---|---|---|---|---|---|---|---|\n",
       "| (Intercept) | 3.769096e+00 |   1          | 18.00758652  | 2.565288e-05 | \n",
       "| cvs_table | 2.625584e-01 |   1          |  1.25442366  | 2.631777e-01 | \n",
       "| cvs_graph | 2.584682e-01 |   1          |  1.23488160  | 2.669250e-01 | \n",
       "| variable | 1.541581e+00 |   3          |  2.45506674  | 6.223762e-02 | \n",
       "| sim_index | 7.500589e-02 |   1          |  0.35835513  | 5.496573e-01 | \n",
       "| pre | 1.438331e+00 |   1          |  6.87190262  | 8.988296e-03 | \n",
       "| lab_experience | 7.416440e-02 |   1          |  0.35433477  | 5.519041e-01 | \n",
       "| similar_sim | 2.510144e-02 |   1          |  0.11992697  | 7.292406e-01 | \n",
       "| prior_number_virtual_labs | 1.875921e+00 |   1          |  8.96257298  | 2.874305e-03 | \n",
       "| overall.POCC | 1.370463e-02 |   1          |  0.06547651  | 7.981322e-01 | \n",
       "| PC1 | 2.209902e-03 |   1          |  0.01055824  | 9.181947e-01 | \n",
       "| PC2 | 3.584625e-01 |   1          |  1.71262370  | 1.911690e-01 | \n",
       "| Residuals | 1.201417e+02 | 574          |          NA  |           NA | \n",
       "\n",
       "\n"
      ],
      "text/plain": [
       "                          Sum Sq       Df  F value     Pr(>F)      \n",
       "(Intercept)               3.769096e+00   1 18.00758652 2.565288e-05\n",
       "cvs_table                 2.625584e-01   1  1.25442366 2.631777e-01\n",
       "cvs_graph                 2.584682e-01   1  1.23488160 2.669250e-01\n",
       "variable                  1.541581e+00   3  2.45506674 6.223762e-02\n",
       "sim_index                 7.500589e-02   1  0.35835513 5.496573e-01\n",
       "pre                       1.438331e+00   1  6.87190262 8.988296e-03\n",
       "lab_experience            7.416440e-02   1  0.35433477 5.519041e-01\n",
       "similar_sim               2.510144e-02   1  0.11992697 7.292406e-01\n",
       "prior_number_virtual_labs 1.875921e+00   1  8.96257298 2.874305e-03\n",
       "overall.POCC              1.370463e-02   1  0.06547651 7.981322e-01\n",
       "PC1                       2.209902e-03   1  0.01055824 9.181947e-01\n",
       "PC2                       3.584625e-01   1  1.71262370 1.911690e-01\n",
       "Residuals                 1.201417e+02 574          NA           NA"
      ]
     },
     "metadata": {},
     "output_type": "display_data"
    }
   ],
   "source": [
    "mod.ok <- lm(quant_score\n",
    "    ~  cvs_table + cvs_graph + variable + sim_index + pre\n",
    "    + lab_experience + similar_sim + prior_number_virtual_labs + overall.POCC\n",
    "    +  PC1 + PC2, data=mydata)\n",
    "variables <- factor(cbind(\"Width\",\"Area\",\"Concentration\",\"Separation\"))\n",
    "idata <- data.frame(variables)\n",
    "av.ok <- Anova(mod.ok, idata=idata, idesign=~variables,type=3)\n",
    "av.ok"
   ]
  },
  {
   "cell_type": "markdown",
   "metadata": {
    "hideCode": true,
    "hidePrompt": true
   },
   "source": [
    "# Stat model 3: Predicting the use of CVS"
   ]
  },
  {
   "cell_type": "markdown",
   "metadata": {},
   "source": [
    "## For cvs_table"
   ]
  },
  {
   "cell_type": "code",
   "execution_count": null,
   "metadata": {},
   "outputs": [],
   "source": [
    "# mydata$variable <- relevel(mydata$variable, \"Width\")\n",
    "mixed <- glmer(\n",
    "    cvs_table\n",
    "    ~ variable + sim_index + pre\n",
    "    + lab_experience + similar_sim + prior_number_virtual_labs + overall.POCC\n",
    "    +  PC1 + PC2 + (1 | sid),\n",
    "           data = mydata, family = binomial, \n",
    "           control = glmerControl(optimizer = \"bobyqa\"), nAGQ = 10)\n",
    "\n",
    "summary(mixed)"
   ]
  },
  {
   "cell_type": "markdown",
   "metadata": {},
   "source": [
    "## For cvs_graph"
   ]
  },
  {
   "cell_type": "code",
   "execution_count": null,
   "metadata": {},
   "outputs": [],
   "source": [
    "mixed <- glmer(\n",
    "    cvs_graph\n",
    "    ~ variable + sim_index + pre\n",
    "    + lab_experience + similar_sim + prior_number_virtual_labs + overall.POCC\n",
    "    +  PC1 + PC2 + (1 | sid),\n",
    "           data = mydata, family = binomial, \n",
    "           control = glmerControl(optimizer = \"bobyqa\"), nAGQ = 10)\n",
    "\n",
    "summary(mixed)"
   ]
  },
  {
   "cell_type": "markdown",
   "metadata": {},
   "source": [
    "# Example from R package \"car\"\n",
    "See page 9 of https://cran.r-project.org/web/packages/car/car.pdf"
   ]
  },
  {
   "cell_type": "code",
   "execution_count": 13,
   "metadata": {},
   "outputs": [],
   "source": [
    "?OBrienKaiser"
   ]
  },
  {
   "cell_type": "code",
   "execution_count": 15,
   "metadata": {},
   "outputs": [
    {
     "data": {
      "text/html": [
       "<table>\n",
       "<thead><tr><th scope=col>treatment</th><th scope=col>gender</th><th scope=col>pre.1</th><th scope=col>pre.2</th><th scope=col>pre.3</th><th scope=col>pre.4</th><th scope=col>pre.5</th><th scope=col>post.1</th><th scope=col>post.2</th><th scope=col>post.3</th><th scope=col>post.4</th><th scope=col>post.5</th><th scope=col>fup.1</th><th scope=col>fup.2</th><th scope=col>fup.3</th><th scope=col>fup.4</th><th scope=col>fup.5</th></tr></thead>\n",
       "<tbody>\n",
       "\t<tr><td>control</td><td>M      </td><td>1      </td><td>2      </td><td>4      </td><td>2      </td><td>1      </td><td>3      </td><td> 2     </td><td> 5     </td><td> 3     </td><td>2      </td><td>2      </td><td> 3     </td><td> 2     </td><td> 4     </td><td>4      </td></tr>\n",
       "\t<tr><td>control</td><td>M      </td><td>4      </td><td>4      </td><td>5      </td><td>3      </td><td>4      </td><td>2      </td><td> 2     </td><td> 3     </td><td> 5     </td><td>3      </td><td>4      </td><td> 5     </td><td> 6     </td><td> 4     </td><td>1      </td></tr>\n",
       "\t<tr><td>control</td><td>M      </td><td>5      </td><td>6      </td><td>5      </td><td>7      </td><td>7      </td><td>4      </td><td> 5     </td><td> 7     </td><td> 5     </td><td>4      </td><td>7      </td><td> 6     </td><td> 9     </td><td> 7     </td><td>6      </td></tr>\n",
       "\t<tr><td>control</td><td>F      </td><td>5      </td><td>4      </td><td>7      </td><td>5      </td><td>4      </td><td>2      </td><td> 2     </td><td> 3     </td><td> 5     </td><td>3      </td><td>4      </td><td> 4     </td><td> 5     </td><td> 3     </td><td>4      </td></tr>\n",
       "\t<tr><td>control</td><td>F      </td><td>3      </td><td>4      </td><td>6      </td><td>4      </td><td>3      </td><td>6      </td><td> 7     </td><td> 8     </td><td> 6     </td><td>3      </td><td>4      </td><td> 3     </td><td> 6     </td><td> 4     </td><td>3      </td></tr>\n",
       "\t<tr><td>A      </td><td>M      </td><td>7      </td><td>8      </td><td>7      </td><td>9      </td><td>9      </td><td>9      </td><td> 9     </td><td>10     </td><td> 8     </td><td>9      </td><td>9      </td><td>10     </td><td>11     </td><td> 9     </td><td>6      </td></tr>\n",
       "\t<tr><td>A      </td><td>M      </td><td>5      </td><td>5      </td><td>6      </td><td>4      </td><td>5      </td><td>7      </td><td> 7     </td><td> 8     </td><td>10     </td><td>8      </td><td>8      </td><td> 9     </td><td>11     </td><td> 9     </td><td>8      </td></tr>\n",
       "\t<tr><td>A      </td><td>F      </td><td>2      </td><td>3      </td><td>5      </td><td>3      </td><td>2      </td><td>2      </td><td> 4     </td><td> 8     </td><td> 6     </td><td>5      </td><td>6      </td><td> 6     </td><td> 7     </td><td> 5     </td><td>6      </td></tr>\n",
       "\t<tr><td>A      </td><td>F      </td><td>3      </td><td>3      </td><td>4      </td><td>6      </td><td>4      </td><td>4      </td><td> 5     </td><td> 6     </td><td> 4     </td><td>1      </td><td>5      </td><td> 4     </td><td> 7     </td><td> 5     </td><td>4      </td></tr>\n",
       "\t<tr><td>B      </td><td>M      </td><td>4      </td><td>4      </td><td>5      </td><td>3      </td><td>4      </td><td>6      </td><td> 7     </td><td> 6     </td><td> 8     </td><td>8      </td><td>8      </td><td> 8     </td><td> 9     </td><td> 7     </td><td>8      </td></tr>\n",
       "\t<tr><td>B      </td><td>M      </td><td>3      </td><td>3      </td><td>4      </td><td>2      </td><td>3      </td><td>5      </td><td> 4     </td><td> 7     </td><td> 5     </td><td>4      </td><td>5      </td><td> 6     </td><td> 8     </td><td> 6     </td><td>5      </td></tr>\n",
       "\t<tr><td>B      </td><td>M      </td><td>6      </td><td>7      </td><td>8      </td><td>6      </td><td>3      </td><td>9      </td><td>10     </td><td>11     </td><td> 9     </td><td>6      </td><td>8      </td><td> 7     </td><td>10     </td><td> 8     </td><td>7      </td></tr>\n",
       "\t<tr><td>B      </td><td>F      </td><td>5      </td><td>5      </td><td>6      </td><td>8      </td><td>6      </td><td>4      </td><td> 6     </td><td> 6     </td><td> 8     </td><td>6      </td><td>7      </td><td> 7     </td><td> 8     </td><td>10     </td><td>8      </td></tr>\n",
       "\t<tr><td>B      </td><td>F      </td><td>2      </td><td>2      </td><td>3      </td><td>1      </td><td>2      </td><td>5      </td><td> 6     </td><td> 7     </td><td> 5     </td><td>2      </td><td>6      </td><td> 7     </td><td> 8     </td><td> 6     </td><td>3      </td></tr>\n",
       "\t<tr><td>B      </td><td>F      </td><td>2      </td><td>2      </td><td>3      </td><td>4      </td><td>4      </td><td>6      </td><td> 6     </td><td> 7     </td><td> 9     </td><td>7      </td><td>7      </td><td> 7     </td><td> 8     </td><td> 6     </td><td>7      </td></tr>\n",
       "\t<tr><td>B      </td><td>F      </td><td>4      </td><td>5      </td><td>7      </td><td>5      </td><td>4      </td><td>7      </td><td> 7     </td><td> 8     </td><td> 6     </td><td>7      </td><td>7      </td><td> 8     </td><td>10     </td><td> 8     </td><td>7      </td></tr>\n",
       "</tbody>\n",
       "</table>\n"
      ],
      "text/latex": [
       "\\begin{tabular}{r|lllllllllllllllll}\n",
       " treatment & gender & pre.1 & pre.2 & pre.3 & pre.4 & pre.5 & post.1 & post.2 & post.3 & post.4 & post.5 & fup.1 & fup.2 & fup.3 & fup.4 & fup.5\\\\\n",
       "\\hline\n",
       "\t control & M       & 1       & 2       & 4       & 2       & 1       & 3       &  2      &  5      &  3      & 2       & 2       &  3      &  2      &  4      & 4      \\\\\n",
       "\t control & M       & 4       & 4       & 5       & 3       & 4       & 2       &  2      &  3      &  5      & 3       & 4       &  5      &  6      &  4      & 1      \\\\\n",
       "\t control & M       & 5       & 6       & 5       & 7       & 7       & 4       &  5      &  7      &  5      & 4       & 7       &  6      &  9      &  7      & 6      \\\\\n",
       "\t control & F       & 5       & 4       & 7       & 5       & 4       & 2       &  2      &  3      &  5      & 3       & 4       &  4      &  5      &  3      & 4      \\\\\n",
       "\t control & F       & 3       & 4       & 6       & 4       & 3       & 6       &  7      &  8      &  6      & 3       & 4       &  3      &  6      &  4      & 3      \\\\\n",
       "\t A       & M       & 7       & 8       & 7       & 9       & 9       & 9       &  9      & 10      &  8      & 9       & 9       & 10      & 11      &  9      & 6      \\\\\n",
       "\t A       & M       & 5       & 5       & 6       & 4       & 5       & 7       &  7      &  8      & 10      & 8       & 8       &  9      & 11      &  9      & 8      \\\\\n",
       "\t A       & F       & 2       & 3       & 5       & 3       & 2       & 2       &  4      &  8      &  6      & 5       & 6       &  6      &  7      &  5      & 6      \\\\\n",
       "\t A       & F       & 3       & 3       & 4       & 6       & 4       & 4       &  5      &  6      &  4      & 1       & 5       &  4      &  7      &  5      & 4      \\\\\n",
       "\t B       & M       & 4       & 4       & 5       & 3       & 4       & 6       &  7      &  6      &  8      & 8       & 8       &  8      &  9      &  7      & 8      \\\\\n",
       "\t B       & M       & 3       & 3       & 4       & 2       & 3       & 5       &  4      &  7      &  5      & 4       & 5       &  6      &  8      &  6      & 5      \\\\\n",
       "\t B       & M       & 6       & 7       & 8       & 6       & 3       & 9       & 10      & 11      &  9      & 6       & 8       &  7      & 10      &  8      & 7      \\\\\n",
       "\t B       & F       & 5       & 5       & 6       & 8       & 6       & 4       &  6      &  6      &  8      & 6       & 7       &  7      &  8      & 10      & 8      \\\\\n",
       "\t B       & F       & 2       & 2       & 3       & 1       & 2       & 5       &  6      &  7      &  5      & 2       & 6       &  7      &  8      &  6      & 3      \\\\\n",
       "\t B       & F       & 2       & 2       & 3       & 4       & 4       & 6       &  6      &  7      &  9      & 7       & 7       &  7      &  8      &  6      & 7      \\\\\n",
       "\t B       & F       & 4       & 5       & 7       & 5       & 4       & 7       &  7      &  8      &  6      & 7       & 7       &  8      & 10      &  8      & 7      \\\\\n",
       "\\end{tabular}\n"
      ],
      "text/markdown": [
       "\n",
       "treatment | gender | pre.1 | pre.2 | pre.3 | pre.4 | pre.5 | post.1 | post.2 | post.3 | post.4 | post.5 | fup.1 | fup.2 | fup.3 | fup.4 | fup.5 | \n",
       "|---|---|---|---|---|---|---|---|---|---|---|---|---|---|---|---|\n",
       "| control | M       | 1       | 2       | 4       | 2       | 1       | 3       |  2      |  5      |  3      | 2       | 2       |  3      |  2      |  4      | 4       | \n",
       "| control | M       | 4       | 4       | 5       | 3       | 4       | 2       |  2      |  3      |  5      | 3       | 4       |  5      |  6      |  4      | 1       | \n",
       "| control | M       | 5       | 6       | 5       | 7       | 7       | 4       |  5      |  7      |  5      | 4       | 7       |  6      |  9      |  7      | 6       | \n",
       "| control | F       | 5       | 4       | 7       | 5       | 4       | 2       |  2      |  3      |  5      | 3       | 4       |  4      |  5      |  3      | 4       | \n",
       "| control | F       | 3       | 4       | 6       | 4       | 3       | 6       |  7      |  8      |  6      | 3       | 4       |  3      |  6      |  4      | 3       | \n",
       "| A       | M       | 7       | 8       | 7       | 9       | 9       | 9       |  9      | 10      |  8      | 9       | 9       | 10      | 11      |  9      | 6       | \n",
       "| A       | M       | 5       | 5       | 6       | 4       | 5       | 7       |  7      |  8      | 10      | 8       | 8       |  9      | 11      |  9      | 8       | \n",
       "| A       | F       | 2       | 3       | 5       | 3       | 2       | 2       |  4      |  8      |  6      | 5       | 6       |  6      |  7      |  5      | 6       | \n",
       "| A       | F       | 3       | 3       | 4       | 6       | 4       | 4       |  5      |  6      |  4      | 1       | 5       |  4      |  7      |  5      | 4       | \n",
       "| B       | M       | 4       | 4       | 5       | 3       | 4       | 6       |  7      |  6      |  8      | 8       | 8       |  8      |  9      |  7      | 8       | \n",
       "| B       | M       | 3       | 3       | 4       | 2       | 3       | 5       |  4      |  7      |  5      | 4       | 5       |  6      |  8      |  6      | 5       | \n",
       "| B       | M       | 6       | 7       | 8       | 6       | 3       | 9       | 10      | 11      |  9      | 6       | 8       |  7      | 10      |  8      | 7       | \n",
       "| B       | F       | 5       | 5       | 6       | 8       | 6       | 4       |  6      |  6      |  8      | 6       | 7       |  7      |  8      | 10      | 8       | \n",
       "| B       | F       | 2       | 2       | 3       | 1       | 2       | 5       |  6      |  7      |  5      | 2       | 6       |  7      |  8      |  6      | 3       | \n",
       "| B       | F       | 2       | 2       | 3       | 4       | 4       | 6       |  6      |  7      |  9      | 7       | 7       |  7      |  8      |  6      | 7       | \n",
       "| B       | F       | 4       | 5       | 7       | 5       | 4       | 7       |  7      |  8      |  6      | 7       | 7       |  8      | 10      |  8      | 7       | \n",
       "\n",
       "\n"
      ],
      "text/plain": [
       "   treatment gender pre.1 pre.2 pre.3 pre.4 pre.5 post.1 post.2 post.3 post.4\n",
       "1  control   M      1     2     4     2     1     3       2      5      3    \n",
       "2  control   M      4     4     5     3     4     2       2      3      5    \n",
       "3  control   M      5     6     5     7     7     4       5      7      5    \n",
       "4  control   F      5     4     7     5     4     2       2      3      5    \n",
       "5  control   F      3     4     6     4     3     6       7      8      6    \n",
       "6  A         M      7     8     7     9     9     9       9     10      8    \n",
       "7  A         M      5     5     6     4     5     7       7      8     10    \n",
       "8  A         F      2     3     5     3     2     2       4      8      6    \n",
       "9  A         F      3     3     4     6     4     4       5      6      4    \n",
       "10 B         M      4     4     5     3     4     6       7      6      8    \n",
       "11 B         M      3     3     4     2     3     5       4      7      5    \n",
       "12 B         M      6     7     8     6     3     9      10     11      9    \n",
       "13 B         F      5     5     6     8     6     4       6      6      8    \n",
       "14 B         F      2     2     3     1     2     5       6      7      5    \n",
       "15 B         F      2     2     3     4     4     6       6      7      9    \n",
       "16 B         F      4     5     7     5     4     7       7      8      6    \n",
       "   post.5 fup.1 fup.2 fup.3 fup.4 fup.5\n",
       "1  2      2      3     2     4    4    \n",
       "2  3      4      5     6     4    1    \n",
       "3  4      7      6     9     7    6    \n",
       "4  3      4      4     5     3    4    \n",
       "5  3      4      3     6     4    3    \n",
       "6  9      9     10    11     9    6    \n",
       "7  8      8      9    11     9    8    \n",
       "8  5      6      6     7     5    6    \n",
       "9  1      5      4     7     5    4    \n",
       "10 8      8      8     9     7    8    \n",
       "11 4      5      6     8     6    5    \n",
       "12 6      8      7    10     8    7    \n",
       "13 6      7      7     8    10    8    \n",
       "14 2      6      7     8     6    3    \n",
       "15 7      7      7     8     6    7    \n",
       "16 7      7      8    10     8    7    "
      ]
     },
     "metadata": {},
     "output_type": "display_data"
    }
   ],
   "source": [
    "OBrienKaiser"
   ]
  },
  {
   "cell_type": "code",
   "execution_count": 20,
   "metadata": {},
   "outputs": [
    {
     "data": {
      "text/html": [
       "<table>\n",
       "<thead><tr><th scope=col>phase</th><th scope=col>hour</th></tr></thead>\n",
       "<tbody>\n",
       "\t<tr><td>pretest </td><td>1       </td></tr>\n",
       "\t<tr><td>pretest </td><td>2       </td></tr>\n",
       "\t<tr><td>pretest </td><td>3       </td></tr>\n",
       "\t<tr><td>pretest </td><td>4       </td></tr>\n",
       "\t<tr><td>pretest </td><td>5       </td></tr>\n",
       "\t<tr><td>posttest</td><td>1       </td></tr>\n",
       "\t<tr><td>posttest</td><td>2       </td></tr>\n",
       "\t<tr><td>posttest</td><td>3       </td></tr>\n",
       "\t<tr><td>posttest</td><td>4       </td></tr>\n",
       "\t<tr><td>posttest</td><td>5       </td></tr>\n",
       "\t<tr><td>followup</td><td>1       </td></tr>\n",
       "\t<tr><td>followup</td><td>2       </td></tr>\n",
       "\t<tr><td>followup</td><td>3       </td></tr>\n",
       "\t<tr><td>followup</td><td>4       </td></tr>\n",
       "\t<tr><td>followup</td><td>5       </td></tr>\n",
       "</tbody>\n",
       "</table>\n"
      ],
      "text/latex": [
       "\\begin{tabular}{r|ll}\n",
       " phase & hour\\\\\n",
       "\\hline\n",
       "\t pretest  & 1       \\\\\n",
       "\t pretest  & 2       \\\\\n",
       "\t pretest  & 3       \\\\\n",
       "\t pretest  & 4       \\\\\n",
       "\t pretest  & 5       \\\\\n",
       "\t posttest & 1       \\\\\n",
       "\t posttest & 2       \\\\\n",
       "\t posttest & 3       \\\\\n",
       "\t posttest & 4       \\\\\n",
       "\t posttest & 5       \\\\\n",
       "\t followup & 1       \\\\\n",
       "\t followup & 2       \\\\\n",
       "\t followup & 3       \\\\\n",
       "\t followup & 4       \\\\\n",
       "\t followup & 5       \\\\\n",
       "\\end{tabular}\n"
      ],
      "text/markdown": [
       "\n",
       "phase | hour | \n",
       "|---|---|---|---|---|---|---|---|---|---|---|---|---|---|---|\n",
       "| pretest  | 1        | \n",
       "| pretest  | 2        | \n",
       "| pretest  | 3        | \n",
       "| pretest  | 4        | \n",
       "| pretest  | 5        | \n",
       "| posttest | 1        | \n",
       "| posttest | 2        | \n",
       "| posttest | 3        | \n",
       "| posttest | 4        | \n",
       "| posttest | 5        | \n",
       "| followup | 1        | \n",
       "| followup | 2        | \n",
       "| followup | 3        | \n",
       "| followup | 4        | \n",
       "| followup | 5        | \n",
       "\n",
       "\n"
      ],
      "text/plain": [
       "   phase    hour\n",
       "1  pretest  1   \n",
       "2  pretest  2   \n",
       "3  pretest  3   \n",
       "4  pretest  4   \n",
       "5  pretest  5   \n",
       "6  posttest 1   \n",
       "7  posttest 2   \n",
       "8  posttest 3   \n",
       "9  posttest 4   \n",
       "10 posttest 5   \n",
       "11 followup 1   \n",
       "12 followup 2   \n",
       "13 followup 3   \n",
       "14 followup 4   \n",
       "15 followup 5   "
      ]
     },
     "metadata": {},
     "output_type": "display_data"
    }
   ],
   "source": [
    "phase <- factor(rep(c(\"pretest\", \"posttest\", \"followup\"), c(5, 5, 5)),\n",
    "levels=c(\"pretest\", \"posttest\", \"followup\"))\n",
    "hour <- ordered(rep(1:5, 3))\n",
    "idata <- data.frame(phase, hour)\n",
    "idata"
   ]
  },
  {
   "cell_type": "code",
   "execution_count": 31,
   "metadata": {
    "scrolled": false
   },
   "outputs": [
    {
     "data": {
      "text/plain": [
       "\n",
       "Type III Repeated Measures MANOVA Tests: Pillai test statistic\n",
       "                            Df test stat approx F num Df den Df    Pr(>F)    \n",
       "(Intercept)                  1   0.96736  296.389      1     10 9.241e-09 ***\n",
       "treatment                    2   0.44075    3.940      2     10 0.0547069 .  \n",
       "gender                       1   0.26789    3.659      1     10 0.0848003 .  \n",
       "treatment:gender             2   0.36350    2.855      2     10 0.1044692    \n",
       "phase                        1   0.81363   19.645      2      9 0.0005208 ***\n",
       "treatment:phase              2   0.69621    2.670      4     20 0.0621085 .  \n",
       "gender:phase                 1   0.06614    0.319      2      9 0.7349696    \n",
       "treatment:gender:phase       2   0.31060    0.919      4     20 0.4721498    \n",
       "hour                         1   0.93286   24.315      4      7 0.0003345 ***\n",
       "treatment:hour               2   0.31634    0.376      8     16 0.9183275    \n",
       "gender:hour                  1   0.33922    0.898      4      7 0.5129764    \n",
       "treatment:gender:hour        2   0.57022    0.798      8     16 0.6131884    \n",
       "phase:hour                   1   0.56043    0.478      8      3 0.8202673    \n",
       "treatment:phase:hour         2   0.66238    0.248     16      8 0.9915531    \n",
       "gender:phase:hour            1   0.71151    0.925      8      3 0.5894907    \n",
       "treatment:gender:phase:hour  2   0.79277    0.328     16      8 0.9723693    \n",
       "---\n",
       "Signif. codes:  0 '***' 0.001 '**' 0.01 '*' 0.05 '.' 0.1 ' ' 1"
      ]
     },
     "metadata": {},
     "output_type": "display_data"
    },
    {
     "data": {
      "text/plain": [
       "\n",
       "Univariate Type III Repeated-Measures ANOVA Assuming Sphericity\n",
       "\n",
       "                                SS num Df Error SS den Df        F    Pr(>F)\n",
       "(Intercept)                 6759.3      1  228.056     10 296.3888 9.241e-09\n",
       "treatment                    179.7      2  228.056     10   3.9405  0.054707\n",
       "gender                        83.4      1  228.056     10   3.6591  0.084800\n",
       "treatment:gender             130.2      2  228.056     10   2.8555  0.104469\n",
       "phase                        129.5      2   80.278     20  16.1329 6.732e-05\n",
       "treatment:phase               77.9      4   80.278     20   4.8510  0.006723\n",
       "gender:phase                   2.3      2   80.278     20   0.2828  0.756647\n",
       "treatment:gender:phase        10.2      4   80.278     20   0.6366  0.642369\n",
       "hour                         104.3      4   62.500     40  16.6857 4.027e-08\n",
       "treatment:hour                 1.2      8   62.500     40   0.0933  0.999245\n",
       "gender:hour                    2.8      4   62.500     40   0.4503  0.771559\n",
       "treatment:gender:hour          7.8      8   62.500     40   0.6204  0.755484\n",
       "phase:hour                    11.3      8   96.167     80   1.1799  0.321587\n",
       "treatment:phase:hour           6.6     16   96.167     80   0.3453  0.990125\n",
       "gender:phase:hour              9.0      8   96.167     80   0.9313  0.495612\n",
       "treatment:gender:phase:hour   14.2     16   96.167     80   0.7359  0.749562\n",
       "                               \n",
       "(Intercept)                 ***\n",
       "treatment                   .  \n",
       "gender                      .  \n",
       "treatment:gender               \n",
       "phase                       ***\n",
       "treatment:phase             ** \n",
       "gender:phase                   \n",
       "treatment:gender:phase         \n",
       "hour                        ***\n",
       "treatment:hour                 \n",
       "gender:hour                    \n",
       "treatment:gender:hour          \n",
       "phase:hour                     \n",
       "treatment:phase:hour           \n",
       "gender:phase:hour              \n",
       "treatment:gender:phase:hour    \n",
       "---\n",
       "Signif. codes:  0 '***' 0.001 '**' 0.01 '*' 0.05 '.' 0.1 ' ' 1\n",
       "\n",
       "\n",
       "Mauchly Tests for Sphericity\n",
       "\n",
       "                            Test statistic p-value\n",
       "phase                              0.74927 0.27282\n",
       "treatment:phase                    0.74927 0.27282\n",
       "gender:phase                       0.74927 0.27282\n",
       "treatment:gender:phase             0.74927 0.27282\n",
       "hour                               0.06607 0.00760\n",
       "treatment:hour                     0.06607 0.00760\n",
       "gender:hour                        0.06607 0.00760\n",
       "treatment:gender:hour              0.06607 0.00760\n",
       "phase:hour                         0.00478 0.44939\n",
       "treatment:phase:hour               0.00478 0.44939\n",
       "gender:phase:hour                  0.00478 0.44939\n",
       "treatment:gender:phase:hour        0.00478 0.44939\n",
       "\n",
       "\n",
       "Greenhouse-Geisser and Huynh-Feldt Corrections\n",
       " for Departure from Sphericity\n",
       "\n",
       "                             GG eps Pr(>F[GG])    \n",
       "phase                       0.79953  0.0002814 ***\n",
       "treatment:phase             0.79953  0.0126909 *  \n",
       "gender:phase                0.79953  0.7089599    \n",
       "treatment:gender:phase      0.79953  0.6116209    \n",
       "hour                        0.46028  9.763e-05 ***\n",
       "treatment:hour              0.46028  0.9786227    \n",
       "gender:hour                 0.46028  0.6284344    \n",
       "treatment:gender:hour       0.46028  0.6413625    \n",
       "phase:hour                  0.44950  0.3345212    \n",
       "treatment:phase:hour        0.44950  0.9303725    \n",
       "gender:phase:hour           0.44950  0.4490777    \n",
       "treatment:gender:phase:hour 0.44950  0.6463449    \n",
       "---\n",
       "Signif. codes:  0 '***' 0.001 '**' 0.01 '*' 0.05 '.' 0.1 ' ' 1\n",
       "\n",
       "                               HF eps   Pr(>F[HF])\n",
       "phase                       0.9278594 1.124743e-04\n",
       "treatment:phase             0.9278594 8.438776e-03\n",
       "gender:phase                0.9278594 7.408568e-01\n",
       "treatment:gender:phase      0.9278594 6.319975e-01\n",
       "hour                        0.5592802 2.300914e-05\n",
       "treatment:hour              0.5592802 9.886617e-01\n",
       "gender:hour                 0.5592802 6.645541e-01\n",
       "treatment:gender:hour       0.5592802 6.692976e-01\n",
       "phase:hour                  0.7330608 3.296590e-01\n",
       "treatment:phase:hour        0.7330608 9.752254e-01\n",
       "gender:phase:hour           0.7330608 4.780341e-01\n",
       "treatment:gender:phase:hour 0.7330608 7.080122e-01"
      ]
     },
     "metadata": {},
     "output_type": "display_data"
    }
   ],
   "source": [
    "mod.ok <- lm(cbind(pre.1, pre.2, pre.3, pre.4, pre.5,\n",
    "post.1, post.2, post.3, post.4, post.5,\n",
    "fup.1, fup.2, fup.3, fup.4, fup.5) ~ treatment*gender,\n",
    "data=OBrienKaiser)\n",
    "(av.ok <- Anova(mod.ok, idata=idata, idesign=~phase*hour,type=3))\n",
    "summary(av.ok, multivariate=FALSE)"
   ]
  },
  {
   "cell_type": "code",
   "execution_count": null,
   "metadata": {},
   "outputs": [],
   "source": []
  }
 ],
 "metadata": {
  "anaconda-cloud": {},
  "kernelspec": {
   "display_name": "R",
   "language": "R",
   "name": "ir"
  },
  "language_info": {
   "codemirror_mode": "r",
   "file_extension": ".r",
   "mimetype": "text/x-r-source",
   "name": "R",
   "pygments_lexer": "r",
   "version": "3.4.3"
  },
  "toc": {
   "nav_menu": {},
   "number_sections": true,
   "sideBar": true,
   "skip_h1_title": false,
   "toc_cell": false,
   "toc_position": {},
   "toc_section_display": "block",
   "toc_window_display": false
  }
 },
 "nbformat": 4,
 "nbformat_minor": 1
}
