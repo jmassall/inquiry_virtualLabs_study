{
 "cells": [
  {
   "cell_type": "markdown",
   "metadata": {},
   "source": [
    "Load libraries"
   ]
  },
  {
   "cell_type": "code",
   "execution_count": 1,
   "metadata": {},
   "outputs": [
    {
     "name": "stderr",
     "output_type": "stream",
     "text": [
      "Loading required package: ggplot2\n",
      "Warning message:\n",
      "\"package 'ggplot2' was built under R version 3.4.4\"Loading required package: reshape2\n",
      "Warning message:\n",
      "\"package 'reshape2' was built under R version 3.4.4\"Loading required package: lme4\n",
      "Warning message:\n",
      "\"package 'lme4' was built under R version 3.4.4\"Loading required package: Matrix\n",
      "Loading required package: compiler\n",
      "Loading required package: parallel\n",
      "Loading required package: car\n",
      "Loading required package: boot\n",
      "\n",
      "Attaching package: 'boot'\n",
      "\n",
      "The following object is masked from 'package:car':\n",
      "\n",
      "    logit\n",
      "\n",
      "Loading required package: dplyr\n",
      "\n",
      "Attaching package: 'dplyr'\n",
      "\n",
      "The following object is masked from 'package:car':\n",
      "\n",
      "    recode\n",
      "\n",
      "The following objects are masked from 'package:stats':\n",
      "\n",
      "    filter, lag\n",
      "\n",
      "The following objects are masked from 'package:base':\n",
      "\n",
      "    intersect, setdiff, setequal, union\n",
      "\n",
      "Loading required package: sjstats\n",
      "Warning message:\n",
      "\"package 'sjstats' was built under R version 3.4.4\"Warning message in checkMatrixPackageVersion():\n",
      "\"Package version inconsistency detected.\n",
      "TMB was built with Matrix version 1.2.14\n",
      "Current Matrix version is 1.2.12\n",
      "Please re-install 'TMB' from source using install.packages('TMB', type = 'source') or ask CRAN for a binary version of 'TMB' matching CRAN's 'Matrix' package\"Loading required package: broom\n",
      "Warning message:\n",
      "\"package 'broom' was built under R version 3.4.4\"\n",
      "Attaching package: 'broom'\n",
      "\n",
      "The following object is masked from 'package:sjstats':\n",
      "\n",
      "    bootstrap\n",
      "\n"
     ]
    }
   ],
   "source": [
    "require(ggplot2)\n",
    "require(reshape2)\n",
    "require(lme4)\n",
    "require(compiler)\n",
    "require(parallel)\n",
    "require(car)\n",
    "require(boot)\n",
    "require(dplyr)\n",
    "require(sjstats)\n",
    "require(broom)"
   ]
  },
  {
   "cell_type": "markdown",
   "metadata": {},
   "source": [
    "# Load data and set factors"
   ]
  },
  {
   "cell_type": "code",
   "execution_count": 2,
   "metadata": {},
   "outputs": [],
   "source": [
    "mydata <- read.csv(\"C:\\\\Users\\\\Sarah\\\\Documents\\\\Personal Content\\\\Lab_study_data\\\\all_massaged_data\\\\dataframe_all_factors_for_analysis.txt\",sep = '\\t')\n",
    "# sid is the student number\n",
    "mydata$sid <- factor(mydata$sid)\n",
    "mydata$sim_index <- factor(mydata$sim_index)\n",
    "mydata$lab_experience <- factor(mydata$lab_experience)\n",
    "mydata$similar_sim <- factor(mydata$similar_sim)\n",
    "mydata$cvs_graph <- factor(mydata$cvs_graph)\n",
    "mydata$cvs_table <- factor(mydata$cvs_table)"
   ]
  },
  {
   "cell_type": "code",
   "execution_count": 3,
   "metadata": {},
   "outputs": [
    {
     "data": {
      "text/html": [
       "<table>\n",
       "<thead><tr><th scope=col>sid</th><th scope=col>sim</th><th scope=col>variable</th><th scope=col>pre</th><th scope=col>main</th><th scope=col>cvs_graph</th><th scope=col>cvs_table</th><th scope=col>qual_score</th><th scope=col>quant_score</th><th scope=col>activity_order</th><th scope=col>...</th><th scope=col>pre_with_ident</th><th scope=col>main_with_ident</th><th scope=col>CVS_context</th><th scope=col>use_table</th><th scope=col>use_graph</th><th scope=col>use_concentration</th><th scope=col>use_width</th><th scope=col>use_area</th><th scope=col>use_separation</th><th scope=col>use_all_vars</th></tr></thead>\n",
       "<tbody>\n",
       "\t<tr><td>10127163     </td><td>L            </td><td>Concentration</td><td>0            </td><td>2            </td><td>1            </td><td>1            </td><td>1            </td><td>1            </td><td>LC           </td><td>...          </td><td>1            </td><td>3            </td><td>2            </td><td>1            </td><td>1            </td><td>1            </td><td>1            </td><td>1            </td><td>1            </td><td>4            </td></tr>\n",
       "\t<tr><td>10127163     </td><td>L            </td><td>Width        </td><td>0            </td><td>2            </td><td>1            </td><td>1            </td><td>1            </td><td>1            </td><td>LC           </td><td>...          </td><td>1            </td><td>3            </td><td>2            </td><td>1            </td><td>1            </td><td>1            </td><td>1            </td><td>1            </td><td>1            </td><td>4            </td></tr>\n",
       "\t<tr><td>10127163     </td><td>C            </td><td>Area         </td><td>2            </td><td>2            </td><td>1            </td><td>1            </td><td>1            </td><td>1            </td><td>LC           </td><td>...          </td><td>3            </td><td>3            </td><td>2            </td><td>1            </td><td>1            </td><td>1            </td><td>1            </td><td>1            </td><td>1            </td><td>4            </td></tr>\n",
       "\t<tr><td>10127163     </td><td>C            </td><td>Separation   </td><td>2            </td><td>2            </td><td>1            </td><td>1            </td><td>1            </td><td>1            </td><td>LC           </td><td>...          </td><td>3            </td><td>3            </td><td>2            </td><td>1            </td><td>1            </td><td>1            </td><td>1            </td><td>1            </td><td>1            </td><td>4            </td></tr>\n",
       "\t<tr><td>10232160     </td><td>L            </td><td>Concentration</td><td>0            </td><td>0            </td><td>1            </td><td>1            </td><td>1            </td><td>1            </td><td>LC           </td><td>...          </td><td>1            </td><td>1            </td><td>2            </td><td>1            </td><td>1            </td><td>1            </td><td>1            </td><td>1            </td><td>1            </td><td>4            </td></tr>\n",
       "\t<tr><td>10232160     </td><td>L            </td><td>Width        </td><td>0            </td><td>0            </td><td>0            </td><td>0            </td><td>1            </td><td>1            </td><td>LC           </td><td>...          </td><td>1            </td><td>1            </td><td>0            </td><td>1            </td><td>1            </td><td>1            </td><td>1            </td><td>1            </td><td>1            </td><td>4            </td></tr>\n",
       "</tbody>\n",
       "</table>\n"
      ],
      "text/latex": [
       "\\begin{tabular}{r|lllllllllllllllllllllllllll}\n",
       " sid & sim & variable & pre & main & cvs\\_graph & cvs\\_table & qual\\_score & quant\\_score & activity\\_order & ... & pre\\_with\\_ident & main\\_with\\_ident & CVS\\_context & use\\_table & use\\_graph & use\\_concentration & use\\_width & use\\_area & use\\_separation & use\\_all\\_vars\\\\\n",
       "\\hline\n",
       "\t 10127163      & L             & Concentration & 0             & 2             & 1             & 1             & 1             & 1             & LC            & ...           & 1             & 3             & 2             & 1             & 1             & 1             & 1             & 1             & 1             & 4            \\\\\n",
       "\t 10127163      & L             & Width         & 0             & 2             & 1             & 1             & 1             & 1             & LC            & ...           & 1             & 3             & 2             & 1             & 1             & 1             & 1             & 1             & 1             & 4            \\\\\n",
       "\t 10127163      & C             & Area          & 2             & 2             & 1             & 1             & 1             & 1             & LC            & ...           & 3             & 3             & 2             & 1             & 1             & 1             & 1             & 1             & 1             & 4            \\\\\n",
       "\t 10127163      & C             & Separation    & 2             & 2             & 1             & 1             & 1             & 1             & LC            & ...           & 3             & 3             & 2             & 1             & 1             & 1             & 1             & 1             & 1             & 4            \\\\\n",
       "\t 10232160      & L             & Concentration & 0             & 0             & 1             & 1             & 1             & 1             & LC            & ...           & 1             & 1             & 2             & 1             & 1             & 1             & 1             & 1             & 1             & 4            \\\\\n",
       "\t 10232160      & L             & Width         & 0             & 0             & 0             & 0             & 1             & 1             & LC            & ...           & 1             & 1             & 0             & 1             & 1             & 1             & 1             & 1             & 1             & 4            \\\\\n",
       "\\end{tabular}\n"
      ],
      "text/markdown": [
       "\n",
       "sid | sim | variable | pre | main | cvs_graph | cvs_table | qual_score | quant_score | activity_order | ... | pre_with_ident | main_with_ident | CVS_context | use_table | use_graph | use_concentration | use_width | use_area | use_separation | use_all_vars | \n",
       "|---|---|---|---|---|---|\n",
       "| 10127163      | L             | Concentration | 0             | 2             | 1             | 1             | 1             | 1             | LC            | ...           | 1             | 3             | 2             | 1             | 1             | 1             | 1             | 1             | 1             | 4             | \n",
       "| 10127163      | L             | Width         | 0             | 2             | 1             | 1             | 1             | 1             | LC            | ...           | 1             | 3             | 2             | 1             | 1             | 1             | 1             | 1             | 1             | 4             | \n",
       "| 10127163      | C             | Area          | 2             | 2             | 1             | 1             | 1             | 1             | LC            | ...           | 3             | 3             | 2             | 1             | 1             | 1             | 1             | 1             | 1             | 4             | \n",
       "| 10127163      | C             | Separation    | 2             | 2             | 1             | 1             | 1             | 1             | LC            | ...           | 3             | 3             | 2             | 1             | 1             | 1             | 1             | 1             | 1             | 4             | \n",
       "| 10232160      | L             | Concentration | 0             | 0             | 1             | 1             | 1             | 1             | LC            | ...           | 1             | 1             | 2             | 1             | 1             | 1             | 1             | 1             | 1             | 4             | \n",
       "| 10232160      | L             | Width         | 0             | 0             | 0             | 0             | 1             | 1             | LC            | ...           | 1             | 1             | 0             | 1             | 1             | 1             | 1             | 1             | 1             | 4             | \n",
       "\n",
       "\n"
      ],
      "text/plain": [
       "  sid      sim variable      pre main cvs_graph cvs_table qual_score\n",
       "1 10127163 L   Concentration 0   2    1         1         1         \n",
       "2 10127163 L   Width         0   2    1         1         1         \n",
       "3 10127163 C   Area          2   2    1         1         1         \n",
       "4 10127163 C   Separation    2   2    1         1         1         \n",
       "5 10232160 L   Concentration 0   0    1         1         1         \n",
       "6 10232160 L   Width         0   0    0         0         1         \n",
       "  quant_score activity_order ... pre_with_ident main_with_ident CVS_context\n",
       "1 1           LC             ... 1              3               2          \n",
       "2 1           LC             ... 1              3               2          \n",
       "3 1           LC             ... 3              3               2          \n",
       "4 1           LC             ... 3              3               2          \n",
       "5 1           LC             ... 1              1               2          \n",
       "6 1           LC             ... 1              1               0          \n",
       "  use_table use_graph use_concentration use_width use_area use_separation\n",
       "1 1         1         1                 1         1        1             \n",
       "2 1         1         1                 1         1        1             \n",
       "3 1         1         1                 1         1        1             \n",
       "4 1         1         1                 1         1        1             \n",
       "5 1         1         1                 1         1        1             \n",
       "6 1         1         1                 1         1        1             \n",
       "  use_all_vars\n",
       "1 4           \n",
       "2 4           \n",
       "3 4           \n",
       "4 4           \n",
       "5 4           \n",
       "6 4           "
      ]
     },
     "metadata": {},
     "output_type": "display_data"
    },
    {
     "data": {
      "text/html": [
       "<ol class=list-inline>\n",
       "\t<li>'sid'</li>\n",
       "\t<li>'sim'</li>\n",
       "\t<li>'variable'</li>\n",
       "\t<li>'pre'</li>\n",
       "\t<li>'main'</li>\n",
       "\t<li>'cvs_graph'</li>\n",
       "\t<li>'cvs_table'</li>\n",
       "\t<li>'qual_score'</li>\n",
       "\t<li>'quant_score'</li>\n",
       "\t<li>'activity_order'</li>\n",
       "\t<li>'sim_index'</li>\n",
       "\t<li>'similar_sim'</li>\n",
       "\t<li>'lab_experience'</li>\n",
       "\t<li>'prior_number_virtual_labs'</li>\n",
       "\t<li>'overall.POCC'</li>\n",
       "\t<li>'PC1'</li>\n",
       "\t<li>'PC2'</li>\n",
       "\t<li>'pre_with_ident'</li>\n",
       "\t<li>'main_with_ident'</li>\n",
       "\t<li>'CVS_context'</li>\n",
       "\t<li>'use_table'</li>\n",
       "\t<li>'use_graph'</li>\n",
       "\t<li>'use_concentration'</li>\n",
       "\t<li>'use_width'</li>\n",
       "\t<li>'use_area'</li>\n",
       "\t<li>'use_separation'</li>\n",
       "\t<li>'use_all_vars'</li>\n",
       "</ol>\n"
      ],
      "text/latex": [
       "\\begin{enumerate*}\n",
       "\\item 'sid'\n",
       "\\item 'sim'\n",
       "\\item 'variable'\n",
       "\\item 'pre'\n",
       "\\item 'main'\n",
       "\\item 'cvs\\_graph'\n",
       "\\item 'cvs\\_table'\n",
       "\\item 'qual\\_score'\n",
       "\\item 'quant\\_score'\n",
       "\\item 'activity\\_order'\n",
       "\\item 'sim\\_index'\n",
       "\\item 'similar\\_sim'\n",
       "\\item 'lab\\_experience'\n",
       "\\item 'prior\\_number\\_virtual\\_labs'\n",
       "\\item 'overall.POCC'\n",
       "\\item 'PC1'\n",
       "\\item 'PC2'\n",
       "\\item 'pre\\_with\\_ident'\n",
       "\\item 'main\\_with\\_ident'\n",
       "\\item 'CVS\\_context'\n",
       "\\item 'use\\_table'\n",
       "\\item 'use\\_graph'\n",
       "\\item 'use\\_concentration'\n",
       "\\item 'use\\_width'\n",
       "\\item 'use\\_area'\n",
       "\\item 'use\\_separation'\n",
       "\\item 'use\\_all\\_vars'\n",
       "\\end{enumerate*}\n"
      ],
      "text/markdown": [
       "1. 'sid'\n",
       "2. 'sim'\n",
       "3. 'variable'\n",
       "4. 'pre'\n",
       "5. 'main'\n",
       "6. 'cvs_graph'\n",
       "7. 'cvs_table'\n",
       "8. 'qual_score'\n",
       "9. 'quant_score'\n",
       "10. 'activity_order'\n",
       "11. 'sim_index'\n",
       "12. 'similar_sim'\n",
       "13. 'lab_experience'\n",
       "14. 'prior_number_virtual_labs'\n",
       "15. 'overall.POCC'\n",
       "16. 'PC1'\n",
       "17. 'PC2'\n",
       "18. 'pre_with_ident'\n",
       "19. 'main_with_ident'\n",
       "20. 'CVS_context'\n",
       "21. 'use_table'\n",
       "22. 'use_graph'\n",
       "23. 'use_concentration'\n",
       "24. 'use_width'\n",
       "25. 'use_area'\n",
       "26. 'use_separation'\n",
       "27. 'use_all_vars'\n",
       "\n",
       "\n"
      ],
      "text/plain": [
       " [1] \"sid\"                       \"sim\"                      \n",
       " [3] \"variable\"                  \"pre\"                      \n",
       " [5] \"main\"                      \"cvs_graph\"                \n",
       " [7] \"cvs_table\"                 \"qual_score\"               \n",
       " [9] \"quant_score\"               \"activity_order\"           \n",
       "[11] \"sim_index\"                 \"similar_sim\"              \n",
       "[13] \"lab_experience\"            \"prior_number_virtual_labs\"\n",
       "[15] \"overall.POCC\"              \"PC1\"                      \n",
       "[17] \"PC2\"                       \"pre_with_ident\"           \n",
       "[19] \"main_with_ident\"           \"CVS_context\"              \n",
       "[21] \"use_table\"                 \"use_graph\"                \n",
       "[23] \"use_concentration\"         \"use_width\"                \n",
       "[25] \"use_area\"                  \"use_separation\"           \n",
       "[27] \"use_all_vars\"             "
      ]
     },
     "metadata": {},
     "output_type": "display_data"
    }
   ],
   "source": [
    "head(mydata)\n",
    "colnames(mydata)"
   ]
  },
  {
   "cell_type": "markdown",
   "metadata": {
    "hideCode": true,
    "hidePrompt": true
   },
   "source": [
    "# Stat model 1: Predicting main model scores"
   ]
  },
  {
   "cell_type": "markdown",
   "metadata": {},
   "source": [
    "We try to predict the type of model in the main worksheet (0,1 or 2 for neither, qual or quant). To do so, we have 10 independant variables:\n",
    "* sim_index (1 or 2, wither it was student's 1st or 2nd activity)\n",
    "* variable (thus don't include sim)\n",
    "* CVS_graph (0 or 1)\n",
    "* CVS_table (0 or 1)\n",
    "* pre (0,1,2)\n",
    "\n",
    "We could add student attributes but since these are mostly unbalanced, we ignore (lab_experience, similar_sim, prior_number_virtual_labs, attitude components)\n",
    "\n",
    "Some resources:\n",
    "* On SS Types: https://mcfromnz.wordpress.com/2011/03/02/anova-type-iiiiii-ss-explained/\n",
    "* on drop() function to do type 3: https://www.statmethods.net/stats/anova.html\n",
    "* On repeated measures: http://psych.wisc.edu/moore/Rpdf/610-R8_OneWayWithin.pdf, https://datascienceplus.com/two-way-anova-with-repeated-measures/\n",
    "* the car package: https://cran.r-project.org/web/packages/car/car.pdf"
   ]
  },
  {
   "cell_type": "code",
   "execution_count": 4,
   "metadata": {},
   "outputs": [
    {
     "name": "stderr",
     "output_type": "stream",
     "text": [
      "Warning message:\n",
      "\"package 'bindrcpp' was built under R version 3.4.4\""
     ]
    },
    {
     "data": {
      "text/html": [
       "<table>\n",
       "<thead><tr><th scope=col>term</th><th scope=col>sumsq</th><th scope=col>df</th><th scope=col>statistic</th><th scope=col>p.value</th><th scope=col>eta</th></tr></thead>\n",
       "<tbody>\n",
       "\t<tr><td>cvs_table   </td><td>2.875905e-03</td><td>  1         </td><td> 0.01265297 </td><td>9.104905e-01</td><td>2.915345e-05</td></tr>\n",
       "\t<tr><td>cvs_graph   </td><td>2.846821e+00</td><td>  1         </td><td>12.52501086 </td><td>4.449018e-04</td><td>2.804996e-02</td></tr>\n",
       "\t<tr><td>variable    </td><td>2.341790e+00</td><td>  3         </td><td> 3.43434961 </td><td>1.698431e-02</td><td>2.318924e-02</td></tr>\n",
       "\t<tr><td>sim_index   </td><td>2.769224e+00</td><td>  1         </td><td>12.18360845 </td><td>5.314560e-04</td><td>2.730627e-02</td></tr>\n",
       "\t<tr><td>pre         </td><td>5.063759e-01</td><td>  1         </td><td> 2.22787537 </td><td>1.362667e-01</td><td>5.107137e-03</td></tr>\n",
       "\t<tr><td>sid         </td><td>1.003316e+02</td><td>146         </td><td> 3.02345002 </td><td>6.702068e-19</td><td>5.042401e-01</td></tr>\n",
       "\t<tr><td>Residuals   </td><td>9.864427e+01</td><td>434         </td><td>         NA </td><td>          NA</td><td>5.000000e-01</td></tr>\n",
       "</tbody>\n",
       "</table>\n"
      ],
      "text/latex": [
       "\\begin{tabular}{r|llllll}\n",
       " term & sumsq & df & statistic & p.value & eta\\\\\n",
       "\\hline\n",
       "\t cvs\\_table  & 2.875905e-03 &   1          &  0.01265297  & 9.104905e-01 & 2.915345e-05\\\\\n",
       "\t cvs\\_graph  & 2.846821e+00 &   1          & 12.52501086  & 4.449018e-04 & 2.804996e-02\\\\\n",
       "\t variable     & 2.341790e+00 &   3          &  3.43434961  & 1.698431e-02 & 2.318924e-02\\\\\n",
       "\t sim\\_index  & 2.769224e+00 &   1          & 12.18360845  & 5.314560e-04 & 2.730627e-02\\\\\n",
       "\t pre          & 5.063759e-01 &   1          &  2.22787537  & 1.362667e-01 & 5.107137e-03\\\\\n",
       "\t sid          & 1.003316e+02 & 146          &  3.02345002  & 6.702068e-19 & 5.042401e-01\\\\\n",
       "\t Residuals    & 9.864427e+01 & 434          &          NA  &           NA & 5.000000e-01\\\\\n",
       "\\end{tabular}\n"
      ],
      "text/markdown": [
       "\n",
       "term | sumsq | df | statistic | p.value | eta | \n",
       "|---|---|---|---|---|---|---|\n",
       "| cvs_table    | 2.875905e-03 |   1          |  0.01265297  | 9.104905e-01 | 2.915345e-05 | \n",
       "| cvs_graph    | 2.846821e+00 |   1          | 12.52501086  | 4.449018e-04 | 2.804996e-02 | \n",
       "| variable     | 2.341790e+00 |   3          |  3.43434961  | 1.698431e-02 | 2.318924e-02 | \n",
       "| sim_index    | 2.769224e+00 |   1          | 12.18360845  | 5.314560e-04 | 2.730627e-02 | \n",
       "| pre          | 5.063759e-01 |   1          |  2.22787537  | 1.362667e-01 | 5.107137e-03 | \n",
       "| sid          | 1.003316e+02 | 146          |  3.02345002  | 6.702068e-19 | 5.042401e-01 | \n",
       "| Residuals    | 9.864427e+01 | 434          |          NA  |           NA | 5.000000e-01 | \n",
       "\n",
       "\n"
      ],
      "text/plain": [
       "  term      sumsq        df  statistic   p.value      eta         \n",
       "1 cvs_table 2.875905e-03   1  0.01265297 9.104905e-01 2.915345e-05\n",
       "2 cvs_graph 2.846821e+00   1 12.52501086 4.449018e-04 2.804996e-02\n",
       "3 variable  2.341790e+00   3  3.43434961 1.698431e-02 2.318924e-02\n",
       "4 sim_index 2.769224e+00   1 12.18360845 5.314560e-04 2.730627e-02\n",
       "5 pre       5.063759e-01   1  2.22787537 1.362667e-01 5.107137e-03\n",
       "6 sid       1.003316e+02 146  3.02345002 6.702068e-19 5.042401e-01\n",
       "7 Residuals 9.864427e+01 434          NA           NA 5.000000e-01"
      ]
     },
     "metadata": {},
     "output_type": "display_data"
    }
   ],
   "source": [
    "lm1 = lm(main\n",
    "        ~  cvs_table + cvs_graph + variable + sim_index + pre + sid,\n",
    "         data=mydata)\n",
    "results1 = Anova(lm1, type=2)\n",
    "results_table1 = tidy(results1)\n",
    "results_table1$eta <- results_table1$sumsq/(results_table1$sumsq + results_table1$sumsq[dim(results_table1)[1]])\n",
    "results_table1"
   ]
  },
  {
   "cell_type": "markdown",
   "metadata": {},
   "source": [
    "We see that, in order of significance: cvs_graph, sim_index, and variable matter."
   ]
  },
  {
   "cell_type": "markdown",
   "metadata": {},
   "source": [
    "# Stat model 2: Predicting transfer data"
   ]
  },
  {
   "cell_type": "code",
   "execution_count": 5,
   "metadata": {},
   "outputs": [
    {
     "data": {
      "text/html": [
       "<table>\n",
       "<thead><tr><th scope=col>term</th><th scope=col>sumsq</th><th scope=col>df</th><th scope=col>statistic</th><th scope=col>p.value</th><th scope=col>eta</th></tr></thead>\n",
       "<tbody>\n",
       "\t<tr><td>cvs_table   </td><td>3.560571e-04</td><td>  1         </td><td>0.002591862 </td><td>9.594204e-01</td><td>5.971997e-06</td></tr>\n",
       "\t<tr><td>cvs_graph   </td><td>3.313290e-01</td><td>  1         </td><td>2.411858311 </td><td>1.211482e-01</td><td>5.526565e-03</td></tr>\n",
       "\t<tr><td>variable    </td><td>1.514087e+00</td><td>  3         </td><td>3.673853147 </td><td>1.229926e-02</td><td>2.476635e-02</td></tr>\n",
       "\t<tr><td>sim_index   </td><td>2.417089e-01</td><td>  1         </td><td>1.759482309 </td><td>1.853867e-01</td><td>4.037737e-03</td></tr>\n",
       "\t<tr><td>pre         </td><td>4.862882e-01</td><td>  1         </td><td>3.539859443 </td><td>6.057962e-02</td><td>8.090370e-03</td></tr>\n",
       "\t<tr><td>sid         </td><td>6.299217e+01</td><td>146         </td><td>3.140696461 </td><td>3.782563e-20</td><td>5.137482e-01</td></tr>\n",
       "\t<tr><td>Residuals   </td><td>5.962075e+01</td><td>434         </td><td>         NA </td><td>          NA</td><td>5.000000e-01</td></tr>\n",
       "</tbody>\n",
       "</table>\n"
      ],
      "text/latex": [
       "\\begin{tabular}{r|llllll}\n",
       " term & sumsq & df & statistic & p.value & eta\\\\\n",
       "\\hline\n",
       "\t cvs\\_table  & 3.560571e-04 &   1          & 0.002591862  & 9.594204e-01 & 5.971997e-06\\\\\n",
       "\t cvs\\_graph  & 3.313290e-01 &   1          & 2.411858311  & 1.211482e-01 & 5.526565e-03\\\\\n",
       "\t variable     & 1.514087e+00 &   3          & 3.673853147  & 1.229926e-02 & 2.476635e-02\\\\\n",
       "\t sim\\_index  & 2.417089e-01 &   1          & 1.759482309  & 1.853867e-01 & 4.037737e-03\\\\\n",
       "\t pre          & 4.862882e-01 &   1          & 3.539859443  & 6.057962e-02 & 8.090370e-03\\\\\n",
       "\t sid          & 6.299217e+01 & 146          & 3.140696461  & 3.782563e-20 & 5.137482e-01\\\\\n",
       "\t Residuals    & 5.962075e+01 & 434          &          NA  &           NA & 5.000000e-01\\\\\n",
       "\\end{tabular}\n"
      ],
      "text/markdown": [
       "\n",
       "term | sumsq | df | statistic | p.value | eta | \n",
       "|---|---|---|---|---|---|---|\n",
       "| cvs_table    | 3.560571e-04 |   1          | 0.002591862  | 9.594204e-01 | 5.971997e-06 | \n",
       "| cvs_graph    | 3.313290e-01 |   1          | 2.411858311  | 1.211482e-01 | 5.526565e-03 | \n",
       "| variable     | 1.514087e+00 |   3          | 3.673853147  | 1.229926e-02 | 2.476635e-02 | \n",
       "| sim_index    | 2.417089e-01 |   1          | 1.759482309  | 1.853867e-01 | 4.037737e-03 | \n",
       "| pre          | 4.862882e-01 |   1          | 3.539859443  | 6.057962e-02 | 8.090370e-03 | \n",
       "| sid          | 6.299217e+01 | 146          | 3.140696461  | 3.782563e-20 | 5.137482e-01 | \n",
       "| Residuals    | 5.962075e+01 | 434          |          NA  |           NA | 5.000000e-01 | \n",
       "\n",
       "\n"
      ],
      "text/plain": [
       "  term      sumsq        df  statistic   p.value      eta         \n",
       "1 cvs_table 3.560571e-04   1 0.002591862 9.594204e-01 5.971997e-06\n",
       "2 cvs_graph 3.313290e-01   1 2.411858311 1.211482e-01 5.526565e-03\n",
       "3 variable  1.514087e+00   3 3.673853147 1.229926e-02 2.476635e-02\n",
       "4 sim_index 2.417089e-01   1 1.759482309 1.853867e-01 4.037737e-03\n",
       "5 pre       4.862882e-01   1 3.539859443 6.057962e-02 8.090370e-03\n",
       "6 sid       6.299217e+01 146 3.140696461 3.782563e-20 5.137482e-01\n",
       "7 Residuals 5.962075e+01 434          NA           NA 5.000000e-01"
      ]
     },
     "metadata": {},
     "output_type": "display_data"
    }
   ],
   "source": [
    "lm1 = lm(quant_score\n",
    "        ~  cvs_table + cvs_graph + variable + sim_index + pre + sid,\n",
    "         data=mydata)\n",
    "results1 = Anova(lm1, type=2)\n",
    "results_table1 = tidy(results1)\n",
    "results_table1$eta <- results_table1$sumsq/(results_table1$sumsq + results_table1$sumsq[dim(results_table1)[1]])\n",
    "results_table1"
   ]
  },
  {
   "cell_type": "markdown",
   "metadata": {},
   "source": [
    "As expected, CVS doesn't predict quant transfer scores, only variable does."
   ]
  },
  {
   "cell_type": "markdown",
   "metadata": {
    "hideCode": true,
    "hidePrompt": true
   },
   "source": [
    "# Stat model 3: Predicting the use of CVS"
   ]
  },
  {
   "cell_type": "markdown",
   "metadata": {},
   "source": [
    "## For cvs_table"
   ]
  },
  {
   "cell_type": "code",
   "execution_count": 6,
   "metadata": {},
   "outputs": [
    {
     "data": {
      "text/plain": [
       "Generalized linear mixed model fit by maximum likelihood (Adaptive\n",
       "  Gauss-Hermite Quadrature, nAGQ = 10) [glmerMod]\n",
       " Family: binomial  ( logit )\n",
       "Formula: \n",
       "cvs_table ~ variable + sim_index + pre + lab_experience + similar_sim +  \n",
       "    prior_number_virtual_labs + overall.POCC + PC1 + PC2 + (1 |      sid)\n",
       "   Data: mydata\n",
       "Control: glmerControl(optimizer = \"bobyqa\")\n",
       "\n",
       "     AIC      BIC   logLik deviance df.resid \n",
       "   636.9    693.8   -305.4    610.9      575 \n",
       "\n",
       "Scaled residuals: \n",
       "    Min      1Q  Median      3Q     Max \n",
       "-2.7511 -0.4307  0.2088  0.3572  2.3885 \n",
       "\n",
       "Random effects:\n",
       " Groups Name        Variance Std.Dev.\n",
       " sid    (Intercept) 5.991    2.448   \n",
       "Number of obs: 588, groups:  sid, 147\n",
       "\n",
       "Fixed effects:\n",
       "                          Estimate Std. Error z value Pr(>|z|)   \n",
       "(Intercept)               -1.20670    1.87139  -0.645  0.51905   \n",
       "variableConcentration      0.53139    0.36369   1.461  0.14399   \n",
       "variableSeparation        -0.25492    0.33945  -0.751  0.45267   \n",
       "variableWidth              0.27038    0.36037   0.750  0.45309   \n",
       "sim_index2                 0.58583    0.24912   2.352  0.01869 * \n",
       "pre                        0.74207    0.25651   2.893  0.00382 **\n",
       "lab_experience1            3.19499    0.97581   3.274  0.00106 **\n",
       "similar_sim1               0.06512    0.38839   0.168  0.86685   \n",
       "prior_number_virtual_labs -0.20854    0.31117  -0.670  0.50275   \n",
       "overall.POCC              -0.08198    0.12046  -0.681  0.49616   \n",
       "PC1                        0.39246    0.24013   1.634  0.10218   \n",
       "PC2                        0.65777    0.29740   2.212  0.02699 * \n",
       "---\n",
       "Signif. codes:  0 '***' 0.001 '**' 0.01 '*' 0.05 '.' 0.1 ' ' 1\n",
       "\n",
       "Correlation of Fixed Effects:\n",
       "            (Intr) vrblCn vrblSp vrblWd sm_nd2 pre    lb_xp1 smlr_1 prr___\n",
       "vrblCncntrt -0.108                                                        \n",
       "variblSprtn -0.086  0.465                                                 \n",
       "variablWdth -0.103  0.545  0.470                                          \n",
       "sim_index2  -0.077  0.029 -0.019  0.019                                   \n",
       "pre         -0.026  0.001 -0.039  0.064  0.035                            \n",
       "lab_exprnc1 -0.335  0.054 -0.012  0.038  0.059  0.074                     \n",
       "similar_sm1  0.024 -0.292 -0.012 -0.295  0.116  0.107 -0.047              \n",
       "prr_nmbr_v_ -0.015  0.033  0.004  0.029 -0.033 -0.082 -0.447 -0.135       \n",
       "overll.POCC -0.884 -0.007  0.002 -0.007 -0.011 -0.042  0.001  0.004 -0.079\n",
       "PC1          0.423  0.015 -0.010  0.004  0.021  0.017  0.076  0.001 -0.147\n",
       "PC2          0.276  0.025 -0.012  0.012  0.048  0.035  0.136  0.017 -0.077\n",
       "            o.POCC PC1   \n",
       "vrblCncntrt              \n",
       "variblSprtn              \n",
       "variablWdth              \n",
       "sim_index2               \n",
       "pre                      \n",
       "lab_exprnc1              \n",
       "similar_sm1              \n",
       "prr_nmbr_v_              \n",
       "overll.POCC              \n",
       "PC1         -0.450       \n",
       "PC2         -0.344  0.207"
      ]
     },
     "metadata": {},
     "output_type": "display_data"
    }
   ],
   "source": [
    "# mydata$variable <- relevel(mydata$variable, \"Width\")\n",
    "mixed <- glmer(\n",
    "    cvs_table\n",
    "    ~ variable + sim_index + pre\n",
    "    + lab_experience + similar_sim + prior_number_virtual_labs + overall.POCC\n",
    "    +  PC1 + PC2 + (1 | sid),\n",
    "           data = mydata, family = binomial, \n",
    "           control = glmerControl(optimizer = \"bobyqa\"), nAGQ = 10)\n",
    "\n",
    "summary(mixed)"
   ]
  },
  {
   "cell_type": "markdown",
   "metadata": {},
   "source": [
    "## For cvs_graph"
   ]
  },
  {
   "cell_type": "code",
   "execution_count": 7,
   "metadata": {},
   "outputs": [
    {
     "data": {
      "text/plain": [
       "Generalized linear mixed model fit by maximum likelihood (Adaptive\n",
       "  Gauss-Hermite Quadrature, nAGQ = 10) [glmerMod]\n",
       " Family: binomial  ( logit )\n",
       "Formula: \n",
       "cvs_graph ~ variable + sim_index + pre + lab_experience + similar_sim +  \n",
       "    prior_number_virtual_labs + overall.POCC + PC1 + PC2 + (1 |      sid)\n",
       "   Data: mydata\n",
       "Control: glmerControl(optimizer = \"bobyqa\")\n",
       "\n",
       "     AIC      BIC   logLik deviance df.resid \n",
       "   605.7    662.6   -289.9    579.7      575 \n",
       "\n",
       "Scaled residuals: \n",
       "    Min      1Q  Median      3Q     Max \n",
       "-2.0994 -0.3173 -0.1006  0.3446  2.8043 \n",
       "\n",
       "Random effects:\n",
       " Groups Name        Variance Std.Dev.\n",
       " sid    (Intercept) 10.38    3.222   \n",
       "Number of obs: 588, groups:  sid, 147\n",
       "\n",
       "Fixed effects:\n",
       "                          Estimate Std. Error z value Pr(>|z|)    \n",
       "(Intercept)                -6.0676     2.3957  -2.533  0.01132 *  \n",
       "variableConcentration       0.7346     0.4053   1.812  0.06994 .  \n",
       "variableSeparation         -0.1027     0.3733  -0.275  0.78319    \n",
       "variableWidth               0.2719     0.3991   0.681  0.49573    \n",
       "sim_index2                  1.2961     0.2909   4.455 8.38e-06 ***\n",
       "pre                         0.4933     0.2634   1.873  0.06111 .  \n",
       "lab_experience1             4.0788     1.3884   2.938  0.00331 ** \n",
       "similar_sim1               -0.1448     0.4373  -0.331  0.74054    \n",
       "prior_number_virtual_labs   0.2377     0.3908   0.608  0.54308    \n",
       "overall.POCC                0.0331     0.1476   0.224  0.82252    \n",
       "PC1                         0.1045     0.3008   0.347  0.72836    \n",
       "PC2                         0.6465     0.3676   1.759  0.07863 .  \n",
       "---\n",
       "Signif. codes:  0 '***' 0.001 '**' 0.01 '*' 0.05 '.' 0.1 ' ' 1\n",
       "\n",
       "Correlation of Fixed Effects:\n",
       "            (Intr) vrblCn vrblSp vrblWd sm_nd2 pre    lb_xp1 smlr_1 prr___\n",
       "vrblCncntrt -0.131                                                        \n",
       "variblSprtn -0.072  0.467                                                 \n",
       "variablWdth -0.107  0.572  0.472                                          \n",
       "sim_index2  -0.151  0.147 -0.009  0.111                                   \n",
       "pre         -0.018 -0.084 -0.051 -0.002  0.056                            \n",
       "lab_exprnc1 -0.424  0.078 -0.004  0.049  0.120  0.046                     \n",
       "similar_sm1  0.043 -0.305 -0.012 -0.294  0.040  0.131 -0.051              \n",
       "prr_nmbr_v_ -0.024  0.037  0.001  0.027  0.005 -0.067 -0.386 -0.138       \n",
       "overll.POCC -0.835 -0.001 -0.002 -0.007  0.004 -0.042 -0.014 -0.004 -0.074\n",
       "PC1          0.381  0.010 -0.003  0.003  0.013 -0.001  0.056  0.002 -0.129\n",
       "PC2          0.198  0.036 -0.006  0.021  0.077  0.024  0.105 -0.009 -0.023\n",
       "            o.POCC PC1   \n",
       "vrblCncntrt              \n",
       "variblSprtn              \n",
       "variablWdth              \n",
       "sim_index2               \n",
       "pre                      \n",
       "lab_exprnc1              \n",
       "similar_sm1              \n",
       "prr_nmbr_v_              \n",
       "overll.POCC              \n",
       "PC1         -0.432       \n",
       "PC2         -0.296  0.170"
      ]
     },
     "metadata": {},
     "output_type": "display_data"
    }
   ],
   "source": [
    "mixed <- glmer(\n",
    "    cvs_graph\n",
    "    ~ variable + sim_index + pre\n",
    "    + lab_experience + similar_sim + prior_number_virtual_labs + overall.POCC\n",
    "    +  PC1 + PC2 + (1 | sid),\n",
    "           data = mydata, family = binomial, \n",
    "           control = glmerControl(optimizer = \"bobyqa\"), nAGQ = 10)\n",
    "\n",
    "summary(mixed)"
   ]
  }
 ],
 "metadata": {
  "anaconda-cloud": {},
  "kernelspec": {
   "display_name": "R",
   "language": "R",
   "name": "ir"
  },
  "language_info": {
   "codemirror_mode": "r",
   "file_extension": ".r",
   "mimetype": "text/x-r-source",
   "name": "R",
   "pygments_lexer": "r",
   "version": "3.4.3"
  },
  "toc": {
   "nav_menu": {},
   "number_sections": true,
   "sideBar": true,
   "skip_h1_title": false,
   "toc_cell": false,
   "toc_position": {},
   "toc_section_display": "block",
   "toc_window_display": false
  }
 },
 "nbformat": 4,
 "nbformat_minor": 1
}
