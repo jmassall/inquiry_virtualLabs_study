{
 "cells": [
  {
   "cell_type": "markdown",
   "metadata": {},
   "source": [
    "Load libraries"
   ]
  },
  {
   "cell_type": "code",
   "execution_count": 8,
   "metadata": {},
   "outputs": [],
   "source": [
    "## For some reason, when loading mlogit, the notebook can't find package 'statmod' so I specify it's location\n",
    "library(statmod, lib.loc='D:\\\\Applications\\\\Anaconda2\\\\pkgs\\\\r-statmod-1.4.30-r3.4.1_0\\\\lib\\\\R\\\\library\\\\')\n",
    "require(mlogit)\n",
    "require(ggplot2)\n",
    "require(reshape2)\n",
    "require(lme4)\n",
    "require(compiler)\n",
    "require(parallel)\n",
    "require(car)\n",
    "require(boot)\n",
    "require(dplyr)\n",
    "require(sjstats)\n",
    "require(broom)"
   ]
  },
  {
   "cell_type": "markdown",
   "metadata": {
    "heading_collapsed": true
   },
   "source": [
    "# Load data and set factors"
   ]
  },
  {
   "cell_type": "code",
   "execution_count": 9,
   "metadata": {
    "hidden": true
   },
   "outputs": [],
   "source": [
    "all_mydata <- read.csv(\"C:\\\\Users\\\\Sarah\\\\Documents\\\\Personal Content\\\\Lab_study_data\\\\all_massaged_data\\\\dataframe_all_factors_for_analysis.txt\",sep = '\\t')\n",
    "# sid is the student number\n",
    "# we use the \"factor()\" option to make sure R treats them as categorical\n",
    "all_mydata$sid <- factor(all_mydata$sid)\n",
    "all_mydata$sim_index <- factor(all_mydata$sim_index)\n",
    "all_mydata$lab_experience <- factor(all_mydata$lab_experience)\n",
    "all_mydata$similar_sim <- factor(all_mydata$similar_sim)\n",
    "all_mydata$cvs_graph <- factor(all_mydata$cvs_graph)\n",
    "all_mydata$cvs_table <- factor(all_mydata$cvs_table)\n",
    "all_mydata$quant_score <- factor(all_mydata$quant_score)\n",
    "# all_mydata$main <- factor(all_mydata$main)\n",
    "# all_mydata$pre <- factor(all_mydata$pre)"
   ]
  },
  {
   "cell_type": "markdown",
   "metadata": {
    "hidden": true
   },
   "source": [
    "Here is what our data looks like:"
   ]
  },
  {
   "cell_type": "code",
   "execution_count": 10,
   "metadata": {
    "hidden": true
   },
   "outputs": [
    {
     "data": {
      "text/html": [
       "<table>\n",
       "<thead><tr><th scope=col>sid</th><th scope=col>sim</th><th scope=col>variable</th><th scope=col>pre</th><th scope=col>main</th><th scope=col>cvs_graph</th><th scope=col>cvs_table</th><th scope=col>cvs_table_only</th><th scope=col>qual_score</th><th scope=col>quant_score</th><th scope=col>...</th><th scope=col>use_graph</th><th scope=col>use_concentration</th><th scope=col>use_width</th><th scope=col>use_area</th><th scope=col>use_separation</th><th scope=col>use_all_vars</th><th scope=col>use_graph_beers</th><th scope=col>use_table_beers</th><th scope=col>use_table_capacitor</th><th scope=col>use_graph_capacitor</th></tr></thead>\n",
       "<tbody>\n",
       "\t<tr><td>10127163     </td><td>L            </td><td>Concentration</td><td>0            </td><td>2            </td><td>1            </td><td>1            </td><td>0            </td><td>1            </td><td>1            </td><td>...          </td><td>1            </td><td>1            </td><td>1            </td><td>1            </td><td>1            </td><td>4            </td><td>1            </td><td>1            </td><td>1            </td><td>1            </td></tr>\n",
       "\t<tr><td>10127163     </td><td>L            </td><td>Width        </td><td>0            </td><td>2            </td><td>1            </td><td>1            </td><td>0            </td><td>1            </td><td>1            </td><td>...          </td><td>1            </td><td>1            </td><td>1            </td><td>1            </td><td>1            </td><td>4            </td><td>1            </td><td>1            </td><td>1            </td><td>1            </td></tr>\n",
       "\t<tr><td>10232160     </td><td>L            </td><td>Concentration</td><td>0            </td><td>0            </td><td>1            </td><td>1            </td><td>0            </td><td>1            </td><td>1            </td><td>...          </td><td>1            </td><td>1            </td><td>1            </td><td>1            </td><td>1            </td><td>4            </td><td>1            </td><td>1            </td><td>1            </td><td>1            </td></tr>\n",
       "\t<tr><td>10232160     </td><td>L            </td><td>Width        </td><td>0            </td><td>0            </td><td>0            </td><td>0            </td><td>0            </td><td>1            </td><td>1            </td><td>...          </td><td>1            </td><td>1            </td><td>1            </td><td>1            </td><td>1            </td><td>4            </td><td>1            </td><td>1            </td><td>1            </td><td>1            </td></tr>\n",
       "\t<tr><td>10232160     </td><td>C            </td><td>Area         </td><td>0            </td><td>2            </td><td>1            </td><td>1            </td><td>0            </td><td>1            </td><td>1            </td><td>...          </td><td>1            </td><td>1            </td><td>1            </td><td>1            </td><td>1            </td><td>4            </td><td>1            </td><td>1            </td><td>1            </td><td>1            </td></tr>\n",
       "\t<tr><td>10232160     </td><td>C            </td><td>Separation   </td><td>0            </td><td>2            </td><td>1            </td><td>1            </td><td>0            </td><td>1            </td><td>1            </td><td>...          </td><td>1            </td><td>1            </td><td>1            </td><td>1            </td><td>1            </td><td>4            </td><td>1            </td><td>1            </td><td>1            </td><td>1            </td></tr>\n",
       "</tbody>\n",
       "</table>\n"
      ],
      "text/latex": [
       "\\begin{tabular}{r|llllllllllllllllllllllllllllllll}\n",
       " sid & sim & variable & pre & main & cvs\\_graph & cvs\\_table & cvs\\_table\\_only & qual\\_score & quant\\_score & ... & use\\_graph & use\\_concentration & use\\_width & use\\_area & use\\_separation & use\\_all\\_vars & use\\_graph\\_beers & use\\_table\\_beers & use\\_table\\_capacitor & use\\_graph\\_capacitor\\\\\n",
       "\\hline\n",
       "\t 10127163      & L             & Concentration & 0             & 2             & 1             & 1             & 0             & 1             & 1             & ...           & 1             & 1             & 1             & 1             & 1             & 4             & 1             & 1             & 1             & 1            \\\\\n",
       "\t 10127163      & L             & Width         & 0             & 2             & 1             & 1             & 0             & 1             & 1             & ...           & 1             & 1             & 1             & 1             & 1             & 4             & 1             & 1             & 1             & 1            \\\\\n",
       "\t 10232160      & L             & Concentration & 0             & 0             & 1             & 1             & 0             & 1             & 1             & ...           & 1             & 1             & 1             & 1             & 1             & 4             & 1             & 1             & 1             & 1            \\\\\n",
       "\t 10232160      & L             & Width         & 0             & 0             & 0             & 0             & 0             & 1             & 1             & ...           & 1             & 1             & 1             & 1             & 1             & 4             & 1             & 1             & 1             & 1            \\\\\n",
       "\t 10232160      & C             & Area          & 0             & 2             & 1             & 1             & 0             & 1             & 1             & ...           & 1             & 1             & 1             & 1             & 1             & 4             & 1             & 1             & 1             & 1            \\\\\n",
       "\t 10232160      & C             & Separation    & 0             & 2             & 1             & 1             & 0             & 1             & 1             & ...           & 1             & 1             & 1             & 1             & 1             & 4             & 1             & 1             & 1             & 1            \\\\\n",
       "\\end{tabular}\n"
      ],
      "text/markdown": [
       "\n",
       "sid | sim | variable | pre | main | cvs_graph | cvs_table | cvs_table_only | qual_score | quant_score | ... | use_graph | use_concentration | use_width | use_area | use_separation | use_all_vars | use_graph_beers | use_table_beers | use_table_capacitor | use_graph_capacitor | \n",
       "|---|---|---|---|---|---|\n",
       "| 10127163      | L             | Concentration | 0             | 2             | 1             | 1             | 0             | 1             | 1             | ...           | 1             | 1             | 1             | 1             | 1             | 4             | 1             | 1             | 1             | 1             | \n",
       "| 10127163      | L             | Width         | 0             | 2             | 1             | 1             | 0             | 1             | 1             | ...           | 1             | 1             | 1             | 1             | 1             | 4             | 1             | 1             | 1             | 1             | \n",
       "| 10232160      | L             | Concentration | 0             | 0             | 1             | 1             | 0             | 1             | 1             | ...           | 1             | 1             | 1             | 1             | 1             | 4             | 1             | 1             | 1             | 1             | \n",
       "| 10232160      | L             | Width         | 0             | 0             | 0             | 0             | 0             | 1             | 1             | ...           | 1             | 1             | 1             | 1             | 1             | 4             | 1             | 1             | 1             | 1             | \n",
       "| 10232160      | C             | Area          | 0             | 2             | 1             | 1             | 0             | 1             | 1             | ...           | 1             | 1             | 1             | 1             | 1             | 4             | 1             | 1             | 1             | 1             | \n",
       "| 10232160      | C             | Separation    | 0             | 2             | 1             | 1             | 0             | 1             | 1             | ...           | 1             | 1             | 1             | 1             | 1             | 4             | 1             | 1             | 1             | 1             | \n",
       "\n",
       "\n"
      ],
      "text/plain": [
       "  sid      sim variable      pre main cvs_graph cvs_table cvs_table_only\n",
       "1 10127163 L   Concentration 0   2    1         1         0             \n",
       "2 10127163 L   Width         0   2    1         1         0             \n",
       "3 10232160 L   Concentration 0   0    1         1         0             \n",
       "4 10232160 L   Width         0   0    0         0         0             \n",
       "5 10232160 C   Area          0   2    1         1         0             \n",
       "6 10232160 C   Separation    0   2    1         1         0             \n",
       "  qual_score quant_score ... use_graph use_concentration use_width use_area\n",
       "1 1          1           ... 1         1                 1         1       \n",
       "2 1          1           ... 1         1                 1         1       \n",
       "3 1          1           ... 1         1                 1         1       \n",
       "4 1          1           ... 1         1                 1         1       \n",
       "5 1          1           ... 1         1                 1         1       \n",
       "6 1          1           ... 1         1                 1         1       \n",
       "  use_separation use_all_vars use_graph_beers use_table_beers\n",
       "1 1              4            1               1              \n",
       "2 1              4            1               1              \n",
       "3 1              4            1               1              \n",
       "4 1              4            1               1              \n",
       "5 1              4            1               1              \n",
       "6 1              4            1               1              \n",
       "  use_table_capacitor use_graph_capacitor\n",
       "1 1                   1                  \n",
       "2 1                   1                  \n",
       "3 1                   1                  \n",
       "4 1                   1                  \n",
       "5 1                   1                  \n",
       "6 1                   1                  "
      ]
     },
     "metadata": {},
     "output_type": "display_data"
    }
   ],
   "source": [
    "head(all_mydata)\n",
    "# colnames(mydata)"
   ]
  },
  {
   "cell_type": "markdown",
   "metadata": {
    "hidden": true
   },
   "source": [
    "We have the following factors that change per variable:\n",
    "* main (0,1,2), treated as a continuous variable\n",
    "* pre (0,1,2), treated as a continuous variable\n",
    "* quant_score (0 or 1)\n",
    "* CVS_graph (0 or 1)\n",
    "* CVS_table (0 or 1)\n",
    "\n",
    "We have the following independant factors:\n",
    "* sim_index (1 or 2, wither it was student's 1st or 2nd activity)\n",
    "* variable (thus don't include sim as a variable)\n",
    "* student attibutes:\n",
    "   * lab_experience (0 or 1 if students have prior undergraduate physics or chemistry lab experience)\n",
    "   * similar_sim (0 or 1 if they have used a similar simulation)\n",
    "   * prior_number_virtual_labs (levels from 0 to 3 depending on the number of virtual labs they have done in the past)\n",
    "\n",
    "We ignore attitude components.\n",
    "\n",
    "For main and pre score:\n",
    "* score = 2 if they describe the correct relationship, ie. a correct quantitative model\n",
    "* score = 1 if they describe the correct direction of the relationship, ie. they have a correct qual model but incorrect quant model OR if their quant model is incorrect but qualitatively correct\n",
    "* score = 0 otherwise (i.e. all incorrect or only identified)"
   ]
  },
  {
   "cell_type": "markdown",
   "metadata": {},
   "source": [
    "# Use this code to remove perfect pre per variable instance"
   ]
  },
  {
   "cell_type": "code",
   "execution_count": 11,
   "metadata": {},
   "outputs": [],
   "source": [
    "# mydata <- (all_mydata %>% filter(pre < 2))"
   ]
  },
  {
   "cell_type": "code",
   "execution_count": 12,
   "metadata": {},
   "outputs": [],
   "source": [
    "# print(dim(mydata));print(dim(all_mydata));\n",
    "# print(dim(unique(mydata['sid'])));print(dim(unique(all_mydata['sid'])));"
   ]
  },
  {
   "cell_type": "markdown",
   "metadata": {},
   "source": [
    "We removed 39 instances of perfect pre. All 147 students remain in the study (i.e. no student got a prefect pre on all variables)."
   ]
  },
  {
   "cell_type": "markdown",
   "metadata": {},
   "source": [
    "# Stat model 1: Prediction main model score as a continuous variable"
   ]
  },
  {
   "cell_type": "markdown",
   "metadata": {},
   "source": [
    "Some resources:\n",
    "* On SS Types: https://mcfromnz.wordpress.com/2011/03/02/anova-type-iiiiii-ss-explained/\n",
    "* on drop() function to do type 3: https://www.statmethods.net/stats/anova.html\n",
    "* On repeated measures: http://psych.wisc.edu/moore/Rpdf/610-R8_OneWayWithin.pdf, https://datascienceplus.com/two-way-anova-with-repeated-measures/\n",
    "* the car package: https://cran.r-project.org/web/packages/car/car.pdf"
   ]
  },
  {
   "cell_type": "markdown",
   "metadata": {},
   "source": [
    "## Complete model with interactions"
   ]
  },
  {
   "cell_type": "markdown",
   "metadata": {},
   "source": [
    "Our model (without student factors) is:\n",
    "\n",
    "    main  ~  cvs_table*variable + cvs_graph*variable\n",
    "             + cvs_table*pre + cvs_graph*pre\n",
    "             + sim_index + sid\n",
    "             \n",
    "We run a type III Anova:"
   ]
  },
  {
   "cell_type": "code",
   "execution_count": 13,
   "metadata": {},
   "outputs": [
    {
     "ename": "ERROR",
     "evalue": "Error in is.data.frame(data): object 'mydata' not found\n",
     "output_type": "error",
     "traceback": [
      "Error in is.data.frame(data): object 'mydata' not found\nTraceback:\n",
      "1. lm(main ~ cvs_table * variable + cvs_graph * variable + cvs_table * \n .     pre + cvs_graph * pre + sim_index + sid, data = mydata)",
      "2. eval(mf, parent.frame())",
      "3. eval(mf, parent.frame())",
      "4. stats::model.frame(formula = main ~ cvs_table * variable + cvs_graph * \n .     variable + cvs_table * pre + cvs_graph * pre + sim_index + \n .     sid, data = mydata, drop.unused.levels = TRUE)",
      "5. model.frame.default(formula = main ~ cvs_table * variable + cvs_graph * \n .     variable + cvs_table * pre + cvs_graph * pre + sim_index + \n .     sid, data = mydata, drop.unused.levels = TRUE)",
      "6. is.data.frame(data)"
     ]
    }
   ],
   "source": [
    "lm1 = lm(main\n",
    "        ~  cvs_table*variable + cvs_graph*variable + cvs_table*pre + cvs_graph*pre + sim_index + sid,\n",
    "         data=mydata)\n",
    "results1 = Anova(lm1, type=3)\n",
    "results_table1 = tidy(results1)\n",
    "results_table1$eta <- results_table1$sumsq/(results_table1$sumsq + results_table1$sumsq[dim(results_table1)[1]])\n",
    "results_table1"
   ]
  },
  {
   "cell_type": "markdown",
   "metadata": {},
   "source": [
    "None of the interactions are significant so let's move to a simpler model."
   ]
  },
  {
   "cell_type": "markdown",
   "metadata": {},
   "source": [
    "## Simple model without interaction"
   ]
  },
  {
   "cell_type": "markdown",
   "metadata": {},
   "source": [
    "Our model (without student factors) is:\n",
    "\n",
    "    main  ~  cvs_table + cvs_graph + variable\n",
    "             + pre + sim_index + sid\n",
    "             \n",
    "We run a type II Anova:"
   ]
  },
  {
   "cell_type": "code",
   "execution_count": null,
   "metadata": {},
   "outputs": [],
   "source": [
    "lm1 = lm(main\n",
    "        ~  cvs_table + cvs_graph + variable + pre + sim_index + sid,\n",
    "         data=mydata)\n",
    "results1 = Anova(lm1, type=2)\n",
    "results_table1 = tidy(results1)\n",
    "results_table1$eta <- results_table1$sumsq/(results_table1$sumsq + results_table1$sumsq[dim(results_table1)[1]])\n",
    "results_table1"
   ]
  },
  {
   "cell_type": "markdown",
   "metadata": {},
   "source": [
    "We see that, in order of significance and eta^2: cvs_graph, sim_index, and variable matter."
   ]
  },
  {
   "cell_type": "markdown",
   "metadata": {},
   "source": [
    "## Model by variable"
   ]
  },
  {
   "cell_type": "markdown",
   "metadata": {},
   "source": [
    "### For Width without interaction"
   ]
  },
  {
   "cell_type": "code",
   "execution_count": null,
   "metadata": {
    "scrolled": true
   },
   "outputs": [],
   "source": [
    "test <- subset(mydata, variable == \"Width\")\n",
    "lm1 = lm(main\n",
    "        ~  cvs_table + cvs_graph + pre + sim_index,\n",
    "         data=test)\n",
    "results1 = Anova(lm1, type=2)\n",
    "results_table1 = tidy(results1)\n",
    "results_table1$eta <- results_table1$sumsq/(results_table1$sumsq + results_table1$sumsq[dim(results_table1)[1]])\n",
    "results_table1"
   ]
  },
  {
   "cell_type": "markdown",
   "metadata": {},
   "source": [
    "### For Area without interaction"
   ]
  },
  {
   "cell_type": "code",
   "execution_count": null,
   "metadata": {},
   "outputs": [],
   "source": [
    "test <- subset(mydata, variable == \"Area\")\n",
    "lm1 = lm(main\n",
    "        ~  cvs_table + cvs_graph + pre + sim_index,\n",
    "         data=test)\n",
    "results1 = Anova(lm1, type=2)\n",
    "results_table1 = tidy(results1)\n",
    "results_table1$eta <- results_table1$sumsq/(results_table1$sumsq + results_table1$sumsq[dim(results_table1)[1]])\n",
    "results_table1"
   ]
  },
  {
   "cell_type": "markdown",
   "metadata": {},
   "source": [
    "### For Concentration without interaction"
   ]
  },
  {
   "cell_type": "code",
   "execution_count": null,
   "metadata": {},
   "outputs": [],
   "source": [
    "test <- subset(mydata, variable == \"Concentration\")\n",
    "lm1 = lm(main\n",
    "        ~  cvs_table + cvs_graph + pre + sim_index,\n",
    "         data=test)\n",
    "results1 = Anova(lm1, type=2)\n",
    "results_table1 = tidy(results1)\n",
    "results_table1$eta <- results_table1$sumsq/(results_table1$sumsq + results_table1$sumsq[dim(results_table1)[1]])\n",
    "results_table1"
   ]
  },
  {
   "cell_type": "markdown",
   "metadata": {},
   "source": [
    "### For Separation without interaction"
   ]
  },
  {
   "cell_type": "code",
   "execution_count": null,
   "metadata": {},
   "outputs": [],
   "source": [
    "test <- subset(mydata, variable == \"Separation\")\n",
    "lm1 = lm(main\n",
    "        ~  cvs_table + cvs_graph + pre + sim_index,\n",
    "         data=test)\n",
    "results1 = Anova(lm1, type=2)\n",
    "results_table1 = tidy(results1)\n",
    "results_table1$eta <- results_table1$sumsq/(results_table1$sumsq + results_table1$sumsq[dim(results_table1)[1]])\n",
    "results_table1"
   ]
  },
  {
   "cell_type": "markdown",
   "metadata": {},
   "source": [
    "### For Width with interaction"
   ]
  },
  {
   "cell_type": "code",
   "execution_count": null,
   "metadata": {
    "scrolled": true
   },
   "outputs": [],
   "source": [
    "test <- subset(mydata, variable == \"Width\")\n",
    "lm1 = lm(main\n",
    "        ~  cvs_table*pre + cvs_graph*pre + sim_index,\n",
    "         data=test)\n",
    "results1 = Anova(lm1, type=2)\n",
    "results_table1 = tidy(results1)\n",
    "results_table1$eta <- results_table1$sumsq/(results_table1$sumsq + results_table1$sumsq[dim(results_table1)[1]])\n",
    "results_table1"
   ]
  },
  {
   "cell_type": "markdown",
   "metadata": {},
   "source": [
    "### For Area  with interaction"
   ]
  },
  {
   "cell_type": "code",
   "execution_count": null,
   "metadata": {},
   "outputs": [],
   "source": [
    "test <- subset(mydata, variable == \"Area\")\n",
    "lm1 = lm(main\n",
    "        ~  cvs_table*pre + cvs_graph*pre + sim_index,\n",
    "         data=test)\n",
    "results1 = Anova(lm1, type=2)\n",
    "results_table1 = tidy(results1)\n",
    "results_table1$eta <- results_table1$sumsq/(results_table1$sumsq + results_table1$sumsq[dim(results_table1)[1]])\n",
    "results_table1"
   ]
  },
  {
   "cell_type": "markdown",
   "metadata": {},
   "source": [
    "### For Concentration with interaction"
   ]
  },
  {
   "cell_type": "code",
   "execution_count": null,
   "metadata": {},
   "outputs": [],
   "source": [
    "test <- subset(mydata, variable == \"Concentration\")\n",
    "lm1 = lm(main\n",
    "        ~  cvs_table*pre + cvs_graph*pre + sim_index,\n",
    "         data=test)\n",
    "results1 = Anova(lm1, type=2)\n",
    "results_table1 = tidy(results1)\n",
    "results_table1$eta <- results_table1$sumsq/(results_table1$sumsq + results_table1$sumsq[dim(results_table1)[1]])\n",
    "results_table1"
   ]
  },
  {
   "cell_type": "markdown",
   "metadata": {},
   "source": [
    "### For Separation with interaction"
   ]
  },
  {
   "cell_type": "code",
   "execution_count": null,
   "metadata": {},
   "outputs": [],
   "source": [
    "test <- subset(mydata, variable == \"Separation\")\n",
    "lm1 = lm(main\n",
    "        ~  cvs_table*pre + cvs_graph*pre + sim_index,\n",
    "         data=test)\n",
    "results1 = Anova(lm1, type=2)\n",
    "results_table1 = tidy(results1)\n",
    "results_table1$eta <- results_table1$sumsq/(results_table1$sumsq + results_table1$sumsq[dim(results_table1)[1]])\n",
    "results_table1"
   ]
  },
  {
   "cell_type": "code",
   "execution_count": null,
   "metadata": {},
   "outputs": [],
   "source": [
    "colMeans(test[\"main\"])"
   ]
  },
  {
   "cell_type": "markdown",
   "metadata": {},
   "source": [
    "# Stat model 2: Predicting transfer data"
   ]
  },
  {
   "cell_type": "markdown",
   "metadata": {},
   "source": [
    "## Excluding student main worksheet score"
   ]
  },
  {
   "cell_type": "markdown",
   "metadata": {},
   "source": [
    "### Complete model with interactions"
   ]
  },
  {
   "cell_type": "markdown",
   "metadata": {},
   "source": [
    "Our model is:\n",
    "\n",
    "    quant_score  ~  cvs_table*variable + cvs_graph*variable\n",
    "             + cvs_table*pre + cvs_graph*pre\n",
    "             + sim_index + sid\n",
    "             \n",
    "We run a logistic regression:"
   ]
  },
  {
   "cell_type": "code",
   "execution_count": null,
   "metadata": {},
   "outputs": [],
   "source": [
    "mixed1 <- glmer(\n",
    "    quant_score\n",
    "    ~ cvs_table*variable + cvs_graph*variable + cvs_table*pre + cvs_graph*pre + sim_index + (1 | sid),\n",
    "           data = mydata, family = binomial, \n",
    "           control = glmerControl(optimizer = \"bobyqa\"), nAGQ = 10)\n",
    "summary(mixed1)"
   ]
  },
  {
   "cell_type": "markdown",
   "metadata": {},
   "source": [
    "**(non log) Odds ratio with confidence intervals**"
   ]
  },
  {
   "cell_type": "code",
   "execution_count": null,
   "metadata": {
    "scrolled": false
   },
   "outputs": [],
   "source": [
    "cc <- confint(mixed1,parm=\"beta_\",method=\"Wald\")\n",
    "ctab <- cbind(est=fixef(mixed1),cc)\n",
    "rtab <- exp(ctab)\n",
    "print(rtab,digits=3)"
   ]
  },
  {
   "cell_type": "markdown",
   "metadata": {},
   "source": [
    "Again interactions are not significant, so we stick to a simpler model."
   ]
  },
  {
   "cell_type": "markdown",
   "metadata": {},
   "source": [
    "### Simple model without interactions"
   ]
  },
  {
   "cell_type": "markdown",
   "metadata": {},
   "source": [
    "Our model is:\n",
    "\n",
    "    quant_score  ~  cvs_table + cvs_graph + variable\n",
    "                     + pre + sim_index + sid\n",
    "             \n",
    "We run a logistic regression:"
   ]
  },
  {
   "cell_type": "code",
   "execution_count": null,
   "metadata": {},
   "outputs": [],
   "source": [
    "mixed1 <- glmer(\n",
    "    quant_score\n",
    "    ~ cvs_table + cvs_graph + variable + sim_index + pre + (1 | sid),\n",
    "           data = mydata, family = binomial, \n",
    "           control = glmerControl(optimizer = \"bobyqa\"), nAGQ = 10)\n",
    "summary(mixed1)"
   ]
  },
  {
   "cell_type": "markdown",
   "metadata": {},
   "source": [
    "**(non log) Odds ratio with confidence intervals**"
   ]
  },
  {
   "cell_type": "code",
   "execution_count": null,
   "metadata": {
    "scrolled": false
   },
   "outputs": [],
   "source": [
    "cc <- confint(mixed1,parm=\"beta_\",method=\"Wald\")\n",
    "ctab <- cbind(est=fixef(mixed1),cc)\n",
    "rtab <- exp(ctab)\n",
    "print(rtab,digits=3)"
   ]
  },
  {
   "cell_type": "markdown",
   "metadata": {},
   "source": [
    "As expected, CVS doesn't predict quant transfer scores, only variable does."
   ]
  },
  {
   "cell_type": "markdown",
   "metadata": {},
   "source": [
    "## Including student main worksheet score\n",
    "as a continuous variable"
   ]
  },
  {
   "cell_type": "markdown",
   "metadata": {},
   "source": [
    "### Complete model with interactions"
   ]
  },
  {
   "cell_type": "markdown",
   "metadata": {},
   "source": [
    "Our model is:\n",
    "\n",
    "    quant_score  ~  main + cvs_table*variable + cvs_graph*variable\n",
    "                    + cvs_table*pre + cvs_graph*pre\n",
    "                    + sim_index + sid\n",
    "             \n",
    "We run a logistic regression:"
   ]
  },
  {
   "cell_type": "code",
   "execution_count": null,
   "metadata": {},
   "outputs": [],
   "source": [
    "mixed1 <- glmer(\n",
    "    quant_score\n",
    "    ~ main + cvs_table*variable + cvs_graph*variable + cvs_table*pre + cvs_graph*pre + sim_index + (1 | sid),\n",
    "           data = mydata, family = binomial, \n",
    "           control = glmerControl(optimizer = \"bobyqa\"), nAGQ = 10)\n",
    "summary(mixed1)"
   ]
  },
  {
   "cell_type": "markdown",
   "metadata": {},
   "source": [
    "**(non log) Odds ratio with confidence intervals**"
   ]
  },
  {
   "cell_type": "code",
   "execution_count": null,
   "metadata": {
    "scrolled": false
   },
   "outputs": [],
   "source": [
    "cc <- confint(mixed1,parm=\"beta_\",method=\"Wald\")\n",
    "ctab <- cbind(est=fixef(mixed1),cc)\n",
    "rtab <- exp(ctab)\n",
    "print(rtab,digits=3)"
   ]
  },
  {
   "cell_type": "markdown",
   "metadata": {},
   "source": [
    "Again interactions are not significant, so we stick to a simpler model."
   ]
  },
  {
   "cell_type": "markdown",
   "metadata": {},
   "source": [
    "### Simple model without interactions"
   ]
  },
  {
   "cell_type": "markdown",
   "metadata": {},
   "source": [
    "Our model is:\n",
    "\n",
    "    quant_score  ~  main + cvs_table + cvs_graph + variable\n",
    "                     + pre + sim_index + sid\n",
    "             \n",
    "We run a logistic regression:"
   ]
  },
  {
   "cell_type": "code",
   "execution_count": null,
   "metadata": {},
   "outputs": [],
   "source": [
    "mixed1 <- glmer(\n",
    "    quant_score\n",
    "    ~ main + cvs_table + cvs_graph + variable + sim_index + pre + (1 | sid),\n",
    "           data = mydata, family = binomial, \n",
    "           control = glmerControl(optimizer = \"bobyqa\"), nAGQ = 10)\n",
    "summary(mixed1)"
   ]
  },
  {
   "cell_type": "markdown",
   "metadata": {},
   "source": [
    "**(non log) Odds ratio with confidence intervals**"
   ]
  },
  {
   "cell_type": "code",
   "execution_count": null,
   "metadata": {
    "scrolled": false
   },
   "outputs": [],
   "source": [
    "cc <- confint(mixed1,parm=\"beta_\",method=\"Wald\")\n",
    "ctab <- cbind(est=fixef(mixed1),cc)\n",
    "rtab <- exp(ctab)\n",
    "print(rtab,digits=3)"
   ]
  },
  {
   "cell_type": "markdown",
   "metadata": {},
   "source": [
    "## Discussion on all 4 models (w. w/o interaction and w. w/o main)\n",
    "What we notice:\n",
    "* cvs_graph never matters\n",
    "* main matters\n",
    "* pre doesn't matter\n",
    "* variable matters\n",
    "* sim_index doesn't matter..."
   ]
  },
  {
   "cell_type": "markdown",
   "metadata": {
    "hideCode": true,
    "hidePrompt": true
   },
   "source": [
    "# Stat model 3: Predicting the use of CVS graph"
   ]
  },
  {
   "cell_type": "markdown",
   "metadata": {},
   "source": [
    "Our model is:\n",
    "\n",
    "    cvs_graph  ~ variable + pre + sim_index + sid\n",
    "                 + lab_experience + similar_sim + prior_number_virtual_labs\n",
    "             \n",
    "We run a logistic regression:"
   ]
  },
  {
   "cell_type": "code",
   "execution_count": null,
   "metadata": {},
   "outputs": [],
   "source": [
    "mixed <- glmer(\n",
    "    cvs_graph\n",
    "    ~ variable + sim_index + pre\n",
    "    + lab_experience + similar_sim + prior_number_virtual_labs + (1 | sid),\n",
    "           data = mydata, family = binomial, \n",
    "           control = glmerControl(optimizer = \"bobyqa\"), nAGQ = 10)\n",
    "\n",
    "summary(mixed)"
   ]
  },
  {
   "cell_type": "markdown",
   "metadata": {},
   "source": [
    "**(non log) Odds ratio with confidence intervals**"
   ]
  },
  {
   "cell_type": "code",
   "execution_count": null,
   "metadata": {},
   "outputs": [],
   "source": [
    "cc <- confint(mixed,parm=\"beta_\",method=\"Wald\")\n",
    "ctab <- cbind(est=fixef(mixed),cc)\n",
    "rtab <- exp(ctab)\n",
    "print(rtab,digits=3)"
   ]
  },
  {
   "cell_type": "markdown",
   "metadata": {},
   "source": [
    "\n",
    "\n",
    "\n",
    "\n",
    "\n",
    "\n",
    "\n",
    "____________________________________________________________________________\n",
    "\n",
    "\n",
    "\n",
    "\n",
    "\n",
    "# OTHER VERSION OF ANALYSES - keep for historical purposes\n",
    "Even though we decided not to include them or do analyses this way, we keep the code to run them here just in case.\n",
    "\n",
    "First we reload the data, in case some factors have changed from continuous to categorical variables"
   ]
  },
  {
   "cell_type": "code",
   "execution_count": null,
   "metadata": {},
   "outputs": [],
   "source": [
    "# mydata <- read.csv(\"C:\\\\Users\\\\Sarah\\\\Documents\\\\Personal Content\\\\Lab_study_data\\\\all_massaged_data\\\\dataframe_all_factors_for_analysis.txt\",sep = '\\t')\n",
    "# # sid is the student number\n",
    "# mydata$sid <- factor(mydata$sid)\n",
    "# mydata$sim_index <- factor(mydata$sim_index)\n",
    "# mydata$lab_experience <- factor(mydata$lab_experience)\n",
    "# mydata$similar_sim <- factor(mydata$similar_sim)\n",
    "# mydata$cvs_graph <- factor(mydata$cvs_graph)\n",
    "# mydata$cvs_table <- factor(mydata$cvs_table)\n",
    "# # mydata$main <- factor(mydata$main)\n",
    "# # mydata$pre <- factor(mydata$pre)"
   ]
  },
  {
   "cell_type": "markdown",
   "metadata": {
    "hideCode": true,
    "hidePrompt": true
   },
   "source": [
    "## Stat model 1: Predicting main model scores as a categorical variable"
   ]
  },
  {
   "cell_type": "markdown",
   "metadata": {},
   "source": [
    "First we transform the data in an extra wide format for the mlogit function.\n",
    "Now every student has a row for each variable times type of model (0,1,2).\n",
    "The \"alt\" is the model type (0,1,2) and \"main\" is True if that was the model type they got correct (and the others are always False for that variable)."
   ]
  },
  {
   "cell_type": "code",
   "execution_count": null,
   "metadata": {},
   "outputs": [],
   "source": [
    "# mydata$main <- factor(mydata$main)\n",
    "# mydata$pre <- factor(mydata$pre)"
   ]
  },
  {
   "cell_type": "code",
   "execution_count": null,
   "metadata": {},
   "outputs": [],
   "source": [
    "# wide_mydata <- mlogit.data(mydata, shape = 'wide', choice = \"main\", id.var = \"sid\")\n",
    "# head(wide_mydata, 5)"
   ]
  },
  {
   "cell_type": "markdown",
   "metadata": {},
   "source": [
    "Then we run the mlogit model.\n",
    "\n",
    "See the following: https://cran.r-project.org/web/packages/mlogit/vignettes/mlogit.pdf\n",
    "\n",
    "Specifically, mixed in this document DOESN't mean with repeated measures. The \"1 | \" in the formula below tells it that some of the variables are individual specific.\n",
    "The examples using the \"Train\" dataset is what I followed. See pages 3-7 for how to structure data and 22,23 for example of running mlogit."
   ]
  },
  {
   "cell_type": "code",
   "execution_count": null,
   "metadata": {},
   "outputs": [],
   "source": [
    "# ml.mydata <- mlogit(main\n",
    "#     ~ 1 | cvs_table + cvs_graph + variable + sim_index + pre\n",
    "#     + lab_experience + similar_sim + prior_number_virtual_labs, wide_mydata)\n",
    "# summary(ml.mydata)"
   ]
  }
 ],
 "metadata": {
  "anaconda-cloud": {},
  "kernelspec": {
   "display_name": "R",
   "language": "R",
   "name": "ir"
  },
  "language_info": {
   "codemirror_mode": "r",
   "file_extension": ".r",
   "mimetype": "text/x-r-source",
   "name": "R",
   "pygments_lexer": "r",
   "version": "3.4.3"
  },
  "toc": {
   "nav_menu": {
    "height": "172px",
    "width": "328px"
   },
   "number_sections": true,
   "sideBar": true,
   "skip_h1_title": false,
   "toc_cell": false,
   "toc_position": {},
   "toc_section_display": "block",
   "toc_window_display": false
  }
 },
 "nbformat": 4,
 "nbformat_minor": 1
}
