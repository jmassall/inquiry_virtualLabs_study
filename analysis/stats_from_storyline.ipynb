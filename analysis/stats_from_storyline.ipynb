{
 "cells": [
  {
   "cell_type": "markdown",
   "metadata": {},
   "source": [
    "Load libraries"
   ]
  },
  {
   "cell_type": "code",
   "execution_count": 32,
   "metadata": {},
   "outputs": [],
   "source": [
    "## For some reason, when loading mlogit, the notebook can't find package 'statmod' so I specify it's location\n",
    "library(statmod, lib.loc='D:\\\\Applications\\\\Anaconda2\\\\pkgs\\\\r-statmod-1.4.30-r3.4.1_0\\\\lib\\\\R\\\\library\\\\')\n",
    "require(mlogit)\n",
    "require(ggplot2)\n",
    "require(reshape2)\n",
    "require(lme4)\n",
    "require(compiler)\n",
    "require(parallel)\n",
    "require(car)\n",
    "require(boot)\n",
    "require(dplyr)\n",
    "require(sjstats)\n",
    "require(broom)"
   ]
  },
  {
   "cell_type": "markdown",
   "metadata": {},
   "source": [
    "# Load data and set factors"
   ]
  },
  {
   "cell_type": "code",
   "execution_count": 33,
   "metadata": {},
   "outputs": [],
   "source": [
    "mydata <- read.csv(\"C:\\\\Users\\\\Sarah\\\\Documents\\\\Personal Content\\\\Lab_study_data\\\\all_massaged_data\\\\dataframe_all_factors_for_analysis.txt\",sep = '\\t')\n",
    "# sid is the student number\n",
    "mydata$sid <- factor(mydata$sid)\n",
    "mydata$sim_index <- factor(mydata$sim_index)\n",
    "mydata$lab_experience <- factor(mydata$lab_experience)\n",
    "mydata$similar_sim <- factor(mydata$similar_sim)\n",
    "mydata$cvs_graph <- factor(mydata$cvs_graph)\n",
    "mydata$cvs_table <- factor(mydata$cvs_table)\n",
    "mydata$quant_score <- factor(mydata$quant_score)\n",
    "# mydata$main <- factor(mydata$main)\n",
    "# mydata$pre <- factor(mydata$pre)"
   ]
  },
  {
   "cell_type": "markdown",
   "metadata": {},
   "source": [
    "Here is what our data looks like:"
   ]
  },
  {
   "cell_type": "code",
   "execution_count": 34,
   "metadata": {},
   "outputs": [
    {
     "data": {
      "text/html": [
       "<table>\n",
       "<thead><tr><th scope=col>sid</th><th scope=col>sim</th><th scope=col>variable</th><th scope=col>pre</th><th scope=col>main</th><th scope=col>cvs_graph</th><th scope=col>cvs_table</th><th scope=col>qual_score</th><th scope=col>quant_score</th><th scope=col>activity_order</th><th scope=col>...</th><th scope=col>pre_with_ident</th><th scope=col>main_with_ident</th><th scope=col>CVS_context</th><th scope=col>use_table</th><th scope=col>use_graph</th><th scope=col>use_concentration</th><th scope=col>use_width</th><th scope=col>use_area</th><th scope=col>use_separation</th><th scope=col>use_all_vars</th></tr></thead>\n",
       "<tbody>\n",
       "\t<tr><td>10127163     </td><td>L            </td><td>Concentration</td><td>0            </td><td>2            </td><td>1            </td><td>1            </td><td>1            </td><td>1            </td><td>LC           </td><td>...          </td><td>1            </td><td>3            </td><td>2            </td><td>1            </td><td>1            </td><td>1            </td><td>1            </td><td>1            </td><td>1            </td><td>4            </td></tr>\n",
       "\t<tr><td>10127163     </td><td>L            </td><td>Width        </td><td>0            </td><td>2            </td><td>1            </td><td>1            </td><td>1            </td><td>1            </td><td>LC           </td><td>...          </td><td>1            </td><td>3            </td><td>2            </td><td>1            </td><td>1            </td><td>1            </td><td>1            </td><td>1            </td><td>1            </td><td>4            </td></tr>\n",
       "\t<tr><td>10127163     </td><td>C            </td><td>Area         </td><td>2            </td><td>2            </td><td>1            </td><td>1            </td><td>1            </td><td>1            </td><td>LC           </td><td>...          </td><td>3            </td><td>3            </td><td>2            </td><td>1            </td><td>1            </td><td>1            </td><td>1            </td><td>1            </td><td>1            </td><td>4            </td></tr>\n",
       "\t<tr><td>10127163     </td><td>C            </td><td>Separation   </td><td>2            </td><td>2            </td><td>1            </td><td>1            </td><td>1            </td><td>1            </td><td>LC           </td><td>...          </td><td>3            </td><td>3            </td><td>2            </td><td>1            </td><td>1            </td><td>1            </td><td>1            </td><td>1            </td><td>1            </td><td>4            </td></tr>\n",
       "\t<tr><td>10232160     </td><td>L            </td><td>Concentration</td><td>0            </td><td>0            </td><td>1            </td><td>1            </td><td>1            </td><td>1            </td><td>LC           </td><td>...          </td><td>1            </td><td>1            </td><td>2            </td><td>1            </td><td>1            </td><td>1            </td><td>1            </td><td>1            </td><td>1            </td><td>4            </td></tr>\n",
       "\t<tr><td>10232160     </td><td>L            </td><td>Width        </td><td>0            </td><td>0            </td><td>0            </td><td>0            </td><td>1            </td><td>1            </td><td>LC           </td><td>...          </td><td>1            </td><td>1            </td><td>0            </td><td>1            </td><td>1            </td><td>1            </td><td>1            </td><td>1            </td><td>1            </td><td>4            </td></tr>\n",
       "</tbody>\n",
       "</table>\n"
      ],
      "text/latex": [
       "\\begin{tabular}{r|lllllllllllllllllllllllllll}\n",
       " sid & sim & variable & pre & main & cvs\\_graph & cvs\\_table & qual\\_score & quant\\_score & activity\\_order & ... & pre\\_with\\_ident & main\\_with\\_ident & CVS\\_context & use\\_table & use\\_graph & use\\_concentration & use\\_width & use\\_area & use\\_separation & use\\_all\\_vars\\\\\n",
       "\\hline\n",
       "\t 10127163      & L             & Concentration & 0             & 2             & 1             & 1             & 1             & 1             & LC            & ...           & 1             & 3             & 2             & 1             & 1             & 1             & 1             & 1             & 1             & 4            \\\\\n",
       "\t 10127163      & L             & Width         & 0             & 2             & 1             & 1             & 1             & 1             & LC            & ...           & 1             & 3             & 2             & 1             & 1             & 1             & 1             & 1             & 1             & 4            \\\\\n",
       "\t 10127163      & C             & Area          & 2             & 2             & 1             & 1             & 1             & 1             & LC            & ...           & 3             & 3             & 2             & 1             & 1             & 1             & 1             & 1             & 1             & 4            \\\\\n",
       "\t 10127163      & C             & Separation    & 2             & 2             & 1             & 1             & 1             & 1             & LC            & ...           & 3             & 3             & 2             & 1             & 1             & 1             & 1             & 1             & 1             & 4            \\\\\n",
       "\t 10232160      & L             & Concentration & 0             & 0             & 1             & 1             & 1             & 1             & LC            & ...           & 1             & 1             & 2             & 1             & 1             & 1             & 1             & 1             & 1             & 4            \\\\\n",
       "\t 10232160      & L             & Width         & 0             & 0             & 0             & 0             & 1             & 1             & LC            & ...           & 1             & 1             & 0             & 1             & 1             & 1             & 1             & 1             & 1             & 4            \\\\\n",
       "\\end{tabular}\n"
      ],
      "text/markdown": [
       "\n",
       "sid | sim | variable | pre | main | cvs_graph | cvs_table | qual_score | quant_score | activity_order | ... | pre_with_ident | main_with_ident | CVS_context | use_table | use_graph | use_concentration | use_width | use_area | use_separation | use_all_vars | \n",
       "|---|---|---|---|---|---|\n",
       "| 10127163      | L             | Concentration | 0             | 2             | 1             | 1             | 1             | 1             | LC            | ...           | 1             | 3             | 2             | 1             | 1             | 1             | 1             | 1             | 1             | 4             | \n",
       "| 10127163      | L             | Width         | 0             | 2             | 1             | 1             | 1             | 1             | LC            | ...           | 1             | 3             | 2             | 1             | 1             | 1             | 1             | 1             | 1             | 4             | \n",
       "| 10127163      | C             | Area          | 2             | 2             | 1             | 1             | 1             | 1             | LC            | ...           | 3             | 3             | 2             | 1             | 1             | 1             | 1             | 1             | 1             | 4             | \n",
       "| 10127163      | C             | Separation    | 2             | 2             | 1             | 1             | 1             | 1             | LC            | ...           | 3             | 3             | 2             | 1             | 1             | 1             | 1             | 1             | 1             | 4             | \n",
       "| 10232160      | L             | Concentration | 0             | 0             | 1             | 1             | 1             | 1             | LC            | ...           | 1             | 1             | 2             | 1             | 1             | 1             | 1             | 1             | 1             | 4             | \n",
       "| 10232160      | L             | Width         | 0             | 0             | 0             | 0             | 1             | 1             | LC            | ...           | 1             | 1             | 0             | 1             | 1             | 1             | 1             | 1             | 1             | 4             | \n",
       "\n",
       "\n"
      ],
      "text/plain": [
       "  sid      sim variable      pre main cvs_graph cvs_table qual_score\n",
       "1 10127163 L   Concentration 0   2    1         1         1         \n",
       "2 10127163 L   Width         0   2    1         1         1         \n",
       "3 10127163 C   Area          2   2    1         1         1         \n",
       "4 10127163 C   Separation    2   2    1         1         1         \n",
       "5 10232160 L   Concentration 0   0    1         1         1         \n",
       "6 10232160 L   Width         0   0    0         0         1         \n",
       "  quant_score activity_order ... pre_with_ident main_with_ident CVS_context\n",
       "1 1           LC             ... 1              3               2          \n",
       "2 1           LC             ... 1              3               2          \n",
       "3 1           LC             ... 3              3               2          \n",
       "4 1           LC             ... 3              3               2          \n",
       "5 1           LC             ... 1              1               2          \n",
       "6 1           LC             ... 1              1               0          \n",
       "  use_table use_graph use_concentration use_width use_area use_separation\n",
       "1 1         1         1                 1         1        1             \n",
       "2 1         1         1                 1         1        1             \n",
       "3 1         1         1                 1         1        1             \n",
       "4 1         1         1                 1         1        1             \n",
       "5 1         1         1                 1         1        1             \n",
       "6 1         1         1                 1         1        1             \n",
       "  use_all_vars\n",
       "1 4           \n",
       "2 4           \n",
       "3 4           \n",
       "4 4           \n",
       "5 4           \n",
       "6 4           "
      ]
     },
     "metadata": {},
     "output_type": "display_data"
    }
   ],
   "source": [
    "head(mydata)\n",
    "# colnames(mydata)"
   ]
  },
  {
   "cell_type": "markdown",
   "metadata": {},
   "source": [
    "We have the following factors that change per variable:\n",
    "* main (0,1,2), treated as a continuous variable\n",
    "* pre (0,1,2), treated as a continuous variable\n",
    "* quant_score (0 or 1)\n",
    "* CVS_graph (0 or 1)\n",
    "* CVS_table (0 or 1)\n",
    "\n",
    "We have the following independant factors:\n",
    "* sim_index (1 or 2, wither it was student's 1st or 2nd activity)\n",
    "* variable (thus don't include sim as a variable)\n",
    "* student attibutes:\n",
    "   * lab_experience (0 or 1 if students have prior undergraduate physics or chemistry lab experience)\n",
    "   * similar_sim (0 or 1 if they have used a similar simulation)\n",
    "   * prior_number_virtual_labs (levels from 0 to 3 depending on the number of virtual labs they have done in the past)\n",
    "\n",
    "We ignore attitude components.\n",
    "\n",
    "For main and pre score:\n",
    "* score = 2 if they describe the correct relationship, ie. a correct quantitative model\n",
    "* score = 1 if they describe the correct direction of the relationship, ie. they have a correct qual model but incorrect quant model OR if their quant model is incorrect but qualitatively correct\n",
    "* score = 0 otherwise (i.e. all incorrect or only identified)"
   ]
  },
  {
   "cell_type": "markdown",
   "metadata": {},
   "source": [
    "# Stat model 1: Prediction main model score as a continuous variable"
   ]
  },
  {
   "cell_type": "markdown",
   "metadata": {},
   "source": [
    "Some resources:\n",
    "* On SS Types: https://mcfromnz.wordpress.com/2011/03/02/anova-type-iiiiii-ss-explained/\n",
    "* on drop() function to do type 3: https://www.statmethods.net/stats/anova.html\n",
    "* On repeated measures: http://psych.wisc.edu/moore/Rpdf/610-R8_OneWayWithin.pdf, https://datascienceplus.com/two-way-anova-with-repeated-measures/\n",
    "* the car package: https://cran.r-project.org/web/packages/car/car.pdf"
   ]
  },
  {
   "cell_type": "markdown",
   "metadata": {},
   "source": [
    "## Without interaction"
   ]
  },
  {
   "cell_type": "markdown",
   "metadata": {},
   "source": [
    "main  ~  cvs_table + cvs_graph + variable + pre + sim_index + sid + lab_experience + similar_sim + prior_number_virtual_labs"
   ]
  },
  {
   "cell_type": "code",
   "execution_count": 35,
   "metadata": {},
   "outputs": [
    {
     "data": {
      "text/html": [
       "<table>\n",
       "<thead><tr><th scope=col>term</th><th scope=col>sumsq</th><th scope=col>df</th><th scope=col>statistic</th><th scope=col>p.value</th><th scope=col>eta</th></tr></thead>\n",
       "<tbody>\n",
       "\t<tr><td>cvs_table                </td><td>2.948199e-03             </td><td>  1                      </td><td> 0.012941292             </td><td>9.094809e-01             </td><td>2.988662e-05             </td></tr>\n",
       "\t<tr><td>cvs_graph                </td><td>2.847763e+00             </td><td>  1                      </td><td>12.500420043             </td><td>4.507331e-04             </td><td>2.805928e-02             </td></tr>\n",
       "\t<tr><td>variable                 </td><td>2.053713e+00             </td><td>  3                      </td><td> 3.004964024             </td><td>3.020047e-02             </td><td>2.039500e-02             </td></tr>\n",
       "\t<tr><td>pre                      </td><td>5.046346e-01             </td><td>  1                      </td><td> 2.215122837             </td><td>1.373921e-01             </td><td>5.089719e-03             </td></tr>\n",
       "\t<tr><td>sim_index                </td><td>2.747183e+00             </td><td>  1                      </td><td>12.058916980             </td><td>5.672906e-04             </td><td>2.709510e-02             </td></tr>\n",
       "\t<tr><td>sid                      </td><td>1.002275e+02             </td><td>146                      </td><td> 3.013387963             </td><td>8.909223e-19             </td><td>5.039834e-01             </td></tr>\n",
       "\t<tr><td>lab_experience           </td><td>          NA             </td><td>  0                      </td><td>          NA             </td><td>          NA             </td><td>          NA             </td></tr>\n",
       "\t<tr><td>similar_sim              </td><td>1.078127e-03             </td><td>  1                      </td><td> 0.004732502             </td><td>9.451860e-01             </td><td>1.092945e-05             </td></tr>\n",
       "\t<tr><td>prior_number_virtual_labs</td><td>          NA             </td><td>  0                      </td><td>          NA             </td><td>          NA             </td><td>          NA             </td></tr>\n",
       "\t<tr><td>Residuals                </td><td>9.864319e+01             </td><td>433                      </td><td>          NA             </td><td>          NA             </td><td>5.000000e-01             </td></tr>\n",
       "</tbody>\n",
       "</table>\n"
      ],
      "text/latex": [
       "\\begin{tabular}{r|llllll}\n",
       " term & sumsq & df & statistic & p.value & eta\\\\\n",
       "\\hline\n",
       "\t cvs\\_table                 & 2.948199e-03                &   1                         &  0.012941292                & 9.094809e-01                & 2.988662e-05               \\\\\n",
       "\t cvs\\_graph                 & 2.847763e+00                &   1                         & 12.500420043                & 4.507331e-04                & 2.805928e-02               \\\\\n",
       "\t variable                  & 2.053713e+00              &   3                       &  3.004964024              & 3.020047e-02              & 2.039500e-02             \\\\\n",
       "\t pre                       & 5.046346e-01              &   1                       &  2.215122837              & 1.373921e-01              & 5.089719e-03             \\\\\n",
       "\t sim\\_index                 & 2.747183e+00                &   1                         & 12.058916980                & 5.672906e-04                & 2.709510e-02               \\\\\n",
       "\t sid                       & 1.002275e+02              & 146                       &  3.013387963              & 8.909223e-19              & 5.039834e-01             \\\\\n",
       "\t lab\\_experience            &           NA                &   0                         &           NA                &           NA                &           NA               \\\\\n",
       "\t similar\\_sim               & 1.078127e-03                &   1                         &  0.004732502                & 9.451860e-01                & 1.092945e-05               \\\\\n",
       "\t prior\\_number\\_virtual\\_labs &           NA                    &   0                             &           NA                    &           NA                    &           NA                   \\\\\n",
       "\t Residuals                 & 9.864319e+01              & 433                       &           NA              &           NA              & 5.000000e-01             \\\\\n",
       "\\end{tabular}\n"
      ],
      "text/markdown": [
       "\n",
       "term | sumsq | df | statistic | p.value | eta | \n",
       "|---|---|---|---|---|---|---|---|---|---|\n",
       "| cvs_table                 | 2.948199e-03              |   1                       |  0.012941292              | 9.094809e-01              | 2.988662e-05              | \n",
       "| cvs_graph                 | 2.847763e+00              |   1                       | 12.500420043              | 4.507331e-04              | 2.805928e-02              | \n",
       "| variable                  | 2.053713e+00              |   3                       |  3.004964024              | 3.020047e-02              | 2.039500e-02              | \n",
       "| pre                       | 5.046346e-01              |   1                       |  2.215122837              | 1.373921e-01              | 5.089719e-03              | \n",
       "| sim_index                 | 2.747183e+00              |   1                       | 12.058916980              | 5.672906e-04              | 2.709510e-02              | \n",
       "| sid                       | 1.002275e+02              | 146                       |  3.013387963              | 8.909223e-19              | 5.039834e-01              | \n",
       "| lab_experience            |           NA              |   0                       |           NA              |           NA              |           NA              | \n",
       "| similar_sim               | 1.078127e-03              |   1                       |  0.004732502              | 9.451860e-01              | 1.092945e-05              | \n",
       "| prior_number_virtual_labs |           NA              |   0                       |           NA              |           NA              |           NA              | \n",
       "| Residuals                 | 9.864319e+01              | 433                       |           NA              |           NA              | 5.000000e-01              | \n",
       "\n",
       "\n"
      ],
      "text/plain": [
       "   term                      sumsq        df  statistic    p.value     \n",
       "1  cvs_table                 2.948199e-03   1  0.012941292 9.094809e-01\n",
       "2  cvs_graph                 2.847763e+00   1 12.500420043 4.507331e-04\n",
       "3  variable                  2.053713e+00   3  3.004964024 3.020047e-02\n",
       "4  pre                       5.046346e-01   1  2.215122837 1.373921e-01\n",
       "5  sim_index                 2.747183e+00   1 12.058916980 5.672906e-04\n",
       "6  sid                       1.002275e+02 146  3.013387963 8.909223e-19\n",
       "7  lab_experience                      NA   0           NA           NA\n",
       "8  similar_sim               1.078127e-03   1  0.004732502 9.451860e-01\n",
       "9  prior_number_virtual_labs           NA   0           NA           NA\n",
       "10 Residuals                 9.864319e+01 433           NA           NA\n",
       "   eta         \n",
       "1  2.988662e-05\n",
       "2  2.805928e-02\n",
       "3  2.039500e-02\n",
       "4  5.089719e-03\n",
       "5  2.709510e-02\n",
       "6  5.039834e-01\n",
       "7            NA\n",
       "8  1.092945e-05\n",
       "9            NA\n",
       "10 5.000000e-01"
      ]
     },
     "metadata": {},
     "output_type": "display_data"
    }
   ],
   "source": [
    "lm1 = lm(main\n",
    "        ~  cvs_table + cvs_graph + variable + pre + sim_index + sid\n",
    "         + lab_experience + similar_sim + prior_number_virtual_labs,\n",
    "         data=mydata)\n",
    "results1 = Anova(lm1, type=2)\n",
    "results_table1 = tidy(results1)\n",
    "results_table1$eta <- results_table1$sumsq/(results_table1$sumsq + results_table1$sumsq[dim(results_table1)[1]])\n",
    "results_table1"
   ]
  },
  {
   "cell_type": "markdown",
   "metadata": {},
   "source": [
    "We see that, in order of significance: cvs_graph, sim_index, and variable matter."
   ]
  },
  {
   "cell_type": "markdown",
   "metadata": {},
   "source": [
    "## With interaction"
   ]
  },
  {
   "cell_type": "markdown",
   "metadata": {},
   "source": [
    "### Type 1 (order of variables matter...)"
   ]
  },
  {
   "cell_type": "markdown",
   "metadata": {},
   "source": [
    "#### Let's try with one order:\n",
    "\n",
    "main    ~  cvs_table\\*variable + cvs_graph\\*variable + cvs_table\\*pre + cvs_graph\\*pre + sim_index + sid + lab_experience + similar_sim + prior_number_virtual_labs"
   ]
  },
  {
   "cell_type": "code",
   "execution_count": 36,
   "metadata": {},
   "outputs": [
    {
     "data": {
      "text/html": [
       "<table>\n",
       "<thead><tr><th scope=col>term</th><th scope=col>df</th><th scope=col>sumsq</th><th scope=col>meansq</th><th scope=col>statistic</th><th scope=col>p.value</th><th scope=col>eta</th></tr></thead>\n",
       "<tbody>\n",
       "\t<tr><td>cvs_table         </td><td>  1               </td><td>2.150936e+01      </td><td>21.509355389      </td><td>95.523544118      </td><td>1.739037e-20      </td><td>1.835144e-01      </td></tr>\n",
       "\t<tr><td>variable          </td><td>  3               </td><td>1.718479e+00      </td><td> 0.572826174      </td><td> 2.543934269      </td><td>5.571298e-02      </td><td>1.764041e-02      </td></tr>\n",
       "\t<tr><td>cvs_graph         </td><td>  1               </td><td>8.512087e+00      </td><td> 8.512087152      </td><td>37.802375657      </td><td>1.806123e-09      </td><td>8.168146e-02      </td></tr>\n",
       "\t<tr><td>pre               </td><td>  1               </td><td>7.500410e+00      </td><td> 7.500409660      </td><td>33.309492549      </td><td>1.517214e-08      </td><td>7.267904e-02      </td></tr>\n",
       "\t<tr><td>sim_index         </td><td>  1               </td><td>2.389236e+00      </td><td> 2.389236282      </td><td>10.610653516      </td><td>1.214558e-03      </td><td>2.435811e-02      </td></tr>\n",
       "\t<tr><td>sid               </td><td>146               </td><td>1.003316e+02      </td><td> 0.687202793      </td><td> 3.051883479      </td><td>4.749450e-19      </td><td>5.118169e-01      </td></tr>\n",
       "\t<tr><td>similar_sim       </td><td>  1               </td><td>1.078127e-03      </td><td> 0.001078127      </td><td> 0.004787988      </td><td>9.448667e-01      </td><td>1.126573e-05      </td></tr>\n",
       "\t<tr><td>cvs_table:variable</td><td>  3               </td><td>2.638340e+00      </td><td> 0.879446815      </td><td> 3.905643620      </td><td>9.003313e-03      </td><td>2.682958e-02      </td></tr>\n",
       "\t<tr><td>variable:cvs_graph</td><td>  3               </td><td>5.280470e-02      </td><td> 0.017601566      </td><td> 0.078168960      </td><td>9.717991e-01      </td><td>5.514766e-04      </td></tr>\n",
       "\t<tr><td>cvs_table:pre     </td><td>  1               </td><td>1.463212e-01      </td><td> 0.146321229      </td><td> 0.649815959      </td><td>4.206293e-01      </td><td>1.526645e-03      </td></tr>\n",
       "\t<tr><td>cvs_graph:pre     </td><td>  1               </td><td>1.070537e-01      </td><td> 0.107053723      </td><td> 0.475428055      </td><td>4.908768e-01      </td><td>1.117404e-03      </td></tr>\n",
       "\t<tr><td>Residuals         </td><td>425               </td><td>9.569867e+01      </td><td> 0.225173339      </td><td>          NA      </td><td>          NA      </td><td>5.000000e-01      </td></tr>\n",
       "</tbody>\n",
       "</table>\n"
      ],
      "text/latex": [
       "\\begin{tabular}{r|lllllll}\n",
       " term & df & sumsq & meansq & statistic & p.value & eta\\\\\n",
       "\\hline\n",
       "\t cvs\\_table          &   1                  & 2.150936e+01         & 21.509355389         & 95.523544118         & 1.739037e-20         & 1.835144e-01        \\\\\n",
       "\t variable           &   3                & 1.718479e+00       &  0.572826174       &  2.543934269       & 5.571298e-02       & 1.764041e-02      \\\\\n",
       "\t cvs\\_graph          &   1                  & 8.512087e+00         &  8.512087152         & 37.802375657         & 1.806123e-09         & 8.168146e-02        \\\\\n",
       "\t pre                &   1                & 7.500410e+00       &  7.500409660       & 33.309492549       & 1.517214e-08       & 7.267904e-02      \\\\\n",
       "\t sim\\_index          &   1                  & 2.389236e+00         &  2.389236282         & 10.610653516         & 1.214558e-03         & 2.435811e-02        \\\\\n",
       "\t sid                & 146                & 1.003316e+02       &  0.687202793       &  3.051883479       & 4.749450e-19       & 5.118169e-01      \\\\\n",
       "\t similar\\_sim        &   1                  & 1.078127e-03         &  0.001078127         &  0.004787988         & 9.448667e-01         & 1.126573e-05        \\\\\n",
       "\t cvs\\_table:variable &   3                  & 2.638340e+00         &  0.879446815         &  3.905643620         & 9.003313e-03         & 2.682958e-02        \\\\\n",
       "\t variable:cvs\\_graph &   3                  & 5.280470e-02         &  0.017601566         &  0.078168960         & 9.717991e-01         & 5.514766e-04        \\\\\n",
       "\t cvs\\_table:pre      &   1                  & 1.463212e-01         &  0.146321229         &  0.649815959         & 4.206293e-01         & 1.526645e-03        \\\\\n",
       "\t cvs\\_graph:pre      &   1                  & 1.070537e-01         &  0.107053723         &  0.475428055         & 4.908768e-01         & 1.117404e-03        \\\\\n",
       "\t Residuals          & 425                & 9.569867e+01       &  0.225173339       &           NA       &           NA       & 5.000000e-01      \\\\\n",
       "\\end{tabular}\n"
      ],
      "text/markdown": [
       "\n",
       "term | df | sumsq | meansq | statistic | p.value | eta | \n",
       "|---|---|---|---|---|---|---|---|---|---|---|---|\n",
       "| cvs_table          |   1                | 2.150936e+01       | 21.509355389       | 95.523544118       | 1.739037e-20       | 1.835144e-01       | \n",
       "| variable           |   3                | 1.718479e+00       |  0.572826174       |  2.543934269       | 5.571298e-02       | 1.764041e-02       | \n",
       "| cvs_graph          |   1                | 8.512087e+00       |  8.512087152       | 37.802375657       | 1.806123e-09       | 8.168146e-02       | \n",
       "| pre                |   1                | 7.500410e+00       |  7.500409660       | 33.309492549       | 1.517214e-08       | 7.267904e-02       | \n",
       "| sim_index          |   1                | 2.389236e+00       |  2.389236282       | 10.610653516       | 1.214558e-03       | 2.435811e-02       | \n",
       "| sid                | 146                | 1.003316e+02       |  0.687202793       |  3.051883479       | 4.749450e-19       | 5.118169e-01       | \n",
       "| similar_sim        |   1                | 1.078127e-03       |  0.001078127       |  0.004787988       | 9.448667e-01       | 1.126573e-05       | \n",
       "| cvs_table:variable |   3                | 2.638340e+00       |  0.879446815       |  3.905643620       | 9.003313e-03       | 2.682958e-02       | \n",
       "| variable:cvs_graph |   3                | 5.280470e-02       |  0.017601566       |  0.078168960       | 9.717991e-01       | 5.514766e-04       | \n",
       "| cvs_table:pre      |   1                | 1.463212e-01       |  0.146321229       |  0.649815959       | 4.206293e-01       | 1.526645e-03       | \n",
       "| cvs_graph:pre      |   1                | 1.070537e-01       |  0.107053723       |  0.475428055       | 4.908768e-01       | 1.117404e-03       | \n",
       "| Residuals          | 425                | 9.569867e+01       |  0.225173339       |           NA       |           NA       | 5.000000e-01       | \n",
       "\n",
       "\n"
      ],
      "text/plain": [
       "   term               df  sumsq        meansq       statistic    p.value     \n",
       "1  cvs_table            1 2.150936e+01 21.509355389 95.523544118 1.739037e-20\n",
       "2  variable             3 1.718479e+00  0.572826174  2.543934269 5.571298e-02\n",
       "3  cvs_graph            1 8.512087e+00  8.512087152 37.802375657 1.806123e-09\n",
       "4  pre                  1 7.500410e+00  7.500409660 33.309492549 1.517214e-08\n",
       "5  sim_index            1 2.389236e+00  2.389236282 10.610653516 1.214558e-03\n",
       "6  sid                146 1.003316e+02  0.687202793  3.051883479 4.749450e-19\n",
       "7  similar_sim          1 1.078127e-03  0.001078127  0.004787988 9.448667e-01\n",
       "8  cvs_table:variable   3 2.638340e+00  0.879446815  3.905643620 9.003313e-03\n",
       "9  variable:cvs_graph   3 5.280470e-02  0.017601566  0.078168960 9.717991e-01\n",
       "10 cvs_table:pre        1 1.463212e-01  0.146321229  0.649815959 4.206293e-01\n",
       "11 cvs_graph:pre        1 1.070537e-01  0.107053723  0.475428055 4.908768e-01\n",
       "12 Residuals          425 9.569867e+01  0.225173339           NA           NA\n",
       "   eta         \n",
       "1  1.835144e-01\n",
       "2  1.764041e-02\n",
       "3  8.168146e-02\n",
       "4  7.267904e-02\n",
       "5  2.435811e-02\n",
       "6  5.118169e-01\n",
       "7  1.126573e-05\n",
       "8  2.682958e-02\n",
       "9  5.514766e-04\n",
       "10 1.526645e-03\n",
       "11 1.117404e-03\n",
       "12 5.000000e-01"
      ]
     },
     "metadata": {},
     "output_type": "display_data"
    }
   ],
   "source": [
    "lm1 = lm(main\n",
    "        ~  cvs_table*variable + cvs_graph*variable + cvs_table*pre + cvs_graph*pre + sim_index + sid + lab_experience + similar_sim + prior_number_virtual_labs,\n",
    "         data=mydata)\n",
    "results1 = aov(lm1)\n",
    "results_table1 = tidy(results1)\n",
    "results_table1$eta <- results_table1$sumsq/(results_table1$sumsq + results_table1$sumsq[dim(results_table1)[1]])\n",
    "results_table1"
   ]
  },
  {
   "cell_type": "markdown",
   "metadata": {},
   "source": [
    "#### and a different order:\n",
    "\n",
    "main    ~  cvs_graph\\*variable + cvs_table\\*variable + cvs_graph\\*pre + cvs_table\\*pre + sim_index + sid + lab_experience + similar_sim + prior_number_virtual_labs"
   ]
  },
  {
   "cell_type": "code",
   "execution_count": 37,
   "metadata": {},
   "outputs": [
    {
     "data": {
      "text/html": [
       "<table>\n",
       "<thead><tr><th scope=col>term</th><th scope=col>df</th><th scope=col>sumsq</th><th scope=col>meansq</th><th scope=col>statistic</th><th scope=col>p.value</th><th scope=col>eta</th></tr></thead>\n",
       "<tbody>\n",
       "\t<tr><td>cvs_graph         </td><td>  1               </td><td>2.902056e+01      </td><td>29.020563781      </td><td>1.288810e+02      </td><td>2.867222e-26      </td><td>2.326872e-01      </td></tr>\n",
       "\t<tr><td>variable          </td><td>  3               </td><td>1.916391e+00      </td><td> 0.638796891      </td><td>2.836912e+00      </td><td>3.780103e-02      </td><td>1.963212e-02      </td></tr>\n",
       "\t<tr><td>cvs_table         </td><td>  1               </td><td>8.029666e-01      </td><td> 0.802966607      </td><td>3.565993e+00      </td><td>5.965524e-02      </td><td>8.320756e-03      </td></tr>\n",
       "\t<tr><td>pre               </td><td>  1               </td><td>7.500410e+00      </td><td> 7.500409660      </td><td>3.330949e+01      </td><td>1.517214e-08      </td><td>7.267904e-02      </td></tr>\n",
       "\t<tr><td>sim_index         </td><td>  1               </td><td>2.389236e+00      </td><td> 2.389236282      </td><td>1.061065e+01      </td><td>1.214558e-03      </td><td>2.435811e-02      </td></tr>\n",
       "\t<tr><td>sid               </td><td>146               </td><td>1.003316e+02      </td><td> 0.687202793      </td><td>3.051883e+00      </td><td>4.749450e-19      </td><td>5.118169e-01      </td></tr>\n",
       "\t<tr><td>similar_sim       </td><td>  1               </td><td>1.078127e-03      </td><td> 0.001078127      </td><td>4.787988e-03      </td><td>9.448667e-01      </td><td>1.126573e-05      </td></tr>\n",
       "\t<tr><td>cvs_graph:variable</td><td>  3               </td><td>1.480898e+00      </td><td> 0.493632713      </td><td>2.192234e+00      </td><td>8.833136e-02      </td><td>1.523878e-02      </td></tr>\n",
       "\t<tr><td>variable:cvs_table</td><td>  3               </td><td>1.210247e+00      </td><td> 0.403415668      </td><td>1.791578e+00      </td><td>1.480622e-01      </td><td>1.248850e-02      </td></tr>\n",
       "\t<tr><td>cvs_graph:pre     </td><td>  1               </td><td>2.513279e-01      </td><td> 0.251327921      </td><td>1.116153e+00      </td><td>2.913485e-01      </td><td>2.619364e-03      </td></tr>\n",
       "\t<tr><td>cvs_table:pre     </td><td>  1               </td><td>2.047031e-03      </td><td> 0.002047031      </td><td>9.090911e-03      </td><td>9.240847e-01      </td><td>2.138992e-05      </td></tr>\n",
       "\t<tr><td>Residuals         </td><td>425               </td><td>9.569867e+01      </td><td> 0.225173339      </td><td>          NA      </td><td>          NA      </td><td>5.000000e-01      </td></tr>\n",
       "</tbody>\n",
       "</table>\n"
      ],
      "text/latex": [
       "\\begin{tabular}{r|lllllll}\n",
       " term & df & sumsq & meansq & statistic & p.value & eta\\\\\n",
       "\\hline\n",
       "\t cvs\\_graph          &   1                  & 2.902056e+01         & 29.020563781         & 1.288810e+02         & 2.867222e-26         & 2.326872e-01        \\\\\n",
       "\t variable           &   3                & 1.916391e+00       &  0.638796891       & 2.836912e+00       & 3.780103e-02       & 1.963212e-02      \\\\\n",
       "\t cvs\\_table          &   1                  & 8.029666e-01         &  0.802966607         & 3.565993e+00         & 5.965524e-02         & 8.320756e-03        \\\\\n",
       "\t pre                &   1                & 7.500410e+00       &  7.500409660       & 3.330949e+01       & 1.517214e-08       & 7.267904e-02      \\\\\n",
       "\t sim\\_index          &   1                  & 2.389236e+00         &  2.389236282         & 1.061065e+01         & 1.214558e-03         & 2.435811e-02        \\\\\n",
       "\t sid                & 146                & 1.003316e+02       &  0.687202793       & 3.051883e+00       & 4.749450e-19       & 5.118169e-01      \\\\\n",
       "\t similar\\_sim        &   1                  & 1.078127e-03         &  0.001078127         & 4.787988e-03         & 9.448667e-01         & 1.126573e-05        \\\\\n",
       "\t cvs\\_graph:variable &   3                  & 1.480898e+00         &  0.493632713         & 2.192234e+00         & 8.833136e-02         & 1.523878e-02        \\\\\n",
       "\t variable:cvs\\_table &   3                  & 1.210247e+00         &  0.403415668         & 1.791578e+00         & 1.480622e-01         & 1.248850e-02        \\\\\n",
       "\t cvs\\_graph:pre      &   1                  & 2.513279e-01         &  0.251327921         & 1.116153e+00         & 2.913485e-01         & 2.619364e-03        \\\\\n",
       "\t cvs\\_table:pre      &   1                  & 2.047031e-03         &  0.002047031         & 9.090911e-03         & 9.240847e-01         & 2.138992e-05        \\\\\n",
       "\t Residuals          & 425                & 9.569867e+01       &  0.225173339       &           NA       &           NA       & 5.000000e-01      \\\\\n",
       "\\end{tabular}\n"
      ],
      "text/markdown": [
       "\n",
       "term | df | sumsq | meansq | statistic | p.value | eta | \n",
       "|---|---|---|---|---|---|---|---|---|---|---|---|\n",
       "| cvs_graph          |   1                | 2.902056e+01       | 29.020563781       | 1.288810e+02       | 2.867222e-26       | 2.326872e-01       | \n",
       "| variable           |   3                | 1.916391e+00       |  0.638796891       | 2.836912e+00       | 3.780103e-02       | 1.963212e-02       | \n",
       "| cvs_table          |   1                | 8.029666e-01       |  0.802966607       | 3.565993e+00       | 5.965524e-02       | 8.320756e-03       | \n",
       "| pre                |   1                | 7.500410e+00       |  7.500409660       | 3.330949e+01       | 1.517214e-08       | 7.267904e-02       | \n",
       "| sim_index          |   1                | 2.389236e+00       |  2.389236282       | 1.061065e+01       | 1.214558e-03       | 2.435811e-02       | \n",
       "| sid                | 146                | 1.003316e+02       |  0.687202793       | 3.051883e+00       | 4.749450e-19       | 5.118169e-01       | \n",
       "| similar_sim        |   1                | 1.078127e-03       |  0.001078127       | 4.787988e-03       | 9.448667e-01       | 1.126573e-05       | \n",
       "| cvs_graph:variable |   3                | 1.480898e+00       |  0.493632713       | 2.192234e+00       | 8.833136e-02       | 1.523878e-02       | \n",
       "| variable:cvs_table |   3                | 1.210247e+00       |  0.403415668       | 1.791578e+00       | 1.480622e-01       | 1.248850e-02       | \n",
       "| cvs_graph:pre      |   1                | 2.513279e-01       |  0.251327921       | 1.116153e+00       | 2.913485e-01       | 2.619364e-03       | \n",
       "| cvs_table:pre      |   1                | 2.047031e-03       |  0.002047031       | 9.090911e-03       | 9.240847e-01       | 2.138992e-05       | \n",
       "| Residuals          | 425                | 9.569867e+01       |  0.225173339       |           NA       |           NA       | 5.000000e-01       | \n",
       "\n",
       "\n"
      ],
      "text/plain": [
       "   term               df  sumsq        meansq       statistic    p.value     \n",
       "1  cvs_graph            1 2.902056e+01 29.020563781 1.288810e+02 2.867222e-26\n",
       "2  variable             3 1.916391e+00  0.638796891 2.836912e+00 3.780103e-02\n",
       "3  cvs_table            1 8.029666e-01  0.802966607 3.565993e+00 5.965524e-02\n",
       "4  pre                  1 7.500410e+00  7.500409660 3.330949e+01 1.517214e-08\n",
       "5  sim_index            1 2.389236e+00  2.389236282 1.061065e+01 1.214558e-03\n",
       "6  sid                146 1.003316e+02  0.687202793 3.051883e+00 4.749450e-19\n",
       "7  similar_sim          1 1.078127e-03  0.001078127 4.787988e-03 9.448667e-01\n",
       "8  cvs_graph:variable   3 1.480898e+00  0.493632713 2.192234e+00 8.833136e-02\n",
       "9  variable:cvs_table   3 1.210247e+00  0.403415668 1.791578e+00 1.480622e-01\n",
       "10 cvs_graph:pre        1 2.513279e-01  0.251327921 1.116153e+00 2.913485e-01\n",
       "11 cvs_table:pre        1 2.047031e-03  0.002047031 9.090911e-03 9.240847e-01\n",
       "12 Residuals          425 9.569867e+01  0.225173339           NA           NA\n",
       "   eta         \n",
       "1  2.326872e-01\n",
       "2  1.963212e-02\n",
       "3  8.320756e-03\n",
       "4  7.267904e-02\n",
       "5  2.435811e-02\n",
       "6  5.118169e-01\n",
       "7  1.126573e-05\n",
       "8  1.523878e-02\n",
       "9  1.248850e-02\n",
       "10 2.619364e-03\n",
       "11 2.138992e-05\n",
       "12 5.000000e-01"
      ]
     },
     "metadata": {},
     "output_type": "display_data"
    }
   ],
   "source": [
    "lm1 = lm(main\n",
    "        ~  cvs_graph*variable + cvs_table*variable + cvs_graph*pre + cvs_table*pre + sim_index + sid + lab_experience + similar_sim + prior_number_virtual_labs,\n",
    "         data=mydata)\n",
    "results1 = aov(lm1)\n",
    "results_table1 = tidy(results1)\n",
    "results_table1$eta <- results_table1$sumsq/(results_table1$sumsq + results_table1$sumsq[dim(results_table1)[1]])\n",
    "results_table1"
   ]
  },
  {
   "cell_type": "markdown",
   "metadata": {},
   "source": [
    "### Type 2"
   ]
  },
  {
   "cell_type": "code",
   "execution_count": 38,
   "metadata": {},
   "outputs": [
    {
     "data": {
      "text/html": [
       "<table>\n",
       "<thead><tr><th scope=col>term</th><th scope=col>sumsq</th><th scope=col>df</th><th scope=col>statistic</th><th scope=col>p.value</th><th scope=col>eta</th></tr></thead>\n",
       "<tbody>\n",
       "\t<tr><td>cvs_table                </td><td>3.091274e-04             </td><td>  1                      </td><td>1.372842e-03             </td><td>9.704610e-01             </td><td>3.230206e-06             </td></tr>\n",
       "\t<tr><td>variable                 </td><td>1.957260e+00             </td><td>  3                      </td><td>2.897412e+00             </td><td>3.487851e-02             </td><td>2.004241e-02             </td></tr>\n",
       "\t<tr><td>cvs_graph                </td><td>2.964086e+00             </td><td>  1                      </td><td>1.316357e+01             </td><td>3.201567e-04             </td><td>3.004260e-02             </td></tr>\n",
       "\t<tr><td>pre                      </td><td>4.043221e-01             </td><td>  1                      </td><td>1.795604e+00             </td><td>1.809609e-01             </td><td>4.207175e-03             </td></tr>\n",
       "\t<tr><td>sim_index                </td><td>2.715780e+00             </td><td>  1                      </td><td>1.206084e+01             </td><td>5.677269e-04             </td><td>2.759533e-02             </td></tr>\n",
       "\t<tr><td>sid                      </td><td>9.870886e+01             </td><td>146                      </td><td>3.002523e+00             </td><td>1.574507e-18             </td><td>5.077420e-01             </td></tr>\n",
       "\t<tr><td>lab_experience           </td><td>          NA             </td><td>  0                      </td><td>          NA             </td><td>          NA             </td><td>          NA             </td></tr>\n",
       "\t<tr><td>similar_sim              </td><td>1.570053e-04             </td><td>  1                      </td><td>6.972643e-04             </td><td>9.789461e-01             </td><td>1.640619e-06             </td></tr>\n",
       "\t<tr><td>prior_number_virtual_labs</td><td>          NA             </td><td>  0                      </td><td>          NA             </td><td>          NA             </td><td>          NA             </td></tr>\n",
       "\t<tr><td>cvs_table:variable       </td><td>1.212474e+00             </td><td>  3                      </td><td>1.794875e+00             </td><td>1.474411e-01             </td><td>1.251119e-02             </td></tr>\n",
       "\t<tr><td>variable:cvs_graph       </td><td>4.679209e-02             </td><td>  3                      </td><td>6.926826e-02             </td><td>9.762879e-01             </td><td>4.887134e-04             </td></tr>\n",
       "\t<tr><td>cvs_table:pre            </td><td>2.047031e-03             </td><td>  1                      </td><td>9.090911e-03             </td><td>9.240847e-01             </td><td>2.138992e-05             </td></tr>\n",
       "\t<tr><td>cvs_graph:pre            </td><td>1.070537e-01             </td><td>  1                      </td><td>4.754281e-01             </td><td>4.908768e-01             </td><td>1.117404e-03             </td></tr>\n",
       "\t<tr><td>Residuals                </td><td>9.569867e+01             </td><td>425                      </td><td>          NA             </td><td>          NA             </td><td>5.000000e-01             </td></tr>\n",
       "</tbody>\n",
       "</table>\n"
      ],
      "text/latex": [
       "\\begin{tabular}{r|llllll}\n",
       " term & sumsq & df & statistic & p.value & eta\\\\\n",
       "\\hline\n",
       "\t cvs\\_table                 & 3.091274e-04                &   1                         & 1.372842e-03                & 9.704610e-01                & 3.230206e-06               \\\\\n",
       "\t variable                  & 1.957260e+00              &   3                       & 2.897412e+00              & 3.487851e-02              & 2.004241e-02             \\\\\n",
       "\t cvs\\_graph                 & 2.964086e+00                &   1                         & 1.316357e+01                & 3.201567e-04                & 3.004260e-02               \\\\\n",
       "\t pre                       & 4.043221e-01              &   1                       & 1.795604e+00              & 1.809609e-01              & 4.207175e-03             \\\\\n",
       "\t sim\\_index                 & 2.715780e+00                &   1                         & 1.206084e+01                & 5.677269e-04                & 2.759533e-02               \\\\\n",
       "\t sid                       & 9.870886e+01              & 146                       & 3.002523e+00              & 1.574507e-18              & 5.077420e-01             \\\\\n",
       "\t lab\\_experience            &           NA                &   0                         &           NA                &           NA                &           NA               \\\\\n",
       "\t similar\\_sim               & 1.570053e-04                &   1                         & 6.972643e-04                & 9.789461e-01                & 1.640619e-06               \\\\\n",
       "\t prior\\_number\\_virtual\\_labs &           NA                    &   0                             &           NA                    &           NA                    &           NA                   \\\\\n",
       "\t cvs\\_table:variable        & 1.212474e+00                &   3                         & 1.794875e+00                & 1.474411e-01                & 1.251119e-02               \\\\\n",
       "\t variable:cvs\\_graph        & 4.679209e-02                &   3                         & 6.926826e-02                & 9.762879e-01                & 4.887134e-04               \\\\\n",
       "\t cvs\\_table:pre             & 2.047031e-03                &   1                         & 9.090911e-03                & 9.240847e-01                & 2.138992e-05               \\\\\n",
       "\t cvs\\_graph:pre             & 1.070537e-01                &   1                         & 4.754281e-01                & 4.908768e-01                & 1.117404e-03               \\\\\n",
       "\t Residuals                 & 9.569867e+01              & 425                       &           NA              &           NA              & 5.000000e-01             \\\\\n",
       "\\end{tabular}\n"
      ],
      "text/markdown": [
       "\n",
       "term | sumsq | df | statistic | p.value | eta | \n",
       "|---|---|---|---|---|---|---|---|---|---|---|---|---|---|\n",
       "| cvs_table                 | 3.091274e-04              |   1                       | 1.372842e-03              | 9.704610e-01              | 3.230206e-06              | \n",
       "| variable                  | 1.957260e+00              |   3                       | 2.897412e+00              | 3.487851e-02              | 2.004241e-02              | \n",
       "| cvs_graph                 | 2.964086e+00              |   1                       | 1.316357e+01              | 3.201567e-04              | 3.004260e-02              | \n",
       "| pre                       | 4.043221e-01              |   1                       | 1.795604e+00              | 1.809609e-01              | 4.207175e-03              | \n",
       "| sim_index                 | 2.715780e+00              |   1                       | 1.206084e+01              | 5.677269e-04              | 2.759533e-02              | \n",
       "| sid                       | 9.870886e+01              | 146                       | 3.002523e+00              | 1.574507e-18              | 5.077420e-01              | \n",
       "| lab_experience            |           NA              |   0                       |           NA              |           NA              |           NA              | \n",
       "| similar_sim               | 1.570053e-04              |   1                       | 6.972643e-04              | 9.789461e-01              | 1.640619e-06              | \n",
       "| prior_number_virtual_labs |           NA              |   0                       |           NA              |           NA              |           NA              | \n",
       "| cvs_table:variable        | 1.212474e+00              |   3                       | 1.794875e+00              | 1.474411e-01              | 1.251119e-02              | \n",
       "| variable:cvs_graph        | 4.679209e-02              |   3                       | 6.926826e-02              | 9.762879e-01              | 4.887134e-04              | \n",
       "| cvs_table:pre             | 2.047031e-03              |   1                       | 9.090911e-03              | 9.240847e-01              | 2.138992e-05              | \n",
       "| cvs_graph:pre             | 1.070537e-01              |   1                       | 4.754281e-01              | 4.908768e-01              | 1.117404e-03              | \n",
       "| Residuals                 | 9.569867e+01              | 425                       |           NA              |           NA              | 5.000000e-01              | \n",
       "\n",
       "\n"
      ],
      "text/plain": [
       "   term                      sumsq        df  statistic    p.value     \n",
       "1  cvs_table                 3.091274e-04   1 1.372842e-03 9.704610e-01\n",
       "2  variable                  1.957260e+00   3 2.897412e+00 3.487851e-02\n",
       "3  cvs_graph                 2.964086e+00   1 1.316357e+01 3.201567e-04\n",
       "4  pre                       4.043221e-01   1 1.795604e+00 1.809609e-01\n",
       "5  sim_index                 2.715780e+00   1 1.206084e+01 5.677269e-04\n",
       "6  sid                       9.870886e+01 146 3.002523e+00 1.574507e-18\n",
       "7  lab_experience                      NA   0           NA           NA\n",
       "8  similar_sim               1.570053e-04   1 6.972643e-04 9.789461e-01\n",
       "9  prior_number_virtual_labs           NA   0           NA           NA\n",
       "10 cvs_table:variable        1.212474e+00   3 1.794875e+00 1.474411e-01\n",
       "11 variable:cvs_graph        4.679209e-02   3 6.926826e-02 9.762879e-01\n",
       "12 cvs_table:pre             2.047031e-03   1 9.090911e-03 9.240847e-01\n",
       "13 cvs_graph:pre             1.070537e-01   1 4.754281e-01 4.908768e-01\n",
       "14 Residuals                 9.569867e+01 425           NA           NA\n",
       "   eta         \n",
       "1  3.230206e-06\n",
       "2  2.004241e-02\n",
       "3  3.004260e-02\n",
       "4  4.207175e-03\n",
       "5  2.759533e-02\n",
       "6  5.077420e-01\n",
       "7            NA\n",
       "8  1.640619e-06\n",
       "9            NA\n",
       "10 1.251119e-02\n",
       "11 4.887134e-04\n",
       "12 2.138992e-05\n",
       "13 1.117404e-03\n",
       "14 5.000000e-01"
      ]
     },
     "metadata": {},
     "output_type": "display_data"
    }
   ],
   "source": [
    "lm1 = lm(main\n",
    "        ~  cvs_table*variable + cvs_graph*variable + cvs_table*pre + cvs_graph*pre + sim_index + sid + lab_experience + similar_sim + prior_number_virtual_labs,\n",
    "         data=mydata)\n",
    "results1 = Anova(lm1, type=2)\n",
    "results_table1 = tidy(results1)\n",
    "results_table1$eta <- results_table1$sumsq/(results_table1$sumsq + results_table1$sumsq[dim(results_table1)[1]])\n",
    "results_table1"
   ]
  },
  {
   "cell_type": "markdown",
   "metadata": {},
   "source": [
    "### Type 3 (without student factors, otherwise it errors)"
   ]
  },
  {
   "cell_type": "markdown",
   "metadata": {},
   "source": [
    "main    ~  cvs_table\\*variable + cvs_graph\\*variable + cvs_table\\*pre + cvs_graph\\*pre + sim_index + sid"
   ]
  },
  {
   "cell_type": "code",
   "execution_count": 39,
   "metadata": {},
   "outputs": [
    {
     "data": {
      "text/html": [
       "<table>\n",
       "<thead><tr><th scope=col>term</th><th scope=col>sumsq</th><th scope=col>df</th><th scope=col>statistic</th><th scope=col>p.value</th><th scope=col>eta</th></tr></thead>\n",
       "<tbody>\n",
       "\t<tr><td>(Intercept)       </td><td>7.805831e+00      </td><td>  1               </td><td>34.747383469      </td><td>7.642655e-09      </td><td>7.541526e-02      </td></tr>\n",
       "\t<tr><td>cvs_table         </td><td>2.646537e-02      </td><td>  1               </td><td> 0.117809663      </td><td>7.315917e-01      </td><td>2.764720e-04      </td></tr>\n",
       "\t<tr><td>variable          </td><td>2.962562e-01      </td><td>  3               </td><td> 0.439591352      </td><td>7.247968e-01      </td><td>3.086160e-03      </td></tr>\n",
       "\t<tr><td>cvs_graph         </td><td>1.019934e+00      </td><td>  1               </td><td> 4.540199846      </td><td>3.367984e-02      </td><td>1.054536e-02      </td></tr>\n",
       "\t<tr><td>pre               </td><td>9.773337e-04      </td><td>  1               </td><td> 0.004350567      </td><td>9.474415e-01      </td><td>1.021249e-05      </td></tr>\n",
       "\t<tr><td>sim_index         </td><td>2.740467e+00      </td><td>  1               </td><td>12.199093390      </td><td>5.281336e-04      </td><td>2.783916e-02      </td></tr>\n",
       "\t<tr><td>sid               </td><td>9.881870e+01      </td><td>146               </td><td> 3.012931588      </td><td>1.176573e-18      </td><td>5.080195e-01      </td></tr>\n",
       "\t<tr><td>cvs_table:variable</td><td>1.212752e+00      </td><td>  3               </td><td> 1.799508506      </td><td>1.465681e-01      </td><td>1.251401e-02      </td></tr>\n",
       "\t<tr><td>variable:cvs_graph</td><td>4.663895e-02      </td><td>  3               </td><td> 0.069203884      </td><td>9.763197e-01      </td><td>4.871139e-04      </td></tr>\n",
       "\t<tr><td>cvs_table:pre     </td><td>1.981195e-03      </td><td>  1               </td><td> 0.008819222      </td><td>9.252242e-01      </td><td>2.070197e-05      </td></tr>\n",
       "\t<tr><td>cvs_graph:pre     </td><td>1.072164e-01      </td><td>  1               </td><td> 0.477269864      </td><td>4.900378e-01      </td><td>1.119098e-03      </td></tr>\n",
       "\t<tr><td>Residuals         </td><td>9.569883e+01      </td><td>426               </td><td>          NA      </td><td>          NA      </td><td>5.000000e-01      </td></tr>\n",
       "</tbody>\n",
       "</table>\n"
      ],
      "text/latex": [
       "\\begin{tabular}{r|llllll}\n",
       " term & sumsq & df & statistic & p.value & eta\\\\\n",
       "\\hline\n",
       "\t (Intercept)        & 7.805831e+00       &   1                & 34.747383469       & 7.642655e-09       & 7.541526e-02      \\\\\n",
       "\t cvs\\_table          & 2.646537e-02         &   1                  &  0.117809663         & 7.315917e-01         & 2.764720e-04        \\\\\n",
       "\t variable           & 2.962562e-01       &   3                &  0.439591352       & 7.247968e-01       & 3.086160e-03      \\\\\n",
       "\t cvs\\_graph          & 1.019934e+00         &   1                  &  4.540199846         & 3.367984e-02         & 1.054536e-02        \\\\\n",
       "\t pre                & 9.773337e-04       &   1                &  0.004350567       & 9.474415e-01       & 1.021249e-05      \\\\\n",
       "\t sim\\_index          & 2.740467e+00         &   1                  & 12.199093390         & 5.281336e-04         & 2.783916e-02        \\\\\n",
       "\t sid                & 9.881870e+01       & 146                &  3.012931588       & 1.176573e-18       & 5.080195e-01      \\\\\n",
       "\t cvs\\_table:variable & 1.212752e+00         &   3                  &  1.799508506         & 1.465681e-01         & 1.251401e-02        \\\\\n",
       "\t variable:cvs\\_graph & 4.663895e-02         &   3                  &  0.069203884         & 9.763197e-01         & 4.871139e-04        \\\\\n",
       "\t cvs\\_table:pre      & 1.981195e-03         &   1                  &  0.008819222         & 9.252242e-01         & 2.070197e-05        \\\\\n",
       "\t cvs\\_graph:pre      & 1.072164e-01         &   1                  &  0.477269864         & 4.900378e-01         & 1.119098e-03        \\\\\n",
       "\t Residuals          & 9.569883e+01       & 426                &           NA       &           NA       & 5.000000e-01      \\\\\n",
       "\\end{tabular}\n"
      ],
      "text/markdown": [
       "\n",
       "term | sumsq | df | statistic | p.value | eta | \n",
       "|---|---|---|---|---|---|---|---|---|---|---|---|\n",
       "| (Intercept)        | 7.805831e+00       |   1                | 34.747383469       | 7.642655e-09       | 7.541526e-02       | \n",
       "| cvs_table          | 2.646537e-02       |   1                |  0.117809663       | 7.315917e-01       | 2.764720e-04       | \n",
       "| variable           | 2.962562e-01       |   3                |  0.439591352       | 7.247968e-01       | 3.086160e-03       | \n",
       "| cvs_graph          | 1.019934e+00       |   1                |  4.540199846       | 3.367984e-02       | 1.054536e-02       | \n",
       "| pre                | 9.773337e-04       |   1                |  0.004350567       | 9.474415e-01       | 1.021249e-05       | \n",
       "| sim_index          | 2.740467e+00       |   1                | 12.199093390       | 5.281336e-04       | 2.783916e-02       | \n",
       "| sid                | 9.881870e+01       | 146                |  3.012931588       | 1.176573e-18       | 5.080195e-01       | \n",
       "| cvs_table:variable | 1.212752e+00       |   3                |  1.799508506       | 1.465681e-01       | 1.251401e-02       | \n",
       "| variable:cvs_graph | 4.663895e-02       |   3                |  0.069203884       | 9.763197e-01       | 4.871139e-04       | \n",
       "| cvs_table:pre      | 1.981195e-03       |   1                |  0.008819222       | 9.252242e-01       | 2.070197e-05       | \n",
       "| cvs_graph:pre      | 1.072164e-01       |   1                |  0.477269864       | 4.900378e-01       | 1.119098e-03       | \n",
       "| Residuals          | 9.569883e+01       | 426                |           NA       |           NA       | 5.000000e-01       | \n",
       "\n",
       "\n"
      ],
      "text/plain": [
       "   term               sumsq        df  statistic    p.value      eta         \n",
       "1  (Intercept)        7.805831e+00   1 34.747383469 7.642655e-09 7.541526e-02\n",
       "2  cvs_table          2.646537e-02   1  0.117809663 7.315917e-01 2.764720e-04\n",
       "3  variable           2.962562e-01   3  0.439591352 7.247968e-01 3.086160e-03\n",
       "4  cvs_graph          1.019934e+00   1  4.540199846 3.367984e-02 1.054536e-02\n",
       "5  pre                9.773337e-04   1  0.004350567 9.474415e-01 1.021249e-05\n",
       "6  sim_index          2.740467e+00   1 12.199093390 5.281336e-04 2.783916e-02\n",
       "7  sid                9.881870e+01 146  3.012931588 1.176573e-18 5.080195e-01\n",
       "8  cvs_table:variable 1.212752e+00   3  1.799508506 1.465681e-01 1.251401e-02\n",
       "9  variable:cvs_graph 4.663895e-02   3  0.069203884 9.763197e-01 4.871139e-04\n",
       "10 cvs_table:pre      1.981195e-03   1  0.008819222 9.252242e-01 2.070197e-05\n",
       "11 cvs_graph:pre      1.072164e-01   1  0.477269864 4.900378e-01 1.119098e-03\n",
       "12 Residuals          9.569883e+01 426           NA           NA 5.000000e-01"
      ]
     },
     "metadata": {},
     "output_type": "display_data"
    }
   ],
   "source": [
    "lm1 = lm(main\n",
    "        ~  cvs_table*variable + cvs_graph*variable + cvs_table*pre + cvs_graph*pre + sim_index + sid,\n",
    "         data=mydata)\n",
    "results1 = Anova(lm1, type=3)\n",
    "results_table1 = tidy(results1)\n",
    "results_table1$eta <- results_table1$sumsq/(results_table1$sumsq + results_table1$sumsq[dim(results_table1)[1]])\n",
    "results_table1"
   ]
  },
  {
   "cell_type": "markdown",
   "metadata": {},
   "source": [
    "# Stat model 2: Predicting transfer data"
   ]
  },
  {
   "cell_type": "markdown",
   "metadata": {},
   "source": [
    "## Excluding student main worksheet score"
   ]
  },
  {
   "cell_type": "code",
   "execution_count": 40,
   "metadata": {},
   "outputs": [
    {
     "data": {
      "text/plain": [
       "Generalized linear mixed model fit by maximum likelihood (Adaptive\n",
       "  Gauss-Hermite Quadrature, nAGQ = 10) [glmerMod]\n",
       " Family: binomial  ( logit )\n",
       "Formula: quant_score ~ cvs_table + cvs_graph + variable + sim_index +  \n",
       "    pre + lab_experience + similar_sim + prior_number_virtual_labs +  \n",
       "    (1 | sid)\n",
       "   Data: mydata\n",
       "Control: glmerControl(optimizer = \"bobyqa\")\n",
       "\n",
       "     AIC      BIC   logLik deviance df.resid \n",
       "   657.7    710.2   -316.8    633.7      576 \n",
       "\n",
       "Scaled residuals: \n",
       "    Min      1Q  Median      3Q     Max \n",
       "-2.6284 -0.4560  0.2814  0.4788  1.3945 \n",
       "\n",
       "Random effects:\n",
       " Groups Name        Variance Std.Dev.\n",
       " sid    (Intercept) 3.577    1.891   \n",
       "Number of obs: 588, groups:  sid, 147\n",
       "\n",
       "Fixed effects:\n",
       "                          Estimate Std. Error z value Pr(>|z|)   \n",
       "(Intercept)                0.58640    0.69050   0.849  0.39575   \n",
       "cvs_table1                -0.24456    0.41942  -0.583  0.55983   \n",
       "cvs_graph1                -0.13990    0.43279  -0.323  0.74651   \n",
       "variableConcentration     -0.09161    0.34393  -0.266  0.78995   \n",
       "variableSeparation        -0.82904    0.32050  -2.587  0.00969 **\n",
       "variableWidth             -0.06161    0.34119  -0.181  0.85670   \n",
       "sim_index2                 0.28528    0.23405   1.219  0.22289   \n",
       "pre                        0.61895    0.23991   2.580  0.00988 **\n",
       "lab_experience1           -0.24285    0.73620  -0.330  0.74150   \n",
       "similar_sim1               0.51135    0.37727   1.355  0.17529   \n",
       "prior_number_virtual_labs  0.45397    0.24095   1.884  0.05955 . \n",
       "---\n",
       "Signif. codes:  0 '***' 0.001 '**' 0.01 '*' 0.05 '.' 0.1 ' ' 1\n",
       "\n",
       "Correlation of Fixed Effects:\n",
       "            (Intr) cvs_t1 cvs_g1 vrblCn vrblSp vrblWd sm_nd2 pre    lb_xp1\n",
       "cvs_table1  -0.140                                                        \n",
       "cvs_graph1   0.089 -0.653                                                 \n",
       "vrblCncntrt -0.259  0.022 -0.067                                          \n",
       "variblSprtn -0.244  0.057 -0.017  0.497                                   \n",
       "variablWdth -0.268  0.030 -0.037  0.541  0.498                            \n",
       "sim_index2  -0.154  0.022 -0.148  0.038 -0.013  0.028                     \n",
       "pre         -0.068 -0.067 -0.046 -0.036 -0.099  0.007  0.031              \n",
       "lab_exprnc1 -0.667 -0.078 -0.044  0.020 -0.004  0.019  0.008  0.028       \n",
       "similar_sm1  0.092 -0.047 -0.004 -0.281 -0.053 -0.279  0.120  0.155 -0.063\n",
       "prr_nmbr_v_ -0.206  0.049 -0.102  0.051 -0.022  0.039  0.009 -0.057 -0.402\n",
       "            smlr_1\n",
       "cvs_table1        \n",
       "cvs_graph1        \n",
       "vrblCncntrt       \n",
       "variblSprtn       \n",
       "variablWdth       \n",
       "sim_index2        \n",
       "pre               \n",
       "lab_exprnc1       \n",
       "similar_sm1       \n",
       "prr_nmbr_v_ -0.123"
      ]
     },
     "metadata": {},
     "output_type": "display_data"
    }
   ],
   "source": [
    "mixed1 <- glmer(\n",
    "    quant_score\n",
    "    ~ cvs_table + cvs_graph + variable + sim_index + pre\n",
    "    + lab_experience + similar_sim + prior_number_virtual_labs + (1 | sid),\n",
    "           data = mydata, family = binomial, \n",
    "           control = glmerControl(optimizer = \"bobyqa\"), nAGQ = 10)\n",
    "summary(mixed1)"
   ]
  },
  {
   "cell_type": "markdown",
   "metadata": {},
   "source": [
    "**(non log) Odds ratio with confidence intervals**"
   ]
  },
  {
   "cell_type": "code",
   "execution_count": 41,
   "metadata": {},
   "outputs": [
    {
     "name": "stdout",
     "output_type": "stream",
     "text": [
      "                            est 2.5 % 97.5 %\n",
      "(Intercept)               1.798 0.464  6.957\n",
      "cvs_table1                0.783 0.344  1.782\n",
      "cvs_graph1                0.869 0.372  2.031\n",
      "variableConcentration     0.912 0.465  1.790\n",
      "variableSeparation        0.436 0.233  0.818\n",
      "variableWidth             0.940 0.482  1.835\n",
      "sim_index2                1.330 0.841  2.104\n",
      "pre                       1.857 1.160  2.972\n",
      "lab_experience1           0.784 0.185  3.320\n",
      "similar_sim1              1.668 0.796  3.493\n",
      "prior_number_virtual_labs 1.575 0.982  2.525\n"
     ]
    }
   ],
   "source": [
    "cc <- confint(mixed1,parm=\"beta_\",method=\"Wald\")\n",
    "ctab <- cbind(est=fixef(mixed1),cc)\n",
    "rtab <- exp(ctab)\n",
    "print(rtab,digits=3)"
   ]
  },
  {
   "cell_type": "markdown",
   "metadata": {},
   "source": [
    "As expected, CVS doesn't predict quant transfer scores, only variable does."
   ]
  },
  {
   "cell_type": "markdown",
   "metadata": {},
   "source": [
    "## Including student main worksheet score\n",
    "as a continuous variable"
   ]
  },
  {
   "cell_type": "markdown",
   "metadata": {},
   "source": [
    "quant_score ~ cvs_table + cvs_graph + variable + sim_index + pre + main + lab_experience + similar_sim + prior_number_virtual_labs + (1 | sid)"
   ]
  },
  {
   "cell_type": "code",
   "execution_count": 42,
   "metadata": {},
   "outputs": [
    {
     "data": {
      "text/plain": [
       "Generalized linear mixed model fit by maximum likelihood (Adaptive\n",
       "  Gauss-Hermite Quadrature, nAGQ = 10) [glmerMod]\n",
       " Family: binomial  ( logit )\n",
       "Formula: quant_score ~ cvs_table + cvs_graph + variable + sim_index +  \n",
       "    pre + main + lab_experience + similar_sim + prior_number_virtual_labs +  \n",
       "    (1 | sid)\n",
       "   Data: mydata\n",
       "Control: glmerControl(optimizer = \"bobyqa\")\n",
       "\n",
       "     AIC      BIC   logLik deviance df.resid \n",
       "   630.7    687.6   -302.4    604.7      575 \n",
       "\n",
       "Scaled residuals: \n",
       "    Min      1Q  Median      3Q     Max \n",
       "-2.4468 -0.3900  0.2522  0.4519  2.1616 \n",
       "\n",
       "Random effects:\n",
       " Groups Name        Variance Std.Dev.\n",
       " sid    (Intercept) 4.013    2.003   \n",
       "Number of obs: 588, groups:  sid, 147\n",
       "\n",
       "Fixed effects:\n",
       "                          Estimate Std. Error z value Pr(>|z|)    \n",
       "(Intercept)                -0.7647     0.7747  -0.987   0.3236    \n",
       "cvs_table1                 -0.2856     0.4449  -0.642   0.5209    \n",
       "cvs_graph1                 -0.6271     0.4745  -1.322   0.1863    \n",
       "variableConcentration      -0.1794     0.3614  -0.496   0.6195    \n",
       "variableSeparation         -0.7287     0.3345  -2.178   0.0294 *  \n",
       "variableWidth              -0.1292     0.3577  -0.361   0.7180    \n",
       "sim_index2                  0.1407     0.2467   0.570   0.5684    \n",
       "pre                         0.5268     0.2571   2.049   0.0405 *  \n",
       "main                        1.3267     0.2729   4.861 1.17e-06 ***\n",
       "lab_experience1            -0.1479     0.7755  -0.191   0.8488    \n",
       "similar_sim1                0.5146     0.3921   1.312   0.1894    \n",
       "prior_number_virtual_labs   0.4305     0.2546   1.691   0.0908 .  \n",
       "---\n",
       "Signif. codes:  0 '***' 0.001 '**' 0.01 '*' 0.05 '.' 0.1 ' ' 1\n",
       "\n",
       "Correlation of Fixed Effects:\n",
       "            (Intr) cvs_t1 cvs_g1 vrblCn vrblSp vrblWd sm_nd2 pre    main  \n",
       "cvs_table1  -0.139                                                        \n",
       "cvs_graph1   0.180 -0.644                                                 \n",
       "vrblCncntrt -0.217  0.034 -0.055                                          \n",
       "variblSprtn -0.227  0.049 -0.019  0.493                                   \n",
       "variablWdth -0.228  0.043 -0.033  0.551  0.494                            \n",
       "sim_index2  -0.114  0.024 -0.116  0.045 -0.009  0.047                     \n",
       "pre         -0.069 -0.046 -0.054 -0.046 -0.105 -0.001  0.022              \n",
       "main        -0.343 -0.015 -0.249 -0.069  0.006 -0.056 -0.082 -0.002       \n",
       "lab_exprnc1 -0.632 -0.067 -0.054  0.018 -0.005  0.015  0.004  0.035  0.018\n",
       "similar_sm1  0.058 -0.060 -0.012 -0.297 -0.044 -0.284  0.129  0.150  0.069\n",
       "prr_nmbr_v_ -0.204  0.060 -0.107  0.052 -0.017  0.037  0.002 -0.056  0.014\n",
       "            lb_xp1 smlr_1\n",
       "cvs_table1               \n",
       "cvs_graph1               \n",
       "vrblCncntrt              \n",
       "variblSprtn              \n",
       "variablWdth              \n",
       "sim_index2               \n",
       "pre                      \n",
       "main                     \n",
       "lab_exprnc1              \n",
       "similar_sm1 -0.058       \n",
       "prr_nmbr_v_ -0.402 -0.129"
      ]
     },
     "metadata": {},
     "output_type": "display_data"
    }
   ],
   "source": [
    "mixed1 <- glmer(\n",
    "    quant_score\n",
    "    ~ cvs_table + cvs_graph + variable + sim_index + pre + main\n",
    "    + lab_experience + similar_sim + prior_number_virtual_labs + (1 | sid),\n",
    "           data = mydata, family = binomial, \n",
    "           control = glmerControl(optimizer = \"bobyqa\"), nAGQ = 10)\n",
    "\n",
    "summary(mixed1)"
   ]
  },
  {
   "cell_type": "markdown",
   "metadata": {},
   "source": [
    "**(non log) Odds ratio with confidence intervals**"
   ]
  },
  {
   "cell_type": "code",
   "execution_count": 43,
   "metadata": {},
   "outputs": [
    {
     "name": "stdout",
     "output_type": "stream",
     "text": [
      "                            est 2.5 % 97.5 %\n",
      "(Intercept)               0.465 0.102   2.12\n",
      "cvs_table1                0.752 0.314   1.80\n",
      "cvs_graph1                0.534 0.211   1.35\n",
      "variableConcentration     0.836 0.412   1.70\n",
      "variableSeparation        0.483 0.251   0.93\n",
      "variableWidth             0.879 0.436   1.77\n",
      "sim_index2                1.151 0.710   1.87\n",
      "pre                       1.693 1.023   2.80\n",
      "main                      3.769 2.207   6.43\n",
      "lab_experience1           0.863 0.189   3.94\n",
      "similar_sim1              1.673 0.776   3.61\n",
      "prior_number_virtual_labs 1.538 0.934   2.53\n"
     ]
    }
   ],
   "source": [
    "cc <- confint(mixed1,parm=\"beta_\",method=\"Wald\")\n",
    "ctab <- cbind(est=fixef(mixed1),cc)\n",
    "rtab <- exp(ctab)\n",
    "print(rtab,digits=3)"
   ]
  },
  {
   "cell_type": "markdown",
   "metadata": {
    "hideCode": true,
    "hidePrompt": true
   },
   "source": [
    "# Stat model 3: Predicting the use of CVS"
   ]
  },
  {
   "cell_type": "markdown",
   "metadata": {},
   "source": [
    "## For cvs_table"
   ]
  },
  {
   "cell_type": "markdown",
   "metadata": {},
   "source": [
    "cvs_table    ~ variable + sim_index + pre + lab_experience + similar_sim + prior_number_virtual_labs + (1 | sid)"
   ]
  },
  {
   "cell_type": "code",
   "execution_count": 44,
   "metadata": {
    "scrolled": false
   },
   "outputs": [
    {
     "data": {
      "text/plain": [
       "Generalized linear mixed model fit by maximum likelihood (Adaptive\n",
       "  Gauss-Hermite Quadrature, nAGQ = 10) [glmerMod]\n",
       " Family: binomial  ( logit )\n",
       "Formula: \n",
       "cvs_table ~ variable + sim_index + pre + lab_experience + similar_sim +  \n",
       "    prior_number_virtual_labs + (1 | sid)\n",
       "   Data: mydata\n",
       "Control: glmerControl(optimizer = \"bobyqa\")\n",
       "\n",
       "     AIC      BIC   logLik deviance df.resid \n",
       "   638.0    681.8   -309.0    618.0      578 \n",
       "\n",
       "Scaled residuals: \n",
       "    Min      1Q  Median      3Q     Max \n",
       "-2.4461 -0.4324  0.2107  0.3639  2.4347 \n",
       "\n",
       "Random effects:\n",
       " Groups Name        Variance Std.Dev.\n",
       " sid    (Intercept) 6.385    2.527   \n",
       "Number of obs: 588, groups:  sid, 147\n",
       "\n",
       "Fixed effects:\n",
       "                          Estimate Std. Error z value Pr(>|z|)   \n",
       "(Intercept)               -2.42649    0.89129  -2.722  0.00648 **\n",
       "variableConcentration      0.53062    0.36336   1.460  0.14420   \n",
       "variableSeparation        -0.25288    0.33892  -0.746  0.45560   \n",
       "variableWidth              0.27573    0.35989   0.766  0.44358   \n",
       "sim_index2                 0.58127    0.24896   2.335  0.01955 * \n",
       "pre                        0.75612    0.25858   2.924  0.00345 **\n",
       "lab_experience1            2.98937    0.98089   3.048  0.00231 **\n",
       "similar_sim1               0.05056    0.38979   0.130  0.89681   \n",
       "prior_number_virtual_labs -0.07607    0.30676  -0.248  0.80414   \n",
       "---\n",
       "Signif. codes:  0 '***' 0.001 '**' 0.01 '*' 0.05 '.' 0.1 ' ' 1\n",
       "\n",
       "Correlation of Fixed Effects:\n",
       "            (Intr) vrblCn vrblSp vrblWd sm_nd2 pre    lb_xp1 smlr_1\n",
       "vrblCncntrt -0.238                                                 \n",
       "variblSprtn -0.177  0.464                                          \n",
       "variablWdth -0.229  0.543  0.469                                   \n",
       "sim_index2  -0.182  0.034 -0.018  0.023                            \n",
       "pre         -0.131 -0.004 -0.038  0.064  0.028                     \n",
       "lab_exprnc1 -0.727  0.053 -0.010  0.038  0.054  0.073              \n",
       "similar_sm1  0.059 -0.291 -0.012 -0.293  0.110  0.105 -0.051       \n",
       "prr_nmbr_v_ -0.184  0.037  0.000  0.028 -0.025 -0.086 -0.427 -0.131"
      ]
     },
     "metadata": {},
     "output_type": "display_data"
    }
   ],
   "source": [
    "# mydata$variable <- relevel(mydata$variable, \"Width\")\n",
    "mixed <- glmer(\n",
    "    cvs_table\n",
    "    ~ variable + sim_index + pre\n",
    "    + lab_experience + similar_sim + prior_number_virtual_labs + (1 | sid),\n",
    "           data = mydata, family = binomial, \n",
    "           control = glmerControl(optimizer = \"bobyqa\"), nAGQ = 10)\n",
    "\n",
    "summary(mixed)"
   ]
  },
  {
   "cell_type": "markdown",
   "metadata": {},
   "source": [
    "**(non log) Odds ratio with confidence intervals**"
   ]
  },
  {
   "cell_type": "code",
   "execution_count": 45,
   "metadata": {},
   "outputs": [
    {
     "name": "stdout",
     "output_type": "stream",
     "text": [
      "                              est  2.5 %  97.5 %\n",
      "(Intercept)                0.0883 0.0154   0.507\n",
      "variableConcentration      1.7000 0.8340   3.465\n",
      "variableSeparation         0.7766 0.3997   1.509\n",
      "variableWidth              1.3175 0.6507   2.667\n",
      "sim_index2                 1.7883 1.0978   2.913\n",
      "pre                        2.1300 1.2831   3.536\n",
      "lab_experience1           19.8732 2.9063 135.895\n",
      "similar_sim1               1.0519 0.4900   2.258\n",
      "prior_number_virtual_labs  0.9267 0.5080   1.691\n"
     ]
    }
   ],
   "source": [
    "cc <- confint(mixed,parm=\"beta_\",method=\"Wald\")\n",
    "ctab <- cbind(est=fixef(mixed),cc)\n",
    "rtab <- exp(ctab)\n",
    "print(rtab,digits=3)"
   ]
  },
  {
   "cell_type": "markdown",
   "metadata": {},
   "source": [
    "## For cvs_graph"
   ]
  },
  {
   "cell_type": "markdown",
   "metadata": {},
   "source": [
    " cvs_graph    ~ variable + sim_index + pre + lab_experience + similar_sim + prior_number_virtual_labs + (1 | sid)"
   ]
  },
  {
   "cell_type": "code",
   "execution_count": 46,
   "metadata": {},
   "outputs": [
    {
     "data": {
      "text/plain": [
       "Generalized linear mixed model fit by maximum likelihood (Adaptive\n",
       "  Gauss-Hermite Quadrature, nAGQ = 10) [glmerMod]\n",
       " Family: binomial  ( logit )\n",
       "Formula: \n",
       "cvs_graph ~ variable + sim_index + pre + lab_experience + similar_sim +  \n",
       "    prior_number_virtual_labs + (1 | sid)\n",
       "   Data: mydata\n",
       "Control: glmerControl(optimizer = \"bobyqa\")\n",
       "\n",
       "     AIC      BIC   logLik deviance df.resid \n",
       "   603.7    647.5   -291.9    583.7      578 \n",
       "\n",
       "Scaled residuals: \n",
       "    Min      1Q  Median      3Q     Max \n",
       "-2.0406 -0.3283 -0.1003  0.3351  2.8259 \n",
       "\n",
       "Random effects:\n",
       " Groups Name        Variance Std.Dev.\n",
       " sid    (Intercept) 10.79    3.284   \n",
       "Number of obs: 588, groups:  sid, 147\n",
       "\n",
       "Fixed effects:\n",
       "                          Estimate Std. Error z value Pr(>|z|)    \n",
       "(Intercept)                -5.6625     1.3361  -4.238 2.25e-05 ***\n",
       "variableConcentration       0.7366     0.4057   1.816  0.06943 .  \n",
       "variableSeparation         -0.1014     0.3731  -0.272  0.78572    \n",
       "variableWidth               0.2744     0.3993   0.687  0.49204    \n",
       "sim_index2                  1.2946     0.2911   4.447 8.72e-06 ***\n",
       "pre                         0.4995     0.2651   1.884  0.05952 .  \n",
       "lab_experience1             3.9664     1.4007   2.832  0.00463 ** \n",
       "similar_sim1               -0.1497     0.4380  -0.342  0.73248    \n",
       "prior_number_virtual_labs   0.3226     0.3877   0.832  0.40531    \n",
       "---\n",
       "Signif. codes:  0 '***' 0.001 '**' 0.01 '*' 0.05 '.' 0.1 ' ' 1\n",
       "\n",
       "Correlation of Fixed Effects:\n",
       "            (Intr) vrblCn vrblSp vrblWd sm_nd2 pre    lb_xp1 smlr_1\n",
       "vrblCncntrt -0.235                                                 \n",
       "variblSprtn -0.132  0.466                                          \n",
       "variablWdth -0.201  0.573  0.471                                   \n",
       "sim_index2  -0.263  0.149 -0.009  0.112                            \n",
       "pre         -0.092 -0.088 -0.049 -0.006  0.051                     \n",
       "lab_exprnc1 -0.797  0.074 -0.002  0.046  0.113  0.045              \n",
       "similar_sm1  0.070 -0.306 -0.012 -0.295  0.041  0.132 -0.051       \n",
       "prr_nmbr_v_ -0.162  0.042 -0.001  0.028  0.014 -0.074 -0.375 -0.139"
      ]
     },
     "metadata": {},
     "output_type": "display_data"
    }
   ],
   "source": [
    "mixed <- glmer(\n",
    "    cvs_graph\n",
    "    ~ variable + sim_index + pre\n",
    "    + lab_experience + similar_sim + prior_number_virtual_labs + (1 | sid),\n",
    "           data = mydata, family = binomial, \n",
    "           control = glmerControl(optimizer = \"bobyqa\"), nAGQ = 10)\n",
    "\n",
    "summary(mixed)"
   ]
  },
  {
   "cell_type": "markdown",
   "metadata": {},
   "source": [
    "**(non log) Odds ratio with confidence intervals**"
   ]
  },
  {
   "cell_type": "code",
   "execution_count": 47,
   "metadata": {},
   "outputs": [
    {
     "name": "stdout",
     "output_type": "stream",
     "text": [
      "                            est 2.5 % 97.5 %\n",
      "(Intercept)               0.465 0.102   2.12\n",
      "cvs_table1                0.752 0.314   1.80\n",
      "cvs_graph1                0.534 0.211   1.35\n",
      "variableConcentration     0.836 0.412   1.70\n",
      "variableSeparation        0.483 0.251   0.93\n",
      "variableWidth             0.879 0.436   1.77\n",
      "sim_index2                1.151 0.710   1.87\n",
      "pre                       1.693 1.023   2.80\n",
      "main                      3.769 2.207   6.43\n",
      "lab_experience1           0.863 0.189   3.94\n",
      "similar_sim1              1.673 0.776   3.61\n",
      "prior_number_virtual_labs 1.538 0.934   2.53\n"
     ]
    }
   ],
   "source": [
    "cc <- confint(mixed1,parm=\"beta_\",method=\"Wald\")\n",
    "ctab <- cbind(est=fixef(mixed1),cc)\n",
    "rtab <- exp(ctab)\n",
    "print(rtab,digits=3)"
   ]
  },
  {
   "cell_type": "markdown",
   "metadata": {},
   "source": [
    "# OTHER VERSION OF ANALYSES - keep for historical purposes\n",
    "Even though we decided not to include them or do analyses this way, we keep the code to run them here just in case.\n",
    "\n",
    "First we reload the data, in case some factors have changed from continuous to categorical variables"
   ]
  },
  {
   "cell_type": "code",
   "execution_count": 48,
   "metadata": {},
   "outputs": [],
   "source": [
    "mydata <- read.csv(\"C:\\\\Users\\\\Sarah\\\\Documents\\\\Personal Content\\\\Lab_study_data\\\\all_massaged_data\\\\dataframe_all_factors_for_analysis.txt\",sep = '\\t')\n",
    "# sid is the student number\n",
    "mydata$sid <- factor(mydata$sid)\n",
    "mydata$sim_index <- factor(mydata$sim_index)\n",
    "mydata$lab_experience <- factor(mydata$lab_experience)\n",
    "mydata$similar_sim <- factor(mydata$similar_sim)\n",
    "mydata$cvs_graph <- factor(mydata$cvs_graph)\n",
    "mydata$cvs_table <- factor(mydata$cvs_table)\n",
    "# mydata$main <- factor(mydata$main)\n",
    "# mydata$pre <- factor(mydata$pre)"
   ]
  },
  {
   "cell_type": "markdown",
   "metadata": {
    "hideCode": true,
    "hidePrompt": true
   },
   "source": [
    "## Stat model 1: Predicting main model scores as a categorical variable"
   ]
  },
  {
   "cell_type": "markdown",
   "metadata": {},
   "source": [
    "First we transform the data in an extra wide format for the mlogit function.\n",
    "Now every student has a row for each variable times type of model (0,1,2).\n",
    "The \"alt\" is the model type (0,1,2) and \"main\" is True if that was the model type they got correct (and the others are always False for that variable)."
   ]
  },
  {
   "cell_type": "code",
   "execution_count": 49,
   "metadata": {},
   "outputs": [],
   "source": [
    "mydata$main <- factor(mydata$main)\n",
    "mydata$pre <- factor(mydata$pre)"
   ]
  },
  {
   "cell_type": "code",
   "execution_count": 50,
   "metadata": {},
   "outputs": [
    {
     "data": {
      "text/html": [
       "<table>\n",
       "<thead><tr><th></th><th scope=col>sid</th><th scope=col>sim</th><th scope=col>variable</th><th scope=col>pre</th><th scope=col>main</th><th scope=col>cvs_graph</th><th scope=col>cvs_table</th><th scope=col>qual_score</th><th scope=col>quant_score</th><th scope=col>activity_order</th><th scope=col>...</th><th scope=col>CVS_context</th><th scope=col>use_table</th><th scope=col>use_graph</th><th scope=col>use_concentration</th><th scope=col>use_width</th><th scope=col>use_area</th><th scope=col>use_separation</th><th scope=col>use_all_vars</th><th scope=col>chid</th><th scope=col>alt</th></tr></thead>\n",
       "<tbody>\n",
       "\t<tr><th scope=row>1.0</th><td>10127163     </td><td>L            </td><td>Concentration</td><td>0            </td><td>FALSE        </td><td>1            </td><td>1            </td><td>1            </td><td>1            </td><td>LC           </td><td>...          </td><td>2            </td><td>1            </td><td>1            </td><td>1            </td><td>1            </td><td>1            </td><td>1            </td><td>4            </td><td>1            </td><td>0            </td></tr>\n",
       "\t<tr><th scope=row>1.1</th><td>10127163     </td><td>L            </td><td>Concentration</td><td>0            </td><td>FALSE        </td><td>1            </td><td>1            </td><td>1            </td><td>1            </td><td>LC           </td><td>...          </td><td>2            </td><td>1            </td><td>1            </td><td>1            </td><td>1            </td><td>1            </td><td>1            </td><td>4            </td><td>1            </td><td>1            </td></tr>\n",
       "\t<tr><th scope=row>1.2</th><td>10127163     </td><td>L            </td><td>Concentration</td><td>0            </td><td> TRUE        </td><td>1            </td><td>1            </td><td>1            </td><td>1            </td><td>LC           </td><td>...          </td><td>2            </td><td>1            </td><td>1            </td><td>1            </td><td>1            </td><td>1            </td><td>1            </td><td>4            </td><td>1            </td><td>2            </td></tr>\n",
       "\t<tr><th scope=row>2.0</th><td>10127163     </td><td>L            </td><td>Width        </td><td>0            </td><td>FALSE        </td><td>1            </td><td>1            </td><td>1            </td><td>1            </td><td>LC           </td><td>...          </td><td>2            </td><td>1            </td><td>1            </td><td>1            </td><td>1            </td><td>1            </td><td>1            </td><td>4            </td><td>2            </td><td>0            </td></tr>\n",
       "\t<tr><th scope=row>2.1</th><td>10127163     </td><td>L            </td><td>Width        </td><td>0            </td><td>FALSE        </td><td>1            </td><td>1            </td><td>1            </td><td>1            </td><td>LC           </td><td>...          </td><td>2            </td><td>1            </td><td>1            </td><td>1            </td><td>1            </td><td>1            </td><td>1            </td><td>4            </td><td>2            </td><td>1            </td></tr>\n",
       "</tbody>\n",
       "</table>\n"
      ],
      "text/latex": [
       "\\begin{tabular}{r|lllllllllllllllllllllllllllll}\n",
       "  & sid & sim & variable & pre & main & cvs\\_graph & cvs\\_table & qual\\_score & quant\\_score & activity\\_order & ... & CVS\\_context & use\\_table & use\\_graph & use\\_concentration & use\\_width & use\\_area & use\\_separation & use\\_all\\_vars & chid & alt\\\\\n",
       "\\hline\n",
       "\t1.0 & 10127163      & L             & Concentration & 0             & FALSE         & 1             & 1             & 1             & 1             & LC            & ...           & 2             & 1             & 1             & 1             & 1             & 1             & 1             & 4             & 1             & 0            \\\\\n",
       "\t1.1 & 10127163      & L             & Concentration & 0             & FALSE         & 1             & 1             & 1             & 1             & LC            & ...           & 2             & 1             & 1             & 1             & 1             & 1             & 1             & 4             & 1             & 1            \\\\\n",
       "\t1.2 & 10127163      & L             & Concentration & 0             &  TRUE         & 1             & 1             & 1             & 1             & LC            & ...           & 2             & 1             & 1             & 1             & 1             & 1             & 1             & 4             & 1             & 2            \\\\\n",
       "\t2.0 & 10127163      & L             & Width         & 0             & FALSE         & 1             & 1             & 1             & 1             & LC            & ...           & 2             & 1             & 1             & 1             & 1             & 1             & 1             & 4             & 2             & 0            \\\\\n",
       "\t2.1 & 10127163      & L             & Width         & 0             & FALSE         & 1             & 1             & 1             & 1             & LC            & ...           & 2             & 1             & 1             & 1             & 1             & 1             & 1             & 4             & 2             & 1            \\\\\n",
       "\\end{tabular}\n"
      ],
      "text/markdown": [
       "\n",
       "| <!--/--> | sid | sim | variable | pre | main | cvs_graph | cvs_table | qual_score | quant_score | activity_order | ... | CVS_context | use_table | use_graph | use_concentration | use_width | use_area | use_separation | use_all_vars | chid | alt | \n",
       "|---|---|---|---|---|\n",
       "| 1.0 | 10127163      | L             | Concentration | 0             | FALSE         | 1             | 1             | 1             | 1             | LC            | ...           | 2             | 1             | 1             | 1             | 1             | 1             | 1             | 4             | 1             | 0             | \n",
       "| 1.1 | 10127163      | L             | Concentration | 0             | FALSE         | 1             | 1             | 1             | 1             | LC            | ...           | 2             | 1             | 1             | 1             | 1             | 1             | 1             | 4             | 1             | 1             | \n",
       "| 1.2 | 10127163      | L             | Concentration | 0             |  TRUE         | 1             | 1             | 1             | 1             | LC            | ...           | 2             | 1             | 1             | 1             | 1             | 1             | 1             | 4             | 1             | 2             | \n",
       "| 2.0 | 10127163      | L             | Width         | 0             | FALSE         | 1             | 1             | 1             | 1             | LC            | ...           | 2             | 1             | 1             | 1             | 1             | 1             | 1             | 4             | 2             | 0             | \n",
       "| 2.1 | 10127163      | L             | Width         | 0             | FALSE         | 1             | 1             | 1             | 1             | LC            | ...           | 2             | 1             | 1             | 1             | 1             | 1             | 1             | 4             | 2             | 1             | \n",
       "\n",
       "\n"
      ],
      "text/plain": [
       "    sid      sim variable      pre main  cvs_graph cvs_table qual_score\n",
       "1.0 10127163 L   Concentration 0   FALSE 1         1         1         \n",
       "1.1 10127163 L   Concentration 0   FALSE 1         1         1         \n",
       "1.2 10127163 L   Concentration 0    TRUE 1         1         1         \n",
       "2.0 10127163 L   Width         0   FALSE 1         1         1         \n",
       "2.1 10127163 L   Width         0   FALSE 1         1         1         \n",
       "    quant_score activity_order ... CVS_context use_table use_graph\n",
       "1.0 1           LC             ... 2           1         1        \n",
       "1.1 1           LC             ... 2           1         1        \n",
       "1.2 1           LC             ... 2           1         1        \n",
       "2.0 1           LC             ... 2           1         1        \n",
       "2.1 1           LC             ... 2           1         1        \n",
       "    use_concentration use_width use_area use_separation use_all_vars chid alt\n",
       "1.0 1                 1         1        1              4            1    0  \n",
       "1.1 1                 1         1        1              4            1    1  \n",
       "1.2 1                 1         1        1              4            1    2  \n",
       "2.0 1                 1         1        1              4            2    0  \n",
       "2.1 1                 1         1        1              4            2    1  "
      ]
     },
     "metadata": {},
     "output_type": "display_data"
    }
   ],
   "source": [
    "wide_mydata <- mlogit.data(mydata, shape = 'wide', choice = \"main\", id.var = \"sid\")\n",
    "head(wide_mydata, 5)"
   ]
  },
  {
   "cell_type": "markdown",
   "metadata": {},
   "source": [
    "Then we run the mlogit model.\n",
    "\n",
    "See the following: https://cran.r-project.org/web/packages/mlogit/vignettes/mlogit.pdf\n",
    "\n",
    "Specifically, mixed in this document DOESN't mean with repeated measures. The \"1 | \" in the formula below tells it that some of the variables are individual specific.\n",
    "The examples using the \"Train\" dataset is what I followed. See pages 3-7 for how to structure data and 22,23 for example of running mlogit."
   ]
  },
  {
   "cell_type": "code",
   "execution_count": 51,
   "metadata": {},
   "outputs": [
    {
     "data": {
      "text/plain": [
       "\n",
       "Call:\n",
       "mlogit(formula = main ~ 1 | cvs_table + cvs_graph + variable + \n",
       "    sim_index + pre + lab_experience + similar_sim + prior_number_virtual_labs, \n",
       "    data = wide_mydata, method = \"nr\", print.level = 0)\n",
       "\n",
       "Frequencies of alternatives:\n",
       "       0        1        2 \n",
       "0.095238 0.486395 0.418367 \n",
       "\n",
       "nr method\n",
       "6 iterations, 0h:0m:0s \n",
       "g'(-H)^-1g = 8.22E-06 \n",
       "successive function values within tolerance limits \n",
       "\n",
       "Coefficients :\n",
       "                              Estimate Std. Error z-value Pr(>|z|)   \n",
       "1:(intercept)                1.6611897  0.5679551  2.9249 0.003446 **\n",
       "2:(intercept)                0.1104790  0.6206179  0.1780 0.858712   \n",
       "1:cvs_table1                -0.1951430  0.4023796 -0.4850 0.627696   \n",
       "2:cvs_table1                 0.4026985  0.4434384  0.9081 0.363811   \n",
       "1:cvs_graph1                 0.0098364  0.4395978  0.0224 0.982148   \n",
       "2:cvs_graph1                 1.2499559  0.4550555  2.7468 0.006018 **\n",
       "1:variableConcentration     -0.1756190  0.4629949 -0.3793 0.704457   \n",
       "2:variableConcentration      0.1479874  0.4817398  0.3072 0.758696   \n",
       "1:variableSeparation        -0.3739063  0.4284758 -0.8726 0.382858   \n",
       "2:variableSeparation        -0.6898166  0.4586480 -1.5040 0.132576   \n",
       "1:variableWidth             -0.3512308  0.4468748 -0.7860 0.431884   \n",
       "2:variableWidth              0.0914835  0.4677626  0.1956 0.844941   \n",
       "1:sim_index2                 0.0655811  0.3031912  0.2163 0.828752   \n",
       "2:sim_index2                 0.6257718  0.3178294  1.9689 0.048965 * \n",
       "1:pre1                       0.8955215  0.4340469  2.0632 0.039095 * \n",
       "2:pre1                       1.0848206  0.4459342  2.4327 0.014987 * \n",
       "1:pre2                      -0.7015255  0.8664110 -0.8097 0.418118   \n",
       "2:pre2                       1.6107358  0.7837737  2.0551 0.039869 * \n",
       "1:lab_experience1           -0.2279998  0.5367750 -0.4248 0.671013   \n",
       "2:lab_experience1           -0.4390191  0.5857660 -0.7495 0.453569   \n",
       "1:similar_sim1              -0.6356599  0.3689187 -1.7230 0.084882 . \n",
       "2:similar_sim1              -0.4912628  0.3870554 -1.2692 0.204359   \n",
       "1:prior_number_virtual_labs  0.2831656  0.1828031  1.5490 0.121377   \n",
       "2:prior_number_virtual_labs  0.2707507  0.1903304  1.4225 0.154873   \n",
       "---\n",
       "Signif. codes:  0 '***' 0.001 '**' 0.01 '*' 0.05 '.' 0.1 ' ' 1\n",
       "\n",
       "Log-Likelihood: -475.37\n",
       "McFadden R^2:  0.13909 \n",
       "Likelihood ratio test : chisq = 153.6 (p.value = < 2.22e-16)"
      ]
     },
     "metadata": {},
     "output_type": "display_data"
    }
   ],
   "source": [
    "ml.mydata <- mlogit(main\n",
    "    ~ 1 | cvs_table + cvs_graph + variable + sim_index + pre\n",
    "    + lab_experience + similar_sim + prior_number_virtual_labs, wide_mydata)\n",
    "summary(ml.mydata)"
   ]
  }
 ],
 "metadata": {
  "anaconda-cloud": {},
  "kernelspec": {
   "display_name": "R",
   "language": "R",
   "name": "ir"
  },
  "language_info": {
   "codemirror_mode": "r",
   "file_extension": ".r",
   "mimetype": "text/x-r-source",
   "name": "R",
   "pygments_lexer": "r",
   "version": "3.4.3"
  },
  "toc": {
   "nav_menu": {},
   "number_sections": true,
   "sideBar": true,
   "skip_h1_title": false,
   "toc_cell": false,
   "toc_position": {},
   "toc_section_display": "block",
   "toc_window_display": false
  }
 },
 "nbformat": 4,
 "nbformat_minor": 1
}
