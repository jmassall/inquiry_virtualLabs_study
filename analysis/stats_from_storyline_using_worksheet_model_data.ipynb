{
 "cells": [
  {
   "cell_type": "markdown",
   "metadata": {},
   "source": [
    "Load libraries"
   ]
  },
  {
   "cell_type": "code",
   "execution_count": 8,
   "metadata": {},
   "outputs": [],
   "source": [
    "require(ggplot2)\n",
    "#require(GGally)\n",
    "require(reshape2)\n",
    "require(lme4)\n",
    "require(compiler)\n",
    "require(parallel)\n",
    "require(boot)\n",
    "# require(aod)\n",
    "require(dplyr)"
   ]
  },
  {
   "cell_type": "markdown",
   "metadata": {},
   "source": [
    "# Load data and set factors"
   ]
  },
  {
   "cell_type": "code",
   "execution_count": 9,
   "metadata": {},
   "outputs": [],
   "source": [
    "mydata <- read.csv(\"C:\\\\Users\\\\Sarah\\\\Documents\\\\Personal Content\\\\Lab_study_data\\\\all_massaged_data\\\\dataframe_all_factors_for_analysis.txt\",sep = '\\t')\n",
    "# # SID is the student number\n",
    "mydata$sid <- factor(mydata$sid)\n",
    "mydata$sim_index <- factor(mydata$sim_index)\n",
    "mydata$lab_experience <- factor(mydata$lab_experience)\n",
    "mydata$similar_sim <- factor(mydata$similar_sim)\n",
    "mydata$pre_statement <- factor(mydata$pre_statement)\n",
    "mydata$pre_correct <- factor(mydata$pre_correct)\n",
    "mydata$similar_sim <- factor(mydata$similar_sim)\n",
    "mydata$CVS_context <- factor(mydata$CVS_context)"
   ]
  },
  {
   "cell_type": "code",
   "execution_count": 10,
   "metadata": {},
   "outputs": [
    {
     "data": {
      "text/html": [
       "<table>\n",
       "<thead><tr><th scope=col>sid</th><th scope=col>sim</th><th scope=col>variable</th><th scope=col>model</th><th scope=col>pre_statement</th><th scope=col>pre_correct</th><th scope=col>main_statement</th><th scope=col>main_correct</th><th scope=col>CVS_context</th><th scope=col>qual_score</th><th scope=col>...</th><th scope=col>use_area</th><th scope=col>use_separation</th><th scope=col>activity_order</th><th scope=col>sim_index</th><th scope=col>similar_sim</th><th scope=col>lab_experience</th><th scope=col>prior_number_virtual_labs</th><th scope=col>overall.POCC</th><th scope=col>PC1</th><th scope=col>PC2</th></tr></thead>\n",
       "<tbody>\n",
       "\t<tr><td>10127163  </td><td>C         </td><td>Area      </td><td>ident     </td><td>0         </td><td>NA        </td><td>0         </td><td>NA        </td><td>2         </td><td>1         </td><td>...       </td><td>1         </td><td>1         </td><td>LC        </td><td>2         </td><td>0         </td><td>1         </td><td>1         </td><td>17        </td><td>-0.5087537</td><td>0.1523806 </td></tr>\n",
       "\t<tr><td>10127163  </td><td>C         </td><td>Area      </td><td>qual      </td><td>1         </td><td>1         </td><td>1         </td><td> 1        </td><td>2         </td><td>1         </td><td>...       </td><td>1         </td><td>1         </td><td>LC        </td><td>2         </td><td>0         </td><td>1         </td><td>1         </td><td>17        </td><td>-0.5087537</td><td>0.1523806 </td></tr>\n",
       "\t<tr><td>10127163  </td><td>C         </td><td>Area      </td><td>quant     </td><td>1         </td><td>1         </td><td>1         </td><td> 1        </td><td>2         </td><td>1         </td><td>...       </td><td>1         </td><td>1         </td><td>LC        </td><td>2         </td><td>0         </td><td>1         </td><td>1         </td><td>17        </td><td>-0.5087537</td><td>0.1523806 </td></tr>\n",
       "\t<tr><td>10127163  </td><td>C         </td><td>Separation</td><td>ident     </td><td>0         </td><td>NA        </td><td>0         </td><td>NA        </td><td>2         </td><td>1         </td><td>...       </td><td>1         </td><td>1         </td><td>LC        </td><td>2         </td><td>0         </td><td>1         </td><td>1         </td><td>17        </td><td>-0.5087537</td><td>0.1523806 </td></tr>\n",
       "\t<tr><td>10127163  </td><td>C         </td><td>Separation</td><td>qual      </td><td>1         </td><td>1         </td><td>1         </td><td> 1        </td><td>2         </td><td>1         </td><td>...       </td><td>1         </td><td>1         </td><td>LC        </td><td>2         </td><td>0         </td><td>1         </td><td>1         </td><td>17        </td><td>-0.5087537</td><td>0.1523806 </td></tr>\n",
       "\t<tr><td>10127163  </td><td>C         </td><td>Separation</td><td>quant     </td><td>1         </td><td>1         </td><td>1         </td><td> 1        </td><td>2         </td><td>1         </td><td>...       </td><td>1         </td><td>1         </td><td>LC        </td><td>2         </td><td>0         </td><td>1         </td><td>1         </td><td>17        </td><td>-0.5087537</td><td>0.1523806 </td></tr>\n",
       "</tbody>\n",
       "</table>\n"
      ],
      "text/latex": [
       "\\begin{tabular}{r|lllllllllllllllllllllllll}\n",
       " sid & sim & variable & model & pre\\_statement & pre\\_correct & main\\_statement & main\\_correct & CVS\\_context & qual\\_score & ... & use\\_area & use\\_separation & activity\\_order & sim\\_index & similar\\_sim & lab\\_experience & prior\\_number\\_virtual\\_labs & overall.POCC & PC1 & PC2\\\\\n",
       "\\hline\n",
       "\t 10127163   & C          & Area       & ident      & 0          & NA         & 0          & NA         & 2          & 1          & ...        & 1          & 1          & LC         & 2          & 0          & 1          & 1          & 17         & -0.5087537 & 0.1523806 \\\\\n",
       "\t 10127163   & C          & Area       & qual       & 1          & 1          & 1          &  1         & 2          & 1          & ...        & 1          & 1          & LC         & 2          & 0          & 1          & 1          & 17         & -0.5087537 & 0.1523806 \\\\\n",
       "\t 10127163   & C          & Area       & quant      & 1          & 1          & 1          &  1         & 2          & 1          & ...        & 1          & 1          & LC         & 2          & 0          & 1          & 1          & 17         & -0.5087537 & 0.1523806 \\\\\n",
       "\t 10127163   & C          & Separation & ident      & 0          & NA         & 0          & NA         & 2          & 1          & ...        & 1          & 1          & LC         & 2          & 0          & 1          & 1          & 17         & -0.5087537 & 0.1523806 \\\\\n",
       "\t 10127163   & C          & Separation & qual       & 1          & 1          & 1          &  1         & 2          & 1          & ...        & 1          & 1          & LC         & 2          & 0          & 1          & 1          & 17         & -0.5087537 & 0.1523806 \\\\\n",
       "\t 10127163   & C          & Separation & quant      & 1          & 1          & 1          &  1         & 2          & 1          & ...        & 1          & 1          & LC         & 2          & 0          & 1          & 1          & 17         & -0.5087537 & 0.1523806 \\\\\n",
       "\\end{tabular}\n"
      ],
      "text/markdown": [
       "\n",
       "sid | sim | variable | model | pre_statement | pre_correct | main_statement | main_correct | CVS_context | qual_score | ... | use_area | use_separation | activity_order | sim_index | similar_sim | lab_experience | prior_number_virtual_labs | overall.POCC | PC1 | PC2 | \n",
       "|---|---|---|---|---|---|\n",
       "| 10127163   | C          | Area       | ident      | 0          | NA         | 0          | NA         | 2          | 1          | ...        | 1          | 1          | LC         | 2          | 0          | 1          | 1          | 17         | -0.5087537 | 0.1523806  | \n",
       "| 10127163   | C          | Area       | qual       | 1          | 1          | 1          |  1         | 2          | 1          | ...        | 1          | 1          | LC         | 2          | 0          | 1          | 1          | 17         | -0.5087537 | 0.1523806  | \n",
       "| 10127163   | C          | Area       | quant      | 1          | 1          | 1          |  1         | 2          | 1          | ...        | 1          | 1          | LC         | 2          | 0          | 1          | 1          | 17         | -0.5087537 | 0.1523806  | \n",
       "| 10127163   | C          | Separation | ident      | 0          | NA         | 0          | NA         | 2          | 1          | ...        | 1          | 1          | LC         | 2          | 0          | 1          | 1          | 17         | -0.5087537 | 0.1523806  | \n",
       "| 10127163   | C          | Separation | qual       | 1          | 1          | 1          |  1         | 2          | 1          | ...        | 1          | 1          | LC         | 2          | 0          | 1          | 1          | 17         | -0.5087537 | 0.1523806  | \n",
       "| 10127163   | C          | Separation | quant      | 1          | 1          | 1          |  1         | 2          | 1          | ...        | 1          | 1          | LC         | 2          | 0          | 1          | 1          | 17         | -0.5087537 | 0.1523806  | \n",
       "\n",
       "\n"
      ],
      "text/plain": [
       "  sid      sim variable   model pre_statement pre_correct main_statement\n",
       "1 10127163 C   Area       ident 0             NA          0             \n",
       "2 10127163 C   Area       qual  1             1           1             \n",
       "3 10127163 C   Area       quant 1             1           1             \n",
       "4 10127163 C   Separation ident 0             NA          0             \n",
       "5 10127163 C   Separation qual  1             1           1             \n",
       "6 10127163 C   Separation quant 1             1           1             \n",
       "  main_correct CVS_context qual_score ... use_area use_separation\n",
       "1 NA           2           1          ... 1        1             \n",
       "2  1           2           1          ... 1        1             \n",
       "3  1           2           1          ... 1        1             \n",
       "4 NA           2           1          ... 1        1             \n",
       "5  1           2           1          ... 1        1             \n",
       "6  1           2           1          ... 1        1             \n",
       "  activity_order sim_index similar_sim lab_experience prior_number_virtual_labs\n",
       "1 LC             2         0           1              1                        \n",
       "2 LC             2         0           1              1                        \n",
       "3 LC             2         0           1              1                        \n",
       "4 LC             2         0           1              1                        \n",
       "5 LC             2         0           1              1                        \n",
       "6 LC             2         0           1              1                        \n",
       "  overall.POCC PC1        PC2      \n",
       "1 17           -0.5087537 0.1523806\n",
       "2 17           -0.5087537 0.1523806\n",
       "3 17           -0.5087537 0.1523806\n",
       "4 17           -0.5087537 0.1523806\n",
       "5 17           -0.5087537 0.1523806\n",
       "6 17           -0.5087537 0.1523806"
      ]
     },
     "metadata": {},
     "output_type": "display_data"
    }
   ],
   "source": [
    "head(mydata)"
   ]
  },
  {
   "cell_type": "markdown",
   "metadata": {},
   "source": [
    "## Model\n",
    "By type of worksheet model:\n",
    "\n",
    "main_correct ~  CVS_context + variable + pre_statement + pre_correct + sim_index + lab_experience + similar_sim + prior_number_virtual_labs\n",
    "\n",
    "with sid as the student id (8 digit number)\n",
    "\n",
    "All the variables are binary or categorical except for \"CVS_context\" and \"prior_number_virtual_labs\"\n",
    "\n",
    "https://rstudio-pubs-static.s3.amazonaws.com/33653_57fc7b8e5d484c909b615d8633c01d51.html"
   ]
  },
  {
   "cell_type": "markdown",
   "metadata": {},
   "source": [
    "Mixed effects with sid as random effects"
   ]
  },
  {
   "cell_type": "markdown",
   "metadata": {},
   "source": [
    "## All model types together"
   ]
  },
  {
   "cell_type": "code",
   "execution_count": 22,
   "metadata": {},
   "outputs": [
    {
     "ename": "ERROR",
     "evalue": "Error in eval(predvars, data, env): object 'CVS_table' not found\n",
     "output_type": "error",
     "traceback": [
      "Error in eval(predvars, data, env): object 'CVS_table' not found\nTraceback:\n",
      "1. glmer(main_correct ~ (CVS_table + CVS_graph) * model * variable + \n .     sim_index + pre_correct * model * variable + lab_experience + \n .     similar_sim + prior_number_virtual_labs + (1 | sid), data = mydata, \n .     family = binomial, control = glmerControl(optimizer = \"bobyqa\", \n .         optCtrl = list(maxfun = 200)), nAGQ = 10)",
      "2. eval(mc, parent.frame(1L))",
      "3. eval(mc, parent.frame(1L))",
      "4. lme4::glFormula(formula = main_correct ~ (CVS_table + CVS_graph) * \n .     model * variable + sim_index + pre_correct * model * variable + \n .     lab_experience + similar_sim + prior_number_virtual_labs + \n .     (1 | sid), data = mydata, family = binomial, control = glmerControl(optimizer = \"bobyqa\", \n .     optCtrl = list(maxfun = 200)), nAGQ = 10)",
      "5. eval(mf, parent.frame())",
      "6. eval(mf, parent.frame())",
      "7. stats::model.frame(data = mydata, drop.unused.levels = TRUE, \n .     formula = main_correct ~ (CVS_table + CVS_graph) * model * \n .         variable + sim_index + pre_correct * model * variable + \n .         lab_experience + similar_sim + prior_number_virtual_labs + \n .         (1 + sid))",
      "8. model.frame.default(data = mydata, drop.unused.levels = TRUE, \n .     formula = main_correct ~ (CVS_table + CVS_graph) * model * \n .         variable + sim_index + pre_correct * model * variable + \n .         lab_experience + similar_sim + prior_number_virtual_labs + \n .         (1 + sid))",
      "9. eval(predvars, data, env)",
      "10. eval(predvars, data, env)"
     ]
    }
   ],
   "source": [
    "all_data = mydata\n",
    "all_data$main_correct[is.na(all_data$main_correct)] <- 0 #replace NA with zero for main correct\n",
    "all_data$pre_correct[is.na(all_data$pre_correct)] <- 0 #replace NA with zero for main correct\n",
    "all_data$pre_correct[is.na(all_data$pre_correct)] <- 0 #replace NA with zero for main correct\n",
    "\n",
    "all_data$CVS_graph = all_data$CVS_context\n",
    "all_data$CVS_graph[all_data$CVS_graph==1] <- 0\n",
    "all_data$CVS_graph[all_data$CVS_graph==2] <- 1\n",
    "all_data$CVS_table = all_data$CVS_context\n",
    "all_data$CVS_table[all_data$CVS_table==2] <- 0\n",
    "mixed <- glmer(\n",
    "    main_correct\n",
    "    ~  (CVS_table+CVS_graph)*model*variable + sim_index + pre_correct*model*variable\n",
    "    + lab_experience + similar_sim + prior_number_virtual_labs + (1 | sid),\n",
    "           data = mydata, family = binomial, \n",
    "           control = glmerControl(optimizer=\"bobyqa\",optCtrl=list(maxfun=200)), nAGQ = 10)\n",
    "\n",
    "summary(mixed)"
   ]
  },
  {
   "cell_type": "markdown",
   "metadata": {},
   "source": [
    "## Qual and quant separate"
   ]
  },
  {
   "cell_type": "code",
   "execution_count": 12,
   "metadata": {},
   "outputs": [],
   "source": [
    "quant_data = mydata[mydata$model == \"quant\", ]\n",
    "quant_data = quant_data[complete.cases(quant_data[ , c(\"main_correct\")]), ] #remove data with no main statement for quant model\n",
    "qual_data = mydata[mydata$model == \"qual\", ]\n",
    "qual_data = qual_data[complete.cases(qual_data[ , c(\"main_correct\")]), ] #remove data with no main statement for qual model\n",
    "ident_data = mydata[mydata$model == \"ident\", ]\n",
    "ident_data = ident_data[complete.cases(ident_data[ , c(\"main_correct\")]), ] #remove data with no main statement for ident model"
   ]
  },
  {
   "cell_type": "code",
   "execution_count": 13,
   "metadata": {},
   "outputs": [
    {
     "name": "stderr",
     "output_type": "stream",
     "text": [
      "Warning message in commonArgs(par, fn, control, environment()):\n",
      "\"maxfun < 10 * length(par)^2 is not recommended.\"Warning message in optwrap(optimizer, devfun, start, rho$lower, control = control, :\n",
      "\"convergence code 1 from bobyqa: bobyqa -- maximum number of function evaluations exceeded\"Warning message in checkConv(attr(opt, \"derivs\"), opt$par, ctrl = control$checkConv, :\n",
      "\"Model failed to converge with max|grad| = 0.422266 (tol = 0.001, component 1)\""
     ]
    },
    {
     "data": {
      "text/plain": [
       "Generalized linear mixed model fit by maximum likelihood (Adaptive\n",
       "  Gauss-Hermite Quadrature, nAGQ = 10) [glmerMod]\n",
       " Family: binomial  ( logit )\n",
       "Formula: main_correct ~ CVS_context + variable + sim_index + pre_statement +  \n",
       "    lab_experience + similar_sim + prior_number_virtual_labs +      (1 | sid)\n",
       "   Data: qual_data\n",
       "Control: glmerControl(optimizer = \"bobyqa\", optCtrl = list(maxfun = 200))\n",
       "\n",
       "     AIC      BIC   logLik deviance df.resid \n",
       "   106.9    157.1    -41.5     82.9      471 \n",
       "\n",
       "Scaled residuals: \n",
       "    Min      1Q  Median      3Q     Max \n",
       "-3.2636  0.0021  0.0039  0.0064  0.6723 \n",
       "\n",
       "Random effects:\n",
       " Groups Name        Variance Std.Dev.\n",
       " sid    (Intercept) 29.21    5.405   \n",
       "Number of obs: 483, groups:  sid, 139\n",
       "\n",
       "Fixed effects:\n",
       "                          Estimate Std. Error z value Pr(>|z|)\n",
       "(Intercept)                26.3887   108.9001   0.242    0.809\n",
       "CVS_context1               -0.7788     1.5767  -0.494    0.621\n",
       "CVS_context2                1.1976     1.3590   0.881    0.378\n",
       "variableConcentration      -0.7679     1.4717  -0.522    0.602\n",
       "variableSeparation          0.4198     1.3674   0.307    0.759\n",
       "variableWidth              -0.6871     1.4665  -0.469    0.639\n",
       "sim_index2                  0.4645     1.1183   0.415    0.678\n",
       "pre_statement1             -1.5834     1.4522  -1.090    0.276\n",
       "lab_experience1           -15.7454   108.5259  -0.145    0.885\n",
       "similar_sim1                0.5945     1.5483   0.384    0.701\n",
       "prior_number_virtual_labs   0.2142     1.0133   0.211    0.833\n",
       "\n",
       "Correlation of Fixed Effects:\n",
       "            (Intr) CVS_c1 CVS_c2 vrblCn vrblSp vrblWd sm_nd2 pr_st1 lb_xp1\n",
       "CVS_contxt1 -0.023                                                        \n",
       "CVS_contxt2  0.018  0.298                                                 \n",
       "vrblCncntrt  0.004  0.145 -0.006                                          \n",
       "variblSprtn  0.013 -0.025  0.027  0.424                                   \n",
       "variablWdth  0.011  0.083  0.078  0.686  0.435                            \n",
       "sim_index2   0.012 -0.008 -0.284  0.193  0.041  0.178                     \n",
       "pre_sttmnt1 -0.023  0.201 -0.106 -0.043 -0.053 -0.036  0.060              \n",
       "lab_exprnc1 -0.999  0.008 -0.014 -0.004 -0.009 -0.008 -0.005  0.013       \n",
       "similar_sm1 -0.028  0.047 -0.067 -0.419 -0.060 -0.419 -0.021  0.054  0.013\n",
       "prr_nmbr_v_ -0.001 -0.013  0.058  0.027  0.037  0.039 -0.058 -0.265 -0.015\n",
       "            smlr_1\n",
       "CVS_contxt1       \n",
       "CVS_contxt2       \n",
       "vrblCncntrt       \n",
       "variblSprtn       \n",
       "variablWdth       \n",
       "sim_index2        \n",
       "pre_sttmnt1       \n",
       "lab_exprnc1       \n",
       "similar_sm1       \n",
       "prr_nmbr_v_ -0.099\n",
       "convergence code: 1\n",
       "Model failed to converge with max|grad| = 0.422266 (tol = 0.001, component 1)\n",
       "maxfun < 10 * length(par)^2 is not recommended.\n"
      ]
     },
     "metadata": {},
     "output_type": "display_data"
    }
   ],
   "source": [
    "mixed <- glmer(\n",
    "    main_correct\n",
    "    ~  CVS_context + variable + sim_index + pre_statement\n",
    "    + lab_experience + similar_sim + prior_number_virtual_labs + (1 | sid),\n",
    "           data = qual_data, family = binomial, \n",
    "           control = glmerControl(optimizer=\"bobyqa\",optCtrl=list(maxfun=200)), nAGQ = 10)\n",
    "\n",
    "summary(mixed)"
   ]
  },
  {
   "cell_type": "code",
   "execution_count": 14,
   "metadata": {},
   "outputs": [
    {
     "name": "stderr",
     "output_type": "stream",
     "text": [
      "Warning message in commonArgs(par, fn, control, environment()):\n",
      "\"maxfun < 10 * length(par)^2 is not recommended.\"Warning message in optwrap(optimizer, devfun, start, rho$lower, control = control, :\n",
      "\"convergence code 1 from bobyqa: bobyqa -- maximum number of function evaluations exceeded\"Warning message in checkConv(attr(opt, \"derivs\"), opt$par, ctrl = control$checkConv, :\n",
      "\"Model failed to converge with max|grad| = 0.278256 (tol = 0.001, component 1)\""
     ]
    },
    {
     "data": {
      "text/plain": [
       "Generalized linear mixed model fit by maximum likelihood (Adaptive\n",
       "  Gauss-Hermite Quadrature, nAGQ = 10) [glmerMod]\n",
       " Family: binomial  ( logit )\n",
       "Formula: main_correct ~ CVS_context + variable + sim_index + pre_statement +  \n",
       "    lab_experience + similar_sim + prior_number_virtual_labs +      (1 | sid)\n",
       "   Data: quant_data\n",
       "Control: glmerControl(optimizer = \"bobyqa\", optCtrl = list(maxfun = 200))\n",
       "\n",
       "     AIC      BIC   logLik deviance df.resid \n",
       "   163.7    207.0    -69.9    139.7      261 \n",
       "\n",
       "Scaled residuals: \n",
       "    Min      1Q  Median      3Q     Max \n",
       "-4.8231  0.0682  0.1045  0.2334  2.5520 \n",
       "\n",
       "Random effects:\n",
       " Groups Name        Variance Std.Dev.\n",
       " sid    (Intercept) 2.336    1.528   \n",
       "Number of obs: 273, groups:  sid, 96\n",
       "\n",
       "Fixed effects:\n",
       "                          Estimate Std. Error z value Pr(>|z|)   \n",
       "(Intercept)                1.78202    1.24456   1.432  0.15219   \n",
       "CVS_context1              -0.36140    1.23167  -0.293  0.76920   \n",
       "CVS_context2              -0.80162    0.83435  -0.961  0.33667   \n",
       "variableConcentration      1.73713    0.97648   1.779  0.07524 . \n",
       "variableSeparation        -1.69935    0.64590  -2.631  0.00851 **\n",
       "variableWidth              1.77275    1.00747   1.760  0.07848 . \n",
       "sim_index2                 0.61121    0.57028   1.072  0.28382   \n",
       "pre_statement1             0.24169    0.80400   0.301  0.76372   \n",
       "lab_experience1            1.87112    1.31603   1.422  0.15508   \n",
       "similar_sim1              -0.12515    0.80683  -0.155  0.87673   \n",
       "prior_number_virtual_labs -0.08992    0.39893  -0.225  0.82167   \n",
       "---\n",
       "Signif. codes:  0 '***' 0.001 '**' 0.01 '*' 0.05 '.' 0.1 ' ' 1\n",
       "\n",
       "Correlation of Fixed Effects:\n",
       "            (Intr) CVS_c1 CVS_c2 vrblCn vrblSp vrblWd sm_nd2 pr_st1 lb_xp1\n",
       "CVS_contxt1 -0.215                                                        \n",
       "CVS_contxt2 -0.318  0.581                                                 \n",
       "vrblCncntrt -0.173  0.026 -0.025                                          \n",
       "variblSprtn -0.387 -0.067  0.015  0.277                                   \n",
       "variablWdth -0.191  0.093 -0.017  0.364  0.260                            \n",
       "sim_index2  -0.190  0.057 -0.084  0.132 -0.054  0.151                     \n",
       "pre_sttmnt1 -0.027  0.053  0.075  0.007 -0.045  0.043  0.068              \n",
       "lab_exprnc1 -0.441 -0.022 -0.177  0.046 -0.058  0.055  0.007 -0.120       \n",
       "similar_sm1  0.073  0.042  0.029 -0.163 -0.010 -0.150 -0.092  0.205 -0.036\n",
       "prr_nmbr_v_ -0.124 -0.010 -0.009  0.037  0.001  0.039  0.041 -0.058 -0.551\n",
       "            smlr_1\n",
       "CVS_contxt1       \n",
       "CVS_contxt2       \n",
       "vrblCncntrt       \n",
       "variblSprtn       \n",
       "variablWdth       \n",
       "sim_index2        \n",
       "pre_sttmnt1       \n",
       "lab_exprnc1       \n",
       "similar_sm1       \n",
       "prr_nmbr_v_ -0.231\n",
       "convergence code: 1\n",
       "Model failed to converge with max|grad| = 0.278256 (tol = 0.001, component 1)\n",
       "maxfun < 10 * length(par)^2 is not recommended.\n"
      ]
     },
     "metadata": {},
     "output_type": "display_data"
    }
   ],
   "source": [
    "mixed <- glmer(\n",
    "    main_correct\n",
    "    ~  CVS_context + variable + sim_index + pre_statement\n",
    "    + lab_experience + similar_sim + prior_number_virtual_labs + (1 | sid),\n",
    "           data = quant_data, family = binomial, \n",
    "           control = glmerControl(optimizer=\"bobyqa\",optCtrl=list(maxfun=200)), nAGQ = 10)\n",
    "\n",
    "summary(mixed)"
   ]
  },
  {
   "cell_type": "code",
   "execution_count": 15,
   "metadata": {},
   "outputs": [],
   "source": [
    "# mixed <- glmer(\n",
    "#     main_correct\n",
    "#     ~  CVS_context + variable + sim_index + pre_statement\n",
    "#     + lab_experience + similar_sim + prior_number_virtual_labs + (1 | sid),\n",
    "#            data = ident_data, family = binomial, \n",
    "#            control = glmerControl(optimizer=\"bobyqa\",optCtrl=list(maxfun=100)), nAGQ = 10)\n",
    "\n",
    "# summary(mixed)"
   ]
  },
  {
   "cell_type": "markdown",
   "metadata": {},
   "source": [
    "## Predicting CVS"
   ]
  },
  {
   "cell_type": "code",
   "execution_count": 16,
   "metadata": {},
   "outputs": [],
   "source": [
    "cvs_data = mydata\n",
    "cvs_data$CVS_graph = cvs_data$CVS_context\n",
    "cvs_data$CVS_graph[cvs_data$CVS_graph==1] <- 0\n",
    "cvs_data$CVS_graph[cvs_data$CVS_graph==2] <- 1"
   ]
  },
  {
   "cell_type": "code",
   "execution_count": 17,
   "metadata": {},
   "outputs": [
    {
     "name": "stderr",
     "output_type": "stream",
     "text": [
      "Warning message in commonArgs(par, fn, control, environment()):\n",
      "\"maxfun < 10 * length(par)^2 is not recommended.\"Warning message in optwrap(optimizer, devfun, start, rho$lower, control = control, :\n",
      "\"convergence code 1 from bobyqa: bobyqa -- maximum number of function evaluations exceeded\"Warning message in checkConv(attr(opt, \"derivs\"), opt$par, ctrl = control$checkConv, :\n",
      "\"Model failed to converge with max|grad| = 1.49314 (tol = 0.001, component 1)\"\n",
      "Correlation matrix not shown by default, as p = 16 > 12.\n",
      "Use print(obj, correlation=TRUE)  or\n",
      "\t vcov(obj)\t if you need it\n",
      "\n"
     ]
    },
    {
     "data": {
      "text/plain": [
       "Generalized linear mixed model fit by maximum likelihood (Adaptive\n",
       "  Gauss-Hermite Quadrature, nAGQ = 10) [glmerMod]\n",
       " Family: binomial  ( logit )\n",
       "Formula: \n",
       "CVS_graph ~ variable + sim_index + pre_statement * model + lab_experience +  \n",
       "    similar_sim + prior_number_virtual_labs + overall.POCC +  \n",
       "    PC1 + PC2 + (1 | sid)\n",
       "   Data: cvs_data\n",
       "Control: glmerControl(optimizer = \"bobyqa\", optCtrl = list(maxfun = 200))\n",
       "\n",
       "     AIC      BIC   logLik deviance df.resid \n",
       "  1227.7   1320.8   -596.8   1193.7     1759 \n",
       "\n",
       "Scaled residuals: \n",
       "    Min      1Q  Median      3Q     Max \n",
       "-2.8179 -0.1571 -0.0414  0.1597  4.4709 \n",
       "\n",
       "Random effects:\n",
       " Groups Name        Variance Std.Dev.\n",
       " sid    (Intercept) 25.6     5.06    \n",
       "Number of obs: 1776, groups:  sid, 148\n",
       "\n",
       "Fixed effects:\n",
       "                          Estimate Std. Error z value Pr(>|z|)    \n",
       "(Intercept)               -5.61256    3.23115  -1.737   0.0824 .  \n",
       "variableArea              -1.12627    0.27277  -4.129 3.64e-05 ***\n",
       "variableSeparation        -1.23372    0.27336  -4.513 6.39e-06 ***\n",
       "variableWidth             -0.62138    0.24131  -2.575   0.0100 *  \n",
       "sim_index2                 1.67351    0.19602   8.538  < 2e-16 ***\n",
       "pre_statement1            -0.56103    0.35155  -1.596   0.1105    \n",
       "modelqual                 -0.50728    0.29622  -1.713   0.0868 .  \n",
       "modelquant                -0.17604    0.24749  -0.711   0.4769    \n",
       "lab_experience1            4.41925    1.82628   2.420   0.0155 *  \n",
       "similar_sim1              -0.42617    0.30484  -1.398   0.1621    \n",
       "prior_number_virtual_labs  0.44715    0.57510   0.778   0.4369    \n",
       "overall.POCC               0.03148    0.21215   0.148   0.8821    \n",
       "PC1                        0.07946    0.43657   0.182   0.8556    \n",
       "PC2                        0.75562    0.52644   1.435   0.1512    \n",
       "pre_statement1:modelqual   1.26846    0.52414   2.420   0.0155 *  \n",
       "pre_statement1:modelquant  0.58914    0.65185   0.904   0.3661    \n",
       "---\n",
       "Signif. codes:  0 '***' 0.001 '**' 0.01 '*' 0.05 '.' 0.1 ' ' 1\n",
       "convergence code: 1\n",
       "Model failed to converge with max|grad| = 1.49314 (tol = 0.001, component 1)\n",
       "maxfun < 10 * length(par)^2 is not recommended.\n"
      ]
     },
     "metadata": {},
     "output_type": "display_data"
    }
   ],
   "source": [
    "cvs_data$variable <- relevel(cvs_data$variable, \"Concentration\")\n",
    "\n",
    "mixed <- glmer(\n",
    "    CVS_graph\n",
    "    ~ variable + sim_index + pre_statement*model \n",
    "    + lab_experience + similar_sim + prior_number_virtual_labs\n",
    "    + overall.POCC + PC1 + PC2 + (1 | sid),\n",
    "           data = cvs_data, family = binomial, \n",
    "           control = glmerControl(optimizer=\"bobyqa\",optCtrl=list(maxfun=200)), nAGQ = 10)\n",
    "\n",
    "summary(mixed)"
   ]
  },
  {
   "cell_type": "markdown",
   "metadata": {},
   "source": [
    "## Modeling transfer"
   ]
  },
  {
   "cell_type": "code",
   "execution_count": 18,
   "metadata": {},
   "outputs": [
    {
     "name": "stderr",
     "output_type": "stream",
     "text": [
      "Warning message in commonArgs(par, fn, control, environment()):\n",
      "\"maxfun < 10 * length(par)^2 is not recommended.\"Warning message in optwrap(optimizer, devfun, start, rho$lower, control = control, :\n",
      "\"convergence code 1 from bobyqa: bobyqa -- maximum number of function evaluations exceeded\"Warning message in checkConv(attr(opt, \"derivs\"), opt$par, ctrl = control$checkConv, :\n",
      "\"Model failed to converge with max|grad| = 0.0707118 (tol = 0.001, component 1)\""
     ]
    },
    {
     "data": {
      "text/plain": [
       "Generalized linear mixed model fit by maximum likelihood (Adaptive\n",
       "  Gauss-Hermite Quadrature, nAGQ = 10) [glmerMod]\n",
       " Family: binomial  ( logit )\n",
       "Formula: quant_score ~ variable + sim_index + CVS_context + lab_experience +  \n",
       "    similar_sim + prior_number_virtual_labs + (1 | sid)\n",
       "   Data: transfer_data\n",
       "Control: glmerControl(optimizer = \"bobyqa\", optCtrl = list(maxfun = 200))\n",
       "\n",
       "     AIC      BIC   logLik deviance df.resid \n",
       "   668.9    717.1   -323.5    646.9      581 \n",
       "\n",
       "Scaled residuals: \n",
       "    Min      1Q  Median      3Q     Max \n",
       "-2.5105 -0.4736  0.2939  0.4905  1.6031 \n",
       "\n",
       "Random effects:\n",
       " Groups Name        Variance Std.Dev.\n",
       " sid    (Intercept) 3.363    1.834   \n",
       "Number of obs: 592, groups:  sid, 148\n",
       "\n",
       "Fixed effects:\n",
       "                          Estimate Std. Error z value Pr(>|z|)  \n",
       "(Intercept)                0.70752    0.65021   1.088   0.2765  \n",
       "variableConcentration     -0.00244    0.33558  -0.007   0.9942  \n",
       "variableSeparation        -0.70320    0.31096  -2.261   0.0237 *\n",
       "variableWidth             -0.01844    0.33424  -0.055   0.9560  \n",
       "sim_index2                 0.29496    0.22962   1.285   0.1989  \n",
       "CVS_context1              -0.12383    0.40662  -0.305   0.7607  \n",
       "CVS_context2              -0.26870    0.34400  -0.781   0.4347  \n",
       "lab_experience1           -0.34785    0.70414  -0.494   0.6213  \n",
       "similar_sim1               0.36991    0.36492   1.014   0.3107  \n",
       "prior_number_virtual_labs  0.50007    0.23369   2.140   0.0324 *\n",
       "---\n",
       "Signif. codes:  0 '***' 0.001 '**' 0.01 '*' 0.05 '.' 0.1 ' ' 1\n",
       "\n",
       "Correlation of Fixed Effects:\n",
       "            (Intr) vrblCn vrblSp vrblWd sm_nd2 CVS_c1 CVS_c2 lb_xp1 smlr_1\n",
       "vrblCncntrt -0.265                                                        \n",
       "variblSprtn -0.265  0.489                                                 \n",
       "variablWdth -0.269  0.534  0.493                                          \n",
       "sim_index2  -0.158  0.034 -0.004  0.027                                   \n",
       "CVS_contxt1 -0.145  0.001  0.050  0.025  0.012                            \n",
       "CVS_contxt2 -0.067 -0.067  0.034 -0.014 -0.159  0.376                     \n",
       "lab_exprnc1 -0.653  0.026  0.004  0.018  0.006 -0.079 -0.148              \n",
       "similar_sm1  0.098 -0.278 -0.033 -0.279  0.122 -0.027 -0.037 -0.068       \n",
       "prr_nmbr_v_ -0.202  0.045 -0.025  0.040  0.016  0.048 -0.072 -0.422 -0.115\n",
       "convergence code: 1\n",
       "Model failed to converge with max|grad| = 0.0707118 (tol = 0.001, component 1)\n",
       "maxfun < 10 * length(par)^2 is not recommended.\n"
      ]
     },
     "metadata": {},
     "output_type": "display_data"
    }
   ],
   "source": [
    "#since we don't include pre data, we filter all rows for different models\n",
    "transfer_data = mydata[mydata$model == \"quant\", ]\n",
    "\n",
    "mixed <- glmer(\n",
    "    quant_score\n",
    "    ~ variable + sim_index + CVS_context\n",
    "    + lab_experience + similar_sim + prior_number_virtual_labs + (1 | sid),\n",
    "           data = transfer_data, family = binomial, \n",
    "           control = glmerControl(optimizer=\"bobyqa\",optCtrl=list(maxfun=200)), nAGQ = 10)\n",
    "\n",
    "summary(mixed)"
   ]
  },
  {
   "cell_type": "code",
   "execution_count": 19,
   "metadata": {},
   "outputs": [
    {
     "name": "stderr",
     "output_type": "stream",
     "text": [
      "Warning message in commonArgs(par, fn, control, environment()):\n",
      "\"maxfun < 10 * length(par)^2 is not recommended.\"Warning message in optwrap(optimizer, devfun, start, rho$lower, control = control, :\n",
      "\"convergence code 1 from bobyqa: bobyqa -- maximum number of function evaluations exceeded\"Warning message in checkConv(attr(opt, \"derivs\"), opt$par, ctrl = control$checkConv, :\n",
      "\"Model failed to converge with max|grad| = 0.200572 (tol = 0.001, component 1)\"\n",
      "Correlation matrix not shown by default, as p = 15 > 12.\n",
      "Use print(obj, correlation=TRUE)  or\n",
      "\t vcov(obj)\t if you need it\n",
      "\n"
     ]
    },
    {
     "data": {
      "text/plain": [
       "Generalized linear mixed model fit by maximum likelihood (Adaptive\n",
       "  Gauss-Hermite Quadrature, nAGQ = 10) [glmerMod]\n",
       " Family: binomial  ( logit )\n",
       "Formula: quant_score ~ variable + sim_index + CVS_context + main_statement *  \n",
       "    model + lab_experience + similar_sim + prior_number_virtual_labs +  \n",
       "    (1 | sid)\n",
       "   Data: transfer_data\n",
       "Control: glmerControl(optimizer = \"bobyqa\", optCtrl = list(maxfun = 200))\n",
       "\n",
       "     AIC      BIC   logLik deviance df.resid \n",
       "  1511.0   1598.7   -739.5   1479.0     1760 \n",
       "\n",
       "Scaled residuals: \n",
       "    Min      1Q  Median      3Q     Max \n",
       "-3.1572 -0.1831  0.1216  0.4398  2.7837 \n",
       "\n",
       "Random effects:\n",
       " Groups Name        Variance Std.Dev.\n",
       " sid    (Intercept) 11.25    3.354   \n",
       "Number of obs: 1776, groups:  sid, 148\n",
       "\n",
       "Fixed effects:\n",
       "                          Estimate Std. Error z value Pr(>|z|)    \n",
       "(Intercept)                1.04191    0.97963   1.064 0.287522    \n",
       "variableConcentration     -0.11960    0.22656  -0.528 0.597555    \n",
       "variableSeparation        -0.91666    0.20638  -4.442 8.93e-06 ***\n",
       "variableWidth             -0.12388    0.22579  -0.549 0.583243    \n",
       "sim_index2                 0.45947    0.15594   2.946 0.003215 ** \n",
       "CVS_context1              -0.05923    0.31258  -0.190 0.849700    \n",
       "CVS_context2              -0.92483    0.29854  -3.098 0.001949 ** \n",
       "main_statement            -1.35263    0.77363  -1.748 0.080392 .  \n",
       "modelqual                 -0.53717    0.34114  -1.575 0.115337    \n",
       "modelquant                -0.25313    0.22219  -1.139 0.254596    \n",
       "lab_experience1           -0.44376    1.10986  -0.400 0.689283    \n",
       "similar_sim1               1.01395    0.27186   3.730 0.000192 ***\n",
       "prior_number_virtual_labs  0.74762    0.36564   2.045 0.040885 *  \n",
       "main_statement:modelqual   1.97083    0.87056   2.264 0.023582 *  \n",
       "main_statement:modelquant  1.84510    0.83350   2.214 0.026852 *  \n",
       "---\n",
       "Signif. codes:  0 '***' 0.001 '**' 0.01 '*' 0.05 '.' 0.1 ' ' 1\n",
       "convergence code: 1\n",
       "Model failed to converge with max|grad| = 0.200572 (tol = 0.001, component 1)\n",
       "maxfun < 10 * length(par)^2 is not recommended.\n"
      ]
     },
     "metadata": {},
     "output_type": "display_data"
    }
   ],
   "source": [
    "#since we don't include pre data, we filter all rows for different models\n",
    "transfer_data = mydata\n",
    "\n",
    "mixed <- glmer(\n",
    "    quant_score\n",
    "    ~ variable + sim_index + CVS_context + main_statement*model\n",
    "    + lab_experience + similar_sim + prior_number_virtual_labs + (1 | sid),\n",
    "           data = transfer_data, family = binomial, \n",
    "           control = glmerControl(optimizer=\"bobyqa\",optCtrl=list(maxfun=200)), nAGQ = 10)\n",
    "\n",
    "summary(mixed)"
   ]
  },
  {
   "cell_type": "markdown",
   "metadata": {},
   "source": [
    "## releveling examples"
   ]
  },
  {
   "cell_type": "markdown",
   "metadata": {},
   "source": [
    "A bunch of relevels"
   ]
  },
  {
   "cell_type": "code",
   "execution_count": 20,
   "metadata": {},
   "outputs": [
    {
     "ename": "ERROR",
     "evalue": "Error in eval(predvars, data, env): object 'CVS_graph_3' not found\n",
     "output_type": "error",
     "traceback": [
      "Error in eval(predvars, data, env): object 'CVS_graph_3' not found\nTraceback:\n",
      "1. glmer(CVS_graph_3 ~ pre + variable + sim_index + level_experience_sims + \n .     experience_undergrad_labs + used_similar_sim + (1 | sid), \n .     data = mydata, family = binomial, control = glmerControl(optimizer = \"bobyqa\"), \n .     nAGQ = 10)",
      "2. eval(mc, parent.frame(1L))",
      "3. eval(mc, parent.frame(1L))",
      "4. lme4::glFormula(formula = CVS_graph_3 ~ pre + variable + sim_index + \n .     level_experience_sims + experience_undergrad_labs + used_similar_sim + \n .     (1 | sid), data = mydata, family = binomial, control = glmerControl(optimizer = \"bobyqa\"), \n .     nAGQ = 10)",
      "5. eval(mf, parent.frame())",
      "6. eval(mf, parent.frame())",
      "7. stats::model.frame(data = mydata, drop.unused.levels = TRUE, \n .     formula = CVS_graph_3 ~ pre + variable + sim_index + level_experience_sims + \n .         experience_undergrad_labs + used_similar_sim + (1 + sid))",
      "8. model.frame.default(data = mydata, drop.unused.levels = TRUE, \n .     formula = CVS_graph_3 ~ pre + variable + sim_index + level_experience_sims + \n .         experience_undergrad_labs + used_similar_sim + (1 + sid))",
      "9. eval(predvars, data, env)",
      "10. eval(predvars, data, env)"
     ]
    }
   ],
   "source": [
    "mydata$variable <- relevel(mydata$variable, \"Concentration\")\n",
    "\n",
    "mixed <- glmer(\n",
    "    CVS_graph_3 \n",
    "    ~ pre + variable + sim_index +level_experience_sims \n",
    "    + experience_undergrad_labs + used_similar_sim + (1 | sid),\n",
    "           data = mydata, family = binomial, \n",
    "           control = glmerControl(optimizer = \"bobyqa\"), nAGQ = 10)\n",
    "\n",
    "summary(mixed)"
   ]
  },
  {
   "cell_type": "code",
   "execution_count": null,
   "metadata": {},
   "outputs": [],
   "source": [
    "mydata$variable <- relevel(mydata$variable, \"Separation\")\n",
    "\n",
    "mixed <- glmer(\n",
    "    CVS_graph_3 \n",
    "    ~ pre + variable + sim_index +level_experience_sims \n",
    "    + experience_undergrad_labs + used_similar_sim + (1 | sid),\n",
    "           data = mydata, family = binomial, \n",
    "           control = glmerControl(optimizer = \"bobyqa\"), nAGQ = 10)\n",
    "\n",
    "summary(mixed)"
   ]
  },
  {
   "cell_type": "code",
   "execution_count": null,
   "metadata": {},
   "outputs": [],
   "source": [
    "mydata$variable <- relevel(mydata$variable, \"Width\")\n",
    "\n",
    "mixed <- glmer(\n",
    "    CVS_graph_3 \n",
    "    ~ pre + variable + sim_index +level_experience_sims \n",
    "    + experience_undergrad_labs + used_similar_sim + (1 | sid),\n",
    "           data = mydata, family = binomial, \n",
    "           control = glmerControl(optimizer = \"bobyqa\"), nAGQ = 10)\n",
    "\n",
    "summary(mixed)"
   ]
  }
 ],
 "metadata": {
  "anaconda-cloud": {},
  "kernelspec": {
   "display_name": "R",
   "language": "R",
   "name": "ir"
  },
  "language_info": {
   "codemirror_mode": "r",
   "file_extension": ".r",
   "mimetype": "text/x-r-source",
   "name": "R",
   "pygments_lexer": "r",
   "version": "3.4.3"
  },
  "toc": {
   "nav_menu": {},
   "number_sections": true,
   "sideBar": true,
   "skip_h1_title": false,
   "toc_cell": false,
   "toc_position": {},
   "toc_section_display": "block",
   "toc_window_display": false
  }
 },
 "nbformat": 4,
 "nbformat_minor": 1
}
