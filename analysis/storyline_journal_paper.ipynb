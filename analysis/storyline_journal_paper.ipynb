{
 "cells": [
  {
   "cell_type": "markdown",
   "metadata": {
    "hideCode": false,
    "hidePrompt": true
   },
   "source": [
    "This notebook organizes all the results in the \"analysis\" folder within a concrete storyline"
   ]
  },
  {
   "cell_type": "code",
   "execution_count": 1,
   "metadata": {
    "hideCode": false,
    "hidePrompt": true,
    "scrolled": true
   },
   "outputs": [
    {
     "data": {
      "text/html": [
       "<script>jQuery(function() {if (jQuery(\"body.notebook_app\").length == 0) { jQuery(\".input_area\").toggle(); jQuery(\".prompt\").toggle();}});</script>"
      ]
     },
     "metadata": {},
     "output_type": "display_data"
    }
   ],
   "source": [
    "from IPython.display import display\n",
    "from IPython.display import HTML\n",
    "import IPython.core.display as di\n",
    "\n",
    "# This line will hide code by default when the notebook is converted to HTML\n",
    "di.display_html('<script>jQuery(function() {if (jQuery(\"body.notebook_app\").length == 0) { jQuery(\".input_area\").toggle(); jQuery(\".prompt\").toggle();}});</script>', raw=True)"
   ]
  },
  {
   "cell_type": "code",
   "execution_count": 4,
   "metadata": {
    "hideCode": false,
    "hidePrompt": true
   },
   "outputs": [],
   "source": [
    "from utils_read_parsing import *\n",
    "import numpy as np\n",
    "import matplotlib\n",
    "import matplotlib.pyplot as plt\n",
    "from tabulate import tabulate\n",
    "import seaborn as sns\n",
    "\n",
    "%matplotlib inline\n",
    "matplotlib.style.use('ggplot')\n",
    "matplotlib.rcParams['figure.figsize'] = 7, 4\n",
    "pd.set_option('precision',3)\n",
    "pd.set_option(\"display.width\", 100)\n",
    "np.set_printoptions(precision=3,suppress=True)"
   ]
  },
  {
   "cell_type": "markdown",
   "metadata": {
    "hideCode": false,
    "hidePrompt": true
   },
   "source": [
    "# Preparing the data\n",
    "We wish to have a table that looks like:"
   ]
  },
  {
   "cell_type": "code",
   "execution_count": 5,
   "metadata": {
    "hideCode": false,
    "hidePrompt": true
   },
   "outputs": [
    {
     "name": "stdout",
     "output_type": "stream",
     "text": [
      "--------  -------------  ----------  ------------  -------------  -----------  -------------  --------------\n",
      "sid       variable       has_pre_id  has_pre_qual  has_pre_quant  has_main_id  has_main_qual  has_main_quant\n",
      "12345678  Width          1           0             0              0            1              0\n",
      "12345678  Concentration  0           0             1              0            0              1\n",
      "--------  -------------  ----------  ------------  -------------  -----------  -------------  --------------\n",
      "---  -----------  -------------  --------------  ------------  --------------  ---------------  -----  ---  -----------\n",
      "...  pre_id_corr  pre_qual_corr  pre_quant_corr  main_id_corr  main_qual_corr  main_quant_corr  index  sim  CVS_context\n",
      "...  1            NA             NA              NA            0               NA               2      L    table\n",
      "...  NA           0              NA              NA            NA              0                2      L    graph\n",
      "---  -----------  -------------  --------------  ------------  --------------  ---------------  -----  ---  -----------\n",
      "---  ------------  -------------  ------------------\n",
      "...  tansfer_qual  tansfer_quant  student attributes\n",
      "...  1             1              ...\n",
      "...  1             1              ...\n",
      "---  ------------  -------------  ------------------\n"
     ]
    }
   ],
   "source": [
    "t = [['sid','variable','has_pre_id', 'has_pre_qual', 'has_pre_quant', 'has_main_id', 'has_main_qual', 'has_main_quant']]\n",
    "t.append(['12345678','Width',1,0,0,0,1,0])\n",
    "t.append(['12345678','Concentration',0,0,1,0,0,1])\n",
    "print tabulate(t)\n",
    "t = [['...','pre_id_corr', 'pre_qual_corr', 'pre_quant_corr', 'main_id_corr', 'main_qual_corr', 'main_quant_corr','index','sim','CVS_context']]\n",
    "t.append(['...',1,'NA','NA','NA',0,'NA',2,'L','table'])\n",
    "t.append(['...','NA',0,'NA','NA','NA',0,2,'L','graph'])\n",
    "print tabulate(t)\n",
    "t = [['...','tansfer_qual','tansfer_quant','student attributes']]\n",
    "t.append(['...',1,1,'...'])\n",
    "t.append(['...',1,1,'...'])\n",
    "print tabulate(t)\n"
   ]
  },
  {
   "cell_type": "markdown",
   "metadata": {},
   "source": [
    "## We load all student data files"
   ]
  },
  {
   "cell_type": "code",
   "execution_count": 7,
   "metadata": {},
   "outputs": [],
   "source": [
    "pre_survey_df = get_massaged_pre_survey()\n",
    "post_survey_df = get_massaged_post_survey()\n",
    "meta_df = get_student_metadata()\n",
    "meta_worksheets_L_df = get_worksheet_metadata('beers')\n",
    "meta_worksheets_L_df = get_worksheet_metadata('caps')\n",
    "#     table_cvs_df = pd.read_csv('table_cvs_results.txt', sep='\\t')\n",
    "#     graph_cvs_df = pd.read_csv('graph_cvs_results.txt', sep='\\t')"
   ]
  },
  {
   "cell_type": "markdown",
   "metadata": {
    "hideCode": false,
    "hidePrompt": true
   },
   "source": [
    "## Grabing the CVS data..."
   ]
  },
  {
   "cell_type": "code",
   "execution_count": null,
   "metadata": {
    "hideCode": false,
    "hidePrompt": true
   },
   "outputs": [],
   "source": [
    "order = dict(zip(meta_df.index,meta_df['activity order']))\n",
    "graph_cvs_df['activity order'] = graph_cvs_df.studentid.apply(lambda sid: order[sid])\n",
    "table_cvs_df['activity order'] = table_cvs_df.studentid.apply(lambda sid: order[sid])"
   ]
  },
  {
   "cell_type": "code",
   "execution_count": null,
   "metadata": {
    "hideCode": false,
    "hidePrompt": true
   },
   "outputs": [],
   "source": [
    "variables = [\"Area\",\"Separation\",\"Width\",\"Concentration\",\"Wavelength\",\"Battery voltage\"]\n",
    "\n",
    "def binarize(threshold,number):\n",
    "    if number>= threshold : return 1\n",
    "    else: return 0\n",
    "    \n",
    "# Given that we want to compare the stringency of CVS, we created different definitions with 2,3,4 points needed\n",
    "\n",
    "graph_cvs_2_df = graph_cvs_df.copy()\n",
    "graph_cvs_3_df = graph_cvs_df.copy()\n",
    "graph_cvs_4_df = graph_cvs_df.copy()\n",
    "graph_cvs_5_df = graph_cvs_df.copy()\n",
    "for v in variables:\n",
    "    graph_cvs_2_df[v] = graph_cvs_df.apply(lambda row: binarize(2,row[v]), axis=1)\n",
    "    graph_cvs_3_df[v] = graph_cvs_df.apply(lambda row: binarize(3,row[v]), axis=1)\n",
    "    graph_cvs_4_df[v] = graph_cvs_df.apply(lambda row: binarize(4,row[v]), axis=1)\n",
    "    graph_cvs_5_df[v] = graph_cvs_df.apply(lambda row: binarize(5,row[v]), axis=1)\n",
    "\n",
    "table_cvs_2_df = table_cvs_df.copy()\n",
    "table_cvs_3_df = table_cvs_df.copy()\n",
    "table_cvs_4_df = table_cvs_df.copy()\n",
    "table_cvs_5_df = table_cvs_df.copy()\n",
    "for v in variables:\n",
    "    table_cvs_2_df[v] = table_cvs_df.apply(lambda row: binarize(2,row[v]), axis=1)\n",
    "    table_cvs_3_df[v] = table_cvs_df.apply(lambda row: binarize(3,row[v]), axis=1)\n",
    "    table_cvs_4_df[v] = table_cvs_df.apply(lambda row: binarize(4,row[v]), axis=1)\n",
    "    table_cvs_5_df[v] = table_cvs_df.apply(lambda row: binarize(5,row[v]), axis=1)"
   ]
  },
  {
   "cell_type": "code",
   "execution_count": null,
   "metadata": {
    "hideCode": true,
    "hidePrompt": true
   },
   "outputs": [],
   "source": [
    "# table_intervals_df = pd.read_csv('table_intervals_results.txt', sep='\\t')"
   ]
  },
  {
   "cell_type": "markdown",
   "metadata": {
    "hideCode": true,
    "hidePrompt": true
   },
   "source": [
    "## Grabbing the worksheet data"
   ]
  },
  {
   "cell_type": "code",
   "execution_count": null,
   "metadata": {
    "hideCode": true,
    "hidePrompt": true
   },
   "outputs": [],
   "source": [
    "%reload_ext utils_read_parsing\n",
    "#grab worksheet data\n",
    "worksheets = get_worksheet_metadata('beers')\n",
    "pre = get_pre_worksheet(sim='beers')\n",
    "main = get_main_worksheet(sim='beers')\n",
    "\n",
    "ids = get_students_to_analyze_log_worksheets('beers')\n",
    "pre= pre[pre['Student ID'].isin(worksheets[(worksheets['Type']=='p')&worksheets['Student ID'].isin(ids)]['other id'].values)]\n",
    "main= main[main['Student ID'].isin(worksheets[(worksheets['Type']=='m')&worksheets['Student ID'].isin(ids)]['other id'].values)]\n",
    "\n",
    "#ids in pre/post match \"other id\" in worksheet metdata so we need to assign the correct id in logs for each entry in pre/post\n",
    "pre['sid'] = pre['Student ID'].apply(lambda row: worksheets.loc[worksheets[(worksheets['other id']==row)].index[0],'Student ID'])\n",
    "main['sid'] = main['Student ID'].apply(lambda row: worksheets.loc[worksheets[worksheets['other id']==row].index[0],'Student ID'])\n",
    "\n",
    "# print len(ids),len(pre),len(main)"
   ]
  },
  {
   "cell_type": "code",
   "execution_count": null,
   "metadata": {
    "hideCode": true,
    "hidePrompt": true
   },
   "outputs": [],
   "source": [
    "## make desired table for beers\n",
    "melted_pre = pd.melt(pre, id_vars=['sid'], value_vars=['Concentration','Width'], var_name='variable',value_name='pre')\n",
    "melted_main = pd.melt(main, id_vars=['sid'], value_vars=['Concentration','Width'], var_name='variable',value_name='main')\n",
    "\n",
    "L_scores = melted_pre.merge(melted_main, on=['sid','variable'], how='outer')\n",
    "L_scores['sim'] = 'L'\n",
    "\n",
    "L_scores['CVS_table_2'] = L_scores.apply(lambda row: table_cvs_2_df.loc[table_cvs_2_df[table_cvs_2_df['studentid']==row['sid']].index[0],row['variable']],axis=1)\n",
    "L_scores['CVS_graph_2'] = L_scores.apply(lambda row: graph_cvs_2_df.loc[graph_cvs_2_df[graph_cvs_2_df['studentid']==row['sid']].index[0],row['variable']],axis=1)\n",
    "\n",
    "L_scores['CVS_table_3'] = L_scores.apply(lambda row: table_cvs_3_df.loc[table_cvs_3_df[table_cvs_3_df['studentid']==row['sid']].index[0],row['variable']],axis=1)\n",
    "L_scores['CVS_graph_3'] = L_scores.apply(lambda row: graph_cvs_3_df.loc[graph_cvs_3_df[graph_cvs_3_df['studentid']==row['sid']].index[0],row['variable']],axis=1)\n",
    "\n",
    "L_scores['CVS_table_4'] = L_scores.apply(lambda row: table_cvs_4_df.loc[table_cvs_4_df[table_cvs_4_df['studentid']==row['sid']].index[0],row['variable']],axis=1)\n",
    "L_scores['CVS_graph_4'] = L_scores.apply(lambda row: graph_cvs_4_df.loc[graph_cvs_4_df[graph_cvs_4_df['studentid']==row['sid']].index[0],row['variable']],axis=1)\n",
    "\n",
    "L_scores['CVS_table_5'] = L_scores.apply(lambda row: table_cvs_5_df.loc[table_cvs_5_df[table_cvs_5_df['studentid']==row['sid']].index[0],row['variable']],axis=1)\n",
    "L_scores['CVS_graph_5'] = L_scores.apply(lambda row: graph_cvs_5_df.loc[graph_cvs_5_df[graph_cvs_5_df['studentid']==row['sid']].index[0],row['variable']],axis=1)\n",
    "\n",
    "\n",
    "L_scores['number_points_table'] = L_scores.apply(lambda row: table_cvs_df.loc[table_cvs_df[table_cvs_df['studentid']==row['sid']].index[0],row['variable']],axis=1)\n",
    "L_scores['number_points_graph'] = L_scores.apply(lambda row: graph_cvs_df.loc[graph_cvs_df[graph_cvs_df['studentid']==row['sid']].index[0],row['variable']],axis=1)\n",
    "\n",
    "L_scores['sim_index'] = L_scores.apply(lambda row: table_cvs_2_df.loc[table_cvs_2_df[table_cvs_2_df['studentid']==row['sid']].index[0],'activity order'].index(row['sim'])+1,axis=1)"
   ]
  },
  {
   "cell_type": "code",
   "execution_count": null,
   "metadata": {
    "hideCode": true,
    "hidePrompt": true
   },
   "outputs": [],
   "source": [
    "# L_scores[L_scores['variable']=='Width'].describe()"
   ]
  },
  {
   "cell_type": "code",
   "execution_count": null,
   "metadata": {
    "hideCode": true,
    "hidePrompt": true
   },
   "outputs": [],
   "source": [
    "%reload_ext utils_read_parsing\n",
    "#grab worksheet data\n",
    "worksheets = get_worksheet_metadata('caps')\n",
    "pre = get_pre_worksheet(sim='caps')\n",
    "main = get_main_worksheet(sim='caps')\n",
    "\n",
    "ids = get_students_to_analyze_log_worksheets('caps')\n",
    "pre= pre[pre['Student ID'].isin(worksheets[(worksheets['Type']=='p')&worksheets['Student ID'].isin(ids)]['other id'].values)]\n",
    "main= main[main['Student ID'].isin(worksheets[(worksheets['Type']=='m')&worksheets['Student ID'].isin(ids)]['other id'].values)]\n",
    "\n",
    "#ids in pre/post match \"other id\" in worksheet metdata so we need to assign the correct id in logs for each entry in pre/post\n",
    "pre['sid'] = pre['Student ID'].apply(lambda row: worksheets.loc[worksheets[(worksheets['other id']==row)].index[0],'Student ID'])\n",
    "main['sid'] = main['Student ID'].apply(lambda row: worksheets.loc[worksheets[worksheets['other id']==row].index[0],'Student ID'])\n",
    "\n",
    "# print len(ids),len(pre),len(main)"
   ]
  },
  {
   "cell_type": "code",
   "execution_count": null,
   "metadata": {
    "hideCode": true,
    "hidePrompt": true
   },
   "outputs": [],
   "source": [
    "## make desired table for caps\n",
    "melted_pre = pd.melt(pre, id_vars=['sid'], value_vars=['Area','Separation'], var_name='variable',value_name='pre')\n",
    "melted_main = pd.melt(main, id_vars=['sid'], value_vars=['Area','Separation'], var_name='variable',value_name='main')\n",
    "\n",
    "C_scores = melted_pre.merge(melted_main, on=['sid','variable'], how='outer')\n",
    "C_scores['sim'] = 'C'\n",
    "C_scores['CVS_table_2'] = C_scores.apply(lambda row: table_cvs_2_df.loc[table_cvs_2_df[table_cvs_2_df['studentid']==row['sid']].index[0],row['variable']],axis=1)\n",
    "C_scores['CVS_graph_2'] = C_scores.apply(lambda row: graph_cvs_2_df.loc[graph_cvs_2_df[graph_cvs_2_df['studentid']==row['sid']].index[0],row['variable']],axis=1)\n",
    "\n",
    "C_scores['CVS_table_3'] = C_scores.apply(lambda row: table_cvs_3_df.loc[table_cvs_3_df[table_cvs_3_df['studentid']==row['sid']].index[0],row['variable']],axis=1)\n",
    "C_scores['CVS_graph_3'] = C_scores.apply(lambda row: graph_cvs_3_df.loc[graph_cvs_3_df[graph_cvs_3_df['studentid']==row['sid']].index[0],row['variable']],axis=1)\n",
    "\n",
    "C_scores['CVS_table_4'] = C_scores.apply(lambda row: table_cvs_4_df.loc[table_cvs_4_df[table_cvs_4_df['studentid']==row['sid']].index[0],row['variable']],axis=1)\n",
    "C_scores['CVS_graph_4'] = C_scores.apply(lambda row: graph_cvs_4_df.loc[graph_cvs_4_df[graph_cvs_4_df['studentid']==row['sid']].index[0],row['variable']],axis=1)\n",
    "\n",
    "C_scores['CVS_table_5'] = C_scores.apply(lambda row: table_cvs_5_df.loc[table_cvs_5_df[table_cvs_5_df['studentid']==row['sid']].index[0],row['variable']],axis=1)\n",
    "C_scores['CVS_graph_5'] = C_scores.apply(lambda row: graph_cvs_5_df.loc[graph_cvs_5_df[graph_cvs_5_df['studentid']==row['sid']].index[0],row['variable']],axis=1)\n",
    "\n",
    "C_scores['number_points_table'] = C_scores.apply(lambda row: table_cvs_df.loc[table_cvs_df[table_cvs_df['studentid']==row['sid']].index[0],row['variable']],axis=1)\n",
    "C_scores['number_points_graph'] = C_scores.apply(lambda row: graph_cvs_df.loc[graph_cvs_df[graph_cvs_df['studentid']==row['sid']].index[0],row['variable']],axis=1)\n",
    "\n",
    "C_scores['sim_index'] = C_scores.apply(lambda row: table_cvs_2_df.loc[table_cvs_2_df[table_cvs_2_df['studentid']==row['sid']].index[0],'activity order'].index(row['sim'])+1,axis=1)"
   ]
  },
  {
   "cell_type": "markdown",
   "metadata": {},
   "source": [
    "## Putting it all together"
   ]
  },
  {
   "cell_type": "code",
   "execution_count": null,
   "metadata": {
    "hideCode": true,
    "hidePrompt": true
   },
   "outputs": [],
   "source": [
    "data = pd.concat([L_scores,C_scores])\n",
    "# data['intervals_in_table'] = data.apply(lambda row: table_intervals_df.loc[table_intervals_df[table_intervals_df['studentid']==row['sid']].index[0],row['variable']],axis=1)\n",
    "# data['CVS_table_only'] = data.apply(lambda row: row['CVS_table']*(1-row['CVS_graph']), axis = 1)\n",
    "data = data.reset_index(drop=True)"
   ]
  },
  {
   "cell_type": "markdown",
   "metadata": {},
   "source": [
    "## Adding wrapper use data"
   ]
  },
  {
   "cell_type": "code",
   "execution_count": null,
   "metadata": {},
   "outputs": [],
   "source": [
    "use_wrapper_df = pd.read_csv('use_wrapper_results.txt', sep='\\t')\n",
    "data['use_table'] = data.apply(lambda row: use_wrapper_df.loc[use_wrapper_df[use_wrapper_df['studentid']==row['sid']].index[0],'use_table'], axis=1)\n",
    "data['use_graph'] = data.apply(lambda row: use_wrapper_df.loc[use_wrapper_df[use_wrapper_df['studentid']==row['sid']].index[0],'use_graph'], axis=1)\n",
    "data[['use_table','use_graph']].describe()"
   ]
  },
  {
   "cell_type": "markdown",
   "metadata": {},
   "source": [
    "Everyone uses the table once and 85% use the graph once. We may want to do the analysis only with students who used the graph"
   ]
  },
  {
   "cell_type": "markdown",
   "metadata": {},
   "source": [
    "## Adding pre-survey data"
   ]
  },
  {
   "cell_type": "code",
   "execution_count": null,
   "metadata": {},
   "outputs": [],
   "source": [
    "pre_survey_df.columns"
   ]
  },
  {
   "cell_type": "code",
   "execution_count": null,
   "metadata": {},
   "outputs": [],
   "source": [
    "data['level_experience_sims'] = data.apply(lambda row: pre_survey_df.loc[pre_survey_df[pre_survey_df['sid']==row['sid']].index[0],'prior_number_virtual_labs'], axis=1)\n",
    "# data['experience_undergrad_labs'] = data.apply(lambda row: pre_survey_df.loc[pre_survey_df[pre_survey_df['sid']==row['sid']].index[0],'experience_undergrad_labs'], axis=1)\n",
    "data['used_similar_sim_L'] = data[data['sim']=='L'].apply(lambda row: pre_survey_df.loc[pre_survey_df[pre_survey_df['sid']==row['sid']].index[0],'similar_L'],axis=1)\n",
    "data['used_similar_sim_L'].fillna(0, inplace=True)\n",
    "data['used_similar_sim_C'] = data[data['sim']=='C'].apply(lambda row: pre_survey_df.loc[pre_survey_df[pre_survey_df['sid']==row['sid']].index[0],'similar_C'],axis=1)\n",
    "data['used_similar_sim_C'].fillna(0, inplace=True)\n",
    "data['used_similar_sim'] = data['used_similar_sim_L'] + data['used_similar_sim_C']"
   ]
  },
  {
   "cell_type": "markdown",
   "metadata": {},
   "source": [
    "We add a \"CVS_levels\" column to our data (graph=2, table=1, none=0)"
   ]
  },
  {
   "cell_type": "code",
   "execution_count": null,
   "metadata": {},
   "outputs": [],
   "source": [
    "data['CVS_levels_2']=0\n",
    "data['CVS_levels_3']=0\n",
    "data['CVS_levels_4']=0\n",
    "data['CVS_levels_5']=0\n",
    "# data['CVS_table_only'] = data.apply(lambda row: row['CVS_table']*(1-row['CVS_graph']), axis = 1)\n",
    "data['CVS_levels_2']=data['CVS_table_2']+data['CVS_graph_2']\n",
    "data['CVS_levels_3']=data['CVS_table_3']+data['CVS_graph_3']\n",
    "data['CVS_levels_4']=data['CVS_table_4']+data['CVS_graph_4']\n",
    "data['CVS_levels_5']=data['CVS_table_5']+data['CVS_graph_5']\n",
    "print data[(data['CVS_table_2']==0)&(data['CVS_graph_2']==1)].shape\n",
    "print data[(data['CVS_table_3']==0)&(data['CVS_graph_3']==1)].shape\n",
    "print data[(data['CVS_table_4']==0)&(data['CVS_graph_4']==1)].shape\n",
    "print data[(data['CVS_table_5']==0)&(data['CVS_graph_5']==1)].shape"
   ]
  },
  {
   "cell_type": "code",
   "execution_count": null,
   "metadata": {},
   "outputs": [],
   "source": [
    "data.sort_values('sid').head(12)"
   ]
  },
  {
   "cell_type": "code",
   "execution_count": null,
   "metadata": {},
   "outputs": [],
   "source": [
    "data.hist()"
   ]
  },
  {
   "cell_type": "markdown",
   "metadata": {},
   "source": [
    "## Exporting the data"
   ]
  },
  {
   "cell_type": "code",
   "execution_count": null,
   "metadata": {},
   "outputs": [],
   "source": [
    "# export_data = data[[\"sid\",\"variable\",\"pre\",\"main\",\"sim\",\"CVS_graph\",\"sim_index\"]]\n",
    "export_data = data.copy()\n",
    "export_data.to_csv('dataframe_all_factors_by_student_x_variable.csv')"
   ]
  },
  {
   "cell_type": "markdown",
   "metadata": {
    "hideCode": true,
    "hidePrompt": true
   },
   "source": [
    "## Stats tools and multicollinearity check"
   ]
  },
  {
   "cell_type": "code",
   "execution_count": null,
   "metadata": {
    "hideCode": true,
    "hidePrompt": true
   },
   "outputs": [],
   "source": [
    "def eta_squared(aov):\n",
    "    aov['eta_sq'] = 'NaN'\n",
    "    aov['eta_sq'] = aov[:-1]['sum_sq']/sum(aov['sum_sq'])\n",
    "    return aov\n",
    " \n",
    "def omega_squared(aov):\n",
    "    mse = aov['sum_sq'][-1]/aov['df'][-1]\n",
    "    aov['omega_sq'] = 'NaN'\n",
    "    aov['omega_sq'] = (aov[:-1]['sum_sq']-(aov[:-1]['df']*mse))/(sum(aov['sum_sq'])+mse)\n",
    "    return aov\n",
    "\n",
    "def clean_summary(model):\n",
    "    m = model.summary()\n",
    "    lines = m.as_text().split('\\n')\n",
    "    lines = [l for l in lines if 'C(sid)' not in l]\n",
    "    return '\\n'.join(lines)"
   ]
  },
  {
   "cell_type": "markdown",
   "metadata": {
    "hideCode": true,
    "hidePrompt": true
   },
   "source": [
    "# Results to present in methods\n",
    "## Student population"
   ]
  },
  {
   "cell_type": "code",
   "execution_count": null,
   "metadata": {
    "hideCode": true,
    "hidePrompt": true
   },
   "outputs": [],
   "source": [
    "N = len(set(data['sid']))\n",
    "print \"The study includes {0} students\".format(N)"
   ]
  },
  {
   "cell_type": "code",
   "execution_count": null,
   "metadata": {
    "hideCode": true,
    "hidePrompt": true
   },
   "outputs": [],
   "source": [
    "posts = get_all_posts_surveys()\n",
    "genders = ['gender','[gender] To which gender do you most identify? [Man]','[gender] To which gender do you most identify? [Gender non conforming/non-binary]','[gender] To which gender do you most identify? [Trans*]','[gender] To which gender do you most identify? [Rather specify:]','[gender] To which gender do you most identify? [Rather specify:] [text]','[gender] To which gender do you most identify? [Prefer not to answer]']\n",
    "for g in genders:\n",
    "    if '?' in g:\n",
    "        gender = g.split('?')[1]\n",
    "    else:\n",
    "        gender = ' [Woman]'\n",
    "    print gender, len(set(posts[posts[g]==1]['sid'])), round(len(set(posts[posts[g]==1]['sid']))/float(N)*100,1)"
   ]
  },
  {
   "cell_type": "markdown",
   "metadata": {
    "hideCode": true,
    "hidePrompt": true
   },
   "source": [
    "## Student prior experience"
   ]
  },
  {
   "cell_type": "code",
   "execution_count": null,
   "metadata": {},
   "outputs": [],
   "source": [
    "pd.pivot_table(data, values=['level_experience_sims'], index=['sid'],aggfunc=sum)[['level_experience_sims']].hist()\n",
    "print '''where:\n",
    " 0 -> None\n",
    " 1 -> 1-2 (roughly)\n",
    " 2 -> 3-5 (roughly)\n",
    " 3 -> 6+ (roughly)'''"
   ]
  },
  {
   "cell_type": "code",
   "execution_count": null,
   "metadata": {
    "hideCode": true,
    "hidePrompt": true
   },
   "outputs": [],
   "source": [
    "# print  'experience in virtual labs teaching light absorbance or capacitors before'\n",
    "print data[['used_similar_sim_C','used_similar_sim_L']].describe()\n",
    "pd.pivot_table(data, values=['used_similar_sim_C','used_similar_sim_L'], index=['sid'],aggfunc=np.sum)[['used_similar_sim_C','used_similar_sim_L']].hist(sharey=True)"
   ]
  },
  {
   "cell_type": "code",
   "execution_count": null,
   "metadata": {
    "code_folding": [
     0
    ]
   },
   "outputs": [],
   "source": [
    "pd.pivot_table(data, values=['sid'], index=['sim_index','variable'],aggfunc=len)"
   ]
  },
  {
   "cell_type": "markdown",
   "metadata": {
    "hideCode": true,
    "hidePrompt": true
   },
   "source": [
    "# Learning through inquiry\n",
    "## Overall"
   ]
  },
  {
   "cell_type": "markdown",
   "metadata": {
    "hideCode": true,
    "hidePrompt": true
   },
   "source": [
    "Let's look at pre to post to see if students learn.\n",
    "\n",
    "-> repeat stacked bar chart from worksheet data connector\n"
   ]
  },
  {
   "cell_type": "markdown",
   "metadata": {},
   "source": [
    "### Descriptives\n",
    "\\# of statments per type if student CSV\n",
    "(pivot table)"
   ]
  },
  {
   "cell_type": "code",
   "execution_count": null,
   "metadata": {},
   "outputs": [],
   "source": [
    "d = pd.pivot_table(data, values=['pre','main'], index=['variable','CVS_levels_3'],aggfunc=(len,np.mean, np.std))\n",
    "# e= pd.pivot_table(data, values=['pre','main'], index=['variable','CVS_graph_3'],aggfunc=(np.mean, np.std))\n",
    "d"
   ]
  },
  {
   "cell_type": "markdown",
   "metadata": {
    "hideCode": true,
    "hidePrompt": true
   },
   "source": [
    "# Does using strategy help student make model?"
   ]
  },
  {
   "cell_type": "markdown",
   "metadata": {
    "hideCode": true,
    "hidePrompt": true
   },
   "source": [
    "## Using different levels of CVS and model statements"
   ]
  },
  {
   "cell_type": "markdown",
   "metadata": {},
   "source": [
    "We have 10 independant variables:\n",
    "* sim_index\n",
    "* sim\n",
    "* variable\n",
    "* level_experience_sims\n",
    "* experience_undergrad_labs\n",
    "* used_similar_sim\n",
    "* CVS_context\n",
    "* has_pre_id\n",
    "* has_pre_qual\n",
    "* has_pre_quant\n",
    "\n",
    "And 3 dependant:\n",
    "* has_main_id\n",
    "* has_main_qual\n",
    "* has_main_quant\n",
    "\n",
    "\n",
    "*NOTE:* we don't include variable and sim in the same model"
   ]
  },
  {
   "cell_type": "markdown",
   "metadata": {},
   "source": [
    "## Using different levels of CVS and model correctness"
   ]
  },
  {
   "cell_type": "markdown",
   "metadata": {},
   "source": [
    "We have 8 control variables:\n",
    "* sim_index\n",
    "* sim\n",
    "* variable\n",
    "* level_experience_sims\n",
    "* experience_undergrad_labs\n",
    "* used_similar_sim\n",
    "* CVS_context\n",
    "* pre_id_corr\n",
    "* pre_qual_corr\n",
    "* pre_quant_corr\n",
    "\n",
    "and 3 dependant:\n",
    "* main_id_corr\n",
    "* main_qual_corr\n",
    "* main_quant_corr\n",
    "\n",
    "\n",
    "*NOTE:* we don't include variable and sim in the same model"
   ]
  },
  {
   "cell_type": "markdown",
   "metadata": {},
   "source": [
    "We first remove students with max pre for a certain variable"
   ]
  },
  {
   "cell_type": "code",
   "execution_count": null,
   "metadata": {},
   "outputs": [],
   "source": [
    "print data.shape\n",
    "filtered_maxpre_data = data.copy()\n",
    "filtered_maxpre_data = filtered_maxpre_data[filtered_maxpre_data['pre']<3]\n",
    "#remove student who didn't do CVS-explore for 2 variables\n",
    "print filtered_maxpre_data.shape\n",
    "# print filtered_maxpre_data.describe()\n",
    "filtered_maxpre_data = filtered_maxpre_data[(filtered_maxpre_data['sid']!= 11384795)|(filtered_maxpre_data['variable'].isin(['Width','Concentration']))]\n",
    "# print filtered_maxpre_data[filtered_maxpre_data['sid']==11384795]\n",
    "# filtered_maxpre_data = filtered_maxpre_data[(filtered_maxpre_data['sid']!= 11384795)&(filtered_maxpre_data['variable']=='Separation')]\n",
    "print filtered_maxpre_data.shape\n",
    "# print filtered_maxpre_data.describe()"
   ]
  },
  {
   "cell_type": "code",
   "execution_count": null,
   "metadata": {},
   "outputs": [],
   "source": []
  },
  {
   "cell_type": "code",
   "execution_count": null,
   "metadata": {},
   "outputs": [],
   "source": [
    "# covariates_for_interaction_model = \" + sim_index + C(sid) + level_experience_sims + experience_undergrad_labs + used_similar_sim\"\n",
    "covariates_for_parsimonious_model = \"+ variable + pre + sim_index + C(sid) + level_experience_sims + used_similar_sim\""
   ]
  },
  {
   "cell_type": "code",
   "execution_count": null,
   "metadata": {
    "scrolled": false
   },
   "outputs": [],
   "source": [
    "formula = 'main ~ C(CVS_levels_3) '+ covariates_for_parsimonious_model\n",
    "model = ols(formula, filtered_maxpre_data).fit()\n",
    "print \"\\n\\nModel: \",formula\n",
    "aov_table = anova_lm(model, typ=3)\n",
    "eta_squared(aov_table)\n",
    "omega_squared(aov_table)\n",
    "print \"\\nAnova table using type 3\\n\"\n",
    "print(aov_table)\n",
    "print \"\\nHere is the linear model with coefficients and confidence intervals (removed stats for individual student ids):\\n\"\n",
    "print clean_summary(model)"
   ]
  },
  {
   "cell_type": "code",
   "execution_count": null,
   "metadata": {},
   "outputs": [],
   "source": [
    "# aov_table = aov_table.round({'F': 2,'eta_sq':2})\n",
    "# print tabulate(aov_table[['F','PR(>F)','eta_sq']].sort_values('F',ascending =False),tablefmt='latex')\n",
    "aov_table = aov_table.round({'F': 2, 'PR(>F)': 2,'eta_sq':2})\n",
    "print tabulate(aov_table[['F','PR(>F)','eta_sq']].sort_values('F',ascending =False),tablefmt='latex')"
   ]
  },
  {
   "cell_type": "code",
   "execution_count": null,
   "metadata": {},
   "outputs": [],
   "source": [
    "# print(model.summary().as_latex())"
   ]
  },
  {
   "cell_type": "markdown",
   "metadata": {},
   "source": [
    "## Sensitivity analysis on CVS criteria using BIC"
   ]
  },
  {
   "cell_type": "code",
   "execution_count": null,
   "metadata": {
    "scrolled": true
   },
   "outputs": [],
   "source": [
    "# for CVS in ['CVS_levels_2','CVS_levels_3','CVS_levels_4','CVS_levels_5']:\n",
    "#     formula = 'main ~ C('+CVS+')' + covariates_for_parsimonious_model\n",
    "#     model = ols(formula, filtered_maxpre_data).fit()\n",
    "#     print \"\\n\\nModel: \",formula\n",
    "#     aov_table = anova_lm(model, typ=3)\n",
    "#     eta_squared(aov_table)\n",
    "#     omega_squared(aov_table)\n",
    "#     print \"\\nAnova table using type 3\\n\"\n",
    "#     print(aov_table)\n",
    "#     print \"\\nHere is the linear model with coefficients and confidence intervals (removed stats for individual student ids):\\n\"\n",
    "#     print clean_summary(model)"
   ]
  },
  {
   "cell_type": "markdown",
   "metadata": {},
   "source": [
    "These results were produced using AOV of linear regression with Type III SS\n",
    "\n",
    "We think a threshold of 3 pts is stricks a balance between 1) measuring more deliberatness than 2 pts and 2) it is less stringent than using more points.\n",
    "\n",
    "Here are the AIC and BIC of the models (lower means better model controlling for number of parameters)\n",
    "\n",
    "\n",
    "    no interactions\n",
    "    #pts\tR^2\n",
    "    2\t\t0.449\n",
    "    3\t\t0.447\n",
    "    4\t\t0.443\n",
    "    5\t\t0.428\n",
    "\n",
    "None of these models are drastically different from each other, thought 5pts is definitely the worst\n",
    "\n",
    "We pick #pts = 3 and call it a day"
   ]
  },
  {
   "cell_type": "code",
   "execution_count": null,
   "metadata": {},
   "outputs": [],
   "source": [
    "results = [['Threshold','Concentration ','Width ','Area ','Separation','$R^2$']]\n",
    "for t,r in zip([2,3,4,5],[0.449,0.447,0.443,0.428]):\n",
    "    res = [t]\n",
    "    res.extend([round(sum(data[data['variable']==v]['CVS_graph_'+str(t)])/float(N),2) for v in ['Concentration','Width','Area','Separation']])\n",
    "    res.append(r)\n",
    "    results.append(res)\n",
    "print tabulate(results,tablefmt='latex')"
   ]
  },
  {
   "cell_type": "markdown",
   "metadata": {},
   "source": [
    "### Models per variable"
   ]
  },
  {
   "cell_type": "code",
   "execution_count": null,
   "metadata": {},
   "outputs": [],
   "source": [
    "per_variable = pd.pivot_table(filtered_maxpre_data, values=['main'], index=['variable','CVS_levels_3'],aggfunc=(np.mean))\n",
    "per_variable.plot(kind='bar')\n",
    "print \"This plot needs to be redone with standard deviation bars and organized by sim, colored by level\""
   ]
  },
  {
   "cell_type": "code",
   "execution_count": null,
   "metadata": {},
   "outputs": [],
   "source": [
    "covariates_for_variable_models = \" + pre + sim_index + level_experience_sims + used_similar_sim + use_graph\""
   ]
  },
  {
   "cell_type": "code",
   "execution_count": null,
   "metadata": {
    "hideCode": true,
    "hidePrompt": true,
    "scrolled": false
   },
   "outputs": [],
   "source": [
    "for variable in ['Width', 'Concentration','Area','Separation']:\n",
    "    print \"__________________________________\\nFOR VARIABLE \", variable, '\\n__________________________________'\n",
    "    formula = 'main ~ C(CVS_levels_3)' + covariates_for_variable_models\n",
    "    model = ols(formula, filtered_maxpre_data[filtered_maxpre_data['variable']==variable]).fit()\n",
    "    print \"\\n\\nModel: \",formula\n",
    "    aov_table = anova_lm(model, typ=3)\n",
    "    eta_squared(aov_table)\n",
    "    omega_squared(aov_table)\n",
    "    print \"\\nAnova table using type 3 errors\\n\"\n",
    "    print(aov_table)\n",
    "#     print \"\\nHere is the linear model with coefficients and confidence intervals:\\n\"\n",
    "    print clean_summary(model)"
   ]
  },
  {
   "cell_type": "markdown",
   "metadata": {},
   "source": [
    "### A closer look at CVS graph with inverse scale for Separation"
   ]
  },
  {
   "cell_type": "code",
   "execution_count": null,
   "metadata": {},
   "outputs": [],
   "source": [
    "graph_inverse_cvs_df = pd.read_csv('graph_inverse_cvs_df.txt', sep='\\t')\n",
    "graph_inverse_cvs_df['used_inverse_separation']=graph_inverse_cvs_df['Separation']>3\n",
    "graph_inverse_cvs_df['sid']=graph_inverse_cvs_df['studentid']"
   ]
  },
  {
   "cell_type": "code",
   "execution_count": null,
   "metadata": {},
   "outputs": [],
   "source": [
    "variable ='Separation'\n",
    "temp = filtered_maxpre_data[filtered_maxpre_data['variable']==variable]\n",
    "separation_data = temp.merge(graph_inverse_cvs_df, on=['sid'], how='inner')\n",
    "print \"__________________________________\\nFOR VARIABLE \", variable, '\\n__________________________________'\n",
    "formula = 'main ~ C(CVS_levels_3)*used_inverse_separation' + covariates_for_variable_models\n",
    "model = ols(formula, separation_data).fit()\n",
    "print \"\\n\\nModel: \",formula\n",
    "aov_table = anova_lm(model, typ=3)\n",
    "eta_squared(aov_table)\n",
    "omega_squared(aov_table)\n",
    "print \"\\nAnova table using type 3 errors\\n\"\n",
    "print(aov_table)\n",
    "#     print \"\\nHere is the linear model with coefficients and confidence intervals:\\n\"\n",
    "print clean_summary(model)"
   ]
  },
  {
   "cell_type": "code",
   "execution_count": null,
   "metadata": {},
   "outputs": [],
   "source": [
    "separation_data[(separation_data['CVS_levels_3']==2)&(separation_data['used_inverse_separation']==False)]['main'].unique()"
   ]
  },
  {
   "cell_type": "code",
   "execution_count": null,
   "metadata": {},
   "outputs": [],
   "source": [
    "fig,ax = plt.subplots(nrows=1,ncols=3,figsize=(15,5))\n",
    "sns.countplot(data=separation_data[(separation_data['main']!=0)&(separation_data['CVS_levels_3']!=2)],y='main',ax=ax[0],label='main score',color='blue',alpha=0.7);\n",
    "sns.countplot(data=separation_data[(separation_data['main']!=0)&(separation_data['CVS_levels_3']==2)&(separation_data['used_inverse_separation']==False)],y='main',ax=ax[1],label='main score',color='blue',alpha=0.7);\n",
    "sns.countplot(data=separation_data[(separation_data['main']!=0)&(separation_data['CVS_levels_3']==2)&(separation_data['used_inverse_separation']==True)],y='main',ax=ax[2],label='main score',color='blue',alpha=0.7);\n",
    "ax[0].set(xlabel='Number of students')\n",
    "ax[1].set(xlabel='Number of students')\n",
    "ax[2].set(xlabel='Number of students')\n",
    "ax[0].set(ylabel='main score if didn\\'t do CVS graph')\n",
    "ax[1].set(ylabel='main score if did CVS graph')\n",
    "ax[2].set(ylabel='main score if did CVS graph with inverse scale')\n",
    "ax[0].set(yticklabels = ['Identify','Qualitative','Quantitative'])\n",
    "ax[1].set(yticklabels = ['','','',''])\n",
    "ax[2].set(yticklabels = ['','','',''])\n",
    "ax[0].set(xlim=(0,60))\n",
    "ax[1].set(xlim=(0,60))\n",
    "ax[2].set(xlim=(0,60))\n",
    "print \"I removed the students with 'all incorrect/None' main score\""
   ]
  },
  {
   "cell_type": "markdown",
   "metadata": {},
   "source": [
    "## Post-hoc analysis on levels using 3pts as threshold"
   ]
  },
  {
   "cell_type": "code",
   "execution_count": null,
   "metadata": {
    "scrolled": false
   },
   "outputs": [],
   "source": [
    "for ignore in [0,1,2]:\n",
    "    formula = 'main ~ C(CVS_levels_3)' + covariates_for_parsimonious_model\n",
    "    model = ols(formula, filtered_maxpre_data[filtered_maxpre_data[CVS]!=ignore]).fit()\n",
    "    print \"\\n\\nModel: \",formula\n",
    "    print \"Comparing CVS levels ignoring level \",ignore\n",
    "    aov_table = anova_lm(model, typ=3)\n",
    "    eta_squared(aov_table)\n",
    "    omega_squared(aov_table)\n",
    "    print \"\\nAnova table using type 3 errors\\n\"\n",
    "    print(aov_table)\n",
    "    print clean_summary(model)"
   ]
  },
  {
   "cell_type": "code",
   "execution_count": null,
   "metadata": {},
   "outputs": [],
   "source": [
    "levels = pd.pivot_table(filtered_maxpre_data, values=['main'], index=['CVS_levels_3'],aggfunc=np.mean)\n",
    "levels.plot(kind='barh')\n",
    "print \"This plot needs to be redone with standard deviation bars and colored by level and stars given the tests above\"\n",
    "print '0-1 => -'\n",
    "print '1-2 => *'\n",
    "print '0-2 => ***'"
   ]
  },
  {
   "cell_type": "code",
   "execution_count": null,
   "metadata": {},
   "outputs": [],
   "source": [
    "fig,ax = plt.subplots(nrows=1,ncols=3,figsize=(12,5))\n",
    "for N in [0,1,2]:\n",
    "    sns.countplot(data=filtered_maxpre_data[(filtered_maxpre_data['CVS_levels_3']==N)],y='main',ax=ax[N],label=str(N),color='blue',alpha=0.7);\n",
    "    ax[N].set(ylabel='')\n",
    "    ax[N].set(xlabel='')\n",
    "    ax[N].set(yticklabels = ['','','',''])\n",
    "    ax[N].set(xlim=(0,180))\n",
    "ax[0].set(ylabel='main score')\n",
    "ax[1].set(xlabel='Number of students')\n",
    "ax[0].set(yticklabels = ['None-all incorrect','Identify','Qualitative','Quantitative']);"
   ]
  },
  {
   "cell_type": "code",
   "execution_count": null,
   "metadata": {},
   "outputs": [],
   "source": [
    "fig,ax = plt.subplots(nrows=1,ncols=4,figsize=(12,5))\n",
    "for N,v in enumerate(['Separation',\"Area\",'Concentration','Width']):\n",
    "    sns.countplot(data=filtered_maxpre_data[(filtered_maxpre_data['main']>1)&(filtered_maxpre_data['CVS_levels_3']==2)&(filtered_maxpre_data['variable']==v)],y='main',ax=ax[N],label=str(N),color='blue',alpha=0.7);\n",
    "    ax[N].set(ylabel='')\n",
    "    ax[N].set(xlabel=v)\n",
    "    ax[N].set(yticklabels = ['','','',''])\n",
    "    ax[N].set(xlim=(0,50))\n",
    "ax[0].set(ylabel='main score')\n",
    "# ax[1].set(xlabel='Number of students')\n",
    "ax[0].set(yticklabels = ['Qualitative','Quantitative']);\n",
    "# [\"Area\",'Concentration','Separation','Width']"
   ]
  },
  {
   "cell_type": "markdown",
   "metadata": {},
   "source": [
    "### Post-hoc analysis on experience in physic undergraduate labs"
   ]
  },
  {
   "cell_type": "code",
   "execution_count": null,
   "metadata": {},
   "outputs": [],
   "source": [
    "# posthoc_exp_physics_labs = pd.pivot_table(data, values=['main'], index=['experience_undergrad_labs'],aggfunc=(np.mean))\n",
    "# posthoc_exp_physics_labs.plot(kind='bar')\n",
    "# print \"This plot needs to be redone with standard deviation bars and organized by sim, colored by level\""
   ]
  },
  {
   "cell_type": "markdown",
   "metadata": {},
   "source": [
    "### Post-hoc analysis on order"
   ]
  },
  {
   "cell_type": "code",
   "execution_count": null,
   "metadata": {},
   "outputs": [],
   "source": [
    "# posthoc_sim_index = pd.pivot_table(data, values=['main'], index=['sim_index'],aggfunc=(np.mean))\n",
    "# posthoc_sim_index.plot(kind='bar')\n",
    "# print \"This plot needs to be redone with standard deviation bars and organized by sim, colored by level\""
   ]
  },
  {
   "cell_type": "markdown",
   "metadata": {},
   "source": [
    "### Post-hoc analysis on variable"
   ]
  },
  {
   "cell_type": "code",
   "execution_count": null,
   "metadata": {},
   "outputs": [],
   "source": [
    "# posthoc_variable = pd.pivot_table(data, values=['main'], index=['variable'],aggfunc=(np.mean))\n",
    "# posthoc_variable.plot(kind='bar')\n",
    "# print \"This plot needs to be redone with standard deviation bars and organized by sim, colored by level\""
   ]
  },
  {
   "cell_type": "markdown",
   "metadata": {
    "hideCode": true,
    "hidePrompt": true
   },
   "source": [
    "Findings:\n",
    "* CVS_levels=2 (graph) matters for all except Separation\n",
    "* Pre matters for all except Width"
   ]
  },
  {
   "cell_type": "markdown",
   "metadata": {},
   "source": [
    "## Repeat model for only student who use graph (85%)"
   ]
  },
  {
   "cell_type": "code",
   "execution_count": null,
   "metadata": {},
   "outputs": [],
   "source": [
    "formula = 'main ~ C(CVS_levels_3)' + covariates_for_parsimonious_model\n",
    "model = ols(formula, filtered_maxpre_data[(filtered_maxpre_data[CVS]!=0)&(filtered_maxpre_data['use_graph']==1)]).fit()\n",
    "print \"\\n\\nModel: \",formula\n",
    "aov_table = anova_lm(model, typ=3)\n",
    "eta_squared(aov_table)\n",
    "omega_squared(aov_table)\n",
    "print \"\\nAnova table using type 3 errors\\n\"\n",
    "print(aov_table)\n",
    "print clean_summary(model)"
   ]
  },
  {
   "cell_type": "markdown",
   "metadata": {
    "hideCode": true,
    "hidePrompt": true
   },
   "source": [
    "# What affects use CVS-like inquiry strategies?"
   ]
  },
  {
   "cell_type": "markdown",
   "metadata": {
    "hideCode": true,
    "hideOutput": true,
    "hidePrompt": true
   },
   "source": [
    "For some reason adding students in the matric turns it into a singular matrix and fails the analysis. Probably because two students are exactly identical?"
   ]
  },
  {
   "cell_type": "markdown",
   "metadata": {
    "hideCode": true,
    "hidePrompt": true
   },
   "source": [
    "## Overall, how much do they use it?"
   ]
  },
  {
   "cell_type": "code",
   "execution_count": null,
   "metadata": {},
   "outputs": [],
   "source": [
    "data['CVS_table'] = data['CVS_table_3']\n",
    "data['CVS_graph'] = data['CVS_graph_3']\n",
    "sums = pd.pivot_table(data, values=['CVS_table','CVS_graph'], index=['sid'], aggfunc=np.sum)"
   ]
  },
  {
   "cell_type": "code",
   "execution_count": null,
   "metadata": {},
   "outputs": [],
   "source": [
    "print data.shape"
   ]
  },
  {
   "cell_type": "code",
   "execution_count": null,
   "metadata": {},
   "outputs": [],
   "source": [
    "for threshold in ['2','3','4','5']:\n",
    "    print '\\nFor CVs with {0} pts as a threshold'.format(threshold)\n",
    "    sums = pd.pivot_table(data, values=['CVS_table_'+threshold,'CVS_graph_'+threshold], index=['sid'], aggfunc=np.sum)\n",
    "    once = len(sums[sums['CVS_table_'+threshold]>0])/float(N)*100\n",
    "    all4 = len(sums[sums['CVS_table_'+threshold]==4])/float(N)*100\n",
    "    print \"   {0}% of students use CVS table once and {1}% do it for all variables.\".format(int(once),int(all4))\n",
    "    once = len(sums[sums['CVS_graph_'+threshold]>0])/float(N)*100\n",
    "    all4 = len(sums[sums['CVS_graph_'+threshold]==4])/float(N)*100\n",
    "    print \"   {0}% of students use CVS graph once and {1}% do it for all variables.\".format(int(once),int(all4))"
   ]
  },
  {
   "cell_type": "markdown",
   "metadata": {},
   "source": [
    "## Are they consistent in their usage of CVS graph?"
   ]
  },
  {
   "cell_type": "code",
   "execution_count": null,
   "metadata": {},
   "outputs": [],
   "source": [
    "sums2 = pd.pivot_table(data, values=['CVS_graph'], index=['sid','sim'], aggfunc=np.sum)\n",
    "sums2 = sums2.reset_index(level=['sim','sid'])\n",
    "# sums2.head()"
   ]
  },
  {
   "cell_type": "code",
   "execution_count": null,
   "metadata": {
    "hideCode": true,
    "hidePrompt": true
   },
   "outputs": [],
   "source": [
    "cvs_sim = np.zeros((3,3),dtype=int)\n",
    "for i in range(3):\n",
    "    for j in range(3):\n",
    "        cvs_sim[i,j] = len(set(sums2[(sums2['sim']=='C')&(sums2['CVS_graph']==i)]['sid'])&set(sums2[(sums2['sim']=='L')&(sums2['CVS_graph']==j)]['sid']))\n",
    "ax = sns.heatmap(np.flip(cvs_sim,0),annot=True, fmt=\"d\")\n",
    "ax.set_xticklabels(['0/2','1/2','2/2'])\n",
    "ax.set_yticklabels(['0/2','1/2','2/2'])\n",
    "plt.xlabel('Number of light absorbance variables')\n",
    "plt.ylabel('Number of Caps variables')\n",
    "plt.title('Map of student use of CVS in their graph for variables per simulation')"
   ]
  },
  {
   "cell_type": "markdown",
   "metadata": {
    "hideCode": true,
    "hidePrompt": true
   },
   "source": [
    "High usage is consistent. If they do CVS with 1 variable in one sim, they do it with 2 in the other (probaly second sim).We'll see how order makes a difference later."
   ]
  },
  {
   "cell_type": "markdown",
   "metadata": {
    "hideCode": true,
    "hidePrompt": true
   },
   "source": [
    "## What affects use of CVS\n",
    "### Model with interaction (killed)"
   ]
  },
  {
   "cell_type": "code",
   "execution_count": null,
   "metadata": {
    "hideCode": true,
    "hidePrompt": true
   },
   "outputs": [],
   "source": [
    "# formula = 'CVS_graph ~ pre*variable + sim_index*variable + pre*sim_index + level_experience_sims + experience_undergrad_labs + used_similar_sim'\n",
    "# print 'model: ', formula,'\\n'\n",
    "# from patsy import dmatrices\n",
    "# Y, X = dmatrices(formula, data, return_type = 'dataframe')\n",
    "# # print X.columns\n",
    "# logit = Logit(Y, X)\n",
    "# model = logit.fit()\n",
    "# print model.summary()\n",
    "# # note that stats model has no module for running an anova on a logistic regression model"
   ]
  },
  {
   "cell_type": "markdown",
   "metadata": {},
   "source": [
    "### Parismonious model"
   ]
  },
  {
   "cell_type": "code",
   "execution_count": null,
   "metadata": {},
   "outputs": [],
   "source": [
    "formula = 'CVS_graph ~ pre + variable + sim_index +level_experience_sims + experience_undergrad_labs + used_similar_sim'\n",
    "print 'model: ', formula,'\\n'\n",
    "from patsy import dmatrices\n",
    "Y, X = dmatrices(formula, data, return_type = 'dataframe')\n",
    "# print X.columns\n",
    "logit = Logit(Y, X)\n",
    "model = logit.fit()\n",
    "print model.summary()\n",
    "# aov_table = anova_lm(model)\n",
    "# eta_squared(aov_table)\n",
    "# omega_squared(aov_table)\n",
    "# # print \"\\nAnova table using type 2 errors\\n\"\n",
    "# print(aov_table)"
   ]
  },
  {
   "cell_type": "markdown",
   "metadata": {
    "hideCode": true,
    "hidePrompt": true
   },
   "source": [
    "In order of what affects CVS_graph most:\n",
    "* experience in undergraduate labs\n",
    "* order\n",
    "* prior knowledge\n",
    "\n",
    "Having used a similar sim doesn't matter, variable doesn't matter and sim doesn't matter.\n",
    "\n",
    "Experience in sims mattered before we included both physics and chem experience in labs"
   ]
  },
  {
   "cell_type": "code",
   "execution_count": null,
   "metadata": {},
   "outputs": [],
   "source": [
    "model.summary()"
   ]
  },
  {
   "cell_type": "code",
   "execution_count": null,
   "metadata": {},
   "outputs": [],
   "source": [
    "print model.summary().as_latex()"
   ]
  },
  {
   "cell_type": "markdown",
   "metadata": {},
   "source": [
    "### post hoc of experience in undergraduate labs"
   ]
  },
  {
   "cell_type": "code",
   "execution_count": null,
   "metadata": {},
   "outputs": [],
   "source": [
    "# cvs_exp = pd.pivot_table(data, values=['CVS_graph'], index=['experience_undergrad_labs'],aggfunc=(np.mean,np.std))\n",
    "# print \"Here is prob that they do CVS graph depending on the experience_undergrad_labs\"\n",
    "# cvs_exp['CVS_graph']['mean'].plot.bar(yerr=cvs_exp['CVS_graph']['std'])"
   ]
  },
  {
   "cell_type": "markdown",
   "metadata": {},
   "source": [
    "### post hoc of activity order"
   ]
  },
  {
   "cell_type": "code",
   "execution_count": null,
   "metadata": {},
   "outputs": [],
   "source": [
    "# cvs_exp = pd.pivot_table(data, values=['CVS_graph'], index=['sim_index'],aggfunc=(np.mean,np.std))\n",
    "# print \"Here is prob that they do CVS graph depending on sim_index\"\n",
    "# cvs_exp['CVS_graph']['mean'].plot.bar(yerr=cvs_exp['CVS_graph']['std'])"
   ]
  },
  {
   "cell_type": "markdown",
   "metadata": {},
   "source": [
    "### post hoc of experience with sims"
   ]
  },
  {
   "cell_type": "code",
   "execution_count": null,
   "metadata": {},
   "outputs": [],
   "source": [
    "# cvs_exp = pd.pivot_table(data, values=['CVS_graph'], index=['level_experience_sims'],aggfunc=(np.mean,np.std))\n",
    "# print \"Here is prob that they do CVS graph depending on level_experience_sims\"\n",
    "# cvs_exp['CVS_graph']['mean'].plot.bar(yerr=cvs_exp['CVS_graph']['std'])\n",
    "# print '''where:\n",
    "#  0 -> None\n",
    "#  1 -> 1-2 (roughly)\n",
    "#  2 -> 3-5 (roughly)\n",
    "#  3 -> 6+ (roughly)'''"
   ]
  },
  {
   "cell_type": "markdown",
   "metadata": {},
   "source": [
    "### post hoc of pre"
   ]
  },
  {
   "cell_type": "code",
   "execution_count": null,
   "metadata": {},
   "outputs": [],
   "source": [
    "# cvs_pre = pd.pivot_table(data, values=['CVS_graph'], index=['pre'],aggfunc=(np.mean,np.std))\n",
    "# print \"Here is the avg pre score of students depending if they do CVS graph or not\"\n",
    "# cvs_pre['CVS_graph']['mean'].plot.bar(yerr=cvs_pre['CVS_graph']['std'])"
   ]
  },
  {
   "cell_type": "code",
   "execution_count": null,
   "metadata": {},
   "outputs": [],
   "source": []
  }
 ],
 "metadata": {
  "anaconda-cloud": {},
  "celltoolbar": "Hide code",
  "hide_code_all_hidden": true,
  "kernelspec": {
   "display_name": "Python 2",
   "language": "python",
   "name": "python2"
  },
  "language_info": {
   "codemirror_mode": {
    "name": "ipython",
    "version": 2
   },
   "file_extension": ".py",
   "mimetype": "text/x-python",
   "name": "python",
   "nbconvert_exporter": "python",
   "pygments_lexer": "ipython2",
   "version": "2.7.13"
  },
  "toc": {
   "nav_menu": {},
   "number_sections": true,
   "sideBar": false,
   "skip_h1_title": false,
   "toc_cell": false,
   "toc_position": {},
   "toc_section_display": "block",
   "toc_window_display": false
  }
 },
 "nbformat": 4,
 "nbformat_minor": 2
}
