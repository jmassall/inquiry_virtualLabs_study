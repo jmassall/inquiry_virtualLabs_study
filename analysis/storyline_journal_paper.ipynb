{
 "cells": [
  {
   "cell_type": "markdown",
   "metadata": {
    "hideCode": false,
    "hidePrompt": true
   },
   "source": [
    "This notebook organizes all the results in the \"analysis\" folder within a concrete storyline"
   ]
  },
  {
   "cell_type": "code",
   "execution_count": 1,
   "metadata": {
    "collapsed": false,
    "hideCode": false,
    "hidePrompt": true,
    "scrolled": true
   },
   "outputs": [
    {
     "data": {
      "text/html": [
       "<script>jQuery(function() {if (jQuery(\"body.notebook_app\").length == 0) { jQuery(\".input_area\").toggle(); jQuery(\".prompt\").toggle();}});</script>"
      ]
     },
     "metadata": {},
     "output_type": "display_data"
    }
   ],
   "source": [
    "from IPython.display import display\n",
    "from IPython.display import HTML\n",
    "import IPython.core.display as di\n",
    "\n",
    "# This line will hide code by default when the notebook is converted to HTML\n",
    "di.display_html('<script>jQuery(function() {if (jQuery(\"body.notebook_app\").length == 0) { jQuery(\".input_area\").toggle(); jQuery(\".prompt\").toggle();}});</script>', raw=True)"
   ]
  },
  {
   "cell_type": "code",
   "execution_count": 181,
   "metadata": {
    "collapsed": false,
    "hideCode": false,
    "hidePrompt": true
   },
   "outputs": [
    {
     "name": "stdout",
     "output_type": "stream",
     "text": [
      "The autoreload extension is already loaded. To reload it, use:\n",
      "  %reload_ext autoreload\n"
     ]
    }
   ],
   "source": [
    "%load_ext autoreload\n",
    "%autoreload 1\n",
    "%aimport utils_read_parsing\n",
    "from utils_read_parsing import *\n",
    "import numpy as np\n",
    "import matplotlib\n",
    "import matplotlib.pyplot as plt\n",
    "from tabulate import tabulate\n",
    "import seaborn as sns\n",
    "# from scipy.stats import ranksums\n",
    "# import statsmodels.api as sm\n",
    "# from statsmodels.formula.api import ols\n",
    "# from statsmodels.graphics.api import interaction_plot, abline_plot\n",
    "# from statsmodels.stats.anova import anova_lm\n",
    "from statsmodels.discrete.discrete_model import Logit\n",
    "\n",
    "%matplotlib inline\n",
    "matplotlib.style.use('ggplot')\n",
    "matplotlib.rcParams['figure.figsize'] = 7, 4\n",
    "pd.set_option('precision',3)\n",
    "pd.set_option(\"display.width\", 100)\n",
    "pd.set_option(\"max.columns\", 100)\n",
    "np.set_printoptions(precision=3,suppress=True)"
   ]
  },
  {
   "cell_type": "markdown",
   "metadata": {
    "hideCode": false,
    "hidePrompt": true
   },
   "source": [
    "# Preparing the data\n",
    "We wish to have a table that looks like:"
   ]
  },
  {
   "cell_type": "code",
   "execution_count": 3,
   "metadata": {
    "collapsed": false,
    "hideCode": false,
    "hidePrompt": true
   },
   "outputs": [
    {
     "name": "stdout",
     "output_type": "stream",
     "text": [
      "--------  ---  --------  -----  ------------  -----------  --------------  ------------  -----------  -------------  ----------\n",
      "sid       sim  variable  model  pre_statment  pre_correct  main_statement  main_correct  CVS_context  tansfer_quant  attributes\n",
      "12345678  C    Width     ident  1             1            0               NaN           2            1              ...\n",
      "12345678  C    Width     qual   0             NaN          1               0             2            0              ...\n",
      "12345678  C    Width     quant  0             NaN          0               NaN           2            0              ...\n",
      "--------  ---  --------  -----  ------------  -----------  --------------  ------------  -----------  -------------  ----------\n"
     ]
    }
   ],
   "source": [
    "t = [['sid','sim','variable','model','pre_statment','pre_correct','main_statement','main_correct','CVS_context','tansfer_quant','attributes']]\n",
    "t.append(['12345678','C','Width','ident','1','1','0','NaN','2',1,'...'])\n",
    "t.append(['12345678','C','Width','qual','0','NaN','1','0','2',0,'...'])\n",
    "t.append(['12345678','C','Width','quant','0','NaN','0','NaN','2',0,'...'])\n",
    "print tabulate(t)"
   ]
  },
  {
   "cell_type": "markdown",
   "metadata": {
    "hideCode": false,
    "hidePrompt": true
   },
   "source": [
    "## Defining important variables"
   ]
  },
  {
   "cell_type": "code",
   "execution_count": 4,
   "metadata": {
    "collapsed": false
   },
   "outputs": [
    {
     "name": "stdout",
     "output_type": "stream",
     "text": [
      "There are 148 students to analyze.\n"
     ]
    }
   ],
   "source": [
    "ids = get_students_to_analyze_log()\n",
    "N = len(ids)\n",
    "print \"There are {0} students to analyze.\".format(N)"
   ]
  },
  {
   "cell_type": "code",
   "execution_count": 5,
   "metadata": {
    "collapsed": false
   },
   "outputs": [
    {
     "name": "stdout",
     "output_type": "stream",
     "text": [
      "We are analyzing student knowledge and modeling of these variables: Area, Separation, Width, Concentration.\n"
     ]
    }
   ],
   "source": [
    "variables = [\"Area\",\"Separation\",\"Width\",\"Concentration\"]\n",
    "print \"We are analyzing student knowledge and modeling of these variables: {0}.\".format(', '.join(variables))"
   ]
  },
  {
   "cell_type": "code",
   "execution_count": 6,
   "metadata": {
    "collapsed": false
   },
   "outputs": [
    {
     "name": "stdout",
     "output_type": "stream",
     "text": [
      "We will be analyzing cvs where table_consecutive and table_non_consecutive are merged\n",
      "        and CVS is detected for 3 minimum trials.\n"
     ]
    }
   ],
   "source": [
    "merged = True\n",
    "number_of_trials = 3\n",
    "if merged:\n",
    "    print '''We will be analyzing cvs where table_consecutive and table_non_consecutive are merged\n",
    "        and CVS is detected for {0} minimum trials.'''.format(number_of_trials)\n",
    "else:\n",
    "    print '''We will be analyzing cvs where table_consecutive and table_non_consecutive are NOT merged\n",
    "        and CVS is detected for {0} minimum trials.'''.format(number_of_trials)"
   ]
  },
  {
   "cell_type": "markdown",
   "metadata": {},
   "source": [
    "## Loading all student data files"
   ]
  },
  {
   "cell_type": "code",
   "execution_count": 7,
   "metadata": {
    "collapsed": true
   },
   "outputs": [],
   "source": [
    "%reload_ext utils_read_parsing\n",
    "meta_df = get_student_metadata()\n",
    "pre_survey_df = get_massaged_pre_survey()\n",
    "post_survey_df = get_massaged_post_survey()\n",
    "attitudes_df = get_incoming_attitudes()\n",
    "worksheet_df = get_massaged_worksheet_model_data()\n",
    "cvs_df = get_cvs_results(number_of_trials,merged=merged)\n",
    "transfer_df = get_massaged_near_transfer_data()\n",
    "wrapper_use_df = get_use_wrapper_results().rename(columns={'studentid':'sid'})"
   ]
  },
  {
   "cell_type": "code",
   "execution_count": 8,
   "metadata": {
    "collapsed": true
   },
   "outputs": [],
   "source": [
    "#We only keep the worksheet data,CVS and transfer data for the variables we care about\n",
    "worksheet_df = worksheet_df[worksheet_df['variable'].isin(variables)]\n",
    "cvs_df = cvs_df[cvs_df['variable'].isin(variables)]\n",
    "transfer_df = transfer_df[transfer_df['variable'].isin(variables)]"
   ]
  },
  {
   "cell_type": "markdown",
   "metadata": {},
   "source": [
    "Here are the dataframes and their sizes:"
   ]
  },
  {
   "cell_type": "code",
   "execution_count": 9,
   "metadata": {
    "collapsed": false
   },
   "outputs": [
    {
     "name": "stdout",
     "output_type": "stream",
     "text": [
      "meta (180, 23)\n",
      "pre_survey (148, 24)\n",
      "post_survey (296, 70)\n",
      "worksheet (1776, 8)\n",
      "cvs (592, 3)\n",
      "transfer (592, 4)\n",
      "wrapper_use (148, 7)\n"
     ]
    }
   ],
   "source": [
    "print \"meta\", meta_df.shape\n",
    "print \"pre_survey\", pre_survey_df.shape\n",
    "print \"post_survey\", post_survey_df.shape\n",
    "print \"worksheet\", worksheet_df.shape\n",
    "print \"cvs\", cvs_df.shape\n",
    "print \"transfer\", transfer_df.shape\n",
    "print \"wrapper_use\", wrapper_use_df.shape"
   ]
  },
  {
   "cell_type": "markdown",
   "metadata": {},
   "source": [
    "## Putting it all together\n",
    "The worksheet dataframe is the most complex with 1 row for each combination of sid * variable * model so we merge other data onto it."
   ]
  },
  {
   "cell_type": "code",
   "execution_count": 159,
   "metadata": {
    "collapsed": true
   },
   "outputs": [],
   "source": [
    "data = worksheet_df.copy()\n",
    "data = data.merge(cvs_df, how='outer', on=['sid','variable']);\n",
    "data = data.merge(transfer_df, how='outer', on=['sid','variable']);\n",
    "data = data.merge(wrapper_use_df, how='outer', on=['sid']);"
   ]
  },
  {
   "cell_type": "code",
   "execution_count": 192,
   "metadata": {
    "collapsed": false
   },
   "outputs": [
    {
     "data": {
      "text/plain": [
       "{'0', '1', '2', 'table_random'}"
      ]
     },
     "execution_count": 192,
     "metadata": {},
     "output_type": "execute_result"
    }
   ],
   "source": [
    "set(data['CVS_context'])"
   ]
  },
  {
   "cell_type": "code",
   "execution_count": 160,
   "metadata": {
    "collapsed": false
   },
   "outputs": [],
   "source": [
    "## We add the student activity order\n",
    "order = dict(zip(meta_df.index,meta_df['activity order']))\n",
    "data['activity_order'] = data.sid.apply(lambda sid: order[sid])\n",
    "data['sim_index'] = data.apply(lambda row: row['activity_order'].index(row['sim'])+1,axis=1)"
   ]
  },
  {
   "cell_type": "markdown",
   "metadata": {},
   "source": [
    "We would like to use following student attributes from pre surveys in our stats models:\n",
    "* level of physics and chemistry lab experience\n",
    "* level of virtual lab experience\n",
    "* if they have used a similar sim before\n",
    "* perception of competence and control\n",
    "* task interpretation\n",
    "* perceived value"
   ]
  },
  {
   "cell_type": "code",
   "execution_count": 161,
   "metadata": {
    "collapsed": true
   },
   "outputs": [],
   "source": [
    "student_data_L = pd.DataFrame({'sid':ids,'sim':'L','similar_sim':0})\n",
    "student_data_C = pd.DataFrame({'sid':ids,'sim':'C','similar_sim':0})\n",
    "\n",
    "pre_survey_df['similar_same_L'] = (pre_survey_df['similar_L'] + pre_survey_df['same_L']).replace(2,1)\n",
    "pre_survey_df['similar_same_C'] = (pre_survey_df['similar_C'] + pre_survey_df['same_C']).replace(2,1)\n",
    "\n",
    "similar_same_L = dict(zip(pre_survey_df['sid'],pre_survey_df['similar_same_L']))\n",
    "similar_same_C = dict(zip(pre_survey_df['sid'],pre_survey_df['similar_same_C']))\n",
    "\n",
    "student_data_L['similar_sim'] = student_data_L['sid'].apply(lambda sid: similar_same_L[sid])\n",
    "student_data_C['similar_sim'] = student_data_C['sid'].apply(lambda sid: similar_same_C[sid])\n",
    "\n",
    "student_data = pd.concat([student_data_L,student_data_C],axis=0).reset_index(drop=True)"
   ]
  },
  {
   "cell_type": "code",
   "execution_count": 162,
   "metadata": {
    "collapsed": true
   },
   "outputs": [],
   "source": [
    "lab_columns = ['[prior_lab] What lab courses are you presently taking or have taken in the past? Check all that apply. [First year undergraduate physics laboratory]','[prior_lab] What lab courses are you presently taking or have taken in the past? Check all that apply. [First year undergraduate chemistry laboratory]','[prior_lab] What lab courses are you presently taking or have taken in the past? Check all that apply. [Higher level chemistry labs]']\n",
    "pre_survey_df['lab_experience'] = pre_survey_df[lab_columns].fillna(0).sum(axis=1).replace(3,1).replace(2,1)\n",
    "student_data = student_data.merge(pre_survey_df[['sid','lab_experience','prior_number_virtual_labs']], how=\"inner\", on=['sid']);\n",
    "student_data = student_data.merge(attitudes_df, how=\"inner\", on=['sid']);"
   ]
  },
  {
   "cell_type": "code",
   "execution_count": 163,
   "metadata": {
    "collapsed": true
   },
   "outputs": [],
   "source": [
    "data = data.merge(student_data, how=\"inner\", on = ['sid','sim'])"
   ]
  },
  {
   "cell_type": "markdown",
   "metadata": {},
   "source": [
    "And here is what are data for 1 student looks like:"
   ]
  },
  {
   "cell_type": "code",
   "execution_count": 164,
   "metadata": {
    "collapsed": false
   },
   "outputs": [
    {
     "data": {
      "text/html": [
       "<div>\n",
       "<table border=\"1\" class=\"dataframe\">\n",
       "  <thead>\n",
       "    <tr style=\"text-align: right;\">\n",
       "      <th></th>\n",
       "      <th>sid</th>\n",
       "      <th>sim</th>\n",
       "      <th>variable</th>\n",
       "      <th>model</th>\n",
       "      <th>pre_statement</th>\n",
       "      <th>pre_correct</th>\n",
       "      <th>main_statement</th>\n",
       "      <th>main_correct</th>\n",
       "      <th>CVS_context</th>\n",
       "      <th>qual_score</th>\n",
       "      <th>quant_score</th>\n",
       "      <th>use_table</th>\n",
       "      <th>use_graph</th>\n",
       "      <th>use_concentration</th>\n",
       "      <th>use_width</th>\n",
       "      <th>use_area</th>\n",
       "      <th>use_separation</th>\n",
       "      <th>activity_order</th>\n",
       "      <th>sim_index</th>\n",
       "      <th>similar_sim</th>\n",
       "      <th>lab_experience</th>\n",
       "      <th>prior_number_virtual_labs</th>\n",
       "      <th>overall POCC</th>\n",
       "      <th>PC1</th>\n",
       "      <th>PC2</th>\n",
       "    </tr>\n",
       "  </thead>\n",
       "  <tbody>\n",
       "    <tr>\n",
       "      <th>0</th>\n",
       "      <td>10127163</td>\n",
       "      <td>C</td>\n",
       "      <td>Area</td>\n",
       "      <td>ident</td>\n",
       "      <td>0.0</td>\n",
       "      <td>NaN</td>\n",
       "      <td>0.0</td>\n",
       "      <td>NaN</td>\n",
       "      <td>2</td>\n",
       "      <td>1.0</td>\n",
       "      <td>1.0</td>\n",
       "      <td>1</td>\n",
       "      <td>1</td>\n",
       "      <td>1</td>\n",
       "      <td>1</td>\n",
       "      <td>1</td>\n",
       "      <td>1</td>\n",
       "      <td>LC</td>\n",
       "      <td>2</td>\n",
       "      <td>0</td>\n",
       "      <td>1.0</td>\n",
       "      <td>1</td>\n",
       "      <td>17</td>\n",
       "      <td>-0.509</td>\n",
       "      <td>0.152</td>\n",
       "    </tr>\n",
       "    <tr>\n",
       "      <th>1</th>\n",
       "      <td>10127163</td>\n",
       "      <td>C</td>\n",
       "      <td>Area</td>\n",
       "      <td>qual</td>\n",
       "      <td>1.0</td>\n",
       "      <td>1.0</td>\n",
       "      <td>1.0</td>\n",
       "      <td>1.0</td>\n",
       "      <td>2</td>\n",
       "      <td>1.0</td>\n",
       "      <td>1.0</td>\n",
       "      <td>1</td>\n",
       "      <td>1</td>\n",
       "      <td>1</td>\n",
       "      <td>1</td>\n",
       "      <td>1</td>\n",
       "      <td>1</td>\n",
       "      <td>LC</td>\n",
       "      <td>2</td>\n",
       "      <td>0</td>\n",
       "      <td>1.0</td>\n",
       "      <td>1</td>\n",
       "      <td>17</td>\n",
       "      <td>-0.509</td>\n",
       "      <td>0.152</td>\n",
       "    </tr>\n",
       "    <tr>\n",
       "      <th>2</th>\n",
       "      <td>10127163</td>\n",
       "      <td>C</td>\n",
       "      <td>Area</td>\n",
       "      <td>quant</td>\n",
       "      <td>1.0</td>\n",
       "      <td>1.0</td>\n",
       "      <td>1.0</td>\n",
       "      <td>1.0</td>\n",
       "      <td>2</td>\n",
       "      <td>1.0</td>\n",
       "      <td>1.0</td>\n",
       "      <td>1</td>\n",
       "      <td>1</td>\n",
       "      <td>1</td>\n",
       "      <td>1</td>\n",
       "      <td>1</td>\n",
       "      <td>1</td>\n",
       "      <td>LC</td>\n",
       "      <td>2</td>\n",
       "      <td>0</td>\n",
       "      <td>1.0</td>\n",
       "      <td>1</td>\n",
       "      <td>17</td>\n",
       "      <td>-0.509</td>\n",
       "      <td>0.152</td>\n",
       "    </tr>\n",
       "    <tr>\n",
       "      <th>6</th>\n",
       "      <td>10127163</td>\n",
       "      <td>L</td>\n",
       "      <td>Concentration</td>\n",
       "      <td>ident</td>\n",
       "      <td>0.0</td>\n",
       "      <td>NaN</td>\n",
       "      <td>0.0</td>\n",
       "      <td>NaN</td>\n",
       "      <td>2</td>\n",
       "      <td>1.0</td>\n",
       "      <td>1.0</td>\n",
       "      <td>1</td>\n",
       "      <td>1</td>\n",
       "      <td>1</td>\n",
       "      <td>1</td>\n",
       "      <td>1</td>\n",
       "      <td>1</td>\n",
       "      <td>LC</td>\n",
       "      <td>1</td>\n",
       "      <td>0</td>\n",
       "      <td>1.0</td>\n",
       "      <td>1</td>\n",
       "      <td>17</td>\n",
       "      <td>-0.509</td>\n",
       "      <td>0.152</td>\n",
       "    </tr>\n",
       "    <tr>\n",
       "      <th>7</th>\n",
       "      <td>10127163</td>\n",
       "      <td>L</td>\n",
       "      <td>Concentration</td>\n",
       "      <td>qual</td>\n",
       "      <td>1.0</td>\n",
       "      <td>0.0</td>\n",
       "      <td>1.0</td>\n",
       "      <td>1.0</td>\n",
       "      <td>2</td>\n",
       "      <td>1.0</td>\n",
       "      <td>1.0</td>\n",
       "      <td>1</td>\n",
       "      <td>1</td>\n",
       "      <td>1</td>\n",
       "      <td>1</td>\n",
       "      <td>1</td>\n",
       "      <td>1</td>\n",
       "      <td>LC</td>\n",
       "      <td>1</td>\n",
       "      <td>0</td>\n",
       "      <td>1.0</td>\n",
       "      <td>1</td>\n",
       "      <td>17</td>\n",
       "      <td>-0.509</td>\n",
       "      <td>0.152</td>\n",
       "    </tr>\n",
       "    <tr>\n",
       "      <th>8</th>\n",
       "      <td>10127163</td>\n",
       "      <td>L</td>\n",
       "      <td>Concentration</td>\n",
       "      <td>quant</td>\n",
       "      <td>0.0</td>\n",
       "      <td>NaN</td>\n",
       "      <td>1.0</td>\n",
       "      <td>1.0</td>\n",
       "      <td>2</td>\n",
       "      <td>1.0</td>\n",
       "      <td>1.0</td>\n",
       "      <td>1</td>\n",
       "      <td>1</td>\n",
       "      <td>1</td>\n",
       "      <td>1</td>\n",
       "      <td>1</td>\n",
       "      <td>1</td>\n",
       "      <td>LC</td>\n",
       "      <td>1</td>\n",
       "      <td>0</td>\n",
       "      <td>1.0</td>\n",
       "      <td>1</td>\n",
       "      <td>17</td>\n",
       "      <td>-0.509</td>\n",
       "      <td>0.152</td>\n",
       "    </tr>\n",
       "    <tr>\n",
       "      <th>3</th>\n",
       "      <td>10127163</td>\n",
       "      <td>C</td>\n",
       "      <td>Separation</td>\n",
       "      <td>ident</td>\n",
       "      <td>0.0</td>\n",
       "      <td>NaN</td>\n",
       "      <td>0.0</td>\n",
       "      <td>NaN</td>\n",
       "      <td>2</td>\n",
       "      <td>1.0</td>\n",
       "      <td>1.0</td>\n",
       "      <td>1</td>\n",
       "      <td>1</td>\n",
       "      <td>1</td>\n",
       "      <td>1</td>\n",
       "      <td>1</td>\n",
       "      <td>1</td>\n",
       "      <td>LC</td>\n",
       "      <td>2</td>\n",
       "      <td>0</td>\n",
       "      <td>1.0</td>\n",
       "      <td>1</td>\n",
       "      <td>17</td>\n",
       "      <td>-0.509</td>\n",
       "      <td>0.152</td>\n",
       "    </tr>\n",
       "    <tr>\n",
       "      <th>4</th>\n",
       "      <td>10127163</td>\n",
       "      <td>C</td>\n",
       "      <td>Separation</td>\n",
       "      <td>qual</td>\n",
       "      <td>1.0</td>\n",
       "      <td>1.0</td>\n",
       "      <td>1.0</td>\n",
       "      <td>1.0</td>\n",
       "      <td>2</td>\n",
       "      <td>1.0</td>\n",
       "      <td>1.0</td>\n",
       "      <td>1</td>\n",
       "      <td>1</td>\n",
       "      <td>1</td>\n",
       "      <td>1</td>\n",
       "      <td>1</td>\n",
       "      <td>1</td>\n",
       "      <td>LC</td>\n",
       "      <td>2</td>\n",
       "      <td>0</td>\n",
       "      <td>1.0</td>\n",
       "      <td>1</td>\n",
       "      <td>17</td>\n",
       "      <td>-0.509</td>\n",
       "      <td>0.152</td>\n",
       "    </tr>\n",
       "    <tr>\n",
       "      <th>5</th>\n",
       "      <td>10127163</td>\n",
       "      <td>C</td>\n",
       "      <td>Separation</td>\n",
       "      <td>quant</td>\n",
       "      <td>1.0</td>\n",
       "      <td>1.0</td>\n",
       "      <td>1.0</td>\n",
       "      <td>1.0</td>\n",
       "      <td>2</td>\n",
       "      <td>1.0</td>\n",
       "      <td>1.0</td>\n",
       "      <td>1</td>\n",
       "      <td>1</td>\n",
       "      <td>1</td>\n",
       "      <td>1</td>\n",
       "      <td>1</td>\n",
       "      <td>1</td>\n",
       "      <td>LC</td>\n",
       "      <td>2</td>\n",
       "      <td>0</td>\n",
       "      <td>1.0</td>\n",
       "      <td>1</td>\n",
       "      <td>17</td>\n",
       "      <td>-0.509</td>\n",
       "      <td>0.152</td>\n",
       "    </tr>\n",
       "    <tr>\n",
       "      <th>9</th>\n",
       "      <td>10127163</td>\n",
       "      <td>L</td>\n",
       "      <td>Width</td>\n",
       "      <td>ident</td>\n",
       "      <td>0.0</td>\n",
       "      <td>NaN</td>\n",
       "      <td>0.0</td>\n",
       "      <td>NaN</td>\n",
       "      <td>2</td>\n",
       "      <td>1.0</td>\n",
       "      <td>1.0</td>\n",
       "      <td>1</td>\n",
       "      <td>1</td>\n",
       "      <td>1</td>\n",
       "      <td>1</td>\n",
       "      <td>1</td>\n",
       "      <td>1</td>\n",
       "      <td>LC</td>\n",
       "      <td>1</td>\n",
       "      <td>0</td>\n",
       "      <td>1.0</td>\n",
       "      <td>1</td>\n",
       "      <td>17</td>\n",
       "      <td>-0.509</td>\n",
       "      <td>0.152</td>\n",
       "    </tr>\n",
       "    <tr>\n",
       "      <th>10</th>\n",
       "      <td>10127163</td>\n",
       "      <td>L</td>\n",
       "      <td>Width</td>\n",
       "      <td>qual</td>\n",
       "      <td>1.0</td>\n",
       "      <td>0.0</td>\n",
       "      <td>1.0</td>\n",
       "      <td>1.0</td>\n",
       "      <td>2</td>\n",
       "      <td>1.0</td>\n",
       "      <td>1.0</td>\n",
       "      <td>1</td>\n",
       "      <td>1</td>\n",
       "      <td>1</td>\n",
       "      <td>1</td>\n",
       "      <td>1</td>\n",
       "      <td>1</td>\n",
       "      <td>LC</td>\n",
       "      <td>1</td>\n",
       "      <td>0</td>\n",
       "      <td>1.0</td>\n",
       "      <td>1</td>\n",
       "      <td>17</td>\n",
       "      <td>-0.509</td>\n",
       "      <td>0.152</td>\n",
       "    </tr>\n",
       "    <tr>\n",
       "      <th>11</th>\n",
       "      <td>10127163</td>\n",
       "      <td>L</td>\n",
       "      <td>Width</td>\n",
       "      <td>quant</td>\n",
       "      <td>0.0</td>\n",
       "      <td>NaN</td>\n",
       "      <td>1.0</td>\n",
       "      <td>1.0</td>\n",
       "      <td>2</td>\n",
       "      <td>1.0</td>\n",
       "      <td>1.0</td>\n",
       "      <td>1</td>\n",
       "      <td>1</td>\n",
       "      <td>1</td>\n",
       "      <td>1</td>\n",
       "      <td>1</td>\n",
       "      <td>1</td>\n",
       "      <td>LC</td>\n",
       "      <td>1</td>\n",
       "      <td>0</td>\n",
       "      <td>1.0</td>\n",
       "      <td>1</td>\n",
       "      <td>17</td>\n",
       "      <td>-0.509</td>\n",
       "      <td>0.152</td>\n",
       "    </tr>\n",
       "  </tbody>\n",
       "</table>\n",
       "</div>"
      ],
      "text/plain": [
       "         sid sim       variable  model  pre_statement  pre_correct  main_statement  main_correct  \\\n",
       "0   10127163   C           Area  ident            0.0          NaN             0.0           NaN   \n",
       "1   10127163   C           Area   qual            1.0          1.0             1.0           1.0   \n",
       "2   10127163   C           Area  quant            1.0          1.0             1.0           1.0   \n",
       "6   10127163   L  Concentration  ident            0.0          NaN             0.0           NaN   \n",
       "7   10127163   L  Concentration   qual            1.0          0.0             1.0           1.0   \n",
       "8   10127163   L  Concentration  quant            0.0          NaN             1.0           1.0   \n",
       "3   10127163   C     Separation  ident            0.0          NaN             0.0           NaN   \n",
       "4   10127163   C     Separation   qual            1.0          1.0             1.0           1.0   \n",
       "5   10127163   C     Separation  quant            1.0          1.0             1.0           1.0   \n",
       "9   10127163   L          Width  ident            0.0          NaN             0.0           NaN   \n",
       "10  10127163   L          Width   qual            1.0          0.0             1.0           1.0   \n",
       "11  10127163   L          Width  quant            0.0          NaN             1.0           1.0   \n",
       "\n",
       "   CVS_context  qual_score  quant_score  use_table  use_graph  use_concentration  use_width  \\\n",
       "0            2         1.0          1.0          1          1                  1          1   \n",
       "1            2         1.0          1.0          1          1                  1          1   \n",
       "2            2         1.0          1.0          1          1                  1          1   \n",
       "6            2         1.0          1.0          1          1                  1          1   \n",
       "7            2         1.0          1.0          1          1                  1          1   \n",
       "8            2         1.0          1.0          1          1                  1          1   \n",
       "3            2         1.0          1.0          1          1                  1          1   \n",
       "4            2         1.0          1.0          1          1                  1          1   \n",
       "5            2         1.0          1.0          1          1                  1          1   \n",
       "9            2         1.0          1.0          1          1                  1          1   \n",
       "10           2         1.0          1.0          1          1                  1          1   \n",
       "11           2         1.0          1.0          1          1                  1          1   \n",
       "\n",
       "    use_area  use_separation activity_order  sim_index  similar_sim  lab_experience  \\\n",
       "0          1               1             LC          2            0             1.0   \n",
       "1          1               1             LC          2            0             1.0   \n",
       "2          1               1             LC          2            0             1.0   \n",
       "6          1               1             LC          1            0             1.0   \n",
       "7          1               1             LC          1            0             1.0   \n",
       "8          1               1             LC          1            0             1.0   \n",
       "3          1               1             LC          2            0             1.0   \n",
       "4          1               1             LC          2            0             1.0   \n",
       "5          1               1             LC          2            0             1.0   \n",
       "9          1               1             LC          1            0             1.0   \n",
       "10         1               1             LC          1            0             1.0   \n",
       "11         1               1             LC          1            0             1.0   \n",
       "\n",
       "    prior_number_virtual_labs  overall POCC    PC1    PC2  \n",
       "0                           1            17 -0.509  0.152  \n",
       "1                           1            17 -0.509  0.152  \n",
       "2                           1            17 -0.509  0.152  \n",
       "6                           1            17 -0.509  0.152  \n",
       "7                           1            17 -0.509  0.152  \n",
       "8                           1            17 -0.509  0.152  \n",
       "3                           1            17 -0.509  0.152  \n",
       "4                           1            17 -0.509  0.152  \n",
       "5                           1            17 -0.509  0.152  \n",
       "9                           1            17 -0.509  0.152  \n",
       "10                          1            17 -0.509  0.152  \n",
       "11                          1            17 -0.509  0.152  "
      ]
     },
     "execution_count": 164,
     "metadata": {},
     "output_type": "execute_result"
    }
   ],
   "source": [
    "data.sort_values(['sid','variable','model']).head(12)"
   ]
  },
  {
   "cell_type": "markdown",
   "metadata": {},
   "source": [
    "## Exporting the data"
   ]
  },
  {
   "cell_type": "code",
   "execution_count": 165,
   "metadata": {
    "collapsed": true
   },
   "outputs": [],
   "source": [
    "export_data = data.copy()\n",
    "export_data.to_csv(os.path.join(BIG_FOLDER,'all_massaged_data\\\\dataframe_all_factors_for_analysis.txt'), sep='\\t', index=False)"
   ]
  },
  {
   "cell_type": "markdown",
   "metadata": {
    "hideCode": true,
    "hidePrompt": true
   },
   "source": [
    "## Stats tools"
   ]
  },
  {
   "cell_type": "code",
   "execution_count": 166,
   "metadata": {
    "collapsed": true,
    "hideCode": true,
    "hidePrompt": true
   },
   "outputs": [],
   "source": [
    "def eta_squared(aov):\n",
    "    aov['eta_sq'] = 'NaN'\n",
    "    aov['eta_sq'] = aov[:-1]['sum_sq']/sum(aov['sum_sq'])\n",
    "    return aov\n",
    " \n",
    "def omega_squared(aov):\n",
    "    mse = aov['sum_sq'][-1]/aov['df'][-1]\n",
    "    aov['omega_sq'] = 'NaN'\n",
    "    aov['omega_sq'] = (aov[:-1]['sum_sq']-(aov[:-1]['df']*mse))/(sum(aov['sum_sq'])+mse)\n",
    "    return aov\n",
    "\n",
    "def clean_summary(model):\n",
    "    m = model.summary()\n",
    "    lines = m.as_text().split('\\n')\n",
    "    lines = [l for l in lines if 'C(sid)' not in l]\n",
    "    return '\\n'.join(lines)"
   ]
  },
  {
   "cell_type": "markdown",
   "metadata": {
    "hideCode": true,
    "hidePrompt": true
   },
   "source": [
    "# Results to present in methods\n",
    "## Student population"
   ]
  },
  {
   "cell_type": "code",
   "execution_count": 167,
   "metadata": {
    "collapsed": false,
    "hideCode": true,
    "hidePrompt": true
   },
   "outputs": [
    {
     "name": "stdout",
     "output_type": "stream",
     "text": [
      "---------------------------------------  ------------------  ----------\n",
      "Gender identity                          Number of students  Percentage\n",
      "gender-Gender non conforming/non-binary  1                   0.7\n",
      "gender-Man                               50                  33.8\n",
      "gender-Prefer not to answer              1                   0.7\n",
      "gender-Woman                             96                  64.9\n",
      "---------------------------------------  ------------------  ----------\n"
     ]
    }
   ],
   "source": [
    "genders = ['gender-Gender non conforming/non-binary','gender-Man','gender-Prefer not to answer','gender-Woman']\n",
    "t = [['Gender identity','Number of students','Percentage']]\n",
    "for g in genders:\n",
    "    t.append([g, len(set(post_survey_df[post_survey_df[g]==1]['sid'])), round(len(set(post_survey_df[post_survey_df[g]==1]['sid']))/float(N)*100,1)])\n",
    "print tabulate(t)"
   ]
  },
  {
   "cell_type": "code",
   "execution_count": 168,
   "metadata": {
    "collapsed": false
   },
   "outputs": [
    {
     "name": "stdout",
     "output_type": "stream",
     "text": [
      "---------------------------  ------------------  ----------\n",
      "Year                         Number of students  Percentage\n",
      "year-1st year undergraduate  112                 75.7\n",
      "year-2nd year undergraduate  22                  14.9\n",
      "year-3rd year undergraduate  11                  7.4\n",
      "year-4th year undergraduate  4                   2.7\n",
      "---------------------------  ------------------  ----------\n"
     ]
    }
   ],
   "source": [
    "years = ['year-1st year undergraduate','year-2nd year undergraduate','year-3rd year undergraduate','year-4th year undergraduate']\n",
    "t = [['Year','Number of students','Percentage']]\n",
    "for year in years:\n",
    "    t.append([year, len(set(post_survey_df[post_survey_df[year]==1]['sid'])), round(len(set(post_survey_df[post_survey_df[year]==1]['sid']))/float(N)*100,1)])\n",
    "print tabulate(t)"
   ]
  },
  {
   "cell_type": "code",
   "execution_count": 169,
   "metadata": {
    "collapsed": false
   },
   "outputs": [
    {
     "data": {
      "text/plain": [
       "Fluent      134\n",
       "Average      13\n",
       "Beginner      1\n",
       "Name: english.0-writing, dtype: int64"
      ]
     },
     "execution_count": 169,
     "metadata": {},
     "output_type": "execute_result"
    }
   ],
   "source": [
    "post_survey_df['english.0-writing'].value_counts()"
   ]
  },
  {
   "cell_type": "code",
   "execution_count": 170,
   "metadata": {
    "collapsed": false
   },
   "outputs": [
    {
     "data": {
      "text/plain": [
       "Fluent     137\n",
       "Average     11\n",
       "Name: english.1-reading, dtype: int64"
      ]
     },
     "execution_count": 170,
     "metadata": {},
     "output_type": "execute_result"
    }
   ],
   "source": [
    "post_survey_df['english.1-reading'].value_counts()#.plot.bar()"
   ]
  },
  {
   "cell_type": "code",
   "execution_count": 171,
   "metadata": {
    "collapsed": false
   },
   "outputs": [
    {
     "data": {
      "image/png": "[encoded data removed]",
      "text/plain": [
       "<matplotlib.figure.Figure at 0x11830c50>"
      ]
     },
     "metadata": {},
     "output_type": "display_data"
    }
   ],
   "source": [
    "post_survey_df['major'].value_counts().plot.bar()\n",
    "plt.title('Student\\'s declared majors');"
   ]
  },
  {
   "cell_type": "markdown",
   "metadata": {
    "hideCode": true,
    "hidePrompt": true
   },
   "source": [
    "## Student prior experience"
   ]
  },
  {
   "cell_type": "code",
   "execution_count": 172,
   "metadata": {
    "collapsed": false
   },
   "outputs": [
    {
     "name": "stdout",
     "output_type": "stream",
     "text": [
      "132 (89.2%) of students have prior physics or chemistry experience.\n",
      "55 (37.2%) of students have prior experience with the same or a similar sim as the Light absorbance sim.\n",
      "16 (10.8%) of students have prior experience with the same or a similar sim as the Charge sim.\n"
     ]
    }
   ],
   "source": [
    "print \"{0} ({1}%) of students have prior physics or chemistry experience.\".format(len(set(data[data['lab_experience']==1]['sid'])), round(float(len(set(data[data['lab_experience']==1]['sid'])))/float(N),3)*100)\n",
    "print \"{0} ({1}%) of students have prior experience with the same or a similar sim as the Light absorbance sim.\".format(len(set(data[(data['sim']=='L')&(data['similar_sim']==1)]['sid'])), round(float(len(set(data[(data['sim']=='L')&(data['similar_sim']==1)]['sid'])))/float(N),3)*100)\n",
    "print \"{0} ({1}%) of students have prior experience with the same or a similar sim as the Charge sim.\".format(len(set(data[(data['sim']=='C')&(data['similar_sim']==1)]['sid'])), round(float(len(set(data[(data['sim']=='C')&(data['similar_sim']==1)]['sid'])))/float(N),3)*100)"
   ]
  },
  {
   "cell_type": "code",
   "execution_count": 173,
   "metadata": {
    "collapsed": false
   },
   "outputs": [
    {
     "name": "stdout",
     "output_type": "stream",
     "text": [
      "----------------------------  ------------------  ----------\n",
      "Number of prior virtual labs  Number of students  Percentage\n",
      "0                             15                  10.1\n",
      "1                             38                  25.7\n",
      "2                             55                  37.2\n",
      "3                             40                  27.0\n",
      "----------------------------  ------------------  ----------\n",
      "where:\n",
      " 0 -> None\n",
      " 1 -> 1-2 (roughly)\n",
      " 2 -> 3-5 (roughly)\n",
      " 3 -> 6+ (roughly)\n"
     ]
    }
   ],
   "source": [
    "priors = list(set(data['prior_number_virtual_labs']))\n",
    "t = [['Number of prior virtual labs','Number of students','Percentage']]\n",
    "for prior in priors:\n",
    "    t.append([prior, len(set(data[data['prior_number_virtual_labs']==prior]['sid'])), round(len(set(data[data['prior_number_virtual_labs']==prior]['sid']))/float(N)*100,1)])\n",
    "print tabulate(t)\n",
    "print '''where:\n",
    " 0 -> None\n",
    " 1 -> 1-2 (roughly)\n",
    " 2 -> 3-5 (roughly)\n",
    " 3 -> 6+ (roughly)'''"
   ]
  },
  {
   "cell_type": "code",
   "execution_count": 174,
   "metadata": {
    "code_folding": [
     0
    ],
    "collapsed": false
   },
   "outputs": [
    {
     "name": "stdout",
     "output_type": "stream",
     "text": [
      "In terms of activity order, 76 students do LC and 72 students in CL\n"
     ]
    }
   ],
   "source": [
    "print \"In terms of activity order, {0} students do LC and {1} students in CL\".format(len(set(data[data['activity_order']=='LC']['sid'])),len(set(data[data['activity_order']=='CL']['sid'])))"
   ]
  },
  {
   "cell_type": "markdown",
   "metadata": {},
   "source": [
    "## Defining incoming attitude factors\n",
    "See the notebook \"incoming_attributes_analysis.ipynb\" for data and viz on that."
   ]
  },
  {
   "cell_type": "markdown",
   "metadata": {
    "hideCode": true,
    "hidePrompt": true
   },
   "source": [
    "# Results section\n",
    "## Learning through inquiry"
   ]
  },
  {
   "cell_type": "markdown",
   "metadata": {
    "hideCode": true,
    "hidePrompt": true
   },
   "source": [
    "Let's look at pre to post to see if students learn."
   ]
  },
  {
   "cell_type": "code",
   "execution_count": 175,
   "metadata": {
    "collapsed": false
   },
   "outputs": [
    {
     "data": {
      "text/plain": [
       "<matplotlib.text.Text at 0x11d300f0>"
      ]
     },
     "execution_count": 175,
     "metadata": {},
     "output_type": "execute_result"
    },
    {
     "data": {
      "image/png": "[encoded data removed]",
      "text/plain": [
       "<matplotlib.figure.Figure at 0x11ba7ba8>"
      ]
     },
     "metadata": {},
     "output_type": "display_data"
    }
   ],
   "source": [
    "table = pd.pivot_table(data, index=['model'], values=['main_statement','pre_statement','main_correct','pre_correct'],aggfunc=(np.sum))/len(variables)/N*100\n",
    "table['pre_correct'] = table['pre_correct']/table['pre_statement']*100\n",
    "table['main_correct'] = table['main_correct']/table['main_statement']*100\n",
    "table = table.round(1)\n",
    "sns.heatmap(table[['pre_statement','main_statement']],annot=True,vmin=0, vmax=100)\n",
    "plt.title(\"Percentage of students making a statement for each model type over all variables\")"
   ]
  },
  {
   "cell_type": "code",
   "execution_count": 176,
   "metadata": {
    "collapsed": false
   },
   "outputs": [
    {
     "data": {
      "text/plain": [
       "<matplotlib.text.Text at 0x11dcc5f8>"
      ]
     },
     "execution_count": 176,
     "metadata": {},
     "output_type": "execute_result"
    },
    {
     "data": {
      "image/png": "[encoded data removed]",
      "text/plain": [
       "<matplotlib.figure.Figure at 0x118307b8>"
      ]
     },
     "metadata": {},
     "output_type": "display_data"
    }
   ],
   "source": [
    "sns.heatmap(table[['pre_correct','main_correct']],annot=True,vmin=0, vmax=100)\n",
    "plt.title(\"Percentage of students being correct for each model type over all variables\")"
   ]
  },
  {
   "cell_type": "markdown",
   "metadata": {},
   "source": [
    "## Use of CVS and thus how to define it.\n",
    "See the notebook \"comparing_cvs_usage.ipynb\" for data and viz on that."
   ]
  },
  {
   "cell_type": "markdown",
   "metadata": {
    "hideCode": true,
    "hidePrompt": true
   },
   "source": [
    "## Using different levels of CVS and modelling"
   ]
  },
  {
   "cell_type": "markdown",
   "metadata": {},
   "source": [
    "For each type of model (qual and quant), we have 10 independant variables:\n",
    "* sim_index (wither it was students 1st or 2nd activity)\n",
    "* variable (thus don't include sim)\n",
    "* CVS_context (type of CVS done)\n",
    "* pre_statement (if model statement made in pre)\n",
    "* pre_correct (if statement is correct in pre)\n",
    "* student attributes: lab_experience, similar_sim, prior_number_virtual_labs\n",
    "\n",
    "And 3 dependant:\n",
    "* main_statement\n",
    "* main_correct\n"
   ]
  },
  {
   "cell_type": "markdown",
   "metadata": {},
   "source": [
    "### Filtering data\n",
    "**Unlike before, we don't remove students with max pre for a certain variables???**\n",
    "However let's look at how many students play with the variables, table and graph"
   ]
  },
  {
   "cell_type": "code",
   "execution_count": 177,
   "metadata": {
    "collapsed": false
   },
   "outputs": [
    {
     "name": "stdout",
     "output_type": "stream",
     "text": [
      "The number of students out of 148 to use each item at least once:\n"
     ]
    },
    {
     "data": {
      "text/plain": [
       "use_table            148.0\n",
       "use_graph            125.0\n",
       "use_concentration    148.0\n",
       "use_width            148.0\n",
       "use_area             147.0\n",
       "use_separation       147.0\n",
       "dtype: float64"
      ]
     },
     "execution_count": 177,
     "metadata": {},
     "output_type": "execute_result"
    }
   ],
   "source": [
    "print 'The number of students out of {0} to use each item at least once:'.format(N)\n",
    "data[[c for c in data.columns if 'use' in c]].sum()/12"
   ]
  },
  {
   "cell_type": "markdown",
   "metadata": {},
   "source": [
    "Everyone uses table but not graph. One student doesn't play with separation or area so **do we want to remove those rows (but keep the student's other data)???**\n",
    "\n",
    "\n",
    "https://www.marsja.se/repeated-measures-anova-using-python/"
   ]
  },
  {
   "cell_type": "markdown",
   "metadata": {},
   "source": [
    "### What is associated with students making a correct qualitative assessment?\n",
    "Controlling for the fact that students made a qualitative statement about that variable in the pre worksheet or not (regardless of correctness) we predict that a student made a correct qualitative statement in their main (versus making an incorrect or not making a qual statement at all)."
   ]
  },
  {
   "cell_type": "code",
   "execution_count": 178,
   "metadata": {
    "collapsed": false
   },
   "outputs": [],
   "source": [
    "qual_data = data[data['model']=='qual']\n",
    "qual_data['main_correct'].fillna(0,inplace=True) #we count as \"0\" the students who don't have a qual statement"
   ]
  },
  {
   "cell_type": "code",
   "execution_count": 190,
   "metadata": {
    "collapsed": true
   },
   "outputs": [],
   "source": [
    "covariates_for_model = \"+ variable + pre_statement + sim_index +lab_experience + similar_sim + prior_number_virtual_labs\""
   ]
  },
  {
   "cell_type": "code",
   "execution_count": 191,
   "metadata": {
    "collapsed": false
   },
   "outputs": [
    {
     "name": "stdout",
     "output_type": "stream",
     "text": [
      "model:  main_correct ~ C(CVS_context) + variable + pre_statement + sim_index +lab_experience + similar_sim + prior_number_virtual_labs \n",
      "\n",
      "Optimization terminated successfully.\n",
      "         Current function value: 0.492110\n",
      "         Iterations 6\n",
      "                           Logit Regression Results                           \n",
      "==============================================================================\n",
      "Dep. Variable:           main_correct   No. Observations:                  592\n",
      "Model:                          Logit   Df Residuals:                      580\n",
      "Method:                           MLE   Df Model:                           11\n",
      "Date:                Wed, 23 May 2018   Pseudo R-squ.:                 0.02828\n",
      "Time:                        16:46:50   Log-Likelihood:                -291.33\n",
      "converged:                       True   LL-Null:                       -299.81\n",
      "                                        LLR p-value:                    0.1092\n",
      "==================================================================================================\n",
      "                                     coef    std err          z      P>|z|      [95.0% Conf. Int.]\n",
      "--------------------------------------------------------------------------------------------------\n",
      "Intercept                          1.1432      0.484      2.364      0.018         0.195     2.091\n",
      "C(CVS_context)[T.1]               -0.2253      0.319     -0.707      0.480        -0.850     0.399\n",
      "C(CVS_context)[T.2]               -0.1554      0.239     -0.650      0.516        -0.624     0.313\n",
      "C(CVS_context)[T.table_random]     0.8946      1.079      0.829      0.407        -1.220     3.010\n",
      "variable[T.Concentration]         -0.2523      0.303     -0.832      0.406        -0.847     0.342\n",
      "variable[T.Separation]            -0.0241      0.305     -0.079      0.937        -0.622     0.574\n",
      "variable[T.Width]                 -0.2672      0.300     -0.889      0.374        -0.856     0.322\n",
      "pre_statement                      0.3160      0.216      1.461      0.144        -0.108     0.740\n",
      "sim_index                         -0.1569      0.211     -0.742      0.458        -0.571     0.257\n",
      "lab_experience                    -0.1003      0.367     -0.273      0.785        -0.820     0.619\n",
      "similar_sim                       -0.0703      0.270     -0.261      0.794        -0.599     0.458\n",
      "prior_number_virtual_labs          0.3767      0.127      2.971      0.003         0.128     0.625\n",
      "==================================================================================================\n"
     ]
    }
   ],
   "source": [
    "formula = 'main_correct ~ C(CVS_context) '+ covariates_for_model\n",
    "print 'model: ', formula,'\\n'\n",
    "from patsy import dmatrices\n",
    "Y, X = dmatrices(formula, qual_data, return_type = 'dataframe')\n",
    "# print X.columns\n",
    "logit = Logit(Y, X)\n",
    "model = logit.fit()\n",
    "print model.summary()"
   ]
  },
  {
   "cell_type": "markdown",
   "metadata": {},
   "source": [
    "## Sensitivity analysis on CVS criteria using BIC"
   ]
  },
  {
   "cell_type": "code",
   "execution_count": null,
   "metadata": {
    "collapsed": true,
    "scrolled": true
   },
   "outputs": [],
   "source": [
    "# for CVS in ['CVS_levels_2','CVS_levels_3','CVS_levels_4','CVS_levels_5']:\n",
    "#     formula = 'main ~ C('+CVS+')' + covariates_for_parsimonious_model\n",
    "#     model = ols(formula, filtered_maxpre_data).fit()\n",
    "#     print \"\\n\\nModel: \",formula\n",
    "#     aov_table = anova_lm(model, typ=3)\n",
    "#     eta_squared(aov_table)\n",
    "#     omega_squared(aov_table)\n",
    "#     print \"\\nAnova table using type 3\\n\"\n",
    "#     print(aov_table)\n",
    "#     print \"\\nHere is the linear model with coefficients and confidence intervals (removed stats for individual student ids):\\n\"\n",
    "#     print clean_summary(model)"
   ]
  },
  {
   "cell_type": "markdown",
   "metadata": {},
   "source": [
    "These results were produced using AOV of linear regression with Type III SS\n",
    "\n",
    "We think a threshold of 3 pts is stricks a balance between 1) measuring more deliberatness than 2 pts and 2) it is less stringent than using more points.\n",
    "\n",
    "Here are the AIC and BIC of the models (lower means better model controlling for number of parameters)\n",
    "\n",
    "\n",
    "    no interactions\n",
    "    #pts\tR^2\n",
    "    2\t\t0.449\n",
    "    3\t\t0.447\n",
    "    4\t\t0.443\n",
    "    5\t\t0.428\n",
    "\n",
    "None of these models are drastically different from each other, thought 5pts is definitely the worst\n",
    "\n",
    "We pick #pts = 3 and call it a day"
   ]
  },
  {
   "cell_type": "code",
   "execution_count": null,
   "metadata": {
    "collapsed": true
   },
   "outputs": [],
   "source": [
    "results = [['Threshold','Concentration ','Width ','Area ','Separation','$R^2$']]\n",
    "for t,r in zip([2,3,4,5],[0.449,0.447,0.443,0.428]):\n",
    "    res = [t]\n",
    "    res.extend([round(sum(data[data['variable']==v]['CVS_graph_'+str(t)])/float(N),2) for v in ['Concentration','Width','Area','Separation']])\n",
    "    res.append(r)\n",
    "    results.append(res)\n",
    "print tabulate(results,tablefmt='latex')"
   ]
  },
  {
   "cell_type": "markdown",
   "metadata": {},
   "source": [
    "### Models per variable"
   ]
  },
  {
   "cell_type": "code",
   "execution_count": null,
   "metadata": {
    "collapsed": true
   },
   "outputs": [],
   "source": [
    "per_variable = pd.pivot_table(filtered_maxpre_data, values=['main'], index=['variable','CVS_levels_3'],aggfunc=(np.mean))\n",
    "per_variable.plot(kind='bar')\n",
    "print \"This plot needs to be redone with standard deviation bars and organized by sim, colored by level\""
   ]
  },
  {
   "cell_type": "code",
   "execution_count": null,
   "metadata": {
    "collapsed": true
   },
   "outputs": [],
   "source": [
    "covariates_for_variable_models = \" + pre + sim_index + level_experience_sims + used_similar_sim + use_graph\""
   ]
  },
  {
   "cell_type": "code",
   "execution_count": null,
   "metadata": {
    "collapsed": true,
    "hideCode": true,
    "hidePrompt": true,
    "scrolled": false
   },
   "outputs": [],
   "source": [
    "for variable in ['Width', 'Concentration','Area','Separation']:\n",
    "    print \"__________________________________\\nFOR VARIABLE \", variable, '\\n__________________________________'\n",
    "    formula = 'main ~ C(CVS_levels_3)' + covariates_for_variable_models\n",
    "    model = ols(formula, filtered_maxpre_data[filtered_maxpre_data['variable']==variable]).fit()\n",
    "    print \"\\n\\nModel: \",formula\n",
    "    aov_table = anova_lm(model, typ=3)\n",
    "    eta_squared(aov_table)\n",
    "    omega_squared(aov_table)\n",
    "    print \"\\nAnova table using type 3 errors\\n\"\n",
    "    print(aov_table)\n",
    "#     print \"\\nHere is the linear model with coefficients and confidence intervals:\\n\"\n",
    "    print clean_summary(model)"
   ]
  },
  {
   "cell_type": "markdown",
   "metadata": {},
   "source": [
    "### A closer look at CVS graph with inverse scale for Separation"
   ]
  },
  {
   "cell_type": "code",
   "execution_count": null,
   "metadata": {
    "collapsed": true
   },
   "outputs": [],
   "source": [
    "graph_inverse_cvs_df = pd.read_csv('graph_inverse_cvs_df.txt', sep='\\t')\n",
    "graph_inverse_cvs_df['used_inverse_separation']=graph_inverse_cvs_df['Separation']>3\n",
    "graph_inverse_cvs_df['sid']=graph_inverse_cvs_df['studentid']"
   ]
  },
  {
   "cell_type": "code",
   "execution_count": null,
   "metadata": {
    "collapsed": true
   },
   "outputs": [],
   "source": [
    "variable ='Separation'\n",
    "temp = filtered_maxpre_data[filtered_maxpre_data['variable']==variable]\n",
    "separation_data = temp.merge(graph_inverse_cvs_df, on=['sid'], how='inner')\n",
    "print \"__________________________________\\nFOR VARIABLE \", variable, '\\n__________________________________'\n",
    "formula = 'main ~ C(CVS_levels_3)*used_inverse_separation' + covariates_for_variable_models\n",
    "model = ols(formula, separation_data).fit()\n",
    "print \"\\n\\nModel: \",formula\n",
    "aov_table = anova_lm(model, typ=3)\n",
    "eta_squared(aov_table)\n",
    "omega_squared(aov_table)\n",
    "print \"\\nAnova table using type 3 errors\\n\"\n",
    "print(aov_table)\n",
    "#     print \"\\nHere is the linear model with coefficients and confidence intervals:\\n\"\n",
    "print clean_summary(model)"
   ]
  },
  {
   "cell_type": "code",
   "execution_count": null,
   "metadata": {
    "collapsed": true
   },
   "outputs": [],
   "source": [
    "separation_data[(separation_data['CVS_levels_3']==2)&(separation_data['used_inverse_separation']==False)]['main'].unique()"
   ]
  },
  {
   "cell_type": "code",
   "execution_count": null,
   "metadata": {
    "collapsed": true
   },
   "outputs": [],
   "source": [
    "fig,ax = plt.subplots(nrows=1,ncols=3,figsize=(15,5))\n",
    "sns.countplot(data=separation_data[(separation_data['main']!=0)&(separation_data['CVS_levels_3']!=2)],y='main',ax=ax[0],label='main score',color='blue',alpha=0.7);\n",
    "sns.countplot(data=separation_data[(separation_data['main']!=0)&(separation_data['CVS_levels_3']==2)&(separation_data['used_inverse_separation']==False)],y='main',ax=ax[1],label='main score',color='blue',alpha=0.7);\n",
    "sns.countplot(data=separation_data[(separation_data['main']!=0)&(separation_data['CVS_levels_3']==2)&(separation_data['used_inverse_separation']==True)],y='main',ax=ax[2],label='main score',color='blue',alpha=0.7);\n",
    "ax[0].set(xlabel='Number of students')\n",
    "ax[1].set(xlabel='Number of students')\n",
    "ax[2].set(xlabel='Number of students')\n",
    "ax[0].set(ylabel='main score if didn\\'t do CVS graph')\n",
    "ax[1].set(ylabel='main score if did CVS graph')\n",
    "ax[2].set(ylabel='main score if did CVS graph with inverse scale')\n",
    "ax[0].set(yticklabels = ['Identify','Qualitative','Quantitative'])\n",
    "ax[1].set(yticklabels = ['','','',''])\n",
    "ax[2].set(yticklabels = ['','','',''])\n",
    "ax[0].set(xlim=(0,60))\n",
    "ax[1].set(xlim=(0,60))\n",
    "ax[2].set(xlim=(0,60))\n",
    "print \"I removed the students with 'all incorrect/None' main score\""
   ]
  },
  {
   "cell_type": "markdown",
   "metadata": {},
   "source": [
    "## Post-hoc analysis on levels using 3pts as threshold"
   ]
  },
  {
   "cell_type": "code",
   "execution_count": null,
   "metadata": {
    "collapsed": true,
    "scrolled": false
   },
   "outputs": [],
   "source": [
    "for ignore in [0,1,2]:\n",
    "    formula = 'main ~ C(CVS_levels_3)' + covariates_for_parsimonious_model\n",
    "    model = ols(formula, filtered_maxpre_data[filtered_maxpre_data[CVS]!=ignore]).fit()\n",
    "    print \"\\n\\nModel: \",formula\n",
    "    print \"Comparing CVS levels ignoring level \",ignore\n",
    "    aov_table = anova_lm(model, typ=3)\n",
    "    eta_squared(aov_table)\n",
    "    omega_squared(aov_table)\n",
    "    print \"\\nAnova table using type 3 errors\\n\"\n",
    "    print(aov_table)\n",
    "    print clean_summary(model)"
   ]
  },
  {
   "cell_type": "code",
   "execution_count": null,
   "metadata": {
    "collapsed": true
   },
   "outputs": [],
   "source": [
    "levels = pd.pivot_table(filtered_maxpre_data, values=['main'], index=['CVS_levels_3'],aggfunc=np.mean)\n",
    "levels.plot(kind='barh')\n",
    "print \"This plot needs to be redone with standard deviation bars and colored by level and stars given the tests above\"\n",
    "print '0-1 => -'\n",
    "print '1-2 => *'\n",
    "print '0-2 => ***'"
   ]
  },
  {
   "cell_type": "code",
   "execution_count": null,
   "metadata": {
    "collapsed": true
   },
   "outputs": [],
   "source": [
    "fig,ax = plt.subplots(nrows=1,ncols=3,figsize=(12,5))\n",
    "for N in [0,1,2]:\n",
    "    sns.countplot(data=filtered_maxpre_data[(filtered_maxpre_data['CVS_levels_3']==N)],y='main',ax=ax[N],label=str(N),color='blue',alpha=0.7);\n",
    "    ax[N].set(ylabel='')\n",
    "    ax[N].set(xlabel='')\n",
    "    ax[N].set(yticklabels = ['','','',''])\n",
    "    ax[N].set(xlim=(0,180))\n",
    "ax[0].set(ylabel='main score')\n",
    "ax[1].set(xlabel='Number of students')\n",
    "ax[0].set(yticklabels = ['None-all incorrect','Identify','Qualitative','Quantitative']);"
   ]
  },
  {
   "cell_type": "code",
   "execution_count": null,
   "metadata": {
    "collapsed": true
   },
   "outputs": [],
   "source": [
    "fig,ax = plt.subplots(nrows=1,ncols=4,figsize=(12,5))\n",
    "for N,v in enumerate(['Separation',\"Area\",'Concentration','Width']):\n",
    "    sns.countplot(data=filtered_maxpre_data[(filtered_maxpre_data['main']>1)&(filtered_maxpre_data['CVS_levels_3']==2)&(filtered_maxpre_data['variable']==v)],y='main',ax=ax[N],label=str(N),color='blue',alpha=0.7);\n",
    "    ax[N].set(ylabel='')\n",
    "    ax[N].set(xlabel=v)\n",
    "    ax[N].set(yticklabels = ['','','',''])\n",
    "    ax[N].set(xlim=(0,50))\n",
    "ax[0].set(ylabel='main score')\n",
    "# ax[1].set(xlabel='Number of students')\n",
    "ax[0].set(yticklabels = ['Qualitative','Quantitative']);\n",
    "# [\"Area\",'Concentration','Separation','Width']"
   ]
  },
  {
   "cell_type": "markdown",
   "metadata": {},
   "source": [
    "### Post-hoc analysis on experience in physic undergraduate labs"
   ]
  },
  {
   "cell_type": "code",
   "execution_count": null,
   "metadata": {
    "collapsed": true
   },
   "outputs": [],
   "source": [
    "# posthoc_exp_physics_labs = pd.pivot_table(data, values=['main'], index=['experience_undergrad_labs'],aggfunc=(np.mean))\n",
    "# posthoc_exp_physics_labs.plot(kind='bar')\n",
    "# print \"This plot needs to be redone with standard deviation bars and organized by sim, colored by level\""
   ]
  },
  {
   "cell_type": "markdown",
   "metadata": {},
   "source": [
    "### Post-hoc analysis on order"
   ]
  },
  {
   "cell_type": "code",
   "execution_count": null,
   "metadata": {
    "collapsed": true
   },
   "outputs": [],
   "source": [
    "# posthoc_sim_index = pd.pivot_table(data, values=['main'], index=['sim_index'],aggfunc=(np.mean))\n",
    "# posthoc_sim_index.plot(kind='bar')\n",
    "# print \"This plot needs to be redone with standard deviation bars and organized by sim, colored by level\""
   ]
  },
  {
   "cell_type": "markdown",
   "metadata": {},
   "source": [
    "### Post-hoc analysis on variable"
   ]
  },
  {
   "cell_type": "code",
   "execution_count": null,
   "metadata": {
    "collapsed": true
   },
   "outputs": [],
   "source": [
    "# posthoc_variable = pd.pivot_table(data, values=['main'], index=['variable'],aggfunc=(np.mean))\n",
    "# posthoc_variable.plot(kind='bar')\n",
    "# print \"This plot needs to be redone with standard deviation bars and organized by sim, colored by level\""
   ]
  },
  {
   "cell_type": "markdown",
   "metadata": {
    "hideCode": true,
    "hidePrompt": true
   },
   "source": [
    "Findings:\n",
    "* CVS_levels=2 (graph) matters for all except Separation\n",
    "* Pre matters for all except Width"
   ]
  },
  {
   "cell_type": "markdown",
   "metadata": {},
   "source": [
    "## Repeat model for only student who use graph (85%)"
   ]
  },
  {
   "cell_type": "code",
   "execution_count": null,
   "metadata": {
    "collapsed": true
   },
   "outputs": [],
   "source": [
    "formula = 'main ~ C(CVS_levels_3)' + covariates_for_parsimonious_model\n",
    "model = ols(formula, filtered_maxpre_data[(filtered_maxpre_data[CVS]!=0)&(filtered_maxpre_data['use_graph']==1)]).fit()\n",
    "print \"\\n\\nModel: \",formula\n",
    "aov_table = anova_lm(model, typ=3)\n",
    "eta_squared(aov_table)\n",
    "omega_squared(aov_table)\n",
    "print \"\\nAnova table using type 3 errors\\n\"\n",
    "print(aov_table)\n",
    "print clean_summary(model)"
   ]
  },
  {
   "cell_type": "markdown",
   "metadata": {
    "hideCode": true,
    "hidePrompt": true
   },
   "source": [
    "# What affects use CVS-like inquiry strategies?"
   ]
  },
  {
   "cell_type": "markdown",
   "metadata": {
    "hideCode": true,
    "hideOutput": true,
    "hidePrompt": true
   },
   "source": [
    "For some reason adding students in the matric turns it into a singular matrix and fails the analysis. Probably because two students are exactly identical?"
   ]
  },
  {
   "cell_type": "markdown",
   "metadata": {
    "hideCode": true,
    "hidePrompt": true
   },
   "source": [
    "## Overall, how much do they use it?"
   ]
  },
  {
   "cell_type": "code",
   "execution_count": null,
   "metadata": {
    "collapsed": true
   },
   "outputs": [],
   "source": [
    "data['CVS_table'] = data['CVS_table_3']\n",
    "data['CVS_graph'] = data['CVS_graph_3']\n",
    "sums = pd.pivot_table(data, values=['CVS_table','CVS_graph'], index=['sid'], aggfunc=np.sum)"
   ]
  },
  {
   "cell_type": "code",
   "execution_count": null,
   "metadata": {
    "collapsed": true
   },
   "outputs": [],
   "source": [
    "print data.shape"
   ]
  },
  {
   "cell_type": "code",
   "execution_count": null,
   "metadata": {
    "collapsed": true
   },
   "outputs": [],
   "source": [
    "for threshold in ['2','3','4','5']:\n",
    "    print '\\nFor CVs with {0} pts as a threshold'.format(threshold)\n",
    "    sums = pd.pivot_table(data, values=['CVS_table_'+threshold,'CVS_graph_'+threshold], index=['sid'], aggfunc=np.sum)\n",
    "    once = len(sums[sums['CVS_table_'+threshold]>0])/float(N)*100\n",
    "    all4 = len(sums[sums['CVS_table_'+threshold]==4])/float(N)*100\n",
    "    print \"   {0}% of students use CVS table once and {1}% do it for all variables.\".format(int(once),int(all4))\n",
    "    once = len(sums[sums['CVS_graph_'+threshold]>0])/float(N)*100\n",
    "    all4 = len(sums[sums['CVS_graph_'+threshold]==4])/float(N)*100\n",
    "    print \"   {0}% of students use CVS graph once and {1}% do it for all variables.\".format(int(once),int(all4))"
   ]
  },
  {
   "cell_type": "markdown",
   "metadata": {},
   "source": [
    "## Are they consistent in their usage of CVS graph?"
   ]
  },
  {
   "cell_type": "code",
   "execution_count": null,
   "metadata": {
    "collapsed": true
   },
   "outputs": [],
   "source": [
    "sums2 = pd.pivot_table(data, values=['CVS_graph'], index=['sid','sim'], aggfunc=np.sum)\n",
    "sums2 = sums2.reset_index(level=['sim','sid'])\n",
    "# sums2.head()"
   ]
  },
  {
   "cell_type": "code",
   "execution_count": null,
   "metadata": {
    "collapsed": true,
    "hideCode": true,
    "hidePrompt": true
   },
   "outputs": [],
   "source": [
    "cvs_sim = np.zeros((3,3),dtype=int)\n",
    "for i in range(3):\n",
    "    for j in range(3):\n",
    "        cvs_sim[i,j] = len(set(sums2[(sums2['sim']=='C')&(sums2['CVS_graph']==i)]['sid'])&set(sums2[(sums2['sim']=='L')&(sums2['CVS_graph']==j)]['sid']))\n",
    "ax = sns.heatmap(np.flip(cvs_sim,0),annot=True, fmt=\"d\")\n",
    "ax.set_xticklabels(['0/2','1/2','2/2'])\n",
    "ax.set_yticklabels(['0/2','1/2','2/2'])\n",
    "plt.xlabel('Number of light absorbance variables')\n",
    "plt.ylabel('Number of Caps variables')\n",
    "plt.title('Map of student use of CVS in their graph for variables per simulation')"
   ]
  },
  {
   "cell_type": "markdown",
   "metadata": {
    "hideCode": true,
    "hidePrompt": true
   },
   "source": [
    "High usage is consistent. If they do CVS with 1 variable in one sim, they do it with 2 in the other (probaly second sim).We'll see how order makes a difference later."
   ]
  },
  {
   "cell_type": "markdown",
   "metadata": {
    "hideCode": true,
    "hidePrompt": true
   },
   "source": [
    "## What affects use of CVS\n",
    "### Model with interaction (killed)"
   ]
  },
  {
   "cell_type": "code",
   "execution_count": null,
   "metadata": {
    "collapsed": true,
    "hideCode": true,
    "hidePrompt": true
   },
   "outputs": [],
   "source": [
    "# formula = 'CVS_graph ~ pre*variable + sim_index*variable + pre*sim_index + level_experience_sims + experience_undergrad_labs + used_similar_sim'\n",
    "# print 'model: ', formula,'\\n'\n",
    "# from patsy import dmatrices\n",
    "# Y, X = dmatrices(formula, data, return_type = 'dataframe')\n",
    "# # print X.columns\n",
    "# logit = Logit(Y, X)\n",
    "# model = logit.fit()\n",
    "# print model.summary()\n",
    "# # note that stats model has no module for running an anova on a logistic regression model"
   ]
  },
  {
   "cell_type": "markdown",
   "metadata": {},
   "source": [
    "### Parismonious model"
   ]
  },
  {
   "cell_type": "code",
   "execution_count": null,
   "metadata": {
    "collapsed": true
   },
   "outputs": [],
   "source": [
    "formula = 'CVS_graph ~ pre + variable + sim_index +level_experience_sims + experience_undergrad_labs + used_similar_sim'\n",
    "print 'model: ', formula,'\\n'\n",
    "from patsy import dmatrices\n",
    "Y, X = dmatrices(formula, data, return_type = 'dataframe')\n",
    "# print X.columns\n",
    "logit = Logit(Y, X)\n",
    "model = logit.fit()\n",
    "print model.summary()\n",
    "# aov_table = anova_lm(model)\n",
    "# eta_squared(aov_table)\n",
    "# omega_squared(aov_table)\n",
    "# # print \"\\nAnova table using type 2 errors\\n\"\n",
    "# print(aov_table)"
   ]
  },
  {
   "cell_type": "markdown",
   "metadata": {
    "hideCode": true,
    "hidePrompt": true
   },
   "source": [
    "In order of what affects CVS_graph most:\n",
    "* experience in undergraduate labs\n",
    "* order\n",
    "* prior knowledge\n",
    "\n",
    "Having used a similar sim doesn't matter, variable doesn't matter and sim doesn't matter.\n",
    "\n",
    "Experience in sims mattered before we included both physics and chem experience in labs"
   ]
  },
  {
   "cell_type": "code",
   "execution_count": null,
   "metadata": {
    "collapsed": true
   },
   "outputs": [],
   "source": [
    "model.summary()"
   ]
  },
  {
   "cell_type": "code",
   "execution_count": null,
   "metadata": {
    "collapsed": true
   },
   "outputs": [],
   "source": [
    "print model.summary().as_latex()"
   ]
  },
  {
   "cell_type": "markdown",
   "metadata": {},
   "source": [
    "### post hoc of experience in undergraduate labs"
   ]
  },
  {
   "cell_type": "code",
   "execution_count": null,
   "metadata": {
    "collapsed": true
   },
   "outputs": [],
   "source": [
    "# cvs_exp = pd.pivot_table(data, values=['CVS_graph'], index=['experience_undergrad_labs'],aggfunc=(np.mean,np.std))\n",
    "# print \"Here is prob that they do CVS graph depending on the experience_undergrad_labs\"\n",
    "# cvs_exp['CVS_graph']['mean'].plot.bar(yerr=cvs_exp['CVS_graph']['std'])"
   ]
  },
  {
   "cell_type": "markdown",
   "metadata": {},
   "source": [
    "### post hoc of activity order"
   ]
  },
  {
   "cell_type": "code",
   "execution_count": null,
   "metadata": {
    "collapsed": true
   },
   "outputs": [],
   "source": [
    "# cvs_exp = pd.pivot_table(data, values=['CVS_graph'], index=['sim_index'],aggfunc=(np.mean,np.std))\n",
    "# print \"Here is prob that they do CVS graph depending on sim_index\"\n",
    "# cvs_exp['CVS_graph']['mean'].plot.bar(yerr=cvs_exp['CVS_graph']['std'])"
   ]
  },
  {
   "cell_type": "markdown",
   "metadata": {},
   "source": [
    "### post hoc of experience with sims"
   ]
  },
  {
   "cell_type": "code",
   "execution_count": null,
   "metadata": {
    "collapsed": true
   },
   "outputs": [],
   "source": [
    "# cvs_exp = pd.pivot_table(data, values=['CVS_graph'], index=['level_experience_sims'],aggfunc=(np.mean,np.std))\n",
    "# print \"Here is prob that they do CVS graph depending on level_experience_sims\"\n",
    "# cvs_exp['CVS_graph']['mean'].plot.bar(yerr=cvs_exp['CVS_graph']['std'])\n",
    "# print '''where:\n",
    "#  0 -> None\n",
    "#  1 -> 1-2 (roughly)\n",
    "#  2 -> 3-5 (roughly)\n",
    "#  3 -> 6+ (roughly)'''"
   ]
  },
  {
   "cell_type": "markdown",
   "metadata": {},
   "source": [
    "### post hoc of pre"
   ]
  },
  {
   "cell_type": "code",
   "execution_count": null,
   "metadata": {
    "collapsed": true
   },
   "outputs": [],
   "source": [
    "# cvs_pre = pd.pivot_table(data, values=['CVS_graph'], index=['pre'],aggfunc=(np.mean,np.std))\n",
    "# print \"Here is the avg pre score of students depending if they do CVS graph or not\"\n",
    "# cvs_pre['CVS_graph']['mean'].plot.bar(yerr=cvs_pre['CVS_graph']['std'])"
   ]
  },
  {
   "cell_type": "code",
   "execution_count": null,
   "metadata": {
    "collapsed": true
   },
   "outputs": [],
   "source": []
  }
 ],
 "metadata": {
  "anaconda-cloud": {},
  "celltoolbar": "Hide code",
  "hide_code_all_hidden": true,
  "kernelspec": {
   "display_name": "Python [Anaconda2]",
   "language": "python",
   "name": "Python [Anaconda2]"
  },
  "language_info": {
   "codemirror_mode": {
    "name": "ipython",
    "version": 2
   },
   "file_extension": ".py",
   "mimetype": "text/x-python",
   "name": "python",
   "nbconvert_exporter": "python",
   "pygments_lexer": "ipython2",
   "version": "2.7.12"
  },
  "toc": {
   "nav_menu": {},
   "number_sections": true,
   "sideBar": false,
   "skip_h1_title": false,
   "toc_cell": false,
   "toc_position": {},
   "toc_section_display": "block",
   "toc_window_display": false
  }
 },
 "nbformat": 4,
 "nbformat_minor": 2
}
