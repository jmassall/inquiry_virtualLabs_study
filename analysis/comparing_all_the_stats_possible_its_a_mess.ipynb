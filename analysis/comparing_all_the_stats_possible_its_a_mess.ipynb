{
 "cells": [
  {
   "cell_type": "markdown",
   "metadata": {},
   "source": [
    "Load libraries"
   ]
  },
  {
   "cell_type": "code",
   "execution_count": 59,
   "metadata": {},
   "outputs": [],
   "source": [
    "require(ggplot2)\n",
    "require(reshape2)\n",
    "require(lme4)\n",
    "require(compiler)\n",
    "require(parallel)\n",
    "require(car)\n",
    "require(boot)\n",
    "require(dplyr)\n",
    "require(sjstats)\n",
    "require(broom)"
   ]
  },
  {
   "cell_type": "markdown",
   "metadata": {},
   "source": [
    "# Load data and set factors"
   ]
  },
  {
   "cell_type": "code",
   "execution_count": 110,
   "metadata": {},
   "outputs": [],
   "source": [
    "mydata <- read.csv(\"C:\\\\Users\\\\Sarah\\\\Documents\\\\Personal Content\\\\Lab_study_data\\\\all_massaged_data\\\\dataframe_all_factors_for_analysis.txt\",sep = '\\t')\n",
    "# # SID is the student number\n",
    "mydata$sid <- factor(mydata$sid)\n",
    "mydata$sim_index <- factor(mydata$sim_index)\n",
    "mydata$lab_experience <- factor(mydata$lab_experience)\n",
    "mydata$similar_sim <- factor(mydata$similar_sim)\n",
    "mydata$cvs_graph <- factor(mydata$cvs_graph)\n",
    "mydata$cvs_table <- factor(mydata$cvs_table)\n",
    "# mydata$pre <- factor(mydata$pre)\n",
    "# mydata$main <- factor(mydata$main)"
   ]
  },
  {
   "cell_type": "code",
   "execution_count": 111,
   "metadata": {},
   "outputs": [
    {
     "data": {
      "text/html": [
       "<table>\n",
       "<thead><tr><th scope=col>sid</th><th scope=col>sim</th><th scope=col>variable</th><th scope=col>pre</th><th scope=col>main</th><th scope=col>cvs_graph</th><th scope=col>cvs_table</th><th scope=col>qual_score</th><th scope=col>quant_score</th><th scope=col>activity_order</th><th scope=col>...</th><th scope=col>pre_with_ident</th><th scope=col>main_with_ident</th><th scope=col>CVS_context</th><th scope=col>use_table</th><th scope=col>use_graph</th><th scope=col>use_concentration</th><th scope=col>use_width</th><th scope=col>use_area</th><th scope=col>use_separation</th><th scope=col>use_all_vars</th></tr></thead>\n",
       "<tbody>\n",
       "\t<tr><td>10127163     </td><td>L            </td><td>Concentration</td><td>0            </td><td>2            </td><td>1            </td><td>1            </td><td>1            </td><td>1            </td><td>LC           </td><td>...          </td><td>1            </td><td>3            </td><td>2            </td><td>1            </td><td>1            </td><td>1            </td><td>1            </td><td>1            </td><td>1            </td><td>4            </td></tr>\n",
       "\t<tr><td>10127163     </td><td>L            </td><td>Width        </td><td>0            </td><td>2            </td><td>1            </td><td>1            </td><td>1            </td><td>1            </td><td>LC           </td><td>...          </td><td>1            </td><td>3            </td><td>2            </td><td>1            </td><td>1            </td><td>1            </td><td>1            </td><td>1            </td><td>1            </td><td>4            </td></tr>\n",
       "\t<tr><td>10127163     </td><td>C            </td><td>Area         </td><td>2            </td><td>2            </td><td>1            </td><td>1            </td><td>1            </td><td>1            </td><td>LC           </td><td>...          </td><td>3            </td><td>3            </td><td>2            </td><td>1            </td><td>1            </td><td>1            </td><td>1            </td><td>1            </td><td>1            </td><td>4            </td></tr>\n",
       "\t<tr><td>10127163     </td><td>C            </td><td>Separation   </td><td>2            </td><td>2            </td><td>1            </td><td>1            </td><td>1            </td><td>1            </td><td>LC           </td><td>...          </td><td>3            </td><td>3            </td><td>2            </td><td>1            </td><td>1            </td><td>1            </td><td>1            </td><td>1            </td><td>1            </td><td>4            </td></tr>\n",
       "\t<tr><td>10232160     </td><td>L            </td><td>Concentration</td><td>0            </td><td>0            </td><td>1            </td><td>1            </td><td>1            </td><td>1            </td><td>LC           </td><td>...          </td><td>1            </td><td>1            </td><td>2            </td><td>1            </td><td>1            </td><td>1            </td><td>1            </td><td>1            </td><td>1            </td><td>4            </td></tr>\n",
       "\t<tr><td>10232160     </td><td>L            </td><td>Width        </td><td>0            </td><td>0            </td><td>0            </td><td>0            </td><td>1            </td><td>1            </td><td>LC           </td><td>...          </td><td>1            </td><td>1            </td><td>0            </td><td>1            </td><td>1            </td><td>1            </td><td>1            </td><td>1            </td><td>1            </td><td>4            </td></tr>\n",
       "</tbody>\n",
       "</table>\n"
      ],
      "text/latex": [
       "\\begin{tabular}{r|lllllllllllllllllllllllllll}\n",
       " sid & sim & variable & pre & main & cvs\\_graph & cvs\\_table & qual\\_score & quant\\_score & activity\\_order & ... & pre\\_with\\_ident & main\\_with\\_ident & CVS\\_context & use\\_table & use\\_graph & use\\_concentration & use\\_width & use\\_area & use\\_separation & use\\_all\\_vars\\\\\n",
       "\\hline\n",
       "\t 10127163      & L             & Concentration & 0             & 2             & 1             & 1             & 1             & 1             & LC            & ...           & 1             & 3             & 2             & 1             & 1             & 1             & 1             & 1             & 1             & 4            \\\\\n",
       "\t 10127163      & L             & Width         & 0             & 2             & 1             & 1             & 1             & 1             & LC            & ...           & 1             & 3             & 2             & 1             & 1             & 1             & 1             & 1             & 1             & 4            \\\\\n",
       "\t 10127163      & C             & Area          & 2             & 2             & 1             & 1             & 1             & 1             & LC            & ...           & 3             & 3             & 2             & 1             & 1             & 1             & 1             & 1             & 1             & 4            \\\\\n",
       "\t 10127163      & C             & Separation    & 2             & 2             & 1             & 1             & 1             & 1             & LC            & ...           & 3             & 3             & 2             & 1             & 1             & 1             & 1             & 1             & 1             & 4            \\\\\n",
       "\t 10232160      & L             & Concentration & 0             & 0             & 1             & 1             & 1             & 1             & LC            & ...           & 1             & 1             & 2             & 1             & 1             & 1             & 1             & 1             & 1             & 4            \\\\\n",
       "\t 10232160      & L             & Width         & 0             & 0             & 0             & 0             & 1             & 1             & LC            & ...           & 1             & 1             & 0             & 1             & 1             & 1             & 1             & 1             & 1             & 4            \\\\\n",
       "\\end{tabular}\n"
      ],
      "text/markdown": [
       "\n",
       "sid | sim | variable | pre | main | cvs_graph | cvs_table | qual_score | quant_score | activity_order | ... | pre_with_ident | main_with_ident | CVS_context | use_table | use_graph | use_concentration | use_width | use_area | use_separation | use_all_vars | \n",
       "|---|---|---|---|---|---|\n",
       "| 10127163      | L             | Concentration | 0             | 2             | 1             | 1             | 1             | 1             | LC            | ...           | 1             | 3             | 2             | 1             | 1             | 1             | 1             | 1             | 1             | 4             | \n",
       "| 10127163      | L             | Width         | 0             | 2             | 1             | 1             | 1             | 1             | LC            | ...           | 1             | 3             | 2             | 1             | 1             | 1             | 1             | 1             | 1             | 4             | \n",
       "| 10127163      | C             | Area          | 2             | 2             | 1             | 1             | 1             | 1             | LC            | ...           | 3             | 3             | 2             | 1             | 1             | 1             | 1             | 1             | 1             | 4             | \n",
       "| 10127163      | C             | Separation    | 2             | 2             | 1             | 1             | 1             | 1             | LC            | ...           | 3             | 3             | 2             | 1             | 1             | 1             | 1             | 1             | 1             | 4             | \n",
       "| 10232160      | L             | Concentration | 0             | 0             | 1             | 1             | 1             | 1             | LC            | ...           | 1             | 1             | 2             | 1             | 1             | 1             | 1             | 1             | 1             | 4             | \n",
       "| 10232160      | L             | Width         | 0             | 0             | 0             | 0             | 1             | 1             | LC            | ...           | 1             | 1             | 0             | 1             | 1             | 1             | 1             | 1             | 1             | 4             | \n",
       "\n",
       "\n"
      ],
      "text/plain": [
       "  sid      sim variable      pre main cvs_graph cvs_table qual_score\n",
       "1 10127163 L   Concentration 0   2    1         1         1         \n",
       "2 10127163 L   Width         0   2    1         1         1         \n",
       "3 10127163 C   Area          2   2    1         1         1         \n",
       "4 10127163 C   Separation    2   2    1         1         1         \n",
       "5 10232160 L   Concentration 0   0    1         1         1         \n",
       "6 10232160 L   Width         0   0    0         0         1         \n",
       "  quant_score activity_order ... pre_with_ident main_with_ident CVS_context\n",
       "1 1           LC             ... 1              3               2          \n",
       "2 1           LC             ... 1              3               2          \n",
       "3 1           LC             ... 3              3               2          \n",
       "4 1           LC             ... 3              3               2          \n",
       "5 1           LC             ... 1              1               2          \n",
       "6 1           LC             ... 1              1               0          \n",
       "  use_table use_graph use_concentration use_width use_area use_separation\n",
       "1 1         1         1                 1         1        1             \n",
       "2 1         1         1                 1         1        1             \n",
       "3 1         1         1                 1         1        1             \n",
       "4 1         1         1                 1         1        1             \n",
       "5 1         1         1                 1         1        1             \n",
       "6 1         1         1                 1         1        1             \n",
       "  use_all_vars\n",
       "1 4           \n",
       "2 4           \n",
       "3 4           \n",
       "4 4           \n",
       "5 4           \n",
       "6 4           "
      ]
     },
     "metadata": {},
     "output_type": "display_data"
    },
    {
     "data": {
      "text/html": [
       "<ol class=list-inline>\n",
       "\t<li>'sid'</li>\n",
       "\t<li>'sim'</li>\n",
       "\t<li>'variable'</li>\n",
       "\t<li>'pre'</li>\n",
       "\t<li>'main'</li>\n",
       "\t<li>'cvs_graph'</li>\n",
       "\t<li>'cvs_table'</li>\n",
       "\t<li>'qual_score'</li>\n",
       "\t<li>'quant_score'</li>\n",
       "\t<li>'activity_order'</li>\n",
       "\t<li>'sim_index'</li>\n",
       "\t<li>'similar_sim'</li>\n",
       "\t<li>'lab_experience'</li>\n",
       "\t<li>'prior_number_virtual_labs'</li>\n",
       "\t<li>'overall.POCC'</li>\n",
       "\t<li>'PC1'</li>\n",
       "\t<li>'PC2'</li>\n",
       "\t<li>'pre_with_ident'</li>\n",
       "\t<li>'main_with_ident'</li>\n",
       "\t<li>'CVS_context'</li>\n",
       "\t<li>'use_table'</li>\n",
       "\t<li>'use_graph'</li>\n",
       "\t<li>'use_concentration'</li>\n",
       "\t<li>'use_width'</li>\n",
       "\t<li>'use_area'</li>\n",
       "\t<li>'use_separation'</li>\n",
       "\t<li>'use_all_vars'</li>\n",
       "</ol>\n"
      ],
      "text/latex": [
       "\\begin{enumerate*}\n",
       "\\item 'sid'\n",
       "\\item 'sim'\n",
       "\\item 'variable'\n",
       "\\item 'pre'\n",
       "\\item 'main'\n",
       "\\item 'cvs\\_graph'\n",
       "\\item 'cvs\\_table'\n",
       "\\item 'qual\\_score'\n",
       "\\item 'quant\\_score'\n",
       "\\item 'activity\\_order'\n",
       "\\item 'sim\\_index'\n",
       "\\item 'similar\\_sim'\n",
       "\\item 'lab\\_experience'\n",
       "\\item 'prior\\_number\\_virtual\\_labs'\n",
       "\\item 'overall.POCC'\n",
       "\\item 'PC1'\n",
       "\\item 'PC2'\n",
       "\\item 'pre\\_with\\_ident'\n",
       "\\item 'main\\_with\\_ident'\n",
       "\\item 'CVS\\_context'\n",
       "\\item 'use\\_table'\n",
       "\\item 'use\\_graph'\n",
       "\\item 'use\\_concentration'\n",
       "\\item 'use\\_width'\n",
       "\\item 'use\\_area'\n",
       "\\item 'use\\_separation'\n",
       "\\item 'use\\_all\\_vars'\n",
       "\\end{enumerate*}\n"
      ],
      "text/markdown": [
       "1. 'sid'\n",
       "2. 'sim'\n",
       "3. 'variable'\n",
       "4. 'pre'\n",
       "5. 'main'\n",
       "6. 'cvs_graph'\n",
       "7. 'cvs_table'\n",
       "8. 'qual_score'\n",
       "9. 'quant_score'\n",
       "10. 'activity_order'\n",
       "11. 'sim_index'\n",
       "12. 'similar_sim'\n",
       "13. 'lab_experience'\n",
       "14. 'prior_number_virtual_labs'\n",
       "15. 'overall.POCC'\n",
       "16. 'PC1'\n",
       "17. 'PC2'\n",
       "18. 'pre_with_ident'\n",
       "19. 'main_with_ident'\n",
       "20. 'CVS_context'\n",
       "21. 'use_table'\n",
       "22. 'use_graph'\n",
       "23. 'use_concentration'\n",
       "24. 'use_width'\n",
       "25. 'use_area'\n",
       "26. 'use_separation'\n",
       "27. 'use_all_vars'\n",
       "\n",
       "\n"
      ],
      "text/plain": [
       " [1] \"sid\"                       \"sim\"                      \n",
       " [3] \"variable\"                  \"pre\"                      \n",
       " [5] \"main\"                      \"cvs_graph\"                \n",
       " [7] \"cvs_table\"                 \"qual_score\"               \n",
       " [9] \"quant_score\"               \"activity_order\"           \n",
       "[11] \"sim_index\"                 \"similar_sim\"              \n",
       "[13] \"lab_experience\"            \"prior_number_virtual_labs\"\n",
       "[15] \"overall.POCC\"              \"PC1\"                      \n",
       "[17] \"PC2\"                       \"pre_with_ident\"           \n",
       "[19] \"main_with_ident\"           \"CVS_context\"              \n",
       "[21] \"use_table\"                 \"use_graph\"                \n",
       "[23] \"use_concentration\"         \"use_width\"                \n",
       "[25] \"use_area\"                  \"use_separation\"           \n",
       "[27] \"use_all_vars\"             "
      ]
     },
     "metadata": {},
     "output_type": "display_data"
    }
   ],
   "source": [
    "head(mydata)\n",
    "colnames(mydata)"
   ]
  },
  {
   "cell_type": "markdown",
   "metadata": {
    "hideCode": true,
    "hidePrompt": true
   },
   "source": [
    "# Stat model 1: Predicting main model scores"
   ]
  },
  {
   "cell_type": "markdown",
   "metadata": {},
   "source": [
    "We try to predict the type of model in the main worksheet (0,1 or 2 for neither, qual or quant). To do so, we have 10 independant variables:\n",
    "* sim_index (1 or 2, wither it was student's 1st or 2nd activity)\n",
    "* variable (thus don't include sim)\n",
    "* CVS_graph (0 or 1)\n",
    "* CVS_table (0 or 1)\n",
    "* pre (0,1,2)\n",
    "* student attributes: lab_experience, similar_sim, prior_number_virtual_labs, attitude components\n",
    "\n",
    "https://www.statmethods.net/stats/anova.html"
   ]
  },
  {
   "cell_type": "markdown",
   "metadata": {},
   "source": [
    "## Using type 1 and aov package"
   ]
  },
  {
   "cell_type": "markdown",
   "metadata": {},
   "source": [
    "Without repeated measures but including sid as a term"
   ]
  },
  {
   "cell_type": "code",
   "execution_count": 122,
   "metadata": {},
   "outputs": [
    {
     "data": {
      "text/plain": [
       "                           Df Sum Sq Mean Sq F value   Pr(>F)    \n",
       "cvs_graph                   1  29.02  29.021 127.387  < 2e-16 ***\n",
       "cvs_table                   1   0.92   0.922   4.046  0.04491 *  \n",
       "variable                    3   1.80   0.599   2.630  0.04968 *  \n",
       "sim_index                   1   2.40   2.405  10.555  0.00125 ** \n",
       "pre                         1   7.49   7.485  32.856 1.86e-08 ***\n",
       "lab_experience              1   0.07   0.065   0.286  0.59338    \n",
       "similar_sim                 1   0.08   0.078   0.344  0.55768    \n",
       "prior_number_virtual_labs   1   0.39   0.391   1.717  0.19080    \n",
       "overall.POCC                1   0.85   0.848   3.723  0.05434 .  \n",
       "PC1                         1   0.11   0.107   0.470  0.49317    \n",
       "PC2                         1   0.38   0.378   1.658  0.19862    \n",
       "sid                       141  98.47   0.698   3.065  < 2e-16 ***\n",
       "Residuals                 433  98.64   0.228                     \n",
       "---\n",
       "Signif. codes:  0 '***' 0.001 '**' 0.01 '*' 0.05 '.' 0.1 ' ' 1"
      ]
     },
     "metadata": {},
     "output_type": "display_data"
    }
   ],
   "source": [
    "am1 <- aov(main\n",
    "    ~  cvs_graph + cvs_table + variable + sim_index + pre\n",
    "    + lab_experience + similar_sim + prior_number_virtual_labs + overall.POCC\n",
    "    +  PC1 + PC2 + sid, data=mydata)\n",
    "summary(am1)"
   ]
  },
  {
   "cell_type": "code",
   "execution_count": 123,
   "metadata": {},
   "outputs": [
    {
     "data": {
      "text/html": [
       "<table>\n",
       "<thead><tr><th></th><th scope=col>Df</th><th scope=col>Sum of Sq</th><th scope=col>RSS</th><th scope=col>AIC</th><th scope=col>F value</th><th scope=col>Pr(&gt;F)</th></tr></thead>\n",
       "<tbody>\n",
       "\t<tr><th scope=row>&lt;none&gt;</th><td> NA          </td><td>           NA</td><td> 98.64319    </td><td>-739.7080    </td><td>          NA </td><td>          NA </td></tr>\n",
       "\t<tr><th scope=row>cvs_graph</th><td>  1          </td><td> 2.847763e+00</td><td>101.49095    </td><td>-724.9733    </td><td>12.500420043 </td><td>4.507331e-04 </td></tr>\n",
       "\t<tr><th scope=row>cvs_table</th><td>  1          </td><td> 2.948199e-03</td><td> 98.64614    </td><td>-741.6905    </td><td> 0.012941292 </td><td>9.094809e-01 </td></tr>\n",
       "\t<tr><th scope=row>variable</th><td>  3          </td><td> 2.053713e+00</td><td>100.69690    </td><td>-733.5918    </td><td> 3.004964024 </td><td>3.020047e-02 </td></tr>\n",
       "\t<tr><th scope=row>sim_index</th><td>  1          </td><td> 2.747183e+00</td><td>101.39037    </td><td>-725.5563    </td><td>12.058916980 </td><td>5.672906e-04 </td></tr>\n",
       "\t<tr><th scope=row>pre</th><td>  1          </td><td> 5.046346e-01</td><td> 99.14782    </td><td>-738.7076    </td><td> 2.215122837 </td><td>1.373921e-01 </td></tr>\n",
       "\t<tr><th scope=row>lab_experience</th><td>  0          </td><td> 1.421085e-14</td><td> 98.64319    </td><td>-739.7080    </td><td>          NA </td><td>          NA </td></tr>\n",
       "\t<tr><th scope=row>similar_sim</th><td>  1          </td><td> 1.078127e-03</td><td> 98.64427    </td><td>-741.7016    </td><td> 0.004732502 </td><td>9.451860e-01 </td></tr>\n",
       "\t<tr><th scope=row>prior_number_virtual_labs</th><td>  0          </td><td>-2.842171e-14</td><td> 98.64319    </td><td>-739.7080    </td><td>          NA </td><td>          NA </td></tr>\n",
       "\t<tr><th scope=row>overall.POCC</th><td>  0          </td><td> 1.421085e-14</td><td> 98.64319    </td><td>-739.7080    </td><td>          NA </td><td>          NA </td></tr>\n",
       "\t<tr><th scope=row>PC1</th><td>  0          </td><td>-4.263256e-14</td><td> 98.64319    </td><td>-739.7080    </td><td>          NA </td><td>          NA </td></tr>\n",
       "\t<tr><th scope=row>PC2</th><td>  0          </td><td> 1.421085e-14</td><td> 98.64319    </td><td>-739.7080    </td><td>          NA </td><td>          NA </td></tr>\n",
       "\t<tr><th scope=row>sid</th><td>141          </td><td> 9.846526e+01</td><td>197.10845    </td><td>-614.6680    </td><td> 3.065382840 </td><td>5.555436e-19 </td></tr>\n",
       "</tbody>\n",
       "</table>\n"
      ],
      "text/latex": [
       "\\begin{tabular}{r|llllll}\n",
       "  & Df & Sum of Sq & RSS & AIC & F value & Pr(>F)\\\\\n",
       "\\hline\n",
       "\t<none> &  NA           &            NA &  98.64319     & -739.7080     &           NA  &           NA \\\\\n",
       "\tcvs\\_graph &   1           &  2.847763e+00 & 101.49095     & -724.9733     & 12.500420043  & 4.507331e-04 \\\\\n",
       "\tcvs\\_table &   1           &  2.948199e-03 &  98.64614     & -741.6905     &  0.012941292  & 9.094809e-01 \\\\\n",
       "\tvariable &   3           &  2.053713e+00 & 100.69690     & -733.5918     &  3.004964024  & 3.020047e-02 \\\\\n",
       "\tsim\\_index &   1           &  2.747183e+00 & 101.39037     & -725.5563     & 12.058916980  & 5.672906e-04 \\\\\n",
       "\tpre &   1           &  5.046346e-01 &  99.14782     & -738.7076     &  2.215122837  & 1.373921e-01 \\\\\n",
       "\tlab\\_experience &   0           &  1.421085e-14 &  98.64319     & -739.7080     &           NA  &           NA \\\\\n",
       "\tsimilar\\_sim &   1           &  1.078127e-03 &  98.64427     & -741.7016     &  0.004732502  & 9.451860e-01 \\\\\n",
       "\tprior\\_number\\_virtual\\_labs &   0           & -2.842171e-14 &  98.64319     & -739.7080     &           NA  &           NA \\\\\n",
       "\toverall.POCC &   0           &  1.421085e-14 &  98.64319     & -739.7080     &           NA  &           NA \\\\\n",
       "\tPC1 &   0           & -4.263256e-14 &  98.64319     & -739.7080     &           NA  &           NA \\\\\n",
       "\tPC2 &   0           &  1.421085e-14 &  98.64319     & -739.7080     &           NA  &           NA \\\\\n",
       "\tsid & 141           &  9.846526e+01 & 197.10845     & -614.6680     &  3.065382840  & 5.555436e-19 \\\\\n",
       "\\end{tabular}\n"
      ],
      "text/markdown": [
       "\n",
       "| <!--/--> | Df | Sum of Sq | RSS | AIC | F value | Pr(>F) | \n",
       "|---|---|---|---|---|---|---|---|---|---|---|---|---|\n",
       "| <none> |  NA           |            NA |  98.64319     | -739.7080     |           NA  |           NA  | \n",
       "| cvs_graph |   1           |  2.847763e+00 | 101.49095     | -724.9733     | 12.500420043  | 4.507331e-04  | \n",
       "| cvs_table |   1           |  2.948199e-03 |  98.64614     | -741.6905     |  0.012941292  | 9.094809e-01  | \n",
       "| variable |   3           |  2.053713e+00 | 100.69690     | -733.5918     |  3.004964024  | 3.020047e-02  | \n",
       "| sim_index |   1           |  2.747183e+00 | 101.39037     | -725.5563     | 12.058916980  | 5.672906e-04  | \n",
       "| pre |   1           |  5.046346e-01 |  99.14782     | -738.7076     |  2.215122837  | 1.373921e-01  | \n",
       "| lab_experience |   0           |  1.421085e-14 |  98.64319     | -739.7080     |           NA  |           NA  | \n",
       "| similar_sim |   1           |  1.078127e-03 |  98.64427     | -741.7016     |  0.004732502  | 9.451860e-01  | \n",
       "| prior_number_virtual_labs |   0           | -2.842171e-14 |  98.64319     | -739.7080     |           NA  |           NA  | \n",
       "| overall.POCC |   0           |  1.421085e-14 |  98.64319     | -739.7080     |           NA  |           NA  | \n",
       "| PC1 |   0           | -4.263256e-14 |  98.64319     | -739.7080     |           NA  |           NA  | \n",
       "| PC2 |   0           |  1.421085e-14 |  98.64319     | -739.7080     |           NA  |           NA  | \n",
       "| sid | 141           |  9.846526e+01 | 197.10845     | -614.6680     |  3.065382840  | 5.555436e-19  | \n",
       "\n",
       "\n"
      ],
      "text/plain": [
       "                          Df  Sum of Sq     RSS       AIC       F value     \n",
       "<none>                     NA            NA  98.64319 -739.7080           NA\n",
       "cvs_graph                   1  2.847763e+00 101.49095 -724.9733 12.500420043\n",
       "cvs_table                   1  2.948199e-03  98.64614 -741.6905  0.012941292\n",
       "variable                    3  2.053713e+00 100.69690 -733.5918  3.004964024\n",
       "sim_index                   1  2.747183e+00 101.39037 -725.5563 12.058916980\n",
       "pre                         1  5.046346e-01  99.14782 -738.7076  2.215122837\n",
       "lab_experience              0  1.421085e-14  98.64319 -739.7080           NA\n",
       "similar_sim                 1  1.078127e-03  98.64427 -741.7016  0.004732502\n",
       "prior_number_virtual_labs   0 -2.842171e-14  98.64319 -739.7080           NA\n",
       "overall.POCC                0  1.421085e-14  98.64319 -739.7080           NA\n",
       "PC1                         0 -4.263256e-14  98.64319 -739.7080           NA\n",
       "PC2                         0  1.421085e-14  98.64319 -739.7080           NA\n",
       "sid                       141  9.846526e+01 197.10845 -614.6680  3.065382840\n",
       "                          Pr(>F)      \n",
       "<none>                              NA\n",
       "cvs_graph                 4.507331e-04\n",
       "cvs_table                 9.094809e-01\n",
       "variable                  3.020047e-02\n",
       "sim_index                 5.672906e-04\n",
       "pre                       1.373921e-01\n",
       "lab_experience                      NA\n",
       "similar_sim               9.451860e-01\n",
       "prior_number_virtual_labs           NA\n",
       "overall.POCC                        NA\n",
       "PC1                                 NA\n",
       "PC2                                 NA\n",
       "sid                       5.555436e-19"
      ]
     },
     "metadata": {},
     "output_type": "display_data"
    }
   ],
   "source": [
    "drop1(am1,~.,test=\"F\")"
   ]
  },
  {
   "cell_type": "code",
   "execution_count": null,
   "metadata": {},
   "outputs": [],
   "source": [
    "test <- Anova(lm(main\n",
    "    ~  cvs_table + cvs_graph + variable + sim_index + pre\n",
    "    + similar_sim + sid, data=mydata),type=3)\n",
    "test"
   ]
  },
  {
   "cell_type": "code",
   "execution_count": 140,
   "metadata": {},
   "outputs": [],
   "source": [
    "lm1 <- lm(main\n",
    "    ~  cvs_table + cvs_graph*pre + variable + sim_index\n",
    "    + sid, data=mydata)"
   ]
  },
  {
   "cell_type": "code",
   "execution_count": 141,
   "metadata": {},
   "outputs": [
    {
     "data": {
      "text/html": [
       "<table>\n",
       "<thead><tr><th></th><th scope=col>Sum Sq</th><th scope=col>Df</th><th scope=col>F value</th><th scope=col>Pr(&gt;F)</th></tr></thead>\n",
       "<tbody>\n",
       "\t<tr><th scope=row>cvs_table</th><td>8.120167e-04</td><td>  1         </td><td> 0.00356978 </td><td>9.523842e-01</td></tr>\n",
       "\t<tr><th scope=row>cvs_graph</th><td>2.846821e+00</td><td>  1         </td><td>12.51516916 </td><td>4.472888e-04</td></tr>\n",
       "\t<tr><th scope=row>pre</th><td>5.063759e-01</td><td>  1         </td><td> 2.22612479 </td><td>1.364220e-01</td></tr>\n",
       "\t<tr><th scope=row>variable</th><td>2.244563e+00</td><td>  3         </td><td> 3.28917482 </td><td>2.064470e-02</td></tr>\n",
       "\t<tr><th scope=row>sim_index</th><td>2.693305e+00</td><td>  1         </td><td>11.84028078 </td><td>6.358989e-04</td></tr>\n",
       "\t<tr><th scope=row>sid</th><td>1.004755e+02</td><td>146         </td><td> 3.02540848 </td><td>6.635509e-19</td></tr>\n",
       "\t<tr><th scope=row>cvs_graph:pre</th><td>1.498976e-01</td><td>  1         </td><td> 0.65897860 </td><td>4.173668e-01</td></tr>\n",
       "\t<tr><th scope=row>Residuals</th><td>9.849437e+01</td><td>433         </td><td>         NA </td><td>          NA</td></tr>\n",
       "</tbody>\n",
       "</table>\n"
      ],
      "text/latex": [
       "\\begin{tabular}{r|llll}\n",
       "  & Sum Sq & Df & F value & Pr(>F)\\\\\n",
       "\\hline\n",
       "\tcvs\\_table & 8.120167e-04 &   1          &  0.00356978  & 9.523842e-01\\\\\n",
       "\tcvs\\_graph & 2.846821e+00 &   1          & 12.51516916  & 4.472888e-04\\\\\n",
       "\tpre & 5.063759e-01 &   1          &  2.22612479  & 1.364220e-01\\\\\n",
       "\tvariable & 2.244563e+00 &   3          &  3.28917482  & 2.064470e-02\\\\\n",
       "\tsim\\_index & 2.693305e+00 &   1          & 11.84028078  & 6.358989e-04\\\\\n",
       "\tsid & 1.004755e+02 & 146          &  3.02540848  & 6.635509e-19\\\\\n",
       "\tcvs\\_graph:pre & 1.498976e-01 &   1          &  0.65897860  & 4.173668e-01\\\\\n",
       "\tResiduals & 9.849437e+01 & 433          &          NA  &           NA\\\\\n",
       "\\end{tabular}\n"
      ],
      "text/markdown": [
       "\n",
       "| <!--/--> | Sum Sq | Df | F value | Pr(>F) | \n",
       "|---|---|---|---|---|---|---|---|\n",
       "| cvs_table | 8.120167e-04 |   1          |  0.00356978  | 9.523842e-01 | \n",
       "| cvs_graph | 2.846821e+00 |   1          | 12.51516916  | 4.472888e-04 | \n",
       "| pre | 5.063759e-01 |   1          |  2.22612479  | 1.364220e-01 | \n",
       "| variable | 2.244563e+00 |   3          |  3.28917482  | 2.064470e-02 | \n",
       "| sim_index | 2.693305e+00 |   1          | 11.84028078  | 6.358989e-04 | \n",
       "| sid | 1.004755e+02 | 146          |  3.02540848  | 6.635509e-19 | \n",
       "| cvs_graph:pre | 1.498976e-01 |   1          |  0.65897860  | 4.173668e-01 | \n",
       "| Residuals | 9.849437e+01 | 433          |          NA  |           NA | \n",
       "\n",
       "\n"
      ],
      "text/plain": [
       "              Sum Sq       Df  F value     Pr(>F)      \n",
       "cvs_table     8.120167e-04   1  0.00356978 9.523842e-01\n",
       "cvs_graph     2.846821e+00   1 12.51516916 4.472888e-04\n",
       "pre           5.063759e-01   1  2.22612479 1.364220e-01\n",
       "variable      2.244563e+00   3  3.28917482 2.064470e-02\n",
       "sim_index     2.693305e+00   1 11.84028078 6.358989e-04\n",
       "sid           1.004755e+02 146  3.02540848 6.635509e-19\n",
       "cvs_graph:pre 1.498976e-01   1  0.65897860 4.173668e-01\n",
       "Residuals     9.849437e+01 433          NA           NA"
      ]
     },
     "metadata": {},
     "output_type": "display_data"
    }
   ],
   "source": [
    "Anova(lm1)"
   ]
  },
  {
   "cell_type": "code",
   "execution_count": 142,
   "metadata": {},
   "outputs": [
    {
     "data": {
      "text/html": [
       "<table>\n",
       "<thead><tr><th></th><th scope=col>Sum Sq</th><th scope=col>Df</th><th scope=col>F value</th><th scope=col>Pr(&gt;F)</th></tr></thead>\n",
       "<tbody>\n",
       "\t<tr><th scope=row>cvs_table</th><td>8.120167e-04</td><td>  1         </td><td> 0.00356978 </td><td>9.523842e-01</td></tr>\n",
       "\t<tr><th scope=row>cvs_graph</th><td>2.846821e+00</td><td>  1         </td><td>12.51516916 </td><td>4.472888e-04</td></tr>\n",
       "\t<tr><th scope=row>pre</th><td>5.063759e-01</td><td>  1         </td><td> 2.22612479 </td><td>1.364220e-01</td></tr>\n",
       "\t<tr><th scope=row>variable</th><td>2.244563e+00</td><td>  3         </td><td> 3.28917482 </td><td>2.064470e-02</td></tr>\n",
       "\t<tr><th scope=row>sim_index</th><td>2.693305e+00</td><td>  1         </td><td>11.84028078 </td><td>6.358989e-04</td></tr>\n",
       "\t<tr><th scope=row>sid</th><td>1.004755e+02</td><td>146         </td><td> 3.02540848 </td><td>6.635509e-19</td></tr>\n",
       "\t<tr><th scope=row>cvs_graph:pre</th><td>1.498976e-01</td><td>  1         </td><td> 0.65897860 </td><td>4.173668e-01</td></tr>\n",
       "\t<tr><th scope=row>Residuals</th><td>9.849437e+01</td><td>433         </td><td>         NA </td><td>          NA</td></tr>\n",
       "</tbody>\n",
       "</table>\n"
      ],
      "text/latex": [
       "\\begin{tabular}{r|llll}\n",
       "  & Sum Sq & Df & F value & Pr(>F)\\\\\n",
       "\\hline\n",
       "\tcvs\\_table & 8.120167e-04 &   1          &  0.00356978  & 9.523842e-01\\\\\n",
       "\tcvs\\_graph & 2.846821e+00 &   1          & 12.51516916  & 4.472888e-04\\\\\n",
       "\tpre & 5.063759e-01 &   1          &  2.22612479  & 1.364220e-01\\\\\n",
       "\tvariable & 2.244563e+00 &   3          &  3.28917482  & 2.064470e-02\\\\\n",
       "\tsim\\_index & 2.693305e+00 &   1          & 11.84028078  & 6.358989e-04\\\\\n",
       "\tsid & 1.004755e+02 & 146          &  3.02540848  & 6.635509e-19\\\\\n",
       "\tcvs\\_graph:pre & 1.498976e-01 &   1          &  0.65897860  & 4.173668e-01\\\\\n",
       "\tResiduals & 9.849437e+01 & 433          &          NA  &           NA\\\\\n",
       "\\end{tabular}\n"
      ],
      "text/markdown": [
       "\n",
       "| <!--/--> | Sum Sq | Df | F value | Pr(>F) | \n",
       "|---|---|---|---|---|---|---|---|\n",
       "| cvs_table | 8.120167e-04 |   1          |  0.00356978  | 9.523842e-01 | \n",
       "| cvs_graph | 2.846821e+00 |   1          | 12.51516916  | 4.472888e-04 | \n",
       "| pre | 5.063759e-01 |   1          |  2.22612479  | 1.364220e-01 | \n",
       "| variable | 2.244563e+00 |   3          |  3.28917482  | 2.064470e-02 | \n",
       "| sim_index | 2.693305e+00 |   1          | 11.84028078  | 6.358989e-04 | \n",
       "| sid | 1.004755e+02 | 146          |  3.02540848  | 6.635509e-19 | \n",
       "| cvs_graph:pre | 1.498976e-01 |   1          |  0.65897860  | 4.173668e-01 | \n",
       "| Residuals | 9.849437e+01 | 433          |          NA  |           NA | \n",
       "\n",
       "\n"
      ],
      "text/plain": [
       "              Sum Sq       Df  F value     Pr(>F)      \n",
       "cvs_table     8.120167e-04   1  0.00356978 9.523842e-01\n",
       "cvs_graph     2.846821e+00   1 12.51516916 4.472888e-04\n",
       "pre           5.063759e-01   1  2.22612479 1.364220e-01\n",
       "variable      2.244563e+00   3  3.28917482 2.064470e-02\n",
       "sim_index     2.693305e+00   1 11.84028078 6.358989e-04\n",
       "sid           1.004755e+02 146  3.02540848 6.635509e-19\n",
       "cvs_graph:pre 1.498976e-01   1  0.65897860 4.173668e-01\n",
       "Residuals     9.849437e+01 433          NA           NA"
      ]
     },
     "metadata": {},
     "output_type": "display_data"
    }
   ],
   "source": [
    "Anova(lm1, type=2)"
   ]
  },
  {
   "cell_type": "code",
   "execution_count": 143,
   "metadata": {},
   "outputs": [
    {
     "data": {
      "text/html": [
       "<table>\n",
       "<thead><tr><th></th><th scope=col>Sum Sq</th><th scope=col>Df</th><th scope=col>F value</th><th scope=col>Pr(&gt;F)</th></tr></thead>\n",
       "<tbody>\n",
       "\t<tr><th scope=row>(Intercept)</th><td>8.666325e+00</td><td>  1         </td><td>38.09881266 </td><td>1.547874e-09</td></tr>\n",
       "\t<tr><th scope=row>cvs_table</th><td>8.120167e-04</td><td>  1         </td><td> 0.00356978 </td><td>9.523842e-01</td></tr>\n",
       "\t<tr><th scope=row>cvs_graph</th><td>1.946973e+00</td><td>  1         </td><td> 8.55926366 </td><td>3.618463e-03</td></tr>\n",
       "\t<tr><th scope=row>pre</th><td>4.178006e-02</td><td>  1         </td><td> 0.18367311 </td><td>6.684486e-01</td></tr>\n",
       "\t<tr><th scope=row>variable</th><td>2.244563e+00</td><td>  3         </td><td> 3.28917482 </td><td>2.064470e-02</td></tr>\n",
       "\t<tr><th scope=row>sim_index</th><td>2.693305e+00</td><td>  1         </td><td>11.84028078 </td><td>6.358989e-04</td></tr>\n",
       "\t<tr><th scope=row>sid</th><td>1.004755e+02</td><td>146         </td><td> 3.02540848 </td><td>6.635509e-19</td></tr>\n",
       "\t<tr><th scope=row>cvs_graph:pre</th><td>1.498976e-01</td><td>  1         </td><td> 0.65897860 </td><td>4.173668e-01</td></tr>\n",
       "\t<tr><th scope=row>Residuals</th><td>9.849437e+01</td><td>433         </td><td>         NA </td><td>          NA</td></tr>\n",
       "</tbody>\n",
       "</table>\n"
      ],
      "text/latex": [
       "\\begin{tabular}{r|llll}\n",
       "  & Sum Sq & Df & F value & Pr(>F)\\\\\n",
       "\\hline\n",
       "\t(Intercept) & 8.666325e+00 &   1          & 38.09881266  & 1.547874e-09\\\\\n",
       "\tcvs\\_table & 8.120167e-04 &   1          &  0.00356978  & 9.523842e-01\\\\\n",
       "\tcvs\\_graph & 1.946973e+00 &   1          &  8.55926366  & 3.618463e-03\\\\\n",
       "\tpre & 4.178006e-02 &   1          &  0.18367311  & 6.684486e-01\\\\\n",
       "\tvariable & 2.244563e+00 &   3          &  3.28917482  & 2.064470e-02\\\\\n",
       "\tsim\\_index & 2.693305e+00 &   1          & 11.84028078  & 6.358989e-04\\\\\n",
       "\tsid & 1.004755e+02 & 146          &  3.02540848  & 6.635509e-19\\\\\n",
       "\tcvs\\_graph:pre & 1.498976e-01 &   1          &  0.65897860  & 4.173668e-01\\\\\n",
       "\tResiduals & 9.849437e+01 & 433          &          NA  &           NA\\\\\n",
       "\\end{tabular}\n"
      ],
      "text/markdown": [
       "\n",
       "| <!--/--> | Sum Sq | Df | F value | Pr(>F) | \n",
       "|---|---|---|---|---|---|---|---|---|\n",
       "| (Intercept) | 8.666325e+00 |   1          | 38.09881266  | 1.547874e-09 | \n",
       "| cvs_table | 8.120167e-04 |   1          |  0.00356978  | 9.523842e-01 | \n",
       "| cvs_graph | 1.946973e+00 |   1          |  8.55926366  | 3.618463e-03 | \n",
       "| pre | 4.178006e-02 |   1          |  0.18367311  | 6.684486e-01 | \n",
       "| variable | 2.244563e+00 |   3          |  3.28917482  | 2.064470e-02 | \n",
       "| sim_index | 2.693305e+00 |   1          | 11.84028078  | 6.358989e-04 | \n",
       "| sid | 1.004755e+02 | 146          |  3.02540848  | 6.635509e-19 | \n",
       "| cvs_graph:pre | 1.498976e-01 |   1          |  0.65897860  | 4.173668e-01 | \n",
       "| Residuals | 9.849437e+01 | 433          |          NA  |           NA | \n",
       "\n",
       "\n"
      ],
      "text/plain": [
       "              Sum Sq       Df  F value     Pr(>F)      \n",
       "(Intercept)   8.666325e+00   1 38.09881266 1.547874e-09\n",
       "cvs_table     8.120167e-04   1  0.00356978 9.523842e-01\n",
       "cvs_graph     1.946973e+00   1  8.55926366 3.618463e-03\n",
       "pre           4.178006e-02   1  0.18367311 6.684486e-01\n",
       "variable      2.244563e+00   3  3.28917482 2.064470e-02\n",
       "sim_index     2.693305e+00   1 11.84028078 6.358989e-04\n",
       "sid           1.004755e+02 146  3.02540848 6.635509e-19\n",
       "cvs_graph:pre 1.498976e-01   1  0.65897860 4.173668e-01\n",
       "Residuals     9.849437e+01 433          NA           NA"
      ]
     },
     "metadata": {},
     "output_type": "display_data"
    }
   ],
   "source": [
    "Anova(lm1, type=3)"
   ]
  },
  {
   "cell_type": "code",
   "execution_count": null,
   "metadata": {},
   "outputs": [],
   "source": []
  },
  {
   "cell_type": "code",
   "execution_count": null,
   "metadata": {},
   "outputs": [],
   "source": []
  },
  {
   "cell_type": "code",
   "execution_count": 120,
   "metadata": {},
   "outputs": [
    {
     "data": {
      "text/html": [
       "<table>\n",
       "<thead><tr><th></th><th scope=col>Sum Sq</th><th scope=col>Df</th><th scope=col>F value</th><th scope=col>Pr(&gt;F)</th></tr></thead>\n",
       "<tbody>\n",
       "\t<tr><th scope=row>(Intercept)</th><td>875.6046297  </td><td>  1          </td><td>2431.504843  </td><td>1.595791e-210</td></tr>\n",
       "\t<tr><th scope=row>cvs_table</th><td>  0.9216301  </td><td>  1          </td><td>   2.559315  </td><td> 1.101860e-01</td></tr>\n",
       "\t<tr><th scope=row>cvs_graph</th><td>  8.4328385  </td><td>  1          </td><td>  23.417519  </td><td> 1.670149e-06</td></tr>\n",
       "\t<tr><th scope=row>Residuals</th><td>210.6632483  </td><td>585          </td><td>         NA  </td><td>           NA</td></tr>\n",
       "</tbody>\n",
       "</table>\n"
      ],
      "text/latex": [
       "\\begin{tabular}{r|llll}\n",
       "  & Sum Sq & Df & F value & Pr(>F)\\\\\n",
       "\\hline\n",
       "\t(Intercept) & 875.6046297   &   1           & 2431.504843   & 1.595791e-210\\\\\n",
       "\tcvs\\_table &   0.9216301   &   1           &    2.559315   &  1.101860e-01\\\\\n",
       "\tcvs\\_graph &   8.4328385   &   1           &   23.417519   &  1.670149e-06\\\\\n",
       "\tResiduals & 210.6632483   & 585           &          NA   &            NA\\\\\n",
       "\\end{tabular}\n"
      ],
      "text/markdown": [
       "\n",
       "| <!--/--> | Sum Sq | Df | F value | Pr(>F) | \n",
       "|---|---|---|---|\n",
       "| (Intercept) | 875.6046297   |   1           | 2431.504843   | 1.595791e-210 | \n",
       "| cvs_table |   0.9216301   |   1           |    2.559315   |  1.101860e-01 | \n",
       "| cvs_graph |   8.4328385   |   1           |   23.417519   |  1.670149e-06 | \n",
       "| Residuals | 210.6632483   | 585           |          NA   |            NA | \n",
       "\n",
       "\n"
      ],
      "text/plain": [
       "            Sum Sq      Df  F value     Pr(>F)       \n",
       "(Intercept) 875.6046297   1 2431.504843 1.595791e-210\n",
       "cvs_table     0.9216301   1    2.559315  1.101860e-01\n",
       "cvs_graph     8.4328385   1   23.417519  1.670149e-06\n",
       "Residuals   210.6632483 585          NA            NA"
      ]
     },
     "metadata": {},
     "output_type": "display_data"
    },
    {
     "data": {
      "text/html": [
       "<table>\n",
       "<thead><tr><th></th><th scope=col>Sum Sq</th><th scope=col>Df</th><th scope=col>F value</th><th scope=col>Pr(&gt;F)</th></tr></thead>\n",
       "<tbody>\n",
       "\t<tr><th scope=row>(Intercept)</th><td>273.7241379  </td><td>  1          </td><td>760.116546   </td><td>7.453574e-108</td></tr>\n",
       "\t<tr><th scope=row>cvs_table</th><td>  0.9216301  </td><td>  1          </td><td>  2.559315   </td><td> 1.101860e-01</td></tr>\n",
       "\t<tr><th scope=row>cvs_graph</th><td>  8.4328385  </td><td>  1          </td><td> 23.417519   </td><td> 1.670149e-06</td></tr>\n",
       "\t<tr><th scope=row>Residuals</th><td>210.6632483  </td><td>585          </td><td>        NA   </td><td>           NA</td></tr>\n",
       "</tbody>\n",
       "</table>\n"
      ],
      "text/latex": [
       "\\begin{tabular}{r|llll}\n",
       "  & Sum Sq & Df & F value & Pr(>F)\\\\\n",
       "\\hline\n",
       "\t(Intercept) & 273.7241379   &   1           & 760.116546    & 7.453574e-108\\\\\n",
       "\tcvs\\_table &   0.9216301   &   1           &   2.559315    &  1.101860e-01\\\\\n",
       "\tcvs\\_graph &   8.4328385   &   1           &  23.417519    &  1.670149e-06\\\\\n",
       "\tResiduals & 210.6632483   & 585           &         NA    &            NA\\\\\n",
       "\\end{tabular}\n"
      ],
      "text/markdown": [
       "\n",
       "| <!--/--> | Sum Sq | Df | F value | Pr(>F) | \n",
       "|---|---|---|---|\n",
       "| (Intercept) | 273.7241379   |   1           | 760.116546    | 7.453574e-108 | \n",
       "| cvs_table |   0.9216301   |   1           |   2.559315    |  1.101860e-01 | \n",
       "| cvs_graph |   8.4328385   |   1           |  23.417519    |  1.670149e-06 | \n",
       "| Residuals | 210.6632483   | 585           |         NA    |            NA | \n",
       "\n",
       "\n"
      ],
      "text/plain": [
       "            Sum Sq      Df  F value    Pr(>F)       \n",
       "(Intercept) 273.7241379   1 760.116546 7.453574e-108\n",
       "cvs_table     0.9216301   1   2.559315  1.101860e-01\n",
       "cvs_graph     8.4328385   1  23.417519  1.670149e-06\n",
       "Residuals   210.6632483 585         NA            NA"
      ]
     },
     "metadata": {},
     "output_type": "display_data"
    }
   ],
   "source": [
    "Anova(lm(main\n",
    "    ~  cvs_table + cvs_graph, data=mydata, contrasts=list(cvs_graph=contr.sum, cvs_table=contr.sum)), type=3)\n",
    "Anova(lm(main\n",
    "    ~  cvs_table + cvs_graph, data=mydata), type=3)\n",
    "# Anova(lm(time ~ topic * sys, data=search, contrasts=list(topic=contr.sum, sys=contr.sum)), type=3)"
   ]
  },
  {
   "cell_type": "code",
   "execution_count": null,
   "metadata": {},
   "outputs": [],
   "source": []
  },
  {
   "cell_type": "code",
   "execution_count": null,
   "metadata": {},
   "outputs": [],
   "source": []
  },
  {
   "cell_type": "code",
   "execution_count": 79,
   "metadata": {},
   "outputs": [
    {
     "data": {
      "text/html": [
       "<table>\n",
       "<thead><tr><th></th><th scope=col>Sum Sq</th><th scope=col>Df</th><th scope=col>F value</th><th scope=col>Pr(&gt;F)</th></tr></thead>\n",
       "<tbody>\n",
       "\t<tr><th scope=row>cvs_table</th><td> 0.002948199</td><td>  1         </td><td> 0.012941292</td><td>9.094809e-01</td></tr>\n",
       "\t<tr><th scope=row>cvs_graph</th><td> 2.847762816</td><td>  1         </td><td>12.500420043</td><td>4.507331e-04</td></tr>\n",
       "\t<tr><th scope=row>variable</th><td> 2.053712943</td><td>  3         </td><td> 3.004964024</td><td>3.020047e-02</td></tr>\n",
       "\t<tr><th scope=row>sim_index</th><td> 2.747182515</td><td>  1         </td><td>12.058916980</td><td>5.672906e-04</td></tr>\n",
       "\t<tr><th scope=row>pre</th><td> 0.504634598</td><td>  1         </td><td> 2.215122837</td><td>1.373921e-01</td></tr>\n",
       "\t<tr><th scope=row>lab_experience</th><td> 0.036568667</td><td>  1         </td><td> 0.160520286</td><td>6.888756e-01</td></tr>\n",
       "\t<tr><th scope=row>similar_sim</th><td> 0.001078127</td><td>  1         </td><td> 0.004732502</td><td>9.451860e-01</td></tr>\n",
       "\t<tr><th scope=row>prior_number_virtual_labs</th><td> 0.019467908</td><td>  1         </td><td> 0.085455511</td><td>7.701761e-01</td></tr>\n",
       "\t<tr><th scope=row>overall.POCC</th><td> 0.229393925</td><td>  1         </td><td> 1.006937936</td><td>3.161980e-01</td></tr>\n",
       "\t<tr><th scope=row>PC1</th><td> 0.020122602</td><td>  1         </td><td> 0.088329328</td><td>7.664544e-01</td></tr>\n",
       "\t<tr><th scope=row>PC2</th><td> 0.011618199</td><td>  1         </td><td> 0.050998759</td><td>8.214409e-01</td></tr>\n",
       "\t<tr><th scope=row>sid</th><td>98.465262504</td><td>141         </td><td> 3.065382840</td><td>5.555436e-19</td></tr>\n",
       "\t<tr><th scope=row>Residuals</th><td>98.643189199</td><td>433         </td><td>          NA</td><td>          NA</td></tr>\n",
       "</tbody>\n",
       "</table>\n"
      ],
      "text/latex": [
       "\\begin{tabular}{r|llll}\n",
       "  & Sum Sq & Df & F value & Pr(>F)\\\\\n",
       "\\hline\n",
       "\tcvs\\_table &  0.002948199 &   1          &  0.012941292 & 9.094809e-01\\\\\n",
       "\tcvs\\_graph &  2.847762816 &   1          & 12.500420043 & 4.507331e-04\\\\\n",
       "\tvariable &  2.053712943 &   3          &  3.004964024 & 3.020047e-02\\\\\n",
       "\tsim\\_index &  2.747182515 &   1          & 12.058916980 & 5.672906e-04\\\\\n",
       "\tpre &  0.504634598 &   1          &  2.215122837 & 1.373921e-01\\\\\n",
       "\tlab\\_experience &  0.036568667 &   1          &  0.160520286 & 6.888756e-01\\\\\n",
       "\tsimilar\\_sim &  0.001078127 &   1          &  0.004732502 & 9.451860e-01\\\\\n",
       "\tprior\\_number\\_virtual\\_labs &  0.019467908 &   1          &  0.085455511 & 7.701761e-01\\\\\n",
       "\toverall.POCC &  0.229393925 &   1          &  1.006937936 & 3.161980e-01\\\\\n",
       "\tPC1 &  0.020122602 &   1          &  0.088329328 & 7.664544e-01\\\\\n",
       "\tPC2 &  0.011618199 &   1          &  0.050998759 & 8.214409e-01\\\\\n",
       "\tsid & 98.465262504 & 141          &  3.065382840 & 5.555436e-19\\\\\n",
       "\tResiduals & 98.643189199 & 433          &           NA &           NA\\\\\n",
       "\\end{tabular}\n"
      ],
      "text/markdown": [
       "\n",
       "| <!--/--> | Sum Sq | Df | F value | Pr(>F) | \n",
       "|---|---|---|---|---|---|---|---|---|---|---|---|---|\n",
       "| cvs_table |  0.002948199 |   1          |  0.012941292 | 9.094809e-01 | \n",
       "| cvs_graph |  2.847762816 |   1          | 12.500420043 | 4.507331e-04 | \n",
       "| variable |  2.053712943 |   3          |  3.004964024 | 3.020047e-02 | \n",
       "| sim_index |  2.747182515 |   1          | 12.058916980 | 5.672906e-04 | \n",
       "| pre |  0.504634598 |   1          |  2.215122837 | 1.373921e-01 | \n",
       "| lab_experience |  0.036568667 |   1          |  0.160520286 | 6.888756e-01 | \n",
       "| similar_sim |  0.001078127 |   1          |  0.004732502 | 9.451860e-01 | \n",
       "| prior_number_virtual_labs |  0.019467908 |   1          |  0.085455511 | 7.701761e-01 | \n",
       "| overall.POCC |  0.229393925 |   1          |  1.006937936 | 3.161980e-01 | \n",
       "| PC1 |  0.020122602 |   1          |  0.088329328 | 7.664544e-01 | \n",
       "| PC2 |  0.011618199 |   1          |  0.050998759 | 8.214409e-01 | \n",
       "| sid | 98.465262504 | 141          |  3.065382840 | 5.555436e-19 | \n",
       "| Residuals | 98.643189199 | 433          |           NA |           NA | \n",
       "\n",
       "\n"
      ],
      "text/plain": [
       "                          Sum Sq       Df  F value      Pr(>F)      \n",
       "cvs_table                  0.002948199   1  0.012941292 9.094809e-01\n",
       "cvs_graph                  2.847762816   1 12.500420043 4.507331e-04\n",
       "variable                   2.053712943   3  3.004964024 3.020047e-02\n",
       "sim_index                  2.747182515   1 12.058916980 5.672906e-04\n",
       "pre                        0.504634598   1  2.215122837 1.373921e-01\n",
       "lab_experience             0.036568667   1  0.160520286 6.888756e-01\n",
       "similar_sim                0.001078127   1  0.004732502 9.451860e-01\n",
       "prior_number_virtual_labs  0.019467908   1  0.085455511 7.701761e-01\n",
       "overall.POCC               0.229393925   1  1.006937936 3.161980e-01\n",
       "PC1                        0.020122602   1  0.088329328 7.664544e-01\n",
       "PC2                        0.011618199   1  0.050998759 8.214409e-01\n",
       "sid                       98.465262504 141  3.065382840 5.555436e-19\n",
       "Residuals                 98.643189199 433           NA           NA"
      ]
     },
     "metadata": {},
     "output_type": "display_data"
    }
   ],
   "source": [
    "# Anova(lm(time ~ topic * sys, data=search, typae=2))\n",
    "test <- Anova(lm(main\n",
    "    ~  cvs_table + cvs_graph + variable + sim_index + pre\n",
    "    + lab_experience + similar_sim + prior_number_virtual_labs + overall.POCC\n",
    "    +  PC1 + PC2 + sid, data=mydata)), type=\"II\")\n",
    "test"
   ]
  },
  {
   "cell_type": "code",
   "execution_count": 82,
   "metadata": {},
   "outputs": [
    {
     "data": {
      "text/html": [
       "<table>\n",
       "<thead><tr><th></th><th scope=col>Sum Sq</th><th scope=col>Df</th><th scope=col>F value</th><th scope=col>Pr(&gt;F)</th></tr></thead>\n",
       "<tbody>\n",
       "\t<tr><th scope=row>cvs_table</th><td> 0.001449097</td><td>  1         </td><td> 0.01067749 </td><td>9.177474e-01</td></tr>\n",
       "\t<tr><th scope=row>cvs_graph</th><td> 0.303598914</td><td>  1         </td><td> 2.23703084 </td><td>1.354680e-01</td></tr>\n",
       "\t<tr><th scope=row>variable</th><td> 1.027500181</td><td>  3         </td><td> 2.52366909 </td><td>5.719406e-02</td></tr>\n",
       "\t<tr><th scope=row>sim_index</th><td> 0.349621166</td><td>  1         </td><td> 2.57614007 </td><td>1.092150e-01</td></tr>\n",
       "\t<tr><th scope=row>pre</th><td> 0.645921480</td><td>  1         </td><td> 4.75939208 </td><td>2.967593e-02</td></tr>\n",
       "\t<tr><th scope=row>lab_experience</th><td> 0.015486235</td><td>  1         </td><td> 0.11410840 </td><td>7.356781e-01</td></tr>\n",
       "\t<tr><th scope=row>similar_sim</th><td> 0.856103746</td><td>  1         </td><td> 6.30809396 </td><td>1.238176e-02</td></tr>\n",
       "\t<tr><th scope=row>prior_number_virtual_labs</th><td> 0.549335309</td><td>  1         </td><td> 4.04770890 </td><td>4.485027e-02</td></tr>\n",
       "\t<tr><th scope=row>overall.POCC</th><td> 0.583487826</td><td>  1         </td><td> 4.29935747 </td><td>3.871750e-02</td></tr>\n",
       "\t<tr><th scope=row>PC1</th><td> 1.543510280</td><td>  1         </td><td>11.37316350 </td><td>8.120718e-04</td></tr>\n",
       "\t<tr><th scope=row>PC2</th><td> 0.020253906</td><td>  1         </td><td> 0.14923839 </td><td>6.994540e-01</td></tr>\n",
       "\t<tr><th scope=row>sid</th><td>61.377013320</td><td>141         </td><td> 3.20743892 </td><td>1.822361e-20</td></tr>\n",
       "\t<tr><th scope=row>Residuals</th><td>58.764648102</td><td>433         </td><td>         NA </td><td>          NA</td></tr>\n",
       "</tbody>\n",
       "</table>\n"
      ],
      "text/latex": [
       "\\begin{tabular}{r|llll}\n",
       "  & Sum Sq & Df & F value & Pr(>F)\\\\\n",
       "\\hline\n",
       "\tcvs\\_table &  0.001449097 &   1          &  0.01067749  & 9.177474e-01\\\\\n",
       "\tcvs\\_graph &  0.303598914 &   1          &  2.23703084  & 1.354680e-01\\\\\n",
       "\tvariable &  1.027500181 &   3          &  2.52366909  & 5.719406e-02\\\\\n",
       "\tsim\\_index &  0.349621166 &   1          &  2.57614007  & 1.092150e-01\\\\\n",
       "\tpre &  0.645921480 &   1          &  4.75939208  & 2.967593e-02\\\\\n",
       "\tlab\\_experience &  0.015486235 &   1          &  0.11410840  & 7.356781e-01\\\\\n",
       "\tsimilar\\_sim &  0.856103746 &   1          &  6.30809396  & 1.238176e-02\\\\\n",
       "\tprior\\_number\\_virtual\\_labs &  0.549335309 &   1          &  4.04770890  & 4.485027e-02\\\\\n",
       "\toverall.POCC &  0.583487826 &   1          &  4.29935747  & 3.871750e-02\\\\\n",
       "\tPC1 &  1.543510280 &   1          & 11.37316350  & 8.120718e-04\\\\\n",
       "\tPC2 &  0.020253906 &   1          &  0.14923839  & 6.994540e-01\\\\\n",
       "\tsid & 61.377013320 & 141          &  3.20743892  & 1.822361e-20\\\\\n",
       "\tResiduals & 58.764648102 & 433          &          NA  &           NA\\\\\n",
       "\\end{tabular}\n"
      ],
      "text/markdown": [
       "\n",
       "| <!--/--> | Sum Sq | Df | F value | Pr(>F) | \n",
       "|---|---|---|---|---|---|---|---|---|---|---|---|---|\n",
       "| cvs_table |  0.001449097 |   1          |  0.01067749  | 9.177474e-01 | \n",
       "| cvs_graph |  0.303598914 |   1          |  2.23703084  | 1.354680e-01 | \n",
       "| variable |  1.027500181 |   3          |  2.52366909  | 5.719406e-02 | \n",
       "| sim_index |  0.349621166 |   1          |  2.57614007  | 1.092150e-01 | \n",
       "| pre |  0.645921480 |   1          |  4.75939208  | 2.967593e-02 | \n",
       "| lab_experience |  0.015486235 |   1          |  0.11410840  | 7.356781e-01 | \n",
       "| similar_sim |  0.856103746 |   1          |  6.30809396  | 1.238176e-02 | \n",
       "| prior_number_virtual_labs |  0.549335309 |   1          |  4.04770890  | 4.485027e-02 | \n",
       "| overall.POCC |  0.583487826 |   1          |  4.29935747  | 3.871750e-02 | \n",
       "| PC1 |  1.543510280 |   1          | 11.37316350  | 8.120718e-04 | \n",
       "| PC2 |  0.020253906 |   1          |  0.14923839  | 6.994540e-01 | \n",
       "| sid | 61.377013320 | 141          |  3.20743892  | 1.822361e-20 | \n",
       "| Residuals | 58.764648102 | 433          |          NA  |           NA | \n",
       "\n",
       "\n"
      ],
      "text/plain": [
       "                          Sum Sq       Df  F value     Pr(>F)      \n",
       "cvs_table                  0.001449097   1  0.01067749 9.177474e-01\n",
       "cvs_graph                  0.303598914   1  2.23703084 1.354680e-01\n",
       "variable                   1.027500181   3  2.52366909 5.719406e-02\n",
       "sim_index                  0.349621166   1  2.57614007 1.092150e-01\n",
       "pre                        0.645921480   1  4.75939208 2.967593e-02\n",
       "lab_experience             0.015486235   1  0.11410840 7.356781e-01\n",
       "similar_sim                0.856103746   1  6.30809396 1.238176e-02\n",
       "prior_number_virtual_labs  0.549335309   1  4.04770890 4.485027e-02\n",
       "overall.POCC               0.583487826   1  4.29935747 3.871750e-02\n",
       "PC1                        1.543510280   1 11.37316350 8.120718e-04\n",
       "PC2                        0.020253906   1  0.14923839 6.994540e-01\n",
       "sid                       61.377013320 141  3.20743892 1.822361e-20\n",
       "Residuals                 58.764648102 433          NA           NA"
      ]
     },
     "metadata": {},
     "output_type": "display_data"
    }
   ],
   "source": [
    "# Anova(lm(time ~ topic * sys, data=search, type=2))\n",
    "test <- Anova(lm(quant_score\n",
    "    ~  cvs_table + cvs_graph + variable + sim_index + pre\n",
    "    + lab_experience + similar_sim + prior_number_virtual_labs + overall.POCC\n",
    "    +  PC1 + PC2 + sid, data=mydata))\n",
    "test"
   ]
  },
  {
   "cell_type": "code",
   "execution_count": 83,
   "metadata": {},
   "outputs": [
    {
     "data": {
      "text/html": [
       "<table>\n",
       "<thead><tr><th></th><th scope=col>Sum Sq</th><th scope=col>Df</th><th scope=col>F value</th><th scope=col>Pr(&gt;F)</th></tr></thead>\n",
       "<tbody>\n",
       "\t<tr><th scope=row>cvs_graph</th><td> 0.303598914</td><td>  1         </td><td> 2.23703084 </td><td>1.354680e-01</td></tr>\n",
       "\t<tr><th scope=row>cvs_table</th><td> 0.001449097</td><td>  1         </td><td> 0.01067749 </td><td>9.177474e-01</td></tr>\n",
       "\t<tr><th scope=row>variable</th><td> 1.027500181</td><td>  3         </td><td> 2.52366909 </td><td>5.719406e-02</td></tr>\n",
       "\t<tr><th scope=row>sim_index</th><td> 0.349621166</td><td>  1         </td><td> 2.57614007 </td><td>1.092150e-01</td></tr>\n",
       "\t<tr><th scope=row>pre</th><td> 0.645921480</td><td>  1         </td><td> 4.75939208 </td><td>2.967593e-02</td></tr>\n",
       "\t<tr><th scope=row>lab_experience</th><td> 0.015486235</td><td>  1         </td><td> 0.11410840 </td><td>7.356781e-01</td></tr>\n",
       "\t<tr><th scope=row>similar_sim</th><td> 0.856103746</td><td>  1         </td><td> 6.30809396 </td><td>1.238176e-02</td></tr>\n",
       "\t<tr><th scope=row>prior_number_virtual_labs</th><td> 0.549335309</td><td>  1         </td><td> 4.04770890 </td><td>4.485027e-02</td></tr>\n",
       "\t<tr><th scope=row>overall.POCC</th><td> 0.583487826</td><td>  1         </td><td> 4.29935747 </td><td>3.871750e-02</td></tr>\n",
       "\t<tr><th scope=row>PC1</th><td> 1.543510280</td><td>  1         </td><td>11.37316350 </td><td>8.120718e-04</td></tr>\n",
       "\t<tr><th scope=row>PC2</th><td> 0.020253906</td><td>  1         </td><td> 0.14923839 </td><td>6.994540e-01</td></tr>\n",
       "\t<tr><th scope=row>sid</th><td>61.377013320</td><td>141         </td><td> 3.20743892 </td><td>1.822361e-20</td></tr>\n",
       "\t<tr><th scope=row>Residuals</th><td>58.764648102</td><td>433         </td><td>         NA </td><td>          NA</td></tr>\n",
       "</tbody>\n",
       "</table>\n"
      ],
      "text/latex": [
       "\\begin{tabular}{r|llll}\n",
       "  & Sum Sq & Df & F value & Pr(>F)\\\\\n",
       "\\hline\n",
       "\tcvs\\_graph &  0.303598914 &   1          &  2.23703084  & 1.354680e-01\\\\\n",
       "\tcvs\\_table &  0.001449097 &   1          &  0.01067749  & 9.177474e-01\\\\\n",
       "\tvariable &  1.027500181 &   3          &  2.52366909  & 5.719406e-02\\\\\n",
       "\tsim\\_index &  0.349621166 &   1          &  2.57614007  & 1.092150e-01\\\\\n",
       "\tpre &  0.645921480 &   1          &  4.75939208  & 2.967593e-02\\\\\n",
       "\tlab\\_experience &  0.015486235 &   1          &  0.11410840  & 7.356781e-01\\\\\n",
       "\tsimilar\\_sim &  0.856103746 &   1          &  6.30809396  & 1.238176e-02\\\\\n",
       "\tprior\\_number\\_virtual\\_labs &  0.549335309 &   1          &  4.04770890  & 4.485027e-02\\\\\n",
       "\toverall.POCC &  0.583487826 &   1          &  4.29935747  & 3.871750e-02\\\\\n",
       "\tPC1 &  1.543510280 &   1          & 11.37316350  & 8.120718e-04\\\\\n",
       "\tPC2 &  0.020253906 &   1          &  0.14923839  & 6.994540e-01\\\\\n",
       "\tsid & 61.377013320 & 141          &  3.20743892  & 1.822361e-20\\\\\n",
       "\tResiduals & 58.764648102 & 433          &          NA  &           NA\\\\\n",
       "\\end{tabular}\n"
      ],
      "text/markdown": [
       "\n",
       "| <!--/--> | Sum Sq | Df | F value | Pr(>F) | \n",
       "|---|---|---|---|---|---|---|---|---|---|---|---|---|\n",
       "| cvs_graph |  0.303598914 |   1          |  2.23703084  | 1.354680e-01 | \n",
       "| cvs_table |  0.001449097 |   1          |  0.01067749  | 9.177474e-01 | \n",
       "| variable |  1.027500181 |   3          |  2.52366909  | 5.719406e-02 | \n",
       "| sim_index |  0.349621166 |   1          |  2.57614007  | 1.092150e-01 | \n",
       "| pre |  0.645921480 |   1          |  4.75939208  | 2.967593e-02 | \n",
       "| lab_experience |  0.015486235 |   1          |  0.11410840  | 7.356781e-01 | \n",
       "| similar_sim |  0.856103746 |   1          |  6.30809396  | 1.238176e-02 | \n",
       "| prior_number_virtual_labs |  0.549335309 |   1          |  4.04770890  | 4.485027e-02 | \n",
       "| overall.POCC |  0.583487826 |   1          |  4.29935747  | 3.871750e-02 | \n",
       "| PC1 |  1.543510280 |   1          | 11.37316350  | 8.120718e-04 | \n",
       "| PC2 |  0.020253906 |   1          |  0.14923839  | 6.994540e-01 | \n",
       "| sid | 61.377013320 | 141          |  3.20743892  | 1.822361e-20 | \n",
       "| Residuals | 58.764648102 | 433          |          NA  |           NA | \n",
       "\n",
       "\n"
      ],
      "text/plain": [
       "                          Sum Sq       Df  F value     Pr(>F)      \n",
       "cvs_graph                  0.303598914   1  2.23703084 1.354680e-01\n",
       "cvs_table                  0.001449097   1  0.01067749 9.177474e-01\n",
       "variable                   1.027500181   3  2.52366909 5.719406e-02\n",
       "sim_index                  0.349621166   1  2.57614007 1.092150e-01\n",
       "pre                        0.645921480   1  4.75939208 2.967593e-02\n",
       "lab_experience             0.015486235   1  0.11410840 7.356781e-01\n",
       "similar_sim                0.856103746   1  6.30809396 1.238176e-02\n",
       "prior_number_virtual_labs  0.549335309   1  4.04770890 4.485027e-02\n",
       "overall.POCC               0.583487826   1  4.29935747 3.871750e-02\n",
       "PC1                        1.543510280   1 11.37316350 8.120718e-04\n",
       "PC2                        0.020253906   1  0.14923839 6.994540e-01\n",
       "sid                       61.377013320 141  3.20743892 1.822361e-20\n",
       "Residuals                 58.764648102 433          NA           NA"
      ]
     },
     "metadata": {},
     "output_type": "display_data"
    }
   ],
   "source": [
    "# Anova(lm(time ~ topic * sys, data=search, type=2))\n",
    "test <- Anova(lm(quant_score\n",
    "    ~  cvs_graph +cvs_table + variable + sim_index + pre\n",
    "    + lab_experience + similar_sim + prior_number_virtual_labs + overall.POCC\n",
    "    +  PC1 + PC2 + sid, data=mydata))\n",
    "test"
   ]
  },
  {
   "cell_type": "code",
   "execution_count": 86,
   "metadata": {},
   "outputs": [
    {
     "data": {
      "text/html": [
       "<table>\n",
       "<thead><tr><th></th><th scope=col>Sum Sq</th><th scope=col>Df</th><th scope=col>F value</th><th scope=col>Pr(&gt;F)</th></tr></thead>\n",
       "<tbody>\n",
       "\t<tr><th scope=row>pre</th><td> 11.54529050</td><td>  1         </td><td>29.57224896 </td><td>7.949694e-08</td></tr>\n",
       "\t<tr><th scope=row>variable</th><td>  3.09637285</td><td>  3         </td><td> 2.64369582 </td><td>4.846810e-02</td></tr>\n",
       "\t<tr><th scope=row>pre:variable</th><td>  0.09876208</td><td>  3         </td><td> 0.08432347 </td><td>9.685876e-01</td></tr>\n",
       "\t<tr><th scope=row>Residuals</th><td>226.43758007</td><td>580         </td><td>         NA </td><td>          NA</td></tr>\n",
       "</tbody>\n",
       "</table>\n"
      ],
      "text/latex": [
       "\\begin{tabular}{r|llll}\n",
       "  & Sum Sq & Df & F value & Pr(>F)\\\\\n",
       "\\hline\n",
       "\tpre &  11.54529050 &   1          & 29.57224896  & 7.949694e-08\\\\\n",
       "\tvariable &   3.09637285 &   3          &  2.64369582  & 4.846810e-02\\\\\n",
       "\tpre:variable &   0.09876208 &   3          &  0.08432347  & 9.685876e-01\\\\\n",
       "\tResiduals & 226.43758007 & 580          &          NA  &           NA\\\\\n",
       "\\end{tabular}\n"
      ],
      "text/markdown": [
       "\n",
       "| <!--/--> | Sum Sq | Df | F value | Pr(>F) | \n",
       "|---|---|---|---|\n",
       "| pre |  11.54529050 |   1          | 29.57224896  | 7.949694e-08 | \n",
       "| variable |   3.09637285 |   3          |  2.64369582  | 4.846810e-02 | \n",
       "| pre:variable |   0.09876208 |   3          |  0.08432347  | 9.685876e-01 | \n",
       "| Residuals | 226.43758007 | 580          |          NA  |           NA | \n",
       "\n",
       "\n"
      ],
      "text/plain": [
       "             Sum Sq       Df  F value     Pr(>F)      \n",
       "pre           11.54529050   1 29.57224896 7.949694e-08\n",
       "variable       3.09637285   3  2.64369582 4.846810e-02\n",
       "pre:variable   0.09876208   3  0.08432347 9.685876e-01\n",
       "Residuals    226.43758007 580          NA           NA"
      ]
     },
     "metadata": {},
     "output_type": "display_data"
    }
   ],
   "source": [
    "test <- Anova(lm(main\n",
    "     ~ pre*variable, data=mydata))\n",
    "test"
   ]
  },
  {
   "cell_type": "code",
   "execution_count": 87,
   "metadata": {},
   "outputs": [
    {
     "data": {
      "text/html": [
       "<table>\n",
       "<thead><tr><th></th><th scope=col>Sum Sq</th><th scope=col>Df</th><th scope=col>F value</th><th scope=col>Pr(&gt;F)</th></tr></thead>\n",
       "<tbody>\n",
       "\t<tr><th scope=row>pre</th><td> 11.54529050</td><td>  1         </td><td>29.57224896 </td><td>7.949694e-08</td></tr>\n",
       "\t<tr><th scope=row>variable</th><td>  3.09637285</td><td>  3         </td><td> 2.64369582 </td><td>4.846810e-02</td></tr>\n",
       "\t<tr><th scope=row>pre:variable</th><td>  0.09876208</td><td>  3         </td><td> 0.08432347 </td><td>9.685876e-01</td></tr>\n",
       "\t<tr><th scope=row>Residuals</th><td>226.43758007</td><td>580         </td><td>         NA </td><td>          NA</td></tr>\n",
       "</tbody>\n",
       "</table>\n"
      ],
      "text/latex": [
       "\\begin{tabular}{r|llll}\n",
       "  & Sum Sq & Df & F value & Pr(>F)\\\\\n",
       "\\hline\n",
       "\tpre &  11.54529050 &   1          & 29.57224896  & 7.949694e-08\\\\\n",
       "\tvariable &   3.09637285 &   3          &  2.64369582  & 4.846810e-02\\\\\n",
       "\tpre:variable &   0.09876208 &   3          &  0.08432347  & 9.685876e-01\\\\\n",
       "\tResiduals & 226.43758007 & 580          &          NA  &           NA\\\\\n",
       "\\end{tabular}\n"
      ],
      "text/markdown": [
       "\n",
       "| <!--/--> | Sum Sq | Df | F value | Pr(>F) | \n",
       "|---|---|---|---|\n",
       "| pre |  11.54529050 |   1          | 29.57224896  | 7.949694e-08 | \n",
       "| variable |   3.09637285 |   3          |  2.64369582  | 4.846810e-02 | \n",
       "| pre:variable |   0.09876208 |   3          |  0.08432347  | 9.685876e-01 | \n",
       "| Residuals | 226.43758007 | 580          |          NA  |           NA | \n",
       "\n",
       "\n"
      ],
      "text/plain": [
       "             Sum Sq       Df  F value     Pr(>F)      \n",
       "pre           11.54529050   1 29.57224896 7.949694e-08\n",
       "variable       3.09637285   3  2.64369582 4.846810e-02\n",
       "pre:variable   0.09876208   3  0.08432347 9.685876e-01\n",
       "Residuals    226.43758007 580          NA           NA"
      ]
     },
     "metadata": {},
     "output_type": "display_data"
    }
   ],
   "source": [
    "test <- Anova(lm(main\n",
    "     ~ pre*variable, data=mydata), type=2)\n",
    "test"
   ]
  },
  {
   "cell_type": "code",
   "execution_count": null,
   "metadata": {},
   "outputs": [],
   "source": []
  },
  {
   "cell_type": "code",
   "execution_count": null,
   "metadata": {},
   "outputs": [],
   "source": []
  },
  {
   "cell_type": "code",
   "execution_count": null,
   "metadata": {},
   "outputs": [],
   "source": []
  },
  {
   "cell_type": "code",
   "execution_count": null,
   "metadata": {},
   "outputs": [],
   "source": []
  },
  {
   "cell_type": "code",
   "execution_count": null,
   "metadata": {},
   "outputs": [],
   "source": []
  },
  {
   "cell_type": "code",
   "execution_count": null,
   "metadata": {},
   "outputs": [],
   "source": [
    "am1 <- aov(main\n",
    "    ~  cvs_table + cvs_graph + variable + sim_index + pre\n",
    "    + lab_experience + similar_sim + prior_number_virtual_labs + overall.POCC\n",
    "    +  PC1 + PC2 + Error(sid/variable), data=mydata)\n",
    "summary(am1)\n",
    "# stats = tidy(am1)\n",
    "# ss_error = filter(stats,term==\"Residuals\")$sumsq\n",
    "# stats['eta_sq'] <- stats$sumsq/(ss_error+stats$sumsq)\n",
    "# stats"
   ]
  },
  {
   "cell_type": "markdown",
   "metadata": {},
   "source": [
    "We see that the variance from having repeated measures for each student (first table) has been removed from the overall model error and thus separated in the output.\n",
    "\n",
    "Looking the second table we notice that both cvs are significant, cvs_graph more significant than cvs_table, variable is significant and so is sim_index.\n",
    "\n",
    "eta squares, and post hoc test are coming!"
   ]
  },
  {
   "cell_type": "code",
   "execution_count": null,
   "metadata": {},
   "outputs": [],
   "source": [
    "summary(am1[[\"Error: sid:variable\"]])"
   ]
  },
  {
   "cell_type": "markdown",
   "metadata": {},
   "source": [
    "## Using type 3 and anova package"
   ]
  },
  {
   "cell_type": "markdown",
   "metadata": {},
   "source": [
    "We create a dataframe to tell the anova how \"variable\" leades to multiple between subject measures.\n",
    "\n",
    "For info on why Type 1,2,3: https://mcfromnz.wordpress.com/2011/03/02/anova-type-iiiiii-ss-explained/"
   ]
  },
  {
   "cell_type": "code",
   "execution_count": null,
   "metadata": {},
   "outputs": [],
   "source": [
    "variables <- factor(c(\"Width\",\"Area\",\"Concentration\",\"Separation\"))\n",
    "measures <- factor(rep(c(\"pre\", \"main\", \"cvs_table\",\"cvs_graph\",\"sim_index\",\"similar_sim\"), c(4,4,4,4,4,4)),\n",
    "levels=c(\"pre\", \"main\", \"cvs_table\",\"cvs_graph\",\"sim_index\",\"similar_sim\"))\n",
    "vars <- ordered(rep(variables, 6))\n",
    "idata <- data.frame(measures,vars)\n",
    "idata"
   ]
  },
  {
   "cell_type": "markdown",
   "metadata": {},
   "source": [
    "Try repeating this blog: http://psych.wisc.edu/moore/Rpdf/610-R8_OneWayWithin.pdf"
   ]
  },
  {
   "cell_type": "code",
   "execution_count": null,
   "metadata": {},
   "outputs": [],
   "source": [
    "mod.ok <- lm(main\n",
    "    ~  cvs_table + cvs_graph + variable + sim_index + pre + sid\n",
    "    + lab_experience + similar_sim + prior_number_virtual_labs + overall.POCC\n",
    "    +  PC1 + PC2, data=mydata)\n",
    "av.ok <- Anova(mod.ok, type=2)#, idata=idata, idesign=~pre*variable*main*cvs_table*cvs_graph*sim_index*similar_sim)\n",
    "av.ok"
   ]
  },
  {
   "cell_type": "code",
   "execution_count": null,
   "metadata": {},
   "outputs": [],
   "source": [
    " Anova(mod.ok, type=2)"
   ]
  },
  {
   "cell_type": "code",
   "execution_count": null,
   "metadata": {},
   "outputs": [],
   "source": [
    " Anova(mod.ok)"
   ]
  },
  {
   "cell_type": "code",
   "execution_count": null,
   "metadata": {},
   "outputs": [],
   "source": [
    "mod.ok <- lm(main\n",
    "    ~  cvs_table + cvs_graph + variable + sim_index + pre\n",
    "    + lab_experience + similar_sim + prior_number_virtual_labs + overall.POCC\n",
    "    +  PC1 + PC2, data=mydata)\n",
    "variables <- factor(cbind(\"Width\",\"Area\",\"Concentration\",\"Separation\"))\n",
    "idata <- data.frame(variables)\n",
    "av.ok <- Anova(mod.ok, idata=idata, idesign=~variable,type=3)\n",
    "av.ok"
   ]
  },
  {
   "cell_type": "markdown",
   "metadata": {},
   "source": [
    "## Redo models per variable (so without repeated measures)"
   ]
  },
  {
   "cell_type": "markdown",
   "metadata": {},
   "source": [
    "https://datascienceplus.com/two-way-anova-with-repeated-measures/"
   ]
  },
  {
   "cell_type": "code",
   "execution_count": null,
   "metadata": {
    "scrolled": false
   },
   "outputs": [],
   "source": [
    "for (var in c(\"Width\",\"Area\",\"Concentration\",\"Separation\")){\n",
    "    print (\"\")\n",
    "    print(rep(var,9))\n",
    "    var_data = filter(mydata,variable==var)\n",
    "    mod.ok <- lm(main\n",
    "    ~  cvs_table + sim_index + pre\n",
    "    + lab_experience + similar_sim + prior_number_virtual_labs + overall.POCC\n",
    "    +  PC1 + PC2, data=var_data)\n",
    "    av.three <- Anova(mod.ok, type=3)\n",
    "#     av.two <- Anova(mod.ok, type=2)\n",
    "#     av.one <- Anova(mod.ok)\n",
    "    print(av.three)\n",
    "#     print(av.two)\n",
    "#     print(av.one)\n",
    "}"
   ]
  },
  {
   "cell_type": "code",
   "execution_count": null,
   "metadata": {},
   "outputs": [],
   "source": [
    "# am1_graph <- aov(main\n",
    "#     ~ cvs_graph + variable + sim_index + pre\n",
    "#     + lab_experience + similar_sim + prior_number_virtual_labs + overall.POCC\n",
    "#     +  PC1 + PC2 + Error(sid/variable), data=filter(mydata, cvs_table == 1))\n",
    "# summary(am1_graph)"
   ]
  },
  {
   "cell_type": "markdown",
   "metadata": {},
   "source": [
    "# Stat model 2: Predicting transfer data"
   ]
  },
  {
   "cell_type": "code",
   "execution_count": null,
   "metadata": {},
   "outputs": [],
   "source": [
    "am2 <- aov(quant_score\n",
    "    ~  cvs_table + cvs_graph + variable + sim_index + pre\n",
    "    + lab_experience + similar_sim + prior_number_virtual_labs + overall.POCC\n",
    "    +  PC1 + PC2 + Error(sid/variable), data=mydata)\n",
    "summary(am2)"
   ]
  },
  {
   "cell_type": "markdown",
   "metadata": {},
   "source": [
    "As expected, CVS doesn't predict quant transfer scores.\n",
    "\n",
    "Post hoc by variable and similar sim (weither students had worked with a similar sim before) coming soon."
   ]
  },
  {
   "cell_type": "markdown",
   "metadata": {},
   "source": [
    "## Using type 3 and anova package"
   ]
  },
  {
   "cell_type": "code",
   "execution_count": null,
   "metadata": {},
   "outputs": [],
   "source": [
    "mod.ok <- lm(quant_score\n",
    "    ~  cvs_table + cvs_graph + variable + sim_index + pre\n",
    "    + lab_experience + similar_sim + prior_number_virtual_labs + overall.POCC\n",
    "    +  PC1 + PC2, data=mydata)\n",
    "variables <- factor(cbind(\"Width\",\"Area\",\"Concentration\",\"Separation\"))\n",
    "idata <- data.frame(variables)\n",
    "av.ok <- Anova(mod.ok, idata=idata, idesign=~variables,type=3)\n",
    "av.ok"
   ]
  },
  {
   "cell_type": "markdown",
   "metadata": {
    "hideCode": true,
    "hidePrompt": true
   },
   "source": [
    "# Stat model 3: Predicting the use of CVS"
   ]
  },
  {
   "cell_type": "markdown",
   "metadata": {},
   "source": [
    "## For cvs_table"
   ]
  },
  {
   "cell_type": "code",
   "execution_count": null,
   "metadata": {},
   "outputs": [],
   "source": [
    "# mydata$variable <- relevel(mydata$variable, \"Width\")\n",
    "mixed <- glmer(\n",
    "    cvs_table\n",
    "    ~ variable + sim_index + pre\n",
    "    + lab_experience + similar_sim + prior_number_virtual_labs + overall.POCC\n",
    "    +  PC1 + PC2 + (1 | sid),\n",
    "           data = mydata, family = binomial, \n",
    "           control = glmerControl(optimizer = \"bobyqa\"), nAGQ = 10)\n",
    "\n",
    "summary(mixed)"
   ]
  },
  {
   "cell_type": "markdown",
   "metadata": {},
   "source": [
    "## For cvs_graph"
   ]
  },
  {
   "cell_type": "code",
   "execution_count": null,
   "metadata": {},
   "outputs": [],
   "source": [
    "mixed <- glmer(\n",
    "    cvs_graph\n",
    "    ~ variable + sim_index + pre\n",
    "    + lab_experience + similar_sim + prior_number_virtual_labs + overall.POCC\n",
    "    +  PC1 + PC2 + (1 | sid),\n",
    "           data = mydata, family = binomial, \n",
    "           control = glmerControl(optimizer = \"bobyqa\"), nAGQ = 10)\n",
    "\n",
    "summary(mixed)"
   ]
  },
  {
   "cell_type": "markdown",
   "metadata": {},
   "source": [
    "# Example from R package \"car\"\n",
    "See page 9 of https://cran.r-project.org/web/packages/car/car.pdf"
   ]
  },
  {
   "cell_type": "code",
   "execution_count": null,
   "metadata": {},
   "outputs": [],
   "source": [
    "?OBrienKaiser"
   ]
  },
  {
   "cell_type": "code",
   "execution_count": null,
   "metadata": {},
   "outputs": [],
   "source": [
    "OBrienKaiser"
   ]
  },
  {
   "cell_type": "code",
   "execution_count": null,
   "metadata": {},
   "outputs": [],
   "source": [
    "phase <- factor(rep(c(\"pretest\", \"posttest\", \"followup\"), c(5, 5, 5)),\n",
    "levels=c(\"pretest\", \"posttest\", \"followup\"))\n",
    "hour <- ordered(rep(1:5, 3))\n",
    "idata <- data.frame(phase, hour)\n",
    "idata"
   ]
  },
  {
   "cell_type": "code",
   "execution_count": null,
   "metadata": {
    "scrolled": false
   },
   "outputs": [],
   "source": [
    "mod.ok <- lm(cbind(pre.1, pre.2, pre.3, pre.4, pre.5,\n",
    "post.1, post.2, post.3, post.4, post.5,\n",
    "fup.1, fup.2, fup.3, fup.4, fup.5) ~ treatment*gender,\n",
    "data=OBrienKaiser)\n",
    "(av.ok <- Anova(mod.ok, idata=idata, idesign=~phase*hour,type=3))\n",
    "summary(av.ok, multivariate=FALSE)"
   ]
  },
  {
   "cell_type": "code",
   "execution_count": null,
   "metadata": {},
   "outputs": [],
   "source": []
  }
 ],
 "metadata": {
  "anaconda-cloud": {},
  "kernelspec": {
   "display_name": "R",
   "language": "R",
   "name": "ir"
  },
  "language_info": {
   "codemirror_mode": "r",
   "file_extension": ".r",
   "mimetype": "text/x-r-source",
   "name": "R",
   "pygments_lexer": "r",
   "version": "3.4.3"
  },
  "toc": {
   "nav_menu": {},
   "number_sections": true,
   "sideBar": true,
   "skip_h1_title": false,
   "toc_cell": false,
   "toc_position": {},
   "toc_section_display": "block",
   "toc_window_display": false
  }
 },
 "nbformat": 4,
 "nbformat_minor": 1
}
