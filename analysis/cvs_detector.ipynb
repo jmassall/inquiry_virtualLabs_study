{
 "cells": [
  {
   "cell_type": "markdown",
   "metadata": {},
   "source": [
    "# About skills_detector.ipynb\n",
    "\n",
    "This notebook detects skills in log files suchs as CVS.\n",
    "This is a work in progress :)"
   ]
  },
  {
   "cell_type": "code",
   "execution_count": 1,
   "metadata": {
    "collapsed": true
   },
   "outputs": [],
   "source": [
    "%load_ext autoreload\n",
    "%autoreload 1\n",
    "%aimport utils_timeline_viz\n",
    "%aimport utils_read_parsing\n",
    "from utils_timeline_viz import *\n",
    "from utils_read_parsing import *\n",
    "%matplotlib inline\n",
    "matplotlib.style.use('ggplot')\n",
    "matplotlib.rcParams['figure.figsize'] = 25, 15\n",
    "from matplotlib.backends.backend_pdf import PdfPages"
   ]
  },
  {
   "cell_type": "markdown",
   "metadata": {},
   "source": [
    "# Load all log files per sim per student\n",
    "Creating the following dictionary:\n",
    "```python\n",
    "    log_files_per_sim = {'beers': {student1: [log_file_1.txt,log_file_2.txt], ...\n",
    "                         'capacitor': {student1: [log_file_1.txt,log_file_2.txt], ...}\n",
    "```"
   ]
  },
  {
   "cell_type": "code",
   "execution_count": 2,
   "metadata": {
    "collapsed": false
   },
   "outputs": [
    {
     "name": "stdout",
     "output_type": "stream",
     "text": [
      "The file sperez8_beers_log_files_per_student.txt has been unpickled and loaded\n",
      "The file sperez8_capacitor_log_files_per_student.txt has been unpickled and loaded\n"
     ]
    }
   ],
   "source": [
    "%aimport utils_read_parsing\n",
    "log_files_per_sim = {}\n",
    "for sim in ['beers','capacitor']:\n",
    "    log_files_per_sim[sim] = get_parsed_log_files_per_student_for_sim(sim)"
   ]
  },
  {
   "cell_type": "markdown",
   "metadata": {},
   "source": [
    "# Build super basic detectors\n",
    "We want to know who uses tables and graphs. period."
   ]
  },
  {
   "cell_type": "code",
   "execution_count": 3,
   "metadata": {
    "collapsed": true
   },
   "outputs": [],
   "source": [
    "def get_use_table(df):\n",
    "    tables = set(df['Table'])\n",
    "    for i,t in enumerate(tables):\n",
    "        table = read_table(t)\n",
    "        if len(table)>0:\n",
    "            return 1\n",
    "    return 0\n",
    "\n",
    "def get_use_graph(df):\n",
    "    tables = set(df['Table'])\n",
    "    for i,t in enumerate(tables):\n",
    "        table = read_table(t)\n",
    "        points = get_pts(table,in_graph=True) #grab all points\n",
    "        if len(points)>0:\n",
    "            return 1\n",
    "    return 0\n",
    "\n",
    "def get_use_concentration(df):\n",
    "    items = set(df['Item'])\n",
    "    if 'solutionControls slider' in items:\n",
    "        return 1\n",
    "    elif 'solutionControls' in items:\n",
    "        return 1\n",
    "    else:\n",
    "        return 0\n",
    "\n",
    "def get_use_width(df):\n",
    "    items = set(df['Item'])\n",
    "    if 'cuvetteNode' in items:\n",
    "        return 1\n",
    "    else:\n",
    "        return 0\n",
    "\n",
    "def get_use_area(df):\n",
    "    items = set(df['Item'])\n",
    "    if 'plateAreaDragHandleNode' in items:\n",
    "        return 1\n",
    "    else:\n",
    "        return 0\n",
    "\n",
    "def get_use_separation(df):\n",
    "    items = set(df['Item'])\n",
    "    if 'plateSeparationDragHandleNode' in items:\n",
    "        return 1\n",
    "    else:\n",
    "        return 0"
   ]
  },
  {
   "cell_type": "markdown",
   "metadata": {
    "collapsed": true
   },
   "source": [
    "# Build dectectors\n",
    "## Quantitative CVS\n",
    "### In table\n",
    "First we extract all of their tables at all time points, analyze them for CVS and find the maximum number of values of a variable that was part of a control variable strategy instance.\n",
    "For now, use of this skill relies on the following production rules (evaluated per variable):\n",
    "\n",
    "* more than 2 successive records were done where only the variable was changed\n",
    "* the outcome variable was different for both data points\n",
    "* battery connected (caps)\n",
    "* laser is on (beers)\n"
   ]
  },
  {
   "cell_type": "code",
   "execution_count": 4,
   "metadata": {
    "collapsed": true
   },
   "outputs": [],
   "source": [
    "def get_outcome_values(pts):\n",
    "    outcomes = []\n",
    "    for pt in pts:\n",
    "        if \"Charge\" in pt.keys():\n",
    "            outcomes.append(pt[\"Charge\"])\n",
    "        elif \"Absorbance\" in pt.keys():\n",
    "            outcomes.append(pt[\"Absorbance\"])\n",
    "        else:\n",
    "            print \"OUTCOME MISSING\"\n",
    "    return outcomes\n",
    "\n",
    "def find_intervals(values):\n",
    "    #take lngest set of values\n",
    "    longest_values = {k:max(v,key=len) for k,v in values.iteritems()}\n",
    "    \n",
    "    #keep only if three or more values\n",
    "    long_enough_values = {k:v if len(v)>2 else [] for k,v in longest_values.iteritems()}\n",
    "    #convert to set, then list, then sort it.\n",
    "    cvs_values = {k:sorted(list(set(v))) for k,v in long_enough_values.iteritems()}\n",
    "    \n",
    "    #find distance between all points\n",
    "    distances = {k:[v2 - v1 for v1,v2 in zip(vs, vs[1:])] for k,vs in cvs_values.iteritems()}\n",
    "    \n",
    "    #check if distances are all the same or not\n",
    "    intervals = {k:True if len(set(ds))==1 else False for k,ds in distances.iteritems()}\n",
    "    return intervals\n",
    "    \n",
    "    \n",
    "\n",
    "def detect_cvs_quant_in_table(table):\n",
    "    cvs_variable = {\"Battery voltage\":0,\n",
    "                        \"Area\":0,\n",
    "                        \"Separation\":0,\n",
    "                        \"Width\":0,\n",
    "                        \"Wavelength\":0,\n",
    "                        \"Concentration\":0}\n",
    "    cvs_values = {\"Battery voltage\":[[]],\n",
    "                        \"Area\":[[]],\n",
    "                        \"Separation\":[[]],\n",
    "                        \"Width\":[[]],\n",
    "                        \"Wavelength\":[[]],\n",
    "                        \"Concentration\":[[]]}\n",
    "    variable_changed = None\n",
    "    new_var_changed = None\n",
    "    number_of_changes = 1\n",
    "    prev_point = None\n",
    "    #data points in order of trial number, which is synonomous with \n",
    "    #order of capture since when you move data points around in the table,\n",
    "    #they keep the same trial number\n",
    "    for datapoint in sorted(table.iterkeys()): \n",
    "        curr_point = table[datapoint]\n",
    "        if prev_point:\n",
    "            values_of_2_points = get_values_per_variable([prev_point,curr_point])\n",
    "#             print values_of_2_points['Width']\n",
    "            confounded = pts_are_confounded(values_of_2_points)\n",
    "            outcomes = get_outcome_values([prev_point,curr_point])\n",
    "            outcome1,outcome2 = outcomes[0],outcomes[1]\n",
    "            #we check that only one variable is changed (confounded = False)\n",
    "            # that the laser was not off, and that the connection wasn't to lightbulb\n",
    "            # and that the outcome values are not null but floats\n",
    "            if not confounded and 0 not in values_of_2_points[\"Laser toggle\"] and \"LIGHT_BULB_CONNECTED\" not in values_of_2_points[\"Connection\"] and isinstance(outcome1, float) and isinstance(outcome2, float):\n",
    "                #find the variable being changed\n",
    "                for v,vals in values_of_2_points.iteritems():\n",
    "                    if len(vals) > 1:\n",
    "                        new_var_changed = v\n",
    "                if new_var_changed == None:\n",
    "                    pass\n",
    "                #update the number of changes for that variable\n",
    "                if variable_changed == None or new_var_changed == variable_changed:\n",
    "                    number_of_changes += 1\n",
    "                else:\n",
    "                    for k in cvs_values.keys():\n",
    "                        if cvs_values[k][-1]!=[]: cvs_values[k].append([])\n",
    "                    number_of_changes = 2\n",
    "                variable_changed = new_var_changed\n",
    "                if variable_changed in cvs_variable.keys(): #ignore cvs on detector, lightbulba nd connection\n",
    "                    cvs_variable[variable_changed] = max(number_of_changes,cvs_variable[variable_changed])\n",
    "                    cvs_values[variable_changed][-1].extend(values_of_2_points[variable_changed])\n",
    "#                     print cvs_values\n",
    "            else:\n",
    "                number_of_changes = 1\n",
    "                variable_changed = None\n",
    "        prev_point = curr_point.copy()\n",
    "    \n",
    "    cvs_intervals = find_intervals(cvs_values)\n",
    "    return cvs_variable, cvs_intervals\n",
    "            \n",
    "            \n",
    "def get_cvs_per_variable_in_table(df):\n",
    "    tables = set(df['Table'])\n",
    "    cvs_final = {\"Battery voltage\":0,\n",
    "                        \"Area\":0,\n",
    "                        \"Separation\":0,\n",
    "                        \"Width\":0,\n",
    "                        \"Wavelength\":0,\n",
    "                        \"Concentration\":0}\n",
    "    intervals_final = {\"Battery voltage\":False,\n",
    "                        \"Area\":False,\n",
    "                        \"Separation\":False,\n",
    "                        \"Width\":False,\n",
    "                        \"Wavelength\":False,\n",
    "                        \"Concentration\":False}\n",
    "    for i,t in enumerate(tables):\n",
    "        table = read_table(t) #converts json string to dictionary\n",
    "#         print table\n",
    "        #since many of their tables have CVS, we want to largest sample size for a variable used in CVS\n",
    "        cvs,intervals = detect_cvs_quant_in_table(table)\n",
    "        cvs_final = {k:max(v,cvs[k]) for k,v in cvs_final.iteritems()}\n",
    "        intervals_final = {k:max(v,intervals[k]) for k,v in intervals_final.iteritems()}\n",
    "    return cvs_final,intervals_final"
   ]
  },
  {
   "cell_type": "markdown",
   "metadata": {},
   "source": [
    "Testing intervals"
   ]
  },
  {
   "cell_type": "code",
   "execution_count": 5,
   "metadata": {
    "code_folding": [],
    "collapsed": false
   },
   "outputs": [
    {
     "name": "stdout",
     "output_type": "stream",
     "text": [
      "True\n"
     ]
    }
   ],
   "source": [
    "beers_in_2_on = '''{\n",
    "    \"1\": {\"Ruler location\": {\"y\": 3.62, \"x\": 3.28}, \"Detector location\": {\"y\": 2.0, \"x\": 6.67}, \"visible\": true, \"Width\": 4, \"trialNumber\": 1, \"Absorbance\": 0.04, \"Wavelength\": 582, \"Concentration\": 200.0, \"Laser toggle\": 1},     \n",
    "    \"2\": {\"Ruler location\": {\"y\": 3.62, \"x\": 3.28}, \"Detector location\": {\"y\": 2.0, \"x\": 6.67}, \"visible\": true, \"Width\": 4, \"trialNumber\": 2, \"Absorbance\": 0.02, \"Wavelength\": 582, \"Concentration\": 100.0, \"Laser toggle\": 1},\n",
    "    \"3\": {\"Ruler location\": {\"y\": 3.62, \"x\": 3.28}, \"Detector location\": {\"y\": 2.0, \"x\": 6.67}, \"visible\": true, \"Width\": 1, \"trialNumber\": 3, \"Absorbance\": 0.04, \"Wavelength\": 582, \"Concentration\": 100.0, \"Laser toggle\": 1},\n",
    "    \"4\": {\"Ruler location\": {\"y\": 3.62, \"x\": 3.28}, \"Detector location\": {\"y\": 2.0, \"x\": 6.67}, \"visible\": true, \"Width\": 2, \"trialNumber\": 4, \"Absorbance\": 0.02, \"Wavelength\": 582, \"Concentration\": 100.0, \"Laser toggle\": 1},\n",
    "    \"5\": {\"Ruler location\": {\"y\": 3.62, \"x\": 3.28}, \"Detector location\": {\"y\": 2.0, \"x\": 6.67}, \"visible\": true, \"Width\": 3, \"trialNumber\": 5, \"Absorbance\": 0.02, \"Wavelength\": 582, \"Concentration\": 100.0, \"Laser toggle\": 1},\n",
    "    \"6\": {\"Ruler location\": {\"y\": 3.62, \"x\": 3.28}, \"Detector location\": {\"y\": 2.0, \"x\": 6.67}, \"visible\": true, \"Width\": 3, \"trialNumber\": 6, \"Absorbance\": 0.02, \"Wavelength\": 582, \"Concentration\": 300.0, \"Laser toggle\": 1}}'''\n",
    "_, intervals = detect_cvs_quant_in_table(read_table(beers_in_2_on))\n",
    "print intervals =={'Battery voltage': False, 'Area': False, 'Width': True, 'Separation': False, 'Wavelength': False, 'Concentration': False}"
   ]
  },
  {
   "cell_type": "markdown",
   "metadata": {},
   "source": [
    "### In graph\n",
    "First we extract all of their tables at all time points, keep only points in the tables that are visible in the graph, analyze them for CVS and find the maximum number of values of a variable that was part of a control variable strategy instance.\n",
    "For now, use of this skill relies on the following rules (evaluated per variable):\n",
    "* more than records where only the variable was changed are in the graph\n",
    "* battery connected (caps)\n",
    "* laser is on (beers)\n"
   ]
  },
  {
   "cell_type": "code",
   "execution_count": 6,
   "metadata": {
    "collapsed": true
   },
   "outputs": [],
   "source": [
    "convert_axis = {\"Absorbance\":\"absorbance\",\"Concentration\":\"concentration\",\"Width\":\"cuvetteWidth\",\"Wavelength\":\"trialNumber\",\"Battery voltage\":\"trialNumber\",\"Area\":\"area\",\"Separation\":\"separation\",\"Charge\":\"charge\"}\n",
    "def detect_cvs_quant_in_graph(table,x_axis,y_axis):\n",
    "    points = get_pts(table,in_graph=True) #grab all points\n",
    "    cvs_variable = {\"Battery voltage\":0,\n",
    "                        \"Area\":0,\n",
    "                        \"Separation\":0,\n",
    "                        \"Wavelength\":0,\n",
    "                        \"Width\":0,\n",
    "                        \"Concentration\":0}\n",
    "    #check that outcome variable as one of the axes\n",
    "    \n",
    "    if x_axis not in [\"charge\",\"absorbance\"] and y_axis not in [\"charge\",\"absorbance\"]:\n",
    "        return cvs_variable\n",
    "    \n",
    "    values = get_values_per_variable(points)\n",
    "    confounded = pts_are_confounded(values)\n",
    "    if not confounded and 0 not in values[\"Laser toggle\"] and \"LIGHT_BULB_CONNECTED\" not in values[\"Connection\"]:\n",
    "        #find the variable being changed\n",
    "        for v,vals in values.iteritems():\n",
    "            if len(vals) > 1:\n",
    "                #check that variable being varied is in one of the axes\n",
    "                if convert_axis[v] in [x_axis,y_axis]:\n",
    "                    cvs_variable[v] = len(vals)\n",
    "                    return cvs_variable\n",
    "    return cvs_variable\n",
    "    \n",
    "            \n",
    "            \n",
    "            \n",
    "def get_cvs_per_variable_in_graph(df):\n",
    "#     tables = df['Table'])\n",
    "    tables_with_axes = set(zip(df['Table'], df['X axis'], df['Y axis']))\n",
    "    cvs_final = {\"Battery voltage\":0,\n",
    "                        \"Area\":0,\n",
    "                        \"Separation\":0,\n",
    "                        \"Width\":0,\n",
    "                        \"Wavelength\":0,\n",
    "                        \"Concentration\":0}\n",
    "    for t,x_axis,y_axis in tables_with_axes:\n",
    "        table = read_table(t)\n",
    "        cvs_final = {k:max(v,detect_cvs_quant_in_graph(table,x_axis,y_axis)[k]) for k,v in cvs_final.iteritems()}\n",
    "    return cvs_final"
   ]
  },
  {
   "cell_type": "markdown",
   "metadata": {},
   "source": [
    "### Test CVS detector for different scenarios\n",
    "If all return True, we are good to go"
   ]
  },
  {
   "cell_type": "code",
   "execution_count": 7,
   "metadata": {
    "collapsed": false
   },
   "outputs": [
    {
     "name": "stdout",
     "output_type": "stream",
     "text": [
      "table True\n",
      "graph True\n",
      "graph True\n",
      "table True\n",
      "graph True\n",
      "table True\n",
      "graph True\n",
      "table True\n",
      "graph True\n",
      "table True\n",
      "graph True\n",
      "graph True\n",
      "table True\n",
      "graph True\n"
     ]
    }
   ],
   "source": [
    "beers_in_1_on = '''{\n",
    "    \"1\": {\"Ruler location\": {\"y\": 3.62, \"x\": 3.28}, \"Detector location\": {\"y\": 2.0, \"x\": 6.67}, \"visible\": true, \"Width\": 1.3, \"trialNumber\": 1, \"Absorbance\": 0.04, \"Wavelength\": 582, \"Concentration\": 200.0, \"Laser toggle\": 1},     \n",
    "    \"2\": {\"Ruler location\": {\"y\": 3.62, \"x\": 3.28}, \"Detector location\": {\"y\": 2.0, \"x\": 6.67}, \"visible\": true, \"Width\": 2.0, \"trialNumber\": 2, \"Absorbance\": 0.02, \"Wavelength\": 582, \"Concentration\": 200.0, \"Laser toggle\": 1}}'''\n",
    "beers_out_1_on = {'Battery voltage': 0, 'Area': 0, 'Width': 2, 'Separation': 0, 'Wavelength': 0, 'Concentration': 0}\n",
    "print \"table\",beers_out_1_on == detect_cvs_quant_in_table(read_table(beers_in_1_on))[0]\n",
    "print \"graph\",beers_out_1_on == detect_cvs_quant_in_graph(read_table(beers_in_1_on),\"absorbance\",\"cuvetteWidth\")\n",
    "beers_out_1_on = {'Battery voltage': 0, 'Area': 0, 'Width': 0, 'Separation': 0, 'Wavelength': 0, 'Concentration': 0}\n",
    "print \"graph\",beers_out_1_on == detect_cvs_quant_in_graph(read_table(beers_in_1_on),\"concentration\",\"absorbance\")\n",
    "\n",
    "beers_in_1_off = '''{\n",
    "    \"1\": {\"Ruler location\": {\"y\": 3.62, \"x\": 3.28}, \"Detector location\": {\"y\": 2.0, \"x\": 6.67}, \"visible\": true, \"Width\": 1.3, \"trialNumber\": 1, \"Absorbance\": \"nan\", \"Wavelength\": 582, \"Concentration\": 200.0, \"Laser toggle\": 0},     \n",
    "    \"2\": {\"Ruler location\": {\"y\": 3.62, \"x\": 3.28}, \"Detector location\": {\"y\": 2.0, \"x\": 6.67}, \"visible\": true, \"Width\": 1.3, \"trialNumber\": 2, \"Absorbance\": \"nan\", \"Wavelength\": 582, \"Concentration\": 100.0, \"Laser toggle\": 0}}'''\n",
    "beers_out_1_off = {'Battery voltage': 0, 'Area': 0, 'Width': 0, 'Separation': 0, 'Wavelength': 0, 'Concentration': 0}\n",
    "print \"table\",beers_out_1_off == detect_cvs_quant_in_table(read_table(beers_in_1_off))[0]\n",
    "print \"graph\",beers_out_1_off == detect_cvs_quant_in_graph(read_table(beers_in_1_off),\"concentration\",\"cuvetteWidth\")\n",
    "\n",
    "beers_in_2_on = '''{\n",
    "    \"1\": {\"Ruler location\": {\"y\": 3.62, \"x\": 3.28}, \"Detector location\": {\"y\": 2.0, \"x\": 6.67}, \"visible\": true, \"Width\": 1.3, \"trialNumber\": 1, \"Absorbance\": 0.04, \"Wavelength\": 582, \"Concentration\": 200.0, \"Laser toggle\": 1},     \n",
    "    \"2\": {\"Ruler location\": {\"y\": 3.62, \"x\": 3.28}, \"Detector location\": {\"y\": 2.0, \"x\": 6.67}, \"visible\": true, \"Width\": 1.3, \"trialNumber\": 2, \"Absorbance\": 0.02, \"Wavelength\": 582, \"Concentration\": 100.0, \"Laser toggle\": 1},\n",
    "    \"3\": {\"Ruler location\": {\"y\": 3.62, \"x\": 3.28}, \"Detector location\": {\"y\": 2.0, \"x\": 6.67}, \"visible\": true, \"Width\": 1, \"trialNumber\": 3, \"Absorbance\": 0.04, \"Wavelength\": 582, \"Concentration\": 200.0, \"Laser toggle\": 1},\n",
    "    \"4\": {\"Ruler location\": {\"y\": 3.62, \"x\": 3.28}, \"Detector location\": {\"y\": 2.0, \"x\": 6.67}, \"visible\": true, \"Width\": 2, \"trialNumber\": 4, \"Absorbance\": 0.02, \"Wavelength\": 582, \"Concentration\": 200.0, \"Laser toggle\": 1}}'''\n",
    "beers_out_2_on_table = {'Battery voltage': 0, 'Area': 0, 'Width': 2, 'Separation': 0, 'Wavelength': 0, 'Concentration': 2}\n",
    "beers_out_2_on_graph = {'Battery voltage': 0, 'Area': 0, 'Width': 0, 'Separation': 0, 'Wavelength': 0, 'Concentration': 0}\n",
    "print \"table\",beers_out_2_on_table == detect_cvs_quant_in_table(read_table(beers_in_2_on))[0]\n",
    "print \"graph\",beers_out_2_on_graph == detect_cvs_quant_in_graph(read_table(beers_in_2_on),\"concentration\",\"cuvetteWidth\")\n",
    "\n",
    "beers_in_1_on_off = '''{\n",
    "    \"1\": {\"Ruler location\": {\"y\": 3.62, \"x\": 3.28}, \"Detector location\": {\"y\": 2.0, \"x\": 6.67}, \"visible\": true, \"Width\": 1.3, \"trialNumber\": 1, \"Absorbance\": 0.04, \"Wavelength\": 582, \"Concentration\": 200.0, \"Laser toggle\": 0},     \n",
    "    \"2\": {\"Ruler location\": {\"y\": 3.62, \"x\": 3.28}, \"Detector location\": {\"y\": 2.0, \"x\": 6.67}, \"visible\": true, \"Width\": 1.3, \"trialNumber\": 2, \"Absorbance\": 0.02, \"Wavelength\": 582, \"Concentration\": 100.0, \"Laser toggle\": 1}}'''\n",
    "beers_out_1_on_off = {'Battery voltage': 0, 'Area': 0, 'Width': 0, 'Separation': 0, 'Wavelength': 0, 'Concentration': 0}\n",
    "print \"table\",beers_out_1_on_off == detect_cvs_quant_in_table(read_table(beers_in_1_on_off))[0]\n",
    "print \"graph\",beers_out_1_on_off == detect_cvs_quant_in_graph(read_table(beers_in_1_on_off),\"concentration\",\"cuvetteWidth\")\n",
    "\n",
    "caps_in_1_battery = '''{\n",
    "    \"1\": {\"Battery voltage\": -1.5, \"Area\": 100.0, \"Connection\": \"BATTERY_CONNECTED\", \"Capacitor voltage\": -1.5, \"visible\": true, \"Charge\": -0.13, \"trialNumber\": 1, \"Separation\": 10.0}, \n",
    "    \"2\": {\"Battery voltage\": 0.3923, \"Area\": 100.0, \"Connection\": \"BATTERY_CONNECTED\", \"Capacitor voltage\": 0.3923, \"visible\": true, \"Charge\": 0.03, \"trialNumber\": 2, \"Separation\": 10.0}}'''\n",
    "caps_out_1_battery = {'Battery voltage': 2, 'Area': 0, 'Width': 0, 'Separation': 0, 'Wavelength': 0, 'Concentration': 0}\n",
    "print \"table\",caps_out_1_battery == detect_cvs_quant_in_table(read_table(caps_in_1_battery))[0]\n",
    "print \"graph\",caps_out_1_battery == detect_cvs_quant_in_graph(read_table(caps_in_1_battery),\"trialNumber\",\"charge\")\n",
    "caps_out_1_battery = {'Battery voltage': 0, 'Area': 0, 'Width': 0, 'Separation': 0, 'Wavelength': 0, 'Concentration': 0}\n",
    "print \"graph\",caps_out_1_battery == detect_cvs_quant_in_graph(read_table(caps_in_1_battery),\"trialNumber\",\"area\")\n",
    "\n",
    "\n",
    "caps_in_1_lightbulb = '''{\n",
    "    \"1\": {\"Battery voltage\": -1.5, \"Area\": 100.0, \"Connection\": \"LIGHT_BULB_CONNECTED\", \"Capacitor voltage\": -1.5, \"visible\": true, \"Charge\": -0.13, \"trialNumber\": 1, \"Separation\": 10.0}, \n",
    "    \"2\": {\"Battery voltage\": 0.3923, \"Area\": 100.0, \"Connection\": \"LIGHT_BULB_CONNECTED\", \"Capacitor voltage\": 0.3923, \"visible\": true, \"Charge\": 0.03, \"trialNumber\": 2, \"Separation\": 10.0}}'''\n",
    "caps_out_1_lightbulb = {'Battery voltage': 0, 'Area': 0, 'Width': 0, 'Separation': 0, 'Wavelength': 0, 'Concentration': 0}\n",
    "print \"table\",caps_out_1_lightbulb == detect_cvs_quant_in_table(read_table(caps_in_1_lightbulb))[0]\n",
    "print \"graph\",caps_out_1_lightbulb == detect_cvs_quant_in_graph(read_table(caps_in_1_lightbulb),\"trialNumber\",\"charge\")"
   ]
  },
  {
   "cell_type": "markdown",
   "metadata": {
    "collapsed": true
   },
   "source": [
    "# Let's run the detector on all students...\n",
    "Since we don't yet have a metadata file to pull the right log data per student (and ingore student id that were test runs or unusable student data) were going to run the detector on all student ids have exactl one log file for each sims (~150)."
   ]
  },
  {
   "cell_type": "markdown",
   "metadata": {},
   "source": [
    "## basic detectors first"
   ]
  },
  {
   "cell_type": "code",
   "execution_count": 8,
   "metadata": {
    "collapsed": false
   },
   "outputs": [
    {
     "data": {
      "text/html": [
       "<div>\n",
       "<table border=\"1\" class=\"dataframe\">\n",
       "  <thead>\n",
       "    <tr style=\"text-align: right;\">\n",
       "      <th></th>\n",
       "      <th>use_table</th>\n",
       "      <th>use_graph</th>\n",
       "      <th>use_concentration</th>\n",
       "      <th>use_width</th>\n",
       "      <th>use_area</th>\n",
       "      <th>use_separation</th>\n",
       "    </tr>\n",
       "    <tr>\n",
       "      <th>studentid</th>\n",
       "      <th></th>\n",
       "      <th></th>\n",
       "      <th></th>\n",
       "      <th></th>\n",
       "      <th></th>\n",
       "      <th></th>\n",
       "    </tr>\n",
       "  </thead>\n",
       "  <tbody>\n",
       "    <tr>\n",
       "      <th>17729162</th>\n",
       "      <td>0</td>\n",
       "      <td>0</td>\n",
       "      <td>0</td>\n",
       "      <td>0</td>\n",
       "      <td>0</td>\n",
       "      <td>0</td>\n",
       "    </tr>\n",
       "  </tbody>\n",
       "</table>\n",
       "</div>"
      ],
      "text/plain": [
       "           use_table  use_graph  use_concentration  use_width  use_area  \\\n",
       "studentid                                                                 \n",
       "17729162           0          0                  0          0         0   \n",
       "\n",
       "           use_separation  \n",
       "studentid                  \n",
       "17729162                0  "
      ]
     },
     "execution_count": 8,
     "metadata": {},
     "output_type": "execute_result"
    }
   ],
   "source": [
    "ids = get_students_to_analyze_log()\n",
    "use_wrapper_df = pd.DataFrame(index =ids, columns = ['use_table', 'use_graph','use_concentration','use_width','use_area','use_separation'])\n",
    "use_wrapper_df = use_wrapper_df.fillna(0)\n",
    "use_wrapper_df.index.name = 'studentid'\n",
    "for c in use_wrapper_df.columns:\n",
    "    use_wrapper_df[[c]] = use_wrapper_df[[c]].astype(int)\n",
    "use_wrapper_df[use_wrapper_df.index==17729162]"
   ]
  },
  {
   "cell_type": "code",
   "execution_count": 9,
   "metadata": {
    "collapsed": false
   },
   "outputs": [
    {
     "name": "stderr",
     "output_type": "stream",
     "text": [
      "C:\\Users\\sperez8\\AppData\\Local\\Continuum\\Anaconda2\\lib\\site-packages\\pandas\\core\\indexing.py:465: SettingWithCopyWarning: \n",
      "A value is trying to be set on a copy of a slice from a DataFrame.\n",
      "Try using .loc[row_indexer,col_indexer] = value instead\n",
      "\n",
      "See the caveats in the documentation: http://pandas.pydata.org/pandas-docs/stable/indexing.html#indexing-view-versus-copy\n",
      "  self.obj[item] = s\n"
     ]
    }
   ],
   "source": [
    " wrapper_all_logs = {'use_table':0,'use_graph':0,'use_concentration':0,'use_width':0,'use_area':0,'use_separation':0}\n",
    "    \n",
    "%aimport utils_read_parsing\n",
    "for sim in ['beers','capacitor']:\n",
    "    log_files = log_files_per_sim[sim]\n",
    "    for sid,logs in log_files.iteritems():\n",
    "#         if sid != 17729162:\n",
    "#             continue\n",
    "        wrapper_all_logs = {'use_table':0,'use_graph':0,'use_concentration':0,'use_width':0,'use_area':0,'use_separation':0}\n",
    "        for log in logs:\n",
    "            df = prep_parsing_data(log)\n",
    "            if not df.empty:\n",
    "                #we find the instances of CVS in this log file\n",
    "                use_table = get_use_table(df)\n",
    "                use_graph = get_use_graph(df)\n",
    "                use_concentration = get_use_concentration(df)\n",
    "                use_width = get_use_width(df)\n",
    "                use_area = get_use_area(df)\n",
    "                use_separation = get_use_separation(df)\n",
    "#                 print sim, use_table, use_graph\n",
    "                #we append them to a summary cvs\n",
    "                wrapper_all_logs['use_table'] = max(wrapper_all_logs['use_table'],use_table)\n",
    "                wrapper_all_logs['use_graph'] = max(wrapper_all_logs['use_graph'],use_graph)\n",
    "                wrapper_all_logs['use_concentration'] = max(wrapper_all_logs['use_concentration'],use_concentration)\n",
    "                wrapper_all_logs['use_width'] = max(wrapper_all_logs['use_width'],use_width)\n",
    "                wrapper_all_logs['use_area'] = max(wrapper_all_logs['use_area'],use_area)\n",
    "                wrapper_all_logs['use_separation'] = max(wrapper_all_logs['use_separation'],use_separation)\n",
    "#                 print wrapper_all_logs\n",
    "\n",
    "            else:\n",
    "                print sid, log\n",
    "\n",
    "        for var, usage in wrapper_all_logs.iteritems():\n",
    "            if usage>0:\n",
    "                use_wrapper_df.set_value(sid, var, usage)"
   ]
  },
  {
   "cell_type": "code",
   "execution_count": 10,
   "metadata": {
    "collapsed": false
   },
   "outputs": [
    {
     "data": {
      "text/html": [
       "<div>\n",
       "<table border=\"1\" class=\"dataframe\">\n",
       "  <thead>\n",
       "    <tr style=\"text-align: right;\">\n",
       "      <th></th>\n",
       "      <th>use_table</th>\n",
       "      <th>use_graph</th>\n",
       "      <th>use_concentration</th>\n",
       "      <th>use_width</th>\n",
       "      <th>use_area</th>\n",
       "      <th>use_separation</th>\n",
       "    </tr>\n",
       "    <tr>\n",
       "      <th>studentid</th>\n",
       "      <th></th>\n",
       "      <th></th>\n",
       "      <th></th>\n",
       "      <th></th>\n",
       "      <th></th>\n",
       "      <th></th>\n",
       "    </tr>\n",
       "  </thead>\n",
       "  <tbody>\n",
       "    <tr>\n",
       "      <th>17729162</th>\n",
       "      <td>1</td>\n",
       "      <td>0</td>\n",
       "      <td>1</td>\n",
       "      <td>1</td>\n",
       "      <td>1</td>\n",
       "      <td>1</td>\n",
       "    </tr>\n",
       "  </tbody>\n",
       "</table>\n",
       "</div>"
      ],
      "text/plain": [
       "           use_table  use_graph  use_concentration  use_width  use_area  \\\n",
       "studentid                                                                 \n",
       "17729162           1          0                  1          1         1   \n",
       "\n",
       "           use_separation  \n",
       "studentid                  \n",
       "17729162                1  "
      ]
     },
     "execution_count": 10,
     "metadata": {},
     "output_type": "execute_result"
    }
   ],
   "source": [
    "use_wrapper_df[use_wrapper_df.index==17729162]"
   ]
  },
  {
   "cell_type": "code",
   "execution_count": 11,
   "metadata": {
    "collapsed": true
   },
   "outputs": [],
   "source": [
    "use_wrapper_df.to_csv('use_wrapper_results.txt', sep='\\t')"
   ]
  },
  {
   "cell_type": "code",
   "execution_count": 12,
   "metadata": {
    "collapsed": false
   },
   "outputs": [
    {
     "data": {
      "text/html": [
       "<div>\n",
       "<table border=\"1\" class=\"dataframe\">\n",
       "  <thead>\n",
       "    <tr style=\"text-align: right;\">\n",
       "      <th></th>\n",
       "      <th>use_table</th>\n",
       "      <th>use_graph</th>\n",
       "      <th>use_concentration</th>\n",
       "      <th>use_width</th>\n",
       "      <th>use_area</th>\n",
       "      <th>use_separation</th>\n",
       "    </tr>\n",
       "  </thead>\n",
       "  <tbody>\n",
       "    <tr>\n",
       "      <th>count</th>\n",
       "      <td>148.0</td>\n",
       "      <td>148.000000</td>\n",
       "      <td>148.0</td>\n",
       "      <td>148.0</td>\n",
       "      <td>148.000000</td>\n",
       "      <td>148.000000</td>\n",
       "    </tr>\n",
       "    <tr>\n",
       "      <th>mean</th>\n",
       "      <td>1.0</td>\n",
       "      <td>0.844595</td>\n",
       "      <td>1.0</td>\n",
       "      <td>1.0</td>\n",
       "      <td>0.993243</td>\n",
       "      <td>0.993243</td>\n",
       "    </tr>\n",
       "    <tr>\n",
       "      <th>std</th>\n",
       "      <td>0.0</td>\n",
       "      <td>0.363521</td>\n",
       "      <td>0.0</td>\n",
       "      <td>0.0</td>\n",
       "      <td>0.082199</td>\n",
       "      <td>0.082199</td>\n",
       "    </tr>\n",
       "    <tr>\n",
       "      <th>min</th>\n",
       "      <td>1.0</td>\n",
       "      <td>0.000000</td>\n",
       "      <td>1.0</td>\n",
       "      <td>1.0</td>\n",
       "      <td>0.000000</td>\n",
       "      <td>0.000000</td>\n",
       "    </tr>\n",
       "    <tr>\n",
       "      <th>25%</th>\n",
       "      <td>1.0</td>\n",
       "      <td>1.000000</td>\n",
       "      <td>1.0</td>\n",
       "      <td>1.0</td>\n",
       "      <td>1.000000</td>\n",
       "      <td>1.000000</td>\n",
       "    </tr>\n",
       "    <tr>\n",
       "      <th>50%</th>\n",
       "      <td>1.0</td>\n",
       "      <td>1.000000</td>\n",
       "      <td>1.0</td>\n",
       "      <td>1.0</td>\n",
       "      <td>1.000000</td>\n",
       "      <td>1.000000</td>\n",
       "    </tr>\n",
       "    <tr>\n",
       "      <th>75%</th>\n",
       "      <td>1.0</td>\n",
       "      <td>1.000000</td>\n",
       "      <td>1.0</td>\n",
       "      <td>1.0</td>\n",
       "      <td>1.000000</td>\n",
       "      <td>1.000000</td>\n",
       "    </tr>\n",
       "    <tr>\n",
       "      <th>max</th>\n",
       "      <td>1.0</td>\n",
       "      <td>1.000000</td>\n",
       "      <td>1.0</td>\n",
       "      <td>1.0</td>\n",
       "      <td>1.000000</td>\n",
       "      <td>1.000000</td>\n",
       "    </tr>\n",
       "  </tbody>\n",
       "</table>\n",
       "</div>"
      ],
      "text/plain": [
       "       use_table   use_graph  use_concentration  use_width    use_area  \\\n",
       "count      148.0  148.000000              148.0      148.0  148.000000   \n",
       "mean         1.0    0.844595                1.0        1.0    0.993243   \n",
       "std          0.0    0.363521                0.0        0.0    0.082199   \n",
       "min          1.0    0.000000                1.0        1.0    0.000000   \n",
       "25%          1.0    1.000000                1.0        1.0    1.000000   \n",
       "50%          1.0    1.000000                1.0        1.0    1.000000   \n",
       "75%          1.0    1.000000                1.0        1.0    1.000000   \n",
       "max          1.0    1.000000                1.0        1.0    1.000000   \n",
       "\n",
       "       use_separation  \n",
       "count      148.000000  \n",
       "mean         0.993243  \n",
       "std          0.082199  \n",
       "min          0.000000  \n",
       "25%          1.000000  \n",
       "50%          1.000000  \n",
       "75%          1.000000  \n",
       "max          1.000000  "
      ]
     },
     "execution_count": 12,
     "metadata": {},
     "output_type": "execute_result"
    }
   ],
   "source": [
    "use_wrapper_df.describe()"
   ]
  },
  {
   "cell_type": "code",
   "execution_count": 13,
   "metadata": {
    "collapsed": false
   },
   "outputs": [
    {
     "data": {
      "text/html": [
       "<div>\n",
       "<table border=\"1\" class=\"dataframe\">\n",
       "  <thead>\n",
       "    <tr style=\"text-align: right;\">\n",
       "      <th></th>\n",
       "      <th>use_table</th>\n",
       "      <th>use_graph</th>\n",
       "      <th>use_concentration</th>\n",
       "      <th>use_width</th>\n",
       "      <th>use_area</th>\n",
       "      <th>use_separation</th>\n",
       "    </tr>\n",
       "    <tr>\n",
       "      <th>studentid</th>\n",
       "      <th></th>\n",
       "      <th></th>\n",
       "      <th></th>\n",
       "      <th></th>\n",
       "      <th></th>\n",
       "      <th></th>\n",
       "    </tr>\n",
       "  </thead>\n",
       "  <tbody>\n",
       "    <tr>\n",
       "      <th>11384795</th>\n",
       "      <td>1</td>\n",
       "      <td>1</td>\n",
       "      <td>1</td>\n",
       "      <td>1</td>\n",
       "      <td>0</td>\n",
       "      <td>0</td>\n",
       "    </tr>\n",
       "  </tbody>\n",
       "</table>\n",
       "</div>"
      ],
      "text/plain": [
       "           use_table  use_graph  use_concentration  use_width  use_area  \\\n",
       "studentid                                                                 \n",
       "11384795           1          1                  1          1         0   \n",
       "\n",
       "           use_separation  \n",
       "studentid                  \n",
       "11384795                0  "
      ]
     },
     "execution_count": 13,
     "metadata": {},
     "output_type": "execute_result"
    }
   ],
   "source": [
    "use_wrapper_df[use_wrapper_df['use_area']==0]"
   ]
  },
  {
   "cell_type": "code",
   "execution_count": 14,
   "metadata": {
    "collapsed": false
   },
   "outputs": [
    {
     "data": {
      "text/html": [
       "<div>\n",
       "<table border=\"1\" class=\"dataframe\">\n",
       "  <thead>\n",
       "    <tr style=\"text-align: right;\">\n",
       "      <th></th>\n",
       "      <th>use_table</th>\n",
       "      <th>use_graph</th>\n",
       "      <th>use_concentration</th>\n",
       "      <th>use_width</th>\n",
       "      <th>use_area</th>\n",
       "      <th>use_separation</th>\n",
       "    </tr>\n",
       "    <tr>\n",
       "      <th>studentid</th>\n",
       "      <th></th>\n",
       "      <th></th>\n",
       "      <th></th>\n",
       "      <th></th>\n",
       "      <th></th>\n",
       "      <th></th>\n",
       "    </tr>\n",
       "  </thead>\n",
       "  <tbody>\n",
       "    <tr>\n",
       "      <th>11384795</th>\n",
       "      <td>1</td>\n",
       "      <td>1</td>\n",
       "      <td>1</td>\n",
       "      <td>1</td>\n",
       "      <td>0</td>\n",
       "      <td>0</td>\n",
       "    </tr>\n",
       "  </tbody>\n",
       "</table>\n",
       "</div>"
      ],
      "text/plain": [
       "           use_table  use_graph  use_concentration  use_width  use_area  \\\n",
       "studentid                                                                 \n",
       "11384795           1          1                  1          1         0   \n",
       "\n",
       "           use_separation  \n",
       "studentid                  \n",
       "11384795                0  "
      ]
     },
     "execution_count": 14,
     "metadata": {},
     "output_type": "execute_result"
    }
   ],
   "source": [
    "use_wrapper_df[use_wrapper_df['use_separation']==0]"
   ]
  },
  {
   "cell_type": "markdown",
   "metadata": {},
   "source": [
    "## Serious detectors"
   ]
  },
  {
   "cell_type": "code",
   "execution_count": 15,
   "metadata": {
    "collapsed": false
   },
   "outputs": [
    {
     "data": {
      "text/html": [
       "<div>\n",
       "<table border=\"1\" class=\"dataframe\">\n",
       "  <thead>\n",
       "    <tr style=\"text-align: right;\">\n",
       "      <th></th>\n",
       "      <th>Battery voltage</th>\n",
       "      <th>Area</th>\n",
       "      <th>Separation</th>\n",
       "      <th>Wavelength</th>\n",
       "      <th>Width</th>\n",
       "      <th>Concentration</th>\n",
       "    </tr>\n",
       "    <tr>\n",
       "      <th>studentid</th>\n",
       "      <th></th>\n",
       "      <th></th>\n",
       "      <th></th>\n",
       "      <th></th>\n",
       "      <th></th>\n",
       "      <th></th>\n",
       "    </tr>\n",
       "  </thead>\n",
       "  <tbody>\n",
       "    <tr>\n",
       "      <th>11612162</th>\n",
       "      <td>False</td>\n",
       "      <td>False</td>\n",
       "      <td>False</td>\n",
       "      <td>False</td>\n",
       "      <td>False</td>\n",
       "      <td>False</td>\n",
       "    </tr>\n",
       "    <tr>\n",
       "      <th>13660166</th>\n",
       "      <td>False</td>\n",
       "      <td>False</td>\n",
       "      <td>False</td>\n",
       "      <td>False</td>\n",
       "      <td>False</td>\n",
       "      <td>False</td>\n",
       "    </tr>\n",
       "    <tr>\n",
       "      <th>41947147</th>\n",
       "      <td>False</td>\n",
       "      <td>False</td>\n",
       "      <td>False</td>\n",
       "      <td>False</td>\n",
       "      <td>False</td>\n",
       "      <td>False</td>\n",
       "    </tr>\n",
       "    <tr>\n",
       "      <th>64006159</th>\n",
       "      <td>False</td>\n",
       "      <td>False</td>\n",
       "      <td>False</td>\n",
       "      <td>False</td>\n",
       "      <td>False</td>\n",
       "      <td>False</td>\n",
       "    </tr>\n",
       "    <tr>\n",
       "      <th>15749160</th>\n",
       "      <td>False</td>\n",
       "      <td>False</td>\n",
       "      <td>False</td>\n",
       "      <td>False</td>\n",
       "      <td>False</td>\n",
       "      <td>False</td>\n",
       "    </tr>\n",
       "  </tbody>\n",
       "</table>\n",
       "</div>"
      ],
      "text/plain": [
       "          Battery voltage   Area Separation Wavelength  Width Concentration\n",
       "studentid                                                                  \n",
       "11612162            False  False      False      False  False         False\n",
       "13660166            False  False      False      False  False         False\n",
       "41947147            False  False      False      False  False         False\n",
       "64006159            False  False      False      False  False         False\n",
       "15749160            False  False      False      False  False         False"
      ]
     },
     "execution_count": 15,
     "metadata": {},
     "output_type": "execute_result"
    }
   ],
   "source": [
    "ids = get_students_to_analyze_log()\n",
    "table_cvs_df = pd.DataFrame(index =ids, columns = ['Battery voltage', 'Area', 'Separation','Wavelength','Width', 'Concentration'])\n",
    "table_cvs_df = table_cvs_df.fillna(0)\n",
    "table_cvs_df.index.name = 'studentid'\n",
    "for c in table_cvs_df.columns:\n",
    "    table_cvs_df[[c]] = table_cvs_df[[c]].astype(int)\n",
    "graph_cvs_df = table_cvs_df.copy()\n",
    "table_intervals_df = table_cvs_df.copy()\n",
    "for c in table_intervals_df.columns:\n",
    "    table_intervals_df[[c]] = table_intervals_df[[c]].astype(bool)\n",
    "table_intervals_df.head()"
   ]
  },
  {
   "cell_type": "code",
   "execution_count": 16,
   "metadata": {
    "collapsed": true
   },
   "outputs": [],
   "source": [
    "%aimport utils_read_parsing\n",
    "for sim in ['beers','capacitor']:\n",
    "    log_files = log_files_per_sim[sim]\n",
    "    for sid,logs in log_files.iteritems():\n",
    "#         if sid == 10866146:\n",
    "        cvs_all_logs_table = {\"Battery voltage\":0,\"Area\":0,\"Separation\":0,\"Width\":0,\"Wavelength\":0,\"Concentration\":0}\n",
    "        cvs_all_logs_graph = {\"Battery voltage\":0,\"Area\":0,\"Separation\":0,\"Width\":0,\"Wavelength\":0,\"Concentration\":0}\n",
    "        intervals_all_logs_table = {\"Battery voltage\":False,\"Area\":False,\"Separation\":False,\"Width\":False,\"Wavelength\":False,\"Concentration\":False}\n",
    "        #for each log file\n",
    "#         print sim, sid, len(logs)\n",
    "        for log in logs:\n",
    "            df = prep_parsing_data(log)\n",
    "            if not df.empty:\n",
    "                #we find the instances of CVS in this log file\n",
    "                cvs_table,intervals_table = get_cvs_per_variable_in_table(df)\n",
    "                cvs_graph = get_cvs_per_variable_in_graph(df)\n",
    "                #we append them to a summary cvs\n",
    "                intervals_all_logs_table = {k:max(v,intervals_table[k]) for k,v in intervals_all_logs_table.iteritems()}\n",
    "                cvs_all_logs_table = {k:max(v,cvs_table[k]) for k,v in cvs_all_logs_table.iteritems()}\n",
    "                cvs_all_logs_graph = {k:max(v,cvs_graph[k]) for k,v in cvs_all_logs_graph.iteritems()}\n",
    "            else:\n",
    "                print sid, log\n",
    "        #now we save to the data to our mega df\n",
    "        for var, n_samples in cvs_all_logs_table.iteritems():\n",
    "            if n_samples >0:\n",
    "                table_cvs_df.set_value(sid, var, n_samples)\n",
    "        for var, n_samples in cvs_all_logs_graph.iteritems():\n",
    "            if n_samples >0:\n",
    "                graph_cvs_df.set_value(sid, var, n_samples)\n",
    "        for var, used_intervals in intervals_all_logs_table.iteritems():\n",
    "            if used_intervals:\n",
    "                table_intervals_df.set_value(sid, var, used_intervals)"
   ]
  },
  {
   "cell_type": "code",
   "execution_count": 17,
   "metadata": {
    "collapsed": true
   },
   "outputs": [],
   "source": [
    "table_cvs_df.to_csv('table_cvs_results.txt', sep='\\t')\n",
    "table_intervals_df.to_csv('table_intervals_results.txt', sep='\\t')\n",
    "graph_cvs_df.to_csv('graph_cvs_results.txt', sep='\\t')"
   ]
  },
  {
   "cell_type": "code",
   "execution_count": 18,
   "metadata": {
    "collapsed": true
   },
   "outputs": [],
   "source": [
    "table_intervals_df['count'] = table_intervals_df.select_dtypes(include=['bool']).sum(axis=1)"
   ]
  },
  {
   "cell_type": "code",
   "execution_count": 19,
   "metadata": {
    "collapsed": false
   },
   "outputs": [
    {
     "data": {
      "text/plain": [
       "array([[<matplotlib.axes._subplots.AxesSubplot object at 0x000000000C79F358>,\n",
       "        <matplotlib.axes._subplots.AxesSubplot object at 0x000000000D435630>,\n",
       "        <matplotlib.axes._subplots.AxesSubplot object at 0x000000000CB181D0>],\n",
       "       [<matplotlib.axes._subplots.AxesSubplot object at 0x000000000D1E8B00>,\n",
       "        <matplotlib.axes._subplots.AxesSubplot object at 0x000000000CB25D30>,\n",
       "        <matplotlib.axes._subplots.AxesSubplot object at 0x000000000D4EB0B8>],\n",
       "       [<matplotlib.axes._subplots.AxesSubplot object at 0x000000000D317908>,\n",
       "        <matplotlib.axes._subplots.AxesSubplot object at 0x000000000CBED208>,\n",
       "        <matplotlib.axes._subplots.AxesSubplot object at 0x000000000CCE8C50>]], dtype=object)"
      ]
     },
     "execution_count": 19,
     "metadata": {},
     "output_type": "execute_result"
    },
    {
     "data": {
      "image/png": "[encoded data removed]",
      "text/plain": [
       "<matplotlib.figure.Figure at 0xc79fa90>"
      ]
     },
     "metadata": {},
     "output_type": "display_data"
    }
   ],
   "source": [
    "table_intervals_df.hist(sharey=True)"
   ]
  },
  {
   "cell_type": "markdown",
   "metadata": {},
   "source": [
    "## Detect use of scale for Separation"
   ]
  },
  {
   "cell_type": "code",
   "execution_count": 20,
   "metadata": {
    "collapsed": true
   },
   "outputs": [],
   "source": [
    "def detect_cvs_quant_scale_in_graph(table,x_axis,y_axis,x_scale,y_scale,scale):\n",
    "    points = get_pts(table,in_graph=True) #grab all points\n",
    "    cvs_variable = {\"Battery voltage\":0,\n",
    "                        \"Area\":0,\n",
    "                        \"Separation\":0,\n",
    "                        \"Width\":0,\n",
    "                        \"Wavelength\":0,\n",
    "                        \"Concentration\":0}\n",
    "    #check that outcome variable as one of the axes\n",
    "    \n",
    "    if x_axis not in [\"charge\",\"absorbance\"] and y_axis not in [\"charge\",\"absorbance\"]:\n",
    "        return cvs_variable\n",
    "    \n",
    "    values = get_values_per_variable(points)\n",
    "    confounded = pts_are_confounded(values)\n",
    "    if not confounded and 0 not in values[\"Laser toggle\"] and \"LIGHT_BULB_CONNECTED\" not in values[\"Connection\"]:\n",
    "        #find the variable being changed\n",
    "        for v,vals in values.iteritems():\n",
    "            if len(vals) > 1:\n",
    "                #check that variable being varied is in one of the axes and that the scale is the one\n",
    "                # are interested in\n",
    "                if convert_axis[v] in [x_axis,y_axis] and scale in [x_scale,y_scale]:\n",
    "                    cvs_variable[v] = len(vals)\n",
    "                    return cvs_variable\n",
    "    return cvs_variable\n",
    "\n",
    "\n",
    "def get_cvs_scale_in_graph(df,scale):\n",
    "    ''' For a certain scale (linear, log, inverse), detect if CVS graph was done with the variable plotted using that scale'''\n",
    "    tables_with_axes_scales = set(zip(df['Table'], df['X axis'], df['Y axis'], df['X axis scale'], df['Y axis scale']))\n",
    "    cvs_final = {\"Battery voltage\":0,\n",
    "                        \"Area\":0,\n",
    "                        \"Separation\":0,\n",
    "                        \"Width\":0,\n",
    "                        \"Wavelength\":0,\n",
    "                        \"Concentration\":0}\n",
    "    for t,x_axis,y_axis,x_scale,y_scale in tables_with_axes_scales:\n",
    "        table = read_table(t)\n",
    "        cvs_final = {k:max(v,detect_cvs_quant_scale_in_graph(table,x_axis,y_axis,x_scale,y_scale,scale)[k]) for k,v in cvs_final.iteritems()}\n",
    "    return cvs_final"
   ]
  },
  {
   "cell_type": "code",
   "execution_count": 21,
   "metadata": {
    "collapsed": true
   },
   "outputs": [],
   "source": [
    "ids = get_students_to_analyze_log()\n",
    "graph_scale_cvs_df = pd.DataFrame(index =ids, columns = ['Battery voltage', 'Area', 'Separation','Wavelength','Width', 'Concentration'])\n",
    "graph_scale_cvs_df = graph_scale_cvs_df.fillna(0)\n",
    "graph_scale_cvs_df.index.name = 'studentid'\n",
    "for c in graph_scale_cvs_df.columns:\n",
    "    graph_scale_cvs_df[[c]] = graph_scale_cvs_df[[c]].astype(int)"
   ]
  },
  {
   "cell_type": "code",
   "execution_count": 22,
   "metadata": {
    "collapsed": true
   },
   "outputs": [],
   "source": [
    "%aimport utils_read_parsing\n",
    "for sim in ['beers','capacitor']:\n",
    "    log_files = log_files_per_sim[sim]\n",
    "    for sid,logs in log_files.iteritems():\n",
    "#         if sid in [11929166,19989152,19436162]:\n",
    "        cvs_all_logs_graph = {\"Battery voltage\":0,\"Area\":0,\"Separation\":0,\"Width\":0,\"Wavelength\":0,\"Concentration\":0}\n",
    "        #for each log file\n",
    "#             print sim, sid, len(logs)\n",
    "        for log in logs:\n",
    "            df = prep_parsing_data(log)\n",
    "            if not df.empty:\n",
    "                #we find the instances of CVS in this log file\n",
    "#                     cvs_table,intervals_table = get_cvs_per_variable_in_table(df)\n",
    "                cvs_scale_graph = get_cvs_scale_in_graph(df,'inverse')\n",
    "                #we append them to a summary cvs\n",
    "#                     intervals_all_logs_table = {k:max(v,intervals_table[k]) for k,v in intervals_all_logs_table.iteritems()}\n",
    "#                 cvs_all_logs_table = {k:max(v,cvs_table[k]) for k,v in cvs_all_logs_table.iteritems()}\n",
    "                cvs_all_logs_graph = {k:max(v,cvs_scale_graph[k]) for k,v in cvs_all_logs_graph.iteritems()}\n",
    "            else:\n",
    "                print sid, log\n",
    "        #now we save to the data to our mega df\n",
    "#         for var, n_samples in cvs_all_logs_table.iteritems():\n",
    "#             if n_samples >0:\n",
    "#                 table_cvs_df.set_value(sid, var, n_samples)\n",
    "        for var, n_samples in cvs_all_logs_graph.iteritems():\n",
    "            if n_samples >0:\n",
    "                graph_scale_cvs_df.set_value(sid, var, n_samples)\n",
    "#             for var, used_intervals in intervals_all_logs_table.iteritems():\n",
    "#                 if used_intervals:\n",
    "#                     table_intervals_df.set_value(sid, var, used_intervals)"
   ]
  },
  {
   "cell_type": "code",
   "execution_count": 23,
   "metadata": {
    "collapsed": false
   },
   "outputs": [
    {
     "data": {
      "text/html": [
       "<div>\n",
       "<table border=\"1\" class=\"dataframe\">\n",
       "  <thead>\n",
       "    <tr style=\"text-align: right;\">\n",
       "      <th></th>\n",
       "      <th>Battery voltage</th>\n",
       "      <th>Area</th>\n",
       "      <th>Separation</th>\n",
       "      <th>Wavelength</th>\n",
       "      <th>Width</th>\n",
       "      <th>Concentration</th>\n",
       "    </tr>\n",
       "    <tr>\n",
       "      <th>studentid</th>\n",
       "      <th></th>\n",
       "      <th></th>\n",
       "      <th></th>\n",
       "      <th></th>\n",
       "      <th></th>\n",
       "      <th></th>\n",
       "    </tr>\n",
       "  </thead>\n",
       "  <tbody>\n",
       "    <tr>\n",
       "      <th>11929166</th>\n",
       "      <td>0</td>\n",
       "      <td>9</td>\n",
       "      <td>8</td>\n",
       "      <td>0</td>\n",
       "      <td>0</td>\n",
       "      <td>8</td>\n",
       "    </tr>\n",
       "    <tr>\n",
       "      <th>19436162</th>\n",
       "      <td>7</td>\n",
       "      <td>11</td>\n",
       "      <td>15</td>\n",
       "      <td>15</td>\n",
       "      <td>0</td>\n",
       "      <td>8</td>\n",
       "    </tr>\n",
       "    <tr>\n",
       "      <th>19989152</th>\n",
       "      <td>0</td>\n",
       "      <td>0</td>\n",
       "      <td>9</td>\n",
       "      <td>0</td>\n",
       "      <td>0</td>\n",
       "      <td>0</td>\n",
       "    </tr>\n",
       "  </tbody>\n",
       "</table>\n",
       "</div>"
      ],
      "text/plain": [
       "           Battery voltage  Area  Separation  Wavelength  Width  Concentration\n",
       "studentid                                                                     \n",
       "11929166                 0     9           8           0      0              8\n",
       "19436162                 7    11          15          15      0              8\n",
       "19989152                 0     0           9           0      0              0"
      ]
     },
     "execution_count": 23,
     "metadata": {},
     "output_type": "execute_result"
    }
   ],
   "source": [
    "graph_scale_cvs_df[graph_scale_cvs_df.index.isin([11929166,19989152,19436162])]"
   ]
  },
  {
   "cell_type": "code",
   "execution_count": 24,
   "metadata": {
    "collapsed": false
   },
   "outputs": [
    {
     "data": {
      "text/html": [
       "<div>\n",
       "<table border=\"1\" class=\"dataframe\">\n",
       "  <thead>\n",
       "    <tr style=\"text-align: right;\">\n",
       "      <th></th>\n",
       "      <th>Battery voltage</th>\n",
       "      <th>Area</th>\n",
       "      <th>Separation</th>\n",
       "      <th>Wavelength</th>\n",
       "      <th>Width</th>\n",
       "      <th>Concentration</th>\n",
       "    </tr>\n",
       "    <tr>\n",
       "      <th>studentid</th>\n",
       "      <th></th>\n",
       "      <th></th>\n",
       "      <th></th>\n",
       "      <th></th>\n",
       "      <th></th>\n",
       "      <th></th>\n",
       "    </tr>\n",
       "  </thead>\n",
       "  <tbody>\n",
       "    <tr>\n",
       "      <th>11612162</th>\n",
       "      <td>0</td>\n",
       "      <td>0</td>\n",
       "      <td>0</td>\n",
       "      <td>0</td>\n",
       "      <td>0</td>\n",
       "      <td>0</td>\n",
       "    </tr>\n",
       "    <tr>\n",
       "      <th>13660166</th>\n",
       "      <td>0</td>\n",
       "      <td>0</td>\n",
       "      <td>0</td>\n",
       "      <td>0</td>\n",
       "      <td>0</td>\n",
       "      <td>0</td>\n",
       "    </tr>\n",
       "    <tr>\n",
       "      <th>41947147</th>\n",
       "      <td>0</td>\n",
       "      <td>0</td>\n",
       "      <td>0</td>\n",
       "      <td>0</td>\n",
       "      <td>0</td>\n",
       "      <td>0</td>\n",
       "    </tr>\n",
       "    <tr>\n",
       "      <th>64006159</th>\n",
       "      <td>0</td>\n",
       "      <td>0</td>\n",
       "      <td>0</td>\n",
       "      <td>0</td>\n",
       "      <td>0</td>\n",
       "      <td>0</td>\n",
       "    </tr>\n",
       "    <tr>\n",
       "      <th>15749160</th>\n",
       "      <td>0</td>\n",
       "      <td>0</td>\n",
       "      <td>0</td>\n",
       "      <td>0</td>\n",
       "      <td>0</td>\n",
       "      <td>0</td>\n",
       "    </tr>\n",
       "  </tbody>\n",
       "</table>\n",
       "</div>"
      ],
      "text/plain": [
       "           Battery voltage  Area  Separation  Wavelength  Width  Concentration\n",
       "studentid                                                                     \n",
       "11612162                 0     0           0           0      0              0\n",
       "13660166                 0     0           0           0      0              0\n",
       "41947147                 0     0           0           0      0              0\n",
       "64006159                 0     0           0           0      0              0\n",
       "15749160                 0     0           0           0      0              0"
      ]
     },
     "execution_count": 24,
     "metadata": {},
     "output_type": "execute_result"
    }
   ],
   "source": [
    "graph_scale_cvs_df.head()"
   ]
  },
  {
   "cell_type": "code",
   "execution_count": 25,
   "metadata": {
    "collapsed": true
   },
   "outputs": [],
   "source": [
    "graph_scale_cvs_df.to_csv('graph_inverse_cvs_df.txt', sep='\\t')"
   ]
  }
 ],
 "metadata": {
  "anaconda-cloud": {},
  "kernelspec": {
   "display_name": "Python [Anaconda2]",
   "language": "python",
   "name": "Python [Anaconda2]"
  },
  "language_info": {
   "codemirror_mode": {
    "name": "ipython",
    "version": 2
   },
   "file_extension": ".py",
   "mimetype": "text/x-python",
   "name": "python",
   "nbconvert_exporter": "python",
   "pygments_lexer": "ipython2",
   "version": "2.7.12"
  },
  "toc": {
   "nav_menu": {},
   "number_sections": true,
   "sideBar": false,
   "skip_h1_title": false,
   "toc_cell": false,
   "toc_position": {},
   "toc_section_display": "block",
   "toc_window_display": false
  }
 },
 "nbformat": 4,
 "nbformat_minor": 1
}
