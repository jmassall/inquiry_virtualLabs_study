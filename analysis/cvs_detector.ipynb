{
 "cells": [
  {
   "cell_type": "markdown",
   "metadata": {},
   "source": [
    "# About skills_detector.ipynb\n",
    "\n",
    "This notebook detects skills in log files suchs as CVS.\n",
    "This is a work in progress :)"
   ]
  },
  {
   "cell_type": "code",
   "execution_count": 1,
   "metadata": {},
   "outputs": [],
   "source": [
    "%load_ext autoreload\n",
    "%autoreload 1\n",
    "%aimport utils_timeline_viz\n",
    "from utils_timeline_viz import *\n",
    "from utils_read_parsing import *\n",
    "%matplotlib inline\n",
    "matplotlib.style.use('ggplot')\n",
    "matplotlib.rcParams['figure.figsize'] = 25, 15\n",
    "from matplotlib.backends.backend_pdf import PdfPages"
   ]
  },
  {
   "cell_type": "markdown",
   "metadata": {
    "collapsed": true
   },
   "source": [
    "# Build dectectors\n",
    "## Quantitative CVS\n",
    "### In table\n",
    "First we extract all of their tables at all time points, analyze them for CVS and find the maximum number of values of a variable that was part of a control variable strategy instance.\n",
    "For now, use of this skill relies on the following production rules (evaluated per variable):\n",
    "\n",
    "* more than 2 successive records were done where only the variable was changed\n",
    "* the outcome variable was different for both data points\n",
    "* battery connected (caps)\n",
    "* laser is on (beers)\n"
   ]
  },
  {
   "cell_type": "code",
   "execution_count": 59,
   "metadata": {},
   "outputs": [],
   "source": [
    "def get_outcome_values(pts):\n",
    "    outcomes = []\n",
    "    for pt in pts:\n",
    "        if \"Charge\" in pt.keys():\n",
    "            outcomes.append(pt[\"Charge\"])\n",
    "        elif \"Absorbance\" in pt.keys():\n",
    "            outcomes.append(pt[\"Absorbance\"])\n",
    "        else:\n",
    "            print \"OUTCOME MISSING\"\n",
    "    return outcomes\n",
    "\n",
    "def find_intervals(values):\n",
    "    #take lngest set of values, convert to set, then list, then sort it.\n",
    "    cvs_values = {k:sorted(list(set(max(v,key=len)))) for k,v in values.iteritems()}\n",
    "    #find distance between all points\n",
    "    distances = {k:[v2 - v1 for v1,v2 in zip(vs, vs[1:])] for k,vs in cvs_values.iteritems()}\n",
    "#     print values, cvs_values, distances\n",
    "    #check if distances are all the same or not\n",
    "    intervals = {k:True if len(set(ds))==1 else False for k,ds in distances.iteritems()}\n",
    "#     print intervals\n",
    "    return intervals\n",
    "    \n",
    "    \n",
    "\n",
    "def detect_cvs_quant_in_table(table):\n",
    "    cvs_variable = {\"Battery voltage\":0,\n",
    "                        \"Area\":0,\n",
    "                        \"Separation\":0,\n",
    "                        \"Width\":0,\n",
    "                        \"Wavelength\":0,\n",
    "                        \"Concentration\":0}\n",
    "    cvs_values = {\"Battery voltage\":[[]],\n",
    "                        \"Area\":[[]],\n",
    "                        \"Separation\":[[]],\n",
    "                        \"Width\":[[]],\n",
    "                        \"Wavelength\":[[]],\n",
    "                        \"Concentration\":[[]]}\n",
    "    variable_changed = None\n",
    "    new_var_changed = None\n",
    "    number_of_changes = 1\n",
    "    prev_point = None\n",
    "    #data points in order of trial number, which is synonomous with \n",
    "    #order of capture since when you move data points around in the table,\n",
    "    #they keep the same trial number\n",
    "    for datapoint in sorted(table.iterkeys()): \n",
    "        curr_point = table[datapoint]\n",
    "        if prev_point:\n",
    "            values_of_2_points = get_values_per_variable([prev_point,curr_point])\n",
    "#             print values_of_2_points['Width']\n",
    "            confounded = pts_are_confounded(values_of_2_points)\n",
    "            outcomes = get_outcome_values([prev_point,curr_point])\n",
    "            outcome1,outcome2 = outcomes[0],outcomes[1]\n",
    "            #we check that only one variable is changed (confounded = False)\n",
    "            # that the laser was not off, and that the connection wasn't to lightbulb\n",
    "            # and that the outcome values are not null but floats\n",
    "            if not confounded and 0 not in values_of_2_points[\"Laser toggle\"] and \"LIGHT_BULB_CONNECTED\" not in values_of_2_points[\"Connection\"] and isinstance(outcome1, float) and isinstance(outcome2, float):\n",
    "                #find the variable being changed\n",
    "                for v,vals in values_of_2_points.iteritems():\n",
    "                    if len(vals) > 1:\n",
    "                        new_var_changed = v\n",
    "                if new_var_changed == None:\n",
    "                    pass\n",
    "                #update the number of changes for that variable\n",
    "                if variable_changed == None or new_var_changed == variable_changed:\n",
    "                    number_of_changes += 1\n",
    "                else:\n",
    "                    for k in cvs_values.keys():\n",
    "                        if cvs_values[k][-1]!=[]: cvs_values[k].append([])\n",
    "                    number_of_changes = 2\n",
    "                variable_changed = new_var_changed\n",
    "                if variable_changed in cvs_variable.keys(): #ignore cvs on detector, lightbulba nd connection\n",
    "                    cvs_variable[variable_changed] = max(number_of_changes,cvs_variable[variable_changed])\n",
    "                    cvs_values[variable_changed][-1].extend(values_of_2_points[variable_changed])\n",
    "#                     print cvs_values\n",
    "            else:\n",
    "                number_of_changes = 1\n",
    "                variable_changed = None\n",
    "        prev_point = curr_point.copy()\n",
    "    \n",
    "    cvs_intervals = find_intervals(cvs_values)\n",
    "    return cvs_variable, cvs_intervals\n",
    "            \n",
    "            \n",
    "def get_cvs_per_variable_in_table(df):\n",
    "    tables = set(df['Table'])\n",
    "    cvs_final = {\"Battery voltage\":0,\n",
    "                        \"Area\":0,\n",
    "                        \"Separation\":0,\n",
    "                        \"Width\":0,\n",
    "                        \"Wavelength\":0,\n",
    "                        \"Concentration\":0}\n",
    "    for i,t in enumerate(tables):\n",
    "        table = read_table(t) #converts json string to dictionary\n",
    "#         print table\n",
    "        #since many of their tables have CVS, we want to largest sample size for a variable used in CVS\n",
    "        cvs_final = {k:max(v,detect_cvs_quant_in_table(table)[k]) for k,v in cvs_final.iteritems()}\n",
    "    return cvs_final"
   ]
  },
  {
   "cell_type": "code",
   "execution_count": 60,
   "metadata": {
    "code_folding": []
   },
   "outputs": [
    {
     "name": "stdout",
     "output_type": "stream",
     "text": [
      "True\n"
     ]
    }
   ],
   "source": [
    "beers_in_2_on = '''{\n",
    "    \"1\": {\"Ruler location\": {\"y\": 3.62, \"x\": 3.28}, \"Detector location\": {\"y\": 2.0, \"x\": 6.67}, \"visible\": true, \"Width\": 1.3, \"trialNumber\": 1, \"Absorbance\": 0.04, \"Wavelength\": 582, \"Concentration\": 200.0, \"Laser toggle\": 1},     \n",
    "    \"2\": {\"Ruler location\": {\"y\": 3.62, \"x\": 3.28}, \"Detector location\": {\"y\": 2.0, \"x\": 6.67}, \"visible\": true, \"Width\": 1.3, \"trialNumber\": 2, \"Absorbance\": 0.02, \"Wavelength\": 582, \"Concentration\": 100.0, \"Laser toggle\": 1},\n",
    "    \"3\": {\"Ruler location\": {\"y\": 3.62, \"x\": 3.28}, \"Detector location\": {\"y\": 2.0, \"x\": 6.67}, \"visible\": true, \"Width\": 1, \"trialNumber\": 3, \"Absorbance\": 0.04, \"Wavelength\": 582, \"Concentration\": 100.0, \"Laser toggle\": 1},\n",
    "    \"4\": {\"Ruler location\": {\"y\": 3.62, \"x\": 3.28}, \"Detector location\": {\"y\": 2.0, \"x\": 6.67}, \"visible\": true, \"Width\": 2, \"trialNumber\": 4, \"Absorbance\": 0.02, \"Wavelength\": 582, \"Concentration\": 100.0, \"Laser toggle\": 1},\n",
    "    \"5\": {\"Ruler location\": {\"y\": 3.62, \"x\": 3.28}, \"Detector location\": {\"y\": 2.0, \"x\": 6.67}, \"visible\": true, \"Width\": 3, \"trialNumber\": 5, \"Absorbance\": 0.02, \"Wavelength\": 582, \"Concentration\": 100.0, \"Laser toggle\": 1},\n",
    "    \"6\": {\"Ruler location\": {\"y\": 3.62, \"x\": 3.28}, \"Detector location\": {\"y\": 2.0, \"x\": 6.67}, \"visible\": true, \"Width\": 3, \"trialNumber\": 6, \"Absorbance\": 0.02, \"Wavelength\": 582, \"Concentration\": 300.0, \"Laser toggle\": 1}}'''\n",
    "_, intervals = detect_cvs_quant_in_table(read_table(beers_in_2_on))\n",
    "print intervals =={'Battery voltage': False, 'Area': False, 'Width': False, 'Separation': False, 'Wavelength': False, 'Concentration': True}"
   ]
  },
  {
   "cell_type": "markdown",
   "metadata": {},
   "source": [
    "### In graph\n",
    "First we extract all of their tables at all time points, keep only points in the tables that are visible in the graph, analyze them for CVS and find the maximum number of values of a variable that was part of a control variable strategy instance.\n",
    "For now, use of this skill relies on the following rules (evaluated per variable):\n",
    "* more than records where only the variable was changed are in the graph\n",
    "* battery connected (caps)\n",
    "* laser is on (beers)\n"
   ]
  },
  {
   "cell_type": "code",
   "execution_count": 69,
   "metadata": {},
   "outputs": [
    {
     "name": "stdout",
     "output_type": "stream",
     "text": [
      "\n"
     ]
    }
   ],
   "source": [
    "convert_axis = {\"Absorbance\":\"absorbance\",\"Concentration\":\"concentration\",\"Width\":\"cuvetteWidth\",\"Wavelength\":\"trialNumber\",\"Battery voltage\":\"trialNumber\",\"Area\":\"area\",\"Separation\":\"separation\",\"Charge\":\"charge\"}\n",
    "def detect_cvs_quant_in_graph(table,x_axis,y_axis):\n",
    "    points = get_pts(table,in_graph=True) #grab all points\n",
    "    cvs_variable = {\"Battery voltage\":0,\n",
    "                        \"Area\":0,\n",
    "                        \"Separation\":0,\n",
    "                        \"Width\":0,\n",
    "                        \"Wavelength\":0,\n",
    "                        \"Concentration\":0}\n",
    "    #check that outcome variable as one of the axes\n",
    "    \n",
    "    if x_axis not in [\"charge\",\"absorbance\"] and y_axis not in [\"charge\",\"absorbance\"]:\n",
    "        return cvs_variable,{}\n",
    "    \n",
    "    values = get_values_per_variable(points)\n",
    "    confounded = pts_are_confounded(values)\n",
    "    if not confounded and 0 not in values[\"Laser toggle\"] and \"LIGHT_BULB_CONNECTED\" not in values[\"Connection\"]:\n",
    "        #find the variable being changed\n",
    "        for v,vals in values.iteritems():\n",
    "            if len(vals) > 1:\n",
    "                #check that variable being varied is in one of the axes\n",
    "                if convert_axis[v] in [x_axis,y_axis]:\n",
    "                    cvs_variable[v] = len(vals)\n",
    "                    return cvs_variable,{}\n",
    "    return cvs_variable,{}\n",
    "    \n",
    "            \n",
    "            \n",
    "            \n",
    "def get_cvs_per_variable_in_graph(df):\n",
    "#     tables = df['Table'])\n",
    "    tables_with_axes = set(zip(df['Table'], df['X axis'], df['Y axis']))\n",
    "    cvs_final = {\"Battery voltage\":0,\n",
    "                        \"Area\":0,\n",
    "                        \"Separation\":0,\n",
    "                        \"Width\":0,\n",
    "                        \"Wavelength\":0,\n",
    "                        \"Concentration\":0}\n",
    "    for t,x_axis,y_axis in tables_with_axes:\n",
    "        table = read_table(t)\n",
    "        cvs_final = {k:max(v,detect_cvs_quant_in_graph(table,x_axis,y_axis)[k]) for k,v in cvs_final.iteritems()}\n",
    "#         print cvs_final\n",
    "#         print '\\n'\n",
    "    return cvs_final"
   ]
  },
  {
   "cell_type": "markdown",
   "metadata": {},
   "source": [
    "### Test CVS detector for different scenarios\n",
    "If all return True, we are good to go"
   ]
  },
  {
   "cell_type": "code",
   "execution_count": 70,
   "metadata": {},
   "outputs": [
    {
     "name": "stdout",
     "output_type": "stream",
     "text": [
      "table True\n",
      "graph True\n",
      "graph True\n",
      "table True\n",
      "graph True\n",
      "table True\n",
      "graph True\n",
      "table True\n",
      "graph True\n",
      "table True\n",
      "graph True\n",
      "graph True\n",
      "table True\n",
      "graph True\n"
     ]
    }
   ],
   "source": [
    "beers_in_1_on = '''{\n",
    "    \"1\": {\"Ruler location\": {\"y\": 3.62, \"x\": 3.28}, \"Detector location\": {\"y\": 2.0, \"x\": 6.67}, \"visible\": true, \"Width\": 1.3, \"trialNumber\": 1, \"Absorbance\": 0.04, \"Wavelength\": 582, \"Concentration\": 200.0, \"Laser toggle\": 1},     \n",
    "    \"2\": {\"Ruler location\": {\"y\": 3.62, \"x\": 3.28}, \"Detector location\": {\"y\": 2.0, \"x\": 6.67}, \"visible\": true, \"Width\": 2.0, \"trialNumber\": 2, \"Absorbance\": 0.02, \"Wavelength\": 582, \"Concentration\": 200.0, \"Laser toggle\": 1}}'''\n",
    "beers_out_1_on = {'Battery voltage': 0, 'Area': 0, 'Width': 2, 'Separation': 0, 'Wavelength': 0, 'Concentration': 0}\n",
    "print \"table\",beers_out_1_on == detect_cvs_quant_in_table(read_table(beers_in_1_on))[0]\n",
    "print \"graph\",beers_out_1_on == detect_cvs_quant_in_graph(read_table(beers_in_1_on),\"absorbance\",\"cuvetteWidth\")[0]\n",
    "beers_out_1_on = {'Battery voltage': 0, 'Area': 0, 'Width': 0, 'Separation': 0, 'Wavelength': 0, 'Concentration': 0}\n",
    "print \"graph\",beers_out_1_on == detect_cvs_quant_in_graph(read_table(beers_in_1_on),\"concentration\",\"absorbance\")[0]\n",
    "\n",
    "beers_in_1_off = '''{\n",
    "    \"1\": {\"Ruler location\": {\"y\": 3.62, \"x\": 3.28}, \"Detector location\": {\"y\": 2.0, \"x\": 6.67}, \"visible\": true, \"Width\": 1.3, \"trialNumber\": 1, \"Absorbance\": \"nan\", \"Wavelength\": 582, \"Concentration\": 200.0, \"Laser toggle\": 0},     \n",
    "    \"2\": {\"Ruler location\": {\"y\": 3.62, \"x\": 3.28}, \"Detector location\": {\"y\": 2.0, \"x\": 6.67}, \"visible\": true, \"Width\": 1.3, \"trialNumber\": 2, \"Absorbance\": \"nan\", \"Wavelength\": 582, \"Concentration\": 100.0, \"Laser toggle\": 0}}'''\n",
    "beers_out_1_off = {'Battery voltage': 0, 'Area': 0, 'Width': 0, 'Separation': 0, 'Wavelength': 0, 'Concentration': 0}\n",
    "print \"table\",beers_out_1_off == detect_cvs_quant_in_table(read_table(beers_in_1_off))[0]\n",
    "print \"graph\",beers_out_1_off == detect_cvs_quant_in_graph(read_table(beers_in_1_off),\"concentration\",\"cuvetteWidth\")[0]\n",
    "\n",
    "beers_in_2_on = '''{\n",
    "    \"1\": {\"Ruler location\": {\"y\": 3.62, \"x\": 3.28}, \"Detector location\": {\"y\": 2.0, \"x\": 6.67}, \"visible\": true, \"Width\": 1.3, \"trialNumber\": 1, \"Absorbance\": 0.04, \"Wavelength\": 582, \"Concentration\": 200.0, \"Laser toggle\": 1},     \n",
    "    \"2\": {\"Ruler location\": {\"y\": 3.62, \"x\": 3.28}, \"Detector location\": {\"y\": 2.0, \"x\": 6.67}, \"visible\": true, \"Width\": 1.3, \"trialNumber\": 2, \"Absorbance\": 0.02, \"Wavelength\": 582, \"Concentration\": 100.0, \"Laser toggle\": 1},\n",
    "    \"3\": {\"Ruler location\": {\"y\": 3.62, \"x\": 3.28}, \"Detector location\": {\"y\": 2.0, \"x\": 6.67}, \"visible\": true, \"Width\": 1, \"trialNumber\": 3, \"Absorbance\": 0.04, \"Wavelength\": 582, \"Concentration\": 200.0, \"Laser toggle\": 1},\n",
    "    \"4\": {\"Ruler location\": {\"y\": 3.62, \"x\": 3.28}, \"Detector location\": {\"y\": 2.0, \"x\": 6.67}, \"visible\": true, \"Width\": 2, \"trialNumber\": 4, \"Absorbance\": 0.02, \"Wavelength\": 582, \"Concentration\": 200.0, \"Laser toggle\": 1}}'''\n",
    "beers_out_2_on_table = {'Battery voltage': 0, 'Area': 0, 'Width': 2, 'Separation': 0, 'Wavelength': 0, 'Concentration': 2}\n",
    "beers_out_2_on_graph = {'Battery voltage': 0, 'Area': 0, 'Width': 0, 'Separation': 0, 'Wavelength': 0, 'Concentration': 0}\n",
    "print \"table\",beers_out_2_on_table == detect_cvs_quant_in_table(read_table(beers_in_2_on))[0]\n",
    "print \"graph\",beers_out_2_on_graph == detect_cvs_quant_in_graph(read_table(beers_in_2_on),\"concentration\",\"cuvetteWidth\")[0]\n",
    "\n",
    "beers_in_1_on_off = '''{\n",
    "    \"1\": {\"Ruler location\": {\"y\": 3.62, \"x\": 3.28}, \"Detector location\": {\"y\": 2.0, \"x\": 6.67}, \"visible\": true, \"Width\": 1.3, \"trialNumber\": 1, \"Absorbance\": 0.04, \"Wavelength\": 582, \"Concentration\": 200.0, \"Laser toggle\": 0},     \n",
    "    \"2\": {\"Ruler location\": {\"y\": 3.62, \"x\": 3.28}, \"Detector location\": {\"y\": 2.0, \"x\": 6.67}, \"visible\": true, \"Width\": 1.3, \"trialNumber\": 2, \"Absorbance\": 0.02, \"Wavelength\": 582, \"Concentration\": 100.0, \"Laser toggle\": 1}}'''\n",
    "beers_out_1_on_off = {'Battery voltage': 0, 'Area': 0, 'Width': 0, 'Separation': 0, 'Wavelength': 0, 'Concentration': 0}\n",
    "print \"table\",beers_out_1_on_off == detect_cvs_quant_in_table(read_table(beers_in_1_on_off))[0]\n",
    "print \"graph\",beers_out_1_on_off == detect_cvs_quant_in_graph(read_table(beers_in_1_on_off),\"concentration\",\"cuvetteWidth\")[0]\n",
    "\n",
    "caps_in_1_battery = '''{\n",
    "    \"1\": {\"Battery voltage\": -1.5, \"Area\": 100.0, \"Connection\": \"BATTERY_CONNECTED\", \"Capacitor voltage\": -1.5, \"visible\": true, \"Charge\": -0.13, \"trialNumber\": 1, \"Separation\": 10.0}, \n",
    "    \"2\": {\"Battery voltage\": 0.3923, \"Area\": 100.0, \"Connection\": \"BATTERY_CONNECTED\", \"Capacitor voltage\": 0.3923, \"visible\": true, \"Charge\": 0.03, \"trialNumber\": 2, \"Separation\": 10.0}}'''\n",
    "caps_out_1_battery = {'Battery voltage': 2, 'Area': 0, 'Width': 0, 'Separation': 0, 'Wavelength': 0, 'Concentration': 0}\n",
    "print \"table\",caps_out_1_battery == detect_cvs_quant_in_table(read_table(caps_in_1_battery))[0]\n",
    "print \"graph\",caps_out_1_battery == detect_cvs_quant_in_graph(read_table(caps_in_1_battery),\"trialNumber\",\"charge\")[0]\n",
    "caps_out_1_battery = {'Battery voltage': 0, 'Area': 0, 'Width': 0, 'Separation': 0, 'Wavelength': 0, 'Concentration': 0}\n",
    "print \"graph\",caps_out_1_battery == detect_cvs_quant_in_graph(read_table(caps_in_1_battery),\"trialNumber\",\"area\")[0]\n",
    "\n",
    "\n",
    "caps_in_1_lightbulb = '''{\n",
    "    \"1\": {\"Battery voltage\": -1.5, \"Area\": 100.0, \"Connection\": \"LIGHT_BULB_CONNECTED\", \"Capacitor voltage\": -1.5, \"visible\": true, \"Charge\": -0.13, \"trialNumber\": 1, \"Separation\": 10.0}, \n",
    "    \"2\": {\"Battery voltage\": 0.3923, \"Area\": 100.0, \"Connection\": \"LIGHT_BULB_CONNECTED\", \"Capacitor voltage\": 0.3923, \"visible\": true, \"Charge\": 0.03, \"trialNumber\": 2, \"Separation\": 10.0}}'''\n",
    "caps_out_1_lightbulb = {'Battery voltage': 0, 'Area': 0, 'Width': 0, 'Separation': 0, 'Wavelength': 0, 'Concentration': 0}\n",
    "print \"table\",caps_out_1_lightbulb == detect_cvs_quant_in_table(read_table(caps_in_1_lightbulb))[0]\n",
    "print \"graph\",caps_out_1_lightbulb == detect_cvs_quant_in_graph(read_table(caps_in_1_lightbulb),\"trialNumber\",\"charge\")[0]"
   ]
  },
  {
   "cell_type": "markdown",
   "metadata": {
    "collapsed": true
   },
   "source": [
    "# Let's run the detector on all students...\n",
    "Since we don't yet have a metadata file to pull the right log data per student (and ingore student id that were test runs or unusable student data) were going to run the detector on all student ids have exactl one log file for each sims (~150)."
   ]
  },
  {
   "cell_type": "code",
   "execution_count": 5,
   "metadata": {
    "collapsed": true
   },
   "outputs": [],
   "source": [
    "log_files_per_sim = {}\n",
    "for sim in ['beers','capacitor']:\n",
    "    log_files_per_sim[sim] = get_parsed_log_files_per_student_for_sim(sim)"
   ]
  },
  {
   "cell_type": "code",
   "execution_count": 6,
   "metadata": {
    "collapsed": true
   },
   "outputs": [],
   "source": [
    "ids = get_students_to_analyze()\n",
    "table_cvs_df = pd.DataFrame(index =ids, columns = ['Battery voltage', 'Area', 'Separation','Wavelength','Width', 'Concentration'])\n",
    "table_cvs_df = table_cvs_df.fillna(0)\n",
    "table_cvs_df.index.name = 'studentid'\n",
    "for c in table_cvs_df.columns:\n",
    "    table_cvs_df[[c]] = table_cvs_df[[c]].astype(int)\n",
    "graph_cvs_df = table_cvs_df.copy()"
   ]
  },
  {
   "cell_type": "code",
   "execution_count": 7,
   "metadata": {},
   "outputs": [
    {
     "name": "stderr",
     "output_type": "stream",
     "text": [
      "D:\\Applications\\Anaconda2\\lib\\site-packages\\pandas\\core\\indexing.py:517: SettingWithCopyWarning: \n",
      "A value is trying to be set on a copy of a slice from a DataFrame.\n",
      "Try using .loc[row_indexer,col_indexer] = value instead\n",
      "\n",
      "See the caveats in the documentation: http://pandas.pydata.org/pandas-docs/stable/indexing.html#indexing-view-versus-copy\n",
      "  self.obj[item] = s\n"
     ]
    }
   ],
   "source": [
    "%aimport utils_read_parsing\n",
    "for sim in ['beers','capacitor']:\n",
    "    log_files = log_files_per_sim[sim]\n",
    "    for sid,logs in log_files.iteritems():\n",
    "#         if sid == 10866146:\n",
    "        cvs_all_logs_table = {\"Battery voltage\":0,\"Area\":0,\"Separation\":0,\"Width\":0,\"Wavelength\":0,\"Concentration\":0}\n",
    "        cvs_all_logs_graph = {\"Battery voltage\":0,\"Area\":0,\"Separation\":0,\"Width\":0,\"Wavelength\":0,\"Concentration\":0}\n",
    "        #for each log file\n",
    "#         print sim, sid, len(logs)\n",
    "        for log in logs:\n",
    "            df = prep_parsing_data(log)\n",
    "            if not df.empty:\n",
    "                #we find the instances of CVS in this log file\n",
    "                cvs_table = get_cvs_per_variable_in_table(df)\n",
    "                cvs_graph = get_cvs_per_variable_in_graph(df)\n",
    "                #we append them to a summary cvs\n",
    "                cvs_all_logs_table = {k:max(v,cvs_table[k]) for k,v in cvs_all_logs_table.iteritems()}\n",
    "                cvs_all_logs_graph = {k:max(v,cvs_graph[k]) for k,v in cvs_all_logs_graph.iteritems()}\n",
    "            else:\n",
    "                print sid, log\n",
    "        #now we save to the data to our mega df\n",
    "        for var, n_samples in cvs_all_logs_table.iteritems():\n",
    "            if n_samples >0:\n",
    "                table_cvs_df.set_value(sid, var, n_samples)\n",
    "        for var, n_samples in cvs_all_logs_graph.iteritems():\n",
    "            if n_samples >0:\n",
    "                graph_cvs_df.set_value(sid, var, n_samples)"
   ]
  },
  {
   "cell_type": "code",
   "execution_count": 8,
   "metadata": {
    "collapsed": true
   },
   "outputs": [],
   "source": [
    "table_cvs_df.to_csv('table_cvs_results.txt', sep='\\t')\n",
    "graph_cvs_df.to_csv('graph_cvs_results.txt', sep='\\t')"
   ]
  },
  {
   "cell_type": "code",
   "execution_count": null,
   "metadata": {
    "collapsed": true
   },
   "outputs": [],
   "source": []
  }
 ],
 "metadata": {
  "anaconda-cloud": {},
  "kernelspec": {
   "display_name": "Python 2",
   "language": "python",
   "name": "python2"
  },
  "language_info": {
   "codemirror_mode": {
    "name": "ipython",
    "version": 2
   },
   "file_extension": ".py",
   "mimetype": "text/x-python",
   "name": "python",
   "nbconvert_exporter": "python",
   "pygments_lexer": "ipython2",
   "version": "2.7.13"
  },
  "toc": {
   "nav_menu": {},
   "number_sections": true,
   "sideBar": false,
   "skip_h1_title": false,
   "toc_cell": false,
   "toc_position": {},
   "toc_section_display": "block",
   "toc_window_display": false
  }
 },
 "nbformat": 4,
 "nbformat_minor": 1
}
