{
 "cells": [
  {
   "cell_type": "markdown",
   "metadata": {},
   "source": [
    "# About run_sequence_analysis\n",
    "\n",
    "This notebook creates dividies students into groups, loads their action sequences and runs the infogain analysis"
   ]
  },
  {
   "cell_type": "code",
   "execution_count": 1,
   "metadata": {
    "scrolled": true
   },
   "outputs": [],
   "source": [
    "%load_ext autoreload\n",
    "%autoreload 1\n",
    "%aimport utils_timeline_viz\n",
    "%aimport utils_read_parsing\n",
    "%aimport generalized_seq_miner\n",
    "from utils_timeline_viz import *\n",
    "from utils_read_parsing import *\n",
    "from generalized_seq_miner import *\n",
    "%matplotlib inline\n",
    "matplotlib.style.use('ggplot')\n",
    "matplotlib.rcParams['figure.figsize'] = 12,4\n",
    "from matplotlib.backends.backend_pdf import PdfPages\n",
    "import os\n",
    "import numpy as np\n",
    "import pandas as pd\n",
    "import getpass\n",
    "import datetime\n",
    "import json\n",
    "import matplotlib\n",
    "import matplotlib.pyplot as plt\n",
    "from itertools import groupby\n",
    "from tabulate import tabulate\n",
    "pd.set_option('display.max_columns', None);pd.set_option('display.max_rows', None);pd.set_option('precision', 2)\n",
    "# FOLDER =  'C:\\\\Users\\\\'+getpass.getuser()+'\\\\Documents\\\\Personal Content\\\\Lab_skills_study\\\\parsed log data'"
   ]
  },
  {
   "cell_type": "markdown",
   "metadata": {},
   "source": [
    "# Loading data"
   ]
  },
  {
   "cell_type": "markdown",
   "metadata": {},
   "source": [
    "We grab the student learning data"
   ]
  },
  {
   "cell_type": "code",
   "execution_count": 2,
   "metadata": {},
   "outputs": [
    {
     "name": "stdout",
     "output_type": "stream",
     "text": [
      "We have 147 students.\n",
      "Running the analaysis on the following variables: Battery voltage, Area, Width, Separation, Wavelength, Concentration\n"
     ]
    }
   ],
   "source": [
    "df_all = get_df_all_factors(all_vars=True)\n",
    "variables = list(set(df_all['variable']))\n",
    "ids = list(set(df_all['sid']))\n",
    "N = len(ids)\n",
    "print 'We have',N,'students.'\n",
    "print 'Running the analaysis on the following variables:',', '.join(variables)"
   ]
  },
  {
   "cell_type": "markdown",
   "metadata": {},
   "source": [
    "We grab the sequences"
   ]
  },
  {
   "cell_type": "code",
   "execution_count": 3,
   "metadata": {},
   "outputs": [],
   "source": [
    "import pickle\n",
    "pickle_in_seqs = open(os.path.join(BIG_FOLDER,'all_massaged_data\\\\dict_by_sim_by_student_parsed_seqs.txt'),\"r\")\n",
    "pickle_in_blocked_seqs = open(os.path.join(BIG_FOLDER,'all_massaged_data\\\\dict_by_sim_by_student_parsed_blocked_seqs.txt'),\"r\")\n",
    "pickle_in_all_blocked_timecoords = open(os.path.join(BIG_FOLDER,'all_massaged_data\\\\dict_by_sim_by_student_parsed_blocked_timecoords.txt'),\"r\")\n",
    "all_seqs = pickle.load(pickle_in_seqs)\n",
    "all_blocked_seqs = pickle.load(pickle_in_blocked_seqs)\n",
    "all_blocked_timecoords = pickle.load(pickle_in_all_blocked_timecoords)\n",
    "pickle_in_seqs.close()\n",
    "pickle_in_blocked_seqs.close()\n",
    "pickle_in_all_blocked_timecoords.close()"
   ]
  },
  {
   "cell_type": "markdown",
   "metadata": {},
   "source": [
    "# Splitting students"
   ]
  },
  {
   "cell_type": "markdown",
   "metadata": {},
   "source": [
    "## Count number of \"exact\" main scores in each activity (1 and 2)"
   ]
  },
  {
   "cell_type": "code",
   "execution_count": 4,
   "metadata": {},
   "outputs": [
    {
     "data": {
      "text/html": [
       "<div>\n",
       "<style scoped>\n",
       "    .dataframe tbody tr th:only-of-type {\n",
       "        vertical-align: middle;\n",
       "    }\n",
       "\n",
       "    .dataframe tbody tr th {\n",
       "        vertical-align: top;\n",
       "    }\n",
       "\n",
       "    .dataframe thead th {\n",
       "        text-align: right;\n",
       "    }\n",
       "</style>\n",
       "<table border=\"1\" class=\"dataframe\">\n",
       "  <thead>\n",
       "    <tr style=\"text-align: right;\">\n",
       "      <th></th>\n",
       "      <th>sid</th>\n",
       "      <th>sim</th>\n",
       "      <th>variable</th>\n",
       "      <th>pre</th>\n",
       "      <th>main</th>\n",
       "      <th>cvs_graph</th>\n",
       "      <th>cvs_table</th>\n",
       "      <th>cvs_table_only</th>\n",
       "      <th>cvs_graph_inverse</th>\n",
       "      <th>cvs_graph_axes</th>\n",
       "      <th>qual_score</th>\n",
       "      <th>quant_score</th>\n",
       "      <th>activity_order</th>\n",
       "      <th>sim_index</th>\n",
       "      <th>similar_sim</th>\n",
       "      <th>lab_experience</th>\n",
       "      <th>lab_experience_chem</th>\n",
       "      <th>lab_experience_phys</th>\n",
       "      <th>prior_number_virtual_labs</th>\n",
       "      <th>overall POCC</th>\n",
       "      <th>PC1</th>\n",
       "      <th>PC2</th>\n",
       "      <th>pre_with_ident</th>\n",
       "      <th>main_with_ident</th>\n",
       "      <th>CVS_context</th>\n",
       "      <th>use_table</th>\n",
       "      <th>use_graph</th>\n",
       "      <th>use_concentration</th>\n",
       "      <th>use_width</th>\n",
       "      <th>use_area</th>\n",
       "      <th>use_separation</th>\n",
       "      <th>use_all_vars</th>\n",
       "      <th>use_graph_beers</th>\n",
       "      <th>use_table_beers</th>\n",
       "      <th>use_table_capacitor</th>\n",
       "      <th>use_graph_capacitor</th>\n",
       "    </tr>\n",
       "  </thead>\n",
       "  <tbody>\n",
       "    <tr>\n",
       "      <th>0</th>\n",
       "      <td>10127163</td>\n",
       "      <td>L</td>\n",
       "      <td>Concentration</td>\n",
       "      <td>0.0</td>\n",
       "      <td>2.0</td>\n",
       "      <td>1.0</td>\n",
       "      <td>1.0</td>\n",
       "      <td>0.0</td>\n",
       "      <td>0</td>\n",
       "      <td>1.0</td>\n",
       "      <td>1.0</td>\n",
       "      <td>1.0</td>\n",
       "      <td>LC</td>\n",
       "      <td>1</td>\n",
       "      <td>0</td>\n",
       "      <td>1.0</td>\n",
       "      <td>1.0</td>\n",
       "      <td>1.0</td>\n",
       "      <td>1</td>\n",
       "      <td>17</td>\n",
       "      <td>-0.62</td>\n",
       "      <td>0.63</td>\n",
       "      <td>1.0</td>\n",
       "      <td>3.0</td>\n",
       "      <td>2.0</td>\n",
       "      <td>1</td>\n",
       "      <td>1</td>\n",
       "      <td>1</td>\n",
       "      <td>1</td>\n",
       "      <td>1</td>\n",
       "      <td>1</td>\n",
       "      <td>4</td>\n",
       "      <td>1</td>\n",
       "      <td>1</td>\n",
       "      <td>1</td>\n",
       "      <td>1</td>\n",
       "    </tr>\n",
       "    <tr>\n",
       "      <th>1</th>\n",
       "      <td>10127163</td>\n",
       "      <td>L</td>\n",
       "      <td>Wavelength</td>\n",
       "      <td>0.0</td>\n",
       "      <td>0.0</td>\n",
       "      <td>1.0</td>\n",
       "      <td>1.0</td>\n",
       "      <td>0.0</td>\n",
       "      <td>0</td>\n",
       "      <td>1.0</td>\n",
       "      <td>1.0</td>\n",
       "      <td>NaN</td>\n",
       "      <td>LC</td>\n",
       "      <td>1</td>\n",
       "      <td>0</td>\n",
       "      <td>1.0</td>\n",
       "      <td>1.0</td>\n",
       "      <td>1.0</td>\n",
       "      <td>1</td>\n",
       "      <td>17</td>\n",
       "      <td>-0.62</td>\n",
       "      <td>0.63</td>\n",
       "      <td>1.0</td>\n",
       "      <td>1.0</td>\n",
       "      <td>2.0</td>\n",
       "      <td>1</td>\n",
       "      <td>1</td>\n",
       "      <td>1</td>\n",
       "      <td>1</td>\n",
       "      <td>1</td>\n",
       "      <td>1</td>\n",
       "      <td>4</td>\n",
       "      <td>1</td>\n",
       "      <td>1</td>\n",
       "      <td>1</td>\n",
       "      <td>1</td>\n",
       "    </tr>\n",
       "    <tr>\n",
       "      <th>2</th>\n",
       "      <td>10127163</td>\n",
       "      <td>L</td>\n",
       "      <td>Width</td>\n",
       "      <td>0.0</td>\n",
       "      <td>2.0</td>\n",
       "      <td>1.0</td>\n",
       "      <td>1.0</td>\n",
       "      <td>0.0</td>\n",
       "      <td>0</td>\n",
       "      <td>1.0</td>\n",
       "      <td>1.0</td>\n",
       "      <td>1.0</td>\n",
       "      <td>LC</td>\n",
       "      <td>1</td>\n",
       "      <td>0</td>\n",
       "      <td>1.0</td>\n",
       "      <td>1.0</td>\n",
       "      <td>1.0</td>\n",
       "      <td>1</td>\n",
       "      <td>17</td>\n",
       "      <td>-0.62</td>\n",
       "      <td>0.63</td>\n",
       "      <td>1.0</td>\n",
       "      <td>3.0</td>\n",
       "      <td>2.0</td>\n",
       "      <td>1</td>\n",
       "      <td>1</td>\n",
       "      <td>1</td>\n",
       "      <td>1</td>\n",
       "      <td>1</td>\n",
       "      <td>1</td>\n",
       "      <td>4</td>\n",
       "      <td>1</td>\n",
       "      <td>1</td>\n",
       "      <td>1</td>\n",
       "      <td>1</td>\n",
       "    </tr>\n",
       "    <tr>\n",
       "      <th>3</th>\n",
       "      <td>10127163</td>\n",
       "      <td>C</td>\n",
       "      <td>Area</td>\n",
       "      <td>2.0</td>\n",
       "      <td>2.0</td>\n",
       "      <td>1.0</td>\n",
       "      <td>1.0</td>\n",
       "      <td>0.0</td>\n",
       "      <td>0</td>\n",
       "      <td>1.0</td>\n",
       "      <td>1.0</td>\n",
       "      <td>1.0</td>\n",
       "      <td>LC</td>\n",
       "      <td>2</td>\n",
       "      <td>0</td>\n",
       "      <td>1.0</td>\n",
       "      <td>1.0</td>\n",
       "      <td>1.0</td>\n",
       "      <td>1</td>\n",
       "      <td>17</td>\n",
       "      <td>-0.62</td>\n",
       "      <td>0.63</td>\n",
       "      <td>3.0</td>\n",
       "      <td>3.0</td>\n",
       "      <td>2.0</td>\n",
       "      <td>1</td>\n",
       "      <td>1</td>\n",
       "      <td>1</td>\n",
       "      <td>1</td>\n",
       "      <td>1</td>\n",
       "      <td>1</td>\n",
       "      <td>4</td>\n",
       "      <td>1</td>\n",
       "      <td>1</td>\n",
       "      <td>1</td>\n",
       "      <td>1</td>\n",
       "    </tr>\n",
       "    <tr>\n",
       "      <th>4</th>\n",
       "      <td>10127163</td>\n",
       "      <td>C</td>\n",
       "      <td>Separation</td>\n",
       "      <td>2.0</td>\n",
       "      <td>2.0</td>\n",
       "      <td>1.0</td>\n",
       "      <td>1.0</td>\n",
       "      <td>0.0</td>\n",
       "      <td>1</td>\n",
       "      <td>2.0</td>\n",
       "      <td>1.0</td>\n",
       "      <td>1.0</td>\n",
       "      <td>LC</td>\n",
       "      <td>2</td>\n",
       "      <td>0</td>\n",
       "      <td>1.0</td>\n",
       "      <td>1.0</td>\n",
       "      <td>1.0</td>\n",
       "      <td>1</td>\n",
       "      <td>17</td>\n",
       "      <td>-0.62</td>\n",
       "      <td>0.63</td>\n",
       "      <td>3.0</td>\n",
       "      <td>3.0</td>\n",
       "      <td>2.0</td>\n",
       "      <td>1</td>\n",
       "      <td>1</td>\n",
       "      <td>1</td>\n",
       "      <td>1</td>\n",
       "      <td>1</td>\n",
       "      <td>1</td>\n",
       "      <td>4</td>\n",
       "      <td>1</td>\n",
       "      <td>1</td>\n",
       "      <td>1</td>\n",
       "      <td>1</td>\n",
       "    </tr>\n",
       "    <tr>\n",
       "      <th>5</th>\n",
       "      <td>10127163</td>\n",
       "      <td>C</td>\n",
       "      <td>Battery voltage</td>\n",
       "      <td>2.0</td>\n",
       "      <td>2.0</td>\n",
       "      <td>0.0</td>\n",
       "      <td>1.0</td>\n",
       "      <td>1.0</td>\n",
       "      <td>0</td>\n",
       "      <td>0.0</td>\n",
       "      <td>NaN</td>\n",
       "      <td>NaN</td>\n",
       "      <td>LC</td>\n",
       "      <td>2</td>\n",
       "      <td>0</td>\n",
       "      <td>1.0</td>\n",
       "      <td>1.0</td>\n",
       "      <td>1.0</td>\n",
       "      <td>1</td>\n",
       "      <td>17</td>\n",
       "      <td>-0.62</td>\n",
       "      <td>0.63</td>\n",
       "      <td>3.0</td>\n",
       "      <td>3.0</td>\n",
       "      <td>1.0</td>\n",
       "      <td>1</td>\n",
       "      <td>1</td>\n",
       "      <td>1</td>\n",
       "      <td>1</td>\n",
       "      <td>1</td>\n",
       "      <td>1</td>\n",
       "      <td>4</td>\n",
       "      <td>1</td>\n",
       "      <td>1</td>\n",
       "      <td>1</td>\n",
       "      <td>1</td>\n",
       "    </tr>\n",
       "  </tbody>\n",
       "</table>\n",
       "</div>"
      ],
      "text/plain": [
       "        sid sim         variable  pre  main  cvs_graph  cvs_table  \\\n",
       "0  10127163   L    Concentration  0.0   2.0        1.0        1.0   \n",
       "1  10127163   L       Wavelength  0.0   0.0        1.0        1.0   \n",
       "2  10127163   L            Width  0.0   2.0        1.0        1.0   \n",
       "3  10127163   C             Area  2.0   2.0        1.0        1.0   \n",
       "4  10127163   C       Separation  2.0   2.0        1.0        1.0   \n",
       "5  10127163   C  Battery voltage  2.0   2.0        0.0        1.0   \n",
       "\n",
       "   cvs_table_only  cvs_graph_inverse  cvs_graph_axes  qual_score  quant_score  \\\n",
       "0             0.0                  0             1.0         1.0          1.0   \n",
       "1             0.0                  0             1.0         1.0          NaN   \n",
       "2             0.0                  0             1.0         1.0          1.0   \n",
       "3             0.0                  0             1.0         1.0          1.0   \n",
       "4             0.0                  1             2.0         1.0          1.0   \n",
       "5             1.0                  0             0.0         NaN          NaN   \n",
       "\n",
       "  activity_order  sim_index  similar_sim  lab_experience  lab_experience_chem  \\\n",
       "0             LC          1            0             1.0                  1.0   \n",
       "1             LC          1            0             1.0                  1.0   \n",
       "2             LC          1            0             1.0                  1.0   \n",
       "3             LC          2            0             1.0                  1.0   \n",
       "4             LC          2            0             1.0                  1.0   \n",
       "5             LC          2            0             1.0                  1.0   \n",
       "\n",
       "   lab_experience_phys  prior_number_virtual_labs  overall POCC   PC1   PC2  \\\n",
       "0                  1.0                          1            17 -0.62  0.63   \n",
       "1                  1.0                          1            17 -0.62  0.63   \n",
       "2                  1.0                          1            17 -0.62  0.63   \n",
       "3                  1.0                          1            17 -0.62  0.63   \n",
       "4                  1.0                          1            17 -0.62  0.63   \n",
       "5                  1.0                          1            17 -0.62  0.63   \n",
       "\n",
       "   pre_with_ident  main_with_ident  CVS_context  use_table  use_graph  \\\n",
       "0             1.0              3.0          2.0          1          1   \n",
       "1             1.0              1.0          2.0          1          1   \n",
       "2             1.0              3.0          2.0          1          1   \n",
       "3             3.0              3.0          2.0          1          1   \n",
       "4             3.0              3.0          2.0          1          1   \n",
       "5             3.0              3.0          1.0          1          1   \n",
       "\n",
       "   use_concentration  use_width  use_area  use_separation  use_all_vars  \\\n",
       "0                  1          1         1               1             4   \n",
       "1                  1          1         1               1             4   \n",
       "2                  1          1         1               1             4   \n",
       "3                  1          1         1               1             4   \n",
       "4                  1          1         1               1             4   \n",
       "5                  1          1         1               1             4   \n",
       "\n",
       "   use_graph_beers  use_table_beers  use_table_capacitor  use_graph_capacitor  \n",
       "0                1                1                    1                    1  \n",
       "1                1                1                    1                    1  \n",
       "2                1                1                    1                    1  \n",
       "3                1                1                    1                    1  \n",
       "4                1                1                    1                    1  \n",
       "5                1                1                    1                    1  "
      ]
     },
     "execution_count": 4,
     "metadata": {},
     "output_type": "execute_result"
    }
   ],
   "source": [
    "df_all.head(6)"
   ]
  },
  {
   "cell_type": "code",
   "execution_count": 5,
   "metadata": {},
   "outputs": [],
   "source": [
    "def count_exact(scores):\n",
    "    return int(sum([s==2.0 for s in scores]))"
   ]
  },
  {
   "cell_type": "code",
   "execution_count": 6,
   "metadata": {},
   "outputs": [
    {
     "data": {
      "text/html": [
       "<div>\n",
       "<style scoped>\n",
       "    .dataframe tbody tr th:only-of-type {\n",
       "        vertical-align: middle;\n",
       "    }\n",
       "\n",
       "    .dataframe tbody tr th {\n",
       "        vertical-align: top;\n",
       "    }\n",
       "\n",
       "    .dataframe thead th {\n",
       "        text-align: right;\n",
       "    }\n",
       "</style>\n",
       "<table border=\"1\" class=\"dataframe\">\n",
       "  <thead>\n",
       "    <tr style=\"text-align: right;\">\n",
       "      <th></th>\n",
       "      <th></th>\n",
       "      <th>main</th>\n",
       "      <th>pre</th>\n",
       "    </tr>\n",
       "    <tr>\n",
       "      <th>sid</th>\n",
       "      <th>sim_index</th>\n",
       "      <th></th>\n",
       "      <th></th>\n",
       "    </tr>\n",
       "  </thead>\n",
       "  <tbody>\n",
       "    <tr>\n",
       "      <th rowspan=\"2\" valign=\"top\">10127163</th>\n",
       "      <th>1</th>\n",
       "      <td>2.0</td>\n",
       "      <td>0.0</td>\n",
       "    </tr>\n",
       "    <tr>\n",
       "      <th>2</th>\n",
       "      <td>3.0</td>\n",
       "      <td>3.0</td>\n",
       "    </tr>\n",
       "    <tr>\n",
       "      <th rowspan=\"2\" valign=\"top\">10192168</th>\n",
       "      <th>1</th>\n",
       "      <td>0.0</td>\n",
       "      <td>0.0</td>\n",
       "    </tr>\n",
       "    <tr>\n",
       "      <th>2</th>\n",
       "      <td>1.0</td>\n",
       "      <td>0.0</td>\n",
       "    </tr>\n",
       "    <tr>\n",
       "      <th>10232160</th>\n",
       "      <th>1</th>\n",
       "      <td>0.0</td>\n",
       "      <td>0.0</td>\n",
       "    </tr>\n",
       "  </tbody>\n",
       "</table>\n",
       "</div>"
      ],
      "text/plain": [
       "                    main  pre\n",
       "sid      sim_index           \n",
       "10127163 1           2.0  0.0\n",
       "         2           3.0  3.0\n",
       "10192168 1           0.0  0.0\n",
       "         2           1.0  0.0\n",
       "10232160 1           0.0  0.0"
      ]
     },
     "execution_count": 6,
     "metadata": {},
     "output_type": "execute_result"
    }
   ],
   "source": [
    "scores = pd.pivot_table(df_all, values=['pre','main'], index=['sid','sim_index'], aggfunc=count_exact)\n",
    "scores.reset_index().set_index('sid',inplace=True)\n",
    "scores.head()"
   ]
  },
  {
   "cell_type": "code",
   "execution_count": 7,
   "metadata": {},
   "outputs": [
    {
     "data": {
      "image/png": "[encoded data removed]",
      "text/plain": [
       "<Figure size 432x288 with 2 Axes>"
      ]
     },
     "metadata": {
      "needs_background": "light"
     },
     "output_type": "display_data"
    },
    {
     "data": {
      "image/png": "[encoded data removed]",
      "text/plain": [
       "<Figure size 432x288 with 2 Axes>"
      ]
     },
     "metadata": {
      "needs_background": "light"
     },
     "output_type": "display_data"
    }
   ],
   "source": [
    "scores.groupby('sim_index').hist(bins=range(5));"
   ]
  },
  {
   "cell_type": "markdown",
   "metadata": {},
   "source": [
    "## What if we split by increase or decrease in number of exact scores from pre to main?"
   ]
  },
  {
   "cell_type": "code",
   "execution_count": 8,
   "metadata": {},
   "outputs": [],
   "source": [
    "def make_group(row):\n",
    "    if row['pre'] < row['main']:\n",
    "        return 'LH'\n",
    "    else:\n",
    "        return 'LL'\n",
    "    \n",
    "scores['group'] = scores.apply(make_group,axis=1)"
   ]
  },
  {
   "cell_type": "code",
   "execution_count": 24,
   "metadata": {},
   "outputs": [
    {
     "data": {
      "text/html": [
       "<div>\n",
       "<style scoped>\n",
       "    .dataframe tbody tr th:only-of-type {\n",
       "        vertical-align: middle;\n",
       "    }\n",
       "\n",
       "    .dataframe tbody tr th {\n",
       "        vertical-align: top;\n",
       "    }\n",
       "\n",
       "    .dataframe thead tr th {\n",
       "        text-align: left;\n",
       "    }\n",
       "\n",
       "    .dataframe thead tr:last-of-type th {\n",
       "        text-align: right;\n",
       "    }\n",
       "</style>\n",
       "<table border=\"1\" class=\"dataframe\">\n",
       "  <thead>\n",
       "    <tr>\n",
       "      <th></th>\n",
       "      <th></th>\n",
       "      <th colspan=\"8\" halign=\"left\">main</th>\n",
       "      <th colspan=\"8\" halign=\"left\">pre</th>\n",
       "    </tr>\n",
       "    <tr>\n",
       "      <th></th>\n",
       "      <th></th>\n",
       "      <th>count</th>\n",
       "      <th>mean</th>\n",
       "      <th>std</th>\n",
       "      <th>min</th>\n",
       "      <th>25%</th>\n",
       "      <th>50%</th>\n",
       "      <th>75%</th>\n",
       "      <th>max</th>\n",
       "      <th>count</th>\n",
       "      <th>mean</th>\n",
       "      <th>std</th>\n",
       "      <th>min</th>\n",
       "      <th>25%</th>\n",
       "      <th>50%</th>\n",
       "      <th>75%</th>\n",
       "      <th>max</th>\n",
       "    </tr>\n",
       "    <tr>\n",
       "      <th>sim_index</th>\n",
       "      <th>group</th>\n",
       "      <th></th>\n",
       "      <th></th>\n",
       "      <th></th>\n",
       "      <th></th>\n",
       "      <th></th>\n",
       "      <th></th>\n",
       "      <th></th>\n",
       "      <th></th>\n",
       "      <th></th>\n",
       "      <th></th>\n",
       "      <th></th>\n",
       "      <th></th>\n",
       "      <th></th>\n",
       "      <th></th>\n",
       "      <th></th>\n",
       "      <th></th>\n",
       "    </tr>\n",
       "  </thead>\n",
       "  <tbody>\n",
       "    <tr>\n",
       "      <th rowspan=\"2\" valign=\"top\">1</th>\n",
       "      <th>LH</th>\n",
       "      <td>48.0</td>\n",
       "      <td>2.00</td>\n",
       "      <td>0.65</td>\n",
       "      <td>1.0</td>\n",
       "      <td>2.0</td>\n",
       "      <td>2.0</td>\n",
       "      <td>2.0</td>\n",
       "      <td>3.0</td>\n",
       "      <td>48.0</td>\n",
       "      <td>0.10</td>\n",
       "      <td>0.37</td>\n",
       "      <td>0.0</td>\n",
       "      <td>0.0</td>\n",
       "      <td>0.0</td>\n",
       "      <td>0.0</td>\n",
       "      <td>2.0</td>\n",
       "    </tr>\n",
       "    <tr>\n",
       "      <th>LL</th>\n",
       "      <td>99.0</td>\n",
       "      <td>0.22</td>\n",
       "      <td>0.66</td>\n",
       "      <td>0.0</td>\n",
       "      <td>0.0</td>\n",
       "      <td>0.0</td>\n",
       "      <td>0.0</td>\n",
       "      <td>3.0</td>\n",
       "      <td>99.0</td>\n",
       "      <td>0.30</td>\n",
       "      <td>0.73</td>\n",
       "      <td>0.0</td>\n",
       "      <td>0.0</td>\n",
       "      <td>0.0</td>\n",
       "      <td>0.0</td>\n",
       "      <td>3.0</td>\n",
       "    </tr>\n",
       "    <tr>\n",
       "      <th rowspan=\"2\" valign=\"top\">2</th>\n",
       "      <th>LH</th>\n",
       "      <td>82.0</td>\n",
       "      <td>1.93</td>\n",
       "      <td>0.64</td>\n",
       "      <td>1.0</td>\n",
       "      <td>2.0</td>\n",
       "      <td>2.0</td>\n",
       "      <td>2.0</td>\n",
       "      <td>3.0</td>\n",
       "      <td>82.0</td>\n",
       "      <td>0.17</td>\n",
       "      <td>0.47</td>\n",
       "      <td>0.0</td>\n",
       "      <td>0.0</td>\n",
       "      <td>0.0</td>\n",
       "      <td>0.0</td>\n",
       "      <td>2.0</td>\n",
       "    </tr>\n",
       "    <tr>\n",
       "      <th>LL</th>\n",
       "      <td>65.0</td>\n",
       "      <td>0.15</td>\n",
       "      <td>0.57</td>\n",
       "      <td>0.0</td>\n",
       "      <td>0.0</td>\n",
       "      <td>0.0</td>\n",
       "      <td>0.0</td>\n",
       "      <td>3.0</td>\n",
       "      <td>65.0</td>\n",
       "      <td>0.20</td>\n",
       "      <td>0.67</td>\n",
       "      <td>0.0</td>\n",
       "      <td>0.0</td>\n",
       "      <td>0.0</td>\n",
       "      <td>0.0</td>\n",
       "      <td>3.0</td>\n",
       "    </tr>\n",
       "  </tbody>\n",
       "</table>\n",
       "</div>"
      ],
      "text/plain": [
       "                 main                                        pre              \\\n",
       "                count  mean   std  min  25%  50%  75%  max count  mean   std   \n",
       "sim_index group                                                                \n",
       "1         LH     48.0  2.00  0.65  1.0  2.0  2.0  2.0  3.0  48.0  0.10  0.37   \n",
       "          LL     99.0  0.22  0.66  0.0  0.0  0.0  0.0  3.0  99.0  0.30  0.73   \n",
       "2         LH     82.0  1.93  0.64  1.0  2.0  2.0  2.0  3.0  82.0  0.17  0.47   \n",
       "          LL     65.0  0.15  0.57  0.0  0.0  0.0  0.0  3.0  65.0  0.20  0.67   \n",
       "\n",
       "                                          \n",
       "                 min  25%  50%  75%  max  \n",
       "sim_index group                           \n",
       "1         LH     0.0  0.0  0.0  0.0  2.0  \n",
       "          LL     0.0  0.0  0.0  0.0  3.0  \n",
       "2         LH     0.0  0.0  0.0  0.0  2.0  \n",
       "          LL     0.0  0.0  0.0  0.0  3.0  "
      ]
     },
     "execution_count": 24,
     "metadata": {},
     "output_type": "execute_result"
    }
   ],
   "source": [
    "scores.groupby(['sim_index','group']).describe()"
   ]
  },
  {
   "cell_type": "markdown",
   "metadata": {},
   "source": [
    "How many students have a high number of exact scores in pre and main? Should we exclude those? Or change their labels?"
   ]
  },
  {
   "cell_type": "code",
   "execution_count": 25,
   "metadata": {},
   "outputs": [
    {
     "data": {
      "text/plain": [
       "(4, 5)"
      ]
     },
     "execution_count": 25,
     "metadata": {},
     "output_type": "execute_result"
    }
   ],
   "source": [
    "scores[(scores['pre']==3)&(scores['main']==3)].shape[0],scores[(scores['pre']==2)&(scores['main']==2)].shape[0]"
   ]
  },
  {
   "cell_type": "markdown",
   "metadata": {},
   "source": [
    "There are 4 and 5 students that have 3 exact and 2 exact scores, respectively, in both pre and main and are thus labelled LL."
   ]
  },
  {
   "cell_type": "markdown",
   "metadata": {},
   "source": [
    "### How to people transition from one group to another from activity 1 to 2?"
   ]
  },
  {
   "cell_type": "code",
   "execution_count": 15,
   "metadata": {},
   "outputs": [
    {
     "data": {
      "text/plain": [
       "<matplotlib.axes._subplots.AxesSubplot at 0xdc567f0>"
      ]
     },
     "execution_count": 15,
     "metadata": {},
     "output_type": "execute_result"
    },
    {
     "data": {
      "image/png": "[encoded data removed]",
      "text/plain": [
       "<Figure size 432x288 with 2 Axes>"
      ]
     },
     "metadata": {
      "needs_background": "light"
     },
     "output_type": "display_data"
    }
   ],
   "source": [
    "df_all = df_all.merge(scores[['group']], how='outer', on=['sid','sim_index']);\n",
    "combogroups = df_all[df_all['sim_index']==1][['sid','group']].rename(columns={'group':'group1'}).merge(df_all[df_all['sim_index']==2][['sid','group']].rename(columns={'group':'group2'}), how='outer', on=['sid']);\n",
    "combogroups.drop_duplicates(inplace=True)\n",
    "sns.heatmap(pd.pivot_table(combogroups, index='group1',columns='group2',values='sid',aggfunc=len),cmap=\"YlGnBu\",annot=True)#.fillna(0))"
   ]
  },
  {
   "cell_type": "markdown",
   "metadata": {},
   "source": [
    "The bulk of students go from LL to LH or remain in their original group."
   ]
  },
  {
   "cell_type": "markdown",
   "metadata": {
    "heading_collapsed": true
   },
   "source": [
    "## What if we split by those who had at least one instance of pre=2"
   ]
  },
  {
   "cell_type": "code",
   "execution_count": null,
   "metadata": {
    "hidden": true
   },
   "outputs": [],
   "source": [
    "# def make_group(row):\n",
    "#     if row['pre']>0:\n",
    "#         if row['main']>0:\n",
    "#             return 'HH'\n",
    "#         else:\n",
    "#             return 'HL'\n",
    "#     else:\n",
    "#         if row['main']>0:\n",
    "#             return 'LH'\n",
    "#         else:\n",
    "#             return 'LL'\n",
    "    \n",
    "# scores['group'] = scores.apply(make_group,axis=1)"
   ]
  },
  {
   "cell_type": "code",
   "execution_count": null,
   "metadata": {
    "hidden": true
   },
   "outputs": [],
   "source": [
    "# scores.groupby(['sim_index','group']).describe()"
   ]
  },
  {
   "cell_type": "markdown",
   "metadata": {
    "hidden": true
   },
   "source": [
    "There are many more LH than LL in activity 2, the opposite in activity 1.\n",
    "The number of H_ remains the same."
   ]
  },
  {
   "cell_type": "markdown",
   "metadata": {
    "hidden": true
   },
   "source": [
    "### How to people transition from one group to another from activity 1 to 2?"
   ]
  },
  {
   "cell_type": "code",
   "execution_count": null,
   "metadata": {
    "hidden": true
   },
   "outputs": [],
   "source": [
    "# df_all = df_all.merge(scores[['group']], how='outer', on=['sid','sim_index']);\n",
    "# combogroups = df_all[df_all['sim_index']==1][['sid','group']].rename(columns={'group':'group1'}).merge(df_all[df_all['sim_index']==2][['sid','group']].rename(columns={'group':'group2'}), how='outer', on=['sid']);\n",
    "# combogroups.drop_duplicates(inplace=True)\n",
    "# sns.heatmap(pd.pivot_table(combogroups, index='group1',columns='group2',values='sid',aggfunc=len),cmap=\"YlGnBu\",annot=True)#.fillna(0))"
   ]
  },
  {
   "cell_type": "markdown",
   "metadata": {
    "hidden": true
   },
   "source": [
    "**grey boxes have 0 students**\n",
    "\n",
    "* Most LL students remain LL (48) and never model an exact relationship\n",
    "* Many LL become LH (29)\n",
    "* Many HH students remain high learning despite lower pres in 2nd activity (10)"
   ]
  },
  {
   "cell_type": "markdown",
   "metadata": {
    "heading_collapsed": true
   },
   "source": [
    "## What if we split by learning gains from activity 1"
   ]
  },
  {
   "cell_type": "markdown",
   "metadata": {
    "hidden": true
   },
   "source": [
    "We use the following formula for learning gains:\n",
    "\n",
    "$gain = \\frac{main-pre}{max\\_score-pre}$\n",
    "\n",
    "where max_score is the number of variables"
   ]
  },
  {
   "cell_type": "code",
   "execution_count": null,
   "metadata": {
    "hidden": true
   },
   "outputs": [],
   "source": [
    "max_score = len(variables)\n",
    "scores['gains'] = (scores['main']-scores['pre'])/(max_score - scores['pre'])\n",
    "t = scores['gains'].value_counts().sort_index()\n",
    "t"
   ]
  },
  {
   "cell_type": "markdown",
   "metadata": {
    "hidden": true
   },
   "source": [
    "* LL 97 students had null or negative learning gains\n",
    "* LH 58 students had learning gain"
   ]
  },
  {
   "cell_type": "code",
   "execution_count": null,
   "metadata": {
    "hidden": true
   },
   "outputs": [],
   "source": [
    "scores['gains'].hist()"
   ]
  },
  {
   "cell_type": "markdown",
   "metadata": {},
   "source": [
    "# Running analysis"
   ]
  },
  {
   "cell_type": "markdown",
   "metadata": {},
   "source": [
    "## Setting up the data"
   ]
  },
  {
   "cell_type": "markdown",
   "metadata": {},
   "source": [
    "We limit it to the first activity"
   ]
  },
  {
   "cell_type": "code",
   "execution_count": 26,
   "metadata": {},
   "outputs": [],
   "source": [
    "df_all = df_all[df_all['sim_index']==1]"
   ]
  },
  {
   "cell_type": "code",
   "execution_count": 27,
   "metadata": {},
   "outputs": [
    {
     "data": {
      "text/html": [
       "<div>\n",
       "<style scoped>\n",
       "    .dataframe tbody tr th:only-of-type {\n",
       "        vertical-align: middle;\n",
       "    }\n",
       "\n",
       "    .dataframe tbody tr th {\n",
       "        vertical-align: top;\n",
       "    }\n",
       "\n",
       "    .dataframe thead th {\n",
       "        text-align: right;\n",
       "    }\n",
       "</style>\n",
       "<table border=\"1\" class=\"dataframe\">\n",
       "  <thead>\n",
       "    <tr style=\"text-align: right;\">\n",
       "      <th></th>\n",
       "      <th>sid</th>\n",
       "      <th>sim</th>\n",
       "      <th>variable</th>\n",
       "      <th>pre</th>\n",
       "      <th>main</th>\n",
       "      <th>cvs_graph</th>\n",
       "      <th>cvs_table</th>\n",
       "      <th>cvs_table_only</th>\n",
       "      <th>cvs_graph_inverse</th>\n",
       "      <th>cvs_graph_axes</th>\n",
       "      <th>qual_score</th>\n",
       "      <th>quant_score</th>\n",
       "      <th>activity_order</th>\n",
       "      <th>sim_index</th>\n",
       "      <th>similar_sim</th>\n",
       "      <th>lab_experience</th>\n",
       "      <th>lab_experience_chem</th>\n",
       "      <th>lab_experience_phys</th>\n",
       "      <th>prior_number_virtual_labs</th>\n",
       "      <th>overall POCC</th>\n",
       "      <th>PC1</th>\n",
       "      <th>PC2</th>\n",
       "      <th>pre_with_ident</th>\n",
       "      <th>main_with_ident</th>\n",
       "      <th>CVS_context</th>\n",
       "      <th>use_table</th>\n",
       "      <th>use_graph</th>\n",
       "      <th>use_concentration</th>\n",
       "      <th>use_width</th>\n",
       "      <th>use_area</th>\n",
       "      <th>use_separation</th>\n",
       "      <th>use_all_vars</th>\n",
       "      <th>use_graph_beers</th>\n",
       "      <th>use_table_beers</th>\n",
       "      <th>use_table_capacitor</th>\n",
       "      <th>use_graph_capacitor</th>\n",
       "      <th>group</th>\n",
       "    </tr>\n",
       "  </thead>\n",
       "  <tbody>\n",
       "    <tr>\n",
       "      <th>0</th>\n",
       "      <td>10127163</td>\n",
       "      <td>L</td>\n",
       "      <td>Concentration</td>\n",
       "      <td>0.0</td>\n",
       "      <td>2.0</td>\n",
       "      <td>1.0</td>\n",
       "      <td>1.0</td>\n",
       "      <td>0.0</td>\n",
       "      <td>0</td>\n",
       "      <td>1.0</td>\n",
       "      <td>1.0</td>\n",
       "      <td>1.0</td>\n",
       "      <td>LC</td>\n",
       "      <td>1</td>\n",
       "      <td>0</td>\n",
       "      <td>1.0</td>\n",
       "      <td>1.0</td>\n",
       "      <td>1.0</td>\n",
       "      <td>1</td>\n",
       "      <td>17</td>\n",
       "      <td>-0.62</td>\n",
       "      <td>0.63</td>\n",
       "      <td>1.0</td>\n",
       "      <td>3.0</td>\n",
       "      <td>2.0</td>\n",
       "      <td>1</td>\n",
       "      <td>1</td>\n",
       "      <td>1</td>\n",
       "      <td>1</td>\n",
       "      <td>1</td>\n",
       "      <td>1</td>\n",
       "      <td>4</td>\n",
       "      <td>1</td>\n",
       "      <td>1</td>\n",
       "      <td>1</td>\n",
       "      <td>1</td>\n",
       "      <td>LH</td>\n",
       "    </tr>\n",
       "    <tr>\n",
       "      <th>1</th>\n",
       "      <td>10127163</td>\n",
       "      <td>L</td>\n",
       "      <td>Wavelength</td>\n",
       "      <td>0.0</td>\n",
       "      <td>0.0</td>\n",
       "      <td>1.0</td>\n",
       "      <td>1.0</td>\n",
       "      <td>0.0</td>\n",
       "      <td>0</td>\n",
       "      <td>1.0</td>\n",
       "      <td>1.0</td>\n",
       "      <td>NaN</td>\n",
       "      <td>LC</td>\n",
       "      <td>1</td>\n",
       "      <td>0</td>\n",
       "      <td>1.0</td>\n",
       "      <td>1.0</td>\n",
       "      <td>1.0</td>\n",
       "      <td>1</td>\n",
       "      <td>17</td>\n",
       "      <td>-0.62</td>\n",
       "      <td>0.63</td>\n",
       "      <td>1.0</td>\n",
       "      <td>1.0</td>\n",
       "      <td>2.0</td>\n",
       "      <td>1</td>\n",
       "      <td>1</td>\n",
       "      <td>1</td>\n",
       "      <td>1</td>\n",
       "      <td>1</td>\n",
       "      <td>1</td>\n",
       "      <td>4</td>\n",
       "      <td>1</td>\n",
       "      <td>1</td>\n",
       "      <td>1</td>\n",
       "      <td>1</td>\n",
       "      <td>LH</td>\n",
       "    </tr>\n",
       "    <tr>\n",
       "      <th>2</th>\n",
       "      <td>10127163</td>\n",
       "      <td>L</td>\n",
       "      <td>Width</td>\n",
       "      <td>0.0</td>\n",
       "      <td>2.0</td>\n",
       "      <td>1.0</td>\n",
       "      <td>1.0</td>\n",
       "      <td>0.0</td>\n",
       "      <td>0</td>\n",
       "      <td>1.0</td>\n",
       "      <td>1.0</td>\n",
       "      <td>1.0</td>\n",
       "      <td>LC</td>\n",
       "      <td>1</td>\n",
       "      <td>0</td>\n",
       "      <td>1.0</td>\n",
       "      <td>1.0</td>\n",
       "      <td>1.0</td>\n",
       "      <td>1</td>\n",
       "      <td>17</td>\n",
       "      <td>-0.62</td>\n",
       "      <td>0.63</td>\n",
       "      <td>1.0</td>\n",
       "      <td>3.0</td>\n",
       "      <td>2.0</td>\n",
       "      <td>1</td>\n",
       "      <td>1</td>\n",
       "      <td>1</td>\n",
       "      <td>1</td>\n",
       "      <td>1</td>\n",
       "      <td>1</td>\n",
       "      <td>4</td>\n",
       "      <td>1</td>\n",
       "      <td>1</td>\n",
       "      <td>1</td>\n",
       "      <td>1</td>\n",
       "      <td>LH</td>\n",
       "    </tr>\n",
       "    <tr>\n",
       "      <th>6</th>\n",
       "      <td>10232160</td>\n",
       "      <td>L</td>\n",
       "      <td>Concentration</td>\n",
       "      <td>0.0</td>\n",
       "      <td>0.0</td>\n",
       "      <td>1.0</td>\n",
       "      <td>1.0</td>\n",
       "      <td>0.0</td>\n",
       "      <td>1</td>\n",
       "      <td>2.0</td>\n",
       "      <td>1.0</td>\n",
       "      <td>1.0</td>\n",
       "      <td>LC</td>\n",
       "      <td>1</td>\n",
       "      <td>1</td>\n",
       "      <td>1.0</td>\n",
       "      <td>1.0</td>\n",
       "      <td>1.0</td>\n",
       "      <td>1</td>\n",
       "      <td>15</td>\n",
       "      <td>-1.04</td>\n",
       "      <td>-0.42</td>\n",
       "      <td>1.0</td>\n",
       "      <td>1.0</td>\n",
       "      <td>2.0</td>\n",
       "      <td>1</td>\n",
       "      <td>1</td>\n",
       "      <td>1</td>\n",
       "      <td>1</td>\n",
       "      <td>1</td>\n",
       "      <td>1</td>\n",
       "      <td>4</td>\n",
       "      <td>1</td>\n",
       "      <td>1</td>\n",
       "      <td>1</td>\n",
       "      <td>1</td>\n",
       "      <td>LL</td>\n",
       "    </tr>\n",
       "    <tr>\n",
       "      <th>7</th>\n",
       "      <td>10232160</td>\n",
       "      <td>L</td>\n",
       "      <td>Wavelength</td>\n",
       "      <td>0.0</td>\n",
       "      <td>0.0</td>\n",
       "      <td>0.0</td>\n",
       "      <td>0.0</td>\n",
       "      <td>0.0</td>\n",
       "      <td>0</td>\n",
       "      <td>0.0</td>\n",
       "      <td>0.0</td>\n",
       "      <td>NaN</td>\n",
       "      <td>LC</td>\n",
       "      <td>1</td>\n",
       "      <td>1</td>\n",
       "      <td>1.0</td>\n",
       "      <td>1.0</td>\n",
       "      <td>1.0</td>\n",
       "      <td>1</td>\n",
       "      <td>15</td>\n",
       "      <td>-1.04</td>\n",
       "      <td>-0.42</td>\n",
       "      <td>1.0</td>\n",
       "      <td>1.0</td>\n",
       "      <td>0.0</td>\n",
       "      <td>1</td>\n",
       "      <td>1</td>\n",
       "      <td>1</td>\n",
       "      <td>1</td>\n",
       "      <td>1</td>\n",
       "      <td>1</td>\n",
       "      <td>4</td>\n",
       "      <td>1</td>\n",
       "      <td>1</td>\n",
       "      <td>1</td>\n",
       "      <td>1</td>\n",
       "      <td>LL</td>\n",
       "    </tr>\n",
       "  </tbody>\n",
       "</table>\n",
       "</div>"
      ],
      "text/plain": [
       "        sid sim       variable  pre  main  cvs_graph  cvs_table  \\\n",
       "0  10127163   L  Concentration  0.0   2.0        1.0        1.0   \n",
       "1  10127163   L     Wavelength  0.0   0.0        1.0        1.0   \n",
       "2  10127163   L          Width  0.0   2.0        1.0        1.0   \n",
       "6  10232160   L  Concentration  0.0   0.0        1.0        1.0   \n",
       "7  10232160   L     Wavelength  0.0   0.0        0.0        0.0   \n",
       "\n",
       "   cvs_table_only  cvs_graph_inverse  cvs_graph_axes  qual_score  quant_score  \\\n",
       "0             0.0                  0             1.0         1.0          1.0   \n",
       "1             0.0                  0             1.0         1.0          NaN   \n",
       "2             0.0                  0             1.0         1.0          1.0   \n",
       "6             0.0                  1             2.0         1.0          1.0   \n",
       "7             0.0                  0             0.0         0.0          NaN   \n",
       "\n",
       "  activity_order  sim_index  similar_sim  lab_experience  lab_experience_chem  \\\n",
       "0             LC          1            0             1.0                  1.0   \n",
       "1             LC          1            0             1.0                  1.0   \n",
       "2             LC          1            0             1.0                  1.0   \n",
       "6             LC          1            1             1.0                  1.0   \n",
       "7             LC          1            1             1.0                  1.0   \n",
       "\n",
       "   lab_experience_phys  prior_number_virtual_labs  overall POCC   PC1   PC2  \\\n",
       "0                  1.0                          1            17 -0.62  0.63   \n",
       "1                  1.0                          1            17 -0.62  0.63   \n",
       "2                  1.0                          1            17 -0.62  0.63   \n",
       "6                  1.0                          1            15 -1.04 -0.42   \n",
       "7                  1.0                          1            15 -1.04 -0.42   \n",
       "\n",
       "   pre_with_ident  main_with_ident  CVS_context  use_table  use_graph  \\\n",
       "0             1.0              3.0          2.0          1          1   \n",
       "1             1.0              1.0          2.0          1          1   \n",
       "2             1.0              3.0          2.0          1          1   \n",
       "6             1.0              1.0          2.0          1          1   \n",
       "7             1.0              1.0          0.0          1          1   \n",
       "\n",
       "   use_concentration  use_width  use_area  use_separation  use_all_vars  \\\n",
       "0                  1          1         1               1             4   \n",
       "1                  1          1         1               1             4   \n",
       "2                  1          1         1               1             4   \n",
       "6                  1          1         1               1             4   \n",
       "7                  1          1         1               1             4   \n",
       "\n",
       "   use_graph_beers  use_table_beers  use_table_capacitor  use_graph_capacitor  \\\n",
       "0                1                1                    1                    1   \n",
       "1                1                1                    1                    1   \n",
       "2                1                1                    1                    1   \n",
       "6                1                1                    1                    1   \n",
       "7                1                1                    1                    1   \n",
       "\n",
       "  group  \n",
       "0    LH  \n",
       "1    LH  \n",
       "2    LH  \n",
       "6    LL  \n",
       "7    LL  "
      ]
     },
     "execution_count": 27,
     "metadata": {},
     "output_type": "execute_result"
    }
   ],
   "source": [
    "df_all.head()"
   ]
  },
  {
   "cell_type": "code",
   "execution_count": 18,
   "metadata": {},
   "outputs": [
    {
     "data": {
      "text/plain": [
       "147"
      ]
     },
     "execution_count": 18,
     "metadata": {},
     "output_type": "execute_result"
    }
   ],
   "source": [
    "len(df_all['sid'].unique())"
   ]
  },
  {
   "cell_type": "code",
   "execution_count": 19,
   "metadata": {},
   "outputs": [
    {
     "name": "stdout",
     "output_type": "stream",
     "text": [
      "LH 48\n",
      "LL 99\n"
     ]
    }
   ],
   "source": [
    "def get_levels_and_students_per_attribute(df, attribute):\n",
    "    d={}\n",
    "    levels = list(df[attribute].unique())\n",
    "    for level in levels:\n",
    "        d[level] = list(df[df[attribute]==level]['sid'].unique())\n",
    "    return levels,d\n",
    "    \n",
    "# levels, students_by_attribute = get_levels_and_students_per_attribute(df_all[df_all['variable']=='Concentration'], 'group')\n",
    "levels, students_by_attribute = get_levels_and_students_per_attribute(df_all, 'group')\n",
    "for level in levels:\n",
    "    print level, len(students_by_attribute[level])\n",
    "# students_by_attribute.pop('HL', None)\n",
    "# levels.remove('HL')"
   ]
  },
  {
   "cell_type": "code",
   "execution_count": 20,
   "metadata": {},
   "outputs": [],
   "source": [
    "attribute = 'group'\n",
    "level1 = 'LL'\n",
    "level2 = 'LH'\n",
    "action_seqs = all_blocked_seqs['beers']\n",
    "time_coords = all_blocked_timecoords['beers']"
   ]
  },
  {
   "cell_type": "markdown",
   "metadata": {},
   "source": [
    "## Setting parameters"
   ]
  },
  {
   "cell_type": "code",
   "execution_count": null,
   "metadata": {},
   "outputs": [],
   "source": [
    "#We split activities into 3 time bins\n",
    "num_bins = 3\n",
    "#Sequences of action of interest can be a minimum and max length\n",
    "shortest_seq_length = 2\n",
    "longest_seq_length = 15\n",
    "# for mining sequences in large groups, we want to make sure we find interesting sequences that have been done by a minimum number of people.\n",
    "# Thus we use a cut off of 0.3-0.5 to only analyze sequences done by at least 30-50% of students within a group.\n",
    "# Thus the groups can have slightly different sizes.\n",
    "cut_off = 0.4"
   ]
  },
  {
   "cell_type": "markdown",
   "metadata": {},
   "source": [
    "## Running the sequence mining"
   ]
  },
  {
   "cell_type": "code",
   "execution_count": null,
   "metadata": {},
   "outputs": [],
   "source": [
    "%aimport generalized_seq_miner\n",
    "freqs = get_frequencies_by_bin(action_seqs,time_coords, num_bins, shortest=shortest_seq_length, longest=longest_seq_length)"
   ]
  },
  {
   "cell_type": "code",
   "execution_count": null,
   "metadata": {},
   "outputs": [],
   "source": [
    "freqs[10127163][0].most_common(5)"
   ]
  },
  {
   "cell_type": "code",
   "execution_count": null,
   "metadata": {},
   "outputs": [],
   "source": [
    "# The code below finds, for each sequence, the number of students in each group that used that sequence at least once in that time bin\n",
    "# For instance, for the sequence 'BCB': array([[ .2,  1.],[ 1.,  0.]]), it was used at least once by 2 of the students in the \"passed\" group in the first half of their activity.\n",
    "seq_use = get_sequence_use_by_timebin(action_seqs, time_coords, students_by_attribute, num_bins, attribute,\n",
    "            levels, shortest_seq_length, longest_seq_length, cut_off)"
   ]
  },
  {
   "cell_type": "code",
   "execution_count": null,
   "metadata": {},
   "outputs": [],
   "source": [
    "## Now we can calculate the information gain of this sequence over groups in time. In other words, high information gain sequences\n",
    "# are used differently over time by groups while low information gain sequences are used closer to randomly by groups over time.\n",
    "for s,f in rank_sequences(seq_use,num_bins)[-6:]:\n",
    "    print round(f,3),'\\t',s"
   ]
  },
  {
   "cell_type": "code",
   "execution_count": null,
   "metadata": {},
   "outputs": [],
   "source": []
  },
  {
   "cell_type": "markdown",
   "metadata": {},
   "source": [
    "# Todo"
   ]
  },
  {
   "cell_type": "markdown",
   "metadata": {},
   "source": [
    "* make viz\n",
    "* look into capacitance problem\n"
   ]
  },
  {
   "cell_type": "code",
   "execution_count": null,
   "metadata": {},
   "outputs": [],
   "source": []
  }
 ],
 "metadata": {
  "anaconda-cloud": {},
  "kernelspec": {
   "display_name": "Python 2",
   "language": "python",
   "name": "python2"
  },
  "language_info": {
   "codemirror_mode": {
    "name": "ipython",
    "version": 2
   },
   "file_extension": ".py",
   "mimetype": "text/x-python",
   "name": "python",
   "nbconvert_exporter": "python",
   "pygments_lexer": "ipython2",
   "version": "2.7.16"
  },
  "toc": {
   "base_numbering": 1,
   "nav_menu": {},
   "number_sections": true,
   "sideBar": false,
   "skip_h1_title": false,
   "title_cell": "Table of Contents",
   "title_sidebar": "Contents",
   "toc_cell": false,
   "toc_position": {},
   "toc_section_display": "block",
   "toc_window_display": false
  }
 },
 "nbformat": 4,
 "nbformat_minor": 1
}
