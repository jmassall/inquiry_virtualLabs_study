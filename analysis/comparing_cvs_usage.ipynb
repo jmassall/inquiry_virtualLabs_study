{
 "cells": [
  {
   "cell_type": "markdown",
   "metadata": {
    "hideCode": false,
    "hidePrompt": true
   },
   "source": [
    "This notebook evaluates all definitions of CVS and creates the relevant data files for future analysis"
   ]
  },
  {
   "cell_type": "code",
   "execution_count": 1,
   "metadata": {
    "hideCode": false,
    "hidePrompt": true,
    "scrolled": true
   },
   "outputs": [
    {
     "data": {
      "text/html": [
       "<script>jQuery(function() {if (jQuery(\"body.notebook_app\").length == 0) { jQuery(\".input_area\").toggle(); jQuery(\".prompt\").toggle();}});</script>"
      ]
     },
     "metadata": {},
     "output_type": "display_data"
    }
   ],
   "source": [
    "from IPython.display import display\n",
    "from IPython.display import HTML\n",
    "import IPython.core.display as di\n",
    "\n",
    "# This line will hide code by default when the notebook is converted to HTML\n",
    "di.display_html('<script>jQuery(function() {if (jQuery(\"body.notebook_app\").length == 0) { jQuery(\".input_area\").toggle(); jQuery(\".prompt\").toggle();}});</script>', raw=True)"
   ]
  },
  {
   "cell_type": "code",
   "execution_count": 2,
   "metadata": {
    "hideCode": false,
    "hidePrompt": true
   },
   "outputs": [],
   "source": [
    "%load_ext autoreload\n",
    "%autoreload 1\n",
    "%aimport utils_read_parsing\n",
    "from utils_timeline_viz import *\n",
    "from utils_read_parsing import *\n",
    "import matplotlib.pyplot as plt\n",
    "from tabulate import tabulate\n",
    "from scipy.stats import ranksums\n",
    "import seaborn as sns\n",
    "import statsmodels.api as sm\n",
    "pd.set_option(\"display.width\", 100)\n",
    "import matplotlib.pyplot as plt\n",
    "%matplotlib inline\n",
    "matplotlib.style.use('ggplot')\n",
    "matplotlib.rcParams['figure.figsize'] = 7, 4\n",
    "pd.set_option('precision',3)\n",
    "np.set_printoptions(precision=3,suppress=True)"
   ]
  },
  {
   "cell_type": "markdown",
   "metadata": {
    "hideCode": false,
    "hidePrompt": true
   },
   "source": [
    "# Preparing the data"
   ]
  },
  {
   "cell_type": "markdown",
   "metadata": {
    "hideCode": false,
    "hidePrompt": true
   },
   "source": [
    "## Grabing the CVS data..."
   ]
  },
  {
   "cell_type": "code",
   "execution_count": 3,
   "metadata": {},
   "outputs": [],
   "source": [
    "%reload_ext utils_read_parsing\n",
    "table_cvs_df = get_table_cvs_results()\n",
    "table_non_cons_df = get_table_non_consecutive_cvs_results()\n",
    "graph_cvs_df = get_graph_cvs_results()"
   ]
  },
  {
   "cell_type": "code",
   "execution_count": 4,
   "metadata": {},
   "outputs": [
    {
     "data": {
      "text/html": [
       "<div>\n",
       "<style scoped>\n",
       "    .dataframe tbody tr th:only-of-type {\n",
       "        vertical-align: middle;\n",
       "    }\n",
       "\n",
       "    .dataframe tbody tr th {\n",
       "        vertical-align: top;\n",
       "    }\n",
       "\n",
       "    .dataframe thead th {\n",
       "        text-align: right;\n",
       "    }\n",
       "</style>\n",
       "<table border=\"1\" class=\"dataframe\">\n",
       "  <thead>\n",
       "    <tr style=\"text-align: right;\">\n",
       "      <th></th>\n",
       "      <th>studentid</th>\n",
       "      <th>Battery voltage</th>\n",
       "      <th>Area</th>\n",
       "      <th>Separation</th>\n",
       "      <th>Wavelength</th>\n",
       "      <th>Width</th>\n",
       "      <th>Concentration</th>\n",
       "    </tr>\n",
       "  </thead>\n",
       "  <tbody>\n",
       "    <tr>\n",
       "      <th>0</th>\n",
       "      <td>11612162</td>\n",
       "      <td>0</td>\n",
       "      <td>0</td>\n",
       "      <td>0</td>\n",
       "      <td>3</td>\n",
       "      <td>2</td>\n",
       "      <td>3</td>\n",
       "    </tr>\n",
       "    <tr>\n",
       "      <th>1</th>\n",
       "      <td>13660166</td>\n",
       "      <td>0</td>\n",
       "      <td>0</td>\n",
       "      <td>0</td>\n",
       "      <td>0</td>\n",
       "      <td>0</td>\n",
       "      <td>14</td>\n",
       "    </tr>\n",
       "    <tr>\n",
       "      <th>2</th>\n",
       "      <td>41947147</td>\n",
       "      <td>2</td>\n",
       "      <td>0</td>\n",
       "      <td>0</td>\n",
       "      <td>14</td>\n",
       "      <td>6</td>\n",
       "      <td>7</td>\n",
       "    </tr>\n",
       "    <tr>\n",
       "      <th>3</th>\n",
       "      <td>64006159</td>\n",
       "      <td>0</td>\n",
       "      <td>0</td>\n",
       "      <td>0</td>\n",
       "      <td>5</td>\n",
       "      <td>0</td>\n",
       "      <td>6</td>\n",
       "    </tr>\n",
       "    <tr>\n",
       "      <th>4</th>\n",
       "      <td>15749160</td>\n",
       "      <td>0</td>\n",
       "      <td>2</td>\n",
       "      <td>3</td>\n",
       "      <td>0</td>\n",
       "      <td>4</td>\n",
       "      <td>10</td>\n",
       "    </tr>\n",
       "  </tbody>\n",
       "</table>\n",
       "</div>"
      ],
      "text/plain": [
       "   studentid  Battery voltage  Area  Separation  Wavelength  Width  Concentration\n",
       "0   11612162                0     0           0           3      2              3\n",
       "1   13660166                0     0           0           0      0             14\n",
       "2   41947147                2     0           0          14      6              7\n",
       "3   64006159                0     0           0           5      0              6\n",
       "4   15749160                0     2           3           0      4             10"
      ]
     },
     "execution_count": 4,
     "metadata": {},
     "output_type": "execute_result"
    }
   ],
   "source": [
    "table_cvs_df.head()"
   ]
  },
  {
   "cell_type": "code",
   "execution_count": 5,
   "metadata": {
    "hideCode": false,
    "hidePrompt": true
   },
   "outputs": [],
   "source": [
    "variables = [\"Area\",\"Separation\",\"Width\",\"Concentration\",\"Wavelength\",\"Battery voltage\"]\n",
    "\n",
    "def binarize(threshold,number):\n",
    "    if number>= threshold : return 1\n",
    "    else: return 0\n",
    "    \n",
    "# Given that we want to compare the stringency of CVS, we created different definitions with 2,3,4 points needed\n",
    "\n",
    "graph_cvs_2_df = graph_cvs_df.copy()\n",
    "graph_cvs_3_df = graph_cvs_df.copy()\n",
    "graph_cvs_4_df = graph_cvs_df.copy()\n",
    "graph_cvs_5_df = graph_cvs_df.copy()\n",
    "for v in variables:\n",
    "    graph_cvs_2_df[v] = graph_cvs_df.apply(lambda row: binarize(2,row[v]), axis=1)\n",
    "    graph_cvs_3_df[v] = graph_cvs_df.apply(lambda row: binarize(3,row[v]), axis=1)\n",
    "    graph_cvs_4_df[v] = graph_cvs_df.apply(lambda row: binarize(4,row[v]), axis=1)\n",
    "    graph_cvs_5_df[v] = graph_cvs_df.apply(lambda row: binarize(5,row[v]), axis=1)\n",
    "\n",
    "table_cvs_2_df = table_cvs_df.copy()\n",
    "table_cvs_3_df = table_cvs_df.copy()\n",
    "table_cvs_4_df = table_cvs_df.copy()\n",
    "table_cvs_5_df = table_cvs_df.copy()\n",
    "for v in variables:\n",
    "    table_cvs_2_df[v] = table_cvs_df.apply(lambda row: binarize(2,row[v]), axis=1)\n",
    "    table_cvs_3_df[v] = table_cvs_df.apply(lambda row: binarize(3,row[v]), axis=1)\n",
    "    table_cvs_4_df[v] = table_cvs_df.apply(lambda row: binarize(4,row[v]), axis=1)\n",
    "    table_cvs_5_df[v] = table_cvs_df.apply(lambda row: binarize(5,row[v]), axis=1)\n",
    "    \n",
    "table_non_cons_2_df = table_non_cons_df.copy()\n",
    "table_non_cons_3_df = table_non_cons_df.copy()\n",
    "table_non_cons_4_df = table_non_cons_df.copy()\n",
    "for v in variables:\n",
    "    table_non_cons_2_df[v] = table_non_cons_df.apply(lambda row: binarize(2,row[v]), axis=1)\n",
    "    table_non_cons_3_df[v] = table_non_cons_df.apply(lambda row: binarize(3,row[v]), axis=1)\n",
    "    table_non_cons_4_df[v] = table_non_cons_df.apply(lambda row: binarize(4,row[v]), axis=1)"
   ]
  },
  {
   "cell_type": "code",
   "execution_count": 6,
   "metadata": {},
   "outputs": [],
   "source": [
    "#Since no one does CVS graph without table, we can this simple addition of the dataframes\n",
    "cvs_2_df = table_non_cons_2_df.copy();cvs_3_df = table_non_cons_2_df.copy();cvs_4_df = table_non_cons_2_df.copy()\n",
    "for v in variables:\n",
    "    cvs_2_df[v] = 2*(table_cvs_2_df[v]+graph_cvs_2_df[v]*2) + table_non_cons_2_df[v]\n",
    "    cvs_3_df[v] = 2*(table_cvs_3_df[v]+graph_cvs_3_df[v]*2) + table_non_cons_3_df[v]\n",
    "    cvs_4_df[v] = 2*(table_cvs_4_df[v]+graph_cvs_4_df[v]*2) + table_non_cons_4_df[v]"
   ]
  },
  {
   "cell_type": "code",
   "execution_count": 7,
   "metadata": {},
   "outputs": [],
   "source": [
    "for df in [cvs_2_df,cvs_3_df,cvs_4_df]:\n",
    "    df.replace(0,'x',inplace=True)\n",
    "    df.replace(1,'table_random',inplace=True)\n",
    "    df.replace(2,'table_consecutive',inplace=True);    df.replace(3,'table_consecutive',inplace=True)\n",
    "    df.replace(5,'graph',inplace=True);    df.replace(7,'graph',inplace=True)"
   ]
  },
  {
   "cell_type": "code",
   "execution_count": 8,
   "metadata": {},
   "outputs": [
    {
     "data": {
      "text/html": [
       "<div>\n",
       "<style scoped>\n",
       "    .dataframe tbody tr th:only-of-type {\n",
       "        vertical-align: middle;\n",
       "    }\n",
       "\n",
       "    .dataframe tbody tr th {\n",
       "        vertical-align: top;\n",
       "    }\n",
       "\n",
       "    .dataframe thead th {\n",
       "        text-align: right;\n",
       "    }\n",
       "</style>\n",
       "<table border=\"1\" class=\"dataframe\">\n",
       "  <thead>\n",
       "    <tr style=\"text-align: right;\">\n",
       "      <th></th>\n",
       "      <th>studentid</th>\n",
       "      <th>Battery voltage</th>\n",
       "      <th>Area</th>\n",
       "      <th>Separation</th>\n",
       "      <th>Wavelength</th>\n",
       "      <th>Width</th>\n",
       "      <th>Concentration</th>\n",
       "    </tr>\n",
       "  </thead>\n",
       "  <tbody>\n",
       "    <tr>\n",
       "      <th>0</th>\n",
       "      <td>11612162</td>\n",
       "      <td>x</td>\n",
       "      <td>x</td>\n",
       "      <td>x</td>\n",
       "      <td>table_consecutive</td>\n",
       "      <td>table_consecutive</td>\n",
       "      <td>graph</td>\n",
       "    </tr>\n",
       "    <tr>\n",
       "      <th>1</th>\n",
       "      <td>13660166</td>\n",
       "      <td>x</td>\n",
       "      <td>x</td>\n",
       "      <td>x</td>\n",
       "      <td>x</td>\n",
       "      <td>x</td>\n",
       "      <td>graph</td>\n",
       "    </tr>\n",
       "    <tr>\n",
       "      <th>2</th>\n",
       "      <td>41947147</td>\n",
       "      <td>table_consecutive</td>\n",
       "      <td>x</td>\n",
       "      <td>x</td>\n",
       "      <td>graph</td>\n",
       "      <td>graph</td>\n",
       "      <td>graph</td>\n",
       "    </tr>\n",
       "    <tr>\n",
       "      <th>3</th>\n",
       "      <td>64006159</td>\n",
       "      <td>x</td>\n",
       "      <td>table_random</td>\n",
       "      <td>x</td>\n",
       "      <td>table_consecutive</td>\n",
       "      <td>table_random</td>\n",
       "      <td>graph</td>\n",
       "    </tr>\n",
       "    <tr>\n",
       "      <th>4</th>\n",
       "      <td>15749160</td>\n",
       "      <td>table_random</td>\n",
       "      <td>graph</td>\n",
       "      <td>table_consecutive</td>\n",
       "      <td>x</td>\n",
       "      <td>table_consecutive</td>\n",
       "      <td>table_consecutive</td>\n",
       "    </tr>\n",
       "  </tbody>\n",
       "</table>\n",
       "</div>"
      ],
      "text/plain": [
       "   studentid    Battery voltage          Area         Separation         Wavelength  \\\n",
       "0   11612162                  x             x                  x  table_consecutive   \n",
       "1   13660166                  x             x                  x                  x   \n",
       "2   41947147  table_consecutive             x                  x              graph   \n",
       "3   64006159                  x  table_random                  x  table_consecutive   \n",
       "4   15749160       table_random         graph  table_consecutive                  x   \n",
       "\n",
       "               Width      Concentration  \n",
       "0  table_consecutive              graph  \n",
       "1                  x              graph  \n",
       "2              graph              graph  \n",
       "3       table_random              graph  \n",
       "4  table_consecutive  table_consecutive  "
      ]
     },
     "execution_count": 8,
     "metadata": {},
     "output_type": "execute_result"
    }
   ],
   "source": [
    "cvs_2_df.head()"
   ]
  },
  {
   "cell_type": "markdown",
   "metadata": {},
   "source": [
    "# Analysis"
   ]
  },
  {
   "cell_type": "code",
   "execution_count": 9,
   "metadata": {},
   "outputs": [
    {
     "name": "stdout",
     "output_type": "stream",
     "text": [
      "The study includes 147 students\n"
     ]
    }
   ],
   "source": [
    "all_data = pd.read_csv(os.path.join(BIG_FOLDER,'all_massaged_data\\\\dataframe_all_factors_for_analysis.txt'), sep='\\t')\n",
    "ids = list(set(all_data['sid']))\n",
    "N = len(ids)\n",
    "print \"The study includes {0} students\".format(N)"
   ]
  },
  {
   "cell_type": "code",
   "execution_count": 10,
   "metadata": {
    "hideCode": true,
    "hidePrompt": true
   },
   "outputs": [],
   "source": [
    "cvs_2_df = cvs_2_df[cvs_2_df['studentid'].isin(ids)]\n",
    "cvs_3_df = cvs_3_df[cvs_3_df['studentid'].isin(ids)]\n",
    "cvs_4_df = cvs_4_df[cvs_4_df['studentid'].isin(ids)]"
   ]
  },
  {
   "cell_type": "markdown",
   "metadata": {},
   "source": [
    "## Descriptives number of trials by variable"
   ]
  },
  {
   "cell_type": "code",
   "execution_count": 11,
   "metadata": {},
   "outputs": [
    {
     "data": {
      "text/html": [
       "<div>\n",
       "<style scoped>\n",
       "    .dataframe tbody tr th:only-of-type {\n",
       "        vertical-align: middle;\n",
       "    }\n",
       "\n",
       "    .dataframe tbody tr th {\n",
       "        vertical-align: top;\n",
       "    }\n",
       "\n",
       "    .dataframe thead th {\n",
       "        text-align: right;\n",
       "    }\n",
       "</style>\n",
       "<table border=\"1\" class=\"dataframe\">\n",
       "  <thead>\n",
       "    <tr style=\"text-align: right;\">\n",
       "      <th></th>\n",
       "      <th>studentid</th>\n",
       "      <th>Battery voltage</th>\n",
       "      <th>Area</th>\n",
       "      <th>Separation</th>\n",
       "      <th>Wavelength</th>\n",
       "      <th>Width</th>\n",
       "      <th>Concentration</th>\n",
       "    </tr>\n",
       "  </thead>\n",
       "  <tbody>\n",
       "    <tr>\n",
       "      <th>0</th>\n",
       "      <td>11612162</td>\n",
       "      <td>x</td>\n",
       "      <td>x</td>\n",
       "      <td>x</td>\n",
       "      <td>table_consecutive</td>\n",
       "      <td>table_consecutive</td>\n",
       "      <td>graph</td>\n",
       "    </tr>\n",
       "    <tr>\n",
       "      <th>1</th>\n",
       "      <td>13660166</td>\n",
       "      <td>x</td>\n",
       "      <td>x</td>\n",
       "      <td>x</td>\n",
       "      <td>x</td>\n",
       "      <td>x</td>\n",
       "      <td>graph</td>\n",
       "    </tr>\n",
       "    <tr>\n",
       "      <th>2</th>\n",
       "      <td>41947147</td>\n",
       "      <td>table_consecutive</td>\n",
       "      <td>x</td>\n",
       "      <td>x</td>\n",
       "      <td>graph</td>\n",
       "      <td>graph</td>\n",
       "      <td>graph</td>\n",
       "    </tr>\n",
       "    <tr>\n",
       "      <th>3</th>\n",
       "      <td>64006159</td>\n",
       "      <td>x</td>\n",
       "      <td>table_random</td>\n",
       "      <td>x</td>\n",
       "      <td>table_consecutive</td>\n",
       "      <td>table_random</td>\n",
       "      <td>graph</td>\n",
       "    </tr>\n",
       "    <tr>\n",
       "      <th>4</th>\n",
       "      <td>15749160</td>\n",
       "      <td>table_random</td>\n",
       "      <td>graph</td>\n",
       "      <td>table_consecutive</td>\n",
       "      <td>x</td>\n",
       "      <td>table_consecutive</td>\n",
       "      <td>table_consecutive</td>\n",
       "    </tr>\n",
       "  </tbody>\n",
       "</table>\n",
       "</div>"
      ],
      "text/plain": [
       "   studentid    Battery voltage          Area         Separation         Wavelength  \\\n",
       "0   11612162                  x             x                  x  table_consecutive   \n",
       "1   13660166                  x             x                  x                  x   \n",
       "2   41947147  table_consecutive             x                  x              graph   \n",
       "3   64006159                  x  table_random                  x  table_consecutive   \n",
       "4   15749160       table_random         graph  table_consecutive                  x   \n",
       "\n",
       "               Width      Concentration  \n",
       "0  table_consecutive              graph  \n",
       "1                  x              graph  \n",
       "2              graph              graph  \n",
       "3       table_random              graph  \n",
       "4  table_consecutive  table_consecutive  "
      ]
     },
     "execution_count": 11,
     "metadata": {},
     "output_type": "execute_result"
    }
   ],
   "source": [
    "vars_paper = [\"Area\",\"Separation\",\"Width\",\"Concentration\"]\n",
    "cvs_2_df.head()"
   ]
  },
  {
   "cell_type": "code",
   "execution_count": 12,
   "metadata": {},
   "outputs": [
    {
     "data": {
      "text/html": [
       "<div>\n",
       "<style scoped>\n",
       "    .dataframe tbody tr th:only-of-type {\n",
       "        vertical-align: middle;\n",
       "    }\n",
       "\n",
       "    .dataframe tbody tr th {\n",
       "        vertical-align: top;\n",
       "    }\n",
       "\n",
       "    .dataframe thead th {\n",
       "        text-align: right;\n",
       "    }\n",
       "</style>\n",
       "<table border=\"1\" class=\"dataframe\">\n",
       "  <thead>\n",
       "    <tr style=\"text-align: right;\">\n",
       "      <th></th>\n",
       "      <th>2</th>\n",
       "      <th>3</th>\n",
       "      <th>4</th>\n",
       "    </tr>\n",
       "  </thead>\n",
       "  <tbody>\n",
       "    <tr>\n",
       "      <th>0</th>\n",
       "      <td>x</td>\n",
       "      <td>x</td>\n",
       "      <td>x</td>\n",
       "    </tr>\n",
       "    <tr>\n",
       "      <th>1</th>\n",
       "      <td>x</td>\n",
       "      <td>x</td>\n",
       "      <td>x</td>\n",
       "    </tr>\n",
       "    <tr>\n",
       "      <th>2</th>\n",
       "      <td>x</td>\n",
       "      <td>x</td>\n",
       "      <td>x</td>\n",
       "    </tr>\n",
       "    <tr>\n",
       "      <th>3</th>\n",
       "      <td>table_random</td>\n",
       "      <td>x</td>\n",
       "      <td>x</td>\n",
       "    </tr>\n",
       "    <tr>\n",
       "      <th>4</th>\n",
       "      <td>graph</td>\n",
       "      <td>x</td>\n",
       "      <td>x</td>\n",
       "    </tr>\n",
       "  </tbody>\n",
       "</table>\n",
       "</div>"
      ],
      "text/plain": [
       "              2  3  4\n",
       "0             x  x  x\n",
       "1             x  x  x\n",
       "2             x  x  x\n",
       "3  table_random  x  x\n",
       "4         graph  x  x"
      ]
     },
     "execution_count": 12,
     "metadata": {},
     "output_type": "execute_result"
    }
   ],
   "source": [
    "df2 = cvs_2_df['Area']\n",
    "df3 = cvs_3_df['Area']\n",
    "df4 = cvs_4_df['Area']\n",
    "df = pd.concat([df2,df3,df4],axis=1)\n",
    "df.columns = ['2','3','4']\n",
    "df.head()"
   ]
  },
  {
   "cell_type": "code",
   "execution_count": 26,
   "metadata": {},
   "outputs": [
    {
     "data": {
      "image/png": "[encoded data removed]",
      "text/plain": [
       "<Figure size 864x252 with 4 Axes>"
      ]
     },
     "metadata": {
      "needs_background": "light"
     },
     "output_type": "display_data"
    }
   ],
   "source": [
    "CMAP = ['#fc8d62','#a6d854','cornflowerblue','#ffd92f']\n",
    "# matplotlib.rcParams['axes.color_cycle'] = CMAP\n",
    "import cycler\n",
    "matplotlib.rcParams['axes.prop_cycle'] = cycler.cycler(color=CMAP)\n",
    "fig,axes = plt.subplots(nrows=1,ncols=4,figsize=(12,3.5))\n",
    "# ['2','3','4']\n",
    "# [cvs_2_df, cvs_3_df, cvs_4_df]\n",
    "for i,(ax,var) in enumerate(zip(axes,vars_paper)):\n",
    "    df2 = cvs_2_df[var]\n",
    "    df3 = cvs_3_df[var]\n",
    "    df4 = cvs_4_df[var]\n",
    "    df = pd.concat([df2,df3,df4],axis=1)\n",
    "    df.columns = ['2','3','4']\n",
    "    df.apply(lambda x: x.value_counts()).transpose().iloc[::-1,::-1].plot.barh(stacked=True, ax=ax)\n",
    "    ax.legend('');ax.set_xlabel('')\n",
    "#     ax.legend(loc=2,frameon=True);ax.set_xlabel('')\n",
    "    ax.set_xticklabels([0,20,40,60,80,100],fontsize=13)\n",
    "    ax.set_xticks([round(int(x)*N/100.0,1) for x in [0,20,40,60,80,100]])\n",
    "    ax.set_title(var,fontsize=15);\n",
    "    if i==0:\n",
    "        ax.set_xlabel('Percent of students',fontsize=13)\n",
    "        ax.set_ylabel('Minimum number of trials',fontsize=13)\n",
    "    if i==3:\n",
    "        ax.legend(['CVS_explore','CVS_collect\\nnon-consecutive','CVS_collect\\nconsecutive','CVS_plot'],bbox_to_anchor=(1.05, 1), loc=2, borderaxespad=0.)"
   ]
  },
  {
   "cell_type": "markdown",
   "metadata": {},
   "source": [
    "## Descriptives variable by number of trials"
   ]
  },
  {
   "cell_type": "code",
   "execution_count": 14,
   "metadata": {},
   "outputs": [
    {
     "data": {
      "image/png": "[encoded data removed]",
      "text/plain": [
       "<Figure size 720x1080 with 3 Axes>"
      ]
     },
     "metadata": {
      "needs_background": "light"
     },
     "output_type": "display_data"
    }
   ],
   "source": [
    "CMAP = ['#fc8d62','#a6d854','cornflowerblue','#ffd92f']\n",
    "# matplotlib.rcParams['axes.color_cycle'] = CMAP\n",
    "import cycler\n",
    "matplotlib.rcParams['axes.prop_cycle'] = cycler.cycler(color=CMAP)\n",
    "fig,axes = plt.subplots(nrows=3,ncols=1,figsize=(10,15))\n",
    "for ax,X,df in zip(axes,['2','3','4'],[cvs_2_df, cvs_3_df, cvs_4_df]):\n",
    "    df[variables].apply(lambda x: x.value_counts()).transpose().iloc[:,::-1].plot.barh(stacked=True, ax=ax)\n",
    "    ax.legend(loc=2,frameon=True);ax.set_xlabel('')\n",
    "    ax.set_xticklabels([0,20,40,60,80,100],fontsize=13)\n",
    "    ax.set_xticks([round(int(x)*N/100.0,1) for x in [0,20,40,60,80,100]])\n",
    "    ax.set_title(\"Minimum \" + X + \" trials\",fontsize=15);\n",
    "ax.set_xlabel('Percent of students',fontsize=13)\n",
    "plt.suptitle(\"Stacked bar charts of percent of students who did CVS with different requirements\",fontsize=18);"
   ]
  },
  {
   "cell_type": "code",
   "execution_count": 15,
   "metadata": {},
   "outputs": [],
   "source": [
    "avgs = pd.DataFrame()\n",
    "for X,df in zip(['2','3','4'],[cvs_2_df, cvs_3_df, cvs_4_df]):\n",
    "    avgs[X] = df[variables].apply(lambda x: x.value_counts()).transpose().iloc[:,::-1].mean(axis=0)"
   ]
  },
  {
   "cell_type": "code",
   "execution_count": 16,
   "metadata": {},
   "outputs": [
    {
     "data": {
      "image/png": "[encoded data removed]",
      "text/plain": [
       "<Figure size 720x360 with 1 Axes>"
      ]
     },
     "metadata": {
      "needs_background": "light"
     },
     "output_type": "display_data"
    }
   ],
   "source": [
    "fig,ax = plt.subplots(nrows=1,ncols=1,figsize=(10,5))\n",
    "avgs.transpose().iloc[:,::1].plot.barh(stacked=True,ax=ax)\n",
    "ax.legend(loc=2,frameon=True);ax.set_xlabel('')\n",
    "ax.set_xticklabels([0,20,40,60,80,100],fontsize=13)\n",
    "ax.set_xticks([round(int(x)*N/100.0,1) for x in [0,20,40,60,80,100]])\n",
    "ax.set_xlabel('Percent of students',fontsize=13)\n",
    "ax.set_ylabel('Minimum number of trials',fontsize=13)\n",
    "plt.suptitle(\"Stacked bar charts of percent of students who did CVS with different requirements\",fontsize=18);"
   ]
  },
  {
   "cell_type": "markdown",
   "metadata": {},
   "source": [
    "Looks like few students do CVS non consecutively. In fact we can check how many students do it for at least 1 variable:"
   ]
  },
  {
   "cell_type": "code",
   "execution_count": 17,
   "metadata": {},
   "outputs": [
    {
     "data": {
      "text/html": [
       "<div>\n",
       "<style scoped>\n",
       "    .dataframe tbody tr th:only-of-type {\n",
       "        vertical-align: middle;\n",
       "    }\n",
       "\n",
       "    .dataframe tbody tr th {\n",
       "        vertical-align: top;\n",
       "    }\n",
       "\n",
       "    .dataframe thead th {\n",
       "        text-align: right;\n",
       "    }\n",
       "</style>\n",
       "<table border=\"1\" class=\"dataframe\">\n",
       "  <thead>\n",
       "    <tr style=\"text-align: right;\">\n",
       "      <th></th>\n",
       "      <th>studentid</th>\n",
       "      <th>Battery voltage</th>\n",
       "      <th>Area</th>\n",
       "      <th>Separation</th>\n",
       "      <th>Wavelength</th>\n",
       "      <th>Width</th>\n",
       "      <th>Concentration</th>\n",
       "      <th>x</th>\n",
       "      <th>table_random</th>\n",
       "      <th>table_consecutive</th>\n",
       "      <th>graph</th>\n",
       "    </tr>\n",
       "  </thead>\n",
       "  <tbody>\n",
       "    <tr>\n",
       "      <th>0</th>\n",
       "      <td>11612162</td>\n",
       "      <td>x</td>\n",
       "      <td>x</td>\n",
       "      <td>x</td>\n",
       "      <td>table_consecutive</td>\n",
       "      <td>x</td>\n",
       "      <td>graph</td>\n",
       "      <td>4</td>\n",
       "      <td>0</td>\n",
       "      <td>1</td>\n",
       "      <td>1</td>\n",
       "    </tr>\n",
       "    <tr>\n",
       "      <th>1</th>\n",
       "      <td>13660166</td>\n",
       "      <td>x</td>\n",
       "      <td>x</td>\n",
       "      <td>x</td>\n",
       "      <td>x</td>\n",
       "      <td>x</td>\n",
       "      <td>graph</td>\n",
       "      <td>5</td>\n",
       "      <td>0</td>\n",
       "      <td>0</td>\n",
       "      <td>1</td>\n",
       "    </tr>\n",
       "    <tr>\n",
       "      <th>2</th>\n",
       "      <td>41947147</td>\n",
       "      <td>x</td>\n",
       "      <td>x</td>\n",
       "      <td>x</td>\n",
       "      <td>graph</td>\n",
       "      <td>graph</td>\n",
       "      <td>graph</td>\n",
       "      <td>3</td>\n",
       "      <td>0</td>\n",
       "      <td>0</td>\n",
       "      <td>3</td>\n",
       "    </tr>\n",
       "    <tr>\n",
       "      <th>3</th>\n",
       "      <td>64006159</td>\n",
       "      <td>x</td>\n",
       "      <td>x</td>\n",
       "      <td>x</td>\n",
       "      <td>table_consecutive</td>\n",
       "      <td>x</td>\n",
       "      <td>graph</td>\n",
       "      <td>4</td>\n",
       "      <td>0</td>\n",
       "      <td>1</td>\n",
       "      <td>1</td>\n",
       "    </tr>\n",
       "    <tr>\n",
       "      <th>4</th>\n",
       "      <td>15749160</td>\n",
       "      <td>x</td>\n",
       "      <td>x</td>\n",
       "      <td>table_consecutive</td>\n",
       "      <td>x</td>\n",
       "      <td>table_consecutive</td>\n",
       "      <td>table_consecutive</td>\n",
       "      <td>3</td>\n",
       "      <td>0</td>\n",
       "      <td>3</td>\n",
       "      <td>0</td>\n",
       "    </tr>\n",
       "  </tbody>\n",
       "</table>\n",
       "</div>"
      ],
      "text/plain": [
       "   studentid Battery voltage Area         Separation         Wavelength              Width  \\\n",
       "0   11612162               x    x                  x  table_consecutive                  x   \n",
       "1   13660166               x    x                  x                  x                  x   \n",
       "2   41947147               x    x                  x              graph              graph   \n",
       "3   64006159               x    x                  x  table_consecutive                  x   \n",
       "4   15749160               x    x  table_consecutive                  x  table_consecutive   \n",
       "\n",
       "       Concentration  x  table_random  table_consecutive  graph  \n",
       "0              graph  4             0                  1      1  \n",
       "1              graph  5             0                  0      1  \n",
       "2              graph  3             0                  0      3  \n",
       "3              graph  4             0                  1      1  \n",
       "4  table_consecutive  3             0                  3      0  "
      ]
     },
     "execution_count": 17,
     "metadata": {},
     "output_type": "execute_result"
    }
   ],
   "source": [
    "data = cvs_3_df.copy()\n",
    "data['x'] = (data[variables]=='x').astype(int).sum(axis=1)\n",
    "data['table_random'] = (data[variables]=='table_random').astype(int).sum(axis=1)\n",
    "data['table_consecutive'] = (data[variables]=='table_consecutive').astype(int).sum(axis=1)\n",
    "data['graph'] = (data[variables]=='graph').astype(int).sum(axis=1)\n",
    "data.head()"
   ]
  },
  {
   "cell_type": "code",
   "execution_count": 18,
   "metadata": {},
   "outputs": [
    {
     "data": {
      "text/plain": [
       "14"
      ]
     },
     "execution_count": 18,
     "metadata": {},
     "output_type": "execute_result"
    }
   ],
   "source": [
    "len(data[data['studentid'].isin(data[data['table_random']>0]['studentid'])])"
   ]
  },
  {
   "cell_type": "markdown",
   "metadata": {
    "heading_collapsed": true
   },
   "source": [
    "## Analyze students by CVS usage"
   ]
  },
  {
   "cell_type": "code",
   "execution_count": 19,
   "metadata": {
    "hidden": true
   },
   "outputs": [],
   "source": [
    "cluster_columns = ['x','table_random','table_consecutive','graph']"
   ]
  },
  {
   "cell_type": "code",
   "execution_count": 20,
   "metadata": {
    "hidden": true
   },
   "outputs": [
    {
     "data": {
      "text/plain": [
       "array([0.732, 0.984, 1.   , 1.   ])"
      ]
     },
     "execution_count": 20,
     "metadata": {},
     "output_type": "execute_result"
    }
   ],
   "source": [
    "from sklearn import decomposition\n",
    "pca = decomposition.PCA()\n",
    "pca.fit(data[cluster_columns])\n",
    "pca.explained_variance_ratio_.cumsum()"
   ]
  },
  {
   "cell_type": "code",
   "execution_count": 21,
   "metadata": {
    "hidden": true
   },
   "outputs": [],
   "source": [
    "NC = 3\n",
    "pca = decomposition.PCA(n_components=NC)\n",
    "pca.fit(data[cluster_columns])\n",
    "X = pca.transform(data[cluster_columns])\n",
    "data['PC1'] = zip(*X)[0]\n",
    "data['PC2'] = zip(*X)[1]\n",
    "data['PC3'] = zip(*X)[2]"
   ]
  },
  {
   "cell_type": "code",
   "execution_count": 22,
   "metadata": {
    "hidden": true
   },
   "outputs": [
    {
     "data": {
      "text/plain": [
       "<matplotlib.axes._subplots.AxesSubplot at 0xe3b8cf8>"
      ]
     },
     "execution_count": 22,
     "metadata": {},
     "output_type": "execute_result"
    },
    {
     "data": {
      "image/png": "[encoded data removed]",
      "text/plain": [
       "<Figure size 432x288 with 2 Axes>"
      ]
     },
     "metadata": {
      "needs_background": "light"
     },
     "output_type": "display_data"
    }
   ],
   "source": [
    "sns.heatmap(pca.components_.T,yticklabels=cluster_columns,annot=True)"
   ]
  },
  {
   "cell_type": "markdown",
   "metadata": {},
   "source": [
    "# Exporting CVS data"
   ]
  },
  {
   "cell_type": "code",
   "execution_count": 23,
   "metadata": {},
   "outputs": [
    {
     "data": {
      "text/html": [
       "<div>\n",
       "<style scoped>\n",
       "    .dataframe tbody tr th:only-of-type {\n",
       "        vertical-align: middle;\n",
       "    }\n",
       "\n",
       "    .dataframe tbody tr th {\n",
       "        vertical-align: top;\n",
       "    }\n",
       "\n",
       "    .dataframe thead th {\n",
       "        text-align: right;\n",
       "    }\n",
       "</style>\n",
       "<table border=\"1\" class=\"dataframe\">\n",
       "  <thead>\n",
       "    <tr style=\"text-align: right;\">\n",
       "      <th></th>\n",
       "      <th>studentid</th>\n",
       "      <th>Battery voltage</th>\n",
       "      <th>Area</th>\n",
       "      <th>Separation</th>\n",
       "      <th>Wavelength</th>\n",
       "      <th>Width</th>\n",
       "      <th>Concentration</th>\n",
       "    </tr>\n",
       "  </thead>\n",
       "  <tbody>\n",
       "    <tr>\n",
       "      <th>0</th>\n",
       "      <td>11612162</td>\n",
       "      <td>x</td>\n",
       "      <td>x</td>\n",
       "      <td>x</td>\n",
       "      <td>table_consecutive</td>\n",
       "      <td>table_consecutive</td>\n",
       "      <td>graph</td>\n",
       "    </tr>\n",
       "    <tr>\n",
       "      <th>1</th>\n",
       "      <td>13660166</td>\n",
       "      <td>x</td>\n",
       "      <td>x</td>\n",
       "      <td>x</td>\n",
       "      <td>x</td>\n",
       "      <td>x</td>\n",
       "      <td>graph</td>\n",
       "    </tr>\n",
       "    <tr>\n",
       "      <th>2</th>\n",
       "      <td>41947147</td>\n",
       "      <td>table_consecutive</td>\n",
       "      <td>x</td>\n",
       "      <td>x</td>\n",
       "      <td>graph</td>\n",
       "      <td>graph</td>\n",
       "      <td>graph</td>\n",
       "    </tr>\n",
       "    <tr>\n",
       "      <th>3</th>\n",
       "      <td>64006159</td>\n",
       "      <td>x</td>\n",
       "      <td>table_random</td>\n",
       "      <td>x</td>\n",
       "      <td>table_consecutive</td>\n",
       "      <td>table_random</td>\n",
       "      <td>graph</td>\n",
       "    </tr>\n",
       "    <tr>\n",
       "      <th>4</th>\n",
       "      <td>15749160</td>\n",
       "      <td>table_random</td>\n",
       "      <td>graph</td>\n",
       "      <td>table_consecutive</td>\n",
       "      <td>x</td>\n",
       "      <td>table_consecutive</td>\n",
       "      <td>table_consecutive</td>\n",
       "    </tr>\n",
       "  </tbody>\n",
       "</table>\n",
       "</div>"
      ],
      "text/plain": [
       "   studentid    Battery voltage          Area         Separation         Wavelength  \\\n",
       "0   11612162                  x             x                  x  table_consecutive   \n",
       "1   13660166                  x             x                  x                  x   \n",
       "2   41947147  table_consecutive             x                  x              graph   \n",
       "3   64006159                  x  table_random                  x  table_consecutive   \n",
       "4   15749160       table_random         graph  table_consecutive                  x   \n",
       "\n",
       "               Width      Concentration  \n",
       "0  table_consecutive              graph  \n",
       "1                  x              graph  \n",
       "2              graph              graph  \n",
       "3       table_random              graph  \n",
       "4  table_consecutive  table_consecutive  "
      ]
     },
     "execution_count": 23,
     "metadata": {},
     "output_type": "execute_result"
    }
   ],
   "source": [
    "cvs_2_df.head()"
   ]
  },
  {
   "cell_type": "code",
   "execution_count": 24,
   "metadata": {},
   "outputs": [],
   "source": [
    "for df,number_trials in zip([cvs_2_df,cvs_3_df,cvs_4_df],[2,3,4]):\n",
    "    cvs_massage = pd.melt(df, id_vars=['studentid'],value_vars=variables,value_name='CVS_context')\n",
    "    cvs_massage.replace('graph',2,inplace=True);\n",
    "    cvs_massage.replace('table_consecutive',1,inplace=True);\n",
    "    cvs_massage.replace('table_random',1,inplace=True);\n",
    "    cvs_massage.replace('x',0,inplace=True);\n",
    "    cvs_massage.rename(columns={'studentid':'sid'},inplace=True)\n",
    "    cvs_massage.to_csv(os.path.join(BIG_FOLDER,'all_massaged_data\\\\cvs_{0}_merged_context.txt'.format(number_trials)), sep='\\t', index=False)"
   ]
  },
  {
   "cell_type": "code",
   "execution_count": 25,
   "metadata": {},
   "outputs": [],
   "source": [
    "for df,number_trials in zip([cvs_2_df,cvs_3_df,cvs_4_df],[2,3,4]):\n",
    "    cvs_massage = pd.melt(df, id_vars=['studentid'],value_vars=variables,value_name='CVS_context')\n",
    "    cvs_massage.replace('graph',3,inplace=True);\n",
    "    cvs_massage.replace('table_consecutive',2,inplace=True);\n",
    "    cvs_massage.replace('table_random',1,inplace=True);\n",
    "    cvs_massage.replace('x',0,inplace=True);\n",
    "    cvs_massage.rename(columns={'studentid':'sid'},inplace=True)\n",
    "    cvs_massage.to_csv(os.path.join(BIG_FOLDER,'all_massaged_data\\\\cvs_{0}_context.txt'.format(number_trials)), sep='\\t', index=False)"
   ]
  }
 ],
 "metadata": {
  "anaconda-cloud": {},
  "celltoolbar": "Hide code",
  "hide_code_all_hidden": true,
  "kernelspec": {
   "display_name": "Python 2",
   "language": "python",
   "name": "python2"
  },
  "language_info": {
   "codemirror_mode": {
    "name": "ipython",
    "version": 2
   },
   "file_extension": ".py",
   "mimetype": "text/x-python",
   "name": "python",
   "nbconvert_exporter": "python",
   "pygments_lexer": "ipython2",
   "version": "2.7.16"
  },
  "toc": {
   "base_numbering": 1,
   "nav_menu": {},
   "number_sections": true,
   "sideBar": false,
   "skip_h1_title": false,
   "title_cell": "Table of Contents",
   "title_sidebar": "Contents",
   "toc_cell": false,
   "toc_position": {},
   "toc_section_display": "block",
   "toc_window_display": false
  }
 },
 "nbformat": 4,
 "nbformat_minor": 2
}
