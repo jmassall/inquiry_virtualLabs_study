{
 "cells": [
  {
   "cell_type": "markdown",
   "metadata": {},
   "source": [
    "# About data_log_data_to_sequence\n",
    "\n",
    "This notebook creates minable sequences from log data given a predetermined translation of log actions to sequence actions."
   ]
  },
  {
   "cell_type": "code",
   "execution_count": 1,
   "metadata": {},
   "outputs": [],
   "source": [
    "%load_ext autoreload\n",
    "%autoreload 1\n",
    "%aimport utils_read_parsing\n",
    "%aimport utils_sequence_parsing\n",
    "from utils_read_parsing import *\n",
    "from utils_sequence_parsing import converter, Sequence\n",
    "import os\n",
    "import numpy as np\n",
    "import pandas as pd\n",
    "pd.set_option('display.max_columns', None);pd.set_option('display.max_rows', None);pd.set_option('precision', 2)"
   ]
  },
  {
   "cell_type": "markdown",
   "metadata": {},
   "source": [
    "# Loading log data"
   ]
  },
  {
   "cell_type": "markdown",
   "metadata": {},
   "source": [
    "\n",
    "We get all log files per student. They are stored in a dictionary like this:\n",
    "```python\n",
    "    log_files_per_sim = {'beers': {student1: [log_file_1.txt,log_file_2.txt], ...\n",
    "                         'capacitor': {student1: [log_file_1.txt,log_file_2.txt], ...}\n",
    "```"
   ]
  },
  {
   "cell_type": "code",
   "execution_count": 2,
   "metadata": {},
   "outputs": [
    {
     "name": "stdout",
     "output_type": "stream",
     "text": [
      "The file Sarah_beers_log_files_per_student.txt has been unpickled and loaded\n",
      "The file Sarah_capacitor_log_files_per_student.txt has been unpickled and loaded\n"
     ]
    }
   ],
   "source": [
    "log_files_per_sim = {}\n",
    "for sim in ['beers','capacitor']:\n",
    "    log_files_per_sim[sim] = get_parsed_log_files_per_student_for_sim(sim)"
   ]
  },
  {
   "cell_type": "markdown",
   "metadata": {},
   "source": [
    "# Loading rules"
   ]
  },
  {
   "cell_type": "code",
   "execution_count": 3,
   "metadata": {},
   "outputs": [],
   "source": [
    "rules_beers = pd.read_csv('sequence_parsing_rules_beers.txt', sep='\\t')\n",
    "rules_capacitor = pd.read_csv('sequence_parsing_rules_capacitor.txt', sep='\\t')\n",
    "rules_capacitor_without_state = pd.read_csv('sequence_parsing_rules_capacitor_without_state.txt', sep='\\t')\n",
    "\n",
    "rules_as_dict = {}\n",
    "rules_as_dict['beers'] = [(rule['Sequence Action'],rule.drop('Sequence Action').dropna().to_dict()) for i,rule in rules_beers.iterrows()]\n",
    "rules_as_dict['capacitor'] = [(rule['Sequence Action'],rule.drop('Sequence Action').dropna().to_dict()) for i,rule in rules_capacitor.iterrows()]\n",
    "rules_as_dict['capacitor_without_state'] = [(rule['Sequence Action'],rule.drop('Sequence Action').dropna().to_dict()) for i,rule in rules_capacitor_without_state.iterrows()]"
   ]
  },
  {
   "cell_type": "markdown",
   "metadata": {},
   "source": [
    "# Parsing both sims for all students"
   ]
  },
  {
   "cell_type": "code",
   "execution_count": 12,
   "metadata": {},
   "outputs": [],
   "source": [
    "df_all = get_df_all_factors()"
   ]
  },
  {
   "cell_type": "code",
   "execution_count": 13,
   "metadata": {},
   "outputs": [
    {
     "name": "stdout",
     "output_type": "stream",
     "text": [
      "147\n"
     ]
    }
   ],
   "source": [
    "ids = list(set(df_all['sid']))\n",
    "N = len(ids)\n",
    "print N"
   ]
  },
  {
   "cell_type": "markdown",
   "metadata": {},
   "source": [
    "Note that students with state data in Capacitors are simply not being parsed."
   ]
  },
  {
   "cell_type": "code",
   "execution_count": 14,
   "metadata": {
    "scrolled": false
   },
   "outputs": [
    {
     "name": "stderr",
     "output_type": "stream",
     "text": [
      "utils_timeline_viz.py:96: FutureWarning: read_table is deprecated, use read_csv instead.\n",
      "  df = pd.read_table(parsing_file, sep='\\t')\n",
      "C:\\Users\\Sarah\\Anaconda2\\lib\\site-packages\\pandas\\core\\indexing.py:543: SettingWithCopyWarning: \n",
      "A value is trying to be set on a copy of a slice from a DataFrame.\n",
      "Try using .loc[row_indexer,col_indexer] = value instead\n",
      "\n",
      "See the caveats in the documentation: http://pandas.pydata.org/pandas-docs/stable/indexing.html#indexing-view-versus-copy\n",
      "  self.obj[item] = s\n"
     ]
    },
    {
     "name": "stdout",
     "output_type": "stream",
     "text": [
      "Student 23836160 has no state data so using special parser\n",
      "Student 41947147 has no state data so using special parser\n",
      "Student 11612162 has no state data so using special parser\n",
      "Student 64006159 has no state data so using special parser\n",
      "Student 85915167 has no state data so using special parser\n",
      "Student 11929166 has no state data so using special parser\n",
      "Student 24511163 has no state data so using special parser\n",
      "Student 27451164 has no state data so using special parser\n",
      "Student 90447168 has no state data so using special parser\n",
      "Student 15055169 has no state data so using special parser\n",
      "Student 46792161 has no state data so using special parser\n",
      "Student 24566161 has no state data so using special parser\n",
      "Student 77047160 has no state data so using special parser\n",
      "Student 82788161 has no state data so using special parser\n",
      "Wall time: 4min 48s\n"
     ]
    }
   ],
   "source": [
    "%%time\n",
    "all_seqs = {}\n",
    "for sim in ['capacitor','beers']:\n",
    "    all_seqs[sim] = {}\n",
    "    for student in ids:\n",
    "        files = log_files_per_sim[sim][student]\n",
    "        files.sort() #sorts log by date and time\n",
    "        seq = Sequence([],sid=student,sim=sim, timecoords=[])\n",
    "        for f in files:\n",
    "            df = prep_parsing_data(f) #removes model events, adds pauses with threshold of 9s\n",
    "            df = df[df['Event']!='dragged'] #remove drag events, keep dragStart and dragEnded\n",
    "            if df.empty:\n",
    "                continue\n",
    "            else:\n",
    "                df['Sequence Action'] = df.apply(converter, args=([rules_as_dict[sim]]), axis=1)\n",
    "                if sim=='capacitor' and df['Charge'].isnull().values.any():\n",
    "                    print \"Student {0} has no state data so using special parser\".format(student)\n",
    "                    df['Sequence Action'] = df.apply(converter, args=([rules_as_dict[sim+'_without_state']]), axis=1)\n",
    "                if df[df['Sequence Action']=='no_match_found'].empty and df['Sequence Action'].isnull().values.any() == False:\n",
    "                    pass\n",
    "                else:\n",
    "                    print \"Lack of matches:\", df[df['Sequence Action']=='no_match_found']\n",
    "                    print \"NA events:\", df[df['Sequence Action'].isnull()].head(1)\n",
    "                    raise ValueError(\"some events were not parsed\")\n",
    "            seq.extend_seq(list(df['Sequence Action']))\n",
    "            seq.extend_timecoords(list(df['Time']))\n",
    "        all_seqs[sim][student] = seq"
   ]
  },
  {
   "cell_type": "markdown",
   "metadata": {},
   "source": [
    "## Export parsed sequences"
   ]
  },
  {
   "cell_type": "code",
   "execution_count": 22,
   "metadata": {},
   "outputs": [],
   "source": [
    "import pickle\n",
    "#create files\n",
    "pickle_out_seqs = open(os.path.join(BIG_FOLDER,'all_massaged_data\\\\dict_by_sim_by_student_parsed_seqs.txt'),\"wb\")\n",
    "#dump data\n",
    "pickle.dump(all_seqs, pickle_out_seqs)\n",
    "#close files\n",
    "pickle_out_seqs.close()"
   ]
  }
 ],
 "metadata": {
  "anaconda-cloud": {},
  "kernelspec": {
   "display_name": "Python 2",
   "language": "python",
   "name": "python2"
  },
  "language_info": {
   "codemirror_mode": {
    "name": "ipython",
    "version": 2
   },
   "file_extension": ".py",
   "mimetype": "text/x-python",
   "name": "python",
   "nbconvert_exporter": "python",
   "pygments_lexer": "ipython2",
   "version": "2.7.16"
  },
  "toc": {
   "base_numbering": 1,
   "nav_menu": {},
   "number_sections": true,
   "sideBar": false,
   "skip_h1_title": false,
   "title_cell": "Table of Contents",
   "title_sidebar": "Contents",
   "toc_cell": false,
   "toc_position": {},
   "toc_section_display": "block",
   "toc_window_display": false
  }
 },
 "nbformat": 4,
 "nbformat_minor": 1
}
