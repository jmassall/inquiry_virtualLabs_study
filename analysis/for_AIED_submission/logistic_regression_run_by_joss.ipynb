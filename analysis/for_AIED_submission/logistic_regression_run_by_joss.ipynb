{
 "cells": [
  {
   "cell_type": "markdown",
   "metadata": {},
   "source": [
    "Load libraries"
   ]
  },
  {
   "cell_type": "code",
   "execution_count": null,
   "metadata": {
    "collapsed": false
   },
   "outputs": [],
   "source": [
    "require(ggplot2)\n",
    "#require(GGally)\n",
    "require(reshape2)\n",
    "require(lme4)\n",
    "require(compiler)\n",
    "require(parallel)\n",
    "require(boot)\n",
    "require(aod)\n",
    "require(dplyr)"
   ]
  },
  {
   "cell_type": "markdown",
   "metadata": {},
   "source": [
    "Load data and set factors\n",
    "\n",
    "Model is\n",
    "\n",
    "CVS_graph_3 ~ ~ pre + variable + sim_index +level_experience_sims + experience_undergrad_labs + used_similar_sim + sid\n",
    "\n",
    "with sid as the student id (8 digit number)\n",
    "\n",
    "All the variables are quantitative except for \"variable\""
   ]
  },
  {
   "cell_type": "code",
   "execution_count": 2,
   "metadata": {
    "collapsed": false
   },
   "outputs": [],
   "source": [
    "mydata <- read.csv(\"dataframe_all_factors_by_student_x_variable.csv\")\n",
    "\n",
    "# SID is the student number\n",
    "mydata$sid <- factor(mydata$sid)\n",
    "\n",
    "mydata$sim_index <- factor(mydata$sim_index)\n",
    "mydata$experience_undergrad_labs <- factor(mydata$experience_undergrad_labs)\n",
    "mydata$used_similar_sim <- factor(mydata$used_similar_sim)"
   ]
  },
  {
   "cell_type": "markdown",
   "metadata": {},
   "source": [
    "Mixed effects with sid as random effects"
   ]
  },
  {
   "cell_type": "code",
   "execution_count": 3,
   "metadata": {
    "collapsed": false
   },
   "outputs": [
    {
     "data": {
      "text/plain": [
       "Generalized linear mixed model fit by maximum likelihood (Adaptive\n",
       "  Gauss-Hermite Quadrature, nAGQ = 10) [glmerMod]\n",
       " Family: binomial  ( logit )\n",
       "Formula: CVS_graph_3 ~ pre + variable + sim_index + level_experience_sims +  \n",
       "    experience_undergrad_labs + used_similar_sim + (1 | sid)\n",
       "   Data: mydata\n",
       "Control: glmerControl(optimizer = \"bobyqa\")\n",
       "\n",
       "     AIC      BIC   logLik deviance df.resid \n",
       "   602.2    646.0   -291.1    582.2      582 \n",
       "\n",
       "Scaled residuals: \n",
       "     Min       1Q   Median       3Q      Max \n",
       "-2.21105 -0.33117 -0.08023  0.33416  2.89075 \n",
       "\n",
       "Random effects:\n",
       " Groups Name        Variance Std.Dev.\n",
       " sid    (Intercept) 10.8     3.286   \n",
       "Number of obs: 592, groups:  sid, 148\n",
       "\n",
       "Fixed effects:\n",
       "                           Estimate Std. Error z value Pr(>|z|)    \n",
       "(Intercept)                 -6.3042     1.3581  -4.642 3.45e-06 ***\n",
       "pre                          0.3646     0.2030   1.796  0.07251 .  \n",
       "variableConcentration        0.7779     0.4106   1.895  0.05815 .  \n",
       "variableSeparation          -0.1051     0.3739  -0.281  0.77872    \n",
       "variableWidth                0.3608     0.4041   0.893  0.37193    \n",
       "sim_index2                   1.2773     0.2914   4.383 1.17e-05 ***\n",
       "level_experience_sims        0.3473     0.3827   0.908  0.36406    \n",
       "experience_undergrad_labs1   4.3636     1.3705   3.184  0.00145 ** \n",
       "used_similar_sim1           -0.2993     0.4660  -0.642  0.52077    \n",
       "---\n",
       "Signif. codes:  0 '***' 0.001 '**' 0.01 '*' 0.05 '.' 0.1 ' ' 1\n",
       "\n",
       "Correlation of Fixed Effects:\n",
       "            (Intr) pre    vrblCn vrblSp vrblWd sm_nd2 lvl_x_ exp__1\n",
       "pre         -0.208                                                 \n",
       "vrblCncntrt -0.237 -0.088                                          \n",
       "variblSprtn -0.121 -0.056  0.459                                   \n",
       "variablWdth -0.224  0.063  0.574  0.460                            \n",
       "sim_index2  -0.271  0.013  0.163 -0.005  0.125                     \n",
       "lvl_xprnc_s -0.185 -0.065  0.044 -0.001  0.024  0.024              \n",
       "exprnc_nd_1 -0.788  0.055  0.089 -0.005  0.063  0.125 -0.345       \n",
       "usd_smlr_s1  0.079  0.096 -0.334 -0.007 -0.311  0.008 -0.126 -0.065"
      ]
     },
     "metadata": {},
     "output_type": "display_data"
    }
   ],
   "source": [
    "mixed <- glmer(\n",
    "    CVS_graph_3 \n",
    "    ~ pre + variable + sim_index +level_experience_sims \n",
    "    + experience_undergrad_labs + used_similar_sim + (1 | sid),\n",
    "           data = mydata, family = binomial, \n",
    "           control = glmerControl(optimizer = \"bobyqa\"), nAGQ = 10)\n",
    "\n",
    "summary(mixed)\n"
   ]
  },
  {
   "cell_type": "markdown",
   "metadata": {},
   "source": [
    "Fixed effects, excluding sid"
   ]
  },
  {
   "cell_type": "code",
   "execution_count": 4,
   "metadata": {
    "collapsed": false
   },
   "outputs": [
    {
     "data": {
      "text/plain": [
       "\n",
       "Call:\n",
       "glm(formula = CVS_graph_3 ~ pre + variable + sim_index + level_experience_sims + \n",
       "    experience_undergrad_labs + used_similar_sim, family = binomial, \n",
       "    data = mydata)\n",
       "\n",
       "Deviance Residuals: \n",
       "   Min      1Q  Median      3Q     Max  \n",
       "-1.663  -1.094  -0.430   1.118   2.260  \n",
       "\n",
       "Coefficients:\n",
       "                           Estimate Std. Error z value Pr(>|z|)    \n",
       "(Intercept)                -2.97958    0.47210  -6.311 2.77e-10 ***\n",
       "pre                         0.24228    0.10847   2.234   0.0255 *  \n",
       "variableConcentration       0.26373    0.25301   1.042   0.2972    \n",
       "variableSeparation         -0.04500    0.24587  -0.183   0.8548    \n",
       "variableWidth               0.08684    0.25361   0.342   0.7320    \n",
       "sim_index2                  0.54628    0.17498   3.122   0.0018 ** \n",
       "level_experience_sims       0.16072    0.10415   1.543   0.1228    \n",
       "experience_undergrad_labs1  2.00809    0.42909   4.680 2.87e-06 ***\n",
       "used_similar_sim1           0.04546    0.22500   0.202   0.8399    \n",
       "---\n",
       "Signif. codes:  0 '***' 0.001 '**' 0.01 '*' 0.05 '.' 0.1 ' ' 1\n",
       "\n",
       "(Dispersion parameter for binomial family taken to be 1)\n",
       "\n",
       "    Null deviance: 815.75  on 591  degrees of freedom\n",
       "Residual deviance: 750.69  on 583  degrees of freedom\n",
       "AIC: 768.69\n",
       "\n",
       "Number of Fisher Scoring iterations: 4\n"
      ]
     },
     "metadata": {},
     "output_type": "display_data"
    }
   ],
   "source": [
    "fixed_noSID <- glm(\n",
    "    CVS_graph_3 \n",
    "    ~ pre + variable + sim_index +level_experience_sims \n",
    "    + experience_undergrad_labs + used_similar_sim,\n",
    "           data = mydata, family = binomial \n",
    "           )\n",
    "\n",
    "summary(fixed_noSID)"
   ]
  },
  {
   "cell_type": "markdown",
   "metadata": {},
   "source": [
    "A bunch of relevels"
   ]
  },
  {
   "cell_type": "code",
   "execution_count": 7,
   "metadata": {
    "collapsed": false
   },
   "outputs": [
    {
     "data": {
      "text/plain": [
       "Generalized linear mixed model fit by maximum likelihood (Adaptive\n",
       "  Gauss-Hermite Quadrature, nAGQ = 10) [glmerMod]\n",
       " Family: binomial  ( logit )\n",
       "Formula: CVS_graph_3 ~ pre + variable + sim_index + level_experience_sims +  \n",
       "    experience_undergrad_labs + used_similar_sim + (1 | sid)\n",
       "   Data: mydata\n",
       "Control: glmerControl(optimizer = \"bobyqa\")\n",
       "\n",
       "     AIC      BIC   logLik deviance df.resid \n",
       "   602.2    646.0   -291.1    582.2      582 \n",
       "\n",
       "Scaled residuals: \n",
       "     Min       1Q   Median       3Q      Max \n",
       "-2.21105 -0.33117 -0.08023  0.33416  2.89075 \n",
       "\n",
       "Random effects:\n",
       " Groups Name        Variance Std.Dev.\n",
       " sid    (Intercept) 10.8     3.286   \n",
       "Number of obs: 592, groups:  sid, 148\n",
       "\n",
       "Fixed effects:\n",
       "                           Estimate Std. Error z value Pr(>|z|)    \n",
       "(Intercept)                 -5.5263     1.3224  -4.179 2.93e-05 ***\n",
       "pre                          0.3646     0.2030   1.796  0.07251 .  \n",
       "variableArea                -0.7779     0.4106  -1.895  0.05815 .  \n",
       "variableSeparation          -0.8830     0.4093  -2.157  0.03097 *  \n",
       "variableWidth               -0.4171     0.3759  -1.109  0.26728    \n",
       "sim_index2                   1.2773     0.2914   4.383 1.17e-05 ***\n",
       "level_experience_sims        0.3473     0.3827   0.908  0.36406    \n",
       "experience_undergrad_labs1   4.3636     1.3706   3.184  0.00145 ** \n",
       "used_similar_sim1           -0.2993     0.4660  -0.642  0.52077    \n",
       "---\n",
       "Signif. codes:  0 '***' 0.001 '**' 0.01 '*' 0.05 '.' 0.1 ' ' 1\n",
       "\n",
       "Correlation of Fixed Effects:\n",
       "            (Intr) pre    vrblAr vrblSp vrblWd sm_nd2 lvl_x_ exp__1\n",
       "pre         -0.241                                                 \n",
       "variableAre -0.067  0.088                                          \n",
       "variblSprtn -0.051  0.037  0.584                                   \n",
       "variablWdth -0.129  0.164  0.475  0.470                            \n",
       "sim_index2  -0.228  0.013 -0.163 -0.168 -0.043                     \n",
       "lvl_xprnc_s -0.176 -0.065 -0.044 -0.046 -0.023  0.024              \n",
       "exprnc_nd_1 -0.782  0.055 -0.089 -0.093 -0.029  0.125 -0.345       \n",
       "usd_smlr_s1 -0.023  0.096  0.334  0.329  0.030  0.008 -0.126 -0.065"
      ]
     },
     "metadata": {},
     "output_type": "display_data"
    }
   ],
   "source": [
    "mydata$variable <- relevel(mydata$variable, \"Concentration\")\n",
    "\n",
    "mixed <- glmer(\n",
    "    CVS_graph_3 \n",
    "    ~ pre + variable + sim_index +level_experience_sims \n",
    "    + experience_undergrad_labs + used_similar_sim + (1 | sid),\n",
    "           data = mydata, family = binomial, \n",
    "           control = glmerControl(optimizer = \"bobyqa\"), nAGQ = 10)\n",
    "\n",
    "summary(mixed)"
   ]
  },
  {
   "cell_type": "code",
   "execution_count": 8,
   "metadata": {
    "collapsed": false
   },
   "outputs": [
    {
     "data": {
      "text/plain": [
       "Generalized linear mixed model fit by maximum likelihood (Adaptive\n",
       "  Gauss-Hermite Quadrature, nAGQ = 10) [glmerMod]\n",
       " Family: binomial  ( logit )\n",
       "Formula: CVS_graph_3 ~ pre + variable + sim_index + level_experience_sims +  \n",
       "    experience_undergrad_labs + used_similar_sim + (1 | sid)\n",
       "   Data: mydata\n",
       "Control: glmerControl(optimizer = \"bobyqa\")\n",
       "\n",
       "     AIC      BIC   logLik deviance df.resid \n",
       "   602.2    646.0   -291.1    582.2      582 \n",
       "\n",
       "Scaled residuals: \n",
       "     Min       1Q   Median       3Q      Max \n",
       "-2.21105 -0.33117 -0.08023  0.33416  2.89075 \n",
       "\n",
       "Random effects:\n",
       " Groups Name        Variance Std.Dev.\n",
       " sid    (Intercept) 10.8     3.286   \n",
       "Number of obs: 592, groups:  sid, 148\n",
       "\n",
       "Fixed effects:\n",
       "                           Estimate Std. Error z value Pr(>|z|)    \n",
       "(Intercept)                 -6.4092     1.3643  -4.698 2.63e-06 ***\n",
       "pre                          0.3646     0.2030   1.796  0.07251 .  \n",
       "variableConcentration        0.8830     0.4093   2.157  0.03097 *  \n",
       "variableArea                 0.1051     0.3739   0.281  0.77872    \n",
       "variableWidth                0.4659     0.4053   1.150  0.25030    \n",
       "sim_index2                   1.2773     0.2914   4.383 1.17e-05 ***\n",
       "level_experience_sims        0.3473     0.3827   0.908  0.36406    \n",
       "experience_undergrad_labs1   4.3636     1.3705   3.184  0.00145 ** \n",
       "used_similar_sim1           -0.2993     0.4660  -0.642  0.52077    \n",
       "---\n",
       "Signif. codes:  0 '***' 0.001 '**' 0.01 '*' 0.05 '.' 0.1 ' ' 1\n",
       "\n",
       "Correlation of Fixed Effects:\n",
       "            (Intr) pre    vrblCn vrblAr vrblWd sm_nd2 lvl_x_ exp__1\n",
       "pre         -0.222                                                 \n",
       "vrblCncntrt -0.251 -0.037                                          \n",
       "variableAre -0.154  0.056  0.453                                   \n",
       "variablWdth -0.239  0.115  0.574  0.464                            \n",
       "sim_index2  -0.271  0.013  0.168  0.005  0.130                     \n",
       "lvl_xprnc_s -0.184 -0.065  0.046  0.001  0.025  0.024              \n",
       "exprnc_nd_1 -0.786  0.055  0.093  0.005  0.067  0.125 -0.345       \n",
       "usd_smlr_s1  0.077  0.096 -0.329  0.007 -0.304  0.008 -0.126 -0.065"
      ]
     },
     "metadata": {},
     "output_type": "display_data"
    }
   ],
   "source": [
    "mydata$variable <- relevel(mydata$variable, \"Separation\")\n",
    "\n",
    "mixed <- glmer(\n",
    "    CVS_graph_3 \n",
    "    ~ pre + variable + sim_index +level_experience_sims \n",
    "    + experience_undergrad_labs + used_similar_sim + (1 | sid),\n",
    "           data = mydata, family = binomial, \n",
    "           control = glmerControl(optimizer = \"bobyqa\"), nAGQ = 10)\n",
    "\n",
    "summary(mixed)"
   ]
  },
  {
   "cell_type": "code",
   "execution_count": 9,
   "metadata": {
    "collapsed": false
   },
   "outputs": [
    {
     "data": {
      "text/plain": [
       "Generalized linear mixed model fit by maximum likelihood (Adaptive\n",
       "  Gauss-Hermite Quadrature, nAGQ = 10) [glmerMod]\n",
       " Family: binomial  ( logit )\n",
       "Formula: CVS_graph_3 ~ pre + variable + sim_index + level_experience_sims +  \n",
       "    experience_undergrad_labs + used_similar_sim + (1 | sid)\n",
       "   Data: mydata\n",
       "Control: glmerControl(optimizer = \"bobyqa\")\n",
       "\n",
       "     AIC      BIC   logLik deviance df.resid \n",
       "   602.2    646.0   -291.1    582.2      582 \n",
       "\n",
       "Scaled residuals: \n",
       "     Min       1Q   Median       3Q      Max \n",
       "-2.21105 -0.33117 -0.08023  0.33416  2.89075 \n",
       "\n",
       "Random effects:\n",
       " Groups Name        Variance Std.Dev.\n",
       " sid    (Intercept) 10.8     3.286   \n",
       "Number of obs: 592, groups:  sid, 148\n",
       "\n",
       "Fixed effects:\n",
       "                           Estimate Std. Error z value Pr(>|z|)    \n",
       "(Intercept)                 -5.9433     1.3272  -4.478 7.53e-06 ***\n",
       "pre                          0.3646     0.2030   1.796  0.07251 .  \n",
       "variableSeparation          -0.4659     0.4053  -1.150  0.25030    \n",
       "variableConcentration        0.4171     0.3759   1.109  0.26728    \n",
       "variableArea                -0.3608     0.4041  -0.893  0.37193    \n",
       "sim_index2                   1.2773     0.2914   4.383 1.17e-05 ***\n",
       "level_experience_sims        0.3473     0.3827   0.908  0.36406    \n",
       "experience_undergrad_labs1   4.3636     1.3706   3.184  0.00145 ** \n",
       "used_similar_sim1           -0.2993     0.4660  -0.642  0.52077    \n",
       "---\n",
       "Signif. codes:  0 '***' 0.001 '**' 0.01 '*' 0.05 '.' 0.1 ' ' 1\n",
       "\n",
       "Correlation of Fixed Effects:\n",
       "            (Intr) pre    vrblSp vrblCn vrblAr sm_nd2 lvl_x_ exp__1\n",
       "pre         -0.193                                                 \n",
       "variblSprtn -0.060 -0.115                                          \n",
       "vrblCncntrt -0.154 -0.164  0.453                                   \n",
       "variableAre -0.075 -0.063  0.573  0.448                            \n",
       "sim_index2  -0.239  0.013 -0.130  0.043 -0.125                     \n",
       "lvl_xprnc_s -0.182 -0.065 -0.025  0.023 -0.024  0.024              \n",
       "exprnc_nd_1 -0.788  0.055 -0.067  0.029 -0.063  0.125 -0.345       \n",
       "usd_smlr_s1 -0.014  0.096  0.304 -0.030  0.311  0.008 -0.126 -0.065"
      ]
     },
     "metadata": {},
     "output_type": "display_data"
    }
   ],
   "source": [
    "mydata$variable <- relevel(mydata$variable, \"Width\")\n",
    "\n",
    "mixed <- glmer(\n",
    "    CVS_graph_3 \n",
    "    ~ pre + variable + sim_index +level_experience_sims \n",
    "    + experience_undergrad_labs + used_similar_sim + (1 | sid),\n",
    "           data = mydata, family = binomial, \n",
    "           control = glmerControl(optimizer = \"bobyqa\"), nAGQ = 10)\n",
    "\n",
    "summary(mixed)"
   ]
  }
 ],
 "metadata": {
  "kernelspec": {
   "display_name": "R",
   "language": "R",
   "name": "ir"
  },
  "language_info": {
   "codemirror_mode": "r",
   "file_extension": ".r",
   "mimetype": "text/x-r-source",
   "name": "R",
   "pygments_lexer": "r",
   "version": "3.2.3"
  }
 },
 "nbformat": 4,
 "nbformat_minor": 0
}
