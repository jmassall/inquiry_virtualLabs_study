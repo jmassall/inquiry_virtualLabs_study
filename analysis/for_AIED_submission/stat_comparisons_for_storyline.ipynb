{
 "cells": [
  {
   "cell_type": "code",
   "execution_count": 1,
   "metadata": {
    "collapsed": false,
    "hideCode": false,
    "hidePrompt": true
   },
   "outputs": [
    {
     "data": {
      "text/html": [
       "<script>jQuery(function() {if (jQuery(\"body.notebook_app\").length == 0) { jQuery(\".input_area\").toggle(); jQuery(\".prompt\").toggle();}});</script>"
      ]
     },
     "metadata": {},
     "output_type": "display_data"
    }
   ],
   "source": [
    "from IPython.display import display\n",
    "from IPython.display import HTML\n",
    "import IPython.core.display as di\n",
    "\n",
    "# This line will hide code by default when the notebook is exported as HTML\n",
    "di.display_html('<script>jQuery(function() {if (jQuery(\"body.notebook_app\").length == 0) { jQuery(\".input_area\").toggle(); jQuery(\".prompt\").toggle();}});</script>', raw=True)"
   ]
  },
  {
   "cell_type": "code",
   "execution_count": 2,
   "metadata": {
    "collapsed": false,
    "hideCode": false,
    "hidePrompt": true
   },
   "outputs": [
    {
     "name": "stderr",
     "output_type": "stream",
     "text": [
      "d:\\applications\\anaconda2\\lib\\site-packages\\statsmodels\\compat\\pandas.py:56: FutureWarning: The pandas.core.datetools module is deprecated and will be removed in a future version. Please use the pandas.tseries module instead.\n",
      "  from pandas.core import datetools\n"
     ]
    }
   ],
   "source": [
    "%load_ext autoreload\n",
    "%autoreload 1\n",
    "%aimport utils_read_parsing\n",
    "from utils_timeline_viz import *\n",
    "from utils_read_parsing import *\n",
    "import matplotlib.pyplot as plt\n",
    "from tabulate import tabulate\n",
    "from scipy.stats import mannwhitneyu\n",
    "import seaborn as sns\n",
    "import statsmodels.api as sm\n",
    "pd.set_option(\"display.width\", 100)\n",
    "import matplotlib.pyplot as plt\n",
    "from statsmodels.formula.api import ols\n",
    "from statsmodels.graphics.api import interaction_plot, abline_plot\n",
    "from statsmodels.stats.anova import anova_lm\n",
    "from statsmodels.discrete.discrete_model import Logit\n",
    "%matplotlib inline\n",
    "matplotlib.style.use('ggplot')\n",
    "matplotlib.rcParams['figure.figsize'] = 8, 6\n",
    "pd.set_option('precision',3)\n",
    "np.set_printoptions(precision=3,suppress=True)"
   ]
  },
  {
   "cell_type": "code",
   "execution_count": 3,
   "metadata": {
    "collapsed": true,
    "hideCode": false,
    "hidePrompt": true
   },
   "outputs": [],
   "source": [
    "t = [['student','variable','pre','post','index','sim','CVS table','CVS graph']]\n",
    "t.append(['s1','v1','1.0','2.333','1','L','Yes','No'])\n",
    "t.append(['s1','v2','...','...','1','L','Yes','Yes'])\n",
    "t.append(['s1','v3','...','...','2','C','No','No'])\n",
    "t.append(['s1','v4','...','...','2','C','Yes','No'])\n",
    "# print tabulate(t)"
   ]
  },
  {
   "cell_type": "code",
   "execution_count": 4,
   "metadata": {
    "collapsed": true,
    "hideCode": false,
    "hidePrompt": true
   },
   "outputs": [],
   "source": [
    "table_cvs_df = pd.read_csv('table_cvs_results.txt', sep='\\t')\n",
    "graph_cvs_df = pd.read_csv('graph_cvs_results.txt', sep='\\t')"
   ]
  },
  {
   "cell_type": "code",
   "execution_count": 5,
   "metadata": {
    "collapsed": true,
    "hideCode": false,
    "hidePrompt": true
   },
   "outputs": [],
   "source": [
    "metadf = get_student_metadata()\n",
    "order = dict(zip(metadf.index,metadf['activity order']))\n",
    "graph_cvs_df['activity order'] = graph_cvs_df.studentid.apply(lambda sid: order[sid])\n",
    "table_cvs_df['activity order'] = table_cvs_df.studentid.apply(lambda sid: order[sid])"
   ]
  },
  {
   "cell_type": "code",
   "execution_count": 6,
   "metadata": {
    "collapsed": true,
    "hideCode": false,
    "hidePrompt": true
   },
   "outputs": [],
   "source": [
    "variables = [\"Area\",\"Separation\",\"Width\",\"Concentration\",\"Wavelength\",\"Battery voltage\"]\n",
    "\n",
    "def binarize(number):\n",
    "    if number>0 : return 1\n",
    "    else: return 0\n",
    "\n",
    "graph_cvs_df2 = graph_cvs_df.copy()\n",
    "for v in variables:\n",
    "    graph_cvs_df2[v] = graph_cvs_df.apply(lambda row: binarize(row[v]), axis=1)\n",
    "\n",
    "table_cvs_df2 = table_cvs_df.copy()\n",
    "for v in variables:\n",
    "    table_cvs_df2[v] = table_cvs_df.apply(lambda row: binarize(row[v]), axis=1)\n",
    "\n",
    "graph_cvs_df2['sum'] = graph_cvs_df2[variables].sum(axis=1)\n",
    "table_cvs_df2['sum'] = table_cvs_df2[variables].sum(axis=1)\n",
    "\n",
    "table_cvs_df2['sum caps'] = table_cvs_df2[['Area','Separation']].sum(axis=1)\n",
    "table_cvs_df2['sum light'] = table_cvs_df2[[\"Width\",\"Concentration\"]].sum(axis=1)\n",
    "\n",
    "graph_cvs_df2['sum caps'] = graph_cvs_df2[['Area','Separation']].sum(axis=1)\n",
    "graph_cvs_df2['sum light'] = graph_cvs_df2[[\"Width\",\"Concentration\"]].sum(axis=1)\n",
    "# table_cvs_df2.head()"
   ]
  },
  {
   "cell_type": "code",
   "execution_count": 7,
   "metadata": {
    "collapsed": true,
    "hideCode": true,
    "hidePrompt": true
   },
   "outputs": [],
   "source": [
    "table_intervals_df = pd.read_csv('table_intervals_results.txt', sep='\\t')"
   ]
  },
  {
   "cell_type": "code",
   "execution_count": 8,
   "metadata": {
    "collapsed": true,
    "hideCode": true,
    "hidePrompt": true
   },
   "outputs": [],
   "source": [
    "%reload_ext utils_read_parsing\n",
    "#grab worksheet data\n",
    "worksheets = get_worksheet_metadata('beers')\n",
    "pre = get_pre_worksheet(sim='beers')\n",
    "main = get_main_worksheet(sim='beers')\n",
    "\n",
    "ids = get_students_to_analyze_log_worksheets('beers')\n",
    "pre= pre[pre['Student ID'].isin(worksheets[(worksheets['Type']=='p')&worksheets['Student ID'].isin(ids)]['other id'].values)]\n",
    "main= main[main['Student ID'].isin(worksheets[(worksheets['Type']=='m')&worksheets['Student ID'].isin(ids)]['other id'].values)]\n",
    "\n",
    "#ids in pre/post match \"other id\" in worksheet metdata so we need to assign the correct id in logs for each entry in pre/post\n",
    "pre['sid'] = pre['Student ID'].apply(lambda row: worksheets.loc[worksheets[(worksheets['other id']==row)].index[0],'Student ID'])\n",
    "main['sid'] = main['Student ID'].apply(lambda row: worksheets.loc[worksheets[worksheets['other id']==row].index[0],'Student ID'])\n",
    "\n",
    "# print len(ids),len(pre),len(main)"
   ]
  },
  {
   "cell_type": "code",
   "execution_count": 9,
   "metadata": {
    "collapsed": true,
    "hideCode": true,
    "hidePrompt": true
   },
   "outputs": [],
   "source": [
    "## make desired table for beers\n",
    "melted_pre = pd.melt(pre, id_vars=['sid'], value_vars=['Concentration','Width'], var_name='variable',value_name='pre')\n",
    "melted_main = pd.melt(main, id_vars=['sid'], value_vars=['Concentration','Width'], var_name='variable',value_name='main')\n",
    "\n",
    "L_scores = melted_pre.merge(melted_main, on=['sid','variable'], how='outer')\n",
    "L_scores['sim'] = 'L'\n",
    "\n",
    "L_scores['CVS_table'] = L_scores.apply(lambda row: table_cvs_df2.loc[table_cvs_df2[table_cvs_df2['studentid']==row['sid']].index[0],row['variable']],axis=1)\n",
    "L_scores['CVS_graph'] = L_scores.apply(lambda row: graph_cvs_df2.loc[graph_cvs_df2[graph_cvs_df2['studentid']==row['sid']].index[0],row['variable']],axis=1)\n",
    "\n",
    "L_scores['sim_index'] = L_scores.apply(lambda row: table_cvs_df2.loc[table_cvs_df2[table_cvs_df2['studentid']==row['sid']].index[0],'activity order'].index(row['sim'])+1,axis=1)"
   ]
  },
  {
   "cell_type": "code",
   "execution_count": 10,
   "metadata": {
    "collapsed": true,
    "hideCode": true,
    "hidePrompt": true
   },
   "outputs": [],
   "source": [
    "# L_scores.sort_values('sid').head()"
   ]
  },
  {
   "cell_type": "code",
   "execution_count": 11,
   "metadata": {
    "collapsed": true,
    "hideCode": true,
    "hidePrompt": true
   },
   "outputs": [],
   "source": [
    "%reload_ext utils_read_parsing\n",
    "#grab worksheet data\n",
    "worksheets = get_worksheet_metadata('caps')\n",
    "pre = get_pre_worksheet(sim='caps')\n",
    "main = get_main_worksheet(sim='caps')\n",
    "\n",
    "ids = get_students_to_analyze_log_worksheets('caps')\n",
    "pre= pre[pre['Student ID'].isin(worksheets[(worksheets['Type']=='p')&worksheets['Student ID'].isin(ids)]['other id'].values)]\n",
    "main= main[main['Student ID'].isin(worksheets[(worksheets['Type']=='m')&worksheets['Student ID'].isin(ids)]['other id'].values)]\n",
    "\n",
    "#ids in pre/post match \"other id\" in worksheet metdata so we need to assign the correct id in logs for each entry in pre/post\n",
    "pre['sid'] = pre['Student ID'].apply(lambda row: worksheets.loc[worksheets[(worksheets['other id']==row)].index[0],'Student ID'])\n",
    "main['sid'] = main['Student ID'].apply(lambda row: worksheets.loc[worksheets[worksheets['other id']==row].index[0],'Student ID'])\n",
    "\n",
    "# print len(ids),len(pre),len(main)"
   ]
  },
  {
   "cell_type": "code",
   "execution_count": 12,
   "metadata": {
    "collapsed": true,
    "hideCode": true,
    "hidePrompt": true
   },
   "outputs": [],
   "source": [
    "## make desired table for caps\n",
    "melted_pre = pd.melt(pre, id_vars=['sid'], value_vars=['Area','Separation'], var_name='variable',value_name='pre')\n",
    "melted_main = pd.melt(main, id_vars=['sid'], value_vars=['Area','Separation'], var_name='variable',value_name='main')\n",
    "\n",
    "C_scores = melted_pre.merge(melted_main, on=['sid','variable'], how='outer')\n",
    "C_scores['sim'] = 'C'\n",
    "\n",
    "C_scores['CVS_table'] = C_scores.apply(lambda row: table_cvs_df2.loc[table_cvs_df2[table_cvs_df2['studentid']==row['sid']].index[0],row['variable']],axis=1)\n",
    "C_scores['CVS_graph'] = C_scores.apply(lambda row: graph_cvs_df2.loc[graph_cvs_df2[graph_cvs_df2['studentid']==row['sid']].index[0],row['variable']],axis=1)\n",
    "\n",
    "C_scores['sim_index'] = C_scores.apply(lambda row: table_cvs_df2.loc[table_cvs_df2[table_cvs_df2['studentid']==row['sid']].index[0],'activity order'].index(row['sim'])+1,axis=1)"
   ]
  },
  {
   "cell_type": "markdown",
   "metadata": {},
   "source": [
    "# This is what the data looks like"
   ]
  },
  {
   "cell_type": "code",
   "execution_count": 13,
   "metadata": {
    "collapsed": false,
    "hideCode": true,
    "hidePrompt": true
   },
   "outputs": [
    {
     "data": {
      "text/html": [
       "<div>\n",
       "<style>\n",
       "    .dataframe thead tr:only-child th {\n",
       "        text-align: right;\n",
       "    }\n",
       "\n",
       "    .dataframe thead th {\n",
       "        text-align: left;\n",
       "    }\n",
       "\n",
       "    .dataframe tbody tr th {\n",
       "        vertical-align: top;\n",
       "    }\n",
       "</style>\n",
       "<table border=\"1\" class=\"dataframe\">\n",
       "  <thead>\n",
       "    <tr style=\"text-align: right;\">\n",
       "      <th></th>\n",
       "      <th>sid</th>\n",
       "      <th>variable</th>\n",
       "      <th>pre</th>\n",
       "      <th>main</th>\n",
       "      <th>sim</th>\n",
       "      <th>CVS_table</th>\n",
       "      <th>CVS_graph</th>\n",
       "      <th>sim_index</th>\n",
       "      <th>intervals_in_table</th>\n",
       "      <th>CVS_table_only</th>\n",
       "    </tr>\n",
       "  </thead>\n",
       "  <tbody>\n",
       "    <tr>\n",
       "      <th>0</th>\n",
       "      <td>10127163</td>\n",
       "      <td>Concentration</td>\n",
       "      <td>1.0</td>\n",
       "      <td>3.0</td>\n",
       "      <td>L</td>\n",
       "      <td>1</td>\n",
       "      <td>1</td>\n",
       "      <td>1</td>\n",
       "      <td>True</td>\n",
       "      <td>0</td>\n",
       "    </tr>\n",
       "    <tr>\n",
       "      <th>148</th>\n",
       "      <td>10127163</td>\n",
       "      <td>Width</td>\n",
       "      <td>1.0</td>\n",
       "      <td>3.0</td>\n",
       "      <td>L</td>\n",
       "      <td>1</td>\n",
       "      <td>1</td>\n",
       "      <td>1</td>\n",
       "      <td>False</td>\n",
       "      <td>0</td>\n",
       "    </tr>\n",
       "    <tr>\n",
       "      <th>296</th>\n",
       "      <td>10127163</td>\n",
       "      <td>Area</td>\n",
       "      <td>3.0</td>\n",
       "      <td>3.0</td>\n",
       "      <td>C</td>\n",
       "      <td>1</td>\n",
       "      <td>1</td>\n",
       "      <td>2</td>\n",
       "      <td>False</td>\n",
       "      <td>0</td>\n",
       "    </tr>\n",
       "    <tr>\n",
       "      <th>444</th>\n",
       "      <td>10127163</td>\n",
       "      <td>Separation</td>\n",
       "      <td>3.0</td>\n",
       "      <td>3.0</td>\n",
       "      <td>C</td>\n",
       "      <td>1</td>\n",
       "      <td>1</td>\n",
       "      <td>2</td>\n",
       "      <td>False</td>\n",
       "      <td>0</td>\n",
       "    </tr>\n",
       "    <tr>\n",
       "      <th>538</th>\n",
       "      <td>10192168</td>\n",
       "      <td>Separation</td>\n",
       "      <td>1.0</td>\n",
       "      <td>2.0</td>\n",
       "      <td>C</td>\n",
       "      <td>1</td>\n",
       "      <td>1</td>\n",
       "      <td>1</td>\n",
       "      <td>False</td>\n",
       "      <td>0</td>\n",
       "    </tr>\n",
       "    <tr>\n",
       "      <th>96</th>\n",
       "      <td>10192168</td>\n",
       "      <td>Concentration</td>\n",
       "      <td>1.0</td>\n",
       "      <td>3.0</td>\n",
       "      <td>L</td>\n",
       "      <td>1</td>\n",
       "      <td>1</td>\n",
       "      <td>2</td>\n",
       "      <td>False</td>\n",
       "      <td>0</td>\n",
       "    </tr>\n",
       "    <tr>\n",
       "      <th>390</th>\n",
       "      <td>10192168</td>\n",
       "      <td>Area</td>\n",
       "      <td>1.0</td>\n",
       "      <td>2.0</td>\n",
       "      <td>C</td>\n",
       "      <td>1</td>\n",
       "      <td>0</td>\n",
       "      <td>1</td>\n",
       "      <td>False</td>\n",
       "      <td>1</td>\n",
       "    </tr>\n",
       "    <tr>\n",
       "      <th>244</th>\n",
       "      <td>10192168</td>\n",
       "      <td>Width</td>\n",
       "      <td>1.0</td>\n",
       "      <td>0.0</td>\n",
       "      <td>L</td>\n",
       "      <td>1</td>\n",
       "      <td>0</td>\n",
       "      <td>2</td>\n",
       "      <td>True</td>\n",
       "      <td>1</td>\n",
       "    </tr>\n",
       "    <tr>\n",
       "      <th>1</th>\n",
       "      <td>10232160</td>\n",
       "      <td>Concentration</td>\n",
       "      <td>1.0</td>\n",
       "      <td>1.0</td>\n",
       "      <td>L</td>\n",
       "      <td>1</td>\n",
       "      <td>1</td>\n",
       "      <td>1</td>\n",
       "      <td>False</td>\n",
       "      <td>0</td>\n",
       "    </tr>\n",
       "    <tr>\n",
       "      <th>149</th>\n",
       "      <td>10232160</td>\n",
       "      <td>Width</td>\n",
       "      <td>1.0</td>\n",
       "      <td>1.0</td>\n",
       "      <td>L</td>\n",
       "      <td>0</td>\n",
       "      <td>0</td>\n",
       "      <td>1</td>\n",
       "      <td>False</td>\n",
       "      <td>0</td>\n",
       "    </tr>\n",
       "    <tr>\n",
       "      <th>445</th>\n",
       "      <td>10232160</td>\n",
       "      <td>Separation</td>\n",
       "      <td>1.0</td>\n",
       "      <td>3.0</td>\n",
       "      <td>C</td>\n",
       "      <td>1</td>\n",
       "      <td>1</td>\n",
       "      <td>2</td>\n",
       "      <td>False</td>\n",
       "      <td>0</td>\n",
       "    </tr>\n",
       "    <tr>\n",
       "      <th>297</th>\n",
       "      <td>10232160</td>\n",
       "      <td>Area</td>\n",
       "      <td>1.0</td>\n",
       "      <td>3.0</td>\n",
       "      <td>C</td>\n",
       "      <td>1</td>\n",
       "      <td>1</td>\n",
       "      <td>2</td>\n",
       "      <td>True</td>\n",
       "      <td>0</td>\n",
       "    </tr>\n",
       "  </tbody>\n",
       "</table>\n",
       "</div>"
      ],
      "text/plain": [
       "          sid       variable  pre  main sim  CVS_table  CVS_graph  sim_index  intervals_in_table  \\\n",
       "0    10127163  Concentration  1.0   3.0   L          1          1          1                True   \n",
       "148  10127163          Width  1.0   3.0   L          1          1          1               False   \n",
       "296  10127163           Area  3.0   3.0   C          1          1          2               False   \n",
       "444  10127163     Separation  3.0   3.0   C          1          1          2               False   \n",
       "538  10192168     Separation  1.0   2.0   C          1          1          1               False   \n",
       "96   10192168  Concentration  1.0   3.0   L          1          1          2               False   \n",
       "390  10192168           Area  1.0   2.0   C          1          0          1               False   \n",
       "244  10192168          Width  1.0   0.0   L          1          0          2                True   \n",
       "1    10232160  Concentration  1.0   1.0   L          1          1          1               False   \n",
       "149  10232160          Width  1.0   1.0   L          0          0          1               False   \n",
       "445  10232160     Separation  1.0   3.0   C          1          1          2               False   \n",
       "297  10232160           Area  1.0   3.0   C          1          1          2                True   \n",
       "\n",
       "     CVS_table_only  \n",
       "0                 0  \n",
       "148               0  \n",
       "296               0  \n",
       "444               0  \n",
       "538               0  \n",
       "96                0  \n",
       "390               1  \n",
       "244               1  \n",
       "1                 0  \n",
       "149               0  \n",
       "445               0  \n",
       "297               0  "
      ]
     },
     "execution_count": 13,
     "metadata": {},
     "output_type": "execute_result"
    }
   ],
   "source": [
    "data = pd.concat([L_scores,C_scores])\n",
    "data['intervals_in_table'] = data.apply(lambda row: table_intervals_df.loc[table_intervals_df[table_intervals_df['studentid']==row['sid']].index[0],row['variable']],axis=1)\n",
    "data['CVS_table_only'] = data.apply(lambda row: row['CVS_table']*(1-row['CVS_graph']), axis = 1)\n",
    "data = data.reset_index(drop=True)\n",
    "data.sort_values('sid').head(12)"
   ]
  },
  {
   "cell_type": "code",
   "execution_count": 14,
   "metadata": {
    "collapsed": true,
    "hideCode": true,
    "hidePrompt": true
   },
   "outputs": [],
   "source": [
    "def eta_squared(aov):\n",
    "    aov['eta_sq'] = 'NaN'\n",
    "    aov['eta_sq'] = aov[:-1]['sum_sq']/sum(aov['sum_sq'])\n",
    "    return aov\n",
    " \n",
    "def omega_squared(aov):\n",
    "    mse = aov['sum_sq'][-1]/aov['df'][-1]\n",
    "    aov['omega_sq'] = 'NaN'\n",
    "    aov['omega_sq'] = (aov[:-1]['sum_sq']-(aov[:-1]['df']*mse))/(sum(aov['sum_sq'])+mse)\n",
    "    return aov\n",
    "\n",
    "def clean_summary(model):\n",
    "    lines = model.summary().as_text().split('\\n')\n",
    "    lines = [l for l in lines if 'C(sid)' not in l]\n",
    "    return '\\n'.join(lines)"
   ]
  },
  {
   "cell_type": "markdown",
   "metadata": {
    "hideCode": true,
    "hidePrompt": true
   },
   "source": [
    "# Investigating models for learning and CVS"
   ]
  },
  {
   "cell_type": "markdown",
   "metadata": {
    "hideCode": true,
    "hidePrompt": true
   },
   "source": [
    "Let's compare these models:\n",
    "* CVS graph by itself\n",
    "* CVS table by itself\n",
    "* CVS graph and table\n",
    "* CVS graph and table_only\n",
    "* CVS with three levels (graph, table, or neither)\n",
    "* data without instances of CVS graph to compare CVS table and neither\n",
    "\n",
    "Keep in mind that:\n",
    "* sid = student id\n",
    "* sim = Capacitance or Light absorbance\n",
    "* sim_index = activity order (1 or 2)\n",
    "\n",
    "C(\\*) simply insures that the variable is considered as a categorical variable.\n",
    "\n",
    "**IMPORTANT:** For each model, I show the table with the Anova results and then the linear model result. We get our p-value and effect size from the Anova table and we get our coefficient and confidence intervals from for that variable from the linear regressin results - not the p-value (right?)\n",
    "\n",
    "Also, for categorical variables with 2+ levels, the Anova table tells you weither that variable matters, the linear regression tells you how each level behaves."
   ]
  },
  {
   "cell_type": "markdown",
   "metadata": {},
   "source": [
    "## CVS graph by itself"
   ]
  },
  {
   "cell_type": "code",
   "execution_count": 15,
   "metadata": {
    "collapsed": false
   },
   "outputs": [
    {
     "name": "stdout",
     "output_type": "stream",
     "text": [
      "Model:  main ~ C(CVS_graph) + variable + pre + C(sim_index)*C(sim) + C(sid)\n",
      "\n",
      "Anova table using type 2 errors\n",
      "\n",
      "                      sum_sq     df       F     PR(>F)  eta_sq  omega_sq\n",
      "C(CVS_graph)           4.218    1.0  15.193  1.122e-04   0.016     0.015\n",
      "variable               2.351    3.0   2.823  3.847e-02   0.009     0.006\n",
      "C(sim_index)           3.731    1.0  13.440  2.766e-04   0.014     0.013\n",
      "C(sim)                 0.572    1.0   2.061  1.518e-01   0.002     0.001\n",
      "C(sid)               136.601  147.0   3.347  1.688e-22   0.504     0.353\n",
      "C(sim_index):C(sim)    0.964    1.0   3.473  6.307e-02   0.004     0.003\n",
      "pre                    0.950    1.0   3.422  6.502e-02   0.004     0.002\n",
      "Residual             121.600  438.0     NaN        NaN     NaN       NaN\n",
      "\n",
      "Here is the linear model with coefficients and confidence intervals (removed all the rows for student ids):\n",
      "\n",
      "                            OLS Regression Results                            \n",
      "==============================================================================\n",
      "Dep. Variable:                   main   R-squared:                       0.583\n",
      "Model:                            OLS   Adj. R-squared:                  0.437\n",
      "Method:                 Least Squares   F-statistic:                     3.994\n",
      "Date:                Fri, 19 Jan 2018   Prob (F-statistic):           7.11e-30\n",
      "Time:                        11:40:00   Log-Likelihood:                -371.51\n",
      "No. Observations:                 592   AIC:                             1051.\n",
      "Df Residuals:                     438   BIC:                             1726.\n",
      "Df Model:                         153                                         \n",
      "Covariance Type:            nonrobust                                         \n",
      "=================================================================================================\n",
      "                                    coef    std err          t      P>|t|      [0.025      0.975]\n",
      "-------------------------------------------------------------------------------------------------\n",
      "Intercept                         2.0216      0.077     26.336      0.000       1.871       2.172\n",
      "C(CVS_graph)[T.1]                 0.2881      0.074      3.898      0.000       0.143       0.433\n",
      "variable[T.Concentration]         0.2026      0.091      2.224      0.027       0.024       0.382\n",
      "variable[T.Separation]           -0.0983      0.061     -1.603      0.110      -0.219       0.022\n",
      "variable[T.Width]                 0.1583      0.090      1.759      0.079      -0.019       0.335\n",
      "C(sim_index)[T.2]                 0.6299      0.255      2.471      0.014       0.129       1.131\n",
      "C(sim)[T.L]                       0.3609      0.170      2.122      0.034       0.027       0.695\n",
      "C(sim_index)[T.2]:C(sim)[T.L]    -0.9309      0.500     -1.863      0.063      -1.913       0.051\n",
      "pre                               0.0646      0.035      1.850      0.065      -0.004       0.133\n",
      "==============================================================================\n",
      "Omnibus:                       83.227   Durbin-Watson:                   1.975\n",
      "Prob(Omnibus):                  0.000   Jarque-Bera (JB):              207.374\n",
      "Skew:                          -0.731   Prob(JB):                     9.32e-46\n",
      "Kurtosis:                       5.504   Cond. No.                     3.32e+16\n",
      "==============================================================================\n",
      "\n",
      "Warnings:\n",
      "[1] Standard Errors assume that the covariance matrix of the errors is correctly specified.\n",
      "[2] The smallest eigenvalue is 2.1e-30. This might indicate that there are\n",
      "strong multicollinearity problems or that the design matrix is singular.\n"
     ]
    }
   ],
   "source": [
    "formula = 'main ~ C(CVS_graph) + variable + pre + C(sim_index)*C(sim) + C(sid)'\n",
    "model = ols(formula, data).fit()\n",
    "print \"Model: \",formula\n",
    "aov_table = anova_lm(model, typ=2)\n",
    "eta_squared(aov_table)\n",
    "omega_squared(aov_table)\n",
    "print \"\\nAnova table using type 2 errors\\n\"\n",
    "print(aov_table)\n",
    "print \"\\nHere is the linear model with coefficients and confidence intervals (removed all the rows for student ids):\\n\"\n",
    "print clean_summary(model)"
   ]
  },
  {
   "cell_type": "markdown",
   "metadata": {},
   "source": [
    "## CVS table by itself"
   ]
  },
  {
   "cell_type": "code",
   "execution_count": 16,
   "metadata": {
    "collapsed": false
   },
   "outputs": [
    {
     "name": "stdout",
     "output_type": "stream",
     "text": [
      "Model:  main ~ C(CVS_table) + variable + pre + C(sim_index)*C(sim) + C(sid)\n",
      "\n",
      "Anova table using type 2 errors\n",
      "\n",
      "                      sum_sq     df       F     PR(>F)  eta_sq   omega_sq\n",
      "C(CVS_table)           2.667    1.0   9.485  2.202e-03   0.010  8.516e-03\n",
      "variable               2.865    3.0   3.397  1.785e-02   0.010  7.217e-03\n",
      "C(sim_index)           4.885    1.0  17.373  3.703e-05   0.017  1.643e-02\n",
      "C(sim)                 0.521    1.0   1.853  1.741e-01   0.002  8.562e-04\n",
      "C(sid)               143.664  147.0   3.476  7.230e-24   0.513  3.653e-01\n",
      "C(sim_index):C(sim)    1.341    1.0   4.768  2.953e-02   0.005  3.781e-03\n",
      "pre                    0.777    1.0   2.765  9.709e-02   0.003  1.771e-03\n",
      "Residual             123.151  438.0     NaN        NaN     NaN        NaN\n",
      "\n",
      "Here is the linear model with coefficients and confidence intervals (removed all the rows for student ids):\n",
      "\n",
      "                            OLS Regression Results                            \n",
      "==============================================================================\n",
      "Dep. Variable:                   main   R-squared:                       0.577\n",
      "Model:                            OLS   Adj. R-squared:                  0.429\n",
      "Method:                 Least Squares   F-statistic:                     3.908\n",
      "Date:                Fri, 19 Jan 2018   Prob (F-statistic):           5.75e-29\n",
      "Time:                        11:40:01   Log-Likelihood:                -375.26\n",
      "No. Observations:                 592   AIC:                             1059.\n",
      "Df Residuals:                     438   BIC:                             1734.\n",
      "Df Model:                         153                                         \n",
      "Covariance Type:            nonrobust                                         \n",
      "=================================================================================================\n",
      "                                    coef    std err          t      P>|t|      [0.025      0.975]\n",
      "-------------------------------------------------------------------------------------------------\n",
      "Intercept                         2.0124      0.082     24.585      0.000       1.852       2.173\n",
      "C(CVS_table)[T.1]                 0.2210      0.072      3.080      0.002       0.080       0.362\n",
      "variable[T.Concentration]         0.2346      0.091      2.581      0.010       0.056       0.413\n",
      "variable[T.Separation]           -0.0968      0.062     -1.568      0.118      -0.218       0.025\n",
      "variable[T.Width]                 0.1770      0.090      1.961      0.050      -0.000       0.354\n",
      "C(sim_index)[T.2]                 0.7288      0.254      2.872      0.004       0.230       1.228\n",
      "C(sim)[T.L]                       0.4116      0.170      2.421      0.016       0.077       0.746\n",
      "C(sim_index)[T.2]:C(sim)[T.L]    -1.0898      0.499     -2.184      0.030      -2.071      -0.109\n",
      "pre                               0.0588      0.035      1.663      0.097      -0.011       0.128\n",
      "==============================================================================\n",
      "Omnibus:                       80.162   Durbin-Watson:                   1.957\n",
      "Prob(Omnibus):                  0.000   Jarque-Bera (JB):              193.073\n",
      "Skew:                          -0.717   Prob(JB):                     1.19e-42\n",
      "Kurtosis:                       5.402   Cond. No.                     3.89e+16\n",
      "==============================================================================\n",
      "\n",
      "Warnings:\n",
      "[1] Standard Errors assume that the covariance matrix of the errors is correctly specified.\n",
      "[2] The smallest eigenvalue is 1.63e-30. This might indicate that there are\n",
      "strong multicollinearity problems or that the design matrix is singular.\n"
     ]
    }
   ],
   "source": [
    "formula = 'main ~ C(CVS_table) + variable + pre + C(sim_index)*C(sim) + C(sid)'\n",
    "model = ols(formula, data).fit()\n",
    "print \"Model: \",formula\n",
    "aov_table = anova_lm(model, typ=2)\n",
    "eta_squared(aov_table)\n",
    "omega_squared(aov_table)\n",
    "print \"\\nAnova table using type 2 errors\\n\"\n",
    "print(aov_table)\n",
    "print \"\\nHere is the linear model with coefficients and confidence intervals (removed all the rows for student ids):\\n\"\n",
    "print clean_summary(model)"
   ]
  },
  {
   "cell_type": "markdown",
   "metadata": {
    "hideCode": true,
    "hidePrompt": true
   },
   "source": [
    "## CVS graph and table"
   ]
  },
  {
   "cell_type": "code",
   "execution_count": 17,
   "metadata": {
    "collapsed": false
   },
   "outputs": [
    {
     "name": "stdout",
     "output_type": "stream",
     "text": [
      "Model:  main ~ C(CVS_graph) + C(CVS_table) + variable + pre + C(sim_index)*C(sim) + C(sid)\n",
      "\n",
      "Anova table using type 2 errors\n",
      "\n",
      "                      sum_sq     df       F     PR(>F)  eta_sq   omega_sq\n",
      "C(CVS_graph)           1.847    1.0   6.654  1.022e-02   0.007  5.854e-03\n",
      "C(CVS_table)           0.296    1.0   1.066  3.024e-01   0.001  6.848e-05\n",
      "variable               2.349    3.0   2.821  3.860e-02   0.009  5.655e-03\n",
      "C(sim_index)           3.753    1.0  13.519  2.655e-04   0.014  1.296e-02\n",
      "C(sim)                 0.533    1.0   1.921  1.664e-01   0.002  9.540e-04\n",
      "C(sid)               135.939  147.0   3.331  2.601e-22   0.508  3.549e-01\n",
      "C(sim_index):C(sim)    0.972    1.0   3.502  6.195e-02   0.004  2.591e-03\n",
      "pre                    0.819    1.0   2.951  8.656e-02   0.003  2.020e-03\n",
      "Residual             121.304  437.0     NaN        NaN     NaN        NaN\n",
      "\n",
      "Here is the linear model with coefficients and confidence intervals (removed all the rows for student ids):\n",
      "\n",
      "                            OLS Regression Results                            \n",
      "==============================================================================\n",
      "Dep. Variable:                   main   R-squared:                       0.584\n",
      "Model:                            OLS   Adj. R-squared:                  0.437\n",
      "Method:                 Least Squares   F-statistic:                     3.976\n",
      "Date:                Fri, 19 Jan 2018   Prob (F-statistic):           9.56e-30\n",
      "Time:                        11:40:03   Log-Likelihood:                -370.79\n",
      "No. Observations:                 592   AIC:                             1052.\n",
      "Df Residuals:                     437   BIC:                             1731.\n",
      "Df Model:                         154                                         \n",
      "Covariance Type:            nonrobust                                         \n",
      "=================================================================================================\n",
      "                                    coef    std err          t      P>|t|      [0.025      0.975]\n",
      "-------------------------------------------------------------------------------------------------\n",
      "Intercept                         1.9927      0.082     24.391      0.000       1.832       2.153\n",
      "C(CVS_graph)[T.1]                 0.2339      0.091      2.580      0.010       0.056       0.412\n",
      "C(CVS_table)[T.1]                 0.0903      0.087      1.033      0.302      -0.082       0.262\n",
      "variable[T.Concentration]         0.2041      0.091      2.240      0.026       0.025       0.383\n",
      "variable[T.Separation]           -0.0971      0.061     -1.583      0.114      -0.218       0.023\n",
      "variable[T.Width]                 0.1564      0.090      1.738      0.083      -0.021       0.333\n",
      "C(sim_index)[T.2]                 0.6324      0.255      2.481      0.013       0.131       1.133\n",
      "C(sim)[T.L]                       0.3605      0.170      2.119      0.035       0.026       0.695\n",
      "C(sim_index)[T.2]:C(sim)[T.L]    -0.9349      0.500     -1.871      0.062      -1.917       0.047\n",
      "pre                               0.0604      0.035      1.718      0.087      -0.009       0.130\n",
      "==============================================================================\n",
      "Omnibus:                       83.225   Durbin-Watson:                   1.972\n",
      "Prob(Omnibus):                  0.000   Jarque-Bera (JB):              203.867\n",
      "Skew:                          -0.737   Prob(JB):                     5.38e-45\n",
      "Kurtosis:                       5.468   Cond. No.                     4.92e+16\n",
      "==============================================================================\n",
      "\n",
      "Warnings:\n",
      "[1] Standard Errors assume that the covariance matrix of the errors is correctly specified.\n",
      "[2] The smallest eigenvalue is 1.09e-30. This might indicate that there are\n",
      "strong multicollinearity problems or that the design matrix is singular.\n"
     ]
    }
   ],
   "source": [
    "formula = 'main ~ C(CVS_graph) + C(CVS_table) + variable + pre + C(sim_index)*C(sim) + C(sid)'\n",
    "model = ols(formula, data).fit()\n",
    "print \"Model: \",formula\n",
    "aov_table = anova_lm(model, typ=2)\n",
    "eta_squared(aov_table)\n",
    "omega_squared(aov_table)\n",
    "print \"\\nAnova table using type 2 errors\\n\"\n",
    "print(aov_table)\n",
    "print \"\\nHere is the linear model with coefficients and confidence intervals (removed all the rows for student ids):\\n\"\n",
    "print clean_summary(model)"
   ]
  },
  {
   "cell_type": "markdown",
   "metadata": {},
   "source": [
    "## CVS graph and table_only"
   ]
  },
  {
   "cell_type": "code",
   "execution_count": 18,
   "metadata": {
    "collapsed": false,
    "hideCode": true,
    "hidePrompt": true
   },
   "outputs": [
    {
     "name": "stdout",
     "output_type": "stream",
     "text": [
      "Model:  main ~ C(CVS_graph) + C(CVS_table_only) + variable + pre + C(sim_index)*C(sim) + C(sid)\n",
      "\n",
      "Anova table using type 2 errors\n",
      "\n",
      "                      sum_sq     df       F     PR(>F)  eta_sq   omega_sq\n",
      "C(CVS_graph)           4.365    1.0  15.725  8.555e-05   0.016  1.510e-02\n",
      "C(CVS_table_only)      0.296    1.0   1.066  3.024e-01   0.001  6.785e-05\n",
      "variable               2.349    3.0   2.821  3.860e-02   0.009  5.602e-03\n",
      "C(sim_index)           3.753    1.0  13.519  2.655e-04   0.014  1.284e-02\n",
      "C(sim)                 0.533    1.0   1.921  1.664e-01   0.002  9.451e-04\n",
      "C(sid)               135.939  147.0   3.331  2.601e-22   0.503  3.516e-01\n",
      "C(sim_index):C(sim)    0.972    1.0   3.502  6.195e-02   0.004  2.567e-03\n",
      "pre                    0.819    1.0   2.951  8.656e-02   0.003  2.001e-03\n",
      "Residual             121.304  437.0     NaN        NaN     NaN        NaN\n",
      "\n",
      "Here is the linear model with coefficients and confidence intervals (removed all the rows for student ids):\n",
      "\n",
      "                            OLS Regression Results                            \n",
      "==============================================================================\n",
      "Dep. Variable:                   main   R-squared:                       0.584\n",
      "Model:                            OLS   Adj. R-squared:                  0.437\n",
      "Method:                 Least Squares   F-statistic:                     3.976\n",
      "Date:                Fri, 19 Jan 2018   Prob (F-statistic):           9.56e-30\n",
      "Time:                        11:40:04   Log-Likelihood:                -370.79\n",
      "No. Observations:                 592   AIC:                             1052.\n",
      "Df Residuals:                     437   BIC:                             1731.\n",
      "Df Model:                         154                                         \n",
      "Covariance Type:            nonrobust                                         \n",
      "=================================================================================================\n",
      "                                    coef    std err          t      P>|t|      [0.025      0.975]\n",
      "-------------------------------------------------------------------------------------------------\n",
      "Intercept                         1.9927      0.082     24.391      0.000       1.832       2.153\n",
      "C(CVS_graph)[T.1]                 0.3242      0.082      3.966      0.000       0.164       0.485\n",
      "C(CVS_table_only)[T.1]            0.0903      0.087      1.033      0.302      -0.082       0.262\n",
      "variable[T.Concentration]         0.2041      0.091      2.240      0.026       0.025       0.383\n",
      "variable[T.Separation]           -0.0971      0.061     -1.583      0.114      -0.218       0.023\n",
      "variable[T.Width]                 0.1564      0.090      1.738      0.083      -0.021       0.333\n",
      "C(sim_index)[T.2]                 0.6324      0.255      2.481      0.013       0.131       1.133\n",
      "C(sim)[T.L]                       0.3605      0.170      2.119      0.035       0.026       0.695\n",
      "C(sim_index)[T.2]:C(sim)[T.L]    -0.9349      0.500     -1.871      0.062      -1.917       0.047\n",
      "pre                               0.0604      0.035      1.718      0.087      -0.009       0.130\n",
      "==============================================================================\n",
      "Omnibus:                       83.225   Durbin-Watson:                   1.972\n",
      "Prob(Omnibus):                  0.000   Jarque-Bera (JB):              203.867\n",
      "Skew:                          -0.737   Prob(JB):                     5.38e-45\n",
      "Kurtosis:                       5.468   Cond. No.                     4.62e+16\n",
      "==============================================================================\n",
      "\n",
      "Warnings:\n",
      "[1] Standard Errors assume that the covariance matrix of the errors is correctly specified.\n",
      "[2] The smallest eigenvalue is 1.09e-30. This might indicate that there are\n",
      "strong multicollinearity problems or that the design matrix is singular.\n"
     ]
    }
   ],
   "source": [
    "formula = 'main ~ C(CVS_graph) + C(CVS_table_only) + variable + pre + C(sim_index)*C(sim) + C(sid)'\n",
    "model = ols(formula, data).fit()\n",
    "print \"Model: \",formula\n",
    "aov_table = anova_lm(model, typ=2)\n",
    "eta_squared(aov_table)\n",
    "omega_squared(aov_table)\n",
    "print \"\\nAnova table using type 2 errors\\n\"\n",
    "print(aov_table)\n",
    "print \"\\nHere is the linear model with coefficients and confidence intervals (removed all the rows for student ids):\\n\"\n",
    "print clean_summary(model)"
   ]
  },
  {
   "cell_type": "markdown",
   "metadata": {
    "hideCode": true,
    "hidePrompt": true
   },
   "source": [
    "## CVS with three levels (graph=2, table=1, none=0)"
   ]
  },
  {
   "cell_type": "markdown",
   "metadata": {},
   "source": [
    "We add a \"CVS_levels\" column to our data"
   ]
  },
  {
   "cell_type": "code",
   "execution_count": 19,
   "metadata": {
    "collapsed": false
   },
   "outputs": [
    {
     "data": {
      "text/html": [
       "<div>\n",
       "<style>\n",
       "    .dataframe thead tr:only-child th {\n",
       "        text-align: right;\n",
       "    }\n",
       "\n",
       "    .dataframe thead th {\n",
       "        text-align: left;\n",
       "    }\n",
       "\n",
       "    .dataframe tbody tr th {\n",
       "        vertical-align: top;\n",
       "    }\n",
       "</style>\n",
       "<table border=\"1\" class=\"dataframe\">\n",
       "  <thead>\n",
       "    <tr style=\"text-align: right;\">\n",
       "      <th></th>\n",
       "      <th>sid</th>\n",
       "      <th>variable</th>\n",
       "      <th>pre</th>\n",
       "      <th>main</th>\n",
       "      <th>sim</th>\n",
       "      <th>CVS_table</th>\n",
       "      <th>CVS_graph</th>\n",
       "      <th>sim_index</th>\n",
       "      <th>intervals_in_table</th>\n",
       "      <th>CVS_table_only</th>\n",
       "      <th>CVS_levels</th>\n",
       "    </tr>\n",
       "  </thead>\n",
       "  <tbody>\n",
       "    <tr>\n",
       "      <th>0</th>\n",
       "      <td>10127163</td>\n",
       "      <td>Concentration</td>\n",
       "      <td>1.0</td>\n",
       "      <td>3.0</td>\n",
       "      <td>L</td>\n",
       "      <td>1</td>\n",
       "      <td>1</td>\n",
       "      <td>1</td>\n",
       "      <td>True</td>\n",
       "      <td>0</td>\n",
       "      <td>2</td>\n",
       "    </tr>\n",
       "    <tr>\n",
       "      <th>1</th>\n",
       "      <td>10232160</td>\n",
       "      <td>Concentration</td>\n",
       "      <td>1.0</td>\n",
       "      <td>1.0</td>\n",
       "      <td>L</td>\n",
       "      <td>1</td>\n",
       "      <td>1</td>\n",
       "      <td>1</td>\n",
       "      <td>False</td>\n",
       "      <td>0</td>\n",
       "      <td>2</td>\n",
       "    </tr>\n",
       "    <tr>\n",
       "      <th>2</th>\n",
       "      <td>10537160</td>\n",
       "      <td>Concentration</td>\n",
       "      <td>1.0</td>\n",
       "      <td>2.0</td>\n",
       "      <td>L</td>\n",
       "      <td>1</td>\n",
       "      <td>0</td>\n",
       "      <td>2</td>\n",
       "      <td>False</td>\n",
       "      <td>1</td>\n",
       "      <td>1</td>\n",
       "    </tr>\n",
       "    <tr>\n",
       "      <th>3</th>\n",
       "      <td>10375163</td>\n",
       "      <td>Concentration</td>\n",
       "      <td>0.0</td>\n",
       "      <td>2.0</td>\n",
       "      <td>L</td>\n",
       "      <td>1</td>\n",
       "      <td>0</td>\n",
       "      <td>2</td>\n",
       "      <td>False</td>\n",
       "      <td>1</td>\n",
       "      <td>1</td>\n",
       "    </tr>\n",
       "    <tr>\n",
       "      <th>4</th>\n",
       "      <td>10420167</td>\n",
       "      <td>Concentration</td>\n",
       "      <td>1.0</td>\n",
       "      <td>3.0</td>\n",
       "      <td>L</td>\n",
       "      <td>1</td>\n",
       "      <td>1</td>\n",
       "      <td>2</td>\n",
       "      <td>False</td>\n",
       "      <td>0</td>\n",
       "      <td>2</td>\n",
       "    </tr>\n",
       "  </tbody>\n",
       "</table>\n",
       "</div>"
      ],
      "text/plain": [
       "        sid       variable  pre  main sim  CVS_table  CVS_graph  sim_index  intervals_in_table  \\\n",
       "0  10127163  Concentration  1.0   3.0   L          1          1          1                True   \n",
       "1  10232160  Concentration  1.0   1.0   L          1          1          1               False   \n",
       "2  10537160  Concentration  1.0   2.0   L          1          0          2               False   \n",
       "3  10375163  Concentration  0.0   2.0   L          1          0          2               False   \n",
       "4  10420167  Concentration  1.0   3.0   L          1          1          2               False   \n",
       "\n",
       "   CVS_table_only  CVS_levels  \n",
       "0               0           2  \n",
       "1               0           2  \n",
       "2               1           1  \n",
       "3               1           1  \n",
       "4               0           2  "
      ]
     },
     "execution_count": 19,
     "metadata": {},
     "output_type": "execute_result"
    }
   ],
   "source": [
    "data['CVS_levels']=0\n",
    "data['CVS_levels']=data['CVS_table']+data['CVS_graph']\n",
    "# print data[(data['CVS_table']==0)&(data['CVS_graph']==1)].shape\n",
    "data.head()"
   ]
  },
  {
   "cell_type": "code",
   "execution_count": 20,
   "metadata": {
    "collapsed": false,
    "hideCode": true,
    "hidePrompt": true
   },
   "outputs": [
    {
     "name": "stdout",
     "output_type": "stream",
     "text": [
      "Model:  main ~ C(CVS_levels) + variable + pre + C(sim_index)*C(sim) + C(sid)\n",
      "\n",
      "Anova table using type 2 errors\n",
      "\n",
      "                      sum_sq     df       F     PR(>F)  eta_sq   omega_sq\n",
      "C(CVS_levels)          4.514    2.0   8.131  3.411e-04   0.017  1.464e-02\n",
      "variable               2.349    3.0   2.821  3.860e-02   0.009  5.605e-03\n",
      "C(sim_index)           3.753    1.0  13.519  2.655e-04   0.014  1.285e-02\n",
      "C(sim)                 0.533    1.0   1.921  1.664e-01   0.002  9.457e-04\n",
      "C(sid)               135.939  147.0   3.331  2.601e-22   0.503  3.517e-01\n",
      "C(sim_index):C(sim)    0.972    1.0   3.502  6.195e-02   0.004  2.568e-03\n",
      "pre                    0.819    1.0   2.951  8.656e-02   0.003  2.002e-03\n",
      "Residual             121.304  437.0     NaN        NaN     NaN        NaN\n",
      "\n",
      "Here is the linear model with coefficients and confidence intervals (removed all the rows for student ids):\n",
      "\n",
      "                            OLS Regression Results                            \n",
      "==============================================================================\n",
      "Dep. Variable:                   main   R-squared:                       0.584\n",
      "Model:                            OLS   Adj. R-squared:                  0.437\n",
      "Method:                 Least Squares   F-statistic:                     3.976\n",
      "Date:                Fri, 19 Jan 2018   Prob (F-statistic):           9.56e-30\n",
      "Time:                        11:40:24   Log-Likelihood:                -370.79\n",
      "No. Observations:                 592   AIC:                             1052.\n",
      "Df Residuals:                     437   BIC:                             1731.\n",
      "Df Model:                         154                                         \n",
      "Covariance Type:            nonrobust                                         \n",
      "=================================================================================================\n",
      "                                    coef    std err          t      P>|t|      [0.025      0.975]\n",
      "-------------------------------------------------------------------------------------------------\n",
      "Intercept                         1.9927      0.082     24.391      0.000       1.832       2.153\n",
      "C(CVS_levels)[T.1]                0.0903      0.087      1.033      0.302      -0.082       0.262\n",
      "C(CVS_levels)[T.2]                0.3242      0.082      3.966      0.000       0.164       0.485\n",
      "variable[T.Concentration]         0.2041      0.091      2.240      0.026       0.025       0.383\n",
      "variable[T.Separation]           -0.0971      0.061     -1.583      0.114      -0.218       0.023\n",
      "variable[T.Width]                 0.1564      0.090      1.738      0.083      -0.021       0.333\n",
      "C(sim_index)[T.2]                 0.6324      0.255      2.481      0.013       0.131       1.133\n",
      "C(sim)[T.L]                       0.3605      0.170      2.119      0.035       0.026       0.695\n",
      "C(sim_index)[T.2]:C(sim)[T.L]    -0.9349      0.500     -1.871      0.062      -1.917       0.047\n",
      "pre                               0.0604      0.035      1.718      0.087      -0.009       0.130\n",
      "==============================================================================\n",
      "Omnibus:                       83.225   Durbin-Watson:                   1.972\n",
      "Prob(Omnibus):                  0.000   Jarque-Bera (JB):              203.867\n",
      "Skew:                          -0.737   Prob(JB):                     5.38e-45\n",
      "Kurtosis:                       5.468   Cond. No.                     3.32e+16\n",
      "==============================================================================\n",
      "\n",
      "Warnings:\n",
      "[1] Standard Errors assume that the covariance matrix of the errors is correctly specified.\n",
      "[2] The smallest eigenvalue is 2.12e-30. This might indicate that there are\n",
      "strong multicollinearity problems or that the design matrix is singular.\n"
     ]
    }
   ],
   "source": [
    "formula = 'main ~ C(CVS_levels) + variable + pre + C(sim_index)*C(sim) + C(sid)'\n",
    "model = ols(formula, data).fit()\n",
    "print \"Model: \",formula\n",
    "aov_table = anova_lm(model, typ=2)\n",
    "eta_squared(aov_table)\n",
    "omega_squared(aov_table)\n",
    "print \"\\nAnova table using type 2 errors\\n\"\n",
    "print(aov_table)\n",
    "print \"\\nHere is the linear model with coefficients and confidence intervals (removed all the rows for student ids):\\n\"\n",
    "print clean_summary(model)"
   ]
  },
  {
   "cell_type": "markdown",
   "metadata": {
    "hideCode": true,
    "hidePrompt": true
   },
   "source": [
    "## CVS table versus none"
   ]
  },
  {
   "cell_type": "markdown",
   "metadata": {},
   "source": [
    "First, we keep only the instances when a student didn't do cvs_graph and use the \"CVS_levels\" variable again."
   ]
  },
  {
   "cell_type": "code",
   "execution_count": 21,
   "metadata": {
    "collapsed": false
   },
   "outputs": [
    {
     "name": "stdout",
     "output_type": "stream",
     "text": [
      "We effectively reduce the number of data points from 592 to 301\n",
      "We effectively reduce the number of students we analyze from 148 to 105\n"
     ]
    },
    {
     "data": {
      "text/html": [
       "<div>\n",
       "<style>\n",
       "    .dataframe thead tr:only-child th {\n",
       "        text-align: right;\n",
       "    }\n",
       "\n",
       "    .dataframe thead th {\n",
       "        text-align: left;\n",
       "    }\n",
       "\n",
       "    .dataframe tbody tr th {\n",
       "        vertical-align: top;\n",
       "    }\n",
       "</style>\n",
       "<table border=\"1\" class=\"dataframe\">\n",
       "  <thead>\n",
       "    <tr style=\"text-align: right;\">\n",
       "      <th></th>\n",
       "      <th>sid</th>\n",
       "      <th>variable</th>\n",
       "      <th>pre</th>\n",
       "      <th>main</th>\n",
       "      <th>sim</th>\n",
       "      <th>CVS_table</th>\n",
       "      <th>CVS_graph</th>\n",
       "      <th>sim_index</th>\n",
       "      <th>intervals_in_table</th>\n",
       "      <th>CVS_table_only</th>\n",
       "      <th>CVS_levels</th>\n",
       "    </tr>\n",
       "  </thead>\n",
       "  <tbody>\n",
       "    <tr>\n",
       "      <th>2</th>\n",
       "      <td>10537160</td>\n",
       "      <td>Concentration</td>\n",
       "      <td>1.0</td>\n",
       "      <td>2.0</td>\n",
       "      <td>L</td>\n",
       "      <td>1</td>\n",
       "      <td>0</td>\n",
       "      <td>2</td>\n",
       "      <td>False</td>\n",
       "      <td>1</td>\n",
       "      <td>1</td>\n",
       "    </tr>\n",
       "    <tr>\n",
       "      <th>3</th>\n",
       "      <td>10375163</td>\n",
       "      <td>Concentration</td>\n",
       "      <td>0.0</td>\n",
       "      <td>2.0</td>\n",
       "      <td>L</td>\n",
       "      <td>1</td>\n",
       "      <td>0</td>\n",
       "      <td>2</td>\n",
       "      <td>False</td>\n",
       "      <td>1</td>\n",
       "      <td>1</td>\n",
       "    </tr>\n",
       "    <tr>\n",
       "      <th>9</th>\n",
       "      <td>11095146</td>\n",
       "      <td>Concentration</td>\n",
       "      <td>1.0</td>\n",
       "      <td>2.0</td>\n",
       "      <td>L</td>\n",
       "      <td>0</td>\n",
       "      <td>0</td>\n",
       "      <td>2</td>\n",
       "      <td>False</td>\n",
       "      <td>0</td>\n",
       "      <td>0</td>\n",
       "    </tr>\n",
       "    <tr>\n",
       "      <th>11</th>\n",
       "      <td>11384795</td>\n",
       "      <td>Concentration</td>\n",
       "      <td>2.0</td>\n",
       "      <td>2.0</td>\n",
       "      <td>L</td>\n",
       "      <td>1</td>\n",
       "      <td>0</td>\n",
       "      <td>2</td>\n",
       "      <td>True</td>\n",
       "      <td>1</td>\n",
       "      <td>1</td>\n",
       "    </tr>\n",
       "    <tr>\n",
       "      <th>15</th>\n",
       "      <td>11892169</td>\n",
       "      <td>Concentration</td>\n",
       "      <td>0.0</td>\n",
       "      <td>2.0</td>\n",
       "      <td>L</td>\n",
       "      <td>0</td>\n",
       "      <td>0</td>\n",
       "      <td>1</td>\n",
       "      <td>False</td>\n",
       "      <td>0</td>\n",
       "      <td>0</td>\n",
       "    </tr>\n",
       "  </tbody>\n",
       "</table>\n",
       "</div>"
      ],
      "text/plain": [
       "         sid       variable  pre  main sim  CVS_table  CVS_graph  sim_index  intervals_in_table  \\\n",
       "2   10537160  Concentration  1.0   2.0   L          1          0          2               False   \n",
       "3   10375163  Concentration  0.0   2.0   L          1          0          2               False   \n",
       "9   11095146  Concentration  1.0   2.0   L          0          0          2               False   \n",
       "11  11384795  Concentration  2.0   2.0   L          1          0          2                True   \n",
       "15  11892169  Concentration  0.0   2.0   L          0          0          1               False   \n",
       "\n",
       "    CVS_table_only  CVS_levels  \n",
       "2                1           1  \n",
       "3                1           1  \n",
       "9                0           0  \n",
       "11               1           1  \n",
       "15               0           0  "
      ]
     },
     "execution_count": 21,
     "metadata": {},
     "output_type": "execute_result"
    }
   ],
   "source": [
    "table_data = data[data['CVS_levels']<2]\n",
    "print \"We effectively reduce the number of data points from {0} to {1}\".format(data.shape[0], table_data.shape[0])\n",
    "print \"We effectively reduce the number of students we analyze from {0} to {1}\".format(len(set(list(data['sid']))), len(set(list(table_data['sid']))))\n",
    "table_data.head()"
   ]
  },
  {
   "cell_type": "code",
   "execution_count": 22,
   "metadata": {
    "collapsed": false
   },
   "outputs": [
    {
     "name": "stdout",
     "output_type": "stream",
     "text": [
      "Model:  main ~ C(CVS_levels) + variable + pre + C(sim_index)*C(sim) + C(sid)\n",
      "\n",
      "Anova table using type 2 errors\n",
      "\n",
      "                     sum_sq     df      F     PR(>F)     eta_sq   omega_sq\n",
      "C(CVS_levels)         0.300    1.0  1.235  2.678e-01  2.134e-03  4.054e-04\n",
      "variable              2.709    3.0  3.713  1.255e-02  1.924e-02  1.404e-02\n",
      "C(sim_index)          1.289    1.0  5.301  2.239e-02  9.159e-03  7.418e-03\n",
      "C(sim)                0.342    1.0  1.407  2.370e-01  2.432e-03  7.028e-04\n",
      "C(sid)               87.821  104.0  3.472  5.110e-14  6.238e-01  4.434e-01\n",
      "C(sim_index):C(sim)   2.094    1.0  8.610  3.755e-03  1.487e-02  1.312e-02\n",
      "pre                   0.016    1.0  0.064  8.008e-01  1.103e-04 -1.615e-03\n",
      "Residual             46.213  190.0    NaN        NaN        NaN        NaN\n",
      "\n",
      "Here is the linear model with coefficients and confidence intervals (removed all the rows for student ids):\n",
      "\n",
      "                            OLS Regression Results                            \n",
      "==============================================================================\n",
      "Dep. Variable:                   main   R-squared:                       0.670\n",
      "Model:                            OLS   Adj. R-squared:                  0.479\n",
      "Method:                 Least Squares   F-statistic:                     3.509\n",
      "Date:                Thu, 18 Jan 2018   Prob (F-statistic):           1.58e-14\n",
      "Time:                        11:15:42   Log-Likelihood:                -145.09\n",
      "No. Observations:                 301   AIC:                             512.2\n",
      "Df Residuals:                     190   BIC:                             923.7\n",
      "Df Model:                         110                                         \n",
      "Covariance Type:            nonrobust                                         \n",
      "=================================================================================================\n",
      "                                    coef    std err          t      P>|t|      [0.025      0.975]\n",
      "-------------------------------------------------------------------------------------------------\n",
      "Intercept                         0.8152      0.369      2.211      0.028       0.088       1.542\n",
      "C(CVS_levels)[T.1]                0.1066      0.096      1.111      0.268      -0.083       0.296\n",
      "variable[T.Concentration]         0.3870      0.116      3.327      0.001       0.158       0.616\n",
      "variable[T.Separation]            0.0350      0.082      0.425      0.672      -0.128       0.198\n",
      "variable[T.Width]                 0.2969      0.120      2.478      0.014       0.061       0.533\n",
      "C(sim_index)[T.2]                 1.1012      0.331      3.326      0.001       0.448       1.754\n",
      "C(sim)[T.L]                       0.6839      0.218      3.130      0.002       0.253       1.115\n",
      "C(sim_index)[T.2]:C(sim)[T.L]    -1.8978      0.647     -2.934      0.004      -3.174      -0.622\n",
      "pre                              -0.0140      0.055     -0.253      0.801      -0.123       0.095\n",
      "==============================================================================\n",
      "Omnibus:                       64.408   Durbin-Watson:                   1.974\n",
      "Prob(Omnibus):                  0.000   Jarque-Bera (JB):              297.824\n",
      "Skew:                          -0.788   Prob(JB):                     2.13e-65\n",
      "Kurtosis:                       7.611   Cond. No.                     5.75e+16\n",
      "==============================================================================\n",
      "\n",
      "Warnings:\n",
      "[1] Standard Errors assume that the covariance matrix of the errors is correctly specified.\n",
      "[2] The smallest eigenvalue is 3.22e-31. This might indicate that there are\n",
      "strong multicollinearity problems or that the design matrix is singular.\n"
     ]
    }
   ],
   "source": [
    "formula = 'main ~ C(CVS_levels) + variable + pre + C(sim_index)*C(sim) + C(sid)'\n",
    "model = ols(formula, table_data).fit()\n",
    "print \"Model: \",formula\n",
    "aov_table = anova_lm(model, typ=2)\n",
    "eta_squared(aov_table)\n",
    "omega_squared(aov_table)\n",
    "print \"\\nAnova table using type 2 errors\\n\"\n",
    "print(aov_table)\n",
    "print \"\\nHere is the linear model with coefficients and confidence intervals (removed all the rows for student ids):\\n\"\n",
    "print clean_summary(model)"
   ]
  },
  {
   "cell_type": "markdown",
   "metadata": {},
   "source": [
    "CVS table is still not significant."
   ]
  },
  {
   "cell_type": "markdown",
   "metadata": {
    "hideCode": true,
    "hidePrompt": true
   },
   "source": [
    "# Let's redo the chosen levels models with all two way interactions we might care about between control variables\n",
    "We have 4 control variables:\n",
    "* sim_index\n",
    "* sim\n",
    "* variable\n",
    "* pre\n",
    "\n",
    "We look at all interactions except the sim\\*variable interaction (obviously...):\n",
    "* C(sim_index)\\*C(sim)\n",
    "* **C(sim_index)\\*variable** (prefer over *sim)\n",
    "* C(sim_index)\\*pre (not really interesting...)\n",
    "* C(sim)\\*pre\n",
    "* **pre\\*variable** (prefer over *sim)\n",
    "* **variable*CVS_levels**\n",
    "* **pre*CVS_levels**"
   ]
  },
  {
   "cell_type": "markdown",
   "metadata": {},
   "source": [
    "## CVS levels"
   ]
  },
  {
   "cell_type": "code",
   "execution_count": 21,
   "metadata": {
    "collapsed": false
   },
   "outputs": [
    {
     "name": "stdout",
     "output_type": "stream",
     "text": [
      "Model:  main ~ C(CVS_levels)*variable + C(CVS_levels)*pre + C(sim_index)*variable + pre*variable + C(sid) + C(sim)\n",
      "\n",
      "Anova table using type 2 errors\n",
      "\n",
      "                         sum_sq     df       F     PR(>F)     eta_sq   omega_sq\n",
      "C(CVS_levels)             4.390    2.0   7.825  4.599e-04  1.681e-02  1.464e-02\n",
      "variable                  3.026    3.0   3.596  1.367e-02  1.159e-02  8.356e-03\n",
      "C(sim_index)              3.418    1.0  12.186  5.319e-04  1.309e-02  1.200e-02\n",
      "C(sid)                  126.112  147.0   3.059  3.598e-19  4.828e-01  3.246e-01\n",
      "C(sim)                    1.313    1.0   4.680  3.108e-02  5.025e-03  3.947e-03\n",
      "C(CVS_levels):variable    1.646    6.0   0.978  4.397e-01  6.301e-03 -1.423e-04\n",
      "C(sim_index):variable     1.042    3.0   1.239  2.952e-01  3.991e-03  7.681e-04\n",
      "pre                       0.725    1.0   2.586  1.086e-01  2.777e-03  1.701e-03\n",
      "C(CVS_levels):pre         0.478    2.0   0.851  4.275e-01  1.829e-03 -3.188e-04\n",
      "pre:variable              0.112    3.0   0.134  9.401e-01  4.301e-04 -2.789e-03\n",
      "Residual                118.927  424.0     NaN        NaN        NaN        NaN\n",
      "\n",
      "Here is the linear model with coefficients and confidence intervals (removed all the rows for student ids):\n",
      "\n",
      "                            OLS Regression Results                            \n",
      "==============================================================================\n",
      "Dep. Variable:                   main   R-squared:                       0.592\n",
      "Model:                            OLS   Adj. R-squared:                  0.431\n",
      "Method:                 Least Squares   F-statistic:                     3.679\n",
      "Date:                Fri, 19 Jan 2018   Prob (F-statistic):           2.69e-27\n",
      "Time:                        12:06:13   Log-Likelihood:                -364.93\n",
      "No. Observations:                 592   AIC:                             1066.\n",
      "Df Residuals:                     424   BIC:                             1802.\n",
      "Df Model:                         167                                         \n",
      "Covariance Type:            nonrobust                                         \n",
      "================================================================================================================\n",
      "                                                   coef    std err          t      P>|t|      [0.025      0.975]\n",
      "----------------------------------------------------------------------------------------------------------------\n",
      "Intercept                                        1.9404      0.138     14.063      0.000       1.669       2.212\n",
      "C(CVS_levels)[T.1]                               0.2700      0.195      1.383      0.167      -0.114       0.654\n",
      "C(CVS_levels)[T.2]                               0.3778      0.166      2.281      0.023       0.052       0.703\n",
      "variable[T.Concentration]                        0.2347      0.124      1.893      0.059      -0.009       0.478\n",
      "variable[T.Separation]                           0.1187      0.163      0.729      0.467      -0.202       0.439\n",
      "variable[T.Width]                                0.1564      0.120      1.307      0.192      -0.079       0.392\n",
      "C(sim_index)[T.2]                                0.5324      0.255      2.084      0.038       0.030       1.035\n",
      "C(sim)[T.L]                                      0.3912      0.181      2.163      0.031       0.036       0.747\n",
      "C(CVS_levels)[T.1]:variable[T.Concentration]    -0.1180      0.197     -0.598      0.550      -0.506       0.270\n",
      "C(CVS_levels)[T.2]:variable[T.Concentration]    -0.1410      0.162     -0.869      0.385      -0.460       0.178\n",
      "C(CVS_levels)[T.1]:variable[T.Separation]       -0.1774      0.182     -0.976      0.330      -0.535       0.180\n",
      "C(CVS_levels)[T.2]:variable[T.Separation]       -0.3273      0.150     -2.175      0.030      -0.623      -0.032\n",
      "C(CVS_levels)[T.1]:variable[T.Width]            -0.1269      0.201     -0.632      0.528      -0.521       0.268\n",
      "C(CVS_levels)[T.2]:variable[T.Width]            -0.0544      0.171     -0.319      0.750      -0.390       0.281\n",
      "C(sim_index)[T.2]:variable[T.Concentration]     -0.7472      0.492     -1.518      0.130      -1.715       0.220\n",
      "C(sim_index)[T.2]:variable[T.Separation]         0.0822      0.127      0.646      0.519      -0.168       0.332\n",
      "C(sim_index)[T.2]:variable[T.Width]             -0.8239      0.493     -1.673      0.095      -1.792       0.144\n",
      "pre                                              0.0656      0.086      0.761      0.447      -0.104       0.235\n",
      "C(CVS_levels)[T.1]:pre                          -0.0513      0.102     -0.505      0.614      -0.251       0.148\n",
      "C(CVS_levels)[T.2]:pre                           0.0635      0.084      0.752      0.452      -0.102       0.229\n",
      "pre:variable[T.Concentration]                   -0.0449      0.089     -0.504      0.614      -0.220       0.130\n",
      "pre:variable[T.Separation]                      -0.0478      0.084     -0.569      0.569      -0.213       0.117\n",
      "pre:variable[T.Width]                           -0.0341      0.088     -0.386      0.700      -0.208       0.140\n",
      "==============================================================================\n",
      "Omnibus:                       78.086   Durbin-Watson:                   1.967\n",
      "Prob(Omnibus):                  0.000   Jarque-Bera (JB):              180.935\n",
      "Skew:                          -0.712   Prob(JB):                     5.13e-40\n",
      "Kurtosis:                       5.303   Cond. No.                     1.79e+16\n",
      "==============================================================================\n",
      "\n",
      "Warnings:\n",
      "[1] Standard Errors assume that the covariance matrix of the errors is correctly specified.\n",
      "[2] The smallest eigenvalue is 9.64e-30. This might indicate that there are\n",
      "strong multicollinearity problems or that the design matrix is singular.\n"
     ]
    }
   ],
   "source": [
    "formula = 'main ~ C(CVS_levels)*variable + C(CVS_levels)*pre + C(sim_index)*variable + pre*variable + C(sid) + C(sim)'\n",
    "model = ols(formula, data).fit()\n",
    "print \"Model: \",formula\n",
    "aov_table = anova_lm(model, typ=2)\n",
    "eta_squared(aov_table)\n",
    "omega_squared(aov_table)\n",
    "print \"\\nAnova table using type 2 errors\\n\"\n",
    "print(aov_table)\n",
    "print \"\\nHere is the linear model with coefficients and confidence intervals (removed all the rows for student ids):\\n\"\n",
    "print clean_summary(model)"
   ]
  },
  {
   "cell_type": "markdown",
   "metadata": {},
   "source": [
    "None of the interactions are significant..."
   ]
  },
  {
   "cell_type": "markdown",
   "metadata": {
    "hideCode": true,
    "hidePrompt": true
   },
   "source": [
    "# What model to use to look at CVS and incoming knowledge? (for CVS graph only)\n",
    "## with variable interaction"
   ]
  },
  {
   "cell_type": "markdown",
   "metadata": {},
   "source": [
    "Note that including \"C(sid)\" creates an error \"Singular matrix\". Maybe let's redo this analysis in SPSS."
   ]
  },
  {
   "cell_type": "code",
   "execution_count": 25,
   "metadata": {
    "collapsed": false,
    "hideCode": true,
    "hidePrompt": true
   },
   "outputs": [
    {
     "name": "stdout",
     "output_type": "stream",
     "text": [
      "model:  CVS_graph ~ pre*C(variable) + C(sim_index)*C(sim) \n",
      "\n",
      "Optimization terminated successfully.\n",
      "         Current function value: 0.671971\n",
      "         Iterations 5\n",
      "                           Logit Regression Results                           \n",
      "==============================================================================\n",
      "Dep. Variable:              CVS_graph   No. Observations:                  592\n",
      "Model:                          Logit   Df Residuals:                      582\n",
      "Method:                           MLE   Df Model:                            9\n",
      "Date:                Thu, 18 Jan 2018   Pseudo R-squ.:                 0.03035\n",
      "Time:                        11:15:43   Log-Likelihood:                -397.81\n",
      "converged:                       True   LL-Null:                       -410.26\n",
      "                                        LLR p-value:                  0.003079\n",
      "====================================================================================================\n",
      "                                       coef    std err          z      P>|z|      [0.025      0.975]\n",
      "----------------------------------------------------------------------------------------------------\n",
      "Intercept                           -0.6248      0.324     -1.930      0.054      -1.259       0.010\n",
      "C(variable)[T.Concentration]         0.5652   7.95e+06   7.11e-08      1.000   -1.56e+07    1.56e+07\n",
      "C(variable)[T.Separation]           -0.0336      0.448     -0.075      0.940      -0.911       0.844\n",
      "C(variable)[T.Width]                -0.4575   7.95e+06  -5.75e-08      1.000   -1.56e+07    1.56e+07\n",
      "C(sim_index)[T.2]                    0.7003      0.239      2.930      0.003       0.232       1.169\n",
      "C(sim)[T.L]                          0.1077   7.95e+06   1.35e-08      1.000   -1.56e+07    1.56e+07\n",
      "C(sim_index)[T.2]:C(sim)[T.L]       -0.4608      0.339     -1.360      0.174      -1.125       0.203\n",
      "pre                                  0.1689      0.204      0.828      0.407      -0.231       0.568\n",
      "pre:C(variable)[T.Concentration]    -0.2323      0.293     -0.793      0.428      -0.807       0.342\n",
      "pre:C(variable)[T.Separation]       -0.0066      0.296     -0.022      0.982      -0.586       0.573\n",
      "pre:C(variable)[T.Width]             0.5863      0.302      1.944      0.052      -0.005       1.177\n",
      "====================================================================================================\n"
     ]
    }
   ],
   "source": [
    "formula = 'CVS_graph ~ pre*C(variable) + C(sim_index)*C(sim)'\n",
    "print 'model: ', formula,'\\n'\n",
    "from patsy import dmatrices\n",
    "Y, X = dmatrices(formula, data, return_type = 'dataframe')\n",
    "# print X.columns\n",
    "logit = Logit(Y, X)\n",
    "model = logit.fit()\n",
    "print model.summary()\n",
    "# print model.params"
   ]
  },
  {
   "cell_type": "markdown",
   "metadata": {
    "hideCode": true,
    "hidePrompt": true
   },
   "source": [
    "CVS plotting occurs more in second sim but no interaction with sim type. Pre doesn't matter, variable doesn't matter."
   ]
  },
  {
   "cell_type": "markdown",
   "metadata": {},
   "source": [
    "## no interaction"
   ]
  },
  {
   "cell_type": "code",
   "execution_count": 26,
   "metadata": {
    "collapsed": false
   },
   "outputs": [
    {
     "name": "stdout",
     "output_type": "stream",
     "text": [
      "model:  CVS_graph ~ pre + C(variable) + C(sim_index)*C(sim) \n",
      "\n",
      "Optimization terminated successfully.\n",
      "         Current function value: 0.678870\n",
      "         Iterations 4\n",
      "                           Logit Regression Results                           \n",
      "==============================================================================\n",
      "Dep. Variable:              CVS_graph   No. Observations:                  592\n",
      "Model:                          Logit   Df Residuals:                      585\n",
      "Method:                           MLE   Df Model:                            6\n",
      "Date:                Thu, 18 Jan 2018   Pseudo R-squ.:                 0.02040\n",
      "Time:                        11:15:43   Log-Likelihood:                -401.89\n",
      "converged:                       True   LL-Null:                       -410.26\n",
      "                                        LLR p-value:                   0.01031\n",
      "=================================================================================================\n",
      "                                    coef    std err          z      P>|z|      [0.025      0.975]\n",
      "-------------------------------------------------------------------------------------------------\n",
      "Intercept                        -0.7385      0.249     -2.967      0.003      -1.226      -0.251\n",
      "C(variable)[T.Concentration]      0.1557   7.63e+06   2.04e-08      1.000    -1.5e+07     1.5e+07\n",
      "C(variable)[T.Separation]        -0.0500      0.237     -0.210      0.833      -0.515       0.415\n",
      "C(variable)[T.Width]              0.0637   7.63e+06   8.34e-09      1.000    -1.5e+07     1.5e+07\n",
      "C(sim_index)[T.2]                 0.7107      0.238      2.989      0.003       0.245       1.177\n",
      "C(sim)[T.L]                       0.2193   7.63e+06   2.87e-08      1.000    -1.5e+07     1.5e+07\n",
      "C(sim_index)[T.2]:C(sim)[T.L]    -0.4841      0.335     -1.445      0.149      -1.141       0.173\n",
      "pre                               0.2562      0.104      2.457      0.014       0.052       0.461\n",
      "=================================================================================================\n"
     ]
    }
   ],
   "source": [
    "formula = 'CVS_graph ~ pre + C(variable) + C(sim_index)*C(sim)'\n",
    "print 'model: ', formula,'\\n'\n",
    "from patsy import dmatrices\n",
    "Y, X = dmatrices(formula, data, return_type = 'dataframe')\n",
    "# print X.columns\n",
    "logit = Logit(Y, X)\n",
    "model = logit.fit()\n",
    "print model.summary()\n",
    "# print model.params"
   ]
  },
  {
   "cell_type": "markdown",
   "metadata": {},
   "source": [
    "pre matters. WHY???"
   ]
  },
  {
   "cell_type": "markdown",
   "metadata": {},
   "source": [
    "## With all pair wise interactions"
   ]
  },
  {
   "cell_type": "code",
   "execution_count": 27,
   "metadata": {
    "collapsed": false
   },
   "outputs": [
    {
     "name": "stdout",
     "output_type": "stream",
     "text": [
      "model:  CVS_graph ~ C(sim_index)*C(sim) + C(sim_index)*variable + C(sim_index)*pre + C(sim)*pre + pre*variable \n",
      "\n",
      "Optimization terminated successfully.\n",
      "         Current function value: 0.670840\n",
      "         Iterations 5\n",
      "                           Logit Regression Results                           \n",
      "==============================================================================\n",
      "Dep. Variable:              CVS_graph   No. Observations:                  592\n",
      "Model:                          Logit   Df Residuals:                      579\n",
      "Method:                           MLE   Df Model:                           12\n",
      "Date:                Thu, 18 Jan 2018   Pseudo R-squ.:                 0.03198\n",
      "Time:                        11:15:43   Log-Likelihood:                -397.14\n",
      "converged:                       True   LL-Null:                       -410.26\n",
      "                                        LLR p-value:                  0.009915\n",
      "===============================================================================================================\n",
      "                                                  coef    std err          z      P>|z|      [0.025      0.975]\n",
      "---------------------------------------------------------------------------------------------------------------\n",
      "Intercept                                      -0.5146      0.362     -1.421      0.155      -1.225       0.195\n",
      "C(sim_index)[T.2]                               0.4587      0.428      1.073      0.283      -0.379       1.297\n",
      "C(sim)[T.L]                                    -1.3141        nan        nan        nan         nan         nan\n",
      "variable[T.Concentration]                       2.0361        nan        nan        nan         nan         nan\n",
      "variable[T.Separation]                          0.0633      0.524      0.121      0.904      -0.964       1.090\n",
      "variable[T.Width]                               0.9238        nan        nan        nan         nan         nan\n",
      "C(sim_index)[T.2]:C(sim)[T.L]                  -0.3300   1.84e+07  -1.79e-08      1.000   -3.61e+07    3.61e+07\n",
      "C(sim_index)[T.2]:variable[T.Concentration]    -0.2605   1.76e+07  -1.48e-08      1.000   -3.45e+07    3.45e+07\n",
      "C(sim_index)[T.2]:variable[T.Separation]       -0.1249      0.479     -0.261      0.794      -1.063       0.813\n",
      "C(sim_index)[T.2]:variable[T.Width]            -0.0695   1.82e+07  -3.83e-09      1.000   -3.56e+07    3.56e+07\n",
      "pre                                             0.0535      0.230      0.233      0.816      -0.396       0.503\n",
      "C(sim_index)[T.2]:pre                           0.2372      0.215      1.105      0.269      -0.183       0.658\n",
      "C(sim)[T.L]:pre                                 0.1243   5.22e+06   2.38e-08      1.000   -1.02e+07    1.02e+07\n",
      "pre:variable[T.Concentration]                  -0.3510   5.22e+06  -6.73e-08      1.000   -1.02e+07    1.02e+07\n",
      "pre:variable[T.Separation]                     -0.0142      0.297     -0.048      0.962      -0.597       0.569\n",
      "pre:variable[T.Width]                           0.4754   5.22e+06   9.11e-08      1.000   -1.02e+07    1.02e+07\n",
      "===============================================================================================================\n"
     ]
    },
    {
     "name": "stderr",
     "output_type": "stream",
     "text": [
      "d:\\applications\\anaconda2\\lib\\site-packages\\statsmodels\\base\\model.py:1029: RuntimeWarning: invalid value encountered in sqrt\n",
      "  return np.sqrt(np.diag(self.cov_params()))\n",
      "d:\\applications\\anaconda2\\lib\\site-packages\\scipy\\stats\\_distn_infrastructure.py:879: RuntimeWarning: invalid value encountered in greater\n",
      "  return (self.a < x) & (x < self.b)\n",
      "d:\\applications\\anaconda2\\lib\\site-packages\\scipy\\stats\\_distn_infrastructure.py:879: RuntimeWarning: invalid value encountered in less\n",
      "  return (self.a < x) & (x < self.b)\n",
      "d:\\applications\\anaconda2\\lib\\site-packages\\scipy\\stats\\_distn_infrastructure.py:1818: RuntimeWarning: invalid value encountered in less_equal\n",
      "  cond2 = cond0 & (x <= self.a)\n"
     ]
    }
   ],
   "source": [
    "formula = 'CVS_graph ~ C(sim_index)*C(sim) + C(sim_index)*variable + C(sim_index)*pre + C(sim)*pre + pre*variable'\n",
    "print 'model: ', formula,'\\n'\n",
    "from patsy import dmatrices\n",
    "Y, X = dmatrices(formula, data, return_type = 'dataframe')\n",
    "# print X.columns\n",
    "logit = Logit(Y, X)\n",
    "model = logit.fit()\n",
    "print model.summary()\n",
    "# print model.params"
   ]
  },
  {
   "cell_type": "markdown",
   "metadata": {},
   "source": [
    "Lots of errors here. Not sure why... Either way, nothing is significant."
   ]
  }
 ],
 "metadata": {
  "anaconda-cloud": {},
  "celltoolbar": "Hide code",
  "hide_code_all_hidden": true,
  "kernelspec": {
   "display_name": "Python [Anaconda2]",
   "language": "python",
   "name": "Python [Anaconda2]"
  },
  "language_info": {
   "codemirror_mode": {
    "name": "ipython",
    "version": 2
   },
   "file_extension": ".py",
   "mimetype": "text/x-python",
   "name": "python",
   "nbconvert_exporter": "python",
   "pygments_lexer": "ipython2",
   "version": "2.7.12"
  },
  "toc": {
   "nav_menu": {},
   "number_sections": true,
   "sideBar": false,
   "skip_h1_title": false,
   "toc_cell": false,
   "toc_position": {},
   "toc_section_display": "block",
   "toc_window_display": false
  }
 },
 "nbformat": 4,
 "nbformat_minor": 2
}
