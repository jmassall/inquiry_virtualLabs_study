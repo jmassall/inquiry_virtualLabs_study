{
 "cells": [
  {
   "cell_type": "markdown",
   "metadata": {},
   "source": [
    "# About data_connector\n",
    "\n",
    "This notebook pulls information from different sources of data (log, session) to connect student's data across types.\n",
    "The end goal is a connection between student id and log files, survey data, and worksheet data."
   ]
  },
  {
   "cell_type": "code",
   "execution_count": 1,
   "metadata": {},
   "outputs": [],
   "source": [
    "import os\n",
    "import numpy as np\n",
    "import pandas as pd\n",
    "import getpass\n",
    "import datetime\n",
    "import matplotlib\n",
    "import matplotlib.pyplot as plt\n",
    "from utils_timeline_viz import find_student_log_file\n",
    "#utils_read_parsing.py is where all our custorm functions live so we set an autoreload on it.\n",
    "%load_ext autoreload\n",
    "%autoreload 1\n",
    "%aimport utils_read_parsing \n",
    "from utils_read_parsing import *\n",
    "%matplotlib inline\n",
    "matplotlib.style.use('ggplot')\n",
    "matplotlib.rcParams['figure.figsize'] = 20, 7\n",
    "pd.set_option('display.max_columns', None);pd.set_option('display.max_rows', None);pd.set_option('precision', 2)"
   ]
  },
  {
   "cell_type": "markdown",
   "metadata": {},
   "source": [
    "# Connect to worksheet data\n",
    "## beers"
   ]
  },
  {
   "cell_type": "code",
   "execution_count": 2,
   "metadata": {},
   "outputs": [],
   "source": [
    "%reload_ext utils_read_parsing\n",
    "worksheets = get_worksheet_metadata('beers')"
   ]
  },
  {
   "cell_type": "code",
   "execution_count": 3,
   "metadata": {},
   "outputs": [
    {
     "data": {
      "text/html": [
       "<div>\n",
       "<style scoped>\n",
       "    .dataframe tbody tr th:only-of-type {\n",
       "        vertical-align: middle;\n",
       "    }\n",
       "\n",
       "    .dataframe tbody tr th {\n",
       "        vertical-align: top;\n",
       "    }\n",
       "\n",
       "    .dataframe thead th {\n",
       "        text-align: right;\n",
       "    }\n",
       "</style>\n",
       "<table border=\"1\" class=\"dataframe\">\n",
       "  <thead>\n",
       "    <tr style=\"text-align: right;\">\n",
       "      <th></th>\n",
       "      <th>Student ID</th>\n",
       "      <th>Topic</th>\n",
       "      <th>Type</th>\n",
       "      <th>other id</th>\n",
       "      <th>Session</th>\n",
       "      <th>Technical Flags</th>\n",
       "      <th>Comment</th>\n",
       "      <th>use analysis</th>\n",
       "    </tr>\n",
       "  </thead>\n",
       "  <tbody>\n",
       "    <tr>\n",
       "      <th>289</th>\n",
       "      <td>13578154</td>\n",
       "      <td>ABSORBANCE</td>\n",
       "      <td>p</td>\n",
       "      <td>13578154</td>\n",
       "      <td>13</td>\n",
       "      <td>NaN</td>\n",
       "      <td>NaN</td>\n",
       "      <td>True</td>\n",
       "    </tr>\n",
       "    <tr>\n",
       "      <th>311</th>\n",
       "      <td>19618321</td>\n",
       "      <td>ABSORBANCE</td>\n",
       "      <td>p</td>\n",
       "      <td>19618321</td>\n",
       "      <td>13</td>\n",
       "      <td>NaN</td>\n",
       "      <td>NaN</td>\n",
       "      <td>True</td>\n",
       "    </tr>\n",
       "    <tr>\n",
       "      <th>310</th>\n",
       "      <td>19618321</td>\n",
       "      <td>ABSORBANCE</td>\n",
       "      <td>m</td>\n",
       "      <td>19618321</td>\n",
       "      <td>13</td>\n",
       "      <td>NaN</td>\n",
       "      <td>NaN</td>\n",
       "      <td>True</td>\n",
       "    </tr>\n",
       "    <tr>\n",
       "      <th>309</th>\n",
       "      <td>19470169</td>\n",
       "      <td>ABSORBANCE</td>\n",
       "      <td>p</td>\n",
       "      <td>19470169</td>\n",
       "      <td>13</td>\n",
       "      <td>NaN</td>\n",
       "      <td>NaN</td>\n",
       "      <td>True</td>\n",
       "    </tr>\n",
       "    <tr>\n",
       "      <th>308</th>\n",
       "      <td>19470169</td>\n",
       "      <td>ABSORBANCE</td>\n",
       "      <td>m</td>\n",
       "      <td>19470169</td>\n",
       "      <td>13</td>\n",
       "      <td>NaN</td>\n",
       "      <td>NaN</td>\n",
       "      <td>True</td>\n",
       "    </tr>\n",
       "  </tbody>\n",
       "</table>\n",
       "</div>"
      ],
      "text/plain": [
       "     Student ID       Topic Type  other id Session Technical Flags Comment  \\\n",
       "289    13578154  ABSORBANCE    p  13578154      13             NaN     NaN   \n",
       "311    19618321  ABSORBANCE    p  19618321      13             NaN     NaN   \n",
       "310    19618321  ABSORBANCE    m  19618321      13             NaN     NaN   \n",
       "309    19470169  ABSORBANCE    p  19470169      13             NaN     NaN   \n",
       "308    19470169  ABSORBANCE    m  19470169      13             NaN     NaN   \n",
       "\n",
       "     use analysis  \n",
       "289          True  \n",
       "311          True  \n",
       "310          True  \n",
       "309          True  \n",
       "308          True  "
      ]
     },
     "execution_count": 3,
     "metadata": {},
     "output_type": "execute_result"
    }
   ],
   "source": [
    "worksheets.sort_values('Session').head() #Session 13 is first because session 12 was removed from analysis and session 10-11 were coded together"
   ]
  },
  {
   "cell_type": "code",
   "execution_count": 4,
   "metadata": {},
   "outputs": [],
   "source": [
    "ids = set(get_students_to_analyze_log())"
   ]
  },
  {
   "cell_type": "markdown",
   "metadata": {},
   "source": [
    "First we check that all ids in the worksheet metdata have two entries: one for pre and one for post"
   ]
  },
  {
   "cell_type": "code",
   "execution_count": 5,
   "metadata": {},
   "outputs": [
    {
     "name": "stdout",
     "output_type": "stream",
     "text": [
      "298 149\n",
      "set([])\n",
      "set([])\n",
      "[]\n",
      "All ids appear twice, one for pre and one for main in Absorbance\n"
     ]
    }
   ],
   "source": [
    "import collections\n",
    "ids_worksheets = list(worksheets[worksheets['use analysis']==True]['Student ID'])\n",
    "ids_other = list(worksheets[worksheets['use analysis']==True]['other id'])\n",
    "print len(ids_worksheets), len(set(ids_worksheets))\n",
    "pres = set(worksheets[worksheets['Type']=='p']['Student ID'])\n",
    "posts = set(worksheets[worksheets['Type']=='m']['Student ID'])\n",
    "print pres - posts\n",
    "print posts - pres\n",
    "print [item for item, count in collections.Counter(ids_worksheets).items() if count != 2]\n",
    "print \"All ids appear twice, one for pre and one for main in Absorbance\""
   ]
  },
  {
   "cell_type": "markdown",
   "metadata": {},
   "source": [
    "Now we check that all ids for which we have logs, we also have worksheet data for (according to the metadata file)"
   ]
  },
  {
   "cell_type": "code",
   "execution_count": 6,
   "metadata": {},
   "outputs": [
    {
     "name": "stdout",
     "output_type": "stream",
     "text": [
      "148 ids in worksheets and analyzable list\n",
      "0 ids not in worksheets\n",
      "1 ids not in only analyzable ids\n",
      "set([15554169L])\n"
     ]
    }
   ],
   "source": [
    "print len(ids&set(ids_worksheets)),\"ids in worksheets and analyzable list\"\n",
    "print  len(ids - set(ids_worksheets)),\"ids not in worksheets\"\n",
    "print len(set(ids_worksheets)-ids),\"ids not in only analyzable ids\"\n",
    "print set(ids_worksheets)-ids #15554169 is the id with the missing pre caps"
   ]
  },
  {
   "cell_type": "code",
   "execution_count": 7,
   "metadata": {
    "scrolled": false
   },
   "outputs": [
    {
     "name": "stdout",
     "output_type": "stream",
     "text": [
      "Ids not in worksheets:\n",
      "0\n",
      "These worksheets have yet to be coded\n"
     ]
    }
   ],
   "source": [
    "meta = get_student_metadata()\n",
    "print \"Ids not in worksheets:\"\n",
    "ids_to_sort = set(ids - set(ids_worksheets))\n",
    "for idd in ids_to_sort:\n",
    "    print idd, meta.loc[idd,'session'], idd in list(worksheets['other id'])\n",
    "print len(ids_to_sort)\n",
    "print \"These worksheets have yet to be coded\""
   ]
  },
  {
   "cell_type": "code",
   "execution_count": 8,
   "metadata": {},
   "outputs": [
    {
     "name": "stdout",
     "output_type": "stream",
     "text": [
      "148\n",
      "is the number of students for which we have beers worksheet + logs\n"
     ]
    }
   ],
   "source": [
    "print len(set(list(worksheets[worksheets['use analysis']==True]['Student ID']))&set(ids))\n",
    "print \"is the number of students for which we have beers worksheet + logs\""
   ]
  },
  {
   "cell_type": "markdown",
   "metadata": {},
   "source": [
    "Now we check that we indeed have the pre and post data promised by the worksheet metadata file."
   ]
  },
  {
   "cell_type": "code",
   "execution_count": 9,
   "metadata": {},
   "outputs": [],
   "source": [
    "pre = get_pre_worksheet_highest_understanding('beers')\n",
    "main = get_main_worksheet_highest_understanding('beers')"
   ]
  },
  {
   "cell_type": "code",
   "execution_count": 10,
   "metadata": {},
   "outputs": [
    {
     "data": {
      "text/html": [
       "<div>\n",
       "<style scoped>\n",
       "    .dataframe tbody tr th:only-of-type {\n",
       "        vertical-align: middle;\n",
       "    }\n",
       "\n",
       "    .dataframe tbody tr th {\n",
       "        vertical-align: top;\n",
       "    }\n",
       "\n",
       "    .dataframe thead th {\n",
       "        text-align: right;\n",
       "    }\n",
       "</style>\n",
       "<table border=\"1\" class=\"dataframe\">\n",
       "  <thead>\n",
       "    <tr style=\"text-align: right;\">\n",
       "      <th></th>\n",
       "      <th>Student ID</th>\n",
       "      <th>Concentration</th>\n",
       "      <th>Wavelength</th>\n",
       "      <th>Width</th>\n",
       "    </tr>\n",
       "  </thead>\n",
       "  <tbody>\n",
       "    <tr>\n",
       "      <th>0</th>\n",
       "      <td>10127163</td>\n",
       "      <td>1.0</td>\n",
       "      <td>1.0</td>\n",
       "      <td>1.0</td>\n",
       "    </tr>\n",
       "    <tr>\n",
       "      <th>1</th>\n",
       "      <td>10232160</td>\n",
       "      <td>1.0</td>\n",
       "      <td>1.0</td>\n",
       "      <td>1.0</td>\n",
       "    </tr>\n",
       "    <tr>\n",
       "      <th>2</th>\n",
       "      <td>10375160</td>\n",
       "      <td>1.0</td>\n",
       "      <td>1.0</td>\n",
       "      <td>0.0</td>\n",
       "    </tr>\n",
       "    <tr>\n",
       "      <th>3</th>\n",
       "      <td>10375163</td>\n",
       "      <td>0.0</td>\n",
       "      <td>1.0</td>\n",
       "      <td>1.0</td>\n",
       "    </tr>\n",
       "    <tr>\n",
       "      <th>4</th>\n",
       "      <td>10420167</td>\n",
       "      <td>1.0</td>\n",
       "      <td>1.0</td>\n",
       "      <td>0.0</td>\n",
       "    </tr>\n",
       "  </tbody>\n",
       "</table>\n",
       "</div>"
      ],
      "text/plain": [
       "   Student ID  Concentration  Wavelength  Width\n",
       "0    10127163            1.0         1.0    1.0\n",
       "1    10232160            1.0         1.0    1.0\n",
       "2    10375160            1.0         1.0    0.0\n",
       "3    10375163            0.0         1.0    1.0\n",
       "4    10420167            1.0         1.0    0.0"
      ]
     },
     "execution_count": 10,
     "metadata": {},
     "output_type": "execute_result"
    }
   ],
   "source": [
    "pre.head()"
   ]
  },
  {
   "cell_type": "code",
   "execution_count": 11,
   "metadata": {},
   "outputs": [
    {
     "name": "stdout",
     "output_type": "stream",
     "text": [
      " If nothing prints then we are golden!\n"
     ]
    }
   ],
   "source": [
    "for i in list(worksheets[worksheets['Type']=='p']['other id']):\n",
    "    if i not in list(pre['Student ID']):\n",
    "        print i, \"not in pre\"\n",
    "        \n",
    "for i in list(worksheets[worksheets['Type']=='m']['other id']):\n",
    "    if i not in list(main['Student ID']):\n",
    "        print i, \"not in main\"\n",
    "\n",
    "print \" If nothing prints then we are golden!\""
   ]
  },
  {
   "cell_type": "markdown",
   "metadata": {},
   "source": [
    "## caps"
   ]
  },
  {
   "cell_type": "markdown",
   "metadata": {},
   "source": [
    "Now we do the same for caps as we did for beers"
   ]
  },
  {
   "cell_type": "code",
   "execution_count": 12,
   "metadata": {},
   "outputs": [
    {
     "name": "stdout",
     "output_type": "stream",
     "text": [
      "312 156\n",
      "set([])\n",
      "set([15554169L])\n"
     ]
    }
   ],
   "source": [
    "%reload_ext utils_read_parsing\n",
    "worksheets = get_worksheet_metadata('caps')\n",
    "\n",
    "import collections\n",
    "ids_worksheets = list(worksheets[worksheets['use analysis']==True]['Student ID'])\n",
    "ids_other = list(worksheets[worksheets['use analysis']==True]['other id'])\n",
    "print len(ids_worksheets), len(set(ids_worksheets))\n",
    "pres = set(worksheets[worksheets['Type']=='p']['Student ID'])\n",
    "posts = set(worksheets[worksheets['Type']=='m']['Student ID'])\n",
    "print pres - posts\n",
    "print posts - pres\n",
    "# print [item for item, count in collections.Counter(ids_worksheets).items() if count != 2]\n",
    "# print \"All ids appear twice, one for pre and one for main in Capacitance\""
   ]
  },
  {
   "cell_type": "code",
   "execution_count": 13,
   "metadata": {},
   "outputs": [
    {
     "name": "stdout",
     "output_type": "stream",
     "text": [
      "148 ids in worksheets and analyzable list\n",
      "0 ids not in worksheets\n",
      "8 ids not in only analyzable ids\n"
     ]
    }
   ],
   "source": [
    "print len(ids&set(ids_worksheets)),\"ids in worksheets and analyzable list\"\n",
    "print  len(ids - set(ids_worksheets)),\"ids not in worksheets\"\n",
    "print len(set(ids_worksheets)-ids),\"ids not in only analyzable ids\""
   ]
  },
  {
   "cell_type": "code",
   "execution_count": 14,
   "metadata": {},
   "outputs": [
    {
     "name": "stdout",
     "output_type": "stream",
     "text": [
      "Ids not in worksheets:\n",
      "0\n",
      "These worksheets have yet to be coded\n"
     ]
    }
   ],
   "source": [
    "meta = get_student_metadata()\n",
    "print \"Ids not in worksheets:\"\n",
    "ids_to_sort = set(ids - set(ids_worksheets))\n",
    "for idd in ids_to_sort:\n",
    "    print idd, meta.loc[idd,'session'], idd in list(worksheets['other id'])\n",
    "print len(ids_to_sort)\n",
    "print \"These worksheets have yet to be coded\""
   ]
  },
  {
   "cell_type": "code",
   "execution_count": 15,
   "metadata": {},
   "outputs": [
    {
     "name": "stdout",
     "output_type": "stream",
     "text": [
      "Ids not in analyzeable logs\n",
      "19036162 19036162 Not found\n",
      "52193156 1\n",
      "11200165 1\n",
      "11669161 4\n",
      "12818156 1\n",
      "23784336 23784336    3\n",
      "23784336    3\n",
      "Name: session, dtype: int64\n",
      "27630167 1\n",
      "83459165 1\n",
      "These students were either removed from analysis, have typos in their ids consistent for caps pre and post, or are the two collided students\n"
     ]
    }
   ],
   "source": [
    "print \"Ids not in analyzeable logs\"\n",
    "ids_to_sort = set(ids_worksheets)-ids\n",
    "for idd in ids_to_sort:\n",
    "    try:\n",
    "        print idd,meta.loc[idd,'session']\n",
    "    except:\n",
    "        print idd, 'Not found'\n",
    "print \"These students were either removed from analysis, have typos in their ids consistent for caps pre and post, or are the two collided students\""
   ]
  },
  {
   "cell_type": "code",
   "execution_count": 16,
   "metadata": {},
   "outputs": [],
   "source": [
    "pre = get_pre_worksheet_highest_understanding('caps')\n",
    "main = get_main_worksheet_highest_understanding('caps')"
   ]
  },
  {
   "cell_type": "code",
   "execution_count": 17,
   "metadata": {},
   "outputs": [
    {
     "name": "stdout",
     "output_type": "stream",
     "text": [
      " If nothing prints then we are golden!\n"
     ]
    }
   ],
   "source": [
    "for i in list(worksheets[worksheets['Type']=='p']['other id']):\n",
    "    if i not in list(pre['Student ID']):\n",
    "        print i, \"not in pre\"\n",
    "        \n",
    "for i in list(worksheets[worksheets['Type']=='m']['other id']):\n",
    "    if i not in list(main['Student ID']):\n",
    "        print i, \"not in main\"\n",
    "\n",
    "print \" If nothing prints then we are golden!\""
   ]
  },
  {
   "cell_type": "markdown",
   "metadata": {},
   "source": [
    "# Packaging the data for analyis"
   ]
  },
  {
   "cell_type": "code",
   "execution_count": 18,
   "metadata": {},
   "outputs": [],
   "source": [
    "metadata_L = get_worksheet_metadata('beers')\n",
    "metadata_C = get_worksheet_metadata('caps')\n",
    "# worksheets_L = get_worksheet_data_per_sim('beers')\n",
    "# worksheets_C = get_worksheet_data_per_sim('caps')\n",
    "pre_L = get_pre_worksheet_highest_understanding('beers')\n",
    "main_L = get_main_worksheet_highest_understanding('beers')\n",
    "pre_C = get_pre_worksheet_highest_understanding('caps')\n",
    "main_C = get_main_worksheet_highest_understanding('caps')"
   ]
  },
  {
   "cell_type": "code",
   "execution_count": 19,
   "metadata": {},
   "outputs": [],
   "source": [
    "#keep only students we actually want to anlyze\n",
    "pre_L= pre_L[pre_L['Student ID'].isin(metadata_L[(metadata_L['Type']=='p')&metadata_L['Student ID'].isin(ids)]['other id'].values)]\n",
    "main_L= main_L[main_L['Student ID'].isin(metadata_L[(metadata_L['Type']=='m')&metadata_L['Student ID'].isin(ids)]['other id'].values)]\n",
    "pre_C= pre_C[pre_C['Student ID'].isin(metadata_C[(metadata_C['Type']=='p')&metadata_C['Student ID'].isin(ids)]['other id'].values)]\n",
    "main_C= main_C[main_C['Student ID'].isin(metadata_C[(metadata_C['Type']=='m')&metadata_C['Student ID'].isin(ids)]['other id'].values)]\n",
    "\n",
    "\n",
    "#ids in pre/post match \"other id\" in worksheet metadata so we need to assign the correct id in logs for each entry in pre/post\n",
    "pre_L['sid'] = pre_L['Student ID'].apply(lambda row: metadata_L.loc[metadata_L[(metadata_L['other id']==row)].index[0],'Student ID'])\n",
    "main_L['sid'] = main_L['Student ID'].apply(lambda row: metadata_L.loc[metadata_L[metadata_L['other id']==row].index[0],'Student ID'])\n",
    "pre_C['sid'] = pre_C['Student ID'].apply(lambda row: metadata_C.loc[metadata_C[(metadata_C['other id']==row)].index[0],'Student ID'])\n",
    "main_C['sid'] = main_C['Student ID'].apply(lambda row: metadata_C.loc[metadata_C[metadata_C['other id']==row].index[0],'Student ID'])"
   ]
  },
  {
   "cell_type": "code",
   "execution_count": 20,
   "metadata": {},
   "outputs": [
    {
     "name": "stdout",
     "output_type": "stream",
     "text": [
      "True\n",
      "True\n",
      "True\n",
      "True\n"
     ]
    }
   ],
   "source": [
    "print set(pre_L['sid'])==ids\n",
    "print set(pre_C['sid'])==ids\n",
    "print set(main_L['sid'])==ids\n",
    "print set(main_C['sid'])==ids"
   ]
  },
  {
   "cell_type": "code",
   "execution_count": 21,
   "metadata": {},
   "outputs": [],
   "source": [
    "pre_L['sim']='L'\n",
    "main_L['sim']='L'\n",
    "pre_C['sim']='C'\n",
    "main_C['sim']='C'"
   ]
  },
  {
   "cell_type": "code",
   "execution_count": 22,
   "metadata": {},
   "outputs": [],
   "source": [
    "pre_L_new = pd.melt(pre_L, id_vars=['sid'], value_vars=['Concentration','Wavelength','Width'],value_name='pre_highest')\n",
    "pre_L_new['sim'] = 'L'\n",
    "main_L_new = pd.melt(main_L, id_vars=['sid'], value_vars=['Concentration','Wavelength','Width'],value_name='main_highest')\n",
    "pre_C_new = pd.melt(pre_C, id_vars=['sid'], value_vars=['Area','Separation','Battery voltage'],value_name='pre_highest')\n",
    "pre_C_new['sim'] = 'C'\n",
    "main_C_new = pd.melt(main_C, id_vars=['sid'], value_vars=['Area','Separation','Battery voltage'],value_name='main_highest')"
   ]
  },
  {
   "cell_type": "code",
   "execution_count": 23,
   "metadata": {},
   "outputs": [
    {
     "data": {
      "text/html": [
       "<div>\n",
       "<style scoped>\n",
       "    .dataframe tbody tr th:only-of-type {\n",
       "        vertical-align: middle;\n",
       "    }\n",
       "\n",
       "    .dataframe tbody tr th {\n",
       "        vertical-align: top;\n",
       "    }\n",
       "\n",
       "    .dataframe thead th {\n",
       "        text-align: right;\n",
       "    }\n",
       "</style>\n",
       "<table border=\"1\" class=\"dataframe\">\n",
       "  <thead>\n",
       "    <tr style=\"text-align: right;\">\n",
       "      <th></th>\n",
       "      <th>sid</th>\n",
       "      <th>variable</th>\n",
       "      <th>main_highest</th>\n",
       "    </tr>\n",
       "  </thead>\n",
       "  <tbody>\n",
       "    <tr>\n",
       "      <th>0</th>\n",
       "      <td>10127163</td>\n",
       "      <td>Area</td>\n",
       "      <td>3</td>\n",
       "    </tr>\n",
       "    <tr>\n",
       "      <th>1</th>\n",
       "      <td>10232160</td>\n",
       "      <td>Area</td>\n",
       "      <td>3</td>\n",
       "    </tr>\n",
       "    <tr>\n",
       "      <th>2</th>\n",
       "      <td>10537160</td>\n",
       "      <td>Area</td>\n",
       "      <td>0</td>\n",
       "    </tr>\n",
       "    <tr>\n",
       "      <th>3</th>\n",
       "      <td>10375163</td>\n",
       "      <td>Area</td>\n",
       "      <td>3</td>\n",
       "    </tr>\n",
       "    <tr>\n",
       "      <th>4</th>\n",
       "      <td>10420167</td>\n",
       "      <td>Area</td>\n",
       "      <td>3</td>\n",
       "    </tr>\n",
       "  </tbody>\n",
       "</table>\n",
       "</div>"
      ],
      "text/plain": [
       "        sid variable  main_highest\n",
       "0  10127163     Area             3\n",
       "1  10232160     Area             3\n",
       "2  10537160     Area             0\n",
       "3  10375163     Area             3\n",
       "4  10420167     Area             3"
      ]
     },
     "execution_count": 23,
     "metadata": {},
     "output_type": "execute_result"
    }
   ],
   "source": [
    "main_C_new.head()"
   ]
  },
  {
   "cell_type": "code",
   "execution_count": 24,
   "metadata": {},
   "outputs": [
    {
     "data": {
      "text/plain": [
       "(444, 4)"
      ]
     },
     "execution_count": 24,
     "metadata": {},
     "output_type": "execute_result"
    }
   ],
   "source": [
    "pre_L_new.shape"
   ]
  },
  {
   "cell_type": "code",
   "execution_count": 25,
   "metadata": {},
   "outputs": [],
   "source": [
    "pre = pd.concat([pre_L_new,pre_C_new],axis=0)\n",
    "main = pd.concat([main_L_new,main_C_new],axis=0)"
   ]
  },
  {
   "cell_type": "code",
   "execution_count": 26,
   "metadata": {},
   "outputs": [],
   "source": [
    "worksheet_data = pre.merge(main, on=['sid','variable'], how=\"inner\")"
   ]
  },
  {
   "cell_type": "code",
   "execution_count": 27,
   "metadata": {},
   "outputs": [
    {
     "data": {
      "text/plain": [
       "(888, 5)"
      ]
     },
     "execution_count": 27,
     "metadata": {},
     "output_type": "execute_result"
    }
   ],
   "source": [
    "worksheet_data.shape"
   ]
  },
  {
   "cell_type": "code",
   "execution_count": 28,
   "metadata": {},
   "outputs": [
    {
     "data": {
      "text/html": [
       "<div>\n",
       "<style scoped>\n",
       "    .dataframe tbody tr th:only-of-type {\n",
       "        vertical-align: middle;\n",
       "    }\n",
       "\n",
       "    .dataframe tbody tr th {\n",
       "        vertical-align: top;\n",
       "    }\n",
       "\n",
       "    .dataframe thead th {\n",
       "        text-align: right;\n",
       "    }\n",
       "</style>\n",
       "<table border=\"1\" class=\"dataframe\">\n",
       "  <thead>\n",
       "    <tr style=\"text-align: right;\">\n",
       "      <th></th>\n",
       "      <th>sid</th>\n",
       "      <th>variable</th>\n",
       "      <th>pre_highest</th>\n",
       "      <th>sim</th>\n",
       "      <th>main_highest</th>\n",
       "    </tr>\n",
       "  </thead>\n",
       "  <tbody>\n",
       "    <tr>\n",
       "      <th>0</th>\n",
       "      <td>10127163</td>\n",
       "      <td>Concentration</td>\n",
       "      <td>1.0</td>\n",
       "      <td>L</td>\n",
       "      <td>3.0</td>\n",
       "    </tr>\n",
       "    <tr>\n",
       "      <th>148</th>\n",
       "      <td>10127163</td>\n",
       "      <td>Wavelength</td>\n",
       "      <td>1.0</td>\n",
       "      <td>L</td>\n",
       "      <td>1.0</td>\n",
       "    </tr>\n",
       "    <tr>\n",
       "      <th>296</th>\n",
       "      <td>10127163</td>\n",
       "      <td>Width</td>\n",
       "      <td>1.0</td>\n",
       "      <td>L</td>\n",
       "      <td>3.0</td>\n",
       "    </tr>\n",
       "    <tr>\n",
       "      <th>444</th>\n",
       "      <td>10127163</td>\n",
       "      <td>Area</td>\n",
       "      <td>3.0</td>\n",
       "      <td>C</td>\n",
       "      <td>3.0</td>\n",
       "    </tr>\n",
       "    <tr>\n",
       "      <th>592</th>\n",
       "      <td>10127163</td>\n",
       "      <td>Separation</td>\n",
       "      <td>3.0</td>\n",
       "      <td>C</td>\n",
       "      <td>3.0</td>\n",
       "    </tr>\n",
       "  </tbody>\n",
       "</table>\n",
       "</div>"
      ],
      "text/plain": [
       "          sid       variable  pre_highest sim  main_highest\n",
       "0    10127163  Concentration          1.0   L           3.0\n",
       "148  10127163     Wavelength          1.0   L           1.0\n",
       "296  10127163          Width          1.0   L           3.0\n",
       "444  10127163           Area          3.0   C           3.0\n",
       "592  10127163     Separation          3.0   C           3.0"
      ]
     },
     "execution_count": 28,
     "metadata": {},
     "output_type": "execute_result"
    }
   ],
   "source": [
    "worksheet_data.sort_values(\"sid\").head()"
   ]
  },
  {
   "cell_type": "code",
   "execution_count": 30,
   "metadata": {},
   "outputs": [],
   "source": [
    "worksheet_data.to_csv(os.path.join(BIG_FOLDER,'all_massaged_data\\\\worksheets_highest_understanding.txt'), sep='\\t', index=False)"
   ]
  }
 ],
 "metadata": {
  "anaconda-cloud": {},
  "kernelspec": {
   "display_name": "Python 2",
   "language": "python",
   "name": "python2"
  },
  "language_info": {
   "codemirror_mode": {
    "name": "ipython",
    "version": 2
   },
   "file_extension": ".py",
   "mimetype": "text/x-python",
   "name": "python",
   "nbconvert_exporter": "python",
   "pygments_lexer": "ipython2",
   "version": "2.7.13"
  },
  "toc": {
   "nav_menu": {
    "height": "231px",
    "width": "504px"
   },
   "number_sections": true,
   "sideBar": false,
   "skip_h1_title": false,
   "toc_cell": false,
   "toc_position": {},
   "toc_section_display": "block",
   "toc_window_display": false
  }
 },
 "nbformat": 4,
 "nbformat_minor": 1
}
