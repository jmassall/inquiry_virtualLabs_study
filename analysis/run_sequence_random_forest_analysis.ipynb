{
 "cells": [
  {
   "cell_type": "markdown",
   "metadata": {},
   "source": [
    "# About run_sequence_clustering_analysis\n",
    "\n",
    "This notebook clusters action sequences and analyzes the resulting clusters"
   ]
  },
  {
   "cell_type": "code",
   "execution_count": 1,
   "metadata": {
    "scrolled": true
   },
   "outputs": [],
   "source": [
    "%load_ext autoreload\n",
    "%autoreload 1\n",
    "%aimport utils_timeline_viz\n",
    "%aimport utils_read_parsing\n",
    "%aimport generalized_seq_miner\n",
    "from utils_timeline_viz import *\n",
    "from utils_read_parsing import *\n",
    "from generalized_seq_miner import *\n",
    "%matplotlib inline\n",
    "matplotlib.style.use('ggplot')\n",
    "matplotlib.rcParams['figure.figsize'] = 12,4\n",
    "from matplotlib.backends.backend_pdf import PdfPages\n",
    "import os\n",
    "import numpy as np\n",
    "import pandas as pd\n",
    "import getpass\n",
    "import datetime\n",
    "import json\n",
    "import matplotlib\n",
    "import matplotlib.pyplot as plt\n",
    "from itertools import groupby\n",
    "from tabulate import tabulate\n",
    "pd.set_option('display.max_columns', None);pd.set_option('display.max_rows', None);pd.set_option('precision', 2)\n",
    "# FOLDER =  'C:\\\\Users\\\\'+getpass.getuser()+'\\\\Documents\\\\Personal Content\\\\Lab_skills_study\\\\parsed log data'"
   ]
  },
  {
   "cell_type": "markdown",
   "metadata": {},
   "source": [
    "# Loading data"
   ]
  },
  {
   "cell_type": "markdown",
   "metadata": {},
   "source": [
    "We grab the student learning data"
   ]
  },
  {
   "cell_type": "code",
   "execution_count": 2,
   "metadata": {},
   "outputs": [
    {
     "name": "stdout",
     "output_type": "stream",
     "text": [
      "We have 147 students.\n",
      "Running the analaysis on the following variables: Width, Concentration, Separation, Area\n"
     ]
    }
   ],
   "source": [
    "df_all = get_df_all_factors(all_vars=False)\n",
    "variables = list(set(df_all['variable']))\n",
    "ids = list(set(df_all['sid']))\n",
    "N = len(ids)\n",
    "print 'We have',N,'students.'\n",
    "print 'Running the analaysis on the following variables:',', '.join(variables)"
   ]
  },
  {
   "cell_type": "markdown",
   "metadata": {},
   "source": [
    "We grab the sequences"
   ]
  },
  {
   "cell_type": "code",
   "execution_count": 3,
   "metadata": {},
   "outputs": [],
   "source": [
    "import pickle\n",
    "from utils_sequence_parsing import Sequence\n",
    "pickle_in_seqs = open(os.path.join(BIG_FOLDER,'all_massaged_data\\\\dict_by_sim_by_student_parsed_seqs.txt'),\"r\")\n",
    "all_seqs = pickle.load(pickle_in_seqs)\n",
    "pickle_in_seqs.close()"
   ]
  },
  {
   "cell_type": "markdown",
   "metadata": {},
   "source": [
    "## We grab our students and their productivity group"
   ]
  },
  {
   "cell_type": "code",
   "execution_count": 4,
   "metadata": {},
   "outputs": [
    {
     "data": {
      "text/html": [
       "<div>\n",
       "<style scoped>\n",
       "    .dataframe tbody tr th:only-of-type {\n",
       "        vertical-align: middle;\n",
       "    }\n",
       "\n",
       "    .dataframe tbody tr th {\n",
       "        vertical-align: top;\n",
       "    }\n",
       "\n",
       "    .dataframe thead tr th {\n",
       "        text-align: left;\n",
       "    }\n",
       "\n",
       "    .dataframe thead tr:last-of-type th {\n",
       "        text-align: right;\n",
       "    }\n",
       "</style>\n",
       "<table border=\"1\" class=\"dataframe\">\n",
       "  <thead>\n",
       "    <tr>\n",
       "      <th></th>\n",
       "      <th></th>\n",
       "      <th colspan=\"8\" halign=\"left\">main</th>\n",
       "      <th colspan=\"8\" halign=\"left\">pre</th>\n",
       "    </tr>\n",
       "    <tr>\n",
       "      <th></th>\n",
       "      <th></th>\n",
       "      <th>count</th>\n",
       "      <th>mean</th>\n",
       "      <th>std</th>\n",
       "      <th>min</th>\n",
       "      <th>25%</th>\n",
       "      <th>50%</th>\n",
       "      <th>75%</th>\n",
       "      <th>max</th>\n",
       "      <th>count</th>\n",
       "      <th>mean</th>\n",
       "      <th>std</th>\n",
       "      <th>min</th>\n",
       "      <th>25%</th>\n",
       "      <th>50%</th>\n",
       "      <th>75%</th>\n",
       "      <th>max</th>\n",
       "    </tr>\n",
       "    <tr>\n",
       "      <th>sim_index</th>\n",
       "      <th>group</th>\n",
       "      <th></th>\n",
       "      <th></th>\n",
       "      <th></th>\n",
       "      <th></th>\n",
       "      <th></th>\n",
       "      <th></th>\n",
       "      <th></th>\n",
       "      <th></th>\n",
       "      <th></th>\n",
       "      <th></th>\n",
       "      <th></th>\n",
       "      <th></th>\n",
       "      <th></th>\n",
       "      <th></th>\n",
       "      <th></th>\n",
       "      <th></th>\n",
       "    </tr>\n",
       "  </thead>\n",
       "  <tbody>\n",
       "    <tr>\n",
       "      <th rowspan=\"2\" valign=\"top\">1</th>\n",
       "      <th>LP</th>\n",
       "      <td>48.0</td>\n",
       "      <td>1.71</td>\n",
       "      <td>0.46</td>\n",
       "      <td>1.0</td>\n",
       "      <td>1.0</td>\n",
       "      <td>2.0</td>\n",
       "      <td>2.0</td>\n",
       "      <td>2.0</td>\n",
       "      <td>48.0</td>\n",
       "      <td>0.0</td>\n",
       "      <td>0.0</td>\n",
       "      <td>0.0</td>\n",
       "      <td>0.0</td>\n",
       "      <td>0.0</td>\n",
       "      <td>0.0</td>\n",
       "      <td>0.0</td>\n",
       "    </tr>\n",
       "    <tr>\n",
       "      <th>LU</th>\n",
       "      <td>85.0</td>\n",
       "      <td>0.00</td>\n",
       "      <td>0.00</td>\n",
       "      <td>0.0</td>\n",
       "      <td>0.0</td>\n",
       "      <td>0.0</td>\n",
       "      <td>0.0</td>\n",
       "      <td>0.0</td>\n",
       "      <td>85.0</td>\n",
       "      <td>0.0</td>\n",
       "      <td>0.0</td>\n",
       "      <td>0.0</td>\n",
       "      <td>0.0</td>\n",
       "      <td>0.0</td>\n",
       "      <td>0.0</td>\n",
       "      <td>0.0</td>\n",
       "    </tr>\n",
       "    <tr>\n",
       "      <th rowspan=\"2\" valign=\"top\">2</th>\n",
       "      <th>LP</th>\n",
       "      <td>71.0</td>\n",
       "      <td>1.70</td>\n",
       "      <td>0.46</td>\n",
       "      <td>1.0</td>\n",
       "      <td>1.0</td>\n",
       "      <td>2.0</td>\n",
       "      <td>2.0</td>\n",
       "      <td>2.0</td>\n",
       "      <td>71.0</td>\n",
       "      <td>0.0</td>\n",
       "      <td>0.0</td>\n",
       "      <td>0.0</td>\n",
       "      <td>0.0</td>\n",
       "      <td>0.0</td>\n",
       "      <td>0.0</td>\n",
       "      <td>0.0</td>\n",
       "    </tr>\n",
       "    <tr>\n",
       "      <th>LU</th>\n",
       "      <td>63.0</td>\n",
       "      <td>0.00</td>\n",
       "      <td>0.00</td>\n",
       "      <td>0.0</td>\n",
       "      <td>0.0</td>\n",
       "      <td>0.0</td>\n",
       "      <td>0.0</td>\n",
       "      <td>0.0</td>\n",
       "      <td>63.0</td>\n",
       "      <td>0.0</td>\n",
       "      <td>0.0</td>\n",
       "      <td>0.0</td>\n",
       "      <td>0.0</td>\n",
       "      <td>0.0</td>\n",
       "      <td>0.0</td>\n",
       "      <td>0.0</td>\n",
       "    </tr>\n",
       "  </tbody>\n",
       "</table>\n",
       "</div>"
      ],
      "text/plain": [
       "                 main                                        pre            \\\n",
       "                count  mean   std  min  25%  50%  75%  max count mean  std   \n",
       "sim_index group                                                              \n",
       "1         LP     48.0  1.71  0.46  1.0  1.0  2.0  2.0  2.0  48.0  0.0  0.0   \n",
       "          LU     85.0  0.00  0.00  0.0  0.0  0.0  0.0  0.0  85.0  0.0  0.0   \n",
       "2         LP     71.0  1.70  0.46  1.0  1.0  2.0  2.0  2.0  71.0  0.0  0.0   \n",
       "          LU     63.0  0.00  0.00  0.0  0.0  0.0  0.0  0.0  63.0  0.0  0.0   \n",
       "\n",
       "                                          \n",
       "                 min  25%  50%  75%  max  \n",
       "sim_index group                           \n",
       "1         LP     0.0  0.0  0.0  0.0  0.0  \n",
       "          LU     0.0  0.0  0.0  0.0  0.0  \n",
       "2         LP     0.0  0.0  0.0  0.0  0.0  \n",
       "          LU     0.0  0.0  0.0  0.0  0.0  "
      ]
     },
     "execution_count": 4,
     "metadata": {},
     "output_type": "execute_result"
    }
   ],
   "source": [
    "def make_group(row):\n",
    "    if row['pre']==2:\n",
    "        return 'Hpre'\n",
    "    elif row['pre']==0 and row['main']==0:\n",
    "        return 'LU'\n",
    "    elif row['pre']==0 and row['main']==1:\n",
    "        return 'LP'\n",
    "    elif row['pre']==0 and row['main']==2:\n",
    "        return 'LP'\n",
    "    elif row['pre']==1 and row['main']==0:\n",
    "        return 'MU'\n",
    "    elif row['pre']==1 and row['main']==1:\n",
    "        return 'MU'\n",
    "    elif row['pre']==1 and row['main']==2:\n",
    "        return 'MP'\n",
    "    else:\n",
    "        print row #can't classify student, something is wrong\n",
    "    \n",
    "def count_exact(scores):\n",
    "    return int(sum([s==2.0 for s in scores]))\n",
    "\n",
    "scores = pd.pivot_table(df_all, values=['pre','main'], index=['sid','sim_index'], aggfunc=count_exact)\n",
    "scores['group'] = scores.apply(make_group,axis=1)\n",
    "\n",
    "scores = scores[scores['group'].isin(['LU','LP'])]\n",
    "scores.groupby(['sim_index','group']).describe()"
   ]
  },
  {
   "cell_type": "code",
   "execution_count": 5,
   "metadata": {},
   "outputs": [],
   "source": [
    "df_all = df_all.merge(scores[['group']], how='outer', on=['sid','sim_index']);\n",
    "df_all.dropna(inplace=True)"
   ]
  },
  {
   "cell_type": "markdown",
   "metadata": {},
   "source": [
    "We translate to which sequences were productive"
   ]
  },
  {
   "cell_type": "code",
   "execution_count": 6,
   "metadata": {},
   "outputs": [
    {
     "data": {
      "text/html": [
       "<div>\n",
       "<style scoped>\n",
       "    .dataframe tbody tr th:only-of-type {\n",
       "        vertical-align: middle;\n",
       "    }\n",
       "\n",
       "    .dataframe tbody tr th {\n",
       "        vertical-align: top;\n",
       "    }\n",
       "\n",
       "    .dataframe thead th {\n",
       "        text-align: right;\n",
       "    }\n",
       "</style>\n",
       "<table border=\"1\" class=\"dataframe\">\n",
       "  <thead>\n",
       "    <tr style=\"text-align: right;\">\n",
       "      <th></th>\n",
       "      <th>sid</th>\n",
       "      <th>sim</th>\n",
       "      <th>variable</th>\n",
       "      <th>pre</th>\n",
       "      <th>main</th>\n",
       "      <th>cvs_graph</th>\n",
       "      <th>cvs_table</th>\n",
       "      <th>cvs_table_only</th>\n",
       "      <th>cvs_graph_inverse</th>\n",
       "      <th>cvs_graph_axes</th>\n",
       "      <th>qual_score</th>\n",
       "      <th>quant_score</th>\n",
       "      <th>activity_order</th>\n",
       "      <th>sim_index</th>\n",
       "      <th>similar_sim</th>\n",
       "      <th>lab_experience</th>\n",
       "      <th>lab_experience_chem</th>\n",
       "      <th>lab_experience_phys</th>\n",
       "      <th>prior_number_virtual_labs</th>\n",
       "      <th>overall POCC</th>\n",
       "      <th>PC1</th>\n",
       "      <th>PC2</th>\n",
       "      <th>pre_with_ident</th>\n",
       "      <th>main_with_ident</th>\n",
       "      <th>CVS_context</th>\n",
       "      <th>use_table</th>\n",
       "      <th>use_graph</th>\n",
       "      <th>use_concentration</th>\n",
       "      <th>use_width</th>\n",
       "      <th>use_area</th>\n",
       "      <th>use_separation</th>\n",
       "      <th>use_all_vars</th>\n",
       "      <th>use_graph_beers</th>\n",
       "      <th>use_table_beers</th>\n",
       "      <th>use_table_capacitor</th>\n",
       "      <th>use_graph_capacitor</th>\n",
       "      <th>group</th>\n",
       "    </tr>\n",
       "  </thead>\n",
       "  <tbody>\n",
       "    <tr>\n",
       "      <th>0</th>\n",
       "      <td>10127163</td>\n",
       "      <td>L</td>\n",
       "      <td>Concentration</td>\n",
       "      <td>0.0</td>\n",
       "      <td>2.0</td>\n",
       "      <td>1.0</td>\n",
       "      <td>1.0</td>\n",
       "      <td>0.0</td>\n",
       "      <td>0</td>\n",
       "      <td>1.0</td>\n",
       "      <td>1.0</td>\n",
       "      <td>1.0</td>\n",
       "      <td>LC</td>\n",
       "      <td>1</td>\n",
       "      <td>0</td>\n",
       "      <td>1.0</td>\n",
       "      <td>1.0</td>\n",
       "      <td>1.0</td>\n",
       "      <td>1</td>\n",
       "      <td>17</td>\n",
       "      <td>-0.62</td>\n",
       "      <td>0.63</td>\n",
       "      <td>1.0</td>\n",
       "      <td>3.0</td>\n",
       "      <td>2.0</td>\n",
       "      <td>1</td>\n",
       "      <td>1</td>\n",
       "      <td>1</td>\n",
       "      <td>1</td>\n",
       "      <td>1</td>\n",
       "      <td>1</td>\n",
       "      <td>4</td>\n",
       "      <td>1</td>\n",
       "      <td>1</td>\n",
       "      <td>1</td>\n",
       "      <td>1</td>\n",
       "      <td>LP</td>\n",
       "    </tr>\n",
       "    <tr>\n",
       "      <th>1</th>\n",
       "      <td>10127163</td>\n",
       "      <td>L</td>\n",
       "      <td>Width</td>\n",
       "      <td>0.0</td>\n",
       "      <td>2.0</td>\n",
       "      <td>1.0</td>\n",
       "      <td>1.0</td>\n",
       "      <td>0.0</td>\n",
       "      <td>0</td>\n",
       "      <td>1.0</td>\n",
       "      <td>1.0</td>\n",
       "      <td>1.0</td>\n",
       "      <td>LC</td>\n",
       "      <td>1</td>\n",
       "      <td>0</td>\n",
       "      <td>1.0</td>\n",
       "      <td>1.0</td>\n",
       "      <td>1.0</td>\n",
       "      <td>1</td>\n",
       "      <td>17</td>\n",
       "      <td>-0.62</td>\n",
       "      <td>0.63</td>\n",
       "      <td>1.0</td>\n",
       "      <td>3.0</td>\n",
       "      <td>2.0</td>\n",
       "      <td>1</td>\n",
       "      <td>1</td>\n",
       "      <td>1</td>\n",
       "      <td>1</td>\n",
       "      <td>1</td>\n",
       "      <td>1</td>\n",
       "      <td>4</td>\n",
       "      <td>1</td>\n",
       "      <td>1</td>\n",
       "      <td>1</td>\n",
       "      <td>1</td>\n",
       "      <td>LP</td>\n",
       "    </tr>\n",
       "    <tr>\n",
       "      <th>4</th>\n",
       "      <td>10232160</td>\n",
       "      <td>L</td>\n",
       "      <td>Concentration</td>\n",
       "      <td>0.0</td>\n",
       "      <td>0.0</td>\n",
       "      <td>1.0</td>\n",
       "      <td>1.0</td>\n",
       "      <td>0.0</td>\n",
       "      <td>1</td>\n",
       "      <td>2.0</td>\n",
       "      <td>1.0</td>\n",
       "      <td>1.0</td>\n",
       "      <td>LC</td>\n",
       "      <td>1</td>\n",
       "      <td>1</td>\n",
       "      <td>1.0</td>\n",
       "      <td>1.0</td>\n",
       "      <td>1.0</td>\n",
       "      <td>1</td>\n",
       "      <td>15</td>\n",
       "      <td>-1.04</td>\n",
       "      <td>-0.42</td>\n",
       "      <td>1.0</td>\n",
       "      <td>1.0</td>\n",
       "      <td>2.0</td>\n",
       "      <td>1</td>\n",
       "      <td>1</td>\n",
       "      <td>1</td>\n",
       "      <td>1</td>\n",
       "      <td>1</td>\n",
       "      <td>1</td>\n",
       "      <td>4</td>\n",
       "      <td>1</td>\n",
       "      <td>1</td>\n",
       "      <td>1</td>\n",
       "      <td>1</td>\n",
       "      <td>LU</td>\n",
       "    </tr>\n",
       "    <tr>\n",
       "      <th>5</th>\n",
       "      <td>10232160</td>\n",
       "      <td>L</td>\n",
       "      <td>Width</td>\n",
       "      <td>0.0</td>\n",
       "      <td>0.0</td>\n",
       "      <td>0.0</td>\n",
       "      <td>0.0</td>\n",
       "      <td>0.0</td>\n",
       "      <td>0</td>\n",
       "      <td>0.0</td>\n",
       "      <td>1.0</td>\n",
       "      <td>1.0</td>\n",
       "      <td>LC</td>\n",
       "      <td>1</td>\n",
       "      <td>1</td>\n",
       "      <td>1.0</td>\n",
       "      <td>1.0</td>\n",
       "      <td>1.0</td>\n",
       "      <td>1</td>\n",
       "      <td>15</td>\n",
       "      <td>-1.04</td>\n",
       "      <td>-0.42</td>\n",
       "      <td>1.0</td>\n",
       "      <td>1.0</td>\n",
       "      <td>0.0</td>\n",
       "      <td>1</td>\n",
       "      <td>1</td>\n",
       "      <td>1</td>\n",
       "      <td>1</td>\n",
       "      <td>1</td>\n",
       "      <td>1</td>\n",
       "      <td>4</td>\n",
       "      <td>1</td>\n",
       "      <td>1</td>\n",
       "      <td>1</td>\n",
       "      <td>1</td>\n",
       "      <td>LU</td>\n",
       "    </tr>\n",
       "    <tr>\n",
       "      <th>6</th>\n",
       "      <td>10232160</td>\n",
       "      <td>C</td>\n",
       "      <td>Area</td>\n",
       "      <td>0.0</td>\n",
       "      <td>2.0</td>\n",
       "      <td>1.0</td>\n",
       "      <td>1.0</td>\n",
       "      <td>0.0</td>\n",
       "      <td>0</td>\n",
       "      <td>1.0</td>\n",
       "      <td>1.0</td>\n",
       "      <td>1.0</td>\n",
       "      <td>LC</td>\n",
       "      <td>2</td>\n",
       "      <td>0</td>\n",
       "      <td>1.0</td>\n",
       "      <td>1.0</td>\n",
       "      <td>1.0</td>\n",
       "      <td>1</td>\n",
       "      <td>15</td>\n",
       "      <td>-1.04</td>\n",
       "      <td>-0.42</td>\n",
       "      <td>1.0</td>\n",
       "      <td>3.0</td>\n",
       "      <td>2.0</td>\n",
       "      <td>1</td>\n",
       "      <td>1</td>\n",
       "      <td>1</td>\n",
       "      <td>1</td>\n",
       "      <td>1</td>\n",
       "      <td>1</td>\n",
       "      <td>4</td>\n",
       "      <td>1</td>\n",
       "      <td>1</td>\n",
       "      <td>1</td>\n",
       "      <td>1</td>\n",
       "      <td>LP</td>\n",
       "    </tr>\n",
       "  </tbody>\n",
       "</table>\n",
       "</div>"
      ],
      "text/plain": [
       "        sid sim       variable  pre  main  cvs_graph  cvs_table  \\\n",
       "0  10127163   L  Concentration  0.0   2.0        1.0        1.0   \n",
       "1  10127163   L          Width  0.0   2.0        1.0        1.0   \n",
       "4  10232160   L  Concentration  0.0   0.0        1.0        1.0   \n",
       "5  10232160   L          Width  0.0   0.0        0.0        0.0   \n",
       "6  10232160   C           Area  0.0   2.0        1.0        1.0   \n",
       "\n",
       "   cvs_table_only  cvs_graph_inverse  cvs_graph_axes  qual_score  quant_score  \\\n",
       "0             0.0                  0             1.0         1.0          1.0   \n",
       "1             0.0                  0             1.0         1.0          1.0   \n",
       "4             0.0                  1             2.0         1.0          1.0   \n",
       "5             0.0                  0             0.0         1.0          1.0   \n",
       "6             0.0                  0             1.0         1.0          1.0   \n",
       "\n",
       "  activity_order  sim_index  similar_sim  lab_experience  lab_experience_chem  \\\n",
       "0             LC          1            0             1.0                  1.0   \n",
       "1             LC          1            0             1.0                  1.0   \n",
       "4             LC          1            1             1.0                  1.0   \n",
       "5             LC          1            1             1.0                  1.0   \n",
       "6             LC          2            0             1.0                  1.0   \n",
       "\n",
       "   lab_experience_phys  prior_number_virtual_labs  overall POCC   PC1   PC2  \\\n",
       "0                  1.0                          1            17 -0.62  0.63   \n",
       "1                  1.0                          1            17 -0.62  0.63   \n",
       "4                  1.0                          1            15 -1.04 -0.42   \n",
       "5                  1.0                          1            15 -1.04 -0.42   \n",
       "6                  1.0                          1            15 -1.04 -0.42   \n",
       "\n",
       "   pre_with_ident  main_with_ident  CVS_context  use_table  use_graph  \\\n",
       "0             1.0              3.0          2.0          1          1   \n",
       "1             1.0              3.0          2.0          1          1   \n",
       "4             1.0              1.0          2.0          1          1   \n",
       "5             1.0              1.0          0.0          1          1   \n",
       "6             1.0              3.0          2.0          1          1   \n",
       "\n",
       "   use_concentration  use_width  use_area  use_separation  use_all_vars  \\\n",
       "0                  1          1         1               1             4   \n",
       "1                  1          1         1               1             4   \n",
       "4                  1          1         1               1             4   \n",
       "5                  1          1         1               1             4   \n",
       "6                  1          1         1               1             4   \n",
       "\n",
       "   use_graph_beers  use_table_beers  use_table_capacitor  use_graph_capacitor  \\\n",
       "0                1                1                    1                    1   \n",
       "1                1                1                    1                    1   \n",
       "4                1                1                    1                    1   \n",
       "5                1                1                    1                    1   \n",
       "6                1                1                    1                    1   \n",
       "\n",
       "  group  \n",
       "0    LP  \n",
       "1    LP  \n",
       "4    LU  \n",
       "5    LU  \n",
       "6    LP  "
      ]
     },
     "execution_count": 6,
     "metadata": {},
     "output_type": "execute_result"
    }
   ],
   "source": [
    "df_all.head()"
   ]
  },
  {
   "cell_type": "markdown",
   "metadata": {},
   "source": [
    "## We grab and tranform sequences"
   ]
  },
  {
   "cell_type": "markdown",
   "metadata": {},
   "source": [
    "We transform the sequences by blocking certain actions, removing others, merging some and generalizing.\n",
    "\n",
    "We store all seqs as a list of Sequence() items"
   ]
  },
  {
   "cell_type": "code",
   "execution_count": 7,
   "metadata": {},
   "outputs": [],
   "source": [
    "transformed_seqs = []\n",
    "for sim,seqs_by_student in all_seqs.iteritems():\n",
    "    for sid,seq in seqs_by_student.iteritems():\n",
    "        seq = copy.copy(seq)\n",
    "        seq.standard_transformation()\n",
    "        transformed_seqs.append(seq)"
   ]
  },
  {
   "cell_type": "code",
   "execution_count": 8,
   "metadata": {},
   "outputs": [
    {
     "name": "stdout",
     "output_type": "stream",
     "text": [
      "294\n"
     ]
    }
   ],
   "source": [
    "print len(transformed_seqs)"
   ]
  },
  {
   "cell_type": "code",
   "execution_count": 9,
   "metadata": {},
   "outputs": [
    {
     "name": "stdout",
     "output_type": "stream",
     "text": [
      "Length:94 actions, sid:23836160, sim:beers, blocked actions:set(['V_separation', 'V_wavelength', 'V_detector', 'V_other', 'V_lightbulb', 'G_add_fail', 'G_add', 'T_remove', 'G_remove', 'P', 'V_width', 'T_add', 'V_area', 'V_concentration', 'V_laser', 'V_battery', 'T_move']),actions removed: set(['ignore', 'V_ruler', 'T_restore']), merged_actions: set([('P', 'P_notes')]), has timecoords: True\n"
     ]
    }
   ],
   "source": [
    "transformed_seqs[0].parameters()"
   ]
  },
  {
   "cell_type": "markdown",
   "metadata": {},
   "source": [
    "## We make our prediction array\n",
    "of which sequence is productive, and remove sequences from students who are not in our productivity groups"
   ]
  },
  {
   "cell_type": "code",
   "execution_count": 10,
   "metadata": {},
   "outputs": [],
   "source": [
    "Y = []\n",
    "seqs_to_analyze = []\n",
    "for i,seq in enumerate(transformed_seqs):\n",
    "    sid = seq.sid\n",
    "    sim = {'beers':'L','capacitor':'C'}[seq.sim]\n",
    "    groups = list(df_all[(df_all['sid']==sid)&(df_all['sim']==sim)]['group']) #two for each variable in sim\n",
    "    if groups:\n",
    "        group = groups[0]\n",
    "        Y.append({'LU':1,'LP':0}[group])\n",
    "        seqs_to_analyze.append(seq)"
   ]
  },
  {
   "cell_type": "code",
   "execution_count": 11,
   "metadata": {},
   "outputs": [
    {
     "data": {
      "text/plain": [
       "(267, 267)"
      ]
     },
     "execution_count": 11,
     "metadata": {},
     "output_type": "execute_result"
    }
   ],
   "source": [
    "len(seqs_to_analyze),len(Y)"
   ]
  },
  {
   "cell_type": "markdown",
   "metadata": {},
   "source": [
    "# Prepare feature data matrix\n",
    "We get all possible subsequences of length 2 to 10.\n",
    "\n",
    "Features are all possible subsequences. We get rid of those used by only 1 sequence.\n",
    "\n",
    "For each 147\\*2 sequences, we count how many times they used a subsequence."
   ]
  },
  {
   "cell_type": "markdown",
   "metadata": {},
   "source": [
    "**Parameters**"
   ]
  },
  {
   "cell_type": "code",
   "execution_count": 12,
   "metadata": {},
   "outputs": [
    {
     "name": "stdout",
     "output_type": "stream",
     "text": [
      "2\n"
     ]
    }
   ],
   "source": [
    "shortest = 1\n",
    "longest = 10\n",
    "cut_off = 2 #keep sequences used in at least 2 of the N student sequences\n",
    "print cut_off"
   ]
  },
  {
   "cell_type": "markdown",
   "metadata": {},
   "source": [
    "For all possible subsequences, count how many of the 147*2 sequences they are in.\n",
    "\n",
    "Ignore the ones in only less than \\*cut-off\\* number of sequences"
   ]
  },
  {
   "cell_type": "code",
   "execution_count": 13,
   "metadata": {},
   "outputs": [],
   "source": [
    "count_all_subsequences = Counter()\n",
    "for seq in seqs_to_analyze:\n",
    "    sequence = seq.seq\n",
    "    subseqs_in_seq = []\n",
    "    for seq_length in range(shortest, longest+1):  # loops through different possible sequence lengths\n",
    "        subseqs_in_seq.extend([sequence[i:i+seq_length] for i in range(len(sequence)-seq_length+1)])\n",
    "    count_all_subsequences.update(Counter({','.join(s):1 for s in subseqs_in_seq})) #count of 1 per subseqs\n",
    "\n",
    "subsequences_counts = Counter()\n",
    "for e,c in count_all_subsequences.iteritems():\n",
    "    if c > cut_off: #remove ones used by too few students\n",
    "        subsequences_counts.update(Counter({e:c}))"
   ]
  },
  {
   "cell_type": "code",
   "execution_count": 14,
   "metadata": {},
   "outputs": [
    {
     "data": {
      "text/plain": [
       "<matplotlib.axes._subplots.AxesSubplot at 0xcebe240>"
      ]
     },
     "execution_count": 14,
     "metadata": {},
     "output_type": "execute_result"
    },
    {
     "data": {
      "image/png": "[encoded data removed]",
      "text/plain": [
       "<Figure size 432x288 with 1 Axes>"
      ]
     },
     "metadata": {
      "needs_background": "light"
     },
     "output_type": "display_data"
    }
   ],
   "source": [
    "sns.distplot(subsequences_counts.values())"
   ]
  },
  {
   "cell_type": "code",
   "execution_count": 15,
   "metadata": {},
   "outputs": [
    {
     "data": {
      "text/plain": [
       "4877"
      ]
     },
     "execution_count": 15,
     "metadata": {},
     "output_type": "execute_result"
    }
   ],
   "source": [
    "subsequences = list(set(list(subsequences_counts.elements())))\n",
    "subsequences[0]\n",
    "len(subsequences)"
   ]
  },
  {
   "cell_type": "markdown",
   "metadata": {},
   "source": [
    "Make feature matrix"
   ]
  },
  {
   "cell_type": "code",
   "execution_count": 16,
   "metadata": {},
   "outputs": [],
   "source": [
    "X = np.zeros((len(seqs_to_analyze), len(subsequences)))\n",
    "for i,seq in enumerate(seqs_to_analyze):\n",
    "    sequence = ','.join(seq.seq)\n",
    "    for j,subseq in enumerate(subsequences):\n",
    "        #count how many times subsequence appears in seq\n",
    "        X[i][j] = sequence.count(subseq)"
   ]
  },
  {
   "cell_type": "markdown",
   "metadata": {},
   "source": [
    "## Export data"
   ]
  },
  {
   "cell_type": "code",
   "execution_count": 17,
   "metadata": {},
   "outputs": [],
   "source": [
    "import pickle\n",
    "\n",
    "# write a file\n",
    "f = open(\"subsequence_feature_matrix.txt\", \"w\")\n",
    "pickle.dump(X, f)\n",
    "pickle.dump(Y, f)\n",
    "pickle.dump(subsequences, f)\n",
    "f.close()"
   ]
  },
  {
   "cell_type": "markdown",
   "metadata": {},
   "source": [
    "# run random forests!"
   ]
  },
  {
   "cell_type": "markdown",
   "metadata": {},
   "source": [
    "## Find the optimal number and depth of trees"
   ]
  },
  {
   "cell_type": "code",
   "execution_count": 18,
   "metadata": {},
   "outputs": [],
   "source": [
    "from sklearn.ensemble import RandomForestClassifier"
   ]
  },
  {
   "cell_type": "code",
   "execution_count": 19,
   "metadata": {},
   "outputs": [],
   "source": [
    "from sklearn.model_selection import cross_val_score"
   ]
  },
  {
   "cell_type": "code",
   "execution_count": 20,
   "metadata": {},
   "outputs": [
    {
     "name": "stdout",
     "output_type": "stream",
     "text": [
      "5 3 0.5575767349352255\n",
      "5 5 0.6072165779712949\n",
      "5 10 0.5879858087405256\n",
      "5 20 0.6289415685642099\n",
      "5 None 0.6183357522980165\n",
      "10 3 0.6406224802451217\n",
      "10 5 0.640686985970005\n",
      "10 10 0.603227973982691\n",
      "10 20 0.6255254528839435\n",
      "10 None 0.6139144224049884\n",
      "20 3 0.6401252486158147\n",
      "20 5 0.6665430306939741\n",
      "20 10 0.6439660269848948\n",
      "20 20 0.6296538192764608\n",
      "20 None 0.6443933774122452\n",
      "100 3 0.6775170671397086\n",
      "100 5 0.6592108799655969\n",
      "100 10 0.6665484061710476\n",
      "100 20 0.670389184540128\n",
      "100 None 0.6511664785249691\n",
      "500 3 0.6437590711175617\n",
      "500 5 0.6515911412137827\n",
      "500 10 0.6626323711229372\n",
      "500 20 0.6553647261194431\n",
      "500 None 0.6515911412137827\n"
     ]
    }
   ],
   "source": [
    "nb_trees = [5,10,20,100,500]\n",
    "depths = [3,5,10,20,None]\n",
    "\n",
    "mean_scores = []\n",
    "m = np.zeros((len(nb_trees),len(depths)))\n",
    "for i,nb in enumerate(nb_trees):\n",
    "    for j,depth in enumerate(depths):\n",
    "        classifier = RandomForestClassifier(n_estimators=nb,\n",
    "                        criterion='entropy',\n",
    "                        max_depth=depth,\n",
    "                        min_samples_split=2,\n",
    "                        min_samples_leaf=1,     \n",
    "                        bootstrap = True,\n",
    "                        class_weight = 'balanced', #sets weights of classes given frequency from data in bootstraped samples\n",
    "                        max_features='sqrt') #use sqrt features to find split\n",
    "        scores = cross_val_score(classifier, X,Y, cv=5)\n",
    "        mean_scores.append((nb,depth,np.mean(scores),np.std(scores)))\n",
    "        print nb, depth, np.mean(scores)\n",
    "        m[i][j] = np.mean(scores)\n",
    "        \n",
    "\n",
    "# Let's use 5 fold cross validation for 5 different number of trees, 3 different optimal depths. So that's train 5*5*3 = 75 models. Yikes!"
   ]
  },
  {
   "cell_type": "code",
   "execution_count": 21,
   "metadata": {},
   "outputs": [
    {
     "data": {
      "text/plain": [
       "<matplotlib.axes._subplots.AxesSubplot at 0xfc595c0>"
      ]
     },
     "execution_count": 21,
     "metadata": {},
     "output_type": "execute_result"
    },
    {
     "data": {
      "image/png": "[encoded data removed]",
      "text/plain": [
       "<Figure size 432x288 with 2 Axes>"
      ]
     },
     "metadata": {
      "needs_background": "light"
     },
     "output_type": "display_data"
    }
   ],
   "source": [
    "sns.heatmap(m)"
   ]
  },
  {
   "cell_type": "markdown",
   "metadata": {},
   "source": [
    "It doesn't seem to matter how many trees or the depth. (Not shown here, but using 'log2' for number of boostraping features leads to poorer results and balancing class weights doesn't not anything).\n",
    "\n",
    "The more trees, the closer we get to the min error rate possible. So there's no point doing more than 10 trees it seems.\n",
    "\n",
    "Having deep trees leads to overfitting but it seems like after 5 splits, we don't gain any information. This might be telling us that there really are only 5 useful sequences in split our data."
   ]
  },
  {
   "cell_type": "markdown",
   "metadata": {},
   "source": [
    "## Tune parameters with Out of Bag error instead of accuracy"
   ]
  },
  {
   "cell_type": "code",
   "execution_count": 22,
   "metadata": {},
   "outputs": [
    {
     "name": "stderr",
     "output_type": "stream",
     "text": [
      "C:\\Users\\Sarah\\Anaconda2\\lib\\site-packages\\sklearn\\ensemble\\forest.py:458: UserWarning: Some inputs do not have OOB scores. This probably means too few trees were used to compute any reliable oob estimates.\n",
      "  warn(\"Some inputs do not have OOB scores. \"\n",
      "C:\\Users\\Sarah\\Anaconda2\\lib\\site-packages\\sklearn\\ensemble\\forest.py:463: RuntimeWarning: invalid value encountered in true_divide\n",
      "  predictions[k].sum(axis=1)[:, np.newaxis])\n"
     ]
    },
    {
     "data": {
      "image/png": "[encoded data removed]",
      "text/plain": [
       "<Figure size 432x288 with 1 Axes>"
      ]
     },
     "metadata": {
      "needs_background": "light"
     },
     "output_type": "display_data"
    }
   ],
   "source": [
    "# Author: Kian Ho <hui.kian.ho@gmail.com>\n",
    "#         Gilles Louppe <g.louppe@gmail.com>\n",
    "#         Andreas Mueller <amueller@ais.uni-bonn.de>\n",
    "#\n",
    "# License: BSD 3 Clause\n",
    "from collections import OrderedDict\n",
    "\n",
    "RANDOM_STATE = 123\n",
    "\n",
    "# NOTE: Setting the `warm_start` construction parameter to `True` disables\n",
    "# support for parallelized ensembles but is necessary for tracking the OOB\n",
    "# error trajectory during training.\n",
    "ensemble_clfs = [\n",
    "    (\"RF classifier, max_features='sqrt',, max depth 5\",\n",
    "        RandomForestClassifier(n_estimators=10,\n",
    "                               warm_start=True, oob_score=True,\n",
    "                               max_features=\"sqrt\",\n",
    "                               max_depth = 10,\n",
    "                               random_state=RANDOM_STATE)),\n",
    "    (\"RF classifier, max_features='log2',, max depth 10\",\n",
    "        RandomForestClassifier(n_estimators=10,\n",
    "                               warm_start=True, max_features='log2',\n",
    "                               oob_score=True,\n",
    "                               max_depth = 20,\n",
    "                               random_state=RANDOM_STATE)),\n",
    "    (\"RF classifier, max_features=sqrt, max depth 20\",\n",
    "        RandomForestClassifier(n_estimators=10,\n",
    "                               warm_start=True, max_features=\"sqrt\",\n",
    "                               oob_score=True,\n",
    "                               max_depth = 30,\n",
    "                               random_state=RANDOM_STATE))\n",
    "]\n",
    "\n",
    "# Map a classifier name to a list of (<n_estimators>, <error rate>) pairs.\n",
    "error_rate = OrderedDict((label, []) for label, _ in ensemble_clfs)\n",
    "\n",
    "# Range of `n_estimators` values to explore.\n",
    "min_estimators = 5\n",
    "max_estimators = 100\n",
    "\n",
    "for label, clf in ensemble_clfs:\n",
    "    for i in range(min_estimators, max_estimators + 1,3):\n",
    "        clf.set_params(n_estimators=i)\n",
    "        clf.fit(X, Y)\n",
    "\n",
    "        # Record the OOB error for each `n_estimators=i` setting.\n",
    "        oob_error = 1 - clf.oob_score_\n",
    "        error_rate[label].append((i, oob_error))\n",
    "\n",
    "# Generate the \"OOB error rate\" vs. \"n_estimators\" plot.\n",
    "for label, clf_err in error_rate.items():\n",
    "    xs, ys = zip(*clf_err)\n",
    "    plt.plot(xs, ys, label=label)\n",
    "\n",
    "plt.xlim(min_estimators, max_estimators)\n",
    "plt.xlabel(\"n_estimators\")\n",
    "plt.ylabel(\"OOB error rate\")\n",
    "plt.legend(loc=\"upper right\")\n",
    "plt.show()"
   ]
  },
  {
   "cell_type": "markdown",
   "metadata": {},
   "source": [
    "The Out of bag error stabilises after ~50 trees and is more stable with a lower error rate at a depth of 5. So let's stick with that."
   ]
  },
  {
   "cell_type": "markdown",
   "metadata": {},
   "source": [
    "## Analyze resulting tree"
   ]
  },
  {
   "cell_type": "code",
   "execution_count": 23,
   "metadata": {},
   "outputs": [
    {
     "data": {
      "text/plain": [
       "RandomForestClassifier(bootstrap=True, class_weight='balanced',\n",
       "            criterion='entropy', max_depth=5, max_features='sqrt',\n",
       "            max_leaf_nodes=None, min_impurity_decrease=0.0,\n",
       "            min_impurity_split=None, min_samples_leaf=1,\n",
       "            min_samples_split=2, min_weight_fraction_leaf=0.0,\n",
       "            n_estimators=50, n_jobs=None, oob_score=False,\n",
       "            random_state=None, verbose=0, warm_start=False)"
      ]
     },
     "execution_count": 23,
     "metadata": {},
     "output_type": "execute_result"
    }
   ],
   "source": [
    "nb_trees = 50\n",
    "depth = 5\n",
    "classifier = RandomForestClassifier(n_estimators=nb_trees,\n",
    "                                    criterion='entropy',\n",
    "                                    max_depth=depth,\n",
    "                                    min_samples_split=2,\n",
    "                                    min_samples_leaf=1,     \n",
    "                                    bootstrap = True,\n",
    "                                    class_weight = 'balanced', #sets weights of classes given frequency from data in bootstraped samples\n",
    "                                    max_features='sqrt') #use sqrt features to find split\n",
    "classifier.fit(X,Y)"
   ]
  },
  {
   "cell_type": "code",
   "execution_count": 24,
   "metadata": {},
   "outputs": [
    {
     "data": {
      "text/plain": [
       "['C2_quant,G_add',\n",
       " 'Cm_qual',\n",
       " 'Cm_quant',\n",
       " 'Cm_quant,G_add',\n",
       " 'G_add',\n",
       " 'G_add,G_remove,G_add',\n",
       " 'G_add,P',\n",
       " 'G_remove',\n",
       " 'G_remove,G_add',\n",
       " 'G_remove,G_add,P',\n",
       " 'G_scale_inverse,G_scale_linear',\n",
       " 'G_scale_inverse,P',\n",
       " 'G_scale_inverse,P,T_remove',\n",
       " 'G_scale_linear,P,T_remove',\n",
       " 'G_scale_log',\n",
       " 'G_scale_log,G_scale_inverse',\n",
       " 'P,T_remove',\n",
       " 'V_laser',\n",
       " 'V_quant,G_remove',\n",
       " 'V_quant,Switch_quant']"
      ]
     },
     "execution_count": 24,
     "metadata": {},
     "output_type": "execute_result"
    }
   ],
   "source": [
    "important_seqs = classifier.feature_importances_.argsort()[-20:][::-1]\n",
    "seqs_to_viz = []\n",
    "for i in important_seqs:\n",
    "    seqs_to_viz.append(subsequences[i])\n",
    "seqs_to_viz.sort()\n",
    "seqs_to_viz"
   ]
  },
  {
   "cell_type": "markdown",
   "metadata": {},
   "source": [
    "## Let's lot the frequency and use of these sequences\n",
    "minus the CVS ones"
   ]
  },
  {
   "cell_type": "code",
   "execution_count": 25,
   "metadata": {},
   "outputs": [],
   "source": [
    "seqs = ['G_axis_outcome,G_axis_trialnumber,P',\n",
    " 'G_axis_quant',\n",
    " 'G_scale_linear,P,T_remove',\n",
    " 'P',\n",
    " 'Switch_quant,V_quant,T_add,V_quant,T_add,V_quant,T_add',\n",
    " 'T_add,V_quant,T_add,P,G_axis_quant',\n",
    " 'V_qual,T_add,V_qual,T_add',\n",
    " 'V_qual,T_add,V_qual,T_add,V_qual,T_add,V_qual,T_add,V_qual',\n",
    " 'V_quant']"
   ]
  },
  {
   "cell_type": "code",
   "execution_count": 26,
   "metadata": {
    "scrolled": false
   },
   "outputs": [
    {
     "data": {
      "image/png": "[encoded data removed]",
      "text/plain": [
       "<Figure size 504x4320 with 20 Axes>"
      ]
     },
     "metadata": {
      "needs_background": "light"
     },
     "output_type": "display_data"
    }
   ],
   "source": [
    "f, axes = plt.subplots(len(seqs_to_viz),1, figsize=(7,3*len(seqs_to_viz)), sharey = True)\n",
    "for i,s in enumerate(seqs_to_viz):\n",
    "    ax = axes[i]\n",
    "    i = subsequences.index(s)\n",
    "    lu = X[:,i]*Y\n",
    "    lp = X[:,i]*[1-y for y in Y]\n",
    "    sns.distplot(lu, kde=False, ax=ax, color='red', bins=10)\n",
    "    sns.distplot(lp, kde=False, ax=ax, color='blue', bins=10)\n",
    "    ax.set_title(s)"
   ]
  },
  {
   "cell_type": "markdown",
   "metadata": {},
   "source": [
    "# Todo"
   ]
  },
  {
   "cell_type": "markdown",
   "metadata": {},
   "source": [
    "1. Prep data\n",
    "    * make data point times feature matrix\n",
    "* Random forests\n",
    "    * do CVS with different sized trees\n",
    "        \n",
    "    \n",
    "* Analyze!"
   ]
  },
  {
   "cell_type": "markdown",
   "metadata": {},
   "source": [
    "# Old data\n",
    "number fo trees, max depth of tree, mean accuracy\n",
    "100 3 0.7185373326882761\n",
    "100 5 0.7072138902327582\n",
    "100 10 0.7072837714347149\n",
    "100 20 0.7112723754233188\n",
    "750 3 0.7072837714347149\n",
    "750 5 0.6998064828253507\n",
    "750 10 0.714761060044079\n",
    "750 20 0.7147610600440788\n",
    "1000 3 0.714903510186529\n",
    "1000 5 0.7072837714347149\n",
    "1000 10 0.7071440090308015\n",
    "1000 20 0.7109175939364618\n",
    "2000 3 0.714761060044079\n",
    "2000 5 0.7072837714347149\n",
    "2000 10 0.7035101865290544\n",
    "2000 20 0.7072837714347149\n",
    "5000 3 0.714761060044079\n",
    "5000 5 0.7109874751384185\n",
    "5000 10 0.7072138902327582\n",
    "5000 20 0.7072138902327582"
   ]
  },
  {
   "cell_type": "code",
   "execution_count": null,
   "metadata": {},
   "outputs": [],
   "source": []
  }
 ],
 "metadata": {
  "anaconda-cloud": {},
  "kernelspec": {
   "display_name": "Python 2",
   "language": "python",
   "name": "python2"
  },
  "language_info": {
   "codemirror_mode": {
    "name": "ipython",
    "version": 2
   },
   "file_extension": ".py",
   "mimetype": "text/x-python",
   "name": "python",
   "nbconvert_exporter": "python",
   "pygments_lexer": "ipython2",
   "version": "2.7.16"
  },
  "toc": {
   "base_numbering": 1,
   "nav_menu": {},
   "number_sections": true,
   "sideBar": false,
   "skip_h1_title": false,
   "title_cell": "Table of Contents",
   "title_sidebar": "Contents",
   "toc_cell": false,
   "toc_position": {},
   "toc_section_display": "block",
   "toc_window_display": false
  }
 },
 "nbformat": 4,
 "nbformat_minor": 1
}
