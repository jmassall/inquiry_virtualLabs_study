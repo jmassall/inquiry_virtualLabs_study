{
 "cells": [
  {
   "cell_type": "code",
   "execution_count": 1,
   "metadata": {},
   "outputs": [],
   "source": [
    "%load_ext autoreload\n",
    "%autoreload 1\n",
    "%aimport utils_timeline_viz\n",
    "from utils_timeline_viz import *\n",
    "from utils_read_parsing import *\n",
    "%matplotlib inline\n",
    "matplotlib.style.use('ggplot')\n",
    "matplotlib.rcParams['figure.figsize'] = 7, 4\n",
    "from tabulate import tabulate"
   ]
  },
  {
   "cell_type": "markdown",
   "metadata": {},
   "source": [
    "## Loading and preparing survey data"
   ]
  },
  {
   "cell_type": "code",
   "execution_count": 2,
   "metadata": {},
   "outputs": [],
   "source": [
    "pre = get_pre_survey()"
   ]
  },
  {
   "cell_type": "code",
   "execution_count": 3,
   "metadata": {},
   "outputs": [
    {
     "data": {
      "text/html": [
       "<div>\n",
       "<table border=\"1\" class=\"dataframe\">\n",
       "  <thead>\n",
       "    <tr style=\"text-align: right;\">\n",
       "      <th></th>\n",
       "      <th>Status</th>\n",
       "      <th>Internal ID</th>\n",
       "      <th>Language</th>\n",
       "      <th>Created At</th>\n",
       "      <th>Updated At</th>\n",
       "      <th>Location</th>\n",
       "      <th>Username</th>\n",
       "      <th>GET Variables</th>\n",
       "      <th>Referrer</th>\n",
       "      <th>Number of Saves</th>\n",
       "      <th>...</th>\n",
       "      <th>[taskinterpretation.0] When I am asked to do an activity like the one shown, I am being asked to... | investigate the basic mechanics of the topic at hand</th>\n",
       "      <th>[taskinterpretation.1] When I am asked to do an activity like the one shown, I am being asked to... | design my own experiments that can help me understand the topic at hand</th>\n",
       "      <th>[taskinterpretation.2] When I am asked to do an activity like the one shown, I am being asked to... | memorize information about the topic at hand</th>\n",
       "      <th>[taskinterpretation.3] When I am asked to do an activity like the one shown, I am being asked to... | complete a certain number of  questions</th>\n",
       "      <th>[taskinterpretation.4] When I am asked to do an activity like the one shown, I am being asked to... | develop scientific reasoning skills</th>\n",
       "      <th>[pocc.0] When doing an activity to learn physics through a virtual lab, I think I can do a good job of",
       " | learning the basic concepts</th>\n",
       "      <th>[pocc.1] When doing an activity to learn physics through a virtual lab, I think I can do a good job of",
       " | testing my ideas and theories</th>\n",
       "      <th>[pocc.2] When doing an activity to learn physics through a virtual lab, I think I can do a good job of",
       " | answering given questions</th>\n",
       "      <th>[pocc.3] When doing an activity to learn physics through a virtual lab, I think I can do a good job of",
       " | memorizing key information</th>\n",
       "      <th>[pocc.4] When doing an activity to learn physics through a virtual lab, I think I can do a good job of",
       " | exploring the topic</th>\n",
       "    </tr>\n",
       "  </thead>\n",
       "  <tbody>\n",
       "    <tr>\n",
       "      <th>0</th>\n",
       "      <td>Complete</td>\n",
       "      <td>83736373</td>\n",
       "      <td>English</td>\n",
       "      <td>2017-01-13 13:17</td>\n",
       "      <td>2017-01-13 13:19</td>\n",
       "      <td>British Columbia</td>\n",
       "      <td>NaN</td>\n",
       "      <td>NaN</td>\n",
       "      <td>https://survey.ubc.ca/s/pre-assessment/</td>\n",
       "      <td>NaN</td>\n",
       "      <td>...</td>\n",
       "      <td>Mostly</td>\n",
       "      <td>Definitely</td>\n",
       "      <td>Not at all</td>\n",
       "      <td>Somewhat</td>\n",
       "      <td>Mostly</td>\n",
       "      <td>Almost always</td>\n",
       "      <td>Almost always</td>\n",
       "      <td>Often</td>\n",
       "      <td>Sometimes</td>\n",
       "      <td>Almost always</td>\n",
       "    </tr>\n",
       "    <tr>\n",
       "      <th>1</th>\n",
       "      <td>Complete</td>\n",
       "      <td>83736382</td>\n",
       "      <td>English</td>\n",
       "      <td>2017-01-13 13:17</td>\n",
       "      <td>2017-01-13 13:19</td>\n",
       "      <td>British Columbia</td>\n",
       "      <td>NaN</td>\n",
       "      <td>NaN</td>\n",
       "      <td>https://survey.ubc.ca/s/pre-assessment/</td>\n",
       "      <td>NaN</td>\n",
       "      <td>...</td>\n",
       "      <td>Somewhat</td>\n",
       "      <td>Mostly</td>\n",
       "      <td>Somewhat</td>\n",
       "      <td>Somewhat</td>\n",
       "      <td>Somewhat</td>\n",
       "      <td>Often</td>\n",
       "      <td>Almost always</td>\n",
       "      <td>Almost always</td>\n",
       "      <td>Sometimes</td>\n",
       "      <td>Sometimes</td>\n",
       "    </tr>\n",
       "  </tbody>\n",
       "</table>\n",
       "<p>2 rows × 44 columns</p>\n",
       "</div>"
      ],
      "text/plain": [
       "     Status  Internal ID Language        Created At        Updated At  \\\n",
       "0  Complete     83736373  English  2017-01-13 13:17  2017-01-13 13:19   \n",
       "1  Complete     83736382  English  2017-01-13 13:17  2017-01-13 13:19   \n",
       "\n",
       "           Location  Username  GET Variables  \\\n",
       "0  British Columbia       NaN            NaN   \n",
       "1  British Columbia       NaN            NaN   \n",
       "\n",
       "                                  Referrer  Number of Saves  \\\n",
       "0  https://survey.ubc.ca/s/pre-assessment/              NaN   \n",
       "1  https://survey.ubc.ca/s/pre-assessment/              NaN   \n",
       "\n",
       "                                                               ...                                                                \\\n",
       "0                                                              ...                                                                 \n",
       "1                                                              ...                                                                 \n",
       "\n",
       "   [taskinterpretation.0] When I am asked to do an activity like the one shown, I am being asked to... | investigate the basic mechanics of the topic at hand  \\\n",
       "0                                             Mostly                                                                                                            \n",
       "1                                           Somewhat                                                                                                            \n",
       "\n",
       "  [taskinterpretation.1] When I am asked to do an activity like the one shown, I am being asked to... | design my own experiments that can help me understand the topic at hand  \\\n",
       "0                                         Definitely                                                                                                                              \n",
       "1                                             Mostly                                                                                                                              \n",
       "\n",
       "   [taskinterpretation.2] When I am asked to do an activity like the one shown, I am being asked to... | memorize information about the topic at hand  \\\n",
       "0                                         Not at all                                                                                                    \n",
       "1                                           Somewhat                                                                                                    \n",
       "\n",
       "   [taskinterpretation.3] When I am asked to do an activity like the one shown, I am being asked to... | complete a certain number of  questions  \\\n",
       "0                                           Somewhat                                                                                               \n",
       "1                                           Somewhat                                                                                               \n",
       "\n",
       "  [taskinterpretation.4] When I am asked to do an activity like the one shown, I am being asked to... | develop scientific reasoning skills  \\\n",
       "0                                             Mostly                                                                                          \n",
       "1                                           Somewhat                                                                                          \n",
       "\n",
       "   [pocc.0] When doing an activity to learn physics through a virtual lab, I think I can do a good job of",
       " | learning the basic concepts  \\\n",
       "0                                      Almost always                                                                                       \n",
       "1                                              Often                                                                                       \n",
       "\n",
       "   [pocc.1] When doing an activity to learn physics through a virtual lab, I think I can do a good job of",
       " | testing my ideas and theories  \\\n",
       "0                                      Almost always                                                                                         \n",
       "1                                      Almost always                                                                                         \n",
       "\n",
       "   [pocc.2] When doing an activity to learn physics through a virtual lab, I think I can do a good job of",
       " | answering given questions  \\\n",
       "0                                              Often                                                                                     \n",
       "1                                      Almost always                                                                                     \n",
       "\n",
       "   [pocc.3] When doing an activity to learn physics through a virtual lab, I think I can do a good job of",
       " | memorizing key information  \\\n",
       "0                                          Sometimes                                                                                      \n",
       "1                                          Sometimes                                                                                      \n",
       "\n",
       "   [pocc.4] When doing an activity to learn physics through a virtual lab, I think I can do a good job of",
       " | exploring the topic  \n",
       "0                                      Almost always                                                                              \n",
       "1                                          Sometimes                                                                              \n",
       "\n",
       "[2 rows x 44 columns]"
      ]
     },
     "execution_count": 3,
     "metadata": {},
     "output_type": "execute_result"
    }
   ],
   "source": [
    "pre.head(2)"
   ]
  },
  {
   "cell_type": "code",
   "execution_count": 4,
   "metadata": {},
   "outputs": [
    {
     "name": "stdout",
     "output_type": "stream",
     "text": [
      "[u'Status', u'Internal ID', u'Language', u'Created At', u'Updated At', u'Location', u'Username', u'GET Variables', u'Referrer', u'Number of Saves', u'Weighted Score', u'Completion Time', u'Page 1 | Time on Page', u'Page 2 | Time on Page', u'IP Address', u'Invite Code', u'Invite Email', u'Invite Name', u'Collector', u'id', u'[prior_lab] What lab courses are you presently taking or have taken in the past? Check all that apply. [High school level laboratory]', u'[prior_lab] What lab courses are you presently taking or have taken in the past? Check all that apply. [First year undergraduate physics laboratory]', u'[prior_lab] What lab courses are you presently taking or have taken in the past? Check all that apply. [First year undergraduate chemistry laboratory]', u'[prior_lab] What lab courses are you presently taking or have taken in the past? Check all that apply. [Higher level physics labs]', u'[prior_lab] What lab courses are you presently taking or have taken in the past? Check all that apply. [Higher level chemistry labs]', u'[prior_lab] What lab courses are you presently taking or have taken in the past? Check all that apply. [Other labs (e.g. in a different discipline). Please specify:]', u'prior_lab', u'prior_sims_phet', u'prio_sims_other', u'prior_number_virtual_labs', u'perceivedvalue.0', u'perceivedvalue.1', u'perceivedvalue.2', u'perceivedvalue.3', u'taskinterpretation.0', u'taskinterpretation.1', u'taskinterpretation.2', u'taskinterpretation.3', u'taskinterpretation.4', u'pocc.0', u'pocc.1', u'pocc.2', u'pocc.3', u'pocc.4']\n"
     ]
    }
   ],
   "source": [
    "#cleaning up columns\n",
    "old_columns = list(pre.columns)\n",
    "new_columns = [c.split(']')[0].replace('[','') for c in old_columns]\n",
    "for i,(c,d) in enumerate(zip(new_columns,old_columns)):\n",
    "    if new_columns.count(c)>1:\n",
    "        new_columns[i] = d\n",
    "print new_columns\n",
    "pre.columns = new_columns"
   ]
  },
  {
   "cell_type": "markdown",
   "metadata": {},
   "source": [
    "## Keep records if analyzable ids"
   ]
  },
  {
   "cell_type": "code",
   "execution_count": 5,
   "metadata": {
    "collapsed": true
   },
   "outputs": [],
   "source": [
    "ids = set(get_students_to_analyze())"
   ]
  },
  {
   "cell_type": "code",
   "execution_count": 6,
   "metadata": {},
   "outputs": [
    {
     "name": "stdout",
     "output_type": "stream",
     "text": [
      "206 204\n",
      "[23784336, 17931169]\n",
      "We have duplicates, one from the collision and one from... who knows!\n",
      "True\n"
     ]
    }
   ],
   "source": [
    "import collections\n",
    "ids_pre = list(pre['id'])\n",
    "print len(ids_pre), len(set(ids_pre))\n",
    "print [item for item, count in collections.Counter(ids_pre).items() if count > 1]\n",
    "print \"We have duplicates, one from the collision and one from... who knows!\"\n",
    "print 17931169 in ids"
   ]
  },
  {
   "cell_type": "code",
   "execution_count": 7,
   "metadata": {},
   "outputs": [
    {
     "name": "stdout",
     "output_type": "stream",
     "text": [
      "136 ids in pre and analyzable list\n",
      "13 ids not in pre\n",
      "68 ids not analyzable ids (not worrisome)\n"
     ]
    }
   ],
   "source": [
    "print len(ids&set(ids_pre)),\"ids in pre and analyzable list\"\n",
    "print  len(ids - set(ids_pre)),\"ids not in pre\"\n",
    "print len(set(ids_pre)-ids),\"ids not analyzable ids (not worrisome)\""
   ]
  },
  {
   "cell_type": "code",
   "execution_count": 8,
   "metadata": {},
   "outputs": [
    {
     "name": "stdout",
     "output_type": "stream",
     "text": [
      "15055169 True\n",
      "15444164 True\n",
      "19780165 True\n",
      "12406161 False\n",
      "17868168 True\n",
      "16901162 True\n",
      "10561164 True\n",
      "13981167 True\n",
      "10192168 True\n",
      "18162165 False\n",
      "15298166 True\n",
      "11394167 True\n",
      "14055131 True\n",
      "13\n"
     ]
    }
   ],
   "source": [
    "ids_to_sort = set(ids - set(ids_pre))\n",
    "for idd in ids_to_sort:\n",
    "    print idd, int(str(idd)[1:]) in ids_pre\n",
    "print len(ids_to_sort)"
   ]
  },
  {
   "cell_type": "code",
   "execution_count": 9,
   "metadata": {},
   "outputs": [
    {
     "name": "stdout",
     "output_type": "stream",
     "text": [
      "149\n",
      "149\n"
     ]
    }
   ],
   "source": [
    "def ids_logs_to_pre(studentid):\n",
    "    if studentid in [15055169,15444164,19780165,17868168,16901162,10561164,13981167,10192168,15298166,11394167,14055131]:\n",
    "        return studentid-10000000\n",
    "    elif studentid == 12406161:\n",
    "        return 12406816\n",
    "    elif studentid == 18162165:\n",
    "        return 18162136\n",
    "    else:\n",
    "        return studentid\n",
    "ids_match_pre = set([ids_logs_to_pre(i) for i in ids])\n",
    "print len(ids_match_pre)\n",
    "print len(ids_match_pre&set(ids_pre))"
   ]
  },
  {
   "cell_type": "code",
   "execution_count": 10,
   "metadata": {},
   "outputs": [
    {
     "data": {
      "text/plain": [
       "149"
      ]
     },
     "execution_count": 10,
     "metadata": {},
     "output_type": "execute_result"
    }
   ],
   "source": [
    "#using internal id to remove the student with two pres,one in a good session with logs, one not\n",
    "#id = 17931169\n",
    "pre_analyzeable = pre[(pre['id'].isin(ids_match_pre))&(pre['Internal ID']!=86221654)]\n",
    "len(pre_analyzeable)"
   ]
  },
  {
   "cell_type": "markdown",
   "metadata": {},
   "source": [
    "## Let's analyze!"
   ]
  },
  {
   "cell_type": "code",
   "execution_count": 11,
   "metadata": {},
   "outputs": [
    {
     "data": {
      "image/png": "[encoded data removed]",
      "text/plain": [
       "<matplotlib.figure.Figure at 0xc7f2b70>"
      ]
     },
     "metadata": {},
     "output_type": "display_data"
    }
   ],
   "source": [
    "ax = pre_analyzeable['prior_sims_phet'].value_counts().plot(kind='bar')\n",
    "for p in ax.patches:\n",
    "    ax.annotate(str(int(p.get_height())), (p.get_x() * 1.005, p.get_height() * 1.005), fontsize=25)"
   ]
  },
  {
   "cell_type": "code",
   "execution_count": 12,
   "metadata": {},
   "outputs": [
    {
     "data": {
      "image/png": "[encoded data removed]",
      "text/plain": [
       "<matplotlib.figure.Figure at 0xc7f2588>"
      ]
     },
     "metadata": {},
     "output_type": "display_data"
    }
   ],
   "source": [
    "ax = pre_analyzeable['prior_number_virtual_labs'].value_counts().plot(kind='bar')\n",
    "for p in ax.patches:\n",
    "    ax.annotate(str(int(p.get_height())), (p.get_x() * 1.005, p.get_height() * 1.005), fontsize=25)"
   ]
  },
  {
   "cell_type": "code",
   "execution_count": 13,
   "metadata": {},
   "outputs": [
    {
     "data": {
      "image/png": "[encoded data removed]",
      "text/plain": [
       "<matplotlib.figure.Figure at 0xcc5c588>"
      ]
     },
     "metadata": {},
     "output_type": "display_data"
    }
   ],
   "source": [
    "ax = pre_analyzeable['prio_sims_other'].value_counts().plot(kind='bar')\n",
    "for p in ax.patches:\n",
    "    ax.annotate(str(int(p.get_height())), (p.get_x() * 1.005, p.get_height() * 1.005), fontsize=25)"
   ]
  },
  {
   "cell_type": "code",
   "execution_count": 14,
   "metadata": {},
   "outputs": [
    {
     "name": "stdout",
     "output_type": "stream",
     "text": [
      "------------------------------  ---------------------------------------------  -----------------------------------------------  ---------------------------  -----------------------------\n",
      "[High school level laboratory]  [First year undergraduate physics laboratory]  [First year undergraduate chemistry laboratory]  [Higher level physics labs]  [Higher level chemistry labs]\n",
      "127                             117                                            116                                              0                            11\n",
      "------------------------------  ---------------------------------------------  -----------------------------------------------  ---------------------------  -----------------------------\n"
     ]
    }
   ],
   "source": [
    "lab_choices = ['[High school level laboratory]','[First year undergraduate physics laboratory]','[First year undergraduate chemistry laboratory]','[Higher level physics labs]','[Higher level chemistry labs]']\n",
    "p = []\n",
    "p.append(lab_choices)\n",
    "p.append([len(pre_analyzeable[pre_analyzeable['[prior_lab] What lab courses are you presently taking or have taken in the past? Check all that apply. '+choice]==1]) for choice in lab_choices])\n",
    "print tabulate(p)\n",
    "# len(pre_analyzeable[pre_analyzeable['[prior_lab] What lab courses are you presently taking or have taken in the past? Check all that apply. [High school level laboratory]']==1])"
   ]
  },
  {
   "cell_type": "code",
   "execution_count": 15,
   "metadata": {},
   "outputs": [
    {
     "data": {
      "text/plain": [
       "Index([u'Status', u'Internal ID', u'Language', u'Created At', u'Updated At',\n",
       "       u'Location', u'Username', u'GET Variables', u'Referrer',\n",
       "       u'Number of Saves', u'Weighted Score', u'Completion Time',\n",
       "       u'Page 1 | Time on Page', u'Page 2 | Time on Page', u'IP Address',\n",
       "       u'Invite Code', u'Invite Email', u'Invite Name', u'Collector', u'id',\n",
       "       u'[prior_lab] What lab courses are you presently taking or have taken in the past? Check all that apply. [High school level laboratory]',\n",
       "       u'[prior_lab] What lab courses are you presently taking or have taken in the past? Check all that apply. [First year undergraduate physics laboratory]',\n",
       "       u'[prior_lab] What lab courses are you presently taking or have taken in the past? Check all that apply. [First year undergraduate chemistry laboratory]',\n",
       "       u'[prior_lab] What lab courses are you presently taking or have taken in the past? Check all that apply. [Higher level physics labs]',\n",
       "       u'[prior_lab] What lab courses are you presently taking or have taken in the past? Check all that apply. [Higher level chemistry labs]',\n",
       "       u'[prior_lab] What lab courses are you presently taking or have taken in the past? Check all that apply. [Other labs (e.g. in a different discipline). Please specify:]',\n",
       "       u'prior_lab', u'prior_sims_phet', u'prio_sims_other',\n",
       "       u'prior_number_virtual_labs', u'perceivedvalue.0', u'perceivedvalue.1',\n",
       "       u'perceivedvalue.2', u'perceivedvalue.3', u'taskinterpretation.0',\n",
       "       u'taskinterpretation.1', u'taskinterpretation.2',\n",
       "       u'taskinterpretation.3', u'taskinterpretation.4', u'pocc.0', u'pocc.1',\n",
       "       u'pocc.2', u'pocc.3', u'pocc.4'],\n",
       "      dtype='object')"
      ]
     },
     "execution_count": 15,
     "metadata": {},
     "output_type": "execute_result"
    }
   ],
   "source": [
    "pre_analyzeable.columns"
   ]
  },
  {
   "cell_type": "code",
   "execution_count": 16,
   "metadata": {},
   "outputs": [
    {
     "name": "stdout",
     "output_type": "stream",
     "text": [
      "[u'Chem 154 lab', u'Biology', u'biol 140', u'First year undergraduate biology laboratory ', u'First year undergraduate Computer Science and Astromony laboratory', u'First Year undergraduate CPSC labs', u'Chemistry High School level', u'first year biology lab', u'Computer Science labs', u'Biology 140 Lab Course ', u'Microbiology (High School)', u'Bio 140', u'Music Theory', u'Biology, Computer Science', u'Biology', u'First year Biology Laboratory', u'First Year Undergraduate Biology Lab', u'First year undergraduate biology labratory', u'VISA 110', u'computer science labs', u'High school level biology lab, First year undergraduaute biology lab', u'Biology first year lab', u'First year undergraduate biology lab', u'Biology', u'First year undergraduate biology lab (BIOL 140)', u'Chemistry', u'high school biology lab', u'cpsc 121 and 110 labs', u'Biology labs', u'First year undergraduate biology laboratory', u'economics', u'Frst 443 - ENVI, Bio230/306', u'first year undergrad biology labs', u'First year biology lab', u'biol140 lab', u'Bio 140 Lab', u'Biology lab', u'First year undergraduate biology laboratory', u'BIO140', u'Chem 235', u'Biomedical Sciences Lab', u'biology', u'Biology (BIOL140)', u'First year undergraduate biology laboratory', u'Astronomy ', u'First year computer lab', u'BIOL 140 Undergraduate biology lab', u'First year undergraduate biology laboratory']\n"
     ]
    }
   ],
   "source": [
    "#Other lab courses taken by students\n",
    "print  [v for v in pre_analyzeable['prior_lab'].values if str(v) != 'nan']"
   ]
  },
  {
   "cell_type": "code",
   "execution_count": null,
   "metadata": {
    "collapsed": true
   },
   "outputs": [],
   "source": []
  }
 ],
 "metadata": {
  "anaconda-cloud": {},
  "kernelspec": {
   "display_name": "Python 2",
   "language": "python",
   "name": "python2"
  },
  "language_info": {
   "codemirror_mode": {
    "name": "ipython",
    "version": 2
   },
   "file_extension": ".py",
   "mimetype": "text/x-python",
   "name": "python",
   "nbconvert_exporter": "python",
   "pygments_lexer": "ipython2",
   "version": "2.7.13"
  },
  "toc": {
   "nav_menu": {},
   "number_sections": true,
   "sideBar": false,
   "skip_h1_title": false,
   "toc_cell": false,
   "toc_position": {},
   "toc_section_display": "block",
   "toc_window_display": false
  }
 },
 "nbformat": 4,
 "nbformat_minor": 2
}
