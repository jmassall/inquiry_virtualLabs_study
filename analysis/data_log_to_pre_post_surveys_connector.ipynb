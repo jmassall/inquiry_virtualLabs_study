{
 "cells": [
  {
   "cell_type": "code",
   "execution_count": 1,
   "metadata": {},
   "outputs": [],
   "source": [
    "%load_ext autoreload\n",
    "%autoreload 1\n",
    "import numpy as np\n",
    "from utils_read_parsing import *\n",
    "from tabulate import tabulate\n",
    "pd.options.mode.chained_assignment = None"
   ]
  },
  {
   "cell_type": "markdown",
   "metadata": {},
   "source": [
    "# Cleaning and Exporting pre and post survey data"
   ]
  },
  {
   "cell_type": "markdown",
   "metadata": {},
   "source": [
    "## Pre survey"
   ]
  },
  {
   "cell_type": "code",
   "execution_count": 2,
   "metadata": {
    "scrolled": false
   },
   "outputs": [
    {
     "name": "stdout",
     "output_type": "stream",
     "text": [
      "These columns have no entries and were removed: set([u'[prior_lab] What lab courses are you presently taking or have taken in the past? Check all that apply. [Higher level physics labs]'])\n"
     ]
    },
    {
     "data": {
      "text/plain": [
       "(148, 24)"
      ]
     },
     "execution_count": 2,
     "metadata": {},
     "output_type": "execute_result"
    }
   ],
   "source": [
    "def get_clean_pre_survey():\n",
    "    pre = get_pre_survey()\n",
    "\n",
    "    #cleaning up columns\n",
    "    old_columns = list(pre.columns)\n",
    "    new_columns = [c.split(']')[0].replace('[','') for c in old_columns]\n",
    "    for i,(c,d) in enumerate(zip(new_columns,old_columns)):\n",
    "        if new_columns.count(c)>1:\n",
    "            new_columns[i] = d\n",
    "        if ' | ' in d:\n",
    "            new_columns[i] = c + '-' + d.split(' | ')[1]\n",
    "    pre.columns = new_columns\n",
    "\n",
    "    ids = set(get_students_to_analyze_log())\n",
    "\n",
    "    def ids_pre_to_logs(studentid):\n",
    "        if studentid in [5055169,5444164,9780165,7868168,6901162,561164,3981167,192168,5298166,1394167,4055131]:\n",
    "            return studentid+10000000\n",
    "        elif studentid == 12406816:\n",
    "            return 12406161\n",
    "        elif studentid == 18162136:\n",
    "            return 18162165\n",
    "        else:\n",
    "            return studentid\n",
    "\n",
    "    def ids_logs_to_pre(studentid):\n",
    "        if studentid in [15055169,15444164,19780165,17868168,16901162,10561164,13981167,10192168,15298166,11394167,14055131]:\n",
    "            return studentid-10000000\n",
    "        elif studentid == 12406161:\n",
    "            return 12406816\n",
    "        elif studentid == 18162165:\n",
    "            return 18162136\n",
    "        else:\n",
    "            return studentid\n",
    "\n",
    "    ids_match_pre = set([ids_logs_to_pre(i) for i in ids])\n",
    "    pre_analyzeable = pre[(pre['id'].isin(ids_match_pre))&(pre['Internal ID']!=86221654)]\n",
    "\n",
    "    #convert all ids so they match ids in logs\n",
    "    pre_analyzeable['sid'] = pre_analyzeable['id'].apply(lambda i: ids_pre_to_logs(i))\n",
    "\n",
    "    def used_similar_or_same_sim(sim,answer):\n",
    "        if sim in answer or 'both' in answer:\n",
    "            return 1\n",
    "        else:\n",
    "            return 0\n",
    "    convert_experience = {'1-2 (roughly)':1, '3-5 (roughly)':2, '6+ (roughly)':3, 'None':0}\n",
    "\n",
    "    #quantify in an ordinal variable how much virtual lab experience they have\n",
    "    pre_analyzeable['prior_number_virtual_labs'] = pre_analyzeable['prior_number_virtual_labs'].apply(lambda answer: convert_experience[answer])\n",
    "\n",
    "    #binarize their familiarity with similar topic per sim\n",
    "    pre_analyzeable['similar_L'] = pre_analyzeable['prio_sims_other'].apply(lambda answer: used_similar_or_same_sim('light',answer))\n",
    "    pre_analyzeable['similar_C'] = pre_analyzeable['prio_sims_other'].apply(lambda answer: used_similar_or_same_sim('capacitor',answer))\n",
    "    pre_analyzeable['same_L'] = pre_analyzeable['prior_sims_phet'].apply(lambda answer: used_similar_or_same_sim('Light',answer))\n",
    "    pre_analyzeable['same_C'] = pre_analyzeable['prior_sims_phet'].apply(lambda answer: used_similar_or_same_sim('Capacitor',answer))\n",
    "    return pre_analyzeable\n",
    "\n",
    "COLUMNS = [u'[prior_lab] What lab courses are you presently taking or have taken in the past? Check all that apply. [High school level laboratory]',u'[prior_lab] What lab courses are you presently taking or have taken in the past? Check all that apply. [First year undergraduate physics laboratory]',u'[prior_lab] What lab courses are you presently taking or have taken in the past? Check all that apply. [First year undergraduate chemistry laboratory]',u'[prior_lab] What lab courses are you presently taking or have taken in the past? Check all that apply. [Higher level physics labs]',u'[prior_lab] What lab courses are you presently taking or have taken in the past? Check all that apply. [Higher level chemistry labs]','similar_L','similar_C','same_L','same_C',u'prior_number_virtual_labs',u'perceivedvalue.0-boring',u'perceivedvalue.1-productive',u'perceivedvalue.2-useless',u'perceivedvalue.3-engaging',u'taskinterpretation.0-investigate the basic mechanics of the topic at hand',u'taskinterpretation.1-design my own experiments that can help me understand the topic at hand',u'taskinterpretation.2-memorize information about the topic at hand',u'taskinterpretation.3-complete a certain number of  questions',u'taskinterpretation.4-develop scientific reasoning skills',u'pocc.0-learning the basic concepts',u'pocc.1-testing my ideas and theories',u'pocc.2-answering given questions',u'pocc.3-memorizing key information',u'pocc.4-exploring the topic','sid']\n",
    "\n",
    "pre = get_clean_pre_survey()[COLUMNS]\n",
    "# pre.drop(['Collector','Completion Time','Created At','GET Variables','IP Address','Internal ID','Invite Code','Invite Email','Invite Name','Language','Location','Number of Saves','Page 1 | Time on Page','Page 2 | Time on Page','Page 3 | Time on Page','Page 4 | Time on Page','Page 5 | Time on Page','Page 6 | Time on Page','Page 7 | Time on Page','Page 8 | Time on Page','Page 9 | Time on Page','Referrer','Status','Updated At','Username','Weighted Score','[open1] How did you go about learning physics through the virtual lab?'],axis=1,inplace=True)\n",
    "C = set(pre.columns)\n",
    "pre.dropna(axis=1, how='all',inplace=True)\n",
    "\n",
    "pre.to_csv(os.path.join(BIG_FOLDER,'all_massaged_data\\\\pre_survey_results.txt'), sep='\\t')\n",
    "D = set(pre.columns)\n",
    "print \"These columns have no entries and were removed:\",C-D\n",
    "pre.shape"
   ]
  },
  {
   "cell_type": "code",
   "execution_count": 3,
   "metadata": {},
   "outputs": [
    {
     "data": {
      "text/html": [
       "<div>\n",
       "<style>\n",
       "    .dataframe thead tr:only-child th {\n",
       "        text-align: right;\n",
       "    }\n",
       "\n",
       "    .dataframe thead th {\n",
       "        text-align: left;\n",
       "    }\n",
       "\n",
       "    .dataframe tbody tr th {\n",
       "        vertical-align: top;\n",
       "    }\n",
       "</style>\n",
       "<table border=\"1\" class=\"dataframe\">\n",
       "  <thead>\n",
       "    <tr style=\"text-align: right;\">\n",
       "      <th></th>\n",
       "      <th>[prior_lab] What lab courses are you presently taking or have taken in the past? Check all that apply. [High school level laboratory]</th>\n",
       "      <th>[prior_lab] What lab courses are you presently taking or have taken in the past? Check all that apply. [First year undergraduate physics laboratory]</th>\n",
       "      <th>[prior_lab] What lab courses are you presently taking or have taken in the past? Check all that apply. [First year undergraduate chemistry laboratory]</th>\n",
       "      <th>[prior_lab] What lab courses are you presently taking or have taken in the past? Check all that apply. [Higher level chemistry labs]</th>\n",
       "      <th>similar_L</th>\n",
       "      <th>similar_C</th>\n",
       "      <th>same_L</th>\n",
       "      <th>same_C</th>\n",
       "      <th>prior_number_virtual_labs</th>\n",
       "      <th>perceivedvalue.0-boring</th>\n",
       "      <th>...</th>\n",
       "      <th>taskinterpretation.1-design my own experiments that can help me understand the topic at hand</th>\n",
       "      <th>taskinterpretation.2-memorize information about the topic at hand</th>\n",
       "      <th>taskinterpretation.3-complete a certain number of  questions</th>\n",
       "      <th>taskinterpretation.4-develop scientific reasoning skills</th>\n",
       "      <th>pocc.0-learning the basic concepts</th>\n",
       "      <th>pocc.1-testing my ideas and theories</th>\n",
       "      <th>pocc.2-answering given questions</th>\n",
       "      <th>pocc.3-memorizing key information</th>\n",
       "      <th>pocc.4-exploring the topic</th>\n",
       "      <th>sid</th>\n",
       "    </tr>\n",
       "  </thead>\n",
       "  <tbody>\n",
       "    <tr>\n",
       "      <th>5</th>\n",
       "      <td>1.0</td>\n",
       "      <td>1.0</td>\n",
       "      <td>1.0</td>\n",
       "      <td>NaN</td>\n",
       "      <td>0</td>\n",
       "      <td>0</td>\n",
       "      <td>0</td>\n",
       "      <td>0</td>\n",
       "      <td>2</td>\n",
       "      <td>Mostly</td>\n",
       "      <td>...</td>\n",
       "      <td>Somewhat</td>\n",
       "      <td>Mostly</td>\n",
       "      <td>Somewhat</td>\n",
       "      <td>Somewhat</td>\n",
       "      <td>Often</td>\n",
       "      <td>Often</td>\n",
       "      <td>Often</td>\n",
       "      <td>Sometimes</td>\n",
       "      <td>Often</td>\n",
       "      <td>77047160</td>\n",
       "    </tr>\n",
       "    <tr>\n",
       "      <th>6</th>\n",
       "      <td>1.0</td>\n",
       "      <td>1.0</td>\n",
       "      <td>NaN</td>\n",
       "      <td>NaN</td>\n",
       "      <td>0</td>\n",
       "      <td>0</td>\n",
       "      <td>0</td>\n",
       "      <td>0</td>\n",
       "      <td>0</td>\n",
       "      <td>Somewhat</td>\n",
       "      <td>...</td>\n",
       "      <td>Definitely</td>\n",
       "      <td>Mostly</td>\n",
       "      <td>Definitely</td>\n",
       "      <td>Definitely</td>\n",
       "      <td>Often</td>\n",
       "      <td>Sometimes</td>\n",
       "      <td>Sometimes</td>\n",
       "      <td>Sometimes</td>\n",
       "      <td>Often</td>\n",
       "      <td>23836160</td>\n",
       "    </tr>\n",
       "    <tr>\n",
       "      <th>7</th>\n",
       "      <td>NaN</td>\n",
       "      <td>1.0</td>\n",
       "      <td>1.0</td>\n",
       "      <td>NaN</td>\n",
       "      <td>0</td>\n",
       "      <td>0</td>\n",
       "      <td>0</td>\n",
       "      <td>0</td>\n",
       "      <td>1</td>\n",
       "      <td>Not at all</td>\n",
       "      <td>...</td>\n",
       "      <td>Somewhat</td>\n",
       "      <td>Somewhat</td>\n",
       "      <td>Mostly</td>\n",
       "      <td>Somewhat</td>\n",
       "      <td>Often</td>\n",
       "      <td>Often</td>\n",
       "      <td>Often</td>\n",
       "      <td>Often</td>\n",
       "      <td>Sometimes</td>\n",
       "      <td>64006159</td>\n",
       "    </tr>\n",
       "    <tr>\n",
       "      <th>8</th>\n",
       "      <td>1.0</td>\n",
       "      <td>1.0</td>\n",
       "      <td>1.0</td>\n",
       "      <td>NaN</td>\n",
       "      <td>0</td>\n",
       "      <td>1</td>\n",
       "      <td>0</td>\n",
       "      <td>0</td>\n",
       "      <td>3</td>\n",
       "      <td>Somewhat</td>\n",
       "      <td>...</td>\n",
       "      <td>Definitely</td>\n",
       "      <td>Mostly</td>\n",
       "      <td>Definitely</td>\n",
       "      <td>Mostly</td>\n",
       "      <td>Almost always</td>\n",
       "      <td>Almost always</td>\n",
       "      <td>Often</td>\n",
       "      <td>Often</td>\n",
       "      <td>Often</td>\n",
       "      <td>24566161</td>\n",
       "    </tr>\n",
       "    <tr>\n",
       "      <th>9</th>\n",
       "      <td>NaN</td>\n",
       "      <td>1.0</td>\n",
       "      <td>NaN</td>\n",
       "      <td>NaN</td>\n",
       "      <td>1</td>\n",
       "      <td>0</td>\n",
       "      <td>0</td>\n",
       "      <td>0</td>\n",
       "      <td>2</td>\n",
       "      <td>Somewhat</td>\n",
       "      <td>...</td>\n",
       "      <td>Somewhat</td>\n",
       "      <td>Not at all</td>\n",
       "      <td>Mostly</td>\n",
       "      <td>Definitely</td>\n",
       "      <td>Often</td>\n",
       "      <td>Often</td>\n",
       "      <td>Often</td>\n",
       "      <td>Sometimes</td>\n",
       "      <td>Almost always</td>\n",
       "      <td>46792161</td>\n",
       "    </tr>\n",
       "  </tbody>\n",
       "</table>\n",
       "<p>5 rows × 24 columns</p>\n",
       "</div>"
      ],
      "text/plain": [
       "   [prior_lab] What lab courses are you presently taking or have taken in the past? Check all that apply. [High school level laboratory]  \\\n",
       "5                                                1.0                                                                                       \n",
       "6                                                1.0                                                                                       \n",
       "7                                                NaN                                                                                       \n",
       "8                                                1.0                                                                                       \n",
       "9                                                NaN                                                                                       \n",
       "\n",
       "   [prior_lab] What lab courses are you presently taking or have taken in the past? Check all that apply. [First year undergraduate physics laboratory]  \\\n",
       "5                                                1.0                                                                                                      \n",
       "6                                                1.0                                                                                                      \n",
       "7                                                1.0                                                                                                      \n",
       "8                                                1.0                                                                                                      \n",
       "9                                                1.0                                                                                                      \n",
       "\n",
       "   [prior_lab] What lab courses are you presently taking or have taken in the past? Check all that apply. [First year undergraduate chemistry laboratory]  \\\n",
       "5                                                1.0                                                                                                        \n",
       "6                                                NaN                                                                                                        \n",
       "7                                                1.0                                                                                                        \n",
       "8                                                1.0                                                                                                        \n",
       "9                                                NaN                                                                                                        \n",
       "\n",
       "   [prior_lab] What lab courses are you presently taking or have taken in the past? Check all that apply. [Higher level chemistry labs]  \\\n",
       "5                                                NaN                                                                                      \n",
       "6                                                NaN                                                                                      \n",
       "7                                                NaN                                                                                      \n",
       "8                                                NaN                                                                                      \n",
       "9                                                NaN                                                                                      \n",
       "\n",
       "   similar_L  similar_C  same_L  same_C  prior_number_virtual_labs  \\\n",
       "5          0          0       0       0                          2   \n",
       "6          0          0       0       0                          0   \n",
       "7          0          0       0       0                          1   \n",
       "8          0          1       0       0                          3   \n",
       "9          1          0       0       0                          2   \n",
       "\n",
       "  perceivedvalue.0-boring    ...     \\\n",
       "5                  Mostly    ...      \n",
       "6                Somewhat    ...      \n",
       "7              Not at all    ...      \n",
       "8                Somewhat    ...      \n",
       "9                Somewhat    ...      \n",
       "\n",
       "  taskinterpretation.1-design my own experiments that can help me understand the topic at hand  \\\n",
       "5                                           Somewhat                                             \n",
       "6                                         Definitely                                             \n",
       "7                                           Somewhat                                             \n",
       "8                                         Definitely                                             \n",
       "9                                           Somewhat                                             \n",
       "\n",
       "  taskinterpretation.2-memorize information about the topic at hand  \\\n",
       "5                                             Mostly                  \n",
       "6                                             Mostly                  \n",
       "7                                           Somewhat                  \n",
       "8                                             Mostly                  \n",
       "9                                         Not at all                  \n",
       "\n",
       "  taskinterpretation.3-complete a certain number of  questions  \\\n",
       "5                                           Somewhat             \n",
       "6                                         Definitely             \n",
       "7                                             Mostly             \n",
       "8                                         Definitely             \n",
       "9                                             Mostly             \n",
       "\n",
       "  taskinterpretation.4-develop scientific reasoning skills  \\\n",
       "5                                           Somewhat         \n",
       "6                                         Definitely         \n",
       "7                                           Somewhat         \n",
       "8                                             Mostly         \n",
       "9                                         Definitely         \n",
       "\n",
       "  pocc.0-learning the basic concepts pocc.1-testing my ideas and theories  \\\n",
       "5                              Often                                Often   \n",
       "6                              Often                            Sometimes   \n",
       "7                              Often                                Often   \n",
       "8                      Almost always                        Almost always   \n",
       "9                              Often                                Often   \n",
       "\n",
       "  pocc.2-answering given questions pocc.3-memorizing key information  \\\n",
       "5                            Often                         Sometimes   \n",
       "6                        Sometimes                         Sometimes   \n",
       "7                            Often                             Often   \n",
       "8                            Often                             Often   \n",
       "9                            Often                         Sometimes   \n",
       "\n",
       "  pocc.4-exploring the topic       sid  \n",
       "5                      Often  77047160  \n",
       "6                      Often  23836160  \n",
       "7                  Sometimes  64006159  \n",
       "8                      Often  24566161  \n",
       "9              Almost always  46792161  \n",
       "\n",
       "[5 rows x 24 columns]"
      ]
     },
     "execution_count": 3,
     "metadata": {},
     "output_type": "execute_result"
    }
   ],
   "source": [
    "pre.head()"
   ]
  },
  {
   "cell_type": "markdown",
   "metadata": {},
   "source": [
    "## Post survey"
   ]
  },
  {
   "cell_type": "code",
   "execution_count": 4,
   "metadata": {
    "scrolled": false
   },
   "outputs": [
    {
     "name": "stdout",
     "output_type": "stream",
     "text": [
      "These columns have no entries: set([u'gender-Rather specify: ', u'year-Masters student', u'gender-Rather specify:', u'gender-Trans*', u'year-Doctoral student', u'year-6th year or higher undergraduate', u'year-5th year undergraduate'])\n"
     ]
    },
    {
     "name": "stderr",
     "output_type": "stream",
     "text": [
      "d:\\applications\\anaconda2\\lib\\site-packages\\ipykernel_launcher.py:27: DeprecationWarning: \n",
      ".ix is deprecated. Please use\n",
      ".loc for label based indexing or\n",
      ".iloc for positional indexing\n",
      "\n",
      "See the documentation here:\n",
      "http://pandas.pydata.org/pandas-docs/stable/indexing.html#deprecate_ix\n"
     ]
    }
   ],
   "source": [
    "def get_all_posts_surveys():\n",
    "    posts = pd.DataFrame()\n",
    "    for sim_order in ['Capacitance-assessment-2LC','Absorbance-assessment-1LC','Capacitance-assessment-1CL','Absorbance-assessment-2CL']:\n",
    "        filename = 'responses_{0}_downloaded_4.3.2017.txt'.format(sim_order)\n",
    "        filepath = os.path.join(BIG_FOLDER,'raw study data\\\\survey data\\\\'+filename)\n",
    "        newdf = pd.read_csv(filepath,sep='\\t',encoding = \"ISO-8859-1\")\n",
    "        newdf['sim_index'] = sim_order[-3]\n",
    "        newdf['sim'] = sim_order.split('-')[0]\n",
    "\n",
    "        posts = pd.concat([posts,newdf])    \n",
    "        \n",
    "    #cleaning up columns\n",
    "    old_columns = list(posts.columns)\n",
    "    new_columns = [c.split(']')[0].replace('[','') for c in old_columns]\n",
    "    for i,(c,d) in enumerate(zip(new_columns,old_columns)):\n",
    "        if c in ['year','gender']:\n",
    "            new_columns[i] = c + '-'+d.split('[')[2].replace(']','')\n",
    "        elif 'qual1' in new_columns and 'qual1' in d:\n",
    "            new_columns[i] = c +'x'\n",
    "        elif 'quant' in d or 'qual' in d:\n",
    "            new_columns[i] = c #+ ' -'+d.split('|')[1].replace('?','')\n",
    "        elif new_columns.count(c)>1:\n",
    "            new_columns[i] = d\n",
    "        elif ' | ' in d and 'Page' not in d:\n",
    "            new_columns[i] = c + '-' + d.split(' | ')[1]\n",
    "    posts.columns = new_columns\n",
    "    posts[\"qual1\"] = posts[\"qual1x\"].ix[:,0].replace(np.nan, '', regex=True).map(str) + posts[\"qual1x\"].ix[:,1].replace(np.nan, '', regex=True).map(str)\n",
    "    posts.drop([\"qual1x\"],axis=1,inplace=True)\n",
    "\n",
    "    def ids_posts_to_logs(row):\n",
    "        sid = row['id']\n",
    "        if sid in [561164,192168,7868168]:\n",
    "            return sid+10000000\n",
    "        elif sid == 17595160:\n",
    "            return 17597160\n",
    "        elif sid == 31607164:\n",
    "            return 36107164\n",
    "        elif sid == 17931169:\n",
    "            if row['IP Address'] == '142.103.243.201':\n",
    "                return 17931169\n",
    "            else:\n",
    "                return 12345678 #cahnge the id so we don't use it\n",
    "        elif sid == 84135167:\n",
    "            return 83145167\n",
    "        else:\n",
    "            return sid\n",
    "\n",
    "    #adding an sid that matches logs.\n",
    "    posts['sid'] = posts.apply(lambda row: ids_posts_to_logs(row),axis=1)\n",
    "    posts = posts.rename(columns = {'id':'original id'})\n",
    "    \n",
    "    #filtering out all post survey data that is not analyzable\n",
    "    log_ids = set(get_students_to_analyze_log())\n",
    "    posts = posts[posts['sid'].isin(log_ids)]\n",
    "    return posts\n",
    "\n",
    "posts = get_all_posts_surveys()\n",
    "\n",
    "posts.drop(['Collector','Completion Time','Created At','GET Variables','IP Address','Internal ID','Invite Code','Invite Email','Invite Name','Language','Location','Number of Saves','Page 1 | Time on Page','Page 2 | Time on Page','Page 3 | Time on Page','Page 4 | Time on Page','Page 5 | Time on Page','Page 6 | Time on Page','Page 7 | Time on Page','Page 8 | Time on Page','Page 9 | Time on Page','Referrer','Status','Updated At','Username','Weighted Score','[open1] How did you go about learning physics through the virtual lab?'],axis=1,inplace=True)\n",
    "C = set(posts.columns)\n",
    "posts.dropna(axis=1, how='all',inplace=True)\n",
    "D = set(posts.columns)\n",
    "posts.to_csv(os.path.join(BIG_FOLDER,'all_massaged_data\\\\post_survey_results.txt'), sep='\\t')\n",
    "posts.shape\n",
    "print \"These columns have no entries:\",C-D"
   ]
  },
  {
   "cell_type": "markdown",
   "metadata": {},
   "source": [
    "# More detailed step by step process of how the above functions were developped"
   ]
  },
  {
   "cell_type": "code",
   "execution_count": 6,
   "metadata": {},
   "outputs": [],
   "source": [
    "pre = get_pre_survey()"
   ]
  },
  {
   "cell_type": "code",
   "execution_count": 7,
   "metadata": {},
   "outputs": [
    {
     "data": {
      "text/html": [
       "<div>\n",
       "<style>\n",
       "    .dataframe thead tr:only-child th {\n",
       "        text-align: right;\n",
       "    }\n",
       "\n",
       "    .dataframe thead th {\n",
       "        text-align: left;\n",
       "    }\n",
       "\n",
       "    .dataframe tbody tr th {\n",
       "        vertical-align: top;\n",
       "    }\n",
       "</style>\n",
       "<table border=\"1\" class=\"dataframe\">\n",
       "  <thead>\n",
       "    <tr style=\"text-align: right;\">\n",
       "      <th></th>\n",
       "      <th>Status</th>\n",
       "      <th>Internal ID</th>\n",
       "      <th>Language</th>\n",
       "      <th>Created At</th>\n",
       "      <th>Updated At</th>\n",
       "      <th>Location</th>\n",
       "      <th>Username</th>\n",
       "      <th>GET Variables</th>\n",
       "      <th>Referrer</th>\n",
       "      <th>Number of Saves</th>\n",
       "      <th>...</th>\n",
       "      <th>[taskinterpretation.0] When I am asked to do an activity like the one shown, I am being asked to... | investigate the basic mechanics of the topic at hand</th>\n",
       "      <th>[taskinterpretation.1] When I am asked to do an activity like the one shown, I am being asked to... | design my own experiments that can help me understand the topic at hand</th>\n",
       "      <th>[taskinterpretation.2] When I am asked to do an activity like the one shown, I am being asked to... | memorize information about the topic at hand</th>\n",
       "      <th>[taskinterpretation.3] When I am asked to do an activity like the one shown, I am being asked to... | complete a certain number of  questions</th>\n",
       "      <th>[taskinterpretation.4] When I am asked to do an activity like the one shown, I am being asked to... | develop scientific reasoning skills</th>\n",
       "      <th>[pocc.0] When doing an activity to learn physics through a virtual lab, I think I can do a good job of",
       " | learning the basic concepts</th>\n",
       "      <th>[pocc.1] When doing an activity to learn physics through a virtual lab, I think I can do a good job of",
       " | testing my ideas and theories</th>\n",
       "      <th>[pocc.2] When doing an activity to learn physics through a virtual lab, I think I can do a good job of",
       " | answering given questions</th>\n",
       "      <th>[pocc.3] When doing an activity to learn physics through a virtual lab, I think I can do a good job of",
       " | memorizing key information</th>\n",
       "      <th>[pocc.4] When doing an activity to learn physics through a virtual lab, I think I can do a good job of",
       " | exploring the topic</th>\n",
       "    </tr>\n",
       "  </thead>\n",
       "  <tbody>\n",
       "    <tr>\n",
       "      <th>0</th>\n",
       "      <td>Complete</td>\n",
       "      <td>83736373</td>\n",
       "      <td>English</td>\n",
       "      <td>2017-01-13 13:17</td>\n",
       "      <td>2017-01-13 13:19</td>\n",
       "      <td>British Columbia</td>\n",
       "      <td>NaN</td>\n",
       "      <td>NaN</td>\n",
       "      <td>https://survey.ubc.ca/s/pre-assessment/</td>\n",
       "      <td>NaN</td>\n",
       "      <td>...</td>\n",
       "      <td>Mostly</td>\n",
       "      <td>Definitely</td>\n",
       "      <td>Not at all</td>\n",
       "      <td>Somewhat</td>\n",
       "      <td>Mostly</td>\n",
       "      <td>Almost always</td>\n",
       "      <td>Almost always</td>\n",
       "      <td>Often</td>\n",
       "      <td>Sometimes</td>\n",
       "      <td>Almost always</td>\n",
       "    </tr>\n",
       "    <tr>\n",
       "      <th>1</th>\n",
       "      <td>Complete</td>\n",
       "      <td>83736382</td>\n",
       "      <td>English</td>\n",
       "      <td>2017-01-13 13:17</td>\n",
       "      <td>2017-01-13 13:19</td>\n",
       "      <td>British Columbia</td>\n",
       "      <td>NaN</td>\n",
       "      <td>NaN</td>\n",
       "      <td>https://survey.ubc.ca/s/pre-assessment/</td>\n",
       "      <td>NaN</td>\n",
       "      <td>...</td>\n",
       "      <td>Somewhat</td>\n",
       "      <td>Mostly</td>\n",
       "      <td>Somewhat</td>\n",
       "      <td>Somewhat</td>\n",
       "      <td>Somewhat</td>\n",
       "      <td>Often</td>\n",
       "      <td>Almost always</td>\n",
       "      <td>Almost always</td>\n",
       "      <td>Sometimes</td>\n",
       "      <td>Sometimes</td>\n",
       "    </tr>\n",
       "  </tbody>\n",
       "</table>\n",
       "<p>2 rows × 44 columns</p>\n",
       "</div>"
      ],
      "text/plain": [
       "     Status  Internal ID Language        Created At        Updated At  \\\n",
       "0  Complete     83736373  English  2017-01-13 13:17  2017-01-13 13:19   \n",
       "1  Complete     83736382  English  2017-01-13 13:17  2017-01-13 13:19   \n",
       "\n",
       "           Location  Username  GET Variables  \\\n",
       "0  British Columbia       NaN            NaN   \n",
       "1  British Columbia       NaN            NaN   \n",
       "\n",
       "                                  Referrer  Number of Saves  \\\n",
       "0  https://survey.ubc.ca/s/pre-assessment/              NaN   \n",
       "1  https://survey.ubc.ca/s/pre-assessment/              NaN   \n",
       "\n",
       "                                                               ...                                                                \\\n",
       "0                                                              ...                                                                 \n",
       "1                                                              ...                                                                 \n",
       "\n",
       "   [taskinterpretation.0] When I am asked to do an activity like the one shown, I am being asked to... | investigate the basic mechanics of the topic at hand  \\\n",
       "0                                             Mostly                                                                                                            \n",
       "1                                           Somewhat                                                                                                            \n",
       "\n",
       "  [taskinterpretation.1] When I am asked to do an activity like the one shown, I am being asked to... | design my own experiments that can help me understand the topic at hand  \\\n",
       "0                                         Definitely                                                                                                                              \n",
       "1                                             Mostly                                                                                                                              \n",
       "\n",
       "   [taskinterpretation.2] When I am asked to do an activity like the one shown, I am being asked to... | memorize information about the topic at hand  \\\n",
       "0                                         Not at all                                                                                                    \n",
       "1                                           Somewhat                                                                                                    \n",
       "\n",
       "   [taskinterpretation.3] When I am asked to do an activity like the one shown, I am being asked to... | complete a certain number of  questions  \\\n",
       "0                                           Somewhat                                                                                               \n",
       "1                                           Somewhat                                                                                               \n",
       "\n",
       "  [taskinterpretation.4] When I am asked to do an activity like the one shown, I am being asked to... | develop scientific reasoning skills  \\\n",
       "0                                             Mostly                                                                                          \n",
       "1                                           Somewhat                                                                                          \n",
       "\n",
       "   [pocc.0] When doing an activity to learn physics through a virtual lab, I think I can do a good job of",
       " | learning the basic concepts  \\\n",
       "0                                      Almost always                                                                                       \n",
       "1                                              Often                                                                                       \n",
       "\n",
       "   [pocc.1] When doing an activity to learn physics through a virtual lab, I think I can do a good job of",
       " | testing my ideas and theories  \\\n",
       "0                                      Almost always                                                                                         \n",
       "1                                      Almost always                                                                                         \n",
       "\n",
       "   [pocc.2] When doing an activity to learn physics through a virtual lab, I think I can do a good job of",
       " | answering given questions  \\\n",
       "0                                              Often                                                                                     \n",
       "1                                      Almost always                                                                                     \n",
       "\n",
       "   [pocc.3] When doing an activity to learn physics through a virtual lab, I think I can do a good job of",
       " | memorizing key information  \\\n",
       "0                                          Sometimes                                                                                      \n",
       "1                                          Sometimes                                                                                      \n",
       "\n",
       "   [pocc.4] When doing an activity to learn physics through a virtual lab, I think I can do a good job of",
       " | exploring the topic  \n",
       "0                                      Almost always                                                                              \n",
       "1                                          Sometimes                                                                              \n",
       "\n",
       "[2 rows x 44 columns]"
      ]
     },
     "execution_count": 7,
     "metadata": {},
     "output_type": "execute_result"
    }
   ],
   "source": [
    "pre.head(2)"
   ]
  },
  {
   "cell_type": "code",
   "execution_count": 8,
   "metadata": {},
   "outputs": [
    {
     "name": "stdout",
     "output_type": "stream",
     "text": [
      "[u'Status', u'Internal ID', u'Language', u'Created At', u'Updated At', u'Location', u'Username', u'GET Variables', u'Referrer', u'Number of Saves', u'Weighted Score', u'Completion Time', u'Page 1 | Time on Page', u'Page 2 | Time on Page', u'IP Address', u'Invite Code', u'Invite Email', u'Invite Name', u'Collector', u'id', u'[prior_lab] What lab courses are you presently taking or have taken in the past? Check all that apply. [High school level laboratory]', u'[prior_lab] What lab courses are you presently taking or have taken in the past? Check all that apply. [First year undergraduate physics laboratory]', u'[prior_lab] What lab courses are you presently taking or have taken in the past? Check all that apply. [First year undergraduate chemistry laboratory]', u'[prior_lab] What lab courses are you presently taking or have taken in the past? Check all that apply. [Higher level physics labs]', u'[prior_lab] What lab courses are you presently taking or have taken in the past? Check all that apply. [Higher level chemistry labs]', u'[prior_lab] What lab courses are you presently taking or have taken in the past? Check all that apply. [Other labs (e.g. in a different discipline). Please specify:]', u'prior_lab', u'prior_sims_phet', u'prio_sims_other', u'prior_number_virtual_labs', u'perceivedvalue.0', u'perceivedvalue.1', u'perceivedvalue.2', u'perceivedvalue.3', u'taskinterpretation.0', u'taskinterpretation.1', u'taskinterpretation.2', u'taskinterpretation.3', u'taskinterpretation.4', u'pocc.0', u'pocc.1', u'pocc.2', u'pocc.3', u'pocc.4']\n"
     ]
    }
   ],
   "source": [
    "#cleaning up columns\n",
    "old_columns = list(pre.columns)\n",
    "new_columns = [c.split(']')[0].replace('[','') for c in old_columns]\n",
    "for i,(c,d) in enumerate(zip(new_columns,old_columns)):\n",
    "    if new_columns.count(c)>1:\n",
    "        new_columns[i] = d\n",
    "print new_columns\n",
    "pre.columns = new_columns"
   ]
  },
  {
   "cell_type": "markdown",
   "metadata": {},
   "source": [
    "## Keep records if analyzable ids"
   ]
  },
  {
   "cell_type": "code",
   "execution_count": 9,
   "metadata": {},
   "outputs": [],
   "source": [
    "ids = set(get_students_to_analyze_log())"
   ]
  },
  {
   "cell_type": "code",
   "execution_count": 10,
   "metadata": {},
   "outputs": [
    {
     "data": {
      "text/plain": [
       "148"
      ]
     },
     "execution_count": 10,
     "metadata": {},
     "output_type": "execute_result"
    }
   ],
   "source": [
    "len(ids)"
   ]
  },
  {
   "cell_type": "code",
   "execution_count": 11,
   "metadata": {},
   "outputs": [
    {
     "name": "stdout",
     "output_type": "stream",
     "text": [
      "206 204\n",
      "[23784336, 17931169]\n",
      "We have duplicates, one from the collision and one from... who knows!\n",
      "True\n"
     ]
    }
   ],
   "source": [
    "import collections\n",
    "ids_pre = list(pre['id'])\n",
    "print len(ids_pre), len(set(ids_pre))\n",
    "print [item for item, count in collections.Counter(ids_pre).items() if count > 1]\n",
    "print \"We have duplicates, one from the collision and one from... who knows!\"\n",
    "print 17931169 in ids"
   ]
  },
  {
   "cell_type": "code",
   "execution_count": 12,
   "metadata": {},
   "outputs": [
    {
     "name": "stdout",
     "output_type": "stream",
     "text": [
      "135 ids in pre and analyzable list\n",
      "13 ids not in pre\n",
      "69 ids not analyzable ids (not worrisome - lots of testing or unusable students)\n"
     ]
    }
   ],
   "source": [
    "print len(ids&set(ids_pre)),\"ids in pre and analyzable list\"\n",
    "print  len(ids - set(ids_pre)),\"ids not in pre\"\n",
    "print len(set(ids_pre)-ids),\"ids not analyzable ids (not worrisome - lots of testing or unusable students)\""
   ]
  },
  {
   "cell_type": "code",
   "execution_count": 13,
   "metadata": {},
   "outputs": [
    {
     "name": "stdout",
     "output_type": "stream",
     "text": [
      "15055169 True\n",
      "15444164 True\n",
      "19780165 True\n",
      "12406161 False\n",
      "17868168 True\n",
      "16901162 True\n",
      "10561164 True\n",
      "13981167 True\n",
      "10192168 True\n",
      "18162165 False\n",
      "15298166 True\n",
      "11394167 True\n",
      "14055131 True\n",
      "13\n"
     ]
    }
   ],
   "source": [
    "ids_to_sort = set(ids - set(ids_pre))\n",
    "for idd in ids_to_sort:\n",
    "    print idd, int(str(idd)[1:]) in ids_pre\n",
    "print len(ids_to_sort)"
   ]
  },
  {
   "cell_type": "code",
   "execution_count": 14,
   "metadata": {},
   "outputs": [
    {
     "name": "stdout",
     "output_type": "stream",
     "text": [
      "148\n",
      "148\n"
     ]
    }
   ],
   "source": [
    "def ids_logs_to_pre(studentid):\n",
    "    if studentid in [15055169,15444164,19780165,17868168,16901162,10561164,13981167,10192168,15298166,11394167,14055131]:\n",
    "        return studentid-10000000\n",
    "    elif studentid == 12406161:\n",
    "        return 12406816\n",
    "    elif studentid == 18162165:\n",
    "        return 18162136\n",
    "    else:\n",
    "        return studentid\n",
    "    \n",
    "def ids_pre_to_logs(studentid):\n",
    "    if studentid in [5055169,5444164,9780165,7868168,6901162,561164,3981167,192168,5298166,1394167,4055131]:\n",
    "        return studentid+10000000\n",
    "    elif studentid == 12406816:\n",
    "        return 12406161\n",
    "    elif studentid == 18162136:\n",
    "        return 18162165\n",
    "    else:\n",
    "        return studentid\n",
    "ids_match_pre = set([ids_logs_to_pre(i) for i in ids])\n",
    "print len(ids_match_pre)\n",
    "print len(ids_match_pre&set(ids_pre))"
   ]
  },
  {
   "cell_type": "code",
   "execution_count": 15,
   "metadata": {},
   "outputs": [
    {
     "data": {
      "text/plain": [
       "148"
      ]
     },
     "execution_count": 15,
     "metadata": {},
     "output_type": "execute_result"
    }
   ],
   "source": [
    "#using internal id to remove the student with two pres,one in a good session with logs, one not\n",
    "#id = 17931169\n",
    "pre_analyzeable = pre[(pre['id'].isin(ids_match_pre))&(pre['Internal ID']!=86221654)]\n",
    "len(pre_analyzeable)"
   ]
  },
  {
   "cell_type": "markdown",
   "metadata": {},
   "source": [
    "## Let's analyze!"
   ]
  },
  {
   "cell_type": "code",
   "execution_count": 16,
   "metadata": {},
   "outputs": [],
   "source": [
    "ax = pre_analyzeable['prior_sims_phet'].value_counts().plot(kind='bar')\n",
    "for p in ax.patches:\n",
    "    ax.annotate(str(int(p.get_height())), (p.get_x() * 1.005, p.get_height() * 1.005), fontsize=25)"
   ]
  },
  {
   "cell_type": "code",
   "execution_count": 17,
   "metadata": {},
   "outputs": [],
   "source": [
    "ax = pre_analyzeable['prior_number_virtual_labs'].value_counts().plot(kind='bar')\n",
    "for p in ax.patches:\n",
    "    ax.annotate(str(int(p.get_height())), (p.get_x() * 1.005, p.get_height() * 1.005), fontsize=25)"
   ]
  },
  {
   "cell_type": "code",
   "execution_count": 18,
   "metadata": {},
   "outputs": [],
   "source": [
    "ax = pre_analyzeable['prio_sims_other'].value_counts().plot(kind='bar')\n",
    "for p in ax.patches:\n",
    "    ax.annotate(str(int(p.get_height())), (p.get_x() * 1.005, p.get_height() * 1.005), fontsize=25)"
   ]
  },
  {
   "cell_type": "code",
   "execution_count": 19,
   "metadata": {},
   "outputs": [
    {
     "name": "stdout",
     "output_type": "stream",
     "text": [
      "------------------------------  ---------------------------------------------  -----------------------------------------------  ---------------------------  -----------------------------\n",
      "[High school level laboratory]  [First year undergraduate physics laboratory]  [First year undergraduate chemistry laboratory]  [Higher level physics labs]  [Higher level chemistry labs]\n",
      "126                             116                                            116                                              0                            11\n",
      "------------------------------  ---------------------------------------------  -----------------------------------------------  ---------------------------  -----------------------------\n"
     ]
    }
   ],
   "source": [
    "lab_choices = ['[High school level laboratory]','[First year undergraduate physics laboratory]','[First year undergraduate chemistry laboratory]','[Higher level physics labs]','[Higher level chemistry labs]']\n",
    "p = []\n",
    "p.append(lab_choices)\n",
    "p.append([len(pre_analyzeable[pre_analyzeable['[prior_lab] What lab courses are you presently taking or have taken in the past? Check all that apply. '+choice]==1]) for choice in lab_choices])\n",
    "print tabulate(p)\n",
    "# len(pre_analyzeable[pre_analyzeable['[prior_lab] What lab courses are you presently taking or have taken in the past? Check all that apply. [High school level laboratory]']==1])"
   ]
  },
  {
   "cell_type": "code",
   "execution_count": 20,
   "metadata": {},
   "outputs": [
    {
     "data": {
      "text/plain": [
       "Index([u'Status', u'Internal ID', u'Language', u'Created At', u'Updated At',\n",
       "       u'Location', u'Username', u'GET Variables', u'Referrer',\n",
       "       u'Number of Saves', u'Weighted Score', u'Completion Time',\n",
       "       u'Page 1 | Time on Page', u'Page 2 | Time on Page', u'IP Address',\n",
       "       u'Invite Code', u'Invite Email', u'Invite Name', u'Collector', u'id',\n",
       "       u'[prior_lab] What lab courses are you presently taking or have taken in the past? Check all that apply. [High school level laboratory]',\n",
       "       u'[prior_lab] What lab courses are you presently taking or have taken in the past? Check all that apply. [First year undergraduate physics laboratory]',\n",
       "       u'[prior_lab] What lab courses are you presently taking or have taken in the past? Check all that apply. [First year undergraduate chemistry laboratory]',\n",
       "       u'[prior_lab] What lab courses are you presently taking or have taken in the past? Check all that apply. [Higher level physics labs]',\n",
       "       u'[prior_lab] What lab courses are you presently taking or have taken in the past? Check all that apply. [Higher level chemistry labs]',\n",
       "       u'[prior_lab] What lab courses are you presently taking or have taken in the past? Check all that apply. [Other labs (e.g. in a different discipline). Please specify:]',\n",
       "       u'prior_lab', u'prior_sims_phet', u'prio_sims_other',\n",
       "       u'prior_number_virtual_labs', u'perceivedvalue.0', u'perceivedvalue.1',\n",
       "       u'perceivedvalue.2', u'perceivedvalue.3', u'taskinterpretation.0',\n",
       "       u'taskinterpretation.1', u'taskinterpretation.2',\n",
       "       u'taskinterpretation.3', u'taskinterpretation.4', u'pocc.0', u'pocc.1',\n",
       "       u'pocc.2', u'pocc.3', u'pocc.4'],\n",
       "      dtype='object')"
      ]
     },
     "execution_count": 20,
     "metadata": {},
     "output_type": "execute_result"
    }
   ],
   "source": [
    "pre_analyzeable.columns"
   ]
  },
  {
   "cell_type": "code",
   "execution_count": 21,
   "metadata": {},
   "outputs": [
    {
     "name": "stdout",
     "output_type": "stream",
     "text": [
      "[u'Chem 154 lab', u'Biology', u'biol 140', u'First year undergraduate biology laboratory ', u'First year undergraduate Computer Science and Astromony laboratory', u'First Year undergraduate CPSC labs', u'Chemistry High School level', u'first year biology lab', u'Computer Science labs', u'Biology 140 Lab Course ', u'Microbiology (High School)', u'Bio 140', u'Music Theory', u'Biology, Computer Science', u'Biology', u'First year Biology Laboratory', u'First Year Undergraduate Biology Lab', u'First year undergraduate biology labratory', u'VISA 110', u'computer science labs', u'High school level biology lab, First year undergraduaute biology lab', u'Biology first year lab', u'First year undergraduate biology lab', u'Biology', u'First year undergraduate biology lab (BIOL 140)', u'Chemistry', u'high school biology lab', u'cpsc 121 and 110 labs', u'Biology labs', u'First year undergraduate biology laboratory', u'economics', u'Frst 443 - ENVI, Bio230/306', u'first year undergrad biology labs', u'First year biology lab', u'biol140 lab', u'Bio 140 Lab', u'Biology lab', u'First year undergraduate biology laboratory', u'BIO140', u'Chem 235', u'Biomedical Sciences Lab', u'biology', u'Biology (BIOL140)', u'First year undergraduate biology laboratory', u'Astronomy ', u'First year computer lab', u'BIOL 140 Undergraduate biology lab', u'First year undergraduate biology laboratory']\n"
     ]
    }
   ],
   "source": [
    "#Other lab courses taken by students\n",
    "print  [v for v in pre_analyzeable['prior_lab'].values if str(v) != 'nan']"
   ]
  },
  {
   "cell_type": "markdown",
   "metadata": {},
   "source": [
    "## Post surveys"
   ]
  },
  {
   "cell_type": "code",
   "execution_count": 22,
   "metadata": {},
   "outputs": [
    {
     "data": {
      "text/html": [
       "<div>\n",
       "<style>\n",
       "    .dataframe thead tr:only-child th {\n",
       "        text-align: right;\n",
       "    }\n",
       "\n",
       "    .dataframe thead th {\n",
       "        text-align: left;\n",
       "    }\n",
       "\n",
       "    .dataframe tbody tr th {\n",
       "        vertical-align: top;\n",
       "    }\n",
       "</style>\n",
       "<table border=\"1\" class=\"dataframe\">\n",
       "  <thead>\n",
       "    <tr style=\"text-align: right;\">\n",
       "      <th></th>\n",
       "      <th>Collector</th>\n",
       "      <th>Completion Time</th>\n",
       "      <th>Created At</th>\n",
       "      <th>GET Variables</th>\n",
       "      <th>IP Address</th>\n",
       "      <th>Internal ID</th>\n",
       "      <th>Invite Code</th>\n",
       "      <th>Invite Email</th>\n",
       "      <th>Invite Name</th>\n",
       "      <th>Language</th>\n",
       "      <th>...</th>\n",
       "      <th>[taskinterpretation.4] In the virtual lab activity I just did, I was asked to... | develop scientific reasoning skills</th>\n",
       "      <th>[year] What year are you in? [1st year undergraduate]</th>\n",
       "      <th>[year] What year are you in? [2nd year undergraduate]</th>\n",
       "      <th>[year] What year are you in? [3rd year undergraduate]</th>\n",
       "      <th>[year] What year are you in? [4th year undergraduate]</th>\n",
       "      <th>[year] What year are you in? [5th year undergraduate]</th>\n",
       "      <th>[year] What year are you in? [6th year or higher undergraduate]</th>\n",
       "      <th>[year] What year are you in? [Doctoral student]</th>\n",
       "      <th>[year] What year are you in? [Masters student]</th>\n",
       "      <th>sim_index</th>\n",
       "    </tr>\n",
       "  </thead>\n",
       "  <tbody>\n",
       "    <tr>\n",
       "      <th>0</th>\n",
       "      <td>NaN</td>\n",
       "      <td>0:10:27</td>\n",
       "      <td>2017-01-13 14:42</td>\n",
       "      <td>NaN</td>\n",
       "      <td>142.103.243.212</td>\n",
       "      <td>83738374</td>\n",
       "      <td>NaN</td>\n",
       "      <td>NaN</td>\n",
       "      <td>NaN</td>\n",
       "      <td>English</td>\n",
       "      <td>...</td>\n",
       "      <td>Definitely</td>\n",
       "      <td>NaN</td>\n",
       "      <td>1.0</td>\n",
       "      <td>NaN</td>\n",
       "      <td>NaN</td>\n",
       "      <td>NaN</td>\n",
       "      <td>NaN</td>\n",
       "      <td>NaN</td>\n",
       "      <td>NaN</td>\n",
       "      <td>2</td>\n",
       "    </tr>\n",
       "    <tr>\n",
       "      <th>1</th>\n",
       "      <td>NaN</td>\n",
       "      <td>0:10:50</td>\n",
       "      <td>2017-01-13 14:42</td>\n",
       "      <td>NaN</td>\n",
       "      <td>142.103.243.201</td>\n",
       "      <td>83738375</td>\n",
       "      <td>NaN</td>\n",
       "      <td>NaN</td>\n",
       "      <td>NaN</td>\n",
       "      <td>English</td>\n",
       "      <td>...</td>\n",
       "      <td>Definitely</td>\n",
       "      <td>1.0</td>\n",
       "      <td>NaN</td>\n",
       "      <td>NaN</td>\n",
       "      <td>NaN</td>\n",
       "      <td>NaN</td>\n",
       "      <td>NaN</td>\n",
       "      <td>NaN</td>\n",
       "      <td>NaN</td>\n",
       "      <td>2</td>\n",
       "    </tr>\n",
       "    <tr>\n",
       "      <th>2</th>\n",
       "      <td>NaN</td>\n",
       "      <td>0:18:12</td>\n",
       "      <td>2017-01-17 12:34</td>\n",
       "      <td>NaN</td>\n",
       "      <td>142.103.243.201</td>\n",
       "      <td>83835289</td>\n",
       "      <td>NaN</td>\n",
       "      <td>NaN</td>\n",
       "      <td>NaN</td>\n",
       "      <td>English</td>\n",
       "      <td>...</td>\n",
       "      <td>Mostly</td>\n",
       "      <td>1.0</td>\n",
       "      <td>NaN</td>\n",
       "      <td>NaN</td>\n",
       "      <td>NaN</td>\n",
       "      <td>NaN</td>\n",
       "      <td>NaN</td>\n",
       "      <td>NaN</td>\n",
       "      <td>NaN</td>\n",
       "      <td>2</td>\n",
       "    </tr>\n",
       "    <tr>\n",
       "      <th>3</th>\n",
       "      <td>NaN</td>\n",
       "      <td>0:14:54</td>\n",
       "      <td>2017-01-17 12:34</td>\n",
       "      <td>NaN</td>\n",
       "      <td>142.103.243.220</td>\n",
       "      <td>83835296</td>\n",
       "      <td>NaN</td>\n",
       "      <td>NaN</td>\n",
       "      <td>NaN</td>\n",
       "      <td>English</td>\n",
       "      <td>...</td>\n",
       "      <td>Mostly</td>\n",
       "      <td>1.0</td>\n",
       "      <td>NaN</td>\n",
       "      <td>NaN</td>\n",
       "      <td>NaN</td>\n",
       "      <td>NaN</td>\n",
       "      <td>NaN</td>\n",
       "      <td>NaN</td>\n",
       "      <td>NaN</td>\n",
       "      <td>2</td>\n",
       "    </tr>\n",
       "    <tr>\n",
       "      <th>4</th>\n",
       "      <td>NaN</td>\n",
       "      <td>0:17:06</td>\n",
       "      <td>2017-01-17 12:34</td>\n",
       "      <td>NaN</td>\n",
       "      <td>142.103.243.219</td>\n",
       "      <td>83835305</td>\n",
       "      <td>NaN</td>\n",
       "      <td>NaN</td>\n",
       "      <td>NaN</td>\n",
       "      <td>English</td>\n",
       "      <td>...</td>\n",
       "      <td>Definitely</td>\n",
       "      <td>1.0</td>\n",
       "      <td>NaN</td>\n",
       "      <td>NaN</td>\n",
       "      <td>NaN</td>\n",
       "      <td>NaN</td>\n",
       "      <td>NaN</td>\n",
       "      <td>NaN</td>\n",
       "      <td>NaN</td>\n",
       "      <td>2</td>\n",
       "    </tr>\n",
       "  </tbody>\n",
       "</table>\n",
       "<p>5 rows × 103 columns</p>\n",
       "</div>"
      ],
      "text/plain": [
       "   Collector Completion Time        Created At  GET Variables  \\\n",
       "0        NaN         0:10:27  2017-01-13 14:42            NaN   \n",
       "1        NaN         0:10:50  2017-01-13 14:42            NaN   \n",
       "2        NaN         0:18:12  2017-01-17 12:34            NaN   \n",
       "3        NaN         0:14:54  2017-01-17 12:34            NaN   \n",
       "4        NaN         0:17:06  2017-01-17 12:34            NaN   \n",
       "\n",
       "        IP Address  Internal ID  Invite Code  Invite Email  Invite Name  \\\n",
       "0  142.103.243.212     83738374          NaN           NaN          NaN   \n",
       "1  142.103.243.201     83738375          NaN           NaN          NaN   \n",
       "2  142.103.243.201     83835289          NaN           NaN          NaN   \n",
       "3  142.103.243.220     83835296          NaN           NaN          NaN   \n",
       "4  142.103.243.219     83835305          NaN           NaN          NaN   \n",
       "\n",
       "  Language    ...      \\\n",
       "0  English    ...       \n",
       "1  English    ...       \n",
       "2  English    ...       \n",
       "3  English    ...       \n",
       "4  English    ...       \n",
       "\n",
       "  [taskinterpretation.4] In the virtual lab activity I just did, I was asked to... | develop scientific reasoning skills  \\\n",
       "0                                         Definitely                                                                       \n",
       "1                                         Definitely                                                                       \n",
       "2                                             Mostly                                                                       \n",
       "3                                             Mostly                                                                       \n",
       "4                                         Definitely                                                                       \n",
       "\n",
       "   [year] What year are you in? [1st year undergraduate]  \\\n",
       "0                                                NaN       \n",
       "1                                                1.0       \n",
       "2                                                1.0       \n",
       "3                                                1.0       \n",
       "4                                                1.0       \n",
       "\n",
       "   [year] What year are you in? [2nd year undergraduate]  \\\n",
       "0                                                1.0       \n",
       "1                                                NaN       \n",
       "2                                                NaN       \n",
       "3                                                NaN       \n",
       "4                                                NaN       \n",
       "\n",
       "   [year] What year are you in? [3rd year undergraduate]  \\\n",
       "0                                                NaN       \n",
       "1                                                NaN       \n",
       "2                                                NaN       \n",
       "3                                                NaN       \n",
       "4                                                NaN       \n",
       "\n",
       "   [year] What year are you in? [4th year undergraduate]  \\\n",
       "0                                                NaN       \n",
       "1                                                NaN       \n",
       "2                                                NaN       \n",
       "3                                                NaN       \n",
       "4                                                NaN       \n",
       "\n",
       "   [year] What year are you in? [5th year undergraduate]  \\\n",
       "0                                                NaN       \n",
       "1                                                NaN       \n",
       "2                                                NaN       \n",
       "3                                                NaN       \n",
       "4                                                NaN       \n",
       "\n",
       "   [year] What year are you in? [6th year or higher undergraduate]  \\\n",
       "0                                                NaN                 \n",
       "1                                                NaN                 \n",
       "2                                                NaN                 \n",
       "3                                                NaN                 \n",
       "4                                                NaN                 \n",
       "\n",
       "   [year] What year are you in? [Doctoral student]  \\\n",
       "0                                              NaN   \n",
       "1                                              NaN   \n",
       "2                                              NaN   \n",
       "3                                              NaN   \n",
       "4                                              NaN   \n",
       "\n",
       "   [year] What year are you in? [Masters student]  sim_index  \n",
       "0                                             NaN          2  \n",
       "1                                             NaN          2  \n",
       "2                                             NaN          2  \n",
       "3                                             NaN          2  \n",
       "4                                             NaN          2  \n",
       "\n",
       "[5 rows x 103 columns]"
      ]
     },
     "execution_count": 22,
     "metadata": {},
     "output_type": "execute_result"
    }
   ],
   "source": [
    "def get_all_posts_surveys():\n",
    "    df = pd.DataFrame()\n",
    "    for sim_order in ['Capacitance-assessment-2LC','Absorbance-assessment-1LC','Capacitance-assessment-1CL','Absorbance-assessment-2CL']:\n",
    "        filename = 'responses_{0}_downloaded_4.3.2017.txt'.format(sim_order)\n",
    "        filepath = os.path.join(BIG_FOLDER,'raw study data\\\\survey data\\\\'+filename)\n",
    "        newdf = pd.read_csv(filepath,sep='\\t',encoding = \"ISO-8859-1\")\n",
    "        newdf['sim_index'] = sim_order[-3]\n",
    "\n",
    "        df = pd.concat([df,newdf])    \n",
    "    return df\n",
    "posts = get_all_posts_surveys()\n",
    "posts.head()"
   ]
  },
  {
   "cell_type": "code",
   "execution_count": 23,
   "metadata": {},
   "outputs": [
    {
     "data": {
      "text/html": [
       "<div>\n",
       "<style>\n",
       "    .dataframe thead tr:only-child th {\n",
       "        text-align: right;\n",
       "    }\n",
       "\n",
       "    .dataframe thead th {\n",
       "        text-align: left;\n",
       "    }\n",
       "\n",
       "    .dataframe tbody tr th {\n",
       "        vertical-align: top;\n",
       "    }\n",
       "</style>\n",
       "<table border=\"1\" class=\"dataframe\">\n",
       "  <thead>\n",
       "    <tr style=\"text-align: right;\">\n",
       "      <th></th>\n",
       "      <th>Collector</th>\n",
       "      <th>Completion Time</th>\n",
       "      <th>Created At</th>\n",
       "      <th>GET Variables</th>\n",
       "      <th>IP Address</th>\n",
       "      <th>Internal ID</th>\n",
       "      <th>Invite Code</th>\n",
       "      <th>Invite Email</th>\n",
       "      <th>Invite Name</th>\n",
       "      <th>Language</th>\n",
       "      <th>...</th>\n",
       "      <th>taskinterpretation.4</th>\n",
       "      <th>[year] What year are you in? [1st year undergraduate]</th>\n",
       "      <th>[year] What year are you in? [2nd year undergraduate]</th>\n",
       "      <th>[year] What year are you in? [3rd year undergraduate]</th>\n",
       "      <th>[year] What year are you in? [4th year undergraduate]</th>\n",
       "      <th>[year] What year are you in? [5th year undergraduate]</th>\n",
       "      <th>[year] What year are you in? [6th year or higher undergraduate]</th>\n",
       "      <th>[year] What year are you in? [Doctoral student]</th>\n",
       "      <th>year</th>\n",
       "      <th>sim_index</th>\n",
       "    </tr>\n",
       "  </thead>\n",
       "  <tbody>\n",
       "    <tr>\n",
       "      <th>0</th>\n",
       "      <td>NaN</td>\n",
       "      <td>0:10:27</td>\n",
       "      <td>2017-01-13 14:42</td>\n",
       "      <td>NaN</td>\n",
       "      <td>142.103.243.212</td>\n",
       "      <td>83738374</td>\n",
       "      <td>NaN</td>\n",
       "      <td>NaN</td>\n",
       "      <td>NaN</td>\n",
       "      <td>English</td>\n",
       "      <td>...</td>\n",
       "      <td>Definitely</td>\n",
       "      <td>NaN</td>\n",
       "      <td>1.0</td>\n",
       "      <td>NaN</td>\n",
       "      <td>NaN</td>\n",
       "      <td>NaN</td>\n",
       "      <td>NaN</td>\n",
       "      <td>NaN</td>\n",
       "      <td>NaN</td>\n",
       "      <td>2</td>\n",
       "    </tr>\n",
       "    <tr>\n",
       "      <th>1</th>\n",
       "      <td>NaN</td>\n",
       "      <td>0:10:50</td>\n",
       "      <td>2017-01-13 14:42</td>\n",
       "      <td>NaN</td>\n",
       "      <td>142.103.243.201</td>\n",
       "      <td>83738375</td>\n",
       "      <td>NaN</td>\n",
       "      <td>NaN</td>\n",
       "      <td>NaN</td>\n",
       "      <td>English</td>\n",
       "      <td>...</td>\n",
       "      <td>Definitely</td>\n",
       "      <td>1.0</td>\n",
       "      <td>NaN</td>\n",
       "      <td>NaN</td>\n",
       "      <td>NaN</td>\n",
       "      <td>NaN</td>\n",
       "      <td>NaN</td>\n",
       "      <td>NaN</td>\n",
       "      <td>NaN</td>\n",
       "      <td>2</td>\n",
       "    </tr>\n",
       "    <tr>\n",
       "      <th>2</th>\n",
       "      <td>NaN</td>\n",
       "      <td>0:18:12</td>\n",
       "      <td>2017-01-17 12:34</td>\n",
       "      <td>NaN</td>\n",
       "      <td>142.103.243.201</td>\n",
       "      <td>83835289</td>\n",
       "      <td>NaN</td>\n",
       "      <td>NaN</td>\n",
       "      <td>NaN</td>\n",
       "      <td>English</td>\n",
       "      <td>...</td>\n",
       "      <td>Mostly</td>\n",
       "      <td>1.0</td>\n",
       "      <td>NaN</td>\n",
       "      <td>NaN</td>\n",
       "      <td>NaN</td>\n",
       "      <td>NaN</td>\n",
       "      <td>NaN</td>\n",
       "      <td>NaN</td>\n",
       "      <td>NaN</td>\n",
       "      <td>2</td>\n",
       "    </tr>\n",
       "  </tbody>\n",
       "</table>\n",
       "<p>3 rows × 103 columns</p>\n",
       "</div>"
      ],
      "text/plain": [
       "   Collector Completion Time        Created At  GET Variables  \\\n",
       "0        NaN         0:10:27  2017-01-13 14:42            NaN   \n",
       "1        NaN         0:10:50  2017-01-13 14:42            NaN   \n",
       "2        NaN         0:18:12  2017-01-17 12:34            NaN   \n",
       "\n",
       "        IP Address  Internal ID  Invite Code  Invite Email  Invite Name  \\\n",
       "0  142.103.243.212     83738374          NaN           NaN          NaN   \n",
       "1  142.103.243.201     83738375          NaN           NaN          NaN   \n",
       "2  142.103.243.201     83835289          NaN           NaN          NaN   \n",
       "\n",
       "  Language    ...     taskinterpretation.4  \\\n",
       "0  English    ...               Definitely   \n",
       "1  English    ...               Definitely   \n",
       "2  English    ...                   Mostly   \n",
       "\n",
       "   [year] What year are you in? [1st year undergraduate]  \\\n",
       "0                                                NaN       \n",
       "1                                                1.0       \n",
       "2                                                1.0       \n",
       "\n",
       "   [year] What year are you in? [2nd year undergraduate]  \\\n",
       "0                                                1.0       \n",
       "1                                                NaN       \n",
       "2                                                NaN       \n",
       "\n",
       "   [year] What year are you in? [3rd year undergraduate]  \\\n",
       "0                                                NaN       \n",
       "1                                                NaN       \n",
       "2                                                NaN       \n",
       "\n",
       "   [year] What year are you in? [4th year undergraduate]  \\\n",
       "0                                                NaN       \n",
       "1                                                NaN       \n",
       "2                                                NaN       \n",
       "\n",
       "   [year] What year are you in? [5th year undergraduate]  \\\n",
       "0                                                NaN       \n",
       "1                                                NaN       \n",
       "2                                                NaN       \n",
       "\n",
       "   [year] What year are you in? [6th year or higher undergraduate]  \\\n",
       "0                                                NaN                 \n",
       "1                                                NaN                 \n",
       "2                                                NaN                 \n",
       "\n",
       "   [year] What year are you in? [Doctoral student]  year  sim_index  \n",
       "0                                              NaN   NaN          2  \n",
       "1                                              NaN   NaN          2  \n",
       "2                                              NaN   NaN          2  \n",
       "\n",
       "[3 rows x 103 columns]"
      ]
     },
     "execution_count": 23,
     "metadata": {},
     "output_type": "execute_result"
    }
   ],
   "source": [
    "#cleaning up columns\n",
    "old_columns = list(posts.columns)\n",
    "new_columns = [c.split(']')[0].replace('[','') for c in old_columns]\n",
    "for i,(c,d) in enumerate(zip(new_columns,old_columns)):\n",
    "    if new_columns.count(c)>1:\n",
    "        new_columns[i] = d\n",
    "posts.columns = new_columns\n",
    "posts.head(3)"
   ]
  },
  {
   "cell_type": "code",
   "execution_count": 24,
   "metadata": {},
   "outputs": [
    {
     "data": {
      "text/plain": [
       "(410, 103)"
      ]
     },
     "execution_count": 24,
     "metadata": {},
     "output_type": "execute_result"
    }
   ],
   "source": [
    "ids_posts = list(posts['id'])\n",
    "posts.shape"
   ]
  },
  {
   "cell_type": "code",
   "execution_count": 25,
   "metadata": {},
   "outputs": [],
   "source": [
    "ids = set(get_students_to_analyze_log())"
   ]
  },
  {
   "cell_type": "code",
   "execution_count": 26,
   "metadata": {},
   "outputs": [
    {
     "data": {
      "text/plain": [
       "148"
      ]
     },
     "execution_count": 26,
     "metadata": {},
     "output_type": "execute_result"
    }
   ],
   "source": [
    "len(ids)"
   ]
  },
  {
   "cell_type": "code",
   "execution_count": 27,
   "metadata": {},
   "outputs": [
    {
     "name": "stdout",
     "output_type": "stream",
     "text": [
      "146 ids in posts and analyzable list\n",
      "2 ids not in posts: set([10192168, 10561164])\n",
      "62 ids not analyzable ids (not worrisome - lots of testing or unusable students)\n"
     ]
    }
   ],
   "source": [
    "print len(ids&set(ids_posts)),\"ids in posts and analyzable list\"\n",
    "print  len(ids - set(ids_posts)),\"ids not in posts:\",ids - set(ids_posts)\n",
    "print len(set(ids_posts)-ids),\"ids not analyzable ids (not worrisome - lots of testing or unusable students)\""
   ]
  },
  {
   "cell_type": "code",
   "execution_count": 28,
   "metadata": {},
   "outputs": [
    {
     "name": "stdout",
     "output_type": "stream",
     "text": [
      "We investigate the two ids missing in posts.\n",
      "561164 True\n",
      "[u'2017-01-19 13:44', u'2017-01-19 14:39']\n",
      "192168 True\n",
      "[u'2017-01-20 15:43', u'2017-01-20 16:40']\n"
     ]
    }
   ],
   "source": [
    "print \"We investigate the two ids missing in posts.\"\n",
    "print 561164, 561164 in ids_posts\n",
    "print list(posts[posts['id']==561164]['Created At'])\n",
    "print 192168, 192168 in ids_posts\n",
    "print list(posts[posts['id']==192168]['Created At'])"
   ]
  },
  {
   "cell_type": "code",
   "execution_count": 29,
   "metadata": {},
   "outputs": [
    {
     "name": "stdout",
     "output_type": "stream",
     "text": [
      "410\n",
      "148\n"
     ]
    }
   ],
   "source": [
    "def ids_posts_to_logs(studentid):\n",
    "    if studentid in [561164,192168]:\n",
    "        return studentid+10000000\n",
    "    else:\n",
    "        return studentid\n",
    "ids_match_posts = [ids_posts_to_logs(i) for i in ids_posts]\n",
    "print len(ids_match_posts)\n",
    "print len(set(ids_match_posts)&set(ids))"
   ]
  },
  {
   "cell_type": "code",
   "execution_count": 30,
   "metadata": {
    "scrolled": true
   },
   "outputs": [
    {
     "name": "stdout",
     "output_type": "stream",
     "text": [
      "17597160 1\n",
      "['2']\n",
      "17868168 1\n",
      "['2']\n",
      "36107164 1\n",
      "['2']\n",
      "17931169 4\n",
      "['2', '1', '1', '2']\n",
      "83145167 1\n",
      "['1']\n",
      "These students are in the logs and surveys, but had the wrong number of postsurveys (should be 2)\n"
     ]
    }
   ],
   "source": [
    "import collections\n",
    "weird = [item for item, count in collections.Counter(ids_match_posts).items() if count != 2 and item in ids]\n",
    "for student in weird:\n",
    "    if student in ids:\n",
    "        print student, collections.Counter(ids_match_posts)[student]\n",
    "        print list(posts[posts['id']==student]['sim_index'])\n",
    "print \"These students are in the logs and surveys, but had the wrong number of postsurveys (should be 2)\""
   ]
  },
  {
   "cell_type": "code",
   "execution_count": 31,
   "metadata": {
    "scrolled": true
   },
   "outputs": [
    {
     "name": "stdout",
     "output_type": "stream",
     "text": [
      "17595160\n",
      "[u'2017-01-20 15:43']\n",
      "17597160\n",
      "[u'2017-01-20 16:40']\n"
     ]
    }
   ],
   "source": [
    "print 17595160\n",
    "print list(posts[posts['id']==17595160]['Created At'])\n",
    "print 17597160\n",
    "print list(posts[posts['id']==17597160]['Created At'])"
   ]
  },
  {
   "cell_type": "code",
   "execution_count": 32,
   "metadata": {},
   "outputs": [
    {
     "name": "stdout",
     "output_type": "stream",
     "text": [
      "7868168\n",
      "[u'2017-01-19 13:44']\n",
      "17868168\n",
      "[u'2017-01-19 14:39']\n"
     ]
    }
   ],
   "source": [
    "print 7868168\n",
    "print list(posts[posts['id']==7868168]['Created At'])\n",
    "print 17868168\n",
    "print list(posts[posts['id']==17868168]['Created At'])"
   ]
  },
  {
   "cell_type": "code",
   "execution_count": 33,
   "metadata": {},
   "outputs": [
    {
     "name": "stdout",
     "output_type": "stream",
     "text": [
      "31607164\n",
      "[u'2017-01-17 15:42']\n",
      "36107164\n",
      "[u'2017-01-17 16:38']\n"
     ]
    }
   ],
   "source": [
    "print 31607164\n",
    "print list(posts[posts['id']==31607164]['Created At'])\n",
    "print 36107164\n",
    "print list(posts[posts['id']==36107164]['Created At'])"
   ]
  },
  {
   "cell_type": "code",
   "execution_count": 34,
   "metadata": {},
   "outputs": [
    {
     "name": "stdout",
     "output_type": "stream",
     "text": [
      "For student 17931169, keep those from session 8, order CL, dump the ones from March 22nd LC whose log data we lost (possible collision?)\n"
     ]
    },
    {
     "data": {
      "text/html": [
       "<div>\n",
       "<style>\n",
       "    .dataframe thead tr:only-child th {\n",
       "        text-align: right;\n",
       "    }\n",
       "\n",
       "    .dataframe thead th {\n",
       "        text-align: left;\n",
       "    }\n",
       "\n",
       "    .dataframe tbody tr th {\n",
       "        vertical-align: top;\n",
       "    }\n",
       "</style>\n",
       "<table border=\"1\" class=\"dataframe\">\n",
       "  <thead>\n",
       "    <tr style=\"text-align: right;\">\n",
       "      <th></th>\n",
       "      <th>id</th>\n",
       "      <th>IP Address</th>\n",
       "      <th>Created At</th>\n",
       "    </tr>\n",
       "  </thead>\n",
       "  <tbody>\n",
       "    <tr>\n",
       "      <th>83</th>\n",
       "      <td>17931169</td>\n",
       "      <td>142.103.243.215</td>\n",
       "      <td>2017-03-22 16:42</td>\n",
       "    </tr>\n",
       "    <tr>\n",
       "      <th>86</th>\n",
       "      <td>17931169</td>\n",
       "      <td>142.103.243.215</td>\n",
       "      <td>2017-03-22 15:46</td>\n",
       "    </tr>\n",
       "    <tr>\n",
       "      <th>42</th>\n",
       "      <td>17931169</td>\n",
       "      <td>142.103.243.201</td>\n",
       "      <td>2017-01-23 15:41</td>\n",
       "    </tr>\n",
       "    <tr>\n",
       "      <th>43</th>\n",
       "      <td>17931169</td>\n",
       "      <td>142.103.243.201</td>\n",
       "      <td>2017-01-23 16:38</td>\n",
       "    </tr>\n",
       "  </tbody>\n",
       "</table>\n",
       "</div>"
      ],
      "text/plain": [
       "          id       IP Address        Created At\n",
       "83  17931169  142.103.243.215  2017-03-22 16:42\n",
       "86  17931169  142.103.243.215  2017-03-22 15:46\n",
       "42  17931169  142.103.243.201  2017-01-23 15:41\n",
       "43  17931169  142.103.243.201  2017-01-23 16:38"
      ]
     },
     "execution_count": 34,
     "metadata": {},
     "output_type": "execute_result"
    }
   ],
   "source": [
    "print \"For student 17931169, keep those from session 8, order CL, dump the ones from March 22nd LC whose log data we lost (possible collision?)\"\n",
    "posts[posts['id']==17931169][['id','IP Address','Created At']]"
   ]
  },
  {
   "cell_type": "code",
   "execution_count": 35,
   "metadata": {},
   "outputs": [
    {
     "name": "stdout",
     "output_type": "stream",
     "text": [
      "84135167\n",
      "[u'2017-01-17 16:39']\n",
      "[u'2017-01-17 15:42']\n"
     ]
    }
   ],
   "source": [
    "print 84135167\n",
    "print list(posts[posts['id']==84135167]['Created At'])\n",
    "83145167\n",
    "print list(posts[posts['id']==83145167]['Created At'])"
   ]
  },
  {
   "cell_type": "code",
   "execution_count": 36,
   "metadata": {},
   "outputs": [],
   "source": [
    "def ids_posts_to_logs(row):\n",
    "    sid = row['id']\n",
    "    if sid in [561164,192168,7868168]:\n",
    "        return sid+10000000\n",
    "    elif sid == 17595160:\n",
    "        return 17597160\n",
    "    elif sid == 31607164:\n",
    "        return 36107164\n",
    "    elif sid == 17931169:\n",
    "        if row['IP Address'] == '142.103.243.201':\n",
    "            return 17931169\n",
    "        else:\n",
    "            return 12345678 #cahnge the id so we don't use it\n",
    "    elif sid == 84135167:\n",
    "        return 83145167\n",
    "    else:\n",
    "        return sid\n",
    "\n",
    "posts['sid'] = posts.apply(lambda row: ids_posts_to_logs(row),axis=1)"
   ]
  },
  {
   "cell_type": "code",
   "execution_count": 37,
   "metadata": {},
   "outputs": [
    {
     "name": "stdout",
     "output_type": "stream",
     "text": [
      "148 ids in posts and analyzable list\n"
     ]
    }
   ],
   "source": [
    "new_ids_posts = list(posts['sid'])\n",
    "print len(ids&set(new_ids_posts)),\"ids in posts and analyzable list\""
   ]
  },
  {
   "cell_type": "code",
   "execution_count": 38,
   "metadata": {},
   "outputs": [
    {
     "name": "stdout",
     "output_type": "stream",
     "text": [
      "[]\n",
      "These students are in the logs and surveys, but had the wrong number of postsurveys (should be 2)\n",
      "If nothing prints we are golden!\n"
     ]
    }
   ],
   "source": [
    "import collections\n",
    "weird = [item for item, count in collections.Counter(new_ids_posts).items() if count != 2 and item in ids]\n",
    "print weird\n",
    "for student in weird:\n",
    "    if student in ids:\n",
    "        print student, collections.Counter(new_ids_posts)[student]\n",
    "        print list(posts[posts['sid']==student]['sim_index'])\n",
    "print \"These students are in the logs and surveys, but had the wrong number of postsurveys (should be 2)\"\n",
    "print \"If nothing prints we are golden!\""
   ]
  }
 ],
 "metadata": {
  "anaconda-cloud": {},
  "kernelspec": {
   "display_name": "Python 2",
   "language": "python",
   "name": "python2"
  },
  "language_info": {
   "codemirror_mode": {
    "name": "ipython",
    "version": 2
   },
   "file_extension": ".py",
   "mimetype": "text/x-python",
   "name": "python",
   "nbconvert_exporter": "python",
   "pygments_lexer": "ipython2",
   "version": "2.7.13"
  },
  "toc": {
   "nav_menu": {},
   "number_sections": true,
   "sideBar": false,
   "skip_h1_title": false,
   "toc_cell": false,
   "toc_position": {},
   "toc_section_display": "block",
   "toc_window_display": false
  }
 },
 "nbformat": 4,
 "nbformat_minor": 2
}
