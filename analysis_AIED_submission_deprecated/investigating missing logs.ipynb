{
 "cells": [
  {
   "cell_type": "code",
   "execution_count": 1,
   "metadata": {},
   "outputs": [],
   "source": [
    "%load_ext autoreload\n",
    "%autoreload 1\n",
    "%aimport utils_timeline_viz\n",
    "from utils_timeline_viz import *\n",
    "from utils_read_parsing import *\n",
    "%matplotlib inline\n",
    "matplotlib.style.use('ggplot')\n",
    "matplotlib.rcParams['figure.figsize'] = 7, 4\n",
    "from tabulate import tabulate\n",
    "pd.options.mode.chained_assignment = None"
   ]
  },
  {
   "cell_type": "markdown",
   "metadata": {},
   "source": [
    "## Loading and preparing survey data"
   ]
  },
  {
   "cell_type": "code",
   "execution_count": 2,
   "metadata": {},
   "outputs": [],
   "source": [
    "df = pd.read_csv(\"ips by date.txt\",sep='\\t')\n",
    "df.columns = ['date','time','ip','sid','logs']"
   ]
  },
  {
   "cell_type": "code",
   "execution_count": 3,
   "metadata": {},
   "outputs": [
    {
     "data": {
      "text/html": [
       "<div>\n",
       "<style>\n",
       "    .dataframe thead tr:only-child th {\n",
       "        text-align: right;\n",
       "    }\n",
       "\n",
       "    .dataframe thead th {\n",
       "        text-align: left;\n",
       "    }\n",
       "\n",
       "    .dataframe tbody tr th {\n",
       "        vertical-align: top;\n",
       "    }\n",
       "</style>\n",
       "<table border=\"1\" class=\"dataframe\">\n",
       "  <thead>\n",
       "    <tr style=\"text-align: right;\">\n",
       "      <th></th>\n",
       "      <th>date</th>\n",
       "      <th>time</th>\n",
       "      <th>ip</th>\n",
       "      <th>sid</th>\n",
       "      <th>logs</th>\n",
       "    </tr>\n",
       "  </thead>\n",
       "  <tbody>\n",
       "    <tr>\n",
       "      <th>0</th>\n",
       "      <td>2017-03-28 0:00</td>\n",
       "      <td>3:19:38</td>\n",
       "      <td>142.103.243.210</td>\n",
       "      <td>17967166</td>\n",
       "      <td>0.0</td>\n",
       "    </tr>\n",
       "    <tr>\n",
       "      <th>1</th>\n",
       "      <td>2017-03-28 0:00</td>\n",
       "      <td>3:18:51</td>\n",
       "      <td>142.103.243.201</td>\n",
       "      <td>13660166</td>\n",
       "      <td>1.0</td>\n",
       "    </tr>\n",
       "    <tr>\n",
       "      <th>2</th>\n",
       "      <td>2017-03-28 0:00</td>\n",
       "      <td>3:18:48</td>\n",
       "      <td>142.103.243.212</td>\n",
       "      <td>10027161</td>\n",
       "      <td>0.0</td>\n",
       "    </tr>\n",
       "    <tr>\n",
       "      <th>3</th>\n",
       "      <td>2017-03-28 0:00</td>\n",
       "      <td>3:18:47</td>\n",
       "      <td>142.103.243.197</td>\n",
       "      <td>17655165</td>\n",
       "      <td>1.0</td>\n",
       "    </tr>\n",
       "    <tr>\n",
       "      <th>4</th>\n",
       "      <td>2017-03-28 0:00</td>\n",
       "      <td>3:18:41</td>\n",
       "      <td>142.103.243.220</td>\n",
       "      <td>19913165</td>\n",
       "      <td>1.0</td>\n",
       "    </tr>\n",
       "  </tbody>\n",
       "</table>\n",
       "</div>"
      ],
      "text/plain": [
       "              date     time               ip       sid  logs\n",
       "0  2017-03-28 0:00  3:19:38  142.103.243.210  17967166   0.0\n",
       "1  2017-03-28 0:00  3:18:51  142.103.243.201  13660166   1.0\n",
       "2  2017-03-28 0:00  3:18:48  142.103.243.212  10027161   0.0\n",
       "3  2017-03-28 0:00  3:18:47  142.103.243.197  17655165   1.0\n",
       "4  2017-03-28 0:00  3:18:41  142.103.243.220  19913165   1.0"
      ]
     },
     "execution_count": 3,
     "metadata": {},
     "output_type": "execute_result"
    }
   ],
   "source": [
    "df.head()"
   ]
  },
  {
   "cell_type": "code",
   "execution_count": 4,
   "metadata": {},
   "outputs": [
    {
     "name": "stdout",
     "output_type": "stream",
     "text": [
      "there are about this many ips/computers\n"
     ]
    },
    {
     "data": {
      "text/plain": [
       "27"
      ]
     },
     "execution_count": 4,
     "metadata": {},
     "output_type": "execute_result"
    }
   ],
   "source": [
    "print \"there are about this many ips/computers\"\n",
    "len(list(set(df['ip'])))"
   ]
  },
  {
   "cell_type": "code",
   "execution_count": 5,
   "metadata": {},
   "outputs": [
    {
     "name": "stdout",
     "output_type": "stream",
     "text": [
      "14\n",
      "14\n"
     ]
    }
   ],
   "source": [
    "print sum(df['logs']==1)\n",
    "ids_with_logs = get_students_to_analyze_log()\n",
    "for sid in ids_with_logs:\n",
    "    if sid in list(df['sid']):\n",
    "        df[df['sid']==sid]['logs']=1\n",
    "print sum(df['logs']==1)\n",
    "\n",
    "for sid in list(df[df['logs']==1]['sid']):\n",
    "    if sid not in ids_with_logs:\n",
    "        print sid\n",
    "    "
   ]
  },
  {
   "cell_type": "code",
   "execution_count": 6,
   "metadata": {},
   "outputs": [
    {
     "name": "stdout",
     "output_type": "stream",
     "text": [
      "17 4\n",
      "Ips in lost and captured logs\n"
     ]
    }
   ],
   "source": [
    "missing = df[df['logs']==0]\n",
    "captured = df[df['logs']==1]\n",
    "ips_missing = list(missing['ip'])\n",
    "ips_captured = list(captured['ip'])\n",
    "in_both = set(ips_captured)&set(ips_missing)\n",
    "print len(set(ips_missing)),len(in_both) \n",
    "print \"Ips in lost and captured logs\""
   ]
  },
  {
   "cell_type": "code",
   "execution_count": 7,
   "metadata": {},
   "outputs": [
    {
     "name": "stdout",
     "output_type": "stream",
     "text": [
      "142.103.243.221\n",
      "m                date     time               ip       sid  logs\n",
      "25  2017-03-23 0:00  1:13:09  142.103.243.221  10820161   0.0\n",
      "45  2017-03-22 0:00  3:17:58  142.103.243.221  15749168   0.0\n",
      "c               date     time               ip       sid  logs\n",
      "5  2017-03-28 0:00  3:18:36  142.103.243.221  19053161   1.0\n",
      "\n",
      "\n",
      "142.103.243.197\n",
      "m                date     time               ip       sid  logs\n",
      "26  2017-03-23 0:00  1:13:08  142.103.243.197  12396169   0.0\n",
      "48  2017-03-22 0:00  3:17:09  142.103.243.197  16785153   0.0\n",
      "c               date     time               ip       sid  logs\n",
      "3  2017-03-28 0:00  3:18:47  142.103.243.197  17655165   1.0\n",
      "\n",
      "\n",
      "142.103.243.211\n",
      "m                date     time               ip       sid  logs\n",
      "20  2017-03-23 0:00  1:13:41  142.103.243.211  13052167   0.0\n",
      "c                date     time               ip       sid  logs\n",
      "59  2017-03-22 0:00  3:17:16  142.103.243.211  19618321   1.0\n",
      "\n",
      "\n",
      "142.103.243.201\n",
      "m                date     time               ip       sid  logs\n",
      "14  2017-03-23 0:00  1:14:03  142.103.243.201  14967159   0.0\n",
      "28  2017-03-22 0:00  3:17:14  142.103.243.201   2417165   0.0\n",
      "c               date     time               ip       sid  logs\n",
      "1  2017-03-28 0:00  3:18:51  142.103.243.201  13660166   1.0\n",
      "\n",
      "\n"
     ]
    }
   ],
   "source": [
    "for ip in in_both:\n",
    "    print ip\n",
    "    print 'm', missing[missing['ip']==ip]\n",
    "    print 'c', captured[captured['ip']==ip]\n",
    "    print '\\n'"
   ]
  },
  {
   "cell_type": "code",
   "execution_count": 8,
   "metadata": {},
   "outputs": [
    {
     "name": "stdout",
     "output_type": "stream",
     "text": [
      "142.103.243.215 ['2017-03-23 0:00', '2017-03-22 0:00'] \n",
      "\n",
      "142.103.243.210 ['2017-03-28 0:00', '2017-03-23 0:00', '2017-03-22 0:00'] \n",
      "\n",
      "142.103.243.202 ['2017-03-23 0:00', '2017-03-22 0:00'] \n",
      "\n",
      "142.103.243.212 ['2017-03-28 0:00', '2017-03-23 0:00', '2017-03-22 0:00'] \n",
      "\n",
      "142.103.243.213 ['2017-03-23 0:00', '2017-03-22 0:00'] \n",
      "\n",
      "142.103.243.200 ['2017-03-28 0:00', '2017-03-23 0:00', '2017-03-22 0:00'] \n",
      "\n",
      "142.103.243.219 ['2017-03-23 0:00', '2017-03-22 0:00'] \n",
      "\n",
      "142.103.243.208 ['2017-03-23 0:00', '2017-03-22 0:00'] \n",
      "\n",
      "142.103.243.196 ['2017-03-22 0:00'] \n",
      "\n",
      "142.103.243.195 ['2017-03-23 0:00', '2017-03-22 0:00'] \n",
      "\n",
      "142.103.243.194 ['2017-03-23 0:00'] \n",
      "\n",
      "142.103.243.192 ['2017-03-23 0:00', '2017-03-22 0:00'] \n",
      "\n",
      "142.103.243.198 ['2017-03-23 0:00', '2017-03-22 0:00'] \n",
      "\n"
     ]
    }
   ],
   "source": [
    "for ip in set(ips_missing)-set(ips_captured):\n",
    "    print ip, list(missing[missing['ip']==ip]['date']),'\\n'"
   ]
  }
 ],
 "metadata": {
  "anaconda-cloud": {},
  "kernelspec": {
   "display_name": "Python 2",
   "language": "python",
   "name": "python2"
  },
  "language_info": {
   "codemirror_mode": {
    "name": "ipython",
    "version": 2
   },
   "file_extension": ".py",
   "mimetype": "text/x-python",
   "name": "python",
   "nbconvert_exporter": "python",
   "pygments_lexer": "ipython2",
   "version": "2.7.13"
  },
  "toc": {
   "nav_menu": {},
   "number_sections": true,
   "sideBar": false,
   "skip_h1_title": false,
   "toc_cell": false,
   "toc_position": {},
   "toc_section_display": "block",
   "toc_window_display": false
  }
 },
 "nbformat": 4,
 "nbformat_minor": 2
}
