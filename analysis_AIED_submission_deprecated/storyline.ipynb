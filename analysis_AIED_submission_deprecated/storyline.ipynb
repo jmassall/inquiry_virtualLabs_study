{
 "cells": [
  {
   "cell_type": "code",
   "execution_count": null,
   "metadata": {
    "hideCode": false,
    "hidePrompt": true
   },
   "outputs": [],
   "source": [
    "This notebook organizes all the results in the \"analysis\" folder within a concrete storyline"
   ]
  },
  {
   "cell_type": "code",
   "execution_count": 1,
   "metadata": {
    "hideCode": false,
    "hidePrompt": true,
    "scrolled": true
   },
   "outputs": [
    {
     "data": {
      "text/html": [
       "<script>jQuery(function() {if (jQuery(\"body.notebook_app\").length == 0) { jQuery(\".input_area\").toggle(); jQuery(\".prompt\").toggle();}});</script>"
      ]
     },
     "metadata": {},
     "output_type": "display_data"
    }
   ],
   "source": [
    "from IPython.display import display\n",
    "from IPython.display import HTML\n",
    "import IPython.core.display as di\n",
    "\n",
    "# This line will hide code by default when the notebook is converted to HTML\n",
    "di.display_html('<script>jQuery(function() {if (jQuery(\"body.notebook_app\").length == 0) { jQuery(\".input_area\").toggle(); jQuery(\".prompt\").toggle();}});</script>', raw=True)"
   ]
  },
  {
   "cell_type": "code",
   "execution_count": 2,
   "metadata": {
    "hideCode": false,
    "hidePrompt": true
   },
   "outputs": [],
   "source": [
    "%load_ext autoreload\n",
    "%autoreload 1\n",
    "%aimport utils_read_parsing\n",
    "from utils_timeline_viz import *\n",
    "from utils_read_parsing import *\n",
    "import matplotlib.pyplot as plt\n",
    "from tabulate import tabulate\n",
    "from scipy.stats import ranksums\n",
    "import seaborn as sns\n",
    "import statsmodels.api as sm\n",
    "pd.set_option(\"display.width\", 100)\n",
    "import matplotlib.pyplot as plt\n",
    "from statsmodels.formula.api import ols\n",
    "from statsmodels.graphics.api import interaction_plot, abline_plot\n",
    "from statsmodels.stats.anova import anova_lm\n",
    "from statsmodels.discrete.discrete_model import Logit\n",
    "%matplotlib inline\n",
    "matplotlib.style.use('ggplot')\n",
    "matplotlib.rcParams['figure.figsize'] = 7, 4\n",
    "pd.set_option('precision',3)\n",
    "np.set_printoptions(precision=3,suppress=True)"
   ]
  },
  {
   "cell_type": "markdown",
   "metadata": {
    "hideCode": false,
    "hidePrompt": true
   },
   "source": [
    "# Preparing the data\n",
    "We wish to have a table that looks like:"
   ]
  },
  {
   "cell_type": "code",
   "execution_count": 3,
   "metadata": {
    "hideCode": false,
    "hidePrompt": true
   },
   "outputs": [
    {
     "name": "stdout",
     "output_type": "stream",
     "text": [
      "-------  --------  ---  -----  -----  ---  ---------  ---------\n",
      "student  variable  pre  post   index  sim  CVS table  CVS graph\n",
      "s1       v1        1.0  2.333  1      L    Yes        No\n",
      "s1       v2        ...  ...    1      L    Yes        Yes\n",
      "s1       v3        ...  ...    2      C    No         No\n",
      "s1       v4        ...  ...    2      C    Yes        No\n",
      "-------  --------  ---  -----  -----  ---  ---------  ---------\n"
     ]
    }
   ],
   "source": [
    "t = [['student','variable','pre','post','index','sim','CVS table','CVS graph']]\n",
    "t.append(['s1','v1','1.0','2.333','1','L','Yes','No'])\n",
    "t.append(['s1','v2','...','...','1','L','Yes','Yes'])\n",
    "t.append(['s1','v3','...','...','2','C','No','No'])\n",
    "t.append(['s1','v4','...','...','2','C','Yes','No'])\n",
    "print tabulate(t)"
   ]
  },
  {
   "cell_type": "markdown",
   "metadata": {
    "hideCode": false,
    "hidePrompt": true
   },
   "source": [
    "## Grabing the CVS data..."
   ]
  },
  {
   "cell_type": "code",
   "execution_count": 4,
   "metadata": {
    "collapsed": true,
    "hideCode": false,
    "hidePrompt": true
   },
   "outputs": [],
   "source": [
    "table_cvs_df = pd.read_csv('table_cvs_results.txt', sep='\\t')\n",
    "graph_cvs_df = pd.read_csv('graph_cvs_results.txt', sep='\\t')"
   ]
  },
  {
   "cell_type": "code",
   "execution_count": 5,
   "metadata": {
    "collapsed": true,
    "hideCode": false,
    "hidePrompt": true
   },
   "outputs": [],
   "source": [
    "metadf = get_student_metadata()\n",
    "order = dict(zip(metadf.index,metadf['activity order']))\n",
    "graph_cvs_df['activity order'] = graph_cvs_df.studentid.apply(lambda sid: order[sid])\n",
    "table_cvs_df['activity order'] = table_cvs_df.studentid.apply(lambda sid: order[sid])"
   ]
  },
  {
   "cell_type": "code",
   "execution_count": 6,
   "metadata": {
    "collapsed": true,
    "hideCode": false,
    "hidePrompt": true
   },
   "outputs": [],
   "source": [
    "variables = [\"Area\",\"Separation\",\"Width\",\"Concentration\",\"Wavelength\",\"Battery voltage\"]\n",
    "\n",
    "def binarize(threshold,number):\n",
    "    if number>= threshold : return 1\n",
    "    else: return 0\n",
    "    \n",
    "# Given that we want to compare the stringency of CVS, we created different definitions with 2,3,4 points needed\n",
    "\n",
    "graph_cvs_2_df = graph_cvs_df.copy()\n",
    "graph_cvs_3_df = graph_cvs_df.copy()\n",
    "graph_cvs_4_df = graph_cvs_df.copy()\n",
    "graph_cvs_5_df = graph_cvs_df.copy()\n",
    "for v in variables:\n",
    "    graph_cvs_2_df[v] = graph_cvs_df.apply(lambda row: binarize(2,row[v]), axis=1)\n",
    "    graph_cvs_3_df[v] = graph_cvs_df.apply(lambda row: binarize(3,row[v]), axis=1)\n",
    "    graph_cvs_4_df[v] = graph_cvs_df.apply(lambda row: binarize(4,row[v]), axis=1)\n",
    "    graph_cvs_5_df[v] = graph_cvs_df.apply(lambda row: binarize(5,row[v]), axis=1)\n",
    "\n",
    "table_cvs_2_df = table_cvs_df.copy()\n",
    "table_cvs_3_df = table_cvs_df.copy()\n",
    "table_cvs_4_df = table_cvs_df.copy()\n",
    "table_cvs_5_df = table_cvs_df.copy()\n",
    "for v in variables:\n",
    "    table_cvs_2_df[v] = table_cvs_df.apply(lambda row: binarize(2,row[v]), axis=1)\n",
    "    table_cvs_3_df[v] = table_cvs_df.apply(lambda row: binarize(3,row[v]), axis=1)\n",
    "    table_cvs_4_df[v] = table_cvs_df.apply(lambda row: binarize(4,row[v]), axis=1)\n",
    "    table_cvs_5_df[v] = table_cvs_df.apply(lambda row: binarize(5,row[v]), axis=1)"
   ]
  },
  {
   "cell_type": "code",
   "execution_count": 7,
   "metadata": {
    "collapsed": true,
    "hideCode": true,
    "hidePrompt": true
   },
   "outputs": [],
   "source": [
    "# table_intervals_df = pd.read_csv('table_intervals_results.txt', sep='\\t')"
   ]
  },
  {
   "cell_type": "markdown",
   "metadata": {
    "hideCode": true,
    "hidePrompt": true
   },
   "source": [
    "## Grabbing the worksheet data"
   ]
  },
  {
   "cell_type": "code",
   "execution_count": 8,
   "metadata": {
    "collapsed": true,
    "hideCode": true,
    "hidePrompt": true
   },
   "outputs": [],
   "source": [
    "%reload_ext utils_read_parsing\n",
    "#grab worksheet data\n",
    "worksheets = get_worksheet_metadata('beers')\n",
    "pre = get_pre_worksheet(sim='beers')\n",
    "main = get_main_worksheet(sim='beers')\n",
    "\n",
    "ids = get_students_to_analyze_log_worksheets('beers')\n",
    "pre= pre[pre['Student ID'].isin(worksheets[(worksheets['Type']=='p')&worksheets['Student ID'].isin(ids)]['other id'].values)]\n",
    "main= main[main['Student ID'].isin(worksheets[(worksheets['Type']=='m')&worksheets['Student ID'].isin(ids)]['other id'].values)]\n",
    "\n",
    "#ids in pre/post match \"other id\" in worksheet metdata so we need to assign the correct id in logs for each entry in pre/post\n",
    "pre['sid'] = pre['Student ID'].apply(lambda row: worksheets.loc[worksheets[(worksheets['other id']==row)].index[0],'Student ID'])\n",
    "main['sid'] = main['Student ID'].apply(lambda row: worksheets.loc[worksheets[worksheets['other id']==row].index[0],'Student ID'])\n",
    "\n",
    "# print len(ids),len(pre),len(main)"
   ]
  },
  {
   "cell_type": "code",
   "execution_count": 9,
   "metadata": {
    "collapsed": true,
    "hideCode": true,
    "hidePrompt": true
   },
   "outputs": [],
   "source": [
    "## make desired table for beers\n",
    "melted_pre = pd.melt(pre, id_vars=['sid'], value_vars=['Concentration','Width'], var_name='variable',value_name='pre')\n",
    "melted_main = pd.melt(main, id_vars=['sid'], value_vars=['Concentration','Width'], var_name='variable',value_name='main')\n",
    "\n",
    "L_scores = melted_pre.merge(melted_main, on=['sid','variable'], how='outer')\n",
    "L_scores['sim'] = 'L'\n",
    "\n",
    "L_scores['CVS_table_2'] = L_scores.apply(lambda row: table_cvs_2_df.loc[table_cvs_2_df[table_cvs_2_df['studentid']==row['sid']].index[0],row['variable']],axis=1)\n",
    "L_scores['CVS_graph_2'] = L_scores.apply(lambda row: graph_cvs_2_df.loc[graph_cvs_2_df[graph_cvs_2_df['studentid']==row['sid']].index[0],row['variable']],axis=1)\n",
    "\n",
    "L_scores['CVS_table_3'] = L_scores.apply(lambda row: table_cvs_3_df.loc[table_cvs_3_df[table_cvs_3_df['studentid']==row['sid']].index[0],row['variable']],axis=1)\n",
    "L_scores['CVS_graph_3'] = L_scores.apply(lambda row: graph_cvs_3_df.loc[graph_cvs_3_df[graph_cvs_3_df['studentid']==row['sid']].index[0],row['variable']],axis=1)\n",
    "\n",
    "L_scores['CVS_table_4'] = L_scores.apply(lambda row: table_cvs_4_df.loc[table_cvs_4_df[table_cvs_4_df['studentid']==row['sid']].index[0],row['variable']],axis=1)\n",
    "L_scores['CVS_graph_4'] = L_scores.apply(lambda row: graph_cvs_4_df.loc[graph_cvs_4_df[graph_cvs_4_df['studentid']==row['sid']].index[0],row['variable']],axis=1)\n",
    "\n",
    "L_scores['CVS_table_5'] = L_scores.apply(lambda row: table_cvs_5_df.loc[table_cvs_5_df[table_cvs_5_df['studentid']==row['sid']].index[0],row['variable']],axis=1)\n",
    "L_scores['CVS_graph_5'] = L_scores.apply(lambda row: graph_cvs_5_df.loc[graph_cvs_5_df[graph_cvs_5_df['studentid']==row['sid']].index[0],row['variable']],axis=1)\n",
    "\n",
    "\n",
    "L_scores['number_points_table'] = L_scores.apply(lambda row: table_cvs_df.loc[table_cvs_df[table_cvs_df['studentid']==row['sid']].index[0],row['variable']],axis=1)\n",
    "L_scores['number_points_graph'] = L_scores.apply(lambda row: graph_cvs_df.loc[graph_cvs_df[graph_cvs_df['studentid']==row['sid']].index[0],row['variable']],axis=1)\n",
    "\n",
    "L_scores['sim_index'] = L_scores.apply(lambda row: table_cvs_2_df.loc[table_cvs_2_df[table_cvs_2_df['studentid']==row['sid']].index[0],'activity order'].index(row['sim'])+1,axis=1)"
   ]
  },
  {
   "cell_type": "code",
   "execution_count": 10,
   "metadata": {
    "collapsed": true,
    "hideCode": true,
    "hidePrompt": true
   },
   "outputs": [],
   "source": [
    "# L_scores[L_scores['variable']=='Width'].describe()"
   ]
  },
  {
   "cell_type": "code",
   "execution_count": 11,
   "metadata": {
    "collapsed": true,
    "hideCode": true,
    "hidePrompt": true
   },
   "outputs": [],
   "source": [
    "%reload_ext utils_read_parsing\n",
    "#grab worksheet data\n",
    "worksheets = get_worksheet_metadata('caps')\n",
    "pre = get_pre_worksheet(sim='caps')\n",
    "main = get_main_worksheet(sim='caps')\n",
    "\n",
    "ids = get_students_to_analyze_log_worksheets('caps')\n",
    "pre= pre[pre['Student ID'].isin(worksheets[(worksheets['Type']=='p')&worksheets['Student ID'].isin(ids)]['other id'].values)]\n",
    "main= main[main['Student ID'].isin(worksheets[(worksheets['Type']=='m')&worksheets['Student ID'].isin(ids)]['other id'].values)]\n",
    "\n",
    "#ids in pre/post match \"other id\" in worksheet metdata so we need to assign the correct id in logs for each entry in pre/post\n",
    "pre['sid'] = pre['Student ID'].apply(lambda row: worksheets.loc[worksheets[(worksheets['other id']==row)].index[0],'Student ID'])\n",
    "main['sid'] = main['Student ID'].apply(lambda row: worksheets.loc[worksheets[worksheets['other id']==row].index[0],'Student ID'])\n",
    "\n",
    "# print len(ids),len(pre),len(main)"
   ]
  },
  {
   "cell_type": "code",
   "execution_count": 12,
   "metadata": {
    "collapsed": true,
    "hideCode": true,
    "hidePrompt": true
   },
   "outputs": [],
   "source": [
    "## make desired table for caps\n",
    "melted_pre = pd.melt(pre, id_vars=['sid'], value_vars=['Area','Separation'], var_name='variable',value_name='pre')\n",
    "melted_main = pd.melt(main, id_vars=['sid'], value_vars=['Area','Separation'], var_name='variable',value_name='main')\n",
    "\n",
    "C_scores = melted_pre.merge(melted_main, on=['sid','variable'], how='outer')\n",
    "C_scores['sim'] = 'C'\n",
    "C_scores['CVS_table_2'] = C_scores.apply(lambda row: table_cvs_2_df.loc[table_cvs_2_df[table_cvs_2_df['studentid']==row['sid']].index[0],row['variable']],axis=1)\n",
    "C_scores['CVS_graph_2'] = C_scores.apply(lambda row: graph_cvs_2_df.loc[graph_cvs_2_df[graph_cvs_2_df['studentid']==row['sid']].index[0],row['variable']],axis=1)\n",
    "\n",
    "C_scores['CVS_table_3'] = C_scores.apply(lambda row: table_cvs_3_df.loc[table_cvs_3_df[table_cvs_3_df['studentid']==row['sid']].index[0],row['variable']],axis=1)\n",
    "C_scores['CVS_graph_3'] = C_scores.apply(lambda row: graph_cvs_3_df.loc[graph_cvs_3_df[graph_cvs_3_df['studentid']==row['sid']].index[0],row['variable']],axis=1)\n",
    "\n",
    "C_scores['CVS_table_4'] = C_scores.apply(lambda row: table_cvs_4_df.loc[table_cvs_4_df[table_cvs_4_df['studentid']==row['sid']].index[0],row['variable']],axis=1)\n",
    "C_scores['CVS_graph_4'] = C_scores.apply(lambda row: graph_cvs_4_df.loc[graph_cvs_4_df[graph_cvs_4_df['studentid']==row['sid']].index[0],row['variable']],axis=1)\n",
    "\n",
    "C_scores['CVS_table_5'] = C_scores.apply(lambda row: table_cvs_5_df.loc[table_cvs_5_df[table_cvs_5_df['studentid']==row['sid']].index[0],row['variable']],axis=1)\n",
    "C_scores['CVS_graph_5'] = C_scores.apply(lambda row: graph_cvs_5_df.loc[graph_cvs_5_df[graph_cvs_5_df['studentid']==row['sid']].index[0],row['variable']],axis=1)\n",
    "\n",
    "C_scores['number_points_table'] = C_scores.apply(lambda row: table_cvs_df.loc[table_cvs_df[table_cvs_df['studentid']==row['sid']].index[0],row['variable']],axis=1)\n",
    "C_scores['number_points_graph'] = C_scores.apply(lambda row: graph_cvs_df.loc[graph_cvs_df[graph_cvs_df['studentid']==row['sid']].index[0],row['variable']],axis=1)\n",
    "\n",
    "C_scores['sim_index'] = C_scores.apply(lambda row: table_cvs_2_df.loc[table_cvs_2_df[table_cvs_2_df['studentid']==row['sid']].index[0],'activity order'].index(row['sim'])+1,axis=1)"
   ]
  },
  {
   "cell_type": "markdown",
   "metadata": {},
   "source": [
    "## Putting it all together"
   ]
  },
  {
   "cell_type": "code",
   "execution_count": 13,
   "metadata": {
    "collapsed": true,
    "hideCode": true,
    "hidePrompt": true
   },
   "outputs": [],
   "source": [
    "data = pd.concat([L_scores,C_scores])\n",
    "# data['intervals_in_table'] = data.apply(lambda row: table_intervals_df.loc[table_intervals_df[table_intervals_df['studentid']==row['sid']].index[0],row['variable']],axis=1)\n",
    "# data['CVS_table_only'] = data.apply(lambda row: row['CVS_table']*(1-row['CVS_graph']), axis = 1)\n",
    "data = data.reset_index(drop=True)"
   ]
  },
  {
   "cell_type": "markdown",
   "metadata": {},
   "source": [
    "## Adding wrapper use data"
   ]
  },
  {
   "cell_type": "code",
   "execution_count": 14,
   "metadata": {},
   "outputs": [
    {
     "data": {
      "text/html": [
       "<div>\n",
       "<table border=\"1\" class=\"dataframe\">\n",
       "  <thead>\n",
       "    <tr style=\"text-align: right;\">\n",
       "      <th></th>\n",
       "      <th>use_table</th>\n",
       "      <th>use_graph</th>\n",
       "    </tr>\n",
       "  </thead>\n",
       "  <tbody>\n",
       "    <tr>\n",
       "      <th>count</th>\n",
       "      <td>592.0</td>\n",
       "      <td>592.000</td>\n",
       "    </tr>\n",
       "    <tr>\n",
       "      <th>mean</th>\n",
       "      <td>1.0</td>\n",
       "      <td>0.845</td>\n",
       "    </tr>\n",
       "    <tr>\n",
       "      <th>std</th>\n",
       "      <td>0.0</td>\n",
       "      <td>0.363</td>\n",
       "    </tr>\n",
       "    <tr>\n",
       "      <th>min</th>\n",
       "      <td>1.0</td>\n",
       "      <td>0.000</td>\n",
       "    </tr>\n",
       "    <tr>\n",
       "      <th>25%</th>\n",
       "      <td>1.0</td>\n",
       "      <td>1.000</td>\n",
       "    </tr>\n",
       "    <tr>\n",
       "      <th>50%</th>\n",
       "      <td>1.0</td>\n",
       "      <td>1.000</td>\n",
       "    </tr>\n",
       "    <tr>\n",
       "      <th>75%</th>\n",
       "      <td>1.0</td>\n",
       "      <td>1.000</td>\n",
       "    </tr>\n",
       "    <tr>\n",
       "      <th>max</th>\n",
       "      <td>1.0</td>\n",
       "      <td>1.000</td>\n",
       "    </tr>\n",
       "  </tbody>\n",
       "</table>\n",
       "</div>"
      ],
      "text/plain": [
       "       use_table  use_graph\n",
       "count      592.0    592.000\n",
       "mean         1.0      0.845\n",
       "std          0.0      0.363\n",
       "min          1.0      0.000\n",
       "25%          1.0      1.000\n",
       "50%          1.0      1.000\n",
       "75%          1.0      1.000\n",
       "max          1.0      1.000"
      ]
     },
     "execution_count": 14,
     "metadata": {},
     "output_type": "execute_result"
    }
   ],
   "source": [
    "use_wrapper_df = pd.read_csv('use_wrapper_results.txt', sep='\\t')\n",
    "data['use_table'] = data.apply(lambda row: use_wrapper_df.loc[use_wrapper_df[use_wrapper_df['studentid']==row['sid']].index[0],'use_table'], axis=1)\n",
    "data['use_graph'] = data.apply(lambda row: use_wrapper_df.loc[use_wrapper_df[use_wrapper_df['studentid']==row['sid']].index[0],'use_graph'], axis=1)\n",
    "data[['use_table','use_graph']].describe()"
   ]
  },
  {
   "cell_type": "markdown",
   "metadata": {},
   "source": [
    "Everyone uses the table once and 85% use the graph once. Lets redo the analysis only with students who used the graph"
   ]
  },
  {
   "cell_type": "markdown",
   "metadata": {},
   "source": [
    "## Adding pre-survey data"
   ]
  },
  {
   "cell_type": "code",
   "execution_count": 15,
   "metadata": {},
   "outputs": [
    {
     "data": {
      "text/html": [
       "<div>\n",
       "<table border=\"1\" class=\"dataframe\">\n",
       "  <thead>\n",
       "    <tr style=\"text-align: right;\">\n",
       "      <th></th>\n",
       "      <th>Unnamed: 0</th>\n",
       "      <th>sid</th>\n",
       "      <th>level_experience_sims</th>\n",
       "      <th>similar_L</th>\n",
       "      <th>similar_C</th>\n",
       "      <th>experience_undergrad_labs</th>\n",
       "    </tr>\n",
       "  </thead>\n",
       "  <tbody>\n",
       "    <tr>\n",
       "      <th>0</th>\n",
       "      <td>5</td>\n",
       "      <td>77047160</td>\n",
       "      <td>2</td>\n",
       "      <td>0</td>\n",
       "      <td>0</td>\n",
       "      <td>1</td>\n",
       "    </tr>\n",
       "    <tr>\n",
       "      <th>1</th>\n",
       "      <td>6</td>\n",
       "      <td>23836160</td>\n",
       "      <td>0</td>\n",
       "      <td>0</td>\n",
       "      <td>0</td>\n",
       "      <td>1</td>\n",
       "    </tr>\n",
       "    <tr>\n",
       "      <th>2</th>\n",
       "      <td>7</td>\n",
       "      <td>64006159</td>\n",
       "      <td>1</td>\n",
       "      <td>0</td>\n",
       "      <td>0</td>\n",
       "      <td>1</td>\n",
       "    </tr>\n",
       "    <tr>\n",
       "      <th>3</th>\n",
       "      <td>8</td>\n",
       "      <td>24566161</td>\n",
       "      <td>3</td>\n",
       "      <td>0</td>\n",
       "      <td>1</td>\n",
       "      <td>1</td>\n",
       "    </tr>\n",
       "    <tr>\n",
       "      <th>4</th>\n",
       "      <td>9</td>\n",
       "      <td>46792161</td>\n",
       "      <td>2</td>\n",
       "      <td>1</td>\n",
       "      <td>0</td>\n",
       "      <td>1</td>\n",
       "    </tr>\n",
       "  </tbody>\n",
       "</table>\n",
       "</div>"
      ],
      "text/plain": [
       "   Unnamed: 0       sid  level_experience_sims  similar_L  similar_C  experience_undergrad_labs\n",
       "0           5  77047160                      2          0          0                          1\n",
       "1           6  23836160                      0          0          0                          1\n",
       "2           7  64006159                      1          0          0                          1\n",
       "3           8  24566161                      3          0          1                          1\n",
       "4           9  46792161                      2          1          0                          1"
      ]
     },
     "execution_count": 15,
     "metadata": {},
     "output_type": "execute_result"
    }
   ],
   "source": [
    "pre_survey_df = pd.read_csv('pre_survey_results.txt', sep='\\t')\n",
    "pre_survey_df.head()"
   ]
  },
  {
   "cell_type": "code",
   "execution_count": 16,
   "metadata": {
    "collapsed": true
   },
   "outputs": [],
   "source": [
    "data['level_experience_sims'] = data.apply(lambda row: pre_survey_df.loc[pre_survey_df[pre_survey_df['sid']==row['sid']].index[0],'level_experience_sims'], axis=1)\n",
    "data['experience_undergrad_labs'] = data.apply(lambda row: pre_survey_df.loc[pre_survey_df[pre_survey_df['sid']==row['sid']].index[0],'experience_undergrad_labs'], axis=1)\n",
    "data['used_similar_sim_L'] = data[data['sim']=='L'].apply(lambda row: pre_survey_df.loc[pre_survey_df[pre_survey_df['sid']==row['sid']].index[0],'similar_L'],axis=1)\n",
    "data['used_similar_sim_L'].fillna(0, inplace=True)\n",
    "data['used_similar_sim_C'] = data[data['sim']=='C'].apply(lambda row: pre_survey_df.loc[pre_survey_df[pre_survey_df['sid']==row['sid']].index[0],'similar_C'],axis=1)\n",
    "data['used_similar_sim_C'].fillna(0, inplace=True)\n",
    "data['used_similar_sim'] = data['used_similar_sim_L'] + data['used_similar_sim_C']"
   ]
  },
  {
   "cell_type": "markdown",
   "metadata": {},
   "source": [
    "We add a \"CVS_levels\" column to our data (graph=2, table=1, none=0)"
   ]
  },
  {
   "cell_type": "code",
   "execution_count": 17,
   "metadata": {},
   "outputs": [
    {
     "name": "stdout",
     "output_type": "stream",
     "text": [
      "(0, 27)\n",
      "(0, 27)\n",
      "(1, 27)\n",
      "(0, 27)\n"
     ]
    }
   ],
   "source": [
    "data['CVS_levels_2']=0\n",
    "data['CVS_levels_3']=0\n",
    "data['CVS_levels_4']=0\n",
    "data['CVS_levels_5']=0\n",
    "# data['CVS_table_only'] = data.apply(lambda row: row['CVS_table']*(1-row['CVS_graph']), axis = 1)\n",
    "data['CVS_levels_2']=data['CVS_table_2']+data['CVS_graph_2']\n",
    "data['CVS_levels_3']=data['CVS_table_3']+data['CVS_graph_3']\n",
    "data['CVS_levels_4']=data['CVS_table_4']+data['CVS_graph_4']\n",
    "data['CVS_levels_5']=data['CVS_table_5']+data['CVS_graph_5']\n",
    "print data[(data['CVS_table_2']==0)&(data['CVS_graph_2']==1)].shape\n",
    "print data[(data['CVS_table_3']==0)&(data['CVS_graph_3']==1)].shape\n",
    "print data[(data['CVS_table_4']==0)&(data['CVS_graph_4']==1)].shape\n",
    "print data[(data['CVS_table_5']==0)&(data['CVS_graph_5']==1)].shape"
   ]
  },
  {
   "cell_type": "code",
   "execution_count": 18,
   "metadata": {},
   "outputs": [
    {
     "data": {
      "text/html": [
       "<div>\n",
       "<table border=\"1\" class=\"dataframe\">\n",
       "  <thead>\n",
       "    <tr style=\"text-align: right;\">\n",
       "      <th></th>\n",
       "      <th>sid</th>\n",
       "      <th>variable</th>\n",
       "      <th>pre</th>\n",
       "      <th>main</th>\n",
       "      <th>sim</th>\n",
       "      <th>CVS_table_2</th>\n",
       "      <th>CVS_graph_2</th>\n",
       "      <th>CVS_table_3</th>\n",
       "      <th>CVS_graph_3</th>\n",
       "      <th>CVS_table_4</th>\n",
       "      <th>...</th>\n",
       "      <th>use_graph</th>\n",
       "      <th>level_experience_sims</th>\n",
       "      <th>experience_undergrad_labs</th>\n",
       "      <th>used_similar_sim_L</th>\n",
       "      <th>used_similar_sim_C</th>\n",
       "      <th>used_similar_sim</th>\n",
       "      <th>CVS_levels_2</th>\n",
       "      <th>CVS_levels_3</th>\n",
       "      <th>CVS_levels_4</th>\n",
       "      <th>CVS_levels_5</th>\n",
       "    </tr>\n",
       "  </thead>\n",
       "  <tbody>\n",
       "    <tr>\n",
       "      <th>0</th>\n",
       "      <td>10127163</td>\n",
       "      <td>Concentration</td>\n",
       "      <td>1.0</td>\n",
       "      <td>3.0</td>\n",
       "      <td>L</td>\n",
       "      <td>1</td>\n",
       "      <td>1</td>\n",
       "      <td>1</td>\n",
       "      <td>1</td>\n",
       "      <td>1</td>\n",
       "      <td>...</td>\n",
       "      <td>1</td>\n",
       "      <td>1</td>\n",
       "      <td>1</td>\n",
       "      <td>0.0</td>\n",
       "      <td>0.0</td>\n",
       "      <td>0.0</td>\n",
       "      <td>2</td>\n",
       "      <td>2</td>\n",
       "      <td>2</td>\n",
       "      <td>2</td>\n",
       "    </tr>\n",
       "    <tr>\n",
       "      <th>148</th>\n",
       "      <td>10127163</td>\n",
       "      <td>Width</td>\n",
       "      <td>1.0</td>\n",
       "      <td>3.0</td>\n",
       "      <td>L</td>\n",
       "      <td>1</td>\n",
       "      <td>1</td>\n",
       "      <td>1</td>\n",
       "      <td>1</td>\n",
       "      <td>1</td>\n",
       "      <td>...</td>\n",
       "      <td>1</td>\n",
       "      <td>1</td>\n",
       "      <td>1</td>\n",
       "      <td>0.0</td>\n",
       "      <td>0.0</td>\n",
       "      <td>0.0</td>\n",
       "      <td>2</td>\n",
       "      <td>2</td>\n",
       "      <td>2</td>\n",
       "      <td>2</td>\n",
       "    </tr>\n",
       "    <tr>\n",
       "      <th>296</th>\n",
       "      <td>10127163</td>\n",
       "      <td>Area</td>\n",
       "      <td>3.0</td>\n",
       "      <td>3.0</td>\n",
       "      <td>C</td>\n",
       "      <td>1</td>\n",
       "      <td>1</td>\n",
       "      <td>1</td>\n",
       "      <td>1</td>\n",
       "      <td>1</td>\n",
       "      <td>...</td>\n",
       "      <td>1</td>\n",
       "      <td>1</td>\n",
       "      <td>1</td>\n",
       "      <td>0.0</td>\n",
       "      <td>0.0</td>\n",
       "      <td>0.0</td>\n",
       "      <td>2</td>\n",
       "      <td>2</td>\n",
       "      <td>2</td>\n",
       "      <td>2</td>\n",
       "    </tr>\n",
       "    <tr>\n",
       "      <th>444</th>\n",
       "      <td>10127163</td>\n",
       "      <td>Separation</td>\n",
       "      <td>3.0</td>\n",
       "      <td>3.0</td>\n",
       "      <td>C</td>\n",
       "      <td>1</td>\n",
       "      <td>1</td>\n",
       "      <td>1</td>\n",
       "      <td>1</td>\n",
       "      <td>1</td>\n",
       "      <td>...</td>\n",
       "      <td>1</td>\n",
       "      <td>1</td>\n",
       "      <td>1</td>\n",
       "      <td>0.0</td>\n",
       "      <td>0.0</td>\n",
       "      <td>0.0</td>\n",
       "      <td>2</td>\n",
       "      <td>2</td>\n",
       "      <td>2</td>\n",
       "      <td>2</td>\n",
       "    </tr>\n",
       "    <tr>\n",
       "      <th>538</th>\n",
       "      <td>10192168</td>\n",
       "      <td>Separation</td>\n",
       "      <td>1.0</td>\n",
       "      <td>2.0</td>\n",
       "      <td>C</td>\n",
       "      <td>1</td>\n",
       "      <td>1</td>\n",
       "      <td>1</td>\n",
       "      <td>1</td>\n",
       "      <td>1</td>\n",
       "      <td>...</td>\n",
       "      <td>1</td>\n",
       "      <td>1</td>\n",
       "      <td>1</td>\n",
       "      <td>0.0</td>\n",
       "      <td>0.0</td>\n",
       "      <td>0.0</td>\n",
       "      <td>2</td>\n",
       "      <td>2</td>\n",
       "      <td>2</td>\n",
       "      <td>0</td>\n",
       "    </tr>\n",
       "    <tr>\n",
       "      <th>96</th>\n",
       "      <td>10192168</td>\n",
       "      <td>Concentration</td>\n",
       "      <td>1.0</td>\n",
       "      <td>3.0</td>\n",
       "      <td>L</td>\n",
       "      <td>1</td>\n",
       "      <td>1</td>\n",
       "      <td>1</td>\n",
       "      <td>1</td>\n",
       "      <td>1</td>\n",
       "      <td>...</td>\n",
       "      <td>1</td>\n",
       "      <td>1</td>\n",
       "      <td>1</td>\n",
       "      <td>0.0</td>\n",
       "      <td>0.0</td>\n",
       "      <td>0.0</td>\n",
       "      <td>2</td>\n",
       "      <td>2</td>\n",
       "      <td>2</td>\n",
       "      <td>2</td>\n",
       "    </tr>\n",
       "    <tr>\n",
       "      <th>390</th>\n",
       "      <td>10192168</td>\n",
       "      <td>Area</td>\n",
       "      <td>1.0</td>\n",
       "      <td>2.0</td>\n",
       "      <td>C</td>\n",
       "      <td>1</td>\n",
       "      <td>0</td>\n",
       "      <td>0</td>\n",
       "      <td>0</td>\n",
       "      <td>0</td>\n",
       "      <td>...</td>\n",
       "      <td>1</td>\n",
       "      <td>1</td>\n",
       "      <td>1</td>\n",
       "      <td>0.0</td>\n",
       "      <td>0.0</td>\n",
       "      <td>0.0</td>\n",
       "      <td>1</td>\n",
       "      <td>0</td>\n",
       "      <td>0</td>\n",
       "      <td>0</td>\n",
       "    </tr>\n",
       "    <tr>\n",
       "      <th>244</th>\n",
       "      <td>10192168</td>\n",
       "      <td>Width</td>\n",
       "      <td>1.0</td>\n",
       "      <td>0.0</td>\n",
       "      <td>L</td>\n",
       "      <td>1</td>\n",
       "      <td>0</td>\n",
       "      <td>1</td>\n",
       "      <td>0</td>\n",
       "      <td>1</td>\n",
       "      <td>...</td>\n",
       "      <td>1</td>\n",
       "      <td>1</td>\n",
       "      <td>1</td>\n",
       "      <td>0.0</td>\n",
       "      <td>0.0</td>\n",
       "      <td>0.0</td>\n",
       "      <td>1</td>\n",
       "      <td>1</td>\n",
       "      <td>1</td>\n",
       "      <td>1</td>\n",
       "    </tr>\n",
       "    <tr>\n",
       "      <th>1</th>\n",
       "      <td>10232160</td>\n",
       "      <td>Concentration</td>\n",
       "      <td>1.0</td>\n",
       "      <td>1.0</td>\n",
       "      <td>L</td>\n",
       "      <td>1</td>\n",
       "      <td>1</td>\n",
       "      <td>1</td>\n",
       "      <td>1</td>\n",
       "      <td>1</td>\n",
       "      <td>...</td>\n",
       "      <td>1</td>\n",
       "      <td>1</td>\n",
       "      <td>1</td>\n",
       "      <td>1.0</td>\n",
       "      <td>0.0</td>\n",
       "      <td>1.0</td>\n",
       "      <td>2</td>\n",
       "      <td>2</td>\n",
       "      <td>2</td>\n",
       "      <td>0</td>\n",
       "    </tr>\n",
       "    <tr>\n",
       "      <th>149</th>\n",
       "      <td>10232160</td>\n",
       "      <td>Width</td>\n",
       "      <td>1.0</td>\n",
       "      <td>1.0</td>\n",
       "      <td>L</td>\n",
       "      <td>0</td>\n",
       "      <td>0</td>\n",
       "      <td>0</td>\n",
       "      <td>0</td>\n",
       "      <td>0</td>\n",
       "      <td>...</td>\n",
       "      <td>1</td>\n",
       "      <td>1</td>\n",
       "      <td>1</td>\n",
       "      <td>1.0</td>\n",
       "      <td>0.0</td>\n",
       "      <td>1.0</td>\n",
       "      <td>0</td>\n",
       "      <td>0</td>\n",
       "      <td>0</td>\n",
       "      <td>0</td>\n",
       "    </tr>\n",
       "    <tr>\n",
       "      <th>445</th>\n",
       "      <td>10232160</td>\n",
       "      <td>Separation</td>\n",
       "      <td>1.0</td>\n",
       "      <td>3.0</td>\n",
       "      <td>C</td>\n",
       "      <td>1</td>\n",
       "      <td>1</td>\n",
       "      <td>1</td>\n",
       "      <td>1</td>\n",
       "      <td>1</td>\n",
       "      <td>...</td>\n",
       "      <td>1</td>\n",
       "      <td>1</td>\n",
       "      <td>1</td>\n",
       "      <td>0.0</td>\n",
       "      <td>0.0</td>\n",
       "      <td>0.0</td>\n",
       "      <td>2</td>\n",
       "      <td>2</td>\n",
       "      <td>2</td>\n",
       "      <td>1</td>\n",
       "    </tr>\n",
       "    <tr>\n",
       "      <th>297</th>\n",
       "      <td>10232160</td>\n",
       "      <td>Area</td>\n",
       "      <td>1.0</td>\n",
       "      <td>3.0</td>\n",
       "      <td>C</td>\n",
       "      <td>1</td>\n",
       "      <td>1</td>\n",
       "      <td>1</td>\n",
       "      <td>1</td>\n",
       "      <td>1</td>\n",
       "      <td>...</td>\n",
       "      <td>1</td>\n",
       "      <td>1</td>\n",
       "      <td>1</td>\n",
       "      <td>0.0</td>\n",
       "      <td>0.0</td>\n",
       "      <td>0.0</td>\n",
       "      <td>2</td>\n",
       "      <td>2</td>\n",
       "      <td>2</td>\n",
       "      <td>2</td>\n",
       "    </tr>\n",
       "  </tbody>\n",
       "</table>\n",
       "<p>12 rows × 27 columns</p>\n",
       "</div>"
      ],
      "text/plain": [
       "          sid       variable  pre  main sim  CVS_table_2  CVS_graph_2  CVS_table_3  CVS_graph_3  \\\n",
       "0    10127163  Concentration  1.0   3.0   L            1            1            1            1   \n",
       "148  10127163          Width  1.0   3.0   L            1            1            1            1   \n",
       "296  10127163           Area  3.0   3.0   C            1            1            1            1   \n",
       "444  10127163     Separation  3.0   3.0   C            1            1            1            1   \n",
       "538  10192168     Separation  1.0   2.0   C            1            1            1            1   \n",
       "96   10192168  Concentration  1.0   3.0   L            1            1            1            1   \n",
       "390  10192168           Area  1.0   2.0   C            1            0            0            0   \n",
       "244  10192168          Width  1.0   0.0   L            1            0            1            0   \n",
       "1    10232160  Concentration  1.0   1.0   L            1            1            1            1   \n",
       "149  10232160          Width  1.0   1.0   L            0            0            0            0   \n",
       "445  10232160     Separation  1.0   3.0   C            1            1            1            1   \n",
       "297  10232160           Area  1.0   3.0   C            1            1            1            1   \n",
       "\n",
       "     CVS_table_4      ...       use_graph  level_experience_sims  experience_undergrad_labs  \\\n",
       "0              1      ...               1                      1                          1   \n",
       "148            1      ...               1                      1                          1   \n",
       "296            1      ...               1                      1                          1   \n",
       "444            1      ...               1                      1                          1   \n",
       "538            1      ...               1                      1                          1   \n",
       "96             1      ...               1                      1                          1   \n",
       "390            0      ...               1                      1                          1   \n",
       "244            1      ...               1                      1                          1   \n",
       "1              1      ...               1                      1                          1   \n",
       "149            0      ...               1                      1                          1   \n",
       "445            1      ...               1                      1                          1   \n",
       "297            1      ...               1                      1                          1   \n",
       "\n",
       "     used_similar_sim_L  used_similar_sim_C  used_similar_sim  CVS_levels_2  CVS_levels_3  \\\n",
       "0                   0.0                 0.0               0.0             2             2   \n",
       "148                 0.0                 0.0               0.0             2             2   \n",
       "296                 0.0                 0.0               0.0             2             2   \n",
       "444                 0.0                 0.0               0.0             2             2   \n",
       "538                 0.0                 0.0               0.0             2             2   \n",
       "96                  0.0                 0.0               0.0             2             2   \n",
       "390                 0.0                 0.0               0.0             1             0   \n",
       "244                 0.0                 0.0               0.0             1             1   \n",
       "1                   1.0                 0.0               1.0             2             2   \n",
       "149                 1.0                 0.0               1.0             0             0   \n",
       "445                 0.0                 0.0               0.0             2             2   \n",
       "297                 0.0                 0.0               0.0             2             2   \n",
       "\n",
       "     CVS_levels_4  CVS_levels_5  \n",
       "0               2             2  \n",
       "148             2             2  \n",
       "296             2             2  \n",
       "444             2             2  \n",
       "538             2             0  \n",
       "96              2             2  \n",
       "390             0             0  \n",
       "244             1             1  \n",
       "1               2             0  \n",
       "149             0             0  \n",
       "445             2             1  \n",
       "297             2             2  \n",
       "\n",
       "[12 rows x 27 columns]"
      ]
     },
     "execution_count": 18,
     "metadata": {},
     "output_type": "execute_result"
    }
   ],
   "source": [
    "data.sort_values('sid').head(12)"
   ]
  },
  {
   "cell_type": "code",
   "execution_count": 19,
   "metadata": {},
   "outputs": [
    {
     "data": {
      "text/plain": [
       "array([[<matplotlib.axes._subplots.AxesSubplot object at 0x000000000D1FBF98>,\n",
       "        <matplotlib.axes._subplots.AxesSubplot object at 0x000000000CBF8828>,\n",
       "        <matplotlib.axes._subplots.AxesSubplot object at 0x000000000CD82C50>,\n",
       "        <matplotlib.axes._subplots.AxesSubplot object at 0x000000000D45DB38>,\n",
       "        <matplotlib.axes._subplots.AxesSubplot object at 0x000000000D5664E0>],\n",
       "       [<matplotlib.axes._subplots.AxesSubplot object at 0x000000000D6160F0>,\n",
       "        <matplotlib.axes._subplots.AxesSubplot object at 0x000000000D717CF8>,\n",
       "        <matplotlib.axes._subplots.AxesSubplot object at 0x000000000D777CC0>,\n",
       "        <matplotlib.axes._subplots.AxesSubplot object at 0x000000000D87DBA8>,\n",
       "        <matplotlib.axes._subplots.AxesSubplot object at 0x000000000D7ECE48>],\n",
       "       [<matplotlib.axes._subplots.AxesSubplot object at 0x000000000DA3D160>,\n",
       "        <matplotlib.axes._subplots.AxesSubplot object at 0x000000000DB3BDA0>,\n",
       "        <matplotlib.axes._subplots.AxesSubplot object at 0x000000000DB9D198>,\n",
       "        <matplotlib.axes._subplots.AxesSubplot object at 0x000000000DC9BA20>,\n",
       "        <matplotlib.axes._subplots.AxesSubplot object at 0x000000000DD87748>],\n",
       "       [<matplotlib.axes._subplots.AxesSubplot object at 0x000000000DE87F60>,\n",
       "        <matplotlib.axes._subplots.AxesSubplot object at 0x000000000DF929E8>,\n",
       "        <matplotlib.axes._subplots.AxesSubplot object at 0x000000000E035BA8>,\n",
       "        <matplotlib.axes._subplots.AxesSubplot object at 0x000000000E417828>,\n",
       "        <matplotlib.axes._subplots.AxesSubplot object at 0x000000000E4BD7F0>],\n",
       "       [<matplotlib.axes._subplots.AxesSubplot object at 0x000000000E586278>,\n",
       "        <matplotlib.axes._subplots.AxesSubplot object at 0x000000000E4D90F0>,\n",
       "        <matplotlib.axes._subplots.AxesSubplot object at 0x000000000E776C88>,\n",
       "        <matplotlib.axes._subplots.AxesSubplot object at 0x000000000E83C550>,\n",
       "        <matplotlib.axes._subplots.AxesSubplot object at 0x000000000E8F2B70>]], dtype=object)"
      ]
     },
     "execution_count": 19,
     "metadata": {},
     "output_type": "execute_result"
    },
    {
     "data": {
      "image/png": "[encoded data removed]",
      "text/plain": [
       "<matplotlib.figure.Figure at 0xd20d550>"
      ]
     },
     "metadata": {},
     "output_type": "display_data"
    }
   ],
   "source": [
    "data.hist()"
   ]
  },
  {
   "cell_type": "markdown",
   "metadata": {},
   "source": [
    "## Exporting the data"
   ]
  },
  {
   "cell_type": "code",
   "execution_count": 20,
   "metadata": {
    "collapsed": true
   },
   "outputs": [],
   "source": [
    "# export_data = data[[\"sid\",\"variable\",\"pre\",\"main\",\"sim\",\"CVS_graph\",\"sim_index\"]]\n",
    "export_data = data.copy()\n",
    "export_data.to_csv('dataframe_all_factors_by_student_x_variable.csv')"
   ]
  },
  {
   "cell_type": "markdown",
   "metadata": {
    "hideCode": true,
    "hidePrompt": true
   },
   "source": [
    "## Stats tools and multicollinearity check"
   ]
  },
  {
   "cell_type": "code",
   "execution_count": 21,
   "metadata": {
    "collapsed": true,
    "hideCode": true,
    "hidePrompt": true
   },
   "outputs": [],
   "source": [
    "def eta_squared(aov):\n",
    "    aov['eta_sq'] = 'NaN'\n",
    "    aov['eta_sq'] = aov[:-1]['sum_sq']/sum(aov['sum_sq'])\n",
    "    return aov\n",
    " \n",
    "def omega_squared(aov):\n",
    "    mse = aov['sum_sq'][-1]/aov['df'][-1]\n",
    "    aov['omega_sq'] = 'NaN'\n",
    "    aov['omega_sq'] = (aov[:-1]['sum_sq']-(aov[:-1]['df']*mse))/(sum(aov['sum_sq'])+mse)\n",
    "    return aov\n",
    "\n",
    "def clean_summary(model):\n",
    "    m = model.summary()\n",
    "    lines = m.as_text().split('\\n')\n",
    "    lines = [l for l in lines if 'C(sid)' not in l]\n",
    "    return '\\n'.join(lines)"
   ]
  },
  {
   "cell_type": "code",
   "execution_count": 22,
   "metadata": {
    "collapsed": true,
    "hideCode": true,
    "hidePrompt": true
   },
   "outputs": [],
   "source": [
    "# from scipy import stats\n",
    "# print \"Correlation coeff for table and graph CVS:\", stats.spearmanr(data['CVS_table'],data['CVS_graph'])\n",
    "# #Let's measure the variance inflation factor of including both CVS table and graph in the same models:\n",
    "# formula = 'CVS_table ~ CVS_graph + pre + C(variable) + sim_index + C(sim) '\n",
    "# print 'model: ', formula,'\\n'\n",
    "# from patsy import dmatrices\n",
    "# Y, X = dmatrices(formula, data, return_type = 'dataframe')\n",
    "# # print X.columns\n",
    "# logit = Logit(Y, X)\n",
    "# model = logit.fit()\n",
    "# print model.summary()\n",
    "# # print model.params\n",
    "# R2 = 0.4225\n",
    "# VIF = 1.0/(1-R2)\n",
    "# VIF\n",
    "\n",
    "## A VIF of 1.73 tells us that the variance (the square of the standard error) of a particular coefficient is 73% larger than it would be if that predictor was completely uncorrelated with all the other predictors. According to [this website](https://statisticalhorizons.com/multicollinearity), a VIF of 2.6 or higher is worrisome."
   ]
  },
  {
   "cell_type": "markdown",
   "metadata": {
    "hideCode": true,
    "hidePrompt": true
   },
   "source": [
    "# Results to present in methods\n",
    "## Student population"
   ]
  },
  {
   "cell_type": "code",
   "execution_count": 23,
   "metadata": {
    "hideCode": true,
    "hidePrompt": true
   },
   "outputs": [
    {
     "name": "stdout",
     "output_type": "stream",
     "text": [
      "The study includes 148 students\n"
     ]
    }
   ],
   "source": [
    "N = len(set(data['sid']))\n",
    "print \"The study includes {0} students\".format(N)"
   ]
  },
  {
   "cell_type": "code",
   "execution_count": 24,
   "metadata": {
    "hideCode": true,
    "hidePrompt": true
   },
   "outputs": [
    {
     "name": "stdout",
     "output_type": "stream",
     "text": [
      " [Woman] 96 64.9\n",
      " [Man] 50 33.8\n",
      " [Gender non conforming/non-binary] 1 0.7\n",
      " [Trans*] 0 0.0\n",
      " [Rather specify:] 0 0.0\n",
      " [Rather specify:] [text] 0 0.0\n",
      " [Prefer not to answer] 1 0.7\n"
     ]
    }
   ],
   "source": [
    "posts = get_all_posts_surveys()\n",
    "genders = ['gender','[gender] To which gender do you most identify? [Man]','[gender] To which gender do you most identify? [Gender non conforming/non-binary]','[gender] To which gender do you most identify? [Trans*]','[gender] To which gender do you most identify? [Rather specify:]','[gender] To which gender do you most identify? [Rather specify:] [text]','[gender] To which gender do you most identify? [Prefer not to answer]']\n",
    "for g in genders:\n",
    "    if '?' in g:\n",
    "        gender = g.split('?')[1]\n",
    "    else:\n",
    "        gender = ' [Woman]'\n",
    "    print gender, len(set(posts[posts[g]==1]['sid'])), round(len(set(posts[posts[g]==1]['sid']))/float(N)*100,1)"
   ]
  },
  {
   "cell_type": "markdown",
   "metadata": {
    "hideCode": true,
    "hidePrompt": true
   },
   "source": [
    "## Student prior experience"
   ]
  },
  {
   "cell_type": "code",
   "execution_count": 25,
   "metadata": {
    "hideCode": true,
    "hidePrompt": true
   },
   "outputs": [
    {
     "name": "stdout",
     "output_type": "stream",
     "text": [
      "               experience_undergrad_labs\n",
      "variable                                \n",
      "Area                                 131\n",
      "Concentration                        131\n",
      "Separation                           131\n",
      "Width                                131\n"
     ]
    },
    {
     "data": {
      "text/plain": [
       "array([[<matplotlib.axes._subplots.AxesSubplot object at 0x0000000011301E48>]], dtype=object)"
      ]
     },
     "execution_count": 25,
     "metadata": {},
     "output_type": "execute_result"
    },
    {
     "data": {
      "image/png": "[encoded data removed]",
      "text/plain": [
       "<matplotlib.figure.Figure at 0x11206080>"
      ]
     },
     "metadata": {},
     "output_type": "display_data"
    }
   ],
   "source": [
    "# print 'experience in virtual labs in general'\n",
    "print pd.pivot_table(data, values=['experience_undergrad_labs'], index=['variable'],aggfunc=np.sum)[['experience_undergrad_labs']]\n",
    "pd.pivot_table(data, values=['experience_undergrad_labs'], index=['sid'],aggfunc=np.sum)[['experience_undergrad_labs']].hist()"
   ]
  },
  {
   "cell_type": "code",
   "execution_count": 26,
   "metadata": {},
   "outputs": [
    {
     "name": "stdout",
     "output_type": "stream",
     "text": [
      "where:\n",
      " 0 -> None\n",
      " 1 -> 1-2 (roughly)\n",
      " 2 -> 3-5 (roughly)\n",
      " 3 -> 6+ (roughly)\n"
     ]
    },
    {
     "data": {
      "image/png": "[encoded data removed]",
      "text/plain": [
       "<matplotlib.figure.Figure at 0x111293c8>"
      ]
     },
     "metadata": {},
     "output_type": "display_data"
    }
   ],
   "source": [
    "pd.pivot_table(data, values=['level_experience_sims'], index=['sid'],aggfunc=sum)[['level_experience_sims']].hist()\n",
    "print '''where:\n",
    " 0 -> None\n",
    " 1 -> 1-2 (roughly)\n",
    " 2 -> 3-5 (roughly)\n",
    " 3 -> 6+ (roughly)'''"
   ]
  },
  {
   "cell_type": "code",
   "execution_count": 27,
   "metadata": {
    "hideCode": true,
    "hidePrompt": true
   },
   "outputs": [
    {
     "name": "stdout",
     "output_type": "stream",
     "text": [
      "       used_similar_sim_C  used_similar_sim_L\n",
      "count             592.000             592.000\n",
      "mean                0.044               0.166\n",
      "std                 0.205               0.372\n",
      "min                 0.000               0.000\n",
      "25%                 0.000               0.000\n",
      "50%                 0.000               0.000\n",
      "75%                 0.000               0.000\n",
      "max                 1.000               1.000\n"
     ]
    },
    {
     "data": {
      "text/plain": [
       "array([[<matplotlib.axes._subplots.AxesSubplot object at 0x000000001155C6A0>,\n",
       "        <matplotlib.axes._subplots.AxesSubplot object at 0x0000000011AE2668>]], dtype=object)"
      ]
     },
     "execution_count": 27,
     "metadata": {},
     "output_type": "execute_result"
    },
    {
     "data": {
      "image/png": "[encoded data removed]",
      "text/plain": [
       "<matplotlib.figure.Figure at 0x11566da0>"
      ]
     },
     "metadata": {},
     "output_type": "display_data"
    }
   ],
   "source": [
    "# print  'experience in virtual labs teaching light absorbance or capacitors before'\n",
    "print data[['used_similar_sim_C','used_similar_sim_L']].describe()\n",
    "pd.pivot_table(data, values=['used_similar_sim_C','used_similar_sim_L'], index=['sid'],aggfunc=np.sum)[['used_similar_sim_C','used_similar_sim_L']].hist(sharey=True)"
   ]
  },
  {
   "cell_type": "code",
   "execution_count": 28,
   "metadata": {
    "code_folding": [
     0
    ]
   },
   "outputs": [
    {
     "data": {
      "text/html": [
       "<div>\n",
       "<table border=\"1\" class=\"dataframe\">\n",
       "  <thead>\n",
       "    <tr style=\"text-align: right;\">\n",
       "      <th></th>\n",
       "      <th></th>\n",
       "      <th>sid</th>\n",
       "    </tr>\n",
       "    <tr>\n",
       "      <th>sim_index</th>\n",
       "      <th>variable</th>\n",
       "      <th></th>\n",
       "    </tr>\n",
       "  </thead>\n",
       "  <tbody>\n",
       "    <tr>\n",
       "      <th rowspan=\"4\" valign=\"top\">1</th>\n",
       "      <th>Area</th>\n",
       "      <td>72</td>\n",
       "    </tr>\n",
       "    <tr>\n",
       "      <th>Concentration</th>\n",
       "      <td>76</td>\n",
       "    </tr>\n",
       "    <tr>\n",
       "      <th>Separation</th>\n",
       "      <td>72</td>\n",
       "    </tr>\n",
       "    <tr>\n",
       "      <th>Width</th>\n",
       "      <td>76</td>\n",
       "    </tr>\n",
       "    <tr>\n",
       "      <th rowspan=\"4\" valign=\"top\">2</th>\n",
       "      <th>Area</th>\n",
       "      <td>76</td>\n",
       "    </tr>\n",
       "    <tr>\n",
       "      <th>Concentration</th>\n",
       "      <td>72</td>\n",
       "    </tr>\n",
       "    <tr>\n",
       "      <th>Separation</th>\n",
       "      <td>76</td>\n",
       "    </tr>\n",
       "    <tr>\n",
       "      <th>Width</th>\n",
       "      <td>72</td>\n",
       "    </tr>\n",
       "  </tbody>\n",
       "</table>\n",
       "</div>"
      ],
      "text/plain": [
       "                         sid\n",
       "sim_index variable          \n",
       "1         Area            72\n",
       "          Concentration   76\n",
       "          Separation      72\n",
       "          Width           76\n",
       "2         Area            76\n",
       "          Concentration   72\n",
       "          Separation      76\n",
       "          Width           72"
      ]
     },
     "execution_count": 28,
     "metadata": {},
     "output_type": "execute_result"
    }
   ],
   "source": [
    "pd.pivot_table(data, values=['sid'], index=['sim_index','variable'],aggfunc=len)"
   ]
  },
  {
   "cell_type": "markdown",
   "metadata": {
    "hideCode": true,
    "hidePrompt": true
   },
   "source": [
    "# Learning through inquiry\n",
    "## Overall"
   ]
  },
  {
   "cell_type": "markdown",
   "metadata": {
    "hideCode": true,
    "hidePrompt": true
   },
   "source": [
    "Let's look at pre to post to see if students learn.\n",
    "\n",
    "Right now we have 4 entries per student and add \"variable\" to the model."
   ]
  },
  {
   "cell_type": "code",
   "execution_count": 29,
   "metadata": {},
   "outputs": [
    {
     "data": {
      "text/plain": [
       "[[<matplotlib.text.Text at 0x11fecfd0>,\n",
       "  <matplotlib.text.Text at 0x120288d0>,\n",
       "  <matplotlib.text.Text at 0x11f5c438>,\n",
       "  <matplotlib.text.Text at 0x1211e4e0>]]"
      ]
     },
     "execution_count": 29,
     "metadata": {},
     "output_type": "execute_result"
    },
    {
     "data": {
      "image/png": "[encoded data removed]",
      "text/plain": [
       "<matplotlib.figure.Figure at 0x11e00da0>"
      ]
     },
     "metadata": {},
     "output_type": "display_data"
    }
   ],
   "source": [
    "fig,ax = plt.subplots(nrows=1,ncols=2,figsize=(10,5))\n",
    "# sns.distplot(data['pre'],ax=ax[0],bins=[0,1,2,3,4],kde=False,label='pre score',color='red');\n",
    "# sns.distplot(data['main'],ax=ax[1],bins=[0,1,2,3,4],kde=False,label='main score',color='blue');\n",
    "sns.countplot(data=data[data['variable'].isin([\"Area\",'Concentration','Separation','Width'])],y='pre',ax=ax[0],label='pre score',color='blue',alpha=0.7);\n",
    "sns.countplot(data=data[data['variable'].isin([\"Area\",'Concentration','Separation','Width'])],y='main',ax=ax[1],label='main score',color='blue',alpha=0.7);\n",
    "ax[0].set(xlabel='Number of students')\n",
    "ax[1].set(xlabel='Number of students')\n",
    "ax[0].set(ylabel='pre score')\n",
    "ax[1].set(ylabel='main score')\n",
    "ax[0].set(yticklabels = ['None-all incorrect','Identify','Qualitative','Quantitative'])\n",
    "ax[1].set(yticklabels = ['','','',''])"
   ]
  },
  {
   "cell_type": "code",
   "execution_count": 30,
   "metadata": {
    "hideCode": true,
    "hidePrompt": true
   },
   "outputs": [
    {
     "data": {
      "text/html": [
       "<div>\n",
       "<table border=\"1\" class=\"dataframe\">\n",
       "  <thead>\n",
       "    <tr style=\"text-align: right;\">\n",
       "      <th></th>\n",
       "      <th>variable</th>\n",
       "      <th>main</th>\n",
       "      <th>pre</th>\n",
       "      <th>sid</th>\n",
       "    </tr>\n",
       "    <tr>\n",
       "      <th>variable</th>\n",
       "      <th></th>\n",
       "      <th></th>\n",
       "      <th></th>\n",
       "      <th></th>\n",
       "    </tr>\n",
       "  </thead>\n",
       "  <tbody>\n",
       "    <tr>\n",
       "      <th>Area</th>\n",
       "      <td>Area</td>\n",
       "      <td>3.0</td>\n",
       "      <td>3.0</td>\n",
       "      <td>10127163</td>\n",
       "    </tr>\n",
       "    <tr>\n",
       "      <th>Area</th>\n",
       "      <td>Area</td>\n",
       "      <td>2.0</td>\n",
       "      <td>1.0</td>\n",
       "      <td>10192168</td>\n",
       "    </tr>\n",
       "    <tr>\n",
       "      <th>Area</th>\n",
       "      <td>Area</td>\n",
       "      <td>3.0</td>\n",
       "      <td>1.0</td>\n",
       "      <td>10232160</td>\n",
       "    </tr>\n",
       "    <tr>\n",
       "      <th>Area</th>\n",
       "      <td>Area</td>\n",
       "      <td>3.0</td>\n",
       "      <td>1.0</td>\n",
       "      <td>10375163</td>\n",
       "    </tr>\n",
       "    <tr>\n",
       "      <th>Area</th>\n",
       "      <td>Area</td>\n",
       "      <td>3.0</td>\n",
       "      <td>2.0</td>\n",
       "      <td>10420167</td>\n",
       "    </tr>\n",
       "  </tbody>\n",
       "</table>\n",
       "</div>"
      ],
      "text/plain": [
       "         variable  main  pre       sid\n",
       "variable                              \n",
       "Area         Area   3.0  3.0  10127163\n",
       "Area         Area   2.0  1.0  10192168\n",
       "Area         Area   3.0  1.0  10232160\n",
       "Area         Area   3.0  1.0  10375163\n",
       "Area         Area   3.0  2.0  10420167"
      ]
     },
     "execution_count": 30,
     "metadata": {},
     "output_type": "execute_result"
    }
   ],
   "source": [
    "scores = pd.pivot_table(data, values=['pre','main'], index=['variable','sid'],aggfunc=np.mean)\n",
    "scores.reset_index(level=0, inplace=True)\n",
    "scores['sid']=scores.index\n",
    "scores.index = scores['variable']\n",
    "scores.head()"
   ]
  },
  {
   "cell_type": "code",
   "execution_count": 31,
   "metadata": {
    "hideCode": true,
    "hidePrompt": true,
    "scrolled": true
   },
   "outputs": [
    {
     "name": "stdout",
     "output_type": "stream",
     "text": [
      "-------------  -------------  ------------  ------------  -------  -----------\n",
      "Variable       pre score      main score    Sum of ranks  p-value  effect size\n",
      "Width          $1.03\\pm0.83$  $2.32pm0.75$  -10.61        0.0001   0.87\n",
      "Concentration  $1.31\\pm0.79$  $2.39pm0.64$  -9.91         0.0001   0.81\n",
      "Area           $1.24\\pm0.82$  $2.28pm0.71$  -9.51         0.0001   0.78\n",
      "Separation     $1.32\\pm0.79$  $2.19pm0.68$  -8.35         0.0001   0.69\n",
      "-------------  -------------  ------------  ------------  -------  -----------\n"
     ]
    },
    {
     "data": {
      "text/plain": [
       "u'\\\\begin{tabular}{llllll}\\n\\\\hline\\n Variable      & pre score     & main score   & Sum of ranks & p-value & effect size \\\\\\\\\\n Width         & \\\\$1.03\\\\textbackslash{}pm0.83\\\\$ & \\\\$2.32pm0.75\\\\$ & -10.61       & 0.0001  & 0.87        \\\\\\\\\\n Concentration & \\\\$1.31\\\\textbackslash{}pm0.79\\\\$ & \\\\$2.39pm0.64\\\\$ & -9.91        & 0.0001  & 0.81        \\\\\\\\\\n Area          & \\\\$1.24\\\\textbackslash{}pm0.82\\\\$ & \\\\$2.28pm0.71\\\\$ & -9.51        & 0.0001  & 0.78        \\\\\\\\\\n Separation    & \\\\$1.32\\\\textbackslash{}pm0.79\\\\$ & \\\\$2.19pm0.68\\\\$ & -8.35        & 0.0001  & 0.69        \\\\\\\\\\n\\\\hline\\n\\\\end{tabular}'"
      ]
     },
     "execution_count": 31,
     "metadata": {},
     "output_type": "execute_result"
    }
   ],
   "source": [
    "t = [['Variable','pre score','main score','Sum of ranks','p-value','effect size']]\n",
    "for variable in ['Width','Concentration','Area','Separation']:\n",
    "    pm = round(np.mean(scores.loc[variable]['pre']),2)\n",
    "    ps = round(np.std(scores.loc[variable]['pre']),2)\n",
    "    mm = round(np.mean(scores.loc[variable]['main']),2)\n",
    "    ms = round(np.std(scores.loc[variable]['main']),2)\n",
    "    Z,p = ranksums(scores.loc[variable]['pre'],scores.loc[variable]['main'])\n",
    "    eta = round(-Z/np.sqrt(N),2)\n",
    "#     t.append([variable,str(pm)+'pm'+str(ps),str(mm)+'pm'+str(ms),round(Z,2),p,eta])\n",
    "    t.append([variable,'$'+str(pm)+'\\pm'+str(ps)+'$','$'+str(mm)+'pm'+str(ms)+'$',round(Z,2),'0.0001',eta])\n",
    "\n",
    "print tabulate(t)\n",
    "tabulate(t,tablefmt='latex')"
   ]
  },
  {
   "cell_type": "markdown",
   "metadata": {
    "hideCode": true,
    "hidePrompt": true
   },
   "source": [
    "We use Wilcoxon signed rank test since our population ares paired and dependant but ordinal values. Overall, student learn in both sims.\n",
    "\n",
    "For calculation and interpretation of effect size, read Pages 224 (bottom part) and 225 from Pallant, J. (2007). SPSS Survival Manual quoted [here](https://stats.stackexchange.com/questions/133077/effect-size-to-wilcoxon-signed-rank-test)\n"
   ]
  },
  {
   "cell_type": "code",
   "execution_count": 32,
   "metadata": {},
   "outputs": [
    {
     "data": {
      "text/html": [
       "<div>\n",
       "<table border=\"1\" class=\"dataframe\">\n",
       "  <thead>\n",
       "    <tr style=\"text-align: right;\">\n",
       "      <th></th>\n",
       "      <th></th>\n",
       "      <th>CVS_graph_3</th>\n",
       "      <th>CVS_table_3</th>\n",
       "    </tr>\n",
       "    <tr>\n",
       "      <th>variable</th>\n",
       "      <th>CVS_levels_3</th>\n",
       "      <th></th>\n",
       "      <th></th>\n",
       "    </tr>\n",
       "  </thead>\n",
       "  <tbody>\n",
       "    <tr>\n",
       "      <th rowspan=\"3\" valign=\"top\">Area</th>\n",
       "      <th>0</th>\n",
       "      <td>0</td>\n",
       "      <td>0</td>\n",
       "    </tr>\n",
       "    <tr>\n",
       "      <th>1</th>\n",
       "      <td>0</td>\n",
       "      <td>19</td>\n",
       "    </tr>\n",
       "    <tr>\n",
       "      <th>2</th>\n",
       "      <td>65</td>\n",
       "      <td>65</td>\n",
       "    </tr>\n",
       "    <tr>\n",
       "      <th rowspan=\"3\" valign=\"top\">Concentration</th>\n",
       "      <th>0</th>\n",
       "      <td>0</td>\n",
       "      <td>0</td>\n",
       "    </tr>\n",
       "    <tr>\n",
       "      <th>1</th>\n",
       "      <td>0</td>\n",
       "      <td>22</td>\n",
       "    </tr>\n",
       "    <tr>\n",
       "      <th>2</th>\n",
       "      <td>74</td>\n",
       "      <td>74</td>\n",
       "    </tr>\n",
       "    <tr>\n",
       "      <th rowspan=\"3\" valign=\"top\">Separation</th>\n",
       "      <th>0</th>\n",
       "      <td>0</td>\n",
       "      <td>0</td>\n",
       "    </tr>\n",
       "    <tr>\n",
       "      <th>1</th>\n",
       "      <td>0</td>\n",
       "      <td>15</td>\n",
       "    </tr>\n",
       "    <tr>\n",
       "      <th>2</th>\n",
       "      <td>64</td>\n",
       "      <td>64</td>\n",
       "    </tr>\n",
       "    <tr>\n",
       "      <th rowspan=\"3\" valign=\"top\">Width</th>\n",
       "      <th>0</th>\n",
       "      <td>0</td>\n",
       "      <td>0</td>\n",
       "    </tr>\n",
       "    <tr>\n",
       "      <th>1</th>\n",
       "      <td>0</td>\n",
       "      <td>22</td>\n",
       "    </tr>\n",
       "    <tr>\n",
       "      <th>2</th>\n",
       "      <td>66</td>\n",
       "      <td>66</td>\n",
       "    </tr>\n",
       "  </tbody>\n",
       "</table>\n",
       "</div>"
      ],
      "text/plain": [
       "                            CVS_graph_3  CVS_table_3\n",
       "variable      CVS_levels_3                          \n",
       "Area          0                       0            0\n",
       "              1                       0           19\n",
       "              2                      65           65\n",
       "Concentration 0                       0            0\n",
       "              1                       0           22\n",
       "              2                      74           74\n",
       "Separation    0                       0            0\n",
       "              1                       0           15\n",
       "              2                      64           64\n",
       "Width         0                       0            0\n",
       "              1                       0           22\n",
       "              2                      66           66"
      ]
     },
     "execution_count": 32,
     "metadata": {},
     "output_type": "execute_result"
    }
   ],
   "source": [
    "scores2 = pd.pivot_table(data, values=['CVS_table_3','CVS_graph_3'], index=['variable','CVS_levels_3'],aggfunc=(sum))\n",
    "# scores2.reset_index(level=0, inplace=True)\n",
    "# scores['sid']=scores.index\n",
    "# scores2.index = scores['variable']\n",
    "scores2"
   ]
  },
  {
   "cell_type": "code",
   "execution_count": 33,
   "metadata": {},
   "outputs": [
    {
     "name": "stdout",
     "output_type": "stream",
     "text": [
      "\\begin{tabular}{lrr}\n",
      "\\hline\n",
      " ('pre', 'mean')  & 1.19257  & 1.25676  \\\\\n",
      " ('pre', 'std')   & 0.843768 & 0.790808 \\\\\n",
      " ('main', 'mean') & 2.19595  & 2.39527  \\\\\n",
      " ('main', 'std')  & 0.71931  & 0.670829 \\\\\n",
      "\\hline\n",
      "\\end{tabular}\n"
     ]
    },
    {
     "data": {
      "text/html": [
       "<div>\n",
       "<table border=\"1\" class=\"dataframe\">\n",
       "  <thead>\n",
       "    <tr>\n",
       "      <th></th>\n",
       "      <th colspan=\"2\" halign=\"left\">pre</th>\n",
       "      <th colspan=\"2\" halign=\"left\">main</th>\n",
       "    </tr>\n",
       "    <tr>\n",
       "      <th></th>\n",
       "      <th>mean</th>\n",
       "      <th>std</th>\n",
       "      <th>mean</th>\n",
       "      <th>std</th>\n",
       "    </tr>\n",
       "    <tr>\n",
       "      <th>sim_index</th>\n",
       "      <th></th>\n",
       "      <th></th>\n",
       "      <th></th>\n",
       "      <th></th>\n",
       "    </tr>\n",
       "  </thead>\n",
       "  <tbody>\n",
       "    <tr>\n",
       "      <th>1</th>\n",
       "      <td>1.193</td>\n",
       "      <td>0.844</td>\n",
       "      <td>2.196</td>\n",
       "      <td>0.719</td>\n",
       "    </tr>\n",
       "    <tr>\n",
       "      <th>2</th>\n",
       "      <td>1.257</td>\n",
       "      <td>0.791</td>\n",
       "      <td>2.395</td>\n",
       "      <td>0.671</td>\n",
       "    </tr>\n",
       "  </tbody>\n",
       "</table>\n",
       "</div>"
      ],
      "text/plain": [
       "             pre          main       \n",
       "            mean    std   mean    std\n",
       "sim_index                            \n",
       "1          1.193  0.844  2.196  0.719\n",
       "2          1.257  0.791  2.395  0.671"
      ]
     },
     "execution_count": 33,
     "metadata": {},
     "output_type": "execute_result"
    }
   ],
   "source": [
    "scores3 = pd.pivot_table(data, values=['pre','main'], index=['sim_index'],aggfunc=(np.mean,np.std))\n",
    "# scores2.reset_index(level=0, inplace=True)\n",
    "# scores['sid']=scores.index\n",
    "# scores2.index = scores['variable']\n",
    "print tabulate(scores3.transpose(),tablefmt='latex')\n",
    "scores3"
   ]
  },
  {
   "cell_type": "code",
   "execution_count": 35,
   "metadata": {},
   "outputs": [],
   "source": [
    "# t = [['Variable','None','CVS-explore','CVS-table','CVS-plot']]\n",
    "# for variable in ['Width','Concentration','Area','Separation']:\n",
    "#     t.append([variable,'0 (0%)','148 (100%)',str(int(scores2.loc[variable,('CVS_table_3','sum')]))+\n",
    "#                                 ' ('+str(round(scores2.loc[variable,('CVS_table_3','mean')]*100,1))+'%)',\n",
    "#                                 str(int(scores2.loc[variable,('CVS_graph_3','sum')]))+\n",
    "#                                 ' ('+str(round(scores2.loc[variable,('CVS_graph_3','mean')]*100,1))+'%)',])\n",
    "# #     pm = round(np.mean(scores.loc[variable]['pre']),2)\n",
    "# #     ps = round(np.std(scores.loc[variable]['pre']),2)\n",
    "# #     mm = round(np.mean(scores.loc[variable]['main']),2)\n",
    "# #     ms = round(np.std(scores.loc[variable]['main']),2)\n",
    "# #     Z,p = ranksums(scores.loc[variable]['pre'],scores.loc[variable]['main'])\n",
    "# #     eta = round(-Z/np.sqrt(N),2)\n",
    "# # #     t.append([variable,str(pm)+'pm'+str(ps),str(mm)+'pm'+str(ms),round(Z,2),p,eta])\n",
    "# #     t.append([variable,'$'+str(pm)+'\\pm'+str(ps)+'$','$'+str(mm)+'pm'+str(ms)+'$',round(Z,2),'0.0001',eta])\n",
    "\n",
    "# print tabulate(t)\n",
    "# print tabulate(t,tablefmt='latex')"
   ]
  },
  {
   "cell_type": "code",
   "execution_count": 36,
   "metadata": {},
   "outputs": [
    {
     "name": "stdout",
     "output_type": "stream",
     "text": [
      "\n",
      "Correlation for all variables: (N=148*4)\n",
      "SpearmanrResult(correlation=0.19683704156643292, pvalue=1.390052759857402e-06)\n",
      "\n",
      "Correlation using mean pre and mean main merging both sims: (N=148)\n",
      "SpearmanrResult(correlation=0.3606523617550455, pvalue=6.7061187707435308e-06)\n"
     ]
    }
   ],
   "source": [
    "from scipy.stats import spearmanr\n",
    "print \"\\nCorrelation for all variables: (N=148*4)\"\n",
    "print spearmanr(data['pre'],data['main'])\n",
    "print \"\\nCorrelation using mean pre and mean main merging both sims: (N=148)\"\n",
    "merged_scores = pd.pivot_table(data, values=['pre','main'], index=['sid'],aggfunc=np.mean)\n",
    "print spearmanr(merged_scores['pre'],merged_scores['main'])"
   ]
  },
  {
   "cell_type": "markdown",
   "metadata": {},
   "source": [
    "### Descriptives"
   ]
  },
  {
   "cell_type": "code",
   "execution_count": 37,
   "metadata": {},
   "outputs": [
    {
     "data": {
      "text/html": [
       "<div>\n",
       "<table border=\"1\" class=\"dataframe\">\n",
       "  <thead>\n",
       "    <tr>\n",
       "      <th></th>\n",
       "      <th></th>\n",
       "      <th colspan=\"3\" halign=\"left\">pre</th>\n",
       "      <th colspan=\"3\" halign=\"left\">main</th>\n",
       "    </tr>\n",
       "    <tr>\n",
       "      <th></th>\n",
       "      <th></th>\n",
       "      <th>len</th>\n",
       "      <th>mean</th>\n",
       "      <th>std</th>\n",
       "      <th>len</th>\n",
       "      <th>mean</th>\n",
       "      <th>std</th>\n",
       "    </tr>\n",
       "    <tr>\n",
       "      <th>variable</th>\n",
       "      <th>CVS_levels_3</th>\n",
       "      <th></th>\n",
       "      <th></th>\n",
       "      <th></th>\n",
       "      <th></th>\n",
       "      <th></th>\n",
       "      <th></th>\n",
       "    </tr>\n",
       "  </thead>\n",
       "  <tbody>\n",
       "    <tr>\n",
       "      <th rowspan=\"3\" valign=\"top\">Area</th>\n",
       "      <th>0</th>\n",
       "      <td>64.0</td>\n",
       "      <td>1.109</td>\n",
       "      <td>0.758</td>\n",
       "      <td>64.0</td>\n",
       "      <td>2.016</td>\n",
       "      <td>0.654</td>\n",
       "    </tr>\n",
       "    <tr>\n",
       "      <th>1</th>\n",
       "      <td>19.0</td>\n",
       "      <td>1.368</td>\n",
       "      <td>0.761</td>\n",
       "      <td>19.0</td>\n",
       "      <td>2.263</td>\n",
       "      <td>0.653</td>\n",
       "    </tr>\n",
       "    <tr>\n",
       "      <th>2</th>\n",
       "      <td>65.0</td>\n",
       "      <td>1.323</td>\n",
       "      <td>0.903</td>\n",
       "      <td>65.0</td>\n",
       "      <td>2.554</td>\n",
       "      <td>0.685</td>\n",
       "    </tr>\n",
       "    <tr>\n",
       "      <th rowspan=\"3\" valign=\"top\">Concentration</th>\n",
       "      <th>0</th>\n",
       "      <td>52.0</td>\n",
       "      <td>1.288</td>\n",
       "      <td>0.667</td>\n",
       "      <td>52.0</td>\n",
       "      <td>2.096</td>\n",
       "      <td>0.569</td>\n",
       "    </tr>\n",
       "    <tr>\n",
       "      <th>1</th>\n",
       "      <td>22.0</td>\n",
       "      <td>1.318</td>\n",
       "      <td>0.995</td>\n",
       "      <td>22.0</td>\n",
       "      <td>2.227</td>\n",
       "      <td>0.685</td>\n",
       "    </tr>\n",
       "    <tr>\n",
       "      <th>2</th>\n",
       "      <td>74.0</td>\n",
       "      <td>1.324</td>\n",
       "      <td>0.813</td>\n",
       "      <td>74.0</td>\n",
       "      <td>2.649</td>\n",
       "      <td>0.584</td>\n",
       "    </tr>\n",
       "    <tr>\n",
       "      <th rowspan=\"3\" valign=\"top\">Separation</th>\n",
       "      <th>0</th>\n",
       "      <td>69.0</td>\n",
       "      <td>1.290</td>\n",
       "      <td>0.788</td>\n",
       "      <td>69.0</td>\n",
       "      <td>2.130</td>\n",
       "      <td>0.616</td>\n",
       "    </tr>\n",
       "    <tr>\n",
       "      <th>1</th>\n",
       "      <td>15.0</td>\n",
       "      <td>1.333</td>\n",
       "      <td>0.816</td>\n",
       "      <td>15.0</td>\n",
       "      <td>1.867</td>\n",
       "      <td>0.640</td>\n",
       "    </tr>\n",
       "    <tr>\n",
       "      <th>2</th>\n",
       "      <td>64.0</td>\n",
       "      <td>1.359</td>\n",
       "      <td>0.804</td>\n",
       "      <td>64.0</td>\n",
       "      <td>2.328</td>\n",
       "      <td>0.736</td>\n",
       "    </tr>\n",
       "    <tr>\n",
       "      <th rowspan=\"3\" valign=\"top\">Width</th>\n",
       "      <th>0</th>\n",
       "      <td>60.0</td>\n",
       "      <td>0.767</td>\n",
       "      <td>0.647</td>\n",
       "      <td>60.0</td>\n",
       "      <td>1.967</td>\n",
       "      <td>0.802</td>\n",
       "    </tr>\n",
       "    <tr>\n",
       "      <th>1</th>\n",
       "      <td>22.0</td>\n",
       "      <td>1.000</td>\n",
       "      <td>0.873</td>\n",
       "      <td>22.0</td>\n",
       "      <td>2.227</td>\n",
       "      <td>0.752</td>\n",
       "    </tr>\n",
       "    <tr>\n",
       "      <th>2</th>\n",
       "      <td>66.0</td>\n",
       "      <td>1.273</td>\n",
       "      <td>0.904</td>\n",
       "      <td>66.0</td>\n",
       "      <td>2.667</td>\n",
       "      <td>0.536</td>\n",
       "    </tr>\n",
       "  </tbody>\n",
       "</table>\n",
       "</div>"
      ],
      "text/plain": [
       "                             pre                main              \n",
       "                             len   mean    std   len   mean    std\n",
       "variable      CVS_levels_3                                        \n",
       "Area          0             64.0  1.109  0.758  64.0  2.016  0.654\n",
       "              1             19.0  1.368  0.761  19.0  2.263  0.653\n",
       "              2             65.0  1.323  0.903  65.0  2.554  0.685\n",
       "Concentration 0             52.0  1.288  0.667  52.0  2.096  0.569\n",
       "              1             22.0  1.318  0.995  22.0  2.227  0.685\n",
       "              2             74.0  1.324  0.813  74.0  2.649  0.584\n",
       "Separation    0             69.0  1.290  0.788  69.0  2.130  0.616\n",
       "              1             15.0  1.333  0.816  15.0  1.867  0.640\n",
       "              2             64.0  1.359  0.804  64.0  2.328  0.736\n",
       "Width         0             60.0  0.767  0.647  60.0  1.967  0.802\n",
       "              1             22.0  1.000  0.873  22.0  2.227  0.752\n",
       "              2             66.0  1.273  0.904  66.0  2.667  0.536"
      ]
     },
     "execution_count": 37,
     "metadata": {},
     "output_type": "execute_result"
    }
   ],
   "source": [
    "d = pd.pivot_table(data, values=['pre','main'], index=['variable','CVS_levels_3'],aggfunc=(len,np.mean, np.std))\n",
    "# e= pd.pivot_table(data, values=['pre','main'], index=['variable','CVS_graph_3'],aggfunc=(np.mean, np.std))\n",
    "d"
   ]
  },
  {
   "cell_type": "code",
   "execution_count": 38,
   "metadata": {},
   "outputs": [
    {
     "data": {
      "text/html": [
       "<div>\n",
       "<table border=\"1\" class=\"dataframe\">\n",
       "  <thead>\n",
       "    <tr style=\"text-align: right;\">\n",
       "      <th></th>\n",
       "      <th>number_points_table</th>\n",
       "      <th>number_points_graph</th>\n",
       "    </tr>\n",
       "  </thead>\n",
       "  <tbody>\n",
       "    <tr>\n",
       "      <th>count</th>\n",
       "      <td>592.000</td>\n",
       "      <td>592.000</td>\n",
       "    </tr>\n",
       "    <tr>\n",
       "      <th>mean</th>\n",
       "      <td>3.949</td>\n",
       "      <td>3.014</td>\n",
       "    </tr>\n",
       "    <tr>\n",
       "      <th>std</th>\n",
       "      <td>3.738</td>\n",
       "      <td>3.756</td>\n",
       "    </tr>\n",
       "    <tr>\n",
       "      <th>min</th>\n",
       "      <td>0.000</td>\n",
       "      <td>0.000</td>\n",
       "    </tr>\n",
       "    <tr>\n",
       "      <th>25%</th>\n",
       "      <td>0.000</td>\n",
       "      <td>0.000</td>\n",
       "    </tr>\n",
       "    <tr>\n",
       "      <th>50%</th>\n",
       "      <td>3.000</td>\n",
       "      <td>0.000</td>\n",
       "    </tr>\n",
       "    <tr>\n",
       "      <th>75%</th>\n",
       "      <td>6.000</td>\n",
       "      <td>5.000</td>\n",
       "    </tr>\n",
       "    <tr>\n",
       "      <th>max</th>\n",
       "      <td>23.000</td>\n",
       "      <td>23.000</td>\n",
       "    </tr>\n",
       "  </tbody>\n",
       "</table>\n",
       "</div>"
      ],
      "text/plain": [
       "       number_points_table  number_points_graph\n",
       "count              592.000              592.000\n",
       "mean                 3.949                3.014\n",
       "std                  3.738                3.756\n",
       "min                  0.000                0.000\n",
       "25%                  0.000                0.000\n",
       "50%                  3.000                0.000\n",
       "75%                  6.000                5.000\n",
       "max                 23.000               23.000"
      ]
     },
     "execution_count": 38,
     "metadata": {},
     "output_type": "execute_result"
    }
   ],
   "source": [
    "data[['number_points_table', 'number_points_graph']].describe()"
   ]
  },
  {
   "cell_type": "markdown",
   "metadata": {
    "hideCode": true,
    "hidePrompt": true
   },
   "source": [
    "# Does using strategy help student learn?"
   ]
  },
  {
   "cell_type": "markdown",
   "metadata": {
    "hideCode": true,
    "hidePrompt": true
   },
   "source": [
    "## Using different levels of CVS and learning"
   ]
  },
  {
   "cell_type": "code",
   "execution_count": 39,
   "metadata": {},
   "outputs": [
    {
     "data": {
      "text/html": [
       "<div>\n",
       "<table border=\"1\" class=\"dataframe\">\n",
       "  <thead>\n",
       "    <tr style=\"text-align: right;\">\n",
       "      <th></th>\n",
       "      <th>sid</th>\n",
       "      <th>variable</th>\n",
       "      <th>pre</th>\n",
       "      <th>main</th>\n",
       "      <th>sim</th>\n",
       "      <th>CVS_table_2</th>\n",
       "      <th>CVS_graph_2</th>\n",
       "      <th>CVS_table_3</th>\n",
       "      <th>CVS_graph_3</th>\n",
       "      <th>CVS_table_4</th>\n",
       "      <th>...</th>\n",
       "      <th>use_graph</th>\n",
       "      <th>level_experience_sims</th>\n",
       "      <th>experience_undergrad_labs</th>\n",
       "      <th>used_similar_sim_L</th>\n",
       "      <th>used_similar_sim_C</th>\n",
       "      <th>used_similar_sim</th>\n",
       "      <th>CVS_levels_2</th>\n",
       "      <th>CVS_levels_3</th>\n",
       "      <th>CVS_levels_4</th>\n",
       "      <th>CVS_levels_5</th>\n",
       "    </tr>\n",
       "  </thead>\n",
       "  <tbody>\n",
       "    <tr>\n",
       "      <th>0</th>\n",
       "      <td>10127163</td>\n",
       "      <td>Concentration</td>\n",
       "      <td>1.0</td>\n",
       "      <td>3.0</td>\n",
       "      <td>L</td>\n",
       "      <td>1</td>\n",
       "      <td>1</td>\n",
       "      <td>1</td>\n",
       "      <td>1</td>\n",
       "      <td>1</td>\n",
       "      <td>...</td>\n",
       "      <td>1</td>\n",
       "      <td>1</td>\n",
       "      <td>1</td>\n",
       "      <td>0.0</td>\n",
       "      <td>0.0</td>\n",
       "      <td>0.0</td>\n",
       "      <td>2</td>\n",
       "      <td>2</td>\n",
       "      <td>2</td>\n",
       "      <td>2</td>\n",
       "    </tr>\n",
       "    <tr>\n",
       "      <th>1</th>\n",
       "      <td>10232160</td>\n",
       "      <td>Concentration</td>\n",
       "      <td>1.0</td>\n",
       "      <td>1.0</td>\n",
       "      <td>L</td>\n",
       "      <td>1</td>\n",
       "      <td>1</td>\n",
       "      <td>1</td>\n",
       "      <td>1</td>\n",
       "      <td>1</td>\n",
       "      <td>...</td>\n",
       "      <td>1</td>\n",
       "      <td>1</td>\n",
       "      <td>1</td>\n",
       "      <td>1.0</td>\n",
       "      <td>0.0</td>\n",
       "      <td>1.0</td>\n",
       "      <td>2</td>\n",
       "      <td>2</td>\n",
       "      <td>2</td>\n",
       "      <td>0</td>\n",
       "    </tr>\n",
       "    <tr>\n",
       "      <th>2</th>\n",
       "      <td>10537160</td>\n",
       "      <td>Concentration</td>\n",
       "      <td>1.0</td>\n",
       "      <td>2.0</td>\n",
       "      <td>L</td>\n",
       "      <td>1</td>\n",
       "      <td>0</td>\n",
       "      <td>1</td>\n",
       "      <td>0</td>\n",
       "      <td>0</td>\n",
       "      <td>...</td>\n",
       "      <td>0</td>\n",
       "      <td>1</td>\n",
       "      <td>1</td>\n",
       "      <td>1.0</td>\n",
       "      <td>0.0</td>\n",
       "      <td>1.0</td>\n",
       "      <td>1</td>\n",
       "      <td>1</td>\n",
       "      <td>0</td>\n",
       "      <td>0</td>\n",
       "    </tr>\n",
       "    <tr>\n",
       "      <th>3</th>\n",
       "      <td>10375163</td>\n",
       "      <td>Concentration</td>\n",
       "      <td>0.0</td>\n",
       "      <td>2.0</td>\n",
       "      <td>L</td>\n",
       "      <td>1</td>\n",
       "      <td>0</td>\n",
       "      <td>1</td>\n",
       "      <td>0</td>\n",
       "      <td>1</td>\n",
       "      <td>...</td>\n",
       "      <td>1</td>\n",
       "      <td>2</td>\n",
       "      <td>1</td>\n",
       "      <td>0.0</td>\n",
       "      <td>0.0</td>\n",
       "      <td>0.0</td>\n",
       "      <td>1</td>\n",
       "      <td>1</td>\n",
       "      <td>1</td>\n",
       "      <td>1</td>\n",
       "    </tr>\n",
       "    <tr>\n",
       "      <th>4</th>\n",
       "      <td>10420167</td>\n",
       "      <td>Concentration</td>\n",
       "      <td>1.0</td>\n",
       "      <td>3.0</td>\n",
       "      <td>L</td>\n",
       "      <td>1</td>\n",
       "      <td>1</td>\n",
       "      <td>1</td>\n",
       "      <td>1</td>\n",
       "      <td>1</td>\n",
       "      <td>...</td>\n",
       "      <td>1</td>\n",
       "      <td>3</td>\n",
       "      <td>1</td>\n",
       "      <td>0.0</td>\n",
       "      <td>0.0</td>\n",
       "      <td>0.0</td>\n",
       "      <td>2</td>\n",
       "      <td>2</td>\n",
       "      <td>2</td>\n",
       "      <td>2</td>\n",
       "    </tr>\n",
       "  </tbody>\n",
       "</table>\n",
       "<p>5 rows × 27 columns</p>\n",
       "</div>"
      ],
      "text/plain": [
       "        sid       variable  pre  main sim  CVS_table_2  CVS_graph_2  CVS_table_3  CVS_graph_3  \\\n",
       "0  10127163  Concentration  1.0   3.0   L            1            1            1            1   \n",
       "1  10232160  Concentration  1.0   1.0   L            1            1            1            1   \n",
       "2  10537160  Concentration  1.0   2.0   L            1            0            1            0   \n",
       "3  10375163  Concentration  0.0   2.0   L            1            0            1            0   \n",
       "4  10420167  Concentration  1.0   3.0   L            1            1            1            1   \n",
       "\n",
       "   CVS_table_4      ...       use_graph  level_experience_sims  experience_undergrad_labs  \\\n",
       "0            1      ...               1                      1                          1   \n",
       "1            1      ...               1                      1                          1   \n",
       "2            0      ...               0                      1                          1   \n",
       "3            1      ...               1                      2                          1   \n",
       "4            1      ...               1                      3                          1   \n",
       "\n",
       "   used_similar_sim_L  used_similar_sim_C  used_similar_sim  CVS_levels_2  CVS_levels_3  \\\n",
       "0                 0.0                 0.0               0.0             2             2   \n",
       "1                 1.0                 0.0               1.0             2             2   \n",
       "2                 1.0                 0.0               1.0             1             1   \n",
       "3                 0.0                 0.0               0.0             1             1   \n",
       "4                 0.0                 0.0               0.0             2             2   \n",
       "\n",
       "   CVS_levels_4  CVS_levels_5  \n",
       "0             2             2  \n",
       "1             2             0  \n",
       "2             0             0  \n",
       "3             1             1  \n",
       "4             2             2  \n",
       "\n",
       "[5 rows x 27 columns]"
      ]
     },
     "execution_count": 39,
     "metadata": {},
     "output_type": "execute_result"
    }
   ],
   "source": [
    "data.head()"
   ]
  },
  {
   "cell_type": "markdown",
   "metadata": {},
   "source": [
    "We have 8 control variables:\n",
    "* sim_index\n",
    "* sim\n",
    "* variable\n",
    "* pre\n",
    "* level_experience_sims\n",
    "* experience_undergrad_labs\n",
    "* used_similar_sim\n",
    "* use_graph\n",
    "\n",
    "We look at all interactions with CVS levels given our RQ are related to CVS usage:\n",
    "* variable*CVS_levels\n",
    "* pre*CVS_levels\n",
    "* sim_index*CVS_levels\n",
    "* sim (exclude becasue already within variable?)\n",
    "* C(sid)\n",
    "* level_experience_sims\n",
    "* experience_undergrad_labs\n",
    "* used_similar_sim\n",
    "* use_graph\n",
    "\n",
    "\n",
    "*NOTE:* we don't include variable and sim in the same model"
   ]
  },
  {
   "cell_type": "markdown",
   "metadata": {},
   "source": [
    "We first remove students with max pre for a certain variable"
   ]
  },
  {
   "cell_type": "code",
   "execution_count": 40,
   "metadata": {},
   "outputs": [
    {
     "name": "stdout",
     "output_type": "stream",
     "text": [
      "(592, 27)\n",
      "(553, 27)\n",
      "(551, 27)\n"
     ]
    }
   ],
   "source": [
    "print data.shape\n",
    "filtered_maxpre_data = data.copy()\n",
    "filtered_maxpre_data = filtered_maxpre_data[filtered_maxpre_data['pre']<3]\n",
    "#remove student who didn't do CVS-explore for 2 variables\n",
    "print filtered_maxpre_data.shape\n",
    "# print filtered_maxpre_data.describe()\n",
    "filtered_maxpre_data = filtered_maxpre_data[(filtered_maxpre_data['sid']!= 11384795)|(filtered_maxpre_data['variable'].isin(['Width','Concentration']))]\n",
    "# print filtered_maxpre_data[filtered_maxpre_data['sid']==11384795]\n",
    "# filtered_maxpre_data = filtered_maxpre_data[(filtered_maxpre_data['sid']!= 11384795)&(filtered_maxpre_data['variable']=='Separation')]\n",
    "print filtered_maxpre_data.shape\n",
    "# print filtered_maxpre_data.describe()"
   ]
  },
  {
   "cell_type": "code",
   "execution_count": null,
   "metadata": {
    "collapsed": true
   },
   "outputs": [],
   "source": []
  },
  {
   "cell_type": "code",
   "execution_count": 41,
   "metadata": {
    "collapsed": true
   },
   "outputs": [],
   "source": [
    "# covariates_for_interaction_model = \" + sim_index + C(sid) + level_experience_sims + experience_undergrad_labs + used_similar_sim\"\n",
    "covariates_for_parsimonious_model = \"+ variable + pre + sim_index + C(sid) + level_experience_sims + experience_undergrad_labs + used_similar_sim\""
   ]
  },
  {
   "cell_type": "code",
   "execution_count": 42,
   "metadata": {
    "scrolled": false
   },
   "outputs": [
    {
     "name": "stdout",
     "output_type": "stream",
     "text": [
      "\n",
      "\n",
      "Model:  main ~ C(CVS_levels_3) + variable + pre + sim_index + C(sid) + level_experience_sims + experience_undergrad_labs + used_similar_sim\n",
      "\n",
      "Anova table using type 3\n",
      "\n",
      "                            sum_sq     df        F     PR(>F)     eta_sq   omega_sq\n",
      "Intercept                   31.492    1.0  118.682  2.419e-24  9.747e-02  9.657e-02\n",
      "C(CVS_levels_3)              5.499    2.0   10.362  4.112e-05  1.702e-02  1.537e-02\n",
      "variable                     1.995    3.0    2.507  5.863e-02  6.176e-03  3.709e-03\n",
      "C(sid)                     175.163  147.0    4.491  1.052e-32  5.422e-01  4.211e-01\n",
      "pre                          0.028    1.0    0.106  7.448e-01  8.713e-05 -7.336e-04\n",
      "sim_index                    3.019    1.0   11.378  8.165e-04  9.345e-03  8.517e-03\n",
      "level_experience_sims        0.413    1.0    1.556  2.130e-01  1.278e-03  4.564e-04\n",
      "experience_undergrad_labs    0.623    1.0    2.348  1.263e-01  1.928e-03  1.106e-03\n",
      "used_similar_sim             0.032    1.0    0.120  7.287e-01  9.893e-05 -7.218e-04\n",
      "Residual                   104.811  395.0      NaN        NaN        NaN        NaN\n",
      "\n",
      "Here is the linear model with coefficients and confidence intervals (removed stats for individual student ids):\n",
      "\n",
      "                            OLS Regression Results                            \n",
      "==============================================================================\n",
      "Dep. Variable:                   main   R-squared:                       0.598\n",
      "Model:                            OLS   Adj. R-squared:                  0.440\n",
      "Method:                 Least Squares   F-statistic:                     3.790\n",
      "Date:                Tue, 10 Apr 2018   Prob (F-statistic):           1.21e-26\n",
      "Time:                        14:47:28   Log-Likelihood:                -324.62\n",
      "No. Observations:                 551   AIC:                             961.2\n",
      "Df Residuals:                     395   BIC:                             1634.\n",
      "Df Model:                         155                                         \n",
      "Covariance Type:            nonrobust                                         \n",
      "=============================================================================================\n",
      "                                coef    std err          t      P>|t|      [95.0% Conf. Int.]\n",
      "---------------------------------------------------------------------------------------------\n",
      "Intercept                     2.0294      0.186     10.894      0.000         1.663     2.396\n",
      "C(CVS_levels_3)[T.1]         -0.0356      0.095     -0.374      0.709        -0.223     0.152\n",
      "C(CVS_levels_3)[T.2]          0.3539      0.085      4.147      0.000         0.186     0.522\n",
      "variable[T.Concentration]     0.1207      0.067      1.799      0.073        -0.011     0.253\n",
      "variable[T.Separation]       -0.0621      0.063     -0.986      0.325        -0.186     0.062\n",
      "variable[T.Width]             0.0410      0.066      0.616      0.538        -0.090     0.172\n",
      "pre                          -0.0150      0.046     -0.326      0.745        -0.106     0.076\n",
      "sim_index                     0.1572      0.047      3.373      0.001         0.066     0.249\n",
      "level_experience_sims        -0.2512      0.201     -1.247      0.213        -0.647     0.145\n",
      "experience_undergrad_labs     0.6448      0.421      1.532      0.126        -0.183     1.472\n",
      "used_similar_sim             -0.0307      0.089     -0.347      0.729        -0.205     0.143\n",
      "==============================================================================\n",
      "Omnibus:                       72.336   Durbin-Watson:                   1.938\n",
      "Prob(Omnibus):                  0.000   Jarque-Bera (JB):              220.656\n",
      "Skew:                          -0.614   Prob(JB):                     1.22e-48\n",
      "Kurtosis:                       5.846   Cond. No.                     8.78e+15\n",
      "==============================================================================\n",
      "\n",
      "Warnings:\n",
      "[1] Standard Errors assume that the covariance matrix of the errors is correctly specified.\n",
      "[2] The smallest eigenvalue is 6.81e-29. This might indicate that there are\n",
      "strong multicollinearity problems or that the design matrix is singular.\n"
     ]
    }
   ],
   "source": [
    "formula = 'main ~ C(CVS_levels_3) '+ covariates_for_parsimonious_model\n",
    "model = ols(formula, filtered_maxpre_data).fit()\n",
    "print \"\\n\\nModel: \",formula\n",
    "aov_table = anova_lm(model, typ=3)\n",
    "eta_squared(aov_table)\n",
    "omega_squared(aov_table)\n",
    "print \"\\nAnova table using type 3\\n\"\n",
    "print(aov_table)\n",
    "print \"\\nHere is the linear model with coefficients and confidence intervals (removed stats for individual student ids):\\n\"\n",
    "print clean_summary(model)"
   ]
  },
  {
   "cell_type": "code",
   "execution_count": 43,
   "metadata": {},
   "outputs": [
    {
     "name": "stdout",
     "output_type": "stream",
     "text": [
      "\\begin{tabular}{lrrr}\n",
      "\\hline\n",
      " Intercept                 & 118.68 &   0    &   0.1  \\\\\n",
      " sim\\_index                 &  11.38 &   0    &   0.01 \\\\\n",
      " C(CVS\\_levels\\_3)           &  10.36 &   0    &   0.02 \\\\\n",
      " C(sid)                    &   4.49 &   0    &   0.54 \\\\\n",
      " variable                  &   2.51 &   0.06 &   0.01 \\\\\n",
      " experience\\_undergrad\\_labs &   2.35 &   0.13 &   0    \\\\\n",
      " level\\_experience\\_sims     &   1.56 &   0.21 &   0    \\\\\n",
      " used\\_similar\\_sim          &   0.12 &   0.73 &   0    \\\\\n",
      " pre                       &   0.11 &   0.74 &   0    \\\\\n",
      " Residual                  & nan    & nan    & nan    \\\\\n",
      "\\hline\n",
      "\\end{tabular}\n"
     ]
    }
   ],
   "source": [
    "# aov_table = aov_table.round({'F': 2,'eta_sq':2})\n",
    "# print tabulate(aov_table[['F','PR(>F)','eta_sq']].sort_values('F',ascending =False),tablefmt='latex')\n",
    "aov_table = aov_table.round({'F': 2, 'PR(>F)': 2,'eta_sq':2})\n",
    "print tabulate(aov_table[['F','PR(>F)','eta_sq']].sort_values('F',ascending =False),tablefmt='latex')"
   ]
  },
  {
   "cell_type": "markdown",
   "metadata": {},
   "source": [
    "# print(model.summary().as_latex())"
   ]
  },
  {
   "cell_type": "markdown",
   "metadata": {},
   "source": [
    "## Sensitivity analysis on CVS criteria using BIC"
   ]
  },
  {
   "cell_type": "code",
   "execution_count": 44,
   "metadata": {
    "scrolled": true
   },
   "outputs": [
    {
     "name": "stdout",
     "output_type": "stream",
     "text": [
      "\n",
      "\n",
      "Model:  main ~ C(CVS_levels_2)+ variable + pre + sim_index + C(sid) + level_experience_sims + experience_undergrad_labs + used_similar_sim\n",
      "\n",
      "Anova table using type 3\n",
      "\n",
      "                            sum_sq     df        F     PR(>F)     eta_sq   omega_sq\n",
      "Intercept                   28.808    1.0  108.580  1.265e-22  9.069e-02  8.978e-02\n",
      "C(CVS_levels_2)              5.511    2.0   10.387  4.015e-05  1.735e-02  1.567e-02\n",
      "variable                     2.294    3.0    2.882  3.571e-02  7.221e-03  4.711e-03\n",
      "C(sid)                     171.641  147.0    4.401  7.315e-32  5.403e-01  4.172e-01\n",
      "pre                          0.053    1.0    0.201  6.544e-01  1.676e-04 -6.671e-04\n",
      "sim_index                    3.357    1.0   12.653  4.206e-04  1.057e-02  9.724e-03\n",
      "level_experience_sims        0.447    1.0    1.686  1.949e-01  1.408e-03  5.724e-04\n",
      "experience_undergrad_labs    0.704    1.0    2.654  1.041e-01  2.216e-03  1.380e-03\n",
      "used_similar_sim             0.038    1.0    0.145  7.037e-01  1.210e-04 -7.137e-04\n",
      "Residual                   104.798  395.0      NaN        NaN        NaN        NaN\n",
      "\n",
      "Here is the linear model with coefficients and confidence intervals (removed stats for individual student ids):\n",
      "\n",
      "                            OLS Regression Results                            \n",
      "==============================================================================\n",
      "Dep. Variable:                   main   R-squared:                       0.598\n",
      "Model:                            OLS   Adj. R-squared:                  0.440\n",
      "Method:                 Least Squares   F-statistic:                     3.791\n",
      "Date:                Tue, 10 Apr 2018   Prob (F-statistic):           1.19e-26\n",
      "Time:                        14:47:28   Log-Likelihood:                -324.59\n",
      "No. Observations:                 551   AIC:                             961.2\n",
      "Df Residuals:                     395   BIC:                             1634.\n",
      "Df Model:                         155                                         \n",
      "Covariance Type:            nonrobust                                         \n",
      "=============================================================================================\n",
      "                                coef    std err          t      P>|t|      [95.0% Conf. Int.]\n",
      "---------------------------------------------------------------------------------------------\n",
      "Intercept                     1.9716      0.189     10.420      0.000         1.600     2.344\n",
      "C(CVS_levels_2)[T.1]          0.0730      0.090      0.807      0.420        -0.105     0.251\n",
      "C(CVS_levels_2)[T.2]          0.3733      0.084      4.439      0.000         0.208     0.539\n",
      "variable[T.Concentration]     0.1326      0.067      1.984      0.048         0.001     0.264\n",
      "variable[T.Separation]       -0.0615      0.063     -0.976      0.330        -0.185     0.062\n",
      "variable[T.Width]             0.0447      0.066      0.672      0.502        -0.086     0.175\n",
      "pre                          -0.0206      0.046     -0.448      0.654        -0.111     0.070\n",
      "sim_index                     0.1651      0.046      3.557      0.000         0.074     0.256\n",
      "level_experience_sims        -0.2612      0.201     -1.298      0.195        -0.657     0.134\n",
      "experience_undergrad_labs     0.6832      0.419      1.629      0.104        -0.141     1.508\n",
      "used_similar_sim             -0.0337      0.089     -0.381      0.704        -0.208     0.140\n",
      "==============================================================================\n",
      "Omnibus:                       70.541   Durbin-Watson:                   1.923\n",
      "Prob(Omnibus):                  0.000   Jarque-Bera (JB):              205.656\n",
      "Skew:                          -0.613   Prob(JB):                     2.20e-45\n",
      "Kurtosis:                       5.730   Cond. No.                     8.49e+15\n",
      "==============================================================================\n",
      "\n",
      "Warnings:\n",
      "[1] Standard Errors assume that the covariance matrix of the errors is correctly specified.\n",
      "[2] The smallest eigenvalue is 7.33e-29. This might indicate that there are\n",
      "strong multicollinearity problems or that the design matrix is singular.\n",
      "\n",
      "\n",
      "Model:  main ~ C(CVS_levels_3)+ variable + pre + sim_index + C(sid) + level_experience_sims + experience_undergrad_labs + used_similar_sim\n",
      "\n",
      "Anova table using type 3\n",
      "\n",
      "                            sum_sq     df        F     PR(>F)     eta_sq   omega_sq\n",
      "Intercept                   31.492    1.0  118.682  2.419e-24  9.747e-02  9.657e-02\n",
      "C(CVS_levels_3)              5.499    2.0   10.362  4.112e-05  1.702e-02  1.537e-02\n",
      "variable                     1.995    3.0    2.507  5.863e-02  6.176e-03  3.709e-03\n",
      "C(sid)                     175.163  147.0    4.491  1.052e-32  5.422e-01  4.211e-01\n",
      "pre                          0.028    1.0    0.106  7.448e-01  8.713e-05 -7.336e-04\n",
      "sim_index                    3.019    1.0   11.378  8.165e-04  9.345e-03  8.517e-03\n",
      "level_experience_sims        0.413    1.0    1.556  2.130e-01  1.278e-03  4.564e-04\n",
      "experience_undergrad_labs    0.623    1.0    2.348  1.263e-01  1.928e-03  1.106e-03\n",
      "used_similar_sim             0.032    1.0    0.120  7.287e-01  9.893e-05 -7.218e-04\n",
      "Residual                   104.811  395.0      NaN        NaN        NaN        NaN\n",
      "\n",
      "Here is the linear model with coefficients and confidence intervals (removed stats for individual student ids):\n",
      "\n",
      "                            OLS Regression Results                            \n",
      "==============================================================================\n",
      "Dep. Variable:                   main   R-squared:                       0.598\n",
      "Model:                            OLS   Adj. R-squared:                  0.440\n",
      "Method:                 Least Squares   F-statistic:                     3.790\n",
      "Date:                Tue, 10 Apr 2018   Prob (F-statistic):           1.21e-26\n",
      "Time:                        14:47:28   Log-Likelihood:                -324.62\n",
      "No. Observations:                 551   AIC:                             961.2\n",
      "Df Residuals:                     395   BIC:                             1634.\n",
      "Df Model:                         155                                         \n",
      "Covariance Type:            nonrobust                                         \n",
      "=============================================================================================\n",
      "                                coef    std err          t      P>|t|      [95.0% Conf. Int.]\n",
      "---------------------------------------------------------------------------------------------\n",
      "Intercept                     2.0294      0.186     10.894      0.000         1.663     2.396\n",
      "C(CVS_levels_3)[T.1]         -0.0356      0.095     -0.374      0.709        -0.223     0.152\n",
      "C(CVS_levels_3)[T.2]          0.3539      0.085      4.147      0.000         0.186     0.522\n",
      "variable[T.Concentration]     0.1207      0.067      1.799      0.073        -0.011     0.253\n",
      "variable[T.Separation]       -0.0621      0.063     -0.986      0.325        -0.186     0.062\n",
      "variable[T.Width]             0.0410      0.066      0.616      0.538        -0.090     0.172\n",
      "pre                          -0.0150      0.046     -0.326      0.745        -0.106     0.076\n",
      "sim_index                     0.1572      0.047      3.373      0.001         0.066     0.249\n",
      "level_experience_sims        -0.2512      0.201     -1.247      0.213        -0.647     0.145\n",
      "experience_undergrad_labs     0.6448      0.421      1.532      0.126        -0.183     1.472\n",
      "used_similar_sim             -0.0307      0.089     -0.347      0.729        -0.205     0.143\n",
      "==============================================================================\n",
      "Omnibus:                       72.336   Durbin-Watson:                   1.938\n",
      "Prob(Omnibus):                  0.000   Jarque-Bera (JB):              220.656\n",
      "Skew:                          -0.614   Prob(JB):                     1.22e-48\n",
      "Kurtosis:                       5.846   Cond. No.                     8.78e+15\n",
      "==============================================================================\n",
      "\n",
      "Warnings:\n",
      "[1] Standard Errors assume that the covariance matrix of the errors is correctly specified.\n",
      "[2] The smallest eigenvalue is 6.81e-29. This might indicate that there are\n",
      "strong multicollinearity problems or that the design matrix is singular.\n",
      "\n",
      "\n",
      "Model:  main ~ C(CVS_levels_4)+ variable + pre + sim_index + C(sid) + level_experience_sims + experience_undergrad_labs + used_similar_sim\n",
      "\n",
      "Anova table using type 3\n",
      "\n",
      "                            sum_sq     df        F     PR(>F)     eta_sq   omega_sq\n",
      "Intercept                   32.006    1.0  119.725  1.616e-24  9.841e-02  9.751e-02\n",
      "C(CVS_levels_4)              4.715    2.0    8.819  1.791e-04  1.450e-02  1.284e-02\n",
      "variable                     2.002    3.0    2.496  5.948e-02  6.154e-03  3.685e-03\n",
      "C(sid)                     176.762  147.0    4.498  8.979e-33  5.435e-01  4.223e-01\n",
      "pre                          0.036    1.0    0.135  7.136e-01  1.109e-04 -7.105e-04\n",
      "sim_index                    3.057    1.0   11.437  7.917e-04  9.401e-03  8.572e-03\n",
      "level_experience_sims        0.412    1.0    1.542  2.151e-01  1.267e-03  4.450e-04\n",
      "experience_undergrad_labs    0.617    1.0    2.309  1.294e-01  1.898e-03  1.075e-03\n",
      "used_similar_sim             0.019    1.0    0.071  7.897e-01  5.854e-05 -7.628e-04\n",
      "Residual                   105.595  395.0      NaN        NaN        NaN        NaN\n",
      "\n",
      "Here is the linear model with coefficients and confidence intervals (removed stats for individual student ids):\n",
      "\n",
      "                            OLS Regression Results                            \n",
      "==============================================================================\n",
      "Dep. Variable:                   main   R-squared:                       0.595\n",
      "Model:                            OLS   Adj. R-squared:                  0.436\n",
      "Method:                 Least Squares   F-statistic:                     3.743\n",
      "Date:                Tue, 10 Apr 2018   Prob (F-statistic):           3.61e-26\n",
      "Time:                        14:47:28   Log-Likelihood:                -326.67\n",
      "No. Observations:                 551   AIC:                             965.3\n",
      "Df Residuals:                     395   BIC:                             1638.\n",
      "Df Model:                         155                                         \n",
      "Covariance Type:            nonrobust                                         \n",
      "=============================================================================================\n",
      "                                coef    std err          t      P>|t|      [95.0% Conf. Int.]\n",
      "---------------------------------------------------------------------------------------------\n",
      "Intercept                     2.0384      0.186     10.942      0.000         1.672     2.405\n",
      "C(CVS_levels_4)[T.1]          0.0044      0.123      0.036      0.972        -0.238     0.247\n",
      "C(CVS_levels_4)[T.2]          0.3520      0.089      3.976      0.000         0.178     0.526\n",
      "variable[T.Concentration]     0.1162      0.068      1.716      0.087        -0.017     0.249\n",
      "variable[T.Separation]       -0.0683      0.063     -1.081      0.281        -0.192     0.056\n",
      "variable[T.Width]             0.0351      0.067      0.522      0.602        -0.097     0.168\n",
      "pre                          -0.0170      0.046     -0.367      0.714        -0.108     0.074\n",
      "sim_index                     0.1583      0.047      3.382      0.001         0.066     0.250\n",
      "level_experience_sims        -0.2511      0.202     -1.242      0.215        -0.649     0.146\n",
      "experience_undergrad_labs     0.6437      0.424      1.520      0.129        -0.189     1.477\n",
      "used_similar_sim             -0.0238      0.089     -0.267      0.790        -0.199     0.152\n",
      "==============================================================================\n",
      "Omnibus:                       70.004   Durbin-Watson:                   1.939\n",
      "Prob(Omnibus):                  0.000   Jarque-Bera (JB):              209.620\n",
      "Skew:                          -0.599   Prob(JB):                     3.03e-46\n",
      "Kurtosis:                       5.774   Cond. No.                     7.90e+15\n",
      "==============================================================================\n",
      "\n",
      "Warnings:\n",
      "[1] Standard Errors assume that the covariance matrix of the errors is correctly specified.\n",
      "[2] The smallest eigenvalue is 8.39e-29. This might indicate that there are\n",
      "strong multicollinearity problems or that the design matrix is singular.\n",
      "\n",
      "\n",
      "Model:  main ~ C(CVS_levels_5)+ variable + pre + sim_index + C(sid) + level_experience_sims + experience_undergrad_labs + used_similar_sim\n",
      "\n",
      "Anova table using type 3\n",
      "\n",
      "                            sum_sq     df        F     PR(>F)     eta_sq   omega_sq\n",
      "Intercept                   31.962    1.0  116.138  6.504e-24  9.631e-02  9.540e-02\n",
      "C(CVS_levels_5)              1.603    2.0    2.912  5.554e-02  4.829e-03  3.168e-03\n",
      "variable                     2.259    3.0    2.736  4.331e-02  6.807e-03  4.315e-03\n",
      "C(sid)                     181.894  147.0    4.496  9.360e-33  5.481e-01  4.258e-01\n",
      "pre                          0.003    1.0    0.009  9.231e-01  7.746e-06 -8.208e-04\n",
      "sim_index                    3.902    1.0   14.178  1.916e-04  1.176e-02  1.092e-02\n",
      "level_experience_sims        0.526    1.0    1.910  1.678e-01  1.584e-03  7.539e-04\n",
      "experience_undergrad_labs    0.953    1.0    3.461  6.356e-02  2.870e-03  2.039e-03\n",
      "used_similar_sim             0.067    1.0    0.245  6.210e-01  2.030e-04 -6.257e-04\n",
      "Residual                   108.707  395.0      NaN        NaN        NaN        NaN\n",
      "\n",
      "Here is the linear model with coefficients and confidence intervals (removed stats for individual student ids):\n",
      "\n",
      "                            OLS Regression Results                            \n",
      "==============================================================================\n",
      "Dep. Variable:                   main   R-squared:                       0.583\n",
      "Model:                            OLS   Adj. R-squared:                  0.419\n",
      "Method:                 Least Squares   F-statistic:                     3.563\n",
      "Date:                Tue, 10 Apr 2018   Prob (F-statistic):           2.42e-24\n",
      "Time:                        14:47:29   Log-Likelihood:                -334.68\n",
      "No. Observations:                 551   AIC:                             981.4\n",
      "Df Residuals:                     395   BIC:                             1654.\n",
      "Df Model:                         155                                         \n",
      "Covariance Type:            nonrobust                                         \n",
      "=============================================================================================\n",
      "                                coef    std err          t      P>|t|      [95.0% Conf. Int.]\n",
      "---------------------------------------------------------------------------------------------\n",
      "Intercept                     2.0377      0.189     10.777      0.000         1.666     2.409\n",
      "C(CVS_levels_5)[T.1]          0.0080      0.131      0.061      0.951        -0.249     0.265\n",
      "C(CVS_levels_5)[T.2]          0.1916      0.083      2.311      0.021         0.029     0.355\n",
      "variable[T.Concentration]     0.1281      0.069      1.857      0.064        -0.008     0.264\n",
      "variable[T.Separation]       -0.0677      0.064     -1.056      0.291        -0.194     0.058\n",
      "variable[T.Width]             0.0387      0.068      0.566      0.571        -0.096     0.173\n",
      "pre                          -0.0045      0.047     -0.097      0.923        -0.096     0.087\n",
      "sim_index                     0.1778      0.047      3.765      0.000         0.085     0.271\n",
      "level_experience_sims        -0.2840      0.205     -1.382      0.168        -0.688     0.120\n",
      "experience_undergrad_labs     0.7981      0.429      1.860      0.064        -0.045     1.641\n",
      "used_similar_sim             -0.0447      0.090     -0.495      0.621        -0.222     0.133\n",
      "==============================================================================\n",
      "Omnibus:                       66.566   Durbin-Watson:                   1.934\n",
      "Prob(Omnibus):                  0.000   Jarque-Bera (JB):              198.121\n",
      "Skew:                          -0.570   Prob(JB):                     9.52e-44\n",
      "Kurtosis:                       5.707   Cond. No.                     1.07e+16\n",
      "==============================================================================\n",
      "\n",
      "Warnings:\n",
      "[1] Standard Errors assume that the covariance matrix of the errors is correctly specified.\n",
      "[2] The smallest eigenvalue is 4.58e-29. This might indicate that there are\n",
      "strong multicollinearity problems or that the design matrix is singular.\n"
     ]
    }
   ],
   "source": [
    "for CVS in ['CVS_levels_2','CVS_levels_3','CVS_levels_4','CVS_levels_5']:\n",
    "    formula = 'main ~ C('+CVS+')' + covariates_for_parsimonious_model\n",
    "    model = ols(formula, filtered_maxpre_data).fit()\n",
    "    print \"\\n\\nModel: \",formula\n",
    "    aov_table = anova_lm(model, typ=3)\n",
    "    eta_squared(aov_table)\n",
    "    omega_squared(aov_table)\n",
    "    print \"\\nAnova table using type 3\\n\"\n",
    "    print(aov_table)\n",
    "    print \"\\nHere is the linear model with coefficients and confidence intervals (removed stats for individual student ids):\\n\"\n",
    "    print clean_summary(model)"
   ]
  },
  {
   "cell_type": "markdown",
   "metadata": {},
   "source": [
    "These results were produced using AOV of linear regression with Type III SS\n",
    "\n",
    "We think a threshold of 3 pts is stricks a balance between 1) measuring more deliberatness than 2 pts and 2) it is less stringent than using more points.\n",
    "\n",
    "Here are the AIC and BIC of the models (lower means better model controlling for number of parameters)\n",
    "\n",
    "\n",
    "    no interactions\n",
    "    #pts\tR^2\n",
    "    2\t\t0.449\n",
    "    3\t\t0.447\n",
    "    4\t\t0.443\n",
    "    5\t\t0.428\n",
    "\n",
    "None of these models are drastically different from each other, thought 5pts is definitely the worst\n",
    "\n",
    "We pick #pts = 3 and call it a day"
   ]
  },
  {
   "cell_type": "code",
   "execution_count": 45,
   "metadata": {},
   "outputs": [
    {
     "data": {
      "text/plain": [
       "array(['Concentration', 'Width', 'Area', 'Separation'], dtype=object)"
      ]
     },
     "execution_count": 45,
     "metadata": {},
     "output_type": "execute_result"
    }
   ],
   "source": [
    "data['variable'].unique()"
   ]
  },
  {
   "cell_type": "code",
   "execution_count": 46,
   "metadata": {},
   "outputs": [
    {
     "name": "stdout",
     "output_type": "stream",
     "text": [
      "\\begin{tabular}{llllll}\n",
      "\\hline\n",
      " Threshold & Concentration & Width & Area & Separation & \\$R\\^{}2\\$ \\\\\n",
      " 2         & 0.52          & 0.48  & 0.49 & 0.48       & 0.449 \\\\\n",
      " 3         & 0.5           & 0.45  & 0.44 & 0.43       & 0.447 \\\\\n",
      " 4         & 0.47          & 0.43  & 0.41 & 0.41       & 0.443 \\\\\n",
      " 5         & 0.39          & 0.32  & 0.31 & 0.32       & 0.428 \\\\\n",
      "\\hline\n",
      "\\end{tabular}\n"
     ]
    }
   ],
   "source": [
    "results = [['Threshold','Concentration ','Width ','Area ','Separation','$R^2$']]\n",
    "for t,r in zip([2,3,4,5],[0.449,0.447,0.443,0.428]):\n",
    "    res = [t]\n",
    "    res.extend([round(sum(data[data['variable']==v]['CVS_graph_'+str(t)])/float(N),2) for v in ['Concentration','Width','Area','Separation']])\n",
    "    res.append(r)\n",
    "    results.append(res)\n",
    "print tabulate(results,tablefmt='latex')"
   ]
  },
  {
   "cell_type": "markdown",
   "metadata": {},
   "source": [
    "### Models per variable"
   ]
  },
  {
   "cell_type": "code",
   "execution_count": 47,
   "metadata": {},
   "outputs": [
    {
     "name": "stdout",
     "output_type": "stream",
     "text": [
      "This plot needs to be redone with standard deviation bars and organized by sim, colored by level\n"
     ]
    },
    {
     "data": {
      "image/png": "[encoded data removed]",
      "text/plain": [
       "<matplotlib.figure.Figure at 0x1211e470>"
      ]
     },
     "metadata": {},
     "output_type": "display_data"
    }
   ],
   "source": [
    "per_variable = pd.pivot_table(filtered_maxpre_data, values=['main'], index=['variable','CVS_levels_3'],aggfunc=(np.mean))\n",
    "per_variable.plot(kind='bar')\n",
    "print \"This plot needs to be redone with standard deviation bars and organized by sim, colored by level\""
   ]
  },
  {
   "cell_type": "code",
   "execution_count": 48,
   "metadata": {
    "collapsed": true
   },
   "outputs": [],
   "source": [
    "covariates_for_variable_models = \" + pre + sim_index + level_experience_sims + experience_undergrad_labs + used_similar_sim + use_graph\""
   ]
  },
  {
   "cell_type": "code",
   "execution_count": 49,
   "metadata": {
    "hideCode": true,
    "hidePrompt": true,
    "scrolled": false
   },
   "outputs": [
    {
     "name": "stdout",
     "output_type": "stream",
     "text": [
      "__________________________________\n",
      "FOR VARIABLE  Width \n",
      "__________________________________\n",
      "\n",
      "\n",
      "Model:  main ~ C(CVS_levels_3) + pre + sim_index + level_experience_sims + experience_undergrad_labs + used_similar_sim + use_graph\n",
      "\n",
      "Anova table using type 3 errors\n",
      "\n",
      "                           sum_sq     df       F     PR(>F)     eta_sq  omega_sq\n",
      "Intercept                  20.425    1.0  42.688  1.276e-09  2.099e-01     0.204\n",
      "C(CVS_levels_3)            10.893    2.0  11.383  2.749e-05  1.119e-01     0.102\n",
      "pre                         0.055    1.0   0.115  7.353e-01  5.645e-04    -0.004\n",
      "sim_index                   1.125    1.0   2.351  1.276e-01  1.156e-02     0.007\n",
      "level_experience_sims       0.033    1.0   0.068  7.940e-01  3.366e-04    -0.005\n",
      "experience_undergrad_labs   0.765    1.0   1.599  2.082e-01  7.863e-03     0.003\n",
      "used_similar_sim            0.748    1.0   1.564  2.134e-01  7.687e-03     0.003\n",
      "use_graph                   0.115    1.0   0.239  6.254e-01  1.177e-03    -0.004\n",
      "Residual                   63.159  132.0     NaN        NaN        NaN       NaN\n",
      "                            OLS Regression Results                            \n",
      "==============================================================================\n",
      "Dep. Variable:                   main   R-squared:                       0.221\n",
      "Model:                            OLS   Adj. R-squared:                  0.174\n",
      "Method:                 Least Squares   F-statistic:                     4.681\n",
      "Date:                Tue, 10 Apr 2018   Prob (F-statistic):           4.61e-05\n",
      "Time:                        14:47:29   Log-Likelihood:                -143.45\n",
      "No. Observations:                 141   AIC:                             304.9\n",
      "Df Residuals:                     132   BIC:                             331.4\n",
      "Df Model:                           8                                         \n",
      "Covariance Type:            nonrobust                                         \n",
      "=============================================================================================\n",
      "                                coef    std err          t      P>|t|      [95.0% Conf. Int.]\n",
      "---------------------------------------------------------------------------------------------\n",
      "Intercept                     1.8347      0.281      6.534      0.000         1.279     2.390\n",
      "C(CVS_levels_3)[T.1]          0.2871      0.182      1.574      0.118        -0.074     0.648\n",
      "C(CVS_levels_3)[T.2]          0.6856      0.144      4.761      0.000         0.401     0.970\n",
      "pre                           0.0284      0.084      0.339      0.735        -0.137     0.194\n",
      "sim_index                     0.1864      0.122      1.533      0.128        -0.054     0.427\n",
      "level_experience_sims         0.0181      0.069      0.262      0.794        -0.119     0.155\n",
      "experience_undergrad_labs    -0.2631      0.208     -1.265      0.208        -0.675     0.148\n",
      "used_similar_sim             -0.1656      0.132     -1.250      0.213        -0.428     0.096\n",
      "use_graph                     0.0856      0.175      0.489      0.625        -0.260     0.431\n",
      "==============================================================================\n",
      "Omnibus:                       22.283   Durbin-Watson:                   2.272\n",
      "Prob(Omnibus):                  0.000   Jarque-Bera (JB):               28.771\n",
      "Skew:                          -0.913   Prob(JB):                     5.66e-07\n",
      "Kurtosis:                       4.252   Cond. No.                         16.9\n",
      "==============================================================================\n",
      "\n",
      "Warnings:\n",
      "[1] Standard Errors assume that the covariance matrix of the errors is correctly specified.\n",
      "__________________________________\n",
      "FOR VARIABLE  Concentration \n",
      "__________________________________\n",
      "\n",
      "\n",
      "Model:  main ~ C(CVS_levels_3) + pre + sim_index + level_experience_sims + experience_undergrad_labs + used_similar_sim + use_graph\n",
      "\n",
      "Anova table using type 3 errors\n",
      "\n",
      "                           sum_sq     df       F     PR(>F)  eta_sq   omega_sq\n",
      "Intercept                  17.001    1.0  50.496  7.624e-11   0.241  2.347e-01\n",
      "C(CVS_levels_3)             8.160    2.0  12.119  1.525e-05   0.115  1.054e-01\n",
      "pre                         0.320    1.0   0.949  3.318e-01   0.005 -2.409e-04\n",
      "sim_index                   1.479    1.0   4.393  3.807e-02   0.021  1.609e-02\n",
      "level_experience_sims       0.196    1.0   0.581  4.473e-01   0.003 -1.987e-03\n",
      "experience_undergrad_labs   0.172    1.0   0.512  4.756e-01   0.002 -2.315e-03\n",
      "used_similar_sim            0.391    1.0   1.163  2.830e-01   0.006  7.712e-04\n",
      "use_graph                   0.189    1.0   0.563  4.546e-01   0.003 -2.074e-03\n",
      "Residual                   42.758  127.0     NaN        NaN     NaN        NaN\n",
      "                            OLS Regression Results                            \n",
      "==============================================================================\n",
      "Dep. Variable:                   main   R-squared:                       0.227\n",
      "Model:                            OLS   Adj. R-squared:                  0.179\n",
      "Method:                 Least Squares   F-statistic:                     4.674\n",
      "Date:                Tue, 10 Apr 2018   Prob (F-statistic):           4.95e-05\n",
      "Time:                        14:47:29   Log-Likelihood:                -114.29\n",
      "No. Observations:                 136   AIC:                             246.6\n",
      "Df Residuals:                     127   BIC:                             272.8\n",
      "Df Model:                           8                                         \n",
      "Covariance Type:            nonrobust                                         \n",
      "=============================================================================================\n",
      "                                coef    std err          t      P>|t|      [95.0% Conf. Int.]\n",
      "---------------------------------------------------------------------------------------------\n",
      "Intercept                     1.8221      0.256      7.106      0.000         1.315     2.330\n",
      "C(CVS_levels_3)[T.1]          0.0359      0.165      0.218      0.828        -0.291     0.363\n",
      "C(CVS_levels_3)[T.2]          0.5798      0.124      4.669      0.000         0.334     0.826\n",
      "pre                           0.0786      0.081      0.974      0.332        -0.081     0.238\n",
      "sim_index                     0.2158      0.103      2.096      0.038         0.012     0.420\n",
      "level_experience_sims         0.0460      0.060      0.762      0.447        -0.073     0.165\n",
      "experience_undergrad_labs    -0.1284      0.179     -0.715      0.476        -0.483     0.227\n",
      "used_similar_sim             -0.1214      0.113     -1.078      0.283        -0.344     0.101\n",
      "use_graph                    -0.1137      0.152     -0.750      0.455        -0.414     0.186\n",
      "==============================================================================\n",
      "Omnibus:                       11.765   Durbin-Watson:                   1.932\n",
      "Prob(Omnibus):                  0.003   Jarque-Bera (JB):               12.190\n",
      "Skew:                          -0.671   Prob(JB):                      0.00225\n",
      "Kurtosis:                       3.593   Cond. No.                         18.2\n",
      "==============================================================================\n",
      "\n",
      "Warnings:\n",
      "[1] Standard Errors assume that the covariance matrix of the errors is correctly specified.\n",
      "__________________________________\n",
      "FOR VARIABLE  Area \n",
      "__________________________________\n",
      "\n",
      "\n",
      "Model:  main ~ C(CVS_levels_3) + pre + sim_index + level_experience_sims + experience_undergrad_labs + used_similar_sim + use_graph\n",
      "\n",
      "Anova table using type 3 errors\n",
      "\n",
      "                              sum_sq     df          F     PR(>F)     eta_sq   omega_sq\n",
      "Intercept                  1.665e+01    1.0  3.928e+01  5.252e-09  2.151e-01  2.085e-01\n",
      "C(CVS_levels_3)            3.811e+00    2.0  4.497e+00  1.297e-02  4.925e-02  3.809e-02\n",
      "pre                        1.160e+00    1.0  2.738e+00  1.004e-01  1.499e-02  9.466e-03\n",
      "sim_index                  4.224e-06    1.0  9.968e-06  9.975e-01  5.458e-08 -5.446e-03\n",
      "level_experience_sims      4.346e-01    1.0  1.026e+00  3.131e-01  5.616e-03  1.399e-04\n",
      "experience_undergrad_labs  2.097e-01    1.0  4.948e-01  4.831e-01  2.709e-03 -2.751e-03\n",
      "used_similar_sim           3.962e-01    1.0  9.350e-01  3.354e-01  5.119e-03 -3.542e-04\n",
      "use_graph                  9.179e-01    1.0  2.166e+00  1.436e-01  1.186e-02  6.350e-03\n",
      "Residual                   5.382e+01  127.0        NaN        NaN        NaN        NaN\n",
      "                            OLS Regression Results                            \n",
      "==============================================================================\n",
      "Dep. Variable:                   main   R-squared:                       0.159\n",
      "Model:                            OLS   Adj. R-squared:                  0.106\n",
      "Method:                 Least Squares   F-statistic:                     3.002\n",
      "Date:                Tue, 10 Apr 2018   Prob (F-statistic):            0.00406\n",
      "Time:                        14:47:30   Log-Likelihood:                -129.93\n",
      "No. Observations:                 136   AIC:                             277.9\n",
      "Df Residuals:                     127   BIC:                             304.1\n",
      "Df Model:                           8                                         \n",
      "Covariance Type:            nonrobust                                         \n",
      "=============================================================================================\n",
      "                                coef    std err          t      P>|t|      [95.0% Conf. Int.]\n",
      "---------------------------------------------------------------------------------------------\n",
      "Intercept                     1.6969      0.271      6.267      0.000         1.161     2.233\n",
      "C(CVS_levels_3)[T.1]          0.1457      0.180      0.811      0.419        -0.210     0.501\n",
      "C(CVS_levels_3)[T.2]          0.4000      0.133      2.997      0.003         0.136     0.664\n",
      "pre                           0.1382      0.083      1.655      0.100        -0.027     0.303\n",
      "sim_index                    -0.0004      0.116     -0.003      0.997        -0.230     0.229\n",
      "level_experience_sims         0.0675      0.067      1.013      0.313        -0.064     0.199\n",
      "experience_undergrad_labs    -0.1382      0.196     -0.703      0.483        -0.527     0.251\n",
      "used_similar_sim              0.1869      0.193      0.967      0.335        -0.196     0.569\n",
      "use_graph                     0.2429      0.165      1.472      0.144        -0.084     0.570\n",
      "==============================================================================\n",
      "Omnibus:                       39.883   Durbin-Watson:                   2.065\n",
      "Prob(Omnibus):                  0.000   Jarque-Bera (JB):               86.332\n",
      "Skew:                          -1.233   Prob(JB):                     1.79e-19\n",
      "Kurtosis:                       6.026   Cond. No.                         17.1\n",
      "==============================================================================\n",
      "\n",
      "Warnings:\n",
      "[1] Standard Errors assume that the covariance matrix of the errors is correctly specified.\n",
      "__________________________________\n",
      "FOR VARIABLE  Separation \n",
      "__________________________________\n",
      "\n",
      "\n",
      "Model:  main ~ C(CVS_levels_3) + pre + sim_index + level_experience_sims + experience_undergrad_labs + used_similar_sim + use_graph\n",
      "\n",
      "Anova table using type 3 errors\n",
      "\n",
      "                           sum_sq     df       F     PR(>F)  eta_sq  omega_sq\n",
      "Intercept                  11.636    1.0  29.138  3.124e-07   0.172     0.165\n",
      "C(CVS_levels_3)             0.664    2.0   0.832  4.377e-01   0.010    -0.002\n",
      "pre                         1.475    1.0   3.694  5.680e-02   0.022     0.016\n",
      "sim_index                   0.802    1.0   2.009  1.588e-01   0.012     0.006\n",
      "level_experience_sims       0.646    1.0   1.618  2.057e-01   0.010     0.004\n",
      "experience_undergrad_labs   0.149    1.0   0.373  5.425e-01   0.002    -0.004\n",
      "used_similar_sim            0.217    1.0   0.542  4.628e-01   0.003    -0.003\n",
      "use_graph                   0.612    1.0   1.532  2.181e-01   0.009     0.003\n",
      "Residual                   51.516  129.0     NaN        NaN     NaN       NaN\n",
      "                            OLS Regression Results                            \n",
      "==============================================================================\n",
      "Dep. Variable:                   main   R-squared:                       0.109\n",
      "Model:                            OLS   Adj. R-squared:                  0.054\n",
      "Method:                 Least Squares   F-statistic:                     1.975\n",
      "Date:                Tue, 10 Apr 2018   Prob (F-statistic):             0.0545\n",
      "Time:                        14:47:30   Log-Likelihood:                -127.82\n",
      "No. Observations:                 138   AIC:                             273.6\n",
      "Df Residuals:                     129   BIC:                             300.0\n",
      "Df Model:                           8                                         \n",
      "Covariance Type:            nonrobust                                         \n",
      "=============================================================================================\n",
      "                                coef    std err          t      P>|t|      [95.0% Conf. Int.]\n",
      "---------------------------------------------------------------------------------------------\n",
      "Intercept                     1.5072      0.279      5.398      0.000         0.955     2.060\n",
      "C(CVS_levels_3)[T.1]         -0.1849      0.187     -0.988      0.325        -0.555     0.185\n",
      "C(CVS_levels_3)[T.2]          0.0687      0.126      0.547      0.586        -0.180     0.318\n",
      "pre                           0.1608      0.084      1.922      0.057        -0.005     0.326\n",
      "sim_index                     0.1553      0.110      1.417      0.159        -0.062     0.372\n",
      "level_experience_sims         0.0841      0.066      1.272      0.206        -0.047     0.215\n",
      "experience_undergrad_labs    -0.1209      0.198     -0.611      0.543        -0.512     0.271\n",
      "used_similar_sim              0.1388      0.188      0.736      0.463        -0.234     0.512\n",
      "use_graph                     0.1973      0.159      1.238      0.218        -0.118     0.513\n",
      "==============================================================================\n",
      "Omnibus:                        5.338   Durbin-Watson:                   2.224\n",
      "Prob(Omnibus):                  0.069   Jarque-Bera (JB):                4.934\n",
      "Skew:                          -0.452   Prob(JB):                       0.0848\n",
      "Kurtosis:                       3.202   Cond. No.                         18.7\n",
      "==============================================================================\n",
      "\n",
      "Warnings:\n",
      "[1] Standard Errors assume that the covariance matrix of the errors is correctly specified.\n"
     ]
    }
   ],
   "source": [
    "for variable in ['Width', 'Concentration','Area','Separation']:\n",
    "    print \"__________________________________\\nFOR VARIABLE \", variable, '\\n__________________________________'\n",
    "    formula = 'main ~ C(CVS_levels_3)' + covariates_for_variable_models\n",
    "    model = ols(formula, filtered_maxpre_data[filtered_maxpre_data['variable']==variable]).fit()\n",
    "    print \"\\n\\nModel: \",formula\n",
    "    aov_table = anova_lm(model, typ=3)\n",
    "    eta_squared(aov_table)\n",
    "    omega_squared(aov_table)\n",
    "    print \"\\nAnova table using type 3 errors\\n\"\n",
    "    print(aov_table)\n",
    "#     print \"\\nHere is the linear model with coefficients and confidence intervals:\\n\"\n",
    "    print clean_summary(model)"
   ]
  },
  {
   "cell_type": "markdown",
   "metadata": {},
   "source": [
    "## Post-hoc analysis on levels using 3pts as threshold"
   ]
  },
  {
   "cell_type": "code",
   "execution_count": 50,
   "metadata": {
    "scrolled": false
   },
   "outputs": [
    {
     "name": "stdout",
     "output_type": "stream",
     "text": [
      "\n",
      "\n",
      "Model:  main ~ C(CVS_levels_3)+ variable + pre + sim_index + C(sid) + level_experience_sims + experience_undergrad_labs + used_similar_sim\n",
      "Comparing CVS levels ignoring level  0\n",
      "\n",
      "Anova table using type 3 errors\n",
      "\n",
      "                           sum_sq     df       F     PR(>F)     eta_sq  omega_sq\n",
      "Intercept                  10.994    1.0  30.820  1.702e-07  8.432e-02     0.081\n",
      "C(CVS_levels_3)             2.291    1.0   6.424  1.254e-02  1.757e-02     0.015\n",
      "variable                    1.800    3.0   1.682  1.744e-01  1.381e-02     0.006\n",
      "C(sid)                     69.071   87.0   2.226  2.448e-05  5.297e-01     0.291\n",
      "pre                         0.083    1.0   0.232  6.310e-01  6.343e-04    -0.002\n",
      "sim_index                   1.025    1.0   2.872  9.269e-02  7.858e-03     0.005\n",
      "level_experience_sims       0.581    1.0   1.629  2.042e-01  4.457e-03     0.002\n",
      "experience_undergrad_labs   0.791    1.0   2.217  1.391e-01  6.065e-03     0.003\n",
      "used_similar_sim            0.591    1.0   1.658  2.003e-01  4.536e-03     0.002\n",
      "Residual                   43.162  121.0     NaN        NaN        NaN       NaN\n",
      "                            OLS Regression Results                            \n",
      "==============================================================================\n",
      "Dep. Variable:                   main   R-squared:                       0.593\n",
      "Model:                            OLS   Adj. R-squared:                  0.276\n",
      "Method:                 Least Squares   F-statistic:                     1.873\n",
      "Date:                Tue, 10 Apr 2018   Prob (F-statistic):           0.000590\n",
      "Time:                        14:47:30   Log-Likelihood:                -132.58\n",
      "No. Observations:                 216   AIC:                             455.2\n",
      "Df Residuals:                     121   BIC:                             775.8\n",
      "Df Model:                          94                                         \n",
      "Covariance Type:            nonrobust                                         \n",
      "=============================================================================================\n",
      "                                coef    std err          t      P>|t|      [95.0% Conf. Int.]\n",
      "---------------------------------------------------------------------------------------------\n",
      "Intercept                     1.7130      0.309      5.552      0.000         1.102     2.324\n",
      "C(CVS_levels_3)[T.2]          0.6471      0.255      2.535      0.013         0.142     1.153\n",
      "variable[T.Concentration]     0.0079      0.141      0.056      0.956        -0.272     0.288\n",
      "variable[T.Separation]       -0.2561      0.132     -1.937      0.055        -0.518     0.006\n",
      "variable[T.Width]            -0.0499      0.147     -0.339      0.735        -0.341     0.241\n",
      "pre                          -0.0496      0.103     -0.482      0.631        -0.254     0.154\n",
      "sim_index                     0.1818      0.107      1.695      0.093        -0.031     0.394\n",
      "level_experience_sims        -0.3119      0.244     -1.276      0.204        -0.796     0.172\n",
      "experience_undergrad_labs     0.8406      0.565      1.489      0.139        -0.277     1.958\n",
      "used_similar_sim              0.2516      0.195      1.288      0.200        -0.135     0.639\n",
      "==============================================================================\n",
      "Omnibus:                       13.666   Durbin-Watson:                   2.078\n",
      "Prob(Omnibus):                  0.001   Jarque-Bera (JB):               33.879\n",
      "Skew:                          -0.145   Prob(JB):                     4.40e-08\n",
      "Kurtosis:                       4.918   Cond. No.                     4.20e+16\n",
      "==============================================================================\n",
      "\n",
      "Warnings:\n",
      "[1] Standard Errors assume that the covariance matrix of the errors is correctly specified.\n",
      "[2] The smallest eigenvalue is 1.37e-30. This might indicate that there are\n",
      "strong multicollinearity problems or that the design matrix is singular.\n",
      "\n",
      "\n",
      "Model:  main ~ C(CVS_levels_3)+ variable + pre + sim_index + C(sid) + level_experience_sims + experience_undergrad_labs + used_similar_sim\n",
      "Comparing CVS levels ignoring level  1\n",
      "\n",
      "Anova table using type 3 errors\n",
      "\n",
      "                            sum_sq     df        F     PR(>F)     eta_sq   omega_sq\n",
      "Intercept                   29.111    1.0  118.004  5.655e-24  9.829e-02  9.738e-02\n",
      "C(CVS_levels_3)              3.751    2.0    7.603  5.829e-04  1.267e-02  1.099e-02\n",
      "variable                     2.341    3.0    3.163  2.467e-02  7.903e-03  5.399e-03\n",
      "C(sid)                     166.117  147.0    4.581  4.300e-32  5.609e-01  4.381e-01\n",
      "pre                          0.034    1.0    0.139  7.099e-01  1.154e-04 -7.169e-04\n",
      "sim_index                    4.612    1.0   18.697  1.985e-05  1.557e-02  1.473e-02\n",
      "level_experience_sims        0.486    1.0    1.971  1.612e-01  1.642e-03  8.081e-04\n",
      "experience_undergrad_labs    0.653    1.0    2.648  1.045e-01  2.206e-03  1.372e-03\n",
      "used_similar_sim             0.002    1.0    0.007  9.320e-01  6.082e-06 -8.262e-04\n",
      "Residual                    89.056  361.0      NaN        NaN        NaN        NaN\n",
      "                            OLS Regression Results                            \n",
      "==============================================================================\n",
      "Dep. Variable:                   main   R-squared:                       0.632\n",
      "Model:                            OLS   Adj. R-squared:                  0.474\n",
      "Method:                 Least Squares   F-statistic:                     4.006\n",
      "Date:                Tue, 10 Apr 2018   Prob (F-statistic):           1.41e-27\n",
      "Time:                        14:47:30   Log-Likelihood:                -278.95\n",
      "No. Observations:                 517   AIC:                             869.9\n",
      "Df Residuals:                     361   BIC:                             1533.\n",
      "Df Model:                         155                                         \n",
      "Covariance Type:            nonrobust                                         \n",
      "=============================================================================================\n",
      "                                coef    std err          t      P>|t|      [95.0% Conf. Int.]\n",
      "---------------------------------------------------------------------------------------------\n",
      "Intercept                     1.9862      0.183     10.863      0.000         1.627     2.346\n",
      "C(CVS_levels_3)[T.1]          0.0063      0.105      0.060      0.952        -0.201     0.213\n",
      "C(CVS_levels_3)[T.2]          0.3393      0.088      3.858      0.000         0.166     0.512\n",
      "variable[T.Concentration]     0.1342      0.067      1.992      0.047         0.002     0.267\n",
      "variable[T.Separation]       -0.0716      0.062     -1.148      0.252        -0.194     0.051\n",
      "variable[T.Width]             0.0577      0.068      0.847      0.397        -0.076     0.192\n",
      "pre                          -0.0173      0.046     -0.372      0.710        -0.109     0.074\n",
      "sim_index                     0.2048      0.047      4.324      0.000         0.112     0.298\n",
      "level_experience_sims        -0.2731      0.195     -1.404      0.161        -0.656     0.109\n",
      "experience_undergrad_labs     0.6640      0.408      1.627      0.105        -0.138     1.466\n",
      "used_similar_sim             -0.0074      0.087     -0.085      0.932        -0.178     0.164\n",
      "==============================================================================\n",
      "Omnibus:                       76.443   Durbin-Watson:                   1.966\n",
      "Prob(Omnibus):                  0.000   Jarque-Bera (JB):              295.170\n",
      "Skew:                          -0.613   Prob(JB):                     8.03e-65\n",
      "Kurtosis:                       6.493   Cond. No.                     6.11e+15\n",
      "==============================================================================\n",
      "\n",
      "Warnings:\n",
      "[1] Standard Errors assume that the covariance matrix of the errors is correctly specified.\n",
      "[2] The smallest eigenvalue is 1.33e-28. This might indicate that there are\n",
      "strong multicollinearity problems or that the design matrix is singular.\n",
      "\n",
      "\n",
      "Model:  main ~ C(CVS_levels_3)+ variable + pre + sim_index + C(sid) + level_experience_sims + experience_undergrad_labs + used_similar_sim\n",
      "Comparing CVS levels ignoring level  2\n",
      "\n",
      "Anova table using type 3 errors\n",
      "\n",
      "                            sum_sq     df       F     PR(>F)     eta_sq   omega_sq\n",
      "Intercept                   19.068    1.0  94.968  4.357e-19  8.862e-02  8.760e-02\n",
      "C(CVS_levels_3)              2.232    2.0   5.558  4.375e-03  1.037e-02  8.499e-03\n",
      "variable                     0.535    3.0   0.888  4.480e-01  2.486e-03 -3.136e-04\n",
      "C(sid)                     139.874  123.0   5.664  2.277e-30  6.501e-01  5.348e-01\n",
      "pre                          0.140    1.0   0.696  4.050e-01  6.495e-04 -2.834e-04\n",
      "sim_index                    0.564    1.0   2.808  9.514e-02  2.620e-03  1.685e-03\n",
      "level_experience_sims        2.715    1.0  13.522  2.917e-04  1.262e-02  1.167e-02\n",
      "experience_undergrad_labs    2.032    1.0  10.122  1.661e-03  9.445e-03  8.504e-03\n",
      "used_similar_sim             0.426    1.0   2.120  1.467e-01  1.979e-03  1.045e-03\n",
      "Residual                    47.586  237.0     NaN        NaN        NaN        NaN\n",
      "                            OLS Regression Results                            \n",
      "==============================================================================\n",
      "Dep. Variable:                   main   R-squared:                       0.699\n",
      "Model:                            OLS   Adj. R-squared:                  0.533\n",
      "Method:                 Least Squares   F-statistic:                     4.205\n",
      "Date:                Tue, 10 Apr 2018   Prob (F-statistic):           4.30e-22\n",
      "Time:                        14:47:30   Log-Likelihood:                -145.69\n",
      "No. Observations:                 369   AIC:                             555.4\n",
      "Df Residuals:                     237   BIC:                             1072.\n",
      "Df Model:                         131                                         \n",
      "Covariance Type:            nonrobust                                         \n",
      "=============================================================================================\n",
      "                                coef    std err          t      P>|t|      [95.0% Conf. Int.]\n",
      "---------------------------------------------------------------------------------------------\n",
      "Intercept                     1.5304      0.157      9.745      0.000         1.221     1.840\n",
      "C(CVS_levels_3)[T.1]         -0.0295      0.090     -0.329      0.742        -0.206     0.147\n",
      "C(CVS_levels_3)[T.2]          0.3481      0.114      3.065      0.002         0.124     0.572\n",
      "variable[T.Concentration]     0.1093      0.076      1.434      0.153        -0.041     0.259\n",
      "variable[T.Separation]        0.0826      0.069      1.199      0.232        -0.053     0.218\n",
      "variable[T.Width]             0.0428      0.072      0.592      0.555        -0.100     0.185\n",
      "pre                          -0.0425      0.051     -0.834      0.405        -0.143     0.058\n",
      "sim_index                     0.0862      0.051      1.676      0.095        -0.015     0.187\n",
      "level_experience_sims         0.5300      0.144      3.677      0.000         0.246     0.814\n",
      "experience_undergrad_labs    -0.9474      0.298     -3.181      0.002        -1.534    -0.361\n",
      "used_similar_sim             -0.1598      0.110     -1.456      0.147        -0.376     0.056\n",
      "==============================================================================\n",
      "Omnibus:                       41.990   Durbin-Watson:                   1.893\n",
      "Prob(Omnibus):                  0.000   Jarque-Bera (JB):              233.073\n",
      "Skew:                          -0.210   Prob(JB):                     2.45e-51\n",
      "Kurtosis:                       6.871   Cond. No.                     2.57e+16\n",
      "==============================================================================\n",
      "\n",
      "Warnings:\n",
      "[1] Standard Errors assume that the covariance matrix of the errors is correctly specified.\n",
      "[2] The smallest eigenvalue is 4.82e-30. This might indicate that there are\n",
      "strong multicollinearity problems or that the design matrix is singular.\n"
     ]
    }
   ],
   "source": [
    "for ignore in [0,1,2]:\n",
    "    formula = 'main ~ C(CVS_levels_3)' + covariates_for_parsimonious_model\n",
    "    model = ols(formula, filtered_maxpre_data[filtered_maxpre_data[CVS]!=ignore]).fit()\n",
    "    print \"\\n\\nModel: \",formula\n",
    "    print \"Comparing CVS levels ignoring level \",ignore\n",
    "    aov_table = anova_lm(model, typ=3)\n",
    "    eta_squared(aov_table)\n",
    "    omega_squared(aov_table)\n",
    "    print \"\\nAnova table using type 3 errors\\n\"\n",
    "    print(aov_table)\n",
    "    print clean_summary(model)"
   ]
  },
  {
   "cell_type": "code",
   "execution_count": 66,
   "metadata": {},
   "outputs": [
    {
     "name": "stdout",
     "output_type": "stream",
     "text": [
      "This plot needs to be redone with standard deviation bars and colored by level and stars given the tests above\n",
      "0-1 => -\n",
      "1-2 => *\n",
      "0-2 => ***\n"
     ]
    },
    {
     "data": {
      "image/png": "[encoded data removed]",
      "text/plain": [
       "<matplotlib.figure.Figure at 0x16eaaf60>"
      ]
     },
     "metadata": {},
     "output_type": "display_data"
    }
   ],
   "source": [
    "levels = pd.pivot_table(filtered_maxpre_data, values=['main'], index=['CVS_levels_3'],aggfunc=np.mean)\n",
    "levels.plot(kind='barh')\n",
    "print \"This plot needs to be redone with standard deviation bars and colored by level and stars given the tests above\"\n",
    "print '0-1 => -'\n",
    "print '1-2 => *'\n",
    "print '0-2 => ***'"
   ]
  },
  {
   "cell_type": "code",
   "execution_count": 78,
   "metadata": {},
   "outputs": [
    {
     "data": {
      "text/plain": [
       "['Area', 'Concentration', 'Separation', 'Width']"
      ]
     },
     "execution_count": 78,
     "metadata": {},
     "output_type": "execute_result"
    },
    {
     "data": {
      "image/png": "[encoded data removed]",
      "text/plain": [
       "<matplotlib.figure.Figure at 0x196ef748>"
      ]
     },
     "metadata": {},
     "output_type": "display_data"
    }
   ],
   "source": [
    "fig,ax = plt.subplots(nrows=1,ncols=3,figsize=(12,5))\n",
    "for N in [0,1,2]:\n",
    "    sns.countplot(data=filtered_maxpre_data[(filtered_maxpre_data['CVS_levels_3']==N)],y='main',ax=ax[N],label=str(N),color='blue',alpha=0.7);\n",
    "    ax[N].set(ylabel='')\n",
    "    ax[N].set(xlabel='')\n",
    "    ax[N].set(yticklabels = ['','','',''])\n",
    "    ax[N].set(xlim=(0,180))\n",
    "ax[0].set(ylabel='main score')\n",
    "ax[1].set(xlabel='Number of students')\n",
    "ax[0].set(yticklabels = ['None-all incorrect','Identify','Qualitative','Quantitative']);"
   ]
  },
  {
   "cell_type": "code",
   "execution_count": 85,
   "metadata": {},
   "outputs": [
    {
     "data": {
      "image/png": "[encoded data removed]",
      "text/plain": [
       "<matplotlib.figure.Figure at 0x19132710>"
      ]
     },
     "metadata": {},
     "output_type": "display_data"
    }
   ],
   "source": [
    "fig,ax = plt.subplots(nrows=1,ncols=4,figsize=(12,5))\n",
    "for N,v in enumerate(['Separation',\"Area\",'Concentration','Width']):\n",
    "    sns.countplot(data=filtered_maxpre_data[(filtered_maxpre_data['main']>1)&(filtered_maxpre_data['CVS_levels_3']==2)&(filtered_maxpre_data['variable']==v)],y='main',ax=ax[N],label=str(N),color='blue',alpha=0.7);\n",
    "    ax[N].set(ylabel='')\n",
    "    ax[N].set(xlabel=v)\n",
    "    ax[N].set(yticklabels = ['','','',''])\n",
    "    ax[N].set(xlim=(0,50))\n",
    "ax[0].set(ylabel='main score')\n",
    "# ax[1].set(xlabel='Number of students')\n",
    "ax[0].set(yticklabels = ['Qualitative','Quantitative']);\n",
    "# [\"Area\",'Concentration','Separation','Width']"
   ]
  },
  {
   "cell_type": "markdown",
   "metadata": {},
   "source": [
    "### Post-hoc analysis on experience in physic undergraduate labs"
   ]
  },
  {
   "cell_type": "code",
   "execution_count": null,
   "metadata": {
    "collapsed": true
   },
   "outputs": [],
   "source": [
    "# posthoc_exp_physics_labs = pd.pivot_table(data, values=['main'], index=['experience_undergrad_labs'],aggfunc=(np.mean))\n",
    "# posthoc_exp_physics_labs.plot(kind='bar')\n",
    "# print \"This plot needs to be redone with standard deviation bars and organized by sim, colored by level\""
   ]
  },
  {
   "cell_type": "markdown",
   "metadata": {},
   "source": [
    "### Post-hoc analysis on order"
   ]
  },
  {
   "cell_type": "code",
   "execution_count": null,
   "metadata": {
    "collapsed": true
   },
   "outputs": [],
   "source": [
    "# posthoc_sim_index = pd.pivot_table(data, values=['main'], index=['sim_index'],aggfunc=(np.mean))\n",
    "# posthoc_sim_index.plot(kind='bar')\n",
    "# print \"This plot needs to be redone with standard deviation bars and organized by sim, colored by level\""
   ]
  },
  {
   "cell_type": "markdown",
   "metadata": {},
   "source": [
    "### Post-hoc analysis on variable"
   ]
  },
  {
   "cell_type": "code",
   "execution_count": null,
   "metadata": {
    "collapsed": true
   },
   "outputs": [],
   "source": [
    "# posthoc_variable = pd.pivot_table(data, values=['main'], index=['variable'],aggfunc=(np.mean))\n",
    "# posthoc_variable.plot(kind='bar')\n",
    "# print \"This plot needs to be redone with standard deviation bars and organized by sim, colored by level\""
   ]
  },
  {
   "cell_type": "markdown",
   "metadata": {
    "hideCode": true,
    "hidePrompt": true
   },
   "source": [
    "Findings:\n",
    "* CVS_levels=2 (graph) matters for all except Separation\n",
    "* Pre matters for all except Width"
   ]
  },
  {
   "cell_type": "markdown",
   "metadata": {},
   "source": [
    "## Repeat model for only student who use graph (85%)"
   ]
  },
  {
   "cell_type": "code",
   "execution_count": null,
   "metadata": {},
   "outputs": [],
   "source": [
    "formula = 'main ~ C(CVS_levels_3)' + covariates_for_parsimonious_model\n",
    "model = ols(formula, filtered_maxpre_data[(filtered_maxpre_data[CVS]!=0)&(filtered_maxpre_data['use_graph']==1)]).fit()\n",
    "print \"\\n\\nModel: \",formula\n",
    "aov_table = anova_lm(model, typ=3)\n",
    "eta_squared(aov_table)\n",
    "omega_squared(aov_table)\n",
    "print \"\\nAnova table using type 3 errors\\n\"\n",
    "print(aov_table)\n",
    "print clean_summary(model)"
   ]
  },
  {
   "cell_type": "markdown",
   "metadata": {
    "hideCode": true,
    "hidePrompt": true
   },
   "source": [
    "# What affects use CVS-like inquiry strategies?"
   ]
  },
  {
   "cell_type": "markdown",
   "metadata": {
    "hideCode": true,
    "hideOutput": true,
    "hidePrompt": true
   },
   "source": [
    "For some reason adding students in the matric turns it into a singular matrix and fails the analysis. Probably because two students are exactly identical?"
   ]
  },
  {
   "cell_type": "markdown",
   "metadata": {
    "hideCode": true,
    "hidePrompt": true
   },
   "source": [
    "## Overall, how much do they use it?"
   ]
  },
  {
   "cell_type": "code",
   "execution_count": null,
   "metadata": {
    "collapsed": true
   },
   "outputs": [],
   "source": [
    "data['CVS_table'] = data['CVS_table_3']\n",
    "data['CVS_graph'] = data['CVS_graph_3']\n",
    "sums = pd.pivot_table(data, values=['CVS_table','CVS_graph'], index=['sid'], aggfunc=np.sum)"
   ]
  },
  {
   "cell_type": "code",
   "execution_count": null,
   "metadata": {},
   "outputs": [],
   "source": [
    "print data.shape"
   ]
  },
  {
   "cell_type": "code",
   "execution_count": null,
   "metadata": {},
   "outputs": [],
   "source": [
    "for threshold in ['2','3','4','5']:\n",
    "    print '\\nFor CVs with {0} pts as a threshold'.format(threshold)\n",
    "    sums = pd.pivot_table(data, values=['CVS_table_'+threshold,'CVS_graph_'+threshold], index=['sid'], aggfunc=np.sum)\n",
    "    once = len(sums[sums['CVS_table_'+threshold]>0])/float(N)*100\n",
    "    all4 = len(sums[sums['CVS_table_'+threshold]==4])/float(N)*100\n",
    "    print \"   {0}% of students use CVS table once and {1}% do it for all variables.\".format(int(once),int(all4))\n",
    "    once = len(sums[sums['CVS_graph_'+threshold]>0])/float(N)*100\n",
    "    all4 = len(sums[sums['CVS_graph_'+threshold]==4])/float(N)*100\n",
    "    print \"   {0}% of students use CVS graph once and {1}% do it for all variables.\".format(int(once),int(all4))"
   ]
  },
  {
   "cell_type": "markdown",
   "metadata": {},
   "source": [
    "## Are they consistent in their usage of CVS graph?"
   ]
  },
  {
   "cell_type": "code",
   "execution_count": null,
   "metadata": {
    "collapsed": true
   },
   "outputs": [],
   "source": [
    "sums2 = pd.pivot_table(data, values=['CVS_graph'], index=['sid','sim'], aggfunc=np.sum)\n",
    "sums2 = sums2.reset_index(level=['sim','sid'])\n",
    "# sums2.head()"
   ]
  },
  {
   "cell_type": "code",
   "execution_count": null,
   "metadata": {
    "hideCode": true,
    "hidePrompt": true
   },
   "outputs": [],
   "source": [
    "cvs_sim = np.zeros((3,3),dtype=int)\n",
    "for i in range(3):\n",
    "    for j in range(3):\n",
    "        cvs_sim[i,j] = len(set(sums2[(sums2['sim']=='C')&(sums2['CVS_graph']==i)]['sid'])&set(sums2[(sums2['sim']=='L')&(sums2['CVS_graph']==j)]['sid']))\n",
    "ax = sns.heatmap(np.flip(cvs_sim,0),annot=True, fmt=\"d\")\n",
    "ax.set_xticklabels(['0/2','1/2','2/2'])\n",
    "ax.set_yticklabels(['0/2','1/2','2/2'])\n",
    "plt.xlabel('Number of light absorbance variables')\n",
    "plt.ylabel('Number of Caps variables')\n",
    "plt.title('Map of student use of CVS in their graph for variables per simulation')"
   ]
  },
  {
   "cell_type": "markdown",
   "metadata": {
    "hideCode": true,
    "hidePrompt": true
   },
   "source": [
    "High usage is consistent. If they do CVS with 1 variable in one sim, they do it with 2 in the other (probaly second sim).We'll see how order makes a difference later."
   ]
  },
  {
   "cell_type": "markdown",
   "metadata": {
    "hideCode": true,
    "hidePrompt": true
   },
   "source": [
    "## What affects use of CVS\n",
    "### Model with interaction (killed)"
   ]
  },
  {
   "cell_type": "code",
   "execution_count": null,
   "metadata": {
    "collapsed": true,
    "hideCode": true,
    "hidePrompt": true
   },
   "outputs": [],
   "source": [
    "# formula = 'CVS_graph ~ pre*variable + sim_index*variable + pre*sim_index + level_experience_sims + experience_undergrad_labs + used_similar_sim'\n",
    "# print 'model: ', formula,'\\n'\n",
    "# from patsy import dmatrices\n",
    "# Y, X = dmatrices(formula, data, return_type = 'dataframe')\n",
    "# # print X.columns\n",
    "# logit = Logit(Y, X)\n",
    "# model = logit.fit()\n",
    "# print model.summary()\n",
    "# # note that stats model has no module for running an anova on a logistic regression model"
   ]
  },
  {
   "cell_type": "markdown",
   "metadata": {},
   "source": [
    "### Parismonious model"
   ]
  },
  {
   "cell_type": "code",
   "execution_count": null,
   "metadata": {},
   "outputs": [],
   "source": [
    "formula = 'CVS_graph ~ pre + variable + sim_index +level_experience_sims + experience_undergrad_labs + used_similar_sim'\n",
    "print 'model: ', formula,'\\n'\n",
    "from patsy import dmatrices\n",
    "Y, X = dmatrices(formula, data, return_type = 'dataframe')\n",
    "# print X.columns\n",
    "logit = Logit(Y, X)\n",
    "model = logit.fit()\n",
    "print model.summary()\n",
    "# aov_table = anova_lm(model)\n",
    "# eta_squared(aov_table)\n",
    "# omega_squared(aov_table)\n",
    "# # print \"\\nAnova table using type 2 errors\\n\"\n",
    "# print(aov_table)"
   ]
  },
  {
   "cell_type": "markdown",
   "metadata": {
    "hideCode": true,
    "hidePrompt": true
   },
   "source": [
    "In order of what affects CVS_graph most:\n",
    "* experience in undergraduate labs\n",
    "* order\n",
    "* prior knowledge\n",
    "\n",
    "Having used a similar sim doesn't matter, variable doesn't matter and sim doesn't matter.\n",
    "\n",
    "Experience in sims mattered before we included both physics and chem experience in labs"
   ]
  },
  {
   "cell_type": "code",
   "execution_count": null,
   "metadata": {},
   "outputs": [],
   "source": [
    "model.summary()"
   ]
  },
  {
   "cell_type": "code",
   "execution_count": null,
   "metadata": {},
   "outputs": [],
   "source": [
    "print model.summary().as_latex()"
   ]
  },
  {
   "cell_type": "markdown",
   "metadata": {},
   "source": [
    "### post hoc of experience in undergraduate labs"
   ]
  },
  {
   "cell_type": "code",
   "execution_count": null,
   "metadata": {
    "collapsed": true
   },
   "outputs": [],
   "source": [
    "# cvs_exp = pd.pivot_table(data, values=['CVS_graph'], index=['experience_undergrad_labs'],aggfunc=(np.mean,np.std))\n",
    "# print \"Here is prob that they do CVS graph depending on the experience_undergrad_labs\"\n",
    "# cvs_exp['CVS_graph']['mean'].plot.bar(yerr=cvs_exp['CVS_graph']['std'])"
   ]
  },
  {
   "cell_type": "markdown",
   "metadata": {},
   "source": [
    "### post hoc of activity order"
   ]
  },
  {
   "cell_type": "code",
   "execution_count": null,
   "metadata": {
    "collapsed": true
   },
   "outputs": [],
   "source": [
    "# cvs_exp = pd.pivot_table(data, values=['CVS_graph'], index=['sim_index'],aggfunc=(np.mean,np.std))\n",
    "# print \"Here is prob that they do CVS graph depending on sim_index\"\n",
    "# cvs_exp['CVS_graph']['mean'].plot.bar(yerr=cvs_exp['CVS_graph']['std'])"
   ]
  },
  {
   "cell_type": "markdown",
   "metadata": {},
   "source": [
    "### post hoc of experience with sims"
   ]
  },
  {
   "cell_type": "code",
   "execution_count": null,
   "metadata": {
    "collapsed": true
   },
   "outputs": [],
   "source": [
    "# cvs_exp = pd.pivot_table(data, values=['CVS_graph'], index=['level_experience_sims'],aggfunc=(np.mean,np.std))\n",
    "# print \"Here is prob that they do CVS graph depending on level_experience_sims\"\n",
    "# cvs_exp['CVS_graph']['mean'].plot.bar(yerr=cvs_exp['CVS_graph']['std'])\n",
    "# print '''where:\n",
    "#  0 -> None\n",
    "#  1 -> 1-2 (roughly)\n",
    "#  2 -> 3-5 (roughly)\n",
    "#  3 -> 6+ (roughly)'''"
   ]
  },
  {
   "cell_type": "markdown",
   "metadata": {},
   "source": [
    "### post hoc of pre"
   ]
  },
  {
   "cell_type": "code",
   "execution_count": null,
   "metadata": {
    "collapsed": true
   },
   "outputs": [],
   "source": [
    "# cvs_pre = pd.pivot_table(data, values=['CVS_graph'], index=['pre'],aggfunc=(np.mean,np.std))\n",
    "# print \"Here is the avg pre score of students depending if they do CVS graph or not\"\n",
    "# cvs_pre['CVS_graph']['mean'].plot.bar(yerr=cvs_pre['CVS_graph']['std'])"
   ]
  },
  {
   "cell_type": "code",
   "execution_count": null,
   "metadata": {
    "collapsed": true
   },
   "outputs": [],
   "source": []
  }
 ],
 "metadata": {
  "anaconda-cloud": {},
  "celltoolbar": "Hide code",
  "hide_code_all_hidden": true,
  "kernelspec": {
   "display_name": "Python 2",
   "language": "python",
   "name": "python2"
  },
  "language_info": {
   "codemirror_mode": {
    "name": "ipython",
    "version": 2
   },
   "file_extension": ".py",
   "mimetype": "text/x-python",
   "name": "python",
   "nbconvert_exporter": "python",
   "pygments_lexer": "ipython2",
   "version": "2.7.13"
  },
  "toc": {
   "nav_menu": {},
   "number_sections": true,
   "sideBar": false,
   "skip_h1_title": false,
   "toc_cell": false,
   "toc_position": {},
   "toc_section_display": "block",
   "toc_window_display": false
  }
 },
 "nbformat": 4,
 "nbformat_minor": 2
}
