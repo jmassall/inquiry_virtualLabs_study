{
 "cells": [
  {
   "cell_type": "markdown",
   "metadata": {},
   "source": [
    "# About descriptives_of_log_data\n",
    "\n",
    "This notebook computes some basic descriptive statistics of the log data such as determining the fraction of students that use different sim components (record,table,graph,restore,...)"
   ]
  },
  {
   "cell_type": "code",
   "execution_count": 1,
   "metadata": {
    "collapsed": false
   },
   "outputs": [],
   "source": [
    "import os\n",
    "import numpy as np\n",
    "import pandas as pd\n",
    "import getpass\n",
    "import datetime\n",
    "import matplotlib\n",
    "%matplotlib inline\n",
    "matplotlib.style.use('ggplot')\n",
    "matplotlib.rcParams['figure.figsize'] = 20, 7\n",
    "pd.set_option('display.max_columns', None);pd.set_option('display.max_rows', None);pd.set_option('precision', 2)\n",
    "FOLDER =  'C:\\\\Users\\\\'+getpass.getuser()+'\\\\Documents\\\\Personal Content\\\\Lab_skills_study\\\\parsed log data'"
   ]
  },
  {
   "cell_type": "markdown",
   "metadata": {},
   "source": [
    "## Who and how much?\n",
    "### First we pull the latest parsing report for each sim. \n",
    "If there are several and no date is provided, we pull the latest one."
   ]
  },
  {
   "cell_type": "code",
   "execution_count": 2,
   "metadata": {
    "collapsed": true
   },
   "outputs": [],
   "source": [
    "def find_latest_parsing_report_file(sim, date=None, infolder=FOLDER):\n",
    "    if date:\n",
    "        for root, dirs, files in os.walk(infolder):\n",
    "            for f in files:\n",
    "                if sim in f and \"report\" in f and date in f:\n",
    "                    print \"Captured {0} parsing report from the date {1}\".format(sim,date)\n",
    "                    return os.path.join(root, f)\n",
    "        print \"No file found for {0} sim and on date {1}.\".format(sim,date)\n",
    "    else:\n",
    "        report_dates = []\n",
    "        for root, dirs, files in os.walk(infolder):\n",
    "            for f in files:\n",
    "                if sim in f and \"report\" in f:\n",
    "                    report_dates.append(os.path.join(root, f).split('on=')[1].replace('.txt',''))\n",
    "        dates = [datetime.datetime.strptime(d, '%Y-%m-%d_%H.%M.%S') for d in report_dates]\n",
    "        dates.sort()\n",
    "        sorteddates = [datetime.datetime.strftime(ts, '%Y-%m-%d_%H.%M.%S') for ts in dates]\n",
    "        if sorteddates:\n",
    "            return find_latest_parsing_report_file(sim, date=sorteddates[-1], infolder=infolder)\n",
    "        else:\n",
    "            print \"No file found for {0} sim.\".format(sim)"
   ]
  },
  {
   "cell_type": "code",
   "execution_count": 3,
   "metadata": {
    "collapsed": false
   },
   "outputs": [
    {
     "name": "stdout",
     "output_type": "stream",
     "text": [
      "Captured beers parsing report from the date 2017-10-17_14.13.04\n",
      "Captured caps parsing report from the date 2017-10-13_10.44.47\n"
     ]
    }
   ],
   "source": [
    "beers_report_file = find_latest_parsing_report_file('beers')\n",
    "caps_report_file = find_latest_parsing_report_file('caps')\n",
    "df_beers = pd.read_table(beers_report_file, sep='\\t')\n",
    "df_caps = pd.read_table(caps_report_file, sep='\\t')"
   ]
  },
  {
   "cell_type": "code",
   "execution_count": 4,
   "metadata": {
    "collapsed": false
   },
   "outputs": [
    {
     "name": "stdout",
     "output_type": "stream",
     "text": [
      "There are 177 beers, 170 caps, for a total of 180 unique student ids.\n"
     ]
    }
   ],
   "source": [
    "ids_beers = list(df_beers['studentid'].apply(str))\n",
    "ids_caps = list(df_caps['studentid'].apply(str))\n",
    "all_ids = ids_beers + ids_caps\n",
    "print \"There are {0} beers, {1} caps, for a total of {2} unique student ids.\".format(len(set(ids_beers)),len(set(ids_caps)),len(set(all_ids)))"
   ]
  },
  {
   "cell_type": "markdown",
   "metadata": {},
   "source": [
    "### Let's clean up the ids a little\n",
    "First let's evaluate how many log files we have per id. Hopefully, most ids have two log files, a beers and a caps log file. We remove duplicates (students who did both sims) and see what's left. Of those, most will be ids used for testing but some of them will be from PhET crashing."
   ]
  },
  {
   "cell_type": "code",
   "execution_count": 5,
   "metadata": {
    "collapsed": false
   },
   "outputs": [
    {
     "name": "stdout",
     "output_type": "stream",
     "text": [
      "There are 8 ids with 1 log file: 12344564, 12344567, 12345567, 12345667, 12357888, 12456456, 13493169, 36107164\n",
      "There are 154 ids with 2 log file: 10105157, 10127163, 10192168, 10232160, 10375163, 10420167, 10537160, 10561164, 10708152, 10908162, 10970160, 11095146, 11200165, 11326321, 11384795, 11394167, 11612162, 11691167, 11777163, 11892169, 11929166, 11997159, 12017165, 12238164, 12263156, 12288167, 12302161, 12329163, 12341234, 12344675, 12406161, 12665164, 12707161, 12818156, 12907149, 13122150, 13134165, 13140165, 13193166, 13228164, 13310139, 13407169, 13624169, 13654167, 13660166, 13726167, 13870641, 13945160, 13981167, 14002169, 14055131, 14088168, 14201151, 14261165, 14293162, 14302168, 14565169, 14805169, 14828163, 15026512, 15055169, 15072160, 15160164, 15188167, 15298166, 15317162, 15444164, 15457134, 15482152, 15496161, 15554169, 15677161, 15884161, 16136159, 16237162, 16328144, 16606167, 16618163, 16657165, 16752165, 16901162, 16961152, 17007153, 17018157, 17036164, 17071167, 17083161, 17107166, 17112137, 17114169, 17347163, 17448165, 17502161, 17576140, 17597160, 17655165, 17691169, 17701169, 17729162, 17868168, 17931169, 18162165, 18174154, 18247165, 18527162, 18591168, 18866165, 18922151, 19018165, 19023153, 19053161, 19089138, 19196162, 19344143, 19416160, 19436162, 19470169, 19553138, 19562150, 19566168, 19608154, 19618321, 19780165, 19862157, 19913165, 19933165, 19989152, 22340167, 23836160, 24511163, 24566161, 26984162, 27451164, 27630167, 31607164, 41947147, 46792161, 51717164, 52193156, 53262971, 55825144, 59043165, 60000168, 61406163, 64006159, 77047160, 78992166, 82788161, 83145167, 83459165, 85915167, 86699164, 89047164, 90447168\n",
      "There are 10 ids with 3 log file: 12816168, 13578154, 15749160, 16233163, 16317166, 17168593, 17290166, 18365162, 18854165, 78379161\n",
      "There are 3 ids with 4 log file: 11669161, 13139162, 23784336\n",
      "There are 1 ids with 133 log file: 12345678\n",
      "There are 1 ids with 7 log file: 10866146\n",
      "There are 2 ids with 8 log file: 11111111, student1\n",
      "There are 1 ids with 22 log file: 99999999\n"
     ]
    }
   ],
   "source": [
    "ids_by_count = {}\n",
    "for i in set(all_ids):\n",
    "    count = all_ids.count(i)\n",
    "    if count not in ids_by_count.keys():\n",
    "        ids_by_count[count] = [i]\n",
    "    else:\n",
    "        ids_by_count[count].append(i)\n",
    "\n",
    "for c,ids in ids_by_count.iteritems():\n",
    "    print \"There are {0} ids with {1} log file: {2}\".format(len(ids),c,', '.join(sorted([str(i) for i in ids])))"
   ]
  },
  {
   "cell_type": "markdown",
   "metadata": {},
   "source": [
    "Now let's check that those with 2 log files have one for each sim."
   ]
  },
  {
   "cell_type": "code",
   "execution_count": 6,
   "metadata": {
    "collapsed": false
   },
   "outputs": [
    {
     "name": "stdout",
     "output_type": "stream",
     "text": [
      "Of all the ids with two logs, 2 have two beers logs, 1 has two caps logs, and 151 have one of each.\n"
     ]
    }
   ],
   "source": [
    "beers_only, caps_only, both_sims = [],[],[]\n",
    "for i in ids_by_count[2]:\n",
    "    if i in ids_beers and i not in ids_caps: beers_only.append(i)\n",
    "    elif i not in ids_beers and i in ids_caps: caps_only.append(i)\n",
    "    elif i in ids_beers and i in ids_caps: both_sims.append(i)\n",
    "print \"Of all the ids with two logs, {0} have two beers logs, {1} has two caps logs, and {2} have one of each.\".format(len(beers_only), len(caps_only), len(both_sims))"
   ]
  },
  {
   "cell_type": "markdown",
   "metadata": {},
   "source": [
    "## Some basic stats our select students\n",
    "Once we clean up our student ids, (matching with survey ids and finding students who used different ids for both sims), we can update these stats.\n",
    "### How often is each component used?"
   ]
  },
  {
   "cell_type": "code",
   "execution_count": 7,
   "metadata": {
    "collapsed": false
   },
   "outputs": [],
   "source": [
    "df_b = df_beers[df_beers['studentid'].apply(str).isin(both_sims)]\n",
    "df_c = df_caps[df_caps['studentid'].apply(str).isin(both_sims)]"
   ]
  },
  {
   "cell_type": "code",
   "execution_count": 8,
   "metadata": {
    "collapsed": false
   },
   "outputs": [
    {
     "name": "stdout",
     "output_type": "stream",
     "text": [
      "Of the 151 students:\n",
      "\t action:\t beers | caps\n",
      "\t record data:\t 141 | 142\n",
      "\t use the graph:\t 118 | 100\n",
      "\t write in pad:\t 43 | 33\n",
      "\t restore:\t 0 | 0\n"
     ]
    }
   ],
   "source": [
    "print \"Of the {0} students:\".format(len(both_sims))\n",
    "print \"\\t action:\\t beers | caps\"\n",
    "print \"\\t record data:\\t {0} | {1}\".format(df_b['use table'].sum(),df_c['use table'].sum())\n",
    "print \"\\t use the graph:\\t {0} | {1}\".format(df_b['use graph'].sum(),df_c['use graph'].sum())\n",
    "print \"\\t write in pad:\\t {0} | {1}\".format(df_b['use notepad'].sum(),df_c['use notepad'].sum())\n",
    "print \"\\t restore:\\t {0} | {1}\".format(df_b['number of restores'].astype(bool).sum(),df_c['number of restores'].astype(bool).sum())"
   ]
  },
  {
   "cell_type": "markdown",
   "metadata": {},
   "source": [
    "### How much do students record?"
   ]
  },
  {
   "cell_type": "code",
   "execution_count": 9,
   "metadata": {
    "collapsed": false
   },
   "outputs": [
    {
     "name": "stdout",
     "output_type": "stream",
     "text": [
      "Student record 16.46+/-12.74 trials for beers and 15.22+/-14.28 for caps.\n"
     ]
    }
   ],
   "source": [
    "print \"Student record {0}+/-{1} trials for beers and {2}+/-{3} for caps.\".format(round(df_b['number of records'].mean(),2),round(df_b['number of records'].std(),2),round(df_c['number of records'].mean(),2),round(df_c['number of records'].std(),2))"
   ]
  },
  {
   "cell_type": "code",
   "execution_count": 10,
   "metadata": {
    "collapsed": false
   },
   "outputs": [
    {
     "name": "stdout",
     "output_type": "stream",
     "text": [
      "Histogram of number of trials recorded by sim\n"
     ]
    },
    {
     "data": {
      "image/png": "[encoded data removed]",
      "text/plain": [
       "<matplotlib.figure.Figure at 0x9e45438>"
      ]
     },
     "metadata": {},
     "output_type": "display_data"
    }
   ],
   "source": [
    "df_b['number of records'].hist(bins=25,alpha=0.6,label='beers')\n",
    "df_c['number of records'].hist(bins=25,alpha=0.6,label='caps')\n",
    "matplotlib.pyplot.legend()\n",
    "print \"Histogram of number of trials recorded by sim\""
   ]
  },
  {
   "cell_type": "markdown",
   "metadata": {},
   "source": [
    "### How many students face table errors? (in caps only)"
   ]
  },
  {
   "cell_type": "code",
   "execution_count": 11,
   "metadata": {
    "collapsed": false
   },
   "outputs": [
    {
     "data": {
      "text/plain": [
       "12"
      ]
     },
     "execution_count": 11,
     "metadata": {},
     "output_type": "execute_result"
    }
   ],
   "source": [
    "df_c['number of table errors'].astype(bool).sum()"
   ]
  }
 ],
 "metadata": {
  "anaconda-cloud": {},
  "kernelspec": {
   "display_name": "Python [Root]",
   "language": "python",
   "name": "Python [Root]"
  },
  "language_info": {
   "codemirror_mode": {
    "name": "ipython",
    "version": 2
   },
   "file_extension": ".py",
   "mimetype": "text/x-python",
   "name": "python",
   "nbconvert_exporter": "python",
   "pygments_lexer": "ipython2",
   "version": "2.7.12"
  }
 },
 "nbformat": 4,
 "nbformat_minor": 0
}
