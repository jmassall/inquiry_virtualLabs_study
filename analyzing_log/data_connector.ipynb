{
 "cells": [
  {
   "cell_type": "markdown",
   "metadata": {},
   "source": [
    "# About data_connector\n",
    "\n",
    "This notebook pulls information from different sources of data (log, session) to connect student's data across types.\n",
    "The end goal is a connection between student id and log files, survey data, and worksheet data."
   ]
  },
  {
   "cell_type": "code",
   "execution_count": 1,
   "metadata": {
    "collapsed": false
   },
   "outputs": [],
   "source": [
    "import os\n",
    "import numpy as np\n",
    "import pandas as pd\n",
    "import getpass\n",
    "import datetime\n",
    "import matplotlib\n",
    "import matplotlib.pyplot as plt\n",
    "#utils.py is where all our custorm functions live is we set an autoreload on it.\n",
    "%load_ext autoreload\n",
    "%autoreload 1\n",
    "%aimport utils_read_parsing \n",
    "from utils_read_parsing import *\n",
    "%matplotlib inline\n",
    "matplotlib.style.use('ggplot')\n",
    "matplotlib.rcParams['figure.figsize'] = 20, 7\n",
    "pd.set_option('display.max_columns', None);pd.set_option('display.max_rows', None);pd.set_option('precision', 2)"
   ]
  },
  {
   "cell_type": "markdown",
   "metadata": {},
   "source": [
    "## Overview\n",
    "We have log data, survey data, worksheet data and lots of metadata. We have to connect them all! First we must build the right metadata files.\n",
    "Let's start by connecting log data files to session data, mapping each log data to a student and to a session using dates and times."
   ]
  },
  {
   "cell_type": "markdown",
   "metadata": {},
   "source": [
    "## 1. Connecting log data to session data\n",
    "We grab the parsing file reports and the session data"
   ]
  },
  {
   "cell_type": "code",
   "execution_count": 2,
   "metadata": {
    "collapsed": false
   },
   "outputs": [
    {
     "name": "stdout",
     "output_type": "stream",
     "text": [
      "Captured beers parsing report that was parsed on 2017-10-20_09.45.26\n",
      "Captured capacitor parsing report that was parsed on 2017-10-20_10.06.46\n"
     ]
    }
   ],
   "source": [
    "df_beers = get_latest_parsing_report('beers')\n",
    "df_caps = get_latest_parsing_report('capacitor')\n",
    "df_sessions = get_session_data()"
   ]
  },
  {
   "cell_type": "code",
   "execution_count": 3,
   "metadata": {
    "collapsed": false
   },
   "outputs": [
    {
     "data": {
      "text/html": [
       "<div>\n",
       "<table border=\"1\" class=\"dataframe\">\n",
       "  <thead>\n",
       "    <tr style=\"text-align: right;\">\n",
       "      <th></th>\n",
       "      <th>session number</th>\n",
       "      <th>date</th>\n",
       "      <th>number of students from sign out sheet</th>\n",
       "      <th>start time</th>\n",
       "      <th>end time</th>\n",
       "      <th>wave</th>\n",
       "      <th>ran study</th>\n",
       "      <th>supported</th>\n",
       "    </tr>\n",
       "  </thead>\n",
       "  <tbody>\n",
       "    <tr>\n",
       "      <th>0</th>\n",
       "      <td>1</td>\n",
       "      <td>2017-1-13</td>\n",
       "      <td>5</td>\n",
       "      <td>13</td>\n",
       "      <td>15</td>\n",
       "      <td>1</td>\n",
       "      <td>Jon</td>\n",
       "      <td>Sarah</td>\n",
       "    </tr>\n",
       "    <tr>\n",
       "      <th>1</th>\n",
       "      <td>2</td>\n",
       "      <td>2017-1-17</td>\n",
       "      <td>14</td>\n",
       "      <td>11</td>\n",
       "      <td>13</td>\n",
       "      <td>1</td>\n",
       "      <td>Jon</td>\n",
       "      <td>Sarah</td>\n",
       "    </tr>\n",
       "    <tr>\n",
       "      <th>2</th>\n",
       "      <td>3</td>\n",
       "      <td>2017-1-17</td>\n",
       "      <td>18</td>\n",
       "      <td>15</td>\n",
       "      <td>17</td>\n",
       "      <td>1</td>\n",
       "      <td>Sarah</td>\n",
       "      <td>Jon</td>\n",
       "    </tr>\n",
       "    <tr>\n",
       "      <th>3</th>\n",
       "      <td>4</td>\n",
       "      <td>2017-1-19</td>\n",
       "      <td>5</td>\n",
       "      <td>9</td>\n",
       "      <td>11</td>\n",
       "      <td>1</td>\n",
       "      <td>Sarah</td>\n",
       "      <td>Jon</td>\n",
       "    </tr>\n",
       "    <tr>\n",
       "      <th>4</th>\n",
       "      <td>5</td>\n",
       "      <td>2017-1-19</td>\n",
       "      <td>18</td>\n",
       "      <td>13</td>\n",
       "      <td>15</td>\n",
       "      <td>1</td>\n",
       "      <td>Jon</td>\n",
       "      <td>Sarah</td>\n",
       "    </tr>\n",
       "  </tbody>\n",
       "</table>\n",
       "</div>"
      ],
      "text/plain": [
       "   session number       date  number of students from sign out sheet  \\\n",
       "0               1  2017-1-13                                       5   \n",
       "1               2  2017-1-17                                      14   \n",
       "2               3  2017-1-17                                      18   \n",
       "3               4  2017-1-19                                       5   \n",
       "4               5  2017-1-19                                      18   \n",
       "\n",
       "   start time  end time  wave ran study supported  \n",
       "0          13        15     1       Jon     Sarah  \n",
       "1          11        13     1       Jon     Sarah  \n",
       "2          15        17     1     Sarah       Jon  \n",
       "3           9        11     1     Sarah       Jon  \n",
       "4          13        15     1       Jon     Sarah  "
      ]
     },
     "execution_count": 3,
     "metadata": {},
     "output_type": "execute_result"
    }
   ],
   "source": [
    "df_sessions.head()"
   ]
  },
  {
   "cell_type": "code",
   "execution_count": 4,
   "metadata": {
    "collapsed": false
   },
   "outputs": [
    {
     "name": "stdout",
     "output_type": "stream",
     "text": [
      "{1: ('2017-1-13_13.00.00', '2017-1-13_15.00.00'), 2: ('2017-1-17_11.00.00', '2017-1-17_13.00.00'), 3: ('2017-1-17_15.00.00', '2017-1-17_17.00.00'), 4: ('2017-1-19_9.00.00', '2017-1-19_11.00.00'), 5: ('2017-1-19_13.00.00', '2017-1-19_15.00.00'), 6: ('2017-1-20_11.00.00', '2017-1-20_13.00.00'), 7: ('2017-1-20_15.00.00', '2017-1-20_17.00.00'), 8: ('2017-1-23_15.00.00', '2017-1-23_17.00.00'), 9: ('2017-1-27_13.00.00', '2017-1-27_15.00.00'), 10: ('2017-3-20_15.00.00', '2017-3-20_17.00.00'), 11: ('2017-3-21_17.00.00', '2017-3-21_19.00.00'), 12: ('2017-3-22_11.00.00', '2017-3-22_13.00.00'), 13: ('2017-3-22_15.00.00', '2017-3-22_17.00.00'), 14: ('2017-3-23_13.00.00', '2017-3-23_15.00.00'), 15: ('2017-3-28_15.00.00', '2017-3-28_17.00.00')}\n"
     ]
    }
   ],
   "source": [
    "def get_session_times(df):\n",
    "    times = {}\n",
    "    for i,row in df.iterrows():\n",
    "        day,start,end,session = row['date'],str(row['start time']),str(row['end time']),int(row['session number'])\n",
    "        date = (day+'_'+start+\".00.00\",day+'_'+end+\".00.00\")\n",
    "        times[session]=date\n",
    "    return times\n",
    "session_times = get_session_times(df_sessions)\n",
    "print session_times"
   ]
  },
  {
   "cell_type": "code",
   "execution_count": 5,
   "metadata": {
    "collapsed": false
   },
   "outputs": [],
   "source": [
    "def convert_from_unix_time(t):\n",
    "    ''' Take a unix time stamp in milliseconds and convert to date and time'''\n",
    "    return datetime.datetime.fromtimestamp(int(t)/1000.0).strftime('%Y-%m-%d_%H.%M.%S')\n",
    "\n",
    "def convert_to_unix_time(date):\n",
    "    ''' Take a date and time amd make a unix time stamp'''\n",
    "    return datetime.datetime.strptime(date, '%Y-%m-%d_%H.%M.%S')\n",
    "\n",
    "def extrapolate_session(row):\n",
    "    session = 'NA'\n",
    "    date = row['date']\n",
    "    timestamp = convert_to_unix_time(date)\n",
    "    for session_number,period in session_times.iteritems():\n",
    "        t1,t2 = convert_to_unix_time(period[0]),convert_to_unix_time(period[1])\n",
    "        if timestamp > t1 and timestamp < t2:\n",
    "            session = session_number   \n",
    "    return session\n",
    "\n",
    "df_beers['Session'] = df_beers.apply(extrapolate_session, axis=1)\n",
    "df_caps['Session'] = df_caps.apply(extrapolate_session, axis=1)"
   ]
  },
  {
   "cell_type": "code",
   "execution_count": 11,
   "metadata": {
    "collapsed": false
   },
   "outputs": [],
   "source": [
    "def get_ids_per_session(df):\n",
    "    ids_per_session = {s:[] for s in set(df['Session'])}\n",
    "    for i,row in df.iterrows():\n",
    "        sid,session = str(row['studentid']),row['Session']\n",
    "        ids_per_session[session].append(sid)\n",
    "    return ids_per_session\n",
    "\n",
    "session_beers = get_ids_per_session(df_beers)\n",
    "session_caps = get_ids_per_session(df_caps)"
   ]
  },
  {
   "cell_type": "code",
   "execution_count": 12,
   "metadata": {
    "collapsed": false
   },
   "outputs": [],
   "source": [
    "out =open('session_mega_id_writeout.txt','w')\n",
    "out.write('\\t'.join(['Session','Session time','Expected number (signout sheet)','sim','number of logs','ids']))\n",
    "for session in sorted(session_times.keys()):\n",
    "    if session != 'NA':\n",
    "        expected = str(int(df_sessions[df_sessions['session number']==session]['number of students from sign out sheet']))\n",
    "    else:\n",
    "        expected = 'NA'\n",
    "    period = str(session_times[session][0])+' - '+str(session_times[session][1])\n",
    "    out.write('\\n')\n",
    "    out.write('\\t'.join([str(session),period,expected,'beers',str(len(session_beers[session])), '\\t'.join(sorted(session_beers[session]))]))\n",
    "    out.write('\\n')\n",
    "    out.write('\\t'.join(['','','','caps',str(len(session_caps[session])), '\\t'.join(sorted(session_caps[session]))]))\n",
    "    out.write('\\n')\n",
    "out.close()"
   ]
  },
  {
   "cell_type": "code",
   "execution_count": 13,
   "metadata": {
    "collapsed": false
   },
   "outputs": [
    {
     "data": {
      "text/html": [
       "<div>\n",
       "<table border=\"1\" class=\"dataframe\">\n",
       "  <thead>\n",
       "    <tr style=\"text-align: right;\">\n",
       "      <th></th>\n",
       "      <th>studentid</th>\n",
       "      <th>sim</th>\n",
       "      <th>date</th>\n",
       "      <th>first time stamp</th>\n",
       "      <th>time in PhET</th>\n",
       "      <th>number of user events</th>\n",
       "      <th>number of table errors</th>\n",
       "      <th>number of records</th>\n",
       "      <th>number of gettingValues</th>\n",
       "      <th>number of restores</th>\n",
       "      <th>use table</th>\n",
       "      <th>use graph</th>\n",
       "      <th>use notepad</th>\n",
       "      <th>filename</th>\n",
       "      <th>Session</th>\n",
       "    </tr>\n",
       "  </thead>\n",
       "  <tbody>\n",
       "    <tr>\n",
       "      <th>0</th>\n",
       "      <td>10105157</td>\n",
       "      <td>beers-law-lab</td>\n",
       "      <td>2017-03-22_11.41.17</td>\n",
       "      <td>1490208079592</td>\n",
       "      <td>740.21</td>\n",
       "      <td>2279</td>\n",
       "      <td>0</td>\n",
       "      <td>11</td>\n",
       "      <td>11</td>\n",
       "      <td>0</td>\n",
       "      <td>True</td>\n",
       "      <td>True</td>\n",
       "      <td>True</td>\n",
       "      <td>C:\\Users\\sperez8\\Documents\\Personal Content\\La...</td>\n",
       "      <td>12</td>\n",
       "    </tr>\n",
       "    <tr>\n",
       "      <th>1</th>\n",
       "      <td>10127163</td>\n",
       "      <td>beers-law-lab</td>\n",
       "      <td>2017-01-27_13.26.59</td>\n",
       "      <td>1485552421644</td>\n",
       "      <td>971.09</td>\n",
       "      <td>3097</td>\n",
       "      <td>0</td>\n",
       "      <td>23</td>\n",
       "      <td>0</td>\n",
       "      <td>0</td>\n",
       "      <td>True</td>\n",
       "      <td>True</td>\n",
       "      <td>False</td>\n",
       "      <td>C:\\Users\\sperez8\\Documents\\Personal Content\\La...</td>\n",
       "      <td>9</td>\n",
       "    </tr>\n",
       "    <tr>\n",
       "      <th>2</th>\n",
       "      <td>10192168</td>\n",
       "      <td>beers-law-lab</td>\n",
       "      <td>2017-01-20_16.22.58</td>\n",
       "      <td>1484958181216</td>\n",
       "      <td>458.90</td>\n",
       "      <td>3443</td>\n",
       "      <td>0</td>\n",
       "      <td>27</td>\n",
       "      <td>0</td>\n",
       "      <td>0</td>\n",
       "      <td>True</td>\n",
       "      <td>True</td>\n",
       "      <td>False</td>\n",
       "      <td>C:\\Users\\sperez8\\Documents\\Personal Content\\La...</td>\n",
       "      <td>7</td>\n",
       "    </tr>\n",
       "    <tr>\n",
       "      <th>3</th>\n",
       "      <td>10232160</td>\n",
       "      <td>beers-law-lab</td>\n",
       "      <td>2017-01-20_15.24.45</td>\n",
       "      <td>1484954687669</td>\n",
       "      <td>811.30</td>\n",
       "      <td>4468</td>\n",
       "      <td>0</td>\n",
       "      <td>8</td>\n",
       "      <td>0</td>\n",
       "      <td>0</td>\n",
       "      <td>True</td>\n",
       "      <td>True</td>\n",
       "      <td>False</td>\n",
       "      <td>C:\\Users\\sperez8\\Documents\\Personal Content\\La...</td>\n",
       "      <td>7</td>\n",
       "    </tr>\n",
       "    <tr>\n",
       "      <th>4</th>\n",
       "      <td>10375163</td>\n",
       "      <td>beers-law-lab</td>\n",
       "      <td>2017-01-17_16.21.15</td>\n",
       "      <td>1484698878197</td>\n",
       "      <td>602.05</td>\n",
       "      <td>1476</td>\n",
       "      <td>0</td>\n",
       "      <td>15</td>\n",
       "      <td>0</td>\n",
       "      <td>0</td>\n",
       "      <td>True</td>\n",
       "      <td>True</td>\n",
       "      <td>False</td>\n",
       "      <td>C:\\Users\\sperez8\\Documents\\Personal Content\\La...</td>\n",
       "      <td>3</td>\n",
       "    </tr>\n",
       "  </tbody>\n",
       "</table>\n",
       "</div>"
      ],
      "text/plain": [
       "  studentid            sim                 date  first time stamp  \\\n",
       "0  10105157  beers-law-lab  2017-03-22_11.41.17     1490208079592   \n",
       "1  10127163  beers-law-lab  2017-01-27_13.26.59     1485552421644   \n",
       "2  10192168  beers-law-lab  2017-01-20_16.22.58     1484958181216   \n",
       "3  10232160  beers-law-lab  2017-01-20_15.24.45     1484954687669   \n",
       "4  10375163  beers-law-lab  2017-01-17_16.21.15     1484698878197   \n",
       "\n",
       "   time in PhET  number of user events  number of table errors  \\\n",
       "0        740.21                   2279                       0   \n",
       "1        971.09                   3097                       0   \n",
       "2        458.90                   3443                       0   \n",
       "3        811.30                   4468                       0   \n",
       "4        602.05                   1476                       0   \n",
       "\n",
       "   number of records  number of gettingValues  number of restores use table  \\\n",
       "0                 11                       11                   0      True   \n",
       "1                 23                        0                   0      True   \n",
       "2                 27                        0                   0      True   \n",
       "3                  8                        0                   0      True   \n",
       "4                 15                        0                   0      True   \n",
       "\n",
       "  use graph use notepad                                           filename  \\\n",
       "0      True        True  C:\\Users\\sperez8\\Documents\\Personal Content\\La...   \n",
       "1      True       False  C:\\Users\\sperez8\\Documents\\Personal Content\\La...   \n",
       "2      True       False  C:\\Users\\sperez8\\Documents\\Personal Content\\La...   \n",
       "3      True       False  C:\\Users\\sperez8\\Documents\\Personal Content\\La...   \n",
       "4      True       False  C:\\Users\\sperez8\\Documents\\Personal Content\\La...   \n",
       "\n",
       "  Session  \n",
       "0      12  \n",
       "1       9  \n",
       "2       7  \n",
       "3       7  \n",
       "4       3  "
      ]
     },
     "execution_count": 13,
     "metadata": {},
     "output_type": "execute_result"
    }
   ],
   "source": [
    "df_beers.head()"
   ]
  },
  {
   "cell_type": "code",
   "execution_count": 14,
   "metadata": {
    "collapsed": false
   },
   "outputs": [
    {
     "data": {
      "text/plain": [
       "<matplotlib.text.Text at 0xaf3b828>"
      ]
     },
     "execution_count": 14,
     "metadata": {},
     "output_type": "execute_result"
    },
    {
     "data": {
      "image/png": "[encoded data removed]",
      "text/plain": [
       "<matplotlib.figure.Figure at 0xaed0a58>"
      ]
     },
     "metadata": {},
     "output_type": "display_data"
    }
   ],
   "source": [
    "df_beers['first time stamp'].hist(bins=100,alpha=0.6,label='beers')\n",
    "df_caps['first time stamp'].hist(bins=100,alpha=0.6,label='caps')\n",
    "# df_sessions['first time stamp'].hist(bins=50,alpha=0.6,label='caps')\n",
    "ax = plt.subplot()\n",
    "ax.legend();ax.set_xlabel('time stamps',fontsize=15);ax.set_ylabel('Number of ids',fontsize=15)\n",
    "# ax.set_xticks(range(int(min(df_beers['first time stamp'])),int(max(df_beers['first time stamp'])),100000000))\n",
    "# ax.set_xticklabels([str(x/60)+''if x in range(0,int(max_time),60*5) else \"\" for x in range(0,int(max_time),60)],fontsize=13)"
   ]
  },
  {
   "cell_type": "code",
   "execution_count": 18,
   "metadata": {
    "collapsed": false
   },
   "outputs": [
    {
     "name": "stdout",
     "output_type": "stream",
     "text": [
      "set(['11111111', '12341234', '12345667', 'student1', '12345678', '12357888', '12344675', '12345567', '12344567', '78379161', '12344564'])\n",
      "set([12456456, 78379161, 99999999, 12345678, 11111111])\n"
     ]
    }
   ],
   "source": [
    "print set(df_beers[df_beers['Session']=='NA']['studentid'])\n",
    "print set(df_caps[df_caps['Session']=='NA']['studentid'])"
   ]
  },
  {
   "cell_type": "code",
   "execution_count": null,
   "metadata": {
    "collapsed": true
   },
   "outputs": [],
   "source": []
  }
 ],
 "metadata": {
  "anaconda-cloud": {},
  "kernelspec": {
   "display_name": "Python [Root]",
   "language": "python",
   "name": "Python [Root]"
  },
  "language_info": {
   "codemirror_mode": {
    "name": "ipython",
    "version": 2
   },
   "file_extension": ".py",
   "mimetype": "text/x-python",
   "name": "python",
   "nbconvert_exporter": "python",
   "pygments_lexer": "ipython2",
   "version": "2.7.12"
  }
 },
 "nbformat": 4,
 "nbformat_minor": 1
}
