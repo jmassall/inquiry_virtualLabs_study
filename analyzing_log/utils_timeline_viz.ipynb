{
 "cells": [
  {
   "cell_type": "markdown",
   "metadata": {},
   "source": [
    "# About utils_timeline_viz.ipynb\n",
    "\n",
    "This notebook defines and demontrastes some of the parsed **log cleaning functions** including:\n",
    "* loading a log file as a dataframe from the data folders using a student id and sim\n",
    "* loading a log file as a dataframe from a file path\n",
    "* removing model events\n",
    "* adding pause events\n",
    "* adding family of actions for each action type\n",
    "\n",
    "This notebook also shows how to make **sequences of actions** from these families and plot those sequences.\n",
    "Finally notebook ends by showing how to visualize clean log data"
   ]
  },
  {
   "cell_type": "code",
   "execution_count": 1,
   "metadata": {
    "collapsed": false
   },
   "outputs": [],
   "source": [
    "import matplotlib\n",
    "import matplotlib.pyplot as plt\n",
    "import numpy as np\n",
    "import pandas as pd\n",
    "import re\n",
    "import seaborn as sns\n",
    "import getpass\n",
    "import json\n",
    "np.set_printoptions(precision=2)\n",
    "pd.set_option('display.max_columns', None);pd.set_option('display.max_rows', None);pd.set_option('precision', 2)\n",
    "%matplotlib inline\n",
    "matplotlib.style.use('ggplot')\n",
    "matplotlib.rcParams['figure.figsize'] = 25, 15"
   ]
  },
  {
   "cell_type": "markdown",
   "metadata": {},
   "source": [
    "## Let's get a sense of the data\n",
    "We either use *find_student_log_file* to pull up a log file given the student id and sim or we import a txt file directly."
   ]
  },
  {
   "cell_type": "code",
   "execution_count": 2,
   "metadata": {
    "collapsed": true
   },
   "outputs": [],
   "source": [
    "def find_student_log_file(infolder, sim, studentid, date=None):\n",
    "    if date:\n",
    "        for root, dirs, files in os.walk(infolder):\n",
    "            for f in files:\n",
    "                if sim in f and studentid in f and date in f:\n",
    "                    return os.path.join(root, f)\n",
    "    else:\n",
    "        for root, dirs, files in os.walk(infolder):\n",
    "            for f in files:\n",
    "                if sim in f and studentid in f:\n",
    "                    return os.path.join(root, f)"
   ]
  },
  {
   "cell_type": "code",
   "execution_count": 3,
   "metadata": {
    "collapsed": true
   },
   "outputs": [],
   "source": [
    "FOLDER =  'C:\\\\Users\\\\'+getpass.getuser()+'\\\\Documents\\\\Personal Content\\\\Lab_skills_study\\\\parsed log data'\n",
    "studentid = '90447168'\n",
    "sim = 'beers'\n",
    "# parsed_file = find_student_log_file(FOLDER,sim,studentid)\n",
    "parsed_file = 'dream_table_beers-law-lab_90447168_2017-01-17_11.22.45.txt'\n",
    "df = pd.read_table(parsed_file, sep='\\t')"
   ]
  },
  {
   "cell_type": "code",
   "execution_count": 4,
   "metadata": {
    "collapsed": false
   },
   "outputs": [
    {
     "data": {
      "text/html": [
       "<div>\n",
       "<table border=\"1\" class=\"dataframe\">\n",
       "  <thead>\n",
       "    <tr style=\"text-align: right;\">\n",
       "      <th></th>\n",
       "      <th>User</th>\n",
       "      <th>Sim</th>\n",
       "      <th>Time</th>\n",
       "      <th>Index</th>\n",
       "      <th>User or Model</th>\n",
       "      <th>Component</th>\n",
       "      <th>Event</th>\n",
       "      <th>Item</th>\n",
       "      <th>Action</th>\n",
       "      <th>Laser on status</th>\n",
       "      <th>Wavelength</th>\n",
       "      <th>Width</th>\n",
       "      <th>Concentration</th>\n",
       "      <th>Absorption</th>\n",
       "      <th>Detector location</th>\n",
       "      <th>Ruler location</th>\n",
       "      <th>diff in parsed table</th>\n",
       "      <th>Table</th>\n",
       "      <th>X axis</th>\n",
       "      <th>Y axis</th>\n",
       "      <th>X axis scale</th>\n",
       "      <th>Y axis scale</th>\n",
       "      <th>Experiment #s included</th>\n",
       "      <th>Notes</th>\n",
       "    </tr>\n",
       "  </thead>\n",
       "  <tbody>\n",
       "    <tr>\n",
       "      <th>0</th>\n",
       "      <td>90447168</td>\n",
       "      <td>beers-law-lab</td>\n",
       "      <td>0.00</td>\n",
       "      <td>0</td>\n",
       "      <td>model</td>\n",
       "      <td>interface</td>\n",
       "      <td>initializing</td>\n",
       "      <td>NaN</td>\n",
       "      <td>beersLawLab.sim.simStarted</td>\n",
       "      <td>NaN</td>\n",
       "      <td>NaN</td>\n",
       "      <td>NaN</td>\n",
       "      <td>NaN</td>\n",
       "      <td>NaN</td>\n",
       "      <td>NaN</td>\n",
       "      <td>NaN</td>\n",
       "      <td>NaN</td>\n",
       "      <td>{}</td>\n",
       "      <td>NaN</td>\n",
       "      <td>NaN</td>\n",
       "      <td>NaN</td>\n",
       "      <td>NaN</td>\n",
       "      <td>NaN</td>\n",
       "      <td>NaN</td>\n",
       "    </tr>\n",
       "    <tr>\n",
       "      <th>1</th>\n",
       "      <td>90447168</td>\n",
       "      <td>beers-law-lab</td>\n",
       "      <td>0.00</td>\n",
       "      <td>2</td>\n",
       "      <td>model</td>\n",
       "      <td>sim</td>\n",
       "      <td>updating state</td>\n",
       "      <td>NaN</td>\n",
       "      <td>NaN</td>\n",
       "      <td>False</td>\n",
       "      <td>780.0</td>\n",
       "      <td>1.0</td>\n",
       "      <td>0.1</td>\n",
       "      <td>NaN</td>\n",
       "      <td>{u'y': 2, u'x': 6.3}</td>\n",
       "      <td>{u'y': 3.58, u'x': 3.3}</td>\n",
       "      <td>NaN</td>\n",
       "      <td>{}</td>\n",
       "      <td>NaN</td>\n",
       "      <td>NaN</td>\n",
       "      <td>NaN</td>\n",
       "      <td>NaN</td>\n",
       "      <td>NaN</td>\n",
       "      <td>NaN</td>\n",
       "    </tr>\n",
       "    <tr>\n",
       "      <th>2</th>\n",
       "      <td>90447168</td>\n",
       "      <td>beers-law-lab</td>\n",
       "      <td>0.01</td>\n",
       "      <td>17</td>\n",
       "      <td>model</td>\n",
       "      <td>interface</td>\n",
       "      <td>initializing</td>\n",
       "      <td>NaN</td>\n",
       "      <td>beersLawLab.navigationBar.titleTextNode.textCh...</td>\n",
       "      <td>False</td>\n",
       "      <td>780.0</td>\n",
       "      <td>1.0</td>\n",
       "      <td>0.1</td>\n",
       "      <td>NaN</td>\n",
       "      <td>{u'y': 2, u'x': 6.3}</td>\n",
       "      <td>{u'y': 3.58, u'x': 3.3}</td>\n",
       "      <td>NaN</td>\n",
       "      <td>{}</td>\n",
       "      <td>NaN</td>\n",
       "      <td>NaN</td>\n",
       "      <td>NaN</td>\n",
       "      <td>NaN</td>\n",
       "      <td>NaN</td>\n",
       "      <td>NaN</td>\n",
       "    </tr>\n",
       "    <tr>\n",
       "      <th>3</th>\n",
       "      <td>90447168</td>\n",
       "      <td>beers-law-lab</td>\n",
       "      <td>3.06</td>\n",
       "      <td>572</td>\n",
       "      <td>user</td>\n",
       "      <td>sim</td>\n",
       "      <td>toggle laser</td>\n",
       "      <td>laser button</td>\n",
       "      <td>NaN</td>\n",
       "      <td>False</td>\n",
       "      <td>780.0</td>\n",
       "      <td>1.0</td>\n",
       "      <td>0.1</td>\n",
       "      <td>NaN</td>\n",
       "      <td>{u'y': 2, u'x': 6.3}</td>\n",
       "      <td>{u'y': 3.58, u'x': 3.3}</td>\n",
       "      <td>NaN</td>\n",
       "      <td>{}</td>\n",
       "      <td>NaN</td>\n",
       "      <td>NaN</td>\n",
       "      <td>NaN</td>\n",
       "      <td>NaN</td>\n",
       "      <td>NaN</td>\n",
       "      <td>NaN</td>\n",
       "    </tr>\n",
       "    <tr>\n",
       "      <th>4</th>\n",
       "      <td>90447168</td>\n",
       "      <td>beers-law-lab</td>\n",
       "      <td>3.08</td>\n",
       "      <td>574</td>\n",
       "      <td>model</td>\n",
       "      <td>sim</td>\n",
       "      <td>updating state</td>\n",
       "      <td>NaN</td>\n",
       "      <td>NaN</td>\n",
       "      <td>True</td>\n",
       "      <td>780.0</td>\n",
       "      <td>1.0</td>\n",
       "      <td>0.1</td>\n",
       "      <td>0.96</td>\n",
       "      <td>{u'y': 2, u'x': 6.3}</td>\n",
       "      <td>{u'y': 3.58, u'x': 3.3}</td>\n",
       "      <td>NaN</td>\n",
       "      <td>{}</td>\n",
       "      <td>NaN</td>\n",
       "      <td>NaN</td>\n",
       "      <td>NaN</td>\n",
       "      <td>NaN</td>\n",
       "      <td>NaN</td>\n",
       "      <td>NaN</td>\n",
       "    </tr>\n",
       "  </tbody>\n",
       "</table>\n",
       "</div>"
      ],
      "text/plain": [
       "       User            Sim  Time  Index User or Model  Component  \\\n",
       "0  90447168  beers-law-lab  0.00      0         model  interface   \n",
       "1  90447168  beers-law-lab  0.00      2         model        sim   \n",
       "2  90447168  beers-law-lab  0.01     17         model  interface   \n",
       "3  90447168  beers-law-lab  3.06    572          user        sim   \n",
       "4  90447168  beers-law-lab  3.08    574         model        sim   \n",
       "\n",
       "            Event          Item  \\\n",
       "0    initializing           NaN   \n",
       "1  updating state           NaN   \n",
       "2    initializing           NaN   \n",
       "3    toggle laser  laser button   \n",
       "4  updating state           NaN   \n",
       "\n",
       "                                              Action Laser on status  \\\n",
       "0                         beersLawLab.sim.simStarted             NaN   \n",
       "1                                                NaN           False   \n",
       "2  beersLawLab.navigationBar.titleTextNode.textCh...           False   \n",
       "3                                                NaN           False   \n",
       "4                                                NaN            True   \n",
       "\n",
       "   Wavelength  Width  Concentration  Absorption     Detector location  \\\n",
       "0         NaN    NaN            NaN         NaN                   NaN   \n",
       "1       780.0    1.0            0.1         NaN  {u'y': 2, u'x': 6.3}   \n",
       "2       780.0    1.0            0.1         NaN  {u'y': 2, u'x': 6.3}   \n",
       "3       780.0    1.0            0.1         NaN  {u'y': 2, u'x': 6.3}   \n",
       "4       780.0    1.0            0.1        0.96  {u'y': 2, u'x': 6.3}   \n",
       "\n",
       "            Ruler location diff in parsed table Table X axis Y axis  \\\n",
       "0                      NaN                  NaN    {}    NaN    NaN   \n",
       "1  {u'y': 3.58, u'x': 3.3}                  NaN    {}    NaN    NaN   \n",
       "2  {u'y': 3.58, u'x': 3.3}                  NaN    {}    NaN    NaN   \n",
       "3  {u'y': 3.58, u'x': 3.3}                  NaN    {}    NaN    NaN   \n",
       "4  {u'y': 3.58, u'x': 3.3}                  NaN    {}    NaN    NaN   \n",
       "\n",
       "   X axis scale Y axis scale  Experiment #s included Notes  \n",
       "0           NaN          NaN                     NaN   NaN  \n",
       "1           NaN          NaN                     NaN   NaN  \n",
       "2           NaN          NaN                     NaN   NaN  \n",
       "3           NaN          NaN                     NaN   NaN  \n",
       "4           NaN          NaN                     NaN   NaN  "
      ]
     },
     "execution_count": 4,
     "metadata": {},
     "output_type": "execute_result"
    }
   ],
   "source": [
    "df.head(n=5)"
   ]
  },
  {
   "cell_type": "code",
   "execution_count": 5,
   "metadata": {
    "collapsed": false
   },
   "outputs": [
    {
     "data": {
      "text/plain": [
       "User or Model\n",
       "model    2036\n",
       "user     3844\n",
       "Name: Event, dtype: int64"
      ]
     },
     "execution_count": 5,
     "metadata": {},
     "output_type": "execute_result"
    }
   ],
   "source": [
    "# There are user and model actions, but how many of each?\n",
    "df.groupby('User or Model')['Event'].count()"
   ]
  },
  {
   "cell_type": "code",
   "execution_count": 6,
   "metadata": {
    "collapsed": false
   },
   "outputs": [
    {
     "name": "stdout",
     "output_type": "stream",
     "text": [
      "User actions:  toggle laser, dragStarted, dragged, dragEnded, editing notes, recording data, expanding table, expanding graph, Adding data to graph, Selecting Y-axis, Selecting X-axis, Changed concentration, Removing data from table, Selecting scale of Y-axis\n",
      "Model actions:  initializing, updating state\n"
     ]
    }
   ],
   "source": [
    "#Which events are user or model actions?\n",
    "print \"User actions: \", \", \".join(df[df['User or Model']=='user']['Event'].unique())\n",
    "print \"Model actions: \", \", \".join(df[df['User or Model']=='model']['Event'].unique())"
   ]
  },
  {
   "cell_type": "code",
   "execution_count": 7,
   "metadata": {
    "collapsed": false
   },
   "outputs": [
    {
     "name": "stdout",
     "output_type": "stream",
     "text": [
      "[nan 'X-axis dropdown menu' 'Y-axis dropdown menu'\n",
      " 'Y-axis scale dropdown menu' 'concentration slider' 'cuvetteNode'\n",
      " 'detectorNode' 'graph' 'laser button' 'solutionControls' 'table'\n",
      " 'trialNumber 1' 'trialNumber 10' 'trialNumber 11' 'trialNumber 12'\n",
      " 'trialNumber 13' 'trialNumber 14' 'trialNumber 15' 'trialNumber 16'\n",
      " 'trialNumber 17' 'trialNumber 18' 'trialNumber 19' 'trialNumber 2'\n",
      " 'trialNumber 20' 'trialNumber 3' 'trialNumber 4' 'trialNumber 5'\n",
      " 'trialNumber 6' 'trialNumber 7' 'trialNumber 8' 'trialNumber 9'\n",
      " 'wavelengthControls']\n"
     ]
    }
   ],
   "source": [
    "#list all possible items for the events to inform action to family dictionary\n",
    "all_items = df['Item'].unique()\n",
    "all_items.sort()\n",
    "print all_items"
   ]
  },
  {
   "cell_type": "markdown",
   "metadata": {},
   "source": [
    "## Let's massage the data\n",
    "### First, we don't care to visualize model actions so we ignore them"
   ]
  },
  {
   "cell_type": "code",
   "execution_count": 8,
   "metadata": {
    "collapsed": true
   },
   "outputs": [],
   "source": [
    "def remove_model_events(df):\n",
    "    return df[df['User or Model'] != 'model']"
   ]
  },
  {
   "cell_type": "code",
   "execution_count": 9,
   "metadata": {
    "collapsed": false
   },
   "outputs": [
    {
     "data": {
      "text/plain": [
       "User or Model\n",
       "user    3844\n",
       "Name: Event, dtype: int64"
      ]
     },
     "execution_count": 9,
     "metadata": {},
     "output_type": "execute_result"
    }
   ],
   "source": [
    "df = remove_model_events(df)\n",
    "df.groupby('User or Model')['Event'].count()"
   ]
  },
  {
   "cell_type": "markdown",
   "metadata": {},
   "source": [
    "### Next we add pauses"
   ]
  },
  {
   "cell_type": "code",
   "execution_count": 10,
   "metadata": {
    "collapsed": false
   },
   "outputs": [],
   "source": [
    "def add_pauses(df,pause_length=15):\n",
    "\n",
    "    def detect_pause(row,current_time,next_time):\n",
    "        duration_of_action = next_time - current_time\n",
    "        if duration_of_action >= pause_length:\n",
    "            row['Family']='Pause'\n",
    "            return row\n",
    "\n",
    "    df['Timeshifted'] = df[['Time']].shift(-1)\n",
    "    df_pauses = df.loc[df['Timeshifted']-df['Time']>=pause_length]\n",
    "    df_pauses.loc[:,('User or Model')]='user'\n",
    "    df_pauses.loc[:,('Event')]='Pause'\n",
    "    df_pauses.loc[:,('Item')]='Pause'\n",
    "    df_pauses.loc[:,('Action')]='Pause'\n",
    "    df_pauses.loc[:,('Time')]=df_pauses[('Time')]+2 #shift it by 2 sec since otherwise the original event and pause have the same start time\n",
    "    df = pd.concat([df,df_pauses],ignore_index=True)\n",
    "    df = df.sort_values('Time')\n",
    "    return df"
   ]
  },
  {
   "cell_type": "code",
   "execution_count": 11,
   "metadata": {
    "collapsed": false
   },
   "outputs": [
    {
     "name": "stderr",
     "output_type": "stream",
     "text": [
      "F:\\Program Files (x86)\\Anaconda\\lib\\site-packages\\pandas\\core\\indexing.py:465: SettingWithCopyWarning: \n",
      "A value is trying to be set on a copy of a slice from a DataFrame.\n",
      "Try using .loc[row_indexer,col_indexer] = value instead\n",
      "\n",
      "See the caveats in the documentation: http://pandas.pydata.org/pandas-docs/stable/indexing.html#indexing-view-versus-copy\n",
      "  self.obj[item] = s\n"
     ]
    }
   ],
   "source": [
    "#Let's try and add pauses to the mix.\n",
    "pause_length = 15\n",
    "df = add_pauses(df,pause_length=pause_length)"
   ]
  },
  {
   "cell_type": "markdown",
   "metadata": {},
   "source": [
    "### All of these data cleaning steps can be packaged into one"
   ]
  },
  {
   "cell_type": "code",
   "execution_count": 12,
   "metadata": {
    "collapsed": true
   },
   "outputs": [],
   "source": [
    "def prep_parsing_data(parsing_file):\n",
    "    df = pd.read_table(parsing_file, sep='\\t')\n",
    "    df = remove_model_events(df)\n",
    "    df = add_pauses(df)\n",
    "    df = add_family(df)\n",
    "    return df"
   ]
  },
  {
   "cell_type": "markdown",
   "metadata": {},
   "source": [
    "## Making the sequences and viz\n",
    "### We define action familes\n",
    "We populate family column based on action_to_family dict above.\n",
    "\n",
    "First we reverse the dictionary to map events to families."
   ]
  },
  {
   "cell_type": "markdown",
   "metadata": {},
   "source": [
    "We populate family column based on action_to_family dict above.\n",
    "\n",
    "First we reverse the dictionary to map events to families."
   ]
  },
  {
   "cell_type": "code",
   "execution_count": 13,
   "metadata": {
    "collapsed": true
   },
   "outputs": [],
   "source": [
    "action_to_family = {'N':['editing notes'],\n",
    "                    'M':['recording data'],\n",
    "                   'Dt':['Removing data from table'],\n",
    "                    'G':['Adding data to graph','Selecting Y-axis','Selecting X-axis', 'Selecting scale of Y-axis','Selecting scale of X-axis','Removing data from graph'],\n",
    "                   'I':['expanding table','collapsing table','expanding graph','collapsing graph','collapsing simulation','expanding simulation','Playing with PhET menu'],\n",
    "                    'P':['Pause']}\n",
    "variable_actions = ['toggle laser','dragEnded','dragged','dragStarted','Changed concentration']\n",
    "family_full_names = {'I':'Interface',\n",
    "                    'P':'Pause',\n",
    "                    'G':'Graph (add/del/edit)',\n",
    "                    'Dt':'Data Table (del/move)',\n",
    "                    'N':'Notes',\n",
    "                    'M':'Record',\n",
    "                    'Vd':'Detector',\n",
    "                    'Vw':'Wavelength',\n",
    "                    'Vc':'Width',\n",
    "                    'Vs':'Concentration',\n",
    "                    'Vl':'Laser toggle',\n",
    "                    }\n",
    "def add_family(df):\n",
    "    event_to_family = {}\n",
    "    for family, events in action_to_family.iteritems():\n",
    "        for event in events:\n",
    "            event_to_family[event]=family\n",
    "\n",
    "    def map_event_family(event,item):\n",
    "        if event in variable_actions:\n",
    "            return 'V'+item[0]\n",
    "        else:\n",
    "            try:\n",
    "                return event_to_family[event]\n",
    "            except KeyError:\n",
    "                print(\"New event found:\",event)\n",
    "\n",
    "    df['Family'] = df.apply(lambda row: map_event_family(row['Event'],row['Item']), axis=1)\n",
    "    return df\n",
    "\n",
    "df = add_family(df)"
   ]
  },
  {
   "cell_type": "code",
   "execution_count": 14,
   "metadata": {
    "collapsed": true
   },
   "outputs": [],
   "source": [
    "def get_blocks_withTime(df, students, ignore=[], add_spaces=False):\n",
    "    \n",
    "    '''\n",
    "    This function gets action sequences in block form along with time stamps for each block for plotting.\n",
    "    '''\n",
    "    blocks = {student:'' for student in students}\n",
    "    time_coords = {student:[] for student in students}\n",
    "    for student in students:\n",
    "        sequence =  list(df['Family'])\n",
    "#         print sequence\n",
    "        time_stamps =  list(df['Time'])\n",
    "        time_coord=[]  #coordinate array for broken bar plot, takes array of (start time, duration)\n",
    "        p = re.compile(r'([A-Z][a-z]{0,3})\\1*')  #this regex finds all action blocks of length 1+\n",
    "#         print ''.join([action for action in sequence if action not in ignore])\n",
    "        #print time_stamps\n",
    "        ##use finditer to return a sequence of matches as an iterator\n",
    "        previous_start = 0\n",
    "        for match in p.finditer(''.join([action for action in sequence if action not in ignore])):\n",
    "            ind = match.span()  #this gives start and end of matched block\n",
    "            ##for matches of action denoted by more than 1 letter (e.g. Tb), need to correct the span\n",
    "#             print match.group(), match.span(), ind[1]-ind[0], len(set(match.group())),\n",
    "            ##set() function yields unique elements of a set, which allows picking out those actions with > 1 letter\n",
    "            ##for e.g. if match.group() gives \"CCCCC\", then set() of that is \"C\" while for \"TbTbTb\" we'd have \"T\",\"b\"\n",
    "            ind = (previous_start, previous_start + (ind[1]-ind[0])/len(set(match.group())))\n",
    "            #print ind\n",
    "            previous_start = ind[1]\n",
    "            if ind[1] >= len(time_stamps):  #block location offset from real index by 1\n",
    "                duration = time_stamps[ind[1]-1] - time_stamps[ind[0]]  #time duration of block\n",
    "                #print time_stamps[ind[1]-1], time_stamps[ind[0]]  #time duration of block\n",
    "            else:\n",
    "                duration = time_stamps[ind[1]] - time_stamps[ind[0]]\n",
    "                #print time_stamps[ind[1]] , time_stamps[ind[0]]\n",
    "            time_coord.append((time_stamps[ind[0]],duration))\n",
    "            #print match.group(), match.span(), duration\n",
    "        #actual regex that converts block of similar actions to just one action\n",
    "        block = re.sub(r'([A-Z][a-z]{0,3})\\1+', r'\\1',''.join([action for action in sequence if action not in ignore]))\n",
    "        if add_spaces:\n",
    "            spaced_block = block[0]\n",
    "            for b in block[1:]:\n",
    "                spaced_block += ' '+b\n",
    "            blocks[student] += spaced_block\n",
    "            time_coords[student] = time_coord\n",
    "        else:\n",
    "            blocks[student] += block\n",
    "            time_coords[student] = time_coord\n",
    "    return blocks, time_coords"
   ]
  },
  {
   "cell_type": "code",
   "execution_count": 15,
   "metadata": {
    "collapsed": true
   },
   "outputs": [],
   "source": [
    "def plot_barGraph_new(df, studentID, family_plot_order, ignore=[]):\n",
    "    '''\n",
    "    This function plots timeline action plots\n",
    "    '''\n",
    "    #get blocks of actions and their time coordinate for broken bar plot\n",
    "    blocks, time_coords = get_blocks_withTime(df, {studentID}, ignore)\n",
    "    #create figure and axes\n",
    "    fig, ax = plt.subplots()\n",
    "    \n",
    "    #split sequences so that each block is an element of a list\n",
    "    splitblocks = re.compile(r'([A-Z]{1}[a-z]{0,3})\\1*').split(blocks[studentID])\n",
    "    splitblocks = [s for s in splitblocks if s != \"\"]\n",
    "\n",
    "    #grab time coordinates of each blocks from dict \n",
    "    time_coord = time_coords[studentID]\n",
    "    axis_labels = []\n",
    "\n",
    "    colors = sns.color_palette(\"hls\", len(family_plot_order))\n",
    "    \n",
    "    for i,action in enumerate(family_plot_order):\n",
    "        axis_labels.append(family_full_names[action])\n",
    "        out = [(x,y) for x,y in zip(splitblocks,time_coord) if action == x]\n",
    "        if out:\n",
    "            _, time_coord_filtered = map(list,zip(*out))\n",
    "            if action in ['P','N','M']:\n",
    "                ax.broken_barh(time_coord_filtered,(10*i,9*len(family_plot_order)+20),facecolors=colors[i],linewidth=0.5,edgecolor='k',alpha=0.4)\n",
    "            ax.broken_barh(time_coord_filtered,(10*i,9),facecolors=colors[i],linewidth=0.5,edgecolor='k')\n",
    "        else:\n",
    "            print \"Action family {0} was not used by student\".format(action)\n",
    "    ax.set_ylim(0, len(axis_labels)*10)\n",
    "    ax.set_xlim(0, time_coord[-1][0]+time_coord[-1][1]+2)\n",
    "    ax.set_xlabel('Time (s)', fontsize=25)\n",
    "    ax.xaxis.set_tick_params(labelsize=20)\n",
    "    ax.set_yticks(range(5,len(axis_labels)*10+15,10))\n",
    "    ax.set_yticklabels(axis_labels, fontsize=25)\n",
    "    ax.grid(True)"
   ]
  },
  {
   "cell_type": "code",
   "execution_count": 16,
   "metadata": {
    "collapsed": false
   },
   "outputs": [],
   "source": [
    "family_plot_order = ['I','N','P','G','Dt','M','Vd','Vw','Vc','Vs','Vl']"
   ]
  },
  {
   "cell_type": "code",
   "execution_count": 17,
   "metadata": {
    "collapsed": false
   },
   "outputs": [
    {
     "data": {
      "image/png": "[encoded data removed]",
      "text/plain": [
       "<matplotlib.figure.Figure at 0x45b5908>"
      ]
     },
     "metadata": {},
     "output_type": "display_data"
    }
   ],
   "source": [
    "plot_barGraph_new(df, '', family_plot_order,ignore=[])"
   ]
  },
  {
   "cell_type": "code",
   "execution_count": 18,
   "metadata": {
    "collapsed": false
   },
   "outputs": [],
   "source": [
    "studentid = '83459165'\n",
    "sim = 'beers'\n",
    "# parsed_file = find_student_log_file(FOLDER,sim,studentid)\n",
    "parsed_file = 'dream_table_beers-law-lab_83459165_2017-01-13_14.26.08.txt'\n",
    "df2 = prep_parsing_data(parsed_file)"
   ]
  },
  {
   "cell_type": "code",
   "execution_count": null,
   "metadata": {
    "collapsed": true
   },
   "outputs": [],
   "source": []
  }
 ],
 "metadata": {
  "anaconda-cloud": {},
  "kernelspec": {
   "display_name": "Python [Root]",
   "language": "python",
   "name": "Python [Root]"
  },
  "language_info": {
   "codemirror_mode": {
    "name": "ipython",
    "version": 2
   },
   "file_extension": ".py",
   "mimetype": "text/x-python",
   "name": "python",
   "nbconvert_exporter": "python",
   "pygments_lexer": "ipython2",
   "version": "2.7.12"
  }
 },
 "nbformat": 4,
 "nbformat_minor": 1
}
