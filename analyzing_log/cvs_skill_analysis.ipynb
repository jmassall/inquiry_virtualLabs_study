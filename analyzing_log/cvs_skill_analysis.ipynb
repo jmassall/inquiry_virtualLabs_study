{
 "cells": [
  {
   "cell_type": "markdown",
   "metadata": {},
   "source": [
    "# About skills_detector.ipynb\n",
    "\n",
    "This notebook detects skills in log files suchs as CVS.\n",
    "This is a work in progress :)"
   ]
  },
  {
   "cell_type": "code",
   "execution_count": 1,
   "metadata": {},
   "outputs": [],
   "source": [
    "%load_ext autoreload\n",
    "%autoreload 1\n",
    "%aimport utils_timeline_viz\n",
    "from utils_timeline_viz import *\n",
    "from utils_read_parsing import *\n",
    "import matplotlib.pyplot as plt\n",
    "%matplotlib inline\n",
    "matplotlib.style.use('ggplot')\n",
    "matplotlib.rcParams['figure.figsize'] = 10, 7\n",
    "from matplotlib.backends.backend_pdf import PdfPages\n",
    "pd.set_option('precision',3)\n",
    "np.set_printoptions(precision=3,suppress=True)"
   ]
  },
  {
   "cell_type": "code",
   "execution_count": 2,
   "metadata": {},
   "outputs": [],
   "source": [
    "table_cvs_df = pd.read_csv('table_cvs_results.txt', sep='\\t')\n",
    "graph_cvs_df = pd.read_csv('graph_cvs_results.txt', sep='\\t')"
   ]
  },
  {
   "cell_type": "code",
   "execution_count": 3,
   "metadata": {
    "collapsed": true
   },
   "outputs": [],
   "source": [
    "metadf = get_student_metadata()\n",
    "order = dict(zip(metadf.index,metadf['activity order']))\n",
    "graph_cvs_df['activity order'] = graph_cvs_df.studentid.apply(lambda sid: order[sid])\n",
    "table_cvs_df['activity order'] = table_cvs_df.studentid.apply(lambda sid: order[sid])"
   ]
  },
  {
   "cell_type": "code",
   "execution_count": 4,
   "metadata": {},
   "outputs": [
    {
     "data": {
      "text/html": [
       "<div>\n",
       "<style>\n",
       "    .dataframe thead tr:only-child th {\n",
       "        text-align: right;\n",
       "    }\n",
       "\n",
       "    .dataframe thead th {\n",
       "        text-align: left;\n",
       "    }\n",
       "\n",
       "    .dataframe tbody tr th {\n",
       "        vertical-align: top;\n",
       "    }\n",
       "</style>\n",
       "<table border=\"1\" class=\"dataframe\">\n",
       "  <thead>\n",
       "    <tr style=\"text-align: right;\">\n",
       "      <th></th>\n",
       "      <th>studentid</th>\n",
       "      <th>Battery voltage</th>\n",
       "      <th>Area</th>\n",
       "      <th>Separation</th>\n",
       "      <th>Wavelength</th>\n",
       "      <th>Width</th>\n",
       "      <th>Concentration</th>\n",
       "      <th>activity order</th>\n",
       "    </tr>\n",
       "  </thead>\n",
       "  <tbody>\n",
       "    <tr>\n",
       "      <th>0</th>\n",
       "      <td>11612162</td>\n",
       "      <td>0</td>\n",
       "      <td>0</td>\n",
       "      <td>0</td>\n",
       "      <td>3</td>\n",
       "      <td>2</td>\n",
       "      <td>3</td>\n",
       "      <td>CL</td>\n",
       "    </tr>\n",
       "    <tr>\n",
       "      <th>1</th>\n",
       "      <td>13660166</td>\n",
       "      <td>0</td>\n",
       "      <td>0</td>\n",
       "      <td>0</td>\n",
       "      <td>0</td>\n",
       "      <td>0</td>\n",
       "      <td>14</td>\n",
       "      <td>LC</td>\n",
       "    </tr>\n",
       "    <tr>\n",
       "      <th>2</th>\n",
       "      <td>41947147</td>\n",
       "      <td>2</td>\n",
       "      <td>0</td>\n",
       "      <td>0</td>\n",
       "      <td>14</td>\n",
       "      <td>6</td>\n",
       "      <td>7</td>\n",
       "      <td>CL</td>\n",
       "    </tr>\n",
       "    <tr>\n",
       "      <th>3</th>\n",
       "      <td>64006159</td>\n",
       "      <td>0</td>\n",
       "      <td>0</td>\n",
       "      <td>0</td>\n",
       "      <td>5</td>\n",
       "      <td>0</td>\n",
       "      <td>6</td>\n",
       "      <td>LC</td>\n",
       "    </tr>\n",
       "    <tr>\n",
       "      <th>4</th>\n",
       "      <td>15749160</td>\n",
       "      <td>0</td>\n",
       "      <td>2</td>\n",
       "      <td>3</td>\n",
       "      <td>0</td>\n",
       "      <td>4</td>\n",
       "      <td>10</td>\n",
       "      <td>CL</td>\n",
       "    </tr>\n",
       "  </tbody>\n",
       "</table>\n",
       "</div>"
      ],
      "text/plain": [
       "   studentid  Battery voltage  Area  Separation  Wavelength  Width  \\\n",
       "0   11612162                0     0           0           3      2   \n",
       "1   13660166                0     0           0           0      0   \n",
       "2   41947147                2     0           0          14      6   \n",
       "3   64006159                0     0           0           5      0   \n",
       "4   15749160                0     2           3           0      4   \n",
       "\n",
       "   Concentration activity order  \n",
       "0              3             CL  \n",
       "1             14             LC  \n",
       "2              7             CL  \n",
       "3              6             LC  \n",
       "4             10             CL  "
      ]
     },
     "execution_count": 4,
     "metadata": {},
     "output_type": "execute_result"
    }
   ],
   "source": [
    "table_cvs_df.head()"
   ]
  },
  {
   "cell_type": "code",
   "execution_count": 5,
   "metadata": {},
   "outputs": [
    {
     "data": {
      "text/plain": [
       "<matplotlib.axes._subplots.AxesSubplot at 0xc259208>"
      ]
     },
     "execution_count": 5,
     "metadata": {},
     "output_type": "execute_result"
    },
    {
     "data": {
      "image/png": "[encoded data removed]",
      "text/plain": [
       "<matplotlib.figure.Figure at 0xc259898>"
      ]
     },
     "metadata": {},
     "output_type": "display_data"
    }
   ],
   "source": [
    "table_cvs_df[['Wavelength','Width','Concentration']].plot.hist(alpha=0.7,bins=range(30),normed =True,ylim=(0,0.8))"
   ]
  },
  {
   "cell_type": "code",
   "execution_count": 6,
   "metadata": {},
   "outputs": [
    {
     "data": {
      "text/plain": [
       "<matplotlib.axes._subplots.AxesSubplot at 0xc52ea90>"
      ]
     },
     "execution_count": 6,
     "metadata": {},
     "output_type": "execute_result"
    },
    {
     "data": {
      "image/png": "[encoded data removed]",
      "text/plain": [
       "<matplotlib.figure.Figure at 0xc47cbe0>"
      ]
     },
     "metadata": {},
     "output_type": "display_data"
    }
   ],
   "source": [
    "table_cvs_df[['Battery voltage','Area','Separation']].plot.hist(alpha=0.7,bins=range(30),normed =True,ylim=(0,1))"
   ]
  },
  {
   "cell_type": "code",
   "execution_count": 7,
   "metadata": {},
   "outputs": [
    {
     "data": {
      "text/plain": [
       "<matplotlib.axes._subplots.AxesSubplot at 0xd6092e8>"
      ]
     },
     "execution_count": 7,
     "metadata": {},
     "output_type": "execute_result"
    },
    {
     "data": {
      "image/png": "[encoded data removed]",
      "text/plain": [
       "<matplotlib.figure.Figure at 0xd4f4eb8>"
      ]
     },
     "metadata": {},
     "output_type": "display_data"
    }
   ],
   "source": [
    "graph_cvs_df[['Wavelength','Width','Concentration']].plot.hist(alpha=0.7,bins=range(30),normed =True,ylim=(0,0.8))"
   ]
  },
  {
   "cell_type": "code",
   "execution_count": 8,
   "metadata": {},
   "outputs": [
    {
     "data": {
      "text/plain": [
       "<matplotlib.axes._subplots.AxesSubplot at 0xd8f0208>"
      ]
     },
     "execution_count": 8,
     "metadata": {},
     "output_type": "execute_result"
    },
    {
     "data": {
      "image/png": "[encoded data removed]",
      "text/plain": [
       "<matplotlib.figure.Figure at 0xdb6e9b0>"
      ]
     },
     "metadata": {},
     "output_type": "display_data"
    }
   ],
   "source": [
    "graph_cvs_df[['Battery voltage','Area','Separation']].plot.hist(alpha=0.7,bins=range(30),normed =True,ylim=(0,1))"
   ]
  },
  {
   "cell_type": "code",
   "execution_count": 9,
   "metadata": {},
   "outputs": [],
   "source": [
    "def binarize(number):\n",
    "    if number >0:\n",
    "        return 1\n",
    "    else:\n",
    "        return 0\n",
    "\n",
    "graph_cvs_df2 = graph_cvs_df.copy()\n",
    "for c in graph_cvs_df:\n",
    "    if c not in  ['studentid','activity order']:\n",
    "        graph_cvs_df2[c] = graph_cvs_df.apply(lambda row: binarize(row[c]), axis=1)\n",
    "\n",
    "table_cvs_df2 = table_cvs_df.copy()\n",
    "for c in table_cvs_df:\n",
    "     if c not in['studentid','activity order']:\n",
    "        table_cvs_df2[c] = table_cvs_df.apply(lambda row: binarize(row[c]), axis=1)"
   ]
  },
  {
   "cell_type": "code",
   "execution_count": 10,
   "metadata": {
    "collapsed": true
   },
   "outputs": [],
   "source": [
    "graph_cvs_df2['sum'] = graph_cvs_df2[[\"Battery voltage\",\"Area\",\"Separation\",\"Wavelength\",\"Width\",\"Concentration\"]].sum(axis=1)\n",
    "table_cvs_df2['sum'] = table_cvs_df2[[\"Battery voltage\",\"Area\",\"Separation\",\"Wavelength\",\"Width\",\"Concentration\"]].sum(axis=1)"
   ]
  },
  {
   "cell_type": "markdown",
   "metadata": {},
   "source": [
    "# ANALYSIS"
   ]
  },
  {
   "cell_type": "code",
   "execution_count": 11,
   "metadata": {},
   "outputs": [
    {
     "name": "stdout",
     "output_type": "stream",
     "text": [
      "Of all 149 students, 5 didn't do CVS in the table and 29 in the graph.\n",
      "On average, out of a max of six variables, students did CVS on 4.14765100671+/-1.73930418443 variables in the table and 2.85906040268+/-2.08870447059 in the graph.\n"
     ]
    }
   ],
   "source": [
    "print \"Of all {0} students, {1} didn't do CVS in the table and {2} in the graph.\".format(len(table_cvs_df2), sum(table_cvs_df2['sum']==0),sum(graph_cvs_df2['sum']==0))\n",
    "print \"On average, out of a max of six variables, students did CVS on {0}+/-{1} variables in the table and {2}+/-{3} in the graph.\".format(np.mean(table_cvs_df2['sum'].values),np.std(table_cvs_df2['sum'].values),np.mean(graph_cvs_df2['sum'].values),np.std(graph_cvs_df2['sum'].values))"
   ]
  },
  {
   "cell_type": "code",
   "execution_count": 12,
   "metadata": {},
   "outputs": [
    {
     "data": {
      "text/html": [
       "<div>\n",
       "<style>\n",
       "    .dataframe thead tr:only-child th {\n",
       "        text-align: right;\n",
       "    }\n",
       "\n",
       "    .dataframe thead th {\n",
       "        text-align: left;\n",
       "    }\n",
       "\n",
       "    .dataframe tbody tr th {\n",
       "        vertical-align: top;\n",
       "    }\n",
       "</style>\n",
       "<table border=\"1\" class=\"dataframe\">\n",
       "  <thead>\n",
       "    <tr style=\"text-align: right;\">\n",
       "      <th></th>\n",
       "      <th>studentid</th>\n",
       "      <th>Battery voltage</th>\n",
       "      <th>Area</th>\n",
       "      <th>Separation</th>\n",
       "      <th>Wavelength</th>\n",
       "      <th>Width</th>\n",
       "      <th>Concentration</th>\n",
       "      <th>activity order</th>\n",
       "      <th>sum</th>\n",
       "    </tr>\n",
       "  </thead>\n",
       "  <tbody>\n",
       "    <tr>\n",
       "      <th>0</th>\n",
       "      <td>11612162</td>\n",
       "      <td>0</td>\n",
       "      <td>0</td>\n",
       "      <td>0</td>\n",
       "      <td>1</td>\n",
       "      <td>1</td>\n",
       "      <td>1</td>\n",
       "      <td>CL</td>\n",
       "      <td>3</td>\n",
       "    </tr>\n",
       "    <tr>\n",
       "      <th>1</th>\n",
       "      <td>13660166</td>\n",
       "      <td>0</td>\n",
       "      <td>0</td>\n",
       "      <td>0</td>\n",
       "      <td>0</td>\n",
       "      <td>0</td>\n",
       "      <td>1</td>\n",
       "      <td>LC</td>\n",
       "      <td>1</td>\n",
       "    </tr>\n",
       "    <tr>\n",
       "      <th>2</th>\n",
       "      <td>41947147</td>\n",
       "      <td>1</td>\n",
       "      <td>0</td>\n",
       "      <td>0</td>\n",
       "      <td>1</td>\n",
       "      <td>1</td>\n",
       "      <td>1</td>\n",
       "      <td>CL</td>\n",
       "      <td>4</td>\n",
       "    </tr>\n",
       "    <tr>\n",
       "      <th>3</th>\n",
       "      <td>64006159</td>\n",
       "      <td>0</td>\n",
       "      <td>0</td>\n",
       "      <td>0</td>\n",
       "      <td>1</td>\n",
       "      <td>0</td>\n",
       "      <td>1</td>\n",
       "      <td>LC</td>\n",
       "      <td>2</td>\n",
       "    </tr>\n",
       "    <tr>\n",
       "      <th>4</th>\n",
       "      <td>15749160</td>\n",
       "      <td>0</td>\n",
       "      <td>1</td>\n",
       "      <td>1</td>\n",
       "      <td>0</td>\n",
       "      <td>1</td>\n",
       "      <td>1</td>\n",
       "      <td>CL</td>\n",
       "      <td>4</td>\n",
       "    </tr>\n",
       "  </tbody>\n",
       "</table>\n",
       "</div>"
      ],
      "text/plain": [
       "   studentid  Battery voltage  Area  Separation  Wavelength  Width  \\\n",
       "0   11612162                0     0           0           1      1   \n",
       "1   13660166                0     0           0           0      0   \n",
       "2   41947147                1     0           0           1      1   \n",
       "3   64006159                0     0           0           1      0   \n",
       "4   15749160                0     1           1           0      1   \n",
       "\n",
       "   Concentration activity order  sum  \n",
       "0              1             CL    3  \n",
       "1              1             LC    1  \n",
       "2              1             CL    4  \n",
       "3              1             LC    2  \n",
       "4              1             CL    4  "
      ]
     },
     "execution_count": 12,
     "metadata": {},
     "output_type": "execute_result"
    }
   ],
   "source": [
    "table_cvs_df2.head()"
   ]
  },
  {
   "cell_type": "code",
   "execution_count": 13,
   "metadata": {},
   "outputs": [
    {
     "data": {
      "text/plain": [
       "<matplotlib.axes._subplots.AxesSubplot at 0xde261d0>"
      ]
     },
     "execution_count": 13,
     "metadata": {},
     "output_type": "execute_result"
    },
    {
     "data": {
      "image/png": "[encoded data removed]",
      "text/plain": [
       "<matplotlib.figure.Figure at 0xe02ba90>"
      ]
     },
     "metadata": {},
     "output_type": "display_data"
    }
   ],
   "source": [
    "table_cvs_df2[['sum']].plot.hist(alpha=0.7,bins=7,normed =True,ylim=(0,1))"
   ]
  },
  {
   "cell_type": "code",
   "execution_count": 14,
   "metadata": {},
   "outputs": [
    {
     "data": {
      "text/plain": [
       "<matplotlib.axes._subplots.AxesSubplot at 0xdb6ef28>"
      ]
     },
     "execution_count": 14,
     "metadata": {},
     "output_type": "execute_result"
    },
    {
     "data": {
      "image/png": "[encoded data removed]",
      "text/plain": [
       "<matplotlib.figure.Figure at 0xe4660f0>"
      ]
     },
     "metadata": {},
     "output_type": "display_data"
    }
   ],
   "source": [
    "graph_cvs_df2[['sum']].plot.hist(alpha=0.7,bins=7,normed =True,ylim=(0,1))"
   ]
  },
  {
   "cell_type": "code",
   "execution_count": 15,
   "metadata": {},
   "outputs": [
    {
     "data": {
      "text/plain": [
       "studentid          2.200e+07\n",
       "Battery voltage    3.154e-01\n",
       "Area               5.101e-01\n",
       "Separation         5.034e-01\n",
       "Wavelength         4.161e-01\n",
       "Width              5.638e-01\n",
       "Concentration      5.503e-01\n",
       "sum                2.859e+00\n",
       "dtype: float64"
      ]
     },
     "execution_count": 15,
     "metadata": {},
     "output_type": "execute_result"
    }
   ],
   "source": [
    "graph_cvs_df2.mean()"
   ]
  },
  {
   "cell_type": "code",
   "execution_count": 16,
   "metadata": {},
   "outputs": [
    {
     "name": "stdout",
     "output_type": "stream",
     "text": [
      "Percentage of students doing CVS in the table for each variable:\n",
      "\tBattery voltage :\t0.59\n",
      "\tArea :\t0.7\n",
      "\tSeparation :\t0.68\n",
      "\tWavelength :\t0.7\n",
      "\tWidth :\t0.74\n",
      "\tConcentration :\t0.74\n",
      "Percentage of students doing CVS in the graph for each variable:\n",
      "\tBattery voltage :\t0.32\n",
      "\tArea :\t0.51\n",
      "\tSeparation :\t0.5\n",
      "\tWavelength :\t0.42\n",
      "\tWidth :\t0.56\n",
      "\tConcentration :\t0.55\n"
     ]
    }
   ],
   "source": [
    "print \"Percentage of students doing CVS in the table for each variable:\"\n",
    "for c in table_cvs_df2:\n",
    "     if c not in['studentid','activity order','sum']:\n",
    "        print '\\t',c,\":\\t\", round(np.mean(table_cvs_df2[c].values),2)\n",
    "print \"Percentage of students doing CVS in the graph for each variable:\"\n",
    "for c in graph_cvs_df2:\n",
    "     if c not in['studentid','activity order','sum']:\n",
    "        print '\\t',c,\":\\t\", round(np.mean(graph_cvs_df2[c].values),2)"
   ]
  },
  {
   "cell_type": "code",
   "execution_count": 17,
   "metadata": {},
   "outputs": [
    {
     "data": {
      "text/plain": [
       "<matplotlib.axes._subplots.AxesSubplot at 0xe7463c8>"
      ]
     },
     "execution_count": 17,
     "metadata": {},
     "output_type": "execute_result"
    },
    {
     "data": {
      "image/png": "[encoded data removed]",
      "text/plain": [
       "<matplotlib.figure.Figure at 0xe506f98>"
      ]
     },
     "metadata": {},
     "output_type": "display_data"
    }
   ],
   "source": [
    "table_cvs_df[[\"Battery voltage\",\"Area\",\"Separation\",\"Wavelength\",\"Width\",\"Concentration\"]].plot.box()"
   ]
  },
  {
   "cell_type": "code",
   "execution_count": 18,
   "metadata": {},
   "outputs": [
    {
     "data": {
      "text/plain": [
       "<matplotlib.axes._subplots.AxesSubplot at 0xeb04d30>"
      ]
     },
     "execution_count": 18,
     "metadata": {},
     "output_type": "execute_result"
    },
    {
     "data": {
      "image/png": "[encoded data removed]",
      "text/plain": [
       "<matplotlib.figure.Figure at 0xeaf5eb8>"
      ]
     },
     "metadata": {},
     "output_type": "display_data"
    }
   ],
   "source": [
    "graph_cvs_df[[\"Battery voltage\",\"Area\",\"Separation\",\"Wavelength\",\"Width\",\"Concentration\"]].plot.box()"
   ]
  },
  {
   "cell_type": "markdown",
   "metadata": {},
   "source": [
    "## Difference between CL and LC"
   ]
  },
  {
   "cell_type": "code",
   "execution_count": 19,
   "metadata": {},
   "outputs": [
    {
     "data": {
      "text/html": [
       "<div>\n",
       "<style>\n",
       "    .dataframe thead tr:only-child th {\n",
       "        text-align: right;\n",
       "    }\n",
       "\n",
       "    .dataframe thead th {\n",
       "        text-align: left;\n",
       "    }\n",
       "\n",
       "    .dataframe tbody tr th {\n",
       "        vertical-align: top;\n",
       "    }\n",
       "</style>\n",
       "<table border=\"1\" class=\"dataframe\">\n",
       "  <thead>\n",
       "    <tr style=\"text-align: right;\">\n",
       "      <th></th>\n",
       "      <th>studentid</th>\n",
       "      <th>Battery voltage</th>\n",
       "      <th>Area</th>\n",
       "      <th>Separation</th>\n",
       "      <th>Wavelength</th>\n",
       "      <th>Width</th>\n",
       "      <th>Concentration</th>\n",
       "    </tr>\n",
       "    <tr>\n",
       "      <th>activity order</th>\n",
       "      <th></th>\n",
       "      <th></th>\n",
       "      <th></th>\n",
       "      <th></th>\n",
       "      <th></th>\n",
       "      <th></th>\n",
       "      <th></th>\n",
       "    </tr>\n",
       "  </thead>\n",
       "  <tbody>\n",
       "    <tr>\n",
       "      <th>CL</th>\n",
       "      <td>2.009e+07</td>\n",
       "      <td>2.972</td>\n",
       "      <td>3.153</td>\n",
       "      <td>2.931</td>\n",
       "      <td>5.431</td>\n",
       "      <td>4.819</td>\n",
       "      <td>4.444</td>\n",
       "    </tr>\n",
       "    <tr>\n",
       "      <th>LC</th>\n",
       "      <td>2.378e+07</td>\n",
       "      <td>3.130</td>\n",
       "      <td>4.169</td>\n",
       "      <td>3.857</td>\n",
       "      <td>4.870</td>\n",
       "      <td>3.909</td>\n",
       "      <td>4.195</td>\n",
       "    </tr>\n",
       "  </tbody>\n",
       "</table>\n",
       "</div>"
      ],
      "text/plain": [
       "                studentid  Battery voltage   Area  Separation  Wavelength  \\\n",
       "activity order                                                              \n",
       "CL              2.009e+07            2.972  3.153       2.931       5.431   \n",
       "LC              2.378e+07            3.130  4.169       3.857       4.870   \n",
       "\n",
       "                Width  Concentration  \n",
       "activity order                        \n",
       "CL              4.819          4.444  \n",
       "LC              3.909          4.195  "
      ]
     },
     "execution_count": 19,
     "metadata": {},
     "output_type": "execute_result"
    }
   ],
   "source": [
    "table_cvs_df.groupby(by='activity order').mean()"
   ]
  },
  {
   "cell_type": "code",
   "execution_count": 20,
   "metadata": {},
   "outputs": [
    {
     "data": {
      "text/html": [
       "<div>\n",
       "<style>\n",
       "    .dataframe thead tr:only-child th {\n",
       "        text-align: right;\n",
       "    }\n",
       "\n",
       "    .dataframe thead th {\n",
       "        text-align: left;\n",
       "    }\n",
       "\n",
       "    .dataframe tbody tr th {\n",
       "        vertical-align: top;\n",
       "    }\n",
       "</style>\n",
       "<table border=\"1\" class=\"dataframe\">\n",
       "  <thead>\n",
       "    <tr style=\"text-align: right;\">\n",
       "      <th></th>\n",
       "      <th>studentid</th>\n",
       "      <th>Battery voltage</th>\n",
       "      <th>Area</th>\n",
       "      <th>Separation</th>\n",
       "      <th>Wavelength</th>\n",
       "      <th>Width</th>\n",
       "      <th>Concentration</th>\n",
       "    </tr>\n",
       "    <tr>\n",
       "      <th>activity order</th>\n",
       "      <th></th>\n",
       "      <th></th>\n",
       "      <th></th>\n",
       "      <th></th>\n",
       "      <th></th>\n",
       "      <th></th>\n",
       "      <th></th>\n",
       "    </tr>\n",
       "  </thead>\n",
       "  <tbody>\n",
       "    <tr>\n",
       "      <th>CL</th>\n",
       "      <td>2.009e+07</td>\n",
       "      <td>1.542</td>\n",
       "      <td>2.403</td>\n",
       "      <td>2.306</td>\n",
       "      <td>3.569</td>\n",
       "      <td>4.125</td>\n",
       "      <td>3.903</td>\n",
       "    </tr>\n",
       "    <tr>\n",
       "      <th>LC</th>\n",
       "      <td>2.378e+07</td>\n",
       "      <td>1.935</td>\n",
       "      <td>3.416</td>\n",
       "      <td>3.026</td>\n",
       "      <td>3.390</td>\n",
       "      <td>3.052</td>\n",
       "      <td>3.143</td>\n",
       "    </tr>\n",
       "  </tbody>\n",
       "</table>\n",
       "</div>"
      ],
      "text/plain": [
       "                studentid  Battery voltage   Area  Separation  Wavelength  \\\n",
       "activity order                                                              \n",
       "CL              2.009e+07            1.542  2.403       2.306       3.569   \n",
       "LC              2.378e+07            1.935  3.416       3.026       3.390   \n",
       "\n",
       "                Width  Concentration  \n",
       "activity order                        \n",
       "CL              4.125          3.903  \n",
       "LC              3.052          3.143  "
      ]
     },
     "execution_count": 20,
     "metadata": {},
     "output_type": "execute_result"
    }
   ],
   "source": [
    "graph_cvs_df.groupby(by='activity order').mean()"
   ]
  },
  {
   "cell_type": "code",
   "execution_count": 21,
   "metadata": {},
   "outputs": [],
   "source": [
    "table_cvs_df_CL = table_cvs_df[table_cvs_df['activity order']=='CL']\n",
    "table_cvs_df_LC = table_cvs_df[table_cvs_df['activity order']=='LC']\n",
    "table_cvs_df2_CL = table_cvs_df2[table_cvs_df2['activity order']=='CL']\n",
    "table_cvs_df2_LC = table_cvs_df2[table_cvs_df2['activity order']=='LC']\n",
    "graph_cvs_df_CL = graph_cvs_df[graph_cvs_df['activity order']=='CL']\n",
    "graph_cvs_df_LC = graph_cvs_df[graph_cvs_df['activity order']=='LC']\n",
    "graph_cvs_df2_CL = graph_cvs_df2[graph_cvs_df2['activity order']=='CL']\n",
    "graph_cvs_df2_LC = graph_cvs_df2[graph_cvs_df2['activity order']=='LC']"
   ]
  },
  {
   "cell_type": "code",
   "execution_count": 22,
   "metadata": {},
   "outputs": [
    {
     "name": "stdout",
     "output_type": "stream",
     "text": [
      "In table\n",
      "\tPercentage of students doing CVS in the table for each variable for LC:\n",
      "\t\tBattery voltage :\t0.58\n",
      "\t\tArea :\t0.77\n",
      "\t\tSeparation :\t0.75\n",
      "\t\tWavelength :\t0.7\n",
      "\t\tWidth :\t0.74\n",
      "\t\tConcentration :\t0.75\n",
      "\tPercentage of students doing CVS in the table for each variable for CL:\n",
      "\t\tBattery voltage :\t0.6\n",
      "\t\tArea :\t0.63\n",
      "\t\tSeparation :\t0.61\n",
      "\t\tWavelength :\t0.69\n",
      "\t\tWidth :\t0.74\n",
      "\t\tConcentration :\t0.72\n",
      "In graph\n",
      "\tPercentage of students doing CVS in the graph for each variable for LC:\n",
      "\t\tBattery voltage :\t0.32\n",
      "\t\tArea :\t0.6\n",
      "\t\tSeparation :\t0.56\n",
      "\t\tWavelength :\t0.42\n",
      "\t\tWidth :\t0.53\n",
      "\t\tConcentration :\t0.53\n",
      "\tPercentage of students doing CVS in the graph for each variable for CL:\n",
      "\t\tBattery voltage :\t0.31\n",
      "\t\tArea :\t0.42\n",
      "\t\tSeparation :\t0.44\n",
      "\t\tWavelength :\t0.42\n",
      "\t\tWidth :\t0.6\n",
      "\t\tConcentration :\t0.57\n"
     ]
    }
   ],
   "source": [
    "print \"In table\"\n",
    "print \"\\tPercentage of students doing CVS in the table for each variable for LC:\"\n",
    "for c in table_cvs_df2_LC:\n",
    "     if c not in['studentid','activity order','sum']:\n",
    "        print '\\t\\t',c,\":\\t\", round(np.mean(table_cvs_df2_LC[c].values),2)\n",
    "print \"\\tPercentage of students doing CVS in the table for each variable for CL:\"\n",
    "for c in table_cvs_df2_CL:\n",
    "     if c not in['studentid','activity order','sum']:\n",
    "        print '\\t\\t',c,\":\\t\", round(np.mean(table_cvs_df2_CL[c].values),2)\n",
    "\n",
    "print \"In graph\"\n",
    "print \"\\tPercentage of students doing CVS in the graph for each variable for LC:\"\n",
    "for c in graph_cvs_df2_LC:\n",
    "     if c not in['studentid','activity order','sum']:\n",
    "        print '\\t\\t',c,\":\\t\", round(np.mean(graph_cvs_df2_LC[c].values),2)\n",
    "print \"\\tPercentage of students doing CVS in the graph for each variable for CL:\"\n",
    "for c in graph_cvs_df2_CL:\n",
    "     if c not in['studentid','activity order','sum']:\n",
    "        print '\\t\\t',c,\":\\t\", round(np.mean(graph_cvs_df2_CL[c].values),2)"
   ]
  },
  {
   "cell_type": "markdown",
   "metadata": {},
   "source": [
    "## table + graph combo"
   ]
  },
  {
   "cell_type": "code",
   "execution_count": 25,
   "metadata": {},
   "outputs": [
    {
     "name": "stdout",
     "output_type": "stream",
     "text": [
      "\n",
      "Battery voltage  CL, LC\n",
      "\t none\t: 0.4 0.42\n",
      "\t table\t: 0.29 0.26\n",
      "\t graph\t: 0.0 0.0\n",
      "\t both\t: 0.31 0.32\n",
      "\n",
      "Area  CL, LC\n",
      "\t none\t: 0.38 0.23\n",
      "\t table\t: 0.21 0.17\n",
      "\t graph\t: 0.0 0.0\n",
      "\t both\t: 0.42 0.6\n",
      "\n",
      "Separation  CL, LC\n",
      "\t none\t: 0.38 0.25\n",
      "\t table\t: 0.18 0.19\n",
      "\t graph\t: 0.01 0.0\n",
      "\t both\t: 0.43 0.56\n",
      "\n",
      "Wavelength  CL, LC\n",
      "\t none\t: 0.31 0.3\n",
      "\t table\t: 0.28 0.29\n",
      "\t graph\t: 0.0 0.0\n",
      "\t both\t: 0.42 0.42\n",
      "\n",
      "Width  CL, LC\n",
      "\t none\t: 0.26 0.26\n",
      "\t table\t: 0.14 0.21\n",
      "\t graph\t: 0.0 0.0\n",
      "\t both\t: 0.6 0.53\n",
      "\n",
      "Concentration  CL, LC\n",
      "\t none\t: 0.28 0.25\n",
      "\t table\t: 0.15 0.22\n",
      "\t graph\t: 0.0 0.0\n",
      "\t both\t: 0.57 0.53\n"
     ]
    }
   ],
   "source": [
    "for var in [\"Battery voltage\",\"Area\",\"Separation\",\"Wavelength\",\"Width\",\"Concentration\"]:\n",
    "    print '\\n',var, \" CL, LC\"\n",
    "    noneCL = len(set(table_cvs_df2_CL[table_cvs_df2_CL[var]==0].index.values).intersection(set(graph_cvs_df2_CL[graph_cvs_df2_CL[var]==0].index.values)))/float(len(table_cvs_df2_CL))\n",
    "    noneLC = len(set(table_cvs_df2_LC[table_cvs_df2_LC[var]==0].index.values).intersection(set(graph_cvs_df2_LC[graph_cvs_df2_LC[var]==0].index.values)))/float(len(table_cvs_df2_LC))\n",
    "    print '\\t none\\t:',round(noneCL,2),round(noneLC,2)\n",
    "    tableCL = len(set(table_cvs_df2_CL[table_cvs_df2_CL[var]==1].index.values).intersection(set(graph_cvs_df2_CL[graph_cvs_df2_CL[var]==0].index.values)))/float(len(table_cvs_df2_CL))\n",
    "    tableLC = len(set(table_cvs_df2_LC[table_cvs_df2_LC[var]==1].index.values).intersection(set(graph_cvs_df2_LC[graph_cvs_df2_LC[var]==0].index.values)))/float(len(table_cvs_df2_LC))\n",
    "    print '\\t table\\t:',round(tableCL,2),round(tableLC,2)\n",
    "    graphCL = len(set(table_cvs_df2_CL[table_cvs_df2_CL[var]==0].index.values).intersection(set(graph_cvs_df2_CL[graph_cvs_df2_CL[var]==1].index.values)))/float(len(table_cvs_df2_CL))\n",
    "    graphLC = len(set(table_cvs_df2_LC[table_cvs_df2_LC[var]==0].index.values).intersection(set(graph_cvs_df2_LC[graph_cvs_df2_LC[var]==1].index.values)))/float(len(table_cvs_df2_LC))\n",
    "    print '\\t graph\\t:',round(graphCL,2),round(graphLC,2)\n",
    "    bothCL = len(set(table_cvs_df2_CL[table_cvs_df2_CL[var]==1].index.values).intersection(set(graph_cvs_df2_CL[graph_cvs_df2_CL[var]==1].index.values)))/float(len(table_cvs_df2_CL))\n",
    "    bothLC = len(set(table_cvs_df2_LC[table_cvs_df2_LC[var]==1].index.values).intersection(set(graph_cvs_df2_LC[graph_cvs_df2_LC[var]==1].index.values)))/float(len(table_cvs_df2_LC))\n",
    "    print '\\t both\\t:',round(bothCL,2),round(bothLC,2)"
   ]
  },
  {
   "cell_type": "code",
   "execution_count": null,
   "metadata": {
    "collapsed": true
   },
   "outputs": [],
   "source": []
  }
 ],
 "metadata": {
  "anaconda-cloud": {},
  "kernelspec": {
   "display_name": "Python 2",
   "language": "python",
   "name": "python2"
  },
  "language_info": {
   "codemirror_mode": {
    "name": "ipython",
    "version": 2
   },
   "file_extension": ".py",
   "mimetype": "text/x-python",
   "name": "python",
   "nbconvert_exporter": "python",
   "pygments_lexer": "ipython2",
   "version": "2.7.13"
  }
 },
 "nbformat": 4,
 "nbformat_minor": 1
}
