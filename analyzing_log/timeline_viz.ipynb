{
 "cells": [
  {
   "cell_type": "markdown",
   "metadata": {},
   "source": [
    "# About timeline_viz.ipynb\n",
    "\n",
    "This notebook uses the functions defined and demontrasted in *utils_timeline_viz.ipynb* to clean log data and visualize it.\n",
    "This is a work in progress :)"
   ]
  },
  {
   "cell_type": "code",
   "execution_count": 1,
   "metadata": {
    "collapsed": false
   },
   "outputs": [
    {
     "name": "stdout",
     "output_type": "stream",
     "text": [
      "importing notebook from utils_timeline_viz.ipynb\n",
      "importing function: find_student_log_file\n",
      "importing function: remove_model_events\n",
      "importing function: detect_pause\n",
      "importing function: prep_parsing_data\n",
      "importing function: add_family\n"
     ]
    }
   ],
   "source": [
    "exec(open('load_utils.py').read())\n",
    "import utils_timeline_viz as ut"
   ]
  },
  {
   "cell_type": "code",
   "execution_count": 2,
   "metadata": {
    "collapsed": false
   },
   "outputs": [
    {
     "name": "stderr",
     "output_type": "stream",
     "text": [
      "F:\\Program Files (x86)\\Anaconda\\lib\\site-packages\\pandas\\core\\indexing.py:465: SettingWithCopyWarning: \n",
      "A value is trying to be set on a copy of a slice from a DataFrame.\n",
      "Try using .loc[row_indexer,col_indexer] = value instead\n",
      "\n",
      "See the caveats in the documentation: http://pandas.pydata.org/pandas-docs/stable/indexing.html#indexing-view-versus-copy\n",
      "  self.obj[item] = s\n"
     ]
    }
   ],
   "source": [
    "studentid = '83459165'\n",
    "sim = 'beers'\n",
    "# parsed_file = find_student_log_file(FOLDER,sim,studentid)\n",
    "parsed_file = 'dream_table_beers-law-lab_83459165_2017-01-13_14.26.08.txt'\n",
    "df2 = ut.prep_parsing_data(parsed_file)"
   ]
  },
  {
   "cell_type": "code",
   "execution_count": null,
   "metadata": {
    "collapsed": true
   },
   "outputs": [],
   "source": [
    "def plot_barGraph_new(df, studentID, family_plot_order, ignore=[]):\n",
    "    '''\n",
    "    This function plots timeline action plots\n",
    "    '''\n",
    "    #get blocks of actions and their time coordinate for broken bar plot\n",
    "    blocks, time_coords = get_blocks_withTime(df, {studentID}, ignore)\n",
    "    #create figure and axes\n",
    "    fig, ax = plt.subplots()\n",
    "    \n",
    "    #split sequences so that each block is an element of a list\n",
    "    splitblocks = re.compile(r'([A-Z]{1}[a-z]{0,3})\\1*').split(blocks[studentID])\n",
    "    splitblocks = [s for s in splitblocks if s != \"\"]\n",
    "\n",
    "    #grab time coordinates of each blocks from dict \n",
    "    time_coord = time_coords[studentID]\n",
    "    axis_labels = []\n",
    "\n",
    "    colors = sns.color_palette(\"hls\", len(family_plot_order))\n",
    "    \n",
    "    for i,action in enumerate(family_plot_order):\n",
    "        axis_labels.append(family_full_names[action])\n",
    "        out = [(x,y) for x,y in zip(splitblocks,time_coord) if action == x]\n",
    "        if out:\n",
    "            _, time_coord_filtered = map(list,zip(*out))\n",
    "            if action in ['P','N','M']:\n",
    "                ax.broken_barh(time_coord_filtered,(10*i,9*len(family_plot_order)+20),facecolors=colors[i],linewidth=0.5,edgecolor='k',alpha=0.4)\n",
    "            ax.broken_barh(time_coord_filtered,(10*i,9),facecolors=colors[i],linewidth=0.5,edgecolor='k')\n",
    "        else:\n",
    "            print \"Action family {0} was not used by student\".format(action)\n",
    "    ax.set_ylim(0, len(axis_labels)*10)\n",
    "    ax.set_xlim(0, time_coord[-1][0]+time_coord[-1][1]+2)\n",
    "    ax.set_xlabel('Time (s)', fontsize=25)\n",
    "    ax.xaxis.set_tick_params(labelsize=20)\n",
    "    ax.set_yticks(range(5,len(axis_labels)*10+15,10))\n",
    "    ax.set_yticklabels(axis_labels, fontsize=25)\n",
    "    ax.grid(True)"
   ]
  },
  {
   "cell_type": "code",
   "execution_count": null,
   "metadata": {
    "collapsed": true
   },
   "outputs": [],
   "source": []
  }
 ],
 "metadata": {
  "kernelspec": {
   "display_name": "Python [Root]",
   "language": "python",
   "name": "Python [Root]"
  },
  "language_info": {
   "codemirror_mode": {
    "name": "ipython",
    "version": 2
   },
   "file_extension": ".py",
   "mimetype": "text/x-python",
   "name": "python",
   "nbconvert_exporter": "python",
   "pygments_lexer": "ipython2",
   "version": "2.7.12"
  }
 },
 "nbformat": 4,
 "nbformat_minor": 0
}
