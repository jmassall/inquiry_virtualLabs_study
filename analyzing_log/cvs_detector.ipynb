{
 "cells": [
  {
   "cell_type": "markdown",
   "metadata": {},
   "source": [
    "# About skills_detector.ipynb\n",
    "\n",
    "This notebook detects skills in log files suchs as CVS.\n",
    "This is a work in progress :)"
   ]
  },
  {
   "cell_type": "code",
   "execution_count": 1,
   "metadata": {
    "collapsed": true
   },
   "outputs": [],
   "source": [
    "%load_ext autoreload\n",
    "%autoreload 1\n",
    "%aimport utils_timeline_viz\n",
    "from utils_timeline_viz import *\n",
    "%matplotlib inline\n",
    "matplotlib.style.use('ggplot')\n",
    "matplotlib.rcParams['figure.figsize'] = 25, 15\n",
    "from matplotlib.backends.backend_pdf import PdfPages"
   ]
  },
  {
   "cell_type": "markdown",
   "metadata": {
    "collapsed": true
   },
   "source": [
    "## Quantitative CVS\n",
    "### In table\n",
    "First we extract all of their tables at all time points, analyze them for CVS and find the maximum number of values of a variable that was part of a control variable strategy instance.\n",
    "For now, use of this skill relies on the following production rules (evaluated per variable):\n",
    "\n",
    "* more than 2 successive records were done where only the variable was changed\n",
    "* the outcome variable was different for both data points\n",
    "* battery connected (caps)\n",
    "* laser is on (beers)\n"
   ]
  },
  {
   "cell_type": "code",
   "execution_count": 37,
   "metadata": {
    "collapsed": false
   },
   "outputs": [],
   "source": [
    "def get_outcome_values(pts):\n",
    "    outcomes = []\n",
    "    for pt in pts:\n",
    "        if \"Charge\" in pt.keys():\n",
    "            outcomes.append(pt[\"Charge\"])\n",
    "        elif \"Absorbance\" in pt.keys():\n",
    "            outcomes.append(pt[\"Absorbance\"])\n",
    "        else:\n",
    "            print \"OUTCOME MISSING\"\n",
    "    return outcomes\n",
    "\n",
    "def detect_cvs_quant_in_table(table):\n",
    "    cvs_variable = {\"Battery voltage\":0,\n",
    "                        \"Area\":0,\n",
    "                        \"Separation\":0,\n",
    "                        \"Width\":0,\n",
    "                        \"Wavelength\":0,\n",
    "                        \"Concentration\":0}\n",
    "\n",
    "    variable_changed = None\n",
    "    new_var_changed = None\n",
    "    number_of_changes = 1\n",
    "    prev_point = None\n",
    "    #data points in order of trial number, which is synonomous with \n",
    "    #order of capture since when you move data points around in the table,\n",
    "    #they keep the same trial number\n",
    "    for datapoint in sorted(table.iterkeys()): \n",
    "        curr_point = table[datapoint]\n",
    "        if prev_point:\n",
    "            values_of_2_points = get_values_per_variable([prev_point,curr_point])\n",
    "            confounded = pts_are_confounded(values_of_2_points)\n",
    "            outcomes = get_outcome_values([prev_point,curr_point])\n",
    "            outcome1,outcome2 = outcomes[0],outcomes[1]\n",
    "            #TO DO : ADD LASER ON AND BATTERY CONNECTED\n",
    "            #we check that only one variable is changed,that the outcome values are different and that they are not null but floats\n",
    "            if not confounded and isinstance(outcome1, float) and isinstance(outcome2, float):\n",
    "                #find the variable being changed\n",
    "                for v,vals in values_of_2_points.iteritems():\n",
    "                    if len(vals) > 1:\n",
    "                        new_var_changed = v\n",
    "                if new_var_changed == None:\n",
    "                    pass\n",
    "                #update the number of changes for that variable\n",
    "                if variable_changed == None or new_var_changed == variable_changed:\n",
    "                    number_of_changes += 1\n",
    "                else:\n",
    "                    number_of_changes = 2\n",
    "                variable_changed = new_var_changed\n",
    "                if variable_changed in cvs_variable.keys(): #ignore cvs on detector, lightbulba nd connection\n",
    "                    cvs_variable[variable_changed] = max(number_of_changes,cvs_variable[variable_changed])\n",
    "            else:\n",
    "                number_of_changes = 1\n",
    "                variable_changed = None\n",
    "        prev_point = curr_point.copy()\n",
    "    return cvs_variable\n",
    "            \n",
    "            \n",
    "            \n",
    "def get_cvs_per_variable_in_table(df):\n",
    "    tables = set(df['Table'])\n",
    "    cvs_final = {\"Battery voltage\":0,\n",
    "                        \"Area\":0,\n",
    "                        \"Separation\":0,\n",
    "                        \"Width\":0,\n",
    "                        \"Wavelength\":0,\n",
    "                        \"Concentration\":0}\n",
    "    for i,t in enumerate(tables):\n",
    "        table = read_table(t) #converts json string to dictionary\n",
    "        #since many of their tables have CVS, we want to largest sample size for a variable used in CVS\n",
    "        cvs_final = {k:max(v,detect_cvs_quant_in_table(table)[k]) for k,v in cvs_final.iteritems()}\n",
    "    return cvs_final"
   ]
  },
  {
   "cell_type": "markdown",
   "metadata": {},
   "source": [
    "### Test CVS detector for different scenarios"
   ]
  },
  {
   "cell_type": "code",
   "execution_count": 38,
   "metadata": {
    "collapsed": false
   },
   "outputs": [
    {
     "name": "stdout",
     "output_type": "stream",
     "text": [
      "True\n",
      "True\n",
      "True\n",
      "True\n"
     ]
    }
   ],
   "source": [
    "in_1_on = '''{\"1\": {\"Ruler location\": {\"y\": 3.62, \"x\": 3.28}, \"Detector location\": {\"y\": 2.0, \"x\": 6.67}, \"visible\": false, \"Width\": 1.3, \"trialNumber\": 1, \"Absorbance\": 0.04, \"Wavelength\": 582, \"Concentration\": 200.0, \"Laser toggle\": 1}, \t    \"2\": {\"Ruler location\": {\"y\": 3.62, \"x\": 3.28}, \"Detector location\": {\"y\": 2.0, \"x\": 6.67}, \"visible\": false, \"Width\": 1.3, \"trialNumber\": 2, \"Absorbance\": 0.02, \"Wavelength\": 582, \"Concentration\": 100.0, \"Laser toggle\": 1}}'''\n",
    "out_1_on = {'Battery voltage': 0, 'Area': 0, 'Width': 0, 'Separation': 0, 'Wavelength': 0, 'Concentration': 2}\n",
    "print out_1_on == detect_cvs_quant_in_table(read_table(in_1_on))\n",
    "\n",
    "in_1_off = '''{\"1\": {\"Ruler location\": {\"y\": 3.62, \"x\": 3.28}, \"Detector location\": {\"y\": 2.0, \"x\": 6.67}, \"visible\": false, \"Width\": 1.3, \"trialNumber\": 1, \"Absorbance\": 0.04, \"Wavelength\": 582, \"Concentration\": 200.0, \"Laser toggle\": 0}, \t    \"2\": {\"Ruler location\": {\"y\": 3.62, \"x\": 3.28}, \"Detector location\": {\"y\": 2.0, \"x\": 6.67}, \"visible\": false, \"Width\": 1.3, \"trialNumber\": 2, \"Absorbance\": 0.02, \"Wavelength\": 582, \"Concentration\": 100.0, \"Laser toggle\": 0}}'''\n",
    "out_1_off = {'Battery voltage': 0, 'Area': 0, 'Width': 0, 'Separation': 0, 'Wavelength': 0, 'Concentration': 2}\n",
    "print out_1_off == detect_cvs_quant_in_table(read_table(in_1_off))\n",
    "\n",
    "in_2_on = '''{\"1\": {\"Ruler location\": {\"y\": 3.62, \"x\": 3.28}, \"Detector location\": {\"y\": 2.0, \"x\": 6.67}, \"visible\": false, \"Width\": 1.3, \"trialNumber\": 1, \"Absorbance\": 0.04, \"Wavelength\": 582, \"Concentration\": 200.0, \"Laser toggle\": 1}, \t    \"2\": {\"Ruler location\": {\"y\": 3.62, \"x\": 3.28}, \"Detector location\": {\"y\": 2.0, \"x\": 6.67}, \"visible\": false, \"Width\": 1.3, \"trialNumber\": 2, \"Absorbance\": 0.02, \"Wavelength\": 582, \"Concentration\": 100.0, \"Laser toggle\": 1},\n",
    "    \"3\": {\"Ruler location\": {\"y\": 3.62, \"x\": 3.28}, \"Detector location\": {\"y\": 2.0, \"x\": 6.67}, \"visible\": false, \"Width\": 1, \"trialNumber\": 3, \"Absorbance\": 0.04, \"Wavelength\": 582, \"Concentration\": 200.0, \"Laser toggle\": 1},\n",
    "    \"4\": {\"Ruler location\": {\"y\": 3.62, \"x\": 3.28}, \"Detector location\": {\"y\": 2.0, \"x\": 6.67}, \"visible\": false, \"Width\": 2, \"trialNumber\": 4, \"Absorbance\": 0.02, \"Wavelength\": 582, \"Concentration\": 200.0, \"Laser toggle\": 1}}'''\n",
    "out_2_on = {'Battery voltage': 0, 'Area': 0, 'Width': 2, 'Separation': 0, 'Wavelength': 0, 'Concentration': 2}\n",
    "print out_2_on == detect_cvs_quant_in_table(read_table(in_2_on))\n",
    "\n",
    "in_1_on_off = '''{\"1\": {\"Ruler location\": {\"y\": 3.62, \"x\": 3.28}, \"Detector location\": {\"y\": 2.0, \"x\": 6.67}, \"visible\": false, \"Width\": 1.3, \"trialNumber\": 1, \"Absorbance\": 0.04, \"Wavelength\": 582, \"Concentration\": 200.0, \"Laser toggle\": 0}, \t    \"2\": {\"Ruler location\": {\"y\": 3.62, \"x\": 3.28}, \"Detector location\": {\"y\": 2.0, \"x\": 6.67}, \"visible\": false, \"Width\": 1.3, \"trialNumber\": 2, \"Absorbance\": 0.02, \"Wavelength\": 582, \"Concentration\": 100.0, \"Laser toggle\": 1}}'''\n",
    "out_1_on_off = {'Battery voltage': 0, 'Area': 0, 'Width': 0, 'Separation': 0, 'Wavelength': 0, 'Concentration': 0}\n",
    "print out_1_on_off == detect_cvs_quant_in_table(read_table(in_1_on_off))"
   ]
  },
  {
   "cell_type": "code",
   "execution_count": 27,
   "metadata": {
    "collapsed": false
   },
   "outputs": [
    {
     "name": "stdout",
     "output_type": "stream",
     "text": [
      "22340167\n",
      "{'Battery voltage': 0, 'Area': 0, 'Width': 23, 'Separation': 0, 'Wavelength': 11, 'Concentration': 20}\n",
      "Width 23\n",
      "Wavelength 11\n",
      "Concentration 20\n",
      "{'Battery voltage': 11, 'Area': 4, 'Width': 0, 'Separation': 7, 'Wavelength': 0, 'Concentration': 0}\n",
      "Battery voltage 11\n",
      "Area 4\n",
      "Separation 7\n"
     ]
    }
   ],
   "source": [
    "from utils_read_parsing import *\n",
    "for studentid in [\"22340167\"]:\n",
    "    print studentid\n",
    "    for sim in ['beers','capacitor']:\n",
    "        parsed_file = find_student_log_file(sim,studentid)\n",
    "        df = prep_parsing_data(parsed_file)\n",
    "        cvs = get_cvs_per_variable_in_table(df)\n",
    "        print cvs\n",
    "        for var, n_samples in cvs.iteritems():\n",
    "            if n_samples >0:\n",
    "                print var, n_samples\n",
    "    #     plot(df,to_plot_caps,family_name_to_code,function_to_use,colors)\n"
   ]
  },
  {
   "cell_type": "markdown",
   "metadata": {},
   "source": [
    "### In graph\n",
    "First we extract all of their tables at all time points, keep only points in the tables that are visible in the graph, analyze them for CVS and find the maximum number of values of a variable that was part of a control variable strategy instance.\n",
    "For now, use of this skill relies on the following rules (evaluated per variable):\n",
    "* more than records where only the variable was changed are in the graph\n",
    "* battery connected (caps)\n",
    "* laser is on (beers)\n"
   ]
  },
  {
   "cell_type": "code",
   "execution_count": 4,
   "metadata": {
    "collapsed": true
   },
   "outputs": [],
   "source": [
    "def detect_cvs_quant_in_graph(points):\n",
    "    cvs_variable = {\"Battery voltage\":0,\n",
    "                        \"Area\":0,\n",
    "                        \"Separation\":0,\n",
    "                        \"Width\":0,\n",
    "                        \"Wavelength\":0,\n",
    "                        \"Concentration\":0}\n",
    "\n",
    "    values = get_values_per_variable(points)\n",
    "    confounded = pts_are_confounded(values)\n",
    "    #TO DO : ADD LASER ON AND BATTERY CONNECTED\n",
    "    if not confounded:\n",
    "        #find the variable being changed\n",
    "        for v,vals in values.iteritems():\n",
    "            if len(vals) > 1:\n",
    "                cvs_variable[v] = len(vals)\n",
    "    return cvs_variable\n",
    "            \n",
    "            \n",
    "            \n",
    "def get_cvs_per_variable_in_graph(df):\n",
    "    tables = set(df['Table'])\n",
    "    cvs_final = {\"Battery voltage\":0,\n",
    "                        \"Area\":0,\n",
    "                        \"Separation\":0,\n",
    "                        \"Width\":0,\n",
    "                        \"Wavelength\":0,\n",
    "                        \"Concentration\":0}\n",
    "    for i,t in enumerate(tables):\n",
    "        table = read_table(t) #converts json string to dictionary\n",
    "        pts = get_pts(table,in_graph=True) #grab all points\n",
    "#         print pts\n",
    "        cvs_final = {k:max(v,detect_cvs_quant_in_graph(pts)[k]) for k,v in cvs_final.iteritems()}\n",
    "#         print cvs_final\n",
    "#         print '\\n'\n",
    "    return cvs_final"
   ]
  },
  {
   "cell_type": "markdown",
   "metadata": {
    "collapsed": true
   },
   "source": [
    "## Let's run the detector on all students...\n",
    "Since we don't yet have a metadata file to pull the right log data per student (and ingore student id that were test runs or unusable student data) were going to run the detector on all student ids have exactl one log file for each sims (~150)."
   ]
  },
  {
   "cell_type": "code",
   "execution_count": 6,
   "metadata": {
    "collapsed": true
   },
   "outputs": [],
   "source": [
    "from utils_read_parsing import *\n",
    "def get_ids_with_exactly_one_of_each_logs():\n",
    "    df_beers = get_latest_parsing_report('beers')\n",
    "    df_caps = get_latest_parsing_report('capacitor')\n",
    "\n",
    "    ids_beers = list(df_beers['studentid'].apply(str))\n",
    "    ids_caps = list(df_caps['studentid'].apply(str))\n",
    "    all_ids = ids_beers + ids_caps\n",
    "\n",
    "    ids_by_count = {}\n",
    "    for i in set(all_ids):\n",
    "        count = all_ids.count(i)\n",
    "        if count not in ids_by_count.keys():\n",
    "            ids_by_count[count] = [i]\n",
    "        else:\n",
    "            ids_by_count[count].append(i)\n",
    "\n",
    "    beers_only, caps_only, both_sims = [],[],[]\n",
    "    for i in ids_by_count[2]:\n",
    "        if i in ids_beers and i in ids_caps: both_sims.append(i)\n",
    "    print \"There are {0} ids with exactly one log for each sim\".format(len(both_sims))\n",
    "    return both_sims"
   ]
  },
  {
   "cell_type": "code",
   "execution_count": 7,
   "metadata": {
    "collapsed": false
   },
   "outputs": [
    {
     "name": "stdout",
     "output_type": "stream",
     "text": [
      "Captured beers parsing report that was parsed on 2017-11-24_14.45.34\n",
      "Captured capacitor parsing report that was parsed on 2017-11-08_14.55.27\n",
      "There are 151 ids with exactly one log for each sim\n"
     ]
    }
   ],
   "source": [
    "ids = get_ids_with_exactly_one_of_each_logs()"
   ]
  },
  {
   "cell_type": "code",
   "execution_count": 8,
   "metadata": {
    "collapsed": false
   },
   "outputs": [
    {
     "name": "stdout",
     "output_type": "stream",
     "text": [
      "14055131 beers\n"
     ]
    },
    {
     "name": "stderr",
     "output_type": "stream",
     "text": [
      "C:\\Users\\sperez8\\AppData\\Local\\Continuum\\Anaconda2\\lib\\site-packages\\pandas\\core\\indexing.py:465: SettingWithCopyWarning: \n",
      "A value is trying to be set on a copy of a slice from a DataFrame.\n",
      "Try using .loc[row_indexer,col_indexer] = value instead\n",
      "\n",
      "See the caveats in the documentation: http://pandas.pydata.org/pandas-docs/stable/indexing.html#indexing-view-versus-copy\n",
      "  self.obj[item] = s\n"
     ]
    },
    {
     "name": "stdout",
     "output_type": "stream",
     "text": [
      "14055131 capacitor\n",
      "15554169 beers\n",
      "15554169 capacitor\n",
      "14302168 beers\n",
      "14302168 capacitor\n",
      "19089138 beers\n",
      "19089138 capacitor\n",
      "13310139 beers\n",
      "The parsed file has no user events, only model events. No dataframe prepared.\n",
      "13310139 capacitor\n",
      "15055169 beers\n",
      "15055169 capacitor\n",
      "15188167 beers\n",
      "15188167 capacitor\n",
      "41947147 beers\n",
      "41947147 capacitor\n",
      "19344143 beers\n",
      "19344143 capacitor\n",
      "61406163 beers\n",
      "61406163 capacitor\n",
      "12907149 beers\n",
      "12907149 capacitor\n",
      "18527162 beers\n",
      "18527162 capacitor\n",
      "18922151 beers\n",
      "18922151 capacitor\n",
      "11777163 beers\n",
      "11777163 capacitor\n",
      "19416160 beers\n",
      "19416160 capacitor\n",
      "19933165 beers\n",
      "19933165 capacitor\n",
      "13945160 beers\n",
      "13945160 capacitor\n",
      "15160164 beers\n",
      "15160164 capacitor\n",
      "14261165 beers\n",
      "14261165 capacitor\n",
      "19618321 beers\n",
      "19618321 capacitor\n",
      "10708152 beers\n",
      "10708152 capacitor\n",
      "11095146 beers\n",
      "11095146 capacitor\n",
      "17112137 beers\n",
      "17112137 capacitor\n",
      "60000168 beers\n",
      "60000168 capacitor\n",
      "17655165 beers\n",
      "17655165 capacitor\n",
      "19562150 beers\n",
      "19562150 capacitor\n",
      "12406161 beers\n",
      "12406161 capacitor\n",
      "19018165 beers\n",
      "19018165 capacitor\n",
      "19436162 beers\n",
      "19436162 capacitor\n",
      "12329163 beers\n",
      "12329163 capacitor\n",
      "11997159 beers\n",
      "11997159 capacitor\n",
      "10908162 beers\n",
      "10908162 capacitor\n",
      "17597160 beers\n",
      "17597160 capacitor\n",
      "16328144 beers\n",
      "16328144 capacitor\n",
      "17701169 beers\n",
      "17701169 capacitor\n",
      "52193156 beers\n",
      "52193156 capacitor\n",
      "FAILED\n",
      "77047160 beers\n",
      "77047160 capacitor\n",
      "55825144 beers\n",
      "55825144 capacitor\n",
      "16657165 beers\n",
      "16657165 capacitor\n",
      "17931169 beers\n",
      "17931169 capacitor\n",
      "17036164 beers\n",
      "17036164 capacitor\n",
      "12665164 beers\n",
      "12665164 capacitor\n",
      "17114169 beers\n",
      "17114169 capacitor\n",
      "16606167 beers\n",
      "16606167 capacitor\n",
      "89047164 beers\n",
      "89047164 capacitor\n",
      "19862157 beers\n",
      "19862157 capacitor\n",
      "13193166 beers\n",
      "13193166 capacitor\n",
      "17107166 beers\n",
      "17107166 capacitor\n",
      "15026512 beers\n",
      "15026512 capacitor\n",
      "78992166 beers\n",
      "78992166 capacitor\n",
      "11200165 beers\n",
      "11200165 capacitor\n",
      "14565169 beers\n",
      "14565169 capacitor\n",
      "18162165 beers\n",
      "18162165 capacitor\n",
      "16901162 beers\n",
      "16901162 capacitor\n",
      "14201151 beers\n",
      "14201151 capacitor\n",
      "17083161 beers\n",
      "17083161 capacitor\n",
      "10105157 beers\n",
      "10105157 capacitor\n",
      "19913165 beers\n",
      "19913165 capacitor\n",
      "19053161 beers\n",
      "19053161 capacitor\n",
      "12302161 beers\n",
      "12302161 capacitor\n",
      "14828163 beers\n",
      "14828163 capacitor\n",
      "16237162 beers\n",
      "16237162 capacitor\n",
      "13122150 beers\n",
      "13122150 capacitor\n",
      "18247165 beers\n",
      "18247165 capacitor\n",
      "19196162 beers\n",
      "19196162 capacitor\n",
      "90447168 beers\n",
      "90447168 capacitor\n",
      "19553138 beers\n",
      "19553138 capacitor\n",
      "12238164 beers\n",
      "12238164 capacitor\n",
      "27630167 beers\n",
      "27630167 capacitor\n",
      "18591168 beers\n",
      "18591168 capacitor\n",
      "18866165 beers\n",
      "18866165 capacitor\n",
      "12818156 beers\n",
      "12818156 capacitor\n",
      "17448165 beers\n",
      "17448165 capacitor\n",
      "13870641 beers\n",
      "13870641 capacitor\n",
      "13654167 beers\n",
      "13654167 capacitor\n",
      "10192168 beers\n",
      "10192168 capacitor\n",
      "11384795 beers\n",
      "11384795 capacitor\n",
      "51717164 beers\n",
      "51717164 capacitor\n",
      "13407169 beers\n",
      "13407169 capacitor\n",
      "10561164 beers\n",
      "10561164 capacitor\n",
      "17007153 beers\n",
      "17007153 capacitor\n",
      "26984162 beers\n",
      "26984162 capacitor\n",
      "19023153 beers\n",
      "19023153 capacitor\n",
      "86699164 beers\n",
      "86699164 capacitor\n",
      "17691169 beers\n",
      "17691169 capacitor\n",
      "12263156 beers\n",
      "12263156 capacitor\n",
      "53262971 beers\n",
      "53262971 capacitor\n",
      "23836160 beers\n",
      "23836160 capacitor\n",
      "10375163 beers\n",
      "10375163 capacitor\n",
      "83459165 beers\n",
      "83459165 capacitor\n",
      "13228164 beers\n",
      "13228164 capacitor\n",
      "16618163 beers\n",
      "16618163 capacitor\n",
      "12288167 beers\n",
      "12288167 capacitor\n",
      "13981167 beers\n",
      "13981167 capacitor\n",
      "14088168 beers\n",
      "14088168 capacitor\n",
      "15457134 beers\n",
      "15457134 capacitor\n",
      "10232160 beers\n",
      "10232160 capacitor\n",
      "11612162 beers\n",
      "11612162 capacitor\n",
      "19780165 beers\n",
      "19780165 capacitor\n",
      "19470169 beers\n",
      "19470169 capacitor\n",
      "15884161 beers\n",
      "15884161 capacitor\n",
      "17502161 beers\n",
      "17502161 capacitor\n",
      "14293162 beers\n",
      "14293162 capacitor\n",
      "83145167 beers\n",
      "83145167 capacitor\n",
      "17071167 beers\n",
      "17071167 capacitor\n",
      "27451164 beers\n",
      "27451164 capacitor\n",
      "11691167 beers\n",
      "The parsed file has no user events, only model events. No dataframe prepared.\n",
      "11691167 capacitor\n",
      "10127163 beers\n",
      "10127163 capacitor\n",
      "64006159 beers\n",
      "64006159 capacitor\n",
      "15072160 beers\n",
      "15072160 capacitor\n",
      "59043165 beers\n",
      "59043165 capacitor\n",
      "85915167 beers\n",
      "85915167 capacitor\n",
      "10537160 beers\n",
      "10537160 capacitor\n",
      "11394167 beers\n",
      "11394167 capacitor\n",
      "13660166 beers\n",
      "13660166 capacitor\n",
      "17576140 beers\n",
      "17576140 capacitor\n",
      "13624169 beers\n",
      "13624169 capacitor\n",
      "24511163 beers\n",
      "24511163 capacitor\n",
      "14002169 beers\n",
      "14002169 capacitor\n",
      "16752165 beers\n",
      "16752165 capacitor\n",
      "17347163 beers\n",
      "17347163 capacitor\n",
      "15482152 beers\n",
      "15482152 capacitor\n",
      "17729162 beers\n",
      "17729162 capacitor\n",
      "15496161 beers\n",
      "15496161 capacitor\n",
      "22340167 beers\n",
      "FAILED\n",
      "22340167 capacitor\n",
      "12707161 beers\n",
      "12707161 capacitor\n",
      "15298166 beers\n",
      "15298166 capacitor\n",
      "13726167 beers\n",
      "13726167 capacitor\n",
      "46792161 beers\n",
      "46792161 capacitor\n",
      "82788161 beers\n",
      "82788161 capacitor\n",
      "17018157 beers\n",
      "17018157 capacitor\n",
      "19989152 beers\n",
      "19989152 capacitor\n",
      "17868168 beers\n",
      "17868168 capacitor\n",
      "14805169 beers\n",
      "14805169 capacitor\n",
      "16136159 beers\n",
      "16136159 capacitor\n",
      "18174154 beers\n",
      "18174154 capacitor\n",
      "19566168 beers\n",
      "19566168 capacitor\n",
      "15444164 beers\n",
      "15444164 capacitor\n",
      "12017165 beers\n",
      "12017165 capacitor\n",
      "15677161 beers\n",
      "15677161 capacitor\n",
      "10420167 beers\n",
      "10420167 capacitor\n",
      "11929166 beers\n",
      "11929166 capacitor\n",
      "13134165 beers\n",
      "13134165 capacitor\n",
      "11326321 beers\n",
      "11326321 capacitor\n",
      "11892169 beers\n",
      "11892169 capacitor\n",
      "13140165 beers\n",
      "13140165 capacitor\n",
      "15317162 beers\n",
      "15317162 capacitor\n",
      "24566161 beers\n",
      "24566161 capacitor\n",
      "10970160 beers\n",
      "10970160 capacitor\n",
      "19608154 beers\n",
      "19608154 capacitor\n",
      "16961152 beers\n",
      "16961152 capacitor\n"
     ]
    }
   ],
   "source": [
    "table_cvs_df = pd.DataFrame({'student id':ids, 'Battery voltage':0, 'Area':0, 'Separation':0,'Wavelength':0,'Width':0, 'Concentration':0})\n",
    "table_cvs_df =  table_cvs_df.set_index('student id')\n",
    "\n",
    "for i,studentid in enumerate(ids):\n",
    "    for sim in ['beers','capacitor']:\n",
    "        print studentid,sim\n",
    "        parsed_file = find_student_log_file(sim,studentid)\n",
    "        df = prep_parsing_data(parsed_file)\n",
    "        if not df.empty:\n",
    "            try:\n",
    "                cvs = get_cvs_per_variable_in_table(df)\n",
    "                for var, n_samples in cvs.iteritems():\n",
    "                    if n_samples >0:\n",
    "                        table_cvs_df.loc[studentid][var] = n_samples\n",
    "            except:\n",
    "                print \"FAILED\"\n",
    "                pass"
   ]
  },
  {
   "cell_type": "code",
   "execution_count": null,
   "metadata": {
    "collapsed": true
   },
   "outputs": [],
   "source": [
    "table_cvs_df.head()"
   ]
  },
  {
   "cell_type": "code",
   "execution_count": null,
   "metadata": {
    "collapsed": true
   },
   "outputs": [],
   "source": [
    "plt = table_cvs_df[['Wavelength','Width','Concentration']].plot.hist(alpha=0.7,bins=range(30),normed =True,ylim=(0,0.8))"
   ]
  },
  {
   "cell_type": "code",
   "execution_count": null,
   "metadata": {
    "collapsed": true
   },
   "outputs": [],
   "source": [
    "plt = table_cvs_df[['Battery voltage','Area','Separation']].plot.hist(alpha=0.7,bins=range(30),normed =True,ylim=(0,1))"
   ]
  },
  {
   "cell_type": "code",
   "execution_count": null,
   "metadata": {
    "collapsed": true
   },
   "outputs": [],
   "source": [
    "graph_cvs_df = pd.DataFrame({'student id':ids, 'Battery voltage':0, 'Area':0, 'Separation':0,'Wavelength':0,'Width':0, 'Concentration':0})\n",
    "graph_cvs_df =  graph_cvs_df.set_index('student id')\n",
    "\n",
    "for i,studentid in enumerate(ids):\n",
    "    for sim in ['beers','capacitor']:\n",
    "        parsed_file = find_student_log_file(sim,studentid)\n",
    "        df = prep_parsing_data(parsed_file)\n",
    "        if not df.empty:\n",
    "            try:\n",
    "                cvs = get_cvs_per_variable_in_graph(df)\n",
    "                for var, n_samples in cvs.iteritems():\n",
    "                    if n_samples >0:\n",
    "                        graph_cvs_df.loc[studentid][var] = n_samples\n",
    "            except:\n",
    "                pass"
   ]
  },
  {
   "cell_type": "code",
   "execution_count": null,
   "metadata": {
    "collapsed": true
   },
   "outputs": [],
   "source": [
    "graph_cvs_df.head()"
   ]
  },
  {
   "cell_type": "code",
   "execution_count": null,
   "metadata": {
    "collapsed": true
   },
   "outputs": [],
   "source": [
    "plt = graph_cvs_df[['Wavelength','Width','Concentration']].plot.hist(alpha=0.7,bins=range(30),normed =True,ylim=(0,0.8))"
   ]
  },
  {
   "cell_type": "code",
   "execution_count": null,
   "metadata": {
    "collapsed": true
   },
   "outputs": [],
   "source": [
    "plt = graph_cvs_df[['Battery voltage','Area','Separation']].plot.hist(alpha=0.7,bins=range(30),normed =True,ylim=(0,1))"
   ]
  },
  {
   "cell_type": "code",
   "execution_count": null,
   "metadata": {
    "collapsed": true
   },
   "outputs": [],
   "source": [
    "graph_cvs_df.head()"
   ]
  },
  {
   "cell_type": "code",
   "execution_count": null,
   "metadata": {
    "collapsed": true
   },
   "outputs": [],
   "source": [
    "def binarize(number):\n",
    "    if number >0:\n",
    "        return 1\n",
    "    else:\n",
    "        return 0\n",
    "\n",
    "graph_cvs_df2 = graph_cvs_df\n",
    "for c in graph_cvs_df.columns:\n",
    "    graph_cvs_df2[c] = graph_cvs_df.apply(lambda row: binarize(row[c]), axis=1)\n",
    "    \n",
    "table_cvs_df2 = table_cvs_df\n",
    "for c in table_cvs_df.columns:\n",
    "    table_cvs_df2[c] = table_cvs_df.apply(lambda row: binarize(row[c]), axis=1)"
   ]
  },
  {
   "cell_type": "code",
   "execution_count": null,
   "metadata": {
    "collapsed": true
   },
   "outputs": [],
   "source": [
    "graph_cvs_df2['sum'] = graph_cvs_df2.sum(axis=1)\n",
    "table_cvs_df2['sum'] = table_cvs_df2.sum(axis=1)"
   ]
  },
  {
   "cell_type": "code",
   "execution_count": null,
   "metadata": {
    "collapsed": true
   },
   "outputs": [],
   "source": [
    "graph_cvs_df2.head()"
   ]
  },
  {
   "cell_type": "code",
   "execution_count": null,
   "metadata": {
    "collapsed": true
   },
   "outputs": [],
   "source": []
  }
 ],
 "metadata": {
  "anaconda-cloud": {},
  "kernelspec": {
   "display_name": "Python [Root]",
   "language": "python",
   "name": "Python [Root]"
  },
  "language_info": {
   "codemirror_mode": {
    "name": "ipython",
    "version": 2
   },
   "file_extension": ".py",
   "mimetype": "text/x-python",
   "name": "python",
   "nbconvert_exporter": "python",
   "pygments_lexer": "ipython2",
   "version": "2.7.12"
  }
 },
 "nbformat": 4,
 "nbformat_minor": 1
}
