{
 "cells": [
  {
   "cell_type": "markdown",
   "metadata": {},
   "source": [
    "# About skills_detector.ipynb\n",
    "\n",
    "This notebook detects skills in log files suchs as CVS.\n",
    "This is a work in progress :)"
   ]
  },
  {
   "cell_type": "code",
   "execution_count": null,
   "metadata": {},
   "outputs": [],
   "source": [
    "%load_ext autoreload\n",
    "%autoreload 1\n",
    "%aimport utils_timeline_viz\n",
    "from utils_timeline_viz import *\n",
    "%matplotlib inline\n",
    "matplotlib.style.use('ggplot')\n",
    "matplotlib.rcParams['figure.figsize'] = 25, 15\n",
    "from matplotlib.backends.backend_pdf import PdfPages"
   ]
  },
  {
   "cell_type": "markdown",
   "metadata": {},
   "source": [
    "## Let's detect use of different skills in 2 students\n",
    "We are going to load the activity of 2 students: one who clearly uses a quantitative version of CVS in Beers sim and one who does not do CVS in Caps sim. We analyze their tables to detect use of CVS.\n",
    "### First we load their log data"
   ]
  },
  {
   "cell_type": "code",
   "execution_count": null,
   "metadata": {},
   "outputs": [],
   "source": [
    "# %aimport utils_timeline_viz\n",
    "# studentid = '17931169'\n",
    "# #main, cdw = 231\n",
    "# parsed_file = find_student_log_file(\"capacitor\",studentid)#,date='2017-03-21_17.28.42')\n",
    "# df1 = prep_parsing_data(parsed_file)\n",
    "# plot(df1,to_plot_caps,family_name_to_code,function_to_use,colors)"
   ]
  },
  {
   "cell_type": "code",
   "execution_count": null,
   "metadata": {},
   "outputs": [],
   "source": [
    "# studentid = '16317166'\n",
    "# #main, cdw = 231\n",
    "# parsed_file = find_student_log_file(\"beers\",studentid,date='2017-03-21_17.28.42')\n",
    "# df2 = prep_parsing_data(parsed_file)\n",
    "# plot(df2,to_plot_beers,family_name_to_code,function_to_use,colors)"
   ]
  },
  {
   "cell_type": "markdown",
   "metadata": {
    "collapsed": true
   },
   "source": [
    "## Quantitative CVS\n",
    "### In table\n",
    "First we extract all of their tables at all time points, analyze them for CVS and find the maximum number of values of a variable that was part of a control variable strategy instance.\n",
    "For now, use of this skill relies on the following production rules (evaluated per variable):\n",
    "* more than 2 successive records were done where only the variable was changed\n",
    "* the outcome variable was different for both data points\n"
   ]
  },
  {
   "cell_type": "code",
   "execution_count": null,
   "metadata": {},
   "outputs": [],
   "source": [
    "def get_outcome_values(pts):\n",
    "    outcomes = []\n",
    "    for pt in pts:\n",
    "        if \"Charge\" in pt.keys():\n",
    "            outcomes.append(pt[\"Charge\"])\n",
    "        elif \"Absorbance\" in pt.keys():\n",
    "            outcomes.append(pt[\"Absorbance\"])\n",
    "    return outcomes\n",
    "\n",
    "def detect_cvs_quant_in_table(table):\n",
    "    cvs_variable = {\"Battery voltage\":0,\n",
    "                        \"Area\":0,\n",
    "                        \"Separation\":0,\n",
    "                        \"Width\":0,\n",
    "                        \"Wavelength\":0,\n",
    "                        \"Concentration\":0}\n",
    "\n",
    "    variable_changed = None\n",
    "    new_var_changed = None\n",
    "    number_of_changes = 1\n",
    "    prev_point = None\n",
    "    #data points in order of trial number, which is synonomous with \n",
    "    #order of capture since when you move data points around in the table,\n",
    "    #they keep the same trial number\n",
    "    for datapoint in sorted(table.iterkeys()): \n",
    "        curr_point = table[datapoint]\n",
    "        if prev_point:\n",
    "            values_of_2_points = get_values_per_variable([prev_point,curr_point])\n",
    "            confounded = pts_are_confounded(values_of_2_points)\n",
    "            outcomes = get_outcome_values([prev_point,curr_point])\n",
    "#             print outcomes\n",
    "            outcome1,outcome2 = outcomes[0],outcomes[1]\n",
    "            #we check that only one variable is changed,\n",
    "            #that the outcome values are different and that they are not null but floats\n",
    "            if not confounded and outcome1!= outcome2 and isinstance(outcome1, float) and isinstance(outcome2, float):\n",
    "                #find the variable being changed\n",
    "                for v,vals in values_of_2_points.iteritems():\n",
    "                    if len(vals) > 1:\n",
    "                        new_var_changed = v\n",
    "                if new_var_changed == None:\n",
    "                    pass\n",
    "#                     print values_of_2_points\n",
    "                #update the number of changes for that variable\n",
    "                if variable_changed == None or new_var_changed == variable_changed:\n",
    "                    number_of_changes += 1\n",
    "                else:\n",
    "                    number_of_changes = 2\n",
    "                variable_changed = new_var_changed\n",
    "                if variable_changed in cvs_variable.keys(): #ignore cvs on detector, lightbulba nd connection\n",
    "                    cvs_variable[variable_changed] = max(number_of_changes,cvs_variable[variable_changed])\n",
    "            else:\n",
    "                number_of_changes = 1\n",
    "                variable_changed = None\n",
    "        prev_point = curr_point.copy()\n",
    "    return cvs_variable\n",
    "            \n",
    "            \n",
    "            \n",
    "def get_cvs_per_variable_in_table(df):\n",
    "    tables = set(df['Table'])\n",
    "    cvs_final = {\"Battery voltage\":0,\n",
    "                        \"Area\":0,\n",
    "                        \"Separation\":0,\n",
    "                        \"Width\":0,\n",
    "                        \"Wavelength\":0,\n",
    "                        \"Concentration\":0}\n",
    "    for i,t in enumerate(tables):\n",
    "        table = read_table(t) #converts json string to dictionary\n",
    "        print \"\\n\\n TABLE\", table\n",
    "        cvs_final = {k:max(v,detect_cvs_quant_in_table(table)[k]) for k,v in cvs_final.iteritems()}\n",
    "    return cvs_final"
   ]
  },
  {
   "cell_type": "code",
   "execution_count": null,
   "metadata": {},
   "outputs": [],
   "source": [
    "for studentid in [\"18922151\"]:\n",
    "    print studentid\n",
    "    parsed_file = find_student_log_file(\"beers\",studentid)\n",
    "    df = prep_parsing_data(parsed_file)\n",
    "    cvs = get_cvs_per_variable_in_table(df)\n",
    "    print cvs"
   ]
  },
  {
   "cell_type": "code",
   "execution_count": null,
   "metadata": {
    "collapsed": true
   },
   "outputs": [],
   "source": []
  },
  {
   "cell_type": "code",
   "execution_count": null,
   "metadata": {},
   "outputs": [],
   "source": [
    "print get_cvs_per_variable_in_table(df1)\n",
    "print get_cvs_per_variable_in_table(df2)"
   ]
  },
  {
   "cell_type": "code",
   "execution_count": null,
   "metadata": {
    "collapsed": true
   },
   "outputs": [],
   "source": [
    "def detect_cvs_quant_in_graph(points):\n",
    "    cvs_variable = {\"Battery voltage\":0,\n",
    "                        \"Area\":0,\n",
    "                        \"Separation\":0,\n",
    "                        \"Width\":0,\n",
    "                        \"Wavelength\":0,\n",
    "                        \"Concentration\":0}\n",
    "\n",
    "    values = get_values_per_variable(points)\n",
    "    confounded = pts_are_confounded(values)\n",
    "    if not confounded:\n",
    "        #find the variable being changed\n",
    "        for v,vals in values.iteritems():\n",
    "            if len(vals) > 1:\n",
    "                cvs_variable[v] = len(vals)\n",
    "    return cvs_variable\n",
    "            \n",
    "            \n",
    "            \n",
    "def get_cvs_per_variable_in_graph(df):\n",
    "    tables = set(df['Table'])\n",
    "    cvs_final = {\"Battery voltage\":0,\n",
    "                        \"Area\":0,\n",
    "                        \"Separation\":0,\n",
    "                        \"Width\":0,\n",
    "                        \"Wavelength\":0,\n",
    "                        \"Concentration\":0}\n",
    "    for i,t in enumerate(tables):\n",
    "        table = read_table(t) #converts json string to dictionary\n",
    "        pts = get_pts(table,in_graph=True) #grab all points\n",
    "#         print pts\n",
    "        cvs_final = {k:max(v,detect_cvs_quant_in_graph(pts)[k]) for k,v in cvs_final.iteritems()}\n",
    "#         print cvs_final\n",
    "#         print '\\n'\n",
    "    return cvs_final"
   ]
  },
  {
   "cell_type": "code",
   "execution_count": null,
   "metadata": {},
   "outputs": [],
   "source": [
    "print get_cvs_per_variable_in_graph(df1)\n",
    "print get_cvs_per_variable_in_graph(df2)"
   ]
  },
  {
   "cell_type": "markdown",
   "metadata": {
    "collapsed": true
   },
   "source": [
    "## Let's run the detector on all students...\n",
    "Since we don't yet have a metadata file to pull the right log data per student (and ingore student id that were test runs or unusable student data) were going to run the detector on all student ids have exactl one log file for each sims (~150)."
   ]
  },
  {
   "cell_type": "code",
   "execution_count": null,
   "metadata": {
    "collapsed": true
   },
   "outputs": [],
   "source": [
    "from utils_read_parsing import *\n",
    "def get_ids_with_exactly_one_of_each_logs():\n",
    "    df_beers = get_latest_parsing_report('beers')\n",
    "    df_caps = get_latest_parsing_report('capacitor')\n",
    "\n",
    "    ids_beers = list(df_beers['studentid'].apply(str))\n",
    "    ids_caps = list(df_caps['studentid'].apply(str))\n",
    "    all_ids = ids_beers + ids_caps\n",
    "\n",
    "    ids_by_count = {}\n",
    "    for i in set(all_ids):\n",
    "        count = all_ids.count(i)\n",
    "        if count not in ids_by_count.keys():\n",
    "            ids_by_count[count] = [i]\n",
    "        else:\n",
    "            ids_by_count[count].append(i)\n",
    "\n",
    "    beers_only, caps_only, both_sims = [],[],[]\n",
    "    for i in ids_by_count[2]:\n",
    "        if i in ids_beers and i in ids_caps: both_sims.append(i)\n",
    "    print \"There are {0} ids with exactly one log for each sim\".format(len(both_sims))\n",
    "    return both_sims"
   ]
  },
  {
   "cell_type": "code",
   "execution_count": null,
   "metadata": {},
   "outputs": [],
   "source": [
    "ids = get_ids_with_exactly_one_of_each_logs()"
   ]
  },
  {
   "cell_type": "code",
   "execution_count": null,
   "metadata": {},
   "outputs": [],
   "source": [
    "table_cvs_df = pd.DataFrame({'student id':ids, 'Battery voltage':0, 'Area':0, 'Separation':0,'Wavelength':0,'Width':0, 'Concentration':0})\n",
    "table_cvs_df =  table_cvs_df.set_index('student id')\n",
    "\n",
    "for i,studentid in enumerate(ids):\n",
    "    for sim in ['beers','capacitor']:\n",
    "        print studentid,sim\n",
    "        parsed_file = find_student_log_file(sim,studentid)\n",
    "        df = prep_parsing_data(parsed_file)\n",
    "        if not df.empty:\n",
    "            try:\n",
    "                cvs = get_cvs_per_variable_in_table(df)\n",
    "                for var, n_samples in cvs.iteritems():\n",
    "                    if n_samples >0:\n",
    "                        table_cvs_df.loc[studentid][var] = n_samples\n",
    "            except:\n",
    "                print \"FAILED\"\n",
    "                pass"
   ]
  },
  {
   "cell_type": "code",
   "execution_count": null,
   "metadata": {},
   "outputs": [],
   "source": [
    "table_cvs_df.head()"
   ]
  },
  {
   "cell_type": "code",
   "execution_count": null,
   "metadata": {},
   "outputs": [],
   "source": [
    "plt = table_cvs_df[['Wavelength','Width','Concentration']].plot.hist(alpha=0.7,bins=range(30),normed =True,ylim=(0,0.8))"
   ]
  },
  {
   "cell_type": "code",
   "execution_count": null,
   "metadata": {},
   "outputs": [],
   "source": [
    "plt = table_cvs_df[['Battery voltage','Area','Separation']].plot.hist(alpha=0.7,bins=range(30),normed =True,ylim=(0,1))"
   ]
  },
  {
   "cell_type": "code",
   "execution_count": null,
   "metadata": {},
   "outputs": [],
   "source": [
    "graph_cvs_df = pd.DataFrame({'student id':ids, 'Battery voltage':0, 'Area':0, 'Separation':0,'Wavelength':0,'Width':0, 'Concentration':0})\n",
    "graph_cvs_df =  graph_cvs_df.set_index('student id')\n",
    "\n",
    "for i,studentid in enumerate(ids):\n",
    "    for sim in ['beers','capacitor']:\n",
    "        parsed_file = find_student_log_file(sim,studentid)\n",
    "        df = prep_parsing_data(parsed_file)\n",
    "        if not df.empty:\n",
    "            try:\n",
    "                cvs = get_cvs_per_variable_in_graph(df)\n",
    "                for var, n_samples in cvs.iteritems():\n",
    "                    if n_samples >0:\n",
    "                        graph_cvs_df.loc[studentid][var] = n_samples\n",
    "            except:\n",
    "                pass"
   ]
  },
  {
   "cell_type": "code",
   "execution_count": null,
   "metadata": {},
   "outputs": [],
   "source": [
    "graph_cvs_df.head()"
   ]
  },
  {
   "cell_type": "code",
   "execution_count": null,
   "metadata": {},
   "outputs": [],
   "source": [
    "plt = graph_cvs_df[['Wavelength','Width','Concentration']].plot.hist(alpha=0.7,bins=range(30),normed =True,ylim=(0,0.8))"
   ]
  },
  {
   "cell_type": "code",
   "execution_count": null,
   "metadata": {},
   "outputs": [],
   "source": [
    "plt = graph_cvs_df[['Battery voltage','Area','Separation']].plot.hist(alpha=0.7,bins=range(30),normed =True,ylim=(0,1))"
   ]
  },
  {
   "cell_type": "code",
   "execution_count": null,
   "metadata": {},
   "outputs": [],
   "source": [
    "graph_cvs_df.head()"
   ]
  },
  {
   "cell_type": "code",
   "execution_count": null,
   "metadata": {},
   "outputs": [],
   "source": [
    "def binarize(number):\n",
    "    if number >0:\n",
    "        return 1\n",
    "    else:\n",
    "        return 0\n",
    "\n",
    "graph_cvs_df2 = graph_cvs_df\n",
    "for c in graph_cvs_df.columns:\n",
    "    graph_cvs_df2[c] = graph_cvs_df.apply(lambda row: binarize(row[c]), axis=1)\n",
    "    \n",
    "table_cvs_df2 = table_cvs_df\n",
    "for c in table_cvs_df.columns:\n",
    "    table_cvs_df2[c] = table_cvs_df.apply(lambda row: binarize(row[c]), axis=1)"
   ]
  },
  {
   "cell_type": "code",
   "execution_count": null,
   "metadata": {},
   "outputs": [],
   "source": [
    "graph_cvs_df2['sum'] = graph_cvs_df2.sum(axis=1)\n",
    "table_cvs_df2['sum'] = table_cvs_df2.sum(axis=1)"
   ]
  },
  {
   "cell_type": "code",
   "execution_count": null,
   "metadata": {},
   "outputs": [],
   "source": [
    "graph_cvs_df2.head()"
   ]
  },
  {
   "cell_type": "code",
   "execution_count": null,
   "metadata": {
    "collapsed": true
   },
   "outputs": [],
   "source": []
  }
 ],
 "metadata": {
  "anaconda-cloud": {},
  "kernelspec": {
   "display_name": "Python 2",
   "language": "python",
   "name": "python2"
  },
  "language_info": {
   "codemirror_mode": {
    "name": "ipython",
    "version": 2
   },
   "file_extension": ".py",
   "mimetype": "text/x-python",
   "name": "python",
   "nbconvert_exporter": "python",
   "pygments_lexer": "ipython2",
   "version": "2.7.13"
  }
 },
 "nbformat": 4,
 "nbformat_minor": 1
}
